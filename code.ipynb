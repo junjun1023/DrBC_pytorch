{
 "cells": [
  {
   "cell_type": "markdown",
   "metadata": {
    "id": "HXDHW_mjXtMp"
   },
   "source": [
    "# Mount drive"
   ]
  },
  {
   "cell_type": "code",
   "execution_count": 1,
   "metadata": {
    "colab": {
     "base_uri": "https://localhost:8080/"
    },
    "executionInfo": {
     "elapsed": 20999,
     "status": "ok",
     "timestamp": 1615282633207,
     "user": {
      "displayName": "Q56094077陳香君",
      "photoUrl": "",
      "userId": "10727804849868825735"
     },
     "user_tz": -480
    },
    "id": "FvCyvU3wXU5i",
    "outputId": "1ebe457a-4d34-474b-ea70-4d9fd6765538"
   },
   "outputs": [
    {
     "name": "stdout",
     "output_type": "stream",
     "text": [
      "Mounted at /content/gdrive\n",
      " aimas2020\n",
      "'Automatic Generation of Topic Labels.gslides'\n",
      "'Colab Notebooks'\n",
      " cvdl2020\n",
      " iir_book.pdf\n",
      " ir_final\n",
      "'Medical AI'\n",
      "'Paper Slides'\n",
      " Q56094077\n",
      " res18_diabete_noaug.pth\n",
      "'Towards Better Text Understanding and Retrieval through Kernel Entity Saliency Modeling.gslides'\n",
      " tsai.ipynb\n",
      " 獎助學金\n",
      " 申請資料\n"
     ]
    }
   ],
   "source": [
    "from google.colab import drive\n",
    "drive.mount('/content/gdrive')\n",
    "\n",
    "!ls /content/gdrive/My\\ Drive"
   ]
  },
  {
   "cell_type": "code",
   "execution_count": null,
   "metadata": {
    "id": "n7xdJXLgX6xs"
   },
   "outputs": [],
   "source": [
    "# !unzip /content/gdrive/MyDrive/Q56094077/snrs/hw1_0319/hw1_data.zip -d /content/gdrive/MyDrive/Q56094077/snrs/hw1_0319"
   ]
  },
  {
   "cell_type": "markdown",
   "metadata": {
    "id": "PNPvyQC_ZsBz"
   },
   "source": [
    "# Import Library"
   ]
  },
  {
   "cell_type": "code",
   "execution_count": 1,
   "metadata": {
    "executionInfo": {
     "elapsed": 5086,
     "status": "ok",
     "timestamp": 1615282641207,
     "user": {
      "displayName": "Q56094077陳香君",
      "photoUrl": "",
      "userId": "10727804849868825735"
     },
     "user_tz": -480
    },
    "id": "R9e-OVDBZbU_"
   },
   "outputs": [],
   "source": [
    "import os\n",
    "\n",
    "import torch\n",
    "import torch.nn as nn\n",
    "\n",
    "import pandas as pd\n",
    "import numpy as np\n",
    "import json\n",
    "\n",
    "from tqdm import tqdm\n",
    "from datetime import datetime"
   ]
  },
  {
   "cell_type": "code",
   "execution_count": 2,
   "metadata": {
    "colab": {
     "base_uri": "https://localhost:8080/",
     "height": 414
    },
    "executionInfo": {
     "elapsed": 776,
     "status": "error",
     "timestamp": 1615283001909,
     "user": {
      "displayName": "Q56094077陳香君",
      "photoUrl": "",
      "userId": "10727804849868825735"
     },
     "user_tz": -480
    },
    "id": "jUN8f3VP4u9D",
    "outputId": "9e4523ef-8226-4980-c086-f15bf7f0a33a"
   },
   "outputs": [],
   "source": [
    "import torch_geometric\n",
    "from torch_geometric.data import Data, DataLoader\n",
    "import torch_geometric.utils as utils"
   ]
  },
  {
   "cell_type": "markdown",
   "metadata": {},
   "source": [
    "# Setting"
   ]
  },
  {
   "cell_type": "code",
   "execution_count": 3,
   "metadata": {},
   "outputs": [],
   "source": [
    "class Setting:\n",
    "    _root = os.getcwd()\n",
    "\n",
    "    _data = os.path.join(_root, \"hw1_data\")\n",
    "\n",
    "    data_synthetic = os.path.join(_data, \"Synthetic\", \"5000\")\n",
    "    data_youtube = os.path.join(_data, \"youtube\")\n",
    "    \n",
    "    \n",
    "     # Create dir for train/test\n",
    "    date_time = datetime.strftime(datetime.now(), \"%Y-%m-%d %H-%M\")\n",
    "    root = os.path.join(_root,  date_time)\n",
    "    if os.path.exists(root):\n",
    "        pass\n",
    "    else:\n",
    "        os.makedirs(root)\n",
    "\n",
    "\n",
    "    ### Save plt info\n",
    "    train_info_p = os.path.join(root, \"train.json\")\n",
    "    val_info_p = os.path.join(root, \"valid.json\")\n",
    "    test_info_p = os.path.join(root, \"test.json\")\n",
    "\n",
    "    ### Save plt img\n",
    "    result_plt_p = os.path.join(root, \"train_plt.png\")\n",
    "    test_plt_p = os.path.join(root, \"test_plt.png\")\n",
    "    sum_box_p = os.path.join(root, \"sum_box.png\")\n",
    "        \n",
    "        \n",
    "    ### Data split\n",
    "    data_split = os.path.join(_root, \"split.json\")\n",
    "    \n",
    "\n",
    "    # Setting of training\n",
    "    device = torch.device(\"cuda:1\" if torch.cuda.is_available() else \"cpu\")\n",
    "\n",
    "    epochs = 10000\n",
    "    batch = 8\n",
    "\n",
    "    c = 3\n",
    "    depth = 5\n",
    "    p = 128 # embedding dimension of hidden state\n",
    "    q = int(p/2)\n",
    "\n",
    "    save_model = os.path.join(root, \"weight.pth\")\n",
    "#     criterion = torch.nn.BCEWithLogitsLoss(reduction=\"sum\")\n",
    "    criterion = nn.BCELoss()\n"
   ]
  },
  {
   "cell_type": "code",
   "execution_count": 4,
   "metadata": {},
   "outputs": [],
   "source": [
    "setting = Setting()"
   ]
  },
  {
   "cell_type": "markdown",
   "metadata": {
    "id": "XOu2CKff-W4B"
   },
   "source": [
    "# Dataset"
   ]
  },
  {
   "cell_type": "markdown",
   "metadata": {
    "id": "RZdiko1lmiJy"
   },
   "source": [
    "## Data"
   ]
  },
  {
   "cell_type": "markdown",
   "metadata": {
    "id": "gU4XwwAu_WkR"
   },
   "source": [
    "- data.x\t节点特征，维度是[num_nodes, num_node_features]。\n",
    "- data.edge_index\t维度是[2, num_edges]，描述图中节点的关联关系，每一列对应的两个元素，分别是边的起点和重点。数据类型是torch.long。需要注意的是，data.edge_index是定义边的节点的张量（tensor），而不是节点的列表（list）。\n",
    "- data.edge_attr\t边的特征矩阵，维度是[num_edges, num_edge_features]\n",
    "- data.y\t训练目标（维度可以是任意的）。对于节点相关的任务，维度为[num_nodes, *]；对于图相关的任务，维度为[1,*]。\n",
    "- data.position\t节点位置矩阵（Node position matrix），维度为[num_nodes, num_dimensions]。"
   ]
  },
  {
   "cell_type": "markdown",
   "metadata": {
    "id": "um9C8SFO_2Tx"
   },
   "source": [
    "- [Learning to Identify High Betweenness Centrality Nodes from\n",
    "Scratch: A Novel Graph Neural Network Approach](https://arxiv.org/pdf/1905.10418.pdf)\n",
    "- node initial feature = [$(d_v), 1, 1]"
   ]
  },
  {
   "cell_type": "markdown",
   "metadata": {},
   "source": [
    "### Load all data"
   ]
  },
  {
   "cell_type": "code",
   "execution_count": 5,
   "metadata": {
    "colab": {
     "base_uri": "https://localhost:8080/"
    },
    "executionInfo": {
     "elapsed": 5918,
     "status": "ok",
     "timestamp": 1615282793119,
     "user": {
      "displayName": "Q56094077陳香君",
      "photoUrl": "",
      "userId": "10727804849868825735"
     },
     "user_tz": -480
    },
    "id": "cxWp5RNpm1uL",
    "outputId": "4cf7bf3b-d143-4b96-eebb-2cd9c1b0f408"
   },
   "outputs": [],
   "source": [
    "synthetic = []\n",
    "between = []\n",
    "for f in os.listdir(setting.data_synthetic):\n",
    "    if \"score\" in f:\n",
    "        # ground truth of betweenness centrality\n",
    "        p = os.path.join(setting.data_synthetic, f)\n",
    "        between.append(p)\n",
    "        pass\n",
    "    else:\n",
    "        p = os.path.join(setting.data_synthetic, f)\n",
    "        synthetic.append(p)\n",
    "\n",
    "between.sort()\n",
    "synthetic.sort()"
   ]
  },
  {
   "cell_type": "markdown",
   "metadata": {},
   "source": [
    "### Split Data"
   ]
  },
  {
   "cell_type": "code",
   "execution_count": 6,
   "metadata": {},
   "outputs": [],
   "source": [
    "from sklearn.model_selection import train_test_split\n",
    "\n",
    "\n",
    "def split_data(path, replace=False):\n",
    "    if os.path.exists(path) and replace:\n",
    "        pass\n",
    "    else:\n",
    "        X_train, X_test, y_train, y_test = train_test_split(synthetic, between, test_size=0.2)\n",
    "        X_train, X_valid, y_train, y_valid = train_test_split(X_train, y_train, test_size=0.15)\n",
    "\n",
    "        split = {\n",
    "            \"X_train\": X_train,\n",
    "            \"X_valid\": X_valid,\n",
    "            \"X_test\": X_test,\n",
    "            \"y_train\": y_train,\n",
    "            \"y_valid\": y_valid,\n",
    "            \"y_test\": y_test\n",
    "        }\n",
    "\n",
    "        with open(path, 'w') as f:\n",
    "            json.dump(split, f)\n",
    "            \n",
    "split_data(path = setting.data_split)"
   ]
  },
  {
   "cell_type": "markdown",
   "metadata": {},
   "source": [
    "### Cvt 2 dataloader"
   ]
  },
  {
   "cell_type": "code",
   "execution_count": 7,
   "metadata": {
    "colab": {
     "base_uri": "https://localhost:8080/",
     "height": 246
    },
    "executionInfo": {
     "elapsed": 893,
     "status": "error",
     "timestamp": 1615282795672,
     "user": {
      "displayName": "Q56094077陳香君",
      "photoUrl": "",
      "userId": "10727804849868825735"
     },
     "user_tz": -480
    },
    "id": "GJrGQmiUxRGX",
    "outputId": "81d8b6cb-5008-47d8-baf4-1156d70e07fc"
   },
   "outputs": [],
   "source": [
    "def to_dataloader(x, y, batch):\n",
    "    \n",
    "    data_list = []\n",
    "    for index, f in enumerate(x):\n",
    "        edge_index = torch_geometric.io.read_txt_array(f, dtype=torch.long)\n",
    "        edge_index = edge_index.t().contiguous()\n",
    "        edge_index = utils.to_undirected(edge_index)\n",
    "\n",
    "        row, col = edge_index  \n",
    "        deg = utils.degree(col) # must use col to get degree, why?\n",
    "        deg = deg.numpy()  \n",
    "\n",
    "        vertice = []\n",
    "        for d in deg:\n",
    "            vertice.append([d, 1, 1])\n",
    "        vertice = np.array(vertice, dtype=np.float)\n",
    "        vertice = torch.from_numpy(vertice)\n",
    "\n",
    "        ### between centrality\n",
    "        bcs = []\n",
    "        bc = torch_geometric.io.read_txt_array(y[index], dtype=torch.double)\n",
    "        bc = bc.t().contiguous()\n",
    "        row, col = bc\n",
    "        bc = col\n",
    "        bc = bc.numpy()\n",
    "        for b in bc:\n",
    "            bcs.append([b])\n",
    "\n",
    "        data = Data(x=vertice, edge_index=edge_index, y=bcs)\n",
    "        data_list.append(data)\n",
    "\n",
    "    loader = DataLoader(data_list, batch_size=batch)\n",
    "    return loader"
   ]
  },
  {
   "cell_type": "markdown",
   "metadata": {},
   "source": [
    "#### Read data"
   ]
  },
  {
   "cell_type": "code",
   "execution_count": 8,
   "metadata": {},
   "outputs": [],
   "source": [
    "f = open(setting.data_split, 'r')\n",
    "data_split = json.load(f)\n",
    "\n",
    "X_train = data_split[\"X_train\"]\n",
    "X_valid = data_split[\"X_valid\"]\n",
    "X_test = data_split[\"X_test\"]\n",
    "y_train = data_split[\"y_train\"]\n",
    "y_valid = data_split[\"y_valid\"]\n",
    "y_test = data_split[\"y_test\"]\n",
    "\n",
    "f.close()"
   ]
  },
  {
   "cell_type": "markdown",
   "metadata": {},
   "source": [
    "#### Cvt"
   ]
  },
  {
   "cell_type": "code",
   "execution_count": 9,
   "metadata": {},
   "outputs": [],
   "source": [
    "train_loader = to_dataloader(X_train, y_train, batch=1)\n",
    "valid_loader = to_dataloader(X_valid, y_valid, batch=1)\n",
    "test_loader = to_dataloader(X_test, y_test, batch=1)"
   ]
  },
  {
   "cell_type": "markdown",
   "metadata": {},
   "source": [
    "#### Use all data"
   ]
  },
  {
   "cell_type": "code",
   "execution_count": 10,
   "metadata": {},
   "outputs": [],
   "source": [
    "all_loader = to_dataloader(synthetic, between, batch=1)"
   ]
  },
  {
   "cell_type": "markdown",
   "metadata": {
    "id": "Jh1T_INgi8Ql"
   },
   "source": [
    "# Model"
   ]
  },
  {
   "cell_type": "code",
   "execution_count": 11,
   "metadata": {
    "id": "gcEf-tUaqDVa"
   },
   "outputs": [],
   "source": [
    "from torch_geometric.nn import MessagePassing\n",
    "import torch.nn.functional as F\n",
    "from torch_geometric.typing import Adj, OptTensor"
   ]
  },
  {
   "cell_type": "code",
   "execution_count": 12,
   "metadata": {
    "colab": {
     "base_uri": "https://localhost:8080/",
     "height": 135
    },
    "executionInfo": {
     "elapsed": 661,
     "status": "error",
     "timestamp": 1615203940879,
     "user": {
      "displayName": "Q56094077陳香君",
      "photoUrl": "",
      "userId": "10727804849868825735"
     },
     "user_tz": -480
    },
    "id": "P5EzKoYr7SGL",
    "outputId": "5504fb67-0455-4af0-a697-930410895a70"
   },
   "outputs": [],
   "source": [
    "class Encoder(MessagePassing):\n",
    "    def __init__(self, c, p, num_layers, device, aggr=\"add\"):\n",
    "        super(Encoder, self).__init__(aggr=aggr)\n",
    "        \n",
    "        self.num_layers = num_layers\n",
    "        self.w_0 = nn.Linear(in_features=c, out_features=p).double()\n",
    "        \n",
    "        self.relu = nn.ReLU(inplace=True)\n",
    "        self.rnn = nn.GRUCell(p, p).double()\n",
    "\n",
    "        self.device = device\n",
    "\n",
    "    def forward(self, data):\n",
    "        \n",
    "        x, edge_index = data.x, data.edge_index\n",
    "        \n",
    "        \n",
    "        # compute dgree\n",
    "        row, col = edge_index\n",
    "        deg = utils.degree(col, x.size(0), dtype=x.dtype)\n",
    "        deg = torch.add(deg, 1)\n",
    "        deg_inv_sqrt = torch.pow(deg, -0.5)\n",
    "        norm = deg_inv_sqrt[row] * deg_inv_sqrt[col]\n",
    "        \n",
    "        \n",
    "        # h_0 = x\n",
    "\n",
    "        # h_1\n",
    "        x = self.w_0(x)\n",
    "        x = self.relu(x)\n",
    "        x = F.normalize(x, p=2, dim=1)\n",
    "        \n",
    "        h_s = [x]\n",
    "        \n",
    "        for i in range(self.num_layers-1):\n",
    "            # internally calls the message(), aggregate() and update() functions\n",
    "            m = self.propagate(edge_index, x=x, norm=norm)\n",
    "            x = self.rnn(m, x)\n",
    "            x = F.normalize(x, p=2, dim=1) \n",
    "           \n",
    "            h_s.append(x)\n",
    "        \n",
    "        h_s = torch.stack(h_s, dim=-1)\n",
    "        # Use torch.max to replace max_pooling\n",
    "        z, _ = torch.max(h_s, dim=-1)\n",
    "        # z = global_max_pool(h_s, torch.tensor([0], dtype=torch.long).to(self.device))\n",
    "        \n",
    "        return z\n",
    "\n",
    "    def message(self, x_j, norm: OptTensor):\n",
    "        return x_j if norm is None else norm.view(-1, 1) * x_j\n",
    "    "
   ]
  },
  {
   "cell_type": "code",
   "execution_count": 13,
   "metadata": {},
   "outputs": [],
   "source": [
    "class Decoder(nn.Module):\n",
    "    def __init__(self, p, q):\n",
    "        \n",
    "        super().__init__()\n",
    "        \n",
    "        self.w_4 = nn.Linear(in_features=p, out_features=q).double()\n",
    "        self.w_5 = nn.Linear(in_features=q, out_features=1).double()\n",
    "        \n",
    "        self.relu = nn.ReLU(inplace=True)\n",
    "        \n",
    "    def forward(self, z):\n",
    "        z = self.w_4(z)\n",
    "        z = self.relu(z)\n",
    "        z = self.w_5(z)\n",
    "        \n",
    "        return z"
   ]
  },
  {
   "cell_type": "code",
   "execution_count": 14,
   "metadata": {},
   "outputs": [],
   "source": [
    "class DrBC(nn.Module):\n",
    "    def __init__(self, encoder_params, decoder_params):\n",
    "        super().__init__()\n",
    "        \n",
    "        self.encoder = Encoder(**encoder_params)\n",
    "        self.decoder = Decoder(**decoder_params)\n",
    "        \n",
    "        \n",
    "    def forward(self, data):\n",
    "        \n",
    "        z = self.encoder(data)\n",
    "        \n",
    "        return self.decoder(z)"
   ]
  },
  {
   "cell_type": "code",
   "execution_count": 15,
   "metadata": {},
   "outputs": [
    {
     "data": {
      "text/plain": [
       "DrBC(\n",
       "  (encoder): Encoder(\n",
       "    (w_0): Linear(in_features=3, out_features=128, bias=True)\n",
       "    (relu): ReLU(inplace=True)\n",
       "    (rnn): GRUCell(128, 128)\n",
       "  )\n",
       "  (decoder): Decoder(\n",
       "    (w_4): Linear(in_features=128, out_features=64, bias=True)\n",
       "    (w_5): Linear(in_features=64, out_features=1, bias=True)\n",
       "    (relu): ReLU(inplace=True)\n",
       "  )\n",
       ")"
      ]
     },
     "execution_count": 15,
     "metadata": {},
     "output_type": "execute_result"
    }
   ],
   "source": [
    "DrBC(\n",
    "    encoder_params = dict(\n",
    "        c = setting.c,\n",
    "        p = setting.p,\n",
    "        num_layers = setting.depth,\n",
    "        device = setting.device\n",
    "    ),\n",
    "    decoder_params = dict(\n",
    "        p = setting.p,\n",
    "        q = setting.q\n",
    "    )\n",
    ")"
   ]
  },
  {
   "cell_type": "markdown",
   "metadata": {
    "id": "Dvoodu8ki_Cu"
   },
   "source": [
    "# Load model"
   ]
  },
  {
   "cell_type": "code",
   "execution_count": 16,
   "metadata": {},
   "outputs": [],
   "source": [
    "def load_checkpoint(filepath, device, **params):\n",
    "\n",
    "    model = DrBC(\n",
    "                encoder_params = dict(\n",
    "                    c = setting.c,\n",
    "                    p = setting.p,\n",
    "                    num_layers = setting.depth,\n",
    "                    device = setting.device\n",
    "                ),\n",
    "                decoder_params = dict(\n",
    "                    p = setting.p,\n",
    "                    q = setting.q\n",
    "                )\n",
    "            ).to(setting.device)\n",
    "    \n",
    "    if os.path.exists(filepath):\n",
    "        print(\"pretrained finded\")\n",
    "        checkpoint = torch.load(filepath)\n",
    "        model.load_state_dict(checkpoint['model_stat'])\n",
    "        optimizer = torch.optim.Adam(model.parameters(), lr=1e-4)\n",
    "        optimizer.load_state_dict(checkpoint['optimizer_stat'])\n",
    "\n",
    "    else:\n",
    "        print(\"use a new optimizer\")\n",
    "        optimizer = torch.optim.Adam(model.parameters(), lr=1e-4)\n",
    "\n",
    "    return model, optimizer"
   ]
  },
  {
   "cell_type": "code",
   "execution_count": 17,
   "metadata": {},
   "outputs": [
    {
     "name": "stdout",
     "output_type": "stream",
     "text": [
      "use a new optimizer\n"
     ]
    }
   ],
   "source": [
    "model, optimizer = load_checkpoint(\n",
    "                    setting.save_model,\n",
    "                    setting.device)"
   ]
  },
  {
   "cell_type": "code",
   "execution_count": 18,
   "metadata": {},
   "outputs": [
    {
     "data": {
      "text/plain": [
       "DrBC(\n",
       "  (encoder): Encoder(\n",
       "    (w_0): Linear(in_features=3, out_features=128, bias=True)\n",
       "    (relu): ReLU(inplace=True)\n",
       "    (rnn): GRUCell(128, 128)\n",
       "  )\n",
       "  (decoder): Decoder(\n",
       "    (w_4): Linear(in_features=128, out_features=64, bias=True)\n",
       "    (w_5): Linear(in_features=64, out_features=1, bias=True)\n",
       "    (relu): ReLU(inplace=True)\n",
       "  )\n",
       ")"
      ]
     },
     "execution_count": 18,
     "metadata": {},
     "output_type": "execute_result"
    }
   ],
   "source": [
    "model"
   ]
  },
  {
   "cell_type": "markdown",
   "metadata": {},
   "source": [
    "# Evaluation"
   ]
  },
  {
   "cell_type": "code",
   "execution_count": 19,
   "metadata": {},
   "outputs": [],
   "source": [
    "def top_n(model, data, k):\n",
    "\n",
    "    with torch.no_grad():\n",
    "        \n",
    "#         cnt = 0\n",
    "        intsec = []\n",
    "        for d in tqdm(data):\n",
    "            \n",
    "            d = d.to(setting.device)\n",
    "            \n",
    "            bc_gt = d.y\n",
    "            bc_gt = np.array(bc_gt)\n",
    "            bc_gt = torch.from_numpy(bc_gt)\n",
    "            bc_gt = torch.reshape(bc_gt, (-1, ))\n",
    "\n",
    "            bc_pr = model(d)\n",
    "\n",
    "            bc_gt = bc_gt.squeeze().to(setting.device)\n",
    "            bc_pr = bc_pr.squeeze()\n",
    "\n",
    "            gt_value, gt_indice = torch.topk(bc_gt, k)\n",
    "            pr_value, pr_indice = torch.topk(bc_pr, k)\n",
    "\n",
    "            gt_indice = set(gt_indice.cpu().numpy())\n",
    "            pr_indice = set(pr_indice.cpu().numpy())\n",
    "\n",
    "            intersect = len(gt_indice & pr_indice)\n",
    "            intsec.append(intersect/(bc_gt.shape[0] * k / 100))\n",
    "#             cnt += d.num_graphs\n",
    "\n",
    "        return intsec"
   ]
  },
  {
   "cell_type": "markdown",
   "metadata": {},
   "source": [
    "# Train"
   ]
  },
  {
   "cell_type": "code",
   "execution_count": 20,
   "metadata": {},
   "outputs": [],
   "source": [
    "train_info = {\n",
    "    \"bce\": [],\n",
    "    \"top1\": [],\n",
    "    \"top5\": [],\n",
    "    \"top10\": []\n",
    "}"
   ]
  },
  {
   "cell_type": "code",
   "execution_count": null,
   "metadata": {
    "scrolled": true
   },
   "outputs": [
    {
     "name": "stderr",
     "output_type": "stream",
     "text": [
      "100%|██████████| 30/30 [00:02<00:00, 14.46it/s]\n",
      "100%|██████████| 30/30 [00:01<00:00, 23.86it/s]\n",
      "100%|██████████| 30/30 [00:01<00:00, 23.52it/s]\n",
      "100%|██████████| 30/30 [00:01<00:00, 23.47it/s]\n",
      " 10%|█         | 3/30 [00:00<00:01, 20.84it/s]"
     ]
    },
    {
     "name": "stdout",
     "output_type": "stream",
     "text": [
      "Epoch = 1, loss = 0.6908091733374963, top 1 = 0.0, top 5 = 0.001733333333333334, top 10 = 0.004866666666666669\n",
      "save model to /home/ai2019/ne6081064/june/mlg/snrs_hw1/2021-03-13 11-52/weight.pth\n"
     ]
    },
    {
     "name": "stderr",
     "output_type": "stream",
     "text": [
      "100%|██████████| 30/30 [00:01<00:00, 17.25it/s]\n",
      "100%|██████████| 30/30 [00:01<00:00, 23.63it/s]\n",
      "100%|██████████| 30/30 [00:01<00:00, 23.41it/s]\n",
      "100%|██████████| 30/30 [00:01<00:00, 23.71it/s]\n",
      " 10%|█         | 3/30 [00:00<00:01, 21.20it/s]"
     ]
    },
    {
     "name": "stdout",
     "output_type": "stream",
     "text": [
      "Epoch = 2, loss = 0.6840661298497747, top 1 = 0.0, top 5 = 0.0008, top 10 = 0.0014666666666666671\n"
     ]
    },
    {
     "name": "stderr",
     "output_type": "stream",
     "text": [
      "100%|██████████| 30/30 [00:01<00:00, 18.72it/s]\n",
      "100%|██████████| 30/30 [00:01<00:00, 23.88it/s]\n",
      "100%|██████████| 30/30 [00:01<00:00, 23.61it/s]\n",
      "100%|██████████| 30/30 [00:01<00:00, 24.19it/s]\n",
      " 10%|█         | 3/30 [00:00<00:01, 20.84it/s]"
     ]
    },
    {
     "name": "stdout",
     "output_type": "stream",
     "text": [
      "Epoch = 3, loss = 0.671253113196912, top 1 = 0.0, top 5 = 0.0, top 10 = 6.666666666666667e-05\n"
     ]
    },
    {
     "name": "stderr",
     "output_type": "stream",
     "text": [
      "100%|██████████| 30/30 [00:01<00:00, 17.37it/s]\n",
      "100%|██████████| 30/30 [00:01<00:00, 24.01it/s]\n",
      "100%|██████████| 30/30 [00:01<00:00, 26.19it/s]\n",
      "100%|██████████| 30/30 [00:01<00:00, 23.93it/s]\n",
      " 10%|█         | 3/30 [00:00<00:01, 20.79it/s]"
     ]
    },
    {
     "name": "stdout",
     "output_type": "stream",
     "text": [
      "Epoch = 4, loss = 0.6512518026992673, top 1 = 0.0, top 5 = 0.0, top 10 = 0.0\n"
     ]
    },
    {
     "name": "stderr",
     "output_type": "stream",
     "text": [
      "100%|██████████| 30/30 [00:01<00:00, 17.42it/s]\n",
      "100%|██████████| 30/30 [00:01<00:00, 23.30it/s]\n",
      "100%|██████████| 30/30 [00:01<00:00, 23.69it/s]\n",
      "100%|██████████| 30/30 [00:01<00:00, 23.94it/s]\n",
      " 10%|█         | 3/30 [00:00<00:01, 20.73it/s]"
     ]
    },
    {
     "name": "stdout",
     "output_type": "stream",
     "text": [
      "Epoch = 5, loss = 0.6293917198893771, top 1 = 0.0, top 5 = 0.0, top 10 = 0.0\n"
     ]
    },
    {
     "name": "stderr",
     "output_type": "stream",
     "text": [
      "100%|██████████| 30/30 [00:01<00:00, 18.55it/s]\n",
      "100%|██████████| 30/30 [00:01<00:00, 23.63it/s]\n",
      "100%|██████████| 30/30 [00:01<00:00, 23.73it/s]\n",
      "100%|██████████| 30/30 [00:01<00:00, 23.87it/s]\n",
      " 10%|█         | 3/30 [00:00<00:01, 20.80it/s]"
     ]
    },
    {
     "name": "stdout",
     "output_type": "stream",
     "text": [
      "Epoch = 6, loss = 0.6079739332232248, top 1 = 0.0, top 5 = 0.0, top 10 = 0.0\n"
     ]
    },
    {
     "name": "stderr",
     "output_type": "stream",
     "text": [
      "100%|██████████| 30/30 [00:01<00:00, 17.58it/s]\n",
      "100%|██████████| 30/30 [00:01<00:00, 23.57it/s]\n",
      "100%|██████████| 30/30 [00:01<00:00, 25.87it/s]\n",
      "100%|██████████| 30/30 [00:01<00:00, 23.82it/s]\n",
      " 10%|█         | 3/30 [00:00<00:01, 20.72it/s]"
     ]
    },
    {
     "name": "stdout",
     "output_type": "stream",
     "text": [
      "Epoch = 7, loss = 0.5882971676452178, top 1 = 0.0, top 5 = 0.0, top 10 = 0.0\n"
     ]
    },
    {
     "name": "stderr",
     "output_type": "stream",
     "text": [
      "100%|██████████| 30/30 [00:01<00:00, 17.38it/s]\n",
      "100%|██████████| 30/30 [00:01<00:00, 23.99it/s]\n",
      "100%|██████████| 30/30 [00:01<00:00, 23.57it/s]\n",
      "100%|██████████| 30/30 [00:01<00:00, 23.45it/s]\n",
      " 10%|█         | 3/30 [00:00<00:01, 20.83it/s]"
     ]
    },
    {
     "name": "stdout",
     "output_type": "stream",
     "text": [
      "Epoch = 8, loss = 0.5705014478377115, top 1 = 0.0, top 5 = 0.0, top 10 = 0.0\n"
     ]
    },
    {
     "name": "stderr",
     "output_type": "stream",
     "text": [
      "100%|██████████| 30/30 [00:01<00:00, 18.70it/s]\n",
      "100%|██████████| 30/30 [00:01<00:00, 23.87it/s]\n",
      "100%|██████████| 30/30 [00:01<00:00, 23.83it/s]\n",
      "100%|██████████| 30/30 [00:01<00:00, 23.96it/s]\n",
      " 10%|█         | 3/30 [00:00<00:01, 21.17it/s]"
     ]
    },
    {
     "name": "stdout",
     "output_type": "stream",
     "text": [
      "Epoch = 9, loss = 0.5548948875916208, top 1 = 0.0, top 5 = 0.0, top 10 = 0.0\n"
     ]
    },
    {
     "name": "stderr",
     "output_type": "stream",
     "text": [
      "100%|██████████| 30/30 [00:01<00:00, 17.65it/s]\n",
      "100%|██████████| 30/30 [00:01<00:00, 23.84it/s]\n",
      "100%|██████████| 30/30 [00:01<00:00, 23.84it/s]\n",
      "100%|██████████| 30/30 [00:01<00:00, 25.95it/s]\n",
      "  0%|          | 0/30 [00:00<?, ?it/s]"
     ]
    },
    {
     "name": "stdout",
     "output_type": "stream",
     "text": [
      "Epoch = 10, loss = 0.5414581853301992, top 1 = 0.0, top 5 = 0.0, top 10 = 0.0\n"
     ]
    },
    {
     "name": "stderr",
     "output_type": "stream",
     "text": [
      "100%|██████████| 30/30 [00:01<00:00, 17.35it/s]\n",
      "100%|██████████| 30/30 [00:01<00:00, 23.81it/s]\n",
      "100%|██████████| 30/30 [00:01<00:00, 23.46it/s]\n",
      "100%|██████████| 30/30 [00:01<00:00, 23.28it/s]\n",
      " 10%|█         | 3/30 [00:00<00:01, 20.60it/s]"
     ]
    },
    {
     "name": "stdout",
     "output_type": "stream",
     "text": [
      "Epoch = 11, loss = 0.5313497551846315, top 1 = 0.0, top 5 = 0.0, top 10 = 0.0\n"
     ]
    },
    {
     "name": "stderr",
     "output_type": "stream",
     "text": [
      "100%|██████████| 30/30 [00:01<00:00, 17.62it/s]\n",
      "100%|██████████| 30/30 [00:01<00:00, 25.36it/s]\n",
      "100%|██████████| 30/30 [00:01<00:00, 23.23it/s]\n",
      "100%|██████████| 30/30 [00:01<00:00, 23.83it/s]\n",
      " 10%|█         | 3/30 [00:00<00:01, 20.63it/s]"
     ]
    },
    {
     "name": "stdout",
     "output_type": "stream",
     "text": [
      "Epoch = 12, loss = 0.524892627766344, top 1 = 0.0, top 5 = 0.0, top 10 = 0.0\n"
     ]
    },
    {
     "name": "stderr",
     "output_type": "stream",
     "text": [
      "100%|██████████| 30/30 [00:01<00:00, 17.49it/s]\n",
      "100%|██████████| 30/30 [00:01<00:00, 23.87it/s]\n",
      "100%|██████████| 30/30 [00:01<00:00, 24.06it/s]\n",
      "100%|██████████| 30/30 [00:01<00:00, 25.95it/s]\n",
      "  7%|▋         | 2/30 [00:00<00:02, 10.73it/s]"
     ]
    },
    {
     "name": "stdout",
     "output_type": "stream",
     "text": [
      "Epoch = 13, loss = 0.5201629907538436, top 1 = 0.0, top 5 = 0.0, top 10 = 0.0\n"
     ]
    },
    {
     "name": "stderr",
     "output_type": "stream",
     "text": [
      "100%|██████████| 30/30 [00:01<00:00, 17.38it/s]\n",
      "100%|██████████| 30/30 [00:01<00:00, 23.43it/s]\n",
      "100%|██████████| 30/30 [00:01<00:00, 23.53it/s]\n",
      "100%|██████████| 30/30 [00:01<00:00, 23.64it/s]\n",
      " 10%|█         | 3/30 [00:00<00:01, 20.68it/s]"
     ]
    },
    {
     "name": "stdout",
     "output_type": "stream",
     "text": [
      "Epoch = 14, loss = 0.5137223184879993, top 1 = 0.0, top 5 = 0.0, top 10 = 0.0\n"
     ]
    },
    {
     "name": "stderr",
     "output_type": "stream",
     "text": [
      "100%|██████████| 30/30 [00:01<00:00, 17.52it/s]\n",
      "100%|██████████| 30/30 [00:01<00:00, 25.06it/s]\n",
      "100%|██████████| 30/30 [00:01<00:00, 22.90it/s]\n",
      "100%|██████████| 30/30 [00:01<00:00, 23.29it/s]\n",
      " 10%|█         | 3/30 [00:00<00:01, 20.92it/s]"
     ]
    },
    {
     "name": "stdout",
     "output_type": "stream",
     "text": [
      "Epoch = 15, loss = 0.5089957417976833, top 1 = 0.0, top 5 = 0.0, top 10 = 6.666666666666667e-05\n"
     ]
    },
    {
     "name": "stderr",
     "output_type": "stream",
     "text": [
      "100%|██████████| 30/30 [00:01<00:00, 17.48it/s]\n",
      "100%|██████████| 30/30 [00:01<00:00, 23.22it/s]\n",
      "100%|██████████| 30/30 [00:01<00:00, 23.28it/s]\n",
      "100%|██████████| 30/30 [00:01<00:00, 25.30it/s]\n",
      "  3%|▎         | 1/30 [00:00<00:04,  6.52it/s]"
     ]
    },
    {
     "name": "stdout",
     "output_type": "stream",
     "text": [
      "Epoch = 16, loss = 0.5056373293245009, top 1 = 0.0, top 5 = 0.0, top 10 = 6.666666666666667e-05\n"
     ]
    },
    {
     "name": "stderr",
     "output_type": "stream",
     "text": [
      "100%|██████████| 30/30 [00:01<00:00, 17.21it/s]\n",
      "100%|██████████| 30/30 [00:01<00:00, 23.85it/s]\n",
      "100%|██████████| 30/30 [00:01<00:00, 24.03it/s]\n",
      "100%|██████████| 30/30 [00:01<00:00, 24.03it/s]\n",
      " 10%|█         | 3/30 [00:00<00:01, 20.98it/s]"
     ]
    },
    {
     "name": "stdout",
     "output_type": "stream",
     "text": [
      "Epoch = 17, loss = 0.5039043982212056, top 1 = 0.0, top 5 = 0.0, top 10 = 6.666666666666667e-05\n"
     ]
    },
    {
     "name": "stderr",
     "output_type": "stream",
     "text": [
      "100%|██████████| 30/30 [00:01<00:00, 17.56it/s]\n",
      "100%|██████████| 30/30 [00:01<00:00, 23.05it/s]\n",
      "100%|██████████| 30/30 [00:01<00:00, 25.26it/s]\n",
      "100%|██████████| 30/30 [00:01<00:00, 23.97it/s]\n",
      " 10%|█         | 3/30 [00:00<00:01, 20.95it/s]"
     ]
    },
    {
     "name": "stdout",
     "output_type": "stream",
     "text": [
      "Epoch = 18, loss = 0.5015607159024804, top 1 = 0.0, top 5 = 0.0, top 10 = 6.666666666666667e-05\n"
     ]
    },
    {
     "name": "stderr",
     "output_type": "stream",
     "text": [
      "100%|██████████| 30/30 [00:01<00:00, 17.46it/s]\n",
      "100%|██████████| 30/30 [00:01<00:00, 23.92it/s]\n",
      "100%|██████████| 30/30 [00:01<00:00, 23.99it/s]\n",
      "100%|██████████| 30/30 [00:01<00:00, 24.01it/s]\n",
      "  7%|▋         | 2/30 [00:00<00:01, 19.72it/s]"
     ]
    },
    {
     "name": "stdout",
     "output_type": "stream",
     "text": [
      "Epoch = 19, loss = 0.501658328217452, top 1 = 0.0, top 5 = 0.00013333333333333334, top 10 = 6.666666666666667e-05\n"
     ]
    },
    {
     "name": "stderr",
     "output_type": "stream",
     "text": [
      "100%|██████████| 30/30 [00:01<00:00, 18.39it/s]\n",
      "100%|██████████| 30/30 [00:01<00:00, 23.37it/s]\n",
      "100%|██████████| 30/30 [00:01<00:00, 23.65it/s]\n",
      "100%|██████████| 30/30 [00:01<00:00, 24.00it/s]\n",
      " 10%|█         | 3/30 [00:00<00:01, 21.33it/s]"
     ]
    },
    {
     "name": "stdout",
     "output_type": "stream",
     "text": [
      "Epoch = 20, loss = 0.509012323059951, top 1 = 0.0, top 5 = 0.0, top 10 = 0.00013333333333333334\n"
     ]
    },
    {
     "name": "stderr",
     "output_type": "stream",
     "text": [
      "100%|██████████| 30/30 [00:01<00:00, 17.63it/s]\n",
      "100%|██████████| 30/30 [00:01<00:00, 23.70it/s]\n",
      "100%|██████████| 30/30 [00:01<00:00, 25.94it/s]\n",
      "100%|██████████| 30/30 [00:01<00:00, 23.76it/s]\n",
      " 10%|█         | 3/30 [00:00<00:01, 20.65it/s]"
     ]
    },
    {
     "name": "stdout",
     "output_type": "stream",
     "text": [
      "Epoch = 21, loss = 0.5087457006789313, top 1 = 0.0, top 5 = 0.00013333333333333334, top 10 = 0.0002666666666666667\n"
     ]
    },
    {
     "name": "stderr",
     "output_type": "stream",
     "text": [
      "100%|██████████| 30/30 [00:01<00:00, 17.61it/s]\n",
      "100%|██████████| 30/30 [00:01<00:00, 23.02it/s]\n",
      "100%|██████████| 30/30 [00:01<00:00, 23.50it/s]\n",
      "100%|██████████| 30/30 [00:01<00:00, 23.88it/s]\n",
      " 10%|█         | 3/30 [00:00<00:01, 20.47it/s]"
     ]
    },
    {
     "name": "stdout",
     "output_type": "stream",
     "text": [
      "Epoch = 22, loss = 0.5044705230068538, top 1 = 0.0, top 5 = 0.00013333333333333334, top 10 = 0.0002666666666666667\n"
     ]
    },
    {
     "name": "stderr",
     "output_type": "stream",
     "text": [
      "100%|██████████| 30/30 [00:01<00:00, 18.46it/s]\n",
      "100%|██████████| 30/30 [00:01<00:00, 23.76it/s]\n",
      "100%|██████████| 30/30 [00:01<00:00, 24.21it/s]\n",
      "100%|██████████| 30/30 [00:01<00:00, 23.91it/s]\n",
      " 10%|█         | 3/30 [00:00<00:01, 20.54it/s]"
     ]
    },
    {
     "name": "stdout",
     "output_type": "stream",
     "text": [
      "Epoch = 23, loss = 0.5099712195498035, top 1 = 0.0, top 5 = 0.0002666666666666667, top 10 = 0.0005333333333333334\n"
     ]
    },
    {
     "name": "stderr",
     "output_type": "stream",
     "text": [
      "100%|██████████| 30/30 [00:01<00:00, 17.64it/s]\n",
      "100%|██████████| 30/30 [00:01<00:00, 23.77it/s]\n",
      "100%|██████████| 30/30 [00:01<00:00, 25.74it/s]\n",
      "100%|██████████| 30/30 [00:01<00:00, 23.31it/s]\n",
      " 10%|█         | 3/30 [00:00<00:01, 20.89it/s]"
     ]
    },
    {
     "name": "stdout",
     "output_type": "stream",
     "text": [
      "Epoch = 24, loss = 0.4999873322491407, top 1 = 0.0, top 5 = 0.00013333333333333334, top 10 = 0.00046666666666666666\n"
     ]
    },
    {
     "name": "stderr",
     "output_type": "stream",
     "text": [
      "100%|██████████| 30/30 [00:01<00:00, 17.54it/s]\n",
      "100%|██████████| 30/30 [00:01<00:00, 23.70it/s]\n",
      "100%|██████████| 30/30 [00:01<00:00, 23.41it/s]\n",
      "100%|██████████| 30/30 [00:01<00:00, 23.26it/s]\n",
      " 10%|█         | 3/30 [00:00<00:01, 20.69it/s]"
     ]
    },
    {
     "name": "stdout",
     "output_type": "stream",
     "text": [
      "Epoch = 25, loss = 0.505524840014149, top 1 = 0.0, top 5 = 0.0006666666666666666, top 10 = 0.0008000000000000003\n"
     ]
    },
    {
     "name": "stderr",
     "output_type": "stream",
     "text": [
      "100%|██████████| 30/30 [00:01<00:00, 18.43it/s]\n",
      "100%|██████████| 30/30 [00:01<00:00, 23.63it/s]\n",
      "100%|██████████| 30/30 [00:01<00:00, 23.10it/s]\n",
      "100%|██████████| 30/30 [00:01<00:00, 23.29it/s]\n",
      " 10%|█         | 3/30 [00:00<00:01, 20.85it/s]"
     ]
    },
    {
     "name": "stdout",
     "output_type": "stream",
     "text": [
      "Epoch = 26, loss = 0.4911353643586451, top 1 = 0.0, top 5 = 0.00013333333333333334, top 10 = 0.00013333333333333334\n"
     ]
    },
    {
     "name": "stderr",
     "output_type": "stream",
     "text": [
      "100%|██████████| 30/30 [00:01<00:00, 17.53it/s]\n",
      "100%|██████████| 30/30 [00:01<00:00, 23.12it/s]\n",
      "100%|██████████| 30/30 [00:01<00:00, 23.71it/s]\n",
      "100%|██████████| 30/30 [00:01<00:00, 25.37it/s]\n",
      "  7%|▋         | 2/30 [00:00<00:02, 10.52it/s]"
     ]
    },
    {
     "name": "stdout",
     "output_type": "stream",
     "text": [
      "Epoch = 27, loss = 0.5086064385052061, top 1 = 0.0, top 5 = 0.0002666666666666667, top 10 = 0.0005333333333333334\n"
     ]
    },
    {
     "name": "stderr",
     "output_type": "stream",
     "text": [
      "100%|██████████| 30/30 [00:01<00:00, 17.52it/s]\n",
      "100%|██████████| 30/30 [00:01<00:00, 23.47it/s]\n",
      "100%|██████████| 30/30 [00:01<00:00, 23.94it/s]\n",
      "100%|██████████| 30/30 [00:01<00:00, 23.81it/s]\n",
      " 10%|█         | 3/30 [00:00<00:01, 21.09it/s]"
     ]
    },
    {
     "name": "stdout",
     "output_type": "stream",
     "text": [
      "Epoch = 28, loss = 0.4917444306901259, top 1 = 0.0, top 5 = 0.00013333333333333334, top 10 = 0.0002\n"
     ]
    },
    {
     "name": "stderr",
     "output_type": "stream",
     "text": [
      "100%|██████████| 30/30 [00:01<00:00, 17.46it/s]\n",
      "100%|██████████| 30/30 [00:01<00:00, 25.19it/s]\n",
      "100%|██████████| 30/30 [00:01<00:00, 23.46it/s]\n",
      "100%|██████████| 30/30 [00:01<00:00, 23.35it/s]\n",
      " 10%|█         | 3/30 [00:00<00:01, 20.59it/s]"
     ]
    },
    {
     "name": "stdout",
     "output_type": "stream",
     "text": [
      "Epoch = 29, loss = 0.5067788512313084, top 1 = 0.0, top 5 = 0.0004, top 10 = 0.0008\n"
     ]
    },
    {
     "name": "stderr",
     "output_type": "stream",
     "text": [
      "100%|██████████| 30/30 [00:01<00:00, 17.64it/s]\n",
      "100%|██████████| 30/30 [00:01<00:00, 23.28it/s]\n",
      "100%|██████████| 30/30 [00:01<00:00, 23.83it/s]\n",
      "100%|██████████| 30/30 [00:01<00:00, 26.06it/s]\n",
      "  3%|▎         | 1/30 [00:00<00:04,  7.09it/s]"
     ]
    },
    {
     "name": "stdout",
     "output_type": "stream",
     "text": [
      "Epoch = 30, loss = 0.49133720364758954, top 1 = 0.0, top 5 = 0.00013333333333333334, top 10 = 0.0003333333333333333\n"
     ]
    },
    {
     "name": "stderr",
     "output_type": "stream",
     "text": [
      "100%|██████████| 30/30 [00:01<00:00, 17.47it/s]\n",
      "100%|██████████| 30/30 [00:01<00:00, 23.87it/s]\n",
      "100%|██████████| 30/30 [00:01<00:00, 23.94it/s]\n",
      "100%|██████████| 30/30 [00:01<00:00, 23.81it/s]\n",
      " 10%|█         | 3/30 [00:00<00:01, 20.86it/s]"
     ]
    },
    {
     "name": "stdout",
     "output_type": "stream",
     "text": [
      "Epoch = 31, loss = 0.5052508689295102, top 1 = 0.0, top 5 = 0.0006666666666666666, top 10 = 0.0011333333333333334\n"
     ]
    },
    {
     "name": "stderr",
     "output_type": "stream",
     "text": [
      "100%|██████████| 30/30 [00:01<00:00, 17.54it/s]\n",
      "100%|██████████| 30/30 [00:01<00:00, 23.80it/s]\n",
      "100%|██████████| 30/30 [00:01<00:00, 25.94it/s]\n",
      "100%|██████████| 30/30 [00:01<00:00, 24.01it/s]\n",
      " 10%|█         | 3/30 [00:00<00:01, 20.80it/s]"
     ]
    },
    {
     "name": "stdout",
     "output_type": "stream",
     "text": [
      "Epoch = 32, loss = 0.4905252858917295, top 1 = 0.0, top 5 = 0.0004, top 10 = 0.00046666666666666666\n"
     ]
    },
    {
     "name": "stderr",
     "output_type": "stream",
     "text": [
      "100%|██████████| 30/30 [00:01<00:00, 17.64it/s]\n",
      "100%|██████████| 30/30 [00:01<00:00, 23.49it/s]\n",
      "100%|██████████| 30/30 [00:01<00:00, 24.00it/s]\n",
      "100%|██████████| 30/30 [00:01<00:00, 24.06it/s]\n",
      " 10%|█         | 3/30 [00:00<00:01, 21.15it/s]"
     ]
    },
    {
     "name": "stdout",
     "output_type": "stream",
     "text": [
      "Epoch = 33, loss = 0.5032041842608341, top 1 = 0.0, top 5 = 0.0009333333333333333, top 10 = 0.0015333333333333336\n"
     ]
    },
    {
     "name": "stderr",
     "output_type": "stream",
     "text": [
      "100%|██████████| 30/30 [00:01<00:00, 18.62it/s]\n",
      "100%|██████████| 30/30 [00:01<00:00, 23.49it/s]\n",
      "100%|██████████| 30/30 [00:01<00:00, 23.52it/s]\n",
      "100%|██████████| 30/30 [00:01<00:00, 23.05it/s]\n",
      " 10%|█         | 3/30 [00:00<00:01, 20.76it/s]"
     ]
    },
    {
     "name": "stdout",
     "output_type": "stream",
     "text": [
      "Epoch = 34, loss = 0.49062628696133664, top 1 = 0.0, top 5 = 0.0004, top 10 = 0.0008\n"
     ]
    },
    {
     "name": "stderr",
     "output_type": "stream",
     "text": [
      "100%|██████████| 30/30 [00:01<00:00, 17.63it/s]\n",
      "100%|██████████| 30/30 [00:01<00:00, 23.51it/s]\n",
      "100%|██████████| 30/30 [00:01<00:00, 25.48it/s]\n",
      "100%|██████████| 30/30 [00:01<00:00, 23.51it/s]\n",
      " 10%|█         | 3/30 [00:00<00:01, 21.35it/s]"
     ]
    },
    {
     "name": "stdout",
     "output_type": "stream",
     "text": [
      "Epoch = 35, loss = 0.4967909100911679, top 1 = 0.0, top 5 = 0.0009333333333333333, top 10 = 0.0014666666666666671\n"
     ]
    },
    {
     "name": "stderr",
     "output_type": "stream",
     "text": [
      "100%|██████████| 30/30 [00:01<00:00, 17.60it/s]\n",
      "100%|██████████| 30/30 [00:01<00:00, 22.93it/s]\n",
      "100%|██████████| 30/30 [00:01<00:00, 24.00it/s]\n",
      "100%|██████████| 30/30 [00:01<00:00, 23.74it/s]\n",
      " 10%|█         | 3/30 [00:00<00:01, 21.28it/s]"
     ]
    },
    {
     "name": "stdout",
     "output_type": "stream",
     "text": [
      "Epoch = 36, loss = 0.49022876440141083, top 1 = 0.0, top 5 = 0.0008, top 10 = 0.000866666666666667\n"
     ]
    },
    {
     "name": "stderr",
     "output_type": "stream",
     "text": [
      "100%|██████████| 30/30 [00:01<00:00, 18.67it/s]\n",
      "100%|██████████| 30/30 [00:01<00:00, 23.37it/s]\n",
      "100%|██████████| 30/30 [00:01<00:00, 23.71it/s]\n",
      "100%|██████████| 30/30 [00:01<00:00, 23.27it/s]\n",
      " 10%|█         | 3/30 [00:00<00:01, 20.85it/s]"
     ]
    },
    {
     "name": "stdout",
     "output_type": "stream",
     "text": [
      "Epoch = 37, loss = 0.4962045874091962, top 1 = 0.0, top 5 = 0.0009333333333333333, top 10 = 0.0014000000000000004\n"
     ]
    },
    {
     "name": "stderr",
     "output_type": "stream",
     "text": [
      "100%|██████████| 30/30 [00:01<00:00, 17.57it/s]\n",
      "100%|██████████| 30/30 [00:01<00:00, 23.84it/s]\n",
      "100%|██████████| 30/30 [00:01<00:00, 25.44it/s]\n",
      "100%|██████████| 30/30 [00:01<00:00, 23.34it/s]\n",
      " 10%|█         | 3/30 [00:00<00:01, 20.94it/s]"
     ]
    },
    {
     "name": "stdout",
     "output_type": "stream",
     "text": [
      "Epoch = 38, loss = 0.4901341774497366, top 1 = 0.0, top 5 = 0.0008, top 10 = 0.000866666666666667\n"
     ]
    },
    {
     "name": "stderr",
     "output_type": "stream",
     "text": [
      "100%|██████████| 30/30 [00:01<00:00, 17.52it/s]\n",
      "100%|██████████| 30/30 [00:01<00:00, 23.69it/s]\n",
      "100%|██████████| 30/30 [00:01<00:00, 23.81it/s]\n",
      "100%|██████████| 30/30 [00:01<00:00, 23.95it/s]\n",
      " 10%|█         | 3/30 [00:00<00:01, 20.86it/s]"
     ]
    },
    {
     "name": "stdout",
     "output_type": "stream",
     "text": [
      "Epoch = 39, loss = 0.4939489862545737, top 1 = 0.0, top 5 = 0.0008, top 10 = 0.0016000000000000003\n"
     ]
    },
    {
     "name": "stderr",
     "output_type": "stream",
     "text": [
      "100%|██████████| 30/30 [00:01<00:00, 18.67it/s]\n",
      "100%|██████████| 30/30 [00:01<00:00, 23.80it/s]\n",
      "100%|██████████| 30/30 [00:01<00:00, 23.94it/s]\n",
      "100%|██████████| 30/30 [00:01<00:00, 23.54it/s]\n",
      " 10%|█         | 3/30 [00:00<00:01, 20.53it/s]"
     ]
    },
    {
     "name": "stdout",
     "output_type": "stream",
     "text": [
      "Epoch = 40, loss = 0.48877037164221504, top 1 = 0.0, top 5 = 0.0009333333333333333, top 10 = 0.0011333333333333334\n"
     ]
    },
    {
     "name": "stderr",
     "output_type": "stream",
     "text": [
      "100%|██████████| 30/30 [00:01<00:00, 17.59it/s]\n",
      "100%|██████████| 30/30 [00:01<00:00, 23.68it/s]\n",
      "100%|██████████| 30/30 [00:01<00:00, 24.04it/s]\n",
      "100%|██████████| 30/30 [00:01<00:00, 25.70it/s]\n",
      "  0%|          | 0/30 [00:00<?, ?it/s]"
     ]
    },
    {
     "name": "stdout",
     "output_type": "stream",
     "text": [
      "Epoch = 41, loss = 0.4930964641659897, top 1 = 0.0, top 5 = 0.0009333333333333333, top 10 = 0.001733333333333334\n"
     ]
    },
    {
     "name": "stderr",
     "output_type": "stream",
     "text": [
      "100%|██████████| 30/30 [00:01<00:00, 17.52it/s]\n",
      "100%|██████████| 30/30 [00:01<00:00, 23.77it/s]\n",
      "100%|██████████| 30/30 [00:01<00:00, 24.25it/s]\n",
      "100%|██████████| 30/30 [00:01<00:00, 23.82it/s]\n",
      " 10%|█         | 3/30 [00:00<00:01, 20.83it/s]"
     ]
    },
    {
     "name": "stdout",
     "output_type": "stream",
     "text": [
      "Epoch = 42, loss = 0.48860298938280305, top 1 = 0.0, top 5 = 0.0009333333333333333, top 10 = 0.0012666666666666668\n"
     ]
    },
    {
     "name": "stderr",
     "output_type": "stream",
     "text": [
      "100%|██████████| 30/30 [00:01<00:00, 17.57it/s]\n",
      "100%|██████████| 30/30 [00:01<00:00, 26.06it/s]\n",
      "100%|██████████| 30/30 [00:01<00:00, 23.85it/s]\n",
      "100%|██████████| 30/30 [00:01<00:00, 23.32it/s]\n",
      " 10%|█         | 3/30 [00:00<00:01, 20.77it/s]"
     ]
    },
    {
     "name": "stdout",
     "output_type": "stream",
     "text": [
      "Epoch = 43, loss = 0.49126845460053, top 1 = 0.0, top 5 = 0.0009333333333333333, top 10 = 0.0019333333333333342\n"
     ]
    },
    {
     "name": "stderr",
     "output_type": "stream",
     "text": [
      "100%|██████████| 30/30 [00:01<00:00, 17.64it/s]\n",
      "100%|██████████| 30/30 [00:01<00:00, 23.88it/s]\n",
      "100%|██████████| 30/30 [00:01<00:00, 24.09it/s]\n",
      "100%|██████████| 30/30 [00:01<00:00, 26.10it/s]\n",
      "  7%|▋         | 2/30 [00:00<00:02, 10.95it/s]"
     ]
    },
    {
     "name": "stdout",
     "output_type": "stream",
     "text": [
      "Epoch = 44, loss = 0.48741326439844024, top 1 = 0.0, top 5 = 0.0009333333333333333, top 10 = 0.0012000000000000001\n"
     ]
    },
    {
     "name": "stderr",
     "output_type": "stream",
     "text": [
      "100%|██████████| 30/30 [00:01<00:00, 17.57it/s]\n",
      "100%|██████████| 30/30 [00:01<00:00, 23.60it/s]\n",
      "100%|██████████| 30/30 [00:01<00:00, 23.65it/s]\n",
      "100%|██████████| 30/30 [00:01<00:00, 23.29it/s]\n",
      " 10%|█         | 3/30 [00:00<00:01, 20.67it/s]"
     ]
    },
    {
     "name": "stdout",
     "output_type": "stream",
     "text": [
      "Epoch = 45, loss = 0.4920017872149698, top 1 = 0.0, top 5 = 0.0010666666666666667, top 10 = 0.001866666666666668\n"
     ]
    },
    {
     "name": "stderr",
     "output_type": "stream",
     "text": [
      "100%|██████████| 30/30 [00:01<00:00, 17.60it/s]\n",
      "100%|██████████| 30/30 [00:01<00:00, 25.88it/s]\n",
      "100%|██████████| 30/30 [00:01<00:00, 23.88it/s]\n",
      "100%|██████████| 30/30 [00:01<00:00, 23.85it/s]\n",
      " 10%|█         | 3/30 [00:00<00:01, 21.27it/s]"
     ]
    },
    {
     "name": "stdout",
     "output_type": "stream",
     "text": [
      "Epoch = 46, loss = 0.4884054576767358, top 1 = 0.0, top 5 = 0.0009333333333333333, top 10 = 0.0012666666666666668\n"
     ]
    },
    {
     "name": "stderr",
     "output_type": "stream",
     "text": [
      "100%|██████████| 30/30 [00:01<00:00, 17.55it/s]\n",
      "100%|██████████| 30/30 [00:01<00:00, 24.02it/s]\n",
      "100%|██████████| 30/30 [00:01<00:00, 23.95it/s]\n",
      "100%|██████████| 30/30 [00:01<00:00, 26.24it/s]\n",
      "  3%|▎         | 1/30 [00:00<00:03,  7.33it/s]"
     ]
    },
    {
     "name": "stdout",
     "output_type": "stream",
     "text": [
      "Epoch = 47, loss = 0.49182420186676085, top 1 = 0.0, top 5 = 0.0009333333333333333, top 10 = 0.001866666666666668\n"
     ]
    },
    {
     "name": "stderr",
     "output_type": "stream",
     "text": [
      "100%|██████████| 30/30 [00:01<00:00, 17.50it/s]\n",
      "100%|██████████| 30/30 [00:01<00:00, 23.63it/s]\n",
      "100%|██████████| 30/30 [00:01<00:00, 24.03it/s]\n",
      "100%|██████████| 30/30 [00:01<00:00, 23.81it/s]\n",
      " 10%|█         | 3/30 [00:00<00:01, 21.06it/s]"
     ]
    },
    {
     "name": "stdout",
     "output_type": "stream",
     "text": [
      "Epoch = 48, loss = 0.48820847900314074, top 1 = 0.0, top 5 = 0.0009333333333333333, top 10 = 0.0014666666666666671\n"
     ]
    },
    {
     "name": "stderr",
     "output_type": "stream",
     "text": [
      "100%|██████████| 30/30 [00:01<00:00, 17.58it/s]\n",
      "100%|██████████| 30/30 [00:01<00:00, 23.48it/s]\n",
      "100%|██████████| 30/30 [00:01<00:00, 25.94it/s]\n",
      "100%|██████████| 30/30 [00:01<00:00, 23.64it/s]\n",
      " 10%|█         | 3/30 [00:00<00:01, 20.88it/s]"
     ]
    },
    {
     "name": "stdout",
     "output_type": "stream",
     "text": [
      "Epoch = 49, loss = 0.48945420771134607, top 1 = 0.0, top 5 = 0.0010666666666666667, top 10 = 0.0020000000000000013\n"
     ]
    },
    {
     "name": "stderr",
     "output_type": "stream",
     "text": [
      "100%|██████████| 30/30 [00:01<00:00, 17.54it/s]\n",
      "100%|██████████| 30/30 [00:01<00:00, 23.65it/s]\n",
      "100%|██████████| 30/30 [00:01<00:00, 24.02it/s]\n",
      "100%|██████████| 30/30 [00:01<00:00, 24.00it/s]\n",
      " 10%|█         | 3/30 [00:00<00:01, 20.58it/s]"
     ]
    },
    {
     "name": "stdout",
     "output_type": "stream",
     "text": [
      "Epoch = 50, loss = 0.48743846596699886, top 1 = 0.0, top 5 = 0.0010666666666666667, top 10 = 0.001733333333333334\n"
     ]
    },
    {
     "name": "stderr",
     "output_type": "stream",
     "text": [
      "100%|██████████| 30/30 [00:01<00:00, 18.47it/s]\n",
      "100%|██████████| 30/30 [00:01<00:00, 23.62it/s]\n",
      "100%|██████████| 30/30 [00:01<00:00, 23.93it/s]\n",
      "100%|██████████| 30/30 [00:01<00:00, 23.94it/s]\n",
      " 10%|█         | 3/30 [00:00<00:01, 20.68it/s]"
     ]
    },
    {
     "name": "stdout",
     "output_type": "stream",
     "text": [
      "Epoch = 51, loss = 0.48885917271924334, top 1 = 0.0, top 5 = 0.0009333333333333333, top 10 = 0.001733333333333334\n"
     ]
    },
    {
     "name": "stderr",
     "output_type": "stream",
     "text": [
      "100%|██████████| 30/30 [00:01<00:00, 17.52it/s]\n",
      "100%|██████████| 30/30 [00:01<00:00, 23.70it/s]\n",
      "100%|██████████| 30/30 [00:01<00:00, 26.06it/s]\n",
      "100%|██████████| 30/30 [00:01<00:00, 23.79it/s]\n",
      " 10%|█         | 3/30 [00:00<00:01, 20.88it/s]"
     ]
    },
    {
     "name": "stdout",
     "output_type": "stream",
     "text": [
      "Epoch = 52, loss = 0.48654733125879884, top 1 = 0.0, top 5 = 0.0009333333333333333, top 10 = 0.001733333333333334\n"
     ]
    },
    {
     "name": "stderr",
     "output_type": "stream",
     "text": [
      "100%|██████████| 30/30 [00:01<00:00, 17.51it/s]\n",
      "100%|██████████| 30/30 [00:01<00:00, 23.92it/s]\n",
      "100%|██████████| 30/30 [00:01<00:00, 24.15it/s]\n",
      "100%|██████████| 30/30 [00:01<00:00, 23.91it/s]\n",
      " 10%|█         | 3/30 [00:00<00:01, 20.62it/s]"
     ]
    },
    {
     "name": "stdout",
     "output_type": "stream",
     "text": [
      "Epoch = 53, loss = 0.48867543732687285, top 1 = 0.0, top 5 = 0.0009333333333333333, top 10 = 0.002266666666666667\n"
     ]
    },
    {
     "name": "stderr",
     "output_type": "stream",
     "text": [
      "100%|██████████| 30/30 [00:01<00:00, 18.48it/s]\n",
      "100%|██████████| 30/30 [00:01<00:00, 23.42it/s]\n",
      "100%|██████████| 30/30 [00:01<00:00, 23.97it/s]\n",
      "100%|██████████| 30/30 [00:01<00:00, 23.88it/s]\n",
      " 10%|█         | 3/30 [00:00<00:01, 21.35it/s]"
     ]
    },
    {
     "name": "stdout",
     "output_type": "stream",
     "text": [
      "Epoch = 54, loss = 0.48669922383060765, top 1 = 0.0, top 5 = 0.0010666666666666667, top 10 = 0.001733333333333334\n"
     ]
    },
    {
     "name": "stderr",
     "output_type": "stream",
     "text": [
      "100%|██████████| 30/30 [00:01<00:00, 17.62it/s]\n",
      "100%|██████████| 30/30 [00:01<00:00, 23.79it/s]\n",
      "100%|██████████| 30/30 [00:01<00:00, 26.12it/s]\n",
      "100%|██████████| 30/30 [00:01<00:00, 23.64it/s]\n",
      " 10%|█         | 3/30 [00:00<00:01, 20.59it/s]"
     ]
    },
    {
     "name": "stdout",
     "output_type": "stream",
     "text": [
      "Epoch = 55, loss = 0.4894337036513131, top 1 = 0.0, top 5 = 0.0009333333333333333, top 10 = 0.0026000000000000003\n"
     ]
    },
    {
     "name": "stderr",
     "output_type": "stream",
     "text": [
      "100%|██████████| 30/30 [00:01<00:00, 17.49it/s]\n",
      "100%|██████████| 30/30 [00:01<00:00, 24.00it/s]\n",
      "100%|██████████| 30/30 [00:01<00:00, 23.98it/s]\n",
      "100%|██████████| 30/30 [00:01<00:00, 23.95it/s]\n",
      " 10%|█         | 3/30 [00:00<00:01, 20.89it/s]"
     ]
    },
    {
     "name": "stdout",
     "output_type": "stream",
     "text": [
      "Epoch = 56, loss = 0.4850545822326596, top 1 = 0.0, top 5 = 0.0010666666666666667, top 10 = 0.002066666666666668\n"
     ]
    },
    {
     "name": "stderr",
     "output_type": "stream",
     "text": [
      "100%|██████████| 30/30 [00:01<00:00, 18.51it/s]\n",
      "100%|██████████| 30/30 [00:01<00:00, 23.59it/s]\n",
      "100%|██████████| 30/30 [00:01<00:00, 23.89it/s]\n",
      "100%|██████████| 30/30 [00:01<00:00, 23.91it/s]\n",
      " 10%|█         | 3/30 [00:00<00:01, 21.28it/s]"
     ]
    },
    {
     "name": "stdout",
     "output_type": "stream",
     "text": [
      "Epoch = 57, loss = 0.4870773421548167, top 1 = 0.0, top 5 = 0.0009333333333333333, top 10 = 0.0022\n"
     ]
    },
    {
     "name": "stderr",
     "output_type": "stream",
     "text": [
      "100%|██████████| 30/30 [00:01<00:00, 17.55it/s]\n",
      "100%|██████████| 30/30 [00:01<00:00, 23.76it/s]\n",
      "100%|██████████| 30/30 [00:01<00:00, 24.13it/s]\n",
      "100%|██████████| 30/30 [00:01<00:00, 25.49it/s]\n",
      "  0%|          | 0/30 [00:00<?, ?it/s]"
     ]
    },
    {
     "name": "stdout",
     "output_type": "stream",
     "text": [
      "Epoch = 58, loss = 0.48533410191145215, top 1 = 0.0, top 5 = 0.0010666666666666667, top 10 = 0.0020666666666666676\n"
     ]
    },
    {
     "name": "stderr",
     "output_type": "stream",
     "text": [
      "100%|██████████| 30/30 [00:01<00:00, 17.49it/s]\n",
      "100%|██████████| 30/30 [00:01<00:00, 23.79it/s]\n",
      "100%|██████████| 30/30 [00:01<00:00, 24.07it/s]\n",
      "100%|██████████| 30/30 [00:01<00:00, 23.84it/s]\n",
      " 10%|█         | 3/30 [00:00<00:01, 20.69it/s]"
     ]
    },
    {
     "name": "stdout",
     "output_type": "stream",
     "text": [
      "Epoch = 59, loss = 0.4871162198933243, top 1 = 0.0, top 5 = 0.0008, top 10 = 0.002466666666666667\n"
     ]
    },
    {
     "name": "stderr",
     "output_type": "stream",
     "text": [
      "100%|██████████| 30/30 [00:01<00:00, 17.50it/s]\n",
      "100%|██████████| 30/30 [00:01<00:00, 25.40it/s]\n",
      "100%|██████████| 30/30 [00:01<00:00, 24.03it/s]\n",
      "100%|██████████| 30/30 [00:01<00:00, 24.00it/s]\n",
      " 10%|█         | 3/30 [00:00<00:01, 20.79it/s]"
     ]
    },
    {
     "name": "stdout",
     "output_type": "stream",
     "text": [
      "Epoch = 60, loss = 0.48482864929065633, top 1 = 0.0, top 5 = 0.0008, top 10 = 0.0022666666666666673\n"
     ]
    },
    {
     "name": "stderr",
     "output_type": "stream",
     "text": [
      "100%|██████████| 30/30 [00:01<00:00, 17.63it/s]\n",
      "100%|██████████| 30/30 [00:01<00:00, 23.92it/s]\n",
      "100%|██████████| 30/30 [00:01<00:00, 24.08it/s]\n",
      "100%|██████████| 30/30 [00:01<00:00, 25.80it/s]\n",
      "  3%|▎         | 1/30 [00:00<00:04,  6.41it/s]"
     ]
    },
    {
     "name": "stdout",
     "output_type": "stream",
     "text": [
      "Epoch = 61, loss = 0.4867550359948399, top 1 = 0.0, top 5 = 0.0008, top 10 = 0.002533333333333334\n"
     ]
    },
    {
     "name": "stderr",
     "output_type": "stream",
     "text": [
      "100%|██████████| 30/30 [00:01<00:00, 17.41it/s]\n",
      "100%|██████████| 30/30 [00:01<00:00, 23.53it/s]\n",
      "100%|██████████| 30/30 [00:01<00:00, 23.65it/s]\n",
      "100%|██████████| 30/30 [00:01<00:00, 23.98it/s]\n",
      " 10%|█         | 3/30 [00:00<00:01, 21.24it/s]"
     ]
    },
    {
     "name": "stdout",
     "output_type": "stream",
     "text": [
      "Epoch = 62, loss = 0.4844771289739283, top 1 = 0.0, top 5 = 0.0008, top 10 = 0.0022000000000000006\n"
     ]
    },
    {
     "name": "stderr",
     "output_type": "stream",
     "text": [
      "100%|██████████| 30/30 [00:01<00:00, 17.64it/s]\n",
      "100%|██████████| 30/30 [00:01<00:00, 23.56it/s]\n",
      "100%|██████████| 30/30 [00:01<00:00, 26.19it/s]\n",
      "100%|██████████| 30/30 [00:01<00:00, 23.97it/s]\n",
      " 10%|█         | 3/30 [00:00<00:01, 20.84it/s]"
     ]
    },
    {
     "name": "stdout",
     "output_type": "stream",
     "text": [
      "Epoch = 63, loss = 0.48747828057997494, top 1 = 0.0, top 5 = 0.0009333333333333333, top 10 = 0.0021333333333333334\n"
     ]
    },
    {
     "name": "stderr",
     "output_type": "stream",
     "text": [
      "100%|██████████| 30/30 [00:01<00:00, 17.60it/s]\n",
      "100%|██████████| 30/30 [00:01<00:00, 23.81it/s]\n",
      "100%|██████████| 30/30 [00:01<00:00, 23.78it/s]\n",
      "100%|██████████| 30/30 [00:01<00:00, 23.79it/s]\n",
      "  7%|▋         | 2/30 [00:00<00:01, 19.14it/s]"
     ]
    },
    {
     "name": "stdout",
     "output_type": "stream",
     "text": [
      "Epoch = 64, loss = 0.48652448956960426, top 1 = 0.0, top 5 = 0.0008, top 10 = 0.002333333333333334\n"
     ]
    },
    {
     "name": "stderr",
     "output_type": "stream",
     "text": [
      "100%|██████████| 30/30 [00:01<00:00, 18.61it/s]\n",
      "100%|██████████| 30/30 [00:01<00:00, 23.95it/s]\n",
      "100%|██████████| 30/30 [00:01<00:00, 24.20it/s]\n",
      "100%|██████████| 30/30 [00:01<00:00, 24.22it/s]\n",
      " 10%|█         | 3/30 [00:00<00:01, 21.39it/s]"
     ]
    },
    {
     "name": "stdout",
     "output_type": "stream",
     "text": [
      "Epoch = 65, loss = 0.48702612738441314, top 1 = 0.0, top 5 = 0.0008, top 10 = 0.002466666666666667\n"
     ]
    },
    {
     "name": "stderr",
     "output_type": "stream",
     "text": [
      "100%|██████████| 30/30 [00:01<00:00, 17.62it/s]\n",
      "100%|██████████| 30/30 [00:01<00:00, 23.71it/s]\n",
      "100%|██████████| 30/30 [00:01<00:00, 26.19it/s]\n",
      "100%|██████████| 30/30 [00:01<00:00, 23.98it/s]\n",
      " 10%|█         | 3/30 [00:00<00:01, 20.78it/s]"
     ]
    },
    {
     "name": "stdout",
     "output_type": "stream",
     "text": [
      "Epoch = 66, loss = 0.48525606093667417, top 1 = 0.0, top 5 = 0.0008, top 10 = 0.0022666666666666673\n"
     ]
    },
    {
     "name": "stderr",
     "output_type": "stream",
     "text": [
      "100%|██████████| 30/30 [00:01<00:00, 17.43it/s]\n",
      "100%|██████████| 30/30 [00:01<00:00, 24.02it/s]\n",
      "100%|██████████| 30/30 [00:01<00:00, 24.05it/s]\n",
      "100%|██████████| 30/30 [00:01<00:00, 24.09it/s]\n",
      " 10%|█         | 3/30 [00:00<00:01, 20.84it/s]"
     ]
    },
    {
     "name": "stdout",
     "output_type": "stream",
     "text": [
      "Epoch = 67, loss = 0.4865156544142681, top 1 = 0.0, top 5 = 0.0008, top 10 = 0.0025333333333333336\n"
     ]
    },
    {
     "name": "stderr",
     "output_type": "stream",
     "text": [
      "100%|██████████| 30/30 [00:01<00:00, 18.55it/s]\n",
      "100%|██████████| 30/30 [00:01<00:00, 23.32it/s]\n",
      "100%|██████████| 30/30 [00:01<00:00, 24.10it/s]\n",
      "100%|██████████| 30/30 [00:01<00:00, 23.82it/s]\n",
      " 10%|█         | 3/30 [00:00<00:01, 20.76it/s]"
     ]
    },
    {
     "name": "stdout",
     "output_type": "stream",
     "text": [
      "Epoch = 68, loss = 0.48490737480127594, top 1 = 0.0, top 5 = 0.0008, top 10 = 0.002333333333333334\n"
     ]
    },
    {
     "name": "stderr",
     "output_type": "stream",
     "text": [
      "100%|██████████| 30/30 [00:01<00:00, 17.41it/s]\n",
      "100%|██████████| 30/30 [00:01<00:00, 23.59it/s]\n",
      "100%|██████████| 30/30 [00:01<00:00, 25.99it/s]\n",
      "100%|██████████| 30/30 [00:01<00:00, 23.98it/s]\n",
      " 10%|█         | 3/30 [00:00<00:01, 20.93it/s]"
     ]
    },
    {
     "name": "stdout",
     "output_type": "stream",
     "text": [
      "Epoch = 69, loss = 0.4856792683646978, top 1 = 0.0, top 5 = 0.0008, top 10 = 0.0026000000000000003\n"
     ]
    },
    {
     "name": "stderr",
     "output_type": "stream",
     "text": [
      "100%|██████████| 30/30 [00:01<00:00, 17.59it/s]\n",
      "100%|██████████| 30/30 [00:01<00:00, 23.87it/s]\n",
      "100%|██████████| 30/30 [00:01<00:00, 24.18it/s]\n",
      "100%|██████████| 30/30 [00:01<00:00, 23.96it/s]\n",
      " 10%|█         | 3/30 [00:00<00:01, 20.96it/s]"
     ]
    },
    {
     "name": "stdout",
     "output_type": "stream",
     "text": [
      "Epoch = 70, loss = 0.4846160152967294, top 1 = 0.0, top 5 = 0.0008, top 10 = 0.0028000000000000013\n"
     ]
    },
    {
     "name": "stderr",
     "output_type": "stream",
     "text": [
      "100%|██████████| 30/30 [00:01<00:00, 18.61it/s]\n",
      "100%|██████████| 30/30 [00:01<00:00, 23.43it/s]\n",
      "100%|██████████| 30/30 [00:01<00:00, 23.98it/s]\n",
      "100%|██████████| 30/30 [00:01<00:00, 24.12it/s]\n",
      " 10%|█         | 3/30 [00:00<00:01, 20.84it/s]"
     ]
    },
    {
     "name": "stdout",
     "output_type": "stream",
     "text": [
      "Epoch = 71, loss = 0.48500652879112877, top 1 = 0.0, top 5 = 0.0008, top 10 = 0.0024666666666666674\n"
     ]
    },
    {
     "name": "stderr",
     "output_type": "stream",
     "text": [
      "100%|██████████| 30/30 [00:01<00:00, 17.62it/s]\n",
      "100%|██████████| 30/30 [00:01<00:00, 23.52it/s]\n",
      "100%|██████████| 30/30 [00:01<00:00, 23.95it/s]\n",
      "100%|██████████| 30/30 [00:01<00:00, 25.82it/s]\n",
      "  0%|          | 0/30 [00:00<?, ?it/s]"
     ]
    },
    {
     "name": "stdout",
     "output_type": "stream",
     "text": [
      "Epoch = 72, loss = 0.4837497892398173, top 1 = 0.0, top 5 = 0.0009333333333333333, top 10 = 0.003600000000000001\n"
     ]
    },
    {
     "name": "stderr",
     "output_type": "stream",
     "text": [
      "100%|██████████| 30/30 [00:01<00:00, 17.47it/s]\n",
      "100%|██████████| 30/30 [00:01<00:00, 23.93it/s]\n",
      "100%|██████████| 30/30 [00:01<00:00, 24.03it/s]\n",
      "100%|██████████| 30/30 [00:01<00:00, 23.83it/s]\n",
      " 10%|█         | 3/30 [00:00<00:01, 20.29it/s]"
     ]
    },
    {
     "name": "stdout",
     "output_type": "stream",
     "text": [
      "Epoch = 73, loss = 0.48432099698146514, top 1 = 0.0, top 5 = 0.0008, top 10 = 0.0032000000000000015\n"
     ]
    },
    {
     "name": "stderr",
     "output_type": "stream",
     "text": [
      "100%|██████████| 30/30 [00:01<00:00, 17.31it/s]\n",
      "100%|██████████| 30/30 [00:01<00:00, 25.98it/s]\n",
      "100%|██████████| 30/30 [00:01<00:00, 23.98it/s]\n",
      "100%|██████████| 30/30 [00:01<00:00, 23.77it/s]\n",
      " 10%|█         | 3/30 [00:00<00:01, 20.68it/s]"
     ]
    },
    {
     "name": "stdout",
     "output_type": "stream",
     "text": [
      "Epoch = 74, loss = 0.48321527272635934, top 1 = 0.0, top 5 = 0.0009333333333333333, top 10 = 0.0030000000000000014\n"
     ]
    },
    {
     "name": "stderr",
     "output_type": "stream",
     "text": [
      "100%|██████████| 30/30 [00:01<00:00, 17.46it/s]\n",
      "100%|██████████| 30/30 [00:01<00:00, 23.68it/s]\n",
      "100%|██████████| 30/30 [00:01<00:00, 23.98it/s]\n",
      "100%|██████████| 30/30 [00:01<00:00, 26.04it/s]\n",
      "  7%|▋         | 2/30 [00:00<00:02, 11.30it/s]"
     ]
    },
    {
     "name": "stdout",
     "output_type": "stream",
     "text": [
      "Epoch = 75, loss = 0.4838249901146997, top 1 = 0.0, top 5 = 0.0008, top 10 = 0.003333333333333335\n"
     ]
    },
    {
     "name": "stderr",
     "output_type": "stream",
     "text": [
      "100%|██████████| 30/30 [00:01<00:00, 17.62it/s]\n",
      "100%|██████████| 30/30 [00:01<00:00, 23.81it/s]\n",
      "100%|██████████| 30/30 [00:01<00:00, 23.92it/s]\n",
      "100%|██████████| 30/30 [00:01<00:00, 23.98it/s]\n",
      " 10%|█         | 3/30 [00:00<00:01, 21.10it/s]"
     ]
    },
    {
     "name": "stdout",
     "output_type": "stream",
     "text": [
      "Epoch = 76, loss = 0.4844264624719078, top 1 = 0.0, top 5 = 0.0009333333333333333, top 10 = 0.0031333333333333348\n"
     ]
    },
    {
     "name": "stderr",
     "output_type": "stream",
     "text": [
      "100%|██████████| 30/30 [00:01<00:00, 17.50it/s]\n",
      "100%|██████████| 30/30 [00:01<00:00, 25.93it/s]\n",
      "100%|██████████| 30/30 [00:01<00:00, 23.97it/s]\n",
      "100%|██████████| 30/30 [00:01<00:00, 23.63it/s]\n",
      " 10%|█         | 3/30 [00:00<00:01, 20.95it/s]"
     ]
    },
    {
     "name": "stdout",
     "output_type": "stream",
     "text": [
      "Epoch = 77, loss = 0.4848875463364867, top 1 = 0.0, top 5 = 0.0008, top 10 = 0.0034000000000000015\n"
     ]
    },
    {
     "name": "stderr",
     "output_type": "stream",
     "text": [
      "100%|██████████| 30/30 [00:01<00:00, 17.58it/s]\n",
      "100%|██████████| 30/30 [00:01<00:00, 23.82it/s]\n",
      "100%|██████████| 30/30 [00:01<00:00, 23.44it/s]\n",
      "100%|██████████| 30/30 [00:01<00:00, 25.94it/s]\n",
      "  3%|▎         | 1/30 [00:00<00:04,  7.08it/s]"
     ]
    },
    {
     "name": "stdout",
     "output_type": "stream",
     "text": [
      "Epoch = 78, loss = 0.48281848177449393, top 1 = 0.0, top 5 = 0.0009333333333333333, top 10 = 0.003266666666666668\n"
     ]
    },
    {
     "name": "stderr",
     "output_type": "stream",
     "text": [
      "100%|██████████| 30/30 [00:01<00:00, 17.47it/s]\n",
      "100%|██████████| 30/30 [00:01<00:00, 22.91it/s]\n",
      "100%|██████████| 30/30 [00:01<00:00, 23.48it/s]\n",
      "100%|██████████| 30/30 [00:01<00:00, 23.73it/s]\n",
      " 10%|█         | 3/30 [00:00<00:01, 20.79it/s]"
     ]
    },
    {
     "name": "stdout",
     "output_type": "stream",
     "text": [
      "Epoch = 79, loss = 0.4832091318303932, top 1 = 0.0, top 5 = 0.0008, top 10 = 0.0025333333333333336\n"
     ]
    },
    {
     "name": "stderr",
     "output_type": "stream",
     "text": [
      "100%|██████████| 30/30 [00:01<00:00, 17.45it/s]\n",
      "100%|██████████| 30/30 [00:01<00:00, 23.83it/s]\n",
      "100%|██████████| 30/30 [00:01<00:00, 25.82it/s]\n",
      "100%|██████████| 30/30 [00:01<00:00, 23.92it/s]\n",
      " 10%|█         | 3/30 [00:00<00:01, 21.31it/s]"
     ]
    },
    {
     "name": "stdout",
     "output_type": "stream",
     "text": [
      "Epoch = 80, loss = 0.4832206066552313, top 1 = 0.0, top 5 = 0.0009333333333333333, top 10 = 0.003266666666666668\n"
     ]
    },
    {
     "name": "stderr",
     "output_type": "stream",
     "text": [
      "100%|██████████| 30/30 [00:01<00:00, 17.55it/s]\n",
      "100%|██████████| 30/30 [00:01<00:00, 23.32it/s]\n",
      "100%|██████████| 30/30 [00:01<00:00, 23.89it/s]\n",
      "100%|██████████| 30/30 [00:01<00:00, 22.85it/s]\n",
      " 10%|█         | 3/30 [00:00<00:01, 19.95it/s]"
     ]
    },
    {
     "name": "stdout",
     "output_type": "stream",
     "text": [
      "Epoch = 81, loss = 0.4847979457726547, top 1 = 0.0, top 5 = 0.0008, top 10 = 0.0025333333333333336\n"
     ]
    },
    {
     "name": "stderr",
     "output_type": "stream",
     "text": [
      "100%|██████████| 30/30 [00:01<00:00, 18.22it/s]\n",
      "100%|██████████| 30/30 [00:01<00:00, 23.20it/s]\n",
      "100%|██████████| 30/30 [00:01<00:00, 23.61it/s]\n",
      "100%|██████████| 30/30 [00:01<00:00, 22.79it/s]\n",
      "  7%|▋         | 2/30 [00:00<00:01, 19.32it/s]"
     ]
    },
    {
     "name": "stdout",
     "output_type": "stream",
     "text": [
      "Epoch = 82, loss = 0.4835326206899998, top 1 = 0.0, top 5 = 0.0009333333333333333, top 10 = 0.0032000000000000015\n"
     ]
    },
    {
     "name": "stderr",
     "output_type": "stream",
     "text": [
      "100%|██████████| 30/30 [00:01<00:00, 17.45it/s]\n",
      "100%|██████████| 30/30 [00:01<00:00, 23.66it/s]\n",
      "100%|██████████| 30/30 [00:01<00:00, 26.06it/s]\n",
      "100%|██████████| 30/30 [00:01<00:00, 23.78it/s]\n",
      " 10%|█         | 3/30 [00:00<00:01, 20.44it/s]"
     ]
    },
    {
     "name": "stdout",
     "output_type": "stream",
     "text": [
      "Epoch = 83, loss = 0.48448369875872266, top 1 = 0.0, top 5 = 0.0009333333333333333, top 10 = 0.002466666666666667\n"
     ]
    },
    {
     "name": "stderr",
     "output_type": "stream",
     "text": [
      "100%|██████████| 30/30 [00:01<00:00, 17.32it/s]\n",
      "100%|██████████| 30/30 [00:01<00:00, 23.25it/s]\n",
      "100%|██████████| 30/30 [00:01<00:00, 24.05it/s]\n",
      "100%|██████████| 30/30 [00:01<00:00, 23.53it/s]\n",
      " 10%|█         | 3/30 [00:00<00:01, 20.76it/s]"
     ]
    },
    {
     "name": "stdout",
     "output_type": "stream",
     "text": [
      "Epoch = 84, loss = 0.48294495123498926, top 1 = 0.0, top 5 = 0.0009333333333333333, top 10 = 0.0031333333333333348\n"
     ]
    },
    {
     "name": "stderr",
     "output_type": "stream",
     "text": [
      "100%|██████████| 30/30 [00:01<00:00, 18.39it/s]\n",
      "100%|██████████| 30/30 [00:01<00:00, 23.00it/s]\n",
      "100%|██████████| 30/30 [00:01<00:00, 23.61it/s]\n",
      "100%|██████████| 30/30 [00:01<00:00, 23.22it/s]\n",
      " 10%|█         | 3/30 [00:00<00:01, 21.19it/s]"
     ]
    },
    {
     "name": "stdout",
     "output_type": "stream",
     "text": [
      "Epoch = 85, loss = 0.48321713142683737, top 1 = 0.0, top 5 = 0.0010666666666666667, top 10 = 0.0025333333333333336\n"
     ]
    },
    {
     "name": "stderr",
     "output_type": "stream",
     "text": [
      "100%|██████████| 30/30 [00:01<00:00, 17.61it/s]\n",
      "100%|██████████| 30/30 [00:01<00:00, 23.25it/s]\n",
      "100%|██████████| 30/30 [00:01<00:00, 25.96it/s]\n",
      "100%|██████████| 30/30 [00:01<00:00, 24.05it/s]\n",
      " 10%|█         | 3/30 [00:00<00:01, 21.12it/s]"
     ]
    },
    {
     "name": "stdout",
     "output_type": "stream",
     "text": [
      "Epoch = 86, loss = 0.4823337553969846, top 1 = 0.0, top 5 = 0.0010666666666666667, top 10 = 0.0029333333333333347\n"
     ]
    },
    {
     "name": "stderr",
     "output_type": "stream",
     "text": [
      "100%|██████████| 30/30 [00:01<00:00, 17.41it/s]\n",
      "100%|██████████| 30/30 [00:01<00:00, 23.65it/s]\n",
      "100%|██████████| 30/30 [00:01<00:00, 24.10it/s]\n",
      "100%|██████████| 30/30 [00:01<00:00, 24.10it/s]\n",
      " 10%|█         | 3/30 [00:00<00:01, 20.83it/s]"
     ]
    },
    {
     "name": "stdout",
     "output_type": "stream",
     "text": [
      "Epoch = 87, loss = 0.4842005037801937, top 1 = 0.0, top 5 = 0.0008, top 10 = 0.0029333333333333347\n"
     ]
    },
    {
     "name": "stderr",
     "output_type": "stream",
     "text": [
      "100%|██████████| 30/30 [00:01<00:00, 18.51it/s]\n",
      "100%|██████████| 30/30 [00:01<00:00, 23.93it/s]\n",
      "100%|██████████| 30/30 [00:01<00:00, 24.11it/s]\n",
      "100%|██████████| 30/30 [00:01<00:00, 23.63it/s]\n",
      " 10%|█         | 3/30 [00:00<00:01, 21.27it/s]"
     ]
    },
    {
     "name": "stdout",
     "output_type": "stream",
     "text": [
      "Epoch = 88, loss = 0.4822666150326519, top 1 = 0.0, top 5 = 0.0009333333333333333, top 10 = 0.003666666666666668\n"
     ]
    },
    {
     "name": "stderr",
     "output_type": "stream",
     "text": [
      "100%|██████████| 30/30 [00:01<00:00, 17.60it/s]\n",
      "100%|██████████| 30/30 [00:01<00:00, 23.96it/s]\n",
      "100%|██████████| 30/30 [00:01<00:00, 24.20it/s]\n",
      "100%|██████████| 30/30 [00:01<00:00, 26.07it/s]\n",
      "  7%|▋         | 2/30 [00:00<00:02, 10.58it/s]"
     ]
    },
    {
     "name": "stdout",
     "output_type": "stream",
     "text": [
      "Epoch = 89, loss = 0.48306162253298696, top 1 = 0.0, top 5 = 0.0008, top 10 = 0.0029333333333333347\n"
     ]
    },
    {
     "name": "stderr",
     "output_type": "stream",
     "text": [
      "100%|██████████| 30/30 [00:01<00:00, 17.57it/s]\n",
      "100%|██████████| 30/30 [00:01<00:00, 23.32it/s]\n",
      "100%|██████████| 30/30 [00:01<00:00, 23.97it/s]\n",
      "100%|██████████| 30/30 [00:01<00:00, 24.15it/s]\n",
      " 10%|█         | 3/30 [00:00<00:01, 20.99it/s]"
     ]
    },
    {
     "name": "stdout",
     "output_type": "stream",
     "text": [
      "Epoch = 90, loss = 0.4813416762945167, top 1 = 0.0, top 5 = 0.0009333333333333333, top 10 = 0.0037333333333333346\n"
     ]
    },
    {
     "name": "stderr",
     "output_type": "stream",
     "text": [
      "100%|██████████| 30/30 [00:01<00:00, 17.61it/s]\n",
      "100%|██████████| 30/30 [00:01<00:00, 25.73it/s]\n",
      "100%|██████████| 30/30 [00:01<00:00, 24.05it/s]\n",
      "100%|██████████| 30/30 [00:01<00:00, 24.04it/s]\n",
      " 10%|█         | 3/30 [00:00<00:01, 20.40it/s]"
     ]
    },
    {
     "name": "stdout",
     "output_type": "stream",
     "text": [
      "Epoch = 91, loss = 0.4822709332944816, top 1 = 0.0, top 5 = 0.0008, top 10 = 0.0032000000000000015\n"
     ]
    },
    {
     "name": "stderr",
     "output_type": "stream",
     "text": [
      "100%|██████████| 30/30 [00:01<00:00, 17.64it/s]\n",
      "100%|██████████| 30/30 [00:01<00:00, 23.87it/s]\n",
      "100%|██████████| 30/30 [00:01<00:00, 24.08it/s]\n",
      "100%|██████████| 30/30 [00:01<00:00, 26.12it/s]\n",
      "  3%|▎         | 1/30 [00:00<00:04,  7.13it/s]"
     ]
    },
    {
     "name": "stdout",
     "output_type": "stream",
     "text": [
      "Epoch = 92, loss = 0.48203872068139175, top 1 = 0.0, top 5 = 0.0009333333333333333, top 10 = 0.0026000000000000007\n"
     ]
    },
    {
     "name": "stderr",
     "output_type": "stream",
     "text": [
      "100%|██████████| 30/30 [00:01<00:00, 17.63it/s]\n",
      "100%|██████████| 30/30 [00:01<00:00, 23.67it/s]\n",
      "100%|██████████| 30/30 [00:01<00:00, 23.84it/s]\n",
      "100%|██████████| 30/30 [00:01<00:00, 23.90it/s]\n",
      " 10%|█         | 3/30 [00:00<00:01, 20.79it/s]"
     ]
    },
    {
     "name": "stdout",
     "output_type": "stream",
     "text": [
      "Epoch = 93, loss = 0.48413851722503265, top 1 = 0.0, top 5 = 0.0009333333333333333, top 10 = 0.003200000000000001\n"
     ]
    },
    {
     "name": "stderr",
     "output_type": "stream",
     "text": [
      "100%|██████████| 30/30 [00:01<00:00, 17.56it/s]\n",
      "100%|██████████| 30/30 [00:01<00:00, 23.87it/s]\n",
      "100%|██████████| 30/30 [00:01<00:00, 25.89it/s]\n",
      "100%|██████████| 30/30 [00:01<00:00, 24.17it/s]\n",
      " 10%|█         | 3/30 [00:00<00:01, 20.65it/s]"
     ]
    },
    {
     "name": "stdout",
     "output_type": "stream",
     "text": [
      "Epoch = 94, loss = 0.4827906760982332, top 1 = 0.0, top 5 = 0.0008, top 10 = 0.0030000000000000014\n"
     ]
    },
    {
     "name": "stderr",
     "output_type": "stream",
     "text": [
      "100%|██████████| 30/30 [00:01<00:00, 17.59it/s]\n",
      "100%|██████████| 30/30 [00:01<00:00, 23.65it/s]\n",
      "100%|██████████| 30/30 [00:01<00:00, 24.20it/s]\n",
      "100%|██████████| 30/30 [00:01<00:00, 24.10it/s]\n",
      " 10%|█         | 3/30 [00:00<00:01, 21.16it/s]"
     ]
    },
    {
     "name": "stdout",
     "output_type": "stream",
     "text": [
      "Epoch = 95, loss = 0.4834535874206086, top 1 = 0.0, top 5 = 0.0010666666666666667, top 10 = 0.0030000000000000014\n"
     ]
    },
    {
     "name": "stderr",
     "output_type": "stream",
     "text": [
      "100%|██████████| 30/30 [00:01<00:00, 18.62it/s]\n",
      "100%|██████████| 30/30 [00:01<00:00, 23.68it/s]\n",
      "100%|██████████| 30/30 [00:01<00:00, 23.41it/s]\n",
      "100%|██████████| 30/30 [00:01<00:00, 23.48it/s]\n",
      " 10%|█         | 3/30 [00:00<00:01, 21.15it/s]"
     ]
    },
    {
     "name": "stdout",
     "output_type": "stream",
     "text": [
      "Epoch = 96, loss = 0.48321873011749, top 1 = 0.0, top 5 = 0.0008, top 10 = 0.0032000000000000015\n"
     ]
    },
    {
     "name": "stderr",
     "output_type": "stream",
     "text": [
      "100%|██████████| 30/30 [00:01<00:00, 17.59it/s]\n",
      "100%|██████████| 30/30 [00:01<00:00, 23.76it/s]\n",
      "100%|██████████| 30/30 [00:01<00:00, 26.11it/s]\n",
      "100%|██████████| 30/30 [00:01<00:00, 24.12it/s]\n",
      " 10%|█         | 3/30 [00:00<00:01, 20.84it/s]"
     ]
    },
    {
     "name": "stdout",
     "output_type": "stream",
     "text": [
      "Epoch = 97, loss = 0.4832198841558227, top 1 = 0.0, top 5 = 0.0010666666666666667, top 10 = 0.0027333333333333346\n"
     ]
    },
    {
     "name": "stderr",
     "output_type": "stream",
     "text": [
      "100%|██████████| 30/30 [00:01<00:00, 17.44it/s]\n",
      "100%|██████████| 30/30 [00:01<00:00, 23.69it/s]\n",
      "100%|██████████| 30/30 [00:01<00:00, 24.14it/s]\n",
      "100%|██████████| 30/30 [00:01<00:00, 24.13it/s]\n",
      " 10%|█         | 3/30 [00:00<00:01, 20.52it/s]"
     ]
    },
    {
     "name": "stdout",
     "output_type": "stream",
     "text": [
      "Epoch = 98, loss = 0.4819004302317921, top 1 = 0.0, top 5 = 0.0009333333333333333, top 10 = 0.004066666666666668\n"
     ]
    },
    {
     "name": "stderr",
     "output_type": "stream",
     "text": [
      "100%|██████████| 30/30 [00:01<00:00, 18.59it/s]\n",
      "100%|██████████| 30/30 [00:01<00:00, 23.99it/s]\n",
      "100%|██████████| 30/30 [00:01<00:00, 23.81it/s]\n",
      "100%|██████████| 30/30 [00:01<00:00, 24.00it/s]\n",
      " 10%|█         | 3/30 [00:00<00:01, 21.19it/s]"
     ]
    },
    {
     "name": "stdout",
     "output_type": "stream",
     "text": [
      "Epoch = 99, loss = 0.4827179104000919, top 1 = 0.0, top 5 = 0.0009333333333333333, top 10 = 0.0032000000000000015\n"
     ]
    },
    {
     "name": "stderr",
     "output_type": "stream",
     "text": [
      "100%|██████████| 30/30 [00:01<00:00, 17.62it/s]\n",
      "100%|██████████| 30/30 [00:01<00:00, 23.91it/s]\n",
      "100%|██████████| 30/30 [00:01<00:00, 26.01it/s]\n",
      "100%|██████████| 30/30 [00:01<00:00, 24.06it/s]\n",
      " 10%|█         | 3/30 [00:00<00:01, 21.14it/s]"
     ]
    },
    {
     "name": "stdout",
     "output_type": "stream",
     "text": [
      "Epoch = 100, loss = 0.48157435007792604, top 1 = 0.0, top 5 = 0.0008, top 10 = 0.0032000000000000015\n"
     ]
    },
    {
     "name": "stderr",
     "output_type": "stream",
     "text": [
      "100%|██████████| 30/30 [00:01<00:00, 17.52it/s]\n",
      "100%|██████████| 30/30 [00:01<00:00, 23.86it/s]\n",
      "100%|██████████| 30/30 [00:01<00:00, 23.57it/s]\n",
      "100%|██████████| 30/30 [00:01<00:00, 24.02it/s]\n",
      " 10%|█         | 3/30 [00:00<00:01, 21.43it/s]"
     ]
    },
    {
     "name": "stdout",
     "output_type": "stream",
     "text": [
      "Epoch = 101, loss = 0.4833859342902443, top 1 = 0.0, top 5 = 0.0009333333333333333, top 10 = 0.003800000000000002\n"
     ]
    },
    {
     "name": "stderr",
     "output_type": "stream",
     "text": [
      "100%|██████████| 30/30 [00:01<00:00, 18.68it/s]\n",
      "100%|██████████| 30/30 [00:01<00:00, 23.98it/s]\n",
      "100%|██████████| 30/30 [00:01<00:00, 23.35it/s]\n",
      "100%|██████████| 30/30 [00:01<00:00, 24.12it/s]\n",
      " 10%|█         | 3/30 [00:00<00:01, 20.76it/s]"
     ]
    },
    {
     "name": "stdout",
     "output_type": "stream",
     "text": [
      "Epoch = 102, loss = 0.4816456999772892, top 1 = 0.0, top 5 = 0.0008, top 10 = 0.003933333333333335\n"
     ]
    },
    {
     "name": "stderr",
     "output_type": "stream",
     "text": [
      "100%|██████████| 30/30 [00:01<00:00, 17.57it/s]\n",
      "100%|██████████| 30/30 [00:01<00:00, 23.45it/s]\n",
      "100%|██████████| 30/30 [00:01<00:00, 23.58it/s]\n",
      "100%|██████████| 30/30 [00:01<00:00, 25.48it/s]\n",
      "  0%|          | 0/30 [00:00<?, ?it/s]"
     ]
    },
    {
     "name": "stdout",
     "output_type": "stream",
     "text": [
      "Epoch = 103, loss = 0.48267914248570026, top 1 = 0.0, top 5 = 0.0009333333333333333, top 10 = 0.0036000000000000016\n"
     ]
    },
    {
     "name": "stderr",
     "output_type": "stream",
     "text": [
      "100%|██████████| 30/30 [00:01<00:00, 17.46it/s]\n",
      "100%|██████████| 30/30 [00:01<00:00, 23.90it/s]\n",
      "100%|██████████| 30/30 [00:01<00:00, 24.11it/s]\n",
      "100%|██████████| 30/30 [00:01<00:00, 23.93it/s]\n",
      " 10%|█         | 3/30 [00:00<00:01, 21.32it/s]"
     ]
    },
    {
     "name": "stdout",
     "output_type": "stream",
     "text": [
      "Epoch = 104, loss = 0.4807106289633387, top 1 = 0.0, top 5 = 0.0009333333333333333, top 10 = 0.0038666666666666684\n"
     ]
    },
    {
     "name": "stderr",
     "output_type": "stream",
     "text": [
      "100%|██████████| 30/30 [00:01<00:00, 17.70it/s]\n",
      "100%|██████████| 30/30 [00:01<00:00, 25.89it/s]\n",
      "100%|██████████| 30/30 [00:01<00:00, 23.27it/s]\n",
      "100%|██████████| 30/30 [00:01<00:00, 23.70it/s]\n",
      " 10%|█         | 3/30 [00:00<00:01, 21.06it/s]"
     ]
    },
    {
     "name": "stdout",
     "output_type": "stream",
     "text": [
      "Epoch = 105, loss = 0.4827109241441295, top 1 = 0.0, top 5 = 0.0010666666666666667, top 10 = 0.0039333333333333356\n"
     ]
    },
    {
     "name": "stderr",
     "output_type": "stream",
     "text": [
      "100%|██████████| 30/30 [00:01<00:00, 17.69it/s]\n",
      "100%|██████████| 30/30 [00:01<00:00, 23.68it/s]\n",
      "100%|██████████| 30/30 [00:01<00:00, 23.58it/s]\n",
      "100%|██████████| 30/30 [00:01<00:00, 25.98it/s]\n",
      "  7%|▋         | 2/30 [00:00<00:02, 11.04it/s]"
     ]
    },
    {
     "name": "stdout",
     "output_type": "stream",
     "text": [
      "Epoch = 106, loss = 0.48299224428261317, top 1 = 0.0, top 5 = 0.0009333333333333333, top 10 = 0.0036666666666666683\n"
     ]
    },
    {
     "name": "stderr",
     "output_type": "stream",
     "text": [
      "100%|██████████| 30/30 [00:01<00:00, 17.45it/s]\n",
      "100%|██████████| 30/30 [00:01<00:00, 23.31it/s]\n",
      "100%|██████████| 30/30 [00:01<00:00, 23.69it/s]\n",
      "100%|██████████| 30/30 [00:01<00:00, 23.94it/s]\n",
      " 10%|█         | 3/30 [00:00<00:01, 20.68it/s]"
     ]
    },
    {
     "name": "stdout",
     "output_type": "stream",
     "text": [
      "Epoch = 107, loss = 0.4824430417012958, top 1 = 0.0, top 5 = 0.0010666666666666667, top 10 = 0.0037333333333333355\n"
     ]
    },
    {
     "name": "stderr",
     "output_type": "stream",
     "text": [
      "100%|██████████| 30/30 [00:01<00:00, 17.62it/s]\n",
      "100%|██████████| 30/30 [00:01<00:00, 25.95it/s]\n",
      "100%|██████████| 30/30 [00:01<00:00, 23.57it/s]\n",
      "100%|██████████| 30/30 [00:01<00:00, 24.03it/s]\n",
      " 10%|█         | 3/30 [00:00<00:01, 20.78it/s]"
     ]
    },
    {
     "name": "stdout",
     "output_type": "stream",
     "text": [
      "Epoch = 108, loss = 0.4804029190748437, top 1 = 0.0, top 5 = 0.0009333333333333333, top 10 = 0.003333333333333335\n"
     ]
    },
    {
     "name": "stderr",
     "output_type": "stream",
     "text": [
      "100%|██████████| 30/30 [00:01<00:00, 17.48it/s]\n",
      "100%|██████████| 30/30 [00:01<00:00, 23.98it/s]\n",
      "100%|██████████| 30/30 [00:01<00:00, 24.06it/s]\n",
      "100%|██████████| 30/30 [00:01<00:00, 26.20it/s]\n",
      "  3%|▎         | 1/30 [00:00<00:04,  7.16it/s]"
     ]
    },
    {
     "name": "stdout",
     "output_type": "stream",
     "text": [
      "Epoch = 109, loss = 0.4822488698783182, top 1 = 0.0, top 5 = 0.0009333333333333333, top 10 = 0.0036000000000000016\n"
     ]
    },
    {
     "name": "stderr",
     "output_type": "stream",
     "text": [
      "100%|██████████| 30/30 [00:01<00:00, 17.37it/s]\n",
      "100%|██████████| 30/30 [00:01<00:00, 23.95it/s]\n",
      "100%|██████████| 30/30 [00:01<00:00, 23.97it/s]\n",
      "100%|██████████| 30/30 [00:01<00:00, 23.36it/s]\n",
      " 10%|█         | 3/30 [00:00<00:01, 20.11it/s]"
     ]
    },
    {
     "name": "stdout",
     "output_type": "stream",
     "text": [
      "Epoch = 110, loss = 0.4814535130898911, top 1 = 0.0, top 5 = 0.0010666666666666667, top 10 = 0.002666666666666667\n"
     ]
    },
    {
     "name": "stderr",
     "output_type": "stream",
     "text": [
      "100%|██████████| 30/30 [00:01<00:00, 17.30it/s]\n",
      "100%|██████████| 30/30 [00:01<00:00, 23.17it/s]\n",
      "100%|██████████| 30/30 [00:01<00:00, 25.28it/s]\n",
      "100%|██████████| 30/30 [00:01<00:00, 23.48it/s]\n",
      " 10%|█         | 3/30 [00:00<00:01, 20.75it/s]"
     ]
    },
    {
     "name": "stdout",
     "output_type": "stream",
     "text": [
      "Epoch = 111, loss = 0.4829797103242592, top 1 = 0.0, top 5 = 0.0009333333333333333, top 10 = 0.003333333333333335\n"
     ]
    },
    {
     "name": "stderr",
     "output_type": "stream",
     "text": [
      "100%|██████████| 30/30 [00:01<00:00, 17.43it/s]\n",
      "100%|██████████| 30/30 [00:01<00:00, 23.69it/s]\n",
      "100%|██████████| 30/30 [00:01<00:00, 24.11it/s]\n",
      "100%|██████████| 30/30 [00:01<00:00, 23.96it/s]\n",
      " 10%|█         | 3/30 [00:00<00:01, 20.88it/s]"
     ]
    },
    {
     "name": "stdout",
     "output_type": "stream",
     "text": [
      "Epoch = 112, loss = 0.4819185565647534, top 1 = 0.0, top 5 = 0.0010666666666666667, top 10 = 0.0027333333333333346\n"
     ]
    },
    {
     "name": "stderr",
     "output_type": "stream",
     "text": [
      "100%|██████████| 30/30 [00:01<00:00, 18.43it/s]\n",
      "100%|██████████| 30/30 [00:01<00:00, 23.88it/s]\n",
      "100%|██████████| 30/30 [00:01<00:00, 23.98it/s]\n",
      "100%|██████████| 30/30 [00:01<00:00, 24.05it/s]\n",
      " 10%|█         | 3/30 [00:00<00:01, 21.10it/s]"
     ]
    },
    {
     "name": "stdout",
     "output_type": "stream",
     "text": [
      "Epoch = 113, loss = 0.4831312089587311, top 1 = 0.0, top 5 = 0.0010666666666666667, top 10 = 0.002866666666666668\n"
     ]
    },
    {
     "name": "stderr",
     "output_type": "stream",
     "text": [
      "100%|██████████| 30/30 [00:01<00:00, 17.60it/s]\n",
      "100%|██████████| 30/30 [00:01<00:00, 23.59it/s]\n",
      "100%|██████████| 30/30 [00:01<00:00, 26.06it/s]\n",
      "100%|██████████| 30/30 [00:01<00:00, 23.53it/s]\n",
      " 10%|█         | 3/30 [00:00<00:01, 20.89it/s]"
     ]
    },
    {
     "name": "stdout",
     "output_type": "stream",
     "text": [
      "Epoch = 114, loss = 0.48230832213783137, top 1 = 0.0, top 5 = 0.0010666666666666667, top 10 = 0.0027333333333333346\n"
     ]
    },
    {
     "name": "stderr",
     "output_type": "stream",
     "text": [
      "100%|██████████| 30/30 [00:01<00:00, 17.61it/s]\n",
      "100%|██████████| 30/30 [00:01<00:00, 23.86it/s]\n",
      "100%|██████████| 30/30 [00:01<00:00, 24.21it/s]\n",
      "100%|██████████| 30/30 [00:01<00:00, 24.13it/s]\n",
      " 10%|█         | 3/30 [00:00<00:01, 20.78it/s]"
     ]
    },
    {
     "name": "stdout",
     "output_type": "stream",
     "text": [
      "Epoch = 115, loss = 0.4832768542837706, top 1 = 0.0, top 5 = 0.0012000000000000001, top 10 = 0.0031333333333333343\n"
     ]
    },
    {
     "name": "stderr",
     "output_type": "stream",
     "text": [
      "100%|██████████| 30/30 [00:01<00:00, 18.47it/s]\n",
      "100%|██████████| 30/30 [00:01<00:00, 23.46it/s]\n",
      "100%|██████████| 30/30 [00:01<00:00, 24.03it/s]\n",
      "100%|██████████| 30/30 [00:01<00:00, 23.31it/s]\n",
      " 10%|█         | 3/30 [00:00<00:01, 20.99it/s]"
     ]
    },
    {
     "name": "stdout",
     "output_type": "stream",
     "text": [
      "Epoch = 116, loss = 0.48090936716300325, top 1 = 0.0, top 5 = 0.0009333333333333333, top 10 = 0.003533333333333335\n"
     ]
    },
    {
     "name": "stderr",
     "output_type": "stream",
     "text": [
      "100%|██████████| 30/30 [00:01<00:00, 17.68it/s]\n",
      "100%|██████████| 30/30 [00:01<00:00, 23.16it/s]\n",
      "100%|██████████| 30/30 [00:01<00:00, 26.03it/s]\n",
      "100%|██████████| 30/30 [00:01<00:00, 23.80it/s]\n",
      " 10%|█         | 3/30 [00:00<00:01, 21.41it/s]"
     ]
    },
    {
     "name": "stdout",
     "output_type": "stream",
     "text": [
      "Epoch = 117, loss = 0.48297175987733065, top 1 = 0.0, top 5 = 0.0017333333333333335, top 10 = 0.003666666666666668\n"
     ]
    },
    {
     "name": "stderr",
     "output_type": "stream",
     "text": [
      "100%|██████████| 30/30 [00:01<00:00, 17.71it/s]\n",
      "100%|██████████| 30/30 [00:01<00:00, 23.94it/s]\n",
      "100%|██████████| 30/30 [00:01<00:00, 24.09it/s]\n",
      "100%|██████████| 30/30 [00:01<00:00, 23.60it/s]\n",
      " 10%|█         | 3/30 [00:00<00:01, 20.66it/s]"
     ]
    },
    {
     "name": "stdout",
     "output_type": "stream",
     "text": [
      "Epoch = 118, loss = 0.4818964142701525, top 1 = 0.0, top 5 = 0.0013333333333333335, top 10 = 0.004733333333333336\n"
     ]
    },
    {
     "name": "stderr",
     "output_type": "stream",
     "text": [
      "100%|██████████| 30/30 [00:01<00:00, 18.50it/s]\n",
      "100%|██████████| 30/30 [00:01<00:00, 23.62it/s]\n",
      "100%|██████████| 30/30 [00:01<00:00, 23.50it/s]\n",
      "100%|██████████| 30/30 [00:01<00:00, 23.52it/s]\n",
      " 10%|█         | 3/30 [00:00<00:01, 21.19it/s]"
     ]
    },
    {
     "name": "stdout",
     "output_type": "stream",
     "text": [
      "Epoch = 119, loss = 0.48173132150133813, top 1 = 0.0, top 5 = 0.0014666666666666671, top 10 = 0.004533333333333335\n"
     ]
    },
    {
     "name": "stderr",
     "output_type": "stream",
     "text": [
      "100%|██████████| 30/30 [00:01<00:00, 17.52it/s]\n",
      "100%|██████████| 30/30 [00:01<00:00, 23.05it/s]\n",
      "100%|██████████| 30/30 [00:01<00:00, 24.10it/s]\n",
      "100%|██████████| 30/30 [00:01<00:00, 26.15it/s]\n",
      "  0%|          | 0/30 [00:00<?, ?it/s]"
     ]
    },
    {
     "name": "stdout",
     "output_type": "stream",
     "text": [
      "Epoch = 120, loss = 0.48077527083146826, top 1 = 0.0, top 5 = 0.0014666666666666671, top 10 = 0.004800000000000002\n"
     ]
    },
    {
     "name": "stderr",
     "output_type": "stream",
     "text": [
      "100%|██████████| 30/30 [00:01<00:00, 17.52it/s]\n",
      "100%|██████████| 30/30 [00:01<00:00, 23.02it/s]\n",
      "100%|██████████| 30/30 [00:01<00:00, 23.59it/s]\n",
      "100%|██████████| 30/30 [00:01<00:00, 24.15it/s]\n",
      " 10%|█         | 3/30 [00:00<00:01, 20.54it/s]"
     ]
    },
    {
     "name": "stdout",
     "output_type": "stream",
     "text": [
      "Epoch = 121, loss = 0.48069966193337754, top 1 = 0.0, top 5 = 0.0016, top 10 = 0.004866666666666669\n"
     ]
    },
    {
     "name": "stderr",
     "output_type": "stream",
     "text": [
      "100%|██████████| 30/30 [00:01<00:00, 17.57it/s]\n",
      "100%|██████████| 30/30 [00:01<00:00, 26.07it/s]\n",
      "100%|██████████| 30/30 [00:01<00:00, 24.04it/s]\n",
      "100%|██████████| 30/30 [00:01<00:00, 23.83it/s]\n",
      " 10%|█         | 3/30 [00:00<00:01, 21.30it/s]"
     ]
    },
    {
     "name": "stdout",
     "output_type": "stream",
     "text": [
      "Epoch = 122, loss = 0.48096630306538307, top 1 = 0.0, top 5 = 0.0012000000000000001, top 10 = 0.0036666666666666683\n"
     ]
    },
    {
     "name": "stderr",
     "output_type": "stream",
     "text": [
      "100%|██████████| 30/30 [00:01<00:00, 17.62it/s]\n",
      "100%|██████████| 30/30 [00:01<00:00, 23.68it/s]\n",
      "100%|██████████| 30/30 [00:01<00:00, 24.13it/s]\n",
      "100%|██████████| 30/30 [00:01<00:00, 26.13it/s]\n",
      "  3%|▎         | 1/30 [00:00<00:04,  7.09it/s]"
     ]
    },
    {
     "name": "stdout",
     "output_type": "stream",
     "text": [
      "Epoch = 123, loss = 0.4817373345679418, top 1 = 0.0, top 5 = 0.0025333333333333336, top 10 = 0.006533333333333337\n",
      "save model to /home/ai2019/ne6081064/june/mlg/snrs_hw1/2021-03-13 11-52/weight.pth\n"
     ]
    },
    {
     "name": "stderr",
     "output_type": "stream",
     "text": [
      "100%|██████████| 30/30 [00:01<00:00, 17.50it/s]\n",
      "100%|██████████| 30/30 [00:01<00:00, 23.95it/s]\n",
      "100%|██████████| 30/30 [00:01<00:00, 23.97it/s]\n",
      "100%|██████████| 30/30 [00:01<00:00, 24.13it/s]\n",
      " 10%|█         | 3/30 [00:00<00:01, 20.62it/s]"
     ]
    },
    {
     "name": "stdout",
     "output_type": "stream",
     "text": [
      "Epoch = 124, loss = 0.4805170540082984, top 1 = 0.0, top 5 = 0.0013333333333333335, top 10 = 0.0042000000000000015\n"
     ]
    },
    {
     "name": "stderr",
     "output_type": "stream",
     "text": [
      "100%|██████████| 30/30 [00:01<00:00, 17.57it/s]\n",
      "100%|██████████| 30/30 [00:01<00:00, 23.70it/s]\n",
      "100%|██████████| 30/30 [00:01<00:00, 25.39it/s]\n",
      "100%|██████████| 30/30 [00:01<00:00, 23.50it/s]\n",
      " 10%|█         | 3/30 [00:00<00:01, 21.14it/s]"
     ]
    },
    {
     "name": "stdout",
     "output_type": "stream",
     "text": [
      "Epoch = 125, loss = 0.4811627876023346, top 1 = 0.0, top 5 = 0.0014666666666666671, top 10 = 0.004933333333333336\n"
     ]
    },
    {
     "name": "stderr",
     "output_type": "stream",
     "text": [
      "100%|██████████| 30/30 [00:01<00:00, 17.59it/s]\n",
      "100%|██████████| 30/30 [00:01<00:00, 22.18it/s]\n",
      "100%|██████████| 30/30 [00:01<00:00, 23.64it/s]\n",
      "100%|██████████| 30/30 [00:01<00:00, 23.96it/s]\n",
      " 10%|█         | 3/30 [00:00<00:01, 21.02it/s]"
     ]
    },
    {
     "name": "stdout",
     "output_type": "stream",
     "text": [
      "Epoch = 126, loss = 0.48148157161810734, top 1 = 0.0, top 5 = 0.0012000000000000001, top 10 = 0.003866666666666669\n"
     ]
    },
    {
     "name": "stderr",
     "output_type": "stream",
     "text": [
      "100%|██████████| 30/30 [00:01<00:00, 18.68it/s]\n",
      "100%|██████████| 30/30 [00:01<00:00, 24.02it/s]\n",
      "100%|██████████| 30/30 [00:01<00:00, 24.09it/s]\n",
      "100%|██████████| 30/30 [00:01<00:00, 24.12it/s]\n",
      " 10%|█         | 3/30 [00:00<00:01, 20.39it/s]"
     ]
    },
    {
     "name": "stdout",
     "output_type": "stream",
     "text": [
      "Epoch = 127, loss = 0.4794982189167587, top 1 = 0.0, top 5 = 0.001733333333333334, top 10 = 0.00566666666666667\n"
     ]
    },
    {
     "name": "stderr",
     "output_type": "stream",
     "text": [
      "100%|██████████| 30/30 [00:01<00:00, 17.58it/s]\n",
      "100%|██████████| 30/30 [00:01<00:00, 23.97it/s]\n",
      "100%|██████████| 30/30 [00:01<00:00, 26.14it/s]\n",
      "100%|██████████| 30/30 [00:01<00:00, 23.98it/s]\n",
      " 10%|█         | 3/30 [00:00<00:01, 20.63it/s]"
     ]
    },
    {
     "name": "stdout",
     "output_type": "stream",
     "text": [
      "Epoch = 128, loss = 0.48013238174376377, top 1 = 0.0, top 5 = 0.0010666666666666667, top 10 = 0.0030000000000000014\n"
     ]
    },
    {
     "name": "stderr",
     "output_type": "stream",
     "text": [
      "100%|██████████| 30/30 [00:01<00:00, 17.65it/s]\n",
      "100%|██████████| 30/30 [00:01<00:00, 23.96it/s]\n",
      "100%|██████████| 30/30 [00:01<00:00, 23.68it/s]\n",
      "100%|██████████| 30/30 [00:01<00:00, 23.98it/s]\n",
      " 10%|█         | 3/30 [00:00<00:01, 20.94it/s]"
     ]
    },
    {
     "name": "stdout",
     "output_type": "stream",
     "text": [
      "Epoch = 129, loss = 0.48158396732307207, top 1 = 0.0, top 5 = 0.0016000000000000005, top 10 = 0.005333333333333337\n"
     ]
    },
    {
     "name": "stderr",
     "output_type": "stream",
     "text": [
      "100%|██████████| 30/30 [00:01<00:00, 18.77it/s]\n",
      "100%|██████████| 30/30 [00:01<00:00, 23.54it/s]\n",
      "100%|██████████| 30/30 [00:01<00:00, 23.74it/s]\n",
      "100%|██████████| 30/30 [00:01<00:00, 23.71it/s]\n",
      " 10%|█         | 3/30 [00:00<00:01, 20.73it/s]"
     ]
    },
    {
     "name": "stdout",
     "output_type": "stream",
     "text": [
      "Epoch = 130, loss = 0.4799341773149715, top 1 = 0.0, top 5 = 0.0012000000000000001, top 10 = 0.003466666666666668\n"
     ]
    },
    {
     "name": "stderr",
     "output_type": "stream",
     "text": [
      "100%|██████████| 30/30 [00:01<00:00, 17.59it/s]\n",
      "100%|██████████| 30/30 [00:01<00:00, 23.76it/s]\n",
      "100%|██████████| 30/30 [00:01<00:00, 25.63it/s]\n",
      "100%|██████████| 30/30 [00:01<00:00, 23.66it/s]\n",
      " 10%|█         | 3/30 [00:00<00:01, 20.90it/s]"
     ]
    },
    {
     "name": "stdout",
     "output_type": "stream",
     "text": [
      "Epoch = 131, loss = 0.4821839890282432, top 1 = 0.0, top 5 = 0.0014666666666666671, top 10 = 0.0037333333333333346\n"
     ]
    },
    {
     "name": "stderr",
     "output_type": "stream",
     "text": [
      "100%|██████████| 30/30 [00:01<00:00, 17.56it/s]\n",
      "100%|██████████| 30/30 [00:01<00:00, 23.62it/s]\n",
      "100%|██████████| 30/30 [00:01<00:00, 24.13it/s]\n",
      "100%|██████████| 30/30 [00:01<00:00, 23.98it/s]\n",
      " 10%|█         | 3/30 [00:00<00:01, 20.69it/s]"
     ]
    },
    {
     "name": "stdout",
     "output_type": "stream",
     "text": [
      "Epoch = 132, loss = 0.4794734315226936, top 1 = 0.0, top 5 = 0.0012000000000000001, top 10 = 0.003266666666666668\n"
     ]
    },
    {
     "name": "stderr",
     "output_type": "stream",
     "text": [
      "100%|██████████| 30/30 [00:01<00:00, 18.62it/s]\n",
      "100%|██████████| 30/30 [00:01<00:00, 23.96it/s]\n",
      "100%|██████████| 30/30 [00:01<00:00, 24.06it/s]\n",
      "100%|██████████| 30/30 [00:01<00:00, 23.84it/s]\n",
      " 10%|█         | 3/30 [00:00<00:01, 20.76it/s]"
     ]
    },
    {
     "name": "stdout",
     "output_type": "stream",
     "text": [
      "Epoch = 133, loss = 0.4832718884242624, top 1 = 0.0, top 5 = 0.0017333333333333335, top 10 = 0.004000000000000002\n"
     ]
    },
    {
     "name": "stderr",
     "output_type": "stream",
     "text": [
      "100%|██████████| 30/30 [00:01<00:00, 17.35it/s]\n",
      "100%|██████████| 30/30 [00:01<00:00, 23.54it/s]\n",
      "100%|██████████| 30/30 [00:01<00:00, 24.10it/s]\n",
      "100%|██████████| 30/30 [00:01<00:00, 26.16it/s]\n",
      "  0%|          | 0/30 [00:00<?, ?it/s]"
     ]
    },
    {
     "name": "stdout",
     "output_type": "stream",
     "text": [
      "Epoch = 134, loss = 0.4808251095713064, top 1 = 0.0, top 5 = 0.0012000000000000001, top 10 = 0.003800000000000002\n"
     ]
    },
    {
     "name": "stderr",
     "output_type": "stream",
     "text": [
      "100%|██████████| 30/30 [00:01<00:00, 17.60it/s]\n",
      "100%|██████████| 30/30 [00:01<00:00, 23.90it/s]\n",
      "100%|██████████| 30/30 [00:01<00:00, 23.69it/s]\n",
      "100%|██████████| 30/30 [00:01<00:00, 24.11it/s]\n",
      " 10%|█         | 3/30 [00:00<00:01, 21.34it/s]"
     ]
    },
    {
     "name": "stdout",
     "output_type": "stream",
     "text": [
      "Epoch = 135, loss = 0.48242746682005644, top 1 = 0.0, top 5 = 0.002, top 10 = 0.004333333333333336\n"
     ]
    },
    {
     "name": "stderr",
     "output_type": "stream",
     "text": [
      "100%|██████████| 30/30 [00:01<00:00, 17.69it/s]\n",
      "100%|██████████| 30/30 [00:01<00:00, 25.80it/s]\n",
      "100%|██████████| 30/30 [00:01<00:00, 23.34it/s]\n",
      "100%|██████████| 30/30 [00:01<00:00, 24.02it/s]\n",
      " 10%|█         | 3/30 [00:00<00:01, 20.96it/s]"
     ]
    },
    {
     "name": "stdout",
     "output_type": "stream",
     "text": [
      "Epoch = 136, loss = 0.48090354285333625, top 1 = 0.0, top 5 = 0.0016, top 10 = 0.005333333333333337\n"
     ]
    },
    {
     "name": "stderr",
     "output_type": "stream",
     "text": [
      "100%|██████████| 30/30 [00:01<00:00, 17.47it/s]\n",
      "100%|██████████| 30/30 [00:01<00:00, 23.80it/s]\n",
      "100%|██████████| 30/30 [00:01<00:00, 23.93it/s]\n",
      "100%|██████████| 30/30 [00:01<00:00, 25.90it/s]\n",
      "  7%|▋         | 2/30 [00:00<00:02, 11.26it/s]"
     ]
    },
    {
     "name": "stdout",
     "output_type": "stream",
     "text": [
      "Epoch = 137, loss = 0.4806874237795764, top 1 = 0.0, top 5 = 0.0024000000000000002, top 10 = 0.0066666666666666706\n",
      "save model to /home/ai2019/ne6081064/june/mlg/snrs_hw1/2021-03-13 11-52/weight.pth\n"
     ]
    },
    {
     "name": "stderr",
     "output_type": "stream",
     "text": [
      "100%|██████████| 30/30 [00:01<00:00, 17.33it/s]\n",
      "100%|██████████| 30/30 [00:01<00:00, 23.83it/s]\n",
      "100%|██████████| 30/30 [00:01<00:00, 23.69it/s]\n",
      "100%|██████████| 30/30 [00:01<00:00, 23.75it/s]\n",
      " 10%|█         | 3/30 [00:00<00:01, 20.56it/s]"
     ]
    },
    {
     "name": "stdout",
     "output_type": "stream",
     "text": [
      "Epoch = 138, loss = 0.48033075189073754, top 1 = 0.0, top 5 = 0.0024000000000000002, top 10 = 0.0066666666666666706\n"
     ]
    },
    {
     "name": "stderr",
     "output_type": "stream",
     "text": [
      "100%|██████████| 30/30 [00:01<00:00, 17.45it/s]\n",
      "100%|██████████| 30/30 [00:01<00:00, 25.10it/s]\n",
      "100%|██████████| 30/30 [00:01<00:00, 23.54it/s]\n",
      "100%|██████████| 30/30 [00:01<00:00, 23.85it/s]\n",
      " 10%|█         | 3/30 [00:00<00:01, 20.18it/s]"
     ]
    },
    {
     "name": "stdout",
     "output_type": "stream",
     "text": [
      "Epoch = 139, loss = 0.48055609679177225, top 1 = 0.0, top 5 = 0.0014666666666666671, top 10 = 0.004933333333333336\n"
     ]
    },
    {
     "name": "stderr",
     "output_type": "stream",
     "text": [
      "100%|██████████| 30/30 [00:01<00:00, 17.30it/s]\n",
      "100%|██████████| 30/30 [00:01<00:00, 23.44it/s]\n",
      "100%|██████████| 30/30 [00:01<00:00, 23.09it/s]\n",
      "100%|██████████| 30/30 [00:01<00:00, 25.36it/s]\n",
      "  3%|▎         | 1/30 [00:00<00:04,  7.02it/s]"
     ]
    },
    {
     "name": "stdout",
     "output_type": "stream",
     "text": [
      "Epoch = 140, loss = 0.4797690204467871, top 1 = 0.0, top 5 = 0.0014666666666666671, top 10 = 0.004533333333333335\n"
     ]
    },
    {
     "name": "stderr",
     "output_type": "stream",
     "text": [
      "100%|██████████| 30/30 [00:01<00:00, 17.17it/s]\n",
      "100%|██████████| 30/30 [00:01<00:00, 23.14it/s]\n",
      "100%|██████████| 30/30 [00:01<00:00, 23.97it/s]\n",
      "100%|██████████| 30/30 [00:01<00:00, 23.88it/s]\n",
      " 10%|█         | 3/30 [00:00<00:01, 21.01it/s]"
     ]
    },
    {
     "name": "stdout",
     "output_type": "stream",
     "text": [
      "Epoch = 141, loss = 0.48101027770873106, top 1 = 0.0, top 5 = 0.002666666666666667, top 10 = 0.007533333333333337\n",
      "save model to /home/ai2019/ne6081064/june/mlg/snrs_hw1/2021-03-13 11-52/weight.pth\n"
     ]
    },
    {
     "name": "stderr",
     "output_type": "stream",
     "text": [
      "100%|██████████| 30/30 [00:01<00:00, 17.44it/s]\n",
      "100%|██████████| 30/30 [00:01<00:00, 23.30it/s]\n",
      "100%|██████████| 30/30 [00:01<00:00, 25.82it/s]\n",
      "100%|██████████| 30/30 [00:01<00:00, 23.85it/s]\n",
      " 10%|█         | 3/30 [00:00<00:01, 20.26it/s]"
     ]
    },
    {
     "name": "stdout",
     "output_type": "stream",
     "text": [
      "Epoch = 142, loss = 0.47932808162865714, top 1 = 0.0, top 5 = 0.0016000000000000005, top 10 = 0.005533333333333336\n"
     ]
    },
    {
     "name": "stderr",
     "output_type": "stream",
     "text": [
      "100%|██████████| 30/30 [00:01<00:00, 17.44it/s]\n",
      "100%|██████████| 30/30 [00:01<00:00, 23.31it/s]\n",
      "100%|██████████| 30/30 [00:01<00:00, 23.07it/s]\n",
      "100%|██████████| 30/30 [00:01<00:00, 22.98it/s]\n",
      " 10%|█         | 3/30 [00:00<00:01, 21.06it/s]"
     ]
    },
    {
     "name": "stdout",
     "output_type": "stream",
     "text": [
      "Epoch = 143, loss = 0.4815506721545394, top 1 = 0.0, top 5 = 0.0014666666666666671, top 10 = 0.004933333333333336\n"
     ]
    },
    {
     "name": "stderr",
     "output_type": "stream",
     "text": [
      "100%|██████████| 30/30 [00:01<00:00, 18.55it/s]\n",
      "100%|██████████| 30/30 [00:01<00:00, 23.30it/s]\n",
      "100%|██████████| 30/30 [00:01<00:00, 24.04it/s]\n",
      "100%|██████████| 30/30 [00:01<00:00, 23.85it/s]\n",
      " 10%|█         | 3/30 [00:00<00:01, 20.74it/s]"
     ]
    },
    {
     "name": "stdout",
     "output_type": "stream",
     "text": [
      "Epoch = 144, loss = 0.4810658374322685, top 1 = 0.0, top 5 = 0.001733333333333334, top 10 = 0.00566666666666667\n"
     ]
    },
    {
     "name": "stderr",
     "output_type": "stream",
     "text": [
      "100%|██████████| 30/30 [00:01<00:00, 17.60it/s]\n",
      "100%|██████████| 30/30 [00:01<00:00, 23.99it/s]\n",
      "100%|██████████| 30/30 [00:01<00:00, 25.57it/s]\n",
      "100%|██████████| 30/30 [00:01<00:00, 23.25it/s]\n",
      " 10%|█         | 3/30 [00:00<00:01, 20.32it/s]"
     ]
    },
    {
     "name": "stdout",
     "output_type": "stream",
     "text": [
      "Epoch = 145, loss = 0.4800779580471718, top 1 = 0.0, top 5 = 0.0018666666666666673, top 10 = 0.0063333333333333375\n"
     ]
    },
    {
     "name": "stderr",
     "output_type": "stream",
     "text": [
      "100%|██████████| 30/30 [00:01<00:00, 17.64it/s]\n",
      "100%|██████████| 30/30 [00:01<00:00, 23.25it/s]\n",
      "100%|██████████| 30/30 [00:01<00:00, 23.46it/s]\n",
      "100%|██████████| 30/30 [00:01<00:00, 23.50it/s]\n",
      " 10%|█         | 3/30 [00:00<00:01, 20.80it/s]"
     ]
    },
    {
     "name": "stdout",
     "output_type": "stream",
     "text": [
      "Epoch = 146, loss = 0.4791746865820457, top 1 = 0.0, top 5 = 0.0014666666666666671, top 10 = 0.0046000000000000025\n"
     ]
    },
    {
     "name": "stderr",
     "output_type": "stream",
     "text": [
      "100%|██████████| 30/30 [00:01<00:00, 18.53it/s]\n",
      "100%|██████████| 30/30 [00:01<00:00, 22.55it/s]\n",
      "100%|██████████| 30/30 [00:01<00:00, 24.05it/s]\n",
      "100%|██████████| 30/30 [00:01<00:00, 24.00it/s]\n",
      " 10%|█         | 3/30 [00:00<00:01, 21.27it/s]"
     ]
    },
    {
     "name": "stdout",
     "output_type": "stream",
     "text": [
      "Epoch = 147, loss = 0.47931310414619677, top 1 = 0.0, top 5 = 0.001733333333333334, top 10 = 0.005733333333333337\n"
     ]
    },
    {
     "name": "stderr",
     "output_type": "stream",
     "text": [
      "100%|██████████| 30/30 [00:01<00:00, 17.61it/s]\n",
      "100%|██████████| 30/30 [00:01<00:00, 23.71it/s]\n",
      "100%|██████████| 30/30 [00:01<00:00, 25.96it/s]\n",
      "100%|██████████| 30/30 [00:01<00:00, 23.27it/s]\n",
      " 10%|█         | 3/30 [00:00<00:01, 20.42it/s]"
     ]
    },
    {
     "name": "stdout",
     "output_type": "stream",
     "text": [
      "Epoch = 148, loss = 0.47933394909216887, top 1 = 0.0, top 5 = 0.0013333333333333335, top 10 = 0.004133333333333335\n"
     ]
    },
    {
     "name": "stderr",
     "output_type": "stream",
     "text": [
      "100%|██████████| 30/30 [00:01<00:00, 17.51it/s]\n",
      "100%|██████████| 30/30 [00:01<00:00, 23.98it/s]\n",
      "100%|██████████| 30/30 [00:01<00:00, 23.28it/s]\n",
      "100%|██████████| 30/30 [00:01<00:00, 23.47it/s]\n",
      " 10%|█         | 3/30 [00:00<00:01, 21.12it/s]"
     ]
    },
    {
     "name": "stdout",
     "output_type": "stream",
     "text": [
      "Epoch = 149, loss = 0.48042377954265775, top 1 = 0.0, top 5 = 0.0025333333333333336, top 10 = 0.007333333333333338\n"
     ]
    },
    {
     "name": "stderr",
     "output_type": "stream",
     "text": [
      "100%|██████████| 30/30 [00:01<00:00, 18.55it/s]\n",
      "100%|██████████| 30/30 [00:01<00:00, 23.44it/s]\n",
      "100%|██████████| 30/30 [00:01<00:00, 23.78it/s]\n",
      "100%|██████████| 30/30 [00:01<00:00, 23.94it/s]\n",
      " 10%|█         | 3/30 [00:00<00:01, 21.18it/s]"
     ]
    },
    {
     "name": "stdout",
     "output_type": "stream",
     "text": [
      "Epoch = 150, loss = 0.4812827830942862, top 1 = 0.0, top 5 = 0.002133333333333334, top 10 = 0.006400000000000004\n"
     ]
    },
    {
     "name": "stderr",
     "output_type": "stream",
     "text": [
      "100%|██████████| 30/30 [00:01<00:00, 17.72it/s]\n",
      "100%|██████████| 30/30 [00:01<00:00, 23.75it/s]\n",
      "100%|██████████| 30/30 [00:01<00:00, 24.00it/s]\n",
      "100%|██████████| 30/30 [00:01<00:00, 25.84it/s]\n",
      "  0%|          | 0/30 [00:00<?, ?it/s]"
     ]
    },
    {
     "name": "stdout",
     "output_type": "stream",
     "text": [
      "Epoch = 151, loss = 0.4793862261432765, top 1 = 0.0, top 5 = 0.0024000000000000007, top 10 = 0.006600000000000004\n"
     ]
    },
    {
     "name": "stderr",
     "output_type": "stream",
     "text": [
      "100%|██████████| 30/30 [00:01<00:00, 17.45it/s]\n",
      "100%|██████████| 30/30 [00:01<00:00, 23.94it/s]\n",
      "100%|██████████| 30/30 [00:01<00:00, 23.74it/s]\n",
      "100%|██████████| 30/30 [00:01<00:00, 23.92it/s]\n",
      " 10%|█         | 3/30 [00:00<00:01, 20.58it/s]"
     ]
    },
    {
     "name": "stdout",
     "output_type": "stream",
     "text": [
      "Epoch = 152, loss = 0.48049269885720064, top 1 = 0.0, top 5 = 0.0014666666666666671, top 10 = 0.0035333333333333345\n"
     ]
    },
    {
     "name": "stderr",
     "output_type": "stream",
     "text": [
      "100%|██████████| 30/30 [00:01<00:00, 17.40it/s]\n",
      "100%|██████████| 30/30 [00:01<00:00, 25.74it/s]\n",
      "100%|██████████| 30/30 [00:01<00:00, 23.96it/s]\n",
      "100%|██████████| 30/30 [00:01<00:00, 24.01it/s]\n",
      " 10%|█         | 3/30 [00:00<00:01, 20.88it/s]"
     ]
    },
    {
     "name": "stdout",
     "output_type": "stream",
     "text": [
      "Epoch = 153, loss = 0.47988158733905106, top 1 = 0.0006666666666666666, top 5 = 0.0037333333333333346, top 10 = 0.008600000000000003\n",
      "save model to /home/ai2019/ne6081064/june/mlg/snrs_hw1/2021-03-13 11-52/weight.pth\n"
     ]
    },
    {
     "name": "stderr",
     "output_type": "stream",
     "text": [
      "100%|██████████| 30/30 [00:01<00:00, 17.64it/s]\n",
      "100%|██████████| 30/30 [00:01<00:00, 23.40it/s]\n",
      "100%|██████████| 30/30 [00:01<00:00, 23.74it/s]\n",
      "100%|██████████| 30/30 [00:01<00:00, 25.34it/s]\n",
      "  3%|▎         | 1/30 [00:00<00:04,  7.11it/s]"
     ]
    },
    {
     "name": "stdout",
     "output_type": "stream",
     "text": [
      "Epoch = 154, loss = 0.47960495738617837, top 1 = 0.0, top 5 = 0.0021333333333333334, top 10 = 0.005533333333333336\n"
     ]
    },
    {
     "name": "stderr",
     "output_type": "stream",
     "text": [
      "100%|██████████| 30/30 [00:01<00:00, 17.66it/s]\n",
      "100%|██████████| 30/30 [00:01<00:00, 23.93it/s]\n",
      "100%|██████████| 30/30 [00:01<00:00, 23.77it/s]\n",
      "100%|██████████| 30/30 [00:01<00:00, 23.47it/s]\n",
      " 10%|█         | 3/30 [00:00<00:01, 20.65it/s]"
     ]
    },
    {
     "name": "stdout",
     "output_type": "stream",
     "text": [
      "Epoch = 155, loss = 0.4817824111543799, top 1 = 0.0, top 5 = 0.0018666666666666669, top 10 = 0.0059333333333333365\n"
     ]
    },
    {
     "name": "stderr",
     "output_type": "stream",
     "text": [
      "100%|██████████| 30/30 [00:01<00:00, 17.57it/s]\n",
      "100%|██████████| 30/30 [00:01<00:00, 22.82it/s]\n",
      "100%|██████████| 30/30 [00:01<00:00, 25.42it/s]\n",
      "100%|██████████| 30/30 [00:01<00:00, 23.56it/s]\n",
      " 10%|█         | 3/30 [00:00<00:01, 20.62it/s]"
     ]
    },
    {
     "name": "stdout",
     "output_type": "stream",
     "text": [
      "Epoch = 156, loss = 0.4797703113637442, top 1 = 0.0, top 5 = 0.0014666666666666671, top 10 = 0.003933333333333335\n"
     ]
    },
    {
     "name": "stderr",
     "output_type": "stream",
     "text": [
      "100%|██████████| 30/30 [00:01<00:00, 17.60it/s]\n",
      "100%|██████████| 30/30 [00:01<00:00, 23.85it/s]\n",
      "100%|██████████| 30/30 [00:01<00:00, 23.94it/s]\n",
      "100%|██████████| 30/30 [00:01<00:00, 23.53it/s]\n",
      " 10%|█         | 3/30 [00:00<00:01, 20.52it/s]"
     ]
    },
    {
     "name": "stdout",
     "output_type": "stream",
     "text": [
      "Epoch = 157, loss = 0.48408836702007424, top 1 = 0.0, top 5 = 0.0029333333333333342, top 10 = 0.007533333333333338\n"
     ]
    },
    {
     "name": "stderr",
     "output_type": "stream",
     "text": [
      "100%|██████████| 30/30 [00:01<00:00, 18.53it/s]\n",
      "100%|██████████| 30/30 [00:01<00:00, 23.45it/s]\n",
      "100%|██████████| 30/30 [00:01<00:00, 23.69it/s]\n",
      "100%|██████████| 30/30 [00:01<00:00, 23.58it/s]\n",
      " 10%|█         | 3/30 [00:00<00:01, 20.70it/s]"
     ]
    },
    {
     "name": "stdout",
     "output_type": "stream",
     "text": [
      "Epoch = 158, loss = 0.48076437407755535, top 1 = 0.0, top 5 = 0.0013333333333333335, top 10 = 0.0038666666666666684\n"
     ]
    },
    {
     "name": "stderr",
     "output_type": "stream",
     "text": [
      "100%|██████████| 30/30 [00:01<00:00, 17.52it/s]\n",
      "100%|██████████| 30/30 [00:01<00:00, 23.76it/s]\n",
      "100%|██████████| 30/30 [00:01<00:00, 26.17it/s]\n",
      "100%|██████████| 30/30 [00:01<00:00, 23.87it/s]\n",
      " 10%|█         | 3/30 [00:00<00:01, 20.66it/s]"
     ]
    },
    {
     "name": "stdout",
     "output_type": "stream",
     "text": [
      "Epoch = 159, loss = 0.4841560303998774, top 1 = 0.0, top 5 = 0.0017333333333333335, top 10 = 0.0038000000000000017\n"
     ]
    },
    {
     "name": "stderr",
     "output_type": "stream",
     "text": [
      "100%|██████████| 30/30 [00:01<00:00, 17.54it/s]\n",
      "100%|██████████| 30/30 [00:01<00:00, 23.93it/s]\n",
      "100%|██████████| 30/30 [00:01<00:00, 22.88it/s]\n",
      "100%|██████████| 30/30 [00:01<00:00, 22.49it/s]\n",
      " 10%|█         | 3/30 [00:00<00:01, 21.02it/s]"
     ]
    },
    {
     "name": "stdout",
     "output_type": "stream",
     "text": [
      "Epoch = 160, loss = 0.481908969789473, top 1 = 0.0, top 5 = 0.0038666666666666684, top 10 = 0.009466666666666672\n",
      "save model to /home/ai2019/ne6081064/june/mlg/snrs_hw1/2021-03-13 11-52/weight.pth\n"
     ]
    },
    {
     "name": "stderr",
     "output_type": "stream",
     "text": [
      "100%|██████████| 30/30 [00:01<00:00, 18.64it/s]\n",
      "100%|██████████| 30/30 [00:01<00:00, 23.84it/s]\n",
      "100%|██████████| 30/30 [00:01<00:00, 23.83it/s]\n",
      "100%|██████████| 30/30 [00:01<00:00, 23.80it/s]\n",
      " 10%|█         | 3/30 [00:00<00:01, 20.42it/s]"
     ]
    },
    {
     "name": "stdout",
     "output_type": "stream",
     "text": [
      "Epoch = 161, loss = 0.4814302066211041, top 1 = 0.0, top 5 = 0.0021333333333333334, top 10 = 0.006000000000000004\n"
     ]
    },
    {
     "name": "stderr",
     "output_type": "stream",
     "text": [
      "100%|██████████| 30/30 [00:01<00:00, 17.60it/s]\n",
      "100%|██████████| 30/30 [00:01<00:00, 22.96it/s]\n",
      "100%|██████████| 30/30 [00:01<00:00, 25.66it/s]\n",
      "100%|██████████| 30/30 [00:01<00:00, 24.09it/s]\n",
      " 10%|█         | 3/30 [00:00<00:01, 21.18it/s]"
     ]
    },
    {
     "name": "stdout",
     "output_type": "stream",
     "text": [
      "Epoch = 162, loss = 0.4797009890984431, top 1 = 0.0, top 5 = 0.0022666666666666673, top 10 = 0.006000000000000004\n"
     ]
    },
    {
     "name": "stderr",
     "output_type": "stream",
     "text": [
      "100%|██████████| 30/30 [00:01<00:00, 17.49it/s]\n",
      "100%|██████████| 30/30 [00:01<00:00, 23.66it/s]\n",
      "100%|██████████| 30/30 [00:01<00:00, 24.14it/s]\n",
      "100%|██████████| 30/30 [00:01<00:00, 23.69it/s]\n",
      " 10%|█         | 3/30 [00:00<00:01, 20.39it/s]"
     ]
    },
    {
     "name": "stdout",
     "output_type": "stream",
     "text": [
      "Epoch = 163, loss = 0.48070545725042035, top 1 = 0.0006666666666666666, top 5 = 0.005200000000000002, top 10 = 0.010533333333333339\n",
      "save model to /home/ai2019/ne6081064/june/mlg/snrs_hw1/2021-03-13 11-52/weight.pth\n"
     ]
    },
    {
     "name": "stderr",
     "output_type": "stream",
     "text": [
      "100%|██████████| 30/30 [00:01<00:00, 18.69it/s]\n",
      "100%|██████████| 30/30 [00:01<00:00, 23.70it/s]\n",
      "100%|██████████| 30/30 [00:01<00:00, 23.55it/s]\n",
      "100%|██████████| 30/30 [00:01<00:00, 23.50it/s]\n",
      " 10%|█         | 3/30 [00:00<00:01, 21.13it/s]"
     ]
    },
    {
     "name": "stdout",
     "output_type": "stream",
     "text": [
      "Epoch = 164, loss = 0.4797351965619587, top 1 = 0.0, top 5 = 0.0024000000000000007, top 10 = 0.0066666666666666706\n"
     ]
    },
    {
     "name": "stderr",
     "output_type": "stream",
     "text": [
      "100%|██████████| 30/30 [00:01<00:00, 17.61it/s]\n",
      "100%|██████████| 30/30 [00:01<00:00, 22.41it/s]\n",
      "100%|██████████| 30/30 [00:01<00:00, 23.30it/s]\n",
      "100%|██████████| 30/30 [00:01<00:00, 24.82it/s]\n",
      "  0%|          | 0/30 [00:00<?, ?it/s]"
     ]
    },
    {
     "name": "stdout",
     "output_type": "stream",
     "text": [
      "Epoch = 165, loss = 0.48107717314753196, top 1 = 0.0006666666666666666, top 5 = 0.0038666666666666684, top 10 = 0.008933333333333338\n"
     ]
    },
    {
     "name": "stderr",
     "output_type": "stream",
     "text": [
      "100%|██████████| 30/30 [00:01<00:00, 17.59it/s]\n",
      "100%|██████████| 30/30 [00:01<00:00, 23.30it/s]\n",
      "100%|██████████| 30/30 [00:01<00:00, 23.71it/s]\n",
      "100%|██████████| 30/30 [00:01<00:00, 23.31it/s]\n",
      " 10%|█         | 3/30 [00:00<00:01, 20.69it/s]"
     ]
    },
    {
     "name": "stdout",
     "output_type": "stream",
     "text": [
      "Epoch = 166, loss = 0.4809960273806914, top 1 = 0.0, top 5 = 0.0024000000000000007, top 10 = 0.006533333333333337\n"
     ]
    },
    {
     "name": "stderr",
     "output_type": "stream",
     "text": [
      "100%|██████████| 30/30 [00:01<00:00, 17.60it/s]\n",
      "100%|██████████| 30/30 [00:01<00:00, 25.83it/s]\n",
      "100%|██████████| 30/30 [00:01<00:00, 23.40it/s]\n",
      "100%|██████████| 30/30 [00:01<00:00, 23.59it/s]\n",
      " 10%|█         | 3/30 [00:00<00:01, 20.93it/s]"
     ]
    },
    {
     "name": "stdout",
     "output_type": "stream",
     "text": [
      "Epoch = 167, loss = 0.4784652195142727, top 1 = 0.0006666666666666666, top 5 = 0.0037333333333333346, top 10 = 0.00826666666666667\n"
     ]
    },
    {
     "name": "stderr",
     "output_type": "stream",
     "text": [
      "100%|██████████| 30/30 [00:01<00:00, 17.61it/s]\n",
      "100%|██████████| 30/30 [00:01<00:00, 23.37it/s]\n",
      "100%|██████████| 30/30 [00:01<00:00, 23.84it/s]\n",
      "100%|██████████| 30/30 [00:01<00:00, 25.88it/s]\n",
      "  0%|          | 0/30 [00:00<?, ?it/s]"
     ]
    },
    {
     "name": "stdout",
     "output_type": "stream",
     "text": [
      "Epoch = 168, loss = 0.47959833842252847, top 1 = 0.0, top 5 = 0.002, top 10 = 0.004933333333333336\n"
     ]
    },
    {
     "name": "stderr",
     "output_type": "stream",
     "text": [
      "100%|██████████| 30/30 [00:01<00:00, 17.46it/s]\n",
      "100%|██████████| 30/30 [00:01<00:00, 23.49it/s]\n",
      "100%|██████████| 30/30 [00:01<00:00, 23.90it/s]\n",
      "100%|██████████| 30/30 [00:01<00:00, 23.93it/s]\n",
      " 10%|█         | 3/30 [00:00<00:01, 21.11it/s]"
     ]
    },
    {
     "name": "stdout",
     "output_type": "stream",
     "text": [
      "Epoch = 169, loss = 0.48117312094832837, top 1 = 0.0006666666666666666, top 5 = 0.005200000000000002, top 10 = 0.010466666666666673\n"
     ]
    },
    {
     "name": "stderr",
     "output_type": "stream",
     "text": [
      "100%|██████████| 30/30 [00:01<00:00, 17.49it/s]\n",
      "100%|██████████| 30/30 [00:01<00:00, 26.05it/s]\n",
      "100%|██████████| 30/30 [00:01<00:00, 23.71it/s]\n",
      "100%|██████████| 30/30 [00:01<00:00, 23.47it/s]\n",
      " 10%|█         | 3/30 [00:00<00:01, 21.39it/s]"
     ]
    },
    {
     "name": "stdout",
     "output_type": "stream",
     "text": [
      "Epoch = 170, loss = 0.47859736630678484, top 1 = 0.0, top 5 = 0.0025333333333333336, top 10 = 0.006933333333333337\n"
     ]
    },
    {
     "name": "stderr",
     "output_type": "stream",
     "text": [
      "100%|██████████| 30/30 [00:01<00:00, 17.60it/s]\n",
      "100%|██████████| 30/30 [00:01<00:00, 23.39it/s]\n",
      "100%|██████████| 30/30 [00:01<00:00, 23.87it/s]\n",
      "100%|██████████| 30/30 [00:01<00:00, 26.00it/s]\n",
      "  3%|▎         | 1/30 [00:00<00:04,  7.19it/s]"
     ]
    },
    {
     "name": "stdout",
     "output_type": "stream",
     "text": [
      "Epoch = 171, loss = 0.48008239499466954, top 1 = 0.0006666666666666666, top 5 = 0.0029333333333333342, top 10 = 0.007266666666666671\n"
     ]
    },
    {
     "name": "stderr",
     "output_type": "stream",
     "text": [
      "100%|██████████| 30/30 [00:01<00:00, 17.41it/s]\n",
      "100%|██████████| 30/30 [00:01<00:00, 23.91it/s]\n",
      "100%|██████████| 30/30 [00:01<00:00, 23.64it/s]\n",
      "100%|██████████| 30/30 [00:01<00:00, 23.26it/s]\n",
      " 10%|█         | 3/30 [00:00<00:01, 20.51it/s]"
     ]
    },
    {
     "name": "stdout",
     "output_type": "stream",
     "text": [
      "Epoch = 172, loss = 0.48024075305253505, top 1 = 0.0006666666666666666, top 5 = 0.0033333333333333344, top 10 = 0.007866666666666671\n"
     ]
    },
    {
     "name": "stderr",
     "output_type": "stream",
     "text": [
      "100%|██████████| 30/30 [00:01<00:00, 16.66it/s]\n",
      "100%|██████████| 30/30 [00:01<00:00, 23.79it/s]\n",
      "100%|██████████| 30/30 [00:01<00:00, 25.83it/s]\n",
      "100%|██████████| 30/30 [00:01<00:00, 23.50it/s]\n",
      " 10%|█         | 3/30 [00:00<00:01, 20.55it/s]"
     ]
    },
    {
     "name": "stdout",
     "output_type": "stream",
     "text": [
      "Epoch = 173, loss = 0.4797791644394846, top 1 = 0.0006666666666666666, top 5 = 0.0037333333333333346, top 10 = 0.008200000000000004\n"
     ]
    },
    {
     "name": "stderr",
     "output_type": "stream",
     "text": [
      "100%|██████████| 30/30 [00:01<00:00, 17.35it/s]\n",
      "100%|██████████| 30/30 [00:01<00:00, 23.41it/s]\n",
      "100%|██████████| 30/30 [00:01<00:00, 23.65it/s]\n",
      "100%|██████████| 30/30 [00:01<00:00, 23.16it/s]\n",
      " 10%|█         | 3/30 [00:00<00:01, 20.80it/s]"
     ]
    },
    {
     "name": "stdout",
     "output_type": "stream",
     "text": [
      "Epoch = 174, loss = 0.478756285390649, top 1 = 0.0, top 5 = 0.002133333333333334, top 10 = 0.006466666666666671\n"
     ]
    },
    {
     "name": "stderr",
     "output_type": "stream",
     "text": [
      "100%|██████████| 30/30 [00:01<00:00, 18.55it/s]\n",
      "100%|██████████| 30/30 [00:01<00:00, 23.44it/s]\n",
      "100%|██████████| 30/30 [00:01<00:00, 23.52it/s]\n",
      "100%|██████████| 30/30 [00:01<00:00, 23.53it/s]\n",
      " 10%|█         | 3/30 [00:00<00:01, 20.90it/s]"
     ]
    },
    {
     "name": "stdout",
     "output_type": "stream",
     "text": [
      "Epoch = 175, loss = 0.4795859735012839, top 1 = 0.0006666666666666666, top 5 = 0.004000000000000002, top 10 = 0.008733333333333338\n"
     ]
    },
    {
     "name": "stderr",
     "output_type": "stream",
     "text": [
      "100%|██████████| 30/30 [00:01<00:00, 17.67it/s]\n",
      "100%|██████████| 30/30 [00:01<00:00, 23.94it/s]\n",
      "100%|██████████| 30/30 [00:01<00:00, 26.10it/s]\n",
      "100%|██████████| 30/30 [00:01<00:00, 24.07it/s]\n",
      " 10%|█         | 3/30 [00:00<00:01, 20.73it/s]"
     ]
    },
    {
     "name": "stdout",
     "output_type": "stream",
     "text": [
      "Epoch = 176, loss = 0.4786270245995297, top 1 = 0.0, top 5 = 0.002266666666666667, top 10 = 0.005866666666666669\n"
     ]
    },
    {
     "name": "stderr",
     "output_type": "stream",
     "text": [
      "100%|██████████| 30/30 [00:01<00:00, 17.32it/s]\n",
      "100%|██████████| 30/30 [00:01<00:00, 23.93it/s]\n",
      "100%|██████████| 30/30 [00:01<00:00, 23.62it/s]\n",
      "100%|██████████| 30/30 [00:01<00:00, 23.49it/s]\n",
      " 10%|█         | 3/30 [00:00<00:01, 21.19it/s]"
     ]
    },
    {
     "name": "stdout",
     "output_type": "stream",
     "text": [
      "Epoch = 177, loss = 0.47982423367781857, top 1 = 0.0006666666666666666, top 5 = 0.0037333333333333346, top 10 = 0.008400000000000003\n"
     ]
    },
    {
     "name": "stderr",
     "output_type": "stream",
     "text": [
      "100%|██████████| 30/30 [00:01<00:00, 18.55it/s]\n",
      "100%|██████████| 30/30 [00:01<00:00, 23.76it/s]\n",
      "100%|██████████| 30/30 [00:01<00:00, 24.05it/s]\n",
      "100%|██████████| 30/30 [00:01<00:00, 23.22it/s]\n",
      " 10%|█         | 3/30 [00:00<00:01, 20.50it/s]"
     ]
    },
    {
     "name": "stdout",
     "output_type": "stream",
     "text": [
      "Epoch = 178, loss = 0.4783298155758363, top 1 = 0.0006666666666666666, top 5 = 0.0024000000000000002, top 10 = 0.0066666666666666706\n"
     ]
    },
    {
     "name": "stderr",
     "output_type": "stream",
     "text": [
      "100%|██████████| 30/30 [00:01<00:00, 17.45it/s]\n",
      "100%|██████████| 30/30 [00:01<00:00, 23.99it/s]\n",
      "100%|██████████| 30/30 [00:01<00:00, 26.17it/s]\n",
      "100%|██████████| 30/30 [00:01<00:00, 24.02it/s]\n",
      " 10%|█         | 3/30 [00:00<00:01, 20.57it/s]"
     ]
    },
    {
     "name": "stdout",
     "output_type": "stream",
     "text": [
      "Epoch = 179, loss = 0.4791103669160587, top 1 = 0.0006666666666666666, top 5 = 0.004266666666666669, top 10 = 0.009666666666666672\n"
     ]
    },
    {
     "name": "stderr",
     "output_type": "stream",
     "text": [
      "100%|██████████| 30/30 [00:01<00:00, 17.51it/s]\n",
      "100%|██████████| 30/30 [00:01<00:00, 23.82it/s]\n",
      "100%|██████████| 30/30 [00:01<00:00, 24.08it/s]\n",
      "100%|██████████| 30/30 [00:01<00:00, 24.06it/s]\n",
      " 10%|█         | 3/30 [00:00<00:01, 21.03it/s]"
     ]
    },
    {
     "name": "stdout",
     "output_type": "stream",
     "text": [
      "Epoch = 180, loss = 0.4792159462322282, top 1 = 0.0, top 5 = 0.0018666666666666666, top 10 = 0.004533333333333335\n"
     ]
    },
    {
     "name": "stderr",
     "output_type": "stream",
     "text": [
      "100%|██████████| 30/30 [00:01<00:00, 18.50it/s]\n",
      "100%|██████████| 30/30 [00:01<00:00, 24.17it/s]\n",
      "100%|██████████| 30/30 [00:01<00:00, 23.88it/s]\n",
      "100%|██████████| 30/30 [00:01<00:00, 23.78it/s]\n",
      " 10%|█         | 3/30 [00:00<00:01, 20.79it/s]"
     ]
    },
    {
     "name": "stdout",
     "output_type": "stream",
     "text": [
      "Epoch = 181, loss = 0.4805112749640185, top 1 = 0.0013333333333333333, top 5 = 0.006000000000000003, top 10 = 0.011266666666666673\n",
      "save model to /home/ai2019/ne6081064/june/mlg/snrs_hw1/2021-03-13 11-52/weight.pth\n"
     ]
    },
    {
     "name": "stderr",
     "output_type": "stream",
     "text": [
      "100%|██████████| 30/30 [00:01<00:00, 17.54it/s]\n",
      "100%|██████████| 30/30 [00:01<00:00, 23.90it/s]\n",
      "100%|██████████| 30/30 [00:01<00:00, 23.78it/s]\n",
      "100%|██████████| 30/30 [00:01<00:00, 25.64it/s]\n",
      "  0%|          | 0/30 [00:00<?, ?it/s]"
     ]
    },
    {
     "name": "stdout",
     "output_type": "stream",
     "text": [
      "Epoch = 182, loss = 0.4796530440389555, top 1 = 0.0, top 5 = 0.002, top 10 = 0.004266666666666669\n"
     ]
    },
    {
     "name": "stderr",
     "output_type": "stream",
     "text": [
      "100%|██████████| 30/30 [00:01<00:00, 17.57it/s]\n",
      "100%|██████████| 30/30 [00:01<00:00, 23.81it/s]\n",
      "100%|██████████| 30/30 [00:01<00:00, 23.54it/s]\n",
      "100%|██████████| 30/30 [00:01<00:00, 23.06it/s]\n",
      " 10%|█         | 3/30 [00:00<00:01, 20.75it/s]"
     ]
    },
    {
     "name": "stdout",
     "output_type": "stream",
     "text": [
      "Epoch = 183, loss = 0.4814167822063868, top 1 = 0.0006666666666666666, top 5 = 0.004000000000000002, top 10 = 0.008733333333333338\n"
     ]
    },
    {
     "name": "stderr",
     "output_type": "stream",
     "text": [
      "100%|██████████| 30/30 [00:01<00:00, 17.64it/s]\n",
      "100%|██████████| 30/30 [00:01<00:00, 25.42it/s]\n",
      "100%|██████████| 30/30 [00:01<00:00, 23.49it/s]\n",
      "100%|██████████| 30/30 [00:01<00:00, 23.40it/s]\n",
      " 10%|█         | 3/30 [00:00<00:01, 20.63it/s]"
     ]
    },
    {
     "name": "stdout",
     "output_type": "stream",
     "text": [
      "Epoch = 184, loss = 0.47937214588994503, top 1 = 0.0, top 5 = 0.0014666666666666671, top 10 = 0.005533333333333336\n"
     ]
    },
    {
     "name": "stderr",
     "output_type": "stream",
     "text": [
      "100%|██████████| 30/30 [00:01<00:00, 17.59it/s]\n",
      "100%|██████████| 30/30 [00:01<00:00, 24.04it/s]\n",
      "100%|██████████| 30/30 [00:01<00:00, 24.16it/s]\n",
      "100%|██████████| 30/30 [00:01<00:00, 25.95it/s]\n",
      "  3%|▎         | 1/30 [00:00<00:04,  7.20it/s]"
     ]
    },
    {
     "name": "stdout",
     "output_type": "stream",
     "text": [
      "Epoch = 185, loss = 0.48267283863717164, top 1 = 0.0006666666666666666, top 5 = 0.003600000000000001, top 10 = 0.00886666666666667\n"
     ]
    },
    {
     "name": "stderr",
     "output_type": "stream",
     "text": [
      "100%|██████████| 30/30 [00:01<00:00, 17.49it/s]\n",
      "100%|██████████| 30/30 [00:01<00:00, 23.81it/s]\n",
      "100%|██████████| 30/30 [00:01<00:00, 23.57it/s]\n",
      "100%|██████████| 30/30 [00:01<00:00, 23.52it/s]\n",
      " 10%|█         | 3/30 [00:00<00:01, 20.85it/s]"
     ]
    },
    {
     "name": "stdout",
     "output_type": "stream",
     "text": [
      "Epoch = 186, loss = 0.4787029652826773, top 1 = 0.0006666666666666666, top 5 = 0.0024000000000000007, top 10 = 0.0070000000000000045\n"
     ]
    },
    {
     "name": "stderr",
     "output_type": "stream",
     "text": [
      "100%|██████████| 30/30 [00:01<00:00, 17.55it/s]\n",
      "100%|██████████| 30/30 [00:01<00:00, 23.48it/s]\n",
      "100%|██████████| 30/30 [00:01<00:00, 26.16it/s]\n",
      "100%|██████████| 30/30 [00:01<00:00, 23.83it/s]\n",
      " 10%|█         | 3/30 [00:00<00:01, 21.00it/s]"
     ]
    },
    {
     "name": "stdout",
     "output_type": "stream",
     "text": [
      "Epoch = 187, loss = 0.48157276360755075, top 1 = 0.0006666666666666666, top 5 = 0.004000000000000002, top 10 = 0.009200000000000003\n"
     ]
    },
    {
     "name": "stderr",
     "output_type": "stream",
     "text": [
      "100%|██████████| 30/30 [00:01<00:00, 17.64it/s]\n",
      "100%|██████████| 30/30 [00:01<00:00, 23.56it/s]\n",
      "100%|██████████| 30/30 [00:01<00:00, 23.55it/s]\n",
      "100%|██████████| 30/30 [00:01<00:00, 24.03it/s]\n",
      " 10%|█         | 3/30 [00:00<00:01, 21.45it/s]"
     ]
    },
    {
     "name": "stdout",
     "output_type": "stream",
     "text": [
      "Epoch = 188, loss = 0.4784345075552427, top 1 = 0.0006666666666666666, top 5 = 0.002666666666666667, top 10 = 0.007466666666666671\n"
     ]
    },
    {
     "name": "stderr",
     "output_type": "stream",
     "text": [
      "100%|██████████| 30/30 [00:01<00:00, 18.63it/s]\n",
      "100%|██████████| 30/30 [00:01<00:00, 23.85it/s]\n",
      "100%|██████████| 30/30 [00:01<00:00, 23.48it/s]\n",
      "100%|██████████| 30/30 [00:01<00:00, 23.58it/s]\n",
      " 10%|█         | 3/30 [00:00<00:01, 20.41it/s]"
     ]
    },
    {
     "name": "stdout",
     "output_type": "stream",
     "text": [
      "Epoch = 189, loss = 0.47965664616642206, top 1 = 0.0006666666666666666, top 5 = 0.005466666666666669, top 10 = 0.010600000000000005\n"
     ]
    },
    {
     "name": "stderr",
     "output_type": "stream",
     "text": [
      "100%|██████████| 30/30 [00:01<00:00, 17.70it/s]\n",
      "100%|██████████| 30/30 [00:01<00:00, 23.66it/s]\n",
      "100%|██████████| 30/30 [00:01<00:00, 26.06it/s]\n",
      "100%|██████████| 30/30 [00:01<00:00, 23.65it/s]\n",
      " 10%|█         | 3/30 [00:00<00:01, 20.93it/s]"
     ]
    },
    {
     "name": "stdout",
     "output_type": "stream",
     "text": [
      "Epoch = 190, loss = 0.4792170643961193, top 1 = 0.0006666666666666666, top 5 = 0.0022666666666666673, top 10 = 0.006200000000000003\n"
     ]
    },
    {
     "name": "stderr",
     "output_type": "stream",
     "text": [
      "100%|██████████| 30/30 [00:01<00:00, 17.62it/s]\n",
      "100%|██████████| 30/30 [00:01<00:00, 23.70it/s]\n",
      "100%|██████████| 30/30 [00:01<00:00, 24.03it/s]\n",
      "100%|██████████| 30/30 [00:01<00:00, 23.69it/s]\n",
      " 10%|█         | 3/30 [00:00<00:01, 21.25it/s]"
     ]
    },
    {
     "name": "stdout",
     "output_type": "stream",
     "text": [
      "Epoch = 191, loss = 0.4798970859155019, top 1 = 0.0013333333333333333, top 5 = 0.006000000000000003, top 10 = 0.011466666666666674\n",
      "save model to /home/ai2019/ne6081064/june/mlg/snrs_hw1/2021-03-13 11-52/weight.pth\n"
     ]
    },
    {
     "name": "stderr",
     "output_type": "stream",
     "text": [
      "100%|██████████| 30/30 [00:01<00:00, 18.63it/s]\n",
      "100%|██████████| 30/30 [00:01<00:00, 23.61it/s]\n",
      "100%|██████████| 30/30 [00:01<00:00, 23.72it/s]\n",
      "100%|██████████| 30/30 [00:01<00:00, 24.04it/s]\n",
      " 10%|█         | 3/30 [00:00<00:01, 20.87it/s]"
     ]
    },
    {
     "name": "stdout",
     "output_type": "stream",
     "text": [
      "Epoch = 192, loss = 0.47863343743915837, top 1 = 0.0006666666666666666, top 5 = 0.002800000000000001, top 10 = 0.007466666666666671\n"
     ]
    },
    {
     "name": "stderr",
     "output_type": "stream",
     "text": [
      "100%|██████████| 30/30 [00:01<00:00, 17.63it/s]\n",
      "100%|██████████| 30/30 [00:01<00:00, 23.91it/s]\n",
      "100%|██████████| 30/30 [00:01<00:00, 26.08it/s]\n",
      "100%|██████████| 30/30 [00:01<00:00, 23.80it/s]\n",
      " 10%|█         | 3/30 [00:00<00:01, 20.95it/s]"
     ]
    },
    {
     "name": "stdout",
     "output_type": "stream",
     "text": [
      "Epoch = 193, loss = 0.47887263639880806, top 1 = 0.0006666666666666666, top 5 = 0.003200000000000001, top 10 = 0.007733333333333338\n"
     ]
    },
    {
     "name": "stderr",
     "output_type": "stream",
     "text": [
      "100%|██████████| 30/30 [00:01<00:00, 17.57it/s]\n",
      "100%|██████████| 30/30 [00:01<00:00, 23.45it/s]\n",
      "100%|██████████| 30/30 [00:01<00:00, 23.59it/s]\n",
      "100%|██████████| 30/30 [00:01<00:00, 23.47it/s]\n",
      " 10%|█         | 3/30 [00:00<00:01, 21.01it/s]"
     ]
    },
    {
     "name": "stdout",
     "output_type": "stream",
     "text": [
      "Epoch = 194, loss = 0.47885404435998896, top 1 = 0.0006666666666666666, top 5 = 0.0022666666666666673, top 10 = 0.006000000000000004\n"
     ]
    },
    {
     "name": "stderr",
     "output_type": "stream",
     "text": [
      "100%|██████████| 30/30 [00:01<00:00, 18.66it/s]\n",
      "100%|██████████| 30/30 [00:01<00:00, 22.88it/s]\n",
      "100%|██████████| 30/30 [00:01<00:00, 23.46it/s]\n",
      "100%|██████████| 30/30 [00:01<00:00, 23.54it/s]\n",
      " 10%|█         | 3/30 [00:00<00:01, 20.89it/s]"
     ]
    },
    {
     "name": "stdout",
     "output_type": "stream",
     "text": [
      "Epoch = 195, loss = 0.4795977747061778, top 1 = 0.0006666666666666666, top 5 = 0.0049333333333333364, top 10 = 0.010133333333333338\n"
     ]
    },
    {
     "name": "stderr",
     "output_type": "stream",
     "text": [
      "100%|██████████| 30/30 [00:01<00:00, 17.69it/s]\n",
      "100%|██████████| 30/30 [00:01<00:00, 23.23it/s]\n",
      "100%|██████████| 30/30 [00:01<00:00, 23.72it/s]\n",
      "100%|██████████| 30/30 [00:01<00:00, 26.02it/s]\n",
      "  0%|          | 0/30 [00:00<?, ?it/s]"
     ]
    },
    {
     "name": "stdout",
     "output_type": "stream",
     "text": [
      "Epoch = 196, loss = 0.47858145102066024, top 1 = 0.0006666666666666666, top 5 = 0.0037333333333333346, top 10 = 0.007733333333333338\n"
     ]
    },
    {
     "name": "stderr",
     "output_type": "stream",
     "text": [
      "100%|██████████| 30/30 [00:01<00:00, 17.38it/s]\n",
      "100%|██████████| 30/30 [00:01<00:00, 23.98it/s]\n",
      "100%|██████████| 30/30 [00:01<00:00, 23.55it/s]\n",
      "100%|██████████| 30/30 [00:01<00:00, 23.78it/s]\n",
      " 10%|█         | 3/30 [00:00<00:01, 21.05it/s]"
     ]
    },
    {
     "name": "stdout",
     "output_type": "stream",
     "text": [
      "Epoch = 197, loss = 0.47974936022734094, top 1 = 0.0006666666666666666, top 5 = 0.0037333333333333346, top 10 = 0.009000000000000005\n"
     ]
    },
    {
     "name": "stderr",
     "output_type": "stream",
     "text": [
      "100%|██████████| 30/30 [00:01<00:00, 17.44it/s]\n",
      "100%|██████████| 30/30 [00:01<00:00, 26.07it/s]\n",
      "100%|██████████| 30/30 [00:01<00:00, 23.94it/s]\n",
      "100%|██████████| 30/30 [00:01<00:00, 23.50it/s]\n",
      " 10%|█         | 3/30 [00:00<00:01, 20.39it/s]"
     ]
    },
    {
     "name": "stdout",
     "output_type": "stream",
     "text": [
      "Epoch = 198, loss = 0.47920205158440493, top 1 = 0.0006666666666666666, top 5 = 0.002666666666666667, top 10 = 0.007066666666666671\n"
     ]
    },
    {
     "name": "stderr",
     "output_type": "stream",
     "text": [
      "100%|██████████| 30/30 [00:01<00:00, 17.59it/s]\n",
      "100%|██████████| 30/30 [00:01<00:00, 23.63it/s]\n",
      "100%|██████████| 30/30 [00:01<00:00, 23.50it/s]\n",
      "100%|██████████| 30/30 [00:01<00:00, 26.16it/s]\n",
      "  7%|▋         | 2/30 [00:00<00:02, 10.96it/s]"
     ]
    },
    {
     "name": "stdout",
     "output_type": "stream",
     "text": [
      "Epoch = 199, loss = 0.48047249498687933, top 1 = 0.0013333333333333333, top 5 = 0.005333333333333337, top 10 = 0.010600000000000005\n"
     ]
    },
    {
     "name": "stderr",
     "output_type": "stream",
     "text": [
      "100%|██████████| 30/30 [00:01<00:00, 17.59it/s]\n",
      "100%|██████████| 30/30 [00:01<00:00, 22.90it/s]\n",
      "100%|██████████| 30/30 [00:01<00:00, 23.59it/s]\n",
      "100%|██████████| 30/30 [00:01<00:00, 23.28it/s]\n",
      " 10%|█         | 3/30 [00:00<00:01, 21.03it/s]"
     ]
    },
    {
     "name": "stdout",
     "output_type": "stream",
     "text": [
      "Epoch = 200, loss = 0.4789292196731642, top 1 = 0.0006666666666666666, top 5 = 0.0037333333333333346, top 10 = 0.007933333333333339\n"
     ]
    },
    {
     "name": "stderr",
     "output_type": "stream",
     "text": [
      "100%|██████████| 30/30 [00:01<00:00, 17.46it/s]\n",
      "100%|██████████| 30/30 [00:01<00:00, 25.78it/s]\n",
      "100%|██████████| 30/30 [00:01<00:00, 24.04it/s]\n",
      "100%|██████████| 30/30 [00:01<00:00, 24.04it/s]\n",
      " 10%|█         | 3/30 [00:00<00:01, 20.90it/s]"
     ]
    },
    {
     "name": "stdout",
     "output_type": "stream",
     "text": [
      "Epoch = 201, loss = 0.48093266195753576, top 1 = 0.0006666666666666666, top 5 = 0.005733333333333336, top 10 = 0.011066666666666673\n"
     ]
    },
    {
     "name": "stderr",
     "output_type": "stream",
     "text": [
      "100%|██████████| 30/30 [00:01<00:00, 17.61it/s]\n",
      "100%|██████████| 30/30 [00:01<00:00, 23.76it/s]\n",
      "100%|██████████| 30/30 [00:01<00:00, 23.51it/s]\n",
      "100%|██████████| 30/30 [00:01<00:00, 25.86it/s]\n",
      "  3%|▎         | 1/30 [00:00<00:04,  7.10it/s]"
     ]
    },
    {
     "name": "stdout",
     "output_type": "stream",
     "text": [
      "Epoch = 202, loss = 0.47955321922674127, top 1 = 0.0006666666666666666, top 5 = 0.003200000000000001, top 10 = 0.007533333333333338\n"
     ]
    },
    {
     "name": "stderr",
     "output_type": "stream",
     "text": [
      "100%|██████████| 30/30 [00:01<00:00, 17.48it/s]\n",
      "100%|██████████| 30/30 [00:01<00:00, 23.89it/s]\n",
      "100%|██████████| 30/30 [00:01<00:00, 23.60it/s]\n",
      "100%|██████████| 30/30 [00:01<00:00, 23.97it/s]\n",
      " 10%|█         | 3/30 [00:00<00:01, 21.04it/s]"
     ]
    },
    {
     "name": "stdout",
     "output_type": "stream",
     "text": [
      "Epoch = 203, loss = 0.48065244894882053, top 1 = 0.0006666666666666666, top 5 = 0.004800000000000003, top 10 = 0.010133333333333338\n"
     ]
    },
    {
     "name": "stderr",
     "output_type": "stream",
     "text": [
      "100%|██████████| 30/30 [00:01<00:00, 17.50it/s]\n",
      "100%|██████████| 30/30 [00:01<00:00, 23.47it/s]\n",
      "100%|██████████| 30/30 [00:01<00:00, 25.56it/s]\n",
      "100%|██████████| 30/30 [00:01<00:00, 23.61it/s]\n",
      " 10%|█         | 3/30 [00:00<00:01, 20.40it/s]"
     ]
    },
    {
     "name": "stdout",
     "output_type": "stream",
     "text": [
      "Epoch = 204, loss = 0.47871687150835013, top 1 = 0.0006666666666666666, top 5 = 0.004666666666666669, top 10 = 0.00993333333333334\n"
     ]
    },
    {
     "name": "stderr",
     "output_type": "stream",
     "text": [
      "100%|██████████| 30/30 [00:01<00:00, 17.56it/s]\n",
      "100%|██████████| 30/30 [00:01<00:00, 23.42it/s]\n",
      "100%|██████████| 30/30 [00:01<00:00, 23.47it/s]\n",
      "100%|██████████| 30/30 [00:01<00:00, 23.99it/s]\n",
      " 10%|█         | 3/30 [00:00<00:01, 21.04it/s]"
     ]
    },
    {
     "name": "stdout",
     "output_type": "stream",
     "text": [
      "Epoch = 205, loss = 0.48034528071770927, top 1 = 0.0006666666666666666, top 5 = 0.004000000000000002, top 10 = 0.00886666666666667\n"
     ]
    },
    {
     "name": "stderr",
     "output_type": "stream",
     "text": [
      "100%|██████████| 30/30 [00:01<00:00, 18.54it/s]\n",
      "100%|██████████| 30/30 [00:01<00:00, 23.32it/s]\n",
      "100%|██████████| 30/30 [00:01<00:00, 23.48it/s]\n",
      "100%|██████████| 30/30 [00:01<00:00, 23.41it/s]\n",
      " 10%|█         | 3/30 [00:00<00:01, 20.67it/s]"
     ]
    },
    {
     "name": "stdout",
     "output_type": "stream",
     "text": [
      "Epoch = 206, loss = 0.47872823055592073, top 1 = 0.0006666666666666666, top 5 = 0.0022666666666666673, top 10 = 0.00626666666666667\n"
     ]
    },
    {
     "name": "stderr",
     "output_type": "stream",
     "text": [
      "100%|██████████| 30/30 [00:01<00:00, 17.50it/s]\n",
      "100%|██████████| 30/30 [00:01<00:00, 23.65it/s]\n",
      "100%|██████████| 30/30 [00:01<00:00, 26.16it/s]\n",
      "100%|██████████| 30/30 [00:01<00:00, 24.01it/s]\n",
      " 10%|█         | 3/30 [00:00<00:01, 21.10it/s]"
     ]
    },
    {
     "name": "stdout",
     "output_type": "stream",
     "text": [
      "Epoch = 207, loss = 0.4804186565753562, top 1 = 0.0013333333333333333, top 5 = 0.006266666666666669, top 10 = 0.011466666666666674\n"
     ]
    },
    {
     "name": "stderr",
     "output_type": "stream",
     "text": [
      "100%|██████████| 30/30 [00:01<00:00, 17.53it/s]\n",
      "100%|██████████| 30/30 [00:01<00:00, 23.32it/s]\n",
      "100%|██████████| 30/30 [00:01<00:00, 23.54it/s]\n",
      "100%|██████████| 30/30 [00:01<00:00, 24.01it/s]\n",
      " 10%|█         | 3/30 [00:00<00:01, 21.55it/s]"
     ]
    },
    {
     "name": "stdout",
     "output_type": "stream",
     "text": [
      "Epoch = 208, loss = 0.4782406560920028, top 1 = 0.0006666666666666666, top 5 = 0.0038666666666666684, top 10 = 0.008466666666666671\n"
     ]
    },
    {
     "name": "stderr",
     "output_type": "stream",
     "text": [
      "100%|██████████| 30/30 [00:01<00:00, 18.53it/s]\n",
      "100%|██████████| 30/30 [00:01<00:00, 23.42it/s]\n",
      "100%|██████████| 30/30 [00:01<00:00, 23.75it/s]\n",
      "100%|██████████| 30/30 [00:01<00:00, 23.47it/s]\n",
      " 10%|█         | 3/30 [00:00<00:01, 20.64it/s]"
     ]
    },
    {
     "name": "stdout",
     "output_type": "stream",
     "text": [
      "Epoch = 209, loss = 0.47937472651664953, top 1 = 0.0006666666666666666, top 5 = 0.003200000000000001, top 10 = 0.00826666666666667\n"
     ]
    },
    {
     "name": "stderr",
     "output_type": "stream",
     "text": [
      "100%|██████████| 30/30 [00:01<00:00, 17.56it/s]\n",
      "100%|██████████| 30/30 [00:01<00:00, 23.21it/s]\n",
      "100%|██████████| 30/30 [00:01<00:00, 25.59it/s]\n",
      "100%|██████████| 30/30 [00:01<00:00, 23.49it/s]\n",
      " 10%|█         | 3/30 [00:00<00:01, 20.77it/s]"
     ]
    },
    {
     "name": "stdout",
     "output_type": "stream",
     "text": [
      "Epoch = 210, loss = 0.4792879029057048, top 1 = 0.0006666666666666666, top 5 = 0.0024000000000000002, top 10 = 0.0066666666666666706\n"
     ]
    },
    {
     "name": "stderr",
     "output_type": "stream",
     "text": [
      "100%|██████████| 30/30 [00:01<00:00, 17.71it/s]\n",
      "100%|██████████| 30/30 [00:01<00:00, 23.36it/s]\n",
      "100%|██████████| 30/30 [00:01<00:00, 23.08it/s]\n",
      "100%|██████████| 30/30 [00:01<00:00, 23.48it/s]\n",
      " 10%|█         | 3/30 [00:00<00:01, 20.60it/s]"
     ]
    },
    {
     "name": "stdout",
     "output_type": "stream",
     "text": [
      "Epoch = 211, loss = 0.4804680499465695, top 1 = 0.0013333333333333333, top 5 = 0.007333333333333336, top 10 = 0.011600000000000006\n",
      "save model to /home/ai2019/ne6081064/june/mlg/snrs_hw1/2021-03-13 11-52/weight.pth\n"
     ]
    },
    {
     "name": "stderr",
     "output_type": "stream",
     "text": [
      "100%|██████████| 30/30 [00:01<00:00, 18.41it/s]\n",
      "100%|██████████| 30/30 [00:01<00:00, 24.15it/s]\n",
      "100%|██████████| 30/30 [00:01<00:00, 22.42it/s]\n",
      "100%|██████████| 30/30 [00:01<00:00, 23.28it/s]\n",
      " 10%|█         | 3/30 [00:00<00:01, 20.34it/s]"
     ]
    },
    {
     "name": "stdout",
     "output_type": "stream",
     "text": [
      "Epoch = 212, loss = 0.4790959026168572, top 1 = 0.0006666666666666666, top 5 = 0.0038666666666666684, top 10 = 0.008600000000000003\n"
     ]
    },
    {
     "name": "stderr",
     "output_type": "stream",
     "text": [
      "100%|██████████| 30/30 [00:01<00:00, 17.40it/s]\n",
      "100%|██████████| 30/30 [00:01<00:00, 23.81it/s]\n",
      "100%|██████████| 30/30 [00:01<00:00, 23.68it/s]\n",
      "100%|██████████| 30/30 [00:01<00:00, 25.42it/s]\n",
      "  0%|          | 0/30 [00:00<?, ?it/s]"
     ]
    },
    {
     "name": "stdout",
     "output_type": "stream",
     "text": [
      "Epoch = 213, loss = 0.48068757624790737, top 1 = 0.0006666666666666666, top 5 = 0.0029333333333333342, top 10 = 0.007800000000000004\n"
     ]
    },
    {
     "name": "stderr",
     "output_type": "stream",
     "text": [
      "100%|██████████| 30/30 [00:01<00:00, 17.36it/s]\n",
      "100%|██████████| 30/30 [00:01<00:00, 22.82it/s]\n",
      "100%|██████████| 30/30 [00:01<00:00, 23.11it/s]\n",
      "100%|██████████| 30/30 [00:01<00:00, 23.29it/s]\n",
      " 10%|█         | 3/30 [00:00<00:01, 20.53it/s]"
     ]
    },
    {
     "name": "stdout",
     "output_type": "stream",
     "text": [
      "Epoch = 214, loss = 0.4787654867440076, top 1 = 0.0006666666666666666, top 5 = 0.0029333333333333342, top 10 = 0.007533333333333337\n"
     ]
    },
    {
     "name": "stderr",
     "output_type": "stream",
     "text": [
      "100%|██████████| 30/30 [00:01<00:00, 17.50it/s]\n",
      "100%|██████████| 30/30 [00:01<00:00, 25.84it/s]\n",
      "100%|██████████| 30/30 [00:01<00:00, 23.66it/s]\n",
      "100%|██████████| 30/30 [00:01<00:00, 24.00it/s]\n",
      " 10%|█         | 3/30 [00:00<00:01, 20.70it/s]"
     ]
    },
    {
     "name": "stdout",
     "output_type": "stream",
     "text": [
      "Epoch = 215, loss = 0.4811165935071787, top 1 = 0.0006666666666666666, top 5 = 0.00546666666666667, top 10 = 0.009866666666666671\n"
     ]
    },
    {
     "name": "stderr",
     "output_type": "stream",
     "text": [
      "100%|██████████| 30/30 [00:01<00:00, 17.29it/s]\n",
      "100%|██████████| 30/30 [00:01<00:00, 23.60it/s]\n",
      "100%|██████████| 30/30 [00:01<00:00, 24.01it/s]\n",
      "100%|██████████| 30/30 [00:01<00:00, 25.68it/s]\n",
      "  3%|▎         | 1/30 [00:00<00:04,  7.08it/s]"
     ]
    },
    {
     "name": "stdout",
     "output_type": "stream",
     "text": [
      "Epoch = 216, loss = 0.4803740511353711, top 1 = 0.0013333333333333333, top 5 = 0.006533333333333336, top 10 = 0.011133333333333339\n"
     ]
    },
    {
     "name": "stderr",
     "output_type": "stream",
     "text": [
      "100%|██████████| 30/30 [00:01<00:00, 17.48it/s]\n",
      "100%|██████████| 30/30 [00:01<00:00, 23.90it/s]\n",
      "100%|██████████| 30/30 [00:01<00:00, 23.24it/s]\n",
      "100%|██████████| 30/30 [00:01<00:00, 23.65it/s]\n",
      " 10%|█         | 3/30 [00:00<00:01, 20.89it/s]"
     ]
    },
    {
     "name": "stdout",
     "output_type": "stream",
     "text": [
      "Epoch = 217, loss = 0.47996942414837995, top 1 = 0.0006666666666666666, top 5 = 0.0030666666666666676, top 10 = 0.00886666666666667\n"
     ]
    },
    {
     "name": "stderr",
     "output_type": "stream",
     "text": [
      "100%|██████████| 30/30 [00:01<00:00, 17.42it/s]\n",
      "100%|██████████| 30/30 [00:01<00:00, 23.92it/s]\n",
      "100%|██████████| 30/30 [00:01<00:00, 25.90it/s]\n",
      "100%|██████████| 30/30 [00:01<00:00, 23.59it/s]\n",
      " 10%|█         | 3/30 [00:00<00:01, 20.28it/s]"
     ]
    },
    {
     "name": "stdout",
     "output_type": "stream",
     "text": [
      "Epoch = 218, loss = 0.47886248139334403, top 1 = 0.0006666666666666666, top 5 = 0.004533333333333335, top 10 = 0.009666666666666672\n"
     ]
    },
    {
     "name": "stderr",
     "output_type": "stream",
     "text": [
      "100%|██████████| 30/30 [00:01<00:00, 17.41it/s]\n",
      "100%|██████████| 30/30 [00:01<00:00, 23.22it/s]\n",
      "100%|██████████| 30/30 [00:01<00:00, 23.56it/s]\n",
      "100%|██████████| 30/30 [00:01<00:00, 24.08it/s]\n",
      " 10%|█         | 3/30 [00:00<00:01, 20.96it/s]"
     ]
    },
    {
     "name": "stdout",
     "output_type": "stream",
     "text": [
      "Epoch = 219, loss = 0.479030316771752, top 1 = 0.0013333333333333333, top 5 = 0.005600000000000003, top 10 = 0.010866666666666672\n"
     ]
    },
    {
     "name": "stderr",
     "output_type": "stream",
     "text": [
      "100%|██████████| 30/30 [00:01<00:00, 18.75it/s]\n",
      "100%|██████████| 30/30 [00:01<00:00, 23.79it/s]\n",
      "100%|██████████| 30/30 [00:01<00:00, 23.28it/s]\n",
      "100%|██████████| 30/30 [00:01<00:00, 23.80it/s]\n",
      " 10%|█         | 3/30 [00:00<00:01, 21.04it/s]"
     ]
    },
    {
     "name": "stdout",
     "output_type": "stream",
     "text": [
      "Epoch = 220, loss = 0.4785751261106101, top 1 = 0.0006666666666666666, top 5 = 0.004933333333333336, top 10 = 0.010000000000000005\n"
     ]
    },
    {
     "name": "stderr",
     "output_type": "stream",
     "text": [
      "100%|██████████| 30/30 [00:01<00:00, 17.41it/s]\n",
      "100%|██████████| 30/30 [00:01<00:00, 23.86it/s]\n",
      "100%|██████████| 30/30 [00:01<00:00, 25.67it/s]\n",
      "100%|██████████| 30/30 [00:01<00:00, 23.97it/s]\n",
      " 10%|█         | 3/30 [00:00<00:01, 20.87it/s]"
     ]
    },
    {
     "name": "stdout",
     "output_type": "stream",
     "text": [
      "Epoch = 221, loss = 0.47815315519813784, top 1 = 0.0006666666666666666, top 5 = 0.002666666666666667, top 10 = 0.006866666666666671\n"
     ]
    },
    {
     "name": "stderr",
     "output_type": "stream",
     "text": [
      "100%|██████████| 30/30 [00:01<00:00, 17.43it/s]\n",
      "100%|██████████| 30/30 [00:01<00:00, 23.74it/s]\n",
      "100%|██████████| 30/30 [00:01<00:00, 24.12it/s]\n",
      "100%|██████████| 30/30 [00:01<00:00, 24.10it/s]\n",
      " 10%|█         | 3/30 [00:00<00:01, 21.27it/s]"
     ]
    },
    {
     "name": "stdout",
     "output_type": "stream",
     "text": [
      "Epoch = 222, loss = 0.47840322864753165, top 1 = 0.0013333333333333333, top 5 = 0.00826666666666667, top 10 = 0.012066666666666673\n",
      "save model to /home/ai2019/ne6081064/june/mlg/snrs_hw1/2021-03-13 11-52/weight.pth\n"
     ]
    },
    {
     "name": "stderr",
     "output_type": "stream",
     "text": [
      "100%|██████████| 30/30 [00:01<00:00, 18.75it/s]\n",
      "100%|██████████| 30/30 [00:01<00:00, 23.85it/s]\n",
      "100%|██████████| 30/30 [00:01<00:00, 23.65it/s]\n",
      "100%|██████████| 30/30 [00:01<00:00, 24.08it/s]\n",
      " 10%|█         | 3/30 [00:00<00:01, 20.62it/s]"
     ]
    },
    {
     "name": "stdout",
     "output_type": "stream",
     "text": [
      "Epoch = 223, loss = 0.47813230924571587, top 1 = 0.0006666666666666666, top 5 = 0.004266666666666669, top 10 = 0.008933333333333338\n"
     ]
    },
    {
     "name": "stderr",
     "output_type": "stream",
     "text": [
      "100%|██████████| 30/30 [00:01<00:00, 17.58it/s]\n",
      "100%|██████████| 30/30 [00:01<00:00, 23.73it/s]\n",
      "100%|██████████| 30/30 [00:01<00:00, 25.97it/s]\n",
      "100%|██████████| 30/30 [00:01<00:00, 23.87it/s]\n",
      " 10%|█         | 3/30 [00:00<00:01, 21.18it/s]"
     ]
    },
    {
     "name": "stdout",
     "output_type": "stream",
     "text": [
      "Epoch = 224, loss = 0.47791020808441387, top 1 = 0.0006666666666666666, top 5 = 0.003466666666666668, top 10 = 0.007933333333333337\n"
     ]
    },
    {
     "name": "stderr",
     "output_type": "stream",
     "text": [
      "100%|██████████| 30/30 [00:01<00:00, 17.57it/s]\n",
      "100%|██████████| 30/30 [00:01<00:00, 23.73it/s]\n",
      "100%|██████████| 30/30 [00:01<00:00, 23.79it/s]\n",
      "100%|██████████| 30/30 [00:01<00:00, 23.90it/s]\n",
      " 10%|█         | 3/30 [00:00<00:01, 20.94it/s]"
     ]
    },
    {
     "name": "stdout",
     "output_type": "stream",
     "text": [
      "Epoch = 225, loss = 0.4789389315319293, top 1 = 0.0013333333333333333, top 5 = 0.005733333333333335, top 10 = 0.011066666666666673\n"
     ]
    },
    {
     "name": "stderr",
     "output_type": "stream",
     "text": [
      "100%|██████████| 30/30 [00:01<00:00, 18.71it/s]\n",
      "100%|██████████| 30/30 [00:01<00:00, 23.36it/s]\n",
      "100%|██████████| 30/30 [00:01<00:00, 23.35it/s]\n",
      "100%|██████████| 30/30 [00:01<00:00, 21.27it/s]\n",
      " 10%|█         | 3/30 [00:00<00:01, 20.41it/s]"
     ]
    },
    {
     "name": "stdout",
     "output_type": "stream",
     "text": [
      "Epoch = 226, loss = 0.47874177405245233, top 1 = 0.0006666666666666666, top 5 = 0.004000000000000002, top 10 = 0.008666666666666671\n"
     ]
    },
    {
     "name": "stderr",
     "output_type": "stream",
     "text": [
      "100%|██████████| 30/30 [00:01<00:00, 17.37it/s]\n",
      "100%|██████████| 30/30 [00:01<00:00, 23.91it/s]\n",
      "100%|██████████| 30/30 [00:01<00:00, 23.94it/s]\n",
      "100%|██████████| 30/30 [00:01<00:00, 25.43it/s]\n",
      "  0%|          | 0/30 [00:00<?, ?it/s]"
     ]
    },
    {
     "name": "stdout",
     "output_type": "stream",
     "text": [
      "Epoch = 227, loss = 0.47928392721178964, top 1 = 0.0006666666666666666, top 5 = 0.003600000000000001, top 10 = 0.008600000000000003\n"
     ]
    },
    {
     "name": "stderr",
     "output_type": "stream",
     "text": [
      "100%|██████████| 30/30 [00:01<00:00, 17.31it/s]\n",
      "100%|██████████| 30/30 [00:01<00:00, 23.93it/s]\n",
      "100%|██████████| 30/30 [00:01<00:00, 23.77it/s]\n",
      "100%|██████████| 30/30 [00:01<00:00, 23.86it/s]\n",
      " 10%|█         | 3/30 [00:00<00:01, 21.24it/s]"
     ]
    },
    {
     "name": "stdout",
     "output_type": "stream",
     "text": [
      "Epoch = 228, loss = 0.4788983652759879, top 1 = 0.0013333333333333333, top 5 = 0.005466666666666669, top 10 = 0.01093333333333334\n"
     ]
    },
    {
     "name": "stderr",
     "output_type": "stream",
     "text": [
      "100%|██████████| 30/30 [00:01<00:00, 17.64it/s]\n",
      "100%|██████████| 30/30 [00:01<00:00, 25.60it/s]\n",
      "100%|██████████| 30/30 [00:01<00:00, 23.69it/s]\n",
      "100%|██████████| 30/30 [00:01<00:00, 23.89it/s]\n",
      " 10%|█         | 3/30 [00:00<00:01, 21.26it/s]"
     ]
    },
    {
     "name": "stdout",
     "output_type": "stream",
     "text": [
      "Epoch = 229, loss = 0.4778949533252281, top 1 = 0.0006666666666666666, top 5 = 0.0029333333333333342, top 10 = 0.008000000000000004\n"
     ]
    },
    {
     "name": "stderr",
     "output_type": "stream",
     "text": [
      "100%|██████████| 30/30 [00:01<00:00, 17.64it/s]\n",
      "100%|██████████| 30/30 [00:01<00:00, 23.87it/s]\n",
      "100%|██████████| 30/30 [00:01<00:00, 24.04it/s]\n",
      "100%|██████████| 30/30 [00:01<00:00, 25.66it/s]\n",
      "  0%|          | 0/30 [00:00<?, ?it/s]"
     ]
    },
    {
     "name": "stdout",
     "output_type": "stream",
     "text": [
      "Epoch = 230, loss = 0.4782382387488529, top 1 = 0.0013333333333333333, top 5 = 0.0062666666666666695, top 10 = 0.011400000000000006\n"
     ]
    },
    {
     "name": "stderr",
     "output_type": "stream",
     "text": [
      "100%|██████████| 30/30 [00:01<00:00, 17.54it/s]\n",
      "100%|██████████| 30/30 [00:01<00:00, 23.67it/s]\n",
      "100%|██████████| 30/30 [00:01<00:00, 23.76it/s]\n",
      "100%|██████████| 30/30 [00:01<00:00, 24.01it/s]\n",
      " 10%|█         | 3/30 [00:00<00:01, 21.01it/s]"
     ]
    },
    {
     "name": "stdout",
     "output_type": "stream",
     "text": [
      "Epoch = 231, loss = 0.4772034826651274, top 1 = 0.0006666666666666666, top 5 = 0.0038666666666666684, top 10 = 0.008933333333333338\n"
     ]
    },
    {
     "name": "stderr",
     "output_type": "stream",
     "text": [
      "100%|██████████| 30/30 [00:01<00:00, 17.59it/s]\n",
      "100%|██████████| 30/30 [00:01<00:00, 25.81it/s]\n",
      "100%|██████████| 30/30 [00:01<00:00, 23.85it/s]\n",
      "100%|██████████| 30/30 [00:01<00:00, 23.90it/s]\n",
      " 10%|█         | 3/30 [00:00<00:01, 20.71it/s]"
     ]
    },
    {
     "name": "stdout",
     "output_type": "stream",
     "text": [
      "Epoch = 232, loss = 0.4778605423786562, top 1 = 0.0006666666666666666, top 5 = 0.00506666666666667, top 10 = 0.010200000000000006\n"
     ]
    },
    {
     "name": "stderr",
     "output_type": "stream",
     "text": [
      "100%|██████████| 30/30 [00:01<00:00, 17.58it/s]\n",
      "100%|██████████| 30/30 [00:01<00:00, 23.85it/s]\n",
      "100%|██████████| 30/30 [00:01<00:00, 24.06it/s]\n",
      "100%|██████████| 30/30 [00:01<00:00, 26.20it/s]\n",
      "  3%|▎         | 1/30 [00:00<00:04,  7.15it/s]"
     ]
    },
    {
     "name": "stdout",
     "output_type": "stream",
     "text": [
      "Epoch = 233, loss = 0.4786792158243733, top 1 = 0.0006666666666666666, top 5 = 0.004400000000000002, top 10 = 0.009800000000000005\n"
     ]
    },
    {
     "name": "stderr",
     "output_type": "stream",
     "text": [
      "100%|██████████| 30/30 [00:01<00:00, 17.47it/s]\n",
      "100%|██████████| 30/30 [00:01<00:00, 23.85it/s]\n",
      "100%|██████████| 30/30 [00:01<00:00, 23.76it/s]\n",
      "100%|██████████| 30/30 [00:01<00:00, 24.11it/s]\n",
      " 10%|█         | 3/30 [00:00<00:01, 20.83it/s]"
     ]
    },
    {
     "name": "stdout",
     "output_type": "stream",
     "text": [
      "Epoch = 234, loss = 0.4777937548323417, top 1 = 0.0006666666666666666, top 5 = 0.005333333333333337, top 10 = 0.010066666666666672\n"
     ]
    },
    {
     "name": "stderr",
     "output_type": "stream",
     "text": [
      "100%|██████████| 30/30 [00:01<00:00, 17.63it/s]\n",
      "100%|██████████| 30/30 [00:01<00:00, 22.94it/s]\n",
      "100%|██████████| 30/30 [00:01<00:00, 25.40it/s]\n",
      "100%|██████████| 30/30 [00:01<00:00, 23.54it/s]\n",
      " 10%|█         | 3/30 [00:00<00:01, 20.93it/s]"
     ]
    },
    {
     "name": "stdout",
     "output_type": "stream",
     "text": [
      "Epoch = 235, loss = 0.47796616597990815, top 1 = 0.0006666666666666666, top 5 = 0.0029333333333333342, top 10 = 0.00826666666666667\n"
     ]
    },
    {
     "name": "stderr",
     "output_type": "stream",
     "text": [
      "100%|██████████| 30/30 [00:01<00:00, 17.48it/s]\n",
      "100%|██████████| 30/30 [00:01<00:00, 23.13it/s]\n",
      "100%|██████████| 30/30 [00:01<00:00, 23.78it/s]\n",
      "100%|██████████| 30/30 [00:01<00:00, 23.94it/s]\n",
      " 10%|█         | 3/30 [00:00<00:01, 20.06it/s]"
     ]
    },
    {
     "name": "stdout",
     "output_type": "stream",
     "text": [
      "Epoch = 236, loss = 0.47886333904317036, top 1 = 0.0013333333333333333, top 5 = 0.005600000000000003, top 10 = 0.010800000000000006\n"
     ]
    },
    {
     "name": "stderr",
     "output_type": "stream",
     "text": [
      "100%|██████████| 30/30 [00:01<00:00, 18.46it/s]\n",
      "100%|██████████| 30/30 [00:01<00:00, 23.87it/s]\n",
      "100%|██████████| 30/30 [00:01<00:00, 24.11it/s]\n",
      "100%|██████████| 30/30 [00:01<00:00, 24.01it/s]\n",
      " 10%|█         | 3/30 [00:00<00:01, 20.87it/s]"
     ]
    },
    {
     "name": "stdout",
     "output_type": "stream",
     "text": [
      "Epoch = 237, loss = 0.4782351224189131, top 1 = 0.0006666666666666666, top 5 = 0.0030666666666666676, top 10 = 0.008400000000000003\n"
     ]
    },
    {
     "name": "stderr",
     "output_type": "stream",
     "text": [
      "100%|██████████| 30/30 [00:01<00:00, 17.59it/s]\n",
      "100%|██████████| 30/30 [00:01<00:00, 23.79it/s]\n",
      "100%|██████████| 30/30 [00:01<00:00, 25.98it/s]\n",
      "100%|██████████| 30/30 [00:01<00:00, 21.88it/s]\n",
      " 10%|█         | 3/30 [00:00<00:01, 20.74it/s]"
     ]
    },
    {
     "name": "stdout",
     "output_type": "stream",
     "text": [
      "Epoch = 238, loss = 0.47962584735998015, top 1 = 0.0013333333333333333, top 5 = 0.00546666666666667, top 10 = 0.01073333333333334\n"
     ]
    },
    {
     "name": "stderr",
     "output_type": "stream",
     "text": [
      "100%|██████████| 30/30 [00:01<00:00, 17.64it/s]\n",
      "100%|██████████| 30/30 [00:01<00:00, 23.99it/s]\n",
      "100%|██████████| 30/30 [00:01<00:00, 24.15it/s]\n",
      "100%|██████████| 30/30 [00:01<00:00, 24.07it/s]\n",
      "  7%|▋         | 2/30 [00:00<00:01, 19.88it/s]"
     ]
    },
    {
     "name": "stdout",
     "output_type": "stream",
     "text": [
      "Epoch = 239, loss = 0.4773893379466292, top 1 = 0.0006666666666666666, top 5 = 0.0042666666666666695, top 10 = 0.009466666666666672\n"
     ]
    },
    {
     "name": "stderr",
     "output_type": "stream",
     "text": [
      "100%|██████████| 30/30 [00:01<00:00, 18.44it/s]\n",
      "100%|██████████| 30/30 [00:01<00:00, 24.02it/s]\n",
      "100%|██████████| 30/30 [00:01<00:00, 24.10it/s]\n",
      "100%|██████████| 30/30 [00:01<00:00, 24.06it/s]\n",
      " 10%|█         | 3/30 [00:00<00:01, 20.97it/s]"
     ]
    },
    {
     "name": "stdout",
     "output_type": "stream",
     "text": [
      "Epoch = 240, loss = 0.47738463031686407, top 1 = 0.0006666666666666666, top 5 = 0.0029333333333333342, top 10 = 0.008466666666666671\n"
     ]
    },
    {
     "name": "stderr",
     "output_type": "stream",
     "text": [
      "100%|██████████| 30/30 [00:01<00:00, 17.62it/s]\n",
      "100%|██████████| 30/30 [00:01<00:00, 23.51it/s]\n",
      "100%|██████████| 30/30 [00:01<00:00, 26.02it/s]\n",
      "100%|██████████| 30/30 [00:01<00:00, 24.12it/s]\n",
      " 10%|█         | 3/30 [00:00<00:01, 20.54it/s]"
     ]
    },
    {
     "name": "stdout",
     "output_type": "stream",
     "text": [
      "Epoch = 241, loss = 0.4783795085109473, top 1 = 0.0006666666666666666, top 5 = 0.005333333333333337, top 10 = 0.010533333333333339\n"
     ]
    },
    {
     "name": "stderr",
     "output_type": "stream",
     "text": [
      "100%|██████████| 30/30 [00:01<00:00, 17.64it/s]\n",
      "100%|██████████| 30/30 [00:01<00:00, 23.86it/s]\n",
      "100%|██████████| 30/30 [00:01<00:00, 24.08it/s]\n",
      "100%|██████████| 30/30 [00:01<00:00, 22.95it/s]\n",
      " 10%|█         | 3/30 [00:00<00:01, 20.67it/s]"
     ]
    },
    {
     "name": "stdout",
     "output_type": "stream",
     "text": [
      "Epoch = 242, loss = 0.47790827803404484, top 1 = 0.0006666666666666666, top 5 = 0.004266666666666668, top 10 = 0.009600000000000004\n"
     ]
    },
    {
     "name": "stderr",
     "output_type": "stream",
     "text": [
      "100%|██████████| 30/30 [00:01<00:00, 18.24it/s]\n",
      "100%|██████████| 30/30 [00:01<00:00, 24.14it/s]\n",
      "100%|██████████| 30/30 [00:01<00:00, 24.07it/s]\n",
      "100%|██████████| 30/30 [00:01<00:00, 24.05it/s]\n",
      " 10%|█         | 3/30 [00:00<00:01, 20.70it/s]"
     ]
    },
    {
     "name": "stdout",
     "output_type": "stream",
     "text": [
      "Epoch = 243, loss = 0.4806168712234436, top 1 = 0.0013333333333333333, top 5 = 0.007066666666666669, top 10 = 0.011666666666666674\n"
     ]
    },
    {
     "name": "stderr",
     "output_type": "stream",
     "text": [
      "100%|██████████| 30/30 [00:01<00:00, 17.42it/s]\n",
      "100%|██████████| 30/30 [00:01<00:00, 23.50it/s]\n",
      "100%|██████████| 30/30 [00:01<00:00, 23.58it/s]\n",
      "100%|██████████| 30/30 [00:01<00:00, 25.55it/s]\n",
      "  0%|          | 0/30 [00:00<?, ?it/s]"
     ]
    },
    {
     "name": "stdout",
     "output_type": "stream",
     "text": [
      "Epoch = 244, loss = 0.4768992127461066, top 1 = 0.0006666666666666666, top 5 = 0.004400000000000002, top 10 = 0.009400000000000004\n"
     ]
    },
    {
     "name": "stderr",
     "output_type": "stream",
     "text": [
      "100%|██████████| 30/30 [00:01<00:00, 17.67it/s]\n",
      "100%|██████████| 30/30 [00:01<00:00, 23.45it/s]\n",
      "100%|██████████| 30/30 [00:01<00:00, 24.10it/s]\n",
      "100%|██████████| 30/30 [00:01<00:00, 23.35it/s]\n",
      " 10%|█         | 3/30 [00:00<00:01, 21.47it/s]"
     ]
    },
    {
     "name": "stdout",
     "output_type": "stream",
     "text": [
      "Epoch = 245, loss = 0.47928001064800935, top 1 = 0.0006666666666666666, top 5 = 0.004933333333333336, top 10 = 0.010600000000000005\n"
     ]
    },
    {
     "name": "stderr",
     "output_type": "stream",
     "text": [
      "100%|██████████| 30/30 [00:01<00:00, 17.65it/s]\n",
      "100%|██████████| 30/30 [00:01<00:00, 25.97it/s]\n",
      "100%|██████████| 30/30 [00:01<00:00, 24.08it/s]\n",
      "100%|██████████| 30/30 [00:01<00:00, 24.10it/s]\n",
      " 10%|█         | 3/30 [00:00<00:01, 20.91it/s]"
     ]
    },
    {
     "name": "stdout",
     "output_type": "stream",
     "text": [
      "Epoch = 246, loss = 0.47799384241787923, top 1 = 0.0006666666666666666, top 5 = 0.004266666666666668, top 10 = 0.009266666666666671\n"
     ]
    },
    {
     "name": "stderr",
     "output_type": "stream",
     "text": [
      "100%|██████████| 30/30 [00:01<00:00, 17.63it/s]\n",
      "100%|██████████| 30/30 [00:01<00:00, 23.69it/s]\n",
      "100%|██████████| 30/30 [00:01<00:00, 24.08it/s]\n",
      "100%|██████████| 30/30 [00:01<00:00, 26.17it/s]\n",
      "  0%|          | 0/30 [00:00<?, ?it/s]"
     ]
    },
    {
     "name": "stdout",
     "output_type": "stream",
     "text": [
      "Epoch = 247, loss = 0.479481287833539, top 1 = 0.0006666666666666666, top 5 = 0.005200000000000002, top 10 = 0.01093333333333334\n"
     ]
    },
    {
     "name": "stderr",
     "output_type": "stream",
     "text": [
      "100%|██████████| 30/30 [00:01<00:00, 16.74it/s]\n",
      "100%|██████████| 30/30 [00:01<00:00, 23.83it/s]\n",
      "100%|██████████| 30/30 [00:01<00:00, 24.00it/s]\n",
      "100%|██████████| 30/30 [00:01<00:00, 23.69it/s]\n",
      " 10%|█         | 3/30 [00:00<00:01, 21.18it/s]"
     ]
    },
    {
     "name": "stdout",
     "output_type": "stream",
     "text": [
      "Epoch = 248, loss = 0.47830040209721597, top 1 = 0.0006666666666666666, top 5 = 0.002266666666666667, top 10 = 0.006000000000000004\n"
     ]
    },
    {
     "name": "stderr",
     "output_type": "stream",
     "text": [
      "100%|██████████| 30/30 [00:01<00:00, 17.63it/s]\n",
      "100%|██████████| 30/30 [00:01<00:00, 23.80it/s]\n",
      "100%|██████████| 30/30 [00:01<00:00, 25.85it/s]\n",
      "100%|██████████| 30/30 [00:01<00:00, 23.47it/s]\n",
      " 10%|█         | 3/30 [00:00<00:01, 20.32it/s]"
     ]
    },
    {
     "name": "stdout",
     "output_type": "stream",
     "text": [
      "Epoch = 249, loss = 0.4795875516512638, top 1 = 0.0013333333333333333, top 5 = 0.008666666666666671, top 10 = 0.012266666666666672\n",
      "save model to /home/ai2019/ne6081064/june/mlg/snrs_hw1/2021-03-13 11-52/weight.pth\n"
     ]
    },
    {
     "name": "stderr",
     "output_type": "stream",
     "text": [
      "100%|██████████| 30/30 [00:01<00:00, 17.48it/s]\n",
      "100%|██████████| 30/30 [00:01<00:00, 23.01it/s]\n",
      "100%|██████████| 30/30 [00:01<00:00, 23.99it/s]\n",
      "100%|██████████| 30/30 [00:01<00:00, 23.83it/s]\n",
      " 10%|█         | 3/30 [00:00<00:01, 20.73it/s]"
     ]
    },
    {
     "name": "stdout",
     "output_type": "stream",
     "text": [
      "Epoch = 250, loss = 0.4783391744460789, top 1 = 0.0006666666666666666, top 5 = 0.002666666666666667, top 10 = 0.00626666666666667\n"
     ]
    },
    {
     "name": "stderr",
     "output_type": "stream",
     "text": [
      "100%|██████████| 30/30 [00:01<00:00, 18.49it/s]\n",
      "100%|██████████| 30/30 [00:01<00:00, 23.81it/s]\n",
      "100%|██████████| 30/30 [00:01<00:00, 23.79it/s]\n",
      "100%|██████████| 30/30 [00:01<00:00, 23.57it/s]\n",
      " 10%|█         | 3/30 [00:00<00:01, 21.02it/s]"
     ]
    },
    {
     "name": "stdout",
     "output_type": "stream",
     "text": [
      "Epoch = 251, loss = 0.48074095027325187, top 1 = 0.0013333333333333333, top 5 = 0.005333333333333337, top 10 = 0.010400000000000003\n"
     ]
    },
    {
     "name": "stderr",
     "output_type": "stream",
     "text": [
      "100%|██████████| 30/30 [00:01<00:00, 17.53it/s]\n",
      "100%|██████████| 30/30 [00:01<00:00, 23.33it/s]\n",
      "100%|██████████| 30/30 [00:01<00:00, 25.97it/s]\n",
      "100%|██████████| 30/30 [00:01<00:00, 23.46it/s]\n",
      " 10%|█         | 3/30 [00:00<00:01, 20.94it/s]"
     ]
    },
    {
     "name": "stdout",
     "output_type": "stream",
     "text": [
      "Epoch = 252, loss = 0.47746181924229864, top 1 = 0.0013333333333333333, top 5 = 0.006133333333333337, top 10 = 0.01153333333333334\n"
     ]
    },
    {
     "name": "stderr",
     "output_type": "stream",
     "text": [
      "100%|██████████| 30/30 [00:01<00:00, 17.49it/s]\n",
      "100%|██████████| 30/30 [00:01<00:00, 22.99it/s]\n",
      "100%|██████████| 30/30 [00:01<00:00, 23.77it/s]\n",
      "100%|██████████| 30/30 [00:01<00:00, 23.83it/s]\n",
      " 10%|█         | 3/30 [00:00<00:01, 21.18it/s]"
     ]
    },
    {
     "name": "stdout",
     "output_type": "stream",
     "text": [
      "Epoch = 253, loss = 0.4829056001071935, top 1 = 0.0006666666666666666, top 5 = 0.0029333333333333342, top 10 = 0.006133333333333337\n"
     ]
    },
    {
     "name": "stderr",
     "output_type": "stream",
     "text": [
      "100%|██████████| 30/30 [00:01<00:00, 18.64it/s]\n",
      "100%|██████████| 30/30 [00:01<00:00, 23.56it/s]\n",
      "100%|██████████| 30/30 [00:01<00:00, 23.73it/s]\n",
      "100%|██████████| 30/30 [00:01<00:00, 23.17it/s]\n",
      " 10%|█         | 3/30 [00:00<00:01, 20.58it/s]"
     ]
    },
    {
     "name": "stdout",
     "output_type": "stream",
     "text": [
      "Epoch = 254, loss = 0.4791982388060067, top 1 = 0.0013333333333333333, top 5 = 0.0076000000000000035, top 10 = 0.012000000000000007\n"
     ]
    },
    {
     "name": "stderr",
     "output_type": "stream",
     "text": [
      "100%|██████████| 30/30 [00:01<00:00, 17.59it/s]\n",
      "100%|██████████| 30/30 [00:01<00:00, 23.43it/s]\n",
      "100%|██████████| 30/30 [00:01<00:00, 25.95it/s]\n",
      "100%|██████████| 30/30 [00:01<00:00, 23.59it/s]\n",
      " 10%|█         | 3/30 [00:00<00:01, 20.73it/s]"
     ]
    },
    {
     "name": "stdout",
     "output_type": "stream",
     "text": [
      "Epoch = 255, loss = 0.4843183828234225, top 1 = 0.0, top 5 = 0.0020000000000000005, top 10 = 0.006866666666666671\n"
     ]
    },
    {
     "name": "stderr",
     "output_type": "stream",
     "text": [
      "100%|██████████| 30/30 [00:01<00:00, 17.48it/s]\n",
      "100%|██████████| 30/30 [00:01<00:00, 23.44it/s]\n",
      "100%|██████████| 30/30 [00:01<00:00, 23.77it/s]\n",
      "100%|██████████| 30/30 [00:01<00:00, 24.04it/s]\n",
      " 10%|█         | 3/30 [00:00<00:01, 21.20it/s]"
     ]
    },
    {
     "name": "stdout",
     "output_type": "stream",
     "text": [
      "Epoch = 256, loss = 0.4803595133826524, top 1 = 0.0013333333333333333, top 5 = 0.00826666666666667, top 10 = 0.01233333333333334\n",
      "save model to /home/ai2019/ne6081064/june/mlg/snrs_hw1/2021-03-13 11-52/weight.pth\n"
     ]
    },
    {
     "name": "stderr",
     "output_type": "stream",
     "text": [
      "100%|██████████| 30/30 [00:01<00:00, 18.73it/s]\n",
      "100%|██████████| 30/30 [00:01<00:00, 23.97it/s]\n",
      "100%|██████████| 30/30 [00:01<00:00, 24.01it/s]\n",
      "100%|██████████| 30/30 [00:01<00:00, 23.87it/s]\n",
      " 10%|█         | 3/30 [00:00<00:01, 20.49it/s]"
     ]
    },
    {
     "name": "stdout",
     "output_type": "stream",
     "text": [
      "Epoch = 257, loss = 0.47939287862583324, top 1 = 0.002, top 5 = 0.009200000000000005, top 10 = 0.013000000000000006\n",
      "save model to /home/ai2019/ne6081064/june/mlg/snrs_hw1/2021-03-13 11-52/weight.pth\n"
     ]
    },
    {
     "name": "stderr",
     "output_type": "stream",
     "text": [
      "100%|██████████| 30/30 [00:01<00:00, 17.64it/s]\n",
      "100%|██████████| 30/30 [00:01<00:00, 23.93it/s]\n",
      "100%|██████████| 30/30 [00:01<00:00, 23.97it/s]\n",
      "100%|██████████| 30/30 [00:01<00:00, 25.54it/s]\n",
      "  0%|          | 0/30 [00:00<?, ?it/s]"
     ]
    },
    {
     "name": "stdout",
     "output_type": "stream",
     "text": [
      "Epoch = 258, loss = 0.4768779007655457, top 1 = 0.0006666666666666666, top 5 = 0.0038666666666666684, top 10 = 0.008400000000000003\n"
     ]
    },
    {
     "name": "stderr",
     "output_type": "stream",
     "text": [
      "100%|██████████| 30/30 [00:01<00:00, 17.55it/s]\n",
      "100%|██████████| 30/30 [00:01<00:00, 23.59it/s]\n",
      "100%|██████████| 30/30 [00:01<00:00, 24.01it/s]\n",
      "100%|██████████| 30/30 [00:01<00:00, 23.96it/s]\n",
      " 10%|█         | 3/30 [00:00<00:01, 20.92it/s]"
     ]
    },
    {
     "name": "stdout",
     "output_type": "stream",
     "text": [
      "Epoch = 259, loss = 0.47916573404417273, top 1 = 0.0013333333333333333, top 5 = 0.006933333333333336, top 10 = 0.011600000000000006\n"
     ]
    },
    {
     "name": "stderr",
     "output_type": "stream",
     "text": [
      "100%|██████████| 30/30 [00:01<00:00, 17.60it/s]\n",
      "100%|██████████| 30/30 [00:01<00:00, 26.00it/s]\n",
      "100%|██████████| 30/30 [00:01<00:00, 24.00it/s]\n",
      "100%|██████████| 30/30 [00:01<00:00, 23.53it/s]\n",
      " 10%|█         | 3/30 [00:00<00:01, 21.24it/s]"
     ]
    },
    {
     "name": "stdout",
     "output_type": "stream",
     "text": [
      "Epoch = 260, loss = 0.47813462353431463, top 1 = 0.0006666666666666666, top 5 = 0.004533333333333336, top 10 = 0.009600000000000004\n"
     ]
    },
    {
     "name": "stderr",
     "output_type": "stream",
     "text": [
      "100%|██████████| 30/30 [00:01<00:00, 17.61it/s]\n",
      "100%|██████████| 30/30 [00:01<00:00, 23.89it/s]\n",
      "100%|██████████| 30/30 [00:01<00:00, 23.69it/s]\n",
      "100%|██████████| 30/30 [00:01<00:00, 25.48it/s]\n",
      "  0%|          | 0/30 [00:00<?, ?it/s]"
     ]
    },
    {
     "name": "stdout",
     "output_type": "stream",
     "text": [
      "Epoch = 261, loss = 0.48000762962209165, top 1 = 0.0013333333333333333, top 5 = 0.0065333333333333354, top 10 = 0.011600000000000006\n"
     ]
    },
    {
     "name": "stderr",
     "output_type": "stream",
     "text": [
      "100%|██████████| 30/30 [00:01<00:00, 17.37it/s]\n",
      "100%|██████████| 30/30 [00:01<00:00, 23.36it/s]\n",
      "100%|██████████| 30/30 [00:01<00:00, 24.04it/s]\n",
      "100%|██████████| 30/30 [00:01<00:00, 23.84it/s]\n",
      " 10%|█         | 3/30 [00:00<00:01, 21.08it/s]"
     ]
    },
    {
     "name": "stdout",
     "output_type": "stream",
     "text": [
      "Epoch = 262, loss = 0.4786073070402212, top 1 = 0.0006666666666666666, top 5 = 0.003733333333333336, top 10 = 0.008400000000000003\n"
     ]
    },
    {
     "name": "stderr",
     "output_type": "stream",
     "text": [
      "100%|██████████| 30/30 [00:01<00:00, 17.59it/s]\n",
      "100%|██████████| 30/30 [00:01<00:00, 25.63it/s]\n",
      "100%|██████████| 30/30 [00:01<00:00, 23.42it/s]\n",
      "100%|██████████| 30/30 [00:01<00:00, 23.18it/s]\n",
      " 10%|█         | 3/30 [00:00<00:01, 20.89it/s]"
     ]
    },
    {
     "name": "stdout",
     "output_type": "stream",
     "text": [
      "Epoch = 263, loss = 0.4796411976374557, top 1 = 0.0013333333333333333, top 5 = 0.007066666666666669, top 10 = 0.01173333333333334\n"
     ]
    },
    {
     "name": "stderr",
     "output_type": "stream",
     "text": [
      "100%|██████████| 30/30 [00:01<00:00, 17.58it/s]\n",
      "100%|██████████| 30/30 [00:01<00:00, 23.98it/s]\n",
      "100%|██████████| 30/30 [00:01<00:00, 24.05it/s]\n",
      "100%|██████████| 30/30 [00:01<00:00, 26.01it/s]\n",
      "  3%|▎         | 1/30 [00:00<00:04,  7.14it/s]"
     ]
    },
    {
     "name": "stdout",
     "output_type": "stream",
     "text": [
      "Epoch = 264, loss = 0.479425058198637, top 1 = 0.0006666666666666666, top 5 = 0.004000000000000002, top 10 = 0.008466666666666671\n"
     ]
    },
    {
     "name": "stderr",
     "output_type": "stream",
     "text": [
      "100%|██████████| 30/30 [00:01<00:00, 17.49it/s]\n",
      "100%|██████████| 30/30 [00:01<00:00, 23.53it/s]\n",
      "100%|██████████| 30/30 [00:01<00:00, 24.00it/s]\n",
      "100%|██████████| 30/30 [00:01<00:00, 24.08it/s]\n",
      " 10%|█         | 3/30 [00:00<00:01, 20.57it/s]"
     ]
    },
    {
     "name": "stdout",
     "output_type": "stream",
     "text": [
      "Epoch = 265, loss = 0.47921592670195423, top 1 = 0.0013333333333333333, top 5 = 0.007066666666666669, top 10 = 0.011600000000000006\n"
     ]
    },
    {
     "name": "stderr",
     "output_type": "stream",
     "text": [
      "100%|██████████| 30/30 [00:01<00:00, 17.45it/s]\n",
      "100%|██████████| 30/30 [00:01<00:00, 23.91it/s]\n",
      "100%|██████████| 30/30 [00:01<00:00, 26.02it/s]\n",
      "100%|██████████| 30/30 [00:01<00:00, 23.73it/s]\n",
      " 10%|█         | 3/30 [00:00<00:01, 21.11it/s]"
     ]
    },
    {
     "name": "stdout",
     "output_type": "stream",
     "text": [
      "Epoch = 266, loss = 0.47729934632856014, top 1 = 0.0006666666666666666, top 5 = 0.004800000000000002, top 10 = 0.009666666666666672\n"
     ]
    },
    {
     "name": "stderr",
     "output_type": "stream",
     "text": [
      "100%|██████████| 30/30 [00:01<00:00, 17.57it/s]\n",
      "100%|██████████| 30/30 [00:01<00:00, 23.59it/s]\n",
      "100%|██████████| 30/30 [00:01<00:00, 24.09it/s]\n",
      "100%|██████████| 30/30 [00:01<00:00, 23.94it/s]\n",
      " 10%|█         | 3/30 [00:00<00:01, 20.53it/s]"
     ]
    },
    {
     "name": "stdout",
     "output_type": "stream",
     "text": [
      "Epoch = 267, loss = 0.4778095506175643, top 1 = 0.0006666666666666666, top 5 = 0.00546666666666667, top 10 = 0.011066666666666673\n"
     ]
    },
    {
     "name": "stderr",
     "output_type": "stream",
     "text": [
      "100%|██████████| 30/30 [00:01<00:00, 18.55it/s]\n",
      "100%|██████████| 30/30 [00:01<00:00, 23.48it/s]\n",
      "100%|██████████| 30/30 [00:01<00:00, 23.91it/s]\n",
      "100%|██████████| 30/30 [00:01<00:00, 23.48it/s]\n",
      " 10%|█         | 3/30 [00:00<00:01, 20.57it/s]"
     ]
    },
    {
     "name": "stdout",
     "output_type": "stream",
     "text": [
      "Epoch = 268, loss = 0.47820956657051733, top 1 = 0.0006666666666666666, top 5 = 0.0056000000000000025, top 10 = 0.011400000000000006\n"
     ]
    },
    {
     "name": "stderr",
     "output_type": "stream",
     "text": [
      "100%|██████████| 30/30 [00:01<00:00, 17.66it/s]\n",
      "100%|██████████| 30/30 [00:01<00:00, 23.91it/s]\n",
      "100%|██████████| 30/30 [00:01<00:00, 25.57it/s]\n",
      "100%|██████████| 30/30 [00:01<00:00, 23.74it/s]\n",
      " 10%|█         | 3/30 [00:00<00:01, 20.72it/s]"
     ]
    },
    {
     "name": "stdout",
     "output_type": "stream",
     "text": [
      "Epoch = 269, loss = 0.4775740610366123, top 1 = 0.0013333333333333333, top 5 = 0.006266666666666669, top 10 = 0.011600000000000006\n"
     ]
    },
    {
     "name": "stderr",
     "output_type": "stream",
     "text": [
      "100%|██████████| 30/30 [00:01<00:00, 17.55it/s]\n",
      "100%|██████████| 30/30 [00:01<00:00, 23.71it/s]\n",
      "100%|██████████| 30/30 [00:01<00:00, 24.16it/s]\n",
      "100%|██████████| 30/30 [00:01<00:00, 24.04it/s]\n",
      " 10%|█         | 3/30 [00:00<00:01, 21.14it/s]"
     ]
    },
    {
     "name": "stdout",
     "output_type": "stream",
     "text": [
      "Epoch = 270, loss = 0.47714942246700703, top 1 = 0.0006666666666666666, top 5 = 0.0033333333333333344, top 10 = 0.007800000000000004\n"
     ]
    },
    {
     "name": "stderr",
     "output_type": "stream",
     "text": [
      "100%|██████████| 30/30 [00:01<00:00, 18.59it/s]\n",
      "100%|██████████| 30/30 [00:01<00:00, 23.15it/s]\n",
      "100%|██████████| 30/30 [00:01<00:00, 24.02it/s]\n",
      "100%|██████████| 30/30 [00:01<00:00, 23.81it/s]\n",
      " 10%|█         | 3/30 [00:00<00:01, 20.57it/s]"
     ]
    },
    {
     "name": "stdout",
     "output_type": "stream",
     "text": [
      "Epoch = 271, loss = 0.47938922756249147, top 1 = 0.0013333333333333333, top 5 = 0.009200000000000005, top 10 = 0.012666666666666672\n"
     ]
    },
    {
     "name": "stderr",
     "output_type": "stream",
     "text": [
      "100%|██████████| 30/30 [00:01<00:00, 17.50it/s]\n",
      "100%|██████████| 30/30 [00:01<00:00, 23.24it/s]\n",
      "100%|██████████| 30/30 [00:01<00:00, 25.45it/s]\n",
      "100%|██████████| 30/30 [00:01<00:00, 23.25it/s]\n",
      " 10%|█         | 3/30 [00:00<00:01, 20.82it/s]"
     ]
    },
    {
     "name": "stdout",
     "output_type": "stream",
     "text": [
      "Epoch = 272, loss = 0.4780121338720252, top 1 = 0.0006666666666666666, top 5 = 0.004400000000000003, top 10 = 0.009533333333333338\n"
     ]
    },
    {
     "name": "stderr",
     "output_type": "stream",
     "text": [
      "100%|██████████| 30/30 [00:01<00:00, 17.60it/s]\n",
      "100%|██████████| 30/30 [00:01<00:00, 23.36it/s]\n",
      "100%|██████████| 30/30 [00:01<00:00, 23.49it/s]\n",
      "100%|██████████| 30/30 [00:01<00:00, 23.50it/s]\n",
      " 10%|█         | 3/30 [00:00<00:01, 20.62it/s]"
     ]
    },
    {
     "name": "stdout",
     "output_type": "stream",
     "text": [
      "Epoch = 273, loss = 0.47778483301568414, top 1 = 0.0013333333333333333, top 5 = 0.006133333333333336, top 10 = 0.01153333333333334\n"
     ]
    },
    {
     "name": "stderr",
     "output_type": "stream",
     "text": [
      "100%|██████████| 30/30 [00:01<00:00, 18.59it/s]\n",
      "100%|██████████| 30/30 [00:01<00:00, 23.38it/s]\n",
      "100%|██████████| 30/30 [00:01<00:00, 23.45it/s]\n",
      "100%|██████████| 30/30 [00:01<00:00, 23.35it/s]\n",
      " 10%|█         | 3/30 [00:00<00:01, 20.92it/s]"
     ]
    },
    {
     "name": "stdout",
     "output_type": "stream",
     "text": [
      "Epoch = 274, loss = 0.4775473303375221, top 1 = 0.0006666666666666666, top 5 = 0.004000000000000003, top 10 = 0.008666666666666671\n"
     ]
    },
    {
     "name": "stderr",
     "output_type": "stream",
     "text": [
      "100%|██████████| 30/30 [00:01<00:00, 17.57it/s]\n",
      "100%|██████████| 30/30 [00:01<00:00, 23.37it/s]\n",
      "100%|██████████| 30/30 [00:01<00:00, 24.07it/s]\n",
      "100%|██████████| 30/30 [00:01<00:00, 25.73it/s]\n",
      "  0%|          | 0/30 [00:00<?, ?it/s]"
     ]
    },
    {
     "name": "stdout",
     "output_type": "stream",
     "text": [
      "Epoch = 275, loss = 0.47876603597562883, top 1 = 0.0013333333333333333, top 5 = 0.008933333333333338, top 10 = 0.012333333333333339\n"
     ]
    },
    {
     "name": "stderr",
     "output_type": "stream",
     "text": [
      "100%|██████████| 30/30 [00:01<00:00, 17.63it/s]\n",
      "100%|██████████| 30/30 [00:01<00:00, 23.85it/s]\n",
      "100%|██████████| 30/30 [00:01<00:00, 24.12it/s]\n",
      "100%|██████████| 30/30 [00:01<00:00, 24.05it/s]\n",
      " 10%|█         | 3/30 [00:00<00:01, 21.19it/s]"
     ]
    },
    {
     "name": "stdout",
     "output_type": "stream",
     "text": [
      "Epoch = 276, loss = 0.4777443498869735, top 1 = 0.0006666666666666666, top 5 = 0.0033333333333333344, top 10 = 0.008533333333333337\n"
     ]
    },
    {
     "name": "stderr",
     "output_type": "stream",
     "text": [
      "100%|██████████| 30/30 [00:01<00:00, 17.65it/s]\n",
      "100%|██████████| 30/30 [00:01<00:00, 25.60it/s]\n",
      "100%|██████████| 30/30 [00:01<00:00, 23.93it/s]\n",
      "100%|██████████| 30/30 [00:01<00:00, 22.06it/s]\n",
      " 10%|█         | 3/30 [00:00<00:01, 20.62it/s]"
     ]
    },
    {
     "name": "stdout",
     "output_type": "stream",
     "text": [
      "Epoch = 277, loss = 0.479488909808196, top 1 = 0.0013333333333333333, top 5 = 0.006400000000000002, top 10 = 0.011600000000000006\n"
     ]
    },
    {
     "name": "stderr",
     "output_type": "stream",
     "text": [
      "100%|██████████| 30/30 [00:01<00:00, 17.60it/s]\n",
      "100%|██████████| 30/30 [00:01<00:00, 23.90it/s]\n",
      "100%|██████████| 30/30 [00:01<00:00, 23.88it/s]\n",
      "100%|██████████| 30/30 [00:01<00:00, 25.65it/s]\n",
      "  3%|▎         | 1/30 [00:00<00:04,  7.05it/s]"
     ]
    },
    {
     "name": "stdout",
     "output_type": "stream",
     "text": [
      "Epoch = 278, loss = 0.4779140308860736, top 1 = 0.0013333333333333333, top 5 = 0.005600000000000003, top 10 = 0.011400000000000006\n"
     ]
    },
    {
     "name": "stderr",
     "output_type": "stream",
     "text": [
      "100%|██████████| 30/30 [00:01<00:00, 17.58it/s]\n",
      "100%|██████████| 30/30 [00:01<00:00, 21.76it/s]\n",
      "100%|██████████| 30/30 [00:01<00:00, 23.27it/s]\n",
      "100%|██████████| 30/30 [00:01<00:00, 23.39it/s]\n",
      " 10%|█         | 3/30 [00:00<00:01, 20.91it/s]"
     ]
    },
    {
     "name": "stdout",
     "output_type": "stream",
     "text": [
      "Epoch = 279, loss = 0.4802587072905258, top 1 = 0.0013333333333333333, top 5 = 0.005333333333333337, top 10 = 0.01153333333333334\n"
     ]
    },
    {
     "name": "stderr",
     "output_type": "stream",
     "text": [
      "100%|██████████| 30/30 [00:01<00:00, 17.52it/s]\n",
      "100%|██████████| 30/30 [00:01<00:00, 23.69it/s]\n",
      "100%|██████████| 30/30 [00:01<00:00, 25.50it/s]\n",
      "100%|██████████| 30/30 [00:01<00:00, 23.98it/s]\n",
      " 10%|█         | 3/30 [00:00<00:01, 20.98it/s]"
     ]
    },
    {
     "name": "stdout",
     "output_type": "stream",
     "text": [
      "Epoch = 280, loss = 0.47813466506978686, top 1 = 0.0006666666666666666, top 5 = 0.004133333333333335, top 10 = 0.008666666666666671\n"
     ]
    },
    {
     "name": "stderr",
     "output_type": "stream",
     "text": [
      "100%|██████████| 30/30 [00:01<00:00, 17.59it/s]\n",
      "100%|██████████| 30/30 [00:01<00:00, 23.67it/s]\n",
      "100%|██████████| 30/30 [00:01<00:00, 23.85it/s]\n",
      "100%|██████████| 30/30 [00:01<00:00, 23.65it/s]\n",
      " 10%|█         | 3/30 [00:00<00:01, 21.26it/s]"
     ]
    },
    {
     "name": "stdout",
     "output_type": "stream",
     "text": [
      "Epoch = 281, loss = 0.4793429304185869, top 1 = 0.0013333333333333333, top 5 = 0.007200000000000002, top 10 = 0.011933333333333341\n"
     ]
    },
    {
     "name": "stderr",
     "output_type": "stream",
     "text": [
      "100%|██████████| 30/30 [00:01<00:00, 18.68it/s]\n",
      "100%|██████████| 30/30 [00:01<00:00, 23.88it/s]\n",
      "100%|██████████| 30/30 [00:01<00:00, 23.64it/s]\n",
      "100%|██████████| 30/30 [00:01<00:00, 23.43it/s]\n",
      " 10%|█         | 3/30 [00:00<00:01, 20.66it/s]"
     ]
    },
    {
     "name": "stdout",
     "output_type": "stream",
     "text": [
      "Epoch = 282, loss = 0.47771196820899886, top 1 = 0.0006666666666666666, top 5 = 0.0038666666666666684, top 10 = 0.008933333333333338\n"
     ]
    },
    {
     "name": "stderr",
     "output_type": "stream",
     "text": [
      "100%|██████████| 30/30 [00:01<00:00, 17.55it/s]\n",
      "100%|██████████| 30/30 [00:01<00:00, 23.32it/s]\n",
      "100%|██████████| 30/30 [00:01<00:00, 25.42it/s]\n",
      "100%|██████████| 30/30 [00:01<00:00, 23.47it/s]\n",
      " 10%|█         | 3/30 [00:00<00:01, 20.63it/s]"
     ]
    },
    {
     "name": "stdout",
     "output_type": "stream",
     "text": [
      "Epoch = 283, loss = 0.48006849955951486, top 1 = 0.0013333333333333333, top 5 = 0.006000000000000004, top 10 = 0.011266666666666673\n"
     ]
    },
    {
     "name": "stderr",
     "output_type": "stream",
     "text": [
      "100%|██████████| 30/30 [00:01<00:00, 17.51it/s]\n",
      "100%|██████████| 30/30 [00:01<00:00, 23.37it/s]\n",
      "100%|██████████| 30/30 [00:01<00:00, 23.38it/s]\n",
      "100%|██████████| 30/30 [00:01<00:00, 23.55it/s]\n",
      " 10%|█         | 3/30 [00:00<00:01, 20.93it/s]"
     ]
    },
    {
     "name": "stdout",
     "output_type": "stream",
     "text": [
      "Epoch = 284, loss = 0.4775363416053985, top 1 = 0.0006666666666666666, top 5 = 0.005333333333333337, top 10 = 0.010266666666666672\n"
     ]
    },
    {
     "name": "stderr",
     "output_type": "stream",
     "text": [
      "100%|██████████| 30/30 [00:01<00:00, 18.57it/s]\n",
      "100%|██████████| 30/30 [00:01<00:00, 23.89it/s]\n",
      "100%|██████████| 30/30 [00:01<00:00, 23.72it/s]\n",
      "100%|██████████| 30/30 [00:01<00:00, 24.05it/s]\n",
      " 10%|█         | 3/30 [00:00<00:01, 20.95it/s]"
     ]
    },
    {
     "name": "stdout",
     "output_type": "stream",
     "text": [
      "Epoch = 285, loss = 0.47902864121698735, top 1 = 0.0013333333333333333, top 5 = 0.007333333333333336, top 10 = 0.011800000000000007\n"
     ]
    },
    {
     "name": "stderr",
     "output_type": "stream",
     "text": [
      "100%|██████████| 30/30 [00:01<00:00, 17.44it/s]\n",
      "100%|██████████| 30/30 [00:01<00:00, 23.84it/s]\n",
      "100%|██████████| 30/30 [00:01<00:00, 26.01it/s]\n",
      "100%|██████████| 30/30 [00:01<00:00, 23.96it/s]\n",
      " 10%|█         | 3/30 [00:00<00:01, 21.00it/s]"
     ]
    },
    {
     "name": "stdout",
     "output_type": "stream",
     "text": [
      "Epoch = 286, loss = 0.47787238334908066, top 1 = 0.0006666666666666666, top 5 = 0.004400000000000002, top 10 = 0.009666666666666672\n"
     ]
    },
    {
     "name": "stderr",
     "output_type": "stream",
     "text": [
      "100%|██████████| 30/30 [00:01<00:00, 17.55it/s]\n",
      "100%|██████████| 30/30 [00:01<00:00, 23.84it/s]\n",
      "100%|██████████| 30/30 [00:01<00:00, 23.78it/s]\n",
      "100%|██████████| 30/30 [00:01<00:00, 23.76it/s]\n",
      " 10%|█         | 3/30 [00:00<00:01, 20.66it/s]"
     ]
    },
    {
     "name": "stdout",
     "output_type": "stream",
     "text": [
      "Epoch = 287, loss = 0.47870983521279364, top 1 = 0.0013333333333333333, top 5 = 0.006533333333333337, top 10 = 0.01153333333333334\n"
     ]
    },
    {
     "name": "stderr",
     "output_type": "stream",
     "text": [
      "100%|██████████| 30/30 [00:01<00:00, 18.55it/s]\n",
      "100%|██████████| 30/30 [00:01<00:00, 23.55it/s]\n",
      "100%|██████████| 30/30 [00:01<00:00, 23.77it/s]\n",
      "100%|██████████| 30/30 [00:01<00:00, 24.09it/s]\n",
      " 10%|█         | 3/30 [00:00<00:01, 20.71it/s]"
     ]
    },
    {
     "name": "stdout",
     "output_type": "stream",
     "text": [
      "Epoch = 288, loss = 0.4773312430521984, top 1 = 0.0006666666666666666, top 5 = 0.0042666666666666695, top 10 = 0.009200000000000005\n"
     ]
    },
    {
     "name": "stderr",
     "output_type": "stream",
     "text": [
      "100%|██████████| 30/30 [00:01<00:00, 17.40it/s]\n",
      "100%|██████████| 30/30 [00:01<00:00, 23.34it/s]\n",
      "100%|██████████| 30/30 [00:01<00:00, 23.05it/s]\n",
      "100%|██████████| 30/30 [00:01<00:00, 25.53it/s]\n",
      "  0%|          | 0/30 [00:00<?, ?it/s]"
     ]
    },
    {
     "name": "stdout",
     "output_type": "stream",
     "text": [
      "Epoch = 289, loss = 0.479870790125294, top 1 = 0.0013333333333333333, top 5 = 0.007333333333333336, top 10 = 0.011800000000000007\n"
     ]
    },
    {
     "name": "stderr",
     "output_type": "stream",
     "text": [
      "100%|██████████| 30/30 [00:01<00:00, 17.46it/s]\n",
      "100%|██████████| 30/30 [00:01<00:00, 23.73it/s]\n",
      "100%|██████████| 30/30 [00:01<00:00, 24.03it/s]\n",
      "100%|██████████| 30/30 [00:01<00:00, 23.00it/s]\n",
      " 10%|█         | 3/30 [00:00<00:01, 20.55it/s]"
     ]
    },
    {
     "name": "stdout",
     "output_type": "stream",
     "text": [
      "Epoch = 290, loss = 0.47653645879842127, top 1 = 0.0006666666666666666, top 5 = 0.005066666666666669, top 10 = 0.009533333333333338\n"
     ]
    },
    {
     "name": "stderr",
     "output_type": "stream",
     "text": [
      "100%|██████████| 30/30 [00:01<00:00, 17.49it/s]\n",
      "100%|██████████| 30/30 [00:01<00:00, 25.75it/s]\n",
      "100%|██████████| 30/30 [00:01<00:00, 23.60it/s]\n",
      "100%|██████████| 30/30 [00:01<00:00, 24.03it/s]\n",
      " 10%|█         | 3/30 [00:00<00:01, 20.75it/s]"
     ]
    },
    {
     "name": "stdout",
     "output_type": "stream",
     "text": [
      "Epoch = 291, loss = 0.47899210985762714, top 1 = 0.0013333333333333333, top 5 = 0.006933333333333336, top 10 = 0.011800000000000007\n"
     ]
    },
    {
     "name": "stderr",
     "output_type": "stream",
     "text": [
      "100%|██████████| 30/30 [00:01<00:00, 17.41it/s]\n",
      "100%|██████████| 30/30 [00:01<00:00, 23.80it/s]\n",
      "100%|██████████| 30/30 [00:01<00:00, 24.03it/s]\n",
      "100%|██████████| 30/30 [00:01<00:00, 26.02it/s]\n",
      "  0%|          | 0/30 [00:00<?, ?it/s]"
     ]
    },
    {
     "name": "stdout",
     "output_type": "stream",
     "text": [
      "Epoch = 292, loss = 0.47700463110066244, top 1 = 0.0006666666666666666, top 5 = 0.0032000000000000015, top 10 = 0.007400000000000003\n"
     ]
    },
    {
     "name": "stderr",
     "output_type": "stream",
     "text": [
      "100%|██████████| 30/30 [00:01<00:00, 17.43it/s]\n",
      "100%|██████████| 30/30 [00:01<00:00, 23.70it/s]\n",
      "100%|██████████| 30/30 [00:01<00:00, 23.62it/s]\n",
      "100%|██████████| 30/30 [00:01<00:00, 23.95it/s]\n",
      " 10%|█         | 3/30 [00:00<00:01, 20.62it/s]"
     ]
    },
    {
     "name": "stdout",
     "output_type": "stream",
     "text": [
      "Epoch = 293, loss = 0.4797912422899312, top 1 = 0.0013333333333333333, top 5 = 0.006400000000000004, top 10 = 0.011266666666666673\n"
     ]
    },
    {
     "name": "stderr",
     "output_type": "stream",
     "text": [
      "100%|██████████| 30/30 [00:01<00:00, 17.49it/s]\n",
      "100%|██████████| 30/30 [00:01<00:00, 25.94it/s]\n",
      "100%|██████████| 30/30 [00:01<00:00, 23.63it/s]\n",
      "100%|██████████| 30/30 [00:01<00:00, 24.00it/s]\n",
      " 10%|█         | 3/30 [00:00<00:01, 20.62it/s]"
     ]
    },
    {
     "name": "stdout",
     "output_type": "stream",
     "text": [
      "Epoch = 294, loss = 0.4776118657541714, top 1 = 0.0006666666666666666, top 5 = 0.005466666666666669, top 10 = 0.010133333333333338\n"
     ]
    },
    {
     "name": "stderr",
     "output_type": "stream",
     "text": [
      "100%|██████████| 30/30 [00:01<00:00, 17.41it/s]\n",
      "100%|██████████| 30/30 [00:01<00:00, 23.96it/s]\n",
      "100%|██████████| 30/30 [00:01<00:00, 23.72it/s]\n",
      "100%|██████████| 30/30 [00:01<00:00, 26.17it/s]\n",
      "  3%|▎         | 1/30 [00:00<00:04,  7.20it/s]"
     ]
    },
    {
     "name": "stdout",
     "output_type": "stream",
     "text": [
      "Epoch = 295, loss = 0.4783869752665029, top 1 = 0.0013333333333333333, top 5 = 0.005866666666666669, top 10 = 0.011400000000000006\n"
     ]
    },
    {
     "name": "stderr",
     "output_type": "stream",
     "text": [
      "100%|██████████| 30/30 [00:01<00:00, 17.45it/s]\n",
      "100%|██████████| 30/30 [00:01<00:00, 23.88it/s]\n",
      "100%|██████████| 30/30 [00:01<00:00, 23.76it/s]\n",
      "100%|██████████| 30/30 [00:01<00:00, 24.02it/s]\n",
      " 10%|█         | 3/30 [00:00<00:01, 20.80it/s]"
     ]
    },
    {
     "name": "stdout",
     "output_type": "stream",
     "text": [
      "Epoch = 296, loss = 0.4772697996388409, top 1 = 0.0006666666666666666, top 5 = 0.00506666666666667, top 10 = 0.009666666666666672\n"
     ]
    },
    {
     "name": "stderr",
     "output_type": "stream",
     "text": [
      "100%|██████████| 30/30 [00:01<00:00, 17.56it/s]\n",
      "100%|██████████| 30/30 [00:01<00:00, 23.46it/s]\n",
      "100%|██████████| 30/30 [00:01<00:00, 25.42it/s]\n",
      "100%|██████████| 30/30 [00:01<00:00, 23.43it/s]\n",
      " 10%|█         | 3/30 [00:00<00:01, 21.24it/s]"
     ]
    },
    {
     "name": "stdout",
     "output_type": "stream",
     "text": [
      "Epoch = 297, loss = 0.4791087347800077, top 1 = 0.0013333333333333333, top 5 = 0.007733333333333337, top 10 = 0.011933333333333341\n"
     ]
    },
    {
     "name": "stderr",
     "output_type": "stream",
     "text": [
      "100%|██████████| 30/30 [00:01<00:00, 17.47it/s]\n",
      "100%|██████████| 30/30 [00:01<00:00, 23.07it/s]\n",
      "100%|██████████| 30/30 [00:01<00:00, 23.42it/s]\n",
      "100%|██████████| 30/30 [00:01<00:00, 23.37it/s]\n",
      " 10%|█         | 3/30 [00:00<00:01, 20.42it/s]"
     ]
    },
    {
     "name": "stdout",
     "output_type": "stream",
     "text": [
      "Epoch = 298, loss = 0.4784646984199586, top 1 = 0.0006666666666666666, top 5 = 0.005066666666666669, top 10 = 0.009333333333333338\n"
     ]
    },
    {
     "name": "stderr",
     "output_type": "stream",
     "text": [
      "100%|██████████| 30/30 [00:01<00:00, 18.45it/s]\n",
      "100%|██████████| 30/30 [00:01<00:00, 23.58it/s]\n",
      "100%|██████████| 30/30 [00:01<00:00, 23.51it/s]\n",
      "100%|██████████| 30/30 [00:01<00:00, 23.96it/s]\n",
      " 10%|█         | 3/30 [00:00<00:01, 20.60it/s]"
     ]
    },
    {
     "name": "stdout",
     "output_type": "stream",
     "text": [
      "Epoch = 299, loss = 0.47743174911829656, top 1 = 0.0013333333333333333, top 5 = 0.006000000000000002, top 10 = 0.011266666666666673\n"
     ]
    },
    {
     "name": "stderr",
     "output_type": "stream",
     "text": [
      "100%|██████████| 30/30 [00:01<00:00, 17.57it/s]\n",
      "100%|██████████| 30/30 [00:01<00:00, 23.64it/s]\n",
      "100%|██████████| 30/30 [00:01<00:00, 25.95it/s]\n",
      "100%|██████████| 30/30 [00:01<00:00, 23.87it/s]\n",
      " 10%|█         | 3/30 [00:00<00:01, 20.71it/s]"
     ]
    },
    {
     "name": "stdout",
     "output_type": "stream",
     "text": [
      "Epoch = 300, loss = 0.47607680854697215, top 1 = 0.0006666666666666666, top 5 = 0.003600000000000001, top 10 = 0.008400000000000003\n"
     ]
    },
    {
     "name": "stderr",
     "output_type": "stream",
     "text": [
      "100%|██████████| 30/30 [00:01<00:00, 17.35it/s]\n",
      "100%|██████████| 30/30 [00:01<00:00, 23.59it/s]\n",
      "100%|██████████| 30/30 [00:01<00:00, 23.47it/s]\n",
      "100%|██████████| 30/30 [00:01<00:00, 23.89it/s]\n",
      " 10%|█         | 3/30 [00:00<00:01, 20.54it/s]"
     ]
    },
    {
     "name": "stdout",
     "output_type": "stream",
     "text": [
      "Epoch = 301, loss = 0.47910109727911976, top 1 = 0.0013333333333333333, top 5 = 0.007200000000000002, top 10 = 0.01173333333333334\n"
     ]
    },
    {
     "name": "stderr",
     "output_type": "stream",
     "text": [
      "100%|██████████| 30/30 [00:01<00:00, 18.49it/s]\n",
      "100%|██████████| 30/30 [00:01<00:00, 23.78it/s]\n",
      "100%|██████████| 30/30 [00:01<00:00, 23.61it/s]\n",
      "100%|██████████| 30/30 [00:01<00:00, 23.97it/s]\n",
      " 10%|█         | 3/30 [00:00<00:01, 20.65it/s]"
     ]
    },
    {
     "name": "stdout",
     "output_type": "stream",
     "text": [
      "Epoch = 302, loss = 0.47806505550036793, top 1 = 0.0006666666666666666, top 5 = 0.004000000000000003, top 10 = 0.009533333333333338\n"
     ]
    },
    {
     "name": "stderr",
     "output_type": "stream",
     "text": [
      "100%|██████████| 30/30 [00:01<00:00, 17.51it/s]\n",
      "100%|██████████| 30/30 [00:01<00:00, 23.36it/s]\n",
      "100%|██████████| 30/30 [00:01<00:00, 25.61it/s]\n",
      "100%|██████████| 30/30 [00:01<00:00, 23.35it/s]\n",
      " 10%|█         | 3/30 [00:00<00:01, 20.63it/s]"
     ]
    },
    {
     "name": "stdout",
     "output_type": "stream",
     "text": [
      "Epoch = 303, loss = 0.47870288339619654, top 1 = 0.0013333333333333333, top 5 = 0.005866666666666669, top 10 = 0.011466666666666674\n"
     ]
    },
    {
     "name": "stderr",
     "output_type": "stream",
     "text": [
      "100%|██████████| 30/30 [00:01<00:00, 17.44it/s]\n",
      "100%|██████████| 30/30 [00:01<00:00, 23.81it/s]\n",
      "100%|██████████| 30/30 [00:01<00:00, 23.86it/s]\n",
      "100%|██████████| 30/30 [00:01<00:00, 23.92it/s]\n",
      " 10%|█         | 3/30 [00:00<00:01, 21.04it/s]"
     ]
    },
    {
     "name": "stdout",
     "output_type": "stream",
     "text": [
      "Epoch = 304, loss = 0.47795979930944965, top 1 = 0.0006666666666666666, top 5 = 0.005066666666666669, top 10 = 0.00993333333333334\n"
     ]
    },
    {
     "name": "stderr",
     "output_type": "stream",
     "text": [
      "100%|██████████| 30/30 [00:01<00:00, 18.53it/s]\n",
      "100%|██████████| 30/30 [00:01<00:00, 23.59it/s]\n",
      "100%|██████████| 30/30 [00:01<00:00, 23.79it/s]\n",
      "100%|██████████| 30/30 [00:01<00:00, 24.10it/s]\n",
      " 10%|█         | 3/30 [00:00<00:01, 20.90it/s]"
     ]
    },
    {
     "name": "stdout",
     "output_type": "stream",
     "text": [
      "Epoch = 305, loss = 0.47992999627380556, top 1 = 0.0013333333333333333, top 5 = 0.006000000000000003, top 10 = 0.01173333333333334\n"
     ]
    },
    {
     "name": "stderr",
     "output_type": "stream",
     "text": [
      "100%|██████████| 30/30 [00:01<00:00, 17.65it/s]\n",
      "100%|██████████| 30/30 [00:01<00:00, 23.95it/s]\n",
      "100%|██████████| 30/30 [00:01<00:00, 24.13it/s]\n",
      "100%|██████████| 30/30 [00:01<00:00, 26.01it/s]\n",
      "  0%|          | 0/30 [00:00<?, ?it/s]"
     ]
    },
    {
     "name": "stdout",
     "output_type": "stream",
     "text": [
      "Epoch = 306, loss = 0.47825907567857917, top 1 = 0.0006666666666666666, top 5 = 0.004400000000000003, top 10 = 0.009133333333333337\n"
     ]
    },
    {
     "name": "stderr",
     "output_type": "stream",
     "text": [
      "100%|██████████| 30/30 [00:01<00:00, 17.43it/s]\n",
      "100%|██████████| 30/30 [00:01<00:00, 23.81it/s]\n",
      "100%|██████████| 30/30 [00:01<00:00, 24.04it/s]\n",
      "100%|██████████| 30/30 [00:01<00:00, 23.34it/s]\n",
      " 10%|█         | 3/30 [00:00<00:01, 20.55it/s]"
     ]
    },
    {
     "name": "stdout",
     "output_type": "stream",
     "text": [
      "Epoch = 307, loss = 0.480116782784206, top 1 = 0.0013333333333333333, top 5 = 0.0065333333333333354, top 10 = 0.01173333333333334\n"
     ]
    },
    {
     "name": "stderr",
     "output_type": "stream",
     "text": [
      "100%|██████████| 30/30 [00:01<00:00, 17.61it/s]\n",
      "100%|██████████| 30/30 [00:01<00:00, 25.81it/s]\n",
      "100%|██████████| 30/30 [00:01<00:00, 23.33it/s]\n",
      "100%|██████████| 30/30 [00:01<00:00, 23.99it/s]\n",
      " 10%|█         | 3/30 [00:00<00:01, 20.51it/s]"
     ]
    },
    {
     "name": "stdout",
     "output_type": "stream",
     "text": [
      "Epoch = 308, loss = 0.4773601995289628, top 1 = 0.0006666666666666666, top 5 = 0.004666666666666669, top 10 = 0.009266666666666671\n"
     ]
    },
    {
     "name": "stderr",
     "output_type": "stream",
     "text": [
      "100%|██████████| 30/30 [00:01<00:00, 17.49it/s]\n",
      "100%|██████████| 30/30 [00:01<00:00, 23.82it/s]\n",
      "100%|██████████| 30/30 [00:01<00:00, 23.74it/s]\n",
      "100%|██████████| 30/30 [00:01<00:00, 25.50it/s]\n",
      "  3%|▎         | 1/30 [00:00<00:04,  7.00it/s]"
     ]
    },
    {
     "name": "stdout",
     "output_type": "stream",
     "text": [
      "Epoch = 309, loss = 0.4800619874089525, top 1 = 0.0013333333333333333, top 5 = 0.006933333333333336, top 10 = 0.011666666666666674\n"
     ]
    },
    {
     "name": "stderr",
     "output_type": "stream",
     "text": [
      "100%|██████████| 30/30 [00:01<00:00, 17.33it/s]\n",
      "100%|██████████| 30/30 [00:01<00:00, 23.87it/s]\n",
      "100%|██████████| 30/30 [00:01<00:00, 23.81it/s]\n",
      "100%|██████████| 30/30 [00:01<00:00, 23.64it/s]\n",
      " 10%|█         | 3/30 [00:00<00:01, 21.06it/s]"
     ]
    },
    {
     "name": "stdout",
     "output_type": "stream",
     "text": [
      "Epoch = 310, loss = 0.4778078804515486, top 1 = 0.0006666666666666666, top 5 = 0.005733333333333337, top 10 = 0.010466666666666673\n"
     ]
    },
    {
     "name": "stderr",
     "output_type": "stream",
     "text": [
      "100%|██████████| 30/30 [00:01<00:00, 17.60it/s]\n",
      "100%|██████████| 30/30 [00:01<00:00, 23.85it/s]\n",
      "100%|██████████| 30/30 [00:01<00:00, 25.68it/s]\n",
      "100%|██████████| 30/30 [00:01<00:00, 24.00it/s]\n",
      " 10%|█         | 3/30 [00:00<00:01, 20.97it/s]"
     ]
    },
    {
     "name": "stdout",
     "output_type": "stream",
     "text": [
      "Epoch = 311, loss = 0.47831081045792817, top 1 = 0.0006666666666666666, top 5 = 0.00466666666666667, top 10 = 0.009533333333333338\n"
     ]
    },
    {
     "name": "stderr",
     "output_type": "stream",
     "text": [
      "100%|██████████| 30/30 [00:01<00:00, 17.59it/s]\n",
      "100%|██████████| 30/30 [00:01<00:00, 23.85it/s]\n",
      "100%|██████████| 30/30 [00:01<00:00, 24.01it/s]\n",
      "100%|██████████| 30/30 [00:01<00:00, 23.88it/s]\n",
      " 10%|█         | 3/30 [00:00<00:01, 21.05it/s]"
     ]
    },
    {
     "name": "stdout",
     "output_type": "stream",
     "text": [
      "Epoch = 312, loss = 0.47748505313893636, top 1 = 0.0013333333333333333, top 5 = 0.007333333333333338, top 10 = 0.011800000000000007\n"
     ]
    },
    {
     "name": "stderr",
     "output_type": "stream",
     "text": [
      "100%|██████████| 30/30 [00:01<00:00, 18.53it/s]\n",
      "100%|██████████| 30/30 [00:01<00:00, 23.89it/s]\n",
      "100%|██████████| 30/30 [00:01<00:00, 24.00it/s]\n",
      "100%|██████████| 30/30 [00:01<00:00, 23.98it/s]\n",
      " 10%|█         | 3/30 [00:00<00:01, 21.06it/s]"
     ]
    },
    {
     "name": "stdout",
     "output_type": "stream",
     "text": [
      "Epoch = 313, loss = 0.4787536769422459, top 1 = 0.0013333333333333333, top 5 = 0.006000000000000003, top 10 = 0.011266666666666673\n"
     ]
    },
    {
     "name": "stderr",
     "output_type": "stream",
     "text": [
      "100%|██████████| 30/30 [00:01<00:00, 17.68it/s]\n",
      "100%|██████████| 30/30 [00:01<00:00, 23.71it/s]\n",
      "100%|██████████| 30/30 [00:01<00:00, 25.13it/s]\n",
      "100%|██████████| 30/30 [00:01<00:00, 23.29it/s]\n",
      " 10%|█         | 3/30 [00:00<00:01, 20.53it/s]"
     ]
    },
    {
     "name": "stdout",
     "output_type": "stream",
     "text": [
      "Epoch = 314, loss = 0.47634690270513297, top 1 = 0.0006666666666666666, top 5 = 0.004933333333333336, top 10 = 0.009533333333333338\n"
     ]
    },
    {
     "name": "stderr",
     "output_type": "stream",
     "text": [
      "100%|██████████| 30/30 [00:01<00:00, 17.52it/s]\n",
      "100%|██████████| 30/30 [00:01<00:00, 23.54it/s]\n",
      "100%|██████████| 30/30 [00:01<00:00, 23.48it/s]\n",
      "100%|██████████| 30/30 [00:01<00:00, 23.33it/s]\n",
      " 10%|█         | 3/30 [00:00<00:01, 20.17it/s]"
     ]
    },
    {
     "name": "stdout",
     "output_type": "stream",
     "text": [
      "Epoch = 315, loss = 0.47820541344439144, top 1 = 0.0013333333333333333, top 5 = 0.006400000000000002, top 10 = 0.011466666666666674\n"
     ]
    },
    {
     "name": "stderr",
     "output_type": "stream",
     "text": [
      "100%|██████████| 30/30 [00:01<00:00, 18.37it/s]\n",
      "100%|██████████| 30/30 [00:01<00:00, 23.88it/s]\n",
      "100%|██████████| 30/30 [00:01<00:00, 23.69it/s]\n",
      "100%|██████████| 30/30 [00:01<00:00, 24.09it/s]\n",
      " 10%|█         | 3/30 [00:00<00:01, 20.99it/s]"
     ]
    },
    {
     "name": "stdout",
     "output_type": "stream",
     "text": [
      "Epoch = 316, loss = 0.4769552500697437, top 1 = 0.0006666666666666666, top 5 = 0.004800000000000002, top 10 = 0.009000000000000005\n"
     ]
    },
    {
     "name": "stderr",
     "output_type": "stream",
     "text": [
      "100%|██████████| 30/30 [00:01<00:00, 17.60it/s]\n",
      "100%|██████████| 30/30 [00:01<00:00, 23.98it/s]\n",
      "100%|██████████| 30/30 [00:01<00:00, 25.80it/s]\n",
      "100%|██████████| 30/30 [00:01<00:00, 24.05it/s]\n",
      " 10%|█         | 3/30 [00:00<00:01, 20.79it/s]"
     ]
    },
    {
     "name": "stdout",
     "output_type": "stream",
     "text": [
      "Epoch = 317, loss = 0.4785198871705924, top 1 = 0.0013333333333333333, top 5 = 0.005866666666666669, top 10 = 0.01073333333333334\n"
     ]
    },
    {
     "name": "stderr",
     "output_type": "stream",
     "text": [
      "100%|██████████| 30/30 [00:01<00:00, 17.38it/s]\n",
      "100%|██████████| 30/30 [00:01<00:00, 24.04it/s]\n",
      "100%|██████████| 30/30 [00:01<00:00, 24.11it/s]\n",
      "100%|██████████| 30/30 [00:01<00:00, 24.03it/s]\n",
      " 10%|█         | 3/30 [00:00<00:01, 21.43it/s]"
     ]
    },
    {
     "name": "stdout",
     "output_type": "stream",
     "text": [
      "Epoch = 318, loss = 0.4771563805859246, top 1 = 0.0013333333333333333, top 5 = 0.005866666666666669, top 10 = 0.011266666666666673\n"
     ]
    },
    {
     "name": "stderr",
     "output_type": "stream",
     "text": [
      "100%|██████████| 30/30 [00:01<00:00, 18.44it/s]\n",
      "100%|██████████| 30/30 [00:01<00:00, 23.85it/s]\n",
      "100%|██████████| 30/30 [00:01<00:00, 24.13it/s]\n",
      "100%|██████████| 30/30 [00:01<00:00, 23.67it/s]\n",
      " 10%|█         | 3/30 [00:00<00:01, 21.06it/s]"
     ]
    },
    {
     "name": "stdout",
     "output_type": "stream",
     "text": [
      "Epoch = 319, loss = 0.47783307919215745, top 1 = 0.0013333333333333333, top 5 = 0.006133333333333336, top 10 = 0.011466666666666674\n"
     ]
    },
    {
     "name": "stderr",
     "output_type": "stream",
     "text": [
      "100%|██████████| 30/30 [00:01<00:00, 17.57it/s]\n",
      "100%|██████████| 30/30 [00:01<00:00, 23.56it/s]\n",
      "100%|██████████| 30/30 [00:01<00:00, 23.24it/s]\n",
      "100%|██████████| 30/30 [00:01<00:00, 25.93it/s]\n",
      "  0%|          | 0/30 [00:00<?, ?it/s]"
     ]
    },
    {
     "name": "stdout",
     "output_type": "stream",
     "text": [
      "Epoch = 320, loss = 0.47781205049297626, top 1 = 0.0006666666666666666, top 5 = 0.003600000000000001, top 10 = 0.007933333333333337\n"
     ]
    },
    {
     "name": "stderr",
     "output_type": "stream",
     "text": [
      "100%|██████████| 30/30 [00:01<00:00, 17.60it/s]\n",
      "100%|██████████| 30/30 [00:01<00:00, 23.99it/s]\n",
      "100%|██████████| 30/30 [00:01<00:00, 23.68it/s]\n",
      "100%|██████████| 30/30 [00:01<00:00, 23.51it/s]\n",
      " 10%|█         | 3/30 [00:00<00:01, 21.00it/s]"
     ]
    },
    {
     "name": "stdout",
     "output_type": "stream",
     "text": [
      "Epoch = 321, loss = 0.479557031594203, top 1 = 0.0013333333333333333, top 5 = 0.008533333333333337, top 10 = 0.012400000000000007\n"
     ]
    },
    {
     "name": "stderr",
     "output_type": "stream",
     "text": [
      "100%|██████████| 30/30 [00:01<00:00, 17.45it/s]\n",
      "100%|██████████| 30/30 [00:01<00:00, 25.73it/s]\n",
      "100%|██████████| 30/30 [00:01<00:00, 24.02it/s]\n",
      "100%|██████████| 30/30 [00:01<00:00, 24.04it/s]\n",
      " 10%|█         | 3/30 [00:00<00:01, 21.09it/s]"
     ]
    },
    {
     "name": "stdout",
     "output_type": "stream",
     "text": [
      "Epoch = 322, loss = 0.47794358781801677, top 1 = 0.0006666666666666666, top 5 = 0.005066666666666669, top 10 = 0.009333333333333338\n"
     ]
    },
    {
     "name": "stderr",
     "output_type": "stream",
     "text": [
      "100%|██████████| 30/30 [00:01<00:00, 17.57it/s]\n",
      "100%|██████████| 30/30 [00:01<00:00, 23.86it/s]\n",
      "100%|██████████| 30/30 [00:01<00:00, 23.82it/s]\n",
      "100%|██████████| 30/30 [00:01<00:00, 26.15it/s]\n",
      "  0%|          | 0/30 [00:00<?, ?it/s]"
     ]
    },
    {
     "name": "stdout",
     "output_type": "stream",
     "text": [
      "Epoch = 323, loss = 0.4776182237022411, top 1 = 0.0013333333333333333, top 5 = 0.00546666666666667, top 10 = 0.010600000000000005\n"
     ]
    },
    {
     "name": "stderr",
     "output_type": "stream",
     "text": [
      "100%|██████████| 30/30 [00:01<00:00, 17.57it/s]\n",
      "100%|██████████| 30/30 [00:01<00:00, 23.95it/s]\n",
      "100%|██████████| 30/30 [00:01<00:00, 24.00it/s]\n",
      "100%|██████████| 30/30 [00:01<00:00, 24.03it/s]\n",
      " 10%|█         | 3/30 [00:00<00:01, 20.67it/s]"
     ]
    },
    {
     "name": "stdout",
     "output_type": "stream",
     "text": [
      "Epoch = 324, loss = 0.4771850133248352, top 1 = 0.0013333333333333333, top 5 = 0.006133333333333335, top 10 = 0.01133333333333334\n"
     ]
    },
    {
     "name": "stderr",
     "output_type": "stream",
     "text": [
      "100%|██████████| 30/30 [00:01<00:00, 17.47it/s]\n",
      "100%|██████████| 30/30 [00:01<00:00, 25.69it/s]\n",
      "100%|██████████| 30/30 [00:01<00:00, 22.28it/s]\n",
      "100%|██████████| 30/30 [00:01<00:00, 22.51it/s]\n",
      " 10%|█         | 3/30 [00:00<00:01, 20.60it/s]"
     ]
    },
    {
     "name": "stdout",
     "output_type": "stream",
     "text": [
      "Epoch = 325, loss = 0.4783759089152935, top 1 = 0.0013333333333333333, top 5 = 0.006133333333333337, top 10 = 0.010800000000000006\n"
     ]
    },
    {
     "name": "stderr",
     "output_type": "stream",
     "text": [
      "100%|██████████| 30/30 [00:01<00:00, 17.58it/s]\n",
      "100%|██████████| 30/30 [00:01<00:00, 23.79it/s]\n",
      "100%|██████████| 30/30 [00:01<00:00, 23.69it/s]\n",
      "100%|██████████| 30/30 [00:01<00:00, 25.86it/s]\n",
      "  3%|▎         | 1/30 [00:00<00:04,  7.20it/s]"
     ]
    },
    {
     "name": "stdout",
     "output_type": "stream",
     "text": [
      "Epoch = 326, loss = 0.47781564030721674, top 1 = 0.0013333333333333333, top 5 = 0.005600000000000003, top 10 = 0.010666666666666673\n"
     ]
    },
    {
     "name": "stderr",
     "output_type": "stream",
     "text": [
      "100%|██████████| 30/30 [00:01<00:00, 17.50it/s]\n",
      "100%|██████████| 30/30 [00:01<00:00, 23.66it/s]\n",
      "100%|██████████| 30/30 [00:01<00:00, 24.07it/s]\n",
      "100%|██████████| 30/30 [00:01<00:00, 24.05it/s]\n",
      " 10%|█         | 3/30 [00:00<00:01, 20.56it/s]"
     ]
    },
    {
     "name": "stdout",
     "output_type": "stream",
     "text": [
      "Epoch = 327, loss = 0.4802410523655597, top 1 = 0.0013333333333333333, top 5 = 0.006400000000000004, top 10 = 0.01173333333333334\n"
     ]
    },
    {
     "name": "stderr",
     "output_type": "stream",
     "text": [
      "100%|██████████| 30/30 [00:01<00:00, 17.41it/s]\n",
      "100%|██████████| 30/30 [00:01<00:00, 23.76it/s]\n",
      "100%|██████████| 30/30 [00:01<00:00, 25.96it/s]\n",
      "100%|██████████| 30/30 [00:01<00:00, 23.62it/s]\n",
      " 10%|█         | 3/30 [00:00<00:01, 21.11it/s]"
     ]
    },
    {
     "name": "stdout",
     "output_type": "stream",
     "text": [
      "Epoch = 328, loss = 0.47698330397436695, top 1 = 0.0013333333333333333, top 5 = 0.0062666666666666695, top 10 = 0.011000000000000006\n"
     ]
    },
    {
     "name": "stderr",
     "output_type": "stream",
     "text": [
      "100%|██████████| 30/30 [00:01<00:00, 17.64it/s]\n",
      "100%|██████████| 30/30 [00:01<00:00, 23.53it/s]\n",
      "100%|██████████| 30/30 [00:01<00:00, 23.61it/s]\n",
      "100%|██████████| 30/30 [00:01<00:00, 24.04it/s]\n",
      " 10%|█         | 3/30 [00:00<00:01, 20.91it/s]"
     ]
    },
    {
     "name": "stdout",
     "output_type": "stream",
     "text": [
      "Epoch = 329, loss = 0.4782666411484414, top 1 = 0.0013333333333333333, top 5 = 0.00546666666666667, top 10 = 0.010066666666666672\n"
     ]
    },
    {
     "name": "stderr",
     "output_type": "stream",
     "text": [
      "100%|██████████| 30/30 [00:01<00:00, 18.54it/s]\n",
      "100%|██████████| 30/30 [00:01<00:00, 23.80it/s]\n",
      "100%|██████████| 30/30 [00:01<00:00, 23.66it/s]\n",
      "100%|██████████| 30/30 [00:01<00:00, 24.08it/s]\n",
      " 10%|█         | 3/30 [00:00<00:01, 21.27it/s]"
     ]
    },
    {
     "name": "stdout",
     "output_type": "stream",
     "text": [
      "Epoch = 330, loss = 0.47925197920808227, top 1 = 0.0013333333333333333, top 5 = 0.006133333333333336, top 10 = 0.011266666666666673\n"
     ]
    },
    {
     "name": "stderr",
     "output_type": "stream",
     "text": [
      "100%|██████████| 30/30 [00:01<00:00, 17.47it/s]\n",
      "100%|██████████| 30/30 [00:01<00:00, 23.87it/s]\n",
      "100%|██████████| 30/30 [00:01<00:00, 25.36it/s]\n",
      "100%|██████████| 30/30 [00:01<00:00, 23.34it/s]\n",
      " 10%|█         | 3/30 [00:00<00:01, 20.33it/s]"
     ]
    },
    {
     "name": "stdout",
     "output_type": "stream",
     "text": [
      "Epoch = 331, loss = 0.47881485975004706, top 1 = 0.0013333333333333333, top 5 = 0.006533333333333337, top 10 = 0.011466666666666674\n"
     ]
    },
    {
     "name": "stderr",
     "output_type": "stream",
     "text": [
      "100%|██████████| 30/30 [00:01<00:00, 17.58it/s]\n",
      "100%|██████████| 30/30 [00:01<00:00, 23.35it/s]\n",
      "100%|██████████| 30/30 [00:01<00:00, 23.37it/s]\n",
      "100%|██████████| 30/30 [00:01<00:00, 24.10it/s]\n",
      " 10%|█         | 3/30 [00:00<00:01, 20.85it/s]"
     ]
    },
    {
     "name": "stdout",
     "output_type": "stream",
     "text": [
      "Epoch = 332, loss = 0.47878988009964335, top 1 = 0.0013333333333333333, top 5 = 0.006400000000000004, top 10 = 0.01133333333333334\n"
     ]
    },
    {
     "name": "stderr",
     "output_type": "stream",
     "text": [
      "100%|██████████| 30/30 [00:01<00:00, 18.57it/s]\n",
      "100%|██████████| 30/30 [00:01<00:00, 23.93it/s]\n",
      "100%|██████████| 30/30 [00:01<00:00, 23.87it/s]\n",
      "100%|██████████| 30/30 [00:01<00:00, 24.06it/s]\n",
      " 10%|█         | 3/30 [00:00<00:01, 20.88it/s]"
     ]
    },
    {
     "name": "stdout",
     "output_type": "stream",
     "text": [
      "Epoch = 333, loss = 0.47818636575103984, top 1 = 0.0013333333333333333, top 5 = 0.005600000000000003, top 10 = 0.010266666666666672\n"
     ]
    },
    {
     "name": "stderr",
     "output_type": "stream",
     "text": [
      "100%|██████████| 30/30 [00:01<00:00, 17.41it/s]\n",
      "100%|██████████| 30/30 [00:01<00:00, 23.86it/s]\n",
      "100%|██████████| 30/30 [00:01<00:00, 25.99it/s]\n",
      "100%|██████████| 30/30 [00:01<00:00, 24.01it/s]\n",
      " 10%|█         | 3/30 [00:00<00:01, 20.92it/s]"
     ]
    },
    {
     "name": "stdout",
     "output_type": "stream",
     "text": [
      "Epoch = 334, loss = 0.47676210165601, top 1 = 0.0013333333333333333, top 5 = 0.007066666666666669, top 10 = 0.011600000000000006\n"
     ]
    },
    {
     "name": "stderr",
     "output_type": "stream",
     "text": [
      "100%|██████████| 30/30 [00:01<00:00, 17.69it/s]\n",
      "100%|██████████| 30/30 [00:01<00:00, 23.47it/s]\n",
      "100%|██████████| 30/30 [00:01<00:00, 23.38it/s]\n",
      "100%|██████████| 30/30 [00:01<00:00, 24.08it/s]\n",
      " 10%|█         | 3/30 [00:00<00:01, 20.94it/s]"
     ]
    },
    {
     "name": "stdout",
     "output_type": "stream",
     "text": [
      "Epoch = 335, loss = 0.4768459349901267, top 1 = 0.0013333333333333333, top 5 = 0.00626666666666667, top 10 = 0.01093333333333334\n"
     ]
    },
    {
     "name": "stderr",
     "output_type": "stream",
     "text": [
      "100%|██████████| 30/30 [00:01<00:00, 18.58it/s]\n",
      "100%|██████████| 30/30 [00:01<00:00, 23.93it/s]\n",
      "100%|██████████| 30/30 [00:01<00:00, 23.43it/s]\n",
      "100%|██████████| 30/30 [00:01<00:00, 23.62it/s]\n",
      " 10%|█         | 3/30 [00:00<00:01, 21.00it/s]"
     ]
    },
    {
     "name": "stdout",
     "output_type": "stream",
     "text": [
      "Epoch = 336, loss = 0.4780706646062743, top 1 = 0.0006666666666666666, top 5 = 0.004133333333333335, top 10 = 0.008600000000000003\n"
     ]
    },
    {
     "name": "stderr",
     "output_type": "stream",
     "text": [
      "100%|██████████| 30/30 [00:01<00:00, 17.57it/s]\n",
      "100%|██████████| 30/30 [00:01<00:00, 23.72it/s]\n",
      "100%|██████████| 30/30 [00:01<00:00, 23.31it/s]\n",
      "100%|██████████| 30/30 [00:01<00:00, 25.71it/s]\n",
      "  0%|          | 0/30 [00:00<?, ?it/s]"
     ]
    },
    {
     "name": "stdout",
     "output_type": "stream",
     "text": [
      "Epoch = 337, loss = 0.4779784340124215, top 1 = 0.0013333333333333333, top 5 = 0.006533333333333337, top 10 = 0.01133333333333334\n"
     ]
    },
    {
     "name": "stderr",
     "output_type": "stream",
     "text": [
      "100%|██████████| 30/30 [00:01<00:00, 17.55it/s]\n",
      "100%|██████████| 30/30 [00:01<00:00, 23.99it/s]\n",
      "100%|██████████| 30/30 [00:01<00:00, 23.75it/s]\n",
      "100%|██████████| 30/30 [00:01<00:00, 24.11it/s]\n",
      " 10%|█         | 3/30 [00:00<00:01, 21.12it/s]"
     ]
    },
    {
     "name": "stdout",
     "output_type": "stream",
     "text": [
      "Epoch = 338, loss = 0.47799028059666404, top 1 = 0.0013333333333333333, top 5 = 0.005333333333333337, top 10 = 0.010066666666666672\n"
     ]
    },
    {
     "name": "stderr",
     "output_type": "stream",
     "text": [
      "100%|██████████| 30/30 [00:01<00:00, 17.64it/s]\n",
      "100%|██████████| 30/30 [00:01<00:00, 25.87it/s]\n",
      "100%|██████████| 30/30 [00:01<00:00, 23.49it/s]\n",
      "100%|██████████| 30/30 [00:01<00:00, 23.47it/s]\n",
      " 10%|█         | 3/30 [00:00<00:01, 20.87it/s]"
     ]
    },
    {
     "name": "stdout",
     "output_type": "stream",
     "text": [
      "Epoch = 339, loss = 0.4786255248280199, top 1 = 0.0006666666666666666, top 5 = 0.005066666666666669, top 10 = 0.009666666666666672\n"
     ]
    },
    {
     "name": "stderr",
     "output_type": "stream",
     "text": [
      "100%|██████████| 30/30 [00:01<00:00, 17.55it/s]\n",
      "100%|██████████| 30/30 [00:01<00:00, 23.44it/s]\n",
      "100%|██████████| 30/30 [00:01<00:00, 23.35it/s]\n",
      "100%|██████████| 30/30 [00:01<00:00, 25.50it/s]\n",
      "  3%|▎         | 1/30 [00:00<00:04,  7.06it/s]"
     ]
    },
    {
     "name": "stdout",
     "output_type": "stream",
     "text": [
      "Epoch = 340, loss = 0.47736517376957105, top 1 = 0.0013333333333333333, top 5 = 0.006400000000000004, top 10 = 0.01133333333333334\n"
     ]
    },
    {
     "name": "stderr",
     "output_type": "stream",
     "text": [
      "100%|██████████| 30/30 [00:01<00:00, 17.65it/s]\n",
      "100%|██████████| 30/30 [00:01<00:00, 23.63it/s]\n",
      "100%|██████████| 30/30 [00:01<00:00, 23.83it/s]\n",
      "100%|██████████| 30/30 [00:01<00:00, 23.53it/s]\n",
      " 10%|█         | 3/30 [00:00<00:01, 20.33it/s]"
     ]
    },
    {
     "name": "stdout",
     "output_type": "stream",
     "text": [
      "Epoch = 341, loss = 0.4780316048683363, top 1 = 0.0013333333333333333, top 5 = 0.006000000000000003, top 10 = 0.011200000000000007\n"
     ]
    },
    {
     "name": "stderr",
     "output_type": "stream",
     "text": [
      "100%|██████████| 30/30 [00:01<00:00, 17.56it/s]\n",
      "100%|██████████| 30/30 [00:01<00:00, 23.85it/s]\n",
      "100%|██████████| 30/30 [00:01<00:00, 26.13it/s]\n",
      "100%|██████████| 30/30 [00:01<00:00, 24.18it/s]\n",
      " 10%|█         | 3/30 [00:00<00:01, 21.44it/s]"
     ]
    },
    {
     "name": "stdout",
     "output_type": "stream",
     "text": [
      "Epoch = 342, loss = 0.47667030892445056, top 1 = 0.0006666666666666666, top 5 = 0.004533333333333336, top 10 = 0.009400000000000004\n"
     ]
    },
    {
     "name": "stderr",
     "output_type": "stream",
     "text": [
      "100%|██████████| 30/30 [00:01<00:00, 17.37it/s]\n",
      "100%|██████████| 30/30 [00:01<00:00, 24.01it/s]\n",
      "100%|██████████| 30/30 [00:01<00:00, 24.08it/s]\n",
      "100%|██████████| 30/30 [00:01<00:00, 23.88it/s]\n",
      " 10%|█         | 3/30 [00:00<00:01, 20.74it/s]"
     ]
    },
    {
     "name": "stdout",
     "output_type": "stream",
     "text": [
      "Epoch = 343, loss = 0.47928488196723507, top 1 = 0.0013333333333333333, top 5 = 0.007466666666666669, top 10 = 0.011800000000000007\n"
     ]
    },
    {
     "name": "stderr",
     "output_type": "stream",
     "text": [
      "100%|██████████| 30/30 [00:01<00:00, 18.78it/s]\n",
      "100%|██████████| 30/30 [00:01<00:00, 23.61it/s]\n",
      "100%|██████████| 30/30 [00:01<00:00, 23.72it/s]\n",
      "100%|██████████| 30/30 [00:01<00:00, 23.92it/s]\n",
      " 10%|█         | 3/30 [00:00<00:01, 21.00it/s]"
     ]
    },
    {
     "name": "stdout",
     "output_type": "stream",
     "text": [
      "Epoch = 344, loss = 0.47702613066011124, top 1 = 0.0006666666666666666, top 5 = 0.004400000000000003, top 10 = 0.009400000000000004\n"
     ]
    },
    {
     "name": "stderr",
     "output_type": "stream",
     "text": [
      "100%|██████████| 30/30 [00:01<00:00, 17.61it/s]\n",
      "100%|██████████| 30/30 [00:01<00:00, 23.76it/s]\n",
      "100%|██████████| 30/30 [00:01<00:00, 25.93it/s]\n",
      "100%|██████████| 30/30 [00:01<00:00, 23.92it/s]\n",
      " 10%|█         | 3/30 [00:00<00:01, 20.98it/s]"
     ]
    },
    {
     "name": "stdout",
     "output_type": "stream",
     "text": [
      "Epoch = 345, loss = 0.47994126919450686, top 1 = 0.0013333333333333333, top 5 = 0.005333333333333337, top 10 = 0.010200000000000006\n"
     ]
    },
    {
     "name": "stderr",
     "output_type": "stream",
     "text": [
      "100%|██████████| 30/30 [00:01<00:00, 17.29it/s]\n",
      "100%|██████████| 30/30 [00:01<00:00, 23.71it/s]\n",
      "100%|██████████| 30/30 [00:01<00:00, 23.42it/s]\n",
      "100%|██████████| 30/30 [00:01<00:00, 23.30it/s]\n",
      " 10%|█         | 3/30 [00:00<00:01, 20.98it/s]"
     ]
    },
    {
     "name": "stdout",
     "output_type": "stream",
     "text": [
      "Epoch = 346, loss = 0.47722871396080435, top 1 = 0.002, top 5 = 0.008000000000000004, top 10 = 0.012000000000000007\n"
     ]
    },
    {
     "name": "stderr",
     "output_type": "stream",
     "text": [
      "100%|██████████| 30/30 [00:01<00:00, 18.54it/s]\n",
      "100%|██████████| 30/30 [00:01<00:00, 23.68it/s]\n",
      "100%|██████████| 30/30 [00:01<00:00, 23.57it/s]\n",
      "100%|██████████| 30/30 [00:01<00:00, 24.10it/s]\n",
      " 10%|█         | 3/30 [00:00<00:01, 20.81it/s]"
     ]
    },
    {
     "name": "stdout",
     "output_type": "stream",
     "text": [
      "Epoch = 347, loss = 0.47829212065936816, top 1 = 0.0013333333333333333, top 5 = 0.004666666666666669, top 10 = 0.009466666666666672\n"
     ]
    },
    {
     "name": "stderr",
     "output_type": "stream",
     "text": [
      "100%|██████████| 30/30 [00:01<00:00, 17.64it/s]\n",
      "100%|██████████| 30/30 [00:01<00:00, 23.85it/s]\n",
      "100%|██████████| 30/30 [00:01<00:00, 26.07it/s]\n",
      "100%|██████████| 30/30 [00:01<00:00, 23.52it/s]\n",
      " 10%|█         | 3/30 [00:00<00:01, 20.82it/s]"
     ]
    },
    {
     "name": "stdout",
     "output_type": "stream",
     "text": [
      "Epoch = 348, loss = 0.4788592091279168, top 1 = 0.0013333333333333333, top 5 = 0.006800000000000003, top 10 = 0.011600000000000006\n"
     ]
    },
    {
     "name": "stderr",
     "output_type": "stream",
     "text": [
      "100%|██████████| 30/30 [00:01<00:00, 17.45it/s]\n",
      "100%|██████████| 30/30 [00:01<00:00, 23.72it/s]\n",
      "100%|██████████| 30/30 [00:01<00:00, 23.48it/s]\n",
      "100%|██████████| 30/30 [00:01<00:00, 23.19it/s]\n",
      " 10%|█         | 3/30 [00:00<00:01, 20.61it/s]"
     ]
    },
    {
     "name": "stdout",
     "output_type": "stream",
     "text": [
      "Epoch = 349, loss = 0.4779748429468581, top 1 = 0.002, top 5 = 0.00906666666666667, top 10 = 0.012400000000000005\n"
     ]
    },
    {
     "name": "stderr",
     "output_type": "stream",
     "text": [
      "100%|██████████| 30/30 [00:01<00:00, 18.70it/s]\n",
      "100%|██████████| 30/30 [00:01<00:00, 23.63it/s]\n",
      "100%|██████████| 30/30 [00:01<00:00, 24.09it/s]\n",
      "100%|██████████| 30/30 [00:01<00:00, 24.27it/s]\n",
      " 10%|█         | 3/30 [00:00<00:01, 21.12it/s]"
     ]
    },
    {
     "name": "stdout",
     "output_type": "stream",
     "text": [
      "Epoch = 350, loss = 0.4776950093370573, top 1 = 0.0006666666666666666, top 5 = 0.004400000000000002, top 10 = 0.00886666666666667\n"
     ]
    },
    {
     "name": "stderr",
     "output_type": "stream",
     "text": [
      "100%|██████████| 30/30 [00:01<00:00, 17.67it/s]\n",
      "100%|██████████| 30/30 [00:01<00:00, 23.90it/s]\n",
      "100%|██████████| 30/30 [00:01<00:00, 24.07it/s]\n",
      "100%|██████████| 30/30 [00:01<00:00, 25.57it/s]\n",
      "  0%|          | 0/30 [00:00<?, ?it/s]"
     ]
    },
    {
     "name": "stdout",
     "output_type": "stream",
     "text": [
      "Epoch = 351, loss = 0.47711950084152543, top 1 = 0.0013333333333333333, top 5 = 0.006400000000000002, top 10 = 0.01173333333333334\n"
     ]
    },
    {
     "name": "stderr",
     "output_type": "stream",
     "text": [
      "100%|██████████| 30/30 [00:01<00:00, 17.42it/s]\n",
      "100%|██████████| 30/30 [00:01<00:00, 24.01it/s]\n",
      "100%|██████████| 30/30 [00:01<00:00, 23.91it/s]\n",
      "100%|██████████| 30/30 [00:01<00:00, 23.86it/s]\n",
      " 10%|█         | 3/30 [00:00<00:01, 21.24it/s]"
     ]
    },
    {
     "name": "stdout",
     "output_type": "stream",
     "text": [
      "Epoch = 352, loss = 0.47774838755295385, top 1 = 0.0013333333333333333, top 5 = 0.007466666666666669, top 10 = 0.011800000000000007\n"
     ]
    },
    {
     "name": "stderr",
     "output_type": "stream",
     "text": [
      "100%|██████████| 30/30 [00:01<00:00, 17.58it/s]\n",
      "100%|██████████| 30/30 [00:01<00:00, 25.65it/s]\n",
      "100%|██████████| 30/30 [00:01<00:00, 23.98it/s]\n",
      "100%|██████████| 30/30 [00:01<00:00, 23.97it/s]\n",
      " 10%|█         | 3/30 [00:00<00:01, 20.74it/s]"
     ]
    },
    {
     "name": "stdout",
     "output_type": "stream",
     "text": [
      "Epoch = 353, loss = 0.4783422049231475, top 1 = 0.0006666666666666666, top 5 = 0.004533333333333335, top 10 = 0.009466666666666672\n"
     ]
    },
    {
     "name": "stderr",
     "output_type": "stream",
     "text": [
      "100%|██████████| 30/30 [00:01<00:00, 17.53it/s]\n",
      "100%|██████████| 30/30 [00:01<00:00, 23.55it/s]\n",
      "100%|██████████| 30/30 [00:01<00:00, 23.95it/s]\n",
      "100%|██████████| 30/30 [00:01<00:00, 25.64it/s]\n",
      "  0%|          | 0/30 [00:00<?, ?it/s]"
     ]
    },
    {
     "name": "stdout",
     "output_type": "stream",
     "text": [
      "Epoch = 354, loss = 0.4787059423285471, top 1 = 0.0013333333333333333, top 5 = 0.006400000000000003, top 10 = 0.01173333333333334\n"
     ]
    },
    {
     "name": "stderr",
     "output_type": "stream",
     "text": [
      "100%|██████████| 30/30 [00:01<00:00, 17.43it/s]\n",
      "100%|██████████| 30/30 [00:01<00:00, 23.28it/s]\n",
      "100%|██████████| 30/30 [00:01<00:00, 23.61it/s]\n",
      "100%|██████████| 30/30 [00:01<00:00, 23.65it/s]\n",
      " 10%|█         | 3/30 [00:00<00:01, 20.93it/s]"
     ]
    },
    {
     "name": "stdout",
     "output_type": "stream",
     "text": [
      "Epoch = 355, loss = 0.47715209965752015, top 1 = 0.0013333333333333333, top 5 = 0.008133333333333336, top 10 = 0.012200000000000008\n"
     ]
    },
    {
     "name": "stderr",
     "output_type": "stream",
     "text": [
      "100%|██████████| 30/30 [00:01<00:00, 17.56it/s]\n",
      "100%|██████████| 30/30 [00:01<00:00, 25.20it/s]\n",
      "100%|██████████| 30/30 [00:01<00:00, 23.99it/s]\n",
      "100%|██████████| 30/30 [00:01<00:00, 24.01it/s]\n",
      " 10%|█         | 3/30 [00:00<00:01, 21.10it/s]"
     ]
    },
    {
     "name": "stdout",
     "output_type": "stream",
     "text": [
      "Epoch = 356, loss = 0.47637028410853005, top 1 = 0.0006666666666666666, top 5 = 0.0042666666666666695, top 10 = 0.008600000000000003\n"
     ]
    },
    {
     "name": "stderr",
     "output_type": "stream",
     "text": [
      "100%|██████████| 30/30 [00:01<00:00, 17.46it/s]\n",
      "100%|██████████| 30/30 [00:01<00:00, 23.96it/s]\n",
      "100%|██████████| 30/30 [00:01<00:00, 23.88it/s]\n",
      "100%|██████████| 30/30 [00:01<00:00, 25.27it/s]\n",
      "  3%|▎         | 1/30 [00:00<00:04,  6.58it/s]"
     ]
    },
    {
     "name": "stdout",
     "output_type": "stream",
     "text": [
      "Epoch = 357, loss = 0.47679634958329475, top 1 = 0.0013333333333333333, top 5 = 0.00626666666666667, top 10 = 0.01093333333333334\n"
     ]
    },
    {
     "name": "stderr",
     "output_type": "stream",
     "text": [
      "100%|██████████| 30/30 [00:01<00:00, 17.26it/s]\n",
      "100%|██████████| 30/30 [00:01<00:00, 23.68it/s]\n",
      "100%|██████████| 30/30 [00:01<00:00, 23.99it/s]\n",
      "100%|██████████| 30/30 [00:01<00:00, 23.67it/s]\n",
      " 10%|█         | 3/30 [00:00<00:01, 20.68it/s]"
     ]
    },
    {
     "name": "stdout",
     "output_type": "stream",
     "text": [
      "Epoch = 358, loss = 0.47713334469964985, top 1 = 0.0013333333333333333, top 5 = 0.00626666666666667, top 10 = 0.01133333333333334\n"
     ]
    },
    {
     "name": "stderr",
     "output_type": "stream",
     "text": [
      "100%|██████████| 30/30 [00:01<00:00, 17.50it/s]\n",
      "100%|██████████| 30/30 [00:01<00:00, 23.55it/s]\n",
      "100%|██████████| 30/30 [00:01<00:00, 26.08it/s]\n",
      "100%|██████████| 30/30 [00:01<00:00, 24.00it/s]\n",
      " 10%|█         | 3/30 [00:00<00:01, 20.63it/s]"
     ]
    },
    {
     "name": "stdout",
     "output_type": "stream",
     "text": [
      "Epoch = 359, loss = 0.47792100962525225, top 1 = 0.0013333333333333333, top 5 = 0.005333333333333337, top 10 = 0.010533333333333339\n"
     ]
    },
    {
     "name": "stderr",
     "output_type": "stream",
     "text": [
      "100%|██████████| 30/30 [00:01<00:00, 17.60it/s]\n",
      "100%|██████████| 30/30 [00:01<00:00, 23.84it/s]\n",
      "100%|██████████| 30/30 [00:01<00:00, 24.01it/s]\n",
      "100%|██████████| 30/30 [00:01<00:00, 23.72it/s]\n",
      " 10%|█         | 3/30 [00:00<00:01, 21.11it/s]"
     ]
    },
    {
     "name": "stdout",
     "output_type": "stream",
     "text": [
      "Epoch = 360, loss = 0.4774962527575045, top 1 = 0.0013333333333333333, top 5 = 0.007200000000000002, top 10 = 0.01153333333333334\n"
     ]
    },
    {
     "name": "stderr",
     "output_type": "stream",
     "text": [
      "100%|██████████| 30/30 [00:01<00:00, 18.56it/s]\n",
      "100%|██████████| 30/30 [00:01<00:00, 23.83it/s]\n",
      "100%|██████████| 30/30 [00:01<00:00, 23.50it/s]\n",
      "100%|██████████| 30/30 [00:01<00:00, 23.33it/s]\n",
      " 10%|█         | 3/30 [00:00<00:01, 21.03it/s]"
     ]
    },
    {
     "name": "stdout",
     "output_type": "stream",
     "text": [
      "Epoch = 361, loss = 0.4777456420259846, top 1 = 0.0013333333333333333, top 5 = 0.00586666666666667, top 10 = 0.011066666666666673\n"
     ]
    },
    {
     "name": "stderr",
     "output_type": "stream",
     "text": [
      "100%|██████████| 30/30 [00:01<00:00, 17.59it/s]\n",
      "100%|██████████| 30/30 [00:01<00:00, 23.13it/s]\n",
      "100%|██████████| 30/30 [00:01<00:00, 25.99it/s]\n",
      "100%|██████████| 30/30 [00:01<00:00, 23.74it/s]\n",
      " 10%|█         | 3/30 [00:00<00:01, 20.50it/s]"
     ]
    },
    {
     "name": "stdout",
     "output_type": "stream",
     "text": [
      "Epoch = 362, loss = 0.4764164094020102, top 1 = 0.0013333333333333333, top 5 = 0.005333333333333337, top 10 = 0.010666666666666673\n"
     ]
    },
    {
     "name": "stderr",
     "output_type": "stream",
     "text": [
      "100%|██████████| 30/30 [00:01<00:00, 17.48it/s]\n",
      "100%|██████████| 30/30 [00:01<00:00, 23.92it/s]\n",
      "100%|██████████| 30/30 [00:01<00:00, 23.87it/s]\n",
      "100%|██████████| 30/30 [00:01<00:00, 23.49it/s]\n",
      " 10%|█         | 3/30 [00:00<00:01, 20.56it/s]"
     ]
    },
    {
     "name": "stdout",
     "output_type": "stream",
     "text": [
      "Epoch = 363, loss = 0.47839964960019343, top 1 = 0.0013333333333333333, top 5 = 0.007733333333333337, top 10 = 0.012200000000000008\n"
     ]
    },
    {
     "name": "stderr",
     "output_type": "stream",
     "text": [
      "100%|██████████| 30/30 [00:01<00:00, 18.42it/s]\n",
      "100%|██████████| 30/30 [00:01<00:00, 23.97it/s]\n",
      "100%|██████████| 30/30 [00:01<00:00, 24.03it/s]\n",
      "100%|██████████| 30/30 [00:01<00:00, 23.73it/s]\n",
      " 10%|█         | 3/30 [00:00<00:01, 20.64it/s]"
     ]
    },
    {
     "name": "stdout",
     "output_type": "stream",
     "text": [
      "Epoch = 364, loss = 0.47696553169476935, top 1 = 0.0006666666666666666, top 5 = 0.004400000000000003, top 10 = 0.009000000000000005\n"
     ]
    },
    {
     "name": "stderr",
     "output_type": "stream",
     "text": [
      "100%|██████████| 30/30 [00:01<00:00, 17.59it/s]\n",
      "100%|██████████| 30/30 [00:01<00:00, 23.54it/s]\n",
      "100%|██████████| 30/30 [00:01<00:00, 26.06it/s]\n",
      "100%|██████████| 30/30 [00:01<00:00, 23.84it/s]\n",
      " 10%|█         | 3/30 [00:00<00:01, 21.08it/s]"
     ]
    },
    {
     "name": "stdout",
     "output_type": "stream",
     "text": [
      "Epoch = 365, loss = 0.47772894547485156, top 1 = 0.0013333333333333333, top 5 = 0.0076000000000000035, top 10 = 0.011866666666666673\n"
     ]
    },
    {
     "name": "stderr",
     "output_type": "stream",
     "text": [
      "100%|██████████| 30/30 [00:01<00:00, 17.68it/s]\n",
      "100%|██████████| 30/30 [00:01<00:00, 23.86it/s]\n",
      "100%|██████████| 30/30 [00:01<00:00, 23.72it/s]\n",
      "100%|██████████| 30/30 [00:01<00:00, 23.00it/s]\n",
      " 10%|█         | 3/30 [00:00<00:01, 21.00it/s]"
     ]
    },
    {
     "name": "stdout",
     "output_type": "stream",
     "text": [
      "Epoch = 366, loss = 0.4766309430522368, top 1 = 0.0013333333333333333, top 5 = 0.005733333333333337, top 10 = 0.010600000000000005\n"
     ]
    },
    {
     "name": "stderr",
     "output_type": "stream",
     "text": [
      "100%|██████████| 30/30 [00:01<00:00, 18.55it/s]\n",
      "100%|██████████| 30/30 [00:01<00:00, 23.45it/s]\n",
      "100%|██████████| 30/30 [00:01<00:00, 24.08it/s]\n",
      "100%|██████████| 30/30 [00:01<00:00, 23.89it/s]\n",
      " 10%|█         | 3/30 [00:00<00:01, 21.04it/s]"
     ]
    },
    {
     "name": "stdout",
     "output_type": "stream",
     "text": [
      "Epoch = 367, loss = 0.47976806739466726, top 1 = 0.0013333333333333333, top 5 = 0.005600000000000003, top 10 = 0.010866666666666672\n"
     ]
    },
    {
     "name": "stderr",
     "output_type": "stream",
     "text": [
      "100%|██████████| 30/30 [00:01<00:00, 17.53it/s]\n",
      "100%|██████████| 30/30 [00:01<00:00, 23.58it/s]\n",
      "100%|██████████| 30/30 [00:01<00:00, 24.08it/s]\n",
      "100%|██████████| 30/30 [00:01<00:00, 25.93it/s]\n",
      "  0%|          | 0/30 [00:00<?, ?it/s]"
     ]
    },
    {
     "name": "stdout",
     "output_type": "stream",
     "text": [
      "Epoch = 368, loss = 0.4790891338525508, top 1 = 0.002, top 5 = 0.008133333333333336, top 10 = 0.012066666666666673\n"
     ]
    },
    {
     "name": "stderr",
     "output_type": "stream",
     "text": [
      "100%|██████████| 30/30 [00:01<00:00, 17.53it/s]\n",
      "100%|██████████| 30/30 [00:01<00:00, 23.95it/s]\n",
      "100%|██████████| 30/30 [00:01<00:00, 24.06it/s]\n",
      "100%|██████████| 30/30 [00:01<00:00, 23.71it/s]\n",
      " 10%|█         | 3/30 [00:00<00:01, 21.30it/s]"
     ]
    },
    {
     "name": "stdout",
     "output_type": "stream",
     "text": [
      "Epoch = 369, loss = 0.47891785578257445, top 1 = 0.0006666666666666666, top 5 = 0.004533333333333335, top 10 = 0.009733333333333339\n"
     ]
    },
    {
     "name": "stderr",
     "output_type": "stream",
     "text": [
      "100%|██████████| 30/30 [00:01<00:00, 17.60it/s]\n",
      "100%|██████████| 30/30 [00:01<00:00, 25.08it/s]\n",
      "100%|██████████| 30/30 [00:01<00:00, 23.38it/s]\n",
      "100%|██████████| 30/30 [00:01<00:00, 23.82it/s]\n",
      " 10%|█         | 3/30 [00:00<00:01, 20.79it/s]"
     ]
    },
    {
     "name": "stdout",
     "output_type": "stream",
     "text": [
      "Epoch = 370, loss = 0.47777695562095296, top 1 = 0.0013333333333333333, top 5 = 0.006800000000000003, top 10 = 0.011400000000000006\n"
     ]
    },
    {
     "name": "stderr",
     "output_type": "stream",
     "text": [
      "100%|██████████| 30/30 [00:01<00:00, 17.61it/s]\n",
      "100%|██████████| 30/30 [00:01<00:00, 23.74it/s]\n",
      "100%|██████████| 30/30 [00:01<00:00, 24.04it/s]\n",
      "100%|██████████| 30/30 [00:01<00:00, 25.93it/s]\n",
      "  3%|▎         | 1/30 [00:00<00:04,  7.11it/s]"
     ]
    },
    {
     "name": "stdout",
     "output_type": "stream",
     "text": [
      "Epoch = 371, loss = 0.4770967245622234, top 1 = 0.0013333333333333333, top 5 = 0.007466666666666669, top 10 = 0.01173333333333334\n"
     ]
    },
    {
     "name": "stderr",
     "output_type": "stream",
     "text": [
      "100%|██████████| 30/30 [00:01<00:00, 17.62it/s]\n",
      "100%|██████████| 30/30 [00:01<00:00, 23.81it/s]\n",
      "100%|██████████| 30/30 [00:01<00:00, 24.05it/s]\n",
      "100%|██████████| 30/30 [00:01<00:00, 23.62it/s]\n",
      " 10%|█         | 3/30 [00:00<00:01, 21.20it/s]"
     ]
    },
    {
     "name": "stdout",
     "output_type": "stream",
     "text": [
      "Epoch = 372, loss = 0.4774743102996892, top 1 = 0.0013333333333333333, top 5 = 0.007466666666666669, top 10 = 0.01173333333333334\n"
     ]
    },
    {
     "name": "stderr",
     "output_type": "stream",
     "text": [
      "100%|██████████| 30/30 [00:01<00:00, 17.51it/s]\n",
      "100%|██████████| 30/30 [00:01<00:00, 23.89it/s]\n",
      "100%|██████████| 30/30 [00:01<00:00, 23.84it/s]\n",
      "100%|██████████| 30/30 [00:01<00:00, 23.06it/s]\n",
      " 10%|█         | 3/30 [00:00<00:01, 20.76it/s]"
     ]
    },
    {
     "name": "stdout",
     "output_type": "stream",
     "text": [
      "Epoch = 373, loss = 0.4768850771612371, top 1 = 0.0013333333333333333, top 5 = 0.006800000000000004, top 10 = 0.011466666666666674\n"
     ]
    },
    {
     "name": "stderr",
     "output_type": "stream",
     "text": [
      "100%|██████████| 30/30 [00:01<00:00, 17.37it/s]\n",
      "100%|██████████| 30/30 [00:01<00:00, 23.43it/s]\n",
      "100%|██████████| 30/30 [00:01<00:00, 24.05it/s]\n",
      "100%|██████████| 30/30 [00:01<00:00, 24.00it/s]\n",
      " 10%|█         | 3/30 [00:00<00:01, 20.80it/s]"
     ]
    },
    {
     "name": "stdout",
     "output_type": "stream",
     "text": [
      "Epoch = 374, loss = 0.4772670566912308, top 1 = 0.0013333333333333333, top 5 = 0.006800000000000002, top 10 = 0.01173333333333334\n"
     ]
    },
    {
     "name": "stderr",
     "output_type": "stream",
     "text": [
      "100%|██████████| 30/30 [00:01<00:00, 18.60it/s]\n",
      "100%|██████████| 30/30 [00:01<00:00, 23.87it/s]\n",
      "100%|██████████| 30/30 [00:01<00:00, 23.61it/s]\n",
      "100%|██████████| 30/30 [00:01<00:00, 23.61it/s]\n",
      " 10%|█         | 3/30 [00:00<00:01, 20.74it/s]"
     ]
    },
    {
     "name": "stdout",
     "output_type": "stream",
     "text": [
      "Epoch = 375, loss = 0.47628329548599685, top 1 = 0.0013333333333333333, top 5 = 0.006400000000000004, top 10 = 0.010666666666666673\n"
     ]
    },
    {
     "name": "stderr",
     "output_type": "stream",
     "text": [
      "100%|██████████| 30/30 [00:01<00:00, 17.56it/s]\n",
      "100%|██████████| 30/30 [00:01<00:00, 23.75it/s]\n",
      "100%|██████████| 30/30 [00:01<00:00, 24.48it/s]\n",
      "100%|██████████| 30/30 [00:01<00:00, 23.52it/s]\n",
      " 10%|█         | 3/30 [00:00<00:01, 20.92it/s]"
     ]
    },
    {
     "name": "stdout",
     "output_type": "stream",
     "text": [
      "Epoch = 376, loss = 0.4773575247032583, top 1 = 0.0013333333333333333, top 5 = 0.00586666666666667, top 10 = 0.010800000000000006\n"
     ]
    },
    {
     "name": "stderr",
     "output_type": "stream",
     "text": [
      "100%|██████████| 30/30 [00:01<00:00, 17.59it/s]\n",
      "100%|██████████| 30/30 [00:01<00:00, 23.26it/s]\n",
      "100%|██████████| 30/30 [00:01<00:00, 24.06it/s]\n",
      "100%|██████████| 30/30 [00:01<00:00, 24.12it/s]\n",
      " 10%|█         | 3/30 [00:00<00:01, 20.59it/s]"
     ]
    },
    {
     "name": "stdout",
     "output_type": "stream",
     "text": [
      "Epoch = 377, loss = 0.47789371343561726, top 1 = 0.0013333333333333333, top 5 = 0.006133333333333336, top 10 = 0.011133333333333339\n"
     ]
    },
    {
     "name": "stderr",
     "output_type": "stream",
     "text": [
      "100%|██████████| 30/30 [00:01<00:00, 18.63it/s]\n",
      "100%|██████████| 30/30 [00:01<00:00, 23.56it/s]\n",
      "100%|██████████| 30/30 [00:01<00:00, 23.61it/s]\n",
      "100%|██████████| 30/30 [00:01<00:00, 23.59it/s]\n",
      " 10%|█         | 3/30 [00:00<00:01, 20.54it/s]"
     ]
    },
    {
     "name": "stdout",
     "output_type": "stream",
     "text": [
      "Epoch = 378, loss = 0.47701016737550794, top 1 = 0.0013333333333333333, top 5 = 0.0076000000000000035, top 10 = 0.011933333333333341\n"
     ]
    },
    {
     "name": "stderr",
     "output_type": "stream",
     "text": [
      "100%|██████████| 30/30 [00:01<00:00, 17.65it/s]\n",
      "100%|██████████| 30/30 [00:01<00:00, 23.69it/s]\n",
      "100%|██████████| 30/30 [00:01<00:00, 25.90it/s]\n",
      "100%|██████████| 30/30 [00:01<00:00, 23.72it/s]\n",
      " 10%|█         | 3/30 [00:00<00:01, 20.77it/s]"
     ]
    },
    {
     "name": "stdout",
     "output_type": "stream",
     "text": [
      "Epoch = 379, loss = 0.47660789423248495, top 1 = 0.0013333333333333333, top 5 = 0.006000000000000004, top 10 = 0.010800000000000006\n"
     ]
    },
    {
     "name": "stderr",
     "output_type": "stream",
     "text": [
      "100%|██████████| 30/30 [00:01<00:00, 17.51it/s]\n",
      "100%|██████████| 30/30 [00:01<00:00, 22.73it/s]\n",
      "100%|██████████| 30/30 [00:01<00:00, 23.43it/s]\n",
      "100%|██████████| 30/30 [00:01<00:00, 23.69it/s]\n",
      " 10%|█         | 3/30 [00:00<00:01, 20.76it/s]"
     ]
    },
    {
     "name": "stdout",
     "output_type": "stream",
     "text": [
      "Epoch = 380, loss = 0.4769435915498411, top 1 = 0.0013333333333333333, top 5 = 0.005066666666666669, top 10 = 0.010133333333333338\n"
     ]
    },
    {
     "name": "stderr",
     "output_type": "stream",
     "text": [
      "100%|██████████| 30/30 [00:01<00:00, 18.54it/s]\n",
      "100%|██████████| 30/30 [00:01<00:00, 23.09it/s]\n",
      "100%|██████████| 30/30 [00:01<00:00, 23.44it/s]\n",
      "100%|██████████| 30/30 [00:01<00:00, 23.57it/s]\n",
      " 10%|█         | 3/30 [00:00<00:01, 21.17it/s]"
     ]
    },
    {
     "name": "stdout",
     "output_type": "stream",
     "text": [
      "Epoch = 381, loss = 0.4762435870518498, top 1 = 0.0013333333333333333, top 5 = 0.008133333333333336, top 10 = 0.012200000000000008\n"
     ]
    },
    {
     "name": "stderr",
     "output_type": "stream",
     "text": [
      "100%|██████████| 30/30 [00:01<00:00, 17.52it/s]\n",
      "100%|██████████| 30/30 [00:01<00:00, 23.53it/s]\n",
      "100%|██████████| 30/30 [00:01<00:00, 24.11it/s]\n",
      "100%|██████████| 30/30 [00:01<00:00, 25.78it/s]\n",
      "  0%|          | 0/30 [00:00<?, ?it/s]"
     ]
    },
    {
     "name": "stdout",
     "output_type": "stream",
     "text": [
      "Epoch = 382, loss = 0.4772787902333127, top 1 = 0.0013333333333333333, top 5 = 0.007066666666666669, top 10 = 0.011666666666666674\n"
     ]
    },
    {
     "name": "stderr",
     "output_type": "stream",
     "text": [
      "100%|██████████| 30/30 [00:01<00:00, 17.50it/s]\n",
      "100%|██████████| 30/30 [00:01<00:00, 23.41it/s]\n",
      "100%|██████████| 30/30 [00:01<00:00, 23.59it/s]\n",
      "100%|██████████| 30/30 [00:01<00:00, 23.41it/s]\n",
      " 10%|█         | 3/30 [00:00<00:01, 20.68it/s]"
     ]
    },
    {
     "name": "stdout",
     "output_type": "stream",
     "text": [
      "Epoch = 383, loss = 0.4775570676550262, top 1 = 0.0013333333333333333, top 5 = 0.007066666666666669, top 10 = 0.01153333333333334\n"
     ]
    },
    {
     "name": "stderr",
     "output_type": "stream",
     "text": [
      "100%|██████████| 30/30 [00:01<00:00, 17.60it/s]\n",
      "100%|██████████| 30/30 [00:01<00:00, 25.95it/s]\n",
      "100%|██████████| 30/30 [00:01<00:00, 23.76it/s]\n",
      "100%|██████████| 30/30 [00:01<00:00, 23.38it/s]\n",
      " 10%|█         | 3/30 [00:00<00:01, 20.54it/s]"
     ]
    },
    {
     "name": "stdout",
     "output_type": "stream",
     "text": [
      "Epoch = 384, loss = 0.4759663829254709, top 1 = 0.0013333333333333333, top 5 = 0.006400000000000004, top 10 = 0.011133333333333339\n"
     ]
    },
    {
     "name": "stderr",
     "output_type": "stream",
     "text": [
      "100%|██████████| 30/30 [00:01<00:00, 17.61it/s]\n",
      "100%|██████████| 30/30 [00:01<00:00, 23.40it/s]\n",
      "100%|██████████| 30/30 [00:01<00:00, 23.46it/s]\n",
      "100%|██████████| 30/30 [00:01<00:00, 25.53it/s]\n",
      "  0%|          | 0/30 [00:00<?, ?it/s]"
     ]
    },
    {
     "name": "stdout",
     "output_type": "stream",
     "text": [
      "Epoch = 385, loss = 0.47698335555748533, top 1 = 0.0013333333333333333, top 5 = 0.006800000000000002, top 10 = 0.011400000000000006\n"
     ]
    },
    {
     "name": "stderr",
     "output_type": "stream",
     "text": [
      "100%|██████████| 30/30 [00:01<00:00, 17.48it/s]\n",
      "100%|██████████| 30/30 [00:01<00:00, 23.70it/s]\n",
      "100%|██████████| 30/30 [00:01<00:00, 24.08it/s]\n",
      "100%|██████████| 30/30 [00:01<00:00, 24.05it/s]\n",
      " 10%|█         | 3/30 [00:00<00:01, 20.85it/s]"
     ]
    },
    {
     "name": "stdout",
     "output_type": "stream",
     "text": [
      "Epoch = 386, loss = 0.4764276287604525, top 1 = 0.0013333333333333333, top 5 = 0.007333333333333336, top 10 = 0.011866666666666673\n"
     ]
    },
    {
     "name": "stderr",
     "output_type": "stream",
     "text": [
      "100%|██████████| 30/30 [00:01<00:00, 17.57it/s]\n",
      "100%|██████████| 30/30 [00:01<00:00, 26.09it/s]\n",
      "100%|██████████| 30/30 [00:01<00:00, 24.02it/s]\n",
      "100%|██████████| 30/30 [00:01<00:00, 23.92it/s]\n",
      " 10%|█         | 3/30 [00:00<00:01, 21.23it/s]"
     ]
    },
    {
     "name": "stdout",
     "output_type": "stream",
     "text": [
      "Epoch = 387, loss = 0.47627672266661314, top 1 = 0.0013333333333333333, top 5 = 0.006133333333333337, top 10 = 0.01093333333333334\n"
     ]
    },
    {
     "name": "stderr",
     "output_type": "stream",
     "text": [
      "100%|██████████| 30/30 [00:01<00:00, 17.63it/s]\n",
      "100%|██████████| 30/30 [00:01<00:00, 23.98it/s]\n",
      "100%|██████████| 30/30 [00:01<00:00, 23.99it/s]\n",
      "100%|██████████| 30/30 [00:01<00:00, 26.16it/s]\n",
      "  3%|▎         | 1/30 [00:00<00:04,  7.17it/s]"
     ]
    },
    {
     "name": "stdout",
     "output_type": "stream",
     "text": [
      "Epoch = 388, loss = 0.477698206239502, top 1 = 0.0013333333333333333, top 5 = 0.006666666666666669, top 10 = 0.011466666666666674\n"
     ]
    },
    {
     "name": "stderr",
     "output_type": "stream",
     "text": [
      "100%|██████████| 30/30 [00:01<00:00, 17.46it/s]\n",
      "100%|██████████| 30/30 [00:01<00:00, 23.41it/s]\n",
      "100%|██████████| 30/30 [00:01<00:00, 24.05it/s]\n",
      "100%|██████████| 30/30 [00:01<00:00, 24.01it/s]\n",
      " 10%|█         | 3/30 [00:00<00:01, 20.93it/s]"
     ]
    },
    {
     "name": "stdout",
     "output_type": "stream",
     "text": [
      "Epoch = 389, loss = 0.4769559083786799, top 1 = 0.0013333333333333333, top 5 = 0.006133333333333337, top 10 = 0.011133333333333339\n"
     ]
    },
    {
     "name": "stderr",
     "output_type": "stream",
     "text": [
      "100%|██████████| 30/30 [00:01<00:00, 17.64it/s]\n",
      "100%|██████████| 30/30 [00:01<00:00, 23.58it/s]\n",
      "100%|██████████| 30/30 [00:01<00:00, 25.91it/s]\n",
      "100%|██████████| 30/30 [00:01<00:00, 23.87it/s]\n",
      " 10%|█         | 3/30 [00:00<00:01, 21.19it/s]"
     ]
    },
    {
     "name": "stdout",
     "output_type": "stream",
     "text": [
      "Epoch = 390, loss = 0.47704852297717387, top 1 = 0.0013333333333333333, top 5 = 0.0076000000000000035, top 10 = 0.011933333333333341\n"
     ]
    },
    {
     "name": "stderr",
     "output_type": "stream",
     "text": [
      "100%|██████████| 30/30 [00:01<00:00, 17.70it/s]\n",
      "100%|██████████| 30/30 [00:01<00:00, 23.87it/s]\n",
      "100%|██████████| 30/30 [00:01<00:00, 24.00it/s]\n",
      "100%|██████████| 30/30 [00:01<00:00, 24.01it/s]\n",
      " 10%|█         | 3/30 [00:00<00:01, 20.60it/s]"
     ]
    },
    {
     "name": "stdout",
     "output_type": "stream",
     "text": [
      "Epoch = 391, loss = 0.4760474576288251, top 1 = 0.0006666666666666666, top 5 = 0.004400000000000003, top 10 = 0.009800000000000005\n"
     ]
    },
    {
     "name": "stderr",
     "output_type": "stream",
     "text": [
      "100%|██████████| 30/30 [00:01<00:00, 18.40it/s]\n",
      "100%|██████████| 30/30 [00:01<00:00, 23.87it/s]\n",
      "100%|██████████| 30/30 [00:01<00:00, 24.07it/s]\n",
      "100%|██████████| 30/30 [00:01<00:00, 24.03it/s]\n",
      " 10%|█         | 3/30 [00:00<00:01, 21.21it/s]"
     ]
    },
    {
     "name": "stdout",
     "output_type": "stream",
     "text": [
      "Epoch = 392, loss = 0.47639342201767515, top 1 = 0.0013333333333333333, top 5 = 0.008800000000000004, top 10 = 0.012400000000000007\n"
     ]
    },
    {
     "name": "stderr",
     "output_type": "stream",
     "text": [
      "100%|██████████| 30/30 [00:01<00:00, 17.72it/s]\n",
      "100%|██████████| 30/30 [00:01<00:00, 24.00it/s]\n",
      "100%|██████████| 30/30 [00:01<00:00, 26.27it/s]\n",
      "100%|██████████| 30/30 [00:01<00:00, 23.72it/s]\n",
      " 10%|█         | 3/30 [00:00<00:01, 21.19it/s]"
     ]
    },
    {
     "name": "stdout",
     "output_type": "stream",
     "text": [
      "Epoch = 393, loss = 0.4773997318937864, top 1 = 0.0013333333333333333, top 5 = 0.005333333333333337, top 10 = 0.010666666666666673\n"
     ]
    },
    {
     "name": "stderr",
     "output_type": "stream",
     "text": [
      "100%|██████████| 30/30 [00:01<00:00, 17.62it/s]\n",
      "100%|██████████| 30/30 [00:01<00:00, 23.67it/s]\n",
      "100%|██████████| 30/30 [00:01<00:00, 24.04it/s]\n",
      "100%|██████████| 30/30 [00:01<00:00, 23.69it/s]\n",
      " 10%|█         | 3/30 [00:00<00:01, 20.70it/s]"
     ]
    },
    {
     "name": "stdout",
     "output_type": "stream",
     "text": [
      "Epoch = 394, loss = 0.47699404274340235, top 1 = 0.0013333333333333333, top 5 = 0.007466666666666669, top 10 = 0.011933333333333341\n"
     ]
    },
    {
     "name": "stderr",
     "output_type": "stream",
     "text": [
      "100%|██████████| 30/30 [00:01<00:00, 18.51it/s]\n",
      "100%|██████████| 30/30 [00:01<00:00, 23.35it/s]\n",
      "100%|██████████| 30/30 [00:01<00:00, 23.33it/s]\n",
      "100%|██████████| 30/30 [00:01<00:00, 23.26it/s]\n",
      " 10%|█         | 3/30 [00:00<00:01, 20.86it/s]"
     ]
    },
    {
     "name": "stdout",
     "output_type": "stream",
     "text": [
      "Epoch = 395, loss = 0.4763660995136621, top 1 = 0.0013333333333333333, top 5 = 0.007200000000000002, top 10 = 0.011800000000000007\n"
     ]
    },
    {
     "name": "stderr",
     "output_type": "stream",
     "text": [
      "100%|██████████| 30/30 [00:01<00:00, 17.57it/s]\n",
      "100%|██████████| 30/30 [00:01<00:00, 23.80it/s]\n",
      "100%|██████████| 30/30 [00:01<00:00, 25.67it/s]\n",
      "100%|██████████| 30/30 [00:01<00:00, 23.54it/s]\n",
      " 10%|█         | 3/30 [00:00<00:01, 20.51it/s]"
     ]
    },
    {
     "name": "stdout",
     "output_type": "stream",
     "text": [
      "Epoch = 396, loss = 0.47706989279855533, top 1 = 0.0013333333333333333, top 5 = 0.005066666666666669, top 10 = 0.010333333333333338\n"
     ]
    },
    {
     "name": "stderr",
     "output_type": "stream",
     "text": [
      "100%|██████████| 30/30 [00:01<00:00, 17.41it/s]\n",
      "100%|██████████| 30/30 [00:01<00:00, 23.78it/s]\n",
      "100%|██████████| 30/30 [00:01<00:00, 23.91it/s]\n",
      "100%|██████████| 30/30 [00:01<00:00, 23.74it/s]\n",
      " 10%|█         | 3/30 [00:00<00:01, 20.44it/s]"
     ]
    },
    {
     "name": "stdout",
     "output_type": "stream",
     "text": [
      "Epoch = 397, loss = 0.47794964799518314, top 1 = 0.0013333333333333333, top 5 = 0.0076000000000000035, top 10 = 0.012000000000000007\n"
     ]
    },
    {
     "name": "stderr",
     "output_type": "stream",
     "text": [
      "100%|██████████| 30/30 [00:01<00:00, 18.28it/s]\n",
      "100%|██████████| 30/30 [00:01<00:00, 23.73it/s]\n",
      "100%|██████████| 30/30 [00:01<00:00, 23.43it/s]\n",
      "100%|██████████| 30/30 [00:01<00:00, 23.93it/s]\n",
      " 10%|█         | 3/30 [00:00<00:01, 20.63it/s]"
     ]
    },
    {
     "name": "stdout",
     "output_type": "stream",
     "text": [
      "Epoch = 398, loss = 0.47720956789539815, top 1 = 0.0013333333333333333, top 5 = 0.0066666666666666706, top 10 = 0.011266666666666673\n"
     ]
    },
    {
     "name": "stderr",
     "output_type": "stream",
     "text": [
      "100%|██████████| 30/30 [00:01<00:00, 17.52it/s]\n",
      "100%|██████████| 30/30 [00:01<00:00, 23.42it/s]\n",
      "100%|██████████| 30/30 [00:01<00:00, 23.60it/s]\n",
      "100%|██████████| 30/30 [00:01<00:00, 26.01it/s]\n",
      "  0%|          | 0/30 [00:00<?, ?it/s]"
     ]
    },
    {
     "name": "stdout",
     "output_type": "stream",
     "text": [
      "Epoch = 399, loss = 0.4766457232295442, top 1 = 0.0013333333333333333, top 5 = 0.005600000000000003, top 10 = 0.011000000000000006\n"
     ]
    },
    {
     "name": "stderr",
     "output_type": "stream",
     "text": [
      "100%|██████████| 30/30 [00:01<00:00, 17.61it/s]\n",
      "100%|██████████| 30/30 [00:01<00:00, 23.87it/s]\n",
      "100%|██████████| 30/30 [00:01<00:00, 24.07it/s]\n",
      "100%|██████████| 30/30 [00:01<00:00, 24.05it/s]\n",
      " 10%|█         | 3/30 [00:00<00:01, 20.81it/s]"
     ]
    },
    {
     "name": "stdout",
     "output_type": "stream",
     "text": [
      "Epoch = 400, loss = 0.4770266562280837, top 1 = 0.0013333333333333333, top 5 = 0.008000000000000004, top 10 = 0.011933333333333341\n"
     ]
    },
    {
     "name": "stderr",
     "output_type": "stream",
     "text": [
      "100%|██████████| 30/30 [00:01<00:00, 17.50it/s]\n",
      "100%|██████████| 30/30 [00:01<00:00, 25.19it/s]\n",
      "100%|██████████| 30/30 [00:01<00:00, 23.34it/s]\n",
      "100%|██████████| 30/30 [00:01<00:00, 23.51it/s]\n",
      " 10%|█         | 3/30 [00:00<00:01, 20.73it/s]"
     ]
    },
    {
     "name": "stdout",
     "output_type": "stream",
     "text": [
      "Epoch = 401, loss = 0.4765294101664022, top 1 = 0.0013333333333333333, top 5 = 0.006400000000000004, top 10 = 0.011066666666666673\n"
     ]
    },
    {
     "name": "stderr",
     "output_type": "stream",
     "text": [
      "100%|██████████| 30/30 [00:01<00:00, 17.63it/s]\n",
      "100%|██████████| 30/30 [00:01<00:00, 23.38it/s]\n",
      "100%|██████████| 30/30 [00:01<00:00, 23.18it/s]\n",
      "100%|██████████| 30/30 [00:01<00:00, 25.82it/s]\n",
      "  3%|▎         | 1/30 [00:00<00:04,  7.05it/s]"
     ]
    },
    {
     "name": "stdout",
     "output_type": "stream",
     "text": [
      "Epoch = 402, loss = 0.4764182410413109, top 1 = 0.0013333333333333333, top 5 = 0.00586666666666667, top 10 = 0.011066666666666673\n"
     ]
    },
    {
     "name": "stderr",
     "output_type": "stream",
     "text": [
      "100%|██████████| 30/30 [00:01<00:00, 17.55it/s]\n",
      "100%|██████████| 30/30 [00:01<00:00, 23.40it/s]\n",
      "100%|██████████| 30/30 [00:01<00:00, 23.38it/s]\n",
      "100%|██████████| 30/30 [00:01<00:00, 23.42it/s]\n",
      " 10%|█         | 3/30 [00:00<00:01, 20.86it/s]"
     ]
    },
    {
     "name": "stdout",
     "output_type": "stream",
     "text": [
      "Epoch = 403, loss = 0.476889221349081, top 1 = 0.0013333333333333333, top 5 = 0.008533333333333337, top 10 = 0.012400000000000007\n"
     ]
    },
    {
     "name": "stderr",
     "output_type": "stream",
     "text": [
      "100%|██████████| 30/30 [00:01<00:00, 17.43it/s]\n",
      "100%|██████████| 30/30 [00:01<00:00, 23.45it/s]\n",
      "100%|██████████| 30/30 [00:01<00:00, 25.36it/s]\n",
      "100%|██████████| 30/30 [00:01<00:00, 23.49it/s]\n",
      " 10%|█         | 3/30 [00:00<00:01, 20.66it/s]"
     ]
    },
    {
     "name": "stdout",
     "output_type": "stream",
     "text": [
      "Epoch = 404, loss = 0.4764253219095628, top 1 = 0.0006666666666666666, top 5 = 0.0038666666666666693, top 10 = 0.008666666666666671\n"
     ]
    },
    {
     "name": "stderr",
     "output_type": "stream",
     "text": [
      "100%|██████████| 30/30 [00:01<00:00, 17.38it/s]\n",
      "100%|██████████| 30/30 [00:01<00:00, 23.50it/s]\n",
      "100%|██████████| 30/30 [00:01<00:00, 23.67it/s]\n",
      "100%|██████████| 30/30 [00:01<00:00, 23.86it/s]\n",
      " 10%|█         | 3/30 [00:00<00:01, 20.51it/s]"
     ]
    },
    {
     "name": "stdout",
     "output_type": "stream",
     "text": [
      "Epoch = 405, loss = 0.4772420560588741, top 1 = 0.0013333333333333333, top 5 = 0.009333333333333338, top 10 = 0.012866666666666672\n"
     ]
    },
    {
     "name": "stderr",
     "output_type": "stream",
     "text": [
      "100%|██████████| 30/30 [00:01<00:00, 18.63it/s]\n",
      "100%|██████████| 30/30 [00:01<00:00, 23.10it/s]\n",
      "100%|██████████| 30/30 [00:01<00:00, 23.20it/s]\n",
      "100%|██████████| 30/30 [00:01<00:00, 23.42it/s]\n",
      " 10%|█         | 3/30 [00:00<00:01, 20.54it/s]"
     ]
    },
    {
     "name": "stdout",
     "output_type": "stream",
     "text": [
      "Epoch = 406, loss = 0.47721291920788184, top 1 = 0.0013333333333333333, top 5 = 0.00626666666666667, top 10 = 0.011000000000000006\n"
     ]
    },
    {
     "name": "stderr",
     "output_type": "stream",
     "text": [
      "100%|██████████| 30/30 [00:01<00:00, 17.42it/s]\n",
      "100%|██████████| 30/30 [00:01<00:00, 23.91it/s]\n",
      "100%|██████████| 30/30 [00:01<00:00, 26.24it/s]\n",
      "100%|██████████| 30/30 [00:01<00:00, 23.99it/s]\n",
      " 10%|█         | 3/30 [00:00<00:01, 20.81it/s]"
     ]
    },
    {
     "name": "stdout",
     "output_type": "stream",
     "text": [
      "Epoch = 407, loss = 0.4776503389827043, top 1 = 0.0013333333333333333, top 5 = 0.006533333333333337, top 10 = 0.011600000000000006\n"
     ]
    },
    {
     "name": "stderr",
     "output_type": "stream",
     "text": [
      "100%|██████████| 30/30 [00:01<00:00, 17.49it/s]\n",
      "100%|██████████| 30/30 [00:01<00:00, 23.91it/s]\n",
      "100%|██████████| 30/30 [00:01<00:00, 23.92it/s]\n",
      "100%|██████████| 30/30 [00:01<00:00, 24.09it/s]\n",
      " 10%|█         | 3/30 [00:00<00:01, 20.84it/s]"
     ]
    },
    {
     "name": "stdout",
     "output_type": "stream",
     "text": [
      "Epoch = 408, loss = 0.4778521919316436, top 1 = 0.0013333333333333333, top 5 = 0.007066666666666669, top 10 = 0.01153333333333334\n"
     ]
    },
    {
     "name": "stderr",
     "output_type": "stream",
     "text": [
      "100%|██████████| 30/30 [00:01<00:00, 18.61it/s]\n",
      "100%|██████████| 30/30 [00:01<00:00, 23.95it/s]\n",
      "100%|██████████| 30/30 [00:01<00:00, 24.14it/s]\n",
      "100%|██████████| 30/30 [00:01<00:00, 24.19it/s]\n",
      " 10%|█         | 3/30 [00:00<00:01, 20.79it/s]"
     ]
    },
    {
     "name": "stdout",
     "output_type": "stream",
     "text": [
      "Epoch = 409, loss = 0.47556895659246734, top 1 = 0.0013333333333333333, top 5 = 0.005200000000000002, top 10 = 0.010066666666666672\n"
     ]
    },
    {
     "name": "stderr",
     "output_type": "stream",
     "text": [
      "100%|██████████| 30/30 [00:01<00:00, 17.41it/s]\n",
      "100%|██████████| 30/30 [00:01<00:00, 23.79it/s]\n",
      "100%|██████████| 30/30 [00:01<00:00, 25.80it/s]\n",
      "100%|██████████| 30/30 [00:01<00:00, 24.06it/s]\n",
      " 10%|█         | 3/30 [00:00<00:01, 20.85it/s]"
     ]
    },
    {
     "name": "stdout",
     "output_type": "stream",
     "text": [
      "Epoch = 410, loss = 0.478036381248892, top 1 = 0.0013333333333333333, top 5 = 0.008800000000000004, top 10 = 0.012533333333333339\n"
     ]
    },
    {
     "name": "stderr",
     "output_type": "stream",
     "text": [
      "100%|██████████| 30/30 [00:01<00:00, 17.42it/s]\n",
      "100%|██████████| 30/30 [00:01<00:00, 24.10it/s]\n",
      "100%|██████████| 30/30 [00:01<00:00, 23.75it/s]\n",
      "100%|██████████| 30/30 [00:01<00:00, 23.96it/s]\n",
      " 10%|█         | 3/30 [00:00<00:01, 20.83it/s]"
     ]
    },
    {
     "name": "stdout",
     "output_type": "stream",
     "text": [
      "Epoch = 411, loss = 0.4756826387645533, top 1 = 0.0013333333333333333, top 5 = 0.005333333333333337, top 10 = 0.010066666666666672\n"
     ]
    },
    {
     "name": "stderr",
     "output_type": "stream",
     "text": [
      "100%|██████████| 30/30 [00:01<00:00, 18.57it/s]\n",
      "100%|██████████| 30/30 [00:01<00:00, 23.89it/s]\n",
      "100%|██████████| 30/30 [00:01<00:00, 24.13it/s]\n",
      "100%|██████████| 30/30 [00:01<00:00, 24.21it/s]\n",
      " 10%|█         | 3/30 [00:00<00:01, 20.69it/s]"
     ]
    },
    {
     "name": "stdout",
     "output_type": "stream",
     "text": [
      "Epoch = 412, loss = 0.4772202838558951, top 1 = 0.0013333333333333333, top 5 = 0.008800000000000004, top 10 = 0.012466666666666673\n"
     ]
    },
    {
     "name": "stderr",
     "output_type": "stream",
     "text": [
      "100%|██████████| 30/30 [00:01<00:00, 17.51it/s]\n",
      "100%|██████████| 30/30 [00:01<00:00, 23.93it/s]\n",
      "100%|██████████| 30/30 [00:01<00:00, 24.19it/s]\n",
      "100%|██████████| 30/30 [00:01<00:00, 26.27it/s]\n",
      "  0%|          | 0/30 [00:00<?, ?it/s]"
     ]
    },
    {
     "name": "stdout",
     "output_type": "stream",
     "text": [
      "Epoch = 413, loss = 0.4770168292983067, top 1 = 0.0013333333333333333, top 5 = 0.006000000000000004, top 10 = 0.010466666666666673\n"
     ]
    },
    {
     "name": "stderr",
     "output_type": "stream",
     "text": [
      "100%|██████████| 30/30 [00:01<00:00, 17.42it/s]\n",
      "100%|██████████| 30/30 [00:01<00:00, 23.57it/s]\n",
      "100%|██████████| 30/30 [00:01<00:00, 23.29it/s]\n",
      "100%|██████████| 30/30 [00:01<00:00, 23.91it/s]\n",
      " 10%|█         | 3/30 [00:00<00:01, 21.07it/s]"
     ]
    },
    {
     "name": "stdout",
     "output_type": "stream",
     "text": [
      "Epoch = 414, loss = 0.4770679979736775, top 1 = 0.0013333333333333333, top 5 = 0.008000000000000004, top 10 = 0.012066666666666673\n"
     ]
    },
    {
     "name": "stderr",
     "output_type": "stream",
     "text": [
      "100%|██████████| 30/30 [00:01<00:00, 17.62it/s]\n",
      "100%|██████████| 30/30 [00:01<00:00, 25.34it/s]\n",
      "100%|██████████| 30/30 [00:01<00:00, 23.71it/s]\n",
      "100%|██████████| 30/30 [00:01<00:00, 24.09it/s]\n",
      " 10%|█         | 3/30 [00:00<00:01, 20.78it/s]"
     ]
    },
    {
     "name": "stdout",
     "output_type": "stream",
     "text": [
      "Epoch = 415, loss = 0.478224942028674, top 1 = 0.0013333333333333333, top 5 = 0.006133333333333337, top 10 = 0.011133333333333339\n"
     ]
    },
    {
     "name": "stderr",
     "output_type": "stream",
     "text": [
      "100%|██████████| 30/30 [00:01<00:00, 17.47it/s]\n",
      "100%|██████████| 30/30 [00:01<00:00, 23.88it/s]\n",
      "100%|██████████| 30/30 [00:01<00:00, 24.02it/s]\n",
      "100%|██████████| 30/30 [00:01<00:00, 25.79it/s]\n",
      "  0%|          | 0/30 [00:00<?, ?it/s]"
     ]
    },
    {
     "name": "stdout",
     "output_type": "stream",
     "text": [
      "Epoch = 416, loss = 0.4775661311539826, top 1 = 0.0013333333333333333, top 5 = 0.008000000000000004, top 10 = 0.012400000000000007\n"
     ]
    },
    {
     "name": "stderr",
     "output_type": "stream",
     "text": [
      "100%|██████████| 30/30 [00:01<00:00, 17.60it/s]\n",
      "100%|██████████| 30/30 [00:01<00:00, 23.70it/s]\n",
      "100%|██████████| 30/30 [00:01<00:00, 23.06it/s]\n",
      "100%|██████████| 30/30 [00:01<00:00, 23.28it/s]\n",
      " 10%|█         | 3/30 [00:00<00:01, 19.98it/s]"
     ]
    },
    {
     "name": "stdout",
     "output_type": "stream",
     "text": [
      "Epoch = 417, loss = 0.47584840114404947, top 1 = 0.0013333333333333333, top 5 = 0.006800000000000002, top 10 = 0.011200000000000007\n"
     ]
    },
    {
     "name": "stderr",
     "output_type": "stream",
     "text": [
      "100%|██████████| 30/30 [00:01<00:00, 17.52it/s]\n",
      "100%|██████████| 30/30 [00:01<00:00, 25.59it/s]\n",
      "100%|██████████| 30/30 [00:01<00:00, 23.60it/s]\n",
      "100%|██████████| 30/30 [00:01<00:00, 24.00it/s]\n",
      " 10%|█         | 3/30 [00:00<00:01, 21.04it/s]"
     ]
    },
    {
     "name": "stdout",
     "output_type": "stream",
     "text": [
      "Epoch = 418, loss = 0.4792579758377876, top 1 = 0.0013333333333333333, top 5 = 0.007200000000000004, top 10 = 0.011933333333333341\n"
     ]
    },
    {
     "name": "stderr",
     "output_type": "stream",
     "text": [
      "100%|██████████| 30/30 [00:01<00:00, 17.51it/s]\n",
      "100%|██████████| 30/30 [00:01<00:00, 23.93it/s]\n",
      "100%|██████████| 30/30 [00:01<00:00, 23.64it/s]\n",
      "100%|██████████| 30/30 [00:01<00:00, 26.18it/s]\n",
      "  3%|▎         | 1/30 [00:00<00:04,  7.15it/s]"
     ]
    },
    {
     "name": "stdout",
     "output_type": "stream",
     "text": [
      "Epoch = 419, loss = 0.4770402779789732, top 1 = 0.002, top 5 = 0.00666666666666667, top 10 = 0.011266666666666673\n"
     ]
    },
    {
     "name": "stderr",
     "output_type": "stream",
     "text": [
      "100%|██████████| 30/30 [00:01<00:00, 17.49it/s]\n",
      "100%|██████████| 30/30 [00:01<00:00, 23.86it/s]\n",
      "100%|██████████| 30/30 [00:01<00:00, 23.73it/s]\n",
      "100%|██████████| 30/30 [00:01<00:00, 23.78it/s]\n",
      " 10%|█         | 3/30 [00:00<00:01, 20.82it/s]"
     ]
    },
    {
     "name": "stdout",
     "output_type": "stream",
     "text": [
      "Epoch = 420, loss = 0.4805275488854559, top 1 = 0.0013333333333333333, top 5 = 0.009200000000000005, top 10 = 0.012933333333333342\n"
     ]
    },
    {
     "name": "stderr",
     "output_type": "stream",
     "text": [
      "100%|██████████| 30/30 [00:01<00:00, 17.57it/s]\n",
      "100%|██████████| 30/30 [00:01<00:00, 23.26it/s]\n",
      "100%|██████████| 30/30 [00:01<00:00, 25.33it/s]\n",
      "100%|██████████| 30/30 [00:01<00:00, 23.39it/s]\n",
      " 10%|█         | 3/30 [00:00<00:01, 21.18it/s]"
     ]
    },
    {
     "name": "stdout",
     "output_type": "stream",
     "text": [
      "Epoch = 421, loss = 0.47708044424809365, top 1 = 0.002, top 5 = 0.008400000000000003, top 10 = 0.011933333333333341\n"
     ]
    },
    {
     "name": "stderr",
     "output_type": "stream",
     "text": [
      "100%|██████████| 30/30 [00:01<00:00, 17.47it/s]\n",
      "100%|██████████| 30/30 [00:01<00:00, 23.32it/s]\n",
      "100%|██████████| 30/30 [00:01<00:00, 23.37it/s]\n",
      "100%|██████████| 30/30 [00:01<00:00, 23.34it/s]\n",
      " 10%|█         | 3/30 [00:00<00:01, 21.31it/s]"
     ]
    },
    {
     "name": "stdout",
     "output_type": "stream",
     "text": [
      "Epoch = 422, loss = 0.4786689457946708, top 1 = 0.0006666666666666666, top 5 = 0.0033333333333333344, top 10 = 0.008466666666666671\n"
     ]
    },
    {
     "name": "stderr",
     "output_type": "stream",
     "text": [
      "100%|██████████| 30/30 [00:01<00:00, 18.40it/s]\n",
      "100%|██████████| 30/30 [00:01<00:00, 23.95it/s]\n",
      "100%|██████████| 30/30 [00:01<00:00, 23.73it/s]\n",
      "100%|██████████| 30/30 [00:01<00:00, 23.93it/s]\n",
      " 10%|█         | 3/30 [00:00<00:01, 20.63it/s]"
     ]
    },
    {
     "name": "stdout",
     "output_type": "stream",
     "text": [
      "Epoch = 423, loss = 0.47725668085012557, top 1 = 0.0013333333333333333, top 5 = 0.007333333333333336, top 10 = 0.011466666666666674\n"
     ]
    },
    {
     "name": "stderr",
     "output_type": "stream",
     "text": [
      "100%|██████████| 30/30 [00:01<00:00, 17.49it/s]\n",
      "100%|██████████| 30/30 [00:01<00:00, 23.88it/s]\n",
      "100%|██████████| 30/30 [00:01<00:00, 25.92it/s]\n",
      "100%|██████████| 30/30 [00:01<00:00, 23.41it/s]\n",
      " 10%|█         | 3/30 [00:00<00:01, 20.65it/s]"
     ]
    },
    {
     "name": "stdout",
     "output_type": "stream",
     "text": [
      "Epoch = 424, loss = 0.4762692434064599, top 1 = 0.0013333333333333333, top 5 = 0.00786666666666667, top 10 = 0.01213333333333334\n"
     ]
    },
    {
     "name": "stderr",
     "output_type": "stream",
     "text": [
      "100%|██████████| 30/30 [00:01<00:00, 17.43it/s]\n",
      "100%|██████████| 30/30 [00:01<00:00, 23.45it/s]\n",
      "100%|██████████| 30/30 [00:01<00:00, 23.41it/s]\n",
      "100%|██████████| 30/30 [00:01<00:00, 23.44it/s]\n",
      " 10%|█         | 3/30 [00:00<00:01, 20.38it/s]"
     ]
    },
    {
     "name": "stdout",
     "output_type": "stream",
     "text": [
      "Epoch = 425, loss = 0.47765863240855355, top 1 = 0.0013333333333333333, top 5 = 0.007066666666666669, top 10 = 0.01173333333333334\n"
     ]
    },
    {
     "name": "stderr",
     "output_type": "stream",
     "text": [
      "100%|██████████| 30/30 [00:01<00:00, 18.51it/s]\n",
      "100%|██████████| 30/30 [00:01<00:00, 23.38it/s]\n",
      "100%|██████████| 30/30 [00:01<00:00, 23.29it/s]\n",
      "100%|██████████| 30/30 [00:01<00:00, 24.04it/s]\n",
      " 10%|█         | 3/30 [00:00<00:01, 20.76it/s]"
     ]
    },
    {
     "name": "stdout",
     "output_type": "stream",
     "text": [
      "Epoch = 426, loss = 0.4767266107354983, top 1 = 0.0013333333333333333, top 5 = 0.006933333333333336, top 10 = 0.011666666666666674\n"
     ]
    },
    {
     "name": "stderr",
     "output_type": "stream",
     "text": [
      "100%|██████████| 30/30 [00:01<00:00, 17.59it/s]\n",
      "100%|██████████| 30/30 [00:01<00:00, 23.51it/s]\n",
      "100%|██████████| 30/30 [00:01<00:00, 25.70it/s]\n",
      "100%|██████████| 30/30 [00:01<00:00, 23.38it/s]\n",
      " 10%|█         | 3/30 [00:00<00:01, 20.68it/s]"
     ]
    },
    {
     "name": "stdout",
     "output_type": "stream",
     "text": [
      "Epoch = 427, loss = 0.47729493945527385, top 1 = 0.0013333333333333333, top 5 = 0.0076000000000000035, top 10 = 0.012000000000000007\n"
     ]
    },
    {
     "name": "stderr",
     "output_type": "stream",
     "text": [
      "100%|██████████| 30/30 [00:01<00:00, 17.38it/s]\n",
      "100%|██████████| 30/30 [00:01<00:00, 23.90it/s]\n",
      "100%|██████████| 30/30 [00:01<00:00, 23.74it/s]\n",
      "100%|██████████| 30/30 [00:01<00:00, 24.06it/s]\n",
      " 10%|█         | 3/30 [00:00<00:01, 20.91it/s]"
     ]
    },
    {
     "name": "stdout",
     "output_type": "stream",
     "text": [
      "Epoch = 428, loss = 0.47615501271036303, top 1 = 0.0013333333333333333, top 5 = 0.007200000000000002, top 10 = 0.011866666666666673\n"
     ]
    },
    {
     "name": "stderr",
     "output_type": "stream",
     "text": [
      "100%|██████████| 30/30 [00:01<00:00, 18.35it/s]\n",
      "100%|██████████| 30/30 [00:01<00:00, 23.86it/s]\n",
      "100%|██████████| 30/30 [00:01<00:00, 23.31it/s]\n",
      "100%|██████████| 30/30 [00:01<00:00, 23.73it/s]\n",
      " 10%|█         | 3/30 [00:00<00:01, 21.34it/s]"
     ]
    },
    {
     "name": "stdout",
     "output_type": "stream",
     "text": [
      "Epoch = 429, loss = 0.4768291416541682, top 1 = 0.0013333333333333333, top 5 = 0.00586666666666667, top 10 = 0.010800000000000006\n"
     ]
    },
    {
     "name": "stderr",
     "output_type": "stream",
     "text": [
      "100%|██████████| 30/30 [00:01<00:00, 17.53it/s]\n",
      "100%|██████████| 30/30 [00:01<00:00, 23.96it/s]\n",
      "100%|██████████| 30/30 [00:01<00:00, 24.05it/s]\n",
      "100%|██████████| 30/30 [00:01<00:00, 26.19it/s]\n",
      "  0%|          | 0/30 [00:00<?, ?it/s]"
     ]
    },
    {
     "name": "stdout",
     "output_type": "stream",
     "text": [
      "Epoch = 430, loss = 0.4757911825111243, top 1 = 0.0013333333333333333, top 5 = 0.008666666666666671, top 10 = 0.012466666666666673\n"
     ]
    },
    {
     "name": "stderr",
     "output_type": "stream",
     "text": [
      "100%|██████████| 30/30 [00:01<00:00, 17.52it/s]\n",
      "100%|██████████| 30/30 [00:01<00:00, 23.97it/s]\n",
      "100%|██████████| 30/30 [00:01<00:00, 24.04it/s]\n",
      "100%|██████████| 30/30 [00:01<00:00, 23.94it/s]\n",
      " 10%|█         | 3/30 [00:00<00:01, 21.19it/s]"
     ]
    },
    {
     "name": "stdout",
     "output_type": "stream",
     "text": [
      "Epoch = 431, loss = 0.4764447720205498, top 1 = 0.0013333333333333333, top 5 = 0.004800000000000003, top 10 = 0.010400000000000005\n"
     ]
    },
    {
     "name": "stderr",
     "output_type": "stream",
     "text": [
      "100%|██████████| 30/30 [00:01<00:00, 17.65it/s]\n",
      "100%|██████████| 30/30 [00:01<00:00, 25.95it/s]\n",
      "100%|██████████| 30/30 [00:01<00:00, 23.72it/s]\n",
      "100%|██████████| 30/30 [00:01<00:00, 24.11it/s]\n",
      " 10%|█         | 3/30 [00:00<00:01, 21.41it/s]"
     ]
    },
    {
     "name": "stdout",
     "output_type": "stream",
     "text": [
      "Epoch = 432, loss = 0.4772730262214892, top 1 = 0.0013333333333333333, top 5 = 0.007066666666666669, top 10 = 0.011466666666666674\n"
     ]
    },
    {
     "name": "stderr",
     "output_type": "stream",
     "text": [
      "100%|██████████| 30/30 [00:01<00:00, 17.63it/s]\n",
      "100%|██████████| 30/30 [00:01<00:00, 23.82it/s]\n",
      "100%|██████████| 30/30 [00:01<00:00, 24.02it/s]\n",
      "100%|██████████| 30/30 [00:01<00:00, 26.08it/s]\n",
      "  3%|▎         | 1/30 [00:00<00:04,  7.12it/s]"
     ]
    },
    {
     "name": "stdout",
     "output_type": "stream",
     "text": [
      "Epoch = 433, loss = 0.4760799264782098, top 1 = 0.0013333333333333333, top 5 = 0.008400000000000003, top 10 = 0.01233333333333334\n"
     ]
    },
    {
     "name": "stderr",
     "output_type": "stream",
     "text": [
      "100%|██████████| 30/30 [00:01<00:00, 17.44it/s]\n",
      "100%|██████████| 30/30 [00:01<00:00, 23.81it/s]\n",
      "100%|██████████| 30/30 [00:01<00:00, 23.87it/s]\n",
      "100%|██████████| 30/30 [00:01<00:00, 23.44it/s]\n",
      " 10%|█         | 3/30 [00:00<00:01, 21.15it/s]"
     ]
    },
    {
     "name": "stdout",
     "output_type": "stream",
     "text": [
      "Epoch = 434, loss = 0.4768901904903994, top 1 = 0.0013333333333333333, top 5 = 0.005066666666666669, top 10 = 0.010333333333333338\n"
     ]
    },
    {
     "name": "stderr",
     "output_type": "stream",
     "text": [
      "100%|██████████| 30/30 [00:01<00:00, 17.55it/s]\n",
      "100%|██████████| 30/30 [00:01<00:00, 23.00it/s]\n",
      "100%|██████████| 30/30 [00:01<00:00, 25.57it/s]\n",
      "100%|██████████| 30/30 [00:01<00:00, 23.63it/s]\n",
      " 10%|█         | 3/30 [00:00<00:01, 21.00it/s]"
     ]
    },
    {
     "name": "stdout",
     "output_type": "stream",
     "text": [
      "Epoch = 435, loss = 0.4769288836848652, top 1 = 0.0013333333333333333, top 5 = 0.008400000000000003, top 10 = 0.012200000000000008\n"
     ]
    },
    {
     "name": "stderr",
     "output_type": "stream",
     "text": [
      "100%|██████████| 30/30 [00:01<00:00, 17.55it/s]\n",
      "100%|██████████| 30/30 [00:01<00:00, 23.28it/s]\n",
      "100%|██████████| 30/30 [00:01<00:00, 23.41it/s]\n",
      "100%|██████████| 30/30 [00:01<00:00, 23.46it/s]\n",
      "  7%|▋         | 2/30 [00:00<00:01, 19.90it/s]"
     ]
    },
    {
     "name": "stdout",
     "output_type": "stream",
     "text": [
      "Epoch = 436, loss = 0.4763077616762213, top 1 = 0.0013333333333333333, top 5 = 0.006000000000000004, top 10 = 0.01073333333333334\n"
     ]
    },
    {
     "name": "stderr",
     "output_type": "stream",
     "text": [
      "100%|██████████| 30/30 [00:01<00:00, 18.51it/s]\n",
      "100%|██████████| 30/30 [00:01<00:00, 23.78it/s]\n",
      "100%|██████████| 30/30 [00:01<00:00, 23.23it/s]\n",
      "100%|██████████| 30/30 [00:01<00:00, 23.84it/s]\n",
      " 10%|█         | 3/30 [00:00<00:01, 20.50it/s]"
     ]
    },
    {
     "name": "stdout",
     "output_type": "stream",
     "text": [
      "Epoch = 437, loss = 0.47626543008918687, top 1 = 0.0013333333333333333, top 5 = 0.007066666666666669, top 10 = 0.011400000000000006\n"
     ]
    },
    {
     "name": "stderr",
     "output_type": "stream",
     "text": [
      "100%|██████████| 30/30 [00:01<00:00, 17.55it/s]\n",
      "100%|██████████| 30/30 [00:01<00:00, 23.73it/s]\n",
      "100%|██████████| 30/30 [00:01<00:00, 25.81it/s]\n",
      "100%|██████████| 30/30 [00:01<00:00, 23.27it/s]\n",
      " 10%|█         | 3/30 [00:00<00:01, 20.49it/s]"
     ]
    },
    {
     "name": "stdout",
     "output_type": "stream",
     "text": [
      "Epoch = 438, loss = 0.47699972922423395, top 1 = 0.0013333333333333333, top 5 = 0.007333333333333336, top 10 = 0.011666666666666674\n"
     ]
    },
    {
     "name": "stderr",
     "output_type": "stream",
     "text": [
      "100%|██████████| 30/30 [00:01<00:00, 17.48it/s]\n",
      "100%|██████████| 30/30 [00:01<00:00, 23.99it/s]\n",
      "100%|██████████| 30/30 [00:01<00:00, 23.86it/s]\n",
      "100%|██████████| 30/30 [00:01<00:00, 23.21it/s]\n",
      " 10%|█         | 3/30 [00:00<00:01, 20.59it/s]"
     ]
    },
    {
     "name": "stdout",
     "output_type": "stream",
     "text": [
      "Epoch = 439, loss = 0.4759034235636873, top 1 = 0.0013333333333333333, top 5 = 0.005333333333333337, top 10 = 0.010600000000000005\n"
     ]
    },
    {
     "name": "stderr",
     "output_type": "stream",
     "text": [
      "100%|██████████| 30/30 [00:01<00:00, 18.48it/s]\n",
      "100%|██████████| 30/30 [00:01<00:00, 23.97it/s]\n",
      "100%|██████████| 30/30 [00:01<00:00, 24.08it/s]\n",
      "100%|██████████| 30/30 [00:01<00:00, 23.56it/s]\n",
      " 10%|█         | 3/30 [00:00<00:01, 20.60it/s]"
     ]
    },
    {
     "name": "stdout",
     "output_type": "stream",
     "text": [
      "Epoch = 440, loss = 0.4761149053449456, top 1 = 0.0013333333333333333, top 5 = 0.007200000000000002, top 10 = 0.011666666666666674\n"
     ]
    },
    {
     "name": "stderr",
     "output_type": "stream",
     "text": [
      "100%|██████████| 30/30 [00:01<00:00, 17.23it/s]\n",
      "100%|██████████| 30/30 [00:01<00:00, 23.48it/s]\n",
      "100%|██████████| 30/30 [00:01<00:00, 26.05it/s]\n",
      "100%|██████████| 30/30 [00:01<00:00, 24.04it/s]\n",
      " 10%|█         | 3/30 [00:00<00:01, 20.49it/s]"
     ]
    },
    {
     "name": "stdout",
     "output_type": "stream",
     "text": [
      "Epoch = 441, loss = 0.4769854787259962, top 1 = 0.0013333333333333333, top 5 = 0.007733333333333337, top 10 = 0.011866666666666673\n"
     ]
    },
    {
     "name": "stderr",
     "output_type": "stream",
     "text": [
      "100%|██████████| 30/30 [00:01<00:00, 17.23it/s]\n",
      "100%|██████████| 30/30 [00:01<00:00, 23.18it/s]\n",
      "100%|██████████| 30/30 [00:01<00:00, 23.09it/s]\n",
      "100%|██████████| 30/30 [00:01<00:00, 23.62it/s]\n",
      " 10%|█         | 3/30 [00:00<00:01, 20.94it/s]"
     ]
    },
    {
     "name": "stdout",
     "output_type": "stream",
     "text": [
      "Epoch = 442, loss = 0.4770799951487334, top 1 = 0.0013333333333333333, top 5 = 0.005600000000000003, top 10 = 0.010333333333333338\n"
     ]
    },
    {
     "name": "stderr",
     "output_type": "stream",
     "text": [
      "100%|██████████| 30/30 [00:01<00:00, 18.60it/s]\n",
      "100%|██████████| 30/30 [00:01<00:00, 22.83it/s]\n",
      "100%|██████████| 30/30 [00:01<00:00, 23.41it/s]\n",
      "100%|██████████| 30/30 [00:01<00:00, 23.77it/s]\n",
      " 10%|█         | 3/30 [00:00<00:01, 20.84it/s]"
     ]
    },
    {
     "name": "stdout",
     "output_type": "stream",
     "text": [
      "Epoch = 443, loss = 0.4765695046988582, top 1 = 0.0013333333333333333, top 5 = 0.00826666666666667, top 10 = 0.012266666666666674\n"
     ]
    },
    {
     "name": "stderr",
     "output_type": "stream",
     "text": [
      "100%|██████████| 30/30 [00:01<00:00, 17.61it/s]\n",
      "100%|██████████| 30/30 [00:01<00:00, 23.18it/s]\n",
      "100%|██████████| 30/30 [00:01<00:00, 23.25it/s]\n",
      "100%|██████████| 30/30 [00:01<00:00, 25.25it/s]\n",
      "  0%|          | 0/30 [00:00<?, ?it/s]"
     ]
    },
    {
     "name": "stdout",
     "output_type": "stream",
     "text": [
      "Epoch = 444, loss = 0.4755368142168755, top 1 = 0.0006666666666666666, top 5 = 0.004133333333333336, top 10 = 0.008933333333333338\n"
     ]
    },
    {
     "name": "stderr",
     "output_type": "stream",
     "text": [
      "100%|██████████| 30/30 [00:01<00:00, 17.54it/s]\n",
      "100%|██████████| 30/30 [00:01<00:00, 23.33it/s]\n",
      "100%|██████████| 30/30 [00:01<00:00, 23.41it/s]\n",
      "100%|██████████| 30/30 [00:01<00:00, 23.20it/s]\n",
      " 10%|█         | 3/30 [00:00<00:01, 20.66it/s]"
     ]
    },
    {
     "name": "stdout",
     "output_type": "stream",
     "text": [
      "Epoch = 445, loss = 0.4781148001635422, top 1 = 0.0013333333333333333, top 5 = 0.008933333333333338, top 10 = 0.012600000000000005\n"
     ]
    },
    {
     "name": "stderr",
     "output_type": "stream",
     "text": [
      "100%|██████████| 30/30 [00:01<00:00, 17.46it/s]\n",
      "100%|██████████| 30/30 [00:01<00:00, 24.90it/s]\n",
      "100%|██████████| 30/30 [00:01<00:00, 23.74it/s]\n",
      "100%|██████████| 30/30 [00:01<00:00, 24.02it/s]\n",
      " 10%|█         | 3/30 [00:00<00:01, 20.81it/s]"
     ]
    },
    {
     "name": "stdout",
     "output_type": "stream",
     "text": [
      "Epoch = 446, loss = 0.47576297389435773, top 1 = 0.0013333333333333333, top 5 = 0.00786666666666667, top 10 = 0.011933333333333341\n"
     ]
    },
    {
     "name": "stderr",
     "output_type": "stream",
     "text": [
      "100%|██████████| 30/30 [00:01<00:00, 17.56it/s]\n",
      "100%|██████████| 30/30 [00:01<00:00, 22.95it/s]\n",
      "100%|██████████| 30/30 [00:01<00:00, 22.16it/s]\n",
      "100%|██████████| 30/30 [00:01<00:00, 24.59it/s]\n",
      "  0%|          | 0/30 [00:00<?, ?it/s]"
     ]
    },
    {
     "name": "stdout",
     "output_type": "stream",
     "text": [
      "Epoch = 447, loss = 0.4781413968519833, top 1 = 0.0013333333333333333, top 5 = 0.007466666666666672, top 10 = 0.011933333333333341\n"
     ]
    },
    {
     "name": "stderr",
     "output_type": "stream",
     "text": [
      "100%|██████████| 30/30 [00:01<00:00, 17.49it/s]\n",
      "100%|██████████| 30/30 [00:01<00:00, 23.78it/s]\n",
      "100%|██████████| 30/30 [00:01<00:00, 23.41it/s]\n",
      "100%|██████████| 30/30 [00:01<00:00, 22.82it/s]\n",
      " 10%|█         | 3/30 [00:00<00:01, 21.08it/s]"
     ]
    },
    {
     "name": "stdout",
     "output_type": "stream",
     "text": [
      "Epoch = 448, loss = 0.47793454706546723, top 1 = 0.0033333333333333335, top 5 = 0.010666666666666673, top 10 = 0.013000000000000008\n",
      "save model to /home/ai2019/ne6081064/june/mlg/snrs_hw1/2021-03-13 11-52/weight.pth\n"
     ]
    },
    {
     "name": "stderr",
     "output_type": "stream",
     "text": [
      "100%|██████████| 30/30 [00:01<00:00, 17.35it/s]\n",
      "100%|██████████| 30/30 [00:01<00:00, 25.00it/s]\n",
      "100%|██████████| 30/30 [00:01<00:00, 23.31it/s]\n",
      "100%|██████████| 30/30 [00:01<00:00, 23.60it/s]\n",
      " 10%|█         | 3/30 [00:00<00:01, 20.48it/s]"
     ]
    },
    {
     "name": "stdout",
     "output_type": "stream",
     "text": [
      "Epoch = 449, loss = 0.4801138085588444, top 1 = 0.0006666666666666666, top 5 = 0.0029333333333333342, top 10 = 0.008000000000000004\n"
     ]
    },
    {
     "name": "stderr",
     "output_type": "stream",
     "text": [
      "100%|██████████| 30/30 [00:01<00:00, 17.41it/s]\n",
      "100%|██████████| 30/30 [00:01<00:00, 23.07it/s]\n",
      "100%|██████████| 30/30 [00:01<00:00, 23.17it/s]\n",
      "100%|██████████| 30/30 [00:01<00:00, 25.56it/s]\n",
      "  3%|▎         | 1/30 [00:00<00:04,  6.73it/s]"
     ]
    },
    {
     "name": "stdout",
     "output_type": "stream",
     "text": [
      "Epoch = 450, loss = 0.4794424786326796, top 1 = 0.0026666666666666666, top 5 = 0.008800000000000004, top 10 = 0.012400000000000005\n"
     ]
    },
    {
     "name": "stderr",
     "output_type": "stream",
     "text": [
      "100%|██████████| 30/30 [00:01<00:00, 17.22it/s]\n",
      "100%|██████████| 30/30 [00:01<00:00, 22.97it/s]\n",
      "100%|██████████| 30/30 [00:01<00:00, 22.88it/s]\n",
      "100%|██████████| 30/30 [00:01<00:00, 23.96it/s]\n",
      " 10%|█         | 3/30 [00:00<00:01, 20.32it/s]"
     ]
    },
    {
     "name": "stdout",
     "output_type": "stream",
     "text": [
      "Epoch = 451, loss = 0.4778504560456131, top 1 = 0.0013333333333333333, top 5 = 0.008000000000000004, top 10 = 0.01233333333333334\n"
     ]
    },
    {
     "name": "stderr",
     "output_type": "stream",
     "text": [
      "100%|██████████| 30/30 [00:01<00:00, 17.52it/s]\n",
      "100%|██████████| 30/30 [00:01<00:00, 23.47it/s]\n",
      "100%|██████████| 30/30 [00:01<00:00, 25.35it/s]\n",
      "100%|██████████| 30/30 [00:01<00:00, 22.22it/s]\n",
      " 10%|█         | 3/30 [00:00<00:01, 20.84it/s]"
     ]
    },
    {
     "name": "stdout",
     "output_type": "stream",
     "text": [
      "Epoch = 452, loss = 0.4769508029206083, top 1 = 0.0013333333333333333, top 5 = 0.008933333333333338, top 10 = 0.012600000000000005\n"
     ]
    },
    {
     "name": "stderr",
     "output_type": "stream",
     "text": [
      "100%|██████████| 30/30 [00:01<00:00, 17.36it/s]\n",
      "100%|██████████| 30/30 [00:01<00:00, 23.88it/s]\n",
      "100%|██████████| 30/30 [00:01<00:00, 23.56it/s]\n",
      "100%|██████████| 30/30 [00:01<00:00, 23.33it/s]\n",
      " 10%|█         | 3/30 [00:00<00:01, 21.05it/s]"
     ]
    },
    {
     "name": "stdout",
     "output_type": "stream",
     "text": [
      "Epoch = 453, loss = 0.4767398827773865, top 1 = 0.0013333333333333333, top 5 = 0.00786666666666667, top 10 = 0.012200000000000008\n"
     ]
    },
    {
     "name": "stderr",
     "output_type": "stream",
     "text": [
      "100%|██████████| 30/30 [00:01<00:00, 18.48it/s]\n",
      "100%|██████████| 30/30 [00:01<00:00, 23.43it/s]\n",
      "100%|██████████| 30/30 [00:01<00:00, 23.04it/s]\n",
      "100%|██████████| 30/30 [00:01<00:00, 23.03it/s]\n",
      " 10%|█         | 3/30 [00:00<00:01, 19.91it/s]"
     ]
    },
    {
     "name": "stdout",
     "output_type": "stream",
     "text": [
      "Epoch = 454, loss = 0.47627461432864704, top 1 = 0.0013333333333333333, top 5 = 0.008800000000000004, top 10 = 0.012400000000000005\n"
     ]
    },
    {
     "name": "stderr",
     "output_type": "stream",
     "text": [
      "100%|██████████| 30/30 [00:01<00:00, 17.27it/s]\n",
      "100%|██████████| 30/30 [00:01<00:00, 23.26it/s]\n",
      "100%|██████████| 30/30 [00:01<00:00, 25.79it/s]\n",
      "100%|██████████| 30/30 [00:01<00:00, 23.90it/s]\n",
      " 10%|█         | 3/30 [00:00<00:01, 21.17it/s]"
     ]
    },
    {
     "name": "stdout",
     "output_type": "stream",
     "text": [
      "Epoch = 455, loss = 0.47745352479934566, top 1 = 0.0013333333333333333, top 5 = 0.007733333333333337, top 10 = 0.011933333333333341\n"
     ]
    },
    {
     "name": "stderr",
     "output_type": "stream",
     "text": [
      "100%|██████████| 30/30 [00:01<00:00, 17.36it/s]\n",
      "100%|██████████| 30/30 [00:01<00:00, 23.19it/s]\n",
      "100%|██████████| 30/30 [00:01<00:00, 23.33it/s]\n",
      "100%|██████████| 30/30 [00:01<00:00, 23.35it/s]\n",
      " 10%|█         | 3/30 [00:00<00:01, 20.48it/s]"
     ]
    },
    {
     "name": "stdout",
     "output_type": "stream",
     "text": [
      "Epoch = 456, loss = 0.4760611131022902, top 1 = 0.0013333333333333333, top 5 = 0.00706666666666667, top 10 = 0.01173333333333334\n"
     ]
    },
    {
     "name": "stderr",
     "output_type": "stream",
     "text": [
      "100%|██████████| 30/30 [00:01<00:00, 18.47it/s]\n",
      "100%|██████████| 30/30 [00:01<00:00, 23.13it/s]\n",
      "100%|██████████| 30/30 [00:01<00:00, 23.10it/s]\n",
      "100%|██████████| 30/30 [00:01<00:00, 23.20it/s]\n",
      " 10%|█         | 3/30 [00:00<00:01, 20.44it/s]"
     ]
    },
    {
     "name": "stdout",
     "output_type": "stream",
     "text": [
      "Epoch = 457, loss = 0.4760487121079443, top 1 = 0.0013333333333333333, top 5 = 0.008533333333333337, top 10 = 0.012266666666666674\n"
     ]
    },
    {
     "name": "stderr",
     "output_type": "stream",
     "text": [
      "100%|██████████| 30/30 [00:01<00:00, 17.50it/s]\n",
      "100%|██████████| 30/30 [00:01<00:00, 23.25it/s]\n",
      "100%|██████████| 30/30 [00:01<00:00, 25.03it/s]\n",
      "100%|██████████| 30/30 [00:01<00:00, 23.32it/s]\n",
      " 10%|█         | 3/30 [00:00<00:01, 20.55it/s]"
     ]
    },
    {
     "name": "stdout",
     "output_type": "stream",
     "text": [
      "Epoch = 458, loss = 0.4768747886808601, top 1 = 0.002, top 5 = 0.009200000000000005, top 10 = 0.012533333333333339\n"
     ]
    },
    {
     "name": "stderr",
     "output_type": "stream",
     "text": [
      "100%|██████████| 30/30 [00:01<00:00, 17.37it/s]\n",
      "100%|██████████| 30/30 [00:01<00:00, 22.89it/s]\n",
      "100%|██████████| 30/30 [00:01<00:00, 23.47it/s]\n",
      "100%|██████████| 30/30 [00:01<00:00, 23.46it/s]\n",
      " 10%|█         | 3/30 [00:00<00:01, 20.89it/s]"
     ]
    },
    {
     "name": "stdout",
     "output_type": "stream",
     "text": [
      "Epoch = 459, loss = 0.4764863088256821, top 1 = 0.0013333333333333333, top 5 = 0.007200000000000002, top 10 = 0.011600000000000006\n"
     ]
    },
    {
     "name": "stderr",
     "output_type": "stream",
     "text": [
      "100%|██████████| 30/30 [00:01<00:00, 18.50it/s]\n",
      "100%|██████████| 30/30 [00:01<00:00, 21.84it/s]\n",
      "100%|██████████| 30/30 [00:01<00:00, 22.71it/s]\n",
      "100%|██████████| 30/30 [00:01<00:00, 23.08it/s]\n",
      " 10%|█         | 3/30 [00:00<00:01, 20.45it/s]"
     ]
    },
    {
     "name": "stdout",
     "output_type": "stream",
     "text": [
      "Epoch = 460, loss = 0.47690130759018845, top 1 = 0.0013333333333333333, top 5 = 0.007333333333333336, top 10 = 0.011933333333333341\n"
     ]
    },
    {
     "name": "stderr",
     "output_type": "stream",
     "text": [
      "100%|██████████| 30/30 [00:01<00:00, 17.52it/s]\n",
      "100%|██████████| 30/30 [00:01<00:00, 23.22it/s]\n",
      "100%|██████████| 30/30 [00:01<00:00, 23.14it/s]\n",
      "100%|██████████| 30/30 [00:01<00:00, 24.96it/s]\n",
      "  0%|          | 0/30 [00:00<?, ?it/s]"
     ]
    },
    {
     "name": "stdout",
     "output_type": "stream",
     "text": [
      "Epoch = 461, loss = 0.4773276250734103, top 1 = 0.0013333333333333333, top 5 = 0.008533333333333337, top 10 = 0.01213333333333334\n"
     ]
    },
    {
     "name": "stderr",
     "output_type": "stream",
     "text": [
      "100%|██████████| 30/30 [00:01<00:00, 17.42it/s]\n",
      "100%|██████████| 30/30 [00:01<00:00, 23.14it/s]\n",
      "100%|██████████| 30/30 [00:01<00:00, 23.38it/s]\n",
      "100%|██████████| 30/30 [00:01<00:00, 22.32it/s]\n",
      " 10%|█         | 3/30 [00:00<00:01, 21.14it/s]"
     ]
    },
    {
     "name": "stdout",
     "output_type": "stream",
     "text": [
      "Epoch = 462, loss = 0.47642775878161986, top 1 = 0.0013333333333333333, top 5 = 0.00666666666666667, top 10 = 0.011266666666666673\n"
     ]
    },
    {
     "name": "stderr",
     "output_type": "stream",
     "text": [
      "100%|██████████| 30/30 [00:01<00:00, 17.00it/s]\n",
      "100%|██████████| 30/30 [00:01<00:00, 24.85it/s]\n",
      "100%|██████████| 30/30 [00:01<00:00, 22.76it/s]\n",
      "100%|██████████| 30/30 [00:01<00:00, 23.47it/s]\n",
      " 10%|█         | 3/30 [00:00<00:01, 20.34it/s]"
     ]
    },
    {
     "name": "stdout",
     "output_type": "stream",
     "text": [
      "Epoch = 463, loss = 0.47676188995391183, top 1 = 0.0013333333333333333, top 5 = 0.006800000000000002, top 10 = 0.011600000000000006\n"
     ]
    },
    {
     "name": "stderr",
     "output_type": "stream",
     "text": [
      "100%|██████████| 30/30 [00:01<00:00, 17.40it/s]\n",
      "100%|██████████| 30/30 [00:01<00:00, 22.43it/s]\n",
      "100%|██████████| 30/30 [00:01<00:00, 21.73it/s]\n",
      "100%|██████████| 30/30 [00:01<00:00, 24.77it/s]\n",
      "  0%|          | 0/30 [00:00<?, ?it/s]"
     ]
    },
    {
     "name": "stdout",
     "output_type": "stream",
     "text": [
      "Epoch = 464, loss = 0.4760325689486772, top 1 = 0.0013333333333333333, top 5 = 0.007333333333333336, top 10 = 0.011933333333333341\n"
     ]
    },
    {
     "name": "stderr",
     "output_type": "stream",
     "text": [
      "100%|██████████| 30/30 [00:01<00:00, 17.25it/s]\n",
      "100%|██████████| 30/30 [00:01<00:00, 22.65it/s]\n",
      "100%|██████████| 30/30 [00:01<00:00, 23.34it/s]\n",
      "100%|██████████| 30/30 [00:01<00:00, 22.90it/s]\n",
      " 10%|█         | 3/30 [00:00<00:01, 20.06it/s]"
     ]
    },
    {
     "name": "stdout",
     "output_type": "stream",
     "text": [
      "Epoch = 465, loss = 0.47692193987752163, top 1 = 0.0013333333333333333, top 5 = 0.008533333333333337, top 10 = 0.012266666666666674\n"
     ]
    },
    {
     "name": "stderr",
     "output_type": "stream",
     "text": [
      "100%|██████████| 30/30 [00:01<00:00, 16.67it/s]\n",
      "100%|██████████| 30/30 [00:01<00:00, 21.86it/s]\n",
      "100%|██████████| 30/30 [00:01<00:00, 24.27it/s]\n",
      "100%|██████████| 30/30 [00:01<00:00, 21.63it/s]\n",
      " 10%|█         | 3/30 [00:00<00:01, 20.30it/s]"
     ]
    },
    {
     "name": "stdout",
     "output_type": "stream",
     "text": [
      "Epoch = 466, loss = 0.47681356173896083, top 1 = 0.002, top 5 = 0.007733333333333337, top 10 = 0.011866666666666673\n"
     ]
    },
    {
     "name": "stderr",
     "output_type": "stream",
     "text": [
      "100%|██████████| 30/30 [00:01<00:00, 17.16it/s]\n",
      "100%|██████████| 30/30 [00:01<00:00, 23.29it/s]\n",
      "100%|██████████| 30/30 [00:01<00:00, 22.98it/s]\n",
      "100%|██████████| 30/30 [00:01<00:00, 23.61it/s]\n",
      " 10%|█         | 3/30 [00:00<00:01, 20.43it/s]"
     ]
    },
    {
     "name": "stdout",
     "output_type": "stream",
     "text": [
      "Epoch = 467, loss = 0.47588385030689806, top 1 = 0.0013333333333333333, top 5 = 0.008533333333333337, top 10 = 0.012266666666666674\n"
     ]
    },
    {
     "name": "stderr",
     "output_type": "stream",
     "text": [
      "100%|██████████| 30/30 [00:01<00:00, 18.50it/s]\n",
      "100%|██████████| 30/30 [00:01<00:00, 22.84it/s]\n",
      "100%|██████████| 30/30 [00:01<00:00, 23.36it/s]\n",
      "100%|██████████| 30/30 [00:01<00:00, 22.85it/s]\n",
      " 10%|█         | 3/30 [00:00<00:01, 20.48it/s]"
     ]
    },
    {
     "name": "stdout",
     "output_type": "stream",
     "text": [
      "Epoch = 468, loss = 0.4769291024880654, top 1 = 0.002, top 5 = 0.008533333333333337, top 10 = 0.01213333333333334\n"
     ]
    },
    {
     "name": "stderr",
     "output_type": "stream",
     "text": [
      "100%|██████████| 30/30 [00:01<00:00, 17.28it/s]\n",
      "100%|██████████| 30/30 [00:01<00:00, 23.47it/s]\n",
      "100%|██████████| 30/30 [00:01<00:00, 25.27it/s]\n",
      "100%|██████████| 30/30 [00:01<00:00, 23.05it/s]\n",
      "  7%|▋         | 2/30 [00:00<00:01, 19.10it/s]"
     ]
    },
    {
     "name": "stdout",
     "output_type": "stream",
     "text": [
      "Epoch = 469, loss = 0.47710002440975363, top 1 = 0.0013333333333333333, top 5 = 0.008533333333333337, top 10 = 0.012200000000000008\n"
     ]
    },
    {
     "name": "stderr",
     "output_type": "stream",
     "text": [
      "100%|██████████| 30/30 [00:01<00:00, 17.28it/s]\n",
      "100%|██████████| 30/30 [00:01<00:00, 23.03it/s]\n",
      "100%|██████████| 30/30 [00:01<00:00, 22.93it/s]\n",
      "100%|██████████| 30/30 [00:01<00:00, 22.20it/s]\n",
      " 10%|█         | 3/30 [00:00<00:01, 20.35it/s]"
     ]
    },
    {
     "name": "stdout",
     "output_type": "stream",
     "text": [
      "Epoch = 470, loss = 0.4756221612623413, top 1 = 0.0013333333333333333, top 5 = 0.007866666666666671, top 10 = 0.012066666666666673\n"
     ]
    },
    {
     "name": "stderr",
     "output_type": "stream",
     "text": [
      "100%|██████████| 30/30 [00:01<00:00, 18.45it/s]\n",
      "100%|██████████| 30/30 [00:01<00:00, 23.30it/s]\n",
      "100%|██████████| 30/30 [00:01<00:00, 22.72it/s]\n",
      "100%|██████████| 30/30 [00:01<00:00, 21.46it/s]\n",
      " 10%|█         | 3/30 [00:00<00:01, 20.07it/s]"
     ]
    },
    {
     "name": "stdout",
     "output_type": "stream",
     "text": [
      "Epoch = 471, loss = 0.47755421709035917, top 1 = 0.0013333333333333333, top 5 = 0.0076000000000000035, top 10 = 0.011800000000000007\n"
     ]
    },
    {
     "name": "stderr",
     "output_type": "stream",
     "text": [
      "100%|██████████| 30/30 [00:01<00:00, 17.11it/s]\n",
      "100%|██████████| 30/30 [00:01<00:00, 23.06it/s]\n",
      "100%|██████████| 30/30 [00:01<00:00, 23.81it/s]\n",
      "100%|██████████| 30/30 [00:01<00:00, 22.62it/s]\n",
      " 10%|█         | 3/30 [00:00<00:01, 20.24it/s]"
     ]
    },
    {
     "name": "stdout",
     "output_type": "stream",
     "text": [
      "Epoch = 472, loss = 0.47495119041034095, top 1 = 0.002, top 5 = 0.008800000000000004, top 10 = 0.012466666666666675\n"
     ]
    },
    {
     "name": "stderr",
     "output_type": "stream",
     "text": [
      "100%|██████████| 30/30 [00:01<00:00, 17.31it/s]\n",
      "100%|██████████| 30/30 [00:01<00:00, 20.59it/s]\n",
      "100%|██████████| 30/30 [00:01<00:00, 21.18it/s]\n",
      "100%|██████████| 30/30 [00:01<00:00, 22.22it/s]\n",
      " 10%|█         | 3/30 [00:00<00:01, 20.47it/s]"
     ]
    },
    {
     "name": "stdout",
     "output_type": "stream",
     "text": [
      "Epoch = 473, loss = 0.476972332312309, top 1 = 0.0013333333333333333, top 5 = 0.008400000000000003, top 10 = 0.012066666666666673\n"
     ]
    },
    {
     "name": "stderr",
     "output_type": "stream",
     "text": [
      "100%|██████████| 30/30 [00:01<00:00, 18.51it/s]\n",
      "100%|██████████| 30/30 [00:01<00:00, 23.02it/s]\n",
      "100%|██████████| 30/30 [00:01<00:00, 23.59it/s]\n",
      "100%|██████████| 30/30 [00:01<00:00, 22.23it/s]\n",
      " 10%|█         | 3/30 [00:00<00:01, 21.03it/s]"
     ]
    },
    {
     "name": "stdout",
     "output_type": "stream",
     "text": [
      "Epoch = 474, loss = 0.4754946292174916, top 1 = 0.002, top 5 = 0.008933333333333338, top 10 = 0.012266666666666674\n"
     ]
    },
    {
     "name": "stderr",
     "output_type": "stream",
     "text": [
      "100%|██████████| 30/30 [00:01<00:00, 17.58it/s]\n",
      "100%|██████████| 30/30 [00:01<00:00, 22.71it/s]\n",
      "100%|██████████| 30/30 [00:01<00:00, 23.51it/s]\n",
      "100%|██████████| 30/30 [00:01<00:00, 25.19it/s]\n",
      "  0%|          | 0/30 [00:00<?, ?it/s]"
     ]
    },
    {
     "name": "stdout",
     "output_type": "stream",
     "text": [
      "Epoch = 475, loss = 0.4764946551827459, top 1 = 0.0013333333333333333, top 5 = 0.00826666666666667, top 10 = 0.012000000000000007\n"
     ]
    },
    {
     "name": "stderr",
     "output_type": "stream",
     "text": [
      "100%|██████████| 30/30 [00:01<00:00, 17.31it/s]\n",
      "100%|██████████| 30/30 [00:01<00:00, 22.99it/s]\n",
      "100%|██████████| 30/30 [00:01<00:00, 21.80it/s]\n",
      "100%|██████████| 30/30 [00:01<00:00, 23.07it/s]\n",
      " 10%|█         | 3/30 [00:00<00:01, 20.99it/s]"
     ]
    },
    {
     "name": "stdout",
     "output_type": "stream",
     "text": [
      "Epoch = 476, loss = 0.4768586628928474, top 1 = 0.002, top 5 = 0.008800000000000004, top 10 = 0.012200000000000008\n"
     ]
    },
    {
     "name": "stderr",
     "output_type": "stream",
     "text": [
      "100%|██████████| 30/30 [00:01<00:00, 17.26it/s]\n",
      "100%|██████████| 30/30 [00:01<00:00, 23.61it/s]\n",
      "100%|██████████| 30/30 [00:01<00:00, 22.59it/s]\n",
      "100%|██████████| 30/30 [00:01<00:00, 23.31it/s]\n",
      " 10%|█         | 3/30 [00:00<00:01, 21.28it/s]"
     ]
    },
    {
     "name": "stdout",
     "output_type": "stream",
     "text": [
      "Epoch = 477, loss = 0.47745553655646306, top 1 = 0.0013333333333333333, top 5 = 0.00826666666666667, top 10 = 0.012066666666666673\n"
     ]
    },
    {
     "name": "stderr",
     "output_type": "stream",
     "text": [
      "100%|██████████| 30/30 [00:01<00:00, 17.54it/s]\n",
      "100%|██████████| 30/30 [00:01<00:00, 22.42it/s]\n",
      "100%|██████████| 30/30 [00:01<00:00, 22.85it/s]\n",
      "100%|██████████| 30/30 [00:01<00:00, 25.01it/s]\n",
      "  0%|          | 0/30 [00:00<?, ?it/s]"
     ]
    },
    {
     "name": "stdout",
     "output_type": "stream",
     "text": [
      "Epoch = 478, loss = 0.47632373548085327, top 1 = 0.0013333333333333333, top 5 = 0.008666666666666671, top 10 = 0.01213333333333334\n"
     ]
    },
    {
     "name": "stderr",
     "output_type": "stream",
     "text": [
      "100%|██████████| 30/30 [00:01<00:00, 17.58it/s]\n",
      "100%|██████████| 30/30 [00:01<00:00, 22.66it/s]\n",
      "100%|██████████| 30/30 [00:01<00:00, 23.25it/s]\n",
      "100%|██████████| 30/30 [00:01<00:00, 23.22it/s]\n",
      " 10%|█         | 3/30 [00:00<00:01, 20.91it/s]"
     ]
    },
    {
     "name": "stdout",
     "output_type": "stream",
     "text": [
      "Epoch = 479, loss = 0.4769035596391507, top 1 = 0.0013333333333333333, top 5 = 0.008933333333333338, top 10 = 0.01253333333333334\n"
     ]
    },
    {
     "name": "stderr",
     "output_type": "stream",
     "text": [
      "100%|██████████| 30/30 [00:01<00:00, 17.53it/s]\n",
      "100%|██████████| 30/30 [00:01<00:00, 24.91it/s]\n",
      "100%|██████████| 30/30 [00:01<00:00, 23.44it/s]\n",
      "100%|██████████| 30/30 [00:01<00:00, 23.35it/s]\n",
      " 10%|█         | 3/30 [00:00<00:01, 21.06it/s]"
     ]
    },
    {
     "name": "stdout",
     "output_type": "stream",
     "text": [
      "Epoch = 480, loss = 0.47571783502618487, top 1 = 0.0013333333333333333, top 5 = 0.007733333333333337, top 10 = 0.011800000000000007\n"
     ]
    },
    {
     "name": "stderr",
     "output_type": "stream",
     "text": [
      "100%|██████████| 30/30 [00:01<00:00, 17.54it/s]\n",
      "100%|██████████| 30/30 [00:01<00:00, 23.85it/s]\n",
      "100%|██████████| 30/30 [00:01<00:00, 22.09it/s]\n",
      "100%|██████████| 30/30 [00:01<00:00, 25.74it/s]\n",
      "  3%|▎         | 1/30 [00:00<00:04,  6.92it/s]"
     ]
    },
    {
     "name": "stdout",
     "output_type": "stream",
     "text": [
      "Epoch = 481, loss = 0.4765182295291849, top 1 = 0.002, top 5 = 0.009466666666666672, top 10 = 0.01273333333333334\n"
     ]
    },
    {
     "name": "stderr",
     "output_type": "stream",
     "text": [
      "100%|██████████| 30/30 [00:01<00:00, 17.31it/s]\n",
      "100%|██████████| 30/30 [00:01<00:00, 23.29it/s]\n",
      "100%|██████████| 30/30 [00:01<00:00, 22.42it/s]\n",
      "100%|██████████| 30/30 [00:01<00:00, 21.10it/s]\n",
      " 10%|█         | 3/30 [00:00<00:01, 19.88it/s]"
     ]
    },
    {
     "name": "stdout",
     "output_type": "stream",
     "text": [
      "Epoch = 482, loss = 0.47489237163172915, top 1 = 0.0013333333333333333, top 5 = 0.00826666666666667, top 10 = 0.011933333333333341\n"
     ]
    },
    {
     "name": "stderr",
     "output_type": "stream",
     "text": [
      "100%|██████████| 30/30 [00:01<00:00, 17.52it/s]\n",
      "100%|██████████| 30/30 [00:01<00:00, 23.13it/s]\n",
      "100%|██████████| 30/30 [00:01<00:00, 23.79it/s]\n",
      "100%|██████████| 30/30 [00:01<00:00, 22.95it/s]\n",
      " 10%|█         | 3/30 [00:00<00:01, 20.52it/s]"
     ]
    },
    {
     "name": "stdout",
     "output_type": "stream",
     "text": [
      "Epoch = 483, loss = 0.4763789413797756, top 1 = 0.0013333333333333333, top 5 = 0.008800000000000004, top 10 = 0.01233333333333334\n"
     ]
    },
    {
     "name": "stderr",
     "output_type": "stream",
     "text": [
      "100%|██████████| 30/30 [00:01<00:00, 17.52it/s]\n",
      "100%|██████████| 30/30 [00:01<00:00, 21.58it/s]\n",
      "100%|██████████| 30/30 [00:01<00:00, 21.87it/s]\n",
      "100%|██████████| 30/30 [00:01<00:00, 21.65it/s]\n",
      "  7%|▋         | 2/30 [00:00<00:01, 19.06it/s]"
     ]
    },
    {
     "name": "stdout",
     "output_type": "stream",
     "text": [
      "Epoch = 484, loss = 0.4774612117755203, top 1 = 0.0013333333333333333, top 5 = 0.007200000000000003, top 10 = 0.01153333333333334\n"
     ]
    },
    {
     "name": "stderr",
     "output_type": "stream",
     "text": [
      "100%|██████████| 30/30 [00:01<00:00, 18.00it/s]\n",
      "100%|██████████| 30/30 [00:01<00:00, 23.18it/s]\n",
      "100%|██████████| 30/30 [00:01<00:00, 23.39it/s]\n",
      "100%|██████████| 30/30 [00:01<00:00, 22.43it/s]\n",
      " 10%|█         | 3/30 [00:00<00:01, 19.64it/s]"
     ]
    },
    {
     "name": "stdout",
     "output_type": "stream",
     "text": [
      "Epoch = 485, loss = 0.4774334512648367, top 1 = 0.0026666666666666666, top 5 = 0.010133333333333338, top 10 = 0.01313333333333334\n",
      "save model to /home/ai2019/ne6081064/june/mlg/snrs_hw1/2021-03-13 11-52/weight.pth\n"
     ]
    },
    {
     "name": "stderr",
     "output_type": "stream",
     "text": [
      "100%|██████████| 30/30 [00:01<00:00, 17.46it/s]\n",
      "100%|██████████| 30/30 [00:01<00:00, 23.03it/s]\n",
      "100%|██████████| 30/30 [00:01<00:00, 24.50it/s]\n",
      "100%|██████████| 30/30 [00:01<00:00, 22.48it/s]\n",
      " 10%|█         | 3/30 [00:00<00:01, 20.49it/s]"
     ]
    },
    {
     "name": "stdout",
     "output_type": "stream",
     "text": [
      "Epoch = 486, loss = 0.4765519796015329, top 1 = 0.0013333333333333333, top 5 = 0.005200000000000002, top 10 = 0.010000000000000005\n"
     ]
    },
    {
     "name": "stderr",
     "output_type": "stream",
     "text": [
      "100%|██████████| 30/30 [00:01<00:00, 17.25it/s]\n",
      "100%|██████████| 30/30 [00:01<00:00, 23.80it/s]\n",
      "100%|██████████| 30/30 [00:01<00:00, 22.59it/s]\n",
      "100%|██████████| 30/30 [00:01<00:00, 22.97it/s]\n",
      " 10%|█         | 3/30 [00:00<00:01, 20.67it/s]"
     ]
    },
    {
     "name": "stdout",
     "output_type": "stream",
     "text": [
      "Epoch = 487, loss = 0.4772790878412752, top 1 = 0.0013333333333333333, top 5 = 0.00906666666666667, top 10 = 0.012866666666666672\n"
     ]
    },
    {
     "name": "stderr",
     "output_type": "stream",
     "text": [
      "100%|██████████| 30/30 [00:01<00:00, 18.36it/s]\n",
      "100%|██████████| 30/30 [00:01<00:00, 23.00it/s]\n",
      "100%|██████████| 30/30 [00:01<00:00, 21.49it/s]\n",
      "100%|██████████| 30/30 [00:01<00:00, 23.07it/s]\n",
      " 10%|█         | 3/30 [00:00<00:01, 20.47it/s]"
     ]
    },
    {
     "name": "stdout",
     "output_type": "stream",
     "text": [
      "Epoch = 488, loss = 0.4765216722691289, top 1 = 0.002, top 5 = 0.00906666666666667, top 10 = 0.012466666666666673\n"
     ]
    },
    {
     "name": "stderr",
     "output_type": "stream",
     "text": [
      "100%|██████████| 30/30 [00:01<00:00, 17.42it/s]\n",
      "100%|██████████| 30/30 [00:01<00:00, 22.22it/s]\n",
      "100%|██████████| 30/30 [00:01<00:00, 25.25it/s]\n",
      "100%|██████████| 30/30 [00:01<00:00, 23.02it/s]\n",
      " 10%|█         | 3/30 [00:00<00:01, 20.30it/s]"
     ]
    },
    {
     "name": "stdout",
     "output_type": "stream",
     "text": [
      "Epoch = 489, loss = 0.47664467407003297, top 1 = 0.0013333333333333333, top 5 = 0.006533333333333336, top 10 = 0.01073333333333334\n"
     ]
    },
    {
     "name": "stderr",
     "output_type": "stream",
     "text": [
      "100%|██████████| 30/30 [00:01<00:00, 17.34it/s]\n",
      "100%|██████████| 30/30 [00:01<00:00, 21.63it/s]\n",
      "100%|██████████| 30/30 [00:01<00:00, 22.75it/s]\n",
      "100%|██████████| 30/30 [00:01<00:00, 22.76it/s]\n",
      " 10%|█         | 3/30 [00:00<00:01, 20.51it/s]"
     ]
    },
    {
     "name": "stdout",
     "output_type": "stream",
     "text": [
      "Epoch = 490, loss = 0.4771344609845824, top 1 = 0.002, top 5 = 0.009733333333333339, top 10 = 0.012666666666666672\n"
     ]
    },
    {
     "name": "stderr",
     "output_type": "stream",
     "text": [
      "100%|██████████| 30/30 [00:01<00:00, 18.41it/s]\n",
      "100%|██████████| 30/30 [00:01<00:00, 23.24it/s]\n",
      "100%|██████████| 30/30 [00:01<00:00, 22.94it/s]\n",
      "100%|██████████| 30/30 [00:01<00:00, 22.84it/s]\n",
      " 10%|█         | 3/30 [00:00<00:01, 20.47it/s]"
     ]
    },
    {
     "name": "stdout",
     "output_type": "stream",
     "text": [
      "Epoch = 491, loss = 0.47642376454761703, top 1 = 0.002, top 5 = 0.00906666666666667, top 10 = 0.01233333333333334\n"
     ]
    },
    {
     "name": "stderr",
     "output_type": "stream",
     "text": [
      "100%|██████████| 30/30 [00:01<00:00, 17.29it/s]\n",
      "100%|██████████| 30/30 [00:01<00:00, 23.55it/s]\n",
      "100%|██████████| 30/30 [00:01<00:00, 23.37it/s]\n",
      "100%|██████████| 30/30 [00:01<00:00, 24.77it/s]\n",
      "  0%|          | 0/30 [00:00<?, ?it/s]"
     ]
    },
    {
     "name": "stdout",
     "output_type": "stream",
     "text": [
      "Epoch = 492, loss = 0.47734394611289016, top 1 = 0.002, top 5 = 0.009333333333333338, top 10 = 0.012400000000000005\n"
     ]
    },
    {
     "name": "stderr",
     "output_type": "stream",
     "text": [
      "100%|██████████| 30/30 [00:01<00:00, 17.21it/s]\n",
      "100%|██████████| 30/30 [00:01<00:00, 23.30it/s]\n",
      "100%|██████████| 30/30 [00:01<00:00, 23.42it/s]\n",
      "100%|██████████| 30/30 [00:01<00:00, 20.68it/s]\n",
      " 10%|█         | 3/30 [00:00<00:01, 19.98it/s]"
     ]
    },
    {
     "name": "stdout",
     "output_type": "stream",
     "text": [
      "Epoch = 493, loss = 0.47706661785595916, top 1 = 0.0013333333333333333, top 5 = 0.008666666666666671, top 10 = 0.012533333333333339\n"
     ]
    },
    {
     "name": "stderr",
     "output_type": "stream",
     "text": [
      "100%|██████████| 30/30 [00:01<00:00, 16.97it/s]\n",
      "100%|██████████| 30/30 [00:01<00:00, 25.05it/s]\n",
      "100%|██████████| 30/30 [00:01<00:00, 22.42it/s]\n",
      "100%|██████████| 30/30 [00:01<00:00, 23.09it/s]\n",
      " 10%|█         | 3/30 [00:00<00:01, 20.68it/s]"
     ]
    },
    {
     "name": "stdout",
     "output_type": "stream",
     "text": [
      "Epoch = 494, loss = 0.4765310043995982, top 1 = 0.0013333333333333333, top 5 = 0.008800000000000004, top 10 = 0.012066666666666673\n"
     ]
    },
    {
     "name": "stderr",
     "output_type": "stream",
     "text": [
      "100%|██████████| 30/30 [00:01<00:00, 17.28it/s]\n",
      "100%|██████████| 30/30 [00:01<00:00, 23.34it/s]\n",
      "100%|██████████| 30/30 [00:01<00:00, 23.08it/s]\n",
      "100%|██████████| 30/30 [00:01<00:00, 25.13it/s]\n",
      "  3%|▎         | 1/30 [00:00<00:04,  6.67it/s]"
     ]
    },
    {
     "name": "stdout",
     "output_type": "stream",
     "text": [
      "Epoch = 495, loss = 0.47809974533294963, top 1 = 0.0013333333333333333, top 5 = 0.008933333333333338, top 10 = 0.012666666666666672\n"
     ]
    },
    {
     "name": "stderr",
     "output_type": "stream",
     "text": [
      "100%|██████████| 30/30 [00:01<00:00, 17.40it/s]\n",
      "100%|██████████| 30/30 [00:01<00:00, 22.79it/s]\n",
      "100%|██████████| 30/30 [00:01<00:00, 23.08it/s]\n",
      "100%|██████████| 30/30 [00:01<00:00, 22.52it/s]\n",
      " 10%|█         | 3/30 [00:00<00:01, 20.25it/s]"
     ]
    },
    {
     "name": "stdout",
     "output_type": "stream",
     "text": [
      "Epoch = 496, loss = 0.47622612842044637, top 1 = 0.0013333333333333333, top 5 = 0.008133333333333336, top 10 = 0.01213333333333334\n"
     ]
    },
    {
     "name": "stderr",
     "output_type": "stream",
     "text": [
      "100%|██████████| 30/30 [00:01<00:00, 17.27it/s]\n",
      "100%|██████████| 30/30 [00:01<00:00, 22.36it/s]\n",
      "100%|██████████| 30/30 [00:01<00:00, 25.23it/s]\n",
      "100%|██████████| 30/30 [00:01<00:00, 23.13it/s]\n",
      " 10%|█         | 3/30 [00:00<00:01, 19.98it/s]"
     ]
    },
    {
     "name": "stdout",
     "output_type": "stream",
     "text": [
      "Epoch = 497, loss = 0.47637808181534425, top 1 = 0.0013333333333333333, top 5 = 0.00826666666666667, top 10 = 0.012000000000000007\n"
     ]
    },
    {
     "name": "stderr",
     "output_type": "stream",
     "text": [
      "100%|██████████| 30/30 [00:01<00:00, 17.41it/s]\n",
      "100%|██████████| 30/30 [00:01<00:00, 23.48it/s]\n",
      "100%|██████████| 30/30 [00:01<00:00, 22.79it/s]\n",
      "100%|██████████| 30/30 [00:01<00:00, 23.05it/s]\n",
      " 10%|█         | 3/30 [00:00<00:01, 20.25it/s]"
     ]
    },
    {
     "name": "stdout",
     "output_type": "stream",
     "text": [
      "Epoch = 498, loss = 0.4762440213794352, top 1 = 0.0013333333333333333, top 5 = 0.008000000000000004, top 10 = 0.011933333333333341\n"
     ]
    },
    {
     "name": "stderr",
     "output_type": "stream",
     "text": [
      "100%|██████████| 30/30 [00:01<00:00, 18.47it/s]\n",
      "100%|██████████| 30/30 [00:01<00:00, 22.71it/s]\n",
      "100%|██████████| 30/30 [00:01<00:00, 21.64it/s]\n",
      "100%|██████████| 30/30 [00:01<00:00, 23.20it/s]\n",
      " 10%|█         | 3/30 [00:00<00:01, 19.93it/s]"
     ]
    },
    {
     "name": "stdout",
     "output_type": "stream",
     "text": [
      "Epoch = 499, loss = 0.47707905284502294, top 1 = 0.0013333333333333333, top 5 = 0.008933333333333338, top 10 = 0.012533333333333339\n"
     ]
    },
    {
     "name": "stderr",
     "output_type": "stream",
     "text": [
      "100%|██████████| 30/30 [00:01<00:00, 17.47it/s]\n",
      "100%|██████████| 30/30 [00:01<00:00, 22.93it/s]\n",
      "100%|██████████| 30/30 [00:01<00:00, 24.61it/s]\n",
      "100%|██████████| 30/30 [00:01<00:00, 22.85it/s]\n",
      " 10%|█         | 3/30 [00:00<00:01, 20.45it/s]"
     ]
    },
    {
     "name": "stdout",
     "output_type": "stream",
     "text": [
      "Epoch = 500, loss = 0.47614505534446744, top 1 = 0.002, top 5 = 0.008000000000000004, top 10 = 0.011866666666666671\n"
     ]
    },
    {
     "name": "stderr",
     "output_type": "stream",
     "text": [
      "100%|██████████| 30/30 [00:01<00:00, 17.56it/s]\n",
      "100%|██████████| 30/30 [00:01<00:00, 22.92it/s]\n",
      "100%|██████████| 30/30 [00:01<00:00, 21.65it/s]\n",
      "100%|██████████| 30/30 [00:01<00:00, 21.78it/s]\n",
      " 10%|█         | 3/30 [00:00<00:01, 20.01it/s]"
     ]
    },
    {
     "name": "stdout",
     "output_type": "stream",
     "text": [
      "Epoch = 501, loss = 0.4770035107984114, top 1 = 0.0013333333333333333, top 5 = 0.008533333333333337, top 10 = 0.012400000000000007\n"
     ]
    },
    {
     "name": "stderr",
     "output_type": "stream",
     "text": [
      "100%|██████████| 30/30 [00:01<00:00, 18.50it/s]\n",
      "100%|██████████| 30/30 [00:01<00:00, 22.61it/s]\n",
      "100%|██████████| 30/30 [00:01<00:00, 23.90it/s]\n",
      "100%|██████████| 30/30 [00:01<00:00, 23.65it/s]\n",
      " 10%|█         | 3/30 [00:00<00:01, 20.74it/s]"
     ]
    },
    {
     "name": "stdout",
     "output_type": "stream",
     "text": [
      "Epoch = 502, loss = 0.47591914413935604, top 1 = 0.002, top 5 = 0.007866666666666671, top 10 = 0.011933333333333341\n"
     ]
    },
    {
     "name": "stderr",
     "output_type": "stream",
     "text": [
      "100%|██████████| 30/30 [00:01<00:00, 17.34it/s]\n",
      "100%|██████████| 30/30 [00:01<00:00, 23.34it/s]\n",
      "100%|██████████| 30/30 [00:01<00:00, 25.45it/s]\n",
      "100%|██████████| 30/30 [00:01<00:00, 23.23it/s]\n",
      " 10%|█         | 3/30 [00:00<00:01, 21.21it/s]"
     ]
    },
    {
     "name": "stdout",
     "output_type": "stream",
     "text": [
      "Epoch = 503, loss = 0.4763207363050756, top 1 = 0.0013333333333333333, top 5 = 0.008533333333333337, top 10 = 0.012466666666666675\n"
     ]
    },
    {
     "name": "stderr",
     "output_type": "stream",
     "text": [
      "100%|██████████| 30/30 [00:01<00:00, 17.38it/s]\n",
      "100%|██████████| 30/30 [00:01<00:00, 22.62it/s]\n",
      "100%|██████████| 30/30 [00:01<00:00, 23.37it/s]\n",
      "100%|██████████| 30/30 [00:01<00:00, 21.94it/s]\n",
      " 10%|█         | 3/30 [00:00<00:01, 21.08it/s]"
     ]
    },
    {
     "name": "stdout",
     "output_type": "stream",
     "text": [
      "Epoch = 504, loss = 0.47554807891816686, top 1 = 0.002, top 5 = 0.008133333333333336, top 10 = 0.012000000000000007\n"
     ]
    },
    {
     "name": "stderr",
     "output_type": "stream",
     "text": [
      "100%|██████████| 30/30 [00:01<00:00, 18.56it/s]\n",
      "100%|██████████| 30/30 [00:01<00:00, 22.60it/s]\n",
      "100%|██████████| 30/30 [00:01<00:00, 22.55it/s]\n",
      "100%|██████████| 30/30 [00:01<00:00, 23.58it/s]\n",
      " 10%|█         | 3/30 [00:00<00:01, 21.03it/s]"
     ]
    },
    {
     "name": "stdout",
     "output_type": "stream",
     "text": [
      "Epoch = 505, loss = 0.4765143791019117, top 1 = 0.0013333333333333333, top 5 = 0.00826666666666667, top 10 = 0.012200000000000008\n"
     ]
    },
    {
     "name": "stderr",
     "output_type": "stream",
     "text": [
      "100%|██████████| 30/30 [00:01<00:00, 17.62it/s]\n",
      "100%|██████████| 30/30 [00:01<00:00, 23.70it/s]\n",
      "100%|██████████| 30/30 [00:01<00:00, 22.84it/s]\n",
      "100%|██████████| 30/30 [00:01<00:00, 25.09it/s]\n",
      "  0%|          | 0/30 [00:00<?, ?it/s]"
     ]
    },
    {
     "name": "stdout",
     "output_type": "stream",
     "text": [
      "Epoch = 506, loss = 0.4757717278842024, top 1 = 0.0026666666666666666, top 5 = 0.010800000000000006, top 10 = 0.013000000000000006\n"
     ]
    },
    {
     "name": "stderr",
     "output_type": "stream",
     "text": [
      "100%|██████████| 30/30 [00:01<00:00, 17.48it/s]\n",
      "100%|██████████| 30/30 [00:01<00:00, 21.46it/s]\n",
      "100%|██████████| 30/30 [00:01<00:00, 22.86it/s]\n",
      "100%|██████████| 30/30 [00:01<00:00, 23.32it/s]\n",
      " 10%|█         | 3/30 [00:00<00:01, 20.71it/s]"
     ]
    },
    {
     "name": "stdout",
     "output_type": "stream",
     "text": [
      "Epoch = 507, loss = 0.4775048175994806, top 1 = 0.0013333333333333333, top 5 = 0.007333333333333336, top 10 = 0.011933333333333341\n"
     ]
    },
    {
     "name": "stderr",
     "output_type": "stream",
     "text": [
      "100%|██████████| 30/30 [00:01<00:00, 17.41it/s]\n",
      "100%|██████████| 30/30 [00:01<00:00, 23.73it/s]\n",
      "100%|██████████| 30/30 [00:01<00:00, 22.13it/s]\n",
      "100%|██████████| 30/30 [00:01<00:00, 23.28it/s]\n",
      " 10%|█         | 3/30 [00:00<00:01, 21.16it/s]"
     ]
    },
    {
     "name": "stdout",
     "output_type": "stream",
     "text": [
      "Epoch = 508, loss = 0.4767585146019582, top 1 = 0.0033333333333333335, top 5 = 0.010800000000000006, top 10 = 0.01313333333333334\n"
     ]
    },
    {
     "name": "stderr",
     "output_type": "stream",
     "text": [
      "100%|██████████| 30/30 [00:01<00:00, 17.58it/s]\n",
      "100%|██████████| 30/30 [00:01<00:00, 23.85it/s]\n",
      "100%|██████████| 30/30 [00:01<00:00, 23.03it/s]\n",
      "100%|██████████| 30/30 [00:01<00:00, 24.19it/s]\n",
      "  0%|          | 0/30 [00:00<?, ?it/s]"
     ]
    },
    {
     "name": "stdout",
     "output_type": "stream",
     "text": [
      "Epoch = 509, loss = 0.4755527511631347, top 1 = 0.0013333333333333333, top 5 = 0.00626666666666667, top 10 = 0.011200000000000007\n"
     ]
    },
    {
     "name": "stderr",
     "output_type": "stream",
     "text": [
      "100%|██████████| 30/30 [00:01<00:00, 17.43it/s]\n",
      "100%|██████████| 30/30 [00:01<00:00, 22.28it/s]\n",
      "100%|██████████| 30/30 [00:01<00:00, 22.94it/s]\n",
      "100%|██████████| 30/30 [00:01<00:00, 22.64it/s]\n",
      " 10%|█         | 3/30 [00:00<00:01, 20.80it/s]"
     ]
    },
    {
     "name": "stdout",
     "output_type": "stream",
     "text": [
      "Epoch = 510, loss = 0.47624024089865746, top 1 = 0.004, top 5 = 0.010666666666666673, top 10 = 0.013066666666666673\n"
     ]
    },
    {
     "name": "stderr",
     "output_type": "stream",
     "text": [
      "100%|██████████| 30/30 [00:01<00:00, 17.37it/s]\n",
      "100%|██████████| 30/30 [00:01<00:00, 25.11it/s]\n",
      "100%|██████████| 30/30 [00:01<00:00, 22.90it/s]\n",
      "100%|██████████| 30/30 [00:01<00:00, 23.07it/s]\n",
      "  7%|▋         | 2/30 [00:00<00:01, 18.82it/s]"
     ]
    },
    {
     "name": "stdout",
     "output_type": "stream",
     "text": [
      "Epoch = 511, loss = 0.47836206277240284, top 1 = 0.0013333333333333333, top 5 = 0.008400000000000003, top 10 = 0.01233333333333334\n"
     ]
    },
    {
     "name": "stderr",
     "output_type": "stream",
     "text": [
      "100%|██████████| 30/30 [00:01<00:00, 17.15it/s]\n",
      "100%|██████████| 30/30 [00:01<00:00, 22.86it/s]\n",
      "100%|██████████| 30/30 [00:01<00:00, 23.17it/s]\n",
      "100%|██████████| 30/30 [00:01<00:00, 25.37it/s]\n",
      "  3%|▎         | 1/30 [00:00<00:04,  7.18it/s]"
     ]
    },
    {
     "name": "stdout",
     "output_type": "stream",
     "text": [
      "Epoch = 512, loss = 0.47585105581936016, top 1 = 0.0033333333333333335, top 5 = 0.010133333333333338, top 10 = 0.012800000000000006\n"
     ]
    },
    {
     "name": "stderr",
     "output_type": "stream",
     "text": [
      "100%|██████████| 30/30 [00:01<00:00, 17.21it/s]\n",
      "100%|██████████| 30/30 [00:01<00:00, 22.95it/s]\n",
      "100%|██████████| 30/30 [00:01<00:00, 22.75it/s]\n",
      "100%|██████████| 30/30 [00:01<00:00, 22.83it/s]\n",
      " 10%|█         | 3/30 [00:00<00:01, 20.69it/s]"
     ]
    },
    {
     "name": "stdout",
     "output_type": "stream",
     "text": [
      "Epoch = 513, loss = 0.47780552744568555, top 1 = 0.0013333333333333333, top 5 = 0.007333333333333337, top 10 = 0.011933333333333341\n"
     ]
    },
    {
     "name": "stderr",
     "output_type": "stream",
     "text": [
      "100%|██████████| 30/30 [00:01<00:00, 17.37it/s]\n",
      "100%|██████████| 30/30 [00:01<00:00, 22.40it/s]\n",
      "100%|██████████| 30/30 [00:01<00:00, 25.17it/s]\n",
      "100%|██████████| 30/30 [00:01<00:00, 21.73it/s]\n",
      " 10%|█         | 3/30 [00:00<00:01, 21.03it/s]"
     ]
    },
    {
     "name": "stdout",
     "output_type": "stream",
     "text": [
      "Epoch = 514, loss = 0.47713079484621207, top 1 = 0.002, top 5 = 0.007600000000000004, top 10 = 0.01166666666666667\n"
     ]
    },
    {
     "name": "stderr",
     "output_type": "stream",
     "text": [
      "100%|██████████| 30/30 [00:01<00:00, 17.62it/s]\n",
      "100%|██████████| 30/30 [00:01<00:00, 22.12it/s]\n",
      "100%|██████████| 30/30 [00:01<00:00, 21.93it/s]\n",
      "100%|██████████| 30/30 [00:01<00:00, 23.32it/s]\n",
      " 10%|█         | 3/30 [00:00<00:01, 20.37it/s]"
     ]
    },
    {
     "name": "stdout",
     "output_type": "stream",
     "text": [
      "Epoch = 515, loss = 0.4772050555669138, top 1 = 0.0013333333333333333, top 5 = 0.008666666666666671, top 10 = 0.012600000000000005\n"
     ]
    },
    {
     "name": "stderr",
     "output_type": "stream",
     "text": [
      "100%|██████████| 30/30 [00:01<00:00, 18.31it/s]\n",
      "100%|██████████| 30/30 [00:01<00:00, 23.68it/s]\n",
      "100%|██████████| 30/30 [00:01<00:00, 22.24it/s]\n",
      "100%|██████████| 30/30 [00:01<00:00, 21.20it/s]\n",
      " 10%|█         | 3/30 [00:00<00:01, 19.98it/s]"
     ]
    },
    {
     "name": "stdout",
     "output_type": "stream",
     "text": [
      "Epoch = 516, loss = 0.4773302051404225, top 1 = 0.002, top 5 = 0.008666666666666671, top 10 = 0.012266666666666674\n"
     ]
    },
    {
     "name": "stderr",
     "output_type": "stream",
     "text": [
      "100%|██████████| 30/30 [00:01<00:00, 17.20it/s]\n",
      "100%|██████████| 30/30 [00:01<00:00, 21.91it/s]\n",
      "100%|██████████| 30/30 [00:01<00:00, 25.02it/s]\n",
      "100%|██████████| 30/30 [00:01<00:00, 22.36it/s]\n",
      "  0%|          | 0/30 [00:00<?, ?it/s]"
     ]
    },
    {
     "name": "stdout",
     "output_type": "stream",
     "text": [
      "Epoch = 517, loss = 0.47719712843280426, top 1 = 0.0013333333333333333, top 5 = 0.008800000000000004, top 10 = 0.012200000000000008\n"
     ]
    },
    {
     "name": "stderr",
     "output_type": "stream",
     "text": [
      "100%|██████████| 30/30 [00:01<00:00, 17.21it/s]\n",
      "100%|██████████| 30/30 [00:01<00:00, 22.06it/s]\n",
      "100%|██████████| 30/30 [00:01<00:00, 23.23it/s]\n",
      "100%|██████████| 30/30 [00:01<00:00, 23.07it/s]\n",
      " 10%|█         | 3/30 [00:00<00:01, 20.27it/s]"
     ]
    },
    {
     "name": "stdout",
     "output_type": "stream",
     "text": [
      "Epoch = 518, loss = 0.4759196443118366, top 1 = 0.0013333333333333333, top 5 = 0.008533333333333337, top 10 = 0.012266666666666674\n"
     ]
    },
    {
     "name": "stderr",
     "output_type": "stream",
     "text": [
      "100%|██████████| 30/30 [00:01<00:00, 18.13it/s]\n",
      "100%|██████████| 30/30 [00:01<00:00, 22.63it/s]\n",
      "100%|██████████| 30/30 [00:01<00:00, 22.94it/s]\n",
      "100%|██████████| 30/30 [00:01<00:00, 22.58it/s]\n",
      " 10%|█         | 3/30 [00:00<00:01, 19.78it/s]"
     ]
    },
    {
     "name": "stdout",
     "output_type": "stream",
     "text": [
      "Epoch = 519, loss = 0.47723157295933843, top 1 = 0.0013333333333333333, top 5 = 0.009200000000000005, top 10 = 0.012466666666666673\n"
     ]
    },
    {
     "name": "stderr",
     "output_type": "stream",
     "text": [
      "100%|██████████| 30/30 [00:01<00:00, 16.97it/s]\n",
      "100%|██████████| 30/30 [00:01<00:00, 23.02it/s]\n",
      "100%|██████████| 30/30 [00:01<00:00, 24.27it/s]\n",
      "100%|██████████| 30/30 [00:01<00:00, 23.32it/s]\n",
      " 10%|█         | 3/30 [00:00<00:01, 20.55it/s]"
     ]
    },
    {
     "name": "stdout",
     "output_type": "stream",
     "text": [
      "Epoch = 520, loss = 0.4762155327706374, top 1 = 0.0013333333333333333, top 5 = 0.008000000000000004, top 10 = 0.012000000000000007\n"
     ]
    },
    {
     "name": "stderr",
     "output_type": "stream",
     "text": [
      "100%|██████████| 30/30 [00:01<00:00, 17.28it/s]\n",
      "100%|██████████| 30/30 [00:01<00:00, 23.04it/s]\n",
      "100%|██████████| 30/30 [00:01<00:00, 22.65it/s]\n",
      "100%|██████████| 30/30 [00:01<00:00, 23.37it/s]\n",
      " 10%|█         | 3/30 [00:00<00:01, 20.66it/s]"
     ]
    },
    {
     "name": "stdout",
     "output_type": "stream",
     "text": [
      "Epoch = 521, loss = 0.47594176113039116, top 1 = 0.0013333333333333333, top 5 = 0.008933333333333338, top 10 = 0.012466666666666673\n"
     ]
    },
    {
     "name": "stderr",
     "output_type": "stream",
     "text": [
      "100%|██████████| 30/30 [00:01<00:00, 18.42it/s]\n",
      "100%|██████████| 30/30 [00:01<00:00, 23.11it/s]\n",
      "100%|██████████| 30/30 [00:01<00:00, 23.19it/s]\n",
      "100%|██████████| 30/30 [00:01<00:00, 22.06it/s]\n",
      " 10%|█         | 3/30 [00:00<00:01, 20.38it/s]"
     ]
    },
    {
     "name": "stdout",
     "output_type": "stream",
     "text": [
      "Epoch = 522, loss = 0.47600438114695565, top 1 = 0.0013333333333333333, top 5 = 0.007733333333333337, top 10 = 0.01173333333333334\n"
     ]
    },
    {
     "name": "stderr",
     "output_type": "stream",
     "text": [
      "100%|██████████| 30/30 [00:01<00:00, 16.74it/s]\n",
      "100%|██████████| 30/30 [00:01<00:00, 22.96it/s]\n",
      "100%|██████████| 30/30 [00:01<00:00, 22.40it/s]\n",
      "100%|██████████| 30/30 [00:01<00:00, 24.96it/s]\n",
      "  0%|          | 0/30 [00:00<?, ?it/s]"
     ]
    },
    {
     "name": "stdout",
     "output_type": "stream",
     "text": [
      "Epoch = 523, loss = 0.47552503214715336, top 1 = 0.0013333333333333333, top 5 = 0.008933333333333338, top 10 = 0.012533333333333339\n"
     ]
    },
    {
     "name": "stderr",
     "output_type": "stream",
     "text": [
      "100%|██████████| 30/30 [00:01<00:00, 17.25it/s]\n",
      "100%|██████████| 30/30 [00:01<00:00, 22.87it/s]\n",
      "100%|██████████| 30/30 [00:01<00:00, 23.19it/s]\n",
      "100%|██████████| 30/30 [00:01<00:00, 22.79it/s]\n",
      " 10%|█         | 3/30 [00:00<00:01, 20.75it/s]"
     ]
    },
    {
     "name": "stdout",
     "output_type": "stream",
     "text": [
      "Epoch = 524, loss = 0.47559047414913913, top 1 = 0.0013333333333333333, top 5 = 0.00786666666666667, top 10 = 0.011933333333333341\n"
     ]
    },
    {
     "name": "stderr",
     "output_type": "stream",
     "text": [
      "100%|██████████| 30/30 [00:01<00:00, 17.45it/s]\n",
      "100%|██████████| 30/30 [00:01<00:00, 25.00it/s]\n",
      "100%|██████████| 30/30 [00:01<00:00, 22.16it/s]\n",
      "100%|██████████| 30/30 [00:01<00:00, 21.80it/s]\n",
      " 10%|█         | 3/30 [00:00<00:01, 19.92it/s]"
     ]
    },
    {
     "name": "stdout",
     "output_type": "stream",
     "text": [
      "Epoch = 525, loss = 0.47526050461573666, top 1 = 0.0013333333333333333, top 5 = 0.008400000000000003, top 10 = 0.012200000000000008\n"
     ]
    },
    {
     "name": "stderr",
     "output_type": "stream",
     "text": [
      "100%|██████████| 30/30 [00:01<00:00, 17.20it/s]\n",
      "100%|██████████| 30/30 [00:01<00:00, 22.49it/s]\n",
      "100%|██████████| 30/30 [00:01<00:00, 22.61it/s]\n",
      "100%|██████████| 30/30 [00:01<00:00, 24.41it/s]\n",
      "  3%|▎         | 1/30 [00:00<00:04,  6.92it/s]"
     ]
    },
    {
     "name": "stdout",
     "output_type": "stream",
     "text": [
      "Epoch = 526, loss = 0.47619955257580354, top 1 = 0.0013333333333333333, top 5 = 0.008800000000000004, top 10 = 0.012466666666666675\n"
     ]
    },
    {
     "name": "stderr",
     "output_type": "stream",
     "text": [
      "100%|██████████| 30/30 [00:01<00:00, 17.34it/s]\n",
      "100%|██████████| 30/30 [00:01<00:00, 23.25it/s]\n",
      "100%|██████████| 30/30 [00:01<00:00, 23.00it/s]\n",
      "100%|██████████| 30/30 [00:01<00:00, 22.89it/s]\n",
      "  0%|          | 0/30 [00:00<?, ?it/s]"
     ]
    },
    {
     "name": "stdout",
     "output_type": "stream",
     "text": [
      "Epoch = 527, loss = 0.47554064341498753, top 1 = 0.0013333333333333333, top 5 = 0.007733333333333337, top 10 = 0.01173333333333334\n"
     ]
    },
    {
     "name": "stderr",
     "output_type": "stream",
     "text": [
      "100%|██████████| 30/30 [00:01<00:00, 17.09it/s]\n",
      "100%|██████████| 30/30 [00:01<00:00, 21.81it/s]\n",
      "100%|██████████| 30/30 [00:01<00:00, 24.48it/s]\n",
      "100%|██████████| 30/30 [00:01<00:00, 23.00it/s]\n",
      " 10%|█         | 3/30 [00:00<00:01, 20.50it/s]"
     ]
    },
    {
     "name": "stdout",
     "output_type": "stream",
     "text": [
      "Epoch = 528, loss = 0.47713234799772036, top 1 = 0.0013333333333333333, top 5 = 0.009466666666666672, top 10 = 0.01273333333333334\n"
     ]
    },
    {
     "name": "stderr",
     "output_type": "stream",
     "text": [
      "100%|██████████| 30/30 [00:01<00:00, 17.35it/s]\n",
      "100%|██████████| 30/30 [00:01<00:00, 22.74it/s]\n",
      "100%|██████████| 30/30 [00:01<00:00, 23.00it/s]\n",
      "100%|██████████| 30/30 [00:01<00:00, 22.86it/s]\n",
      " 10%|█         | 3/30 [00:00<00:01, 19.96it/s]"
     ]
    },
    {
     "name": "stdout",
     "output_type": "stream",
     "text": [
      "Epoch = 529, loss = 0.4762507251979545, top 1 = 0.0013333333333333333, top 5 = 0.007333333333333336, top 10 = 0.011266666666666673\n"
     ]
    },
    {
     "name": "stderr",
     "output_type": "stream",
     "text": [
      "100%|██████████| 30/30 [00:01<00:00, 18.53it/s]\n",
      "100%|██████████| 30/30 [00:01<00:00, 22.17it/s]\n",
      "100%|██████████| 30/30 [00:01<00:00, 22.80it/s]\n",
      " 80%|████████  | 24/30 [00:00<00:00, 26.37it/s]"
     ]
    }
   ],
   "source": [
    "model.train()\n",
    "\n",
    "top_10 = 0.0\n",
    "\n",
    "for epoch in range(setting.epochs):\n",
    "    \n",
    "    bce_loss = 0.0\n",
    "    graph_cnt = 0\n",
    "    for data in tqdm(all_loader):\n",
    "        \n",
    "        optimizer.zero_grad()\n",
    "        \n",
    "        data = data.to(setting.device)\n",
    "        bc_pr = model(data)\n",
    "        \n",
    "        bc_gt = data.y\n",
    "        bc_gt = np.array(bc_gt)\n",
    "\n",
    "        bc_gt = torch.from_numpy(bc_gt)\n",
    "        bc_gt = torch.reshape(bc_gt, (-1, ))\n",
    "\n",
    "        ### random sample 5|V| nodes\n",
    "        src = (torch.rand(25000) * 4999).long()\n",
    "        det = (torch.rand(25000) * 4999).long()\n",
    "        for b in range(len(data.batch)//5000-1):\n",
    "            src = torch.cat((src, (torch.rand(25000) * 4999).long()+(b+1)*5000))\n",
    "            det = torch.cat((det, (torch.rand(25000) * 4999).long()+(b+1)*5000))\n",
    "        \n",
    "        y_gt = (bc_gt[det] - bc_gt[src]).squeeze().to(setting.device)\n",
    "        y_pr = (bc_pr[det] - bc_pr[src]).squeeze()\n",
    "\n",
    "#         print(torch.max(y_gt), torch.min(y_gt))\n",
    "#         print(torch.max(y_pr), torch.min(y_pr))\n",
    "        \n",
    "        y_gt = nn.Sigmoid()(y_gt)\n",
    "        y_pr = nn.Sigmoid()(y_pr)\n",
    "        \n",
    "        ### Map gt to 0 and 1\n",
    "        y_gt = torch.where(y_gt >= 0.5, torch.ones_like(y_gt), y_gt)\n",
    "        y_gt = torch.where(y_gt < 0.5, torch.zeros_like(y_gt), y_gt)\n",
    "        \n",
    "#         print(torch.max(y_gt), torch.min(y_gt))\n",
    "#         print(torch.max(y_pr), torch.min(y_pr))\n",
    "#         break\n",
    "        \n",
    "\n",
    "        loss = setting.criterion(y_pr, y_gt)\n",
    "        bce_loss += loss.item()\n",
    "        graph_cnt += data.num_graphs\n",
    "    \n",
    "        loss.backward()\n",
    "        optimizer.step()\n",
    "\n",
    "    \n",
    "    top1 = top_n(model, all_loader, k=1)\n",
    "    top5 = top_n(model, all_loader, k=5)\n",
    "    top10 = top_n(model, all_loader, k=10)\n",
    "    l = bce_loss/graph_cnt\n",
    "    \n",
    "    print(\"Epoch = {}, loss = {}, top 1 = {}, top 5 = {}, top 10 = {}\".format(epoch+1, l, \n",
    "                                                                              sum(top1)/len(top1), \n",
    "                                                                              sum(top5)/len(top5), \n",
    "                                                                              sum(top10)/len(top10)))\n",
    "    \n",
    "    train_info[\"bce\"].append(l)\n",
    "    train_info[\"top1\"].append(top1)\n",
    "    train_info[\"top5\"].append(top5)\n",
    "    train_info[\"top10\"].append(top10)\n",
    "    with open(setting.train_info_p, 'w') as f:\n",
    "        json.dump(train_info, f)\n",
    "\n",
    "        \n",
    "    if sum(top10)/len(top10) > top_10:\n",
    "        checkpoint = {\n",
    "            'model_stat': model.state_dict(),\n",
    "            'optimizer_stat': optimizer.state_dict(),\n",
    "        }\n",
    "        torch.save(checkpoint, setting.save_model)\n",
    "        \n",
    "        print(\"save model to {}\".format(setting.save_model))\n",
    "        \n",
    "        top_10 = sum(top10)/len(top10)"
   ]
  },
  {
   "cell_type": "markdown",
   "metadata": {},
   "source": [
    "# Visualize"
   ]
  },
  {
   "cell_type": "code",
   "execution_count": null,
   "metadata": {},
   "outputs": [],
   "source": [
    "with open(setting.train_info_p, 'r') as train_info:\n",
    "    \n",
    "    train = json.load(train_info)\n",
    "\n",
    "    epochs = settings.epochs\n",
    "    keys = list(train.keys())\n",
    "\n",
    "    x = np.linspace(1, epochs, epochs)\n",
    "    \n",
    "    ### plot bce loss and mean top N %\n",
    "    fig, axs = plt.subplots(len(keys), figsize=(20, 1.5 * len(keys)))\n",
    "    for index, ax in enumerate(axs):\n",
    "        key = keys[index]\n",
    "        \n",
    "        if key == \"bce\":\n",
    "            ax.plot(x, train[key], color=\"blue\")\n",
    "        else:\n",
    "            y = [sum(top)/len(top) for top in train[key]]\n",
    "            ax.plot(x, y, color=\"blue\")\n",
    "        \n",
    "        ax.set_title(key)\n",
    "        ax.grid()\n",
    "        \n",
    "    plt.tight_layout()\n",
    "    plt.savefig(settings.result_plt_p)"
   ]
  },
  {
   "cell_type": "code",
   "execution_count": null,
   "metadata": {},
   "outputs": [],
   "source": []
  }
 ],
 "metadata": {
  "accelerator": "GPU",
  "colab": {
   "collapsed_sections": [],
   "name": "code.ipynb",
   "provenance": [],
   "toc_visible": true
  },
  "kernelspec": {
   "display_name": "Python 3",
   "language": "python",
   "name": "python3"
  },
  "language_info": {
   "codemirror_mode": {
    "name": "ipython",
    "version": 3
   },
   "file_extension": ".py",
   "mimetype": "text/x-python",
   "name": "python",
   "nbconvert_exporter": "python",
   "pygments_lexer": "ipython3",
   "version": "3.7.9"
  }
 },
 "nbformat": 4,
 "nbformat_minor": 1
}
