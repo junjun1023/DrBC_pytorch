{
 "cells": [
  {
   "cell_type": "markdown",
   "metadata": {
    "id": "HXDHW_mjXtMp"
   },
   "source": [
    "# Mount drive"
   ]
  },
  {
   "cell_type": "code",
   "execution_count": 1,
   "metadata": {
    "colab": {
     "base_uri": "https://localhost:8080/"
    },
    "executionInfo": {
     "elapsed": 20999,
     "status": "ok",
     "timestamp": 1615282633207,
     "user": {
      "displayName": "Q56094077陳香君",
      "photoUrl": "",
      "userId": "10727804849868825735"
     },
     "user_tz": -480
    },
    "id": "FvCyvU3wXU5i",
    "outputId": "1ebe457a-4d34-474b-ea70-4d9fd6765538"
   },
   "outputs": [
    {
     "name": "stdout",
     "output_type": "stream",
     "text": [
      "Mounted at /content/gdrive\n",
      " aimas2020\n",
      "'Automatic Generation of Topic Labels.gslides'\n",
      "'Colab Notebooks'\n",
      " cvdl2020\n",
      " iir_book.pdf\n",
      " ir_final\n",
      "'Medical AI'\n",
      "'Paper Slides'\n",
      " Q56094077\n",
      " res18_diabete_noaug.pth\n",
      "'Towards Better Text Understanding and Retrieval through Kernel Entity Saliency Modeling.gslides'\n",
      " tsai.ipynb\n",
      " 獎助學金\n",
      " 申請資料\n"
     ]
    }
   ],
   "source": [
    "from google.colab import drive\n",
    "drive.mount('/content/gdrive')\n",
    "\n",
    "!ls /content/gdrive/My\\ Drive"
   ]
  },
  {
   "cell_type": "code",
   "execution_count": null,
   "metadata": {
    "id": "n7xdJXLgX6xs"
   },
   "outputs": [],
   "source": [
    "# !unzip /content/gdrive/MyDrive/Q56094077/snrs/hw1_0319/hw1_data.zip -d /content/gdrive/MyDrive/Q56094077/snrs/hw1_0319"
   ]
  },
  {
   "cell_type": "markdown",
   "metadata": {
    "id": "PNPvyQC_ZsBz"
   },
   "source": [
    "# Import Library"
   ]
  },
  {
   "cell_type": "code",
   "execution_count": 1,
   "metadata": {
    "executionInfo": {
     "elapsed": 5086,
     "status": "ok",
     "timestamp": 1615282641207,
     "user": {
      "displayName": "Q56094077陳香君",
      "photoUrl": "",
      "userId": "10727804849868825735"
     },
     "user_tz": -480
    },
    "id": "R9e-OVDBZbU_"
   },
   "outputs": [],
   "source": [
    "import os\n",
    "\n",
    "import torch\n",
    "import torch.nn as nn\n",
    "\n",
    "import pandas as pd\n",
    "import numpy as np\n",
    "import json\n",
    "\n",
    "from tqdm import tqdm\n",
    "from datetime import datetime"
   ]
  },
  {
   "cell_type": "code",
   "execution_count": 2,
   "metadata": {
    "colab": {
     "base_uri": "https://localhost:8080/",
     "height": 414
    },
    "executionInfo": {
     "elapsed": 776,
     "status": "error",
     "timestamp": 1615283001909,
     "user": {
      "displayName": "Q56094077陳香君",
      "photoUrl": "",
      "userId": "10727804849868825735"
     },
     "user_tz": -480
    },
    "id": "jUN8f3VP4u9D",
    "outputId": "9e4523ef-8226-4980-c086-f15bf7f0a33a"
   },
   "outputs": [],
   "source": [
    "import torch_geometric\n",
    "from torch_geometric.data import Data, DataLoader\n",
    "import torch_geometric.utils as utils"
   ]
  },
  {
   "cell_type": "markdown",
   "metadata": {},
   "source": [
    "# Setting"
   ]
  },
  {
   "cell_type": "code",
   "execution_count": 3,
   "metadata": {},
   "outputs": [],
   "source": [
    "class Setting:\n",
    "    _root = os.getcwd()\n",
    "\n",
    "    _data = os.path.join(_root, \"hw1_data\")\n",
    "\n",
    "    data_synthetic = os.path.join(_data, \"Synthetic\", \"5000\")\n",
    "    data_youtube = os.path.join(_data, \"youtube\")\n",
    "    \n",
    "    \n",
    "     # Create dir for train/test\n",
    "    date_time = datetime.strftime(datetime.now(), \"%Y-%m-%d %H-%M\")\n",
    "    root = os.path.join(_root,  date_time)\n",
    "    if os.path.exists(root):\n",
    "        pass\n",
    "    else:\n",
    "        os.makedirs(root)\n",
    "\n",
    "\n",
    "    ### Save plt info\n",
    "    train_info_p = os.path.join(root, \"train.json\")\n",
    "    val_info_p = os.path.join(root, \"valid.json\")\n",
    "    test_info_p = os.path.join(root, \"test.json\")\n",
    "\n",
    "    ### Save plt img\n",
    "    result_plt_p = os.path.join(root, \"train_plt.png\")\n",
    "    test_plt_p = os.path.join(root, \"test_plt.png\")\n",
    "    sum_box_p = os.path.join(root, \"sum_box.png\")\n",
    "        \n",
    "        \n",
    "    ### Data split\n",
    "    data_split = os.path.join(_root, \"split.json\")\n",
    "    \n",
    "\n",
    "    # Setting of training\n",
    "    device = torch.device(\"cuda:1\" if torch.cuda.is_available() else \"cpu\")\n",
    "\n",
    "    epochs = 10000\n",
    "    batch = 8\n",
    "\n",
    "    c = 3\n",
    "    depth = 5\n",
    "    p = 128 # embedding dimension of hidden state\n",
    "    q = int(p/2)\n",
    "\n",
    "    save_model = os.path.join(root, \"weight.pth\")\n",
    "#     criterion = torch.nn.BCEWithLogitsLoss(reduction=\"sum\")\n",
    "    criterion = nn.BCELoss()\n"
   ]
  },
  {
   "cell_type": "code",
   "execution_count": 4,
   "metadata": {},
   "outputs": [],
   "source": [
    "setting = Setting()"
   ]
  },
  {
   "cell_type": "markdown",
   "metadata": {
    "id": "XOu2CKff-W4B"
   },
   "source": [
    "# Dataset"
   ]
  },
  {
   "cell_type": "markdown",
   "metadata": {
    "id": "RZdiko1lmiJy"
   },
   "source": [
    "## Data"
   ]
  },
  {
   "cell_type": "markdown",
   "metadata": {
    "id": "gU4XwwAu_WkR"
   },
   "source": [
    "- data.x\t节点特征，维度是[num_nodes, num_node_features]。\n",
    "- data.edge_index\t维度是[2, num_edges]，描述图中节点的关联关系，每一列对应的两个元素，分别是边的起点和重点。数据类型是torch.long。需要注意的是，data.edge_index是定义边的节点的张量（tensor），而不是节点的列表（list）。\n",
    "- data.edge_attr\t边的特征矩阵，维度是[num_edges, num_edge_features]\n",
    "- data.y\t训练目标（维度可以是任意的）。对于节点相关的任务，维度为[num_nodes, *]；对于图相关的任务，维度为[1,*]。\n",
    "- data.position\t节点位置矩阵（Node position matrix），维度为[num_nodes, num_dimensions]。"
   ]
  },
  {
   "cell_type": "markdown",
   "metadata": {
    "id": "um9C8SFO_2Tx"
   },
   "source": [
    "- [Learning to Identify High Betweenness Centrality Nodes from\n",
    "Scratch: A Novel Graph Neural Network Approach](https://arxiv.org/pdf/1905.10418.pdf)\n",
    "- node initial feature = [$(d_v), 1, 1]"
   ]
  },
  {
   "cell_type": "markdown",
   "metadata": {},
   "source": [
    "### Load all data"
   ]
  },
  {
   "cell_type": "code",
   "execution_count": 5,
   "metadata": {
    "colab": {
     "base_uri": "https://localhost:8080/"
    },
    "executionInfo": {
     "elapsed": 5918,
     "status": "ok",
     "timestamp": 1615282793119,
     "user": {
      "displayName": "Q56094077陳香君",
      "photoUrl": "",
      "userId": "10727804849868825735"
     },
     "user_tz": -480
    },
    "id": "cxWp5RNpm1uL",
    "outputId": "4cf7bf3b-d143-4b96-eebb-2cd9c1b0f408"
   },
   "outputs": [],
   "source": [
    "synthetic = []\n",
    "between = []\n",
    "for f in os.listdir(setting.data_synthetic):\n",
    "    if \"score\" in f:\n",
    "        # ground truth of betweenness centrality\n",
    "        p = os.path.join(setting.data_synthetic, f)\n",
    "        between.append(p)\n",
    "        pass\n",
    "    else:\n",
    "        p = os.path.join(setting.data_synthetic, f)\n",
    "        synthetic.append(p)\n",
    "\n",
    "between.sort()\n",
    "synthetic.sort()"
   ]
  },
  {
   "cell_type": "markdown",
   "metadata": {},
   "source": [
    "### Split Data"
   ]
  },
  {
   "cell_type": "code",
   "execution_count": 6,
   "metadata": {},
   "outputs": [],
   "source": [
    "from sklearn.model_selection import train_test_split\n",
    "\n",
    "\n",
    "def split_data(path, replace=False):\n",
    "    if os.path.exists(path) and replace:\n",
    "        pass\n",
    "    else:\n",
    "        X_train, X_test, y_train, y_test = train_test_split(synthetic, between, test_size=0.2)\n",
    "        X_train, X_valid, y_train, y_valid = train_test_split(X_train, y_train, test_size=0.15)\n",
    "\n",
    "        split = {\n",
    "            \"X_train\": X_train,\n",
    "            \"X_valid\": X_valid,\n",
    "            \"X_test\": X_test,\n",
    "            \"y_train\": y_train,\n",
    "            \"y_valid\": y_valid,\n",
    "            \"y_test\": y_test\n",
    "        }\n",
    "\n",
    "        with open(path, 'w') as f:\n",
    "            json.dump(split, f)\n",
    "            \n",
    "split_data(path = setting.data_split)"
   ]
  },
  {
   "cell_type": "markdown",
   "metadata": {},
   "source": [
    "### Cvt 2 dataloader"
   ]
  },
  {
   "cell_type": "code",
   "execution_count": 7,
   "metadata": {
    "colab": {
     "base_uri": "https://localhost:8080/",
     "height": 246
    },
    "executionInfo": {
     "elapsed": 893,
     "status": "error",
     "timestamp": 1615282795672,
     "user": {
      "displayName": "Q56094077陳香君",
      "photoUrl": "",
      "userId": "10727804849868825735"
     },
     "user_tz": -480
    },
    "id": "GJrGQmiUxRGX",
    "outputId": "81d8b6cb-5008-47d8-baf4-1156d70e07fc"
   },
   "outputs": [],
   "source": [
    "def to_dataloader(x, y, batch):\n",
    "    \n",
    "    data_list = []\n",
    "    for index, f in enumerate(x):\n",
    "        edge_index = torch_geometric.io.read_txt_array(f, dtype=torch.long)\n",
    "        edge_index = edge_index.t().contiguous()\n",
    "        edge_index = utils.to_undirected(edge_index)\n",
    "\n",
    "        row, col = edge_index  \n",
    "        deg = utils.degree(col) # must use col to get degree, why?\n",
    "        deg = deg.numpy()  \n",
    "\n",
    "        vertice = []\n",
    "        for d in deg:\n",
    "            vertice.append([d, 1, 1])\n",
    "        vertice = np.array(vertice, dtype=np.float)\n",
    "        vertice = torch.from_numpy(vertice)\n",
    "\n",
    "        ### between centrality\n",
    "        bcs = []\n",
    "        bc = torch_geometric.io.read_txt_array(y[index], dtype=torch.double)\n",
    "        bc = bc.t().contiguous()\n",
    "        row, col = bc\n",
    "        bc = col\n",
    "        bc = bc.numpy()\n",
    "        for b in bc:\n",
    "            bcs.append([b])\n",
    "\n",
    "        data = Data(x=vertice, edge_index=edge_index, y=bcs)\n",
    "        data_list.append(data)\n",
    "\n",
    "    loader = DataLoader(data_list, batch_size=batch)\n",
    "    return loader"
   ]
  },
  {
   "cell_type": "markdown",
   "metadata": {},
   "source": [
    "#### Read data"
   ]
  },
  {
   "cell_type": "code",
   "execution_count": 8,
   "metadata": {},
   "outputs": [],
   "source": [
    "f = open(setting.data_split, 'r')\n",
    "data_split = json.load(f)\n",
    "\n",
    "X_train = data_split[\"X_train\"]\n",
    "X_valid = data_split[\"X_valid\"]\n",
    "X_test = data_split[\"X_test\"]\n",
    "y_train = data_split[\"y_train\"]\n",
    "y_valid = data_split[\"y_valid\"]\n",
    "y_test = data_split[\"y_test\"]\n",
    "\n",
    "f.close()"
   ]
  },
  {
   "cell_type": "markdown",
   "metadata": {},
   "source": [
    "#### Cvt"
   ]
  },
  {
   "cell_type": "code",
   "execution_count": 9,
   "metadata": {},
   "outputs": [],
   "source": [
    "train_loader = to_dataloader(X_train, y_train, batch=1)\n",
    "valid_loader = to_dataloader(X_valid, y_valid, batch=1)\n",
    "test_loader = to_dataloader(X_test, y_test, batch=1)"
   ]
  },
  {
   "cell_type": "markdown",
   "metadata": {},
   "source": [
    "#### Use all data"
   ]
  },
  {
   "cell_type": "code",
   "execution_count": 10,
   "metadata": {},
   "outputs": [],
   "source": [
    "all_loader = to_dataloader(synthetic, between, batch=1)"
   ]
  },
  {
   "cell_type": "markdown",
   "metadata": {
    "id": "Jh1T_INgi8Ql"
   },
   "source": [
    "# Model"
   ]
  },
  {
   "cell_type": "code",
   "execution_count": 11,
   "metadata": {
    "id": "gcEf-tUaqDVa"
   },
   "outputs": [],
   "source": [
    "from torch_geometric.nn import MessagePassing\n",
    "import torch.nn.functional as F\n",
    "from torch_geometric.typing import Adj, OptTensor"
   ]
  },
  {
   "cell_type": "code",
   "execution_count": 12,
   "metadata": {
    "colab": {
     "base_uri": "https://localhost:8080/",
     "height": 135
    },
    "executionInfo": {
     "elapsed": 661,
     "status": "error",
     "timestamp": 1615203940879,
     "user": {
      "displayName": "Q56094077陳香君",
      "photoUrl": "",
      "userId": "10727804849868825735"
     },
     "user_tz": -480
    },
    "id": "P5EzKoYr7SGL",
    "outputId": "5504fb67-0455-4af0-a697-930410895a70"
   },
   "outputs": [],
   "source": [
    "class Encoder(MessagePassing):\n",
    "    def __init__(self, c, p, num_layers, device, aggr=\"add\"):\n",
    "        super(Encoder, self).__init__(aggr=aggr)\n",
    "        \n",
    "        self.num_layers = num_layers\n",
    "        self.w_0 = nn.Linear(in_features=c, out_features=p).double()\n",
    "        \n",
    "        self.relu = nn.ReLU(inplace=True)\n",
    "        self.rnn = nn.GRUCell(p, p).double()\n",
    "\n",
    "        self.device = device\n",
    "\n",
    "    def forward(self, data):\n",
    "        \n",
    "        x, edge_index = data.x, data.edge_index\n",
    "        \n",
    "        \n",
    "        # compute dgree\n",
    "        row, col = edge_index\n",
    "        deg = utils.degree(col, x.size(0), dtype=x.dtype)\n",
    "        deg = torch.add(deg, 1)\n",
    "        deg_inv_sqrt = torch.pow(deg, -0.5)\n",
    "        norm = deg_inv_sqrt[row] * deg_inv_sqrt[col]\n",
    "        \n",
    "        \n",
    "        # h_0 = x\n",
    "\n",
    "        # h_1\n",
    "        x = self.w_0(x)\n",
    "        x = self.relu(x)\n",
    "        x = F.normalize(x, p=2, dim=1)\n",
    "        \n",
    "        h_s = [x]\n",
    "        \n",
    "        for i in range(self.num_layers-1):\n",
    "            # internally calls the message(), aggregate() and update() functions\n",
    "            m = self.propagate(edge_index, x=x, norm=norm)\n",
    "            x = self.rnn(m, x)\n",
    "            x = F.normalize(x, p=2, dim=1) \n",
    "           \n",
    "            h_s.append(x)\n",
    "        \n",
    "        h_s = torch.stack(h_s, dim=-1)\n",
    "        # Use torch.max to replace max_pooling\n",
    "        z, _ = torch.max(h_s, dim=-1)\n",
    "        # z = global_max_pool(h_s, torch.tensor([0], dtype=torch.long).to(self.device))\n",
    "        \n",
    "        return z\n",
    "\n",
    "    def message(self, x_j, norm: OptTensor):\n",
    "        return x_j if norm is None else norm.view(-1, 1) * x_j\n",
    "    "
   ]
  },
  {
   "cell_type": "code",
   "execution_count": 13,
   "metadata": {},
   "outputs": [],
   "source": [
    "class Decoder(nn.Module):\n",
    "    def __init__(self, p, q):\n",
    "        \n",
    "        super().__init__()\n",
    "        \n",
    "        self.w_4 = nn.Linear(in_features=p, out_features=q).double()\n",
    "        self.w_5 = nn.Linear(in_features=q, out_features=1).double()\n",
    "        \n",
    "        self.relu = nn.ReLU(inplace=True)\n",
    "        \n",
    "    def forward(self, z):\n",
    "        z = self.w_4(z)\n",
    "        z = self.relu(z)\n",
    "        z = self.w_5(z)\n",
    "        \n",
    "        return z"
   ]
  },
  {
   "cell_type": "code",
   "execution_count": 14,
   "metadata": {},
   "outputs": [],
   "source": [
    "class DrBC(nn.Module):\n",
    "    def __init__(self, encoder_params, decoder_params):\n",
    "        super().__init__()\n",
    "        \n",
    "        self.encoder = Encoder(**encoder_params)\n",
    "        self.decoder = Decoder(**decoder_params)\n",
    "        \n",
    "        \n",
    "    def forward(self, data):\n",
    "        \n",
    "        z = self.encoder(data)\n",
    "        \n",
    "        return self.decoder(z)"
   ]
  },
  {
   "cell_type": "code",
   "execution_count": 15,
   "metadata": {},
   "outputs": [
    {
     "data": {
      "text/plain": [
       "DrBC(\n",
       "  (encoder): Encoder(\n",
       "    (w_0): Linear(in_features=3, out_features=128, bias=True)\n",
       "    (relu): ReLU(inplace=True)\n",
       "    (rnn): GRUCell(128, 128)\n",
       "  )\n",
       "  (decoder): Decoder(\n",
       "    (w_4): Linear(in_features=128, out_features=64, bias=True)\n",
       "    (w_5): Linear(in_features=64, out_features=1, bias=True)\n",
       "    (relu): ReLU(inplace=True)\n",
       "  )\n",
       ")"
      ]
     },
     "execution_count": 15,
     "metadata": {},
     "output_type": "execute_result"
    }
   ],
   "source": [
    "DrBC(\n",
    "    encoder_params = dict(\n",
    "        c = setting.c,\n",
    "        p = setting.p,\n",
    "        num_layers = setting.depth,\n",
    "        device = setting.device\n",
    "    ),\n",
    "    decoder_params = dict(\n",
    "        p = setting.p,\n",
    "        q = setting.q\n",
    "    )\n",
    ")"
   ]
  },
  {
   "cell_type": "markdown",
   "metadata": {
    "id": "Dvoodu8ki_Cu"
   },
   "source": [
    "# Load model"
   ]
  },
  {
   "cell_type": "code",
   "execution_count": 16,
   "metadata": {},
   "outputs": [],
   "source": [
    "def load_checkpoint(filepath, device, **params):\n",
    "\n",
    "    model = DrBC(\n",
    "                encoder_params = dict(\n",
    "                    c = setting.c,\n",
    "                    p = setting.p,\n",
    "                    num_layers = setting.depth,\n",
    "                    device = setting.device\n",
    "                ),\n",
    "                decoder_params = dict(\n",
    "                    p = setting.p,\n",
    "                    q = setting.q\n",
    "                )\n",
    "            ).to(setting.device)\n",
    "    \n",
    "    if os.path.exists(filepath):\n",
    "        print(\"pretrained finded\")\n",
    "        checkpoint = torch.load(filepath)\n",
    "        model.load_state_dict(checkpoint['model_stat'])\n",
    "        optimizer = torch.optim.Adam(model.parameters(), lr=1e-4)\n",
    "        optimizer.load_state_dict(checkpoint['optimizer_stat'])\n",
    "\n",
    "    else:\n",
    "        print(\"use a new optimizer\")\n",
    "        optimizer = torch.optim.Adam(model.parameters(), lr=1e-4)\n",
    "\n",
    "    return model, optimizer"
   ]
  },
  {
   "cell_type": "code",
   "execution_count": 17,
   "metadata": {},
   "outputs": [
    {
     "name": "stdout",
     "output_type": "stream",
     "text": [
      "use a new optimizer\n"
     ]
    }
   ],
   "source": [
    "model, optimizer = load_checkpoint(\n",
    "                    setting.save_model,\n",
    "                    setting.device)"
   ]
  },
  {
   "cell_type": "code",
   "execution_count": 18,
   "metadata": {},
   "outputs": [
    {
     "data": {
      "text/plain": [
       "DrBC(\n",
       "  (encoder): Encoder(\n",
       "    (w_0): Linear(in_features=3, out_features=128, bias=True)\n",
       "    (relu): ReLU(inplace=True)\n",
       "    (rnn): GRUCell(128, 128)\n",
       "  )\n",
       "  (decoder): Decoder(\n",
       "    (w_4): Linear(in_features=128, out_features=64, bias=True)\n",
       "    (w_5): Linear(in_features=64, out_features=1, bias=True)\n",
       "    (relu): ReLU(inplace=True)\n",
       "  )\n",
       ")"
      ]
     },
     "execution_count": 18,
     "metadata": {},
     "output_type": "execute_result"
    }
   ],
   "source": [
    "model"
   ]
  },
  {
   "cell_type": "markdown",
   "metadata": {},
   "source": [
    "# Evaluation"
   ]
  },
  {
   "cell_type": "code",
   "execution_count": 19,
   "metadata": {},
   "outputs": [],
   "source": [
    "def top_n(model, data, k):\n",
    "\n",
    "    with torch.no_grad():\n",
    "        \n",
    "#         cnt = 0\n",
    "        intsec = []\n",
    "        for d in tqdm(data):\n",
    "            \n",
    "            d = d.to(setting.device)\n",
    "            \n",
    "            bc_gt = d.y\n",
    "            bc_gt = np.array(bc_gt)\n",
    "            bc_gt = torch.from_numpy(bc_gt)\n",
    "            bc_gt = torch.reshape(bc_gt, (-1, ))\n",
    "\n",
    "            bc_pr = model(d)\n",
    "\n",
    "            bc_gt = bc_gt.squeeze().to(setting.device)\n",
    "            bc_pr = bc_pr.squeeze()\n",
    "\n",
    "            gt_value, gt_indice = torch.topk(bc_gt, k)\n",
    "            pr_value, pr_indice = torch.topk(bc_pr, k)\n",
    "\n",
    "            gt_indice = set(gt_indice.cpu().numpy())\n",
    "            pr_indice = set(pr_indice.cpu().numpy())\n",
    "\n",
    "            intersect = len(gt_indice & pr_indice)\n",
    "            intsec.append(intersect/(bc_gt.shape[0] * k / 100))\n",
    "#             cnt += d.num_graphs\n",
    "\n",
    "        return intsec"
   ]
  },
  {
   "cell_type": "markdown",
   "metadata": {},
   "source": [
    "# Train"
   ]
  },
  {
   "cell_type": "code",
   "execution_count": 20,
   "metadata": {},
   "outputs": [],
   "source": [
    "train_info = {\n",
    "    \"bce\": [],\n",
    "    \"top1\": [],\n",
    "    \"top5\": [],\n",
    "    \"top10\": []\n",
    "}"
   ]
  },
  {
   "cell_type": "code",
   "execution_count": null,
   "metadata": {
    "scrolled": true
   },
   "outputs": [
    {
     "name": "stderr",
     "output_type": "stream",
     "text": [
      "100%|██████████| 30/30 [00:02<00:00, 14.46it/s]\n",
      "100%|██████████| 30/30 [00:01<00:00, 23.86it/s]\n",
      "100%|██████████| 30/30 [00:01<00:00, 23.52it/s]\n",
      "100%|██████████| 30/30 [00:01<00:00, 23.47it/s]\n",
      " 10%|█         | 3/30 [00:00<00:01, 20.84it/s]"
     ]
    },
    {
     "name": "stdout",
     "output_type": "stream",
     "text": [
      "Epoch = 1, loss = 0.6908091733374963, top 1 = 0.0, top 5 = 0.001733333333333334, top 10 = 0.004866666666666669\n",
      "save model to /home/ai2019/ne6081064/june/mlg/snrs_hw1/2021-03-13 11-52/weight.pth\n"
     ]
    },
    {
     "name": "stderr",
     "output_type": "stream",
     "text": [
      "100%|██████████| 30/30 [00:01<00:00, 17.25it/s]\n",
      "100%|██████████| 30/30 [00:01<00:00, 23.63it/s]\n",
      "100%|██████████| 30/30 [00:01<00:00, 23.41it/s]\n",
      "100%|██████████| 30/30 [00:01<00:00, 23.71it/s]\n",
      " 10%|█         | 3/30 [00:00<00:01, 21.20it/s]"
     ]
    },
    {
     "name": "stdout",
     "output_type": "stream",
     "text": [
      "Epoch = 2, loss = 0.6840661298497747, top 1 = 0.0, top 5 = 0.0008, top 10 = 0.0014666666666666671\n"
     ]
    },
    {
     "name": "stderr",
     "output_type": "stream",
     "text": [
      "100%|██████████| 30/30 [00:01<00:00, 18.72it/s]\n",
      "100%|██████████| 30/30 [00:01<00:00, 23.88it/s]\n",
      "100%|██████████| 30/30 [00:01<00:00, 23.61it/s]\n",
      "100%|██████████| 30/30 [00:01<00:00, 24.19it/s]\n",
      " 10%|█         | 3/30 [00:00<00:01, 20.84it/s]"
     ]
    },
    {
     "name": "stdout",
     "output_type": "stream",
     "text": [
      "Epoch = 3, loss = 0.671253113196912, top 1 = 0.0, top 5 = 0.0, top 10 = 6.666666666666667e-05\n"
     ]
    },
    {
     "name": "stderr",
     "output_type": "stream",
     "text": [
      "100%|██████████| 30/30 [00:01<00:00, 17.37it/s]\n",
      "100%|██████████| 30/30 [00:01<00:00, 24.01it/s]\n",
      "100%|██████████| 30/30 [00:01<00:00, 26.19it/s]\n",
      "100%|██████████| 30/30 [00:01<00:00, 23.93it/s]\n",
      " 10%|█         | 3/30 [00:00<00:01, 20.79it/s]"
     ]
    },
    {
     "name": "stdout",
     "output_type": "stream",
     "text": [
      "Epoch = 4, loss = 0.6512518026992673, top 1 = 0.0, top 5 = 0.0, top 10 = 0.0\n"
     ]
    },
    {
     "name": "stderr",
     "output_type": "stream",
     "text": [
      "100%|██████████| 30/30 [00:01<00:00, 17.42it/s]\n",
      "100%|██████████| 30/30 [00:01<00:00, 23.30it/s]\n",
      "100%|██████████| 30/30 [00:01<00:00, 23.69it/s]\n",
      "100%|██████████| 30/30 [00:01<00:00, 23.94it/s]\n",
      " 10%|█         | 3/30 [00:00<00:01, 20.73it/s]"
     ]
    },
    {
     "name": "stdout",
     "output_type": "stream",
     "text": [
      "Epoch = 5, loss = 0.6293917198893771, top 1 = 0.0, top 5 = 0.0, top 10 = 0.0\n"
     ]
    },
    {
     "name": "stderr",
     "output_type": "stream",
     "text": [
      "100%|██████████| 30/30 [00:01<00:00, 18.55it/s]\n",
      "100%|██████████| 30/30 [00:01<00:00, 23.63it/s]\n",
      "100%|██████████| 30/30 [00:01<00:00, 23.73it/s]\n",
      "100%|██████████| 30/30 [00:01<00:00, 23.87it/s]\n",
      " 10%|█         | 3/30 [00:00<00:01, 20.80it/s]"
     ]
    },
    {
     "name": "stdout",
     "output_type": "stream",
     "text": [
      "Epoch = 6, loss = 0.6079739332232248, top 1 = 0.0, top 5 = 0.0, top 10 = 0.0\n"
     ]
    },
    {
     "name": "stderr",
     "output_type": "stream",
     "text": [
      "100%|██████████| 30/30 [00:01<00:00, 17.58it/s]\n",
      "100%|██████████| 30/30 [00:01<00:00, 23.57it/s]\n",
      "100%|██████████| 30/30 [00:01<00:00, 25.87it/s]\n",
      "100%|██████████| 30/30 [00:01<00:00, 23.82it/s]\n",
      " 10%|█         | 3/30 [00:00<00:01, 20.72it/s]"
     ]
    },
    {
     "name": "stdout",
     "output_type": "stream",
     "text": [
      "Epoch = 7, loss = 0.5882971676452178, top 1 = 0.0, top 5 = 0.0, top 10 = 0.0\n"
     ]
    },
    {
     "name": "stderr",
     "output_type": "stream",
     "text": [
      "100%|██████████| 30/30 [00:01<00:00, 17.38it/s]\n",
      "100%|██████████| 30/30 [00:01<00:00, 23.99it/s]\n",
      "100%|██████████| 30/30 [00:01<00:00, 23.57it/s]\n",
      "100%|██████████| 30/30 [00:01<00:00, 23.45it/s]\n",
      " 10%|█         | 3/30 [00:00<00:01, 20.83it/s]"
     ]
    },
    {
     "name": "stdout",
     "output_type": "stream",
     "text": [
      "Epoch = 8, loss = 0.5705014478377115, top 1 = 0.0, top 5 = 0.0, top 10 = 0.0\n"
     ]
    },
    {
     "name": "stderr",
     "output_type": "stream",
     "text": [
      "100%|██████████| 30/30 [00:01<00:00, 18.70it/s]\n",
      "100%|██████████| 30/30 [00:01<00:00, 23.87it/s]\n",
      "100%|██████████| 30/30 [00:01<00:00, 23.83it/s]\n",
      "100%|██████████| 30/30 [00:01<00:00, 23.96it/s]\n",
      " 10%|█         | 3/30 [00:00<00:01, 21.17it/s]"
     ]
    },
    {
     "name": "stdout",
     "output_type": "stream",
     "text": [
      "Epoch = 9, loss = 0.5548948875916208, top 1 = 0.0, top 5 = 0.0, top 10 = 0.0\n"
     ]
    },
    {
     "name": "stderr",
     "output_type": "stream",
     "text": [
      "100%|██████████| 30/30 [00:01<00:00, 17.65it/s]\n",
      "100%|██████████| 30/30 [00:01<00:00, 23.84it/s]\n",
      "100%|██████████| 30/30 [00:01<00:00, 23.84it/s]\n",
      "100%|██████████| 30/30 [00:01<00:00, 25.95it/s]\n",
      "  0%|          | 0/30 [00:00<?, ?it/s]"
     ]
    },
    {
     "name": "stdout",
     "output_type": "stream",
     "text": [
      "Epoch = 10, loss = 0.5414581853301992, top 1 = 0.0, top 5 = 0.0, top 10 = 0.0\n"
     ]
    },
    {
     "name": "stderr",
     "output_type": "stream",
     "text": [
      "100%|██████████| 30/30 [00:01<00:00, 17.35it/s]\n",
      "100%|██████████| 30/30 [00:01<00:00, 23.81it/s]\n",
      "100%|██████████| 30/30 [00:01<00:00, 23.46it/s]\n",
      "100%|██████████| 30/30 [00:01<00:00, 23.28it/s]\n",
      " 10%|█         | 3/30 [00:00<00:01, 20.60it/s]"
     ]
    },
    {
     "name": "stdout",
     "output_type": "stream",
     "text": [
      "Epoch = 11, loss = 0.5313497551846315, top 1 = 0.0, top 5 = 0.0, top 10 = 0.0\n"
     ]
    },
    {
     "name": "stderr",
     "output_type": "stream",
     "text": [
      "100%|██████████| 30/30 [00:01<00:00, 17.62it/s]\n",
      "100%|██████████| 30/30 [00:01<00:00, 25.36it/s]\n",
      "100%|██████████| 30/30 [00:01<00:00, 23.23it/s]\n",
      "100%|██████████| 30/30 [00:01<00:00, 23.83it/s]\n",
      " 10%|█         | 3/30 [00:00<00:01, 20.63it/s]"
     ]
    },
    {
     "name": "stdout",
     "output_type": "stream",
     "text": [
      "Epoch = 12, loss = 0.524892627766344, top 1 = 0.0, top 5 = 0.0, top 10 = 0.0\n"
     ]
    },
    {
     "name": "stderr",
     "output_type": "stream",
     "text": [
      "100%|██████████| 30/30 [00:01<00:00, 17.49it/s]\n",
      "100%|██████████| 30/30 [00:01<00:00, 23.87it/s]\n",
      "100%|██████████| 30/30 [00:01<00:00, 24.06it/s]\n",
      "100%|██████████| 30/30 [00:01<00:00, 25.95it/s]\n",
      "  7%|▋         | 2/30 [00:00<00:02, 10.73it/s]"
     ]
    },
    {
     "name": "stdout",
     "output_type": "stream",
     "text": [
      "Epoch = 13, loss = 0.5201629907538436, top 1 = 0.0, top 5 = 0.0, top 10 = 0.0\n"
     ]
    },
    {
     "name": "stderr",
     "output_type": "stream",
     "text": [
      "100%|██████████| 30/30 [00:01<00:00, 17.38it/s]\n",
      "100%|██████████| 30/30 [00:01<00:00, 23.43it/s]\n",
      "100%|██████████| 30/30 [00:01<00:00, 23.53it/s]\n",
      "100%|██████████| 30/30 [00:01<00:00, 23.64it/s]\n",
      " 10%|█         | 3/30 [00:00<00:01, 20.68it/s]"
     ]
    },
    {
     "name": "stdout",
     "output_type": "stream",
     "text": [
      "Epoch = 14, loss = 0.5137223184879993, top 1 = 0.0, top 5 = 0.0, top 10 = 0.0\n"
     ]
    },
    {
     "name": "stderr",
     "output_type": "stream",
     "text": [
      "100%|██████████| 30/30 [00:01<00:00, 17.52it/s]\n",
      "100%|██████████| 30/30 [00:01<00:00, 25.06it/s]\n",
      "100%|██████████| 30/30 [00:01<00:00, 22.90it/s]\n",
      "100%|██████████| 30/30 [00:01<00:00, 23.29it/s]\n",
      " 10%|█         | 3/30 [00:00<00:01, 20.92it/s]"
     ]
    },
    {
     "name": "stdout",
     "output_type": "stream",
     "text": [
      "Epoch = 15, loss = 0.5089957417976833, top 1 = 0.0, top 5 = 0.0, top 10 = 6.666666666666667e-05\n"
     ]
    },
    {
     "name": "stderr",
     "output_type": "stream",
     "text": [
      "100%|██████████| 30/30 [00:01<00:00, 17.48it/s]\n",
      "100%|██████████| 30/30 [00:01<00:00, 23.22it/s]\n",
      "100%|██████████| 30/30 [00:01<00:00, 23.28it/s]\n",
      "100%|██████████| 30/30 [00:01<00:00, 25.30it/s]\n",
      "  3%|▎         | 1/30 [00:00<00:04,  6.52it/s]"
     ]
    },
    {
     "name": "stdout",
     "output_type": "stream",
     "text": [
      "Epoch = 16, loss = 0.5056373293245009, top 1 = 0.0, top 5 = 0.0, top 10 = 6.666666666666667e-05\n"
     ]
    },
    {
     "name": "stderr",
     "output_type": "stream",
     "text": [
      "100%|██████████| 30/30 [00:01<00:00, 17.21it/s]\n",
      "100%|██████████| 30/30 [00:01<00:00, 23.85it/s]\n",
      "100%|██████████| 30/30 [00:01<00:00, 24.03it/s]\n",
      "100%|██████████| 30/30 [00:01<00:00, 24.03it/s]\n",
      " 10%|█         | 3/30 [00:00<00:01, 20.98it/s]"
     ]
    },
    {
     "name": "stdout",
     "output_type": "stream",
     "text": [
      "Epoch = 17, loss = 0.5039043982212056, top 1 = 0.0, top 5 = 0.0, top 10 = 6.666666666666667e-05\n"
     ]
    },
    {
     "name": "stderr",
     "output_type": "stream",
     "text": [
      "100%|██████████| 30/30 [00:01<00:00, 17.56it/s]\n",
      "100%|██████████| 30/30 [00:01<00:00, 23.05it/s]\n",
      "100%|██████████| 30/30 [00:01<00:00, 25.26it/s]\n",
      "100%|██████████| 30/30 [00:01<00:00, 23.97it/s]\n",
      " 10%|█         | 3/30 [00:00<00:01, 20.95it/s]"
     ]
    },
    {
     "name": "stdout",
     "output_type": "stream",
     "text": [
      "Epoch = 18, loss = 0.5015607159024804, top 1 = 0.0, top 5 = 0.0, top 10 = 6.666666666666667e-05\n"
     ]
    },
    {
     "name": "stderr",
     "output_type": "stream",
     "text": [
      "100%|██████████| 30/30 [00:01<00:00, 17.46it/s]\n",
      "100%|██████████| 30/30 [00:01<00:00, 23.92it/s]\n",
      "100%|██████████| 30/30 [00:01<00:00, 23.99it/s]\n",
      "100%|██████████| 30/30 [00:01<00:00, 24.01it/s]\n",
      "  7%|▋         | 2/30 [00:00<00:01, 19.72it/s]"
     ]
    },
    {
     "name": "stdout",
     "output_type": "stream",
     "text": [
      "Epoch = 19, loss = 0.501658328217452, top 1 = 0.0, top 5 = 0.00013333333333333334, top 10 = 6.666666666666667e-05\n"
     ]
    },
    {
     "name": "stderr",
     "output_type": "stream",
     "text": [
      "100%|██████████| 30/30 [00:01<00:00, 18.39it/s]\n",
      "100%|██████████| 30/30 [00:01<00:00, 23.37it/s]\n",
      "100%|██████████| 30/30 [00:01<00:00, 23.65it/s]\n",
      "100%|██████████| 30/30 [00:01<00:00, 24.00it/s]\n",
      " 10%|█         | 3/30 [00:00<00:01, 21.33it/s]"
     ]
    },
    {
     "name": "stdout",
     "output_type": "stream",
     "text": [
      "Epoch = 20, loss = 0.509012323059951, top 1 = 0.0, top 5 = 0.0, top 10 = 0.00013333333333333334\n"
     ]
    },
    {
     "name": "stderr",
     "output_type": "stream",
     "text": [
      "100%|██████████| 30/30 [00:01<00:00, 17.63it/s]\n",
      "100%|██████████| 30/30 [00:01<00:00, 23.70it/s]\n",
      "100%|██████████| 30/30 [00:01<00:00, 25.94it/s]\n",
      "100%|██████████| 30/30 [00:01<00:00, 23.76it/s]\n",
      " 10%|█         | 3/30 [00:00<00:01, 20.65it/s]"
     ]
    },
    {
     "name": "stdout",
     "output_type": "stream",
     "text": [
      "Epoch = 21, loss = 0.5087457006789313, top 1 = 0.0, top 5 = 0.00013333333333333334, top 10 = 0.0002666666666666667\n"
     ]
    },
    {
     "name": "stderr",
     "output_type": "stream",
     "text": [
      "100%|██████████| 30/30 [00:01<00:00, 17.61it/s]\n",
      "100%|██████████| 30/30 [00:01<00:00, 23.02it/s]\n",
      "100%|██████████| 30/30 [00:01<00:00, 23.50it/s]\n",
      "100%|██████████| 30/30 [00:01<00:00, 23.88it/s]\n",
      " 10%|█         | 3/30 [00:00<00:01, 20.47it/s]"
     ]
    },
    {
     "name": "stdout",
     "output_type": "stream",
     "text": [
      "Epoch = 22, loss = 0.5044705230068538, top 1 = 0.0, top 5 = 0.00013333333333333334, top 10 = 0.0002666666666666667\n"
     ]
    },
    {
     "name": "stderr",
     "output_type": "stream",
     "text": [
      "100%|██████████| 30/30 [00:01<00:00, 18.46it/s]\n",
      "100%|██████████| 30/30 [00:01<00:00, 23.76it/s]\n",
      "100%|██████████| 30/30 [00:01<00:00, 24.21it/s]\n",
      "100%|██████████| 30/30 [00:01<00:00, 23.91it/s]\n",
      " 10%|█         | 3/30 [00:00<00:01, 20.54it/s]"
     ]
    },
    {
     "name": "stdout",
     "output_type": "stream",
     "text": [
      "Epoch = 23, loss = 0.5099712195498035, top 1 = 0.0, top 5 = 0.0002666666666666667, top 10 = 0.0005333333333333334\n"
     ]
    },
    {
     "name": "stderr",
     "output_type": "stream",
     "text": [
      "100%|██████████| 30/30 [00:01<00:00, 17.64it/s]\n",
      "100%|██████████| 30/30 [00:01<00:00, 23.77it/s]\n",
      "100%|██████████| 30/30 [00:01<00:00, 25.74it/s]\n",
      "100%|██████████| 30/30 [00:01<00:00, 23.31it/s]\n",
      " 10%|█         | 3/30 [00:00<00:01, 20.89it/s]"
     ]
    },
    {
     "name": "stdout",
     "output_type": "stream",
     "text": [
      "Epoch = 24, loss = 0.4999873322491407, top 1 = 0.0, top 5 = 0.00013333333333333334, top 10 = 0.00046666666666666666\n"
     ]
    },
    {
     "name": "stderr",
     "output_type": "stream",
     "text": [
      "100%|██████████| 30/30 [00:01<00:00, 17.54it/s]\n",
      "100%|██████████| 30/30 [00:01<00:00, 23.70it/s]\n",
      "100%|██████████| 30/30 [00:01<00:00, 23.41it/s]\n",
      "100%|██████████| 30/30 [00:01<00:00, 23.26it/s]\n",
      " 10%|█         | 3/30 [00:00<00:01, 20.69it/s]"
     ]
    },
    {
     "name": "stdout",
     "output_type": "stream",
     "text": [
      "Epoch = 25, loss = 0.505524840014149, top 1 = 0.0, top 5 = 0.0006666666666666666, top 10 = 0.0008000000000000003\n"
     ]
    },
    {
     "name": "stderr",
     "output_type": "stream",
     "text": [
      "100%|██████████| 30/30 [00:01<00:00, 18.43it/s]\n",
      "100%|██████████| 30/30 [00:01<00:00, 23.63it/s]\n",
      "100%|██████████| 30/30 [00:01<00:00, 23.10it/s]\n",
      "100%|██████████| 30/30 [00:01<00:00, 23.29it/s]\n",
      " 10%|█         | 3/30 [00:00<00:01, 20.85it/s]"
     ]
    },
    {
     "name": "stdout",
     "output_type": "stream",
     "text": [
      "Epoch = 26, loss = 0.4911353643586451, top 1 = 0.0, top 5 = 0.00013333333333333334, top 10 = 0.00013333333333333334\n"
     ]
    },
    {
     "name": "stderr",
     "output_type": "stream",
     "text": [
      "100%|██████████| 30/30 [00:01<00:00, 17.53it/s]\n",
      "100%|██████████| 30/30 [00:01<00:00, 23.12it/s]\n",
      "100%|██████████| 30/30 [00:01<00:00, 23.71it/s]\n",
      "100%|██████████| 30/30 [00:01<00:00, 25.37it/s]\n",
      "  7%|▋         | 2/30 [00:00<00:02, 10.52it/s]"
     ]
    },
    {
     "name": "stdout",
     "output_type": "stream",
     "text": [
      "Epoch = 27, loss = 0.5086064385052061, top 1 = 0.0, top 5 = 0.0002666666666666667, top 10 = 0.0005333333333333334\n"
     ]
    },
    {
     "name": "stderr",
     "output_type": "stream",
     "text": [
      "100%|██████████| 30/30 [00:01<00:00, 17.52it/s]\n",
      "100%|██████████| 30/30 [00:01<00:00, 23.47it/s]\n",
      "100%|██████████| 30/30 [00:01<00:00, 23.94it/s]\n",
      "100%|██████████| 30/30 [00:01<00:00, 23.81it/s]\n",
      " 10%|█         | 3/30 [00:00<00:01, 21.09it/s]"
     ]
    },
    {
     "name": "stdout",
     "output_type": "stream",
     "text": [
      "Epoch = 28, loss = 0.4917444306901259, top 1 = 0.0, top 5 = 0.00013333333333333334, top 10 = 0.0002\n"
     ]
    },
    {
     "name": "stderr",
     "output_type": "stream",
     "text": [
      "100%|██████████| 30/30 [00:01<00:00, 17.46it/s]\n",
      "100%|██████████| 30/30 [00:01<00:00, 25.19it/s]\n",
      "100%|██████████| 30/30 [00:01<00:00, 23.46it/s]\n",
      "100%|██████████| 30/30 [00:01<00:00, 23.35it/s]\n",
      " 10%|█         | 3/30 [00:00<00:01, 20.59it/s]"
     ]
    },
    {
     "name": "stdout",
     "output_type": "stream",
     "text": [
      "Epoch = 29, loss = 0.5067788512313084, top 1 = 0.0, top 5 = 0.0004, top 10 = 0.0008\n"
     ]
    },
    {
     "name": "stderr",
     "output_type": "stream",
     "text": [
      "100%|██████████| 30/30 [00:01<00:00, 17.64it/s]\n",
      "100%|██████████| 30/30 [00:01<00:00, 23.28it/s]\n",
      "100%|██████████| 30/30 [00:01<00:00, 23.83it/s]\n",
      "100%|██████████| 30/30 [00:01<00:00, 26.06it/s]\n",
      "  3%|▎         | 1/30 [00:00<00:04,  7.09it/s]"
     ]
    },
    {
     "name": "stdout",
     "output_type": "stream",
     "text": [
      "Epoch = 30, loss = 0.49133720364758954, top 1 = 0.0, top 5 = 0.00013333333333333334, top 10 = 0.0003333333333333333\n"
     ]
    },
    {
     "name": "stderr",
     "output_type": "stream",
     "text": [
      "100%|██████████| 30/30 [00:01<00:00, 17.47it/s]\n",
      "100%|██████████| 30/30 [00:01<00:00, 23.87it/s]\n",
      "100%|██████████| 30/30 [00:01<00:00, 23.94it/s]\n",
      "100%|██████████| 30/30 [00:01<00:00, 23.81it/s]\n",
      " 10%|█         | 3/30 [00:00<00:01, 20.86it/s]"
     ]
    },
    {
     "name": "stdout",
     "output_type": "stream",
     "text": [
      "Epoch = 31, loss = 0.5052508689295102, top 1 = 0.0, top 5 = 0.0006666666666666666, top 10 = 0.0011333333333333334\n"
     ]
    },
    {
     "name": "stderr",
     "output_type": "stream",
     "text": [
      "100%|██████████| 30/30 [00:01<00:00, 17.54it/s]\n",
      "100%|██████████| 30/30 [00:01<00:00, 23.80it/s]\n",
      "100%|██████████| 30/30 [00:01<00:00, 25.94it/s]\n",
      "100%|██████████| 30/30 [00:01<00:00, 24.01it/s]\n",
      " 10%|█         | 3/30 [00:00<00:01, 20.80it/s]"
     ]
    },
    {
     "name": "stdout",
     "output_type": "stream",
     "text": [
      "Epoch = 32, loss = 0.4905252858917295, top 1 = 0.0, top 5 = 0.0004, top 10 = 0.00046666666666666666\n"
     ]
    },
    {
     "name": "stderr",
     "output_type": "stream",
     "text": [
      "100%|██████████| 30/30 [00:01<00:00, 17.64it/s]\n",
      "100%|██████████| 30/30 [00:01<00:00, 23.49it/s]\n",
      "100%|██████████| 30/30 [00:01<00:00, 24.00it/s]\n",
      "100%|██████████| 30/30 [00:01<00:00, 24.06it/s]\n",
      " 10%|█         | 3/30 [00:00<00:01, 21.15it/s]"
     ]
    },
    {
     "name": "stdout",
     "output_type": "stream",
     "text": [
      "Epoch = 33, loss = 0.5032041842608341, top 1 = 0.0, top 5 = 0.0009333333333333333, top 10 = 0.0015333333333333336\n"
     ]
    },
    {
     "name": "stderr",
     "output_type": "stream",
     "text": [
      "100%|██████████| 30/30 [00:01<00:00, 18.62it/s]\n",
      "100%|██████████| 30/30 [00:01<00:00, 23.49it/s]\n",
      "100%|██████████| 30/30 [00:01<00:00, 23.52it/s]\n",
      "100%|██████████| 30/30 [00:01<00:00, 23.05it/s]\n",
      " 10%|█         | 3/30 [00:00<00:01, 20.76it/s]"
     ]
    },
    {
     "name": "stdout",
     "output_type": "stream",
     "text": [
      "Epoch = 34, loss = 0.49062628696133664, top 1 = 0.0, top 5 = 0.0004, top 10 = 0.0008\n"
     ]
    },
    {
     "name": "stderr",
     "output_type": "stream",
     "text": [
      "100%|██████████| 30/30 [00:01<00:00, 17.63it/s]\n",
      "100%|██████████| 30/30 [00:01<00:00, 23.51it/s]\n",
      "100%|██████████| 30/30 [00:01<00:00, 25.48it/s]\n",
      "100%|██████████| 30/30 [00:01<00:00, 23.51it/s]\n",
      " 10%|█         | 3/30 [00:00<00:01, 21.35it/s]"
     ]
    },
    {
     "name": "stdout",
     "output_type": "stream",
     "text": [
      "Epoch = 35, loss = 0.4967909100911679, top 1 = 0.0, top 5 = 0.0009333333333333333, top 10 = 0.0014666666666666671\n"
     ]
    },
    {
     "name": "stderr",
     "output_type": "stream",
     "text": [
      "100%|██████████| 30/30 [00:01<00:00, 17.60it/s]\n",
      "100%|██████████| 30/30 [00:01<00:00, 22.93it/s]\n",
      "100%|██████████| 30/30 [00:01<00:00, 24.00it/s]\n",
      "100%|██████████| 30/30 [00:01<00:00, 23.74it/s]\n",
      " 10%|█         | 3/30 [00:00<00:01, 21.28it/s]"
     ]
    },
    {
     "name": "stdout",
     "output_type": "stream",
     "text": [
      "Epoch = 36, loss = 0.49022876440141083, top 1 = 0.0, top 5 = 0.0008, top 10 = 0.000866666666666667\n"
     ]
    },
    {
     "name": "stderr",
     "output_type": "stream",
     "text": [
      "100%|██████████| 30/30 [00:01<00:00, 18.67it/s]\n",
      "100%|██████████| 30/30 [00:01<00:00, 23.37it/s]\n",
      "100%|██████████| 30/30 [00:01<00:00, 23.71it/s]\n",
      "100%|██████████| 30/30 [00:01<00:00, 23.27it/s]\n",
      " 10%|█         | 3/30 [00:00<00:01, 20.85it/s]"
     ]
    },
    {
     "name": "stdout",
     "output_type": "stream",
     "text": [
      "Epoch = 37, loss = 0.4962045874091962, top 1 = 0.0, top 5 = 0.0009333333333333333, top 10 = 0.0014000000000000004\n"
     ]
    },
    {
     "name": "stderr",
     "output_type": "stream",
     "text": [
      "100%|██████████| 30/30 [00:01<00:00, 17.57it/s]\n",
      "100%|██████████| 30/30 [00:01<00:00, 23.84it/s]\n",
      "100%|██████████| 30/30 [00:01<00:00, 25.44it/s]\n",
      "100%|██████████| 30/30 [00:01<00:00, 23.34it/s]\n",
      " 10%|█         | 3/30 [00:00<00:01, 20.94it/s]"
     ]
    },
    {
     "name": "stdout",
     "output_type": "stream",
     "text": [
      "Epoch = 38, loss = 0.4901341774497366, top 1 = 0.0, top 5 = 0.0008, top 10 = 0.000866666666666667\n"
     ]
    },
    {
     "name": "stderr",
     "output_type": "stream",
     "text": [
      "100%|██████████| 30/30 [00:01<00:00, 17.52it/s]\n",
      "100%|██████████| 30/30 [00:01<00:00, 23.69it/s]\n",
      "100%|██████████| 30/30 [00:01<00:00, 23.81it/s]\n",
      "100%|██████████| 30/30 [00:01<00:00, 23.95it/s]\n",
      " 10%|█         | 3/30 [00:00<00:01, 20.86it/s]"
     ]
    },
    {
     "name": "stdout",
     "output_type": "stream",
     "text": [
      "Epoch = 39, loss = 0.4939489862545737, top 1 = 0.0, top 5 = 0.0008, top 10 = 0.0016000000000000003\n"
     ]
    },
    {
     "name": "stderr",
     "output_type": "stream",
     "text": [
      "100%|██████████| 30/30 [00:01<00:00, 18.67it/s]\n",
      "100%|██████████| 30/30 [00:01<00:00, 23.80it/s]\n",
      "100%|██████████| 30/30 [00:01<00:00, 23.94it/s]\n",
      "100%|██████████| 30/30 [00:01<00:00, 23.54it/s]\n",
      " 10%|█         | 3/30 [00:00<00:01, 20.53it/s]"
     ]
    },
    {
     "name": "stdout",
     "output_type": "stream",
     "text": [
      "Epoch = 40, loss = 0.48877037164221504, top 1 = 0.0, top 5 = 0.0009333333333333333, top 10 = 0.0011333333333333334\n"
     ]
    },
    {
     "name": "stderr",
     "output_type": "stream",
     "text": [
      "100%|██████████| 30/30 [00:01<00:00, 17.59it/s]\n",
      "100%|██████████| 30/30 [00:01<00:00, 23.68it/s]\n",
      "100%|██████████| 30/30 [00:01<00:00, 24.04it/s]\n",
      "100%|██████████| 30/30 [00:01<00:00, 25.70it/s]\n",
      "  0%|          | 0/30 [00:00<?, ?it/s]"
     ]
    },
    {
     "name": "stdout",
     "output_type": "stream",
     "text": [
      "Epoch = 41, loss = 0.4930964641659897, top 1 = 0.0, top 5 = 0.0009333333333333333, top 10 = 0.001733333333333334\n"
     ]
    },
    {
     "name": "stderr",
     "output_type": "stream",
     "text": [
      "100%|██████████| 30/30 [00:01<00:00, 17.52it/s]\n",
      "100%|██████████| 30/30 [00:01<00:00, 23.77it/s]\n",
      "100%|██████████| 30/30 [00:01<00:00, 24.25it/s]\n",
      "100%|██████████| 30/30 [00:01<00:00, 23.82it/s]\n",
      " 10%|█         | 3/30 [00:00<00:01, 20.83it/s]"
     ]
    },
    {
     "name": "stdout",
     "output_type": "stream",
     "text": [
      "Epoch = 42, loss = 0.48860298938280305, top 1 = 0.0, top 5 = 0.0009333333333333333, top 10 = 0.0012666666666666668\n"
     ]
    },
    {
     "name": "stderr",
     "output_type": "stream",
     "text": [
      "100%|██████████| 30/30 [00:01<00:00, 17.57it/s]\n",
      "100%|██████████| 30/30 [00:01<00:00, 26.06it/s]\n",
      "100%|██████████| 30/30 [00:01<00:00, 23.85it/s]\n",
      "100%|██████████| 30/30 [00:01<00:00, 23.32it/s]\n",
      " 10%|█         | 3/30 [00:00<00:01, 20.77it/s]"
     ]
    },
    {
     "name": "stdout",
     "output_type": "stream",
     "text": [
      "Epoch = 43, loss = 0.49126845460053, top 1 = 0.0, top 5 = 0.0009333333333333333, top 10 = 0.0019333333333333342\n"
     ]
    },
    {
     "name": "stderr",
     "output_type": "stream",
     "text": [
      "100%|██████████| 30/30 [00:01<00:00, 17.64it/s]\n",
      "100%|██████████| 30/30 [00:01<00:00, 23.88it/s]\n",
      "100%|██████████| 30/30 [00:01<00:00, 24.09it/s]\n",
      "100%|██████████| 30/30 [00:01<00:00, 26.10it/s]\n",
      "  7%|▋         | 2/30 [00:00<00:02, 10.95it/s]"
     ]
    },
    {
     "name": "stdout",
     "output_type": "stream",
     "text": [
      "Epoch = 44, loss = 0.48741326439844024, top 1 = 0.0, top 5 = 0.0009333333333333333, top 10 = 0.0012000000000000001\n"
     ]
    },
    {
     "name": "stderr",
     "output_type": "stream",
     "text": [
      "100%|██████████| 30/30 [00:01<00:00, 17.57it/s]\n",
      "100%|██████████| 30/30 [00:01<00:00, 23.60it/s]\n",
      "100%|██████████| 30/30 [00:01<00:00, 23.65it/s]\n",
      "100%|██████████| 30/30 [00:01<00:00, 23.29it/s]\n",
      " 10%|█         | 3/30 [00:00<00:01, 20.67it/s]"
     ]
    },
    {
     "name": "stdout",
     "output_type": "stream",
     "text": [
      "Epoch = 45, loss = 0.4920017872149698, top 1 = 0.0, top 5 = 0.0010666666666666667, top 10 = 0.001866666666666668\n"
     ]
    },
    {
     "name": "stderr",
     "output_type": "stream",
     "text": [
      "100%|██████████| 30/30 [00:01<00:00, 17.60it/s]\n",
      "100%|██████████| 30/30 [00:01<00:00, 25.88it/s]\n",
      "100%|██████████| 30/30 [00:01<00:00, 23.88it/s]\n",
      "100%|██████████| 30/30 [00:01<00:00, 23.85it/s]\n",
      " 10%|█         | 3/30 [00:00<00:01, 21.27it/s]"
     ]
    },
    {
     "name": "stdout",
     "output_type": "stream",
     "text": [
      "Epoch = 46, loss = 0.4884054576767358, top 1 = 0.0, top 5 = 0.0009333333333333333, top 10 = 0.0012666666666666668\n"
     ]
    },
    {
     "name": "stderr",
     "output_type": "stream",
     "text": [
      "100%|██████████| 30/30 [00:01<00:00, 17.55it/s]\n",
      "100%|██████████| 30/30 [00:01<00:00, 24.02it/s]\n",
      "100%|██████████| 30/30 [00:01<00:00, 23.95it/s]\n",
      "100%|██████████| 30/30 [00:01<00:00, 26.24it/s]\n",
      "  3%|▎         | 1/30 [00:00<00:03,  7.33it/s]"
     ]
    },
    {
     "name": "stdout",
     "output_type": "stream",
     "text": [
      "Epoch = 47, loss = 0.49182420186676085, top 1 = 0.0, top 5 = 0.0009333333333333333, top 10 = 0.001866666666666668\n"
     ]
    },
    {
     "name": "stderr",
     "output_type": "stream",
     "text": [
      "100%|██████████| 30/30 [00:01<00:00, 17.50it/s]\n",
      "100%|██████████| 30/30 [00:01<00:00, 23.63it/s]\n",
      "100%|██████████| 30/30 [00:01<00:00, 24.03it/s]\n",
      "100%|██████████| 30/30 [00:01<00:00, 23.81it/s]\n",
      " 10%|█         | 3/30 [00:00<00:01, 21.06it/s]"
     ]
    },
    {
     "name": "stdout",
     "output_type": "stream",
     "text": [
      "Epoch = 48, loss = 0.48820847900314074, top 1 = 0.0, top 5 = 0.0009333333333333333, top 10 = 0.0014666666666666671\n"
     ]
    },
    {
     "name": "stderr",
     "output_type": "stream",
     "text": [
      "100%|██████████| 30/30 [00:01<00:00, 17.58it/s]\n",
      "100%|██████████| 30/30 [00:01<00:00, 23.48it/s]\n",
      "100%|██████████| 30/30 [00:01<00:00, 25.94it/s]\n",
      "100%|██████████| 30/30 [00:01<00:00, 23.64it/s]\n",
      " 10%|█         | 3/30 [00:00<00:01, 20.88it/s]"
     ]
    },
    {
     "name": "stdout",
     "output_type": "stream",
     "text": [
      "Epoch = 49, loss = 0.48945420771134607, top 1 = 0.0, top 5 = 0.0010666666666666667, top 10 = 0.0020000000000000013\n"
     ]
    },
    {
     "name": "stderr",
     "output_type": "stream",
     "text": [
      "100%|██████████| 30/30 [00:01<00:00, 17.54it/s]\n",
      "100%|██████████| 30/30 [00:01<00:00, 23.65it/s]\n",
      "100%|██████████| 30/30 [00:01<00:00, 24.02it/s]\n",
      "100%|██████████| 30/30 [00:01<00:00, 24.00it/s]\n",
      " 10%|█         | 3/30 [00:00<00:01, 20.58it/s]"
     ]
    },
    {
     "name": "stdout",
     "output_type": "stream",
     "text": [
      "Epoch = 50, loss = 0.48743846596699886, top 1 = 0.0, top 5 = 0.0010666666666666667, top 10 = 0.001733333333333334\n"
     ]
    },
    {
     "name": "stderr",
     "output_type": "stream",
     "text": [
      "100%|██████████| 30/30 [00:01<00:00, 18.47it/s]\n",
      "100%|██████████| 30/30 [00:01<00:00, 23.62it/s]\n",
      "100%|██████████| 30/30 [00:01<00:00, 23.93it/s]\n",
      "100%|██████████| 30/30 [00:01<00:00, 23.94it/s]\n",
      " 10%|█         | 3/30 [00:00<00:01, 20.68it/s]"
     ]
    },
    {
     "name": "stdout",
     "output_type": "stream",
     "text": [
      "Epoch = 51, loss = 0.48885917271924334, top 1 = 0.0, top 5 = 0.0009333333333333333, top 10 = 0.001733333333333334\n"
     ]
    },
    {
     "name": "stderr",
     "output_type": "stream",
     "text": [
      "100%|██████████| 30/30 [00:01<00:00, 17.52it/s]\n",
      "100%|██████████| 30/30 [00:01<00:00, 23.70it/s]\n",
      "100%|██████████| 30/30 [00:01<00:00, 26.06it/s]\n",
      "100%|██████████| 30/30 [00:01<00:00, 23.79it/s]\n",
      " 10%|█         | 3/30 [00:00<00:01, 20.88it/s]"
     ]
    },
    {
     "name": "stdout",
     "output_type": "stream",
     "text": [
      "Epoch = 52, loss = 0.48654733125879884, top 1 = 0.0, top 5 = 0.0009333333333333333, top 10 = 0.001733333333333334\n"
     ]
    },
    {
     "name": "stderr",
     "output_type": "stream",
     "text": [
      "100%|██████████| 30/30 [00:01<00:00, 17.51it/s]\n",
      "100%|██████████| 30/30 [00:01<00:00, 23.92it/s]\n",
      "100%|██████████| 30/30 [00:01<00:00, 24.15it/s]\n",
      "100%|██████████| 30/30 [00:01<00:00, 23.91it/s]\n",
      " 10%|█         | 3/30 [00:00<00:01, 20.62it/s]"
     ]
    },
    {
     "name": "stdout",
     "output_type": "stream",
     "text": [
      "Epoch = 53, loss = 0.48867543732687285, top 1 = 0.0, top 5 = 0.0009333333333333333, top 10 = 0.002266666666666667\n"
     ]
    },
    {
     "name": "stderr",
     "output_type": "stream",
     "text": [
      "100%|██████████| 30/30 [00:01<00:00, 18.48it/s]\n",
      "100%|██████████| 30/30 [00:01<00:00, 23.42it/s]\n",
      "100%|██████████| 30/30 [00:01<00:00, 23.97it/s]\n",
      "100%|██████████| 30/30 [00:01<00:00, 23.88it/s]\n",
      " 10%|█         | 3/30 [00:00<00:01, 21.35it/s]"
     ]
    },
    {
     "name": "stdout",
     "output_type": "stream",
     "text": [
      "Epoch = 54, loss = 0.48669922383060765, top 1 = 0.0, top 5 = 0.0010666666666666667, top 10 = 0.001733333333333334\n"
     ]
    },
    {
     "name": "stderr",
     "output_type": "stream",
     "text": [
      "100%|██████████| 30/30 [00:01<00:00, 17.62it/s]\n",
      "100%|██████████| 30/30 [00:01<00:00, 23.79it/s]\n",
      "100%|██████████| 30/30 [00:01<00:00, 26.12it/s]\n",
      "100%|██████████| 30/30 [00:01<00:00, 23.64it/s]\n",
      " 10%|█         | 3/30 [00:00<00:01, 20.59it/s]"
     ]
    },
    {
     "name": "stdout",
     "output_type": "stream",
     "text": [
      "Epoch = 55, loss = 0.4894337036513131, top 1 = 0.0, top 5 = 0.0009333333333333333, top 10 = 0.0026000000000000003\n"
     ]
    },
    {
     "name": "stderr",
     "output_type": "stream",
     "text": [
      "100%|██████████| 30/30 [00:01<00:00, 17.49it/s]\n",
      "100%|██████████| 30/30 [00:01<00:00, 24.00it/s]\n",
      "100%|██████████| 30/30 [00:01<00:00, 23.98it/s]\n",
      "100%|██████████| 30/30 [00:01<00:00, 23.95it/s]\n",
      " 10%|█         | 3/30 [00:00<00:01, 20.89it/s]"
     ]
    },
    {
     "name": "stdout",
     "output_type": "stream",
     "text": [
      "Epoch = 56, loss = 0.4850545822326596, top 1 = 0.0, top 5 = 0.0010666666666666667, top 10 = 0.002066666666666668\n"
     ]
    },
    {
     "name": "stderr",
     "output_type": "stream",
     "text": [
      "100%|██████████| 30/30 [00:01<00:00, 18.51it/s]\n",
      "100%|██████████| 30/30 [00:01<00:00, 23.59it/s]\n",
      "100%|██████████| 30/30 [00:01<00:00, 23.89it/s]\n",
      "100%|██████████| 30/30 [00:01<00:00, 23.91it/s]\n",
      " 10%|█         | 3/30 [00:00<00:01, 21.28it/s]"
     ]
    },
    {
     "name": "stdout",
     "output_type": "stream",
     "text": [
      "Epoch = 57, loss = 0.4870773421548167, top 1 = 0.0, top 5 = 0.0009333333333333333, top 10 = 0.0022\n"
     ]
    },
    {
     "name": "stderr",
     "output_type": "stream",
     "text": [
      "100%|██████████| 30/30 [00:01<00:00, 17.55it/s]\n",
      "100%|██████████| 30/30 [00:01<00:00, 23.76it/s]\n",
      "100%|██████████| 30/30 [00:01<00:00, 24.13it/s]\n",
      "100%|██████████| 30/30 [00:01<00:00, 25.49it/s]\n",
      "  0%|          | 0/30 [00:00<?, ?it/s]"
     ]
    },
    {
     "name": "stdout",
     "output_type": "stream",
     "text": [
      "Epoch = 58, loss = 0.48533410191145215, top 1 = 0.0, top 5 = 0.0010666666666666667, top 10 = 0.0020666666666666676\n"
     ]
    },
    {
     "name": "stderr",
     "output_type": "stream",
     "text": [
      "100%|██████████| 30/30 [00:01<00:00, 17.49it/s]\n",
      "100%|██████████| 30/30 [00:01<00:00, 23.79it/s]\n",
      "100%|██████████| 30/30 [00:01<00:00, 24.07it/s]\n",
      "100%|██████████| 30/30 [00:01<00:00, 23.84it/s]\n",
      " 10%|█         | 3/30 [00:00<00:01, 20.69it/s]"
     ]
    },
    {
     "name": "stdout",
     "output_type": "stream",
     "text": [
      "Epoch = 59, loss = 0.4871162198933243, top 1 = 0.0, top 5 = 0.0008, top 10 = 0.002466666666666667\n"
     ]
    },
    {
     "name": "stderr",
     "output_type": "stream",
     "text": [
      "100%|██████████| 30/30 [00:01<00:00, 17.50it/s]\n",
      "100%|██████████| 30/30 [00:01<00:00, 25.40it/s]\n",
      "100%|██████████| 30/30 [00:01<00:00, 24.03it/s]\n",
      "100%|██████████| 30/30 [00:01<00:00, 24.00it/s]\n",
      " 10%|█         | 3/30 [00:00<00:01, 20.79it/s]"
     ]
    },
    {
     "name": "stdout",
     "output_type": "stream",
     "text": [
      "Epoch = 60, loss = 0.48482864929065633, top 1 = 0.0, top 5 = 0.0008, top 10 = 0.0022666666666666673\n"
     ]
    },
    {
     "name": "stderr",
     "output_type": "stream",
     "text": [
      "100%|██████████| 30/30 [00:01<00:00, 17.63it/s]\n",
      "100%|██████████| 30/30 [00:01<00:00, 23.92it/s]\n",
      "100%|██████████| 30/30 [00:01<00:00, 24.08it/s]\n",
      "100%|██████████| 30/30 [00:01<00:00, 25.80it/s]\n",
      "  3%|▎         | 1/30 [00:00<00:04,  6.41it/s]"
     ]
    },
    {
     "name": "stdout",
     "output_type": "stream",
     "text": [
      "Epoch = 61, loss = 0.4867550359948399, top 1 = 0.0, top 5 = 0.0008, top 10 = 0.002533333333333334\n"
     ]
    },
    {
     "name": "stderr",
     "output_type": "stream",
     "text": [
      "100%|██████████| 30/30 [00:01<00:00, 17.41it/s]\n",
      "100%|██████████| 30/30 [00:01<00:00, 23.53it/s]\n",
      "100%|██████████| 30/30 [00:01<00:00, 23.65it/s]\n",
      "100%|██████████| 30/30 [00:01<00:00, 23.98it/s]\n",
      " 10%|█         | 3/30 [00:00<00:01, 21.24it/s]"
     ]
    },
    {
     "name": "stdout",
     "output_type": "stream",
     "text": [
      "Epoch = 62, loss = 0.4844771289739283, top 1 = 0.0, top 5 = 0.0008, top 10 = 0.0022000000000000006\n"
     ]
    },
    {
     "name": "stderr",
     "output_type": "stream",
     "text": [
      "100%|██████████| 30/30 [00:01<00:00, 17.64it/s]\n",
      "100%|██████████| 30/30 [00:01<00:00, 23.56it/s]\n",
      "100%|██████████| 30/30 [00:01<00:00, 26.19it/s]\n",
      "100%|██████████| 30/30 [00:01<00:00, 23.97it/s]\n",
      " 10%|█         | 3/30 [00:00<00:01, 20.84it/s]"
     ]
    },
    {
     "name": "stdout",
     "output_type": "stream",
     "text": [
      "Epoch = 63, loss = 0.48747828057997494, top 1 = 0.0, top 5 = 0.0009333333333333333, top 10 = 0.0021333333333333334\n"
     ]
    },
    {
     "name": "stderr",
     "output_type": "stream",
     "text": [
      "100%|██████████| 30/30 [00:01<00:00, 17.60it/s]\n",
      "100%|██████████| 30/30 [00:01<00:00, 23.81it/s]\n",
      "100%|██████████| 30/30 [00:01<00:00, 23.78it/s]\n",
      "100%|██████████| 30/30 [00:01<00:00, 23.79it/s]\n",
      "  7%|▋         | 2/30 [00:00<00:01, 19.14it/s]"
     ]
    },
    {
     "name": "stdout",
     "output_type": "stream",
     "text": [
      "Epoch = 64, loss = 0.48652448956960426, top 1 = 0.0, top 5 = 0.0008, top 10 = 0.002333333333333334\n"
     ]
    },
    {
     "name": "stderr",
     "output_type": "stream",
     "text": [
      "100%|██████████| 30/30 [00:01<00:00, 18.61it/s]\n",
      "100%|██████████| 30/30 [00:01<00:00, 23.95it/s]\n",
      "100%|██████████| 30/30 [00:01<00:00, 24.20it/s]\n",
      "100%|██████████| 30/30 [00:01<00:00, 24.22it/s]\n",
      " 10%|█         | 3/30 [00:00<00:01, 21.39it/s]"
     ]
    },
    {
     "name": "stdout",
     "output_type": "stream",
     "text": [
      "Epoch = 65, loss = 0.48702612738441314, top 1 = 0.0, top 5 = 0.0008, top 10 = 0.002466666666666667\n"
     ]
    },
    {
     "name": "stderr",
     "output_type": "stream",
     "text": [
      "100%|██████████| 30/30 [00:01<00:00, 17.62it/s]\n",
      "100%|██████████| 30/30 [00:01<00:00, 23.71it/s]\n",
      "100%|██████████| 30/30 [00:01<00:00, 26.19it/s]\n",
      "100%|██████████| 30/30 [00:01<00:00, 23.98it/s]\n",
      " 10%|█         | 3/30 [00:00<00:01, 20.78it/s]"
     ]
    },
    {
     "name": "stdout",
     "output_type": "stream",
     "text": [
      "Epoch = 66, loss = 0.48525606093667417, top 1 = 0.0, top 5 = 0.0008, top 10 = 0.0022666666666666673\n"
     ]
    },
    {
     "name": "stderr",
     "output_type": "stream",
     "text": [
      "100%|██████████| 30/30 [00:01<00:00, 17.43it/s]\n",
      "100%|██████████| 30/30 [00:01<00:00, 24.02it/s]\n",
      "100%|██████████| 30/30 [00:01<00:00, 24.05it/s]\n",
      "100%|██████████| 30/30 [00:01<00:00, 24.09it/s]\n",
      " 10%|█         | 3/30 [00:00<00:01, 20.84it/s]"
     ]
    },
    {
     "name": "stdout",
     "output_type": "stream",
     "text": [
      "Epoch = 67, loss = 0.4865156544142681, top 1 = 0.0, top 5 = 0.0008, top 10 = 0.0025333333333333336\n"
     ]
    },
    {
     "name": "stderr",
     "output_type": "stream",
     "text": [
      "100%|██████████| 30/30 [00:01<00:00, 18.55it/s]\n",
      "100%|██████████| 30/30 [00:01<00:00, 23.32it/s]\n",
      "100%|██████████| 30/30 [00:01<00:00, 24.10it/s]\n",
      "100%|██████████| 30/30 [00:01<00:00, 23.82it/s]\n",
      " 10%|█         | 3/30 [00:00<00:01, 20.76it/s]"
     ]
    },
    {
     "name": "stdout",
     "output_type": "stream",
     "text": [
      "Epoch = 68, loss = 0.48490737480127594, top 1 = 0.0, top 5 = 0.0008, top 10 = 0.002333333333333334\n"
     ]
    },
    {
     "name": "stderr",
     "output_type": "stream",
     "text": [
      "100%|██████████| 30/30 [00:01<00:00, 17.41it/s]\n",
      "100%|██████████| 30/30 [00:01<00:00, 23.59it/s]\n",
      "100%|██████████| 30/30 [00:01<00:00, 25.99it/s]\n",
      "100%|██████████| 30/30 [00:01<00:00, 23.98it/s]\n",
      " 10%|█         | 3/30 [00:00<00:01, 20.93it/s]"
     ]
    },
    {
     "name": "stdout",
     "output_type": "stream",
     "text": [
      "Epoch = 69, loss = 0.4856792683646978, top 1 = 0.0, top 5 = 0.0008, top 10 = 0.0026000000000000003\n"
     ]
    },
    {
     "name": "stderr",
     "output_type": "stream",
     "text": [
      "100%|██████████| 30/30 [00:01<00:00, 17.59it/s]\n",
      "100%|██████████| 30/30 [00:01<00:00, 23.87it/s]\n",
      "100%|██████████| 30/30 [00:01<00:00, 24.18it/s]\n",
      "100%|██████████| 30/30 [00:01<00:00, 23.96it/s]\n",
      " 10%|█         | 3/30 [00:00<00:01, 20.96it/s]"
     ]
    },
    {
     "name": "stdout",
     "output_type": "stream",
     "text": [
      "Epoch = 70, loss = 0.4846160152967294, top 1 = 0.0, top 5 = 0.0008, top 10 = 0.0028000000000000013\n"
     ]
    },
    {
     "name": "stderr",
     "output_type": "stream",
     "text": [
      "100%|██████████| 30/30 [00:01<00:00, 18.61it/s]\n",
      "100%|██████████| 30/30 [00:01<00:00, 23.43it/s]\n",
      "100%|██████████| 30/30 [00:01<00:00, 23.98it/s]\n",
      "100%|██████████| 30/30 [00:01<00:00, 24.12it/s]\n",
      " 10%|█         | 3/30 [00:00<00:01, 20.84it/s]"
     ]
    },
    {
     "name": "stdout",
     "output_type": "stream",
     "text": [
      "Epoch = 71, loss = 0.48500652879112877, top 1 = 0.0, top 5 = 0.0008, top 10 = 0.0024666666666666674\n"
     ]
    },
    {
     "name": "stderr",
     "output_type": "stream",
     "text": [
      "100%|██████████| 30/30 [00:01<00:00, 17.62it/s]\n",
      "100%|██████████| 30/30 [00:01<00:00, 23.52it/s]\n",
      "100%|██████████| 30/30 [00:01<00:00, 23.95it/s]\n",
      "100%|██████████| 30/30 [00:01<00:00, 25.82it/s]\n",
      "  0%|          | 0/30 [00:00<?, ?it/s]"
     ]
    },
    {
     "name": "stdout",
     "output_type": "stream",
     "text": [
      "Epoch = 72, loss = 0.4837497892398173, top 1 = 0.0, top 5 = 0.0009333333333333333, top 10 = 0.003600000000000001\n"
     ]
    },
    {
     "name": "stderr",
     "output_type": "stream",
     "text": [
      "100%|██████████| 30/30 [00:01<00:00, 17.47it/s]\n",
      "100%|██████████| 30/30 [00:01<00:00, 23.93it/s]\n",
      "100%|██████████| 30/30 [00:01<00:00, 24.03it/s]\n",
      "100%|██████████| 30/30 [00:01<00:00, 23.83it/s]\n",
      " 10%|█         | 3/30 [00:00<00:01, 20.29it/s]"
     ]
    },
    {
     "name": "stdout",
     "output_type": "stream",
     "text": [
      "Epoch = 73, loss = 0.48432099698146514, top 1 = 0.0, top 5 = 0.0008, top 10 = 0.0032000000000000015\n"
     ]
    },
    {
     "name": "stderr",
     "output_type": "stream",
     "text": [
      "100%|██████████| 30/30 [00:01<00:00, 17.31it/s]\n",
      "100%|██████████| 30/30 [00:01<00:00, 25.98it/s]\n",
      "100%|██████████| 30/30 [00:01<00:00, 23.98it/s]\n",
      "100%|██████████| 30/30 [00:01<00:00, 23.77it/s]\n",
      " 10%|█         | 3/30 [00:00<00:01, 20.68it/s]"
     ]
    },
    {
     "name": "stdout",
     "output_type": "stream",
     "text": [
      "Epoch = 74, loss = 0.48321527272635934, top 1 = 0.0, top 5 = 0.0009333333333333333, top 10 = 0.0030000000000000014\n"
     ]
    },
    {
     "name": "stderr",
     "output_type": "stream",
     "text": [
      "100%|██████████| 30/30 [00:01<00:00, 17.46it/s]\n",
      "100%|██████████| 30/30 [00:01<00:00, 23.68it/s]\n",
      "100%|██████████| 30/30 [00:01<00:00, 23.98it/s]\n",
      "100%|██████████| 30/30 [00:01<00:00, 26.04it/s]\n",
      "  7%|▋         | 2/30 [00:00<00:02, 11.30it/s]"
     ]
    },
    {
     "name": "stdout",
     "output_type": "stream",
     "text": [
      "Epoch = 75, loss = 0.4838249901146997, top 1 = 0.0, top 5 = 0.0008, top 10 = 0.003333333333333335\n"
     ]
    },
    {
     "name": "stderr",
     "output_type": "stream",
     "text": [
      "100%|██████████| 30/30 [00:01<00:00, 17.62it/s]\n",
      "100%|██████████| 30/30 [00:01<00:00, 23.81it/s]\n",
      "100%|██████████| 30/30 [00:01<00:00, 23.92it/s]\n",
      "100%|██████████| 30/30 [00:01<00:00, 23.98it/s]\n",
      " 10%|█         | 3/30 [00:00<00:01, 21.10it/s]"
     ]
    },
    {
     "name": "stdout",
     "output_type": "stream",
     "text": [
      "Epoch = 76, loss = 0.4844264624719078, top 1 = 0.0, top 5 = 0.0009333333333333333, top 10 = 0.0031333333333333348\n"
     ]
    },
    {
     "name": "stderr",
     "output_type": "stream",
     "text": [
      "100%|██████████| 30/30 [00:01<00:00, 17.50it/s]\n",
      "100%|██████████| 30/30 [00:01<00:00, 25.93it/s]\n",
      "100%|██████████| 30/30 [00:01<00:00, 23.97it/s]\n",
      "100%|██████████| 30/30 [00:01<00:00, 23.63it/s]\n",
      " 10%|█         | 3/30 [00:00<00:01, 20.95it/s]"
     ]
    },
    {
     "name": "stdout",
     "output_type": "stream",
     "text": [
      "Epoch = 77, loss = 0.4848875463364867, top 1 = 0.0, top 5 = 0.0008, top 10 = 0.0034000000000000015\n"
     ]
    },
    {
     "name": "stderr",
     "output_type": "stream",
     "text": [
      "100%|██████████| 30/30 [00:01<00:00, 17.58it/s]\n",
      "100%|██████████| 30/30 [00:01<00:00, 23.82it/s]\n",
      "100%|██████████| 30/30 [00:01<00:00, 23.44it/s]\n",
      "100%|██████████| 30/30 [00:01<00:00, 25.94it/s]\n",
      "  3%|▎         | 1/30 [00:00<00:04,  7.08it/s]"
     ]
    },
    {
     "name": "stdout",
     "output_type": "stream",
     "text": [
      "Epoch = 78, loss = 0.48281848177449393, top 1 = 0.0, top 5 = 0.0009333333333333333, top 10 = 0.003266666666666668\n"
     ]
    },
    {
     "name": "stderr",
     "output_type": "stream",
     "text": [
      "100%|██████████| 30/30 [00:01<00:00, 17.47it/s]\n",
      "100%|██████████| 30/30 [00:01<00:00, 22.91it/s]\n",
      "100%|██████████| 30/30 [00:01<00:00, 23.48it/s]\n",
      "100%|██████████| 30/30 [00:01<00:00, 23.73it/s]\n",
      " 10%|█         | 3/30 [00:00<00:01, 20.79it/s]"
     ]
    },
    {
     "name": "stdout",
     "output_type": "stream",
     "text": [
      "Epoch = 79, loss = 0.4832091318303932, top 1 = 0.0, top 5 = 0.0008, top 10 = 0.0025333333333333336\n"
     ]
    },
    {
     "name": "stderr",
     "output_type": "stream",
     "text": [
      "100%|██████████| 30/30 [00:01<00:00, 17.45it/s]\n",
      "100%|██████████| 30/30 [00:01<00:00, 23.83it/s]\n",
      "100%|██████████| 30/30 [00:01<00:00, 25.82it/s]\n",
      "100%|██████████| 30/30 [00:01<00:00, 23.92it/s]\n",
      " 10%|█         | 3/30 [00:00<00:01, 21.31it/s]"
     ]
    },
    {
     "name": "stdout",
     "output_type": "stream",
     "text": [
      "Epoch = 80, loss = 0.4832206066552313, top 1 = 0.0, top 5 = 0.0009333333333333333, top 10 = 0.003266666666666668\n"
     ]
    },
    {
     "name": "stderr",
     "output_type": "stream",
     "text": [
      "100%|██████████| 30/30 [00:01<00:00, 17.55it/s]\n",
      "100%|██████████| 30/30 [00:01<00:00, 23.32it/s]\n",
      "100%|██████████| 30/30 [00:01<00:00, 23.89it/s]\n",
      "100%|██████████| 30/30 [00:01<00:00, 22.85it/s]\n",
      " 10%|█         | 3/30 [00:00<00:01, 19.95it/s]"
     ]
    },
    {
     "name": "stdout",
     "output_type": "stream",
     "text": [
      "Epoch = 81, loss = 0.4847979457726547, top 1 = 0.0, top 5 = 0.0008, top 10 = 0.0025333333333333336\n"
     ]
    },
    {
     "name": "stderr",
     "output_type": "stream",
     "text": [
      "100%|██████████| 30/30 [00:01<00:00, 18.22it/s]\n",
      "100%|██████████| 30/30 [00:01<00:00, 23.20it/s]\n",
      "100%|██████████| 30/30 [00:01<00:00, 23.61it/s]\n",
      "100%|██████████| 30/30 [00:01<00:00, 22.79it/s]\n",
      "  7%|▋         | 2/30 [00:00<00:01, 19.32it/s]"
     ]
    },
    {
     "name": "stdout",
     "output_type": "stream",
     "text": [
      "Epoch = 82, loss = 0.4835326206899998, top 1 = 0.0, top 5 = 0.0009333333333333333, top 10 = 0.0032000000000000015\n"
     ]
    },
    {
     "name": "stderr",
     "output_type": "stream",
     "text": [
      "100%|██████████| 30/30 [00:01<00:00, 17.45it/s]\n",
      "100%|██████████| 30/30 [00:01<00:00, 23.66it/s]\n",
      "100%|██████████| 30/30 [00:01<00:00, 26.06it/s]\n",
      "100%|██████████| 30/30 [00:01<00:00, 23.78it/s]\n",
      " 10%|█         | 3/30 [00:00<00:01, 20.44it/s]"
     ]
    },
    {
     "name": "stdout",
     "output_type": "stream",
     "text": [
      "Epoch = 83, loss = 0.48448369875872266, top 1 = 0.0, top 5 = 0.0009333333333333333, top 10 = 0.002466666666666667\n"
     ]
    },
    {
     "name": "stderr",
     "output_type": "stream",
     "text": [
      "100%|██████████| 30/30 [00:01<00:00, 17.32it/s]\n",
      "100%|██████████| 30/30 [00:01<00:00, 23.25it/s]\n",
      "100%|██████████| 30/30 [00:01<00:00, 24.05it/s]\n",
      "100%|██████████| 30/30 [00:01<00:00, 23.53it/s]\n",
      " 10%|█         | 3/30 [00:00<00:01, 20.76it/s]"
     ]
    },
    {
     "name": "stdout",
     "output_type": "stream",
     "text": [
      "Epoch = 84, loss = 0.48294495123498926, top 1 = 0.0, top 5 = 0.0009333333333333333, top 10 = 0.0031333333333333348\n"
     ]
    },
    {
     "name": "stderr",
     "output_type": "stream",
     "text": [
      "100%|██████████| 30/30 [00:01<00:00, 18.39it/s]\n",
      "100%|██████████| 30/30 [00:01<00:00, 23.00it/s]\n",
      "100%|██████████| 30/30 [00:01<00:00, 23.61it/s]\n",
      "100%|██████████| 30/30 [00:01<00:00, 23.22it/s]\n",
      " 10%|█         | 3/30 [00:00<00:01, 21.19it/s]"
     ]
    },
    {
     "name": "stdout",
     "output_type": "stream",
     "text": [
      "Epoch = 85, loss = 0.48321713142683737, top 1 = 0.0, top 5 = 0.0010666666666666667, top 10 = 0.0025333333333333336\n"
     ]
    },
    {
     "name": "stderr",
     "output_type": "stream",
     "text": [
      "100%|██████████| 30/30 [00:01<00:00, 17.61it/s]\n",
      "100%|██████████| 30/30 [00:01<00:00, 23.25it/s]\n",
      "100%|██████████| 30/30 [00:01<00:00, 25.96it/s]\n",
      "100%|██████████| 30/30 [00:01<00:00, 24.05it/s]\n",
      " 10%|█         | 3/30 [00:00<00:01, 21.12it/s]"
     ]
    },
    {
     "name": "stdout",
     "output_type": "stream",
     "text": [
      "Epoch = 86, loss = 0.4823337553969846, top 1 = 0.0, top 5 = 0.0010666666666666667, top 10 = 0.0029333333333333347\n"
     ]
    },
    {
     "name": "stderr",
     "output_type": "stream",
     "text": [
      "100%|██████████| 30/30 [00:01<00:00, 17.41it/s]\n",
      "100%|██████████| 30/30 [00:01<00:00, 23.65it/s]\n",
      "100%|██████████| 30/30 [00:01<00:00, 24.10it/s]\n",
      "100%|██████████| 30/30 [00:01<00:00, 24.10it/s]\n",
      " 10%|█         | 3/30 [00:00<00:01, 20.83it/s]"
     ]
    },
    {
     "name": "stdout",
     "output_type": "stream",
     "text": [
      "Epoch = 87, loss = 0.4842005037801937, top 1 = 0.0, top 5 = 0.0008, top 10 = 0.0029333333333333347\n"
     ]
    },
    {
     "name": "stderr",
     "output_type": "stream",
     "text": [
      "100%|██████████| 30/30 [00:01<00:00, 18.51it/s]\n",
      "100%|██████████| 30/30 [00:01<00:00, 23.93it/s]\n",
      "100%|██████████| 30/30 [00:01<00:00, 24.11it/s]\n",
      "100%|██████████| 30/30 [00:01<00:00, 23.63it/s]\n",
      " 10%|█         | 3/30 [00:00<00:01, 21.27it/s]"
     ]
    },
    {
     "name": "stdout",
     "output_type": "stream",
     "text": [
      "Epoch = 88, loss = 0.4822666150326519, top 1 = 0.0, top 5 = 0.0009333333333333333, top 10 = 0.003666666666666668\n"
     ]
    },
    {
     "name": "stderr",
     "output_type": "stream",
     "text": [
      "100%|██████████| 30/30 [00:01<00:00, 17.60it/s]\n",
      "100%|██████████| 30/30 [00:01<00:00, 23.96it/s]\n",
      "100%|██████████| 30/30 [00:01<00:00, 24.20it/s]\n",
      "100%|██████████| 30/30 [00:01<00:00, 26.07it/s]\n",
      "  7%|▋         | 2/30 [00:00<00:02, 10.58it/s]"
     ]
    },
    {
     "name": "stdout",
     "output_type": "stream",
     "text": [
      "Epoch = 89, loss = 0.48306162253298696, top 1 = 0.0, top 5 = 0.0008, top 10 = 0.0029333333333333347\n"
     ]
    },
    {
     "name": "stderr",
     "output_type": "stream",
     "text": [
      "100%|██████████| 30/30 [00:01<00:00, 17.57it/s]\n",
      "100%|██████████| 30/30 [00:01<00:00, 23.32it/s]\n",
      "100%|██████████| 30/30 [00:01<00:00, 23.97it/s]\n",
      "100%|██████████| 30/30 [00:01<00:00, 24.15it/s]\n",
      " 10%|█         | 3/30 [00:00<00:01, 20.99it/s]"
     ]
    },
    {
     "name": "stdout",
     "output_type": "stream",
     "text": [
      "Epoch = 90, loss = 0.4813416762945167, top 1 = 0.0, top 5 = 0.0009333333333333333, top 10 = 0.0037333333333333346\n"
     ]
    },
    {
     "name": "stderr",
     "output_type": "stream",
     "text": [
      "100%|██████████| 30/30 [00:01<00:00, 17.61it/s]\n",
      "100%|██████████| 30/30 [00:01<00:00, 25.73it/s]\n",
      "100%|██████████| 30/30 [00:01<00:00, 24.05it/s]\n",
      "100%|██████████| 30/30 [00:01<00:00, 24.04it/s]\n",
      " 10%|█         | 3/30 [00:00<00:01, 20.40it/s]"
     ]
    },
    {
     "name": "stdout",
     "output_type": "stream",
     "text": [
      "Epoch = 91, loss = 0.4822709332944816, top 1 = 0.0, top 5 = 0.0008, top 10 = 0.0032000000000000015\n"
     ]
    },
    {
     "name": "stderr",
     "output_type": "stream",
     "text": [
      "100%|██████████| 30/30 [00:01<00:00, 17.64it/s]\n",
      "100%|██████████| 30/30 [00:01<00:00, 23.87it/s]\n",
      "100%|██████████| 30/30 [00:01<00:00, 24.08it/s]\n",
      "100%|██████████| 30/30 [00:01<00:00, 26.12it/s]\n",
      "  3%|▎         | 1/30 [00:00<00:04,  7.13it/s]"
     ]
    },
    {
     "name": "stdout",
     "output_type": "stream",
     "text": [
      "Epoch = 92, loss = 0.48203872068139175, top 1 = 0.0, top 5 = 0.0009333333333333333, top 10 = 0.0026000000000000007\n"
     ]
    },
    {
     "name": "stderr",
     "output_type": "stream",
     "text": [
      "100%|██████████| 30/30 [00:01<00:00, 17.63it/s]\n",
      "100%|██████████| 30/30 [00:01<00:00, 23.67it/s]\n",
      "100%|██████████| 30/30 [00:01<00:00, 23.84it/s]\n",
      "100%|██████████| 30/30 [00:01<00:00, 23.90it/s]\n",
      " 10%|█         | 3/30 [00:00<00:01, 20.79it/s]"
     ]
    },
    {
     "name": "stdout",
     "output_type": "stream",
     "text": [
      "Epoch = 93, loss = 0.48413851722503265, top 1 = 0.0, top 5 = 0.0009333333333333333, top 10 = 0.003200000000000001\n"
     ]
    },
    {
     "name": "stderr",
     "output_type": "stream",
     "text": [
      "100%|██████████| 30/30 [00:01<00:00, 17.56it/s]\n",
      "100%|██████████| 30/30 [00:01<00:00, 23.87it/s]\n",
      "100%|██████████| 30/30 [00:01<00:00, 25.89it/s]\n",
      "100%|██████████| 30/30 [00:01<00:00, 24.17it/s]\n",
      " 10%|█         | 3/30 [00:00<00:01, 20.65it/s]"
     ]
    },
    {
     "name": "stdout",
     "output_type": "stream",
     "text": [
      "Epoch = 94, loss = 0.4827906760982332, top 1 = 0.0, top 5 = 0.0008, top 10 = 0.0030000000000000014\n"
     ]
    },
    {
     "name": "stderr",
     "output_type": "stream",
     "text": [
      "100%|██████████| 30/30 [00:01<00:00, 17.59it/s]\n",
      "100%|██████████| 30/30 [00:01<00:00, 23.65it/s]\n",
      "100%|██████████| 30/30 [00:01<00:00, 24.20it/s]\n",
      "100%|██████████| 30/30 [00:01<00:00, 24.10it/s]\n",
      " 10%|█         | 3/30 [00:00<00:01, 21.16it/s]"
     ]
    },
    {
     "name": "stdout",
     "output_type": "stream",
     "text": [
      "Epoch = 95, loss = 0.4834535874206086, top 1 = 0.0, top 5 = 0.0010666666666666667, top 10 = 0.0030000000000000014\n"
     ]
    },
    {
     "name": "stderr",
     "output_type": "stream",
     "text": [
      "100%|██████████| 30/30 [00:01<00:00, 18.62it/s]\n",
      "100%|██████████| 30/30 [00:01<00:00, 23.68it/s]\n",
      "100%|██████████| 30/30 [00:01<00:00, 23.41it/s]\n",
      "100%|██████████| 30/30 [00:01<00:00, 23.48it/s]\n",
      " 10%|█         | 3/30 [00:00<00:01, 21.15it/s]"
     ]
    },
    {
     "name": "stdout",
     "output_type": "stream",
     "text": [
      "Epoch = 96, loss = 0.48321873011749, top 1 = 0.0, top 5 = 0.0008, top 10 = 0.0032000000000000015\n"
     ]
    },
    {
     "name": "stderr",
     "output_type": "stream",
     "text": [
      "100%|██████████| 30/30 [00:01<00:00, 17.59it/s]\n",
      "100%|██████████| 30/30 [00:01<00:00, 23.76it/s]\n",
      "100%|██████████| 30/30 [00:01<00:00, 26.11it/s]\n",
      "100%|██████████| 30/30 [00:01<00:00, 24.12it/s]\n",
      " 10%|█         | 3/30 [00:00<00:01, 20.84it/s]"
     ]
    },
    {
     "name": "stdout",
     "output_type": "stream",
     "text": [
      "Epoch = 97, loss = 0.4832198841558227, top 1 = 0.0, top 5 = 0.0010666666666666667, top 10 = 0.0027333333333333346\n"
     ]
    },
    {
     "name": "stderr",
     "output_type": "stream",
     "text": [
      "100%|██████████| 30/30 [00:01<00:00, 17.44it/s]\n",
      "100%|██████████| 30/30 [00:01<00:00, 23.69it/s]\n",
      "100%|██████████| 30/30 [00:01<00:00, 24.14it/s]\n",
      "100%|██████████| 30/30 [00:01<00:00, 24.13it/s]\n",
      " 10%|█         | 3/30 [00:00<00:01, 20.52it/s]"
     ]
    },
    {
     "name": "stdout",
     "output_type": "stream",
     "text": [
      "Epoch = 98, loss = 0.4819004302317921, top 1 = 0.0, top 5 = 0.0009333333333333333, top 10 = 0.004066666666666668\n"
     ]
    },
    {
     "name": "stderr",
     "output_type": "stream",
     "text": [
      "100%|██████████| 30/30 [00:01<00:00, 18.59it/s]\n",
      "100%|██████████| 30/30 [00:01<00:00, 23.99it/s]\n",
      "100%|██████████| 30/30 [00:01<00:00, 23.81it/s]\n",
      "100%|██████████| 30/30 [00:01<00:00, 24.00it/s]\n",
      " 10%|█         | 3/30 [00:00<00:01, 21.19it/s]"
     ]
    },
    {
     "name": "stdout",
     "output_type": "stream",
     "text": [
      "Epoch = 99, loss = 0.4827179104000919, top 1 = 0.0, top 5 = 0.0009333333333333333, top 10 = 0.0032000000000000015\n"
     ]
    },
    {
     "name": "stderr",
     "output_type": "stream",
     "text": [
      "100%|██████████| 30/30 [00:01<00:00, 17.62it/s]\n",
      "100%|██████████| 30/30 [00:01<00:00, 23.91it/s]\n",
      "100%|██████████| 30/30 [00:01<00:00, 26.01it/s]\n",
      "100%|██████████| 30/30 [00:01<00:00, 24.06it/s]\n",
      " 10%|█         | 3/30 [00:00<00:01, 21.14it/s]"
     ]
    },
    {
     "name": "stdout",
     "output_type": "stream",
     "text": [
      "Epoch = 100, loss = 0.48157435007792604, top 1 = 0.0, top 5 = 0.0008, top 10 = 0.0032000000000000015\n"
     ]
    },
    {
     "name": "stderr",
     "output_type": "stream",
     "text": [
      "100%|██████████| 30/30 [00:01<00:00, 17.52it/s]\n",
      "100%|██████████| 30/30 [00:01<00:00, 23.86it/s]\n",
      "100%|██████████| 30/30 [00:01<00:00, 23.57it/s]\n",
      "100%|██████████| 30/30 [00:01<00:00, 24.02it/s]\n",
      " 10%|█         | 3/30 [00:00<00:01, 21.43it/s]"
     ]
    },
    {
     "name": "stdout",
     "output_type": "stream",
     "text": [
      "Epoch = 101, loss = 0.4833859342902443, top 1 = 0.0, top 5 = 0.0009333333333333333, top 10 = 0.003800000000000002\n"
     ]
    },
    {
     "name": "stderr",
     "output_type": "stream",
     "text": [
      "100%|██████████| 30/30 [00:01<00:00, 18.68it/s]\n",
      "100%|██████████| 30/30 [00:01<00:00, 23.98it/s]\n",
      "100%|██████████| 30/30 [00:01<00:00, 23.35it/s]\n",
      "100%|██████████| 30/30 [00:01<00:00, 24.12it/s]\n",
      " 10%|█         | 3/30 [00:00<00:01, 20.76it/s]"
     ]
    },
    {
     "name": "stdout",
     "output_type": "stream",
     "text": [
      "Epoch = 102, loss = 0.4816456999772892, top 1 = 0.0, top 5 = 0.0008, top 10 = 0.003933333333333335\n"
     ]
    },
    {
     "name": "stderr",
     "output_type": "stream",
     "text": [
      "100%|██████████| 30/30 [00:01<00:00, 17.57it/s]\n",
      "100%|██████████| 30/30 [00:01<00:00, 23.45it/s]\n",
      "100%|██████████| 30/30 [00:01<00:00, 23.58it/s]\n",
      "100%|██████████| 30/30 [00:01<00:00, 25.48it/s]\n",
      "  0%|          | 0/30 [00:00<?, ?it/s]"
     ]
    },
    {
     "name": "stdout",
     "output_type": "stream",
     "text": [
      "Epoch = 103, loss = 0.48267914248570026, top 1 = 0.0, top 5 = 0.0009333333333333333, top 10 = 0.0036000000000000016\n"
     ]
    },
    {
     "name": "stderr",
     "output_type": "stream",
     "text": [
      "100%|██████████| 30/30 [00:01<00:00, 17.46it/s]\n",
      "100%|██████████| 30/30 [00:01<00:00, 23.90it/s]\n",
      "100%|██████████| 30/30 [00:01<00:00, 24.11it/s]\n",
      "100%|██████████| 30/30 [00:01<00:00, 23.93it/s]\n",
      " 10%|█         | 3/30 [00:00<00:01, 21.32it/s]"
     ]
    },
    {
     "name": "stdout",
     "output_type": "stream",
     "text": [
      "Epoch = 104, loss = 0.4807106289633387, top 1 = 0.0, top 5 = 0.0009333333333333333, top 10 = 0.0038666666666666684\n"
     ]
    },
    {
     "name": "stderr",
     "output_type": "stream",
     "text": [
      "100%|██████████| 30/30 [00:01<00:00, 17.70it/s]\n",
      "100%|██████████| 30/30 [00:01<00:00, 25.89it/s]\n",
      "100%|██████████| 30/30 [00:01<00:00, 23.27it/s]\n",
      "100%|██████████| 30/30 [00:01<00:00, 23.70it/s]\n",
      " 10%|█         | 3/30 [00:00<00:01, 21.06it/s]"
     ]
    },
    {
     "name": "stdout",
     "output_type": "stream",
     "text": [
      "Epoch = 105, loss = 0.4827109241441295, top 1 = 0.0, top 5 = 0.0010666666666666667, top 10 = 0.0039333333333333356\n"
     ]
    },
    {
     "name": "stderr",
     "output_type": "stream",
     "text": [
      "100%|██████████| 30/30 [00:01<00:00, 17.69it/s]\n",
      "100%|██████████| 30/30 [00:01<00:00, 23.68it/s]\n",
      "100%|██████████| 30/30 [00:01<00:00, 23.58it/s]\n",
      "100%|██████████| 30/30 [00:01<00:00, 25.98it/s]\n",
      "  7%|▋         | 2/30 [00:00<00:02, 11.04it/s]"
     ]
    },
    {
     "name": "stdout",
     "output_type": "stream",
     "text": [
      "Epoch = 106, loss = 0.48299224428261317, top 1 = 0.0, top 5 = 0.0009333333333333333, top 10 = 0.0036666666666666683\n"
     ]
    },
    {
     "name": "stderr",
     "output_type": "stream",
     "text": [
      "100%|██████████| 30/30 [00:01<00:00, 17.45it/s]\n",
      "100%|██████████| 30/30 [00:01<00:00, 23.31it/s]\n",
      "100%|██████████| 30/30 [00:01<00:00, 23.69it/s]\n",
      "100%|██████████| 30/30 [00:01<00:00, 23.94it/s]\n",
      " 10%|█         | 3/30 [00:00<00:01, 20.68it/s]"
     ]
    },
    {
     "name": "stdout",
     "output_type": "stream",
     "text": [
      "Epoch = 107, loss = 0.4824430417012958, top 1 = 0.0, top 5 = 0.0010666666666666667, top 10 = 0.0037333333333333355\n"
     ]
    },
    {
     "name": "stderr",
     "output_type": "stream",
     "text": [
      "100%|██████████| 30/30 [00:01<00:00, 17.62it/s]\n",
      "100%|██████████| 30/30 [00:01<00:00, 25.95it/s]\n",
      "100%|██████████| 30/30 [00:01<00:00, 23.57it/s]\n",
      "100%|██████████| 30/30 [00:01<00:00, 24.03it/s]\n",
      " 10%|█         | 3/30 [00:00<00:01, 20.78it/s]"
     ]
    },
    {
     "name": "stdout",
     "output_type": "stream",
     "text": [
      "Epoch = 108, loss = 0.4804029190748437, top 1 = 0.0, top 5 = 0.0009333333333333333, top 10 = 0.003333333333333335\n"
     ]
    },
    {
     "name": "stderr",
     "output_type": "stream",
     "text": [
      "100%|██████████| 30/30 [00:01<00:00, 17.48it/s]\n",
      "100%|██████████| 30/30 [00:01<00:00, 23.98it/s]\n",
      "100%|██████████| 30/30 [00:01<00:00, 24.06it/s]\n",
      "100%|██████████| 30/30 [00:01<00:00, 26.20it/s]\n",
      "  3%|▎         | 1/30 [00:00<00:04,  7.16it/s]"
     ]
    },
    {
     "name": "stdout",
     "output_type": "stream",
     "text": [
      "Epoch = 109, loss = 0.4822488698783182, top 1 = 0.0, top 5 = 0.0009333333333333333, top 10 = 0.0036000000000000016\n"
     ]
    },
    {
     "name": "stderr",
     "output_type": "stream",
     "text": [
      "100%|██████████| 30/30 [00:01<00:00, 17.37it/s]\n",
      "100%|██████████| 30/30 [00:01<00:00, 23.95it/s]\n",
      "100%|██████████| 30/30 [00:01<00:00, 23.97it/s]\n",
      "100%|██████████| 30/30 [00:01<00:00, 23.36it/s]\n",
      " 10%|█         | 3/30 [00:00<00:01, 20.11it/s]"
     ]
    },
    {
     "name": "stdout",
     "output_type": "stream",
     "text": [
      "Epoch = 110, loss = 0.4814535130898911, top 1 = 0.0, top 5 = 0.0010666666666666667, top 10 = 0.002666666666666667\n"
     ]
    },
    {
     "name": "stderr",
     "output_type": "stream",
     "text": [
      "100%|██████████| 30/30 [00:01<00:00, 17.30it/s]\n",
      "100%|██████████| 30/30 [00:01<00:00, 23.17it/s]\n",
      "100%|██████████| 30/30 [00:01<00:00, 25.28it/s]\n",
      "100%|██████████| 30/30 [00:01<00:00, 23.48it/s]\n",
      " 10%|█         | 3/30 [00:00<00:01, 20.75it/s]"
     ]
    },
    {
     "name": "stdout",
     "output_type": "stream",
     "text": [
      "Epoch = 111, loss = 0.4829797103242592, top 1 = 0.0, top 5 = 0.0009333333333333333, top 10 = 0.003333333333333335\n"
     ]
    },
    {
     "name": "stderr",
     "output_type": "stream",
     "text": [
      "100%|██████████| 30/30 [00:01<00:00, 17.43it/s]\n",
      "100%|██████████| 30/30 [00:01<00:00, 23.69it/s]\n",
      "100%|██████████| 30/30 [00:01<00:00, 24.11it/s]\n",
      "100%|██████████| 30/30 [00:01<00:00, 23.96it/s]\n",
      " 10%|█         | 3/30 [00:00<00:01, 20.88it/s]"
     ]
    },
    {
     "name": "stdout",
     "output_type": "stream",
     "text": [
      "Epoch = 112, loss = 0.4819185565647534, top 1 = 0.0, top 5 = 0.0010666666666666667, top 10 = 0.0027333333333333346\n"
     ]
    },
    {
     "name": "stderr",
     "output_type": "stream",
     "text": [
      "100%|██████████| 30/30 [00:01<00:00, 18.43it/s]\n",
      "100%|██████████| 30/30 [00:01<00:00, 23.88it/s]\n",
      "100%|██████████| 30/30 [00:01<00:00, 23.98it/s]\n",
      "100%|██████████| 30/30 [00:01<00:00, 24.05it/s]\n",
      " 10%|█         | 3/30 [00:00<00:01, 21.10it/s]"
     ]
    },
    {
     "name": "stdout",
     "output_type": "stream",
     "text": [
      "Epoch = 113, loss = 0.4831312089587311, top 1 = 0.0, top 5 = 0.0010666666666666667, top 10 = 0.002866666666666668\n"
     ]
    },
    {
     "name": "stderr",
     "output_type": "stream",
     "text": [
      "100%|██████████| 30/30 [00:01<00:00, 17.60it/s]\n",
      "100%|██████████| 30/30 [00:01<00:00, 23.59it/s]\n",
      "100%|██████████| 30/30 [00:01<00:00, 26.06it/s]\n",
      "100%|██████████| 30/30 [00:01<00:00, 23.53it/s]\n",
      " 10%|█         | 3/30 [00:00<00:01, 20.89it/s]"
     ]
    },
    {
     "name": "stdout",
     "output_type": "stream",
     "text": [
      "Epoch = 114, loss = 0.48230832213783137, top 1 = 0.0, top 5 = 0.0010666666666666667, top 10 = 0.0027333333333333346\n"
     ]
    },
    {
     "name": "stderr",
     "output_type": "stream",
     "text": [
      "100%|██████████| 30/30 [00:01<00:00, 17.61it/s]\n",
      "100%|██████████| 30/30 [00:01<00:00, 23.86it/s]\n",
      "100%|██████████| 30/30 [00:01<00:00, 24.21it/s]\n",
      "100%|██████████| 30/30 [00:01<00:00, 24.13it/s]\n",
      " 10%|█         | 3/30 [00:00<00:01, 20.78it/s]"
     ]
    },
    {
     "name": "stdout",
     "output_type": "stream",
     "text": [
      "Epoch = 115, loss = 0.4832768542837706, top 1 = 0.0, top 5 = 0.0012000000000000001, top 10 = 0.0031333333333333343\n"
     ]
    },
    {
     "name": "stderr",
     "output_type": "stream",
     "text": [
      "100%|██████████| 30/30 [00:01<00:00, 18.47it/s]\n",
      "100%|██████████| 30/30 [00:01<00:00, 23.46it/s]\n",
      "100%|██████████| 30/30 [00:01<00:00, 24.03it/s]\n",
      "100%|██████████| 30/30 [00:01<00:00, 23.31it/s]\n",
      " 10%|█         | 3/30 [00:00<00:01, 20.99it/s]"
     ]
    },
    {
     "name": "stdout",
     "output_type": "stream",
     "text": [
      "Epoch = 116, loss = 0.48090936716300325, top 1 = 0.0, top 5 = 0.0009333333333333333, top 10 = 0.003533333333333335\n"
     ]
    },
    {
     "name": "stderr",
     "output_type": "stream",
     "text": [
      "100%|██████████| 30/30 [00:01<00:00, 17.68it/s]\n",
      "100%|██████████| 30/30 [00:01<00:00, 23.16it/s]\n",
      "100%|██████████| 30/30 [00:01<00:00, 26.03it/s]\n",
      "100%|██████████| 30/30 [00:01<00:00, 23.80it/s]\n",
      " 10%|█         | 3/30 [00:00<00:01, 21.41it/s]"
     ]
    },
    {
     "name": "stdout",
     "output_type": "stream",
     "text": [
      "Epoch = 117, loss = 0.48297175987733065, top 1 = 0.0, top 5 = 0.0017333333333333335, top 10 = 0.003666666666666668\n"
     ]
    },
    {
     "name": "stderr",
     "output_type": "stream",
     "text": [
      "100%|██████████| 30/30 [00:01<00:00, 17.71it/s]\n",
      "100%|██████████| 30/30 [00:01<00:00, 23.94it/s]\n",
      "100%|██████████| 30/30 [00:01<00:00, 24.09it/s]\n",
      "100%|██████████| 30/30 [00:01<00:00, 23.60it/s]\n",
      " 10%|█         | 3/30 [00:00<00:01, 20.66it/s]"
     ]
    },
    {
     "name": "stdout",
     "output_type": "stream",
     "text": [
      "Epoch = 118, loss = 0.4818964142701525, top 1 = 0.0, top 5 = 0.0013333333333333335, top 10 = 0.004733333333333336\n"
     ]
    },
    {
     "name": "stderr",
     "output_type": "stream",
     "text": [
      "100%|██████████| 30/30 [00:01<00:00, 18.50it/s]\n",
      "100%|██████████| 30/30 [00:01<00:00, 23.62it/s]\n",
      "100%|██████████| 30/30 [00:01<00:00, 23.50it/s]\n",
      "100%|██████████| 30/30 [00:01<00:00, 23.52it/s]\n",
      " 10%|█         | 3/30 [00:00<00:01, 21.19it/s]"
     ]
    },
    {
     "name": "stdout",
     "output_type": "stream",
     "text": [
      "Epoch = 119, loss = 0.48173132150133813, top 1 = 0.0, top 5 = 0.0014666666666666671, top 10 = 0.004533333333333335\n"
     ]
    },
    {
     "name": "stderr",
     "output_type": "stream",
     "text": [
      "100%|██████████| 30/30 [00:01<00:00, 17.52it/s]\n",
      "100%|██████████| 30/30 [00:01<00:00, 23.05it/s]\n",
      "100%|██████████| 30/30 [00:01<00:00, 24.10it/s]\n",
      "100%|██████████| 30/30 [00:01<00:00, 26.15it/s]\n",
      "  0%|          | 0/30 [00:00<?, ?it/s]"
     ]
    },
    {
     "name": "stdout",
     "output_type": "stream",
     "text": [
      "Epoch = 120, loss = 0.48077527083146826, top 1 = 0.0, top 5 = 0.0014666666666666671, top 10 = 0.004800000000000002\n"
     ]
    },
    {
     "name": "stderr",
     "output_type": "stream",
     "text": [
      "100%|██████████| 30/30 [00:01<00:00, 17.52it/s]\n",
      "100%|██████████| 30/30 [00:01<00:00, 23.02it/s]\n",
      "100%|██████████| 30/30 [00:01<00:00, 23.59it/s]\n",
      "100%|██████████| 30/30 [00:01<00:00, 24.15it/s]\n",
      " 10%|█         | 3/30 [00:00<00:01, 20.54it/s]"
     ]
    },
    {
     "name": "stdout",
     "output_type": "stream",
     "text": [
      "Epoch = 121, loss = 0.48069966193337754, top 1 = 0.0, top 5 = 0.0016, top 10 = 0.004866666666666669\n"
     ]
    },
    {
     "name": "stderr",
     "output_type": "stream",
     "text": [
      "100%|██████████| 30/30 [00:01<00:00, 17.57it/s]\n",
      "100%|██████████| 30/30 [00:01<00:00, 26.07it/s]\n",
      "100%|██████████| 30/30 [00:01<00:00, 24.04it/s]\n",
      "100%|██████████| 30/30 [00:01<00:00, 23.83it/s]\n",
      " 10%|█         | 3/30 [00:00<00:01, 21.30it/s]"
     ]
    },
    {
     "name": "stdout",
     "output_type": "stream",
     "text": [
      "Epoch = 122, loss = 0.48096630306538307, top 1 = 0.0, top 5 = 0.0012000000000000001, top 10 = 0.0036666666666666683\n"
     ]
    },
    {
     "name": "stderr",
     "output_type": "stream",
     "text": [
      "100%|██████████| 30/30 [00:01<00:00, 17.62it/s]\n",
      "100%|██████████| 30/30 [00:01<00:00, 23.68it/s]\n",
      "100%|██████████| 30/30 [00:01<00:00, 24.13it/s]\n",
      "100%|██████████| 30/30 [00:01<00:00, 26.13it/s]\n",
      "  3%|▎         | 1/30 [00:00<00:04,  7.09it/s]"
     ]
    },
    {
     "name": "stdout",
     "output_type": "stream",
     "text": [
      "Epoch = 123, loss = 0.4817373345679418, top 1 = 0.0, top 5 = 0.0025333333333333336, top 10 = 0.006533333333333337\n",
      "save model to /home/ai2019/ne6081064/june/mlg/snrs_hw1/2021-03-13 11-52/weight.pth\n"
     ]
    },
    {
     "name": "stderr",
     "output_type": "stream",
     "text": [
      "100%|██████████| 30/30 [00:01<00:00, 17.50it/s]\n",
      "100%|██████████| 30/30 [00:01<00:00, 23.95it/s]\n",
      "100%|██████████| 30/30 [00:01<00:00, 23.97it/s]\n",
      "100%|██████████| 30/30 [00:01<00:00, 24.13it/s]\n",
      " 10%|█         | 3/30 [00:00<00:01, 20.62it/s]"
     ]
    },
    {
     "name": "stdout",
     "output_type": "stream",
     "text": [
      "Epoch = 124, loss = 0.4805170540082984, top 1 = 0.0, top 5 = 0.0013333333333333335, top 10 = 0.0042000000000000015\n"
     ]
    },
    {
     "name": "stderr",
     "output_type": "stream",
     "text": [
      "100%|██████████| 30/30 [00:01<00:00, 17.57it/s]\n",
      "100%|██████████| 30/30 [00:01<00:00, 23.70it/s]\n",
      "100%|██████████| 30/30 [00:01<00:00, 25.39it/s]\n",
      "100%|██████████| 30/30 [00:01<00:00, 23.50it/s]\n",
      " 10%|█         | 3/30 [00:00<00:01, 21.14it/s]"
     ]
    },
    {
     "name": "stdout",
     "output_type": "stream",
     "text": [
      "Epoch = 125, loss = 0.4811627876023346, top 1 = 0.0, top 5 = 0.0014666666666666671, top 10 = 0.004933333333333336\n"
     ]
    },
    {
     "name": "stderr",
     "output_type": "stream",
     "text": [
      "100%|██████████| 30/30 [00:01<00:00, 17.59it/s]\n",
      "100%|██████████| 30/30 [00:01<00:00, 22.18it/s]\n",
      "100%|██████████| 30/30 [00:01<00:00, 23.64it/s]\n",
      "100%|██████████| 30/30 [00:01<00:00, 23.96it/s]\n",
      " 10%|█         | 3/30 [00:00<00:01, 21.02it/s]"
     ]
    },
    {
     "name": "stdout",
     "output_type": "stream",
     "text": [
      "Epoch = 126, loss = 0.48148157161810734, top 1 = 0.0, top 5 = 0.0012000000000000001, top 10 = 0.003866666666666669\n"
     ]
    },
    {
     "name": "stderr",
     "output_type": "stream",
     "text": [
      "100%|██████████| 30/30 [00:01<00:00, 18.68it/s]\n",
      "100%|██████████| 30/30 [00:01<00:00, 24.02it/s]\n",
      "100%|██████████| 30/30 [00:01<00:00, 24.09it/s]\n",
      "100%|██████████| 30/30 [00:01<00:00, 24.12it/s]\n",
      " 10%|█         | 3/30 [00:00<00:01, 20.39it/s]"
     ]
    },
    {
     "name": "stdout",
     "output_type": "stream",
     "text": [
      "Epoch = 127, loss = 0.4794982189167587, top 1 = 0.0, top 5 = 0.001733333333333334, top 10 = 0.00566666666666667\n"
     ]
    },
    {
     "name": "stderr",
     "output_type": "stream",
     "text": [
      "100%|██████████| 30/30 [00:01<00:00, 17.58it/s]\n",
      "100%|██████████| 30/30 [00:01<00:00, 23.97it/s]\n",
      "100%|██████████| 30/30 [00:01<00:00, 26.14it/s]\n",
      "100%|██████████| 30/30 [00:01<00:00, 23.98it/s]\n",
      " 10%|█         | 3/30 [00:00<00:01, 20.63it/s]"
     ]
    },
    {
     "name": "stdout",
     "output_type": "stream",
     "text": [
      "Epoch = 128, loss = 0.48013238174376377, top 1 = 0.0, top 5 = 0.0010666666666666667, top 10 = 0.0030000000000000014\n"
     ]
    },
    {
     "name": "stderr",
     "output_type": "stream",
     "text": [
      "100%|██████████| 30/30 [00:01<00:00, 17.65it/s]\n",
      "100%|██████████| 30/30 [00:01<00:00, 23.96it/s]\n",
      "100%|██████████| 30/30 [00:01<00:00, 23.68it/s]\n",
      "100%|██████████| 30/30 [00:01<00:00, 23.98it/s]\n",
      " 10%|█         | 3/30 [00:00<00:01, 20.94it/s]"
     ]
    },
    {
     "name": "stdout",
     "output_type": "stream",
     "text": [
      "Epoch = 129, loss = 0.48158396732307207, top 1 = 0.0, top 5 = 0.0016000000000000005, top 10 = 0.005333333333333337\n"
     ]
    },
    {
     "name": "stderr",
     "output_type": "stream",
     "text": [
      "100%|██████████| 30/30 [00:01<00:00, 18.77it/s]\n",
      "100%|██████████| 30/30 [00:01<00:00, 23.54it/s]\n",
      "100%|██████████| 30/30 [00:01<00:00, 23.74it/s]\n",
      "100%|██████████| 30/30 [00:01<00:00, 23.71it/s]\n",
      " 10%|█         | 3/30 [00:00<00:01, 20.73it/s]"
     ]
    },
    {
     "name": "stdout",
     "output_type": "stream",
     "text": [
      "Epoch = 130, loss = 0.4799341773149715, top 1 = 0.0, top 5 = 0.0012000000000000001, top 10 = 0.003466666666666668\n"
     ]
    },
    {
     "name": "stderr",
     "output_type": "stream",
     "text": [
      "100%|██████████| 30/30 [00:01<00:00, 17.59it/s]\n",
      "100%|██████████| 30/30 [00:01<00:00, 23.76it/s]\n",
      "100%|██████████| 30/30 [00:01<00:00, 25.63it/s]\n",
      "100%|██████████| 30/30 [00:01<00:00, 23.66it/s]\n",
      " 10%|█         | 3/30 [00:00<00:01, 20.90it/s]"
     ]
    },
    {
     "name": "stdout",
     "output_type": "stream",
     "text": [
      "Epoch = 131, loss = 0.4821839890282432, top 1 = 0.0, top 5 = 0.0014666666666666671, top 10 = 0.0037333333333333346\n"
     ]
    },
    {
     "name": "stderr",
     "output_type": "stream",
     "text": [
      "100%|██████████| 30/30 [00:01<00:00, 17.56it/s]\n",
      "100%|██████████| 30/30 [00:01<00:00, 23.62it/s]\n",
      "100%|██████████| 30/30 [00:01<00:00, 24.13it/s]\n",
      "100%|██████████| 30/30 [00:01<00:00, 23.98it/s]\n",
      " 10%|█         | 3/30 [00:00<00:01, 20.69it/s]"
     ]
    },
    {
     "name": "stdout",
     "output_type": "stream",
     "text": [
      "Epoch = 132, loss = 0.4794734315226936, top 1 = 0.0, top 5 = 0.0012000000000000001, top 10 = 0.003266666666666668\n"
     ]
    },
    {
     "name": "stderr",
     "output_type": "stream",
     "text": [
      "100%|██████████| 30/30 [00:01<00:00, 18.62it/s]\n",
      "100%|██████████| 30/30 [00:01<00:00, 23.96it/s]\n",
      "100%|██████████| 30/30 [00:01<00:00, 24.06it/s]\n",
      "100%|██████████| 30/30 [00:01<00:00, 23.84it/s]\n",
      " 10%|█         | 3/30 [00:00<00:01, 20.76it/s]"
     ]
    },
    {
     "name": "stdout",
     "output_type": "stream",
     "text": [
      "Epoch = 133, loss = 0.4832718884242624, top 1 = 0.0, top 5 = 0.0017333333333333335, top 10 = 0.004000000000000002\n"
     ]
    },
    {
     "name": "stderr",
     "output_type": "stream",
     "text": [
      "100%|██████████| 30/30 [00:01<00:00, 17.35it/s]\n",
      "100%|██████████| 30/30 [00:01<00:00, 23.54it/s]\n",
      "100%|██████████| 30/30 [00:01<00:00, 24.10it/s]\n",
      "100%|██████████| 30/30 [00:01<00:00, 26.16it/s]\n",
      "  0%|          | 0/30 [00:00<?, ?it/s]"
     ]
    },
    {
     "name": "stdout",
     "output_type": "stream",
     "text": [
      "Epoch = 134, loss = 0.4808251095713064, top 1 = 0.0, top 5 = 0.0012000000000000001, top 10 = 0.003800000000000002\n"
     ]
    },
    {
     "name": "stderr",
     "output_type": "stream",
     "text": [
      "100%|██████████| 30/30 [00:01<00:00, 17.60it/s]\n",
      "100%|██████████| 30/30 [00:01<00:00, 23.90it/s]\n",
      "100%|██████████| 30/30 [00:01<00:00, 23.69it/s]\n",
      "100%|██████████| 30/30 [00:01<00:00, 24.11it/s]\n",
      " 10%|█         | 3/30 [00:00<00:01, 21.34it/s]"
     ]
    },
    {
     "name": "stdout",
     "output_type": "stream",
     "text": [
      "Epoch = 135, loss = 0.48242746682005644, top 1 = 0.0, top 5 = 0.002, top 10 = 0.004333333333333336\n"
     ]
    },
    {
     "name": "stderr",
     "output_type": "stream",
     "text": [
      "100%|██████████| 30/30 [00:01<00:00, 17.69it/s]\n",
      "100%|██████████| 30/30 [00:01<00:00, 25.80it/s]\n",
      "100%|██████████| 30/30 [00:01<00:00, 23.34it/s]\n",
      "100%|██████████| 30/30 [00:01<00:00, 24.02it/s]\n",
      " 10%|█         | 3/30 [00:00<00:01, 20.96it/s]"
     ]
    },
    {
     "name": "stdout",
     "output_type": "stream",
     "text": [
      "Epoch = 136, loss = 0.48090354285333625, top 1 = 0.0, top 5 = 0.0016, top 10 = 0.005333333333333337\n"
     ]
    },
    {
     "name": "stderr",
     "output_type": "stream",
     "text": [
      "100%|██████████| 30/30 [00:01<00:00, 17.47it/s]\n",
      "100%|██████████| 30/30 [00:01<00:00, 23.80it/s]\n",
      "100%|██████████| 30/30 [00:01<00:00, 23.93it/s]\n",
      "100%|██████████| 30/30 [00:01<00:00, 25.90it/s]\n",
      "  7%|▋         | 2/30 [00:00<00:02, 11.26it/s]"
     ]
    },
    {
     "name": "stdout",
     "output_type": "stream",
     "text": [
      "Epoch = 137, loss = 0.4806874237795764, top 1 = 0.0, top 5 = 0.0024000000000000002, top 10 = 0.0066666666666666706\n",
      "save model to /home/ai2019/ne6081064/june/mlg/snrs_hw1/2021-03-13 11-52/weight.pth\n"
     ]
    },
    {
     "name": "stderr",
     "output_type": "stream",
     "text": [
      "100%|██████████| 30/30 [00:01<00:00, 17.33it/s]\n",
      "100%|██████████| 30/30 [00:01<00:00, 23.83it/s]\n",
      "100%|██████████| 30/30 [00:01<00:00, 23.69it/s]\n",
      "100%|██████████| 30/30 [00:01<00:00, 23.75it/s]\n",
      " 10%|█         | 3/30 [00:00<00:01, 20.56it/s]"
     ]
    },
    {
     "name": "stdout",
     "output_type": "stream",
     "text": [
      "Epoch = 138, loss = 0.48033075189073754, top 1 = 0.0, top 5 = 0.0024000000000000002, top 10 = 0.0066666666666666706\n"
     ]
    },
    {
     "name": "stderr",
     "output_type": "stream",
     "text": [
      "100%|██████████| 30/30 [00:01<00:00, 17.45it/s]\n",
      "100%|██████████| 30/30 [00:01<00:00, 25.10it/s]\n",
      "100%|██████████| 30/30 [00:01<00:00, 23.54it/s]\n",
      "100%|██████████| 30/30 [00:01<00:00, 23.85it/s]\n",
      " 10%|█         | 3/30 [00:00<00:01, 20.18it/s]"
     ]
    },
    {
     "name": "stdout",
     "output_type": "stream",
     "text": [
      "Epoch = 139, loss = 0.48055609679177225, top 1 = 0.0, top 5 = 0.0014666666666666671, top 10 = 0.004933333333333336\n"
     ]
    },
    {
     "name": "stderr",
     "output_type": "stream",
     "text": [
      "100%|██████████| 30/30 [00:01<00:00, 17.30it/s]\n",
      "100%|██████████| 30/30 [00:01<00:00, 23.44it/s]\n",
      "100%|██████████| 30/30 [00:01<00:00, 23.09it/s]\n",
      "100%|██████████| 30/30 [00:01<00:00, 25.36it/s]\n",
      "  3%|▎         | 1/30 [00:00<00:04,  7.02it/s]"
     ]
    },
    {
     "name": "stdout",
     "output_type": "stream",
     "text": [
      "Epoch = 140, loss = 0.4797690204467871, top 1 = 0.0, top 5 = 0.0014666666666666671, top 10 = 0.004533333333333335\n"
     ]
    },
    {
     "name": "stderr",
     "output_type": "stream",
     "text": [
      "100%|██████████| 30/30 [00:01<00:00, 17.17it/s]\n",
      "100%|██████████| 30/30 [00:01<00:00, 23.14it/s]\n",
      "100%|██████████| 30/30 [00:01<00:00, 23.97it/s]\n",
      "100%|██████████| 30/30 [00:01<00:00, 23.88it/s]\n",
      " 10%|█         | 3/30 [00:00<00:01, 21.01it/s]"
     ]
    },
    {
     "name": "stdout",
     "output_type": "stream",
     "text": [
      "Epoch = 141, loss = 0.48101027770873106, top 1 = 0.0, top 5 = 0.002666666666666667, top 10 = 0.007533333333333337\n",
      "save model to /home/ai2019/ne6081064/june/mlg/snrs_hw1/2021-03-13 11-52/weight.pth\n"
     ]
    },
    {
     "name": "stderr",
     "output_type": "stream",
     "text": [
      "100%|██████████| 30/30 [00:01<00:00, 17.44it/s]\n",
      "100%|██████████| 30/30 [00:01<00:00, 23.30it/s]\n",
      "100%|██████████| 30/30 [00:01<00:00, 25.82it/s]\n",
      "100%|██████████| 30/30 [00:01<00:00, 23.85it/s]\n",
      " 10%|█         | 3/30 [00:00<00:01, 20.26it/s]"
     ]
    },
    {
     "name": "stdout",
     "output_type": "stream",
     "text": [
      "Epoch = 142, loss = 0.47932808162865714, top 1 = 0.0, top 5 = 0.0016000000000000005, top 10 = 0.005533333333333336\n"
     ]
    },
    {
     "name": "stderr",
     "output_type": "stream",
     "text": [
      "100%|██████████| 30/30 [00:01<00:00, 17.44it/s]\n",
      "100%|██████████| 30/30 [00:01<00:00, 23.31it/s]\n",
      "100%|██████████| 30/30 [00:01<00:00, 23.07it/s]\n",
      "100%|██████████| 30/30 [00:01<00:00, 22.98it/s]\n",
      " 10%|█         | 3/30 [00:00<00:01, 21.06it/s]"
     ]
    },
    {
     "name": "stdout",
     "output_type": "stream",
     "text": [
      "Epoch = 143, loss = 0.4815506721545394, top 1 = 0.0, top 5 = 0.0014666666666666671, top 10 = 0.004933333333333336\n"
     ]
    },
    {
     "name": "stderr",
     "output_type": "stream",
     "text": [
      "100%|██████████| 30/30 [00:01<00:00, 18.55it/s]\n",
      "100%|██████████| 30/30 [00:01<00:00, 23.30it/s]\n",
      "100%|██████████| 30/30 [00:01<00:00, 24.04it/s]\n",
      "100%|██████████| 30/30 [00:01<00:00, 23.85it/s]\n",
      " 10%|█         | 3/30 [00:00<00:01, 20.74it/s]"
     ]
    },
    {
     "name": "stdout",
     "output_type": "stream",
     "text": [
      "Epoch = 144, loss = 0.4810658374322685, top 1 = 0.0, top 5 = 0.001733333333333334, top 10 = 0.00566666666666667\n"
     ]
    },
    {
     "name": "stderr",
     "output_type": "stream",
     "text": [
      "100%|██████████| 30/30 [00:01<00:00, 17.60it/s]\n",
      "100%|██████████| 30/30 [00:01<00:00, 23.99it/s]\n",
      "100%|██████████| 30/30 [00:01<00:00, 25.57it/s]\n",
      "100%|██████████| 30/30 [00:01<00:00, 23.25it/s]\n",
      " 10%|█         | 3/30 [00:00<00:01, 20.32it/s]"
     ]
    },
    {
     "name": "stdout",
     "output_type": "stream",
     "text": [
      "Epoch = 145, loss = 0.4800779580471718, top 1 = 0.0, top 5 = 0.0018666666666666673, top 10 = 0.0063333333333333375\n"
     ]
    },
    {
     "name": "stderr",
     "output_type": "stream",
     "text": [
      "100%|██████████| 30/30 [00:01<00:00, 17.64it/s]\n",
      "100%|██████████| 30/30 [00:01<00:00, 23.25it/s]\n",
      "100%|██████████| 30/30 [00:01<00:00, 23.46it/s]\n",
      "100%|██████████| 30/30 [00:01<00:00, 23.50it/s]\n",
      " 10%|█         | 3/30 [00:00<00:01, 20.80it/s]"
     ]
    },
    {
     "name": "stdout",
     "output_type": "stream",
     "text": [
      "Epoch = 146, loss = 0.4791746865820457, top 1 = 0.0, top 5 = 0.0014666666666666671, top 10 = 0.0046000000000000025\n"
     ]
    },
    {
     "name": "stderr",
     "output_type": "stream",
     "text": [
      "100%|██████████| 30/30 [00:01<00:00, 18.53it/s]\n",
      "100%|██████████| 30/30 [00:01<00:00, 22.55it/s]\n",
      "100%|██████████| 30/30 [00:01<00:00, 24.05it/s]\n",
      "100%|██████████| 30/30 [00:01<00:00, 24.00it/s]\n",
      " 10%|█         | 3/30 [00:00<00:01, 21.27it/s]"
     ]
    },
    {
     "name": "stdout",
     "output_type": "stream",
     "text": [
      "Epoch = 147, loss = 0.47931310414619677, top 1 = 0.0, top 5 = 0.001733333333333334, top 10 = 0.005733333333333337\n"
     ]
    },
    {
     "name": "stderr",
     "output_type": "stream",
     "text": [
      "100%|██████████| 30/30 [00:01<00:00, 17.61it/s]\n",
      "100%|██████████| 30/30 [00:01<00:00, 23.71it/s]\n",
      "100%|██████████| 30/30 [00:01<00:00, 25.96it/s]\n",
      "100%|██████████| 30/30 [00:01<00:00, 23.27it/s]\n",
      " 10%|█         | 3/30 [00:00<00:01, 20.42it/s]"
     ]
    },
    {
     "name": "stdout",
     "output_type": "stream",
     "text": [
      "Epoch = 148, loss = 0.47933394909216887, top 1 = 0.0, top 5 = 0.0013333333333333335, top 10 = 0.004133333333333335\n"
     ]
    },
    {
     "name": "stderr",
     "output_type": "stream",
     "text": [
      "100%|██████████| 30/30 [00:01<00:00, 17.51it/s]\n",
      "100%|██████████| 30/30 [00:01<00:00, 23.98it/s]\n",
      "100%|██████████| 30/30 [00:01<00:00, 23.28it/s]\n",
      "100%|██████████| 30/30 [00:01<00:00, 23.47it/s]\n",
      " 10%|█         | 3/30 [00:00<00:01, 21.12it/s]"
     ]
    },
    {
     "name": "stdout",
     "output_type": "stream",
     "text": [
      "Epoch = 149, loss = 0.48042377954265775, top 1 = 0.0, top 5 = 0.0025333333333333336, top 10 = 0.007333333333333338\n"
     ]
    },
    {
     "name": "stderr",
     "output_type": "stream",
     "text": [
      "100%|██████████| 30/30 [00:01<00:00, 18.55it/s]\n",
      "100%|██████████| 30/30 [00:01<00:00, 23.44it/s]\n",
      "100%|██████████| 30/30 [00:01<00:00, 23.78it/s]\n",
      "100%|██████████| 30/30 [00:01<00:00, 23.94it/s]\n",
      " 10%|█         | 3/30 [00:00<00:01, 21.18it/s]"
     ]
    },
    {
     "name": "stdout",
     "output_type": "stream",
     "text": [
      "Epoch = 150, loss = 0.4812827830942862, top 1 = 0.0, top 5 = 0.002133333333333334, top 10 = 0.006400000000000004\n"
     ]
    },
    {
     "name": "stderr",
     "output_type": "stream",
     "text": [
      "100%|██████████| 30/30 [00:01<00:00, 17.72it/s]\n",
      "100%|██████████| 30/30 [00:01<00:00, 23.75it/s]\n",
      "100%|██████████| 30/30 [00:01<00:00, 24.00it/s]\n",
      "100%|██████████| 30/30 [00:01<00:00, 25.84it/s]\n",
      "  0%|          | 0/30 [00:00<?, ?it/s]"
     ]
    },
    {
     "name": "stdout",
     "output_type": "stream",
     "text": [
      "Epoch = 151, loss = 0.4793862261432765, top 1 = 0.0, top 5 = 0.0024000000000000007, top 10 = 0.006600000000000004\n"
     ]
    },
    {
     "name": "stderr",
     "output_type": "stream",
     "text": [
      "100%|██████████| 30/30 [00:01<00:00, 17.45it/s]\n",
      "100%|██████████| 30/30 [00:01<00:00, 23.94it/s]\n",
      "100%|██████████| 30/30 [00:01<00:00, 23.74it/s]\n",
      "100%|██████████| 30/30 [00:01<00:00, 23.92it/s]\n",
      " 10%|█         | 3/30 [00:00<00:01, 20.58it/s]"
     ]
    },
    {
     "name": "stdout",
     "output_type": "stream",
     "text": [
      "Epoch = 152, loss = 0.48049269885720064, top 1 = 0.0, top 5 = 0.0014666666666666671, top 10 = 0.0035333333333333345\n"
     ]
    },
    {
     "name": "stderr",
     "output_type": "stream",
     "text": [
      "100%|██████████| 30/30 [00:01<00:00, 17.40it/s]\n",
      "100%|██████████| 30/30 [00:01<00:00, 25.74it/s]\n",
      "100%|██████████| 30/30 [00:01<00:00, 23.96it/s]\n",
      "100%|██████████| 30/30 [00:01<00:00, 24.01it/s]\n",
      " 10%|█         | 3/30 [00:00<00:01, 20.88it/s]"
     ]
    },
    {
     "name": "stdout",
     "output_type": "stream",
     "text": [
      "Epoch = 153, loss = 0.47988158733905106, top 1 = 0.0006666666666666666, top 5 = 0.0037333333333333346, top 10 = 0.008600000000000003\n",
      "save model to /home/ai2019/ne6081064/june/mlg/snrs_hw1/2021-03-13 11-52/weight.pth\n"
     ]
    },
    {
     "name": "stderr",
     "output_type": "stream",
     "text": [
      "100%|██████████| 30/30 [00:01<00:00, 17.64it/s]\n",
      "100%|██████████| 30/30 [00:01<00:00, 23.40it/s]\n",
      "100%|██████████| 30/30 [00:01<00:00, 23.74it/s]\n",
      "100%|██████████| 30/30 [00:01<00:00, 25.34it/s]\n",
      "  3%|▎         | 1/30 [00:00<00:04,  7.11it/s]"
     ]
    },
    {
     "name": "stdout",
     "output_type": "stream",
     "text": [
      "Epoch = 154, loss = 0.47960495738617837, top 1 = 0.0, top 5 = 0.0021333333333333334, top 10 = 0.005533333333333336\n"
     ]
    },
    {
     "name": "stderr",
     "output_type": "stream",
     "text": [
      "100%|██████████| 30/30 [00:01<00:00, 17.66it/s]\n",
      "100%|██████████| 30/30 [00:01<00:00, 23.93it/s]\n",
      "100%|██████████| 30/30 [00:01<00:00, 23.77it/s]\n",
      "100%|██████████| 30/30 [00:01<00:00, 23.47it/s]\n",
      " 10%|█         | 3/30 [00:00<00:01, 20.65it/s]"
     ]
    },
    {
     "name": "stdout",
     "output_type": "stream",
     "text": [
      "Epoch = 155, loss = 0.4817824111543799, top 1 = 0.0, top 5 = 0.0018666666666666669, top 10 = 0.0059333333333333365\n"
     ]
    },
    {
     "name": "stderr",
     "output_type": "stream",
     "text": [
      "100%|██████████| 30/30 [00:01<00:00, 17.57it/s]\n",
      "100%|██████████| 30/30 [00:01<00:00, 22.82it/s]\n",
      "100%|██████████| 30/30 [00:01<00:00, 25.42it/s]\n",
      "100%|██████████| 30/30 [00:01<00:00, 23.56it/s]\n",
      " 10%|█         | 3/30 [00:00<00:01, 20.62it/s]"
     ]
    },
    {
     "name": "stdout",
     "output_type": "stream",
     "text": [
      "Epoch = 156, loss = 0.4797703113637442, top 1 = 0.0, top 5 = 0.0014666666666666671, top 10 = 0.003933333333333335\n"
     ]
    },
    {
     "name": "stderr",
     "output_type": "stream",
     "text": [
      "100%|██████████| 30/30 [00:01<00:00, 17.60it/s]\n",
      "100%|██████████| 30/30 [00:01<00:00, 23.85it/s]\n",
      "100%|██████████| 30/30 [00:01<00:00, 23.94it/s]\n",
      "100%|██████████| 30/30 [00:01<00:00, 23.53it/s]\n",
      " 10%|█         | 3/30 [00:00<00:01, 20.52it/s]"
     ]
    },
    {
     "name": "stdout",
     "output_type": "stream",
     "text": [
      "Epoch = 157, loss = 0.48408836702007424, top 1 = 0.0, top 5 = 0.0029333333333333342, top 10 = 0.007533333333333338\n"
     ]
    },
    {
     "name": "stderr",
     "output_type": "stream",
     "text": [
      "100%|██████████| 30/30 [00:01<00:00, 18.53it/s]\n",
      "100%|██████████| 30/30 [00:01<00:00, 23.45it/s]\n",
      "100%|██████████| 30/30 [00:01<00:00, 23.69it/s]\n",
      "100%|██████████| 30/30 [00:01<00:00, 23.58it/s]\n",
      " 10%|█         | 3/30 [00:00<00:01, 20.70it/s]"
     ]
    },
    {
     "name": "stdout",
     "output_type": "stream",
     "text": [
      "Epoch = 158, loss = 0.48076437407755535, top 1 = 0.0, top 5 = 0.0013333333333333335, top 10 = 0.0038666666666666684\n"
     ]
    },
    {
     "name": "stderr",
     "output_type": "stream",
     "text": [
      "100%|██████████| 30/30 [00:01<00:00, 17.52it/s]\n",
      "100%|██████████| 30/30 [00:01<00:00, 23.76it/s]\n",
      "100%|██████████| 30/30 [00:01<00:00, 26.17it/s]\n",
      "100%|██████████| 30/30 [00:01<00:00, 23.87it/s]\n",
      " 10%|█         | 3/30 [00:00<00:01, 20.66it/s]"
     ]
    },
    {
     "name": "stdout",
     "output_type": "stream",
     "text": [
      "Epoch = 159, loss = 0.4841560303998774, top 1 = 0.0, top 5 = 0.0017333333333333335, top 10 = 0.0038000000000000017\n"
     ]
    },
    {
     "name": "stderr",
     "output_type": "stream",
     "text": [
      "100%|██████████| 30/30 [00:01<00:00, 17.54it/s]\n",
      "100%|██████████| 30/30 [00:01<00:00, 23.93it/s]\n",
      "100%|██████████| 30/30 [00:01<00:00, 22.88it/s]\n",
      "100%|██████████| 30/30 [00:01<00:00, 22.49it/s]\n",
      " 10%|█         | 3/30 [00:00<00:01, 21.02it/s]"
     ]
    },
    {
     "name": "stdout",
     "output_type": "stream",
     "text": [
      "Epoch = 160, loss = 0.481908969789473, top 1 = 0.0, top 5 = 0.0038666666666666684, top 10 = 0.009466666666666672\n",
      "save model to /home/ai2019/ne6081064/june/mlg/snrs_hw1/2021-03-13 11-52/weight.pth\n"
     ]
    },
    {
     "name": "stderr",
     "output_type": "stream",
     "text": [
      "100%|██████████| 30/30 [00:01<00:00, 18.64it/s]\n",
      "100%|██████████| 30/30 [00:01<00:00, 23.84it/s]\n",
      "100%|██████████| 30/30 [00:01<00:00, 23.83it/s]\n",
      "100%|██████████| 30/30 [00:01<00:00, 23.80it/s]\n",
      " 10%|█         | 3/30 [00:00<00:01, 20.42it/s]"
     ]
    },
    {
     "name": "stdout",
     "output_type": "stream",
     "text": [
      "Epoch = 161, loss = 0.4814302066211041, top 1 = 0.0, top 5 = 0.0021333333333333334, top 10 = 0.006000000000000004\n"
     ]
    },
    {
     "name": "stderr",
     "output_type": "stream",
     "text": [
      "100%|██████████| 30/30 [00:01<00:00, 17.60it/s]\n",
      "100%|██████████| 30/30 [00:01<00:00, 22.96it/s]\n",
      "100%|██████████| 30/30 [00:01<00:00, 25.66it/s]\n",
      "100%|██████████| 30/30 [00:01<00:00, 24.09it/s]\n",
      " 10%|█         | 3/30 [00:00<00:01, 21.18it/s]"
     ]
    },
    {
     "name": "stdout",
     "output_type": "stream",
     "text": [
      "Epoch = 162, loss = 0.4797009890984431, top 1 = 0.0, top 5 = 0.0022666666666666673, top 10 = 0.006000000000000004\n"
     ]
    },
    {
     "name": "stderr",
     "output_type": "stream",
     "text": [
      "100%|██████████| 30/30 [00:01<00:00, 17.49it/s]\n",
      "100%|██████████| 30/30 [00:01<00:00, 23.66it/s]\n",
      "100%|██████████| 30/30 [00:01<00:00, 24.14it/s]\n",
      "100%|██████████| 30/30 [00:01<00:00, 23.69it/s]\n",
      " 10%|█         | 3/30 [00:00<00:01, 20.39it/s]"
     ]
    },
    {
     "name": "stdout",
     "output_type": "stream",
     "text": [
      "Epoch = 163, loss = 0.48070545725042035, top 1 = 0.0006666666666666666, top 5 = 0.005200000000000002, top 10 = 0.010533333333333339\n",
      "save model to /home/ai2019/ne6081064/june/mlg/snrs_hw1/2021-03-13 11-52/weight.pth\n"
     ]
    },
    {
     "name": "stderr",
     "output_type": "stream",
     "text": [
      "100%|██████████| 30/30 [00:01<00:00, 18.69it/s]\n",
      "100%|██████████| 30/30 [00:01<00:00, 23.70it/s]\n",
      "100%|██████████| 30/30 [00:01<00:00, 23.55it/s]\n",
      "100%|██████████| 30/30 [00:01<00:00, 23.50it/s]\n",
      " 10%|█         | 3/30 [00:00<00:01, 21.13it/s]"
     ]
    },
    {
     "name": "stdout",
     "output_type": "stream",
     "text": [
      "Epoch = 164, loss = 0.4797351965619587, top 1 = 0.0, top 5 = 0.0024000000000000007, top 10 = 0.0066666666666666706\n"
     ]
    },
    {
     "name": "stderr",
     "output_type": "stream",
     "text": [
      "100%|██████████| 30/30 [00:01<00:00, 17.61it/s]\n",
      "100%|██████████| 30/30 [00:01<00:00, 22.41it/s]\n",
      "100%|██████████| 30/30 [00:01<00:00, 23.30it/s]\n",
      "100%|██████████| 30/30 [00:01<00:00, 24.82it/s]\n",
      "  0%|          | 0/30 [00:00<?, ?it/s]"
     ]
    },
    {
     "name": "stdout",
     "output_type": "stream",
     "text": [
      "Epoch = 165, loss = 0.48107717314753196, top 1 = 0.0006666666666666666, top 5 = 0.0038666666666666684, top 10 = 0.008933333333333338\n"
     ]
    },
    {
     "name": "stderr",
     "output_type": "stream",
     "text": [
      "100%|██████████| 30/30 [00:01<00:00, 17.59it/s]\n",
      "100%|██████████| 30/30 [00:01<00:00, 23.30it/s]\n",
      "100%|██████████| 30/30 [00:01<00:00, 23.71it/s]\n",
      "100%|██████████| 30/30 [00:01<00:00, 23.31it/s]\n",
      " 10%|█         | 3/30 [00:00<00:01, 20.69it/s]"
     ]
    },
    {
     "name": "stdout",
     "output_type": "stream",
     "text": [
      "Epoch = 166, loss = 0.4809960273806914, top 1 = 0.0, top 5 = 0.0024000000000000007, top 10 = 0.006533333333333337\n"
     ]
    },
    {
     "name": "stderr",
     "output_type": "stream",
     "text": [
      "100%|██████████| 30/30 [00:01<00:00, 17.60it/s]\n",
      "100%|██████████| 30/30 [00:01<00:00, 25.83it/s]\n",
      "100%|██████████| 30/30 [00:01<00:00, 23.40it/s]\n",
      "100%|██████████| 30/30 [00:01<00:00, 23.59it/s]\n",
      " 10%|█         | 3/30 [00:00<00:01, 20.93it/s]"
     ]
    },
    {
     "name": "stdout",
     "output_type": "stream",
     "text": [
      "Epoch = 167, loss = 0.4784652195142727, top 1 = 0.0006666666666666666, top 5 = 0.0037333333333333346, top 10 = 0.00826666666666667\n"
     ]
    },
    {
     "name": "stderr",
     "output_type": "stream",
     "text": [
      "100%|██████████| 30/30 [00:01<00:00, 17.61it/s]\n",
      "100%|██████████| 30/30 [00:01<00:00, 23.37it/s]\n",
      "100%|██████████| 30/30 [00:01<00:00, 23.84it/s]\n",
      "100%|██████████| 30/30 [00:01<00:00, 25.88it/s]\n",
      "  0%|          | 0/30 [00:00<?, ?it/s]"
     ]
    },
    {
     "name": "stdout",
     "output_type": "stream",
     "text": [
      "Epoch = 168, loss = 0.47959833842252847, top 1 = 0.0, top 5 = 0.002, top 10 = 0.004933333333333336\n"
     ]
    },
    {
     "name": "stderr",
     "output_type": "stream",
     "text": [
      "100%|██████████| 30/30 [00:01<00:00, 17.46it/s]\n",
      "100%|██████████| 30/30 [00:01<00:00, 23.49it/s]\n",
      "100%|██████████| 30/30 [00:01<00:00, 23.90it/s]\n",
      "100%|██████████| 30/30 [00:01<00:00, 23.93it/s]\n",
      " 10%|█         | 3/30 [00:00<00:01, 21.11it/s]"
     ]
    },
    {
     "name": "stdout",
     "output_type": "stream",
     "text": [
      "Epoch = 169, loss = 0.48117312094832837, top 1 = 0.0006666666666666666, top 5 = 0.005200000000000002, top 10 = 0.010466666666666673\n"
     ]
    },
    {
     "name": "stderr",
     "output_type": "stream",
     "text": [
      "100%|██████████| 30/30 [00:01<00:00, 17.49it/s]\n",
      "100%|██████████| 30/30 [00:01<00:00, 26.05it/s]\n",
      "100%|██████████| 30/30 [00:01<00:00, 23.71it/s]\n",
      "100%|██████████| 30/30 [00:01<00:00, 23.47it/s]\n",
      " 10%|█         | 3/30 [00:00<00:01, 21.39it/s]"
     ]
    },
    {
     "name": "stdout",
     "output_type": "stream",
     "text": [
      "Epoch = 170, loss = 0.47859736630678484, top 1 = 0.0, top 5 = 0.0025333333333333336, top 10 = 0.006933333333333337\n"
     ]
    },
    {
     "name": "stderr",
     "output_type": "stream",
     "text": [
      "100%|██████████| 30/30 [00:01<00:00, 17.60it/s]\n",
      "100%|██████████| 30/30 [00:01<00:00, 23.39it/s]\n",
      "100%|██████████| 30/30 [00:01<00:00, 23.87it/s]\n",
      "100%|██████████| 30/30 [00:01<00:00, 26.00it/s]\n",
      "  3%|▎         | 1/30 [00:00<00:04,  7.19it/s]"
     ]
    },
    {
     "name": "stdout",
     "output_type": "stream",
     "text": [
      "Epoch = 171, loss = 0.48008239499466954, top 1 = 0.0006666666666666666, top 5 = 0.0029333333333333342, top 10 = 0.007266666666666671\n"
     ]
    },
    {
     "name": "stderr",
     "output_type": "stream",
     "text": [
      "100%|██████████| 30/30 [00:01<00:00, 17.41it/s]\n",
      "100%|██████████| 30/30 [00:01<00:00, 23.91it/s]\n",
      "100%|██████████| 30/30 [00:01<00:00, 23.64it/s]\n",
      "100%|██████████| 30/30 [00:01<00:00, 23.26it/s]\n",
      " 10%|█         | 3/30 [00:00<00:01, 20.51it/s]"
     ]
    },
    {
     "name": "stdout",
     "output_type": "stream",
     "text": [
      "Epoch = 172, loss = 0.48024075305253505, top 1 = 0.0006666666666666666, top 5 = 0.0033333333333333344, top 10 = 0.007866666666666671\n"
     ]
    },
    {
     "name": "stderr",
     "output_type": "stream",
     "text": [
      "100%|██████████| 30/30 [00:01<00:00, 16.66it/s]\n",
      "100%|██████████| 30/30 [00:01<00:00, 23.79it/s]\n",
      "100%|██████████| 30/30 [00:01<00:00, 25.83it/s]\n",
      "100%|██████████| 30/30 [00:01<00:00, 23.50it/s]\n",
      " 10%|█         | 3/30 [00:00<00:01, 20.55it/s]"
     ]
    },
    {
     "name": "stdout",
     "output_type": "stream",
     "text": [
      "Epoch = 173, loss = 0.4797791644394846, top 1 = 0.0006666666666666666, top 5 = 0.0037333333333333346, top 10 = 0.008200000000000004\n"
     ]
    },
    {
     "name": "stderr",
     "output_type": "stream",
     "text": [
      "100%|██████████| 30/30 [00:01<00:00, 17.35it/s]\n",
      "100%|██████████| 30/30 [00:01<00:00, 23.41it/s]\n",
      "100%|██████████| 30/30 [00:01<00:00, 23.65it/s]\n",
      "100%|██████████| 30/30 [00:01<00:00, 23.16it/s]\n",
      " 10%|█         | 3/30 [00:00<00:01, 20.80it/s]"
     ]
    },
    {
     "name": "stdout",
     "output_type": "stream",
     "text": [
      "Epoch = 174, loss = 0.478756285390649, top 1 = 0.0, top 5 = 0.002133333333333334, top 10 = 0.006466666666666671\n"
     ]
    },
    {
     "name": "stderr",
     "output_type": "stream",
     "text": [
      "100%|██████████| 30/30 [00:01<00:00, 18.55it/s]\n",
      "100%|██████████| 30/30 [00:01<00:00, 23.44it/s]\n",
      "100%|██████████| 30/30 [00:01<00:00, 23.52it/s]\n",
      "100%|██████████| 30/30 [00:01<00:00, 23.53it/s]\n",
      " 10%|█         | 3/30 [00:00<00:01, 20.90it/s]"
     ]
    },
    {
     "name": "stdout",
     "output_type": "stream",
     "text": [
      "Epoch = 175, loss = 0.4795859735012839, top 1 = 0.0006666666666666666, top 5 = 0.004000000000000002, top 10 = 0.008733333333333338\n"
     ]
    },
    {
     "name": "stderr",
     "output_type": "stream",
     "text": [
      "100%|██████████| 30/30 [00:01<00:00, 17.67it/s]\n",
      "100%|██████████| 30/30 [00:01<00:00, 23.94it/s]\n",
      "100%|██████████| 30/30 [00:01<00:00, 26.10it/s]\n",
      "100%|██████████| 30/30 [00:01<00:00, 24.07it/s]\n",
      " 10%|█         | 3/30 [00:00<00:01, 20.73it/s]"
     ]
    },
    {
     "name": "stdout",
     "output_type": "stream",
     "text": [
      "Epoch = 176, loss = 0.4786270245995297, top 1 = 0.0, top 5 = 0.002266666666666667, top 10 = 0.005866666666666669\n"
     ]
    },
    {
     "name": "stderr",
     "output_type": "stream",
     "text": [
      "100%|██████████| 30/30 [00:01<00:00, 17.32it/s]\n",
      "100%|██████████| 30/30 [00:01<00:00, 23.93it/s]\n",
      "100%|██████████| 30/30 [00:01<00:00, 23.62it/s]\n",
      "100%|██████████| 30/30 [00:01<00:00, 23.49it/s]\n",
      " 10%|█         | 3/30 [00:00<00:01, 21.19it/s]"
     ]
    },
    {
     "name": "stdout",
     "output_type": "stream",
     "text": [
      "Epoch = 177, loss = 0.47982423367781857, top 1 = 0.0006666666666666666, top 5 = 0.0037333333333333346, top 10 = 0.008400000000000003\n"
     ]
    },
    {
     "name": "stderr",
     "output_type": "stream",
     "text": [
      "100%|██████████| 30/30 [00:01<00:00, 18.55it/s]\n",
      "100%|██████████| 30/30 [00:01<00:00, 23.76it/s]\n",
      "100%|██████████| 30/30 [00:01<00:00, 24.05it/s]\n",
      "100%|██████████| 30/30 [00:01<00:00, 23.22it/s]\n",
      " 10%|█         | 3/30 [00:00<00:01, 20.50it/s]"
     ]
    },
    {
     "name": "stdout",
     "output_type": "stream",
     "text": [
      "Epoch = 178, loss = 0.4783298155758363, top 1 = 0.0006666666666666666, top 5 = 0.0024000000000000002, top 10 = 0.0066666666666666706\n"
     ]
    },
    {
     "name": "stderr",
     "output_type": "stream",
     "text": [
      "100%|██████████| 30/30 [00:01<00:00, 17.45it/s]\n",
      "100%|██████████| 30/30 [00:01<00:00, 23.99it/s]\n",
      "100%|██████████| 30/30 [00:01<00:00, 26.17it/s]\n",
      "100%|██████████| 30/30 [00:01<00:00, 24.02it/s]\n",
      " 10%|█         | 3/30 [00:00<00:01, 20.57it/s]"
     ]
    },
    {
     "name": "stdout",
     "output_type": "stream",
     "text": [
      "Epoch = 179, loss = 0.4791103669160587, top 1 = 0.0006666666666666666, top 5 = 0.004266666666666669, top 10 = 0.009666666666666672\n"
     ]
    },
    {
     "name": "stderr",
     "output_type": "stream",
     "text": [
      "100%|██████████| 30/30 [00:01<00:00, 17.51it/s]\n",
      "100%|██████████| 30/30 [00:01<00:00, 23.82it/s]\n",
      "100%|██████████| 30/30 [00:01<00:00, 24.08it/s]\n",
      "100%|██████████| 30/30 [00:01<00:00, 24.06it/s]\n",
      " 10%|█         | 3/30 [00:00<00:01, 21.03it/s]"
     ]
    },
    {
     "name": "stdout",
     "output_type": "stream",
     "text": [
      "Epoch = 180, loss = 0.4792159462322282, top 1 = 0.0, top 5 = 0.0018666666666666666, top 10 = 0.004533333333333335\n"
     ]
    },
    {
     "name": "stderr",
     "output_type": "stream",
     "text": [
      "100%|██████████| 30/30 [00:01<00:00, 18.50it/s]\n",
      "100%|██████████| 30/30 [00:01<00:00, 24.17it/s]\n",
      "100%|██████████| 30/30 [00:01<00:00, 23.88it/s]\n",
      "100%|██████████| 30/30 [00:01<00:00, 23.78it/s]\n",
      " 10%|█         | 3/30 [00:00<00:01, 20.79it/s]"
     ]
    },
    {
     "name": "stdout",
     "output_type": "stream",
     "text": [
      "Epoch = 181, loss = 0.4805112749640185, top 1 = 0.0013333333333333333, top 5 = 0.006000000000000003, top 10 = 0.011266666666666673\n",
      "save model to /home/ai2019/ne6081064/june/mlg/snrs_hw1/2021-03-13 11-52/weight.pth\n"
     ]
    },
    {
     "name": "stderr",
     "output_type": "stream",
     "text": [
      "100%|██████████| 30/30 [00:01<00:00, 17.54it/s]\n",
      "100%|██████████| 30/30 [00:01<00:00, 23.90it/s]\n",
      "100%|██████████| 30/30 [00:01<00:00, 23.78it/s]\n",
      "100%|██████████| 30/30 [00:01<00:00, 25.64it/s]\n",
      "  0%|          | 0/30 [00:00<?, ?it/s]"
     ]
    },
    {
     "name": "stdout",
     "output_type": "stream",
     "text": [
      "Epoch = 182, loss = 0.4796530440389555, top 1 = 0.0, top 5 = 0.002, top 10 = 0.004266666666666669\n"
     ]
    },
    {
     "name": "stderr",
     "output_type": "stream",
     "text": [
      "100%|██████████| 30/30 [00:01<00:00, 17.57it/s]\n",
      "100%|██████████| 30/30 [00:01<00:00, 23.81it/s]\n",
      "100%|██████████| 30/30 [00:01<00:00, 23.54it/s]\n",
      "100%|██████████| 30/30 [00:01<00:00, 23.06it/s]\n",
      " 10%|█         | 3/30 [00:00<00:01, 20.75it/s]"
     ]
    },
    {
     "name": "stdout",
     "output_type": "stream",
     "text": [
      "Epoch = 183, loss = 0.4814167822063868, top 1 = 0.0006666666666666666, top 5 = 0.004000000000000002, top 10 = 0.008733333333333338\n"
     ]
    },
    {
     "name": "stderr",
     "output_type": "stream",
     "text": [
      "100%|██████████| 30/30 [00:01<00:00, 17.64it/s]\n",
      "100%|██████████| 30/30 [00:01<00:00, 25.42it/s]\n",
      "100%|██████████| 30/30 [00:01<00:00, 23.49it/s]\n",
      "100%|██████████| 30/30 [00:01<00:00, 23.40it/s]\n",
      " 10%|█         | 3/30 [00:00<00:01, 20.63it/s]"
     ]
    },
    {
     "name": "stdout",
     "output_type": "stream",
     "text": [
      "Epoch = 184, loss = 0.47937214588994503, top 1 = 0.0, top 5 = 0.0014666666666666671, top 10 = 0.005533333333333336\n"
     ]
    },
    {
     "name": "stderr",
     "output_type": "stream",
     "text": [
      "100%|██████████| 30/30 [00:01<00:00, 17.59it/s]\n",
      "100%|██████████| 30/30 [00:01<00:00, 24.04it/s]\n",
      "100%|██████████| 30/30 [00:01<00:00, 24.16it/s]\n",
      "100%|██████████| 30/30 [00:01<00:00, 25.95it/s]\n",
      "  3%|▎         | 1/30 [00:00<00:04,  7.20it/s]"
     ]
    },
    {
     "name": "stdout",
     "output_type": "stream",
     "text": [
      "Epoch = 185, loss = 0.48267283863717164, top 1 = 0.0006666666666666666, top 5 = 0.003600000000000001, top 10 = 0.00886666666666667\n"
     ]
    },
    {
     "name": "stderr",
     "output_type": "stream",
     "text": [
      "100%|██████████| 30/30 [00:01<00:00, 17.49it/s]\n",
      "100%|██████████| 30/30 [00:01<00:00, 23.81it/s]\n",
      "100%|██████████| 30/30 [00:01<00:00, 23.57it/s]\n",
      "100%|██████████| 30/30 [00:01<00:00, 23.52it/s]\n",
      " 10%|█         | 3/30 [00:00<00:01, 20.85it/s]"
     ]
    },
    {
     "name": "stdout",
     "output_type": "stream",
     "text": [
      "Epoch = 186, loss = 0.4787029652826773, top 1 = 0.0006666666666666666, top 5 = 0.0024000000000000007, top 10 = 0.0070000000000000045\n"
     ]
    },
    {
     "name": "stderr",
     "output_type": "stream",
     "text": [
      "100%|██████████| 30/30 [00:01<00:00, 17.55it/s]\n",
      "100%|██████████| 30/30 [00:01<00:00, 23.48it/s]\n",
      "100%|██████████| 30/30 [00:01<00:00, 26.16it/s]\n",
      "100%|██████████| 30/30 [00:01<00:00, 23.83it/s]\n",
      " 10%|█         | 3/30 [00:00<00:01, 21.00it/s]"
     ]
    },
    {
     "name": "stdout",
     "output_type": "stream",
     "text": [
      "Epoch = 187, loss = 0.48157276360755075, top 1 = 0.0006666666666666666, top 5 = 0.004000000000000002, top 10 = 0.009200000000000003\n"
     ]
    },
    {
     "name": "stderr",
     "output_type": "stream",
     "text": [
      "100%|██████████| 30/30 [00:01<00:00, 17.64it/s]\n",
      "100%|██████████| 30/30 [00:01<00:00, 23.56it/s]\n",
      "100%|██████████| 30/30 [00:01<00:00, 23.55it/s]\n",
      "100%|██████████| 30/30 [00:01<00:00, 24.03it/s]\n",
      " 10%|█         | 3/30 [00:00<00:01, 21.45it/s]"
     ]
    },
    {
     "name": "stdout",
     "output_type": "stream",
     "text": [
      "Epoch = 188, loss = 0.4784345075552427, top 1 = 0.0006666666666666666, top 5 = 0.002666666666666667, top 10 = 0.007466666666666671\n"
     ]
    },
    {
     "name": "stderr",
     "output_type": "stream",
     "text": [
      "100%|██████████| 30/30 [00:01<00:00, 18.63it/s]\n",
      "100%|██████████| 30/30 [00:01<00:00, 23.85it/s]\n",
      "100%|██████████| 30/30 [00:01<00:00, 23.48it/s]\n",
      "100%|██████████| 30/30 [00:01<00:00, 23.58it/s]\n",
      " 10%|█         | 3/30 [00:00<00:01, 20.41it/s]"
     ]
    },
    {
     "name": "stdout",
     "output_type": "stream",
     "text": [
      "Epoch = 189, loss = 0.47965664616642206, top 1 = 0.0006666666666666666, top 5 = 0.005466666666666669, top 10 = 0.010600000000000005\n"
     ]
    },
    {
     "name": "stderr",
     "output_type": "stream",
     "text": [
      "100%|██████████| 30/30 [00:01<00:00, 17.70it/s]\n",
      "100%|██████████| 30/30 [00:01<00:00, 23.66it/s]\n",
      "100%|██████████| 30/30 [00:01<00:00, 26.06it/s]\n",
      "100%|██████████| 30/30 [00:01<00:00, 23.65it/s]\n",
      " 10%|█         | 3/30 [00:00<00:01, 20.93it/s]"
     ]
    },
    {
     "name": "stdout",
     "output_type": "stream",
     "text": [
      "Epoch = 190, loss = 0.4792170643961193, top 1 = 0.0006666666666666666, top 5 = 0.0022666666666666673, top 10 = 0.006200000000000003\n"
     ]
    },
    {
     "name": "stderr",
     "output_type": "stream",
     "text": [
      "100%|██████████| 30/30 [00:01<00:00, 17.62it/s]\n",
      "100%|██████████| 30/30 [00:01<00:00, 23.70it/s]\n",
      "100%|██████████| 30/30 [00:01<00:00, 24.03it/s]\n",
      "100%|██████████| 30/30 [00:01<00:00, 23.69it/s]\n",
      " 10%|█         | 3/30 [00:00<00:01, 21.25it/s]"
     ]
    },
    {
     "name": "stdout",
     "output_type": "stream",
     "text": [
      "Epoch = 191, loss = 0.4798970859155019, top 1 = 0.0013333333333333333, top 5 = 0.006000000000000003, top 10 = 0.011466666666666674\n",
      "save model to /home/ai2019/ne6081064/june/mlg/snrs_hw1/2021-03-13 11-52/weight.pth\n"
     ]
    },
    {
     "name": "stderr",
     "output_type": "stream",
     "text": [
      "100%|██████████| 30/30 [00:01<00:00, 18.63it/s]\n",
      "100%|██████████| 30/30 [00:01<00:00, 23.61it/s]\n",
      "100%|██████████| 30/30 [00:01<00:00, 23.72it/s]\n",
      "100%|██████████| 30/30 [00:01<00:00, 24.04it/s]\n",
      " 10%|█         | 3/30 [00:00<00:01, 20.87it/s]"
     ]
    },
    {
     "name": "stdout",
     "output_type": "stream",
     "text": [
      "Epoch = 192, loss = 0.47863343743915837, top 1 = 0.0006666666666666666, top 5 = 0.002800000000000001, top 10 = 0.007466666666666671\n"
     ]
    },
    {
     "name": "stderr",
     "output_type": "stream",
     "text": [
      "100%|██████████| 30/30 [00:01<00:00, 17.63it/s]\n",
      "100%|██████████| 30/30 [00:01<00:00, 23.91it/s]\n",
      "100%|██████████| 30/30 [00:01<00:00, 26.08it/s]\n",
      "100%|██████████| 30/30 [00:01<00:00, 23.80it/s]\n",
      " 10%|█         | 3/30 [00:00<00:01, 20.95it/s]"
     ]
    },
    {
     "name": "stdout",
     "output_type": "stream",
     "text": [
      "Epoch = 193, loss = 0.47887263639880806, top 1 = 0.0006666666666666666, top 5 = 0.003200000000000001, top 10 = 0.007733333333333338\n"
     ]
    },
    {
     "name": "stderr",
     "output_type": "stream",
     "text": [
      "100%|██████████| 30/30 [00:01<00:00, 17.57it/s]\n",
      "100%|██████████| 30/30 [00:01<00:00, 23.45it/s]\n",
      "100%|██████████| 30/30 [00:01<00:00, 23.59it/s]\n",
      "100%|██████████| 30/30 [00:01<00:00, 23.47it/s]\n",
      " 10%|█         | 3/30 [00:00<00:01, 21.01it/s]"
     ]
    },
    {
     "name": "stdout",
     "output_type": "stream",
     "text": [
      "Epoch = 194, loss = 0.47885404435998896, top 1 = 0.0006666666666666666, top 5 = 0.0022666666666666673, top 10 = 0.006000000000000004\n"
     ]
    },
    {
     "name": "stderr",
     "output_type": "stream",
     "text": [
      "100%|██████████| 30/30 [00:01<00:00, 18.66it/s]\n",
      "100%|██████████| 30/30 [00:01<00:00, 22.88it/s]\n",
      "100%|██████████| 30/30 [00:01<00:00, 23.46it/s]\n",
      "100%|██████████| 30/30 [00:01<00:00, 23.54it/s]\n",
      " 10%|█         | 3/30 [00:00<00:01, 20.89it/s]"
     ]
    },
    {
     "name": "stdout",
     "output_type": "stream",
     "text": [
      "Epoch = 195, loss = 0.4795977747061778, top 1 = 0.0006666666666666666, top 5 = 0.0049333333333333364, top 10 = 0.010133333333333338\n"
     ]
    },
    {
     "name": "stderr",
     "output_type": "stream",
     "text": [
      "100%|██████████| 30/30 [00:01<00:00, 17.69it/s]\n",
      "100%|██████████| 30/30 [00:01<00:00, 23.23it/s]\n",
      "100%|██████████| 30/30 [00:01<00:00, 23.72it/s]\n",
      "100%|██████████| 30/30 [00:01<00:00, 26.02it/s]\n",
      "  0%|          | 0/30 [00:00<?, ?it/s]"
     ]
    },
    {
     "name": "stdout",
     "output_type": "stream",
     "text": [
      "Epoch = 196, loss = 0.47858145102066024, top 1 = 0.0006666666666666666, top 5 = 0.0037333333333333346, top 10 = 0.007733333333333338\n"
     ]
    },
    {
     "name": "stderr",
     "output_type": "stream",
     "text": [
      "100%|██████████| 30/30 [00:01<00:00, 17.38it/s]\n",
      "100%|██████████| 30/30 [00:01<00:00, 23.98it/s]\n",
      "100%|██████████| 30/30 [00:01<00:00, 23.55it/s]\n",
      "100%|██████████| 30/30 [00:01<00:00, 23.78it/s]\n",
      " 10%|█         | 3/30 [00:00<00:01, 21.05it/s]"
     ]
    },
    {
     "name": "stdout",
     "output_type": "stream",
     "text": [
      "Epoch = 197, loss = 0.47974936022734094, top 1 = 0.0006666666666666666, top 5 = 0.0037333333333333346, top 10 = 0.009000000000000005\n"
     ]
    },
    {
     "name": "stderr",
     "output_type": "stream",
     "text": [
      "100%|██████████| 30/30 [00:01<00:00, 17.44it/s]\n",
      "100%|██████████| 30/30 [00:01<00:00, 26.07it/s]\n",
      "100%|██████████| 30/30 [00:01<00:00, 23.94it/s]\n",
      "100%|██████████| 30/30 [00:01<00:00, 23.50it/s]\n",
      " 10%|█         | 3/30 [00:00<00:01, 20.39it/s]"
     ]
    },
    {
     "name": "stdout",
     "output_type": "stream",
     "text": [
      "Epoch = 198, loss = 0.47920205158440493, top 1 = 0.0006666666666666666, top 5 = 0.002666666666666667, top 10 = 0.007066666666666671\n"
     ]
    },
    {
     "name": "stderr",
     "output_type": "stream",
     "text": [
      "100%|██████████| 30/30 [00:01<00:00, 17.59it/s]\n",
      "100%|██████████| 30/30 [00:01<00:00, 23.63it/s]\n",
      "100%|██████████| 30/30 [00:01<00:00, 23.50it/s]\n",
      "100%|██████████| 30/30 [00:01<00:00, 26.16it/s]\n",
      "  7%|▋         | 2/30 [00:00<00:02, 10.96it/s]"
     ]
    },
    {
     "name": "stdout",
     "output_type": "stream",
     "text": [
      "Epoch = 199, loss = 0.48047249498687933, top 1 = 0.0013333333333333333, top 5 = 0.005333333333333337, top 10 = 0.010600000000000005\n"
     ]
    },
    {
     "name": "stderr",
     "output_type": "stream",
     "text": [
      "100%|██████████| 30/30 [00:01<00:00, 17.59it/s]\n",
      "100%|██████████| 30/30 [00:01<00:00, 22.90it/s]\n",
      "100%|██████████| 30/30 [00:01<00:00, 23.59it/s]\n",
      "100%|██████████| 30/30 [00:01<00:00, 23.28it/s]\n",
      " 10%|█         | 3/30 [00:00<00:01, 21.03it/s]"
     ]
    },
    {
     "name": "stdout",
     "output_type": "stream",
     "text": [
      "Epoch = 200, loss = 0.4789292196731642, top 1 = 0.0006666666666666666, top 5 = 0.0037333333333333346, top 10 = 0.007933333333333339\n"
     ]
    },
    {
     "name": "stderr",
     "output_type": "stream",
     "text": [
      "100%|██████████| 30/30 [00:01<00:00, 17.46it/s]\n",
      "100%|██████████| 30/30 [00:01<00:00, 25.78it/s]\n",
      "100%|██████████| 30/30 [00:01<00:00, 24.04it/s]\n",
      "100%|██████████| 30/30 [00:01<00:00, 24.04it/s]\n",
      " 10%|█         | 3/30 [00:00<00:01, 20.90it/s]"
     ]
    },
    {
     "name": "stdout",
     "output_type": "stream",
     "text": [
      "Epoch = 201, loss = 0.48093266195753576, top 1 = 0.0006666666666666666, top 5 = 0.005733333333333336, top 10 = 0.011066666666666673\n"
     ]
    },
    {
     "name": "stderr",
     "output_type": "stream",
     "text": [
      "100%|██████████| 30/30 [00:01<00:00, 17.61it/s]\n",
      "100%|██████████| 30/30 [00:01<00:00, 23.76it/s]\n",
      "100%|██████████| 30/30 [00:01<00:00, 23.51it/s]\n",
      "100%|██████████| 30/30 [00:01<00:00, 25.86it/s]\n",
      "  3%|▎         | 1/30 [00:00<00:04,  7.10it/s]"
     ]
    },
    {
     "name": "stdout",
     "output_type": "stream",
     "text": [
      "Epoch = 202, loss = 0.47955321922674127, top 1 = 0.0006666666666666666, top 5 = 0.003200000000000001, top 10 = 0.007533333333333338\n"
     ]
    },
    {
     "name": "stderr",
     "output_type": "stream",
     "text": [
      "100%|██████████| 30/30 [00:01<00:00, 17.48it/s]\n",
      "100%|██████████| 30/30 [00:01<00:00, 23.89it/s]\n",
      "100%|██████████| 30/30 [00:01<00:00, 23.60it/s]\n",
      "100%|██████████| 30/30 [00:01<00:00, 23.97it/s]\n",
      " 10%|█         | 3/30 [00:00<00:01, 21.04it/s]"
     ]
    },
    {
     "name": "stdout",
     "output_type": "stream",
     "text": [
      "Epoch = 203, loss = 0.48065244894882053, top 1 = 0.0006666666666666666, top 5 = 0.004800000000000003, top 10 = 0.010133333333333338\n"
     ]
    },
    {
     "name": "stderr",
     "output_type": "stream",
     "text": [
      "100%|██████████| 30/30 [00:01<00:00, 17.50it/s]\n",
      "100%|██████████| 30/30 [00:01<00:00, 23.47it/s]\n",
      "100%|██████████| 30/30 [00:01<00:00, 25.56it/s]\n",
      "100%|██████████| 30/30 [00:01<00:00, 23.61it/s]\n",
      " 10%|█         | 3/30 [00:00<00:01, 20.40it/s]"
     ]
    },
    {
     "name": "stdout",
     "output_type": "stream",
     "text": [
      "Epoch = 204, loss = 0.47871687150835013, top 1 = 0.0006666666666666666, top 5 = 0.004666666666666669, top 10 = 0.00993333333333334\n"
     ]
    },
    {
     "name": "stderr",
     "output_type": "stream",
     "text": [
      "100%|██████████| 30/30 [00:01<00:00, 17.56it/s]\n",
      "100%|██████████| 30/30 [00:01<00:00, 23.42it/s]\n",
      "100%|██████████| 30/30 [00:01<00:00, 23.47it/s]\n",
      "100%|██████████| 30/30 [00:01<00:00, 23.99it/s]\n",
      " 10%|█         | 3/30 [00:00<00:01, 21.04it/s]"
     ]
    },
    {
     "name": "stdout",
     "output_type": "stream",
     "text": [
      "Epoch = 205, loss = 0.48034528071770927, top 1 = 0.0006666666666666666, top 5 = 0.004000000000000002, top 10 = 0.00886666666666667\n"
     ]
    },
    {
     "name": "stderr",
     "output_type": "stream",
     "text": [
      "100%|██████████| 30/30 [00:01<00:00, 18.54it/s]\n",
      "100%|██████████| 30/30 [00:01<00:00, 23.32it/s]\n",
      "100%|██████████| 30/30 [00:01<00:00, 23.48it/s]\n",
      "100%|██████████| 30/30 [00:01<00:00, 23.41it/s]\n",
      " 10%|█         | 3/30 [00:00<00:01, 20.67it/s]"
     ]
    },
    {
     "name": "stdout",
     "output_type": "stream",
     "text": [
      "Epoch = 206, loss = 0.47872823055592073, top 1 = 0.0006666666666666666, top 5 = 0.0022666666666666673, top 10 = 0.00626666666666667\n"
     ]
    },
    {
     "name": "stderr",
     "output_type": "stream",
     "text": [
      "100%|██████████| 30/30 [00:01<00:00, 17.50it/s]\n",
      "100%|██████████| 30/30 [00:01<00:00, 23.65it/s]\n",
      "100%|██████████| 30/30 [00:01<00:00, 26.16it/s]\n",
      "100%|██████████| 30/30 [00:01<00:00, 24.01it/s]\n",
      " 10%|█         | 3/30 [00:00<00:01, 21.10it/s]"
     ]
    },
    {
     "name": "stdout",
     "output_type": "stream",
     "text": [
      "Epoch = 207, loss = 0.4804186565753562, top 1 = 0.0013333333333333333, top 5 = 0.006266666666666669, top 10 = 0.011466666666666674\n"
     ]
    },
    {
     "name": "stderr",
     "output_type": "stream",
     "text": [
      "100%|██████████| 30/30 [00:01<00:00, 17.53it/s]\n",
      "100%|██████████| 30/30 [00:01<00:00, 23.32it/s]\n",
      "100%|██████████| 30/30 [00:01<00:00, 23.54it/s]\n",
      "100%|██████████| 30/30 [00:01<00:00, 24.01it/s]\n",
      " 10%|█         | 3/30 [00:00<00:01, 21.55it/s]"
     ]
    },
    {
     "name": "stdout",
     "output_type": "stream",
     "text": [
      "Epoch = 208, loss = 0.4782406560920028, top 1 = 0.0006666666666666666, top 5 = 0.0038666666666666684, top 10 = 0.008466666666666671\n"
     ]
    },
    {
     "name": "stderr",
     "output_type": "stream",
     "text": [
      "100%|██████████| 30/30 [00:01<00:00, 18.53it/s]\n",
      "100%|██████████| 30/30 [00:01<00:00, 23.42it/s]\n",
      "100%|██████████| 30/30 [00:01<00:00, 23.75it/s]\n",
      "100%|██████████| 30/30 [00:01<00:00, 23.47it/s]\n",
      " 10%|█         | 3/30 [00:00<00:01, 20.64it/s]"
     ]
    },
    {
     "name": "stdout",
     "output_type": "stream",
     "text": [
      "Epoch = 209, loss = 0.47937472651664953, top 1 = 0.0006666666666666666, top 5 = 0.003200000000000001, top 10 = 0.00826666666666667\n"
     ]
    },
    {
     "name": "stderr",
     "output_type": "stream",
     "text": [
      "100%|██████████| 30/30 [00:01<00:00, 17.56it/s]\n",
      "100%|██████████| 30/30 [00:01<00:00, 23.21it/s]\n",
      "100%|██████████| 30/30 [00:01<00:00, 25.59it/s]\n",
      "100%|██████████| 30/30 [00:01<00:00, 23.49it/s]\n",
      " 10%|█         | 3/30 [00:00<00:01, 20.77it/s]"
     ]
    },
    {
     "name": "stdout",
     "output_type": "stream",
     "text": [
      "Epoch = 210, loss = 0.4792879029057048, top 1 = 0.0006666666666666666, top 5 = 0.0024000000000000002, top 10 = 0.0066666666666666706\n"
     ]
    },
    {
     "name": "stderr",
     "output_type": "stream",
     "text": [
      "100%|██████████| 30/30 [00:01<00:00, 17.71it/s]\n",
      "100%|██████████| 30/30 [00:01<00:00, 23.36it/s]\n",
      "100%|██████████| 30/30 [00:01<00:00, 23.08it/s]\n",
      "100%|██████████| 30/30 [00:01<00:00, 23.48it/s]\n",
      " 10%|█         | 3/30 [00:00<00:01, 20.60it/s]"
     ]
    },
    {
     "name": "stdout",
     "output_type": "stream",
     "text": [
      "Epoch = 211, loss = 0.4804680499465695, top 1 = 0.0013333333333333333, top 5 = 0.007333333333333336, top 10 = 0.011600000000000006\n",
      "save model to /home/ai2019/ne6081064/june/mlg/snrs_hw1/2021-03-13 11-52/weight.pth\n"
     ]
    },
    {
     "name": "stderr",
     "output_type": "stream",
     "text": [
      "100%|██████████| 30/30 [00:01<00:00, 18.41it/s]\n",
      "100%|██████████| 30/30 [00:01<00:00, 24.15it/s]\n",
      "100%|██████████| 30/30 [00:01<00:00, 22.42it/s]\n",
      "100%|██████████| 30/30 [00:01<00:00, 23.28it/s]\n",
      " 10%|█         | 3/30 [00:00<00:01, 20.34it/s]"
     ]
    },
    {
     "name": "stdout",
     "output_type": "stream",
     "text": [
      "Epoch = 212, loss = 0.4790959026168572, top 1 = 0.0006666666666666666, top 5 = 0.0038666666666666684, top 10 = 0.008600000000000003\n"
     ]
    },
    {
     "name": "stderr",
     "output_type": "stream",
     "text": [
      "100%|██████████| 30/30 [00:01<00:00, 17.40it/s]\n",
      "100%|██████████| 30/30 [00:01<00:00, 23.81it/s]\n",
      "100%|██████████| 30/30 [00:01<00:00, 23.68it/s]\n",
      "100%|██████████| 30/30 [00:01<00:00, 25.42it/s]\n",
      "  0%|          | 0/30 [00:00<?, ?it/s]"
     ]
    },
    {
     "name": "stdout",
     "output_type": "stream",
     "text": [
      "Epoch = 213, loss = 0.48068757624790737, top 1 = 0.0006666666666666666, top 5 = 0.0029333333333333342, top 10 = 0.007800000000000004\n"
     ]
    },
    {
     "name": "stderr",
     "output_type": "stream",
     "text": [
      "100%|██████████| 30/30 [00:01<00:00, 17.36it/s]\n",
      "100%|██████████| 30/30 [00:01<00:00, 22.82it/s]\n",
      "100%|██████████| 30/30 [00:01<00:00, 23.11it/s]\n",
      "100%|██████████| 30/30 [00:01<00:00, 23.29it/s]\n",
      " 10%|█         | 3/30 [00:00<00:01, 20.53it/s]"
     ]
    },
    {
     "name": "stdout",
     "output_type": "stream",
     "text": [
      "Epoch = 214, loss = 0.4787654867440076, top 1 = 0.0006666666666666666, top 5 = 0.0029333333333333342, top 10 = 0.007533333333333337\n"
     ]
    },
    {
     "name": "stderr",
     "output_type": "stream",
     "text": [
      "100%|██████████| 30/30 [00:01<00:00, 17.50it/s]\n",
      "100%|██████████| 30/30 [00:01<00:00, 25.84it/s]\n",
      "100%|██████████| 30/30 [00:01<00:00, 23.66it/s]\n",
      "100%|██████████| 30/30 [00:01<00:00, 24.00it/s]\n",
      " 10%|█         | 3/30 [00:00<00:01, 20.70it/s]"
     ]
    },
    {
     "name": "stdout",
     "output_type": "stream",
     "text": [
      "Epoch = 215, loss = 0.4811165935071787, top 1 = 0.0006666666666666666, top 5 = 0.00546666666666667, top 10 = 0.009866666666666671\n"
     ]
    },
    {
     "name": "stderr",
     "output_type": "stream",
     "text": [
      "100%|██████████| 30/30 [00:01<00:00, 17.29it/s]\n",
      "100%|██████████| 30/30 [00:01<00:00, 23.60it/s]\n",
      "100%|██████████| 30/30 [00:01<00:00, 24.01it/s]\n",
      "100%|██████████| 30/30 [00:01<00:00, 25.68it/s]\n",
      "  3%|▎         | 1/30 [00:00<00:04,  7.08it/s]"
     ]
    },
    {
     "name": "stdout",
     "output_type": "stream",
     "text": [
      "Epoch = 216, loss = 0.4803740511353711, top 1 = 0.0013333333333333333, top 5 = 0.006533333333333336, top 10 = 0.011133333333333339\n"
     ]
    },
    {
     "name": "stderr",
     "output_type": "stream",
     "text": [
      "100%|██████████| 30/30 [00:01<00:00, 17.48it/s]\n",
      "100%|██████████| 30/30 [00:01<00:00, 23.90it/s]\n",
      "100%|██████████| 30/30 [00:01<00:00, 23.24it/s]\n",
      "100%|██████████| 30/30 [00:01<00:00, 23.65it/s]\n",
      " 10%|█         | 3/30 [00:00<00:01, 20.89it/s]"
     ]
    },
    {
     "name": "stdout",
     "output_type": "stream",
     "text": [
      "Epoch = 217, loss = 0.47996942414837995, top 1 = 0.0006666666666666666, top 5 = 0.0030666666666666676, top 10 = 0.00886666666666667\n"
     ]
    },
    {
     "name": "stderr",
     "output_type": "stream",
     "text": [
      "100%|██████████| 30/30 [00:01<00:00, 17.42it/s]\n",
      "100%|██████████| 30/30 [00:01<00:00, 23.92it/s]\n",
      "100%|██████████| 30/30 [00:01<00:00, 25.90it/s]\n",
      "100%|██████████| 30/30 [00:01<00:00, 23.59it/s]\n",
      " 10%|█         | 3/30 [00:00<00:01, 20.28it/s]"
     ]
    },
    {
     "name": "stdout",
     "output_type": "stream",
     "text": [
      "Epoch = 218, loss = 0.47886248139334403, top 1 = 0.0006666666666666666, top 5 = 0.004533333333333335, top 10 = 0.009666666666666672\n"
     ]
    },
    {
     "name": "stderr",
     "output_type": "stream",
     "text": [
      "100%|██████████| 30/30 [00:01<00:00, 17.41it/s]\n",
      "100%|██████████| 30/30 [00:01<00:00, 23.22it/s]\n",
      "100%|██████████| 30/30 [00:01<00:00, 23.56it/s]\n",
      "100%|██████████| 30/30 [00:01<00:00, 24.08it/s]\n",
      " 10%|█         | 3/30 [00:00<00:01, 20.96it/s]"
     ]
    },
    {
     "name": "stdout",
     "output_type": "stream",
     "text": [
      "Epoch = 219, loss = 0.479030316771752, top 1 = 0.0013333333333333333, top 5 = 0.005600000000000003, top 10 = 0.010866666666666672\n"
     ]
    },
    {
     "name": "stderr",
     "output_type": "stream",
     "text": [
      "100%|██████████| 30/30 [00:01<00:00, 18.75it/s]\n",
      "100%|██████████| 30/30 [00:01<00:00, 23.79it/s]\n",
      "100%|██████████| 30/30 [00:01<00:00, 23.28it/s]\n",
      "100%|██████████| 30/30 [00:01<00:00, 23.80it/s]\n",
      " 10%|█         | 3/30 [00:00<00:01, 21.04it/s]"
     ]
    },
    {
     "name": "stdout",
     "output_type": "stream",
     "text": [
      "Epoch = 220, loss = 0.4785751261106101, top 1 = 0.0006666666666666666, top 5 = 0.004933333333333336, top 10 = 0.010000000000000005\n"
     ]
    },
    {
     "name": "stderr",
     "output_type": "stream",
     "text": [
      "100%|██████████| 30/30 [00:01<00:00, 17.41it/s]\n",
      "100%|██████████| 30/30 [00:01<00:00, 23.86it/s]\n",
      "100%|██████████| 30/30 [00:01<00:00, 25.67it/s]\n",
      "100%|██████████| 30/30 [00:01<00:00, 23.97it/s]\n",
      " 10%|█         | 3/30 [00:00<00:01, 20.87it/s]"
     ]
    },
    {
     "name": "stdout",
     "output_type": "stream",
     "text": [
      "Epoch = 221, loss = 0.47815315519813784, top 1 = 0.0006666666666666666, top 5 = 0.002666666666666667, top 10 = 0.006866666666666671\n"
     ]
    },
    {
     "name": "stderr",
     "output_type": "stream",
     "text": [
      "100%|██████████| 30/30 [00:01<00:00, 17.43it/s]\n",
      "100%|██████████| 30/30 [00:01<00:00, 23.74it/s]\n",
      "100%|██████████| 30/30 [00:01<00:00, 24.12it/s]\n",
      "100%|██████████| 30/30 [00:01<00:00, 24.10it/s]\n",
      " 10%|█         | 3/30 [00:00<00:01, 21.27it/s]"
     ]
    },
    {
     "name": "stdout",
     "output_type": "stream",
     "text": [
      "Epoch = 222, loss = 0.47840322864753165, top 1 = 0.0013333333333333333, top 5 = 0.00826666666666667, top 10 = 0.012066666666666673\n",
      "save model to /home/ai2019/ne6081064/june/mlg/snrs_hw1/2021-03-13 11-52/weight.pth\n"
     ]
    },
    {
     "name": "stderr",
     "output_type": "stream",
     "text": [
      "100%|██████████| 30/30 [00:01<00:00, 18.75it/s]\n",
      "100%|██████████| 30/30 [00:01<00:00, 23.85it/s]\n",
      "100%|██████████| 30/30 [00:01<00:00, 23.65it/s]\n",
      "100%|██████████| 30/30 [00:01<00:00, 24.08it/s]\n",
      " 10%|█         | 3/30 [00:00<00:01, 20.62it/s]"
     ]
    },
    {
     "name": "stdout",
     "output_type": "stream",
     "text": [
      "Epoch = 223, loss = 0.47813230924571587, top 1 = 0.0006666666666666666, top 5 = 0.004266666666666669, top 10 = 0.008933333333333338\n"
     ]
    },
    {
     "name": "stderr",
     "output_type": "stream",
     "text": [
      "100%|██████████| 30/30 [00:01<00:00, 17.58it/s]\n",
      "100%|██████████| 30/30 [00:01<00:00, 23.73it/s]\n",
      "100%|██████████| 30/30 [00:01<00:00, 25.97it/s]\n",
      "100%|██████████| 30/30 [00:01<00:00, 23.87it/s]\n",
      " 10%|█         | 3/30 [00:00<00:01, 21.18it/s]"
     ]
    },
    {
     "name": "stdout",
     "output_type": "stream",
     "text": [
      "Epoch = 224, loss = 0.47791020808441387, top 1 = 0.0006666666666666666, top 5 = 0.003466666666666668, top 10 = 0.007933333333333337\n"
     ]
    },
    {
     "name": "stderr",
     "output_type": "stream",
     "text": [
      "100%|██████████| 30/30 [00:01<00:00, 17.57it/s]\n",
      "100%|██████████| 30/30 [00:01<00:00, 23.73it/s]\n",
      "100%|██████████| 30/30 [00:01<00:00, 23.79it/s]\n",
      "100%|██████████| 30/30 [00:01<00:00, 23.90it/s]\n",
      " 10%|█         | 3/30 [00:00<00:01, 20.94it/s]"
     ]
    },
    {
     "name": "stdout",
     "output_type": "stream",
     "text": [
      "Epoch = 225, loss = 0.4789389315319293, top 1 = 0.0013333333333333333, top 5 = 0.005733333333333335, top 10 = 0.011066666666666673\n"
     ]
    },
    {
     "name": "stderr",
     "output_type": "stream",
     "text": [
      "100%|██████████| 30/30 [00:01<00:00, 18.71it/s]\n",
      "100%|██████████| 30/30 [00:01<00:00, 23.36it/s]\n",
      "100%|██████████| 30/30 [00:01<00:00, 23.35it/s]\n",
      "100%|██████████| 30/30 [00:01<00:00, 21.27it/s]\n",
      " 10%|█         | 3/30 [00:00<00:01, 20.41it/s]"
     ]
    },
    {
     "name": "stdout",
     "output_type": "stream",
     "text": [
      "Epoch = 226, loss = 0.47874177405245233, top 1 = 0.0006666666666666666, top 5 = 0.004000000000000002, top 10 = 0.008666666666666671\n"
     ]
    },
    {
     "name": "stderr",
     "output_type": "stream",
     "text": [
      "100%|██████████| 30/30 [00:01<00:00, 17.37it/s]\n",
      "100%|██████████| 30/30 [00:01<00:00, 23.91it/s]\n",
      "100%|██████████| 30/30 [00:01<00:00, 23.94it/s]\n",
      "100%|██████████| 30/30 [00:01<00:00, 25.43it/s]\n",
      "  0%|          | 0/30 [00:00<?, ?it/s]"
     ]
    },
    {
     "name": "stdout",
     "output_type": "stream",
     "text": [
      "Epoch = 227, loss = 0.47928392721178964, top 1 = 0.0006666666666666666, top 5 = 0.003600000000000001, top 10 = 0.008600000000000003\n"
     ]
    },
    {
     "name": "stderr",
     "output_type": "stream",
     "text": [
      "100%|██████████| 30/30 [00:01<00:00, 17.31it/s]\n",
      "100%|██████████| 30/30 [00:01<00:00, 23.93it/s]\n",
      "100%|██████████| 30/30 [00:01<00:00, 23.77it/s]\n",
      "100%|██████████| 30/30 [00:01<00:00, 23.86it/s]\n",
      " 10%|█         | 3/30 [00:00<00:01, 21.24it/s]"
     ]
    },
    {
     "name": "stdout",
     "output_type": "stream",
     "text": [
      "Epoch = 228, loss = 0.4788983652759879, top 1 = 0.0013333333333333333, top 5 = 0.005466666666666669, top 10 = 0.01093333333333334\n"
     ]
    },
    {
     "name": "stderr",
     "output_type": "stream",
     "text": [
      "100%|██████████| 30/30 [00:01<00:00, 17.64it/s]\n",
      "100%|██████████| 30/30 [00:01<00:00, 25.60it/s]\n",
      "100%|██████████| 30/30 [00:01<00:00, 23.69it/s]\n",
      "100%|██████████| 30/30 [00:01<00:00, 23.89it/s]\n",
      " 10%|█         | 3/30 [00:00<00:01, 21.26it/s]"
     ]
    },
    {
     "name": "stdout",
     "output_type": "stream",
     "text": [
      "Epoch = 229, loss = 0.4778949533252281, top 1 = 0.0006666666666666666, top 5 = 0.0029333333333333342, top 10 = 0.008000000000000004\n"
     ]
    },
    {
     "name": "stderr",
     "output_type": "stream",
     "text": [
      "100%|██████████| 30/30 [00:01<00:00, 17.64it/s]\n",
      "100%|██████████| 30/30 [00:01<00:00, 23.87it/s]\n",
      "100%|██████████| 30/30 [00:01<00:00, 24.04it/s]\n",
      "100%|██████████| 30/30 [00:01<00:00, 25.66it/s]\n",
      "  0%|          | 0/30 [00:00<?, ?it/s]"
     ]
    },
    {
     "name": "stdout",
     "output_type": "stream",
     "text": [
      "Epoch = 230, loss = 0.4782382387488529, top 1 = 0.0013333333333333333, top 5 = 0.0062666666666666695, top 10 = 0.011400000000000006\n"
     ]
    },
    {
     "name": "stderr",
     "output_type": "stream",
     "text": [
      "100%|██████████| 30/30 [00:01<00:00, 17.54it/s]\n",
      "100%|██████████| 30/30 [00:01<00:00, 23.67it/s]\n",
      "100%|██████████| 30/30 [00:01<00:00, 23.76it/s]\n",
      "100%|██████████| 30/30 [00:01<00:00, 24.01it/s]\n",
      " 10%|█         | 3/30 [00:00<00:01, 21.01it/s]"
     ]
    },
    {
     "name": "stdout",
     "output_type": "stream",
     "text": [
      "Epoch = 231, loss = 0.4772034826651274, top 1 = 0.0006666666666666666, top 5 = 0.0038666666666666684, top 10 = 0.008933333333333338\n"
     ]
    },
    {
     "name": "stderr",
     "output_type": "stream",
     "text": [
      "100%|██████████| 30/30 [00:01<00:00, 17.59it/s]\n",
      "100%|██████████| 30/30 [00:01<00:00, 25.81it/s]\n",
      "100%|██████████| 30/30 [00:01<00:00, 23.85it/s]\n",
      "100%|██████████| 30/30 [00:01<00:00, 23.90it/s]\n",
      " 10%|█         | 3/30 [00:00<00:01, 20.71it/s]"
     ]
    },
    {
     "name": "stdout",
     "output_type": "stream",
     "text": [
      "Epoch = 232, loss = 0.4778605423786562, top 1 = 0.0006666666666666666, top 5 = 0.00506666666666667, top 10 = 0.010200000000000006\n"
     ]
    },
    {
     "name": "stderr",
     "output_type": "stream",
     "text": [
      "100%|██████████| 30/30 [00:01<00:00, 17.58it/s]\n",
      "100%|██████████| 30/30 [00:01<00:00, 23.85it/s]\n",
      "100%|██████████| 30/30 [00:01<00:00, 24.06it/s]\n",
      "100%|██████████| 30/30 [00:01<00:00, 26.20it/s]\n",
      "  3%|▎         | 1/30 [00:00<00:04,  7.15it/s]"
     ]
    },
    {
     "name": "stdout",
     "output_type": "stream",
     "text": [
      "Epoch = 233, loss = 0.4786792158243733, top 1 = 0.0006666666666666666, top 5 = 0.004400000000000002, top 10 = 0.009800000000000005\n"
     ]
    },
    {
     "name": "stderr",
     "output_type": "stream",
     "text": [
      "100%|██████████| 30/30 [00:01<00:00, 17.47it/s]\n",
      "100%|██████████| 30/30 [00:01<00:00, 23.85it/s]\n",
      "100%|██████████| 30/30 [00:01<00:00, 23.76it/s]\n",
      "100%|██████████| 30/30 [00:01<00:00, 24.11it/s]\n",
      " 10%|█         | 3/30 [00:00<00:01, 20.83it/s]"
     ]
    },
    {
     "name": "stdout",
     "output_type": "stream",
     "text": [
      "Epoch = 234, loss = 0.4777937548323417, top 1 = 0.0006666666666666666, top 5 = 0.005333333333333337, top 10 = 0.010066666666666672\n"
     ]
    },
    {
     "name": "stderr",
     "output_type": "stream",
     "text": [
      "100%|██████████| 30/30 [00:01<00:00, 17.63it/s]\n",
      "100%|██████████| 30/30 [00:01<00:00, 22.94it/s]\n",
      "100%|██████████| 30/30 [00:01<00:00, 25.40it/s]\n",
      "100%|██████████| 30/30 [00:01<00:00, 23.54it/s]\n",
      " 10%|█         | 3/30 [00:00<00:01, 20.93it/s]"
     ]
    },
    {
     "name": "stdout",
     "output_type": "stream",
     "text": [
      "Epoch = 235, loss = 0.47796616597990815, top 1 = 0.0006666666666666666, top 5 = 0.0029333333333333342, top 10 = 0.00826666666666667\n"
     ]
    },
    {
     "name": "stderr",
     "output_type": "stream",
     "text": [
      "100%|██████████| 30/30 [00:01<00:00, 17.48it/s]\n",
      "100%|██████████| 30/30 [00:01<00:00, 23.13it/s]\n",
      "100%|██████████| 30/30 [00:01<00:00, 23.78it/s]\n",
      "100%|██████████| 30/30 [00:01<00:00, 23.94it/s]\n",
      " 10%|█         | 3/30 [00:00<00:01, 20.06it/s]"
     ]
    },
    {
     "name": "stdout",
     "output_type": "stream",
     "text": [
      "Epoch = 236, loss = 0.47886333904317036, top 1 = 0.0013333333333333333, top 5 = 0.005600000000000003, top 10 = 0.010800000000000006\n"
     ]
    },
    {
     "name": "stderr",
     "output_type": "stream",
     "text": [
      "100%|██████████| 30/30 [00:01<00:00, 18.46it/s]\n",
      "100%|██████████| 30/30 [00:01<00:00, 23.87it/s]\n",
      "100%|██████████| 30/30 [00:01<00:00, 24.11it/s]\n",
      "100%|██████████| 30/30 [00:01<00:00, 24.01it/s]\n",
      " 10%|█         | 3/30 [00:00<00:01, 20.87it/s]"
     ]
    },
    {
     "name": "stdout",
     "output_type": "stream",
     "text": [
      "Epoch = 237, loss = 0.4782351224189131, top 1 = 0.0006666666666666666, top 5 = 0.0030666666666666676, top 10 = 0.008400000000000003\n"
     ]
    },
    {
     "name": "stderr",
     "output_type": "stream",
     "text": [
      "100%|██████████| 30/30 [00:01<00:00, 17.59it/s]\n",
      "100%|██████████| 30/30 [00:01<00:00, 23.79it/s]\n",
      "100%|██████████| 30/30 [00:01<00:00, 25.98it/s]\n",
      "100%|██████████| 30/30 [00:01<00:00, 21.88it/s]\n",
      " 10%|█         | 3/30 [00:00<00:01, 20.74it/s]"
     ]
    },
    {
     "name": "stdout",
     "output_type": "stream",
     "text": [
      "Epoch = 238, loss = 0.47962584735998015, top 1 = 0.0013333333333333333, top 5 = 0.00546666666666667, top 10 = 0.01073333333333334\n"
     ]
    },
    {
     "name": "stderr",
     "output_type": "stream",
     "text": [
      "100%|██████████| 30/30 [00:01<00:00, 17.64it/s]\n",
      "100%|██████████| 30/30 [00:01<00:00, 23.99it/s]\n",
      "100%|██████████| 30/30 [00:01<00:00, 24.15it/s]\n",
      "100%|██████████| 30/30 [00:01<00:00, 24.07it/s]\n",
      "  7%|▋         | 2/30 [00:00<00:01, 19.88it/s]"
     ]
    },
    {
     "name": "stdout",
     "output_type": "stream",
     "text": [
      "Epoch = 239, loss = 0.4773893379466292, top 1 = 0.0006666666666666666, top 5 = 0.0042666666666666695, top 10 = 0.009466666666666672\n"
     ]
    },
    {
     "name": "stderr",
     "output_type": "stream",
     "text": [
      "100%|██████████| 30/30 [00:01<00:00, 18.44it/s]\n",
      "100%|██████████| 30/30 [00:01<00:00, 24.02it/s]\n",
      "100%|██████████| 30/30 [00:01<00:00, 24.10it/s]\n",
      "100%|██████████| 30/30 [00:01<00:00, 24.06it/s]\n",
      " 10%|█         | 3/30 [00:00<00:01, 20.97it/s]"
     ]
    },
    {
     "name": "stdout",
     "output_type": "stream",
     "text": [
      "Epoch = 240, loss = 0.47738463031686407, top 1 = 0.0006666666666666666, top 5 = 0.0029333333333333342, top 10 = 0.008466666666666671\n"
     ]
    },
    {
     "name": "stderr",
     "output_type": "stream",
     "text": [
      "100%|██████████| 30/30 [00:01<00:00, 17.62it/s]\n",
      "100%|██████████| 30/30 [00:01<00:00, 23.51it/s]\n",
      "100%|██████████| 30/30 [00:01<00:00, 26.02it/s]\n",
      "100%|██████████| 30/30 [00:01<00:00, 24.12it/s]\n",
      " 10%|█         | 3/30 [00:00<00:01, 20.54it/s]"
     ]
    },
    {
     "name": "stdout",
     "output_type": "stream",
     "text": [
      "Epoch = 241, loss = 0.4783795085109473, top 1 = 0.0006666666666666666, top 5 = 0.005333333333333337, top 10 = 0.010533333333333339\n"
     ]
    },
    {
     "name": "stderr",
     "output_type": "stream",
     "text": [
      "100%|██████████| 30/30 [00:01<00:00, 17.64it/s]\n",
      "100%|██████████| 30/30 [00:01<00:00, 23.86it/s]\n",
      "100%|██████████| 30/30 [00:01<00:00, 24.08it/s]\n",
      "100%|██████████| 30/30 [00:01<00:00, 22.95it/s]\n",
      " 10%|█         | 3/30 [00:00<00:01, 20.67it/s]"
     ]
    },
    {
     "name": "stdout",
     "output_type": "stream",
     "text": [
      "Epoch = 242, loss = 0.47790827803404484, top 1 = 0.0006666666666666666, top 5 = 0.004266666666666668, top 10 = 0.009600000000000004\n"
     ]
    },
    {
     "name": "stderr",
     "output_type": "stream",
     "text": [
      "100%|██████████| 30/30 [00:01<00:00, 18.24it/s]\n",
      "100%|██████████| 30/30 [00:01<00:00, 24.14it/s]\n",
      "100%|██████████| 30/30 [00:01<00:00, 24.07it/s]\n",
      "100%|██████████| 30/30 [00:01<00:00, 24.05it/s]\n",
      " 10%|█         | 3/30 [00:00<00:01, 20.70it/s]"
     ]
    },
    {
     "name": "stdout",
     "output_type": "stream",
     "text": [
      "Epoch = 243, loss = 0.4806168712234436, top 1 = 0.0013333333333333333, top 5 = 0.007066666666666669, top 10 = 0.011666666666666674\n"
     ]
    },
    {
     "name": "stderr",
     "output_type": "stream",
     "text": [
      "100%|██████████| 30/30 [00:01<00:00, 17.42it/s]\n",
      "100%|██████████| 30/30 [00:01<00:00, 23.50it/s]\n",
      "100%|██████████| 30/30 [00:01<00:00, 23.58it/s]\n",
      "100%|██████████| 30/30 [00:01<00:00, 25.55it/s]\n",
      "  0%|          | 0/30 [00:00<?, ?it/s]"
     ]
    },
    {
     "name": "stdout",
     "output_type": "stream",
     "text": [
      "Epoch = 244, loss = 0.4768992127461066, top 1 = 0.0006666666666666666, top 5 = 0.004400000000000002, top 10 = 0.009400000000000004\n"
     ]
    },
    {
     "name": "stderr",
     "output_type": "stream",
     "text": [
      "100%|██████████| 30/30 [00:01<00:00, 17.67it/s]\n",
      "100%|██████████| 30/30 [00:01<00:00, 23.45it/s]\n",
      "100%|██████████| 30/30 [00:01<00:00, 24.10it/s]\n",
      "100%|██████████| 30/30 [00:01<00:00, 23.35it/s]\n",
      " 10%|█         | 3/30 [00:00<00:01, 21.47it/s]"
     ]
    },
    {
     "name": "stdout",
     "output_type": "stream",
     "text": [
      "Epoch = 245, loss = 0.47928001064800935, top 1 = 0.0006666666666666666, top 5 = 0.004933333333333336, top 10 = 0.010600000000000005\n"
     ]
    },
    {
     "name": "stderr",
     "output_type": "stream",
     "text": [
      "100%|██████████| 30/30 [00:01<00:00, 17.65it/s]\n",
      "100%|██████████| 30/30 [00:01<00:00, 25.97it/s]\n",
      "100%|██████████| 30/30 [00:01<00:00, 24.08it/s]\n",
      "100%|██████████| 30/30 [00:01<00:00, 24.10it/s]\n",
      " 10%|█         | 3/30 [00:00<00:01, 20.91it/s]"
     ]
    },
    {
     "name": "stdout",
     "output_type": "stream",
     "text": [
      "Epoch = 246, loss = 0.47799384241787923, top 1 = 0.0006666666666666666, top 5 = 0.004266666666666668, top 10 = 0.009266666666666671\n"
     ]
    },
    {
     "name": "stderr",
     "output_type": "stream",
     "text": [
      "100%|██████████| 30/30 [00:01<00:00, 17.63it/s]\n",
      "100%|██████████| 30/30 [00:01<00:00, 23.69it/s]\n",
      "100%|██████████| 30/30 [00:01<00:00, 24.08it/s]\n",
      "100%|██████████| 30/30 [00:01<00:00, 26.17it/s]\n",
      "  0%|          | 0/30 [00:00<?, ?it/s]"
     ]
    },
    {
     "name": "stdout",
     "output_type": "stream",
     "text": [
      "Epoch = 247, loss = 0.479481287833539, top 1 = 0.0006666666666666666, top 5 = 0.005200000000000002, top 10 = 0.01093333333333334\n"
     ]
    },
    {
     "name": "stderr",
     "output_type": "stream",
     "text": [
      "100%|██████████| 30/30 [00:01<00:00, 16.74it/s]\n",
      "100%|██████████| 30/30 [00:01<00:00, 23.83it/s]\n",
      "100%|██████████| 30/30 [00:01<00:00, 24.00it/s]\n",
      " 70%|███████   | 21/30 [00:00<00:00, 26.48it/s]"
     ]
    }
   ],
   "source": [
    "model.train()\n",
    "\n",
    "top_10 = 0.0\n",
    "\n",
    "for epoch in range(setting.epochs):\n",
    "    \n",
    "    bce_loss = 0.0\n",
    "    graph_cnt = 0\n",
    "    for data in tqdm(all_loader):\n",
    "        \n",
    "        optimizer.zero_grad()\n",
    "        \n",
    "        data = data.to(setting.device)\n",
    "        bc_pr = model(data)\n",
    "        \n",
    "        bc_gt = data.y\n",
    "        bc_gt = np.array(bc_gt)\n",
    "\n",
    "        bc_gt = torch.from_numpy(bc_gt)\n",
    "        bc_gt = torch.reshape(bc_gt, (-1, ))\n",
    "\n",
    "        ### random sample 5|V| nodes\n",
    "        src = (torch.rand(25000) * 4999).long()\n",
    "        det = (torch.rand(25000) * 4999).long()\n",
    "        for b in range(len(data.batch)//5000-1):\n",
    "            src = torch.cat((src, (torch.rand(25000) * 4999).long()+(b+1)*5000))\n",
    "            det = torch.cat((det, (torch.rand(25000) * 4999).long()+(b+1)*5000))\n",
    "        \n",
    "        y_gt = (bc_gt[det] - bc_gt[src]).squeeze().to(setting.device)\n",
    "        y_pr = (bc_pr[det] - bc_pr[src]).squeeze()\n",
    "\n",
    "#         print(torch.max(y_gt), torch.min(y_gt))\n",
    "#         print(torch.max(y_pr), torch.min(y_pr))\n",
    "        \n",
    "        y_gt = nn.Sigmoid()(y_gt)\n",
    "        y_pr = nn.Sigmoid()(y_pr)\n",
    "        \n",
    "        ### Map gt to 0 and 1\n",
    "        y_gt = torch.where(y_gt >= 0.5, torch.ones_like(y_gt), y_gt)\n",
    "        y_gt = torch.where(y_gt < 0.5, torch.zeros_like(y_gt), y_gt)\n",
    "        \n",
    "#         print(torch.max(y_gt), torch.min(y_gt))\n",
    "#         print(torch.max(y_pr), torch.min(y_pr))\n",
    "#         break\n",
    "        \n",
    "\n",
    "        loss = setting.criterion(y_pr, y_gt)\n",
    "        bce_loss += loss.item()\n",
    "        graph_cnt += data.num_graphs\n",
    "    \n",
    "        loss.backward()\n",
    "        optimizer.step()\n",
    "\n",
    "    \n",
    "    top1 = top_n(model, all_loader, k=1)\n",
    "    top5 = top_n(model, all_loader, k=5)\n",
    "    top10 = top_n(model, all_loader, k=10)\n",
    "    l = bce_loss/graph_cnt\n",
    "    \n",
    "    print(\"Epoch = {}, loss = {}, top 1 = {}, top 5 = {}, top 10 = {}\".format(epoch+1, l, \n",
    "                                                                              sum(top1)/len(top1), \n",
    "                                                                              sum(top5)/len(top5), \n",
    "                                                                              sum(top10)/len(top10)))\n",
    "    \n",
    "    train_info[\"bce\"].append(l)\n",
    "    train_info[\"top1\"].append(top1)\n",
    "    train_info[\"top5\"].append(top5)\n",
    "    train_info[\"top10\"].append(top10)\n",
    "    with open(setting.train_info_p, 'w') as f:\n",
    "        json.dump(train_info, f)\n",
    "\n",
    "        \n",
    "    if sum(top10)/len(top10) > top_10:\n",
    "        checkpoint = {\n",
    "            'model_stat': model.state_dict(),\n",
    "            'optimizer_stat': optimizer.state_dict(),\n",
    "        }\n",
    "        torch.save(checkpoint, setting.save_model)\n",
    "        \n",
    "        print(\"save model to {}\".format(setting.save_model))\n",
    "        \n",
    "        top_10 = sum(top10)/len(top10)"
   ]
  },
  {
   "cell_type": "code",
   "execution_count": null,
   "metadata": {},
   "outputs": [],
   "source": [
    "# test fit model\n",
    "predict = model(data.to(device))\n",
    "predict.shape\n"
   ]
  },
  {
   "cell_type": "markdown",
   "metadata": {},
   "source": [
    "### Sampling nodes"
   ]
  },
  {
   "cell_type": "markdown",
   "metadata": {},
   "source": [
    "In our experiments, we randomly sample 5|V | source nodes and 5|V |\n",
    "target nodes with replacement"
   ]
  },
  {
   "cell_type": "code",
   "execution_count": 274,
   "metadata": {},
   "outputs": [
    {
     "data": {
      "text/plain": [
       "torch.Size([25000, 2])"
      ]
     },
     "execution_count": 274,
     "metadata": {},
     "output_type": "execute_result"
    }
   ],
   "source": [
    "picked = (torch.rand(25000, 2) * 4999).long()\n",
    "for b in range(batch-1):\n",
    "    picked = torch.stack((picked, (torch.rand(25000, 2) * 4999).long()))\n",
    "    \n",
    "picked.shape"
   ]
  },
  {
   "cell_type": "code",
   "execution_count": 41,
   "metadata": {},
   "outputs": [
    {
     "name": "stdout",
     "output_type": "stream",
     "text": [
      "Batch(batch=[40000], edge_index=[2, 319718], x=[40000, 3], y=[8])\n",
      "Batch(batch=[40000], edge_index=[2, 319710], x=[40000, 3], y=[8])\n",
      "Batch(batch=[40000], edge_index=[2, 319722], x=[40000, 3], y=[8])\n",
      "Batch(batch=[30000], edge_index=[2, 239798], x=[30000, 3], y=[6])\n"
     ]
    }
   ],
   "source": [
    "for data in loader:\n",
    "    print(data)"
   ]
  },
  {
   "cell_type": "code",
   "execution_count": 45,
   "metadata": {},
   "outputs": [
    {
     "ename": "TypeError",
     "evalue": "'DataLoader' object is not callable",
     "output_type": "error",
     "traceback": [
      "\u001b[0;31m----------------------\u001b[0m",
      "\u001b[0;31mTypeError\u001b[0mTraceback (most recent call last)",
      "\u001b[0;32m<ipython-input-45-496d09c087a9>\u001b[0m in \u001b[0;36m<module>\u001b[0;34m\u001b[0m\n\u001b[0;32m----> 1\u001b[0;31m \u001b[0mloader\u001b[0m\u001b[0;34m(\u001b[0m\u001b[0;36m0\u001b[0m\u001b[0;34m)\u001b[0m\u001b[0;34m\u001b[0m\u001b[0;34m\u001b[0m\u001b[0m\n\u001b[0m",
      "\u001b[0;31mTypeError\u001b[0m: 'DataLoader' object is not callable"
     ]
    }
   ],
   "source": [
    "loader(0)"
   ]
  },
  {
   "cell_type": "code",
   "execution_count": 192,
   "metadata": {},
   "outputs": [
    {
     "ename": "AttributeError",
     "evalue": "'DataLoader' object has no attribute 'y'",
     "output_type": "error",
     "traceback": [
      "\u001b[0;31m---------------------------------------------------------------------------\u001b[0m",
      "\u001b[0;31mAttributeError\u001b[0m                            Traceback (most recent call last)",
      "\u001b[0;32m<ipython-input-192-f652143d5d1a>\u001b[0m in \u001b[0;36m<module>\u001b[0;34m\u001b[0m\n\u001b[0;32m----> 1\u001b[0;31m \u001b[0;34m(\u001b[0m\u001b[0mloader\u001b[0m\u001b[0;34m.\u001b[0m\u001b[0my\u001b[0m\u001b[0;34m[\u001b[0m\u001b[0;36m0\u001b[0m\u001b[0;34m]\u001b[0m\u001b[0;34m-\u001b[0m\u001b[0mloader\u001b[0m\u001b[0;34m.\u001b[0m\u001b[0my\u001b[0m\u001b[0;34m[\u001b[0m\u001b[0;36m1\u001b[0m\u001b[0;34m]\u001b[0m\u001b[0;34m)\u001b[0m\u001b[0;34m.\u001b[0m\u001b[0mshape\u001b[0m\u001b[0;34m\u001b[0m\u001b[0;34m\u001b[0m\u001b[0m\n\u001b[0m",
      "\u001b[0;31mAttributeError\u001b[0m: 'DataLoader' object has no attribute 'y'"
     ]
    }
   ],
   "source": [
    "(loader[0].y-loader.y[1]).shape"
   ]
  },
  {
   "cell_type": "code",
   "execution_count": null,
   "metadata": {},
   "outputs": [],
   "source": []
  }
 ],
 "metadata": {
  "accelerator": "GPU",
  "colab": {
   "collapsed_sections": [],
   "name": "code.ipynb",
   "provenance": [],
   "toc_visible": true
  },
  "kernelspec": {
   "display_name": "Python 3",
   "language": "python",
   "name": "python3"
  },
  "language_info": {
   "codemirror_mode": {
    "name": "ipython",
    "version": 3
   },
   "file_extension": ".py",
   "mimetype": "text/x-python",
   "name": "python",
   "nbconvert_exporter": "python",
   "pygments_lexer": "ipython3",
   "version": "3.7.9"
  }
 },
 "nbformat": 4,
 "nbformat_minor": 1
}
