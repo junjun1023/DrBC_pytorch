{
 "cells": [
  {
   "cell_type": "markdown",
   "metadata": {
    "id": "HXDHW_mjXtMp"
   },
   "source": [
    "# Mount drive"
   ]
  },
  {
   "cell_type": "code",
   "execution_count": null,
   "metadata": {
    "colab": {
     "base_uri": "https://localhost:8080/"
    },
    "executionInfo": {
     "elapsed": 20999,
     "status": "ok",
     "timestamp": 1615282633207,
     "user": {
      "displayName": "Q56094077陳香君",
      "photoUrl": "",
      "userId": "10727804849868825735"
     },
     "user_tz": -480
    },
    "id": "FvCyvU3wXU5i",
    "outputId": "1ebe457a-4d34-474b-ea70-4d9fd6765538"
   },
   "outputs": [],
   "source": [
    "# from google.colab import drive\n",
    "# drive.mount('/content/gdrive')\n",
    "\n",
    "# !ls /content/gdrive/My\\ Drive"
   ]
  },
  {
   "cell_type": "code",
   "execution_count": null,
   "metadata": {
    "id": "n7xdJXLgX6xs"
   },
   "outputs": [],
   "source": [
    "# !unzip /content/gdrive/MyDrive/Q56094077/snrs/hw1_0319/hw1_data.zip -d /content/gdrive/MyDrive/Q56094077/snrs/hw1_0319"
   ]
  },
  {
   "cell_type": "markdown",
   "metadata": {
    "id": "PNPvyQC_ZsBz"
   },
   "source": [
    "# Import Library"
   ]
  },
  {
   "cell_type": "code",
   "execution_count": 1,
   "metadata": {
    "executionInfo": {
     "elapsed": 5086,
     "status": "ok",
     "timestamp": 1615282641207,
     "user": {
      "displayName": "Q56094077陳香君",
      "photoUrl": "",
      "userId": "10727804849868825735"
     },
     "user_tz": -480
    },
    "id": "R9e-OVDBZbU_"
   },
   "outputs": [],
   "source": [
    "import os\n",
    "\n",
    "import torch\n",
    "import torch.nn as nn\n",
    "\n",
    "import pandas as pd\n",
    "import numpy as np\n",
    "import json\n",
    "\n",
    "from tqdm import tqdm\n",
    "from datetime import datetime\n",
    "import time\n",
    "from collections import deque\n",
    "import matplotlib.pyplot as plt"
   ]
  },
  {
   "cell_type": "code",
   "execution_count": 2,
   "metadata": {
    "colab": {
     "base_uri": "https://localhost:8080/",
     "height": 414
    },
    "executionInfo": {
     "elapsed": 776,
     "status": "error",
     "timestamp": 1615283001909,
     "user": {
      "displayName": "Q56094077陳香君",
      "photoUrl": "",
      "userId": "10727804849868825735"
     },
     "user_tz": -480
    },
    "id": "jUN8f3VP4u9D",
    "outputId": "9e4523ef-8226-4980-c086-f15bf7f0a33a"
   },
   "outputs": [],
   "source": [
    "import torch_geometric\n",
    "from torch_geometric.data import Data, DataLoader\n",
    "import torch_geometric.utils as utils"
   ]
  },
  {
   "cell_type": "code",
   "execution_count": 3,
   "metadata": {},
   "outputs": [
    {
     "data": {
      "text/html": [
       "\n",
       "\t\t\t<script type=\"text/javascript\">\n",
       "\t\t\t<!--\n",
       "\t\t\t\t\n",
       "\t\t\t{\n",
       "\t\t\t\tvar element = document.getElementById('NetworKit_script');\n",
       "\t\t\t\tif (element) {\n",
       "\t\t\t\t\telement.parentNode.removeChild(element);\n",
       "\t\t\t\t}\n",
       "\t\t\t\telement = document.createElement('script');\n",
       "\t\t\t\telement.type = 'text/javascript';\n",
       "\t\t\t\telement.innerHTML = 'function NetworKit_pageEmbed(id) { var i, j; var elements; elements = document.getElementById(id).getElementsByClassName(\"Plot\"); for (i=0; i<elements.length; i++) { elements[i].id = id + \"_Plot_\" + i; var data = elements[i].getAttribute(\"data-image\").split(\"|\"); elements[i].removeAttribute(\"data-image\"); var content = \"<div class=\\\\\"Image\\\\\" id=\\\\\"\" + elements[i].id + \"_Image\\\\\" />\"; elements[i].innerHTML = content; elements[i].setAttribute(\"data-image-index\", 0); elements[i].setAttribute(\"data-image-length\", data.length); for (j=0; j<data.length; j++) { elements[i].setAttribute(\"data-image-\" + j, data[j]); } NetworKit_plotUpdate(elements[i]); elements[i].onclick = function (e) { NetworKit_overlayShow((e.target) ? e.target : e.srcElement); } } elements = document.getElementById(id).getElementsByClassName(\"HeatCell\"); for (i=0; i<elements.length; i++) { var data = parseFloat(elements[i].getAttribute(\"data-heat\")); var color = \"#00FF00\"; if (data <= 1 && data > 0) { color = \"hsla(0, 100%, 75%, \" + (data) + \")\"; } else if (data <= 0 && data >= -1) { color = \"hsla(240, 100%, 75%, \" + (-data) + \")\"; } elements[i].style.backgroundColor = color; } elements = document.getElementById(id).getElementsByClassName(\"Details\"); for (i=0; i<elements.length; i++) { elements[i].setAttribute(\"data-title\", \"-\"); NetworKit_toggleDetails(elements[i]); elements[i].onclick = function (e) { NetworKit_toggleDetails((e.target) ? e.target : e.srcElement); } } elements = document.getElementById(id).getElementsByClassName(\"MathValue\"); for (i=elements.length-1; i>=0; i--) { value = elements[i].innerHTML.trim(); if (value === \"nan\") { elements[i].parentNode.innerHTML = \"\" } } elements = document.getElementById(id).getElementsByClassName(\"SubCategory\"); for (i=elements.length-1; i>=0; i--) { value = elements[i].innerHTML.trim(); if (value === \"\") { elements[i].parentNode.removeChild(elements[i]) } } elements = document.getElementById(id).getElementsByClassName(\"Category\"); for (i=elements.length-1; i>=0; i--) { value = elements[i].innerHTML.trim(); if (value === \"\") { elements[i].parentNode.removeChild(elements[i]) } } var isFirefox = false; try { isFirefox = typeof InstallTrigger !== \"undefined\"; } catch (e) {} if (!isFirefox) { alert(\"Currently the function\\'s output is only fully supported by Firefox.\"); } } function NetworKit_plotUpdate(source) { var index = source.getAttribute(\"data-image-index\"); var data = source.getAttribute(\"data-image-\" + index); var image = document.getElementById(source.id + \"_Image\"); image.style.backgroundImage = \"url(\" + data + \")\"; } function NetworKit_showElement(id, show) { var element = document.getElementById(id); element.style.display = (show) ? \"block\" : \"none\"; } function NetworKit_overlayShow(source) { NetworKit_overlayUpdate(source); NetworKit_showElement(\"NetworKit_Overlay\", true); } function NetworKit_overlayUpdate(source) { document.getElementById(\"NetworKit_Overlay_Title\").innerHTML = source.title; var index = source.getAttribute(\"data-image-index\"); var data = source.getAttribute(\"data-image-\" + index); var image = document.getElementById(\"NetworKit_Overlay_Image\"); image.setAttribute(\"data-id\", source.id); image.style.backgroundImage = \"url(\" + data + \")\"; var link = document.getElementById(\"NetworKit_Overlay_Toolbar_Bottom_Save\"); link.href = data; link.download = source.title + \".svg\"; } function NetworKit_overlayImageShift(delta) { var image = document.getElementById(\"NetworKit_Overlay_Image\"); var source = document.getElementById(image.getAttribute(\"data-id\")); var index = parseInt(source.getAttribute(\"data-image-index\")); var length = parseInt(source.getAttribute(\"data-image-length\")); var index = (index+delta) % length; if (index < 0) { index = length + index; } source.setAttribute(\"data-image-index\", index); NetworKit_overlayUpdate(source); } function NetworKit_toggleDetails(source) { var childs = source.children; var show = false; if (source.getAttribute(\"data-title\") == \"-\") { source.setAttribute(\"data-title\", \"+\"); show = false; } else { source.setAttribute(\"data-title\", \"-\"); show = true; } for (i=0; i<childs.length; i++) { if (show) { childs[i].style.display = \"block\"; } else { childs[i].style.display = \"none\"; } } }';\n",
       "\t\t\t\telement.setAttribute('id', 'NetworKit_script');\n",
       "\t\t\t\tdocument.head.appendChild(element);\n",
       "\t\t\t}\n",
       "\t\t\n",
       "\t\t\t\t\n",
       "\t\t\t{\n",
       "\t\t\t\tvar element = document.getElementById('NetworKit_style');\n",
       "\t\t\t\tif (element) {\n",
       "\t\t\t\t\telement.parentNode.removeChild(element);\n",
       "\t\t\t\t}\n",
       "\t\t\t\telement = document.createElement('style');\n",
       "\t\t\t\telement.type = 'text/css';\n",
       "\t\t\t\telement.innerHTML = '.NetworKit_Page { font-family: Arial, Helvetica, sans-serif; font-size: 14px; } .NetworKit_Page .Value:before { font-family: Arial, Helvetica, sans-serif; font-size: 1.05em; content: attr(data-title) \":\"; margin-left: -2.5em; padding-right: 0.5em; } .NetworKit_Page .Details .Value:before { display: block; } .NetworKit_Page .Value { font-family: monospace; white-space: pre; padding-left: 2.5em; white-space: -moz-pre-wrap !important; white-space: -pre-wrap; white-space: -o-pre-wrap; white-space: pre-wrap; word-wrap: break-word; tab-size: 4; -moz-tab-size: 4; } .NetworKit_Page .Category { clear: both; padding-left: 1em; margin-bottom: 1.5em; } .NetworKit_Page .Category:before { content: attr(data-title); font-size: 1.75em; display: block; margin-left: -0.8em; margin-bottom: 0.5em; } .NetworKit_Page .SubCategory { margin-bottom: 1.5em; padding-left: 1em; } .NetworKit_Page .SubCategory:before { font-size: 1.6em; display: block; margin-left: -0.8em; margin-bottom: 0.5em; } .NetworKit_Page .SubCategory[data-title]:before { content: attr(data-title); } .NetworKit_Page .Block { display: block; } .NetworKit_Page .Block:after { content: \".\"; visibility: hidden; display: block; height: 0; clear: both; } .NetworKit_Page .Block .Thumbnail_Overview, .NetworKit_Page .Block .Thumbnail_ScatterPlot { width: 260px; float: left; } .NetworKit_Page .Block .Thumbnail_Overview img, .NetworKit_Page .Block .Thumbnail_ScatterPlot img { width: 260px; } .NetworKit_Page .Block .Thumbnail_Overview:before, .NetworKit_Page .Block .Thumbnail_ScatterPlot:before { display: block; text-align: center; font-weight: bold; } .NetworKit_Page .Block .Thumbnail_Overview:before { content: attr(data-title); } .NetworKit_Page .HeatCell { font-family: \"Courier New\", Courier, monospace; cursor: pointer; } .NetworKit_Page .HeatCell, .NetworKit_Page .HeatCellName { display: inline; padding: 0.1em; margin-right: 2px; background-color: #FFFFFF } .NetworKit_Page .HeatCellName { margin-left: 0.25em; } .NetworKit_Page .HeatCell:before { content: attr(data-heat); display: inline-block; color: #000000; width: 4em; text-align: center; } .NetworKit_Page .Measure { clear: both; } .NetworKit_Page .Measure .Details { cursor: pointer; } .NetworKit_Page .Measure .Details:before { content: \"[\" attr(data-title) \"]\"; display: block; } .NetworKit_Page .Measure .Details .Value { border-left: 1px dotted black; margin-left: 0.4em; padding-left: 3.5em; pointer-events: none; } .NetworKit_Page .Measure .Details .Spacer:before { content: \".\"; opacity: 0.0; pointer-events: none; } .NetworKit_Page .Measure .Plot { width: 440px; height: 440px; cursor: pointer; float: left; margin-left: -0.9em; margin-right: 20px; } .NetworKit_Page .Measure .Plot .Image { background-repeat: no-repeat; background-position: center center; background-size: contain; height: 100%; pointer-events: none; } .NetworKit_Page .Measure .Stat { width: 500px; float: left; } .NetworKit_Page .Measure .Stat .Group { padding-left: 1.25em; margin-bottom: 0.75em; } .NetworKit_Page .Measure .Stat .Group .Title { font-size: 1.1em; display: block; margin-bottom: 0.3em; margin-left: -0.75em; border-right-style: dotted; border-right-width: 1px; border-bottom-style: dotted; border-bottom-width: 1px; background-color: #D0D0D0; padding-left: 0.2em; } .NetworKit_Page .Measure .Stat .Group .List { -webkit-column-count: 3; -moz-column-count: 3; column-count: 3; } .NetworKit_Page .Measure .Stat .Group .List .Entry { position: relative; line-height: 1.75em; } .NetworKit_Page .Measure .Stat .Group .List .Entry[data-tooltip]:before { position: absolute; left: 0; top: -40px; background-color: #808080; color: #ffffff; height: 30px; line-height: 30px; border-radius: 5px; padding: 0 15px; content: attr(data-tooltip); white-space: nowrap; display: none; } .NetworKit_Page .Measure .Stat .Group .List .Entry[data-tooltip]:after { position: absolute; left: 15px; top: -10px; border-top: 7px solid #808080; border-left: 7px solid transparent; border-right: 7px solid transparent; content: \"\"; display: none; } .NetworKit_Page .Measure .Stat .Group .List .Entry[data-tooltip]:hover:after, .NetworKit_Page .Measure .Stat .Group .List .Entry[data-tooltip]:hover:before { display: block; } .NetworKit_Page .Measure .Stat .Group .List .Entry .MathValue { font-family: \"Courier New\", Courier, monospace; } .NetworKit_Page .Measure:after { content: \".\"; visibility: hidden; display: block; height: 0; clear: both; } .NetworKit_Page .PartitionPie { clear: both; } .NetworKit_Page .PartitionPie img { width: 600px; } #NetworKit_Overlay { left: 0px; top: 0px; display: none; position: absolute; width: 100%; height: 100%; background-color: rgba(0,0,0,0.6); z-index: 1000; } #NetworKit_Overlay_Title { position: absolute; color: white; transform: rotate(-90deg); width: 32em; height: 32em; padding-right: 0.5em; padding-top: 0.5em; text-align: right; font-size: 40px; } #NetworKit_Overlay .button { background: white; cursor: pointer; } #NetworKit_Overlay .button:before { size: 13px; display: inline-block; text-align: center; margin-top: 0.5em; margin-bottom: 0.5em; width: 1.5em; height: 1.5em; } #NetworKit_Overlay .icon-close:before { content: \"X\"; } #NetworKit_Overlay .icon-previous:before { content: \"P\"; } #NetworKit_Overlay .icon-next:before { content: \"N\"; } #NetworKit_Overlay .icon-save:before { content: \"S\"; } #NetworKit_Overlay_Toolbar_Top, #NetworKit_Overlay_Toolbar_Bottom { position: absolute; width: 40px; right: 13px; text-align: right; z-index: 1100; } #NetworKit_Overlay_Toolbar_Top { top: 0.5em; } #NetworKit_Overlay_Toolbar_Bottom { Bottom: 0.5em; } #NetworKit_Overlay_ImageContainer { position: absolute; top: 5%; left: 5%; height: 90%; width: 90%; background-repeat: no-repeat; background-position: center center; background-size: contain; } #NetworKit_Overlay_Image { height: 100%; width: 100%; background-repeat: no-repeat; background-position: center center; background-size: contain; }';\n",
       "\t\t\t\telement.setAttribute('id', 'NetworKit_style');\n",
       "\t\t\t\tdocument.head.appendChild(element);\n",
       "\t\t\t}\n",
       "\t\t\n",
       "\t\t\t\t\n",
       "\t\t\t{\n",
       "\t\t\t\tvar element = document.getElementById('NetworKit_Overlay');\n",
       "\t\t\t\tif (element) {\n",
       "\t\t\t\t\telement.parentNode.removeChild(element);\n",
       "\t\t\t\t}\n",
       "\t\t\t\telement = document.createElement('div');\n",
       "\t\t\t\telement.innerHTML = '<div id=\"NetworKit_Overlay_Toolbar_Top\"><div class=\"button icon-close\" id=\"NetworKit_Overlay_Close\" /></div><div id=\"NetworKit_Overlay_Title\" /> <div id=\"NetworKit_Overlay_ImageContainer\"> <div id=\"NetworKit_Overlay_Image\" /> </div> <div id=\"NetworKit_Overlay_Toolbar_Bottom\"> <div class=\"button icon-previous\" onclick=\"NetworKit_overlayImageShift(-1)\" /> <div class=\"button icon-next\" onclick=\"NetworKit_overlayImageShift(1)\" /> <a id=\"NetworKit_Overlay_Toolbar_Bottom_Save\"><div class=\"button icon-save\" /></a> </div>';\n",
       "\t\t\t\telement.setAttribute('id', 'NetworKit_Overlay');\n",
       "\t\t\t\tdocument.body.appendChild(element);\n",
       "\t\t\t\tdocument.getElementById('NetworKit_Overlay_Close').onclick = function (e) {\n",
       "\t\t\t\t\tdocument.getElementById('NetworKit_Overlay').style.display = 'none';\n",
       "\t\t\t\t}\n",
       "\t\t\t}\n",
       "\t\t\n",
       "\t\t\t-->\n",
       "\t\t\t</script>\n",
       "\t\t"
      ]
     },
     "metadata": {},
     "output_type": "display_data"
    }
   ],
   "source": [
    "import networkit as nk\n",
    "import networkx as nx"
   ]
  },
  {
   "cell_type": "markdown",
   "metadata": {},
   "source": [
    "# Setting"
   ]
  },
  {
   "cell_type": "code",
   "execution_count": 4,
   "metadata": {},
   "outputs": [],
   "source": [
    "class Setting:\n",
    "    _root = os.getcwd()\n",
    "\n",
    "    _data = os.path.join(_root, \"hw1_data\")\n",
    "\n",
    "    data_synthetic = os.path.join(_data, \"Synthetic\", \"5000\")\n",
    "    data_youtube = os.path.join(_data, \"youtube\")\n",
    "    data_train = os.path.join(_data, \"train\")\n",
    "    data_valid = os.path.join(_data, \"valid\")\n",
    "    \n",
    "     # Create dir for train/test\n",
    "    date_time = datetime.strftime(datetime.now(), \"%Y-%m-%d %H-%M\")\n",
    "    root = os.path.join(_root, \"result\", date_time)\n",
    "    if os.path.exists(root):\n",
    "        pass\n",
    "    else:\n",
    "        os.makedirs(root)\n",
    "\n",
    "\n",
    "    ### Save plt info\n",
    "    train_info_p = os.path.join(root, \"train.json\")\n",
    "    val_info_p = os.path.join(root, \"valid.json\")\n",
    "    test_info_p = os.path.join(root, \"test.json\")\n",
    "\n",
    "    ### Save plt img\n",
    "    result_plt_p = os.path.join(root, \"train_plt.png\")\n",
    "    test_plt_p = os.path.join(root, \"test_plt.png\")\n",
    "    sum_box_p = os.path.join(root, \"sum_box.png\")\n",
    "        \n",
    "        \n",
    "    ### Data split\n",
    "    data_split = os.path.join(_root, \"split.json\")\n",
    "    \n",
    "\n",
    "    # Setting of training\n",
    "    device = torch.device(\"cuda:1\" if torch.cuda.is_available() else \"cpu\")\n",
    "\n",
    "    mini_epochs = 500\n",
    "    epochs = 100\n",
    "    \n",
    "    nodes_cnt = 200\n",
    "\n",
    "    criterion = nn.BCELoss()\n",
    "    weight_node2vec = os.path.join(root, \"node2vec.pth\")\n",
    "    weight_drbc = os.path.join(root, \"drbc.pth\")\n",
    "    \n",
    "    params_drbc = None\n",
    "    params_node2vec = None\n",
    "\n",
    "    "
   ]
  },
  {
   "cell_type": "code",
   "execution_count": 5,
   "metadata": {},
   "outputs": [
    {
     "data": {
      "text/plain": [
       "'/home/ai2019/ne6081064/june/mlg/snrs_hw1/result/2021-03-21 14-49'"
      ]
     },
     "execution_count": 5,
     "metadata": {},
     "output_type": "execute_result"
    }
   ],
   "source": [
    "setting = Setting()\n",
    "setting.root"
   ]
  },
  {
   "cell_type": "markdown",
   "metadata": {
    "id": "RZdiko1lmiJy"
   },
   "source": [
    "# Data"
   ]
  },
  {
   "cell_type": "markdown",
   "metadata": {
    "id": "gU4XwwAu_WkR"
   },
   "source": [
    "- data.x\t节点特征，维度是[num_nodes, num_node_features]。\n",
    "- data.edge_index\t维度是[2, num_edges]，描述图中节点的关联关系，每一列对应的两个元素，分别是边的起点和重点。数据类型是torch.long。需要注意的是，data.edge_index是定义边的节点的张量（tensor），而不是节点的列表（list）。\n",
    "- data.edge_attr\t边的特征矩阵，维度是[num_edges, num_edge_features]\n",
    "- data.y\t训练目标（维度可以是任意的）。对于节点相关的任务，维度为[num_nodes, *]；对于图相关的任务，维度为[1,*]。\n",
    "- data.position\t节点位置矩阵（Node position matrix），维度为[num_nodes, num_dimensions]。"
   ]
  },
  {
   "cell_type": "markdown",
   "metadata": {
    "id": "um9C8SFO_2Tx"
   },
   "source": [
    "- [Learning to Identify High Betweenness Centrality Nodes from\n",
    "Scratch: A Novel Graph Neural Network Approach](https://arxiv.org/pdf/1905.10418.pdf)\n",
    "- node initial feature = [$(d_v), 1, 1]"
   ]
  },
  {
   "cell_type": "markdown",
   "metadata": {},
   "source": [
    "## Functions"
   ]
  },
  {
   "cell_type": "markdown",
   "metadata": {},
   "source": [
    "### Load all data"
   ]
  },
  {
   "cell_type": "code",
   "execution_count": 6,
   "metadata": {
    "colab": {
     "base_uri": "https://localhost:8080/"
    },
    "executionInfo": {
     "elapsed": 5918,
     "status": "ok",
     "timestamp": 1615282793119,
     "user": {
      "displayName": "Q56094077陳香君",
      "photoUrl": "",
      "userId": "10727804849868825735"
     },
     "user_tz": -480
    },
    "id": "cxWp5RNpm1uL",
    "outputId": "4cf7bf3b-d143-4b96-eebb-2cd9c1b0f408"
   },
   "outputs": [],
   "source": [
    "def load_data(path):\n",
    "\n",
    "    edge_index = []\n",
    "    between = []\n",
    "    for f in os.listdir(path):\n",
    "        if \"score\" in f:\n",
    "            pass\n",
    "        else:\n",
    "            p = os.path.join(path, f)\n",
    "            edge_index.append(p)\n",
    "            \n",
    "            # get filename without extension\n",
    "            f = os.path.splitext(f)[0]\n",
    "            p = os.path.join(path, \"{}_score.txt\".format(f))\n",
    "            between.append(p)\n",
    "    \n",
    "    return edge_index, between"
   ]
  },
  {
   "cell_type": "markdown",
   "metadata": {},
   "source": [
    "### Split Data"
   ]
  },
  {
   "cell_type": "code",
   "execution_count": 7,
   "metadata": {},
   "outputs": [],
   "source": [
    "from sklearn.model_selection import train_test_split\n",
    "\n",
    "\n",
    "def split_data(path, x, y, replace=False):\n",
    "    if os.path.exists(path) and replace:\n",
    "        pass\n",
    "    else:\n",
    "        X_train, X_test, y_train, y_test = train_test_split(x, y, test_size=0.2)\n",
    "        X_train, X_valid, y_train, y_valid = train_test_split(X_train, y_train, test_size=0.15)\n",
    "\n",
    "        split = {\n",
    "            \"X_train\": X_train,\n",
    "            \"X_valid\": X_valid,\n",
    "            \"X_test\": X_test,\n",
    "            \"y_train\": y_train,\n",
    "            \"y_valid\": y_valid,\n",
    "            \"y_test\": y_test\n",
    "        }\n",
    "\n",
    "        with open(path, 'w') as f:\n",
    "            json.dump(split, f)"
   ]
  },
  {
   "cell_type": "markdown",
   "metadata": {},
   "source": [
    "### Cvt 2 Data"
   ]
  },
  {
   "cell_type": "code",
   "execution_count": 8,
   "metadata": {},
   "outputs": [],
   "source": [
    "def to_data(x, y=None, x_sep=None, y_sep=None, usecols=None):\n",
    "    \n",
    "    if x_sep is not None:\n",
    "        edge_index = torch_geometric.io.read_txt_array(x, dtype=torch.long, sep=x_sep)\n",
    "    else:\n",
    "        edge_index = torch_geometric.io.read_txt_array(x, dtype=torch.long)\n",
    "    edge_index = edge_index.t().contiguous()\n",
    "    edge_index = utils.to_undirected(edge_index)\n",
    "\n",
    "    row, col = edge_index  \n",
    "    deg = utils.degree(col) # must use col to get degree, why?\n",
    "    deg = deg.numpy()  \n",
    "\n",
    "    vertice = []\n",
    "    for d in deg:\n",
    "        vertice.append([d, 1, 1])\n",
    "    vertice = np.array(vertice, dtype=np.float)\n",
    "    vertice = torch.from_numpy(vertice)\n",
    "\n",
    "    if y is not None:\n",
    "        ### between centrality\n",
    "        bc = np.loadtxt(y, delimiter=y_sep, usecols=usecols)\n",
    "        bc = np.reshape(bc, (-1, 1))\n",
    "        bc = torch.from_numpy(bc)\n",
    "\n",
    "        data = Data(x=vertice, edge_index=edge_index, y=bc)\n",
    "        \n",
    "    else:\n",
    "        data = Data(x=vertice, edge_index=edge_index)\n",
    "    \n",
    "    return data"
   ]
  },
  {
   "cell_type": "markdown",
   "metadata": {},
   "source": [
    "### Cvt 2 dataloader"
   ]
  },
  {
   "cell_type": "code",
   "execution_count": 9,
   "metadata": {
    "colab": {
     "base_uri": "https://localhost:8080/",
     "height": 246
    },
    "executionInfo": {
     "elapsed": 893,
     "status": "error",
     "timestamp": 1615282795672,
     "user": {
      "displayName": "Q56094077陳香君",
      "photoUrl": "",
      "userId": "10727804849868825735"
     },
     "user_tz": -480
    },
    "id": "GJrGQmiUxRGX",
    "outputId": "81d8b6cb-5008-47d8-baf4-1156d70e07fc"
   },
   "outputs": [],
   "source": [
    "def to_dataloader(x, y, batch, y_sep=None, usecols=None):\n",
    "    \n",
    "    data_list = []\n",
    "    for x_, y_ in zip(x, y):\n",
    "        data = to_data(x_, y_, y_sep=y_sep, usecols=usecols)\n",
    "        data_list.append(data)\n",
    "\n",
    "    loader = DataLoader(data_list, batch_size=batch)\n",
    "    return loader"
   ]
  },
  {
   "cell_type": "markdown",
   "metadata": {},
   "source": [
    "### Cvt nx.Graph 2 PyG.Data"
   ]
  },
  {
   "cell_type": "code",
   "execution_count": 10,
   "metadata": {},
   "outputs": [],
   "source": [
    "def from_networkx(G, between_list=None):\n",
    "    r\"\"\"Converts a :obj:`networkx.Graph` or :obj:`networkx.DiGraph` to a\n",
    "    :class:`torch_geometric.data.Data` instance.\n",
    "\n",
    "    Args:\n",
    "        G (networkx.Graph or networkx.DiGraph): A networkx graph.\n",
    "    \"\"\"\n",
    "\n",
    "    G = nx.convert_node_labels_to_integers(G)\n",
    "    G = G.to_directed() if not nx.is_directed(G) else G\n",
    "    edge_index = torch.LongTensor(list(G.edges)).t().contiguous()\n",
    "   \n",
    "    data = {}\n",
    "\n",
    "    for i, (_, feat_dict) in enumerate(G.nodes(data=True)):\n",
    "        for key, value in feat_dict.items():\n",
    "           \n",
    "            data[str(key)] = [value] if i == 0 else data[str(key)] + [value]\n",
    "\n",
    "    for i, (_, _, feat_dict) in enumerate(G.edges(data=True)):\n",
    "        for key, value in feat_dict.items():\n",
    "            data[str(key)] = [value] if i == 0 else data[str(key)] + [value]\n",
    "\n",
    "    for key, item in data.items():\n",
    "        try:\n",
    "            data[key] = torch.tensor(item)\n",
    "        except ValueError:\n",
    "            pass\n",
    "\n",
    "    data['edge_index'] = edge_index.view(2, -1)\n",
    "    data['x'] = torch.from_numpy(\n",
    "        np.array( [ [G.degree[i], 1, 1] for i in G.nodes()], dtype=np.float ) )\n",
    "    \n",
    "    if between_list is not None:\n",
    "        data['y'] = torch.from_numpy(\n",
    "            np.array( [ [b] for b in between_list ] , dtype=np.float) )\n",
    "    data = torch_geometric.data.Data.from_dict(data)\n",
    "    data.num_nodes = G.number_of_nodes()\n",
    "\n",
    "    return data"
   ]
  },
  {
   "cell_type": "markdown",
   "metadata": {},
   "source": [
    "### Randomly generate nx.Graph"
   ]
  },
  {
   "cell_type": "code",
   "execution_count": 11,
   "metadata": {},
   "outputs": [],
   "source": [
    "def generate_nx_graph(nodes_cnt):\n",
    "    # Draw network G from distribution D (like the power-law model)\n",
    "    G = nx.generators.random_graphs.powerlaw_cluster_graph(n=nodes_cnt, m=4, p=0.05)\n",
    "    # Calculate each node’s exact BC value bv, ∀v ∈ V\n",
    "    betweenness = nx.algorithms.centrality.betweenness_centrality(G)\n",
    "    \n",
    "    # Convert betweenness dict to list\n",
    "    between_list = [v for k, v in sorted(betweenness.items(), key=lambda  item: int(item[0]), reverse=False)]\n",
    "    bc_gt = torch.from_numpy(np.array(between_list))\n",
    "    \n",
    "    return G, bc_gt"
   ]
  },
  {
   "cell_type": "markdown",
   "metadata": {},
   "source": [
    "## Read data"
   ]
  },
  {
   "cell_type": "markdown",
   "metadata": {},
   "source": [
    "### Load test data"
   ]
  },
  {
   "cell_type": "code",
   "execution_count": 12,
   "metadata": {},
   "outputs": [],
   "source": [
    "synthetic, between = load_data(setting.data_synthetic)\n",
    "yt, yt_score = load_data(setting.data_youtube)"
   ]
  },
  {
   "cell_type": "code",
   "execution_count": 13,
   "metadata": {},
   "outputs": [],
   "source": [
    "train, train_bet = load_data(os.path.join(setting.data_train, str(setting.nodes_cnt)))"
   ]
  },
  {
   "cell_type": "code",
   "execution_count": 14,
   "metadata": {},
   "outputs": [],
   "source": [
    "valid, valid_bet = load_data(os.path.join(setting.data_valid, str(setting.nodes_cnt)))"
   ]
  },
  {
   "cell_type": "markdown",
   "metadata": {},
   "source": [
    "### Cvt to data/dataloader"
   ]
  },
  {
   "cell_type": "code",
   "execution_count": 15,
   "metadata": {},
   "outputs": [],
   "source": [
    "train_loader = to_dataloader(train, train_bet, batch=32)\n",
    "valid_loader = to_dataloader(valid, valid_bet, batch=32)"
   ]
  },
  {
   "cell_type": "code",
   "execution_count": 16,
   "metadata": {},
   "outputs": [],
   "source": [
    "syn_loader = to_dataloader(synthetic, between, batch=1, usecols=1)"
   ]
  },
  {
   "cell_type": "code",
   "execution_count": 17,
   "metadata": {},
   "outputs": [],
   "source": [
    "yt_loader = to_dataloader(yt, yt_score, batch=1, y_sep=\":\", usecols=1)"
   ]
  },
  {
   "cell_type": "markdown",
   "metadata": {
    "id": "Jh1T_INgi8Ql"
   },
   "source": [
    "# Model"
   ]
  },
  {
   "cell_type": "markdown",
   "metadata": {},
   "source": [
    "## Hyper params"
   ]
  },
  {
   "cell_type": "code",
   "execution_count": 18,
   "metadata": {},
   "outputs": [],
   "source": [
    "setting.params_drbc = dict(\n",
    "    # according to source paper\n",
    "    encoder_params = dict(\n",
    "        c = 3,\n",
    "        p = 128,\n",
    "        num_layers = 5,\n",
    "        device = setting.device\n",
    "    ),\n",
    "    decoder_params = dict(\n",
    "        p = 128,\n",
    "        q = 64\n",
    "    )\n",
    ")\n",
    "\n",
    "setting.params_node2vec = dict(\n",
    "    in_features = 128\n",
    ")"
   ]
  },
  {
   "cell_type": "markdown",
   "metadata": {},
   "source": [
    "## DrBC"
   ]
  },
  {
   "cell_type": "code",
   "execution_count": 19,
   "metadata": {
    "id": "gcEf-tUaqDVa"
   },
   "outputs": [],
   "source": [
    "from torch_geometric.nn import MessagePassing\n",
    "import torch.nn.functional as F\n",
    "from torch_geometric.typing import Adj, OptTensor"
   ]
  },
  {
   "cell_type": "code",
   "execution_count": 20,
   "metadata": {
    "colab": {
     "base_uri": "https://localhost:8080/",
     "height": 135
    },
    "executionInfo": {
     "elapsed": 661,
     "status": "error",
     "timestamp": 1615203940879,
     "user": {
      "displayName": "Q56094077陳香君",
      "photoUrl": "",
      "userId": "10727804849868825735"
     },
     "user_tz": -480
    },
    "id": "P5EzKoYr7SGL",
    "outputId": "5504fb67-0455-4af0-a697-930410895a70"
   },
   "outputs": [],
   "source": [
    "class Encoder(MessagePassing):\n",
    "    def __init__(self, c, p, num_layers, device, aggr=\"add\"):\n",
    "        super(Encoder, self).__init__(aggr=aggr)\n",
    "        \n",
    "        self.num_layers = num_layers\n",
    "        self.w_0 = nn.Linear(in_features=c, out_features=p).double()\n",
    "        \n",
    "        self.relu = nn.ReLU(inplace=True)\n",
    "        self.rnn = nn.GRUCell(p, p).double()\n",
    "\n",
    "        self.device = device\n",
    "\n",
    "    def forward(self, data):\n",
    "        \n",
    "        x, edge_index = data.x, data.edge_index\n",
    "        \n",
    "        \n",
    "        # compute dgree\n",
    "        row, col = edge_index\n",
    "        deg = utils.degree(col)\n",
    "        deg = torch.add(deg, 1)\n",
    "        deg_inv_sqrt = torch.pow(deg, -0.5)\n",
    "        norm = deg_inv_sqrt[row] * deg_inv_sqrt[col]\n",
    "        \n",
    "        \n",
    "        # h_0 = x\n",
    "\n",
    "        # h_1\n",
    "        x = self.w_0(x)\n",
    "        x = self.relu(x)\n",
    "        x = F.normalize(x, p=2, dim=1)\n",
    "        \n",
    "        h_s = [x]\n",
    "        \n",
    "        for i in range(self.num_layers-1):\n",
    "            # internally calls the message(), aggregate() and update() functions\n",
    "            x = self.propagate(edge_index, x=x, norm=norm)\n",
    "            h_s.append(x)\n",
    "        \n",
    "        h_s = torch.stack(h_s, dim=-1)\n",
    "        # Use torch.max to replace max_pooling\n",
    "        z, _ = torch.max(h_s, dim=-1)\n",
    "        # z = global_max_pool(h_s, torch.tensor([0], dtype=torch.long).to(self.device))\n",
    "        \n",
    "        return z\n",
    "\n",
    "    def message(self, x_j, norm: OptTensor):\n",
    "        \"\"\"      \n",
    "        In addition, tensors passed to propagate() can be mapped to the respective nodes i and j \n",
    "        by appending _i or _j to the variable name, .e.g. x_i and x_j. \n",
    "        Note that we generally refer to i as the central nodes that aggregates information, \n",
    "        and refer to j as the neighboring nodes, since this is the most common notation.\n",
    "        \"\"\"\n",
    "  \n",
    "        return x_j if norm is None else norm.view(-1, 1) * x_j\n",
    "    \n",
    "    \n",
    "    def update(self, aggr_out, x):\n",
    "        \"\"\"        \n",
    "        Takes in the output of aggregation as first argument \n",
    "        and any argument which was initially passed to propagate().\n",
    "        \"\"\"\n",
    "\n",
    "        x = self.rnn(x, aggr_out)\n",
    "        x = F.normalize(x, p=2, dim=1) \n",
    "        \n",
    "        return x\n",
    "    "
   ]
  },
  {
   "cell_type": "code",
   "execution_count": 21,
   "metadata": {},
   "outputs": [],
   "source": [
    "class Decoder(nn.Module):\n",
    "    def __init__(self, p, q):\n",
    "        \n",
    "        super().__init__()\n",
    "        \n",
    "        self.w_4 = nn.Linear(in_features=p, out_features=q).double()\n",
    "        self.w_5 = nn.Linear(in_features=q, out_features=1).double()\n",
    "        \n",
    "        self.relu = nn.ReLU(inplace=True)\n",
    "        \n",
    "    def forward(self, z):\n",
    "        z = self.w_4(z)\n",
    "        z = self.relu(z)\n",
    "        z = self.w_5(z)\n",
    "        \n",
    "        return z"
   ]
  },
  {
   "cell_type": "code",
   "execution_count": 22,
   "metadata": {},
   "outputs": [],
   "source": [
    "class DrBC(nn.Module):\n",
    "    def __init__(self, encoder_params, decoder_params):\n",
    "        super().__init__()\n",
    "        \n",
    "        self.encoder = Encoder(**encoder_params)\n",
    "        self.decoder = Decoder(**decoder_params)\n",
    "        \n",
    "        \n",
    "    def forward(self, data):\n",
    "        \n",
    "        z = self.encoder(data)\n",
    "        \n",
    "        return self.decoder(z)"
   ]
  },
  {
   "cell_type": "markdown",
   "metadata": {},
   "source": [
    "## Node2Vec"
   ]
  },
  {
   "cell_type": "code",
   "execution_count": 23,
   "metadata": {},
   "outputs": [
    {
     "name": "stderr",
     "output_type": "stream",
     "text": [
      "INFO:gensim.summarization.textcleaner:'pattern' package not found; tag filters are not available for English\n"
     ]
    }
   ],
   "source": [
    "import node2vec\n",
    "from gensim.models import Word2Vec"
   ]
  },
  {
   "cell_type": "code",
   "execution_count": 24,
   "metadata": {},
   "outputs": [],
   "source": [
    "def learn_embeddings(walks, dim=128, window=10, workers=8, iters=1):\n",
    "    '''\n",
    "    Learn embeddings by optimizing the Skipgram objective using SGD.\n",
    "    '''\n",
    "    walks = [list(map(str, walk)) for walk in walks]\n",
    "    model = Word2Vec(walks, size=dim, window=window, min_count=0, sg=1, workers=workers, iter=iters)\n",
    "    \n",
    "    return model.wv\n",
    "\n",
    "\n",
    "\n",
    "def gnx_to_emb(G, nodes_cnt):\n",
    "    for edge in G.edges():\n",
    "        G[edge[0]][edge[1]]['weight'] = 1\n",
    "\n",
    "    G = node2vec.Graph(G, False, p=1, q=1)\n",
    "    G.preprocess_transition_probs()\n",
    "    walks = G.simulate_walks(10, 80)\n",
    "\n",
    "    embs = learn_embeddings(walks)\n",
    "    embs_ = []\n",
    "    for index in range(nodes_cnt):\n",
    "        embs_.append(torch.from_numpy(np.array(embs.get_vector(str(index)), dtype=np.float)))\n",
    "    embs_ = torch.stack(embs_)\n",
    "    \n",
    "    \n",
    "    return embs_"
   ]
  },
  {
   "cell_type": "code",
   "execution_count": 25,
   "metadata": {},
   "outputs": [],
   "source": [
    "class BC_node2vec(nn.Module):\n",
    "    \n",
    "    def __init__(self, in_features):\n",
    "        super().__init__()\n",
    "\n",
    "        self.mlp = nn.Linear(in_features=in_features, out_features=1).double()\n",
    "        \n",
    "    def forward(self, emb):\n",
    "        \n",
    "        return self.mlp(emb)"
   ]
  },
  {
   "cell_type": "markdown",
   "metadata": {},
   "source": [
    "# Evaluation"
   ]
  },
  {
   "cell_type": "markdown",
   "metadata": {},
   "source": [
    "## Top k %"
   ]
  },
  {
   "cell_type": "code",
   "execution_count": 26,
   "metadata": {},
   "outputs": [],
   "source": [
    "def top_n_percentage(bc_gt, bc_pr, k):\n",
    "    \n",
    "    if not isinstance(bc_gt, torch.Tensor):\n",
    "        bc_gt = torch.from_numpy(bc_gt)\n",
    "    bc_gt = bc_gt.to(setting.device)\n",
    "    bc_gt = torch.reshape(bc_gt, (-1, ))\n",
    "    \n",
    "    if not isinstance(bc_pr, torch.Tensor):\n",
    "        bc_pr = torch.from_numpy(bc_pr)\n",
    "    bc_pr = bc_pr.to(setting.device)\n",
    "    bc_pr = torch.reshape(bc_pr, (-1, ))\n",
    "    \n",
    "    nodes = bc_gt.size()[0]\n",
    "    k = int(nodes * k / 100)\n",
    "    \n",
    "    gt_value, gt_indice = torch.topk(bc_gt, k)\n",
    "    pr_value, pr_indice = torch.topk(bc_pr, k)\n",
    "\n",
    "    gt_indice = set(gt_indice.cpu().numpy())\n",
    "    pr_indice = set(pr_indice.cpu().numpy())\n",
    "\n",
    "    intersect = len(gt_indice & pr_indice)\n",
    "    top = intersect/k\n",
    "    \n",
    "    return top"
   ]
  },
  {
   "cell_type": "markdown",
   "metadata": {},
   "source": [
    "## Tau Kendal"
   ]
  },
  {
   "cell_type": "code",
   "execution_count": 27,
   "metadata": {},
   "outputs": [],
   "source": [
    "from scipy import stats\n",
    "\n",
    "def kendal_tau_distance(bc_gt, bc_pr):\n",
    "    \n",
    "    if isinstance(bc_gt, torch.Tensor):\n",
    "        bc_gt = torch.reshape(bc_gt, (-1, ))\n",
    "        bc_gt = bc_gt.cpu().detach().numpy()\n",
    "        \n",
    "    if isinstance(bc_pr, torch.Tensor):\n",
    "        bc_pr = torch.reshape(bc_pr, (-1, ))\n",
    "        bc_pr = bc_pr.cpu().detach().numpy()\n",
    "    \n",
    "    tau, p_value = stats.kendalltau(bc_gt, bc_pr)\n",
    "    return tau"
   ]
  },
  {
   "cell_type": "markdown",
   "metadata": {},
   "source": [
    "# Train"
   ]
  },
  {
   "cell_type": "markdown",
   "metadata": {
    "id": "Dvoodu8ki_Cu"
   },
   "source": [
    "## Load model"
   ]
  },
  {
   "cell_type": "code",
   "execution_count": 28,
   "metadata": {},
   "outputs": [],
   "source": [
    "def load_checkpoint(filepath, device, **params):\n",
    "\n",
    "    if \"node2vec\" in filepath:\n",
    "        model = BC_node2vec(**params[\"node2vec\"])\n",
    "    \n",
    "    else:\n",
    "        model = DrBC(**params[\"drbc\"])\n",
    "    \n",
    "    model = model.to(device)\n",
    "    \n",
    "    if os.path.exists(filepath):\n",
    "        print(\"pretrained finded\")\n",
    "        checkpoint = torch.load(filepath)\n",
    "        model.load_state_dict(checkpoint['model_stat'])\n",
    "        optimizer = torch.optim.Adam(model.parameters(), lr=1e-4)\n",
    "        optimizer.load_state_dict(checkpoint['optimizer_stat'])\n",
    "\n",
    "    else:\n",
    "        print(\"use a new optimizer\")\n",
    "        optimizer = torch.optim.Adam(model.parameters(), lr=1e-4)\n",
    "\n",
    "    return model, optimizer"
   ]
  },
  {
   "cell_type": "code",
   "execution_count": 36,
   "metadata": {},
   "outputs": [
    {
     "name": "stdout",
     "output_type": "stream",
     "text": [
      "use a new optimizer\n"
     ]
    },
    {
     "data": {
      "text/plain": [
       "DrBC(\n",
       "  (encoder): Encoder(\n",
       "    (w_0): Linear(in_features=3, out_features=128, bias=True)\n",
       "    (relu): ReLU(inplace=True)\n",
       "    (rnn): GRUCell(128, 128)\n",
       "  )\n",
       "  (decoder): Decoder(\n",
       "    (w_4): Linear(in_features=128, out_features=64, bias=True)\n",
       "    (w_5): Linear(in_features=64, out_features=1, bias=True)\n",
       "    (relu): ReLU(inplace=True)\n",
       "  )\n",
       ")"
      ]
     },
     "execution_count": 36,
     "metadata": {},
     "output_type": "execute_result"
    }
   ],
   "source": [
    "model, optimizer = load_checkpoint(\n",
    "                    setting.weight_drbc,\n",
    "                    setting.device,\n",
    "                    drbc = setting.params_drbc,\n",
    "                    node2vec = setting.params_node2vec)\n",
    "\n",
    "model"
   ]
  },
  {
   "cell_type": "markdown",
   "metadata": {},
   "source": [
    "## DrBC"
   ]
  },
  {
   "cell_type": "code",
   "execution_count": 37,
   "metadata": {},
   "outputs": [
    {
     "name": "stderr",
     "output_type": "stream",
     "text": [
      "  0%|          | 1/313 [00:00<00:49,  6.29it/s]"
     ]
    },
    {
     "name": "stdout",
     "output_type": "stream",
     "text": [
      "\n",
      "Epoch: 1\n"
     ]
    },
    {
     "name": "stderr",
     "output_type": "stream",
     "text": [
      "100%|██████████| 313/313 [01:17<00:00,  4.05it/s]\n",
      "100%|██████████| 313/313 [02:10<00:00,  2.39it/s]\n",
      "  0%|          | 0/4 [00:00<?, ?it/s]"
     ]
    },
    {
     "name": "stdout",
     "output_type": "stream",
     "text": [
      "Train: loss = 34.95104166008532, top 1 = 0.0, top 5 = 0.0009699999999999983, top 10 = 0.16110500000000394, kendal = 0.296878488146572\n"
     ]
    },
    {
     "name": "stderr",
     "output_type": "stream",
     "text": [
      "100%|██████████| 4/4 [00:01<00:00,  2.69it/s]\n",
      "  0%|          | 1/313 [00:00<00:38,  8.20it/s]"
     ]
    },
    {
     "name": "stdout",
     "output_type": "stream",
     "text": [
      "Valid: loss = 34.69500164792407, top 1 = 0.0, top 5 = 0.0, top 10 = 0.15949999999999998, kendal = 0.2983824352297815\n",
      "\n",
      "Epoch: 2\n"
     ]
    },
    {
     "name": "stderr",
     "output_type": "stream",
     "text": [
      "100%|██████████| 313/313 [01:14<00:00,  4.22it/s]\n",
      "100%|██████████| 313/313 [01:48<00:00,  2.90it/s]\n",
      "  0%|          | 0/4 [00:00<?, ?it/s]"
     ]
    },
    {
     "name": "stdout",
     "output_type": "stream",
     "text": [
      "Train: loss = 34.97154166105902, top 1 = 0.0, top 5 = 0.0009699999999999983, top 10 = 0.16110500000000394, kendal = 0.2968784856774136\n"
     ]
    },
    {
     "name": "stderr",
     "output_type": "stream",
     "text": [
      "100%|██████████| 4/4 [00:01<00:00,  2.93it/s]\n",
      "  0%|          | 0/313 [00:00<?, ?it/s]"
     ]
    },
    {
     "name": "stdout",
     "output_type": "stream",
     "text": [
      "Valid: loss = 35.05600166507065, top 1 = 0.0, top 5 = 0.0, top 10 = 0.15949999999999998, kendal = 0.2983824352297815\n",
      "\n",
      "Epoch: 3\n"
     ]
    },
    {
     "name": "stderr",
     "output_type": "stream",
     "text": [
      "100%|██████████| 313/313 [01:21<00:00,  3.86it/s]\n",
      "100%|██████████| 313/313 [02:11<00:00,  2.38it/s]\n",
      "  0%|          | 0/4 [00:00<?, ?it/s]"
     ]
    },
    {
     "name": "stdout",
     "output_type": "stream",
     "text": [
      "Train: loss = 34.95785166040878, top 1 = 0.0, top 5 = 0.0009699999999999983, top 10 = 0.16110500000000394, kendal = 0.29687848666192024\n"
     ]
    },
    {
     "name": "stderr",
     "output_type": "stream",
     "text": [
      "100%|██████████| 4/4 [00:00<00:00,  4.37it/s]\n",
      "  0%|          | 0/313 [00:00<?, ?it/s]"
     ]
    },
    {
     "name": "stdout",
     "output_type": "stream",
     "text": [
      "Valid: loss = 34.66400164645165, top 1 = 0.0, top 5 = 0.0, top 10 = 0.15949999999999998, kendal = 0.2983824352297815\n",
      "\n",
      "Epoch: 4\n"
     ]
    },
    {
     "name": "stderr",
     "output_type": "stream",
     "text": [
      "100%|██████████| 313/313 [00:58<00:00,  5.35it/s]\n",
      "100%|██████████| 313/313 [02:08<00:00,  2.44it/s]\n",
      "  0%|          | 0/4 [00:00<?, ?it/s]"
     ]
    },
    {
     "name": "stdout",
     "output_type": "stream",
     "text": [
      "Train: loss = 34.99419166213484, top 1 = 0.0, top 5 = 0.0009699999999999983, top 10 = 0.16110500000000394, kendal = 0.29687848510605375\n"
     ]
    },
    {
     "name": "stderr",
     "output_type": "stream",
     "text": [
      "100%|██████████| 4/4 [00:01<00:00,  2.42it/s]\n",
      "  0%|          | 0/313 [00:00<?, ?it/s]"
     ]
    },
    {
     "name": "stdout",
     "output_type": "stream",
     "text": [
      "Valid: loss = 34.89100165723357, top 1 = 0.0, top 5 = 0.0, top 10 = 0.15949999999999998, kendal = 0.2983824352297815\n",
      "\n",
      "Epoch: 5\n"
     ]
    },
    {
     "name": "stderr",
     "output_type": "stream",
     "text": [
      "100%|██████████| 313/313 [01:30<00:00,  3.46it/s]\n",
      "100%|██████████| 313/313 [01:33<00:00,  3.35it/s]\n",
      "  0%|          | 0/4 [00:00<?, ?it/s]"
     ]
    },
    {
     "name": "stdout",
     "output_type": "stream",
     "text": [
      "Train: loss = 34.97409166118014, top 1 = 0.0, top 5 = 0.0009699999999999983, top 10 = 0.16110500000000394, kendal = 0.29687848637478825\n"
     ]
    },
    {
     "name": "stderr",
     "output_type": "stream",
     "text": [
      "100%|██████████| 4/4 [00:00<00:00,  4.11it/s]\n",
      "  0%|          | 0/313 [00:00<?, ?it/s]"
     ]
    },
    {
     "name": "stdout",
     "output_type": "stream",
     "text": [
      "Valid: loss = 34.81800165376626, top 1 = 0.0, top 5 = 0.0, top 10 = 0.15949999999999998, kendal = 0.2983824352297815\n",
      "\n",
      "Epoch: 6\n"
     ]
    },
    {
     "name": "stderr",
     "output_type": "stream",
     "text": [
      "100%|██████████| 313/313 [01:19<00:00,  3.92it/s]\n",
      "100%|██████████| 313/313 [02:15<00:00,  2.31it/s]\n",
      "  0%|          | 0/4 [00:00<?, ?it/s]"
     ]
    },
    {
     "name": "stdout",
     "output_type": "stream",
     "text": [
      "Train: loss = 34.948381659958976, top 1 = 0.0, top 5 = 0.0009699999999999983, top 10 = 0.16110500000000394, kendal = 0.29687848774933484\n"
     ]
    },
    {
     "name": "stderr",
     "output_type": "stream",
     "text": [
      "100%|██████████| 4/4 [00:01<00:00,  3.26it/s]\n",
      "  0%|          | 0/313 [00:00<?, ?it/s]"
     ]
    },
    {
     "name": "stdout",
     "output_type": "stream",
     "text": [
      "Valid: loss = 34.69900164811406, top 1 = 0.0, top 5 = 0.0, top 10 = 0.15949999999999998, kendal = 0.2983824352297815\n",
      "\n",
      "Epoch: 7\n"
     ]
    },
    {
     "name": "stderr",
     "output_type": "stream",
     "text": [
      "100%|██████████| 313/313 [01:04<00:00,  4.83it/s]\n",
      "100%|██████████| 313/313 [01:57<00:00,  2.66it/s]\n",
      "  0%|          | 0/4 [00:00<?, ?it/s]"
     ]
    },
    {
     "name": "stdout",
     "output_type": "stream",
     "text": [
      "Train: loss = 34.96318166066194, top 1 = 0.0, top 5 = 0.0009699999999999983, top 10 = 0.16110500000000394, kendal = 0.29687848676823736\n"
     ]
    },
    {
     "name": "stderr",
     "output_type": "stream",
     "text": [
      "100%|██████████| 4/4 [00:01<00:00,  3.11it/s]\n",
      "  0%|          | 1/313 [00:00<00:56,  5.53it/s]"
     ]
    },
    {
     "name": "stdout",
     "output_type": "stream",
     "text": [
      "Valid: loss = 35.01700166321825, top 1 = 0.0, top 5 = 0.0, top 10 = 0.15949999999999998, kendal = 0.2983824352297815\n",
      "\n",
      "Epoch: 8\n"
     ]
    },
    {
     "name": "stderr",
     "output_type": "stream",
     "text": [
      "100%|██████████| 313/313 [01:19<00:00,  3.95it/s]\n",
      "100%|██████████| 313/313 [02:05<00:00,  2.50it/s]\n",
      "  0%|          | 0/4 [00:00<?, ?it/s]"
     ]
    },
    {
     "name": "stdout",
     "output_type": "stream",
     "text": [
      "Train: loss = 34.98283166159526, top 1 = 0.0, top 5 = 0.0009699999999999983, top 10 = 0.16110500000000394, kendal = 0.2968784865649469\n"
     ]
    },
    {
     "name": "stderr",
     "output_type": "stream",
     "text": [
      "100%|██████████| 4/4 [00:01<00:00,  3.78it/s]\n",
      "  0%|          | 0/313 [00:00<?, ?it/s]"
     ]
    },
    {
     "name": "stdout",
     "output_type": "stream",
     "text": [
      "Valid: loss = 34.98300166160334, top 1 = 0.0, top 5 = 0.0, top 10 = 0.15949999999999998, kendal = 0.2983824352297815\n",
      "\n",
      "Epoch: 9\n"
     ]
    },
    {
     "name": "stderr",
     "output_type": "stream",
     "text": [
      "100%|██████████| 313/313 [01:05<00:00,  4.76it/s]\n",
      "100%|██████████| 313/313 [02:02<00:00,  2.55it/s]\n",
      "  0%|          | 0/4 [00:00<?, ?it/s]"
     ]
    },
    {
     "name": "stdout",
     "output_type": "stream",
     "text": [
      "Train: loss = 34.985241661709736, top 1 = 0.0, top 5 = 0.0009699999999999983, top 10 = 0.16110500000000394, kendal = 0.2968784901066204\n"
     ]
    },
    {
     "name": "stderr",
     "output_type": "stream",
     "text": [
      "100%|██████████| 4/4 [00:01<00:00,  2.39it/s]\n",
      "  0%|          | 1/313 [00:00<00:37,  8.25it/s]"
     ]
    },
    {
     "name": "stdout",
     "output_type": "stream",
     "text": [
      "Valid: loss = 34.87800165661611, top 1 = 0.0, top 5 = 0.0, top 10 = 0.15949999999999998, kendal = 0.2983824352297815\n",
      "\n",
      "Epoch: 10\n"
     ]
    },
    {
     "name": "stderr",
     "output_type": "stream",
     "text": [
      "100%|██████████| 313/313 [01:30<00:00,  3.44it/s]\n",
      "100%|██████████| 313/313 [01:34<00:00,  3.33it/s]\n",
      "  0%|          | 0/4 [00:00<?, ?it/s]"
     ]
    },
    {
     "name": "stdout",
     "output_type": "stream",
     "text": [
      "Train: loss = 34.98588166174013, top 1 = 0.0, top 5 = 0.0009699999999999983, top 10 = 0.16110500000000394, kendal = 0.2968784889548094\n"
     ]
    },
    {
     "name": "stderr",
     "output_type": "stream",
     "text": [
      "100%|██████████| 4/4 [00:00<00:00,  4.50it/s]\n",
      "  0%|          | 1/313 [00:00<00:43,  7.15it/s]"
     ]
    },
    {
     "name": "stdout",
     "output_type": "stream",
     "text": [
      "Valid: loss = 34.66000164626166, top 1 = 0.0, top 5 = 0.0, top 10 = 0.15949999999999998, kendal = 0.2983824352297815\n",
      "\n",
      "Epoch: 11\n"
     ]
    },
    {
     "name": "stderr",
     "output_type": "stream",
     "text": [
      "100%|██████████| 313/313 [01:17<00:00,  4.04it/s]\n",
      "100%|██████████| 313/313 [02:23<00:00,  2.18it/s]\n",
      "  0%|          | 0/4 [00:00<?, ?it/s]"
     ]
    },
    {
     "name": "stdout",
     "output_type": "stream",
     "text": [
      "Train: loss = 34.96659166082391, top 1 = 0.0, top 5 = 0.0009699999999999983, top 10 = 0.16110500000000394, kendal = 0.2968784857764072\n"
     ]
    },
    {
     "name": "stderr",
     "output_type": "stream",
     "text": [
      "100%|██████████| 4/4 [00:01<00:00,  3.37it/s]\n",
      "  0%|          | 0/313 [00:00<?, ?it/s]"
     ]
    },
    {
     "name": "stdout",
     "output_type": "stream",
     "text": [
      "Valid: loss = 35.24100167385768, top 1 = 0.0, top 5 = 0.0, top 10 = 0.15949999999999998, kendal = 0.2983824352297815\n",
      "\n",
      "Epoch: 12\n"
     ]
    },
    {
     "name": "stderr",
     "output_type": "stream",
     "text": [
      "100%|██████████| 313/313 [00:55<00:00,  5.64it/s]\n",
      "100%|██████████| 313/313 [01:57<00:00,  2.66it/s]\n",
      "  0%|          | 0/4 [00:00<?, ?it/s]"
     ]
    },
    {
     "name": "stdout",
     "output_type": "stream",
     "text": [
      "Train: loss = 34.97215166108799, top 1 = 0.0, top 5 = 0.0009699999999999983, top 10 = 0.16110500000000394, kendal = 0.296878486992362\n"
     ]
    },
    {
     "name": "stderr",
     "output_type": "stream",
     "text": [
      "100%|██████████| 4/4 [00:01<00:00,  2.62it/s]\n",
      "  0%|          | 0/313 [00:00<?, ?it/s]"
     ]
    },
    {
     "name": "stdout",
     "output_type": "stream",
     "text": [
      "Valid: loss = 34.67200164683163, top 1 = 0.0, top 5 = 0.0, top 10 = 0.15949999999999998, kendal = 0.2983824352297815\n",
      "\n",
      "Epoch: 13\n"
     ]
    },
    {
     "name": "stderr",
     "output_type": "stream",
     "text": [
      "100%|██████████| 313/313 [01:25<00:00,  3.65it/s]\n",
      "100%|██████████| 313/313 [01:50<00:00,  2.82it/s]\n",
      "  0%|          | 0/4 [00:00<?, ?it/s]"
     ]
    },
    {
     "name": "stdout",
     "output_type": "stream",
     "text": [
      "Train: loss = 34.99275166206644, top 1 = 0.0, top 5 = 0.0009699999999999983, top 10 = 0.16110500000000394, kendal = 0.2968784864513063\n"
     ]
    },
    {
     "name": "stderr",
     "output_type": "stream",
     "text": [
      "100%|██████████| 4/4 [00:01<00:00,  3.38it/s]\n",
      "  0%|          | 1/313 [00:00<00:33,  9.33it/s]"
     ]
    },
    {
     "name": "stdout",
     "output_type": "stream",
     "text": [
      "Valid: loss = 35.016001663170755, top 1 = 0.0, top 5 = 0.0, top 10 = 0.15949999999999998, kendal = 0.2983824352297815\n",
      "\n",
      "Epoch: 14\n"
     ]
    },
    {
     "name": "stderr",
     "output_type": "stream",
     "text": [
      "100%|██████████| 313/313 [01:09<00:00,  4.48it/s]\n",
      "100%|██████████| 313/313 [02:07<00:00,  2.46it/s]\n",
      "  0%|          | 0/4 [00:00<?, ?it/s]"
     ]
    },
    {
     "name": "stdout",
     "output_type": "stream",
     "text": [
      "Train: loss = 34.968701660924125, top 1 = 0.0, top 5 = 0.0009699999999999983, top 10 = 0.16110500000000394, kendal = 0.296878489578949\n"
     ]
    },
    {
     "name": "stderr",
     "output_type": "stream",
     "text": [
      "100%|██████████| 4/4 [00:01<00:00,  3.05it/s]\n",
      "  0%|          | 1/313 [00:00<00:45,  6.87it/s]"
     ]
    },
    {
     "name": "stdout",
     "output_type": "stream",
     "text": [
      "Valid: loss = 34.647001645644195, top 1 = 0.0, top 5 = 0.0, top 10 = 0.15949999999999998, kendal = 0.2983824352297815\n",
      "\n",
      "Epoch: 15\n"
     ]
    },
    {
     "name": "stderr",
     "output_type": "stream",
     "text": [
      "100%|██████████| 313/313 [01:22<00:00,  3.77it/s]\n",
      "100%|██████████| 313/313 [01:44<00:00,  3.00it/s]\n",
      "  0%|          | 0/4 [00:00<?, ?it/s]"
     ]
    },
    {
     "name": "stdout",
     "output_type": "stream",
     "text": [
      "Train: loss = 34.96728166085668, top 1 = 0.0, top 5 = 0.0009699999999999983, top 10 = 0.16110500000000394, kendal = 0.2968784870769611\n"
     ]
    },
    {
     "name": "stderr",
     "output_type": "stream",
     "text": [
      "100%|██████████| 4/4 [00:00<00:00,  4.46it/s]\n",
      "  0%|          | 1/313 [00:00<00:44,  7.02it/s]"
     ]
    },
    {
     "name": "stdout",
     "output_type": "stream",
     "text": [
      "Valid: loss = 34.938001659465954, top 1 = 0.0, top 5 = 0.0, top 10 = 0.15949999999999998, kendal = 0.2983824352297815\n",
      "\n",
      "Epoch: 16\n"
     ]
    },
    {
     "name": "stderr",
     "output_type": "stream",
     "text": [
      "100%|██████████| 313/313 [01:14<00:00,  4.19it/s]\n",
      "100%|██████████| 313/313 [02:22<00:00,  2.20it/s]\n",
      "  0%|          | 0/4 [00:00<?, ?it/s]"
     ]
    },
    {
     "name": "stdout",
     "output_type": "stream",
     "text": [
      "Train: loss = 34.969321660953575, top 1 = 0.0, top 5 = 0.0009699999999999983, top 10 = 0.16110500000000394, kendal = 0.2968784872395935\n"
     ]
    },
    {
     "name": "stderr",
     "output_type": "stream",
     "text": [
      "100%|██████████| 4/4 [00:01<00:00,  3.72it/s]\n",
      "  0%|          | 0/313 [00:00<?, ?it/s]"
     ]
    },
    {
     "name": "stdout",
     "output_type": "stream",
     "text": [
      "Valid: loss = 34.92700165894348, top 1 = 0.0, top 5 = 0.0, top 10 = 0.15949999999999998, kendal = 0.2983824352297815\n",
      "\n",
      "Epoch: 17\n"
     ]
    },
    {
     "name": "stderr",
     "output_type": "stream",
     "text": [
      "100%|██████████| 313/313 [01:00<00:00,  5.17it/s]\n",
      "100%|██████████| 313/313 [01:52<00:00,  2.79it/s]\n",
      "  0%|          | 0/4 [00:00<?, ?it/s]"
     ]
    },
    {
     "name": "stdout",
     "output_type": "stream",
     "text": [
      "Train: loss = 34.96127166057122, top 1 = 0.0, top 5 = 0.0009699999999999983, top 10 = 0.16110500000000394, kendal = 0.29687848720247084\n"
     ]
    },
    {
     "name": "stderr",
     "output_type": "stream",
     "text": [
      "100%|██████████| 4/4 [00:01<00:00,  2.56it/s]\n",
      "  0%|          | 1/313 [00:00<00:57,  5.43it/s]"
     ]
    },
    {
     "name": "stdout",
     "output_type": "stream",
     "text": [
      "Valid: loss = 34.98700166179333, top 1 = 0.0, top 5 = 0.0, top 10 = 0.15949999999999998, kendal = 0.2983824352297815\n",
      "\n",
      "Epoch: 18\n"
     ]
    },
    {
     "name": "stderr",
     "output_type": "stream",
     "text": [
      "100%|██████████| 313/313 [01:31<00:00,  3.42it/s]\n",
      "100%|██████████| 313/313 [01:43<00:00,  3.04it/s]\n",
      "  0%|          | 0/4 [00:00<?, ?it/s]"
     ]
    },
    {
     "name": "stdout",
     "output_type": "stream",
     "text": [
      "Train: loss = 34.97733166133403, top 1 = 0.0, top 5 = 0.0009699999999999983, top 10 = 0.16110500000000394, kendal = 0.29687848507271913\n"
     ]
    },
    {
     "name": "stderr",
     "output_type": "stream",
     "text": [
      "100%|██████████| 4/4 [00:00<00:00,  4.98it/s]\n",
      "  0%|          | 0/313 [00:00<?, ?it/s]"
     ]
    },
    {
     "name": "stdout",
     "output_type": "stream",
     "text": [
      "Valid: loss = 34.9980016623158, top 1 = 0.0, top 5 = 0.0, top 10 = 0.15949999999999998, kendal = 0.2983824352297815\n",
      "\n",
      "Epoch: 19\n"
     ]
    },
    {
     "name": "stderr",
     "output_type": "stream",
     "text": [
      "100%|██████████| 313/313 [01:03<00:00,  4.92it/s]\n",
      "100%|██████████| 313/313 [02:19<00:00,  2.24it/s]\n",
      "  0%|          | 0/4 [00:00<?, ?it/s]"
     ]
    },
    {
     "name": "stdout",
     "output_type": "stream",
     "text": [
      "Train: loss = 34.98582166173728, top 1 = 0.0, top 5 = 0.0009699999999999983, top 10 = 0.16110500000000394, kendal = 0.29687848765589697\n"
     ]
    },
    {
     "name": "stderr",
     "output_type": "stream",
     "text": [
      "100%|██████████| 4/4 [00:01<00:00,  3.37it/s]\n",
      "  0%|          | 0/313 [00:00<?, ?it/s]"
     ]
    },
    {
     "name": "stdout",
     "output_type": "stream",
     "text": [
      "Valid: loss = 35.008001662790775, top 1 = 0.0, top 5 = 0.0, top 10 = 0.15949999999999998, kendal = 0.2983824352297815\n",
      "\n",
      "Epoch: 20\n"
     ]
    },
    {
     "name": "stderr",
     "output_type": "stream",
     "text": [
      "100%|██████████| 313/313 [01:09<00:00,  4.52it/s]\n",
      "100%|██████████| 313/313 [01:49<00:00,  2.86it/s]\n",
      "  0%|          | 0/4 [00:00<?, ?it/s]"
     ]
    },
    {
     "name": "stdout",
     "output_type": "stream",
     "text": [
      "Train: loss = 34.95347166020074, top 1 = 0.0, top 5 = 0.0009699999999999983, top 10 = 0.16110500000000394, kendal = 0.29687848780716525\n"
     ]
    },
    {
     "name": "stderr",
     "output_type": "stream",
     "text": [
      "100%|██████████| 4/4 [00:01<00:00,  3.71it/s]\n",
      "  0%|          | 0/313 [00:00<?, ?it/s]"
     ]
    },
    {
     "name": "stdout",
     "output_type": "stream",
     "text": [
      "Valid: loss = 34.70000164816156, top 1 = 0.0, top 5 = 0.0, top 10 = 0.15949999999999998, kendal = 0.2983824352297815\n",
      "\n",
      "Epoch: 21\n"
     ]
    },
    {
     "name": "stderr",
     "output_type": "stream",
     "text": [
      "100%|██████████| 313/313 [01:20<00:00,  3.89it/s]\n",
      "100%|██████████| 313/313 [02:10<00:00,  2.40it/s]\n",
      "  0%|          | 0/4 [00:00<?, ?it/s]"
     ]
    },
    {
     "name": "stdout",
     "output_type": "stream",
     "text": [
      "Train: loss = 34.990971661981895, top 1 = 0.0, top 5 = 0.0009699999999999983, top 10 = 0.16110500000000394, kendal = 0.2968784881208134\n"
     ]
    },
    {
     "name": "stderr",
     "output_type": "stream",
     "text": [
      "100%|██████████| 4/4 [00:01<00:00,  3.37it/s]\n",
      "  0%|          | 1/313 [00:00<00:48,  6.38it/s]"
     ]
    },
    {
     "name": "stdout",
     "output_type": "stream",
     "text": [
      "Valid: loss = 34.89500165742356, top 1 = 0.0, top 5 = 0.0, top 10 = 0.15949999999999998, kendal = 0.2983824352297815\n",
      "\n",
      "Epoch: 22\n"
     ]
    },
    {
     "name": "stderr",
     "output_type": "stream",
     "text": [
      "100%|██████████| 313/313 [01:10<00:00,  4.47it/s]\n",
      "100%|██████████| 313/313 [01:48<00:00,  2.89it/s]\n",
      "  0%|          | 0/4 [00:00<?, ?it/s]"
     ]
    },
    {
     "name": "stdout",
     "output_type": "stream",
     "text": [
      "Train: loss = 34.9697916609759, top 1 = 0.0, top 5 = 0.0009699999999999983, top 10 = 0.16110500000000394, kendal = 0.2968784865725229\n"
     ]
    },
    {
     "name": "stderr",
     "output_type": "stream",
     "text": [
      "100%|██████████| 4/4 [00:01<00:00,  2.70it/s]\n",
      "  0%|          | 0/313 [00:00<?, ?it/s]"
     ]
    },
    {
     "name": "stdout",
     "output_type": "stream",
     "text": [
      "Valid: loss = 34.981001661508344, top 1 = 0.0, top 5 = 0.0, top 10 = 0.15949999999999998, kendal = 0.2983824352297815\n",
      "\n",
      "Epoch: 23\n"
     ]
    },
    {
     "name": "stderr",
     "output_type": "stream",
     "text": [
      "100%|██████████| 313/313 [01:29<00:00,  3.49it/s]\n",
      "100%|██████████| 313/313 [01:51<00:00,  2.80it/s]\n",
      "  0%|          | 0/4 [00:00<?, ?it/s]"
     ]
    },
    {
     "name": "stdout",
     "output_type": "stream",
     "text": [
      "Train: loss = 34.980701661494095, top 1 = 0.0, top 5 = 0.0009699999999999983, top 10 = 0.16110500000000394, kendal = 0.2968784873714166\n"
     ]
    },
    {
     "name": "stderr",
     "output_type": "stream",
     "text": [
      "100%|██████████| 4/4 [00:00<00:00,  4.24it/s]\n",
      "  0%|          | 1/313 [00:00<00:31,  9.92it/s]"
     ]
    },
    {
     "name": "stdout",
     "output_type": "stream",
     "text": [
      "Valid: loss = 35.03400166402571, top 1 = 0.0, top 5 = 0.0, top 10 = 0.15949999999999998, kendal = 0.2983824352297815\n",
      "\n",
      "Epoch: 24\n"
     ]
    },
    {
     "name": "stderr",
     "output_type": "stream",
     "text": [
      "100%|██████████| 313/313 [00:59<00:00,  5.24it/s]\n",
      "100%|██████████| 313/313 [02:26<00:00,  2.13it/s]\n",
      "  0%|          | 0/4 [00:00<?, ?it/s]"
     ]
    },
    {
     "name": "stdout",
     "output_type": "stream",
     "text": [
      "Train: loss = 35.007291662757055, top 1 = 0.0, top 5 = 0.0009699999999999983, top 10 = 0.16110500000000394, kendal = 0.2968784880293958\n"
     ]
    },
    {
     "name": "stderr",
     "output_type": "stream",
     "text": [
      "100%|██████████| 4/4 [00:01<00:00,  2.97it/s]\n",
      "  0%|          | 1/313 [00:00<01:01,  5.05it/s]"
     ]
    },
    {
     "name": "stdout",
     "output_type": "stream",
     "text": [
      "Valid: loss = 35.15200166963041, top 1 = 0.0, top 5 = 0.0, top 10 = 0.15949999999999998, kendal = 0.2983824352297815\n",
      "\n",
      "Epoch: 25\n"
     ]
    },
    {
     "name": "stderr",
     "output_type": "stream",
     "text": [
      "100%|██████████| 313/313 [01:10<00:00,  4.42it/s]\n",
      "100%|██████████| 313/313 [01:40<00:00,  3.13it/s]\n",
      "  0%|          | 0/4 [00:00<?, ?it/s]"
     ]
    },
    {
     "name": "stdout",
     "output_type": "stream",
     "text": [
      "Train: loss = 34.98476166168693, top 1 = 0.0, top 5 = 0.0009699999999999983, top 10 = 0.16110500000000394, kendal = 0.29687848637377817\n"
     ]
    },
    {
     "name": "stderr",
     "output_type": "stream",
     "text": [
      "100%|██████████| 4/4 [00:01<00:00,  2.99it/s]\n",
      "  0%|          | 0/313 [00:00<?, ?it/s]"
     ]
    },
    {
     "name": "stdout",
     "output_type": "stream",
     "text": [
      "Valid: loss = 34.70900164858904, top 1 = 0.0, top 5 = 0.0, top 10 = 0.15949999999999998, kendal = 0.2983824352297815\n",
      "\n",
      "Epoch: 26\n"
     ]
    },
    {
     "name": "stderr",
     "output_type": "stream",
     "text": [
      "100%|██████████| 313/313 [01:30<00:00,  3.47it/s]\n",
      "100%|██████████| 313/313 [02:00<00:00,  2.60it/s]\n",
      "  0%|          | 0/4 [00:00<?, ?it/s]"
     ]
    },
    {
     "name": "stdout",
     "output_type": "stream",
     "text": [
      "Train: loss = 34.9791016614181, top 1 = 0.0, top 5 = 0.0009699999999999983, top 10 = 0.16110500000000394, kendal = 0.29687848858055293\n"
     ]
    },
    {
     "name": "stderr",
     "output_type": "stream",
     "text": [
      "100%|██████████| 4/4 [00:01<00:00,  3.89it/s]\n",
      "  0%|          | 0/313 [00:00<?, ?it/s]"
     ]
    },
    {
     "name": "stdout",
     "output_type": "stream",
     "text": [
      "Valid: loss = 34.90400165785104, top 1 = 0.0, top 5 = 0.0, top 10 = 0.15949999999999998, kendal = 0.2983824352297815\n",
      "\n",
      "Epoch: 27\n"
     ]
    },
    {
     "name": "stderr",
     "output_type": "stream",
     "text": [
      "100%|██████████| 313/313 [01:08<00:00,  4.55it/s]\n",
      "100%|██████████| 313/313 [02:02<00:00,  2.56it/s]\n",
      "  0%|          | 0/4 [00:00<?, ?it/s]"
     ]
    },
    {
     "name": "stdout",
     "output_type": "stream",
     "text": [
      "Train: loss = 34.976191661279884, top 1 = 0.0, top 5 = 0.0009699999999999983, top 10 = 0.16110500000000394, kendal = 0.29687848593373634\n"
     ]
    },
    {
     "name": "stderr",
     "output_type": "stream",
     "text": [
      "100%|██████████| 4/4 [00:01<00:00,  3.37it/s]\n",
      "  0%|          | 1/313 [00:00<00:45,  6.80it/s]"
     ]
    },
    {
     "name": "stdout",
     "output_type": "stream",
     "text": [
      "Valid: loss = 35.01700166321825, top 1 = 0.0, top 5 = 0.0, top 10 = 0.15949999999999998, kendal = 0.2983824352297815\n",
      "\n",
      "Epoch: 28\n"
     ]
    },
    {
     "name": "stderr",
     "output_type": "stream",
     "text": [
      "100%|██████████| 313/313 [01:20<00:00,  3.91it/s]\n",
      "100%|██████████| 313/313 [01:55<00:00,  2.71it/s]\n",
      "  0%|          | 0/4 [00:00<?, ?it/s]"
     ]
    },
    {
     "name": "stdout",
     "output_type": "stream",
     "text": [
      "Train: loss = 34.99417166213389, top 1 = 0.0, top 5 = 0.0009699999999999983, top 10 = 0.16110500000000394, kendal = 0.29687848571074815\n"
     ]
    },
    {
     "name": "stderr",
     "output_type": "stream",
     "text": [
      "100%|██████████| 4/4 [00:01<00:00,  3.91it/s]\n",
      "  0%|          | 1/313 [00:00<00:58,  5.30it/s]"
     ]
    },
    {
     "name": "stdout",
     "output_type": "stream",
     "text": [
      "Valid: loss = 35.03400166402571, top 1 = 0.0, top 5 = 0.0, top 10 = 0.15949999999999998, kendal = 0.2983824352297815\n",
      "\n",
      "Epoch: 29\n"
     ]
    },
    {
     "name": "stderr",
     "output_type": "stream",
     "text": [
      "100%|██████████| 313/313 [01:01<00:00,  5.08it/s]\n",
      "100%|██████████| 313/313 [02:18<00:00,  2.25it/s]\n",
      "  0%|          | 0/4 [00:00<?, ?it/s]"
     ]
    },
    {
     "name": "stdout",
     "output_type": "stream",
     "text": [
      "Train: loss = 34.99498166217236, top 1 = 0.0, top 5 = 0.0009699999999999983, top 10 = 0.16110500000000394, kendal = 0.29687848560973423\n"
     ]
    },
    {
     "name": "stderr",
     "output_type": "stream",
     "text": [
      "100%|██████████| 4/4 [00:01<00:00,  2.75it/s]\n",
      "  0%|          | 0/313 [00:00<?, ?it/s]"
     ]
    },
    {
     "name": "stdout",
     "output_type": "stream",
     "text": [
      "Valid: loss = 34.70000164816156, top 1 = 0.0, top 5 = 0.0, top 10 = 0.15949999999999998, kendal = 0.2983824352297815\n",
      "\n",
      "Epoch: 30\n"
     ]
    },
    {
     "name": "stderr",
     "output_type": "stream",
     "text": [
      "100%|██████████| 313/313 [01:15<00:00,  4.13it/s]\n",
      "100%|██████████| 313/313 [01:35<00:00,  3.29it/s]\n",
      "  0%|          | 0/4 [00:00<?, ?it/s]"
     ]
    },
    {
     "name": "stdout",
     "output_type": "stream",
     "text": [
      "Train: loss = 35.016421663190705, top 1 = 0.0, top 5 = 0.0009699999999999983, top 10 = 0.16110500000000394, kendal = 0.29687848687569085\n"
     ]
    },
    {
     "name": "stderr",
     "output_type": "stream",
     "text": [
      "100%|██████████| 4/4 [00:01<00:00,  3.03it/s]\n",
      "  0%|          | 1/313 [00:00<00:57,  5.47it/s]"
     ]
    },
    {
     "name": "stdout",
     "output_type": "stream",
     "text": [
      "Valid: loss = 34.71900164906401, top 1 = 0.0, top 5 = 0.0, top 10 = 0.15949999999999998, kendal = 0.2983824352297815\n",
      "\n",
      "Epoch: 31\n"
     ]
    },
    {
     "name": "stderr",
     "output_type": "stream",
     "text": [
      "100%|██████████| 313/313 [01:30<00:00,  3.46it/s]\n",
      "100%|██████████| 313/313 [02:02<00:00,  2.55it/s]\n",
      " 25%|██▌       | 1/4 [00:00<00:00,  5.32it/s]"
     ]
    },
    {
     "name": "stdout",
     "output_type": "stream",
     "text": [
      "Train: loss = 34.97981166145182, top 1 = 0.0, top 5 = 0.0009699999999999983, top 10 = 0.16110500000000394, kendal = 0.2968784868403361\n"
     ]
    },
    {
     "name": "stderr",
     "output_type": "stream",
     "text": [
      "100%|██████████| 4/4 [00:00<00:00,  5.00it/s]\n",
      "  0%|          | 0/313 [00:00<?, ?it/s]"
     ]
    },
    {
     "name": "stdout",
     "output_type": "stream",
     "text": [
      "Valid: loss = 34.79000165243633, top 1 = 0.0, top 5 = 0.0, top 10 = 0.15949999999999998, kendal = 0.2983824352297815\n",
      "\n",
      "Epoch: 32\n"
     ]
    },
    {
     "name": "stderr",
     "output_type": "stream",
     "text": [
      "100%|██████████| 313/313 [01:00<00:00,  5.16it/s]\n",
      "100%|██████████| 313/313 [02:12<00:00,  2.36it/s]\n",
      "  0%|          | 0/4 [00:00<?, ?it/s]"
     ]
    },
    {
     "name": "stdout",
     "output_type": "stream",
     "text": [
      "Train: loss = 34.99030166195007, top 1 = 0.0, top 5 = 0.0009699999999999983, top 10 = 0.16110500000000394, kendal = 0.29687848812712675\n"
     ]
    },
    {
     "name": "stderr",
     "output_type": "stream",
     "text": [
      "100%|██████████| 4/4 [00:01<00:00,  3.06it/s]\n",
      "  0%|          | 0/313 [00:00<?, ?it/s]"
     ]
    },
    {
     "name": "stdout",
     "output_type": "stream",
     "text": [
      "Valid: loss = 34.73500164982397, top 1 = 0.0, top 5 = 0.0, top 10 = 0.15949999999999998, kendal = 0.2983824352297815\n",
      "\n",
      "Epoch: 33\n"
     ]
    },
    {
     "name": "stderr",
     "output_type": "stream",
     "text": [
      "100%|██████████| 313/313 [01:20<00:00,  3.89it/s]\n",
      "100%|██████████| 313/313 [01:48<00:00,  2.89it/s]\n",
      "  0%|          | 0/4 [00:00<?, ?it/s]"
     ]
    },
    {
     "name": "stdout",
     "output_type": "stream",
     "text": [
      "Train: loss = 35.0071516627504, top 1 = 0.0, top 5 = 0.0009699999999999983, top 10 = 0.16110500000000394, kendal = 0.29687848801045574\n"
     ]
    },
    {
     "name": "stderr",
     "output_type": "stream",
     "text": [
      "100%|██████████| 4/4 [00:01<00:00,  3.43it/s]\n",
      "  0%|          | 0/313 [00:00<?, ?it/s]"
     ]
    },
    {
     "name": "stdout",
     "output_type": "stream",
     "text": [
      "Valid: loss = 34.73800164996646, top 1 = 0.0, top 5 = 0.0, top 10 = 0.15949999999999998, kendal = 0.2983824352297815\n",
      "\n",
      "Epoch: 34\n"
     ]
    },
    {
     "name": "stderr",
     "output_type": "stream",
     "text": [
      "100%|██████████| 313/313 [01:15<00:00,  4.16it/s]\n",
      "100%|██████████| 313/313 [02:11<00:00,  2.38it/s]\n",
      "  0%|          | 0/4 [00:00<?, ?it/s]"
     ]
    },
    {
     "name": "stdout",
     "output_type": "stream",
     "text": [
      "Train: loss = 34.98198166155489, top 1 = 0.0, top 5 = 0.0009699999999999983, top 10 = 0.16110500000000394, kendal = 0.29687848982264503\n"
     ]
    },
    {
     "name": "stderr",
     "output_type": "stream",
     "text": [
      "100%|██████████| 4/4 [00:01<00:00,  3.08it/s]\n",
      "  0%|          | 0/313 [00:00<?, ?it/s]"
     ]
    },
    {
     "name": "stdout",
     "output_type": "stream",
     "text": [
      "Valid: loss = 34.90500165789854, top 1 = 0.0, top 5 = 0.0, top 10 = 0.15949999999999998, kendal = 0.2983824352297815\n",
      "\n",
      "Epoch: 35\n"
     ]
    },
    {
     "name": "stderr",
     "output_type": "stream",
     "text": [
      "100%|██████████| 313/313 [01:13<00:00,  4.25it/s]\n",
      "100%|██████████| 313/313 [01:44<00:00,  2.99it/s]\n",
      "  0%|          | 0/4 [00:00<?, ?it/s]"
     ]
    },
    {
     "name": "stdout",
     "output_type": "stream",
     "text": [
      "Train: loss = 34.99267166206264, top 1 = 0.0, top 5 = 0.0009699999999999983, top 10 = 0.16110500000000394, kendal = 0.29687849007530603\n"
     ]
    },
    {
     "name": "stderr",
     "output_type": "stream",
     "text": [
      "100%|██████████| 4/4 [00:01<00:00,  3.09it/s]\n",
      "  0%|          | 1/313 [00:00<01:00,  5.19it/s]"
     ]
    },
    {
     "name": "stdout",
     "output_type": "stream",
     "text": [
      "Valid: loss = 34.95200166013092, top 1 = 0.0, top 5 = 0.0, top 10 = 0.15949999999999998, kendal = 0.2983824352297815\n",
      "\n",
      "Epoch: 36\n"
     ]
    },
    {
     "name": "stderr",
     "output_type": "stream",
     "text": [
      "100%|██████████| 313/313 [01:27<00:00,  3.59it/s]\n",
      "100%|██████████| 313/313 [02:05<00:00,  2.49it/s]\n",
      "  0%|          | 0/4 [00:00<?, ?it/s]"
     ]
    },
    {
     "name": "stdout",
     "output_type": "stream",
     "text": [
      "Train: loss = 34.98200166155584, top 1 = 0.0, top 5 = 0.0009699999999999983, top 10 = 0.16110500000000394, kendal = 0.2968784878601976\n"
     ]
    },
    {
     "name": "stderr",
     "output_type": "stream",
     "text": [
      "100%|██████████| 4/4 [00:01<00:00,  3.53it/s]\n",
      "  0%|          | 0/313 [00:00<?, ?it/s]"
     ]
    },
    {
     "name": "stdout",
     "output_type": "stream",
     "text": [
      "Valid: loss = 34.92800165899098, top 1 = 0.0, top 5 = 0.0, top 10 = 0.15949999999999998, kendal = 0.2983824352297815\n",
      "\n",
      "Epoch: 37\n"
     ]
    },
    {
     "name": "stderr",
     "output_type": "stream",
     "text": [
      "100%|██████████| 313/313 [00:58<00:00,  5.39it/s]\n",
      "100%|██████████| 313/313 [02:15<00:00,  2.30it/s]\n",
      "  0%|          | 0/4 [00:00<?, ?it/s]"
     ]
    },
    {
     "name": "stdout",
     "output_type": "stream",
     "text": [
      "Train: loss = 34.98702166179428, top 1 = 0.0, top 5 = 0.0009699999999999983, top 10 = 0.16110500000000394, kendal = 0.29687848675725215\n"
     ]
    },
    {
     "name": "stderr",
     "output_type": "stream",
     "text": [
      "100%|██████████| 4/4 [00:01<00:00,  2.67it/s]\n",
      "  0%|          | 1/313 [00:00<00:36,  8.58it/s]"
     ]
    },
    {
     "name": "stdout",
     "output_type": "stream",
     "text": [
      "Valid: loss = 35.0780016661156, top 1 = 0.0, top 5 = 0.0, top 10 = 0.15949999999999998, kendal = 0.2983824352297815\n",
      "\n",
      "Epoch: 38\n"
     ]
    },
    {
     "name": "stderr",
     "output_type": "stream",
     "text": [
      "100%|██████████| 313/313 [01:21<00:00,  3.82it/s]\n",
      "100%|██████████| 313/313 [01:34<00:00,  3.30it/s]\n",
      "  0%|          | 0/4 [00:00<?, ?it/s]"
     ]
    },
    {
     "name": "stdout",
     "output_type": "stream",
     "text": [
      "Train: loss = 34.99319166208734, top 1 = 0.0, top 5 = 0.0009699999999999983, top 10 = 0.16110500000000394, kendal = 0.2968784887000018\n"
     ]
    },
    {
     "name": "stderr",
     "output_type": "stream",
     "text": [
      "100%|██████████| 4/4 [00:01<00:00,  3.67it/s]\n",
      "  0%|          | 0/313 [00:00<?, ?it/s]"
     ]
    },
    {
     "name": "stdout",
     "output_type": "stream",
     "text": [
      "Valid: loss = 34.73800164996646, top 1 = 0.0, top 5 = 0.0, top 10 = 0.15949999999999998, kendal = 0.2983824352297815\n",
      "\n",
      "Epoch: 39\n"
     ]
    },
    {
     "name": "stderr",
     "output_type": "stream",
     "text": [
      "100%|██████████| 313/313 [01:18<00:00,  3.98it/s]\n",
      "100%|██████████| 313/313 [02:14<00:00,  2.32it/s]\n",
      "  0%|          | 0/4 [00:00<?, ?it/s]"
     ]
    },
    {
     "name": "stdout",
     "output_type": "stream",
     "text": [
      "Train: loss = 34.98188166155014, top 1 = 0.0, top 5 = 0.0009699999999999983, top 10 = 0.16110500000000394, kendal = 0.29687848836299424\n"
     ]
    },
    {
     "name": "stderr",
     "output_type": "stream",
     "text": [
      "100%|██████████| 4/4 [00:01<00:00,  3.01it/s]\n",
      "  0%|          | 1/313 [00:00<00:55,  5.60it/s]"
     ]
    },
    {
     "name": "stdout",
     "output_type": "stream",
     "text": [
      "Valid: loss = 34.769001651438884, top 1 = 0.0, top 5 = 0.0, top 10 = 0.15949999999999998, kendal = 0.2983824352297815\n",
      "\n",
      "Epoch: 40\n"
     ]
    },
    {
     "name": "stderr",
     "output_type": "stream",
     "text": [
      "100%|██████████| 313/313 [01:01<00:00,  5.07it/s]\n",
      "100%|██████████| 313/313 [01:55<00:00,  2.71it/s]\n",
      "  0%|          | 0/4 [00:00<?, ?it/s]"
     ]
    },
    {
     "name": "stdout",
     "output_type": "stream",
     "text": [
      "Train: loss = 34.98871166187455, top 1 = 0.0, top 5 = 0.0009699999999999983, top 10 = 0.16110500000000394, kendal = 0.29687848722848187\n"
     ]
    },
    {
     "name": "stderr",
     "output_type": "stream",
     "text": [
      "100%|██████████| 4/4 [00:01<00:00,  2.63it/s]\n",
      "  0%|          | 0/313 [00:00<?, ?it/s]"
     ]
    },
    {
     "name": "stdout",
     "output_type": "stream",
     "text": [
      "Valid: loss = 34.88500165694859, top 1 = 0.0, top 5 = 0.0, top 10 = 0.15949999999999998, kendal = 0.2983824352297815\n",
      "\n",
      "Epoch: 41\n"
     ]
    },
    {
     "name": "stderr",
     "output_type": "stream",
     "text": [
      "100%|██████████| 313/313 [01:18<00:00,  3.97it/s]\n",
      "100%|██████████| 313/313 [02:02<00:00,  2.55it/s]\n",
      "  0%|          | 0/4 [00:00<?, ?it/s]"
     ]
    },
    {
     "name": "stdout",
     "output_type": "stream",
     "text": [
      "Train: loss = 35.000701662444044, top 1 = 0.0, top 5 = 0.0009699999999999983, top 10 = 0.16110500000000394, kendal = 0.296878488070559\n"
     ]
    },
    {
     "name": "stderr",
     "output_type": "stream",
     "text": [
      "100%|██████████| 4/4 [00:01<00:00,  3.74it/s]\n",
      "  0%|          | 1/313 [00:00<01:00,  5.14it/s]"
     ]
    },
    {
     "name": "stdout",
     "output_type": "stream",
     "text": [
      "Valid: loss = 35.05800166516565, top 1 = 0.0, top 5 = 0.0, top 10 = 0.15949999999999998, kendal = 0.2983824352297815\n",
      "\n",
      "Epoch: 42\n"
     ]
    },
    {
     "name": "stderr",
     "output_type": "stream",
     "text": [
      "100%|██████████| 313/313 [01:00<00:00,  5.14it/s]\n",
      "100%|██████████| 313/313 [02:06<00:00,  2.47it/s]\n",
      "  0%|          | 0/4 [00:00<?, ?it/s]"
     ]
    },
    {
     "name": "stdout",
     "output_type": "stream",
     "text": [
      "Train: loss = 34.97573166125803, top 1 = 0.0, top 5 = 0.0009699999999999983, top 10 = 0.16110500000000394, kendal = 0.296878488383197\n"
     ]
    },
    {
     "name": "stderr",
     "output_type": "stream",
     "text": [
      "100%|██████████| 4/4 [00:01<00:00,  2.74it/s]\n",
      "  0%|          | 0/313 [00:00<?, ?it/s]"
     ]
    },
    {
     "name": "stdout",
     "output_type": "stream",
     "text": [
      "Valid: loss = 34.54300164070446, top 1 = 0.0, top 5 = 0.0, top 10 = 0.15949999999999998, kendal = 0.2983824352297815\n",
      "\n",
      "Epoch: 43\n"
     ]
    },
    {
     "name": "stderr",
     "output_type": "stream",
     "text": [
      "100%|██████████| 313/313 [01:28<00:00,  3.55it/s]\n",
      "100%|██████████| 313/313 [01:37<00:00,  3.22it/s]\n",
      "  0%|          | 0/4 [00:00<?, ?it/s]"
     ]
    },
    {
     "name": "stdout",
     "output_type": "stream",
     "text": [
      "Train: loss = 34.99705166227068, top 1 = 0.0, top 5 = 0.0009699999999999983, top 10 = 0.16110500000000394, kendal = 0.2968784864114058\n"
     ]
    },
    {
     "name": "stderr",
     "output_type": "stream",
     "text": [
      "100%|██████████| 4/4 [00:00<00:00,  4.33it/s]\n",
      "  0%|          | 0/313 [00:00<?, ?it/s]"
     ]
    },
    {
     "name": "stdout",
     "output_type": "stream",
     "text": [
      "Valid: loss = 35.145001669297926, top 1 = 0.0, top 5 = 0.0, top 10 = 0.15949999999999998, kendal = 0.2983824352297815\n",
      "\n",
      "Epoch: 44\n"
     ]
    },
    {
     "name": "stderr",
     "output_type": "stream",
     "text": [
      "100%|██████████| 313/313 [01:17<00:00,  4.02it/s]\n",
      "100%|██████████| 313/313 [02:20<00:00,  2.23it/s]\n",
      "  0%|          | 0/4 [00:00<?, ?it/s]"
     ]
    },
    {
     "name": "stdout",
     "output_type": "stream",
     "text": [
      "Train: loss = 34.98710166179808, top 1 = 0.0, top 5 = 0.0009699999999999983, top 10 = 0.16110500000000394, kendal = 0.2968784886878802\n"
     ]
    },
    {
     "name": "stderr",
     "output_type": "stream",
     "text": [
      "100%|██████████| 4/4 [00:01<00:00,  2.95it/s]\n",
      "  0%|          | 1/313 [00:00<00:50,  6.16it/s]"
     ]
    },
    {
     "name": "stdout",
     "output_type": "stream",
     "text": [
      "Valid: loss = 34.67400164692663, top 1 = 0.0, top 5 = 0.0, top 10 = 0.15949999999999998, kendal = 0.2983824352297815\n",
      "\n",
      "Epoch: 45\n"
     ]
    },
    {
     "name": "stderr",
     "output_type": "stream",
     "text": [
      "100%|██████████| 313/313 [01:02<00:00,  5.05it/s]\n",
      "100%|██████████| 313/313 [01:54<00:00,  2.73it/s]\n",
      "  0%|          | 0/4 [00:00<?, ?it/s]"
     ]
    },
    {
     "name": "stdout",
     "output_type": "stream",
     "text": [
      "Train: loss = 34.97953166143852, top 1 = 0.0, top 5 = 0.0009699999999999983, top 10 = 0.16110500000000394, kendal = 0.29687848812662176\n"
     ]
    },
    {
     "name": "stderr",
     "output_type": "stream",
     "text": [
      "100%|██████████| 4/4 [00:01<00:00,  3.11it/s]\n",
      "  0%|          | 0/313 [00:00<?, ?it/s]"
     ]
    },
    {
     "name": "stdout",
     "output_type": "stream",
     "text": [
      "Valid: loss = 34.97100166103337, top 1 = 0.0, top 5 = 0.0, top 10 = 0.15949999999999998, kendal = 0.2983824352297815\n",
      "\n",
      "Epoch: 46\n"
     ]
    },
    {
     "name": "stderr",
     "output_type": "stream",
     "text": [
      "100%|██████████| 313/313 [01:26<00:00,  3.60it/s]\n",
      "100%|██████████| 313/313 [01:54<00:00,  2.73it/s]\n",
      "  0%|          | 0/4 [00:00<?, ?it/s]"
     ]
    },
    {
     "name": "stdout",
     "output_type": "stream",
     "text": [
      "Train: loss = 34.96729166085716, top 1 = 0.0, top 5 = 0.0009699999999999983, top 10 = 0.16110500000000394, kendal = 0.2968784870893353\n"
     ]
    },
    {
     "name": "stderr",
     "output_type": "stream",
     "text": [
      "100%|██████████| 4/4 [00:00<00:00,  4.42it/s]\n",
      "  0%|          | 0/313 [00:00<?, ?it/s]"
     ]
    },
    {
     "name": "stdout",
     "output_type": "stream",
     "text": [
      "Valid: loss = 34.9210016586585, top 1 = 0.0, top 5 = 0.0, top 10 = 0.15949999999999998, kendal = 0.2983824352297815\n",
      "\n",
      "Epoch: 47\n"
     ]
    },
    {
     "name": "stderr",
     "output_type": "stream",
     "text": [
      "100%|██████████| 313/313 [01:04<00:00,  4.84it/s]\n",
      "100%|██████████| 313/313 [02:15<00:00,  2.31it/s]\n",
      "  0%|          | 0/4 [00:00<?, ?it/s]"
     ]
    },
    {
     "name": "stdout",
     "output_type": "stream",
     "text": [
      "Train: loss = 34.97309166113264, top 1 = 0.0, top 5 = 0.0009699999999999983, top 10 = 0.16110500000000394, kendal = 0.2968784865649469\n"
     ]
    },
    {
     "name": "stderr",
     "output_type": "stream",
     "text": [
      "100%|██████████| 4/4 [00:01<00:00,  2.68it/s]\n",
      "  0%|          | 1/313 [00:00<00:40,  7.72it/s]"
     ]
    },
    {
     "name": "stdout",
     "output_type": "stream",
     "text": [
      "Valid: loss = 34.89600165747106, top 1 = 0.0, top 5 = 0.0, top 10 = 0.15949999999999998, kendal = 0.2983824352297815\n",
      "\n",
      "Epoch: 48\n"
     ]
    },
    {
     "name": "stderr",
     "output_type": "stream",
     "text": [
      "100%|██████████| 313/313 [01:19<00:00,  3.92it/s]\n",
      "100%|██████████| 313/313 [01:41<00:00,  3.08it/s]\n",
      "  0%|          | 0/4 [00:00<?, ?it/s]"
     ]
    },
    {
     "name": "stdout",
     "output_type": "stream",
     "text": [
      "Train: loss = 34.95744166038931, top 1 = 0.0, top 5 = 0.0009699999999999983, top 10 = 0.16110500000000394, kendal = 0.29687848660408983\n"
     ]
    },
    {
     "name": "stderr",
     "output_type": "stream",
     "text": [
      "100%|██████████| 4/4 [00:01<00:00,  3.91it/s]\n",
      "  0%|          | 1/313 [00:00<00:38,  8.09it/s]"
     ]
    },
    {
     "name": "stdout",
     "output_type": "stream",
     "text": [
      "Valid: loss = 34.72700164944399, top 1 = 0.0, top 5 = 0.0, top 10 = 0.15949999999999998, kendal = 0.2983824352297815\n",
      "\n",
      "Epoch: 49\n"
     ]
    },
    {
     "name": "stderr",
     "output_type": "stream",
     "text": [
      "100%|██████████| 313/313 [01:21<00:00,  3.83it/s]\n",
      "100%|██████████| 313/313 [02:13<00:00,  2.35it/s]\n",
      "  0%|          | 0/4 [00:00<?, ?it/s]"
     ]
    },
    {
     "name": "stdout",
     "output_type": "stream",
     "text": [
      "Train: loss = 34.981001661508344, top 1 = 0.0, top 5 = 0.0009699999999999983, top 10 = 0.16110500000000394, kendal = 0.29687848650989435\n"
     ]
    },
    {
     "name": "stderr",
     "output_type": "stream",
     "text": [
      "100%|██████████| 4/4 [00:01<00:00,  3.73it/s]\n",
      "  0%|          | 1/313 [00:00<00:31,  9.97it/s]"
     ]
    },
    {
     "name": "stdout",
     "output_type": "stream",
     "text": [
      "Valid: loss = 34.831001654383726, top 1 = 0.0, top 5 = 0.0, top 10 = 0.15949999999999998, kendal = 0.2983824352297815\n",
      "\n",
      "Epoch: 50\n"
     ]
    },
    {
     "name": "stderr",
     "output_type": "stream",
     "text": [
      "100%|██████████| 313/313 [01:04<00:00,  4.83it/s]\n",
      "100%|██████████| 313/313 [01:56<00:00,  2.69it/s]\n",
      "  0%|          | 0/4 [00:00<?, ?it/s]"
     ]
    },
    {
     "name": "stdout",
     "output_type": "stream",
     "text": [
      "Train: loss = 35.00644166271668, top 1 = 0.0, top 5 = 0.0009699999999999983, top 10 = 0.16110500000000394, kendal = 0.29687848774327397\n"
     ]
    },
    {
     "name": "stderr",
     "output_type": "stream",
     "text": [
      "100%|██████████| 4/4 [00:01<00:00,  2.84it/s]\n",
      "  0%|          | 0/313 [00:00<?, ?it/s]"
     ]
    },
    {
     "name": "stdout",
     "output_type": "stream",
     "text": [
      "Valid: loss = 35.00100166245829, top 1 = 0.0, top 5 = 0.0, top 10 = 0.15949999999999998, kendal = 0.2983824352297815\n",
      "\n",
      "Epoch: 51\n"
     ]
    },
    {
     "name": "stderr",
     "output_type": "stream",
     "text": [
      "100%|██████████| 313/313 [01:25<00:00,  3.64it/s]\n",
      "100%|██████████| 313/313 [01:51<00:00,  2.80it/s]\n",
      "  0%|          | 0/4 [00:00<?, ?it/s]"
     ]
    },
    {
     "name": "stdout",
     "output_type": "stream",
     "text": [
      "Train: loss = 34.977711661352075, top 1 = 0.0, top 5 = 0.0009699999999999983, top 10 = 0.16110500000000394, kendal = 0.29687848712165976\n"
     ]
    },
    {
     "name": "stderr",
     "output_type": "stream",
     "text": [
      "100%|██████████| 4/4 [00:01<00:00,  3.91it/s]\n",
      "  0%|          | 1/313 [00:00<00:53,  5.80it/s]"
     ]
    },
    {
     "name": "stdout",
     "output_type": "stream",
     "text": [
      "Valid: loss = 34.9210016586585, top 1 = 0.0, top 5 = 0.0, top 10 = 0.15949999999999998, kendal = 0.2983824352297815\n",
      "\n",
      "Epoch: 52\n"
     ]
    },
    {
     "name": "stderr",
     "output_type": "stream",
     "text": [
      "100%|██████████| 313/313 [01:04<00:00,  4.89it/s]\n",
      "100%|██████████| 313/313 [02:20<00:00,  2.23it/s]\n",
      "  0%|          | 0/4 [00:00<?, ?it/s]"
     ]
    },
    {
     "name": "stdout",
     "output_type": "stream",
     "text": [
      "Train: loss = 35.00629166270956, top 1 = 0.0, top 5 = 0.0009699999999999983, top 10 = 0.16110500000000394, kendal = 0.2968784871570146\n"
     ]
    },
    {
     "name": "stderr",
     "output_type": "stream",
     "text": [
      "100%|██████████| 4/4 [00:01<00:00,  2.63it/s]\n",
      "  0%|          | 0/313 [00:00<?, ?it/s]"
     ]
    },
    {
     "name": "stdout",
     "output_type": "stream",
     "text": [
      "Valid: loss = 34.80600165319629, top 1 = 0.0, top 5 = 0.0, top 10 = 0.15949999999999998, kendal = 0.2983824352297815\n",
      "\n",
      "Epoch: 53\n"
     ]
    },
    {
     "name": "stderr",
     "output_type": "stream",
     "text": [
      "100%|██████████| 313/313 [01:14<00:00,  4.20it/s]\n",
      "100%|██████████| 313/313 [01:38<00:00,  3.19it/s]\n",
      "  0%|          | 0/4 [00:00<?, ?it/s]"
     ]
    },
    {
     "name": "stdout",
     "output_type": "stream",
     "text": [
      "Train: loss = 34.97301166112884, top 1 = 0.0, top 5 = 0.0009699999999999983, top 10 = 0.16110500000000394, kendal = 0.2968784886689401\n"
     ]
    },
    {
     "name": "stderr",
     "output_type": "stream",
     "text": [
      "100%|██████████| 4/4 [00:01<00:00,  2.96it/s]\n",
      "  0%|          | 0/313 [00:00<?, ?it/s]"
     ]
    },
    {
     "name": "stdout",
     "output_type": "stream",
     "text": [
      "Valid: loss = 34.588001642841846, top 1 = 0.0, top 5 = 0.0, top 10 = 0.15949999999999998, kendal = 0.2983824352297815\n",
      "\n",
      "Epoch: 54\n"
     ]
    },
    {
     "name": "stderr",
     "output_type": "stream",
     "text": [
      "100%|██████████| 313/313 [01:29<00:00,  3.50it/s]\n",
      "100%|██████████| 313/313 [02:05<00:00,  2.50it/s]\n",
      "  0%|          | 0/4 [00:00<?, ?it/s]"
     ]
    },
    {
     "name": "stdout",
     "output_type": "stream",
     "text": [
      "Train: loss = 34.98920166189782, top 1 = 0.0, top 5 = 0.0009699999999999983, top 10 = 0.16110500000000394, kendal = 0.2968784867509388\n"
     ]
    },
    {
     "name": "stderr",
     "output_type": "stream",
     "text": [
      "100%|██████████| 4/4 [00:01<00:00,  3.72it/s]\n",
      "  0%|          | 1/313 [00:00<00:38,  8.18it/s]"
     ]
    },
    {
     "name": "stdout",
     "output_type": "stream",
     "text": [
      "Valid: loss = 34.9990016623633, top 1 = 0.0, top 5 = 0.0, top 10 = 0.15949999999999998, kendal = 0.2983824352297815\n",
      "\n",
      "Epoch: 55\n"
     ]
    },
    {
     "name": "stderr",
     "output_type": "stream",
     "text": [
      "100%|██████████| 313/313 [01:05<00:00,  4.81it/s]\n",
      "100%|██████████| 313/313 [02:03<00:00,  2.52it/s]\n",
      "  0%|          | 0/4 [00:00<?, ?it/s]"
     ]
    },
    {
     "name": "stdout",
     "output_type": "stream",
     "text": [
      "Train: loss = 34.96881166092935, top 1 = 0.0, top 5 = 0.0009699999999999983, top 10 = 0.16110500000000394, kendal = 0.29687848650711646\n"
     ]
    },
    {
     "name": "stderr",
     "output_type": "stream",
     "text": [
      "100%|██████████| 4/4 [00:01<00:00,  2.78it/s]\n",
      "  0%|          | 0/313 [00:00<?, ?it/s]"
     ]
    },
    {
     "name": "stdout",
     "output_type": "stream",
     "text": [
      "Valid: loss = 35.012001662980765, top 1 = 0.0, top 5 = 0.0, top 10 = 0.15949999999999998, kendal = 0.2983824352297815\n",
      "\n",
      "Epoch: 56\n"
     ]
    },
    {
     "name": "stderr",
     "output_type": "stream",
     "text": [
      "100%|██████████| 313/313 [01:23<00:00,  3.75it/s]\n",
      "100%|██████████| 313/313 [01:51<00:00,  2.81it/s]\n",
      "  0%|          | 0/4 [00:00<?, ?it/s]"
     ]
    },
    {
     "name": "stdout",
     "output_type": "stream",
     "text": [
      "Train: loss = 34.96544166076929, top 1 = 0.0, top 5 = 0.0009699999999999983, top 10 = 0.16110500000000394, kendal = 0.29687849017202683\n"
     ]
    },
    {
     "name": "stderr",
     "output_type": "stream",
     "text": [
      "100%|██████████| 4/4 [00:01<00:00,  3.90it/s]\n",
      "  0%|          | 1/313 [00:00<00:51,  6.10it/s]"
     ]
    },
    {
     "name": "stdout",
     "output_type": "stream",
     "text": [
      "Valid: loss = 34.66200164635666, top 1 = 0.0, top 5 = 0.0, top 10 = 0.15949999999999998, kendal = 0.2983824352297815\n",
      "\n",
      "Epoch: 57\n"
     ]
    },
    {
     "name": "stderr",
     "output_type": "stream",
     "text": [
      "100%|██████████| 313/313 [01:07<00:00,  4.64it/s]\n",
      "100%|██████████| 313/313 [02:17<00:00,  2.28it/s]\n",
      "  0%|          | 0/4 [00:00<?, ?it/s]"
     ]
    },
    {
     "name": "stdout",
     "output_type": "stream",
     "text": [
      "Train: loss = 34.97564166125376, top 1 = 0.0, top 5 = 0.0009699999999999983, top 10 = 0.16110500000000394, kendal = 0.29687848878434847\n"
     ]
    },
    {
     "name": "stderr",
     "output_type": "stream",
     "text": [
      "100%|██████████| 4/4 [00:01<00:00,  2.74it/s]\n",
      "  0%|          | 0/313 [00:00<?, ?it/s]"
     ]
    },
    {
     "name": "stdout",
     "output_type": "stream",
     "text": [
      "Valid: loss = 35.01500166312326, top 1 = 0.0, top 5 = 0.0, top 10 = 0.15949999999999998, kendal = 0.2983824352297815\n",
      "\n",
      "Epoch: 58\n"
     ]
    },
    {
     "name": "stderr",
     "output_type": "stream",
     "text": [
      "100%|██████████| 313/313 [01:14<00:00,  4.21it/s]\n",
      "100%|██████████| 313/313 [01:38<00:00,  3.17it/s]\n",
      "  0%|          | 0/4 [00:00<?, ?it/s]"
     ]
    },
    {
     "name": "stdout",
     "output_type": "stream",
     "text": [
      "Train: loss = 34.95572166030761, top 1 = 0.0, top 5 = 0.0009699999999999983, top 10 = 0.16110500000000394, kendal = 0.29687848794959487\n"
     ]
    },
    {
     "name": "stderr",
     "output_type": "stream",
     "text": [
      "100%|██████████| 4/4 [00:01<00:00,  2.96it/s]\n",
      "  0%|          | 0/313 [00:00<?, ?it/s]"
     ]
    },
    {
     "name": "stdout",
     "output_type": "stream",
     "text": [
      "Valid: loss = 35.21300167252775, top 1 = 0.0, top 5 = 0.0, top 10 = 0.15949999999999998, kendal = 0.2983824352297815\n",
      "\n",
      "Epoch: 59\n"
     ]
    },
    {
     "name": "stderr",
     "output_type": "stream",
     "text": [
      "100%|██████████| 313/313 [01:29<00:00,  3.52it/s]\n",
      "100%|██████████| 313/313 [02:03<00:00,  2.54it/s]\n",
      "  0%|          | 0/4 [00:00<?, ?it/s]"
     ]
    },
    {
     "name": "stdout",
     "output_type": "stream",
     "text": [
      "Train: loss = 34.98340166162234, top 1 = 0.0, top 5 = 0.0009699999999999983, top 10 = 0.16110500000000394, kendal = 0.2968784874128323\n"
     ]
    },
    {
     "name": "stderr",
     "output_type": "stream",
     "text": [
      "100%|██████████| 4/4 [00:00<00:00,  5.01it/s]\n",
      "  0%|          | 0/313 [00:00<?, ?it/s]"
     ]
    },
    {
     "name": "stdout",
     "output_type": "stream",
     "text": [
      "Valid: loss = 34.94600165984593, top 1 = 0.0, top 5 = 0.0, top 10 = 0.15949999999999998, kendal = 0.2983824352297815\n",
      "\n",
      "Epoch: 60\n"
     ]
    },
    {
     "name": "stderr",
     "output_type": "stream",
     "text": [
      "100%|██████████| 313/313 [01:00<00:00,  5.15it/s]\n",
      "100%|██████████| 313/313 [02:11<00:00,  2.37it/s]\n",
      "  0%|          | 0/4 [00:00<?, ?it/s]"
     ]
    },
    {
     "name": "stdout",
     "output_type": "stream",
     "text": [
      "Train: loss = 34.979991661460375, top 1 = 0.0, top 5 = 0.0009699999999999983, top 10 = 0.16110500000000394, kendal = 0.296878487721556\n"
     ]
    },
    {
     "name": "stderr",
     "output_type": "stream",
     "text": [
      "100%|██████████| 4/4 [00:01<00:00,  2.93it/s]\n",
      "  0%|          | 0/313 [00:00<?, ?it/s]"
     ]
    },
    {
     "name": "stdout",
     "output_type": "stream",
     "text": [
      "Valid: loss = 34.88800165709108, top 1 = 0.0, top 5 = 0.0, top 10 = 0.15949999999999998, kendal = 0.2983824352297815\n",
      "\n",
      "Epoch: 61\n"
     ]
    },
    {
     "name": "stderr",
     "output_type": "stream",
     "text": [
      "100%|██████████| 313/313 [01:21<00:00,  3.84it/s]\n",
      "100%|██████████| 313/313 [01:45<00:00,  2.96it/s]\n",
      "  0%|          | 0/4 [00:00<?, ?it/s]"
     ]
    },
    {
     "name": "stdout",
     "output_type": "stream",
     "text": [
      "Train: loss = 34.97334166114452, top 1 = 0.0, top 5 = 0.0009699999999999983, top 10 = 0.16110500000000394, kendal = 0.2968784871549944\n"
     ]
    },
    {
     "name": "stderr",
     "output_type": "stream",
     "text": [
      "100%|██████████| 4/4 [00:01<00:00,  3.37it/s]\n",
      "  0%|          | 1/313 [00:00<00:33,  9.27it/s]"
     ]
    },
    {
     "name": "stdout",
     "output_type": "stream",
     "text": [
      "Valid: loss = 34.965001660748385, top 1 = 0.0, top 5 = 0.0, top 10 = 0.15949999999999998, kendal = 0.2983824352297815\n",
      "\n",
      "Epoch: 62\n"
     ]
    },
    {
     "name": "stderr",
     "output_type": "stream",
     "text": [
      "100%|██████████| 313/313 [01:15<00:00,  4.12it/s]\n",
      "100%|██████████| 313/313 [02:11<00:00,  2.38it/s]\n",
      "  0%|          | 0/4 [00:00<?, ?it/s]"
     ]
    },
    {
     "name": "stdout",
     "output_type": "stream",
     "text": [
      "Train: loss = 34.97716166132595, top 1 = 0.0, top 5 = 0.0009699999999999983, top 10 = 0.16110500000000394, kendal = 0.2968784858945934\n"
     ]
    },
    {
     "name": "stderr",
     "output_type": "stream",
     "text": [
      "100%|██████████| 4/4 [00:01<00:00,  2.74it/s]\n",
      "  0%|          | 0/313 [00:00<?, ?it/s]"
     ]
    },
    {
     "name": "stdout",
     "output_type": "stream",
     "text": [
      "Valid: loss = 34.98300166160334, top 1 = 0.0, top 5 = 0.0, top 10 = 0.15949999999999998, kendal = 0.2983824352297815\n",
      "\n",
      "Epoch: 63\n"
     ]
    },
    {
     "name": "stderr",
     "output_type": "stream",
     "text": [
      "100%|██████████| 313/313 [01:12<00:00,  4.29it/s]\n",
      "100%|██████████| 313/313 [01:45<00:00,  2.97it/s]\n",
      "  0%|          | 0/4 [00:00<?, ?it/s]"
     ]
    },
    {
     "name": "stdout",
     "output_type": "stream",
     "text": [
      "Train: loss = 34.99162166201277, top 1 = 0.0, top 5 = 0.0009699999999999983, top 10 = 0.16110500000000394, kendal = 0.2968784895600089\n"
     ]
    },
    {
     "name": "stderr",
     "output_type": "stream",
     "text": [
      "100%|██████████| 4/4 [00:01<00:00,  3.37it/s]\n",
      "  0%|          | 1/313 [00:00<00:52,  5.89it/s]"
     ]
    },
    {
     "name": "stdout",
     "output_type": "stream",
     "text": [
      "Valid: loss = 34.81800165376626, top 1 = 0.0, top 5 = 0.0, top 10 = 0.15949999999999998, kendal = 0.2983824352297815\n",
      "\n",
      "Epoch: 64\n"
     ]
    },
    {
     "name": "stderr",
     "output_type": "stream",
     "text": [
      "100%|██████████| 313/313 [01:25<00:00,  3.67it/s]\n",
      "100%|██████████| 313/313 [02:06<00:00,  2.47it/s]\n",
      "  0%|          | 0/4 [00:00<?, ?it/s]"
     ]
    },
    {
     "name": "stdout",
     "output_type": "stream",
     "text": [
      "Train: loss = 34.94820165995043, top 1 = 0.0, top 5 = 0.0009699999999999983, top 10 = 0.16110500000000394, kendal = 0.2968784878538842\n"
     ]
    },
    {
     "name": "stderr",
     "output_type": "stream",
     "text": [
      "100%|██████████| 4/4 [00:00<00:00,  4.35it/s]\n",
      "  0%|          | 0/313 [00:00<?, ?it/s]"
     ]
    },
    {
     "name": "stdout",
     "output_type": "stream",
     "text": [
      "Valid: loss = 34.98700166179333, top 1 = 0.0, top 5 = 0.0, top 10 = 0.15949999999999998, kendal = 0.2983824352297815\n",
      "\n",
      "Epoch: 65\n"
     ]
    },
    {
     "name": "stderr",
     "output_type": "stream",
     "text": [
      "100%|██████████| 313/313 [00:55<00:00,  5.60it/s]\n",
      "100%|██████████| 313/313 [02:16<00:00,  2.30it/s]\n",
      "  0%|          | 0/4 [00:00<?, ?it/s]"
     ]
    },
    {
     "name": "stdout",
     "output_type": "stream",
     "text": [
      "Train: loss = 34.983661661634684, top 1 = 0.0, top 5 = 0.0009699999999999983, top 10 = 0.16110500000000394, kendal = 0.29687848799101063\n"
     ]
    },
    {
     "name": "stderr",
     "output_type": "stream",
     "text": [
      "100%|██████████| 4/4 [00:01<00:00,  2.81it/s]\n",
      "  0%|          | 0/313 [00:00<?, ?it/s]"
     ]
    },
    {
     "name": "stdout",
     "output_type": "stream",
     "text": [
      "Valid: loss = 35.04400166450068, top 1 = 0.0, top 5 = 0.0, top 10 = 0.15949999999999998, kendal = 0.2983824352297815\n",
      "\n",
      "Epoch: 66\n"
     ]
    },
    {
     "name": "stderr",
     "output_type": "stream",
     "text": [
      "100%|██████████| 313/313 [01:24<00:00,  3.68it/s]\n",
      "100%|██████████| 313/313 [01:32<00:00,  3.39it/s]\n",
      "  0%|          | 0/4 [00:00<?, ?it/s]"
     ]
    },
    {
     "name": "stdout",
     "output_type": "stream",
     "text": [
      "Train: loss = 34.96825166090275, top 1 = 0.0, top 5 = 0.0009699999999999983, top 10 = 0.16110500000000394, kendal = 0.2968784895567259\n"
     ]
    },
    {
     "name": "stderr",
     "output_type": "stream",
     "text": [
      "100%|██████████| 4/4 [00:01<00:00,  3.93it/s]\n",
      "  0%|          | 0/313 [00:00<?, ?it/s]"
     ]
    },
    {
     "name": "stdout",
     "output_type": "stream",
     "text": [
      "Valid: loss = 34.93600165937096, top 1 = 0.0, top 5 = 0.0, top 10 = 0.15949999999999998, kendal = 0.2983824352297815\n",
      "\n",
      "Epoch: 67\n"
     ]
    },
    {
     "name": "stderr",
     "output_type": "stream",
     "text": [
      "100%|██████████| 313/313 [01:23<00:00,  3.77it/s]\n",
      "100%|██████████| 313/313 [02:11<00:00,  2.37it/s]\n",
      "  0%|          | 0/4 [00:00<?, ?it/s]"
     ]
    },
    {
     "name": "stdout",
     "output_type": "stream",
     "text": [
      "Train: loss = 35.00932166285347, top 1 = 0.0, top 5 = 0.0009699999999999983, top 10 = 0.16110500000000394, kendal = 0.2968784874694001\n"
     ]
    },
    {
     "name": "stderr",
     "output_type": "stream",
     "text": [
      "100%|██████████| 4/4 [00:01<00:00,  3.36it/s]\n",
      "  0%|          | 0/313 [00:00<?, ?it/s]"
     ]
    },
    {
     "name": "stdout",
     "output_type": "stream",
     "text": [
      "Valid: loss = 34.887001657043584, top 1 = 0.0, top 5 = 0.0, top 10 = 0.15949999999999998, kendal = 0.2983824352297815\n",
      "\n",
      "Epoch: 68\n"
     ]
    },
    {
     "name": "stderr",
     "output_type": "stream",
     "text": [
      "100%|██████████| 313/313 [01:04<00:00,  4.82it/s]\n",
      "100%|██████████| 313/313 [01:58<00:00,  2.63it/s]\n",
      "  0%|          | 0/4 [00:00<?, ?it/s]"
     ]
    },
    {
     "name": "stdout",
     "output_type": "stream",
     "text": [
      "Train: loss = 34.980181661469395, top 1 = 0.0, top 5 = 0.0009699999999999983, top 10 = 0.16110500000000394, kendal = 0.29687848717065146\n"
     ]
    },
    {
     "name": "stderr",
     "output_type": "stream",
     "text": [
      "100%|██████████| 4/4 [00:01<00:00,  3.35it/s]\n",
      "  0%|          | 1/313 [00:00<00:45,  6.84it/s]"
     ]
    },
    {
     "name": "stdout",
     "output_type": "stream",
     "text": [
      "Valid: loss = 34.6440016455017, top 1 = 0.0, top 5 = 0.0, top 10 = 0.15949999999999998, kendal = 0.2983824352297815\n",
      "\n",
      "Epoch: 69\n"
     ]
    },
    {
     "name": "stderr",
     "output_type": "stream",
     "text": [
      "100%|██████████| 313/313 [01:18<00:00,  3.97it/s]\n",
      "100%|██████████| 313/313 [02:04<00:00,  2.52it/s]\n",
      "  0%|          | 0/4 [00:00<?, ?it/s]"
     ]
    },
    {
     "name": "stdout",
     "output_type": "stream",
     "text": [
      "Train: loss = 34.988811661879296, top 1 = 0.0, top 5 = 0.0009699999999999983, top 10 = 0.16110500000000394, kendal = 0.29687848510605375\n"
     ]
    },
    {
     "name": "stderr",
     "output_type": "stream",
     "text": [
      "100%|██████████| 4/4 [00:01<00:00,  3.71it/s]\n",
      "  0%|          | 0/313 [00:00<?, ?it/s]"
     ]
    },
    {
     "name": "stdout",
     "output_type": "stream",
     "text": [
      "Valid: loss = 34.75800165091641, top 1 = 0.0, top 5 = 0.0, top 10 = 0.15949999999999998, kendal = 0.2983824352297815\n",
      "\n",
      "Epoch: 70\n"
     ]
    },
    {
     "name": "stderr",
     "output_type": "stream",
     "text": [
      "100%|██████████| 313/313 [01:00<00:00,  5.13it/s]\n",
      "100%|██████████| 313/313 [02:11<00:00,  2.37it/s]\n",
      "  0%|          | 0/4 [00:00<?, ?it/s]"
     ]
    },
    {
     "name": "stdout",
     "output_type": "stream",
     "text": [
      "Train: loss = 34.99735166228493, top 1 = 0.0, top 5 = 0.0009699999999999983, top 10 = 0.16110500000000394, kendal = 0.2968784867290945\n"
     ]
    },
    {
     "name": "stderr",
     "output_type": "stream",
     "text": [
      "100%|██████████| 4/4 [00:01<00:00,  2.58it/s]\n",
      "  0%|          | 0/313 [00:00<?, ?it/s]"
     ]
    },
    {
     "name": "stdout",
     "output_type": "stream",
     "text": [
      "Valid: loss = 35.03500166407321, top 1 = 0.0, top 5 = 0.0, top 10 = 0.15949999999999998, kendal = 0.2983824352297815\n",
      "\n",
      "Epoch: 71\n"
     ]
    },
    {
     "name": "stderr",
     "output_type": "stream",
     "text": [
      "100%|██████████| 313/313 [01:27<00:00,  3.60it/s]\n",
      "100%|██████████| 313/313 [01:29<00:00,  3.50it/s]\n",
      "  0%|          | 0/4 [00:00<?, ?it/s]"
     ]
    },
    {
     "name": "stdout",
     "output_type": "stream",
     "text": [
      "Train: loss = 34.963071660656716, top 1 = 0.0, top 5 = 0.0009699999999999983, top 10 = 0.16110500000000394, kendal = 0.29687848649878285\n"
     ]
    },
    {
     "name": "stderr",
     "output_type": "stream",
     "text": [
      "100%|██████████| 4/4 [00:00<00:00,  4.98it/s]\n",
      "  0%|          | 0/313 [00:00<?, ?it/s]"
     ]
    },
    {
     "name": "stdout",
     "output_type": "stream",
     "text": [
      "Valid: loss = 34.769001651438884, top 1 = 0.0, top 5 = 0.0, top 10 = 0.15949999999999998, kendal = 0.2983824352297815\n",
      "\n",
      "Epoch: 72\n"
     ]
    },
    {
     "name": "stderr",
     "output_type": "stream",
     "text": [
      "100%|██████████| 313/313 [01:25<00:00,  3.67it/s]\n",
      "100%|██████████| 313/313 [02:16<00:00,  2.29it/s]\n",
      "  0%|          | 0/4 [00:00<?, ?it/s]"
     ]
    },
    {
     "name": "stdout",
     "output_type": "stream",
     "text": [
      "Train: loss = 34.97489166121814, top 1 = 0.0, top 5 = 0.0009699999999999983, top 10 = 0.16110500000000394, kendal = 0.29687848739995304\n"
     ]
    },
    {
     "name": "stderr",
     "output_type": "stream",
     "text": [
      "100%|██████████| 4/4 [00:00<00:00,  4.45it/s]\n",
      "  0%|          | 1/313 [00:00<00:44,  7.02it/s]"
     ]
    },
    {
     "name": "stdout",
     "output_type": "stream",
     "text": [
      "Valid: loss = 34.92300165875349, top 1 = 0.0, top 5 = 0.0, top 10 = 0.15949999999999998, kendal = 0.2983824352297815\n",
      "\n",
      "Epoch: 73\n"
     ]
    },
    {
     "name": "stderr",
     "output_type": "stream",
     "text": [
      "100%|██████████| 313/313 [00:55<00:00,  5.62it/s]\n",
      "100%|██████████| 313/313 [02:07<00:00,  2.46it/s]\n",
      "  0%|          | 0/4 [00:00<?, ?it/s]"
     ]
    },
    {
     "name": "stdout",
     "output_type": "stream",
     "text": [
      "Train: loss = 34.99273166206549, top 1 = 0.0, top 5 = 0.0009699999999999983, top 10 = 0.16110500000000394, kendal = 0.2968784880041424\n"
     ]
    },
    {
     "name": "stderr",
     "output_type": "stream",
     "text": [
      "100%|██████████| 4/4 [00:01<00:00,  2.43it/s]\n",
      "  0%|          | 0/313 [00:00<?, ?it/s]"
     ]
    },
    {
     "name": "stdout",
     "output_type": "stream",
     "text": [
      "Valid: loss = 34.63600164512172, top 1 = 0.0, top 5 = 0.0, top 10 = 0.15949999999999998, kendal = 0.2983824352297815\n",
      "\n",
      "Epoch: 74\n"
     ]
    },
    {
     "name": "stderr",
     "output_type": "stream",
     "text": [
      "100%|██████████| 313/313 [01:22<00:00,  3.81it/s]\n",
      "100%|██████████| 313/313 [01:50<00:00,  2.83it/s]\n",
      "  0%|          | 0/4 [00:00<?, ?it/s]"
     ]
    },
    {
     "name": "stdout",
     "output_type": "stream",
     "text": [
      "Train: loss = 34.987291661807106, top 1 = 0.0, top 5 = 0.0009699999999999983, top 10 = 0.16110500000000394, kendal = 0.29687848776903253\n"
     ]
    },
    {
     "name": "stderr",
     "output_type": "stream",
     "text": [
      "100%|██████████| 4/4 [00:01<00:00,  3.71it/s]\n",
      "  0%|          | 0/313 [00:00<?, ?it/s]"
     ]
    },
    {
     "name": "stdout",
     "output_type": "stream",
     "text": [
      "Valid: loss = 34.92300165875349, top 1 = 0.0, top 5 = 0.0, top 10 = 0.15949999999999998, kendal = 0.2983824352297815\n",
      "\n",
      "Epoch: 75\n"
     ]
    },
    {
     "name": "stderr",
     "output_type": "stream",
     "text": [
      "100%|██████████| 313/313 [01:12<00:00,  4.31it/s]\n",
      "100%|██████████| 313/313 [02:07<00:00,  2.46it/s]\n",
      "  0%|          | 0/4 [00:00<?, ?it/s]"
     ]
    },
    {
     "name": "stdout",
     "output_type": "stream",
     "text": [
      "Train: loss = 34.96157166058547, top 1 = 0.0, top 5 = 0.0009699999999999983, top 10 = 0.16110500000000394, kendal = 0.2968784872486847\n"
     ]
    },
    {
     "name": "stderr",
     "output_type": "stream",
     "text": [
      "100%|██████████| 4/4 [00:01<00:00,  3.07it/s]\n",
      "  0%|          | 0/313 [00:00<?, ?it/s]"
     ]
    },
    {
     "name": "stdout",
     "output_type": "stream",
     "text": [
      "Valid: loss = 34.69500164792407, top 1 = 0.0, top 5 = 0.0, top 10 = 0.15949999999999998, kendal = 0.2983824352297815\n",
      "\n",
      "Epoch: 76\n"
     ]
    },
    {
     "name": "stderr",
     "output_type": "stream",
     "text": [
      "100%|██████████| 313/313 [01:21<00:00,  3.85it/s]\n",
      "100%|██████████| 313/313 [01:41<00:00,  3.09it/s]\n",
      "  0%|          | 0/4 [00:00<?, ?it/s]"
     ]
    },
    {
     "name": "stdout",
     "output_type": "stream",
     "text": [
      "Train: loss = 34.96096166055649, top 1 = 0.0, top 5 = 0.0009699999999999983, top 10 = 0.16110500000000394, kendal = 0.29687848627099644\n"
     ]
    },
    {
     "name": "stderr",
     "output_type": "stream",
     "text": [
      "100%|██████████| 4/4 [00:01<00:00,  3.36it/s]\n",
      "  0%|          | 0/313 [00:00<?, ?it/s]"
     ]
    },
    {
     "name": "stdout",
     "output_type": "stream",
     "text": [
      "Valid: loss = 34.749001650488935, top 1 = 0.0, top 5 = 0.0, top 10 = 0.15949999999999998, kendal = 0.2983824352297815\n",
      "\n",
      "Epoch: 77\n"
     ]
    },
    {
     "name": "stderr",
     "output_type": "stream",
     "text": [
      "100%|██████████| 313/313 [01:21<00:00,  3.86it/s]\n",
      "100%|██████████| 313/313 [02:18<00:00,  2.26it/s]\n",
      "  0%|          | 0/4 [00:00<?, ?it/s]"
     ]
    },
    {
     "name": "stdout",
     "output_type": "stream",
     "text": [
      "Train: loss = 34.997441662289205, top 1 = 0.0, top 5 = 0.0009699999999999983, top 10 = 0.16110500000000394, kendal = 0.2968784849414011\n"
     ]
    },
    {
     "name": "stderr",
     "output_type": "stream",
     "text": [
      "100%|██████████| 4/4 [00:01<00:00,  3.70it/s]\n",
      "  0%|          | 0/313 [00:00<?, ?it/s]"
     ]
    },
    {
     "name": "stdout",
     "output_type": "stream",
     "text": [
      "Valid: loss = 35.08600166649558, top 1 = 0.0, top 5 = 0.0, top 10 = 0.15949999999999998, kendal = 0.2983824352297815\n",
      "\n",
      "Epoch: 78\n"
     ]
    },
    {
     "name": "stderr",
     "output_type": "stream",
     "text": [
      "100%|██████████| 313/313 [00:55<00:00,  5.59it/s]\n",
      "100%|██████████| 313/313 [02:03<00:00,  2.53it/s]\n",
      "  0%|          | 0/4 [00:00<?, ?it/s]"
     ]
    },
    {
     "name": "stdout",
     "output_type": "stream",
     "text": [
      "Train: loss = 34.99088166197762, top 1 = 0.0, top 5 = 0.0009699999999999983, top 10 = 0.16110500000000394, kendal = 0.296878486500298\n"
     ]
    },
    {
     "name": "stderr",
     "output_type": "stream",
     "text": [
      "100%|██████████| 4/4 [00:01<00:00,  2.60it/s]\n",
      "  0%|          | 0/313 [00:00<?, ?it/s]"
     ]
    },
    {
     "name": "stdout",
     "output_type": "stream",
     "text": [
      "Valid: loss = 34.87300165637862, top 1 = 0.0, top 5 = 0.0, top 10 = 0.15949999999999998, kendal = 0.2983824352297815\n",
      "\n",
      "Epoch: 79\n"
     ]
    },
    {
     "name": "stderr",
     "output_type": "stream",
     "text": [
      "100%|██████████| 313/313 [01:30<00:00,  3.47it/s]\n",
      "100%|██████████| 313/313 [01:34<00:00,  3.31it/s]\n",
      "  0%|          | 0/4 [00:00<?, ?it/s]"
     ]
    },
    {
     "name": "stdout",
     "output_type": "stream",
     "text": [
      "Train: loss = 34.98528166171163, top 1 = 0.0, top 5 = 0.0009699999999999983, top 10 = 0.16110500000000394, kendal = 0.2968784865103994\n"
     ]
    },
    {
     "name": "stderr",
     "output_type": "stream",
     "text": [
      "100%|██████████| 4/4 [00:01<00:00,  3.38it/s]\n",
      "  0%|          | 1/313 [00:00<00:32,  9.59it/s]"
     ]
    },
    {
     "name": "stdout",
     "output_type": "stream",
     "text": [
      "Valid: loss = 34.93200165918097, top 1 = 0.0, top 5 = 0.0, top 10 = 0.15949999999999998, kendal = 0.2983824352297815\n",
      "\n",
      "Epoch: 80\n"
     ]
    },
    {
     "name": "stderr",
     "output_type": "stream",
     "text": [
      "100%|██████████| 313/313 [01:16<00:00,  4.07it/s]\n",
      "100%|██████████| 313/313 [02:15<00:00,  2.31it/s]\n",
      "  0%|          | 0/4 [00:00<?, ?it/s]"
     ]
    },
    {
     "name": "stdout",
     "output_type": "stream",
     "text": [
      "Train: loss = 34.99419166213484, top 1 = 0.0, top 5 = 0.0009699999999999983, top 10 = 0.16110500000000394, kendal = 0.29687848660408983\n"
     ]
    },
    {
     "name": "stderr",
     "output_type": "stream",
     "text": [
      "100%|██████████| 4/4 [00:01<00:00,  3.37it/s]\n",
      "  0%|          | 0/313 [00:00<?, ?it/s]"
     ]
    },
    {
     "name": "stdout",
     "output_type": "stream",
     "text": [
      "Valid: loss = 34.84400165500119, top 1 = 0.0, top 5 = 0.0, top 10 = 0.15949999999999998, kendal = 0.2983824352297815\n",
      "\n",
      "Epoch: 81\n"
     ]
    },
    {
     "name": "stderr",
     "output_type": "stream",
     "text": [
      "100%|██████████| 313/313 [01:07<00:00,  4.62it/s]\n",
      "100%|██████████| 313/313 [01:56<00:00,  2.69it/s]\n",
      "  0%|          | 0/4 [00:00<?, ?it/s]"
     ]
    },
    {
     "name": "stdout",
     "output_type": "stream",
     "text": [
      "Train: loss = 34.97092166102957, top 1 = 0.0, top 5 = 0.0009699999999999983, top 10 = 0.16110500000000394, kendal = 0.29687848685813967\n"
     ]
    },
    {
     "name": "stderr",
     "output_type": "stream",
     "text": [
      "100%|██████████| 4/4 [00:01<00:00,  2.82it/s]\n",
      "  0%|          | 0/313 [00:00<?, ?it/s]"
     ]
    },
    {
     "name": "stdout",
     "output_type": "stream",
     "text": [
      "Valid: loss = 34.68800164759159, top 1 = 0.0, top 5 = 0.0, top 10 = 0.15949999999999998, kendal = 0.2983824352297815\n",
      "\n",
      "Epoch: 82\n"
     ]
    },
    {
     "name": "stderr",
     "output_type": "stream",
     "text": [
      "100%|██████████| 313/313 [01:18<00:00,  3.98it/s]\n",
      "100%|██████████| 313/313 [02:07<00:00,  2.46it/s]\n",
      "  0%|          | 0/4 [00:00<?, ?it/s]"
     ]
    },
    {
     "name": "stdout",
     "output_type": "stream",
     "text": [
      "Train: loss = 34.97144166105427, top 1 = 0.0, top 5 = 0.0009699999999999983, top 10 = 0.16110500000000394, kendal = 0.29687848959915175\n"
     ]
    },
    {
     "name": "stderr",
     "output_type": "stream",
     "text": [
      "100%|██████████| 4/4 [00:01<00:00,  3.70it/s]\n",
      "  0%|          | 0/313 [00:00<?, ?it/s]"
     ]
    },
    {
     "name": "stdout",
     "output_type": "stream",
     "text": [
      "Valid: loss = 34.77000165148638, top 1 = 0.0, top 5 = 0.0, top 10 = 0.15949999999999998, kendal = 0.2983824352297815\n",
      "\n",
      "Epoch: 83\n"
     ]
    },
    {
     "name": "stderr",
     "output_type": "stream",
     "text": [
      "100%|██████████| 313/313 [01:05<00:00,  4.77it/s]\n",
      "100%|██████████| 313/313 [02:00<00:00,  2.60it/s]\n",
      " 25%|██▌       | 1/4 [00:00<00:00,  5.40it/s]"
     ]
    },
    {
     "name": "stdout",
     "output_type": "stream",
     "text": [
      "Train: loss = 34.97086166102672, top 1 = 0.0, top 5 = 0.0009699999999999983, top 10 = 0.16110500000000394, kendal = 0.29687848871010325\n"
     ]
    },
    {
     "name": "stderr",
     "output_type": "stream",
     "text": [
      "100%|██████████| 4/4 [00:01<00:00,  2.95it/s]\n",
      "  0%|          | 0/313 [00:00<?, ?it/s]"
     ]
    },
    {
     "name": "stdout",
     "output_type": "stream",
     "text": [
      "Valid: loss = 34.883001656853594, top 1 = 0.0, top 5 = 0.0, top 10 = 0.15949999999999998, kendal = 0.2983824352297815\n",
      "\n",
      "Epoch: 84\n"
     ]
    },
    {
     "name": "stderr",
     "output_type": "stream",
     "text": [
      "100%|██████████| 313/313 [01:31<00:00,  3.42it/s]\n",
      "100%|██████████| 313/313 [01:36<00:00,  3.26it/s]\n",
      "  0%|          | 0/4 [00:00<?, ?it/s]"
     ]
    },
    {
     "name": "stdout",
     "output_type": "stream",
     "text": [
      "Train: loss = 34.98291166159906, top 1 = 0.0, top 5 = 0.0009699999999999983, top 10 = 0.16110500000000394, kendal = 0.29687848884495677\n"
     ]
    },
    {
     "name": "stderr",
     "output_type": "stream",
     "text": [
      "100%|██████████| 4/4 [00:00<00:00,  4.66it/s]\n",
      "  0%|          | 1/313 [00:00<00:56,  5.52it/s]"
     ]
    },
    {
     "name": "stdout",
     "output_type": "stream",
     "text": [
      "Valid: loss = 34.87800165661611, top 1 = 0.0, top 5 = 0.0, top 10 = 0.15949999999999998, kendal = 0.2983824352297815\n",
      "\n",
      "Epoch: 85\n"
     ]
    },
    {
     "name": "stderr",
     "output_type": "stream",
     "text": [
      "100%|██████████| 313/313 [01:14<00:00,  4.22it/s]\n",
      "100%|██████████| 313/313 [02:24<00:00,  2.17it/s]\n",
      "  0%|          | 0/4 [00:00<?, ?it/s]"
     ]
    },
    {
     "name": "stdout",
     "output_type": "stream",
     "text": [
      "Train: loss = 34.98355166162946, top 1 = 0.0, top 5 = 0.0009699999999999983, top 10 = 0.16110500000000394, kendal = 0.296878488664647\n"
     ]
    },
    {
     "name": "stderr",
     "output_type": "stream",
     "text": [
      "100%|██████████| 4/4 [00:01<00:00,  3.02it/s]\n",
      "  0%|          | 1/313 [00:00<00:39,  7.82it/s]"
     ]
    },
    {
     "name": "stdout",
     "output_type": "stream",
     "text": [
      "Valid: loss = 34.67000164673664, top 1 = 0.0, top 5 = 0.0, top 10 = 0.15949999999999998, kendal = 0.2983824352297815\n",
      "\n",
      "Epoch: 86\n"
     ]
    },
    {
     "name": "stderr",
     "output_type": "stream",
     "text": [
      "100%|██████████| 313/313 [00:58<00:00,  5.31it/s]\n",
      "100%|██████████| 313/313 [01:56<00:00,  2.69it/s]\n",
      "  0%|          | 0/4 [00:00<?, ?it/s]"
     ]
    },
    {
     "name": "stdout",
     "output_type": "stream",
     "text": [
      "Train: loss = 35.005211662658255, top 1 = 0.0, top 5 = 0.0009699999999999983, top 10 = 0.16110500000000394, kendal = 0.29687848707898135\n"
     ]
    },
    {
     "name": "stderr",
     "output_type": "stream",
     "text": [
      "100%|██████████| 4/4 [00:01<00:00,  2.75it/s]\n",
      "  0%|          | 0/313 [00:00<?, ?it/s]"
     ]
    },
    {
     "name": "stdout",
     "output_type": "stream",
     "text": [
      "Valid: loss = 35.224001673050225, top 1 = 0.0, top 5 = 0.0, top 10 = 0.15949999999999998, kendal = 0.2983824352297815\n",
      "\n",
      "Epoch: 87\n"
     ]
    },
    {
     "name": "stderr",
     "output_type": "stream",
     "text": [
      "100%|██████████| 313/313 [01:27<00:00,  3.56it/s]\n",
      "100%|██████████| 313/313 [01:53<00:00,  2.75it/s]\n",
      "  0%|          | 0/4 [00:00<?, ?it/s]"
     ]
    },
    {
     "name": "stdout",
     "output_type": "stream",
     "text": [
      "Train: loss = 35.00022166242125, top 1 = 0.0, top 5 = 0.0009699999999999983, top 10 = 0.16110500000000394, kendal = 0.2968784869246827\n"
     ]
    },
    {
     "name": "stderr",
     "output_type": "stream",
     "text": [
      "100%|██████████| 4/4 [00:01<00:00,  3.35it/s]\n",
      "  0%|          | 0/313 [00:00<?, ?it/s]"
     ]
    },
    {
     "name": "stdout",
     "output_type": "stream",
     "text": [
      "Valid: loss = 35.185001671197824, top 1 = 0.0, top 5 = 0.0, top 10 = 0.15949999999999998, kendal = 0.2983824352297815\n",
      "\n",
      "Epoch: 88\n"
     ]
    },
    {
     "name": "stderr",
     "output_type": "stream",
     "text": [
      "100%|██████████| 313/313 [01:10<00:00,  4.43it/s]\n",
      "100%|██████████| 313/313 [02:06<00:00,  2.48it/s]\n",
      "  0%|          | 0/4 [00:00<?, ?it/s]"
     ]
    },
    {
     "name": "stdout",
     "output_type": "stream",
     "text": [
      "Train: loss = 34.96258166063344, top 1 = 0.0, top 5 = 0.0009699999999999983, top 10 = 0.16110500000000394, kendal = 0.2968784878725718\n"
     ]
    },
    {
     "name": "stderr",
     "output_type": "stream",
     "text": [
      "100%|██████████| 4/4 [00:01<00:00,  3.09it/s]\n",
      "  0%|          | 0/313 [00:00<?, ?it/s]"
     ]
    },
    {
     "name": "stdout",
     "output_type": "stream",
     "text": [
      "Valid: loss = 34.773001651628874, top 1 = 0.0, top 5 = 0.0, top 10 = 0.15949999999999998, kendal = 0.2983824352297815\n",
      "\n",
      "Epoch: 89\n"
     ]
    },
    {
     "name": "stderr",
     "output_type": "stream",
     "text": [
      "100%|██████████| 313/313 [01:23<00:00,  3.73it/s]\n",
      "100%|██████████| 313/313 [01:43<00:00,  3.03it/s]\n",
      "  0%|          | 0/4 [00:00<?, ?it/s]"
     ]
    },
    {
     "name": "stdout",
     "output_type": "stream",
     "text": [
      "Train: loss = 34.977111661323576, top 1 = 0.0, top 5 = 0.0009699999999999983, top 10 = 0.16110500000000394, kendal = 0.2968784885391372\n"
     ]
    },
    {
     "name": "stderr",
     "output_type": "stream",
     "text": [
      "100%|██████████| 4/4 [00:00<00:00,  4.41it/s]\n",
      "  0%|          | 1/313 [00:00<00:42,  7.38it/s]"
     ]
    },
    {
     "name": "stdout",
     "output_type": "stream",
     "text": [
      "Valid: loss = 34.76800165139139, top 1 = 0.0, top 5 = 0.0, top 10 = 0.15949999999999998, kendal = 0.2983824352297815\n",
      "\n",
      "Epoch: 90\n"
     ]
    },
    {
     "name": "stderr",
     "output_type": "stream",
     "text": [
      "100%|██████████| 313/313 [01:15<00:00,  4.17it/s]\n",
      "100%|██████████| 313/313 [02:22<00:00,  2.20it/s]\n",
      "  0%|          | 0/4 [00:00<?, ?it/s]"
     ]
    },
    {
     "name": "stdout",
     "output_type": "stream",
     "text": [
      "Train: loss = 34.98383166164276, top 1 = 0.0, top 5 = 0.0009699999999999983, top 10 = 0.16110500000000394, kendal = 0.29687848634246383\n"
     ]
    },
    {
     "name": "stderr",
     "output_type": "stream",
     "text": [
      "100%|██████████| 4/4 [00:00<00:00,  4.11it/s]\n",
      "  0%|          | 0/313 [00:00<?, ?it/s]"
     ]
    },
    {
     "name": "stdout",
     "output_type": "stream",
     "text": [
      "Valid: loss = 34.89700165751856, top 1 = 0.0, top 5 = 0.0, top 10 = 0.15949999999999998, kendal = 0.2983824352297815\n",
      "\n",
      "Epoch: 91\n"
     ]
    },
    {
     "name": "stderr",
     "output_type": "stream",
     "text": [
      "100%|██████████| 313/313 [01:00<00:00,  5.17it/s]\n",
      "100%|██████████| 313/313 [01:53<00:00,  2.77it/s]\n",
      "  0%|          | 0/4 [00:00<?, ?it/s]"
     ]
    },
    {
     "name": "stdout",
     "output_type": "stream",
     "text": [
      "Train: loss = 34.969741660973526, top 1 = 0.0, top 5 = 0.0009699999999999983, top 10 = 0.16110500000000394, kendal = 0.29687848740020556\n"
     ]
    },
    {
     "name": "stderr",
     "output_type": "stream",
     "text": [
      "100%|██████████| 4/4 [00:01<00:00,  2.51it/s]\n",
      "  0%|          | 0/313 [00:00<?, ?it/s]"
     ]
    },
    {
     "name": "stdout",
     "output_type": "stream",
     "text": [
      "Valid: loss = 34.80500165314879, top 1 = 0.0, top 5 = 0.0, top 10 = 0.15949999999999998, kendal = 0.2983824352297815\n",
      "\n",
      "Epoch: 92\n"
     ]
    },
    {
     "name": "stderr",
     "output_type": "stream",
     "text": [
      "100%|██████████| 313/313 [01:30<00:00,  3.48it/s]\n",
      "100%|██████████| 313/313 [01:46<00:00,  2.95it/s]\n",
      "  0%|          | 0/4 [00:00<?, ?it/s]"
     ]
    },
    {
     "name": "stdout",
     "output_type": "stream",
     "text": [
      "Train: loss = 34.983481661626136, top 1 = 0.0, top 5 = 0.0009699999999999983, top 10 = 0.16110500000000394, kendal = 0.2968784873741945\n"
     ]
    },
    {
     "name": "stderr",
     "output_type": "stream",
     "text": [
      "100%|██████████| 4/4 [00:01<00:00,  3.91it/s]\n",
      "  0%|          | 1/313 [00:00<00:56,  5.56it/s]"
     ]
    },
    {
     "name": "stdout",
     "output_type": "stream",
     "text": [
      "Valid: loss = 34.95200166013092, top 1 = 0.0, top 5 = 0.0, top 10 = 0.15949999999999998, kendal = 0.2983824352297815\n",
      "\n",
      "Epoch: 93\n"
     ]
    },
    {
     "name": "stderr",
     "output_type": "stream",
     "text": [
      "100%|██████████| 313/313 [01:07<00:00,  4.61it/s]\n",
      "100%|██████████| 313/313 [02:19<00:00,  2.24it/s]\n",
      "  0%|          | 0/4 [00:00<?, ?it/s]"
     ]
    },
    {
     "name": "stdout",
     "output_type": "stream",
     "text": [
      "Train: loss = 34.96499166074791, top 1 = 0.0, top 5 = 0.0009699999999999983, top 10 = 0.16110500000000394, kendal = 0.29687848710347725\n"
     ]
    },
    {
     "name": "stderr",
     "output_type": "stream",
     "text": [
      "100%|██████████| 4/4 [00:01<00:00,  3.29it/s]\n",
      "  0%|          | 1/313 [00:00<00:46,  6.68it/s]"
     ]
    },
    {
     "name": "stdout",
     "output_type": "stream",
     "text": [
      "Valid: loss = 35.06600166554563, top 1 = 0.0, top 5 = 0.0, top 10 = 0.15949999999999998, kendal = 0.2983824352297815\n",
      "\n",
      "Epoch: 94\n"
     ]
    },
    {
     "name": "stderr",
     "output_type": "stream",
     "text": [
      "100%|██████████| 313/313 [01:13<00:00,  4.24it/s]\n",
      "100%|██████████| 313/313 [01:46<00:00,  2.93it/s]\n",
      "  0%|          | 0/4 [00:00<?, ?it/s]"
     ]
    },
    {
     "name": "stdout",
     "output_type": "stream",
     "text": [
      "Train: loss = 34.976061661273704, top 1 = 0.0, top 5 = 0.0009699999999999983, top 10 = 0.16110500000000394, kendal = 0.29687848707645603\n"
     ]
    },
    {
     "name": "stderr",
     "output_type": "stream",
     "text": [
      "100%|██████████| 4/4 [00:01<00:00,  3.41it/s]\n",
      "  0%|          | 1/313 [00:00<00:32,  9.50it/s]"
     ]
    },
    {
     "name": "stdout",
     "output_type": "stream",
     "text": [
      "Valid: loss = 34.93200165918097, top 1 = 0.0, top 5 = 0.0, top 10 = 0.15949999999999998, kendal = 0.2983824352297815\n",
      "\n",
      "Epoch: 95\n"
     ]
    },
    {
     "name": "stderr",
     "output_type": "stream",
     "text": [
      "100%|██████████| 313/313 [01:22<00:00,  3.80it/s]\n",
      "100%|██████████| 313/313 [02:11<00:00,  2.38it/s]\n",
      "  0%|          | 0/4 [00:00<?, ?it/s]"
     ]
    },
    {
     "name": "stdout",
     "output_type": "stream",
     "text": [
      "Train: loss = 34.99597166221938, top 1 = 0.0, top 5 = 0.0009699999999999983, top 10 = 0.16110500000000394, kendal = 0.29687848650989435\n"
     ]
    },
    {
     "name": "stderr",
     "output_type": "stream",
     "text": [
      "100%|██████████| 4/4 [00:01<00:00,  3.71it/s]\n",
      "  0%|          | 0/313 [00:00<?, ?it/s]"
     ]
    },
    {
     "name": "stdout",
     "output_type": "stream",
     "text": [
      "Valid: loss = 35.012001662980765, top 1 = 0.0, top 5 = 0.0, top 10 = 0.15949999999999998, kendal = 0.2983824352297815\n",
      "\n",
      "Epoch: 96\n"
     ]
    },
    {
     "name": "stderr",
     "output_type": "stream",
     "text": [
      "100%|██████████| 313/313 [01:06<00:00,  4.71it/s]\n",
      "100%|██████████| 313/313 [01:54<00:00,  2.73it/s]\n",
      "  0%|          | 0/4 [00:00<?, ?it/s]"
     ]
    },
    {
     "name": "stdout",
     "output_type": "stream",
     "text": [
      "Train: loss = 35.00725166275515, top 1 = 0.0, top 5 = 0.0009699999999999983, top 10 = 0.16110500000000394, kendal = 0.29687848593373634\n"
     ]
    },
    {
     "name": "stderr",
     "output_type": "stream",
     "text": [
      "100%|██████████| 4/4 [00:01<00:00,  2.83it/s]\n",
      "  0%|          | 0/313 [00:00<?, ?it/s]"
     ]
    },
    {
     "name": "stdout",
     "output_type": "stream",
     "text": [
      "Valid: loss = 35.33100167813245, top 1 = 0.0, top 5 = 0.0, top 10 = 0.15949999999999998, kendal = 0.2983824352297815\n",
      "\n",
      "Epoch: 97\n"
     ]
    },
    {
     "name": "stderr",
     "output_type": "stream",
     "text": [
      "100%|██████████| 313/313 [01:29<00:00,  3.51it/s]\n",
      "100%|██████████| 313/313 [01:45<00:00,  2.97it/s]\n",
      "  0%|          | 0/4 [00:00<?, ?it/s]"
     ]
    },
    {
     "name": "stdout",
     "output_type": "stream",
     "text": [
      "Train: loss = 34.99829166232958, top 1 = 0.0, top 5 = 0.0009699999999999983, top 10 = 0.16110500000000394, kendal = 0.2968784871549944\n"
     ]
    },
    {
     "name": "stderr",
     "output_type": "stream",
     "text": [
      "100%|██████████| 4/4 [00:00<00:00,  4.44it/s]\n",
      "  0%|          | 1/313 [00:00<00:44,  7.05it/s]"
     ]
    },
    {
     "name": "stdout",
     "output_type": "stream",
     "text": [
      "Valid: loss = 35.03000166383572, top 1 = 0.0, top 5 = 0.0, top 10 = 0.15949999999999998, kendal = 0.2983824352297815\n",
      "\n",
      "Epoch: 98\n"
     ]
    },
    {
     "name": "stderr",
     "output_type": "stream",
     "text": [
      "100%|██████████| 313/313 [01:07<00:00,  4.67it/s]\n",
      "100%|██████████| 313/313 [02:22<00:00,  2.20it/s]\n",
      "  0%|          | 0/4 [00:00<?, ?it/s]"
     ]
    },
    {
     "name": "stdout",
     "output_type": "stream",
     "text": [
      "Train: loss = 34.985621661727784, top 1 = 0.0, top 5 = 0.0009699999999999983, top 10 = 0.16110500000000394, kendal = 0.2968784878973202\n"
     ]
    },
    {
     "name": "stderr",
     "output_type": "stream",
     "text": [
      "100%|██████████| 4/4 [00:01<00:00,  2.96it/s]\n",
      "  0%|          | 0/313 [00:00<?, ?it/s]"
     ]
    },
    {
     "name": "stdout",
     "output_type": "stream",
     "text": [
      "Valid: loss = 34.97000166098587, top 1 = 0.0, top 5 = 0.0, top 10 = 0.15949999999999998, kendal = 0.2983824352297815\n",
      "\n",
      "Epoch: 99\n"
     ]
    },
    {
     "name": "stderr",
     "output_type": "stream",
     "text": [
      "100%|██████████| 313/313 [01:09<00:00,  4.53it/s]\n",
      "100%|██████████| 313/313 [01:46<00:00,  2.94it/s]\n",
      "  0%|          | 0/4 [00:00<?, ?it/s]"
     ]
    },
    {
     "name": "stdout",
     "output_type": "stream",
     "text": [
      "Train: loss = 34.99058166196337, top 1 = 0.0, top 5 = 0.0009699999999999983, top 10 = 0.16110500000000394, kendal = 0.2968784864846409\n"
     ]
    },
    {
     "name": "stderr",
     "output_type": "stream",
     "text": [
      "100%|██████████| 4/4 [00:01<00:00,  2.96it/s]\n",
      "  0%|          | 0/313 [00:00<?, ?it/s]"
     ]
    },
    {
     "name": "stdout",
     "output_type": "stream",
     "text": [
      "Valid: loss = 34.92900165903848, top 1 = 0.0, top 5 = 0.0, top 10 = 0.15949999999999998, kendal = 0.2983824352297815\n",
      "\n",
      "Epoch: 100\n"
     ]
    },
    {
     "name": "stderr",
     "output_type": "stream",
     "text": [
      "100%|██████████| 313/313 [01:26<00:00,  3.62it/s]\n",
      "100%|██████████| 313/313 [02:01<00:00,  2.57it/s]\n",
      "  0%|          | 0/4 [00:00<?, ?it/s]"
     ]
    },
    {
     "name": "stdout",
     "output_type": "stream",
     "text": [
      "Train: loss = 35.01068166291807, top 1 = 0.0, top 5 = 0.0009699999999999983, top 10 = 0.16110500000000394, kendal = 0.2968784879925258\n"
     ]
    },
    {
     "name": "stderr",
     "output_type": "stream",
     "text": [
      "100%|██████████| 4/4 [00:01<00:00,  3.93it/s]"
     ]
    },
    {
     "name": "stdout",
     "output_type": "stream",
     "text": [
      "Valid: loss = 35.09200166678056, top 1 = 0.0, top 5 = 0.0, top 10 = 0.15949999999999998, kendal = 0.2983824352297815\n"
     ]
    },
    {
     "name": "stderr",
     "output_type": "stream",
     "text": [
      "\n"
     ]
    }
   ],
   "source": [
    "nodes_cnt = setting.nodes_cnt\n",
    "\n",
    "\n",
    "model.train()\n",
    "\n",
    "train_info = {\n",
    "    \"bce\": [],\n",
    "    \"top1\": [],\n",
    "    \"top5\": [],\n",
    "    \"top10\": [],\n",
    "    \"kendal\": []\n",
    "}\n",
    "\n",
    "valid_info = {\n",
    "    \"bce\": [],\n",
    "    \"top1\": [],\n",
    "    \"top5\": [],\n",
    "    \"top10\": [],\n",
    "    \"kendal\": []\n",
    "}\n",
    "\n",
    "top_10 = 0.0\n",
    "top_5 = 0.0\n",
    "top_1 = 0.0\n",
    "\n",
    "for epoch in range(setting.epochs):\n",
    "    \n",
    "#     G, bc_gt = generate_nx_graph(nodes_cnt)\n",
    "    \n",
    "#     # Convert networkx.Graph to Pyg Data\n",
    "#     G = from_networkx(G)\n",
    "\n",
    "    print(\"\\nEpoch: {}\".format(epoch+1))\n",
    "\n",
    "    for batch in tqdm(train_loader):\n",
    "    \n",
    "        ### Start training\n",
    "        optimizer.zero_grad()\n",
    "        batch = batch.to(setting.device)\n",
    "\n",
    "        bc_pr = model(batch)\n",
    "    \n",
    "        \n",
    "        # compute batch loss\n",
    "        b_index = batch.batch.cpu().numpy()\n",
    "        b = np.max(b_index) + 1\n",
    "        \n",
    "        batch_loss = torch.tensor(0, dtype=torch.float).to(setting.device)\n",
    "        \n",
    "        for b_ in range(b):\n",
    "            \n",
    "            indice, = np.where(b_index == b_)\n",
    "            \n",
    "            gt = batch.y[indice].squeeze()\n",
    "            pr = bc_pr[indice].squeeze()\n",
    "            \n",
    "            # random sample 5|V| nodes\n",
    "            src = np.random.choice(len(indice), 5*len(indice), replace=True)\n",
    "            det = np.random.choice(len(indice), 5*len(indice), replace=True)\n",
    "            src = torch.from_numpy(src)\n",
    "            det = torch.from_numpy(det)\n",
    "\n",
    "            \n",
    "            y_gt = gt[det] - gt[src]\n",
    "            y_pr = pr[det] - pr[src]\n",
    "    \n",
    "            \n",
    "            y_gt = torch.where(y_gt > 0, torch.ones_like(y_gt), torch.zeros_like(y_gt))\n",
    "            y_pr = torch.where(y_pr > 0, torch.ones_like(y_pr, requires_grad=True), torch.zeros_like(y_pr, requires_grad=True))\n",
    "            \n",
    "#             print(y_gt.requires_grad)\n",
    "#             print(y_pr.requires_grad)\n",
    "#             y_gt = nn.Sigmoid()(y_gt)\n",
    "#             y_pr = nn.Sigmoid()(y_pr)\n",
    "        \n",
    "            batch_loss += nn.BCELoss()(y_pr, y_gt)\n",
    "        \n",
    "        batch_loss = torch.div(batch_loss, b)\n",
    "        batch_loss.backward()\n",
    "        optimizer.step()\n",
    "    \n",
    "    \n",
    "    ### Evaluation\n",
    "    with torch.no_grad():\n",
    "        \n",
    "        \n",
    "        top1_list = []\n",
    "        top5_list = []\n",
    "        top10_list = []\n",
    "        kendal_list = []\n",
    "        loss_list = []\n",
    "        \n",
    "        for batch in tqdm(train_loader):\n",
    "\n",
    "            batch = batch.to(setting.device)\n",
    "\n",
    "            bc_pr = model(batch)\n",
    "\n",
    "            b_index = batch.batch.cpu().numpy()\n",
    "            b = np.max(b_index) + 1\n",
    "\n",
    "            for b_ in range(b):\n",
    "\n",
    "                indice, = np.where(b_index == b_)\n",
    "\n",
    "                gt = batch.y[indice].squeeze()\n",
    "                pr = bc_pr[indice].squeeze()\n",
    "                \n",
    "                # evaluation\n",
    "                top1 = top_n_percentage(gt, pr, k=1)\n",
    "                top5 = top_n_percentage(gt, pr, k=5)\n",
    "                top10 = top_n_percentage(gt, pr, k=10)\n",
    "                kendal = kendal_tau_distance(gt, pr)\n",
    "                \n",
    "\n",
    "                # compute loss\n",
    "                src = np.random.choice(len(indice), 5*len(indice), replace=True)\n",
    "                det = np.random.choice(len(indice), 5*len(indice), replace=True)\n",
    "                src = torch.from_numpy(src)\n",
    "                det = torch.from_numpy(det)\n",
    "\n",
    "                y_gt = gt[det] - gt[src]\n",
    "                y_pr = pr[det] - pr[src]\n",
    "                \n",
    "                y_gt = torch.where(y_gt > 0, torch.ones_like(y_gt), torch.zeros_like(y_gt))\n",
    "                y_pr = torch.where(y_pr > 0, torch.ones_like(y_pr, requires_grad=True), torch.zeros_like(y_pr, requires_grad=True))\n",
    "\n",
    "#                 y_gt = nn.Sigmoid()(y_gt)\n",
    "#                 y_pr = nn.Sigmoid()(y_pr)\n",
    "\n",
    "                loss = nn.BCELoss()(y_pr, y_gt)\n",
    "                \n",
    "                top1_list.append(top1)\n",
    "                top5_list.append(top5)\n",
    "                top10_list.append(top10)\n",
    "                kendal_list.append(kendal)\n",
    "                loss_list.append(loss.item())\n",
    "                \n",
    "\n",
    "        bce = sum(loss_list)/len(loss_list)\n",
    "        top1 = sum(top1_list)/len(top1_list)\n",
    "        top5 = sum(top5_list)/len(top5_list)\n",
    "        top10 = sum(top10_list)/len(top10_list)\n",
    "        kendal = sum(kendal_list)/len(kendal_list)      \n",
    "        \n",
    "                \n",
    "        print(\"Train: loss = {}, top 1 = {}, top 5 = {}, top 10 = {}, kendal = {}\".format(\n",
    "                bce,\n",
    "                top1,\n",
    "                top5,\n",
    "                top10,\n",
    "                kendal\n",
    "        ))\n",
    "\n",
    "        train_info[\"bce\"].append(bce)\n",
    "        train_info[\"top1\"].append(top1)\n",
    "        train_info[\"top5\"].append(top5)\n",
    "        train_info[\"top10\"].append(top10)\n",
    "        train_info[\"kendal\"].append(kendal)\n",
    "\n",
    "        with open(setting.train_info_p, 'w') as f:\n",
    "            json.dump(train_info, f)\n",
    "            \n",
    "            \n",
    "    \n",
    "        top1_list = []\n",
    "        top5_list = []\n",
    "        top10_list = []\n",
    "        kendal_list = []\n",
    "        loss_list = []\n",
    "        \n",
    "        for batch in tqdm(valid_loader):\n",
    "\n",
    "            batch = batch.to(setting.device)\n",
    "\n",
    "            bc_pr = model(batch)\n",
    "\n",
    "            b_index = batch.batch.cpu().numpy()\n",
    "            b = np.max(b_index) + 1\n",
    "\n",
    "            for b_ in range(b):\n",
    "\n",
    "                indice, = np.where(b_index == b_)\n",
    "            \n",
    "\n",
    "                gt = batch.y[indice].squeeze()\n",
    "                pr = bc_pr[indice].squeeze()\n",
    "                \n",
    "                # evaluation\n",
    "                top1 = top_n_percentage(gt, pr, k=1)\n",
    "                top5 = top_n_percentage(gt, pr, k=5)\n",
    "                top10 = top_n_percentage(gt, pr, k=10)\n",
    "                kendal = kendal_tau_distance(gt, pr)\n",
    "\n",
    "                # compute loss\n",
    "                src = np.random.choice(len(indice), 5*len(indice), replace=True)\n",
    "                det = np.random.choice(len(indice), 5*len(indice), replace=True)\n",
    "                src = torch.from_numpy(src)\n",
    "                det = torch.from_numpy(det)\n",
    "\n",
    "                y_gt = gt[det] - gt[src]\n",
    "                y_pr = pr[det] - pr[src]\n",
    "                \n",
    "                y_gt = torch.where(y_gt > 0, torch.ones_like(y_gt), torch.zeros_like(y_gt))\n",
    "                y_pr = torch.where(y_pr > 0, torch.ones_like(y_pr, requires_grad=True), torch.zeros_like(y_pr, requires_grad=True))\n",
    "#                 y_gt = nn.Sigmoid()(y_gt)\n",
    "#                 y_pr = nn.Sigmoid()(y_pr)\n",
    "\n",
    "                loss = nn.BCELoss()(y_pr, y_gt)\n",
    "                \n",
    "                top1_list.append(top1)\n",
    "                top5_list.append(top5)\n",
    "                top10_list.append(top10)\n",
    "                kendal_list.append(kendal)\n",
    "                loss_list.append(loss.item())\n",
    "                \n",
    "\n",
    "        bce = sum(loss_list)/len(loss_list)\n",
    "        top1 = sum(top1_list)/len(top1_list)\n",
    "        top5 = sum(top5_list)/len(top5_list)\n",
    "        top10 = sum(top10_list)/len(top10_list)\n",
    "        kendal = sum(kendal_list)/len(kendal_list)      \n",
    "        \n",
    "                \n",
    "        print(\"Valid: loss = {}, top 1 = {}, top 5 = {}, top 10 = {}, kendal = {}\".format(\n",
    "                bce,\n",
    "                top1,\n",
    "                top5,\n",
    "                top10,\n",
    "                kendal\n",
    "        ))\n",
    "\n",
    "        valid_info[\"bce\"].append(bce)\n",
    "        valid_info[\"top1\"].append(top1)\n",
    "        valid_info[\"top5\"].append(top5)\n",
    "        valid_info[\"top10\"].append(top10)\n",
    "        valid_info[\"kendal\"].append(kendal)\n",
    "\n",
    "        with open(setting.val_info_p, 'w') as f:\n",
    "            json.dump(valid_info, f)\n",
    "\n",
    "\n",
    "\n",
    "        if top10 > top_10:\n",
    "            checkpoint = {\n",
    "                'model_stat': model.state_dict(),\n",
    "                'optimizer_stat': optimizer.state_dict(),\n",
    "            }\n",
    "            top_10 = top10\n",
    "            \n",
    "            torch.save(checkpoint, setting.weight_drbc)"
   ]
  },
  {
   "cell_type": "markdown",
   "metadata": {},
   "source": [
    "# Test"
   ]
  },
  {
   "cell_type": "code",
   "execution_count": 38,
   "metadata": {},
   "outputs": [],
   "source": [
    "def eval_model(model, dataloader, device):\n",
    "    \n",
    "    model = model.eval().to(device)\n",
    "    \n",
    "    top1_list = []\n",
    "    top5_list = []\n",
    "    top10_list = []\n",
    "    kendal_list = []\n",
    "    loss_list = []\n",
    "    time_list = []\n",
    "\n",
    "    for batch in tqdm(dataloader):\n",
    "\n",
    "        batch = batch.to(device)\n",
    "        \n",
    "        start = time.time()\n",
    "        bc_pr = model(batch)\n",
    "        end = time.time()\n",
    "\n",
    "        b_index = batch.batch.cpu().numpy()\n",
    "        b = np.max(b_index) + 1\n",
    "\n",
    "        for b_ in range(b):\n",
    "\n",
    "            indice, = np.where(b_index == b_)\n",
    "\n",
    "\n",
    "            gt = batch.y[indice].squeeze()\n",
    "            pr = bc_pr[indice].squeeze()\n",
    "\n",
    "            # evaluation\n",
    "            top1 = top_n_percentage(gt, pr, k=1)\n",
    "            top5 = top_n_percentage(gt, pr, k=5)\n",
    "            top10 = top_n_percentage(gt, pr, k=10)\n",
    "            kendal = kendal_tau_distance(gt, pr)\n",
    "\n",
    "            # compute loss\n",
    "            src = np.random.choice(len(indice), 5*len(indice), replace=True)\n",
    "            det = np.random.choice(len(indice), 5*len(indice), replace=True)\n",
    "            src = torch.from_numpy(src)\n",
    "            det = torch.from_numpy(det)\n",
    "\n",
    "            y_gt = gt[det] - gt[src]\n",
    "            y_pr = pr[det] - pr[src]\n",
    "            \n",
    "            y_gt = torch.where(y_gt > 0, torch.ones_like(y_gt), torch.zeros_like(y_gt))\n",
    "            y_pr = torch.where(y_pr > 0, torch.ones_like(y_pr, requires_grad=True), torch.zeros_like(y_pr, requires_grad=True))\n",
    "#             y_gt = nn.Sigmoid()(y_gt)\n",
    "#             y_pr = nn.Sigmoid()(y_pr)\n",
    "\n",
    "            loss = nn.BCELoss()(y_pr, y_gt)\n",
    "\n",
    "            top1_list.append(top1)\n",
    "            top5_list.append(top5)\n",
    "            top10_list.append(top10)\n",
    "            kendal_list.append(kendal)\n",
    "            loss_list.append(loss.item())\n",
    "            time_list.append(end-start)\n",
    "    \n",
    "    \n",
    "    return top1_list, top5_list, top10_list, kendal_list, time_list, loss_list"
   ]
  },
  {
   "cell_type": "code",
   "execution_count": 39,
   "metadata": {},
   "outputs": [
    {
     "name": "stderr",
     "output_type": "stream",
     "text": [
      "100%|██████████| 30/30 [00:11<00:00,  2.56it/s]"
     ]
    },
    {
     "name": "stdout",
     "output_type": "stream",
     "text": [
      "Top1: mean=0.00, std=0.00\n",
      "Top5: mean=0.03, std=0.01\n",
      "Top10: mean=0.25, std=0.02\n",
      "Kendal: mean=0.19, std=0.01\n",
      "Time: mean=0.37, std=0.02\n",
      "Loss: mean=40.43, std=0.56\n"
     ]
    },
    {
     "name": "stderr",
     "output_type": "stream",
     "text": [
      "\n"
     ]
    }
   ],
   "source": [
    "top1_list, top5_list, top10_list, kendal_list, time_list, loss_list = eval_model(model, syn_loader, \"cpu\")\n",
    "\n",
    "top1_list = np.array(top1_list)\n",
    "top5_list = np.array(top5_list)\n",
    "top10_list = np.array(top10_list)\n",
    "kendal_list = np.array(kendal_list)\n",
    "time_list = np.array(time_list)\n",
    "loss_list = np.array(loss_list)\n",
    "\n",
    "\n",
    "print(\"Top1: mean={:.2f}, std={:.2f}\".format(np.mean(top1_list), np.std(top1_list)))\n",
    "print(\"Top5: mean={:.2f}, std={:.2f}\".format(np.mean(top5_list), np.std(top5_list)))\n",
    "print(\"Top10: mean={:.2f}, std={:.2f}\".format(np.mean(top10_list), np.std(top10_list)))\n",
    "print(\"Kendal: mean={:.2f}, std={:.2f}\".format(np.mean(kendal_list), np.std(kendal_list)))\n",
    "print(\"Time: mean={:.2f}, std={:.2f}\".format(np.mean(time_list), np.std(time_list)))\n",
    "print(\"Loss: mean={:.2f}, std={:.2f}\".format(np.mean(loss_list), np.std(loss_list)))"
   ]
  },
  {
   "cell_type": "code",
   "execution_count": 40,
   "metadata": {},
   "outputs": [
    {
     "name": "stderr",
     "output_type": "stream",
     "text": [
      "100%|██████████| 1/1 [01:29<00:00, 89.23s/it]\n"
     ]
    },
    {
     "name": "stdout",
     "output_type": "stream",
     "text": [
      "Top1: mean=0.00, std=0.00\n",
      "Top5: mean=0.05, std=0.00\n",
      "Top10: mean=0.09, std=0.00\n",
      "Kendal: mean=-0.29, std=0.00\n",
      "Time: mean=88.32, std=0.00\n",
      "Loss: mean=61.97, std=0.00\n"
     ]
    }
   ],
   "source": [
    "top1_list, top5_list, top10_list, kendal_list, time_list, loss_list = eval_model(model, yt_loader, \"cpu\")\n",
    "\n",
    "top1_list = np.array(top1_list)\n",
    "top5_list = np.array(top5_list)\n",
    "top10_list = np.array(top10_list)\n",
    "kendal_list = np.array(kendal_list)\n",
    "time_list = np.array(time_list)\n",
    "loss_list = np.array(loss_list)\n",
    "\n",
    "\n",
    "print(\"Top1: mean={:.2f}, std={:.2f}\".format(np.mean(top1_list), np.std(top1_list)))\n",
    "print(\"Top5: mean={:.2f}, std={:.2f}\".format(np.mean(top5_list), np.std(top5_list)))\n",
    "print(\"Top10: mean={:.2f}, std={:.2f}\".format(np.mean(top10_list), np.std(top10_list)))\n",
    "print(\"Kendal: mean={:.2f}, std={:.2f}\".format(np.mean(kendal_list), np.std(kendal_list)))\n",
    "print(\"Time: mean={:.2f}, std={:.2f}\".format(np.mean(time_list), np.std(time_list)))\n",
    "print(\"Loss: mean={:.2f}, std={:.2f}\".format(np.mean(loss_list), np.std(loss_list)))"
   ]
  },
  {
   "cell_type": "markdown",
   "metadata": {},
   "source": [
    "# Visualization"
   ]
  },
  {
   "cell_type": "code",
   "execution_count": 41,
   "metadata": {},
   "outputs": [
    {
     "data": {
      "text/plain": [
       "'/home/ai2019/ne6081064/june/mlg/snrs_hw1/result/2021-03-21 14-49'"
      ]
     },
     "execution_count": 41,
     "metadata": {},
     "output_type": "execute_result"
    }
   ],
   "source": [
    "setting.root"
   ]
  },
  {
   "cell_type": "code",
   "execution_count": 42,
   "metadata": {
    "scrolled": true
   },
   "outputs": [
    {
     "data": {
      "image/png": "[encoded data removed]",
      "text/plain": [
       "<Figure size 1800x1440 with 5 Axes>"
      ]
     },
     "metadata": {
      "needs_background": "light"
     },
     "output_type": "display_data"
    }
   ],
   "source": [
    "import matplotlib.pyplot as plt\n",
    "\n",
    "with open(setting.train_info_p, 'r') as train_info, \\\n",
    "    open(setting.val_info_p, 'r') as valid_info:\n",
    "    \n",
    "    train = json.load(train_info)\n",
    "    valid = json.load(valid_info)\n",
    "\n",
    "    keys = list(train.keys())\n",
    "    epochs = len(train[keys[0]])\n",
    "\n",
    "    x = np.linspace(1, epochs, epochs)\n",
    "    \n",
    "    ### plot bce loss and mean top N %\n",
    "    fig, axs = plt.subplots(len(keys), figsize=(25, 4 * len(keys)))\n",
    "    for index, ax in enumerate(axs):\n",
    "        key = keys[index]\n",
    "\n",
    "        ax.plot(x, train[key], color=\"blue\")\n",
    "        ax.plot(x, valid[key], color=\"orange\")\n",
    "        \n",
    "        ax.legend([\"train\", \"valid\"], loc='upper left')\n",
    "        ax.set_title(key)\n",
    "        ax.grid()\n",
    "        \n",
    "    plt.tight_layout()\n",
    "    plt.savefig(setting.result_plt_p, facecolor=\"white\")"
   ]
  },
  {
   "cell_type": "markdown",
   "metadata": {},
   "source": [
    "# Compare diff scale"
   ]
  },
  {
   "cell_type": "code",
   "execution_count": 33,
   "metadata": {},
   "outputs": [
    {
     "name": "stdout",
     "output_type": "stream",
     "text": [
      "weight: 3000.pth\n",
      "pretrained finded\n",
      "weight: 300.pth\n",
      "pretrained finded\n",
      "weight: 1200.pth\n",
      "pretrained finded\n",
      "weight: 5000.pth\n",
      "pretrained finded\n",
      "weight: 200.pth\n",
      "pretrained finded\n"
     ]
    }
   ],
   "source": [
    "weights = os.path.join(setting._root, \"weights\")\n",
    "\n",
    "for weight_f in os.listdir(weights):\n",
    "    print(\"weight: {}\".format(weight_f))\n",
    "    \n",
    "    model, _ = load_checkpoint(\n",
    "                    os.path.join(weights, weight_f),\n",
    "                    \"cpu\",\n",
    "                    drbc = setting.params_drbc,\n",
    "                    node2vec = setting.params_node2vec)\n",
    "    model.eval()\n",
    "    \n",
    "    basename = os.path.splitext(weight_f)[0]\n",
    "    with open(os.path.join(setting._root, \"{}.json\".format(basename)), \"w\") as f:\n",
    "        jsn = {\n",
    "            \"top1\": [],\n",
    "            \"top5\": [],\n",
    "            \"top10\": [],\n",
    "            \"kendal\": [],\n",
    "            \"time\": []\n",
    "        }\n",
    "\n",
    "        for edge_list, score in zip(synthetic, between):\n",
    "\n",
    "            data = to_data(edge_list, score)\n",
    "\n",
    "            start = time.time()\n",
    "            bc_pr = model(data)\n",
    "            end = time.time()\n",
    "\n",
    "            bc_gt = np.array(data.y)\n",
    "\n",
    "\n",
    "            jsn[\"time\"].append(end-start)\n",
    "            jsn[\"kendal\"].append(kendal_tau_distance(bc_pr, bc_gt))\n",
    "            jsn[\"top1\"].append(top_n_percentage(bc_pr, bc_gt, k=1))\n",
    "            jsn[\"top5\"].append(top_n_percentage(bc_pr, bc_gt, k=5))\n",
    "            jsn[\"top10\"].append(top_n_percentage(bc_pr, bc_gt, k=10))\n",
    "\n",
    "        json.dump(jsn, f)\n",
    "    "
   ]
  },
  {
   "cell_type": "code",
   "execution_count": 37,
   "metadata": {},
   "outputs": [
    {
     "name": "stdout",
     "output_type": "stream",
     "text": [
      "\n",
      "top1\n",
      "scale=200, mean=0.6606666666666666, std=0.16374641641541007\n",
      "scale=300, mean=0.6593333333333333, std=0.16301192867053899\n",
      "scale=1200, mean=0.66, std=0.16403251710153893\n",
      "scale=3000, mean=0.6833333333333336, std=0.17220788470785986\n",
      "scale=5000, mean=0.636, std=0.1423985018647785\n",
      "\n",
      "top5\n",
      "scale=200, mean=0.6389333333333334, std=0.1302343869934341\n",
      "scale=300, mean=0.6376000000000002, std=0.12988856762625414\n",
      "scale=1200, mean=0.6573333333333333, std=0.13822236513032984\n",
      "scale=3000, mean=0.6728, std=0.15371454062644824\n",
      "scale=5000, mean=0.6188, std=0.12861166354572975\n",
      "\n",
      "top10\n",
      "scale=200, mean=0.6447333333333333, std=0.11378047088826604\n",
      "scale=300, mean=0.6474000000000001, std=0.11626423927129671\n",
      "scale=1200, mean=0.6700666666666667, std=0.12222763826383769\n",
      "scale=3000, mean=0.6585333333333332, std=0.13130314373828053\n",
      "scale=5000, mean=0.6415333333333334, std=0.11461783844100747\n",
      "\n",
      "kendal\n",
      "scale=200, mean=0.4162531066213242, std=0.11592136297554113\n",
      "scale=300, mean=0.34002063879442557, std=0.10374069606698114\n",
      "scale=1200, mean=0.3943040288057612, std=0.13442441895633847\n",
      "scale=3000, mean=0.04964088817763553, std=0.019541950793109848\n",
      "scale=5000, mean=0.4567827058745083, std=0.08964164382726174\n",
      "\n",
      "time\n",
      "scale=200, mean=0.3690826892852783, std=0.029576550154801734\n",
      "scale=300, mean=0.3682676315307617, std=0.02538650128656612\n",
      "scale=1200, mean=0.3535344918568929, std=0.015350331572904125\n",
      "scale=3000, mean=0.3997665802637736, std=0.038325411234525125\n",
      "scale=5000, mean=0.37226398785909015, std=0.038548824017517566\n"
     ]
    },
    {
     "data": {
      "image/png": "[encoded data removed]",
      "text/plain": [
       "<Figure size 1800x1440 with 5 Axes>"
      ]
     },
     "metadata": {
      "needs_background": "light"
     },
     "output_type": "display_data"
    }
   ],
   "source": [
    "with open(os.path.join(setting._root, \"result\", \"comparison\", \"200.json\"), \"r\") as f_200, \\\n",
    "    open(os.path.join(setting._root, \"result\", \"comparison\", \"300.json\"), \"r\") as f_300, \\\n",
    "    open(os.path.join(setting._root, \"result\", \"comparison\", \"1200.json\"), \"r\") as f_1200, \\\n",
    "    open(os.path.join(setting._root, \"result\", \"comparison\", \"3000.json\"), \"r\") as f_3000, \\\n",
    "    open(os.path.join(setting._root, \"result\", \"comparison\", \"5000.json\"), \"r\") as f_5000 :\n",
    "    \n",
    "    r_200 = json.load(f_200)\n",
    "    r_300 = json.load(f_300)\n",
    "    r_1200 = json.load(f_1200)\n",
    "    r_3000 = json.load(f_3000)\n",
    "    r_5000 = json.load(f_5000)\n",
    "\n",
    "    keys = list(r_200.keys())\n",
    "    \n",
    "    fig, axs = plt.subplots(len(keys), figsize=(25, 4*len(keys)))\n",
    "    for index, ax in enumerate(axs):\n",
    "        key = keys[index]\n",
    "        \n",
    "        ax.boxplot([r_200[key], r_300[key], r_1200[key], r_3000[key], r_5000[key]], widths=0.5)\n",
    "        ax.set_title(key)\n",
    "        ax.grid()\n",
    "        \n",
    "        print(\"\\n{}\".format(key))\n",
    "        ### Calculate mean and std\n",
    "        r_200_ = np.array(r_200[key])\n",
    "        print(\"scale=200, mean={}, std={}\".format(np.mean(r_200_), np.std(r_200_)))\n",
    "        \n",
    "        r_300_ = np.array(r_300[key])\n",
    "        print(\"scale=300, mean={}, std={}\".format(np.mean(r_300_), np.std(r_300_)))\n",
    "        \n",
    "        r_1200_ = np.array(r_1200[key])\n",
    "        print(\"scale=1200, mean={}, std={}\".format(np.mean(r_1200_), np.std(r_1200_)))\n",
    "        \n",
    "        r_3000_ = np.array(r_3000[key])\n",
    "        print(\"scale=3000, mean={}, std={}\".format(np.mean(r_3000_), np.std(r_3000_)))\n",
    "         \n",
    "        r_5000_ = np.array(r_5000[key])\n",
    "        print(\"scale=5000, mean={}, std={}\".format(np.mean(r_5000_), np.std(r_5000_)))\n",
    "        \n",
    "    \n",
    "    plt.setp(axs,  xticklabels=['200', '300', '1200', \"3000\", \"5000\"])\n",
    "    plt.savefig(os.path.join(setting._root, \"result\", \"comparison\", \"comp.png\"), facecolor=\"white\")\n",
    "    \n",
    "    "
   ]
  }
 ],
 "metadata": {
  "accelerator": "GPU",
  "colab": {
   "collapsed_sections": [],
   "name": "code.ipynb",
   "provenance": [],
   "toc_visible": true
  },
  "kernelspec": {
   "display_name": "Python 3",
   "language": "python",
   "name": "python3"
  },
  "language_info": {
   "codemirror_mode": {
    "name": "ipython",
    "version": 3
   },
   "file_extension": ".py",
   "mimetype": "text/x-python",
   "name": "python",
   "nbconvert_exporter": "python",
   "pygments_lexer": "ipython3",
   "version": "3.7.9"
  }
 },
 "nbformat": 4,
 "nbformat_minor": 4
}
