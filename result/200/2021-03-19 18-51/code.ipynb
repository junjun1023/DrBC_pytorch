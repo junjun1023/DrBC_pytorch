{
 "cells": [
  {
   "cell_type": "markdown",
   "metadata": {
    "id": "HXDHW_mjXtMp"
   },
   "source": [
    "# Mount drive"
   ]
  },
  {
   "cell_type": "code",
   "execution_count": null,
   "metadata": {
    "colab": {
     "base_uri": "https://localhost:8080/"
    },
    "executionInfo": {
     "elapsed": 20999,
     "status": "ok",
     "timestamp": 1615282633207,
     "user": {
      "displayName": "Q56094077陳香君",
      "photoUrl": "",
      "userId": "10727804849868825735"
     },
     "user_tz": -480
    },
    "id": "FvCyvU3wXU5i",
    "outputId": "1ebe457a-4d34-474b-ea70-4d9fd6765538"
   },
   "outputs": [],
   "source": [
    "# from google.colab import drive\n",
    "# drive.mount('/content/gdrive')\n",
    "\n",
    "# !ls /content/gdrive/My\\ Drive"
   ]
  },
  {
   "cell_type": "code",
   "execution_count": null,
   "metadata": {
    "id": "n7xdJXLgX6xs"
   },
   "outputs": [],
   "source": [
    "# !unzip /content/gdrive/MyDrive/Q56094077/snrs/hw1_0319/hw1_data.zip -d /content/gdrive/MyDrive/Q56094077/snrs/hw1_0319"
   ]
  },
  {
   "cell_type": "markdown",
   "metadata": {
    "id": "PNPvyQC_ZsBz"
   },
   "source": [
    "# Import Library"
   ]
  },
  {
   "cell_type": "code",
   "execution_count": 30,
   "metadata": {
    "executionInfo": {
     "elapsed": 5086,
     "status": "ok",
     "timestamp": 1615282641207,
     "user": {
      "displayName": "Q56094077陳香君",
      "photoUrl": "",
      "userId": "10727804849868825735"
     },
     "user_tz": -480
    },
    "id": "R9e-OVDBZbU_"
   },
   "outputs": [],
   "source": [
    "import os\n",
    "\n",
    "import torch\n",
    "import torch.nn as nn\n",
    "\n",
    "import pandas as pd\n",
    "import numpy as np\n",
    "import json\n",
    "\n",
    "from tqdm import tqdm\n",
    "from datetime import datetime\n",
    "import time\n",
    "from collections import deque\n",
    "import matplotlib.pyplot as plt"
   ]
  },
  {
   "cell_type": "code",
   "execution_count": 31,
   "metadata": {
    "colab": {
     "base_uri": "https://localhost:8080/",
     "height": 414
    },
    "executionInfo": {
     "elapsed": 776,
     "status": "error",
     "timestamp": 1615283001909,
     "user": {
      "displayName": "Q56094077陳香君",
      "photoUrl": "",
      "userId": "10727804849868825735"
     },
     "user_tz": -480
    },
    "id": "jUN8f3VP4u9D",
    "outputId": "9e4523ef-8226-4980-c086-f15bf7f0a33a"
   },
   "outputs": [],
   "source": [
    "import torch_geometric\n",
    "from torch_geometric.data import Data, DataLoader\n",
    "import torch_geometric.utils as utils"
   ]
  },
  {
   "cell_type": "code",
   "execution_count": 32,
   "metadata": {},
   "outputs": [],
   "source": [
    "import networkit as nk\n",
    "import networkx as nx"
   ]
  },
  {
   "cell_type": "markdown",
   "metadata": {},
   "source": [
    "# Setting"
   ]
  },
  {
   "cell_type": "code",
   "execution_count": 33,
   "metadata": {},
   "outputs": [],
   "source": [
    "class Setting:\n",
    "    _root = os.getcwd()\n",
    "\n",
    "    _data = os.path.join(_root, \"hw1_data\")\n",
    "\n",
    "    data_synthetic = os.path.join(_data, \"Synthetic\", \"5000\")\n",
    "    data_youtube = os.path.join(_data, \"youtube\")\n",
    "    data_train = os.path.join(_data, \"train\")\n",
    "    data_valid = os.path.join(_data, \"valid\")\n",
    "    \n",
    "     # Create dir for train/test\n",
    "    date_time = datetime.strftime(datetime.now(), \"%Y-%m-%d %H-%M\")\n",
    "    root = os.path.join(_root, \"result\", \"2021-03-19 18-51\")\n",
    "    if os.path.exists(root):\n",
    "        pass\n",
    "    else:\n",
    "        os.makedirs(root)\n",
    "\n",
    "\n",
    "    ### Save plt info\n",
    "    train_info_p = os.path.join(root, \"train.json\")\n",
    "    val_info_p = os.path.join(root, \"valid.json\")\n",
    "    test_info_p = os.path.join(root, \"test.json\")\n",
    "\n",
    "    ### Save plt img\n",
    "    result_plt_p = os.path.join(root, \"train_plt.png\")\n",
    "    test_plt_p = os.path.join(root, \"test_plt.png\")\n",
    "    sum_box_p = os.path.join(root, \"sum_box.png\")\n",
    "        \n",
    "        \n",
    "    ### Data split\n",
    "    data_split = os.path.join(_root, \"split.json\")\n",
    "    \n",
    "\n",
    "    # Setting of training\n",
    "    device = torch.device(\"cuda:1\" if torch.cuda.is_available() else \"cpu\")\n",
    "\n",
    "    mini_epochs = 500\n",
    "    epochs = 100\n",
    "    \n",
    "    nodes_cnt = 200\n",
    "\n",
    "    criterion = nn.BCELoss()\n",
    "    weight_node2vec = os.path.join(root, \"node2vec.pth\")\n",
    "    weight_drbc = os.path.join(root, \"drbc.pth\")\n",
    "    \n",
    "    params_drbc = None\n",
    "    params_node2vec = None\n",
    "\n",
    "    "
   ]
  },
  {
   "cell_type": "code",
   "execution_count": 34,
   "metadata": {},
   "outputs": [],
   "source": [
    "setting = Setting()"
   ]
  },
  {
   "cell_type": "markdown",
   "metadata": {
    "id": "RZdiko1lmiJy"
   },
   "source": [
    "# Data"
   ]
  },
  {
   "cell_type": "markdown",
   "metadata": {
    "id": "gU4XwwAu_WkR"
   },
   "source": [
    "- data.x\t节点特征，维度是[num_nodes, num_node_features]。\n",
    "- data.edge_index\t维度是[2, num_edges]，描述图中节点的关联关系，每一列对应的两个元素，分别是边的起点和重点。数据类型是torch.long。需要注意的是，data.edge_index是定义边的节点的张量（tensor），而不是节点的列表（list）。\n",
    "- data.edge_attr\t边的特征矩阵，维度是[num_edges, num_edge_features]\n",
    "- data.y\t训练目标（维度可以是任意的）。对于节点相关的任务，维度为[num_nodes, *]；对于图相关的任务，维度为[1,*]。\n",
    "- data.position\t节点位置矩阵（Node position matrix），维度为[num_nodes, num_dimensions]。"
   ]
  },
  {
   "cell_type": "markdown",
   "metadata": {
    "id": "um9C8SFO_2Tx"
   },
   "source": [
    "- [Learning to Identify High Betweenness Centrality Nodes from\n",
    "Scratch: A Novel Graph Neural Network Approach](https://arxiv.org/pdf/1905.10418.pdf)\n",
    "- node initial feature = [$(d_v), 1, 1]"
   ]
  },
  {
   "cell_type": "markdown",
   "metadata": {},
   "source": [
    "## Functions"
   ]
  },
  {
   "cell_type": "markdown",
   "metadata": {},
   "source": [
    "### Load all data"
   ]
  },
  {
   "cell_type": "code",
   "execution_count": 35,
   "metadata": {
    "colab": {
     "base_uri": "https://localhost:8080/"
    },
    "executionInfo": {
     "elapsed": 5918,
     "status": "ok",
     "timestamp": 1615282793119,
     "user": {
      "displayName": "Q56094077陳香君",
      "photoUrl": "",
      "userId": "10727804849868825735"
     },
     "user_tz": -480
    },
    "id": "cxWp5RNpm1uL",
    "outputId": "4cf7bf3b-d143-4b96-eebb-2cd9c1b0f408"
   },
   "outputs": [],
   "source": [
    "def load_data(path):\n",
    "\n",
    "    edge_index = []\n",
    "    between = []\n",
    "    for f in os.listdir(path):\n",
    "        if \"score\" in f:\n",
    "            pass\n",
    "        else:\n",
    "            p = os.path.join(path, f)\n",
    "            edge_index.append(p)\n",
    "            \n",
    "            # get filename without extension\n",
    "            f = os.path.splitext(f)[0]\n",
    "            p = os.path.join(path, \"{}_score.txt\".format(f))\n",
    "            between.append(p)\n",
    "    \n",
    "    return edge_index, between"
   ]
  },
  {
   "cell_type": "markdown",
   "metadata": {},
   "source": [
    "### Split Data"
   ]
  },
  {
   "cell_type": "code",
   "execution_count": 36,
   "metadata": {},
   "outputs": [],
   "source": [
    "from sklearn.model_selection import train_test_split\n",
    "\n",
    "\n",
    "def split_data(path, x, y, replace=False):\n",
    "    if os.path.exists(path) and replace:\n",
    "        pass\n",
    "    else:\n",
    "        X_train, X_test, y_train, y_test = train_test_split(x, y, test_size=0.2)\n",
    "        X_train, X_valid, y_train, y_valid = train_test_split(X_train, y_train, test_size=0.15)\n",
    "\n",
    "        split = {\n",
    "            \"X_train\": X_train,\n",
    "            \"X_valid\": X_valid,\n",
    "            \"X_test\": X_test,\n",
    "            \"y_train\": y_train,\n",
    "            \"y_valid\": y_valid,\n",
    "            \"y_test\": y_test\n",
    "        }\n",
    "\n",
    "        with open(path, 'w') as f:\n",
    "            json.dump(split, f)"
   ]
  },
  {
   "cell_type": "markdown",
   "metadata": {},
   "source": [
    "### Cvt 2 Data"
   ]
  },
  {
   "cell_type": "code",
   "execution_count": 37,
   "metadata": {},
   "outputs": [],
   "source": [
    "def to_data(x, y=None, x_sep=None, y_sep=None, usecols=None):\n",
    "    \n",
    "    if x_sep is not None:\n",
    "        edge_index = torch_geometric.io.read_txt_array(x, dtype=torch.long, sep=x_sep)\n",
    "    else:\n",
    "        edge_index = torch_geometric.io.read_txt_array(x, dtype=torch.long)\n",
    "    edge_index = edge_index.t().contiguous()\n",
    "    edge_index = utils.to_undirected(edge_index)\n",
    "\n",
    "    row, col = edge_index  \n",
    "    deg = utils.degree(col) # must use col to get degree, why?\n",
    "    deg = deg.numpy()  \n",
    "\n",
    "    vertice = []\n",
    "    for d in deg:\n",
    "        vertice.append([d, 1, 1])\n",
    "    vertice = np.array(vertice, dtype=np.float)\n",
    "    vertice = torch.from_numpy(vertice)\n",
    "\n",
    "    if y is not None:\n",
    "        ### between centrality\n",
    "        bc = np.loadtxt(y, delimiter=y_sep, usecols=usecols)\n",
    "        bc = np.reshape(bc, (-1, 1))\n",
    "        bc = torch.from_numpy(bc)\n",
    "\n",
    "        data = Data(x=vertice, edge_index=edge_index, y=bc)\n",
    "        \n",
    "    else:\n",
    "        data = Data(x=vertice, edge_index=edge_index)\n",
    "    \n",
    "    return data"
   ]
  },
  {
   "cell_type": "markdown",
   "metadata": {},
   "source": [
    "### Cvt 2 dataloader"
   ]
  },
  {
   "cell_type": "code",
   "execution_count": 38,
   "metadata": {
    "colab": {
     "base_uri": "https://localhost:8080/",
     "height": 246
    },
    "executionInfo": {
     "elapsed": 893,
     "status": "error",
     "timestamp": 1615282795672,
     "user": {
      "displayName": "Q56094077陳香君",
      "photoUrl": "",
      "userId": "10727804849868825735"
     },
     "user_tz": -480
    },
    "id": "GJrGQmiUxRGX",
    "outputId": "81d8b6cb-5008-47d8-baf4-1156d70e07fc"
   },
   "outputs": [],
   "source": [
    "def to_dataloader(x, y, batch, y_sep=None, usecols=None):\n",
    "    \n",
    "    data_list = []\n",
    "    for x_, y_ in zip(x, y):\n",
    "        data = to_data(x_, y_, y_sep=y_sep, usecols=usecols)\n",
    "        data_list.append(data)\n",
    "\n",
    "    loader = DataLoader(data_list, batch_size=batch)\n",
    "    return loader"
   ]
  },
  {
   "cell_type": "markdown",
   "metadata": {},
   "source": [
    "### Cvt nx.Graph 2 PyG.Data"
   ]
  },
  {
   "cell_type": "code",
   "execution_count": 39,
   "metadata": {},
   "outputs": [],
   "source": [
    "def from_networkx(G, between_list=None):\n",
    "    r\"\"\"Converts a :obj:`networkx.Graph` or :obj:`networkx.DiGraph` to a\n",
    "    :class:`torch_geometric.data.Data` instance.\n",
    "\n",
    "    Args:\n",
    "        G (networkx.Graph or networkx.DiGraph): A networkx graph.\n",
    "    \"\"\"\n",
    "\n",
    "    G = nx.convert_node_labels_to_integers(G)\n",
    "    G = G.to_directed() if not nx.is_directed(G) else G\n",
    "    edge_index = torch.LongTensor(list(G.edges)).t().contiguous()\n",
    "   \n",
    "    data = {}\n",
    "\n",
    "    for i, (_, feat_dict) in enumerate(G.nodes(data=True)):\n",
    "        for key, value in feat_dict.items():\n",
    "           \n",
    "            data[str(key)] = [value] if i == 0 else data[str(key)] + [value]\n",
    "\n",
    "    for i, (_, _, feat_dict) in enumerate(G.edges(data=True)):\n",
    "        for key, value in feat_dict.items():\n",
    "            data[str(key)] = [value] if i == 0 else data[str(key)] + [value]\n",
    "\n",
    "    for key, item in data.items():\n",
    "        try:\n",
    "            data[key] = torch.tensor(item)\n",
    "        except ValueError:\n",
    "            pass\n",
    "\n",
    "    data['edge_index'] = edge_index.view(2, -1)\n",
    "    data['x'] = torch.from_numpy(\n",
    "        np.array( [ [G.degree[i], 1, 1] for i in G.nodes()], dtype=np.float ) )\n",
    "    \n",
    "    if between_list is not None:\n",
    "        data['y'] = torch.from_numpy(\n",
    "            np.array( [ [b] for b in between_list ] , dtype=np.float) )\n",
    "    data = torch_geometric.data.Data.from_dict(data)\n",
    "    data.num_nodes = G.number_of_nodes()\n",
    "\n",
    "    return data"
   ]
  },
  {
   "cell_type": "markdown",
   "metadata": {},
   "source": [
    "### Randomly generate nx.Graph"
   ]
  },
  {
   "cell_type": "code",
   "execution_count": 40,
   "metadata": {},
   "outputs": [],
   "source": [
    "def generate_nx_graph(nodes_cnt):\n",
    "    # Draw network G from distribution D (like the power-law model)\n",
    "    G = nx.generators.random_graphs.powerlaw_cluster_graph(n=nodes_cnt, m=4, p=0.05)\n",
    "    # Calculate each node’s exact BC value bv, ∀v ∈ V\n",
    "    betweenness = nx.algorithms.centrality.betweenness_centrality(G)\n",
    "    \n",
    "    # Convert betweenness dict to list\n",
    "    between_list = [v for k, v in sorted(betweenness.items(), key=lambda  item: int(item[0]), reverse=False)]\n",
    "    bc_gt = torch.from_numpy(np.array(between_list))\n",
    "    \n",
    "    return G, bc_gt"
   ]
  },
  {
   "cell_type": "markdown",
   "metadata": {},
   "source": [
    "#### Generate 10,000 for train"
   ]
  },
  {
   "cell_type": "code",
   "execution_count": 13,
   "metadata": {},
   "outputs": [],
   "source": [
    "nodes_cnt = setting.nodes_cnt"
   ]
  },
  {
   "cell_type": "code",
   "execution_count": 14,
   "metadata": {},
   "outputs": [],
   "source": [
    "train_dir = os.path.join(setting._data, \"train\", str(nodes_cnt))\n",
    "if os.path.exists(train_dir):\n",
    "    pass\n",
    "else:\n",
    "    os.makedirs(train_dir)"
   ]
  },
  {
   "cell_type": "code",
   "execution_count": null,
   "metadata": {},
   "outputs": [],
   "source": [
    "for i in range(10000):\n",
    "    G, bc_gt = generate_nx_graph(nodes_cnt)\n",
    "    edge_f = open(os.path.join(train_dir, \"{}.txt\".format(i)), \"wb\")\n",
    "    nx.readwrite.edgelist.write_edgelist(G, edge_f, data=False)\n",
    "    \n",
    "    bc_gt = bc_gt.numpy()\n",
    "    np.savetxt(os.path.join(train_dir, \"{}_score.txt\".format(i)), bc_gt, fmt=\"%.20f\")"
   ]
  },
  {
   "cell_type": "markdown",
   "metadata": {},
   "source": [
    "#### Generate 100 for validation"
   ]
  },
  {
   "cell_type": "code",
   "execution_count": null,
   "metadata": {},
   "outputs": [],
   "source": [
    "valid_dir = os.path.join(setting._data, \"valid\", str(nodes_cnt))\n",
    "if os.path.exists(valid_dir):\n",
    "    pass\n",
    "else:\n",
    "    os.makedirs(valid_dir)"
   ]
  },
  {
   "cell_type": "code",
   "execution_count": null,
   "metadata": {},
   "outputs": [],
   "source": [
    "for i in range(100):\n",
    "    G, bc_gt = generate_nx_graph(nodes_cnt)\n",
    "    edge_f = open(os.path.join(valid_dir, \"{}.txt\".format(i)), \"wb\")\n",
    "    nx.readwrite.edgelist.write_edgelist(G, edge_f, data=False)\n",
    "    \n",
    "    bc_gt = bc_gt.numpy()\n",
    "    np.savetxt(os.path.join(valid_dir, \"{}_score.txt\".format(i)), bc_gt, fmt=\"%.20f\")"
   ]
  },
  {
   "cell_type": "markdown",
   "metadata": {},
   "source": [
    "## Read data"
   ]
  },
  {
   "cell_type": "markdown",
   "metadata": {},
   "source": [
    "### Load test data"
   ]
  },
  {
   "cell_type": "code",
   "execution_count": 41,
   "metadata": {},
   "outputs": [],
   "source": [
    "synthetic, between = load_data(setting.data_synthetic)\n",
    "yt, yt_score = load_data(setting.data_youtube)"
   ]
  },
  {
   "cell_type": "code",
   "execution_count": 42,
   "metadata": {},
   "outputs": [],
   "source": [
    "train, train_bet = load_data(os.path.join(setting.data_train, str(setting.nodes_cnt)))"
   ]
  },
  {
   "cell_type": "code",
   "execution_count": 43,
   "metadata": {},
   "outputs": [],
   "source": [
    "valid, valid_bet = load_data(os.path.join(setting.data_valid, str(setting.nodes_cnt)))"
   ]
  },
  {
   "cell_type": "markdown",
   "metadata": {},
   "source": [
    "### Cvt to data/dataloader"
   ]
  },
  {
   "cell_type": "code",
   "execution_count": 44,
   "metadata": {},
   "outputs": [],
   "source": [
    "train_loader = to_dataloader(train, train_bet, batch=32)\n",
    "valid_loader = to_dataloader(valid, valid_bet, batch=32)"
   ]
  },
  {
   "cell_type": "code",
   "execution_count": 82,
   "metadata": {},
   "outputs": [
    {
     "name": "stdout",
     "output_type": "stream",
     "text": [
      "tensor([[0.0021],\n",
      "        [0.0270],\n",
      "        [0.0490],\n",
      "        ...,\n",
      "        [0.0009],\n",
      "        [0.0007],\n",
      "        [0.0010]], dtype=torch.float64)\n",
      "tensor([[0.0662],\n",
      "        [0.0453],\n",
      "        [0.0762],\n",
      "        ...,\n",
      "        [0.0013],\n",
      "        [0.0008],\n",
      "        [0.0006]], dtype=torch.float64)\n",
      "tensor([[0.0243],\n",
      "        [0.0241],\n",
      "        [0.1961],\n",
      "        ...,\n",
      "        [0.0007],\n",
      "        [0.0009],\n",
      "        [0.0009]], dtype=torch.float64)\n",
      "tensor([[0.0339],\n",
      "        [0.0723],\n",
      "        [0.1027],\n",
      "        ...,\n",
      "        [0.0009],\n",
      "        [0.0007],\n",
      "        [0.0011]], dtype=torch.float64)\n",
      "tensor([[0.0452],\n",
      "        [0.0096],\n",
      "        [0.0423],\n",
      "        ...,\n",
      "        [0.0005],\n",
      "        [0.0007],\n",
      "        [0.0003]], dtype=torch.float64)\n",
      "tensor([[0.0877],\n",
      "        [0.0318],\n",
      "        [0.0321],\n",
      "        ...,\n",
      "        [0.0005],\n",
      "        [0.0011],\n",
      "        [0.0009]], dtype=torch.float64)\n",
      "tensor([[0.0447],\n",
      "        [0.0315],\n",
      "        [0.0305],\n",
      "        ...,\n",
      "        [0.0009],\n",
      "        [0.0008],\n",
      "        [0.0015]], dtype=torch.float64)\n",
      "tensor([[0.0938],\n",
      "        [0.0406],\n",
      "        [0.0566],\n",
      "        ...,\n",
      "        [0.0013],\n",
      "        [0.0002],\n",
      "        [0.0011]], dtype=torch.float64)\n",
      "tensor([[0.1315],\n",
      "        [0.0622],\n",
      "        [0.1137],\n",
      "        ...,\n",
      "        [0.0009],\n",
      "        [0.0005],\n",
      "        [0.0008]], dtype=torch.float64)\n",
      "tensor([[0.1015],\n",
      "        [0.0182],\n",
      "        [0.1961],\n",
      "        ...,\n",
      "        [0.0011],\n",
      "        [0.0013],\n",
      "        [0.0013]], dtype=torch.float64)\n",
      "tensor([[0.0297],\n",
      "        [0.0016],\n",
      "        [0.1637],\n",
      "        ...,\n",
      "        [0.0008],\n",
      "        [0.0010],\n",
      "        [0.0012]], dtype=torch.float64)\n",
      "tensor([[0.0112],\n",
      "        [0.0252],\n",
      "        [0.1224],\n",
      "        ...,\n",
      "        [0.0012],\n",
      "        [0.0012],\n",
      "        [0.0009]], dtype=torch.float64)\n",
      "tensor([[0.1089],\n",
      "        [0.0378],\n",
      "        [0.0545],\n",
      "        ...,\n",
      "        [0.0009],\n",
      "        [0.0014],\n",
      "        [0.0009]], dtype=torch.float64)\n",
      "tensor([[0.0333],\n",
      "        [0.0872],\n",
      "        [0.0194],\n",
      "        ...,\n",
      "        [0.0027],\n",
      "        [0.0007],\n",
      "        [0.0019]], dtype=torch.float64)\n",
      "tensor([[0.0679],\n",
      "        [0.0631],\n",
      "        [0.0349],\n",
      "        ...,\n",
      "        [0.0007],\n",
      "        [0.0004],\n",
      "        [0.0007]], dtype=torch.float64)\n",
      "tensor([[0.0688],\n",
      "        [0.0181],\n",
      "        [0.0923],\n",
      "        ...,\n",
      "        [0.0008],\n",
      "        [0.0010],\n",
      "        [0.0011]], dtype=torch.float64)\n",
      "tensor([[0.0384],\n",
      "        [0.0227],\n",
      "        [0.0284],\n",
      "        ...,\n",
      "        [0.0017],\n",
      "        [0.0007],\n",
      "        [0.0011]], dtype=torch.float64)\n",
      "tensor([[0.1154],\n",
      "        [0.1078],\n",
      "        [0.0207],\n",
      "        ...,\n",
      "        [0.0009],\n",
      "        [0.0027],\n",
      "        [0.0010]], dtype=torch.float64)\n",
      "tensor([[0.0668],\n",
      "        [0.0692],\n",
      "        [0.0641],\n",
      "        ...,\n",
      "        [0.0007],\n",
      "        [0.0013],\n",
      "        [0.0015]], dtype=torch.float64)\n",
      "tensor([[0.0168],\n",
      "        [0.0859],\n",
      "        [0.0236],\n",
      "        ...,\n",
      "        [0.0007],\n",
      "        [0.0007],\n",
      "        [0.0004]], dtype=torch.float64)\n",
      "tensor([[0.0111],\n",
      "        [0.0563],\n",
      "        [0.0152],\n",
      "        ...,\n",
      "        [0.0008],\n",
      "        [0.0011],\n",
      "        [0.0018]], dtype=torch.float64)\n",
      "tensor([[0.0137],\n",
      "        [0.1092],\n",
      "        [0.1157],\n",
      "        ...,\n",
      "        [0.0006],\n",
      "        [0.0007],\n",
      "        [0.0007]], dtype=torch.float64)\n",
      "tensor([[0.0477],\n",
      "        [0.1009],\n",
      "        [0.0378],\n",
      "        ...,\n",
      "        [0.0015],\n",
      "        [0.0014],\n",
      "        [0.0009]], dtype=torch.float64)\n",
      "tensor([[0.0262],\n",
      "        [0.0465],\n",
      "        [0.1421],\n",
      "        ...,\n",
      "        [0.0005],\n",
      "        [0.0004],\n",
      "        [0.0008]], dtype=torch.float64)\n",
      "tensor([[0.1038],\n",
      "        [0.0602],\n",
      "        [0.0513],\n",
      "        ...,\n",
      "        [0.0002],\n",
      "        [0.0011],\n",
      "        [0.0007]], dtype=torch.float64)\n",
      "tensor([[0.0491],\n",
      "        [0.1020],\n",
      "        [0.0958],\n",
      "        ...,\n",
      "        [0.0013],\n",
      "        [0.0006],\n",
      "        [0.0007]], dtype=torch.float64)\n",
      "tensor([[0.0343],\n",
      "        [0.0204],\n",
      "        [0.0696],\n",
      "        ...,\n",
      "        [0.0010],\n",
      "        [0.0006],\n",
      "        [0.0018]], dtype=torch.float64)\n",
      "tensor([[0.0733],\n",
      "        [0.0672],\n",
      "        [0.0230],\n",
      "        ...,\n",
      "        [0.0007],\n",
      "        [0.0005],\n",
      "        [0.0007]], dtype=torch.float64)\n",
      "tensor([[0.1133],\n",
      "        [0.0382],\n",
      "        [0.0314],\n",
      "        ...,\n",
      "        [0.0012],\n",
      "        [0.0010],\n",
      "        [0.0007]], dtype=torch.float64)\n",
      "tensor([[0.0715],\n",
      "        [0.0255],\n",
      "        [0.1536],\n",
      "        ...,\n",
      "        [0.0018],\n",
      "        [0.0007],\n",
      "        [0.0012]], dtype=torch.float64)\n",
      "tensor([[0.1006],\n",
      "        [0.0108],\n",
      "        [0.1336],\n",
      "        ...,\n",
      "        [0.0014],\n",
      "        [0.0010],\n",
      "        [0.0010]], dtype=torch.float64)\n",
      "tensor([[0.0031],\n",
      "        [0.0844],\n",
      "        [0.1675],\n",
      "        ...,\n",
      "        [0.0002],\n",
      "        [0.0007],\n",
      "        [0.0011]], dtype=torch.float64)\n",
      "tensor([[0.1203],\n",
      "        [0.0672],\n",
      "        [0.0546],\n",
      "        ...,\n",
      "        [0.0002],\n",
      "        [0.0010],\n",
      "        [0.0014]], dtype=torch.float64)\n",
      "tensor([[0.0292],\n",
      "        [0.0334],\n",
      "        [0.0587],\n",
      "        ...,\n",
      "        [0.0014],\n",
      "        [0.0006],\n",
      "        [0.0009]], dtype=torch.float64)\n",
      "tensor([[0.0517],\n",
      "        [0.0036],\n",
      "        [0.0471],\n",
      "        ...,\n",
      "        [0.0010],\n",
      "        [0.0016],\n",
      "        [0.0012]], dtype=torch.float64)\n",
      "tensor([[0.1135],\n",
      "        [0.0377],\n",
      "        [0.0297],\n",
      "        ...,\n",
      "        [0.0011],\n",
      "        [0.0024],\n",
      "        [0.0014]], dtype=torch.float64)\n",
      "tensor([[0.0722],\n",
      "        [0.0529],\n",
      "        [0.0276],\n",
      "        ...,\n",
      "        [0.0011],\n",
      "        [0.0007],\n",
      "        [0.0007]], dtype=torch.float64)\n",
      "tensor([[0.0333],\n",
      "        [0.0780],\n",
      "        [0.0880],\n",
      "        ...,\n",
      "        [0.0006],\n",
      "        [0.0007],\n",
      "        [0.0009]], dtype=torch.float64)\n",
      "tensor([[0.0871],\n",
      "        [0.0887],\n",
      "        [0.0247],\n",
      "        ...,\n",
      "        [0.0012],\n",
      "        [0.0015],\n",
      "        [0.0014]], dtype=torch.float64)\n",
      "tensor([[0.0802],\n",
      "        [0.0695],\n",
      "        [0.0198],\n",
      "        ...,\n",
      "        [0.0010],\n",
      "        [0.0008],\n",
      "        [0.0011]], dtype=torch.float64)\n",
      "tensor([[0.0029],\n",
      "        [0.0197],\n",
      "        [0.1462],\n",
      "        ...,\n",
      "        [0.0009],\n",
      "        [0.0004],\n",
      "        [0.0018]], dtype=torch.float64)\n",
      "tensor([[0.1741],\n",
      "        [0.0362],\n",
      "        [0.0815],\n",
      "        ...,\n",
      "        [0.0017],\n",
      "        [0.0007],\n",
      "        [0.0010]], dtype=torch.float64)\n",
      "tensor([[0.0645],\n",
      "        [0.0103],\n",
      "        [0.0118],\n",
      "        ...,\n",
      "        [0.0018],\n",
      "        [0.0019],\n",
      "        [0.0013]], dtype=torch.float64)\n",
      "tensor([[0.0805],\n",
      "        [0.0280],\n",
      "        [0.1389],\n",
      "        ...,\n",
      "        [0.0012],\n",
      "        [0.0014],\n",
      "        [0.0006]], dtype=torch.float64)\n",
      "tensor([[0.0851],\n",
      "        [0.0190],\n",
      "        [0.0310],\n",
      "        ...,\n",
      "        [0.0009],\n",
      "        [0.0022],\n",
      "        [0.0010]], dtype=torch.float64)\n",
      "tensor([[0.1425],\n",
      "        [0.0318],\n",
      "        [0.0467],\n",
      "        ...,\n",
      "        [0.0011],\n",
      "        [0.0011],\n",
      "        [0.0008]], dtype=torch.float64)\n",
      "tensor([[0.0092],\n",
      "        [0.0548],\n",
      "        [0.0578],\n",
      "        ...,\n",
      "        [0.0010],\n",
      "        [0.0013],\n",
      "        [0.0010]], dtype=torch.float64)\n",
      "tensor([[0.0075],\n",
      "        [0.0426],\n",
      "        [0.1287],\n",
      "        ...,\n",
      "        [0.0006],\n",
      "        [0.0005],\n",
      "        [0.0013]], dtype=torch.float64)\n",
      "tensor([[0.0334],\n",
      "        [0.0072],\n",
      "        [0.0700],\n",
      "        ...,\n",
      "        [0.0011],\n",
      "        [0.0015],\n",
      "        [0.0008]], dtype=torch.float64)\n",
      "tensor([[0.0500],\n",
      "        [0.0225],\n",
      "        [0.0144],\n",
      "        ...,\n",
      "        [0.0009],\n",
      "        [0.0019],\n",
      "        [0.0022]], dtype=torch.float64)\n",
      "tensor([[0.0277],\n",
      "        [0.0130],\n",
      "        [0.0643],\n",
      "        ...,\n",
      "        [0.0008],\n",
      "        [0.0010],\n",
      "        [0.0013]], dtype=torch.float64)\n",
      "tensor([[0.0126],\n",
      "        [0.1135],\n",
      "        [0.0513],\n",
      "        ...,\n",
      "        [0.0012],\n",
      "        [0.0010],\n",
      "        [0.0015]], dtype=torch.float64)\n",
      "tensor([[0.0700],\n",
      "        [0.0111],\n",
      "        [0.0148],\n",
      "        ...,\n",
      "        [0.0006],\n",
      "        [0.0015],\n",
      "        [0.0012]], dtype=torch.float64)\n",
      "tensor([[0.0103],\n",
      "        [0.0478],\n",
      "        [0.0767],\n",
      "        ...,\n",
      "        [0.0020],\n",
      "        [0.0012],\n",
      "        [0.0011]], dtype=torch.float64)\n",
      "tensor([[0.0314],\n",
      "        [0.0618],\n",
      "        [0.0337],\n",
      "        ...,\n",
      "        [0.0008],\n",
      "        [0.0006],\n",
      "        [0.0008]], dtype=torch.float64)\n",
      "tensor([[0.0369],\n",
      "        [0.0417],\n",
      "        [0.1046],\n",
      "        ...,\n",
      "        [0.0017],\n",
      "        [0.0014],\n",
      "        [0.0006]], dtype=torch.float64)\n",
      "tensor([[0.0770],\n",
      "        [0.0843],\n",
      "        [0.0228],\n",
      "        ...,\n",
      "        [0.0013],\n",
      "        [0.0026],\n",
      "        [0.0008]], dtype=torch.float64)\n",
      "tensor([[0.0060],\n",
      "        [0.0780],\n",
      "        [0.0560],\n",
      "        ...,\n",
      "        [0.0014],\n",
      "        [0.0013],\n",
      "        [0.0008]], dtype=torch.float64)\n",
      "tensor([[0.0728],\n",
      "        [0.0437],\n",
      "        [0.0016],\n",
      "        ...,\n",
      "        [0.0009],\n",
      "        [0.0007],\n",
      "        [0.0008]], dtype=torch.float64)\n",
      "tensor([[0.0166],\n",
      "        [0.0953],\n",
      "        [0.1173],\n",
      "        ...,\n",
      "        [0.0011],\n",
      "        [0.0009],\n",
      "        [0.0013]], dtype=torch.float64)\n",
      "tensor([[0.0240],\n",
      "        [0.0580],\n",
      "        [0.0559],\n",
      "        ...,\n",
      "        [0.0010],\n",
      "        [0.0008],\n",
      "        [0.0011]], dtype=torch.float64)\n",
      "tensor([[0.0632],\n",
      "        [0.1071],\n",
      "        [0.0003],\n",
      "        ...,\n",
      "        [0.0007],\n",
      "        [0.0012],\n",
      "        [0.0007]], dtype=torch.float64)\n",
      "tensor([[0.0095],\n",
      "        [0.0586],\n",
      "        [0.0117],\n",
      "        ...,\n",
      "        [0.0014],\n",
      "        [0.0018],\n",
      "        [0.0013]], dtype=torch.float64)\n",
      "tensor([[0.0764],\n",
      "        [0.1161],\n",
      "        [0.0600],\n",
      "        ...,\n",
      "        [0.0007],\n",
      "        [0.0022],\n",
      "        [0.0010]], dtype=torch.float64)\n",
      "tensor([[0.0299],\n",
      "        [0.0587],\n",
      "        [0.0839],\n",
      "        ...,\n",
      "        [0.0012],\n",
      "        [0.0006],\n",
      "        [0.0007]], dtype=torch.float64)\n",
      "tensor([[0.0436],\n",
      "        [0.1320],\n",
      "        [0.0100],\n",
      "        ...,\n",
      "        [0.0006],\n",
      "        [0.0011],\n",
      "        [0.0006]], dtype=torch.float64)\n",
      "tensor([[0.0129],\n",
      "        [0.0881],\n",
      "        [0.0689],\n",
      "        ...,\n",
      "        [0.0020],\n",
      "        [0.0008],\n",
      "        [0.0008]], dtype=torch.float64)\n",
      "tensor([[0.0758],\n",
      "        [0.0742],\n",
      "        [0.0619],\n",
      "        ...,\n",
      "        [0.0012],\n",
      "        [0.0011],\n",
      "        [0.0005]], dtype=torch.float64)\n",
      "tensor([[0.0818],\n",
      "        [0.0038],\n",
      "        [0.0116],\n",
      "        ...,\n",
      "        [0.0005],\n",
      "        [0.0009],\n",
      "        [0.0006]], dtype=torch.float64)\n",
      "tensor([[0.1719],\n",
      "        [0.0426],\n",
      "        [0.0013],\n",
      "        ...,\n",
      "        [0.0010],\n",
      "        [0.0017],\n",
      "        [0.0015]], dtype=torch.float64)\n",
      "tensor([[0.0275],\n",
      "        [0.0954],\n",
      "        [0.0990],\n",
      "        ...,\n",
      "        [0.0011],\n",
      "        [0.0016],\n",
      "        [0.0008]], dtype=torch.float64)\n",
      "tensor([[0.0782],\n",
      "        [0.0349],\n",
      "        [0.0392],\n",
      "        ...,\n",
      "        [0.0009],\n",
      "        [0.0003],\n",
      "        [0.0014]], dtype=torch.float64)\n"
     ]
    },
    {
     "name": "stdout",
     "output_type": "stream",
     "text": [
      "tensor([[0.0448],\n",
      "        [0.0262],\n",
      "        [0.0663],\n",
      "        ...,\n",
      "        [0.0006],\n",
      "        [0.0010],\n",
      "        [0.0019]], dtype=torch.float64)\n",
      "tensor([[0.0350],\n",
      "        [0.0720],\n",
      "        [0.0271],\n",
      "        ...,\n",
      "        [0.0009],\n",
      "        [0.0015],\n",
      "        [0.0009]], dtype=torch.float64)\n",
      "tensor([[0.0746],\n",
      "        [0.0994],\n",
      "        [0.0314],\n",
      "        ...,\n",
      "        [0.0026],\n",
      "        [0.0018],\n",
      "        [0.0011]], dtype=torch.float64)\n",
      "tensor([[0.0375],\n",
      "        [0.0483],\n",
      "        [0.0186],\n",
      "        ...,\n",
      "        [0.0010],\n",
      "        [0.0010],\n",
      "        [0.0017]], dtype=torch.float64)\n",
      "tensor([[0.0497],\n",
      "        [0.0202],\n",
      "        [0.0340],\n",
      "        ...,\n",
      "        [0.0011],\n",
      "        [0.0015],\n",
      "        [0.0007]], dtype=torch.float64)\n",
      "tensor([[0.0193],\n",
      "        [0.0579],\n",
      "        [0.0071],\n",
      "        ...,\n",
      "        [0.0007],\n",
      "        [0.0014],\n",
      "        [0.0006]], dtype=torch.float64)\n",
      "tensor([[0.0426],\n",
      "        [0.0546],\n",
      "        [0.1773],\n",
      "        ...,\n",
      "        [0.0011],\n",
      "        [0.0015],\n",
      "        [0.0011]], dtype=torch.float64)\n",
      "tensor([[0.0400],\n",
      "        [0.0222],\n",
      "        [0.0885],\n",
      "        ...,\n",
      "        [0.0013],\n",
      "        [0.0007],\n",
      "        [0.0003]], dtype=torch.float64)\n",
      "tensor([[0.0478],\n",
      "        [0.0619],\n",
      "        [0.0325],\n",
      "        ...,\n",
      "        [0.0009],\n",
      "        [0.0015],\n",
      "        [0.0018]], dtype=torch.float64)\n",
      "tensor([[0.1874],\n",
      "        [0.0105],\n",
      "        [0.0688],\n",
      "        ...,\n",
      "        [0.0009],\n",
      "        [0.0016],\n",
      "        [0.0009]], dtype=torch.float64)\n",
      "tensor([[0.0441],\n",
      "        [0.0644],\n",
      "        [0.0038],\n",
      "        ...,\n",
      "        [0.0010],\n",
      "        [0.0003],\n",
      "        [0.0011]], dtype=torch.float64)\n",
      "tensor([[0.0316],\n",
      "        [0.0528],\n",
      "        [0.0037],\n",
      "        ...,\n",
      "        [0.0009],\n",
      "        [0.0008],\n",
      "        [0.0009]], dtype=torch.float64)\n",
      "tensor([[0.0411],\n",
      "        [0.0085],\n",
      "        [0.0465],\n",
      "        ...,\n",
      "        [0.0005],\n",
      "        [0.0011],\n",
      "        [0.0006]], dtype=torch.float64)\n",
      "tensor([[0.0299],\n",
      "        [0.0953],\n",
      "        [0.0624],\n",
      "        ...,\n",
      "        [0.0005],\n",
      "        [0.0011],\n",
      "        [0.0012]], dtype=torch.float64)\n",
      "tensor([[0.0455],\n",
      "        [0.0587],\n",
      "        [0.0545],\n",
      "        ...,\n",
      "        [0.0011],\n",
      "        [0.0007],\n",
      "        [0.0010]], dtype=torch.float64)\n",
      "tensor([[0.1347],\n",
      "        [0.0207],\n",
      "        [0.0321],\n",
      "        ...,\n",
      "        [0.0007],\n",
      "        [0.0007],\n",
      "        [0.0003]], dtype=torch.float64)\n",
      "tensor([[0.0335],\n",
      "        [0.0171],\n",
      "        [0.0367],\n",
      "        ...,\n",
      "        [0.0009],\n",
      "        [0.0006],\n",
      "        [0.0018]], dtype=torch.float64)\n",
      "tensor([[0.0937],\n",
      "        [0.0029],\n",
      "        [0.0841],\n",
      "        ...,\n",
      "        [0.0008],\n",
      "        [0.0014],\n",
      "        [0.0011]], dtype=torch.float64)\n",
      "tensor([[0.0565],\n",
      "        [0.0599],\n",
      "        [0.0139],\n",
      "        ...,\n",
      "        [0.0010],\n",
      "        [0.0010],\n",
      "        [0.0008]], dtype=torch.float64)\n",
      "tensor([[0.0310],\n",
      "        [0.0733],\n",
      "        [0.0081],\n",
      "        ...,\n",
      "        [0.0009],\n",
      "        [0.0005],\n",
      "        [0.0007]], dtype=torch.float64)\n",
      "tensor([[0.0770],\n",
      "        [0.0626],\n",
      "        [0.0509],\n",
      "        ...,\n",
      "        [0.0007],\n",
      "        [0.0006],\n",
      "        [0.0021]], dtype=torch.float64)\n",
      "tensor([[0.0047],\n",
      "        [0.0006],\n",
      "        [0.0304],\n",
      "        ...,\n",
      "        [0.0009],\n",
      "        [0.0010],\n",
      "        [0.0006]], dtype=torch.float64)\n",
      "tensor([[0.0594],\n",
      "        [0.0728],\n",
      "        [0.0102],\n",
      "        ...,\n",
      "        [0.0015],\n",
      "        [0.0011],\n",
      "        [0.0008]], dtype=torch.float64)\n",
      "tensor([[0.0265],\n",
      "        [0.0462],\n",
      "        [0.0578],\n",
      "        ...,\n",
      "        [0.0008],\n",
      "        [0.0017],\n",
      "        [0.0011]], dtype=torch.float64)\n",
      "tensor([[0.1284],\n",
      "        [0.0289],\n",
      "        [0.0108],\n",
      "        ...,\n",
      "        [0.0012],\n",
      "        [0.0017],\n",
      "        [0.0007]], dtype=torch.float64)\n",
      "tensor([[0.1146],\n",
      "        [0.0037],\n",
      "        [0.0226],\n",
      "        ...,\n",
      "        [0.0015],\n",
      "        [0.0017],\n",
      "        [0.0010]], dtype=torch.float64)\n",
      "tensor([[0.0185],\n",
      "        [0.0422],\n",
      "        [0.0140],\n",
      "        ...,\n",
      "        [0.0011],\n",
      "        [0.0018],\n",
      "        [0.0011]], dtype=torch.float64)\n",
      "tensor([[0.0086],\n",
      "        [0.0703],\n",
      "        [0.0409],\n",
      "        ...,\n",
      "        [0.0017],\n",
      "        [0.0006],\n",
      "        [0.0013]], dtype=torch.float64)\n",
      "tensor([[0.0730],\n",
      "        [0.0165],\n",
      "        [0.0419],\n",
      "        ...,\n",
      "        [0.0009],\n",
      "        [0.0004],\n",
      "        [0.0009]], dtype=torch.float64)\n",
      "tensor([[0.0836],\n",
      "        [0.0149],\n",
      "        [0.0516],\n",
      "        ...,\n",
      "        [0.0008],\n",
      "        [0.0008],\n",
      "        [0.0009]], dtype=torch.float64)\n",
      "tensor([[0.0196],\n",
      "        [0.0567],\n",
      "        [0.0358],\n",
      "        ...,\n",
      "        [0.0010],\n",
      "        [0.0018],\n",
      "        [0.0006]], dtype=torch.float64)\n",
      "tensor([[0.0605],\n",
      "        [0.0340],\n",
      "        [0.0467],\n",
      "        ...,\n",
      "        [0.0010],\n",
      "        [0.0008],\n",
      "        [0.0015]], dtype=torch.float64)\n",
      "tensor([[0.0271],\n",
      "        [0.0880],\n",
      "        [0.0286],\n",
      "        ...,\n",
      "        [0.0015],\n",
      "        [0.0010],\n",
      "        [0.0006]], dtype=torch.float64)\n",
      "tensor([[0.0306],\n",
      "        [0.1472],\n",
      "        [0.0189],\n",
      "        ...,\n",
      "        [0.0006],\n",
      "        [0.0012],\n",
      "        [0.0012]], dtype=torch.float64)\n",
      "tensor([[0.0156],\n",
      "        [0.0198],\n",
      "        [0.0429],\n",
      "        ...,\n",
      "        [0.0002],\n",
      "        [0.0009],\n",
      "        [0.0007]], dtype=torch.float64)\n",
      "tensor([[0.0916],\n",
      "        [0.0125],\n",
      "        [0.0390],\n",
      "        ...,\n",
      "        [0.0014],\n",
      "        [0.0007],\n",
      "        [0.0007]], dtype=torch.float64)\n",
      "tensor([[0.0211],\n",
      "        [0.0630],\n",
      "        [0.0052],\n",
      "        ...,\n",
      "        [0.0008],\n",
      "        [0.0021],\n",
      "        [0.0020]], dtype=torch.float64)\n",
      "tensor([[0.0646],\n",
      "        [0.0093],\n",
      "        [0.0504],\n",
      "        ...,\n",
      "        [0.0014],\n",
      "        [0.0006],\n",
      "        [0.0010]], dtype=torch.float64)\n",
      "tensor([[0.1243],\n",
      "        [0.0629],\n",
      "        [0.1151],\n",
      "        ...,\n",
      "        [0.0010],\n",
      "        [0.0007],\n",
      "        [0.0004]], dtype=torch.float64)\n",
      "tensor([[0.0804],\n",
      "        [0.0365],\n",
      "        [0.0412],\n",
      "        ...,\n",
      "        [0.0011],\n",
      "        [0.0014],\n",
      "        [0.0008]], dtype=torch.float64)\n",
      "tensor([[0.0094],\n",
      "        [0.1846],\n",
      "        [0.0264],\n",
      "        ...,\n",
      "        [0.0009],\n",
      "        [0.0005],\n",
      "        [0.0007]], dtype=torch.float64)\n",
      "tensor([[0.0694],\n",
      "        [0.0612],\n",
      "        [0.0809],\n",
      "        ...,\n",
      "        [0.0012],\n",
      "        [0.0013],\n",
      "        [0.0003]], dtype=torch.float64)\n",
      "tensor([[0.0196],\n",
      "        [0.0293],\n",
      "        [0.0146],\n",
      "        ...,\n",
      "        [0.0014],\n",
      "        [0.0009],\n",
      "        [0.0019]], dtype=torch.float64)\n",
      "tensor([[0.1351],\n",
      "        [0.0029],\n",
      "        [0.0244],\n",
      "        ...,\n",
      "        [0.0004],\n",
      "        [0.0014],\n",
      "        [0.0010]], dtype=torch.float64)\n",
      "tensor([[0.0446],\n",
      "        [0.0895],\n",
      "        [0.1676],\n",
      "        ...,\n",
      "        [0.0003],\n",
      "        [0.0006],\n",
      "        [0.0008]], dtype=torch.float64)\n",
      "tensor([[0.0190],\n",
      "        [0.1237],\n",
      "        [0.0206],\n",
      "        ...,\n",
      "        [0.0011],\n",
      "        [0.0012],\n",
      "        [0.0008]], dtype=torch.float64)\n",
      "tensor([[0.0245],\n",
      "        [0.0226],\n",
      "        [0.0887],\n",
      "        ...,\n",
      "        [0.0005],\n",
      "        [0.0009],\n",
      "        [0.0009]], dtype=torch.float64)\n",
      "tensor([[0.0847],\n",
      "        [0.0100],\n",
      "        [0.0582],\n",
      "        ...,\n",
      "        [0.0007],\n",
      "        [0.0011],\n",
      "        [0.0007]], dtype=torch.float64)\n",
      "tensor([[0.0226],\n",
      "        [0.0260],\n",
      "        [0.0145],\n",
      "        ...,\n",
      "        [0.0013],\n",
      "        [0.0011],\n",
      "        [0.0005]], dtype=torch.float64)\n",
      "tensor([[0.0028],\n",
      "        [0.0723],\n",
      "        [0.1210],\n",
      "        ...,\n",
      "        [0.0006],\n",
      "        [0.0018],\n",
      "        [0.0010]], dtype=torch.float64)\n",
      "tensor([[0.1231],\n",
      "        [0.0226],\n",
      "        [0.1421],\n",
      "        ...,\n",
      "        [0.0006],\n",
      "        [0.0008],\n",
      "        [0.0007]], dtype=torch.float64)\n",
      "tensor([[0.0945],\n",
      "        [0.0335],\n",
      "        [0.0266],\n",
      "        ...,\n",
      "        [0.0019],\n",
      "        [0.0009],\n",
      "        [0.0009]], dtype=torch.float64)\n",
      "tensor([[0.0041],\n",
      "        [0.0096],\n",
      "        [0.0717],\n",
      "        ...,\n",
      "        [0.0016],\n",
      "        [0.0020],\n",
      "        [0.0012]], dtype=torch.float64)\n",
      "tensor([[0.0228],\n",
      "        [0.0851],\n",
      "        [0.0685],\n",
      "        ...,\n",
      "        [0.0006],\n",
      "        [0.0006],\n",
      "        [0.0006]], dtype=torch.float64)\n",
      "tensor([[0.0396],\n",
      "        [0.0517],\n",
      "        [0.1098],\n",
      "        ...,\n",
      "        [0.0006],\n",
      "        [0.0005],\n",
      "        [0.0016]], dtype=torch.float64)\n",
      "tensor([[0.0457],\n",
      "        [0.0830],\n",
      "        [0.0904],\n",
      "        ...,\n",
      "        [0.0006],\n",
      "        [0.0012],\n",
      "        [0.0011]], dtype=torch.float64)\n",
      "tensor([[0.0414],\n",
      "        [0.1245],\n",
      "        [0.0258],\n",
      "        ...,\n",
      "        [0.0009],\n",
      "        [0.0010],\n",
      "        [0.0021]], dtype=torch.float64)\n",
      "tensor([[0.0896],\n",
      "        [0.0211],\n",
      "        [0.0629],\n",
      "        ...,\n",
      "        [0.0016],\n",
      "        [0.0011],\n",
      "        [0.0005]], dtype=torch.float64)\n",
      "tensor([[0.0153],\n",
      "        [0.0987],\n",
      "        [0.1304],\n",
      "        ...,\n",
      "        [0.0011],\n",
      "        [0.0005],\n",
      "        [0.0006]], dtype=torch.float64)\n",
      "tensor([[0.0480],\n",
      "        [0.0226],\n",
      "        [0.0280],\n",
      "        ...,\n",
      "        [0.0012],\n",
      "        [0.0008],\n",
      "        [0.0009]], dtype=torch.float64)\n",
      "tensor([[0.0183],\n",
      "        [0.0408],\n",
      "        [0.0694],\n",
      "        ...,\n",
      "        [0.0006],\n",
      "        [0.0010],\n",
      "        [0.0004]], dtype=torch.float64)\n",
      "tensor([[0.0852],\n",
      "        [0.0506],\n",
      "        [0.0348],\n",
      "        ...,\n",
      "        [0.0011],\n",
      "        [0.0009],\n",
      "        [0.0009]], dtype=torch.float64)\n",
      "tensor([[0.0522],\n",
      "        [0.0517],\n",
      "        [0.0440],\n",
      "        ...,\n",
      "        [0.0015],\n",
      "        [0.0011],\n",
      "        [0.0010]], dtype=torch.float64)\n",
      "tensor([[0.0966],\n",
      "        [0.0754],\n",
      "        [0.0171],\n",
      "        ...,\n",
      "        [0.0010],\n",
      "        [0.0007],\n",
      "        [0.0009]], dtype=torch.float64)\n",
      "tensor([[0.0477],\n",
      "        [0.0931],\n",
      "        [0.0836],\n",
      "        ...,\n",
      "        [0.0005],\n",
      "        [0.0005],\n",
      "        [0.0006]], dtype=torch.float64)\n",
      "tensor([[0.1287],\n",
      "        [0.0986],\n",
      "        [0.0418],\n",
      "        ...,\n",
      "        [0.0013],\n",
      "        [0.0008],\n",
      "        [0.0010]], dtype=torch.float64)\n",
      "tensor([[0.0254],\n",
      "        [0.1795],\n",
      "        [0.0616],\n",
      "        ...,\n",
      "        [0.0012],\n",
      "        [0.0006],\n",
      "        [0.0010]], dtype=torch.float64)\n",
      "tensor([[0.0810],\n",
      "        [0.0396],\n",
      "        [0.1046],\n",
      "        ...,\n",
      "        [0.0022],\n",
      "        [0.0007],\n",
      "        [0.0008]], dtype=torch.float64)\n",
      "tensor([[0.0151],\n",
      "        [0.0638],\n",
      "        [0.1637],\n",
      "        ...,\n",
      "        [0.0010],\n",
      "        [0.0003],\n",
      "        [0.0013]], dtype=torch.float64)\n",
      "tensor([[0.0254],\n",
      "        [0.0873],\n",
      "        [0.0667],\n",
      "        ...,\n",
      "        [0.0013],\n",
      "        [0.0003],\n",
      "        [0.0006]], dtype=torch.float64)\n",
      "tensor([[0.0763],\n",
      "        [0.0956],\n",
      "        [0.0819],\n",
      "        ...,\n",
      "        [0.0007],\n",
      "        [0.0011],\n",
      "        [0.0017]], dtype=torch.float64)\n",
      "tensor([[0.0422],\n",
      "        [0.0500],\n",
      "        [0.0422],\n",
      "        ...,\n",
      "        [0.0007],\n",
      "        [0.0017],\n",
      "        [0.0013]], dtype=torch.float64)\n",
      "tensor([[0.0670],\n",
      "        [0.1058],\n",
      "        [0.0788],\n",
      "        ...,\n",
      "        [0.0016],\n",
      "        [0.0013],\n",
      "        [0.0012]], dtype=torch.float64)\n",
      "tensor([[0.1581],\n",
      "        [0.0098],\n",
      "        [0.0511],\n",
      "        ...,\n",
      "        [0.0009],\n",
      "        [0.0006],\n",
      "        [0.0009]], dtype=torch.float64)\n",
      "tensor([[0.0992],\n",
      "        [0.0482],\n",
      "        [0.1104],\n",
      "        ...,\n",
      "        [0.0010],\n",
      "        [0.0011],\n",
      "        [0.0017]], dtype=torch.float64)\n",
      "tensor([[0.0460],\n",
      "        [0.0106],\n",
      "        [0.0791],\n",
      "        ...,\n",
      "        [0.0006],\n",
      "        [0.0009],\n",
      "        [0.0011]], dtype=torch.float64)\n",
      "tensor([[0.0924],\n",
      "        [0.0383],\n",
      "        [0.0728],\n",
      "        ...,\n",
      "        [0.0014],\n",
      "        [0.0013],\n",
      "        [0.0011]], dtype=torch.float64)\n",
      "tensor([[0.0099],\n",
      "        [0.0188],\n",
      "        [0.1536],\n",
      "        ...,\n",
      "        [0.0008],\n",
      "        [0.0005],\n",
      "        [0.0006]], dtype=torch.float64)\n",
      "tensor([[0.0484],\n",
      "        [0.0573],\n",
      "        [0.0363],\n",
      "        ...,\n",
      "        [0.0010],\n",
      "        [0.0012],\n",
      "        [0.0011]], dtype=torch.float64)\n"
     ]
    },
    {
     "name": "stdout",
     "output_type": "stream",
     "text": [
      "tensor([[0.2128],\n",
      "        [0.0258],\n",
      "        [0.0925],\n",
      "        ...,\n",
      "        [0.0011],\n",
      "        [0.0010],\n",
      "        [0.0012]], dtype=torch.float64)\n",
      "tensor([[0.0135],\n",
      "        [0.0845],\n",
      "        [0.0257],\n",
      "        ...,\n",
      "        [0.0013],\n",
      "        [0.0014],\n",
      "        [0.0013]], dtype=torch.float64)\n",
      "tensor([[0.0944],\n",
      "        [0.0660],\n",
      "        [0.0349],\n",
      "        ...,\n",
      "        [0.0009],\n",
      "        [0.0011],\n",
      "        [0.0016]], dtype=torch.float64)\n",
      "tensor([[0.0483],\n",
      "        [0.0212],\n",
      "        [0.0709],\n",
      "        ...,\n",
      "        [0.0009],\n",
      "        [0.0010],\n",
      "        [0.0005]], dtype=torch.float64)\n",
      "tensor([[0.0435],\n",
      "        [0.0114],\n",
      "        [0.0218],\n",
      "        ...,\n",
      "        [0.0008],\n",
      "        [0.0006],\n",
      "        [0.0006]], dtype=torch.float64)\n",
      "tensor([[0.0392],\n",
      "        [0.0418],\n",
      "        [0.0000],\n",
      "        ...,\n",
      "        [0.0013],\n",
      "        [0.0011],\n",
      "        [0.0008]], dtype=torch.float64)\n",
      "tensor([[0.0514],\n",
      "        [0.0554],\n",
      "        [0.0669],\n",
      "        ...,\n",
      "        [0.0016],\n",
      "        [0.0012],\n",
      "        [0.0009]], dtype=torch.float64)\n",
      "tensor([[0.0616],\n",
      "        [0.0207],\n",
      "        [0.0475],\n",
      "        ...,\n",
      "        [0.0004],\n",
      "        [0.0006],\n",
      "        [0.0011]], dtype=torch.float64)\n",
      "tensor([[0.0223],\n",
      "        [0.1999],\n",
      "        [0.0664],\n",
      "        ...,\n",
      "        [0.0008],\n",
      "        [0.0009],\n",
      "        [0.0015]], dtype=torch.float64)\n",
      "tensor([[0.1709],\n",
      "        [0.0342],\n",
      "        [0.0466],\n",
      "        ...,\n",
      "        [0.0004],\n",
      "        [0.0011],\n",
      "        [0.0007]], dtype=torch.float64)\n",
      "tensor([[0.0821],\n",
      "        [0.0604],\n",
      "        [0.1170],\n",
      "        ...,\n",
      "        [0.0008],\n",
      "        [0.0010],\n",
      "        [0.0010]], dtype=torch.float64)\n",
      "tensor([[0.0080],\n",
      "        [0.1500],\n",
      "        [0.0679],\n",
      "        ...,\n",
      "        [0.0015],\n",
      "        [0.0011],\n",
      "        [0.0007]], dtype=torch.float64)\n",
      "tensor([[0.0105],\n",
      "        [0.0510],\n",
      "        [0.1824],\n",
      "        ...,\n",
      "        [0.0016],\n",
      "        [0.0011],\n",
      "        [0.0008]], dtype=torch.float64)\n",
      "tensor([[0.0921],\n",
      "        [0.0644],\n",
      "        [0.0161],\n",
      "        ...,\n",
      "        [0.0018],\n",
      "        [0.0006],\n",
      "        [0.0005]], dtype=torch.float64)\n",
      "tensor([[0.1477],\n",
      "        [0.0599],\n",
      "        [0.0651],\n",
      "        ...,\n",
      "        [0.0014],\n",
      "        [0.0013],\n",
      "        [0.0008]], dtype=torch.float64)\n",
      "tensor([[0.0797],\n",
      "        [0.0671],\n",
      "        [0.0639],\n",
      "        ...,\n",
      "        [0.0011],\n",
      "        [0.0013],\n",
      "        [0.0008]], dtype=torch.float64)\n",
      "tensor([[0.0890],\n",
      "        [0.0260],\n",
      "        [0.0713],\n",
      "        ...,\n",
      "        [0.0014],\n",
      "        [0.0012],\n",
      "        [0.0009]], dtype=torch.float64)\n",
      "tensor([[0.0169],\n",
      "        [0.0055],\n",
      "        [0.0814],\n",
      "        ...,\n",
      "        [0.0009],\n",
      "        [0.0004],\n",
      "        [0.0009]], dtype=torch.float64)\n",
      "tensor([[0.1085],\n",
      "        [0.0700],\n",
      "        [0.0180],\n",
      "        ...,\n",
      "        [0.0006],\n",
      "        [0.0008],\n",
      "        [0.0005]], dtype=torch.float64)\n",
      "tensor([[0.0860],\n",
      "        [0.1353],\n",
      "        [0.0469],\n",
      "        ...,\n",
      "        [0.0007],\n",
      "        [0.0012],\n",
      "        [0.0033]], dtype=torch.float64)\n",
      "tensor([[0.0432],\n",
      "        [0.0673],\n",
      "        [0.1033],\n",
      "        ...,\n",
      "        [0.0008],\n",
      "        [0.0010],\n",
      "        [0.0009]], dtype=torch.float64)\n",
      "tensor([[0.0503],\n",
      "        [0.0577],\n",
      "        [0.0102],\n",
      "        ...,\n",
      "        [0.0014],\n",
      "        [0.0011],\n",
      "        [0.0016]], dtype=torch.float64)\n",
      "tensor([[0.0686],\n",
      "        [0.0994],\n",
      "        [0.0587],\n",
      "        ...,\n",
      "        [0.0012],\n",
      "        [0.0014],\n",
      "        [0.0006]], dtype=torch.float64)\n",
      "tensor([[0.0634],\n",
      "        [0.0040],\n",
      "        [0.0814],\n",
      "        ...,\n",
      "        [0.0014],\n",
      "        [0.0009],\n",
      "        [0.0014]], dtype=torch.float64)\n",
      "tensor([[0.0794],\n",
      "        [0.0914],\n",
      "        [0.0486],\n",
      "        ...,\n",
      "        [0.0010],\n",
      "        [0.0007],\n",
      "        [0.0020]], dtype=torch.float64)\n",
      "tensor([[0.0902],\n",
      "        [0.0054],\n",
      "        [0.1150],\n",
      "        ...,\n",
      "        [0.0003],\n",
      "        [0.0011],\n",
      "        [0.0011]], dtype=torch.float64)\n",
      "tensor([[0.0809],\n",
      "        [0.0066],\n",
      "        [0.1033],\n",
      "        ...,\n",
      "        [0.0009],\n",
      "        [0.0007],\n",
      "        [0.0018]], dtype=torch.float64)\n",
      "tensor([[0.0224],\n",
      "        [0.0495],\n",
      "        [0.0410],\n",
      "        ...,\n",
      "        [0.0013],\n",
      "        [0.0008],\n",
      "        [0.0021]], dtype=torch.float64)\n",
      "tensor([[0.0204],\n",
      "        [0.0377],\n",
      "        [0.0399],\n",
      "        ...,\n",
      "        [0.0041],\n",
      "        [0.0011],\n",
      "        [0.0008]], dtype=torch.float64)\n",
      "tensor([[0.1136],\n",
      "        [0.0559],\n",
      "        [0.0036],\n",
      "        ...,\n",
      "        [0.0010],\n",
      "        [0.0010],\n",
      "        [0.0008]], dtype=torch.float64)\n",
      "tensor([[1.8561e-02],\n",
      "        [1.2481e-01],\n",
      "        [8.8206e-03],\n",
      "        ...,\n",
      "        [1.9020e-03],\n",
      "        [1.2296e-04],\n",
      "        [5.5575e-04]], dtype=torch.float64)\n",
      "tensor([[0.0000],\n",
      "        [0.0697],\n",
      "        [0.1070],\n",
      "        ...,\n",
      "        [0.0003],\n",
      "        [0.0009],\n",
      "        [0.0013]], dtype=torch.float64)\n",
      "tensor([[0.0910],\n",
      "        [0.0615],\n",
      "        [0.0947],\n",
      "        ...,\n",
      "        [0.0006],\n",
      "        [0.0008],\n",
      "        [0.0014]], dtype=torch.float64)\n",
      "tensor([[0.0334],\n",
      "        [0.0940],\n",
      "        [0.0481],\n",
      "        ...,\n",
      "        [0.0006],\n",
      "        [0.0009],\n",
      "        [0.0010]], dtype=torch.float64)\n",
      "tensor([[0.0443],\n",
      "        [0.0831],\n",
      "        [0.0374],\n",
      "        ...,\n",
      "        [0.0011],\n",
      "        [0.0011],\n",
      "        [0.0013]], dtype=torch.float64)\n",
      "tensor([[0.1023],\n",
      "        [0.0277],\n",
      "        [0.0368],\n",
      "        ...,\n",
      "        [0.0010],\n",
      "        [0.0007],\n",
      "        [0.0010]], dtype=torch.float64)\n",
      "tensor([[0.0147],\n",
      "        [0.0502],\n",
      "        [0.0969],\n",
      "        ...,\n",
      "        [0.0007],\n",
      "        [0.0011],\n",
      "        [0.0007]], dtype=torch.float64)\n",
      "tensor([[0.0623],\n",
      "        [0.0666],\n",
      "        [0.0175],\n",
      "        ...,\n",
      "        [0.0012],\n",
      "        [0.0006],\n",
      "        [0.0017]], dtype=torch.float64)\n",
      "tensor([[0.0457],\n",
      "        [0.0758],\n",
      "        [0.0111],\n",
      "        ...,\n",
      "        [0.0017],\n",
      "        [0.0021],\n",
      "        [0.0009]], dtype=torch.float64)\n",
      "tensor([[0.0995],\n",
      "        [0.0082],\n",
      "        [0.0264],\n",
      "        ...,\n",
      "        [0.0010],\n",
      "        [0.0008],\n",
      "        [0.0007]], dtype=torch.float64)\n",
      "tensor([[0.1094],\n",
      "        [0.0254],\n",
      "        [0.0078],\n",
      "        ...,\n",
      "        [0.0013],\n",
      "        [0.0015],\n",
      "        [0.0014]], dtype=torch.float64)\n",
      "tensor([[0.1033],\n",
      "        [0.0316],\n",
      "        [0.0273],\n",
      "        ...,\n",
      "        [0.0013],\n",
      "        [0.0015],\n",
      "        [0.0007]], dtype=torch.float64)\n",
      "tensor([[0.0303],\n",
      "        [0.0186],\n",
      "        [0.1661],\n",
      "        ...,\n",
      "        [0.0009],\n",
      "        [0.0007],\n",
      "        [0.0008]], dtype=torch.float64)\n",
      "tensor([[0.0334],\n",
      "        [0.0662],\n",
      "        [0.0196],\n",
      "        ...,\n",
      "        [0.0014],\n",
      "        [0.0012],\n",
      "        [0.0011]], dtype=torch.float64)\n",
      "tensor([[0.0368],\n",
      "        [0.0368],\n",
      "        [0.0775],\n",
      "        ...,\n",
      "        [0.0013],\n",
      "        [0.0007],\n",
      "        [0.0005]], dtype=torch.float64)\n",
      "tensor([[0.0242],\n",
      "        [0.0020],\n",
      "        [0.0457],\n",
      "        ...,\n",
      "        [0.0011],\n",
      "        [0.0009],\n",
      "        [0.0014]], dtype=torch.float64)\n",
      "tensor([[0.0348],\n",
      "        [0.0826],\n",
      "        [0.0511],\n",
      "        ...,\n",
      "        [0.0011],\n",
      "        [0.0008],\n",
      "        [0.0006]], dtype=torch.float64)\n",
      "tensor([[0.0520],\n",
      "        [0.1107],\n",
      "        [0.0219],\n",
      "        ...,\n",
      "        [0.0016],\n",
      "        [0.0007],\n",
      "        [0.0011]], dtype=torch.float64)\n",
      "tensor([[0.0798],\n",
      "        [0.0144],\n",
      "        [0.0023],\n",
      "        ...,\n",
      "        [0.0010],\n",
      "        [0.0012],\n",
      "        [0.0012]], dtype=torch.float64)\n",
      "tensor([[0.0086],\n",
      "        [0.0400],\n",
      "        [0.0522],\n",
      "        ...,\n",
      "        [0.0014],\n",
      "        [0.0010],\n",
      "        [0.0016]], dtype=torch.float64)\n",
      "tensor([[0.0628],\n",
      "        [0.0230],\n",
      "        [0.0887],\n",
      "        ...,\n",
      "        [0.0014],\n",
      "        [0.0010],\n",
      "        [0.0013]], dtype=torch.float64)\n",
      "tensor([[0.1324],\n",
      "        [0.0263],\n",
      "        [0.0783],\n",
      "        ...,\n",
      "        [0.0008],\n",
      "        [0.0017],\n",
      "        [0.0019]], dtype=torch.float64)\n",
      "tensor([[0.0477],\n",
      "        [0.0268],\n",
      "        [0.0366],\n",
      "        ...,\n",
      "        [0.0007],\n",
      "        [0.0011],\n",
      "        [0.0011]], dtype=torch.float64)\n",
      "tensor([[0.0210],\n",
      "        [0.0902],\n",
      "        [0.0866],\n",
      "        ...,\n",
      "        [0.0009],\n",
      "        [0.0011],\n",
      "        [0.0007]], dtype=torch.float64)\n",
      "tensor([[0.0064],\n",
      "        [0.1231],\n",
      "        [0.0864],\n",
      "        ...,\n",
      "        [0.0008],\n",
      "        [0.0015],\n",
      "        [0.0012]], dtype=torch.float64)\n",
      "tensor([[0.1597],\n",
      "        [0.0618],\n",
      "        [0.0305],\n",
      "        ...,\n",
      "        [0.0008],\n",
      "        [0.0008],\n",
      "        [0.0013]], dtype=torch.float64)\n",
      "tensor([[0.0112],\n",
      "        [0.0410],\n",
      "        [0.0104],\n",
      "        ...,\n",
      "        [0.0009],\n",
      "        [0.0008],\n",
      "        [0.0012]], dtype=torch.float64)\n",
      "tensor([[0.0756],\n",
      "        [0.0208],\n",
      "        [0.0342],\n",
      "        ...,\n",
      "        [0.0011],\n",
      "        [0.0011],\n",
      "        [0.0017]], dtype=torch.float64)\n",
      "tensor([[0.0232],\n",
      "        [0.0362],\n",
      "        [0.0410],\n",
      "        ...,\n",
      "        [0.0008],\n",
      "        [0.0015],\n",
      "        [0.0010]], dtype=torch.float64)\n",
      "tensor([[0.0951],\n",
      "        [0.0756],\n",
      "        [0.0325],\n",
      "        ...,\n",
      "        [0.0013],\n",
      "        [0.0006],\n",
      "        [0.0011]], dtype=torch.float64)\n",
      "tensor([[0.1013],\n",
      "        [0.0223],\n",
      "        [0.0352],\n",
      "        ...,\n",
      "        [0.0010],\n",
      "        [0.0010],\n",
      "        [0.0016]], dtype=torch.float64)\n",
      "tensor([[0.0127],\n",
      "        [0.0102],\n",
      "        [0.0712],\n",
      "        ...,\n",
      "        [0.0006],\n",
      "        [0.0012],\n",
      "        [0.0012]], dtype=torch.float64)\n",
      "tensor([[0.0142],\n",
      "        [0.0853],\n",
      "        [0.0197],\n",
      "        ...,\n",
      "        [0.0010],\n",
      "        [0.0002],\n",
      "        [0.0003]], dtype=torch.float64)\n",
      "tensor([[0.0456],\n",
      "        [0.0301],\n",
      "        [0.1288],\n",
      "        ...,\n",
      "        [0.0008],\n",
      "        [0.0020],\n",
      "        [0.0005]], dtype=torch.float64)\n",
      "tensor([[0.0064],\n",
      "        [0.0277],\n",
      "        [0.0556],\n",
      "        ...,\n",
      "        [0.0016],\n",
      "        [0.0016],\n",
      "        [0.0006]], dtype=torch.float64)\n",
      "tensor([[0.0471],\n",
      "        [0.0144],\n",
      "        [0.0522],\n",
      "        ...,\n",
      "        [0.0009],\n",
      "        [0.0008],\n",
      "        [0.0012]], dtype=torch.float64)\n",
      "tensor([[0.0226],\n",
      "        [0.0247],\n",
      "        [0.0332],\n",
      "        ...,\n",
      "        [0.0012],\n",
      "        [0.0010],\n",
      "        [0.0005]], dtype=torch.float64)\n",
      "tensor([[0.1003],\n",
      "        [0.0264],\n",
      "        [0.0436],\n",
      "        ...,\n",
      "        [0.0004],\n",
      "        [0.0009],\n",
      "        [0.0010]], dtype=torch.float64)\n",
      "tensor([[0.0079],\n",
      "        [0.0452],\n",
      "        [0.0948],\n",
      "        ...,\n",
      "        [0.0020],\n",
      "        [0.0011],\n",
      "        [0.0017]], dtype=torch.float64)\n",
      "tensor([[0.0442],\n",
      "        [0.1095],\n",
      "        [0.0020],\n",
      "        ...,\n",
      "        [0.0011],\n",
      "        [0.0014],\n",
      "        [0.0012]], dtype=torch.float64)\n",
      "tensor([[0.0301],\n",
      "        [0.1227],\n",
      "        [0.0285],\n",
      "        ...,\n",
      "        [0.0006],\n",
      "        [0.0015],\n",
      "        [0.0004]], dtype=torch.float64)\n",
      "tensor([[0.0130],\n",
      "        [0.0972],\n",
      "        [0.1308],\n",
      "        ...,\n",
      "        [0.0013],\n",
      "        [0.0007],\n",
      "        [0.0010]], dtype=torch.float64)\n",
      "tensor([[0.1683],\n",
      "        [0.0130],\n",
      "        [0.0318],\n",
      "        ...,\n",
      "        [0.0014],\n",
      "        [0.0006],\n",
      "        [0.0009]], dtype=torch.float64)\n",
      "tensor([[0.0386],\n",
      "        [0.0783],\n",
      "        [0.0582],\n",
      "        ...,\n",
      "        [0.0006],\n",
      "        [0.0008],\n",
      "        [0.0004]], dtype=torch.float64)\n",
      "tensor([[0.0791],\n",
      "        [0.0657],\n",
      "        [0.0558],\n",
      "        ...,\n",
      "        [0.0010],\n",
      "        [0.0016],\n",
      "        [0.0012]], dtype=torch.float64)\n",
      "tensor([[0.0100],\n",
      "        [0.1824],\n",
      "        [0.0517],\n",
      "        ...,\n",
      "        [0.0014],\n",
      "        [0.0009],\n",
      "        [0.0009]], dtype=torch.float64)\n",
      "tensor([[0.0255],\n",
      "        [0.0112],\n",
      "        [0.0113],\n",
      "        ...,\n",
      "        [0.0005],\n",
      "        [0.0012],\n",
      "        [0.0003]], dtype=torch.float64)\n",
      "tensor([[0.0076],\n",
      "        [0.0498],\n",
      "        [0.0118],\n",
      "        ...,\n",
      "        [0.0008],\n",
      "        [0.0012],\n",
      "        [0.0011]], dtype=torch.float64)\n",
      "tensor([[0.0504],\n",
      "        [0.1105],\n",
      "        [0.0345],\n",
      "        ...,\n",
      "        [0.0012],\n",
      "        [0.0014],\n",
      "        [0.0008]], dtype=torch.float64)\n",
      "tensor([[0.0160],\n",
      "        [0.0370],\n",
      "        [0.0540],\n",
      "        ...,\n",
      "        [0.0007],\n",
      "        [0.0007],\n",
      "        [0.0013]], dtype=torch.float64)\n"
     ]
    },
    {
     "name": "stdout",
     "output_type": "stream",
     "text": [
      "tensor([[0.0753],\n",
      "        [0.1030],\n",
      "        [0.0722],\n",
      "        ...,\n",
      "        [0.0005],\n",
      "        [0.0012],\n",
      "        [0.0006]], dtype=torch.float64)\n",
      "tensor([[0.0417],\n",
      "        [0.0359],\n",
      "        [0.0077],\n",
      "        ...,\n",
      "        [0.0022],\n",
      "        [0.0010],\n",
      "        [0.0003]], dtype=torch.float64)\n",
      "tensor([[0.0133],\n",
      "        [0.0116],\n",
      "        [0.0609],\n",
      "        ...,\n",
      "        [0.0008],\n",
      "        [0.0016],\n",
      "        [0.0005]], dtype=torch.float64)\n",
      "tensor([[0.0130],\n",
      "        [0.0627],\n",
      "        [0.0118],\n",
      "        ...,\n",
      "        [0.0030],\n",
      "        [0.0008],\n",
      "        [0.0004]], dtype=torch.float64)\n",
      "tensor([[0.2033],\n",
      "        [0.0153],\n",
      "        [0.1290],\n",
      "        ...,\n",
      "        [0.0004],\n",
      "        [0.0003],\n",
      "        [0.0009]], dtype=torch.float64)\n",
      "tensor([[0.0567],\n",
      "        [0.0485],\n",
      "        [0.0207],\n",
      "        ...,\n",
      "        [0.0008],\n",
      "        [0.0013],\n",
      "        [0.0015]], dtype=torch.float64)\n",
      "tensor([[0.0901],\n",
      "        [0.0644],\n",
      "        [0.0643],\n",
      "        ...,\n",
      "        [0.0011],\n",
      "        [0.0003],\n",
      "        [0.0006]], dtype=torch.float64)\n",
      "tensor([[0.1911],\n",
      "        [0.0236],\n",
      "        [0.0165],\n",
      "        ...,\n",
      "        [0.0012],\n",
      "        [0.0002],\n",
      "        [0.0020]], dtype=torch.float64)\n",
      "tensor([[0.0543],\n",
      "        [0.0051],\n",
      "        [0.0393],\n",
      "        ...,\n",
      "        [0.0013],\n",
      "        [0.0012],\n",
      "        [0.0010]], dtype=torch.float64)\n",
      "tensor([[0.1010],\n",
      "        [0.0862],\n",
      "        [0.0558],\n",
      "        ...,\n",
      "        [0.0007],\n",
      "        [0.0009],\n",
      "        [0.0012]], dtype=torch.float64)\n",
      "tensor([[0.1466],\n",
      "        [0.0622],\n",
      "        [0.0047],\n",
      "        ...,\n",
      "        [0.0011],\n",
      "        [0.0009],\n",
      "        [0.0012]], dtype=torch.float64)\n",
      "tensor([[0.0543],\n",
      "        [0.0822],\n",
      "        [0.0007],\n",
      "        ...,\n",
      "        [0.0013],\n",
      "        [0.0007],\n",
      "        [0.0013]], dtype=torch.float64)\n",
      "tensor([[0.1135],\n",
      "        [0.0265],\n",
      "        [0.0856],\n",
      "        ...,\n",
      "        [0.0011],\n",
      "        [0.0008],\n",
      "        [0.0014]], dtype=torch.float64)\n",
      "tensor([[0.0485],\n",
      "        [0.0372],\n",
      "        [0.0088],\n",
      "        ...,\n",
      "        [0.0004],\n",
      "        [0.0012],\n",
      "        [0.0014]], dtype=torch.float64)\n",
      "tensor([[0.0838],\n",
      "        [0.0351],\n",
      "        [0.1668],\n",
      "        ...,\n",
      "        [0.0011],\n",
      "        [0.0007],\n",
      "        [0.0008]], dtype=torch.float64)\n",
      "tensor([[0.0703],\n",
      "        [0.0078],\n",
      "        [0.0342],\n",
      "        ...,\n",
      "        [0.0010],\n",
      "        [0.0008],\n",
      "        [0.0011]], dtype=torch.float64)\n",
      "tensor([[0.0356],\n",
      "        [0.0626],\n",
      "        [0.0354],\n",
      "        ...,\n",
      "        [0.0006],\n",
      "        [0.0012],\n",
      "        [0.0008]], dtype=torch.float64)\n",
      "tensor([[0.0224],\n",
      "        [0.0732],\n",
      "        [0.0877],\n",
      "        ...,\n",
      "        [0.0007],\n",
      "        [0.0013],\n",
      "        [0.0022]], dtype=torch.float64)\n",
      "tensor([[0.1198],\n",
      "        [0.1096],\n",
      "        [0.0441],\n",
      "        ...,\n",
      "        [0.0016],\n",
      "        [0.0011],\n",
      "        [0.0004]], dtype=torch.float64)\n",
      "tensor([[6.7562e-02],\n",
      "        [6.2684e-05],\n",
      "        [5.4567e-02],\n",
      "        ...,\n",
      "        [1.1368e-03],\n",
      "        [1.5734e-03],\n",
      "        [1.6473e-03]], dtype=torch.float64)\n",
      "tensor([[0.0184],\n",
      "        [0.0045],\n",
      "        [0.0475],\n",
      "        ...,\n",
      "        [0.0004],\n",
      "        [0.0015],\n",
      "        [0.0008]], dtype=torch.float64)\n",
      "tensor([[0.0634],\n",
      "        [0.0141],\n",
      "        [0.0495],\n",
      "        ...,\n",
      "        [0.0005],\n",
      "        [0.0016],\n",
      "        [0.0020]], dtype=torch.float64)\n",
      "tensor([[0.0742],\n",
      "        [0.0748],\n",
      "        [0.0734],\n",
      "        ...,\n",
      "        [0.0007],\n",
      "        [0.0009],\n",
      "        [0.0014]], dtype=torch.float64)\n",
      "tensor([[0.0113],\n",
      "        [0.0063],\n",
      "        [0.1624],\n",
      "        ...,\n",
      "        [0.0008],\n",
      "        [0.0006],\n",
      "        [0.0012]], dtype=torch.float64)\n",
      "tensor([[0.1128],\n",
      "        [0.1134],\n",
      "        [0.0191],\n",
      "        ...,\n",
      "        [0.0011],\n",
      "        [0.0013],\n",
      "        [0.0012]], dtype=torch.float64)\n",
      "tensor([[0.0454],\n",
      "        [0.0348],\n",
      "        [0.0681],\n",
      "        ...,\n",
      "        [0.0010],\n",
      "        [0.0012],\n",
      "        [0.0012]], dtype=torch.float64)\n",
      "tensor([[0.0354],\n",
      "        [0.0746],\n",
      "        [0.0655],\n",
      "        ...,\n",
      "        [0.0019],\n",
      "        [0.0008],\n",
      "        [0.0005]], dtype=torch.float64)\n",
      "tensor([[0.0783],\n",
      "        [0.1080],\n",
      "        [0.0713],\n",
      "        ...,\n",
      "        [0.0011],\n",
      "        [0.0010],\n",
      "        [0.0012]], dtype=torch.float64)\n",
      "tensor([[0.0294],\n",
      "        [0.0403],\n",
      "        [0.0000],\n",
      "        ...,\n",
      "        [0.0009],\n",
      "        [0.0019],\n",
      "        [0.0012]], dtype=torch.float64)\n",
      "tensor([[0.0768],\n",
      "        [0.0030],\n",
      "        [0.0535],\n",
      "        ...,\n",
      "        [0.0006],\n",
      "        [0.0011],\n",
      "        [0.0009]], dtype=torch.float64)\n",
      "tensor([[0.0960],\n",
      "        [0.0086],\n",
      "        [0.0670],\n",
      "        ...,\n",
      "        [0.0008],\n",
      "        [0.0012],\n",
      "        [0.0006]], dtype=torch.float64)\n",
      "tensor([[0.0918],\n",
      "        [0.0127],\n",
      "        [0.0016],\n",
      "        ...,\n",
      "        [0.0019],\n",
      "        [0.0004],\n",
      "        [0.0016]], dtype=torch.float64)\n",
      "tensor([[0.0271],\n",
      "        [0.0453],\n",
      "        [0.0577],\n",
      "        ...,\n",
      "        [0.0011],\n",
      "        [0.0008],\n",
      "        [0.0010]], dtype=torch.float64)\n",
      "tensor([[0.0325],\n",
      "        [0.0165],\n",
      "        [0.0209],\n",
      "        ...,\n",
      "        [0.0004],\n",
      "        [0.0009],\n",
      "        [0.0009]], dtype=torch.float64)\n",
      "tensor([[0.1058],\n",
      "        [0.0264],\n",
      "        [0.0856],\n",
      "        ...,\n",
      "        [0.0011],\n",
      "        [0.0003],\n",
      "        [0.0014]], dtype=torch.float64)\n",
      "tensor([[0.0975],\n",
      "        [0.0747],\n",
      "        [0.0637],\n",
      "        ...,\n",
      "        [0.0010],\n",
      "        [0.0013],\n",
      "        [0.0018]], dtype=torch.float64)\n",
      "tensor([[0.0886],\n",
      "        [0.0278],\n",
      "        [0.0256],\n",
      "        ...,\n",
      "        [0.0008],\n",
      "        [0.0009],\n",
      "        [0.0011]], dtype=torch.float64)\n",
      "tensor([[0.0194],\n",
      "        [0.0300],\n",
      "        [0.0562],\n",
      "        ...,\n",
      "        [0.0005],\n",
      "        [0.0009],\n",
      "        [0.0010]], dtype=torch.float64)\n",
      "tensor([[0.0567],\n",
      "        [0.0191],\n",
      "        [0.0182],\n",
      "        ...,\n",
      "        [0.0008],\n",
      "        [0.0018],\n",
      "        [0.0009]], dtype=torch.float64)\n",
      "tensor([[0.0578],\n",
      "        [0.0318],\n",
      "        [0.0500],\n",
      "        ...,\n",
      "        [0.0013],\n",
      "        [0.0005],\n",
      "        [0.0003]], dtype=torch.float64)\n",
      "tensor([[0.0021],\n",
      "        [0.0147],\n",
      "        [0.0732],\n",
      "        ...,\n",
      "        [0.0011],\n",
      "        [0.0009],\n",
      "        [0.0009]], dtype=torch.float64)\n",
      "tensor([[0.0520],\n",
      "        [0.0864],\n",
      "        [0.0212],\n",
      "        ...,\n",
      "        [0.0010],\n",
      "        [0.0008],\n",
      "        [0.0011]], dtype=torch.float64)\n",
      "tensor([[0.0653],\n",
      "        [0.0253],\n",
      "        [0.0247],\n",
      "        ...,\n",
      "        [0.0005],\n",
      "        [0.0009],\n",
      "        [0.0009]], dtype=torch.float64)\n",
      "tensor([[0.0274],\n",
      "        [0.0354],\n",
      "        [0.0510],\n",
      "        ...,\n",
      "        [0.0007],\n",
      "        [0.0016],\n",
      "        [0.0010]], dtype=torch.float64)\n",
      "tensor([[0.0949],\n",
      "        [0.1004],\n",
      "        [0.0037],\n",
      "        ...,\n",
      "        [0.0012],\n",
      "        [0.0020],\n",
      "        [0.0008]], dtype=torch.float64)\n",
      "tensor([[0.1437],\n",
      "        [0.0818],\n",
      "        [0.0463],\n",
      "        ...,\n",
      "        [0.0009],\n",
      "        [0.0004],\n",
      "        [0.0013]], dtype=torch.float64)\n",
      "tensor([[0.1059],\n",
      "        [0.0141],\n",
      "        [0.0889],\n",
      "        ...,\n",
      "        [0.0011],\n",
      "        [0.0011],\n",
      "        [0.0006]], dtype=torch.float64)\n",
      "tensor([[0.0236],\n",
      "        [0.0269],\n",
      "        [0.1312],\n",
      "        ...,\n",
      "        [0.0008],\n",
      "        [0.0007],\n",
      "        [0.0007]], dtype=torch.float64)\n",
      "tensor([[0.0235],\n",
      "        [0.0736],\n",
      "        [0.0403],\n",
      "        ...,\n",
      "        [0.0008],\n",
      "        [0.0022],\n",
      "        [0.0008]], dtype=torch.float64)\n",
      "tensor([[0.0832],\n",
      "        [0.0981],\n",
      "        [0.0385],\n",
      "        ...,\n",
      "        [0.0021],\n",
      "        [0.0008],\n",
      "        [0.0013]], dtype=torch.float64)\n",
      "tensor([[0.0275],\n",
      "        [0.0598],\n",
      "        [0.0140],\n",
      "        ...,\n",
      "        [0.0004],\n",
      "        [0.0003],\n",
      "        [0.0005]], dtype=torch.float64)\n",
      "tensor([[0.0345],\n",
      "        [0.1642],\n",
      "        [0.0718],\n",
      "        ...,\n",
      "        [0.0013],\n",
      "        [0.0014],\n",
      "        [0.0011]], dtype=torch.float64)\n",
      "tensor([[0.0268],\n",
      "        [0.0183],\n",
      "        [0.0324],\n",
      "        ...,\n",
      "        [0.0005],\n",
      "        [0.0013],\n",
      "        [0.0007]], dtype=torch.float64)\n",
      "tensor([[0.0543],\n",
      "        [0.0259],\n",
      "        [0.0438],\n",
      "        ...,\n",
      "        [0.0010],\n",
      "        [0.0008],\n",
      "        [0.0003]], dtype=torch.float64)\n",
      "tensor([[0.0919],\n",
      "        [0.0461],\n",
      "        [0.0394],\n",
      "        ...,\n",
      "        [0.0012],\n",
      "        [0.0018],\n",
      "        [0.0010]], dtype=torch.float64)\n",
      "tensor([[0.0759],\n",
      "        [0.0133],\n",
      "        [0.0439],\n",
      "        ...,\n",
      "        [0.0005],\n",
      "        [0.0004],\n",
      "        [0.0011]], dtype=torch.float64)\n",
      "tensor([[0.0952],\n",
      "        [0.0234],\n",
      "        [0.0928],\n",
      "        ...,\n",
      "        [0.0029],\n",
      "        [0.0018],\n",
      "        [0.0011]], dtype=torch.float64)\n",
      "tensor([[0.0164],\n",
      "        [0.0698],\n",
      "        [0.0443],\n",
      "        ...,\n",
      "        [0.0006],\n",
      "        [0.0019],\n",
      "        [0.0008]], dtype=torch.float64)\n",
      "tensor([[0.0730],\n",
      "        [0.0406],\n",
      "        [0.0509],\n",
      "        ...,\n",
      "        [0.0009],\n",
      "        [0.0010],\n",
      "        [0.0016]], dtype=torch.float64)\n",
      "tensor([[0.0726],\n",
      "        [0.0570],\n",
      "        [0.0012],\n",
      "        ...,\n",
      "        [0.0006],\n",
      "        [0.0008],\n",
      "        [0.0011]], dtype=torch.float64)\n",
      "tensor([[0.0593],\n",
      "        [0.0445],\n",
      "        [0.0915],\n",
      "        ...,\n",
      "        [0.0009],\n",
      "        [0.0015],\n",
      "        [0.0012]], dtype=torch.float64)\n",
      "tensor([[0.0875],\n",
      "        [0.0293],\n",
      "        [0.0212],\n",
      "        ...,\n",
      "        [0.0009],\n",
      "        [0.0012],\n",
      "        [0.0016]], dtype=torch.float64)\n",
      "tensor([[0.0065],\n",
      "        [0.0374],\n",
      "        [0.0385],\n",
      "        ...,\n",
      "        [0.0009],\n",
      "        [0.0006],\n",
      "        [0.0007]], dtype=torch.float64)\n",
      "tensor([[0.0293],\n",
      "        [0.0734],\n",
      "        [0.0119],\n",
      "        ...,\n",
      "        [0.0003],\n",
      "        [0.0010],\n",
      "        [0.0011]], dtype=torch.float64)\n",
      "tensor([[0.0367],\n",
      "        [0.0206],\n",
      "        [0.1020],\n",
      "        ...,\n",
      "        [0.0015],\n",
      "        [0.0015],\n",
      "        [0.0008]], dtype=torch.float64)\n",
      "tensor([[0.0524],\n",
      "        [0.0014],\n",
      "        [0.0656],\n",
      "        ...,\n",
      "        [0.0011],\n",
      "        [0.0007],\n",
      "        [0.0008]], dtype=torch.float64)\n",
      "tensor([[0.0840],\n",
      "        [0.0455],\n",
      "        [0.0804],\n",
      "        ...,\n",
      "        [0.0008],\n",
      "        [0.0009],\n",
      "        [0.0020]], dtype=torch.float64)\n",
      "tensor([[0.1380],\n",
      "        [0.0629],\n",
      "        [0.0665],\n",
      "        ...,\n",
      "        [0.0006],\n",
      "        [0.0007],\n",
      "        [0.0011]], dtype=torch.float64)\n",
      "tensor([[0.0946],\n",
      "        [0.0009],\n",
      "        [0.0779],\n",
      "        ...,\n",
      "        [0.0009],\n",
      "        [0.0009],\n",
      "        [0.0008]], dtype=torch.float64)\n",
      "tensor([[0.0234],\n",
      "        [0.0899],\n",
      "        [0.0435],\n",
      "        ...,\n",
      "        [0.0012],\n",
      "        [0.0011],\n",
      "        [0.0012]], dtype=torch.float64)\n",
      "tensor([[0.0538],\n",
      "        [0.0605],\n",
      "        [0.0421],\n",
      "        ...,\n",
      "        [0.0002],\n",
      "        [0.0016],\n",
      "        [0.0023]], dtype=torch.float64)\n",
      "tensor([[0.0047],\n",
      "        [0.1018],\n",
      "        [0.1330],\n",
      "        ...,\n",
      "        [0.0007],\n",
      "        [0.0008],\n",
      "        [0.0013]], dtype=torch.float64)\n",
      "tensor([[0.0695],\n",
      "        [0.0347],\n",
      "        [0.0916],\n",
      "        ...,\n",
      "        [0.0023],\n",
      "        [0.0019],\n",
      "        [0.0015]], dtype=torch.float64)\n",
      "tensor([[0.0309],\n",
      "        [0.0212],\n",
      "        [0.1145],\n",
      "        ...,\n",
      "        [0.0011],\n",
      "        [0.0008],\n",
      "        [0.0009]], dtype=torch.float64)\n",
      "tensor([[0.0133],\n",
      "        [0.0467],\n",
      "        [0.0205],\n",
      "        ...,\n",
      "        [0.0005],\n",
      "        [0.0006],\n",
      "        [0.0007]], dtype=torch.float64)\n",
      "tensor([[0.0349],\n",
      "        [0.0765],\n",
      "        [0.0761],\n",
      "        ...,\n",
      "        [0.0009],\n",
      "        [0.0010],\n",
      "        [0.0018]], dtype=torch.float64)\n",
      "tensor([[0.0099],\n",
      "        [0.0468],\n",
      "        [0.0183],\n",
      "        ...,\n",
      "        [0.0014],\n",
      "        [0.0014],\n",
      "        [0.0011]], dtype=torch.float64)\n",
      "tensor([[0.0264],\n",
      "        [0.0350],\n",
      "        [0.0694],\n",
      "        ...,\n",
      "        [0.0013],\n",
      "        [0.0008],\n",
      "        [0.0009]], dtype=torch.float64)\n",
      "tensor([[0.0076],\n",
      "        [0.1383],\n",
      "        [0.0801],\n",
      "        ...,\n",
      "        [0.0006],\n",
      "        [0.0007],\n",
      "        [0.0009]], dtype=torch.float64)\n",
      "tensor([[0.0085],\n",
      "        [0.1506],\n",
      "        [0.0320],\n",
      "        ...,\n",
      "        [0.0009],\n",
      "        [0.0011],\n",
      "        [0.0014]], dtype=torch.float64)\n",
      "tensor([[0.0198],\n",
      "        [0.0240],\n",
      "        [0.0650],\n",
      "        ...,\n",
      "        [0.0004],\n",
      "        [0.0009],\n",
      "        [0.0023]], dtype=torch.float64)\n",
      "tensor([[0.0733],\n",
      "        [0.0253],\n",
      "        [0.0568],\n",
      "        ...,\n",
      "        [0.0005],\n",
      "        [0.0012],\n",
      "        [0.0013]], dtype=torch.float64)\n"
     ]
    }
   ],
   "source": [
    "for batch in train_loader:\n",
    "    print(batch.y)"
   ]
  },
  {
   "cell_type": "code",
   "execution_count": 66,
   "metadata": {},
   "outputs": [],
   "source": [
    "syn_loader = to_dataloader(synthetic, between, batch=1, usecols=1)"
   ]
  },
  {
   "cell_type": "code",
   "execution_count": 67,
   "metadata": {},
   "outputs": [],
   "source": [
    "yt_loader = to_dataloader(yt, yt_score, batch=1, y_sep=\":\", usecols=1)"
   ]
  },
  {
   "cell_type": "markdown",
   "metadata": {
    "id": "Jh1T_INgi8Ql"
   },
   "source": [
    "# Model"
   ]
  },
  {
   "cell_type": "markdown",
   "metadata": {},
   "source": [
    "## Hyper params"
   ]
  },
  {
   "cell_type": "code",
   "execution_count": 45,
   "metadata": {},
   "outputs": [],
   "source": [
    "setting.params_drbc = dict(\n",
    "    # according to source paper\n",
    "    encoder_params = dict(\n",
    "        c = 3,\n",
    "        p = 128,\n",
    "        num_layers = 5,\n",
    "        device = setting.device\n",
    "    ),\n",
    "    decoder_params = dict(\n",
    "        p = 128,\n",
    "        q = 64\n",
    "    )\n",
    ")\n",
    "\n",
    "setting.params_node2vec = dict(\n",
    "    in_features = 128\n",
    ")"
   ]
  },
  {
   "cell_type": "markdown",
   "metadata": {},
   "source": [
    "## DrBC"
   ]
  },
  {
   "cell_type": "code",
   "execution_count": 46,
   "metadata": {
    "id": "gcEf-tUaqDVa"
   },
   "outputs": [],
   "source": [
    "from torch_geometric.nn import MessagePassing\n",
    "import torch.nn.functional as F\n",
    "from torch_geometric.typing import Adj, OptTensor"
   ]
  },
  {
   "cell_type": "code",
   "execution_count": 47,
   "metadata": {
    "colab": {
     "base_uri": "https://localhost:8080/",
     "height": 135
    },
    "executionInfo": {
     "elapsed": 661,
     "status": "error",
     "timestamp": 1615203940879,
     "user": {
      "displayName": "Q56094077陳香君",
      "photoUrl": "",
      "userId": "10727804849868825735"
     },
     "user_tz": -480
    },
    "id": "P5EzKoYr7SGL",
    "outputId": "5504fb67-0455-4af0-a697-930410895a70"
   },
   "outputs": [],
   "source": [
    "class Encoder(MessagePassing):\n",
    "    def __init__(self, c, p, num_layers, device, aggr=\"add\"):\n",
    "        super(Encoder, self).__init__(aggr=aggr)\n",
    "        \n",
    "        self.num_layers = num_layers\n",
    "        self.w_0 = nn.Linear(in_features=c, out_features=p).double()\n",
    "        \n",
    "        self.relu = nn.ReLU(inplace=True)\n",
    "        self.rnn = nn.GRUCell(p, p).double()\n",
    "\n",
    "        self.device = device\n",
    "\n",
    "    def forward(self, data):\n",
    "        \n",
    "        x, edge_index = data.x, data.edge_index\n",
    "        \n",
    "        \n",
    "        # compute dgree\n",
    "        row, col = edge_index\n",
    "        deg = utils.degree(col)\n",
    "        deg = torch.add(deg, 1)\n",
    "        deg_inv_sqrt = torch.pow(deg, -0.5)\n",
    "        norm = deg_inv_sqrt[row] * deg_inv_sqrt[col]\n",
    "        \n",
    "        \n",
    "        # h_0 = x\n",
    "\n",
    "        # h_1\n",
    "        x = self.w_0(x)\n",
    "        x = self.relu(x)\n",
    "        x = F.normalize(x, p=2, dim=1)\n",
    "        \n",
    "        h_s = [x]\n",
    "        \n",
    "        for i in range(self.num_layers-1):\n",
    "            # internally calls the message(), aggregate() and update() functions\n",
    "            x = self.propagate(edge_index, x=x, norm=norm)\n",
    "            h_s.append(x)\n",
    "        \n",
    "        h_s = torch.stack(h_s, dim=-1)\n",
    "        # Use torch.max to replace max_pooling\n",
    "        z, _ = torch.max(h_s, dim=-1)\n",
    "        # z = global_max_pool(h_s, torch.tensor([0], dtype=torch.long).to(self.device))\n",
    "        \n",
    "        return z\n",
    "\n",
    "    def message(self, x_j, norm: OptTensor):\n",
    "        \"\"\"      \n",
    "        In addition, tensors passed to propagate() can be mapped to the respective nodes i and j \n",
    "        by appending _i or _j to the variable name, .e.g. x_i and x_j. \n",
    "        Note that we generally refer to i as the central nodes that aggregates information, \n",
    "        and refer to j as the neighboring nodes, since this is the most common notation.\n",
    "        \"\"\"\n",
    "  \n",
    "        return x_j if norm is None else norm.view(-1, 1) * x_j\n",
    "    \n",
    "    \n",
    "    def update(self, aggr_out, x):\n",
    "        \"\"\"        \n",
    "        Takes in the output of aggregation as first argument \n",
    "        and any argument which was initially passed to propagate().\n",
    "        \"\"\"\n",
    "\n",
    "        x = self.rnn(x, aggr_out)\n",
    "        x = F.normalize(x, p=2, dim=1) \n",
    "        \n",
    "        return x\n",
    "    "
   ]
  },
  {
   "cell_type": "code",
   "execution_count": 48,
   "metadata": {},
   "outputs": [],
   "source": [
    "class Decoder(nn.Module):\n",
    "    def __init__(self, p, q):\n",
    "        \n",
    "        super().__init__()\n",
    "        \n",
    "        self.w_4 = nn.Linear(in_features=p, out_features=q).double()\n",
    "        self.w_5 = nn.Linear(in_features=q, out_features=1).double()\n",
    "        \n",
    "        self.relu = nn.ReLU(inplace=True)\n",
    "        \n",
    "    def forward(self, z):\n",
    "        z = self.w_4(z)\n",
    "        z = self.relu(z)\n",
    "        z = self.w_5(z)\n",
    "        \n",
    "        return z"
   ]
  },
  {
   "cell_type": "code",
   "execution_count": 49,
   "metadata": {},
   "outputs": [],
   "source": [
    "class DrBC(nn.Module):\n",
    "    def __init__(self, encoder_params, decoder_params):\n",
    "        super().__init__()\n",
    "        \n",
    "        self.encoder = Encoder(**encoder_params)\n",
    "        self.decoder = Decoder(**decoder_params)\n",
    "        \n",
    "        \n",
    "    def forward(self, data):\n",
    "        \n",
    "        z = self.encoder(data)\n",
    "        \n",
    "        return self.decoder(z)"
   ]
  },
  {
   "cell_type": "markdown",
   "metadata": {},
   "source": [
    "## Node2Vec"
   ]
  },
  {
   "cell_type": "code",
   "execution_count": 50,
   "metadata": {},
   "outputs": [],
   "source": [
    "import node2vec\n",
    "from gensim.models import Word2Vec"
   ]
  },
  {
   "cell_type": "code",
   "execution_count": 51,
   "metadata": {},
   "outputs": [],
   "source": [
    "def learn_embeddings(walks, dim=128, window=10, workers=8, iters=1):\n",
    "    '''\n",
    "    Learn embeddings by optimizing the Skipgram objective using SGD.\n",
    "    '''\n",
    "    walks = [list(map(str, walk)) for walk in walks]\n",
    "    model = Word2Vec(walks, size=dim, window=window, min_count=0, sg=1, workers=workers, iter=iters)\n",
    "    \n",
    "    return model.wv\n",
    "\n",
    "\n",
    "\n",
    "def gnx_to_emb(G, nodes_cnt):\n",
    "    for edge in G.edges():\n",
    "        G[edge[0]][edge[1]]['weight'] = 1\n",
    "\n",
    "    G = node2vec.Graph(G, False, p=1, q=1)\n",
    "    G.preprocess_transition_probs()\n",
    "    walks = G.simulate_walks(10, 80)\n",
    "\n",
    "    embs = learn_embeddings(walks)\n",
    "    embs_ = []\n",
    "    for index in range(nodes_cnt):\n",
    "        embs_.append(torch.from_numpy(np.array(embs.get_vector(str(index)), dtype=np.float)))\n",
    "    embs_ = torch.stack(embs_)\n",
    "    \n",
    "    \n",
    "    return embs_"
   ]
  },
  {
   "cell_type": "code",
   "execution_count": 52,
   "metadata": {},
   "outputs": [],
   "source": [
    "class BC_node2vec(nn.Module):\n",
    "    \n",
    "    def __init__(self, in_features):\n",
    "        super().__init__()\n",
    "\n",
    "        self.mlp = nn.Linear(in_features=in_features, out_features=1).double()\n",
    "        \n",
    "    def forward(self, emb):\n",
    "        \n",
    "        return self.mlp(emb)"
   ]
  },
  {
   "cell_type": "markdown",
   "metadata": {},
   "source": [
    "# Evaluation"
   ]
  },
  {
   "cell_type": "markdown",
   "metadata": {},
   "source": [
    "## Top k %"
   ]
  },
  {
   "cell_type": "code",
   "execution_count": 53,
   "metadata": {},
   "outputs": [],
   "source": [
    "def top_n_percentage(bc_gt, bc_pr, k):\n",
    "    \n",
    "    if not isinstance(bc_gt, torch.Tensor):\n",
    "        bc_gt = torch.from_numpy(bc_gt)\n",
    "    bc_gt = bc_gt.to(setting.device)\n",
    "    bc_gt = torch.reshape(bc_gt, (-1, ))\n",
    "    \n",
    "    if not isinstance(bc_pr, torch.Tensor):\n",
    "        bc_pr = torch.from_numpy(bc_pr)\n",
    "    bc_pr = bc_pr.to(setting.device)\n",
    "    bc_pr = torch.reshape(bc_pr, (-1, ))\n",
    "    \n",
    "    nodes = bc_gt.size()[0]\n",
    "    k = int(nodes * k / 100)\n",
    "    \n",
    "    gt_value, gt_indice = torch.topk(bc_gt, k)\n",
    "    pr_value, pr_indice = torch.topk(bc_pr, k)\n",
    "\n",
    "    gt_indice = set(gt_indice.cpu().numpy())\n",
    "    pr_indice = set(pr_indice.cpu().numpy())\n",
    "\n",
    "    intersect = len(gt_indice & pr_indice)\n",
    "    top = intersect/k\n",
    "    \n",
    "    return top"
   ]
  },
  {
   "cell_type": "markdown",
   "metadata": {},
   "source": [
    "## Tau Kendal"
   ]
  },
  {
   "cell_type": "code",
   "execution_count": 54,
   "metadata": {},
   "outputs": [],
   "source": [
    "from scipy import stats\n",
    "\n",
    "def kendal_tau_distance(bc_gt, bc_pr):\n",
    "    \n",
    "    if isinstance(bc_gt, torch.Tensor):\n",
    "        bc_gt = torch.reshape(bc_gt, (-1, ))\n",
    "        bc_gt = bc_gt.cpu().detach().numpy()\n",
    "        \n",
    "    if isinstance(bc_pr, torch.Tensor):\n",
    "        bc_pr = torch.reshape(bc_pr, (-1, ))\n",
    "        bc_pr = bc_pr.cpu().detach().numpy()\n",
    "    \n",
    "    tau, p_value = stats.kendalltau(bc_gt, bc_pr)\n",
    "    return tau"
   ]
  },
  {
   "cell_type": "markdown",
   "metadata": {},
   "source": [
    "# Train"
   ]
  },
  {
   "cell_type": "markdown",
   "metadata": {
    "id": "Dvoodu8ki_Cu"
   },
   "source": [
    "## Load model"
   ]
  },
  {
   "cell_type": "code",
   "execution_count": 56,
   "metadata": {},
   "outputs": [],
   "source": [
    "def load_checkpoint(filepath, device, **params):\n",
    "\n",
    "    if \"node2vec\" in filepath:\n",
    "        model = BC_node2vec(**params[\"node2vec\"])\n",
    "    \n",
    "    else:\n",
    "        model = DrBC(**params[\"drbc\"])\n",
    "    \n",
    "    model = model.to(device)\n",
    "    \n",
    "    if os.path.exists(filepath):\n",
    "        print(\"pretrained finded\")\n",
    "        checkpoint = torch.load(filepath)\n",
    "        model.load_state_dict(checkpoint['model_stat'])\n",
    "        optimizer = torch.optim.Adam(model.parameters(), lr=1e-4)\n",
    "        optimizer.load_state_dict(checkpoint['optimizer_stat'])\n",
    "\n",
    "    else:\n",
    "        print(\"use a new optimizer\")\n",
    "        optimizer = torch.optim.Adam(model.parameters(), lr=1e-4)\n",
    "\n",
    "    return model, optimizer"
   ]
  },
  {
   "cell_type": "code",
   "execution_count": 57,
   "metadata": {},
   "outputs": [
    {
     "name": "stdout",
     "output_type": "stream",
     "text": [
      "use a new optimizer\n"
     ]
    },
    {
     "data": {
      "text/plain": [
       "DrBC(\n",
       "  (encoder): Encoder(\n",
       "    (w_0): Linear(in_features=3, out_features=128, bias=True)\n",
       "    (relu): ReLU(inplace=True)\n",
       "    (rnn): GRUCell(128, 128)\n",
       "  )\n",
       "  (decoder): Decoder(\n",
       "    (w_4): Linear(in_features=128, out_features=64, bias=True)\n",
       "    (w_5): Linear(in_features=64, out_features=1, bias=True)\n",
       "    (relu): ReLU(inplace=True)\n",
       "  )\n",
       ")"
      ]
     },
     "execution_count": 57,
     "metadata": {},
     "output_type": "execute_result"
    }
   ],
   "source": [
    "model, optimizer = load_checkpoint(\n",
    "                    setting.weight_drbc,\n",
    "                    setting.device,\n",
    "                    drbc = setting.params_drbc,\n",
    "                    node2vec = setting.params_node2vec)\n",
    "\n",
    "model"
   ]
  },
  {
   "cell_type": "markdown",
   "metadata": {},
   "source": [
    "## DrBC"
   ]
  },
  {
   "cell_type": "code",
   "execution_count": 58,
   "metadata": {},
   "outputs": [
    {
     "name": "stderr",
     "output_type": "stream",
     "text": [
      "  0%|          | 1/313 [00:00<00:47,  6.53it/s]"
     ]
    },
    {
     "name": "stdout",
     "output_type": "stream",
     "text": [
      "\n",
      "Epoch: 1\n"
     ]
    },
    {
     "name": "stderr",
     "output_type": "stream",
     "text": [
      "100%|██████████| 313/313 [01:04<00:00,  4.86it/s]\n",
      "100%|██████████| 313/313 [01:06<00:00,  4.70it/s]\n",
      " 25%|██▌       | 1/4 [00:00<00:00,  5.26it/s]"
     ]
    },
    {
     "name": "stdout",
     "output_type": "stream",
     "text": [
      "Train: loss = 6.173565024729264e-07, top 1 = 0.91995, top 5 = 0.9433199999999197, top 10 = 0.9376049999999503, kendal = 0.8533535167455335\n"
     ]
    },
    {
     "name": "stderr",
     "output_type": "stream",
     "text": [
      "100%|██████████| 4/4 [00:00<00:00,  6.58it/s]\n",
      "  0%|          | 0/313 [00:00<?, ?it/s]"
     ]
    },
    {
     "name": "stdout",
     "output_type": "stream",
     "text": [
      "Valid: loss = 5.127151115046885e-07, top 1 = 0.925, top 5 = 0.9350000000000004, top 10 = 0.9355000000000006, kendal = 0.8548106967681355\n",
      "\n",
      "Epoch: 2\n"
     ]
    },
    {
     "name": "stderr",
     "output_type": "stream",
     "text": [
      "100%|██████████| 313/313 [01:04<00:00,  4.86it/s]\n",
      "100%|██████████| 313/313 [01:07<00:00,  4.63it/s]\n",
      " 25%|██▌       | 1/4 [00:00<00:00,  5.31it/s]"
     ]
    },
    {
     "name": "stdout",
     "output_type": "stream",
     "text": [
      "Train: loss = 2.6237497192261345e-07, top 1 = 0.94085, top 5 = 0.9557199999999304, top 10 = 0.9539249999999687, kendal = 0.8601052210868242\n"
     ]
    },
    {
     "name": "stderr",
     "output_type": "stream",
     "text": [
      "100%|██████████| 4/4 [00:00<00:00,  6.78it/s]\n",
      "  0%|          | 0/313 [00:00<?, ?it/s]"
     ]
    },
    {
     "name": "stdout",
     "output_type": "stream",
     "text": [
      "Valid: loss = 2.479367841446277e-07, top 1 = 0.95, top 5 = 0.9460000000000002, top 10 = 0.9545000000000006, kendal = 0.8600398321431143\n",
      "\n",
      "Epoch: 3\n"
     ]
    },
    {
     "name": "stderr",
     "output_type": "stream",
     "text": [
      "100%|██████████| 313/313 [01:04<00:00,  4.88it/s]\n",
      "100%|██████████| 313/313 [01:09<00:00,  4.53it/s]\n",
      "  0%|          | 0/4 [00:00<?, ?it/s]"
     ]
    },
    {
     "name": "stdout",
     "output_type": "stream",
     "text": [
      "Train: loss = 2.0117829528389086e-07, top 1 = 0.94855, top 5 = 0.9622599999999384, top 10 = 0.9595549999999786, kendal = 0.8592943691937095\n"
     ]
    },
    {
     "name": "stderr",
     "output_type": "stream",
     "text": [
      "100%|██████████| 4/4 [00:00<00:00,  5.52it/s]\n",
      "  0%|          | 0/313 [00:00<?, ?it/s]"
     ]
    },
    {
     "name": "stdout",
     "output_type": "stream",
     "text": [
      "Valid: loss = 1.9556979373441059e-07, top 1 = 0.955, top 5 = 0.9530000000000003, top 10 = 0.956500000000001, kendal = 0.858689075747975\n",
      "\n",
      "Epoch: 4\n"
     ]
    },
    {
     "name": "stderr",
     "output_type": "stream",
     "text": [
      "100%|██████████| 313/313 [01:20<00:00,  3.90it/s]\n",
      "100%|██████████| 313/313 [01:06<00:00,  4.69it/s]\n",
      " 25%|██▌       | 1/4 [00:00<00:00,  5.30it/s]"
     ]
    },
    {
     "name": "stdout",
     "output_type": "stream",
     "text": [
      "Train: loss = 1.813161428653399e-07, top 1 = 0.9548, top 5 = 0.9647699999999415, top 10 = 0.961119999999981, kendal = 0.8595000061049426\n"
     ]
    },
    {
     "name": "stderr",
     "output_type": "stream",
     "text": [
      "100%|██████████| 4/4 [00:00<00:00,  6.76it/s]\n",
      "  0%|          | 0/313 [00:00<?, ?it/s]"
     ]
    },
    {
     "name": "stdout",
     "output_type": "stream",
     "text": [
      "Valid: loss = 1.7991920160354266e-07, top 1 = 0.955, top 5 = 0.9580000000000001, top 10 = 0.9575000000000011, kendal = 0.85868506122835\n",
      "\n",
      "Epoch: 5\n"
     ]
    },
    {
     "name": "stderr",
     "output_type": "stream",
     "text": [
      "100%|██████████| 313/313 [01:19<00:00,  3.92it/s]\n",
      "100%|██████████| 313/313 [01:20<00:00,  3.90it/s]\n",
      "  0%|          | 0/4 [00:00<?, ?it/s]"
     ]
    },
    {
     "name": "stdout",
     "output_type": "stream",
     "text": [
      "Train: loss = 1.6548613731835008e-07, top 1 = 0.95845, top 5 = 0.9662599999999433, top 10 = 0.9617649999999798, kendal = 0.8619051362390554\n"
     ]
    },
    {
     "name": "stderr",
     "output_type": "stream",
     "text": [
      "100%|██████████| 4/4 [00:00<00:00,  5.33it/s]\n",
      "  0%|          | 0/313 [00:00<?, ?it/s]"
     ]
    },
    {
     "name": "stdout",
     "output_type": "stream",
     "text": [
      "Valid: loss = 1.6841809921393975e-07, top 1 = 0.95, top 5 = 0.9550000000000003, top 10 = 0.9600000000000012, kendal = 0.8608277772457146\n",
      "\n",
      "Epoch: 6\n"
     ]
    },
    {
     "name": "stderr",
     "output_type": "stream",
     "text": [
      "100%|██████████| 313/313 [01:21<00:00,  3.85it/s]\n",
      "100%|██████████| 313/313 [01:30<00:00,  3.47it/s]\n",
      "  0%|          | 0/4 [00:00<?, ?it/s]"
     ]
    },
    {
     "name": "stdout",
     "output_type": "stream",
     "text": [
      "Train: loss = 1.8317408562935415e-07, top 1 = 0.9601, top 5 = 0.9670399999999448, top 10 = 0.9621049999999798, kendal = 0.8645668138322471\n"
     ]
    },
    {
     "name": "stderr",
     "output_type": "stream",
     "text": [
      "100%|██████████| 4/4 [00:00<00:00,  4.41it/s]\n",
      "  0%|          | 0/313 [00:00<?, ?it/s]"
     ]
    },
    {
     "name": "stdout",
     "output_type": "stream",
     "text": [
      "Valid: loss = 1.917571402653771e-07, top 1 = 0.945, top 5 = 0.9540000000000002, top 10 = 0.9605000000000011, kendal = 0.8634519011821042\n",
      "\n",
      "Epoch: 7\n"
     ]
    },
    {
     "name": "stderr",
     "output_type": "stream",
     "text": [
      "100%|██████████| 313/313 [01:44<00:00,  2.98it/s]\n",
      "100%|██████████| 313/313 [01:37<00:00,  3.22it/s]\n",
      "  0%|          | 0/4 [00:00<?, ?it/s]"
     ]
    },
    {
     "name": "stdout",
     "output_type": "stream",
     "text": [
      "Train: loss = 1.732330871500365e-07, top 1 = 0.96175, top 5 = 0.9678199999999455, top 10 = 0.962809999999981, kendal = 0.865770790344749\n"
     ]
    },
    {
     "name": "stderr",
     "output_type": "stream",
     "text": [
      "100%|██████████| 4/4 [00:00<00:00,  4.33it/s]\n",
      "  0%|          | 0/313 [00:00<?, ?it/s]"
     ]
    },
    {
     "name": "stdout",
     "output_type": "stream",
     "text": [
      "Valid: loss = 1.8542883069336003e-07, top 1 = 0.95, top 5 = 0.9550000000000002, top 10 = 0.9615000000000012, kendal = 0.8648177311611767\n",
      "\n",
      "Epoch: 8\n"
     ]
    },
    {
     "name": "stderr",
     "output_type": "stream",
     "text": [
      "100%|██████████| 313/313 [01:45<00:00,  2.97it/s]\n",
      "100%|██████████| 313/313 [01:37<00:00,  3.22it/s]\n",
      "  0%|          | 0/4 [00:00<?, ?it/s]"
     ]
    },
    {
     "name": "stdout",
     "output_type": "stream",
     "text": [
      "Train: loss = 1.6530734334665023e-07, top 1 = 0.96275, top 5 = 0.968329999999947, top 10 = 0.963389999999982, kendal = 0.8675521595003413\n"
     ]
    },
    {
     "name": "stderr",
     "output_type": "stream",
     "text": [
      "100%|██████████| 4/4 [00:00<00:00,  4.51it/s]\n",
      "  0%|          | 0/313 [00:00<?, ?it/s]"
     ]
    },
    {
     "name": "stdout",
     "output_type": "stream",
     "text": [
      "Valid: loss = 1.8090152047161317e-07, top 1 = 0.945, top 5 = 0.9580000000000001, top 10 = 0.9635000000000011, kendal = 0.8668117007578943\n",
      "\n",
      "Epoch: 9\n"
     ]
    },
    {
     "name": "stderr",
     "output_type": "stream",
     "text": [
      "100%|██████████| 313/313 [01:45<00:00,  2.97it/s]\n",
      "100%|██████████| 313/313 [01:36<00:00,  3.23it/s]\n",
      "  0%|          | 0/4 [00:00<?, ?it/s]"
     ]
    },
    {
     "name": "stdout",
     "output_type": "stream",
     "text": [
      "Train: loss = 1.5297863236234476e-07, top 1 = 0.96295, top 5 = 0.9686899999999472, top 10 = 0.9639449999999832, kendal = 0.8689601896260943\n"
     ]
    },
    {
     "name": "stderr",
     "output_type": "stream",
     "text": [
      "100%|██████████| 4/4 [00:00<00:00,  4.41it/s]\n",
      "  0%|          | 0/313 [00:00<?, ?it/s]"
     ]
    },
    {
     "name": "stdout",
     "output_type": "stream",
     "text": [
      "Valid: loss = 1.6810731027075225e-07, top 1 = 0.94, top 5 = 0.9580000000000001, top 10 = 0.964500000000001, kendal = 0.8682860723141574\n",
      "\n",
      "Epoch: 10\n"
     ]
    },
    {
     "name": "stderr",
     "output_type": "stream",
     "text": [
      "100%|██████████| 313/313 [01:45<00:00,  2.98it/s]\n",
      "100%|██████████| 313/313 [01:36<00:00,  3.24it/s]\n",
      "  0%|          | 0/4 [00:00<?, ?it/s]"
     ]
    },
    {
     "name": "stdout",
     "output_type": "stream",
     "text": [
      "Train: loss = 1.4266746590769079e-07, top 1 = 0.9637, top 5 = 0.9691099999999478, top 10 = 0.9643749999999831, kendal = 0.8702608005611648\n"
     ]
    },
    {
     "name": "stderr",
     "output_type": "stream",
     "text": [
      "100%|██████████| 4/4 [00:00<00:00,  4.41it/s]\n",
      "  0%|          | 0/313 [00:00<?, ?it/s]"
     ]
    },
    {
     "name": "stdout",
     "output_type": "stream",
     "text": [
      "Valid: loss = 1.6266095941362118e-07, top 1 = 0.94, top 5 = 0.9590000000000001, top 10 = 0.9640000000000011, kendal = 0.8696398398704833\n",
      "\n",
      "Epoch: 11\n"
     ]
    },
    {
     "name": "stderr",
     "output_type": "stream",
     "text": [
      "100%|██████████| 313/313 [01:45<00:00,  2.97it/s]\n",
      "100%|██████████| 313/313 [01:36<00:00,  3.23it/s]\n",
      "  0%|          | 0/4 [00:00<?, ?it/s]"
     ]
    },
    {
     "name": "stdout",
     "output_type": "stream",
     "text": [
      "Train: loss = 1.3628097920066727e-07, top 1 = 0.9643, top 5 = 0.9693699999999479, top 10 = 0.9649049999999847, kendal = 0.8732255646295108\n"
     ]
    },
    {
     "name": "stderr",
     "output_type": "stream",
     "text": [
      "100%|██████████| 4/4 [00:00<00:00,  4.40it/s]\n",
      "  0%|          | 0/313 [00:00<?, ?it/s]"
     ]
    },
    {
     "name": "stdout",
     "output_type": "stream",
     "text": [
      "Valid: loss = 1.525228970937662e-07, top 1 = 0.94, top 5 = 0.9590000000000001, top 10 = 0.9625000000000011, kendal = 0.8724951171867485\n",
      "\n",
      "Epoch: 12\n"
     ]
    },
    {
     "name": "stderr",
     "output_type": "stream",
     "text": [
      "100%|██████████| 313/313 [01:44<00:00,  2.99it/s]\n",
      "100%|██████████| 313/313 [01:36<00:00,  3.23it/s]\n",
      "  0%|          | 0/4 [00:00<?, ?it/s]"
     ]
    },
    {
     "name": "stdout",
     "output_type": "stream",
     "text": [
      "Train: loss = 1.3945526221782034e-07, top 1 = 0.9646, top 5 = 0.9698299999999487, top 10 = 0.9651299999999835, kendal = 0.875198555245381\n"
     ]
    },
    {
     "name": "stderr",
     "output_type": "stream",
     "text": [
      "100%|██████████| 4/4 [00:00<00:00,  4.41it/s]\n",
      "  0%|          | 0/313 [00:00<?, ?it/s]"
     ]
    },
    {
     "name": "stdout",
     "output_type": "stream",
     "text": [
      "Valid: loss = 1.5781851127516833e-07, top 1 = 0.94, top 5 = 0.9590000000000001, top 10 = 0.9630000000000011, kendal = 0.8746810472137818\n",
      "\n",
      "Epoch: 13\n"
     ]
    },
    {
     "name": "stderr",
     "output_type": "stream",
     "text": [
      "100%|██████████| 313/313 [01:45<00:00,  2.97it/s]\n",
      "100%|██████████| 313/313 [01:36<00:00,  3.24it/s]\n",
      "  0%|          | 0/4 [00:00<?, ?it/s]"
     ]
    },
    {
     "name": "stdout",
     "output_type": "stream",
     "text": [
      "Train: loss = 1.2034439058280406e-07, top 1 = 0.9647, top 5 = 0.9702099999999493, top 10 = 0.9657899999999854, kendal = 0.8744363083440548\n"
     ]
    },
    {
     "name": "stderr",
     "output_type": "stream",
     "text": [
      "100%|██████████| 4/4 [00:00<00:00,  4.44it/s]\n",
      "  0%|          | 0/313 [00:00<?, ?it/s]"
     ]
    },
    {
     "name": "stdout",
     "output_type": "stream",
     "text": [
      "Valid: loss = 1.376299367296515e-07, top 1 = 0.945, top 5 = 0.9590000000000001, top 10 = 0.9635000000000011, kendal = 0.8737915991442569\n",
      "\n",
      "Epoch: 14\n"
     ]
    },
    {
     "name": "stderr",
     "output_type": "stream",
     "text": [
      "100%|██████████| 313/313 [01:45<00:00,  2.98it/s]\n",
      "100%|██████████| 313/313 [01:36<00:00,  3.23it/s]\n",
      "  0%|          | 0/4 [00:00<?, ?it/s]"
     ]
    },
    {
     "name": "stdout",
     "output_type": "stream",
     "text": [
      "Train: loss = 1.3789897616347238e-07, top 1 = 0.96465, top 5 = 0.9704299999999497, top 10 = 0.9657949999999853, kendal = 0.8787256173804721\n"
     ]
    },
    {
     "name": "stderr",
     "output_type": "stream",
     "text": [
      "100%|██████████| 4/4 [00:00<00:00,  4.42it/s]\n",
      "  0%|          | 0/313 [00:00<?, ?it/s]"
     ]
    },
    {
     "name": "stdout",
     "output_type": "stream",
     "text": [
      "Valid: loss = 1.5304279573622944e-07, top 1 = 0.945, top 5 = 0.9610000000000002, top 10 = 0.9640000000000011, kendal = 0.877884061228539\n",
      "\n",
      "Epoch: 15\n"
     ]
    },
    {
     "name": "stderr",
     "output_type": "stream",
     "text": [
      "100%|██████████| 313/313 [01:45<00:00,  2.98it/s]\n",
      "100%|██████████| 313/313 [01:37<00:00,  3.23it/s]\n",
      "  0%|          | 0/4 [00:00<?, ?it/s]"
     ]
    },
    {
     "name": "stdout",
     "output_type": "stream",
     "text": [
      "Train: loss = 1.1846077339496487e-07, top 1 = 0.96495, top 5 = 0.9707899999999505, top 10 = 0.9661999999999858, kendal = 0.87833427068115\n"
     ]
    },
    {
     "name": "stderr",
     "output_type": "stream",
     "text": [
      "100%|██████████| 4/4 [00:00<00:00,  4.60it/s]\n",
      "  0%|          | 0/313 [00:00<?, ?it/s]"
     ]
    },
    {
     "name": "stdout",
     "output_type": "stream",
     "text": [
      "Valid: loss = 1.3943711272485704e-07, top 1 = 0.945, top 5 = 0.9620000000000002, top 10 = 0.964500000000001, kendal = 0.8775986326787022\n",
      "\n",
      "Epoch: 16\n"
     ]
    },
    {
     "name": "stderr",
     "output_type": "stream",
     "text": [
      "100%|██████████| 313/313 [01:44<00:00,  2.99it/s]\n",
      "100%|██████████| 313/313 [01:36<00:00,  3.23it/s]\n",
      "  0%|          | 0/4 [00:00<?, ?it/s]"
     ]
    },
    {
     "name": "stdout",
     "output_type": "stream",
     "text": [
      "Train: loss = 1.185309483180655e-07, top 1 = 0.9651, top 5 = 0.9709599999999508, top 10 = 0.9666499999999858, kendal = 0.8803896454901092\n"
     ]
    },
    {
     "name": "stderr",
     "output_type": "stream",
     "text": [
      "100%|██████████| 4/4 [00:00<00:00,  4.30it/s]\n",
      "  0%|          | 0/313 [00:00<?, ?it/s]"
     ]
    },
    {
     "name": "stdout",
     "output_type": "stream",
     "text": [
      "Valid: loss = 1.3771977399962513e-07, top 1 = 0.945, top 5 = 0.9630000000000001, top 10 = 0.9640000000000011, kendal = 0.8796036582336282\n",
      "\n",
      "Epoch: 17\n"
     ]
    },
    {
     "name": "stderr",
     "output_type": "stream",
     "text": [
      "100%|██████████| 313/313 [01:44<00:00,  3.00it/s]\n",
      "100%|██████████| 313/313 [01:36<00:00,  3.23it/s]\n",
      "  0%|          | 0/4 [00:00<?, ?it/s]"
     ]
    },
    {
     "name": "stdout",
     "output_type": "stream",
     "text": [
      "Train: loss = 1.0797587784934818e-07, top 1 = 0.9657, top 5 = 0.971379999999951, top 10 = 0.9667699999999871, kendal = 0.8790644147953975\n"
     ]
    },
    {
     "name": "stderr",
     "output_type": "stream",
     "text": [
      "100%|██████████| 4/4 [00:00<00:00,  4.38it/s]\n",
      "  0%|          | 0/313 [00:00<?, ?it/s]"
     ]
    },
    {
     "name": "stdout",
     "output_type": "stream",
     "text": [
      "Valid: loss = 1.24866706712072e-07, top 1 = 0.945, top 5 = 0.9630000000000001, top 10 = 0.964500000000001, kendal = 0.8785152156437804\n",
      "\n",
      "Epoch: 18\n"
     ]
    },
    {
     "name": "stderr",
     "output_type": "stream",
     "text": [
      "100%|██████████| 313/313 [01:44<00:00,  3.00it/s]\n",
      "100%|██████████| 313/313 [01:36<00:00,  3.23it/s]\n",
      "  0%|          | 0/4 [00:00<?, ?it/s]"
     ]
    },
    {
     "name": "stdout",
     "output_type": "stream",
     "text": [
      "Train: loss = 1.0998556739861987e-07, top 1 = 0.96605, top 5 = 0.9716899999999521, top 10 = 0.9668849999999863, kendal = 0.8807928246625611\n"
     ]
    },
    {
     "name": "stderr",
     "output_type": "stream",
     "text": [
      "100%|██████████| 4/4 [00:00<00:00,  4.42it/s]\n",
      "  0%|          | 0/313 [00:00<?, ?it/s]"
     ]
    },
    {
     "name": "stdout",
     "output_type": "stream",
     "text": [
      "Valid: loss = 1.26220695963141e-07, top 1 = 0.945, top 5 = 0.9630000000000001, top 10 = 0.9655000000000009, kendal = 0.8801785330600385\n",
      "\n",
      "Epoch: 19\n"
     ]
    },
    {
     "name": "stderr",
     "output_type": "stream",
     "text": [
      "100%|██████████| 313/313 [01:43<00:00,  3.01it/s]\n",
      "100%|██████████| 313/313 [01:36<00:00,  3.23it/s]\n",
      "  0%|          | 0/4 [00:00<?, ?it/s]"
     ]
    },
    {
     "name": "stdout",
     "output_type": "stream",
     "text": [
      "Train: loss = 1.0754483862825317e-07, top 1 = 0.96635, top 5 = 0.971989999999952, top 10 = 0.9671799999999868, kendal = 0.8826102083251404\n"
     ]
    },
    {
     "name": "stderr",
     "output_type": "stream",
     "text": [
      "100%|██████████| 4/4 [00:00<00:00,  4.23it/s]\n",
      "  0%|          | 0/313 [00:00<?, ?it/s]"
     ]
    },
    {
     "name": "stdout",
     "output_type": "stream",
     "text": [
      "Valid: loss = 1.2685438573935894e-07, top 1 = 0.945, top 5 = 0.9630000000000001, top 10 = 0.9655000000000009, kendal = 0.8818287841142977\n",
      "\n",
      "Epoch: 20\n"
     ]
    },
    {
     "name": "stderr",
     "output_type": "stream",
     "text": [
      "100%|██████████| 313/313 [01:44<00:00,  3.00it/s]\n",
      "100%|██████████| 313/313 [01:36<00:00,  3.23it/s]\n",
      "  0%|          | 0/4 [00:00<?, ?it/s]"
     ]
    },
    {
     "name": "stdout",
     "output_type": "stream",
     "text": [
      "Train: loss = 1.0674742385881673e-07, top 1 = 0.9665, top 5 = 0.9720799999999523, top 10 = 0.9674899999999872, kendal = 0.8804344617409737\n"
     ]
    },
    {
     "name": "stderr",
     "output_type": "stream",
     "text": [
      "100%|██████████| 4/4 [00:00<00:00,  4.59it/s]\n",
      "  0%|          | 0/313 [00:00<?, ?it/s]"
     ]
    },
    {
     "name": "stdout",
     "output_type": "stream",
     "text": [
      "Valid: loss = 1.2600645020211941e-07, top 1 = 0.945, top 5 = 0.9630000000000001, top 10 = 0.9655000000000009, kendal = 0.8795996381583788\n",
      "\n",
      "Epoch: 21\n"
     ]
    },
    {
     "name": "stderr",
     "output_type": "stream",
     "text": [
      "100%|██████████| 313/313 [01:45<00:00,  2.97it/s]\n",
      "100%|██████████| 313/313 [01:36<00:00,  3.24it/s]\n",
      "  0%|          | 0/4 [00:00<?, ?it/s]"
     ]
    },
    {
     "name": "stdout",
     "output_type": "stream",
     "text": [
      "Train: loss = 1.0371229713985517e-07, top 1 = 0.9664, top 5 = 0.9722399999999523, top 10 = 0.9676449999999872, kendal = 0.8811944717528404\n"
     ]
    },
    {
     "name": "stderr",
     "output_type": "stream",
     "text": [
      "100%|██████████| 4/4 [00:00<00:00,  4.39it/s]\n",
      "  0%|          | 0/313 [00:00<?, ?it/s]"
     ]
    },
    {
     "name": "stdout",
     "output_type": "stream",
     "text": [
      "Valid: loss = 1.2018935452782313e-07, top 1 = 0.955, top 5 = 0.9630000000000001, top 10 = 0.966000000000001, kendal = 0.8802931051162698\n",
      "\n",
      "Epoch: 22\n"
     ]
    },
    {
     "name": "stderr",
     "output_type": "stream",
     "text": [
      "100%|██████████| 313/313 [01:44<00:00,  3.00it/s]\n",
      "100%|██████████| 313/313 [01:36<00:00,  3.24it/s]\n",
      "  0%|          | 0/4 [00:00<?, ?it/s]"
     ]
    },
    {
     "name": "stdout",
     "output_type": "stream",
     "text": [
      "Train: loss = 1.0334170247031365e-07, top 1 = 0.9665, top 5 = 0.9725799999999525, top 10 = 0.9680099999999887, kendal = 0.8810064550375677\n"
     ]
    },
    {
     "name": "stderr",
     "output_type": "stream",
     "text": [
      "100%|██████████| 4/4 [00:00<00:00,  4.39it/s]\n",
      "  0%|          | 0/313 [00:00<?, ?it/s]"
     ]
    },
    {
     "name": "stdout",
     "output_type": "stream",
     "text": [
      "Valid: loss = 1.229904964151074e-07, top 1 = 0.95, top 5 = 0.9640000000000003, top 10 = 0.9665000000000009, kendal = 0.8800619492616167\n",
      "\n",
      "Epoch: 23\n"
     ]
    },
    {
     "name": "stderr",
     "output_type": "stream",
     "text": [
      "100%|██████████| 313/313 [01:45<00:00,  2.97it/s]\n",
      "100%|██████████| 313/313 [01:36<00:00,  3.24it/s]\n",
      "  0%|          | 0/4 [00:00<?, ?it/s]"
     ]
    },
    {
     "name": "stdout",
     "output_type": "stream",
     "text": [
      "Train: loss = 9.874742128952949e-08, top 1 = 0.96665, top 5 = 0.9728999999999527, top 10 = 0.9683399999999898, kendal = 0.8825532434330895\n"
     ]
    },
    {
     "name": "stderr",
     "output_type": "stream",
     "text": [
      "100%|██████████| 4/4 [00:00<00:00,  4.68it/s]\n",
      "  0%|          | 0/313 [00:00<?, ?it/s]"
     ]
    },
    {
     "name": "stdout",
     "output_type": "stream",
     "text": [
      "Valid: loss = 1.1423886079004526e-07, top 1 = 0.955, top 5 = 0.9620000000000002, top 10 = 0.9655000000000009, kendal = 0.8818730049925493\n",
      "\n",
      "Epoch: 24\n"
     ]
    },
    {
     "name": "stderr",
     "output_type": "stream",
     "text": [
      "100%|██████████| 313/313 [01:44<00:00,  2.98it/s]\n",
      "100%|██████████| 313/313 [01:36<00:00,  3.25it/s]\n",
      "  0%|          | 0/4 [00:00<?, ?it/s]"
     ]
    },
    {
     "name": "stdout",
     "output_type": "stream",
     "text": [
      "Train: loss = 9.797257903322994e-08, top 1 = 0.9671, top 5 = 0.9728599999999529, top 10 = 0.9685549999999892, kendal = 0.8826083367456212\n"
     ]
    },
    {
     "name": "stderr",
     "output_type": "stream",
     "text": [
      "100%|██████████| 4/4 [00:00<00:00,  4.41it/s]\n",
      "  0%|          | 0/313 [00:00<?, ?it/s]"
     ]
    },
    {
     "name": "stdout",
     "output_type": "stream",
     "text": [
      "Valid: loss = 1.1419161374015499e-07, top 1 = 0.95, top 5 = 0.9630000000000003, top 10 = 0.9665000000000009, kendal = 0.8819885829577555\n",
      "\n",
      "Epoch: 25\n"
     ]
    },
    {
     "name": "stderr",
     "output_type": "stream",
     "text": [
      "100%|██████████| 313/313 [01:45<00:00,  2.97it/s]\n",
      "100%|██████████| 313/313 [01:36<00:00,  3.25it/s]\n",
      "  0%|          | 0/4 [00:00<?, ?it/s]"
     ]
    },
    {
     "name": "stdout",
     "output_type": "stream",
     "text": [
      "Train: loss = 9.860637500356667e-08, top 1 = 0.96775, top 5 = 0.9728999999999529, top 10 = 0.9685349999999892, kendal = 0.8824697661428756\n"
     ]
    },
    {
     "name": "stderr",
     "output_type": "stream",
     "text": [
      "100%|██████████| 4/4 [00:01<00:00,  3.95it/s]\n",
      "  0%|          | 0/313 [00:00<?, ?it/s]"
     ]
    },
    {
     "name": "stdout",
     "output_type": "stream",
     "text": [
      "Valid: loss = 1.1578727329023719e-07, top 1 = 0.95, top 5 = 0.9630000000000001, top 10 = 0.968000000000001, kendal = 0.8819735083132028\n",
      "\n",
      "Epoch: 26\n"
     ]
    },
    {
     "name": "stderr",
     "output_type": "stream",
     "text": [
      "100%|██████████| 313/313 [01:45<00:00,  2.95it/s]\n",
      "100%|██████████| 313/313 [01:36<00:00,  3.25it/s]\n",
      "  0%|          | 0/4 [00:00<?, ?it/s]"
     ]
    },
    {
     "name": "stdout",
     "output_type": "stream",
     "text": [
      "Train: loss = 9.790731000190146e-08, top 1 = 0.96795, top 5 = 0.9733099999999535, top 10 = 0.9689699999999901, kendal = 0.8832799325638987\n"
     ]
    },
    {
     "name": "stderr",
     "output_type": "stream",
     "text": [
      "100%|██████████| 4/4 [00:00<00:00,  4.03it/s]\n",
      "  0%|          | 0/313 [00:00<?, ?it/s]"
     ]
    },
    {
     "name": "stdout",
     "output_type": "stream",
     "text": [
      "Valid: loss = 1.1484270635098173e-07, top 1 = 0.94, top 5 = 0.9640000000000002, top 10 = 0.967000000000001, kendal = 0.8827956192952654\n",
      "\n",
      "Epoch: 27\n"
     ]
    },
    {
     "name": "stderr",
     "output_type": "stream",
     "text": [
      "100%|██████████| 313/313 [01:44<00:00,  2.99it/s]\n",
      "100%|██████████| 313/313 [01:36<00:00,  3.26it/s]\n",
      "  0%|          | 0/4 [00:00<?, ?it/s]"
     ]
    },
    {
     "name": "stdout",
     "output_type": "stream",
     "text": [
      "Train: loss = 9.358232960712796e-08, top 1 = 0.968, top 5 = 0.9736199999999536, top 10 = 0.9692799999999916, kendal = 0.8845667835318458\n"
     ]
    },
    {
     "name": "stderr",
     "output_type": "stream",
     "text": [
      "100%|██████████| 4/4 [00:01<00:00,  3.93it/s]\n",
      "  0%|          | 0/313 [00:00<?, ?it/s]"
     ]
    },
    {
     "name": "stdout",
     "output_type": "stream",
     "text": [
      "Valid: loss = 1.1042855012049313e-07, top 1 = 0.94, top 5 = 0.9640000000000002, top 10 = 0.9685000000000009, kendal = 0.8838639606502681\n",
      "\n",
      "Epoch: 28\n"
     ]
    },
    {
     "name": "stderr",
     "output_type": "stream",
     "text": [
      "100%|██████████| 313/313 [01:44<00:00,  3.00it/s]\n",
      "100%|██████████| 313/313 [01:35<00:00,  3.27it/s]\n",
      "  0%|          | 0/4 [00:00<?, ?it/s]"
     ]
    },
    {
     "name": "stdout",
     "output_type": "stream",
     "text": [
      "Train: loss = 9.513891811603987e-08, top 1 = 0.9683, top 5 = 0.973559999999954, top 10 = 0.9692499999999902, kendal = 0.884670986796927\n"
     ]
    },
    {
     "name": "stderr",
     "output_type": "stream",
     "text": [
      "100%|██████████| 4/4 [00:00<00:00,  4.15it/s]\n",
      "  0%|          | 0/313 [00:00<?, ?it/s]"
     ]
    },
    {
     "name": "stdout",
     "output_type": "stream",
     "text": [
      "Valid: loss = 1.1113186281428063e-07, top 1 = 0.945, top 5 = 0.9650000000000002, top 10 = 0.9690000000000011, kendal = 0.8839232576377368\n",
      "\n",
      "Epoch: 29\n"
     ]
    },
    {
     "name": "stderr",
     "output_type": "stream",
     "text": [
      "100%|██████████| 313/313 [01:46<00:00,  2.95it/s]\n",
      "100%|██████████| 313/313 [01:35<00:00,  3.27it/s]\n",
      "  0%|          | 0/4 [00:00<?, ?it/s]"
     ]
    },
    {
     "name": "stdout",
     "output_type": "stream",
     "text": [
      "Train: loss = 9.359698727868426e-08, top 1 = 0.9681, top 5 = 0.9738599999999545, top 10 = 0.9694049999999914, kendal = 0.8849994848436692\n"
     ]
    },
    {
     "name": "stderr",
     "output_type": "stream",
     "text": [
      "100%|██████████| 4/4 [00:00<00:00,  4.11it/s]\n",
      "  0%|          | 0/313 [00:00<?, ?it/s]"
     ]
    },
    {
     "name": "stdout",
     "output_type": "stream",
     "text": [
      "Valid: loss = 1.1140353513820287e-07, top 1 = 0.945, top 5 = 0.9650000000000002, top 10 = 0.9690000000000011, kendal = 0.8842599409285586\n",
      "\n",
      "Epoch: 30\n"
     ]
    },
    {
     "name": "stderr",
     "output_type": "stream",
     "text": [
      "100%|██████████| 313/313 [01:46<00:00,  2.95it/s]\n",
      "100%|██████████| 313/313 [01:35<00:00,  3.26it/s]\n",
      "  0%|          | 0/4 [00:00<?, ?it/s]"
     ]
    },
    {
     "name": "stdout",
     "output_type": "stream",
     "text": [
      "Train: loss = 9.228409727005131e-08, top 1 = 0.9683, top 5 = 0.9739999999999543, top 10 = 0.9693299999999903, kendal = 0.8846668226244774\n"
     ]
    },
    {
     "name": "stderr",
     "output_type": "stream",
     "text": [
      "100%|██████████| 4/4 [00:00<00:00,  4.06it/s]\n",
      "  0%|          | 0/313 [00:00<?, ?it/s]"
     ]
    },
    {
     "name": "stdout",
     "output_type": "stream",
     "text": [
      "Valid: loss = 1.1053357460289197e-07, top 1 = 0.945, top 5 = 0.9660000000000002, top 10 = 0.968500000000001, kendal = 0.884112202260344\n",
      "\n",
      "Epoch: 31\n"
     ]
    },
    {
     "name": "stderr",
     "output_type": "stream",
     "text": [
      "100%|██████████| 313/313 [01:46<00:00,  2.94it/s]\n",
      "100%|██████████| 313/313 [01:35<00:00,  3.29it/s]\n",
      "  0%|          | 0/4 [00:00<?, ?it/s]"
     ]
    },
    {
     "name": "stdout",
     "output_type": "stream",
     "text": [
      "Train: loss = 9.137816519179382e-08, top 1 = 0.96865, top 5 = 0.974089999999955, top 10 = 0.9695299999999902, kendal = 0.8863197127490706\n"
     ]
    },
    {
     "name": "stderr",
     "output_type": "stream",
     "text": [
      "100%|██████████| 4/4 [00:00<00:00,  4.05it/s]\n",
      "  0%|          | 0/313 [00:00<?, ?it/s]"
     ]
    },
    {
     "name": "stdout",
     "output_type": "stream",
     "text": [
      "Valid: loss = 1.0999191739474284e-07, top 1 = 0.94, top 5 = 0.9660000000000002, top 10 = 0.969500000000001, kendal = 0.8854508957529332\n",
      "\n",
      "Epoch: 32\n"
     ]
    },
    {
     "name": "stderr",
     "output_type": "stream",
     "text": [
      "100%|██████████| 313/313 [01:46<00:00,  2.93it/s]\n",
      "100%|██████████| 313/313 [01:35<00:00,  3.29it/s]\n",
      "  0%|          | 0/4 [00:00<?, ?it/s]"
     ]
    },
    {
     "name": "stdout",
     "output_type": "stream",
     "text": [
      "Train: loss = 9.286285742563928e-08, top 1 = 0.969, top 5 = 0.9741499999999547, top 10 = 0.9696099999999915, kendal = 0.885650186242113\n"
     ]
    },
    {
     "name": "stderr",
     "output_type": "stream",
     "text": [
      "100%|██████████| 4/4 [00:01<00:00,  3.95it/s]\n",
      "  0%|          | 0/313 [00:00<?, ?it/s]"
     ]
    },
    {
     "name": "stdout",
     "output_type": "stream",
     "text": [
      "Valid: loss = 1.1386938157630842e-07, top 1 = 0.935, top 5 = 0.9660000000000002, top 10 = 0.969500000000001, kendal = 0.8848730062551909\n",
      "\n",
      "Epoch: 33\n"
     ]
    },
    {
     "name": "stderr",
     "output_type": "stream",
     "text": [
      "100%|██████████| 313/313 [01:46<00:00,  2.94it/s]\n",
      "100%|██████████| 313/313 [01:35<00:00,  3.29it/s]\n",
      "  0%|          | 0/4 [00:00<?, ?it/s]"
     ]
    },
    {
     "name": "stdout",
     "output_type": "stream",
     "text": [
      "Train: loss = 9.944147226817988e-08, top 1 = 0.969, top 5 = 0.974209999999955, top 10 = 0.9695599999999913, kendal = 0.8865784196506281\n"
     ]
    },
    {
     "name": "stderr",
     "output_type": "stream",
     "text": [
      "100%|██████████| 4/4 [00:01<00:00,  3.94it/s]\n",
      "  0%|          | 0/313 [00:00<?, ?it/s]"
     ]
    },
    {
     "name": "stdout",
     "output_type": "stream",
     "text": [
      "Valid: loss = 1.228862923874711e-07, top 1 = 0.935, top 5 = 0.9660000000000002, top 10 = 0.9670000000000009, kendal = 0.8856629565847501\n",
      "\n",
      "Epoch: 34\n"
     ]
    },
    {
     "name": "stderr",
     "output_type": "stream",
     "text": [
      "100%|██████████| 313/313 [01:46<00:00,  2.93it/s]\n",
      "100%|██████████| 313/313 [01:35<00:00,  3.29it/s]\n",
      "  0%|          | 0/4 [00:00<?, ?it/s]"
     ]
    },
    {
     "name": "stdout",
     "output_type": "stream",
     "text": [
      "Train: loss = 9.023236247988989e-08, top 1 = 0.9691, top 5 = 0.9741899999999547, top 10 = 0.969724999999992, kendal = 0.8865106139426474\n"
     ]
    },
    {
     "name": "stderr",
     "output_type": "stream",
     "text": [
      "100%|██████████| 4/4 [00:01<00:00,  3.93it/s]\n",
      "  0%|          | 0/313 [00:00<?, ?it/s]"
     ]
    },
    {
     "name": "stdout",
     "output_type": "stream",
     "text": [
      "Valid: loss = 1.0810494456082133e-07, top 1 = 0.94, top 5 = 0.9690000000000002, top 10 = 0.9680000000000011, kendal = 0.8857885848517182\n",
      "\n",
      "Epoch: 35\n"
     ]
    },
    {
     "name": "stderr",
     "output_type": "stream",
     "text": [
      "100%|██████████| 313/313 [01:46<00:00,  2.94it/s]\n",
      "100%|██████████| 313/313 [01:34<00:00,  3.31it/s]\n",
      "  0%|          | 0/4 [00:00<?, ?it/s]"
     ]
    },
    {
     "name": "stdout",
     "output_type": "stream",
     "text": [
      "Train: loss = 9.245459467510917e-08, top 1 = 0.969, top 5 = 0.9743599999999557, top 10 = 0.9697799999999918, kendal = 0.8860349958241656\n"
     ]
    },
    {
     "name": "stderr",
     "output_type": "stream",
     "text": [
      "100%|██████████| 4/4 [00:00<00:00,  4.12it/s]\n",
      "  0%|          | 0/313 [00:00<?, ?it/s]"
     ]
    },
    {
     "name": "stdout",
     "output_type": "stream",
     "text": [
      "Valid: loss = 1.1365492934243815e-07, top 1 = 0.94, top 5 = 0.9680000000000003, top 10 = 0.967500000000001, kendal = 0.8852790379211154\n",
      "\n",
      "Epoch: 36\n"
     ]
    },
    {
     "name": "stderr",
     "output_type": "stream",
     "text": [
      "100%|██████████| 313/313 [01:47<00:00,  2.92it/s]\n",
      "100%|██████████| 313/313 [01:34<00:00,  3.31it/s]\n",
      "  0%|          | 0/4 [00:00<?, ?it/s]"
     ]
    },
    {
     "name": "stdout",
     "output_type": "stream",
     "text": [
      "Train: loss = 8.969145103391949e-08, top 1 = 0.9687, top 5 = 0.9744999999999558, top 10 = 0.969884999999992, kendal = 0.8856268215876962\n"
     ]
    },
    {
     "name": "stderr",
     "output_type": "stream",
     "text": [
      "100%|██████████| 4/4 [00:01<00:00,  3.92it/s]\n",
      "  0%|          | 0/313 [00:00<?, ?it/s]"
     ]
    },
    {
     "name": "stdout",
     "output_type": "stream",
     "text": [
      "Valid: loss = 1.1373546595206808e-07, top 1 = 0.94, top 5 = 0.9680000000000003, top 10 = 0.967000000000001, kendal = 0.884878033022254\n",
      "\n",
      "Epoch: 37\n"
     ]
    },
    {
     "name": "stderr",
     "output_type": "stream",
     "text": [
      "100%|██████████| 313/313 [01:47<00:00,  2.92it/s]\n",
      "100%|██████████| 313/313 [01:34<00:00,  3.31it/s]\n",
      "  0%|          | 0/4 [00:00<?, ?it/s]"
     ]
    },
    {
     "name": "stdout",
     "output_type": "stream",
     "text": [
      "Train: loss = 9.509186685411852e-08, top 1 = 0.96935, top 5 = 0.9744599999999557, top 10 = 0.9698799999999914, kendal = 0.8888481886410591\n"
     ]
    },
    {
     "name": "stderr",
     "output_type": "stream",
     "text": [
      "100%|██████████| 4/4 [00:01<00:00,  3.95it/s]\n",
      "  0%|          | 0/313 [00:00<?, ?it/s]"
     ]
    },
    {
     "name": "stdout",
     "output_type": "stream",
     "text": [
      "Valid: loss = 1.209039239354643e-07, top 1 = 0.94, top 5 = 0.9670000000000003, top 10 = 0.967000000000001, kendal = 0.8879996409614435\n",
      "\n",
      "Epoch: 38\n"
     ]
    },
    {
     "name": "stderr",
     "output_type": "stream",
     "text": [
      "100%|██████████| 313/313 [01:47<00:00,  2.91it/s]\n",
      "100%|██████████| 313/313 [01:34<00:00,  3.31it/s]\n",
      "  0%|          | 0/4 [00:00<?, ?it/s]"
     ]
    },
    {
     "name": "stdout",
     "output_type": "stream",
     "text": [
      "Train: loss = 8.823166058543921e-08, top 1 = 0.96905, top 5 = 0.9745699999999555, top 10 = 0.969994999999991, kendal = 0.8886472818861691\n"
     ]
    },
    {
     "name": "stderr",
     "output_type": "stream",
     "text": [
      "100%|██████████| 4/4 [00:01<00:00,  3.94it/s]\n",
      "  0%|          | 0/313 [00:00<?, ?it/s]"
     ]
    },
    {
     "name": "stdout",
     "output_type": "stream",
     "text": [
      "Valid: loss = 1.10566690653659e-07, top 1 = 0.94, top 5 = 0.9690000000000002, top 10 = 0.967500000000001, kendal = 0.8878971285501467\n",
      "\n",
      "Epoch: 39\n"
     ]
    },
    {
     "name": "stderr",
     "output_type": "stream",
     "text": [
      "100%|██████████| 313/313 [01:47<00:00,  2.92it/s]\n",
      "100%|██████████| 313/313 [01:34<00:00,  3.30it/s]\n",
      "  0%|          | 0/4 [00:00<?, ?it/s]"
     ]
    },
    {
     "name": "stdout",
     "output_type": "stream",
     "text": [
      "Train: loss = 9.669985052557874e-08, top 1 = 0.96895, top 5 = 0.9746499999999558, top 10 = 0.9699349999999911, kendal = 0.888892955727705\n"
     ]
    },
    {
     "name": "stderr",
     "output_type": "stream",
     "text": [
      "100%|██████████| 4/4 [00:00<00:00,  4.08it/s]\n",
      "  0%|          | 0/313 [00:00<?, ?it/s]"
     ]
    },
    {
     "name": "stdout",
     "output_type": "stream",
     "text": [
      "Valid: loss = 1.1752895907950073e-07, top 1 = 0.945, top 5 = 0.9690000000000002, top 10 = 0.968500000000001, kendal = 0.8882117021468002\n",
      "\n",
      "Epoch: 40\n"
     ]
    },
    {
     "name": "stderr",
     "output_type": "stream",
     "text": [
      "100%|██████████| 313/313 [01:47<00:00,  2.91it/s]\n",
      "100%|██████████| 313/313 [01:34<00:00,  3.32it/s]\n",
      "  0%|          | 0/4 [00:00<?, ?it/s]"
     ]
    },
    {
     "name": "stdout",
     "output_type": "stream",
     "text": [
      "Train: loss = 9.185226314097914e-08, top 1 = 0.96915, top 5 = 0.9747799999999559, top 10 = 0.9700999999999919, kendal = 0.8891284230439381\n"
     ]
    },
    {
     "name": "stderr",
     "output_type": "stream",
     "text": [
      "100%|██████████| 4/4 [00:00<00:00,  4.01it/s]\n",
      "  0%|          | 0/313 [00:00<?, ?it/s]"
     ]
    },
    {
     "name": "stdout",
     "output_type": "stream",
     "text": [
      "Valid: loss = 1.1606177900678067e-07, top 1 = 0.94, top 5 = 0.9690000000000002, top 10 = 0.9680000000000011, kendal = 0.888339339908457\n",
      "\n",
      "Epoch: 41\n"
     ]
    },
    {
     "name": "stderr",
     "output_type": "stream",
     "text": [
      "100%|██████████| 313/313 [01:47<00:00,  2.92it/s]\n",
      "100%|██████████| 313/313 [01:34<00:00,  3.33it/s]\n",
      "  0%|          | 0/4 [00:00<?, ?it/s]"
     ]
    },
    {
     "name": "stdout",
     "output_type": "stream",
     "text": [
      "Train: loss = 8.981010715826803e-08, top 1 = 0.9694, top 5 = 0.9747499999999555, top 10 = 0.9702899999999921, kendal = 0.8903342768802335\n"
     ]
    },
    {
     "name": "stderr",
     "output_type": "stream",
     "text": [
      "100%|██████████| 4/4 [00:01<00:00,  3.94it/s]\n",
      "  0%|          | 0/313 [00:00<?, ?it/s]"
     ]
    },
    {
     "name": "stdout",
     "output_type": "stream",
     "text": [
      "Valid: loss = 1.0970393000252136e-07, top 1 = 0.94, top 5 = 0.9700000000000002, top 10 = 0.968000000000001, kendal = 0.8895905969727022\n",
      "\n",
      "Epoch: 42\n"
     ]
    },
    {
     "name": "stderr",
     "output_type": "stream",
     "text": [
      "100%|██████████| 313/313 [01:48<00:00,  2.89it/s]\n",
      "100%|██████████| 313/313 [01:33<00:00,  3.33it/s]\n",
      "  0%|          | 0/4 [00:00<?, ?it/s]"
     ]
    },
    {
     "name": "stdout",
     "output_type": "stream",
     "text": [
      "Train: loss = 9.181478709896568e-08, top 1 = 0.9692, top 5 = 0.9748799999999561, top 10 = 0.9701699999999913, kendal = 0.8867432962231947\n"
     ]
    },
    {
     "name": "stderr",
     "output_type": "stream",
     "text": [
      "100%|██████████| 4/4 [00:00<00:00,  4.30it/s]\n",
      "  0%|          | 0/313 [00:00<?, ?it/s]"
     ]
    },
    {
     "name": "stdout",
     "output_type": "stream",
     "text": [
      "Valid: loss = 1.1317447136586481e-07, top 1 = 0.95, top 5 = 0.9720000000000002, top 10 = 0.9665000000000009, kendal = 0.8859554208407768\n",
      "\n",
      "Epoch: 43\n"
     ]
    },
    {
     "name": "stderr",
     "output_type": "stream",
     "text": [
      "100%|██████████| 313/313 [01:48<00:00,  2.89it/s]\n",
      "100%|██████████| 313/313 [01:33<00:00,  3.34it/s]\n",
      "  0%|          | 0/4 [00:00<?, ?it/s]"
     ]
    },
    {
     "name": "stdout",
     "output_type": "stream",
     "text": [
      "Train: loss = 9.600536923934738e-08, top 1 = 0.9692, top 5 = 0.9749499999999561, top 10 = 0.9703299999999917, kendal = 0.8891061706766277\n"
     ]
    },
    {
     "name": "stderr",
     "output_type": "stream",
     "text": [
      "100%|██████████| 4/4 [00:01<00:00,  3.94it/s]\n",
      "  0%|          | 0/313 [00:00<?, ?it/s]"
     ]
    },
    {
     "name": "stdout",
     "output_type": "stream",
     "text": [
      "Valid: loss = 1.1874207497504244e-07, top 1 = 0.935, top 5 = 0.9720000000000002, top 10 = 0.968000000000001, kendal = 0.8883715017478435\n",
      "\n",
      "Epoch: 44\n"
     ]
    },
    {
     "name": "stderr",
     "output_type": "stream",
     "text": [
      "100%|██████████| 313/313 [01:48<00:00,  2.89it/s]\n",
      "100%|██████████| 313/313 [01:33<00:00,  3.34it/s]\n",
      "  0%|          | 0/4 [00:00<?, ?it/s]"
     ]
    },
    {
     "name": "stdout",
     "output_type": "stream",
     "text": [
      "Train: loss = 9.77333228623664e-08, top 1 = 0.9692, top 5 = 0.9749799999999564, top 10 = 0.9703349999999921, kendal = 0.8879166084418039\n"
     ]
    },
    {
     "name": "stderr",
     "output_type": "stream",
     "text": [
      "100%|██████████| 4/4 [00:01<00:00,  3.97it/s]\n",
      "  0%|          | 0/313 [00:00<?, ?it/s]"
     ]
    },
    {
     "name": "stdout",
     "output_type": "stream",
     "text": [
      "Valid: loss = 1.2357638504165283e-07, top 1 = 0.945, top 5 = 0.9700000000000002, top 10 = 0.966000000000001, kendal = 0.8869825570999842\n",
      "\n",
      "Epoch: 45\n"
     ]
    },
    {
     "name": "stderr",
     "output_type": "stream",
     "text": [
      "100%|██████████| 313/313 [01:48<00:00,  2.88it/s]\n",
      "100%|██████████| 313/313 [01:34<00:00,  3.33it/s]\n",
      "  0%|          | 0/4 [00:00<?, ?it/s]"
     ]
    },
    {
     "name": "stdout",
     "output_type": "stream",
     "text": [
      "Train: loss = 8.758019504597922e-08, top 1 = 0.9694, top 5 = 0.9751899999999563, top 10 = 0.9704899999999926, kendal = 0.8887311310735584\n"
     ]
    },
    {
     "name": "stderr",
     "output_type": "stream",
     "text": [
      "100%|██████████| 4/4 [00:01<00:00,  3.93it/s]\n",
      "  0%|          | 0/313 [00:00<?, ?it/s]"
     ]
    },
    {
     "name": "stdout",
     "output_type": "stream",
     "text": [
      "Valid: loss = 1.1139043550238494e-07, top 1 = 0.94, top 5 = 0.9720000000000002, top 10 = 0.968000000000001, kendal = 0.8878810499158356\n",
      "\n",
      "Epoch: 46\n"
     ]
    },
    {
     "name": "stderr",
     "output_type": "stream",
     "text": [
      "100%|██████████| 313/313 [01:48<00:00,  2.88it/s]\n",
      "100%|██████████| 313/313 [01:33<00:00,  3.34it/s]\n",
      "  0%|          | 0/4 [00:00<?, ?it/s]"
     ]
    },
    {
     "name": "stdout",
     "output_type": "stream",
     "text": [
      "Train: loss = 9.651744656733052e-08, top 1 = 0.96925, top 5 = 0.975019999999956, top 10 = 0.9704099999999926, kendal = 0.8899168039462425\n"
     ]
    },
    {
     "name": "stderr",
     "output_type": "stream",
     "text": [
      "100%|██████████| 4/4 [00:00<00:00,  4.15it/s]\n",
      "  0%|          | 0/313 [00:00<?, ?it/s]"
     ]
    },
    {
     "name": "stdout",
     "output_type": "stream",
     "text": [
      "Valid: loss = 1.246545067499567e-07, top 1 = 0.94, top 5 = 0.9720000000000002, top 10 = 0.967500000000001, kendal = 0.8891835622513737\n",
      "\n",
      "Epoch: 47\n"
     ]
    },
    {
     "name": "stderr",
     "output_type": "stream",
     "text": [
      "100%|██████████| 313/313 [01:48<00:00,  2.88it/s]\n",
      "100%|██████████| 313/313 [01:33<00:00,  3.33it/s]\n",
      "  0%|          | 0/4 [00:00<?, ?it/s]"
     ]
    },
    {
     "name": "stdout",
     "output_type": "stream",
     "text": [
      "Train: loss = 1.0436292618911657e-07, top 1 = 0.96955, top 5 = 0.974909999999956, top 10 = 0.9702449999999928, kendal = 0.8927770810018508\n"
     ]
    },
    {
     "name": "stderr",
     "output_type": "stream",
     "text": [
      "100%|██████████| 4/4 [00:01<00:00,  3.97it/s]\n",
      "  0%|          | 0/313 [00:00<?, ?it/s]"
     ]
    },
    {
     "name": "stdout",
     "output_type": "stream",
     "text": [
      "Valid: loss = 1.3187886891652338e-07, top 1 = 0.94, top 5 = 0.9700000000000002, top 10 = 0.9665000000000009, kendal = 0.8920730096390718\n",
      "\n",
      "Epoch: 48\n"
     ]
    },
    {
     "name": "stderr",
     "output_type": "stream",
     "text": [
      "100%|██████████| 313/313 [01:48<00:00,  2.87it/s]\n",
      "100%|██████████| 313/313 [01:33<00:00,  3.34it/s]\n",
      "  0%|          | 0/4 [00:00<?, ?it/s]"
     ]
    },
    {
     "name": "stdout",
     "output_type": "stream",
     "text": [
      "Train: loss = 9.978996097760387e-08, top 1 = 0.96965, top 5 = 0.9749799999999561, top 10 = 0.970374999999992, kendal = 0.8913899631868857\n"
     ]
    },
    {
     "name": "stderr",
     "output_type": "stream",
     "text": [
      "100%|██████████| 4/4 [00:00<00:00,  4.02it/s]\n",
      "  0%|          | 0/313 [00:00<?, ?it/s]"
     ]
    },
    {
     "name": "stdout",
     "output_type": "stream",
     "text": [
      "Valid: loss = 1.2982414658762809e-07, top 1 = 0.935, top 5 = 0.9720000000000002, top 10 = 0.966000000000001, kendal = 0.8907272815261653\n",
      "\n",
      "Epoch: 49\n"
     ]
    },
    {
     "name": "stderr",
     "output_type": "stream",
     "text": [
      "100%|██████████| 313/313 [01:49<00:00,  2.87it/s]\n",
      "100%|██████████| 313/313 [01:33<00:00,  3.34it/s]\n",
      "  0%|          | 0/4 [00:00<?, ?it/s]"
     ]
    },
    {
     "name": "stdout",
     "output_type": "stream",
     "text": [
      "Train: loss = 9.702708258608086e-08, top 1 = 0.97005, top 5 = 0.9751099999999561, top 10 = 0.970564999999993, kendal = 0.8915688185570243\n"
     ]
    },
    {
     "name": "stderr",
     "output_type": "stream",
     "text": [
      "100%|██████████| 4/4 [00:00<00:00,  4.17it/s]\n",
      "  0%|          | 0/313 [00:00<?, ?it/s]"
     ]
    },
    {
     "name": "stdout",
     "output_type": "stream",
     "text": [
      "Valid: loss = 1.2120080402799947e-07, top 1 = 0.94, top 5 = 0.9710000000000001, top 10 = 0.967500000000001, kendal = 0.8908609502719196\n",
      "\n",
      "Epoch: 50\n"
     ]
    },
    {
     "name": "stderr",
     "output_type": "stream",
     "text": [
      "100%|██████████| 313/313 [01:48<00:00,  2.88it/s]\n",
      "100%|██████████| 313/313 [01:33<00:00,  3.35it/s]\n",
      "  0%|          | 0/4 [00:00<?, ?it/s]"
     ]
    },
    {
     "name": "stdout",
     "output_type": "stream",
     "text": [
      "Train: loss = 9.660581050242945e-08, top 1 = 0.96955, top 5 = 0.9752499999999562, top 10 = 0.9705899999999927, kendal = 0.8911552897498445\n"
     ]
    },
    {
     "name": "stderr",
     "output_type": "stream",
     "text": [
      "100%|██████████| 4/4 [00:01<00:00,  3.87it/s]\n",
      "  0%|          | 0/313 [00:00<?, ?it/s]"
     ]
    },
    {
     "name": "stdout",
     "output_type": "stream",
     "text": [
      "Valid: loss = 1.2280105833688455e-07, top 1 = 0.945, top 5 = 0.9710000000000001, top 10 = 0.9660000000000011, kendal = 0.8903664778090996\n",
      "\n",
      "Epoch: 51\n"
     ]
    },
    {
     "name": "stderr",
     "output_type": "stream",
     "text": [
      "100%|██████████| 313/313 [01:49<00:00,  2.87it/s]\n",
      "100%|██████████| 313/313 [01:33<00:00,  3.35it/s]\n",
      "  0%|          | 0/4 [00:00<?, ?it/s]"
     ]
    },
    {
     "name": "stdout",
     "output_type": "stream",
     "text": [
      "Train: loss = 9.885130509055127e-08, top 1 = 0.96935, top 5 = 0.9751399999999563, top 10 = 0.9704549999999926, kendal = 0.8915570408124619\n"
     ]
    },
    {
     "name": "stderr",
     "output_type": "stream",
     "text": [
      "100%|██████████| 4/4 [00:00<00:00,  4.08it/s]\n",
      "  0%|          | 0/313 [00:00<?, ?it/s]"
     ]
    },
    {
     "name": "stdout",
     "output_type": "stream",
     "text": [
      "Valid: loss = 1.2733419758419446e-07, top 1 = 0.945, top 5 = 0.9710000000000002, top 10 = 0.9665000000000009, kendal = 0.8906679853467871\n",
      "\n",
      "Epoch: 52\n"
     ]
    },
    {
     "name": "stderr",
     "output_type": "stream",
     "text": [
      "100%|██████████| 313/313 [01:49<00:00,  2.87it/s]\n",
      "100%|██████████| 313/313 [01:33<00:00,  3.35it/s]\n",
      "  0%|          | 0/4 [00:00<?, ?it/s]"
     ]
    },
    {
     "name": "stdout",
     "output_type": "stream",
     "text": [
      "Train: loss = 8.91960903373297e-08, top 1 = 0.9698, top 5 = 0.9753299999999563, top 10 = 0.9706399999999928, kendal = 0.8929320670180566\n"
     ]
    },
    {
     "name": "stderr",
     "output_type": "stream",
     "text": [
      "100%|██████████| 4/4 [00:00<00:00,  4.39it/s]\n",
      "  0%|          | 0/313 [00:00<?, ?it/s]"
     ]
    },
    {
     "name": "stdout",
     "output_type": "stream",
     "text": [
      "Valid: loss = 1.0981720887758541e-07, top 1 = 0.94, top 5 = 0.9720000000000002, top 10 = 0.967500000000001, kendal = 0.8920287894931518\n",
      "\n",
      "Epoch: 53\n"
     ]
    },
    {
     "name": "stderr",
     "output_type": "stream",
     "text": [
      "100%|██████████| 313/313 [01:49<00:00,  2.86it/s]\n",
      "100%|██████████| 313/313 [01:33<00:00,  3.35it/s]\n",
      "  0%|          | 0/4 [00:00<?, ?it/s]"
     ]
    },
    {
     "name": "stdout",
     "output_type": "stream",
     "text": [
      "Train: loss = 8.696903365582977e-08, top 1 = 0.97015, top 5 = 0.9754499999999565, top 10 = 0.9707599999999927, kendal = 0.8929180961300052\n"
     ]
    },
    {
     "name": "stderr",
     "output_type": "stream",
     "text": [
      "100%|██████████| 4/4 [00:00<00:00,  4.10it/s]\n",
      "  0%|          | 0/313 [00:00<?, ?it/s]"
     ]
    },
    {
     "name": "stdout",
     "output_type": "stream",
     "text": [
      "Valid: loss = 1.0991759504543614e-07, top 1 = 0.94, top 5 = 0.9710000000000001, top 10 = 0.967500000000001, kendal = 0.8920589405247026\n",
      "\n",
      "Epoch: 54\n"
     ]
    },
    {
     "name": "stderr",
     "output_type": "stream",
     "text": [
      "100%|██████████| 313/313 [01:49<00:00,  2.87it/s]\n",
      "100%|██████████| 313/313 [01:33<00:00,  3.36it/s]\n",
      "  0%|          | 0/4 [00:00<?, ?it/s]"
     ]
    },
    {
     "name": "stdout",
     "output_type": "stream",
     "text": [
      "Train: loss = 8.682121118976097e-08, top 1 = 0.9699, top 5 = 0.9753499999999568, top 10 = 0.9707549999999928, kendal = 0.8919368575663112\n"
     ]
    },
    {
     "name": "stderr",
     "output_type": "stream",
     "text": [
      "100%|██████████| 4/4 [00:00<00:00,  4.09it/s]\n",
      "  0%|          | 0/313 [00:00<?, ?it/s]"
     ]
    },
    {
     "name": "stdout",
     "output_type": "stream",
     "text": [
      "Valid: loss = 1.1068947934157626e-07, top 1 = 0.945, top 5 = 0.9730000000000003, top 10 = 0.967000000000001, kendal = 0.891056931030013\n",
      "\n",
      "Epoch: 55\n"
     ]
    },
    {
     "name": "stderr",
     "output_type": "stream",
     "text": [
      "100%|██████████| 313/313 [01:49<00:00,  2.87it/s]\n",
      "100%|██████████| 313/313 [01:33<00:00,  3.34it/s]\n",
      "  0%|          | 0/4 [00:00<?, ?it/s]"
     ]
    },
    {
     "name": "stdout",
     "output_type": "stream",
     "text": [
      "Train: loss = 8.730475150712278e-08, top 1 = 0.96985, top 5 = 0.9753599999999567, top 10 = 0.970719999999993, kendal = 0.8935306298379333\n"
     ]
    },
    {
     "name": "stderr",
     "output_type": "stream",
     "text": [
      "100%|██████████| 4/4 [00:00<00:00,  4.40it/s]\n",
      "  0%|          | 0/313 [00:00<?, ?it/s]"
     ]
    },
    {
     "name": "stdout",
     "output_type": "stream",
     "text": [
      "Valid: loss = 1.0908973613860559e-07, top 1 = 0.945, top 5 = 0.9730000000000003, top 10 = 0.967000000000001, kendal = 0.892663965978617\n",
      "\n",
      "Epoch: 56\n"
     ]
    },
    {
     "name": "stderr",
     "output_type": "stream",
     "text": [
      "100%|██████████| 313/313 [01:49<00:00,  2.86it/s]\n",
      "100%|██████████| 313/313 [01:33<00:00,  3.36it/s]\n",
      "  0%|          | 0/4 [00:00<?, ?it/s]"
     ]
    },
    {
     "name": "stdout",
     "output_type": "stream",
     "text": [
      "Train: loss = 8.155560962288845e-08, top 1 = 0.97, top 5 = 0.9755499999999567, top 10 = 0.9707449999999926, kendal = 0.894423513280589\n"
     ]
    },
    {
     "name": "stderr",
     "output_type": "stream",
     "text": [
      "100%|██████████| 4/4 [00:00<00:00,  4.39it/s]\n",
      "  0%|          | 0/313 [00:00<?, ?it/s]"
     ]
    },
    {
     "name": "stdout",
     "output_type": "stream",
     "text": [
      "Valid: loss = 1.0647909184543241e-07, top 1 = 0.94, top 5 = 0.9730000000000003, top 10 = 0.967000000000001, kendal = 0.8937282873593811\n",
      "\n",
      "Epoch: 57\n"
     ]
    },
    {
     "name": "stderr",
     "output_type": "stream",
     "text": [
      "100%|██████████| 313/313 [01:49<00:00,  2.86it/s]\n",
      "100%|██████████| 313/313 [01:33<00:00,  3.36it/s]\n",
      "  0%|          | 0/4 [00:00<?, ?it/s]"
     ]
    },
    {
     "name": "stdout",
     "output_type": "stream",
     "text": [
      "Train: loss = 9.822966904365954e-08, top 1 = 0.97015, top 5 = 0.9753199999999566, top 10 = 0.9706749999999931, kendal = 0.894199623797492\n"
     ]
    },
    {
     "name": "stderr",
     "output_type": "stream",
     "text": [
      "100%|██████████| 4/4 [00:00<00:00,  4.37it/s]\n",
      "  0%|          | 0/313 [00:00<?, ?it/s]"
     ]
    },
    {
     "name": "stdout",
     "output_type": "stream",
     "text": [
      "Valid: loss = 1.2128648394469733e-07, top 1 = 0.94, top 5 = 0.9710000000000002, top 10 = 0.966500000000001, kendal = 0.8934549211817852\n",
      "\n",
      "Epoch: 58\n"
     ]
    },
    {
     "name": "stderr",
     "output_type": "stream",
     "text": [
      "100%|██████████| 313/313 [01:49<00:00,  2.85it/s]\n",
      "100%|██████████| 313/313 [01:32<00:00,  3.37it/s]\n",
      "  0%|          | 0/4 [00:00<?, ?it/s]"
     ]
    },
    {
     "name": "stdout",
     "output_type": "stream",
     "text": [
      "Train: loss = 8.337914031642934e-08, top 1 = 0.97015, top 5 = 0.9754799999999568, top 10 = 0.9707999999999929, kendal = 0.8932681587006674\n"
     ]
    },
    {
     "name": "stderr",
     "output_type": "stream",
     "text": [
      "100%|██████████| 4/4 [00:00<00:00,  4.41it/s]\n",
      "  0%|          | 0/313 [00:00<?, ?it/s]"
     ]
    },
    {
     "name": "stdout",
     "output_type": "stream",
     "text": [
      "Valid: loss = 1.0305621500274602e-07, top 1 = 0.945, top 5 = 0.9740000000000002, top 10 = 0.967500000000001, kendal = 0.8923433635443572\n",
      "\n",
      "Epoch: 59\n"
     ]
    },
    {
     "name": "stderr",
     "output_type": "stream",
     "text": [
      "100%|██████████| 313/313 [01:49<00:00,  2.85it/s]\n",
      "100%|██████████| 313/313 [01:32<00:00,  3.37it/s]\n",
      "  0%|          | 0/4 [00:00<?, ?it/s]"
     ]
    },
    {
     "name": "stdout",
     "output_type": "stream",
     "text": [
      "Train: loss = 8.638126296584482e-08, top 1 = 0.9701, top 5 = 0.9754299999999568, top 10 = 0.9708399999999925, kendal = 0.8939336785501774\n"
     ]
    },
    {
     "name": "stderr",
     "output_type": "stream",
     "text": [
      "100%|██████████| 4/4 [00:00<00:00,  4.68it/s]\n",
      "  0%|          | 0/313 [00:00<?, ?it/s]"
     ]
    },
    {
     "name": "stdout",
     "output_type": "stream",
     "text": [
      "Valid: loss = 1.1132491304970531e-07, top 1 = 0.945, top 5 = 0.9750000000000001, top 10 = 0.967000000000001, kendal = 0.893048891359318\n",
      "\n",
      "Epoch: 60\n"
     ]
    },
    {
     "name": "stderr",
     "output_type": "stream",
     "text": [
      "100%|██████████| 313/313 [01:49<00:00,  2.85it/s]\n",
      "100%|██████████| 313/313 [01:32<00:00,  3.39it/s]\n",
      "  0%|          | 0/4 [00:00<?, ?it/s]"
     ]
    },
    {
     "name": "stdout",
     "output_type": "stream",
     "text": [
      "Train: loss = 8.63265454912507e-08, top 1 = 0.9699, top 5 = 0.9754999999999571, top 10 = 0.9708199999999928, kendal = 0.8932776863282504\n"
     ]
    },
    {
     "name": "stderr",
     "output_type": "stream",
     "text": [
      "100%|██████████| 4/4 [00:00<00:00,  4.32it/s]\n",
      "  0%|          | 0/313 [00:00<?, ?it/s]"
     ]
    },
    {
     "name": "stdout",
     "output_type": "stream",
     "text": [
      "Valid: loss = 1.1071999994307003e-07, top 1 = 0.945, top 5 = 0.9730000000000003, top 10 = 0.967000000000001, kendal = 0.892295123171671\n",
      "\n",
      "Epoch: 61\n"
     ]
    },
    {
     "name": "stderr",
     "output_type": "stream",
     "text": [
      "100%|██████████| 313/313 [01:50<00:00,  2.84it/s]\n",
      "100%|██████████| 313/313 [01:32<00:00,  3.38it/s]\n",
      "  0%|          | 0/4 [00:00<?, ?it/s]"
     ]
    },
    {
     "name": "stdout",
     "output_type": "stream",
     "text": [
      "Train: loss = 8.362843968126872e-08, top 1 = 0.97005, top 5 = 0.9757499999999573, top 10 = 0.9709099999999926, kendal = 0.8941846366441252\n"
     ]
    },
    {
     "name": "stderr",
     "output_type": "stream",
     "text": [
      "100%|██████████| 4/4 [00:00<00:00,  4.30it/s]\n",
      "  0%|          | 0/313 [00:00<?, ?it/s]"
     ]
    },
    {
     "name": "stdout",
     "output_type": "stream",
     "text": [
      "Valid: loss = 1.0250113170881866e-07, top 1 = 0.94, top 5 = 0.9730000000000003, top 10 = 0.967000000000001, kendal = 0.8934086913391539\n",
      "\n",
      "Epoch: 62\n"
     ]
    },
    {
     "name": "stderr",
     "output_type": "stream",
     "text": [
      "100%|██████████| 313/313 [01:50<00:00,  2.83it/s]\n",
      "100%|██████████| 313/313 [01:31<00:00,  3.40it/s]\n",
      "  0%|          | 0/4 [00:00<?, ?it/s]"
     ]
    },
    {
     "name": "stdout",
     "output_type": "stream",
     "text": [
      "Train: loss = 8.696763847414936e-08, top 1 = 0.97045, top 5 = 0.9757099999999569, top 10 = 0.9709699999999928, kendal = 0.8956054530371644\n"
     ]
    },
    {
     "name": "stderr",
     "output_type": "stream",
     "text": [
      "100%|██████████| 4/4 [00:00<00:00,  4.41it/s]\n",
      "  0%|          | 0/313 [00:00<?, ?it/s]"
     ]
    },
    {
     "name": "stdout",
     "output_type": "stream",
     "text": [
      "Valid: loss = 1.121247371254347e-07, top 1 = 0.945, top 5 = 0.9730000000000003, top 10 = 0.967000000000001, kendal = 0.8949031638524795\n",
      "\n",
      "Epoch: 63\n"
     ]
    },
    {
     "name": "stderr",
     "output_type": "stream",
     "text": [
      "100%|██████████| 313/313 [01:50<00:00,  2.83it/s]\n",
      "100%|██████████| 313/313 [01:32<00:00,  3.40it/s]\n",
      "  0%|          | 0/4 [00:00<?, ?it/s]"
     ]
    },
    {
     "name": "stdout",
     "output_type": "stream",
     "text": [
      "Train: loss = 8.073019645089491e-08, top 1 = 0.9702, top 5 = 0.975829999999957, top 10 = 0.9709049999999925, kendal = 0.8949204558153635\n"
     ]
    },
    {
     "name": "stderr",
     "output_type": "stream",
     "text": [
      "100%|██████████| 4/4 [00:00<00:00,  4.61it/s]\n",
      "  0%|          | 0/313 [00:00<?, ?it/s]"
     ]
    },
    {
     "name": "stdout",
     "output_type": "stream",
     "text": [
      "Valid: loss = 1.0019734351421711e-07, top 1 = 0.94, top 5 = 0.9720000000000002, top 10 = 0.967000000000001, kendal = 0.8942850740062864\n",
      "\n",
      "Epoch: 64\n"
     ]
    },
    {
     "name": "stderr",
     "output_type": "stream",
     "text": [
      "100%|██████████| 313/313 [01:50<00:00,  2.83it/s]\n",
      "100%|██████████| 313/313 [01:31<00:00,  3.41it/s]\n",
      "  0%|          | 0/4 [00:00<?, ?it/s]"
     ]
    },
    {
     "name": "stdout",
     "output_type": "stream",
     "text": [
      "Train: loss = 9.219944032631301e-08, top 1 = 0.97035, top 5 = 0.9755599999999571, top 10 = 0.9707699999999934, kendal = 0.8952631840103841\n"
     ]
    },
    {
     "name": "stderr",
     "output_type": "stream",
     "text": [
      "100%|██████████| 4/4 [00:00<00:00,  4.67it/s]\n",
      "  0%|          | 0/313 [00:00<?, ?it/s]"
     ]
    },
    {
     "name": "stdout",
     "output_type": "stream",
     "text": [
      "Valid: loss = 1.1855434803586689e-07, top 1 = 0.945, top 5 = 0.9740000000000002, top 10 = 0.9655000000000011, kendal = 0.8945333152375692\n",
      "\n",
      "Epoch: 65\n"
     ]
    },
    {
     "name": "stderr",
     "output_type": "stream",
     "text": [
      "100%|██████████| 313/313 [01:50<00:00,  2.82it/s]\n",
      "100%|██████████| 313/313 [01:31<00:00,  3.41it/s]\n",
      "  0%|          | 0/4 [00:00<?, ?it/s]"
     ]
    },
    {
     "name": "stdout",
     "output_type": "stream",
     "text": [
      "Train: loss = 9.293798820820152e-08, top 1 = 0.9703, top 5 = 0.9758299999999573, top 10 = 0.9709249999999925, kendal = 0.8945030029856628\n"
     ]
    },
    {
     "name": "stderr",
     "output_type": "stream",
     "text": [
      "100%|██████████| 4/4 [00:00<00:00,  4.32it/s]\n",
      "  0%|          | 0/313 [00:00<?, ?it/s]"
     ]
    },
    {
     "name": "stdout",
     "output_type": "stream",
     "text": [
      "Valid: loss = 1.1834847909347269e-07, top 1 = 0.94, top 5 = 0.9750000000000001, top 10 = 0.9660000000000011, kendal = 0.8937895975789598\n",
      "\n",
      "Epoch: 66\n"
     ]
    },
    {
     "name": "stderr",
     "output_type": "stream",
     "text": [
      "100%|██████████| 313/313 [01:50<00:00,  2.83it/s]\n",
      "100%|██████████| 313/313 [01:31<00:00,  3.41it/s]\n",
      "  0%|          | 0/4 [00:00<?, ?it/s]"
     ]
    },
    {
     "name": "stdout",
     "output_type": "stream",
     "text": [
      "Train: loss = 9.80086889020957e-08, top 1 = 0.9704, top 5 = 0.9758999999999572, top 10 = 0.9708449999999927, kendal = 0.8957986312518691\n"
     ]
    },
    {
     "name": "stderr",
     "output_type": "stream",
     "text": [
      "100%|██████████| 4/4 [00:00<00:00,  4.34it/s]\n",
      "  0%|          | 0/313 [00:00<?, ?it/s]"
     ]
    },
    {
     "name": "stdout",
     "output_type": "stream",
     "text": [
      "Valid: loss = 1.218876276042669e-07, top 1 = 0.945, top 5 = 0.9740000000000002, top 10 = 0.9655000000000009, kendal = 0.8948569339088371\n",
      "\n",
      "Epoch: 67\n"
     ]
    },
    {
     "name": "stderr",
     "output_type": "stream",
     "text": [
      "100%|██████████| 313/313 [01:51<00:00,  2.82it/s]\n",
      "100%|██████████| 313/313 [01:31<00:00,  3.42it/s]\n",
      "  0%|          | 0/4 [00:00<?, ?it/s]"
     ]
    },
    {
     "name": "stdout",
     "output_type": "stream",
     "text": [
      "Train: loss = 8.564299678559834e-08, top 1 = 0.9705, top 5 = 0.9758799999999576, top 10 = 0.9709449999999926, kendal = 0.8960551013223085\n"
     ]
    },
    {
     "name": "stderr",
     "output_type": "stream",
     "text": [
      "100%|██████████| 4/4 [00:00<00:00,  4.36it/s]\n",
      "  0%|          | 0/313 [00:00<?, ?it/s]"
     ]
    },
    {
     "name": "stdout",
     "output_type": "stream",
     "text": [
      "Valid: loss = 1.0665550176699948e-07, top 1 = 0.94, top 5 = 0.9740000000000002, top 10 = 0.9655000000000011, kendal = 0.8953222610218069\n",
      "\n",
      "Epoch: 68\n"
     ]
    },
    {
     "name": "stderr",
     "output_type": "stream",
     "text": [
      "100%|██████████| 313/313 [01:51<00:00,  2.81it/s]\n",
      "100%|██████████| 313/313 [01:30<00:00,  3.44it/s]\n",
      "  0%|          | 0/4 [00:00<?, ?it/s]"
     ]
    },
    {
     "name": "stdout",
     "output_type": "stream",
     "text": [
      "Train: loss = 8.155512692945887e-08, top 1 = 0.97025, top 5 = 0.9758699999999573, top 10 = 0.9710799999999931, kendal = 0.8961799154027608\n"
     ]
    },
    {
     "name": "stderr",
     "output_type": "stream",
     "text": [
      "100%|██████████| 4/4 [00:00<00:00,  4.44it/s]\n",
      "  0%|          | 0/313 [00:00<?, ?it/s]"
     ]
    },
    {
     "name": "stdout",
     "output_type": "stream",
     "text": [
      "Valid: loss = 1.0333289254618391e-07, top 1 = 0.94, top 5 = 0.9740000000000002, top 10 = 0.967000000000001, kendal = 0.8953906032859122\n",
      "\n",
      "Epoch: 69\n"
     ]
    },
    {
     "name": "stderr",
     "output_type": "stream",
     "text": [
      "100%|██████████| 313/313 [01:51<00:00,  2.81it/s]\n",
      "100%|██████████| 313/313 [01:31<00:00,  3.44it/s]\n",
      "  0%|          | 0/4 [00:00<?, ?it/s]"
     ]
    },
    {
     "name": "stdout",
     "output_type": "stream",
     "text": [
      "Train: loss = 1.0758289779351025e-07, top 1 = 0.9703, top 5 = 0.9758699999999575, top 10 = 0.9709049999999936, kendal = 0.8953508176632973\n"
     ]
    },
    {
     "name": "stderr",
     "output_type": "stream",
     "text": [
      "100%|██████████| 4/4 [00:00<00:00,  4.66it/s]\n",
      "  0%|          | 0/313 [00:00<?, ?it/s]"
     ]
    },
    {
     "name": "stdout",
     "output_type": "stream",
     "text": [
      "Valid: loss = 1.3068479889749037e-07, top 1 = 0.945, top 5 = 0.9740000000000002, top 10 = 0.9660000000000011, kendal = 0.8946438708802127\n",
      "\n",
      "Epoch: 70\n"
     ]
    },
    {
     "name": "stderr",
     "output_type": "stream",
     "text": [
      "100%|██████████| 313/313 [01:51<00:00,  2.80it/s]\n",
      "100%|██████████| 313/313 [01:31<00:00,  3.43it/s]\n",
      "  0%|          | 0/4 [00:00<?, ?it/s]"
     ]
    },
    {
     "name": "stdout",
     "output_type": "stream",
     "text": [
      "Train: loss = 8.697690622413629e-08, top 1 = 0.9705, top 5 = 0.9759399999999576, top 10 = 0.9710749999999932, kendal = 0.8960617701632131\n"
     ]
    },
    {
     "name": "stderr",
     "output_type": "stream",
     "text": [
      "100%|██████████| 4/4 [00:00<00:00,  4.41it/s]\n",
      "  0%|          | 0/313 [00:00<?, ?it/s]"
     ]
    },
    {
     "name": "stdout",
     "output_type": "stream",
     "text": [
      "Valid: loss = 1.0771289964520743e-07, top 1 = 0.945, top 5 = 0.9720000000000003, top 10 = 0.9655000000000011, kendal = 0.8953041718321879\n",
      "\n",
      "Epoch: 71\n"
     ]
    },
    {
     "name": "stderr",
     "output_type": "stream",
     "text": [
      "100%|██████████| 313/313 [01:52<00:00,  2.79it/s]\n",
      "100%|██████████| 313/313 [01:30<00:00,  3.45it/s]\n",
      "  0%|          | 0/4 [00:00<?, ?it/s]"
     ]
    },
    {
     "name": "stdout",
     "output_type": "stream",
     "text": [
      "Train: loss = 9.219214956918312e-08, top 1 = 0.97055, top 5 = 0.9759799999999573, top 10 = 0.9710049999999933, kendal = 0.896596631335463\n"
     ]
    },
    {
     "name": "stderr",
     "output_type": "stream",
     "text": [
      "100%|██████████| 4/4 [00:00<00:00,  4.20it/s]\n",
      "  0%|          | 0/313 [00:00<?, ?it/s]"
     ]
    },
    {
     "name": "stdout",
     "output_type": "stream",
     "text": [
      "Valid: loss = 1.1117805893082804e-07, top 1 = 0.94, top 5 = 0.9740000000000002, top 10 = 0.9660000000000011, kendal = 0.8957574380880869\n",
      "\n",
      "Epoch: 72\n"
     ]
    },
    {
     "name": "stderr",
     "output_type": "stream",
     "text": [
      "100%|██████████| 313/313 [01:52<00:00,  2.79it/s]\n",
      "100%|██████████| 313/313 [01:30<00:00,  3.46it/s]\n",
      "  0%|          | 0/4 [00:00<?, ?it/s]"
     ]
    },
    {
     "name": "stdout",
     "output_type": "stream",
     "text": [
      "Train: loss = 8.659392743494312e-08, top 1 = 0.9704, top 5 = 0.9759299999999573, top 10 = 0.9711899999999927, kendal = 0.8962966559027951\n"
     ]
    },
    {
     "name": "stderr",
     "output_type": "stream",
     "text": [
      "100%|██████████| 4/4 [00:00<00:00,  4.43it/s]\n",
      "  0%|          | 0/313 [00:00<?, ?it/s]"
     ]
    },
    {
     "name": "stdout",
     "output_type": "stream",
     "text": [
      "Valid: loss = 1.0820081233604907e-07, top 1 = 0.945, top 5 = 0.9740000000000002, top 10 = 0.9655000000000011, kendal = 0.8955433675090534\n",
      "\n",
      "Epoch: 73\n"
     ]
    },
    {
     "name": "stderr",
     "output_type": "stream",
     "text": [
      "100%|██████████| 313/313 [01:52<00:00,  2.79it/s]\n",
      "100%|██████████| 313/313 [01:30<00:00,  3.46it/s]\n",
      "  0%|          | 0/4 [00:00<?, ?it/s]"
     ]
    },
    {
     "name": "stdout",
     "output_type": "stream",
     "text": [
      "Train: loss = 8.49344303170811e-08, top 1 = 0.97065, top 5 = 0.9760599999999573, top 10 = 0.9712149999999925, kendal = 0.8970776216899603\n"
     ]
    },
    {
     "name": "stderr",
     "output_type": "stream",
     "text": [
      "100%|██████████| 4/4 [00:00<00:00,  4.41it/s]\n",
      "  0%|          | 0/313 [00:00<?, ?it/s]"
     ]
    },
    {
     "name": "stdout",
     "output_type": "stream",
     "text": [
      "Valid: loss = 1.077793818600027e-07, top 1 = 0.94, top 5 = 0.9750000000000001, top 10 = 0.967000000000001, kendal = 0.8961845738169852\n",
      "\n",
      "Epoch: 74\n"
     ]
    },
    {
     "name": "stderr",
     "output_type": "stream",
     "text": [
      "100%|██████████| 313/313 [01:52<00:00,  2.79it/s]\n",
      "100%|██████████| 313/313 [01:30<00:00,  3.46it/s]\n",
      "  0%|          | 0/4 [00:00<?, ?it/s]"
     ]
    },
    {
     "name": "stdout",
     "output_type": "stream",
     "text": [
      "Train: loss = 8.762046252399407e-08, top 1 = 0.97055, top 5 = 0.9760299999999575, top 10 = 0.9712099999999928, kendal = 0.8968687518960494\n"
     ]
    },
    {
     "name": "stderr",
     "output_type": "stream",
     "text": [
      "100%|██████████| 4/4 [00:00<00:00,  4.40it/s]\n",
      "  0%|          | 0/313 [00:00<?, ?it/s]"
     ]
    },
    {
     "name": "stdout",
     "output_type": "stream",
     "text": [
      "Valid: loss = 1.1035170783240316e-07, top 1 = 0.95, top 5 = 0.9740000000000002, top 10 = 0.9660000000000011, kendal = 0.8959745236919932\n",
      "\n",
      "Epoch: 75\n"
     ]
    },
    {
     "name": "stderr",
     "output_type": "stream",
     "text": [
      "100%|██████████| 313/313 [01:52<00:00,  2.78it/s]\n",
      "100%|██████████| 313/313 [01:30<00:00,  3.46it/s]\n",
      "  0%|          | 0/4 [00:00<?, ?it/s]"
     ]
    },
    {
     "name": "stdout",
     "output_type": "stream",
     "text": [
      "Train: loss = 9.79491013258711e-08, top 1 = 0.97075, top 5 = 0.9760799999999575, top 10 = 0.9710849999999931, kendal = 0.8969475358613538\n"
     ]
    },
    {
     "name": "stderr",
     "output_type": "stream",
     "text": [
      "100%|██████████| 4/4 [00:00<00:00,  4.66it/s]\n",
      "  0%|          | 0/313 [00:00<?, ?it/s]"
     ]
    },
    {
     "name": "stdout",
     "output_type": "stream",
     "text": [
      "Valid: loss = 1.2025051075787453e-07, top 1 = 0.94, top 5 = 0.9730000000000003, top 10 = 0.9660000000000011, kendal = 0.8959755280605444\n",
      "\n",
      "Epoch: 76\n"
     ]
    },
    {
     "name": "stderr",
     "output_type": "stream",
     "text": [
      "100%|██████████| 313/313 [01:52<00:00,  2.78it/s]\n",
      "100%|██████████| 313/313 [01:30<00:00,  3.47it/s]\n",
      "  0%|          | 0/4 [00:00<?, ?it/s]"
     ]
    },
    {
     "name": "stdout",
     "output_type": "stream",
     "text": [
      "Train: loss = 7.988246273614791e-08, top 1 = 0.97075, top 5 = 0.9759099999999573, top 10 = 0.9714249999999933, kendal = 0.8967688834722025\n"
     ]
    },
    {
     "name": "stderr",
     "output_type": "stream",
     "text": [
      "100%|██████████| 4/4 [00:00<00:00,  4.38it/s]\n",
      "  0%|          | 0/313 [00:00<?, ?it/s]"
     ]
    },
    {
     "name": "stdout",
     "output_type": "stream",
     "text": [
      "Valid: loss = 1.0031273935681821e-07, top 1 = 0.94, top 5 = 0.9740000000000002, top 10 = 0.968000000000001, kendal = 0.8958096999249294\n",
      "\n",
      "Epoch: 77\n"
     ]
    },
    {
     "name": "stderr",
     "output_type": "stream",
     "text": [
      "100%|██████████| 313/313 [01:52<00:00,  2.78it/s]\n",
      "100%|██████████| 313/313 [01:30<00:00,  3.47it/s]\n",
      "  0%|          | 0/4 [00:00<?, ?it/s]"
     ]
    },
    {
     "name": "stdout",
     "output_type": "stream",
     "text": [
      "Train: loss = 8.125175798976591e-08, top 1 = 0.97085, top 5 = 0.9762199999999579, top 10 = 0.9713549999999926, kendal = 0.896738219234758\n"
     ]
    },
    {
     "name": "stderr",
     "output_type": "stream",
     "text": [
      "100%|██████████| 4/4 [00:00<00:00,  4.37it/s]\n",
      "  0%|          | 0/313 [00:00<?, ?it/s]"
     ]
    },
    {
     "name": "stdout",
     "output_type": "stream",
     "text": [
      "Valid: loss = 9.861160268652355e-08, top 1 = 0.945, top 5 = 0.9730000000000003, top 10 = 0.967500000000001, kendal = 0.8958378410072396\n",
      "\n",
      "Epoch: 78\n"
     ]
    },
    {
     "name": "stderr",
     "output_type": "stream",
     "text": [
      "100%|██████████| 313/313 [01:53<00:00,  2.77it/s]\n",
      "100%|██████████| 313/313 [01:29<00:00,  3.49it/s]\n",
      "  0%|          | 0/4 [00:00<?, ?it/s]"
     ]
    },
    {
     "name": "stdout",
     "output_type": "stream",
     "text": [
      "Train: loss = 8.215534532708359e-08, top 1 = 0.97105, top 5 = 0.976249999999958, top 10 = 0.9713749999999932, kendal = 0.8973119913215191\n"
     ]
    },
    {
     "name": "stderr",
     "output_type": "stream",
     "text": [
      "100%|██████████| 4/4 [00:00<00:00,  4.34it/s]\n",
      "  0%|          | 0/313 [00:00<?, ?it/s]"
     ]
    },
    {
     "name": "stdout",
     "output_type": "stream",
     "text": [
      "Valid: loss = 1.0277022533038622e-07, top 1 = 0.945, top 5 = 0.9730000000000003, top 10 = 0.9695000000000009, kendal = 0.8963453781906252\n",
      "\n",
      "Epoch: 79\n"
     ]
    },
    {
     "name": "stderr",
     "output_type": "stream",
     "text": [
      "100%|██████████| 313/313 [01:53<00:00,  2.76it/s]\n",
      "100%|██████████| 313/313 [01:29<00:00,  3.49it/s]\n",
      "  0%|          | 0/4 [00:00<?, ?it/s]"
     ]
    },
    {
     "name": "stdout",
     "output_type": "stream",
     "text": [
      "Train: loss = 8.824500189437686e-08, top 1 = 0.97095, top 5 = 0.9763099999999578, top 10 = 0.9713449999999936, kendal = 0.8974858451924185\n"
     ]
    },
    {
     "name": "stderr",
     "output_type": "stream",
     "text": [
      "100%|██████████| 4/4 [00:00<00:00,  4.42it/s]\n",
      "  0%|          | 0/313 [00:00<?, ?it/s]"
     ]
    },
    {
     "name": "stdout",
     "output_type": "stream",
     "text": [
      "Valid: loss = 1.1087835016512531e-07, top 1 = 0.945, top 5 = 0.9720000000000003, top 10 = 0.9690000000000009, kendal = 0.8965664841728141\n",
      "\n",
      "Epoch: 80\n"
     ]
    },
    {
     "name": "stderr",
     "output_type": "stream",
     "text": [
      "100%|██████████| 313/313 [01:52<00:00,  2.77it/s]\n",
      "100%|██████████| 313/313 [01:29<00:00,  3.50it/s]\n",
      "  0%|          | 0/4 [00:00<?, ?it/s]"
     ]
    },
    {
     "name": "stdout",
     "output_type": "stream",
     "text": [
      "Train: loss = 9.554541364057031e-08, top 1 = 0.9708, top 5 = 0.9760799999999579, top 10 = 0.9712849999999936, kendal = 0.8975024559267256\n"
     ]
    },
    {
     "name": "stderr",
     "output_type": "stream",
     "text": [
      "100%|██████████| 4/4 [00:00<00:00,  4.42it/s]\n",
      "  0%|          | 0/313 [00:00<?, ?it/s]"
     ]
    },
    {
     "name": "stdout",
     "output_type": "stream",
     "text": [
      "Valid: loss = 1.1664333919558324e-07, top 1 = 0.94, top 5 = 0.9740000000000002, top 10 = 0.967000000000001, kendal = 0.8963493992759891\n",
      "\n",
      "Epoch: 81\n"
     ]
    },
    {
     "name": "stderr",
     "output_type": "stream",
     "text": [
      "100%|██████████| 313/313 [01:52<00:00,  2.77it/s]\n",
      "100%|██████████| 313/313 [01:29<00:00,  3.49it/s]\n",
      "  0%|          | 0/4 [00:00<?, ?it/s]"
     ]
    },
    {
     "name": "stdout",
     "output_type": "stream",
     "text": [
      "Train: loss = 9.364022360036924e-08, top 1 = 0.9709, top 5 = 0.9762399999999579, top 10 = 0.971254999999993, kendal = 0.8973684760822782\n"
     ]
    },
    {
     "name": "stderr",
     "output_type": "stream",
     "text": [
      "100%|██████████| 4/4 [00:00<00:00,  4.42it/s]\n",
      "  0%|          | 0/313 [00:00<?, ?it/s]"
     ]
    },
    {
     "name": "stdout",
     "output_type": "stream",
     "text": [
      "Valid: loss = 1.2075357696514578e-07, top 1 = 0.945, top 5 = 0.9740000000000002, top 10 = 0.967000000000001, kendal = 0.8963865843722929\n",
      "\n",
      "Epoch: 82\n"
     ]
    },
    {
     "name": "stderr",
     "output_type": "stream",
     "text": [
      "100%|██████████| 313/313 [01:52<00:00,  2.77it/s]\n",
      "100%|██████████| 313/313 [01:29<00:00,  3.50it/s]\n",
      "  0%|          | 0/4 [00:00<?, ?it/s]"
     ]
    },
    {
     "name": "stdout",
     "output_type": "stream",
     "text": [
      "Train: loss = 8.180414868038075e-08, top 1 = 0.97075, top 5 = 0.9762599999999578, top 10 = 0.9712599999999935, kendal = 0.8970941722831167\n"
     ]
    },
    {
     "name": "stderr",
     "output_type": "stream",
     "text": [
      "100%|██████████| 4/4 [00:00<00:00,  4.32it/s]\n",
      "  0%|          | 0/313 [00:00<?, ?it/s]"
     ]
    },
    {
     "name": "stdout",
     "output_type": "stream",
     "text": [
      "Valid: loss = 1.0132207266992075e-07, top 1 = 0.945, top 5 = 0.9740000000000002, top 10 = 0.9660000000000011, kendal = 0.8959755290201522\n",
      "\n",
      "Epoch: 83\n"
     ]
    },
    {
     "name": "stderr",
     "output_type": "stream",
     "text": [
      "100%|██████████| 313/313 [01:52<00:00,  2.77it/s]\n",
      "100%|██████████| 313/313 [01:29<00:00,  3.50it/s]\n",
      "  0%|          | 0/4 [00:00<?, ?it/s]"
     ]
    },
    {
     "name": "stdout",
     "output_type": "stream",
     "text": [
      "Train: loss = 9.144507560492057e-08, top 1 = 0.9707, top 5 = 0.9761399999999582, top 10 = 0.9714149999999934, kendal = 0.8977628570323248\n"
     ]
    },
    {
     "name": "stderr",
     "output_type": "stream",
     "text": [
      "100%|██████████| 4/4 [00:00<00:00,  4.43it/s]\n",
      "  0%|          | 0/313 [00:00<?, ?it/s]"
     ]
    },
    {
     "name": "stdout",
     "output_type": "stream",
     "text": [
      "Valid: loss = 1.123338413765663e-07, top 1 = 0.945, top 5 = 0.9740000000000002, top 10 = 0.966500000000001, kendal = 0.8967031677414171\n",
      "\n",
      "Epoch: 84\n"
     ]
    },
    {
     "name": "stderr",
     "output_type": "stream",
     "text": [
      "100%|██████████| 313/313 [01:53<00:00,  2.76it/s]\n",
      "100%|██████████| 313/313 [01:29<00:00,  3.49it/s]\n",
      "  0%|          | 0/4 [00:00<?, ?it/s]"
     ]
    },
    {
     "name": "stdout",
     "output_type": "stream",
     "text": [
      "Train: loss = 9.751650690823337e-08, top 1 = 0.97145, top 5 = 0.9761199999999579, top 10 = 0.9713249999999931, kendal = 0.8974573380703392\n"
     ]
    },
    {
     "name": "stderr",
     "output_type": "stream",
     "text": [
      "100%|██████████| 4/4 [00:00<00:00,  4.69it/s]\n",
      "  0%|          | 0/313 [00:00<?, ?it/s]"
     ]
    },
    {
     "name": "stdout",
     "output_type": "stream",
     "text": [
      "Valid: loss = 1.1932771196881954e-07, top 1 = 0.945, top 5 = 0.9740000000000002, top 10 = 0.968000000000001, kendal = 0.8964539217880422\n",
      "\n",
      "Epoch: 85\n"
     ]
    },
    {
     "name": "stderr",
     "output_type": "stream",
     "text": [
      "100%|██████████| 313/313 [01:53<00:00,  2.76it/s]\n",
      "100%|██████████| 313/313 [01:29<00:00,  3.51it/s]\n",
      "  0%|          | 0/4 [00:00<?, ?it/s]"
     ]
    },
    {
     "name": "stdout",
     "output_type": "stream",
     "text": [
      "Train: loss = 1.0169948799120004e-07, top 1 = 0.97165, top 5 = 0.976249999999958, top 10 = 0.9714649999999927, kendal = 0.8979716395872207\n"
     ]
    },
    {
     "name": "stderr",
     "output_type": "stream",
     "text": [
      "100%|██████████| 4/4 [00:00<00:00,  4.45it/s]\n",
      "  0%|          | 0/313 [00:00<?, ?it/s]"
     ]
    },
    {
     "name": "stdout",
     "output_type": "stream",
     "text": [
      "Valid: loss = 1.242437001106939e-07, top 1 = 0.945, top 5 = 0.9740000000000002, top 10 = 0.967000000000001, kendal = 0.8969313091267608\n",
      "\n",
      "Epoch: 86\n"
     ]
    },
    {
     "name": "stderr",
     "output_type": "stream",
     "text": [
      "100%|██████████| 313/313 [01:53<00:00,  2.75it/s]\n",
      "100%|██████████| 313/313 [01:29<00:00,  3.50it/s]\n",
      "  0%|          | 0/4 [00:00<?, ?it/s]"
     ]
    },
    {
     "name": "stdout",
     "output_type": "stream",
     "text": [
      "Train: loss = 8.294893311277256e-08, top 1 = 0.9711, top 5 = 0.9764399999999583, top 10 = 0.9716549999999936, kendal = 0.8979838963799494\n"
     ]
    },
    {
     "name": "stderr",
     "output_type": "stream",
     "text": [
      "100%|██████████| 4/4 [00:00<00:00,  4.70it/s]\n",
      "  0%|          | 0/313 [00:00<?, ?it/s]"
     ]
    },
    {
     "name": "stdout",
     "output_type": "stream",
     "text": [
      "Valid: loss = 1.0662931534449185e-07, top 1 = 0.945, top 5 = 0.9740000000000002, top 10 = 0.967500000000001, kendal = 0.8968619621405642\n",
      "\n",
      "Epoch: 87\n"
     ]
    },
    {
     "name": "stderr",
     "output_type": "stream",
     "text": [
      "100%|██████████| 313/313 [01:53<00:00,  2.75it/s]\n",
      "100%|██████████| 313/313 [01:29<00:00,  3.51it/s]\n",
      "  0%|          | 0/4 [00:00<?, ?it/s]"
     ]
    },
    {
     "name": "stdout",
     "output_type": "stream",
     "text": [
      "Train: loss = 9.559046896590248e-08, top 1 = 0.9715, top 5 = 0.9763199999999579, top 10 = 0.971494999999993, kendal = 0.8979052343646777\n"
     ]
    },
    {
     "name": "stderr",
     "output_type": "stream",
     "text": [
      "100%|██████████| 4/4 [00:00<00:00,  4.41it/s]\n",
      "  0%|          | 0/313 [00:00<?, ?it/s]"
     ]
    },
    {
     "name": "stdout",
     "output_type": "stream",
     "text": [
      "Valid: loss = 1.1705773775160972e-07, top 1 = 0.945, top 5 = 0.9740000000000002, top 10 = 0.9670000000000012, kendal = 0.8968227665142049\n",
      "\n",
      "Epoch: 88\n"
     ]
    },
    {
     "name": "stderr",
     "output_type": "stream",
     "text": [
      "100%|██████████| 313/313 [01:53<00:00,  2.76it/s]\n",
      "100%|██████████| 313/313 [01:29<00:00,  3.51it/s]\n",
      "  0%|          | 0/4 [00:00<?, ?it/s]"
     ]
    },
    {
     "name": "stdout",
     "output_type": "stream",
     "text": [
      "Train: loss = 9.078341910812894e-08, top 1 = 0.97165, top 5 = 0.976299999999958, top 10 = 0.971419999999993, kendal = 0.8978023376064952\n"
     ]
    },
    {
     "name": "stderr",
     "output_type": "stream",
     "text": [
      "100%|██████████| 4/4 [00:00<00:00,  4.69it/s]\n",
      "  0%|          | 0/313 [00:00<?, ?it/s]"
     ]
    },
    {
     "name": "stdout",
     "output_type": "stream",
     "text": [
      "Valid: loss = 1.1147620046795804e-07, top 1 = 0.945, top 5 = 0.9740000000000002, top 10 = 0.967000000000001, kendal = 0.8969051786250118\n",
      "\n",
      "Epoch: 89\n"
     ]
    },
    {
     "name": "stderr",
     "output_type": "stream",
     "text": [
      "100%|██████████| 313/313 [01:53<00:00,  2.75it/s]\n",
      "100%|██████████| 313/313 [01:28<00:00,  3.52it/s]\n",
      "  0%|          | 0/4 [00:00<?, ?it/s]"
     ]
    },
    {
     "name": "stdout",
     "output_type": "stream",
     "text": [
      "Train: loss = 9.138808206122642e-08, top 1 = 0.9713, top 5 = 0.9763199999999582, top 10 = 0.9715249999999939, kendal = 0.8977429026854324\n"
     ]
    },
    {
     "name": "stderr",
     "output_type": "stream",
     "text": [
      "100%|██████████| 4/4 [00:00<00:00,  4.42it/s]\n",
      "  0%|          | 0/313 [00:00<?, ?it/s]"
     ]
    },
    {
     "name": "stdout",
     "output_type": "stream",
     "text": [
      "Valid: loss = 1.111664393047077e-07, top 1 = 0.945, top 5 = 0.9750000000000003, top 10 = 0.9675000000000011, kendal = 0.8968006561129581\n",
      "\n",
      "Epoch: 90\n"
     ]
    },
    {
     "name": "stderr",
     "output_type": "stream",
     "text": [
      "100%|██████████| 313/313 [01:53<00:00,  2.75it/s]\n",
      "100%|██████████| 313/313 [01:29<00:00,  3.51it/s]\n",
      "  0%|          | 0/4 [00:00<?, ?it/s]"
     ]
    },
    {
     "name": "stdout",
     "output_type": "stream",
     "text": [
      "Train: loss = 9.513745383924453e-08, top 1 = 0.97155, top 5 = 0.976379999999958, top 10 = 0.9715849999999933, kendal = 0.8980855637613928\n"
     ]
    },
    {
     "name": "stderr",
     "output_type": "stream",
     "text": [
      "100%|██████████| 4/4 [00:00<00:00,  4.42it/s]\n",
      "  0%|          | 0/313 [00:00<?, ?it/s]"
     ]
    },
    {
     "name": "stdout",
     "output_type": "stream",
     "text": [
      "Valid: loss = 1.1142929360250858e-07, top 1 = 0.945, top 5 = 0.9750000000000003, top 10 = 0.967500000000001, kendal = 0.8970509065611482\n",
      "\n",
      "Epoch: 91\n"
     ]
    },
    {
     "name": "stderr",
     "output_type": "stream",
     "text": [
      "100%|██████████| 313/313 [01:53<00:00,  2.75it/s]\n",
      "100%|██████████| 313/313 [01:28<00:00,  3.53it/s]\n",
      "  0%|          | 0/4 [00:00<?, ?it/s]"
     ]
    },
    {
     "name": "stdout",
     "output_type": "stream",
     "text": [
      "Train: loss = 8.626942217803669e-08, top 1 = 0.97175, top 5 = 0.9763799999999581, top 10 = 0.9715599999999935, kendal = 0.8969461174276486\n"
     ]
    },
    {
     "name": "stderr",
     "output_type": "stream",
     "text": [
      "100%|██████████| 4/4 [00:00<00:00,  4.59it/s]\n",
      "  0%|          | 0/313 [00:00<?, ?it/s]"
     ]
    },
    {
     "name": "stdout",
     "output_type": "stream",
     "text": [
      "Valid: loss = 1.0260914286564261e-07, top 1 = 0.94, top 5 = 0.9740000000000002, top 10 = 0.9675000000000011, kendal = 0.8959473886449216\n",
      "\n",
      "Epoch: 92\n"
     ]
    },
    {
     "name": "stderr",
     "output_type": "stream",
     "text": [
      "100%|██████████| 313/313 [01:53<00:00,  2.75it/s]\n",
      "100%|██████████| 313/313 [01:29<00:00,  3.51it/s]\n",
      "  0%|          | 0/4 [00:00<?, ?it/s]"
     ]
    },
    {
     "name": "stdout",
     "output_type": "stream",
     "text": [
      "Train: loss = 8.686261929530334e-08, top 1 = 0.9718, top 5 = 0.9764599999999586, top 10 = 0.971654999999993, kendal = 0.8976484636863544\n"
     ]
    },
    {
     "name": "stderr",
     "output_type": "stream",
     "text": [
      "100%|██████████| 4/4 [00:00<00:00,  4.42it/s]\n",
      "  0%|          | 0/313 [00:00<?, ?it/s]"
     ]
    },
    {
     "name": "stdout",
     "output_type": "stream",
     "text": [
      "Valid: loss = 1.0800520368327682e-07, top 1 = 0.945, top 5 = 0.9750000000000003, top 10 = 0.9680000000000011, kendal = 0.8966368365629295\n",
      "\n",
      "Epoch: 93\n"
     ]
    },
    {
     "name": "stderr",
     "output_type": "stream",
     "text": [
      "100%|██████████| 313/313 [01:54<00:00,  2.74it/s]\n",
      "100%|██████████| 313/313 [01:28<00:00,  3.53it/s]\n",
      "  0%|          | 0/4 [00:00<?, ?it/s]"
     ]
    },
    {
     "name": "stdout",
     "output_type": "stream",
     "text": [
      "Train: loss = 9.447127797673301e-08, top 1 = 0.97165, top 5 = 0.9763699999999584, top 10 = 0.9716499999999937, kendal = 0.8981502293016752\n"
     ]
    },
    {
     "name": "stderr",
     "output_type": "stream",
     "text": [
      "100%|██████████| 4/4 [00:00<00:00,  4.69it/s]\n",
      "  0%|          | 0/313 [00:00<?, ?it/s]"
     ]
    },
    {
     "name": "stdout",
     "output_type": "stream",
     "text": [
      "Valid: loss = 1.141566222958733e-07, top 1 = 0.945, top 5 = 0.9750000000000003, top 10 = 0.9675000000000011, kendal = 0.897084072769087\n",
      "\n",
      "Epoch: 94\n"
     ]
    },
    {
     "name": "stderr",
     "output_type": "stream",
     "text": [
      "100%|██████████| 313/313 [01:53<00:00,  2.75it/s]\n",
      "100%|██████████| 313/313 [01:28<00:00,  3.53it/s]\n",
      "  0%|          | 0/4 [00:00<?, ?it/s]"
     ]
    },
    {
     "name": "stdout",
     "output_type": "stream",
     "text": [
      "Train: loss = 8.156719747259109e-08, top 1 = 0.97165, top 5 = 0.9765699999999587, top 10 = 0.9718299999999935, kendal = 0.8973930913559023\n"
     ]
    },
    {
     "name": "stderr",
     "output_type": "stream",
     "text": [
      "100%|██████████| 4/4 [00:00<00:00,  4.68it/s]\n",
      "  0%|          | 0/313 [00:00<?, ?it/s]"
     ]
    },
    {
     "name": "stdout",
     "output_type": "stream",
     "text": [
      "Valid: loss = 1.0143318996995006e-07, top 1 = 0.94, top 5 = 0.9730000000000003, top 10 = 0.968500000000001, kendal = 0.8963373385956883\n",
      "\n",
      "Epoch: 95\n"
     ]
    },
    {
     "name": "stderr",
     "output_type": "stream",
     "text": [
      "100%|██████████| 313/313 [01:54<00:00,  2.74it/s]\n",
      "100%|██████████| 313/313 [01:28<00:00,  3.53it/s]\n",
      "  0%|          | 0/4 [00:00<?, ?it/s]"
     ]
    },
    {
     "name": "stdout",
     "output_type": "stream",
     "text": [
      "Train: loss = 9.267839167749293e-08, top 1 = 0.9718, top 5 = 0.9764599999999583, top 10 = 0.9717049999999936, kendal = 0.8976611394018943\n"
     ]
    },
    {
     "name": "stderr",
     "output_type": "stream",
     "text": [
      "100%|██████████| 4/4 [00:00<00:00,  4.69it/s]\n",
      "  0%|          | 0/313 [00:00<?, ?it/s]"
     ]
    },
    {
     "name": "stdout",
     "output_type": "stream",
     "text": [
      "Valid: loss = 1.1311605759390078e-07, top 1 = 0.94, top 5 = 0.9750000000000003, top 10 = 0.9675000000000011, kendal = 0.8964750275429562\n",
      "\n",
      "Epoch: 96\n"
     ]
    },
    {
     "name": "stderr",
     "output_type": "stream",
     "text": [
      "100%|██████████| 313/313 [01:53<00:00,  2.75it/s]\n",
      "100%|██████████| 313/313 [01:29<00:00,  3.52it/s]\n",
      "  0%|          | 0/4 [00:00<?, ?it/s]"
     ]
    },
    {
     "name": "stdout",
     "output_type": "stream",
     "text": [
      "Train: loss = 7.904442098273323e-08, top 1 = 0.9717, top 5 = 0.9765299999999585, top 10 = 0.9717249999999944, kendal = 0.8984897826255502\n"
     ]
    },
    {
     "name": "stderr",
     "output_type": "stream",
     "text": [
      "100%|██████████| 4/4 [00:00<00:00,  4.42it/s]\n",
      "  0%|          | 0/313 [00:00<?, ?it/s]"
     ]
    },
    {
     "name": "stdout",
     "output_type": "stream",
     "text": [
      "Valid: loss = 9.804290726732473e-08, top 1 = 0.945, top 5 = 0.9750000000000003, top 10 = 0.9680000000000011, kendal = 0.8973433695545333\n",
      "\n",
      "Epoch: 97\n"
     ]
    },
    {
     "name": "stderr",
     "output_type": "stream",
     "text": [
      "100%|██████████| 313/313 [01:54<00:00,  2.74it/s]\n",
      "100%|██████████| 313/313 [01:28<00:00,  3.53it/s]\n",
      "  0%|          | 0/4 [00:00<?, ?it/s]"
     ]
    },
    {
     "name": "stdout",
     "output_type": "stream",
     "text": [
      "Train: loss = 9.669052152538805e-08, top 1 = 0.97175, top 5 = 0.9763899999999583, top 10 = 0.9716399999999936, kendal = 0.8987350155606245\n"
     ]
    },
    {
     "name": "stderr",
     "output_type": "stream",
     "text": [
      "100%|██████████| 4/4 [00:00<00:00,  4.41it/s]\n",
      "  0%|          | 0/313 [00:00<?, ?it/s]"
     ]
    },
    {
     "name": "stdout",
     "output_type": "stream",
     "text": [
      "Valid: loss = 1.1709938589523742e-07, top 1 = 0.95, top 5 = 0.9740000000000003, top 10 = 0.9670000000000012, kendal = 0.8977433702111068\n",
      "\n",
      "Epoch: 98\n"
     ]
    },
    {
     "name": "stderr",
     "output_type": "stream",
     "text": [
      "100%|██████████| 313/313 [01:54<00:00,  2.74it/s]\n",
      "100%|██████████| 313/313 [01:28<00:00,  3.53it/s]\n",
      "  0%|          | 0/4 [00:00<?, ?it/s]"
     ]
    },
    {
     "name": "stdout",
     "output_type": "stream",
     "text": [
      "Train: loss = 8.653202468401406e-08, top 1 = 0.97145, top 5 = 0.9765599999999586, top 10 = 0.9718149999999941, kendal = 0.8986863800410443\n"
     ]
    },
    {
     "name": "stderr",
     "output_type": "stream",
     "text": [
      "100%|██████████| 4/4 [00:00<00:00,  4.45it/s]\n",
      "  0%|          | 0/313 [00:00<?, ?it/s]"
     ]
    },
    {
     "name": "stdout",
     "output_type": "stream",
     "text": [
      "Valid: loss = 1.0397472961533434e-07, top 1 = 0.95, top 5 = 0.9750000000000003, top 10 = 0.9675000000000011, kendal = 0.8975785456612055\n",
      "\n",
      "Epoch: 99\n"
     ]
    },
    {
     "name": "stderr",
     "output_type": "stream",
     "text": [
      "100%|██████████| 313/313 [01:38<00:00,  3.19it/s]\n",
      "100%|██████████| 313/313 [01:08<00:00,  4.58it/s]\n",
      "  0%|          | 0/4 [00:00<?, ?it/s]"
     ]
    },
    {
     "name": "stdout",
     "output_type": "stream",
     "text": [
      "Train: loss = 8.61841074955878e-08, top 1 = 0.9717, top 5 = 0.9763999999999585, top 10 = 0.9717699999999946, kendal = 0.8986859858744707\n"
     ]
    },
    {
     "name": "stderr",
     "output_type": "stream",
     "text": [
      "100%|██████████| 4/4 [00:00<00:00,  5.28it/s]\n",
      "  0%|          | 0/313 [00:00<?, ?it/s]"
     ]
    },
    {
     "name": "stdout",
     "output_type": "stream",
     "text": [
      "Valid: loss = 1.0918659877881215e-07, top 1 = 0.955, top 5 = 0.9750000000000003, top 10 = 0.9680000000000011, kendal = 0.8978056816426316\n",
      "\n",
      "Epoch: 100\n"
     ]
    },
    {
     "name": "stderr",
     "output_type": "stream",
     "text": [
      "100%|██████████| 313/313 [01:29<00:00,  3.50it/s]\n",
      "100%|██████████| 313/313 [01:01<00:00,  5.12it/s]\n",
      " 25%|██▌       | 1/4 [00:00<00:00,  6.36it/s]"
     ]
    },
    {
     "name": "stdout",
     "output_type": "stream",
     "text": [
      "Train: loss = 8.365560261943742e-08, top 1 = 0.97185, top 5 = 0.9766599999999588, top 10 = 0.9718649999999946, kendal = 0.8987892745980076\n"
     ]
    },
    {
     "name": "stderr",
     "output_type": "stream",
     "text": [
      "100%|██████████| 4/4 [00:00<00:00,  7.86it/s]"
     ]
    },
    {
     "name": "stdout",
     "output_type": "stream",
     "text": [
      "Valid: loss = 1.0344533580538194e-07, top 1 = 0.95, top 5 = 0.9740000000000003, top 10 = 0.968500000000001, kendal = 0.8977594500828069\n"
     ]
    },
    {
     "name": "stderr",
     "output_type": "stream",
     "text": [
      "\n"
     ]
    }
   ],
   "source": [
    "nodes_cnt = setting.nodes_cnt\n",
    "\n",
    "\n",
    "model.train()\n",
    "\n",
    "train_info = {\n",
    "    \"bce\": [],\n",
    "    \"top1\": [],\n",
    "    \"top5\": [],\n",
    "    \"top10\": [],\n",
    "    \"kendal\": []\n",
    "}\n",
    "\n",
    "valid_info = {\n",
    "    \"bce\": [],\n",
    "    \"top1\": [],\n",
    "    \"top5\": [],\n",
    "    \"top10\": [],\n",
    "    \"kendal\": []\n",
    "}\n",
    "\n",
    "top_10 = 0.0\n",
    "top_5 = 0.0\n",
    "top_1 = 0.0\n",
    "\n",
    "for epoch in range(setting.epochs):\n",
    "    \n",
    "#     G, bc_gt = generate_nx_graph(nodes_cnt)\n",
    "    \n",
    "#     # Convert networkx.Graph to Pyg Data\n",
    "#     G = from_networkx(G)\n",
    "\n",
    "    print(\"\\nEpoch: {}\".format(epoch+1))\n",
    "\n",
    "    for batch in tqdm(train_loader):\n",
    "    \n",
    "        ### Start training\n",
    "        optimizer.zero_grad()\n",
    "        batch = batch.to(setting.device)\n",
    "\n",
    "        bc_pr = model(batch)\n",
    "    \n",
    "        \n",
    "        # compute batch loss\n",
    "        b_index = batch.batch.cpu().numpy()\n",
    "        b = np.max(b_index) + 1\n",
    "        \n",
    "        batch_loss = torch.tensor(0, dtype=torch.float).to(setting.device)\n",
    "        \n",
    "        for b_ in range(b):\n",
    "            \n",
    "            indice, = np.where(b_index == b_)\n",
    "            \n",
    "            gt = batch.y[indice].squeeze()\n",
    "            pr = bc_pr[indice].squeeze()\n",
    "            \n",
    "            # random sample 5|V| nodes\n",
    "            src = np.random.choice(len(indice), 5*len(indice), replace=True)\n",
    "            det = np.random.choice(len(indice), 5*len(indice), replace=True)\n",
    "            src = torch.from_numpy(src)\n",
    "            det = torch.from_numpy(det)\n",
    "\n",
    "            \n",
    "            y_gt = gt[det] - gt[src]\n",
    "            y_pr = pr[det] - pr[src]\n",
    "            \n",
    "            y_gt = nn.Sigmoid()(y_gt)\n",
    "            y_pr = nn.Sigmoid()(y_pr)\n",
    "        \n",
    "            batch_loss += nn.MSELoss()(y_pr, y_gt)\n",
    "        \n",
    "        batch_loss = torch.div(batch_loss, b)\n",
    "        batch_loss.backward()\n",
    "        optimizer.step()\n",
    "    \n",
    "    \n",
    "    ### Evaluation\n",
    "    with torch.no_grad():\n",
    "        \n",
    "        \n",
    "        top1_list = []\n",
    "        top5_list = []\n",
    "        top10_list = []\n",
    "        kendal_list = []\n",
    "        loss_list = []\n",
    "        \n",
    "        for batch in tqdm(train_loader):\n",
    "\n",
    "            batch = batch.to(setting.device)\n",
    "\n",
    "            bc_pr = model(batch)\n",
    "\n",
    "            b_index = batch.batch.cpu().numpy()\n",
    "            b = np.max(b_index) + 1\n",
    "\n",
    "            for b_ in range(b):\n",
    "\n",
    "                indice, = np.where(b_index == b_)\n",
    "\n",
    "                gt = batch.y[indice].squeeze()\n",
    "                pr = bc_pr[indice].squeeze()\n",
    "                \n",
    "                # evaluation\n",
    "                top1 = top_n_percentage(gt, pr, k=1)\n",
    "                top5 = top_n_percentage(gt, pr, k=5)\n",
    "                top10 = top_n_percentage(gt, pr, k=10)\n",
    "                kendal = kendal_tau_distance(gt, pr)\n",
    "                \n",
    "\n",
    "                # compute loss\n",
    "                src = np.random.choice(len(indice), 5*len(indice), replace=True)\n",
    "                det = np.random.choice(len(indice), 5*len(indice), replace=True)\n",
    "                src = torch.from_numpy(src)\n",
    "                det = torch.from_numpy(det)\n",
    "\n",
    "                y_gt = gt[det] - gt[src]\n",
    "                y_pr = pr[det] - pr[src]\n",
    "\n",
    "                y_gt = nn.Sigmoid()(y_gt)\n",
    "                y_pr = nn.Sigmoid()(y_pr)\n",
    "\n",
    "                loss = nn.MSELoss()(y_pr, y_gt)\n",
    "                \n",
    "                top1_list.append(top1)\n",
    "                top5_list.append(top5)\n",
    "                top10_list.append(top10)\n",
    "                kendal_list.append(kendal)\n",
    "                loss_list.append(loss.item())\n",
    "                \n",
    "\n",
    "        bce = sum(loss_list)/len(loss_list)\n",
    "        top1 = sum(top1_list)/len(top1_list)\n",
    "        top5 = sum(top5_list)/len(top5_list)\n",
    "        top10 = sum(top10_list)/len(top10_list)\n",
    "        kendal = sum(kendal_list)/len(kendal_list)      \n",
    "        \n",
    "                \n",
    "        print(\"Train: loss = {}, top 1 = {}, top 5 = {}, top 10 = {}, kendal = {}\".format(\n",
    "                bce,\n",
    "                top1,\n",
    "                top5,\n",
    "                top10,\n",
    "                kendal\n",
    "        ))\n",
    "\n",
    "        train_info[\"bce\"].append(bce)\n",
    "        train_info[\"top1\"].append(top1)\n",
    "        train_info[\"top5\"].append(top5)\n",
    "        train_info[\"top10\"].append(top10)\n",
    "        train_info[\"kendal\"].append(kendal)\n",
    "\n",
    "        with open(setting.train_info_p, 'w') as f:\n",
    "            json.dump(train_info, f)\n",
    "            \n",
    "            \n",
    "    \n",
    "        top1_list = []\n",
    "        top5_list = []\n",
    "        top10_list = []\n",
    "        kendal_list = []\n",
    "        loss_list = []\n",
    "        \n",
    "        for batch in tqdm(valid_loader):\n",
    "\n",
    "            batch = batch.to(setting.device)\n",
    "\n",
    "            bc_pr = model(batch)\n",
    "\n",
    "            b_index = batch.batch.cpu().numpy()\n",
    "            b = np.max(b_index) + 1\n",
    "\n",
    "            for b_ in range(b):\n",
    "\n",
    "                indice, = np.where(b_index == b_)\n",
    "            \n",
    "\n",
    "                gt = batch.y[indice].squeeze()\n",
    "                pr = bc_pr[indice].squeeze()\n",
    "                \n",
    "                # evaluation\n",
    "                top1 = top_n_percentage(gt, pr, k=1)\n",
    "                top5 = top_n_percentage(gt, pr, k=5)\n",
    "                top10 = top_n_percentage(gt, pr, k=10)\n",
    "                kendal = kendal_tau_distance(gt, pr)\n",
    "\n",
    "                # compute loss\n",
    "                src = np.random.choice(len(indice), 5*len(indice), replace=True)\n",
    "                det = np.random.choice(len(indice), 5*len(indice), replace=True)\n",
    "                src = torch.from_numpy(src)\n",
    "                det = torch.from_numpy(det)\n",
    "\n",
    "                y_gt = gt[det] - gt[src]\n",
    "                y_pr = pr[det] - pr[src]\n",
    "\n",
    "                y_gt = nn.Sigmoid()(y_gt)\n",
    "                y_pr = nn.Sigmoid()(y_pr)\n",
    "\n",
    "                loss = nn.MSELoss()(y_pr, y_gt)\n",
    "                \n",
    "                top1_list.append(top1)\n",
    "                top5_list.append(top5)\n",
    "                top10_list.append(top10)\n",
    "                kendal_list.append(kendal)\n",
    "                loss_list.append(loss.item())\n",
    "                \n",
    "\n",
    "        bce = sum(loss_list)/len(loss_list)\n",
    "        top1 = sum(top1_list)/len(top1_list)\n",
    "        top5 = sum(top5_list)/len(top5_list)\n",
    "        top10 = sum(top10_list)/len(top10_list)\n",
    "        kendal = sum(kendal_list)/len(kendal_list)      \n",
    "        \n",
    "                \n",
    "        print(\"Valid: loss = {}, top 1 = {}, top 5 = {}, top 10 = {}, kendal = {}\".format(\n",
    "                bce,\n",
    "                top1,\n",
    "                top5,\n",
    "                top10,\n",
    "                kendal\n",
    "        ))\n",
    "\n",
    "        valid_info[\"bce\"].append(bce)\n",
    "        valid_info[\"top1\"].append(top1)\n",
    "        valid_info[\"top5\"].append(top5)\n",
    "        valid_info[\"top10\"].append(top10)\n",
    "        valid_info[\"kendal\"].append(kendal)\n",
    "\n",
    "        with open(setting.val_info_p, 'w') as f:\n",
    "            json.dump(valid_info, f)\n",
    "\n",
    "\n",
    "\n",
    "        if top10 > top_10:\n",
    "            checkpoint = {\n",
    "                'model_stat': model.state_dict(),\n",
    "                'optimizer_stat': optimizer.state_dict(),\n",
    "            }\n",
    "            top_10 = top10\n",
    "            \n",
    "            torch.save(checkpoint, setting.weight_drbc)"
   ]
  },
  {
   "cell_type": "markdown",
   "metadata": {},
   "source": [
    "## Node2Vec"
   ]
  },
  {
   "cell_type": "code",
   "execution_count": 107,
   "metadata": {
    "scrolled": true
   },
   "outputs": [
    {
     "name": "stdout",
     "output_type": "stream",
     "text": [
      "Walk iteration:\n",
      "1 / 10\n",
      "2 / 10\n",
      "3 / 10\n",
      "4 / 10\n",
      "5 / 10\n",
      "6 / 10\n",
      "7 / 10\n",
      "8 / 10\n",
      "9 / 10\n",
      "10 / 10\n"
     ]
    },
    {
     "name": "stderr",
     "output_type": "stream",
     "text": [
      "INFO:gensim.models.word2vec:collecting all words and their counts\n",
      "INFO:gensim.models.word2vec:PROGRESS: at sentence #0, processed 0 words, keeping 0 word types\n",
      "INFO:gensim.models.word2vec:PROGRESS: at sentence #10000, processed 800000 words, keeping 5000 word types\n",
      "INFO:gensim.models.word2vec:PROGRESS: at sentence #20000, processed 1600000 words, keeping 5000 word types\n",
      "INFO:gensim.models.word2vec:PROGRESS: at sentence #30000, processed 2400000 words, keeping 5000 word types\n",
      "INFO:gensim.models.word2vec:PROGRESS: at sentence #40000, processed 3200000 words, keeping 5000 word types\n",
      "INFO:gensim.models.word2vec:collected 5000 word types from a corpus of 4000000 raw words and 50000 sentences\n",
      "INFO:gensim.models.word2vec:Loading a fresh vocabulary\n",
      "INFO:gensim.models.word2vec:effective_min_count=0 retains 5000 unique words (100% of original 5000, drops 0)\n",
      "INFO:gensim.models.word2vec:effective_min_count=0 leaves 4000000 word corpus (100% of original 4000000, drops 0)\n",
      "INFO:gensim.models.word2vec:deleting the raw counts dictionary of 5000 items\n",
      "INFO:gensim.models.word2vec:sample=0.001 downsamples 12 most-common words\n",
      "INFO:gensim.models.word2vec:downsampling leaves estimated 3963270 word corpus (99.1% of prior 4000000)\n",
      "INFO:gensim.models.base_any2vec:estimated required memory for 5000 words and 128 dimensions: 7620000 bytes\n",
      "INFO:gensim.models.word2vec:resetting layer weights\n",
      "INFO:gensim.models.base_any2vec:training model with 8 workers on 5000 vocabulary and 128 features, using sg=1 hs=0 sample=0.001 negative=5 window=10\n",
      "INFO:gensim.models.base_any2vec:EPOCH 1 - PROGRESS: at 2.00% examples, 73573 words/s, in_qsize 15, out_qsize 0\n",
      "INFO:gensim.models.base_any2vec:EPOCH 1 - PROGRESS: at 5.00% examples, 95377 words/s, in_qsize 15, out_qsize 0\n",
      "INFO:gensim.models.base_any2vec:EPOCH 1 - PROGRESS: at 7.25% examples, 91198 words/s, in_qsize 15, out_qsize 0\n",
      "INFO:gensim.models.base_any2vec:EPOCH 1 - PROGRESS: at 11.00% examples, 103986 words/s, in_qsize 15, out_qsize 0\n",
      "INFO:gensim.models.base_any2vec:EPOCH 1 - PROGRESS: at 13.25% examples, 100292 words/s, in_qsize 15, out_qsize 0\n",
      "INFO:gensim.models.base_any2vec:EPOCH 1 - PROGRESS: at 16.25% examples, 102687 words/s, in_qsize 15, out_qsize 0\n",
      "INFO:gensim.models.base_any2vec:EPOCH 1 - PROGRESS: at 18.50% examples, 100332 words/s, in_qsize 15, out_qsize 0\n",
      "INFO:gensim.models.base_any2vec:EPOCH 1 - PROGRESS: at 21.75% examples, 103332 words/s, in_qsize 15, out_qsize 0\n",
      "INFO:gensim.models.base_any2vec:EPOCH 1 - PROGRESS: at 24.50% examples, 103747 words/s, in_qsize 15, out_qsize 0\n",
      "INFO:gensim.models.base_any2vec:EPOCH 1 - PROGRESS: at 27.75% examples, 104419 words/s, in_qsize 15, out_qsize 0\n",
      "INFO:gensim.models.base_any2vec:EPOCH 1 - PROGRESS: at 30.75% examples, 105319 words/s, in_qsize 15, out_qsize 0\n",
      "INFO:gensim.models.base_any2vec:EPOCH 1 - PROGRESS: at 33.75% examples, 105788 words/s, in_qsize 15, out_qsize 0\n",
      "INFO:gensim.models.base_any2vec:EPOCH 1 - PROGRESS: at 36.75% examples, 105539 words/s, in_qsize 15, out_qsize 0\n",
      "INFO:gensim.models.base_any2vec:EPOCH 1 - PROGRESS: at 39.75% examples, 105426 words/s, in_qsize 15, out_qsize 0\n",
      "INFO:gensim.models.base_any2vec:EPOCH 1 - PROGRESS: at 42.75% examples, 105639 words/s, in_qsize 15, out_qsize 0\n",
      "INFO:gensim.models.base_any2vec:EPOCH 1 - PROGRESS: at 45.75% examples, 105903 words/s, in_qsize 15, out_qsize 0\n",
      "INFO:gensim.models.base_any2vec:EPOCH 1 - PROGRESS: at 48.75% examples, 105975 words/s, in_qsize 15, out_qsize 0\n",
      "INFO:gensim.models.base_any2vec:EPOCH 1 - PROGRESS: at 51.75% examples, 105543 words/s, in_qsize 15, out_qsize 0\n",
      "INFO:gensim.models.base_any2vec:EPOCH 1 - PROGRESS: at 54.75% examples, 105823 words/s, in_qsize 15, out_qsize 0\n",
      "INFO:gensim.models.base_any2vec:EPOCH 1 - PROGRESS: at 57.75% examples, 106075 words/s, in_qsize 15, out_qsize 0\n",
      "INFO:gensim.models.base_any2vec:EPOCH 1 - PROGRESS: at 60.50% examples, 105911 words/s, in_qsize 15, out_qsize 0\n",
      "INFO:gensim.models.base_any2vec:EPOCH 1 - PROGRESS: at 63.50% examples, 106072 words/s, in_qsize 15, out_qsize 0\n",
      "INFO:gensim.models.base_any2vec:EPOCH 1 - PROGRESS: at 66.75% examples, 106695 words/s, in_qsize 15, out_qsize 0\n",
      "INFO:gensim.models.base_any2vec:EPOCH 1 - PROGRESS: at 69.50% examples, 106469 words/s, in_qsize 15, out_qsize 0\n",
      "INFO:gensim.models.base_any2vec:EPOCH 1 - PROGRESS: at 72.25% examples, 106151 words/s, in_qsize 15, out_qsize 0\n",
      "INFO:gensim.models.base_any2vec:EPOCH 1 - PROGRESS: at 75.75% examples, 107002 words/s, in_qsize 15, out_qsize 0\n",
      "INFO:gensim.models.base_any2vec:EPOCH 1 - PROGRESS: at 79.00% examples, 107022 words/s, in_qsize 16, out_qsize 0\n",
      "INFO:gensim.models.base_any2vec:EPOCH 1 - PROGRESS: at 82.00% examples, 107217 words/s, in_qsize 16, out_qsize 0\n",
      "INFO:gensim.models.base_any2vec:EPOCH 1 - PROGRESS: at 85.00% examples, 107514 words/s, in_qsize 16, out_qsize 0\n",
      "INFO:gensim.models.base_any2vec:EPOCH 1 - PROGRESS: at 88.00% examples, 107264 words/s, in_qsize 16, out_qsize 0\n",
      "INFO:gensim.models.base_any2vec:EPOCH 1 - PROGRESS: at 91.00% examples, 107343 words/s, in_qsize 16, out_qsize 0\n",
      "INFO:gensim.models.base_any2vec:EPOCH 1 - PROGRESS: at 93.75% examples, 107087 words/s, in_qsize 16, out_qsize 0\n",
      "INFO:gensim.models.base_any2vec:EPOCH 1 - PROGRESS: at 96.75% examples, 107207 words/s, in_qsize 13, out_qsize 0\n",
      "INFO:gensim.models.base_any2vec:worker thread finished; awaiting finish of 7 more threads\n",
      "INFO:gensim.models.base_any2vec:worker thread finished; awaiting finish of 6 more threads\n",
      "INFO:gensim.models.base_any2vec:worker thread finished; awaiting finish of 5 more threads\n",
      "INFO:gensim.models.base_any2vec:worker thread finished; awaiting finish of 4 more threads\n",
      "INFO:gensim.models.base_any2vec:worker thread finished; awaiting finish of 3 more threads\n",
      "INFO:gensim.models.base_any2vec:worker thread finished; awaiting finish of 2 more threads\n",
      "INFO:gensim.models.base_any2vec:worker thread finished; awaiting finish of 1 more threads\n",
      "INFO:gensim.models.base_any2vec:worker thread finished; awaiting finish of 0 more threads\n",
      "INFO:gensim.models.base_any2vec:EPOCH - 1 : training on 4000000 raw words (3963211 effective words) took 36.5s, 108560 effective words/s\n",
      "INFO:gensim.models.base_any2vec:training on a 4000000 raw words (3963211 effective words) took 36.5s, 108531 effective words/s\n"
     ]
    },
    {
     "ename": "AttributeError",
     "evalue": "'float' object has no attribute 'item'",
     "output_type": "error",
     "traceback": [
      "\u001b[0;31m-----------------------------------------------------------------\u001b[0m",
      "\u001b[0;31mAttributeError\u001b[0m                  Traceback (most recent call last)",
      "\u001b[0;32m<ipython-input-107-ed77a1206409>\u001b[0m in \u001b[0;36m<module>\u001b[0;34m\u001b[0m\n\u001b[1;32m     75\u001b[0m \u001b[0;34m\u001b[0m\u001b[0m\n\u001b[1;32m     76\u001b[0m         print(\"Train: loss = {}, top 1 = {}, top 5 = {}, top 10 = {}, kendal = {}\".format(\n\u001b[0;32m---> 77\u001b[0;31m                 \u001b[0mloss\u001b[0m\u001b[0;34m.\u001b[0m\u001b[0mitem\u001b[0m\u001b[0;34m(\u001b[0m\u001b[0;34m)\u001b[0m\u001b[0;34m,\u001b[0m\u001b[0;34m\u001b[0m\u001b[0;34m\u001b[0m\u001b[0m\n\u001b[0m\u001b[1;32m     78\u001b[0m                 \u001b[0mtop1\u001b[0m\u001b[0;34m,\u001b[0m\u001b[0;34m\u001b[0m\u001b[0;34m\u001b[0m\u001b[0m\n\u001b[1;32m     79\u001b[0m                 \u001b[0mtop5\u001b[0m\u001b[0;34m,\u001b[0m\u001b[0;34m\u001b[0m\u001b[0;34m\u001b[0m\u001b[0m\n",
      "\u001b[0;31mAttributeError\u001b[0m: 'float' object has no attribute 'item'"
     ]
    }
   ],
   "source": [
    "nodes_cnt = 5000\n",
    "\n",
    "\n",
    "model.train()\n",
    "\n",
    "train_info = {\n",
    "    \"bce\": [],\n",
    "    \"top1\": [],\n",
    "    \"top5\": [],\n",
    "    \"top10\": [],\n",
    "    \"kendal\": []\n",
    "}\n",
    "\n",
    "valid_info = {\n",
    "    \"bce\": [],\n",
    "    \"top1\": [],\n",
    "    \"top5\": [],\n",
    "    \"top10\": [],\n",
    "    \"kendal\": []\n",
    "}\n",
    "\n",
    "top_10 = 0.0\n",
    "top_5 = 0.0\n",
    "top_1 = 0.0\n",
    "\n",
    "for epoch in range(setting.epochs):\n",
    "    \n",
    "    # Draw network G from distribution D (like the power-law model)\n",
    "    G = nx.generators.random_graphs.powerlaw_cluster_graph(n=nodes_cnt, m=4, p=0.05)\n",
    "    # Calculate each node’s exact BC value bv, ∀v ∈ V\n",
    "    betweenness = nx.algorithms.centrality.betweenness_centrality(G)\n",
    "    \n",
    "    # Convert betweenness dict to list\n",
    "    between_list = [v for k, v in sorted(betweenness.items(), key=lambda  item: int(item[0]), reverse=False)]\n",
    "    bc_gt = torch.from_numpy(np.array(between_list))\n",
    "    \n",
    "    emb = gnx_to_emb(G, nodes_cnt)\n",
    "    \n",
    "    ### Start training\n",
    "    optimizer.zero_grad()\n",
    "\n",
    "    emb = emb.to(setting.device)\n",
    "    bc_pr = model(emb)\n",
    "\n",
    "\n",
    "    # random sample 5|V| nodes\n",
    "    src = (torch.rand(nodes_cnt * 5) * (nodes_cnt-1)).long()\n",
    "    det = (torch.rand(nodes_cnt * 5) * (nodes_cnt-1)).long()\n",
    "\n",
    "    y_gt = (bc_gt[det] - bc_gt[src]).squeeze().to(setting.device)\n",
    "    y_pr = (bc_pr[det] - bc_pr[src]).squeeze()\n",
    "\n",
    "    y_gt = nn.Sigmoid()(y_gt)\n",
    "    y_pr = nn.Sigmoid()(y_pr)\n",
    "\n",
    "    loss = nn.BCELoss(reduction=\"sum\")(y_pr, y_gt)\n",
    "\n",
    "    loss.backward()\n",
    "    optimizer.step()\n",
    "    \n",
    "    \n",
    "    ### Evaluation\n",
    "    with torch.no_grad():\n",
    "        \n",
    "#         emb = gnx_to_emb(G, nodes_cnt)\n",
    "#         emb = emb.to(setting.device)\n",
    "#         bc_pr = model(emb)\n",
    "        \n",
    "        loss, bc_pr = eval_model(model, emb, bc_gt)\n",
    "        \n",
    "        top1 = top_n_percentage(bc_gt, bc_pr, k=1)\n",
    "        top5 = top_n_percentage(bc_gt, bc_pr, k=5)\n",
    "        top10 = top_n_percentage(bc_gt, bc_pr, k=10)\n",
    "        kendal = kendal_tau_distance(bc_gt, bc_pr)\n",
    "\n",
    "        print(\"Train: loss = {}, top 1 = {}, top 5 = {}, top 10 = {}, kendal = {}\".format(\n",
    "                loss,\n",
    "                top1,\n",
    "                top5,\n",
    "                top10,\n",
    "                kendal\n",
    "        ))\n",
    "\n",
    "        train_info[\"bce\"].append(loss)\n",
    "        train_info[\"top1\"].append(top1)\n",
    "        train_info[\"top5\"].append(top5)\n",
    "        train_info[\"top10\"].append(top10)\n",
    "        train_info[\"kendal\"].append(kendal)\n",
    "\n",
    "        with open(setting.train_info_p, 'w') as f:\n",
    "            json.dump(train_info, f)\n",
    "\n",
    "\n",
    "\n",
    "        ### Evaluation:- Synthetic\n",
    "        bce_l = []\n",
    "        top1_l = []\n",
    "        top5_l = []\n",
    "        top10_l = []\n",
    "        kendal_l = []\n",
    "\n",
    "        for data in all_loader:\n",
    "            \n",
    "            G = utils.to_networkx(data, node_attrs=None, edge_attrs=None, to_undirected=True, remove_self_loops=True)\n",
    "            emb = gnx_to_emb(G)\n",
    "            \n",
    "            loss, bc_pr = eval_model(model, emb, data.y)\n",
    "            \n",
    "            bce_l.append(loss)\n",
    "            top1_l.append(top_n_percentage(bc_gt, bc_pr, k=1))\n",
    "            top5_l.append(top_n_percentage(bc_gt, bc_pr, k=5))\n",
    "            top10_l.append(top_n_percentage(bc_gt, bc_pr, k=1))\n",
    "            kendal_l.append(kendal_tau_distance(bc_gt, bc_pr))\n",
    "\n",
    "        bce = sum(bce_l)/len(bce_l)\n",
    "        top1 = sum(top1_l)/len(top1_l)\n",
    "        top5 = sum(top5_l)/len(top5_l)\n",
    "        top10 = sum(top10_l)/len(top10_l)\n",
    "        kendal = sum(kendal_l)/len(kendal_l)\n",
    "\n",
    "        print(\"Valid: loss = {}, top 1 = {}, top 5 = {}, top 10 = {}, kendal = {}\".format(\n",
    "            bce,\n",
    "            top1,\n",
    "            top5,\n",
    "            top10,\n",
    "            kendal\n",
    "        ))\n",
    "\n",
    "        valid_info[\"bce\"].append(bce)\n",
    "        valid_info[\"top1\"].append(top1)\n",
    "        valid_info[\"top5\"].append(top5)\n",
    "        valid_info[\"top10\"].append(top10)\n",
    "        valid_info[\"kendal\"].append(kendal)\n",
    "\n",
    "        with open(setting.val_info_p, 'w') as f:\n",
    "            json.dump(valid_info, f)\n",
    "\n",
    "\n",
    "        if top10 > top_10:\n",
    "            checkpoint = {\n",
    "                'model_stat': model.state_dict(),\n",
    "                'optimizer_stat': optimizer.state_dict(),\n",
    "            }\n",
    "            torch.save(checkpoint, setting.weight_node2vec)\n",
    "            top_10 = top10"
   ]
  },
  {
   "cell_type": "markdown",
   "metadata": {},
   "source": [
    "# Test"
   ]
  },
  {
   "cell_type": "code",
   "execution_count": 71,
   "metadata": {},
   "outputs": [],
   "source": [
    "def eval_model(model, dataloader, device):\n",
    "    \n",
    "    model = model.eval().to(device)\n",
    "    \n",
    "    top1_list = []\n",
    "    top5_list = []\n",
    "    top10_list = []\n",
    "    kendal_list = []\n",
    "    loss_list = []\n",
    "    time_list = []\n",
    "\n",
    "    for batch in tqdm(dataloader):\n",
    "\n",
    "        batch = batch.to(device)\n",
    "        \n",
    "        start = time.time()\n",
    "        bc_pr = model(batch)\n",
    "        end = time.time()\n",
    "\n",
    "        b_index = batch.batch.cpu().numpy()\n",
    "        b = np.max(b_index) + 1\n",
    "\n",
    "        for b_ in range(b):\n",
    "\n",
    "            indice, = np.where(b_index == b_)\n",
    "\n",
    "\n",
    "            gt = batch.y[indice].squeeze()\n",
    "            pr = bc_pr[indice].squeeze()\n",
    "\n",
    "            # evaluation\n",
    "            top1 = top_n_percentage(gt, pr, k=1)\n",
    "            top5 = top_n_percentage(gt, pr, k=5)\n",
    "            top10 = top_n_percentage(gt, pr, k=10)\n",
    "            kendal = kendal_tau_distance(gt, pr)\n",
    "\n",
    "            # compute loss\n",
    "            src = np.random.choice(len(indice), 5*len(indice), replace=True)\n",
    "            det = np.random.choice(len(indice), 5*len(indice), replace=True)\n",
    "            src = torch.from_numpy(src)\n",
    "            det = torch.from_numpy(det)\n",
    "\n",
    "            y_gt = gt[det] - gt[src]\n",
    "            y_pr = pr[det] - pr[src]\n",
    "\n",
    "            y_gt = nn.Sigmoid()(y_gt)\n",
    "            y_pr = nn.Sigmoid()(y_pr)\n",
    "\n",
    "            loss = nn.MSELoss()(y_pr, y_gt)\n",
    "\n",
    "            top1_list.append(top1)\n",
    "            top5_list.append(top5)\n",
    "            top10_list.append(top10)\n",
    "            kendal_list.append(kendal)\n",
    "            loss_list.append(loss.item())\n",
    "            time_list.append(end-start)\n",
    "    \n",
    "    \n",
    "    return top1_list, top5_list, top10_list, kendal_list, time_list, loss_list"
   ]
  },
  {
   "cell_type": "code",
   "execution_count": 72,
   "metadata": {},
   "outputs": [
    {
     "name": "stderr",
     "output_type": "stream",
     "text": [
      "100%|██████████| 30/30 [00:11<00:00,  2.65it/s]"
     ]
    },
    {
     "name": "stdout",
     "output_type": "stream",
     "text": [
      "Top1: mean=0.93, std=0.03\n",
      "Top5: mean=0.88, std=0.02\n",
      "Top10: mean=0.85, std=0.02\n",
      "Kendal: mean=0.69, std=0.01\n",
      "Time: mean=0.36, std=0.02\n",
      "Loss: mean=0.00, std=0.00\n"
     ]
    },
    {
     "name": "stderr",
     "output_type": "stream",
     "text": [
      "\n"
     ]
    }
   ],
   "source": [
    "top1_list, top5_list, top10_list, kendal_list, time_list, loss_list = eval_model(model, syn_loader, \"cpu\")\n",
    "\n",
    "top1_list = np.array(top1_list)\n",
    "top5_list = np.array(top5_list)\n",
    "top10_list = np.array(top10_list)\n",
    "kendal_list = np.array(kendal_list)\n",
    "time_list = np.array(time_list)\n",
    "loss_list = np.array(loss_list)\n",
    "\n",
    "\n",
    "print(\"Top1: mean={:.2f}, std={:.2f}\".format(np.mean(top1_list), np.std(top1_list)))\n",
    "print(\"Top5: mean={:.2f}, std={:.2f}\".format(np.mean(top5_list), np.std(top5_list)))\n",
    "print(\"Top10: mean={:.2f}, std={:.2f}\".format(np.mean(top10_list), np.std(top10_list)))\n",
    "print(\"Kendal: mean={:.2f}, std={:.2f}\".format(np.mean(kendal_list), np.std(kendal_list)))\n",
    "print(\"Time: mean={:.2f}, std={:.2f}\".format(np.mean(time_list), np.std(time_list)))\n",
    "print(\"Loss: mean={:.2f}, std={:.2f}\".format(np.mean(loss_list), np.std(loss_list)))"
   ]
  },
  {
   "cell_type": "code",
   "execution_count": 73,
   "metadata": {},
   "outputs": [
    {
     "name": "stderr",
     "output_type": "stream",
     "text": [
      "100%|██████████| 1/1 [01:29<00:00, 89.96s/it]\n"
     ]
    },
    {
     "name": "stdout",
     "output_type": "stream",
     "text": [
      "Top1: mean=0.59, std=0.00\n",
      "Top5: mean=0.49, std=0.00\n",
      "Top10: mean=0.54, std=0.00\n",
      "Kendal: mean=0.15, std=0.00\n",
      "Time: mean=89.21, std=0.00\n",
      "Loss: mean=0.16, std=0.00\n"
     ]
    }
   ],
   "source": [
    "top1_list, top5_list, top10_list, kendal_list, time_list, loss_list = eval_model(model, yt_loader, \"cpu\")\n",
    "\n",
    "top1_list = np.array(top1_list)\n",
    "top5_list = np.array(top5_list)\n",
    "top10_list = np.array(top10_list)\n",
    "kendal_list = np.array(kendal_list)\n",
    "time_list = np.array(time_list)\n",
    "loss_list = np.array(loss_list)\n",
    "\n",
    "\n",
    "print(\"Top1: mean={:.2f}, std={:.2f}\".format(np.mean(top1_list), np.std(top1_list)))\n",
    "print(\"Top5: mean={:.2f}, std={:.2f}\".format(np.mean(top5_list), np.std(top5_list)))\n",
    "print(\"Top10: mean={:.2f}, std={:.2f}\".format(np.mean(top10_list), np.std(top10_list)))\n",
    "print(\"Kendal: mean={:.2f}, std={:.2f}\".format(np.mean(kendal_list), np.std(kendal_list)))\n",
    "print(\"Time: mean={:.2f}, std={:.2f}\".format(np.mean(time_list), np.std(time_list)))\n",
    "print(\"Loss: mean={:.2f}, std={:.2f}\".format(np.mean(loss_list), np.std(loss_list)))"
   ]
  },
  {
   "cell_type": "markdown",
   "metadata": {},
   "source": [
    "# Visualization"
   ]
  },
  {
   "cell_type": "code",
   "execution_count": 60,
   "metadata": {},
   "outputs": [
    {
     "data": {
      "text/plain": [
       "'/home/ai2019/ne6081064/june/mlg/snrs_hw1/result/2021-03-19 18-51'"
      ]
     },
     "execution_count": 60,
     "metadata": {},
     "output_type": "execute_result"
    }
   ],
   "source": [
    "setting.root"
   ]
  },
  {
   "cell_type": "code",
   "execution_count": 61,
   "metadata": {},
   "outputs": [
    {
     "data": {
      "image/png": "[encoded data removed]",
      "text/plain": [
       "<Figure size 1800x1440 with 5 Axes>"
      ]
     },
     "metadata": {
      "needs_background": "light"
     },
     "output_type": "display_data"
    }
   ],
   "source": [
    "import matplotlib.pyplot as plt\n",
    "\n",
    "with open(setting.train_info_p, 'r') as train_info, \\\n",
    "    open(setting.val_info_p, 'r') as valid_info:\n",
    "    \n",
    "    train = json.load(train_info)\n",
    "    valid = json.load(valid_info)\n",
    "\n",
    "    keys = list(train.keys())\n",
    "    epochs = len(train[keys[0]])\n",
    "\n",
    "    x = np.linspace(1, epochs, epochs)\n",
    "    \n",
    "    ### plot bce loss and mean top N %\n",
    "    fig, axs = plt.subplots(len(keys), figsize=(25, 4 * len(keys)))\n",
    "    for index, ax in enumerate(axs):\n",
    "        key = keys[index]\n",
    "\n",
    "        ax.plot(x, train[key], color=\"blue\")\n",
    "        ax.plot(x, valid[key], color=\"orange\")\n",
    "        \n",
    "        ax.legend([\"train\", \"valid\"], loc='upper left')\n",
    "        ax.set_title(key)\n",
    "        ax.grid()\n",
    "        \n",
    "    plt.tight_layout()\n",
    "    plt.savefig(setting.result_plt_p, facecolor=\"white\")"
   ]
  },
  {
   "cell_type": "markdown",
   "metadata": {},
   "source": [
    "# Compare diff scale"
   ]
  },
  {
   "cell_type": "code",
   "execution_count": 33,
   "metadata": {},
   "outputs": [
    {
     "name": "stdout",
     "output_type": "stream",
     "text": [
      "weight: 3000.pth\n",
      "pretrained finded\n",
      "weight: 300.pth\n",
      "pretrained finded\n",
      "weight: 1200.pth\n",
      "pretrained finded\n",
      "weight: 5000.pth\n",
      "pretrained finded\n",
      "weight: 200.pth\n",
      "pretrained finded\n"
     ]
    }
   ],
   "source": [
    "weights = os.path.join(setting._root, \"weights\")\n",
    "\n",
    "for weight_f in os.listdir(weights):\n",
    "    print(\"weight: {}\".format(weight_f))\n",
    "    \n",
    "    model, _ = load_checkpoint(\n",
    "                    os.path.join(weights, weight_f),\n",
    "                    \"cpu\",\n",
    "                    drbc = setting.params_drbc,\n",
    "                    node2vec = setting.params_node2vec)\n",
    "    model.eval()\n",
    "    \n",
    "    basename = os.path.splitext(weight_f)[0]\n",
    "    with open(os.path.join(setting._root, \"{}.json\".format(basename)), \"w\") as f:\n",
    "        jsn = {\n",
    "            \"top1\": [],\n",
    "            \"top5\": [],\n",
    "            \"top10\": [],\n",
    "            \"kendal\": [],\n",
    "            \"time\": []\n",
    "        }\n",
    "\n",
    "        for edge_list, score in zip(synthetic, between):\n",
    "\n",
    "            data = to_data(edge_list, score)\n",
    "\n",
    "            start = time.time()\n",
    "            bc_pr = model(data)\n",
    "            end = time.time()\n",
    "\n",
    "            bc_gt = np.array(data.y)\n",
    "\n",
    "\n",
    "            jsn[\"time\"].append(end-start)\n",
    "            jsn[\"kendal\"].append(kendal_tau_distance(bc_pr, bc_gt))\n",
    "            jsn[\"top1\"].append(top_n_percentage(bc_pr, bc_gt, k=1))\n",
    "            jsn[\"top5\"].append(top_n_percentage(bc_pr, bc_gt, k=5))\n",
    "            jsn[\"top10\"].append(top_n_percentage(bc_pr, bc_gt, k=10))\n",
    "\n",
    "        json.dump(jsn, f)\n",
    "    "
   ]
  },
  {
   "cell_type": "code",
   "execution_count": 37,
   "metadata": {},
   "outputs": [
    {
     "name": "stdout",
     "output_type": "stream",
     "text": [
      "\n",
      "top1\n",
      "scale=200, mean=0.6606666666666666, std=0.16374641641541007\n",
      "scale=300, mean=0.6593333333333333, std=0.16301192867053899\n",
      "scale=1200, mean=0.66, std=0.16403251710153893\n",
      "scale=3000, mean=0.6833333333333336, std=0.17220788470785986\n",
      "scale=5000, mean=0.636, std=0.1423985018647785\n",
      "\n",
      "top5\n",
      "scale=200, mean=0.6389333333333334, std=0.1302343869934341\n",
      "scale=300, mean=0.6376000000000002, std=0.12988856762625414\n",
      "scale=1200, mean=0.6573333333333333, std=0.13822236513032984\n",
      "scale=3000, mean=0.6728, std=0.15371454062644824\n",
      "scale=5000, mean=0.6188, std=0.12861166354572975\n",
      "\n",
      "top10\n",
      "scale=200, mean=0.6447333333333333, std=0.11378047088826604\n",
      "scale=300, mean=0.6474000000000001, std=0.11626423927129671\n",
      "scale=1200, mean=0.6700666666666667, std=0.12222763826383769\n",
      "scale=3000, mean=0.6585333333333332, std=0.13130314373828053\n",
      "scale=5000, mean=0.6415333333333334, std=0.11461783844100747\n",
      "\n",
      "kendal\n",
      "scale=200, mean=0.4162531066213242, std=0.11592136297554113\n",
      "scale=300, mean=0.34002063879442557, std=0.10374069606698114\n",
      "scale=1200, mean=0.3943040288057612, std=0.13442441895633847\n",
      "scale=3000, mean=0.04964088817763553, std=0.019541950793109848\n",
      "scale=5000, mean=0.4567827058745083, std=0.08964164382726174\n",
      "\n",
      "time\n",
      "scale=200, mean=0.3690826892852783, std=0.029576550154801734\n",
      "scale=300, mean=0.3682676315307617, std=0.02538650128656612\n",
      "scale=1200, mean=0.3535344918568929, std=0.015350331572904125\n",
      "scale=3000, mean=0.3997665802637736, std=0.038325411234525125\n",
      "scale=5000, mean=0.37226398785909015, std=0.038548824017517566\n"
     ]
    },
    {
     "data": {
      "image/png": "[encoded data removed]",
      "text/plain": [
       "<Figure size 1800x1440 with 5 Axes>"
      ]
     },
     "metadata": {
      "needs_background": "light"
     },
     "output_type": "display_data"
    }
   ],
   "source": [
    "with open(os.path.join(setting._root, \"result\", \"comparison\", \"200.json\"), \"r\") as f_200, \\\n",
    "    open(os.path.join(setting._root, \"result\", \"comparison\", \"300.json\"), \"r\") as f_300, \\\n",
    "    open(os.path.join(setting._root, \"result\", \"comparison\", \"1200.json\"), \"r\") as f_1200, \\\n",
    "    open(os.path.join(setting._root, \"result\", \"comparison\", \"3000.json\"), \"r\") as f_3000, \\\n",
    "    open(os.path.join(setting._root, \"result\", \"comparison\", \"5000.json\"), \"r\") as f_5000 :\n",
    "    \n",
    "    r_200 = json.load(f_200)\n",
    "    r_300 = json.load(f_300)\n",
    "    r_1200 = json.load(f_1200)\n",
    "    r_3000 = json.load(f_3000)\n",
    "    r_5000 = json.load(f_5000)\n",
    "\n",
    "    keys = list(r_200.keys())\n",
    "    \n",
    "    fig, axs = plt.subplots(len(keys), figsize=(25, 4*len(keys)))\n",
    "    for index, ax in enumerate(axs):\n",
    "        key = keys[index]\n",
    "        \n",
    "        ax.boxplot([r_200[key], r_300[key], r_1200[key], r_3000[key], r_5000[key]], widths=0.5)\n",
    "        ax.set_title(key)\n",
    "        ax.grid()\n",
    "        \n",
    "        print(\"\\n{}\".format(key))\n",
    "        ### Calculate mean and std\n",
    "        r_200_ = np.array(r_200[key])\n",
    "        print(\"scale=200, mean={}, std={}\".format(np.mean(r_200_), np.std(r_200_)))\n",
    "        \n",
    "        r_300_ = np.array(r_300[key])\n",
    "        print(\"scale=300, mean={}, std={}\".format(np.mean(r_300_), np.std(r_300_)))\n",
    "        \n",
    "        r_1200_ = np.array(r_1200[key])\n",
    "        print(\"scale=1200, mean={}, std={}\".format(np.mean(r_1200_), np.std(r_1200_)))\n",
    "        \n",
    "        r_3000_ = np.array(r_3000[key])\n",
    "        print(\"scale=3000, mean={}, std={}\".format(np.mean(r_3000_), np.std(r_3000_)))\n",
    "         \n",
    "        r_5000_ = np.array(r_5000[key])\n",
    "        print(\"scale=5000, mean={}, std={}\".format(np.mean(r_5000_), np.std(r_5000_)))\n",
    "        \n",
    "    \n",
    "    plt.setp(axs,  xticklabels=['200', '300', '1200', \"3000\", \"5000\"])\n",
    "    plt.savefig(os.path.join(setting._root, \"result\", \"comparison\", \"comp.png\"), facecolor=\"white\")\n",
    "    \n",
    "    "
   ]
  },
  {
   "cell_type": "markdown",
   "metadata": {},
   "source": [
    "# Baseline"
   ]
  },
  {
   "cell_type": "code",
   "execution_count": 115,
   "metadata": {},
   "outputs": [],
   "source": [
    "G_nx = nx.readwrite.edgelist.read_edgelist(synthetic[0], delimiter=\"\\t\")\n",
    "G_nk = nk.nxadapter.nx2nk(G_nx)\n",
    "G_pyg = from_networkx(G_nx)"
   ]
  },
  {
   "cell_type": "code",
   "execution_count": 44,
   "metadata": {},
   "outputs": [
    {
     "data": {
      "text/plain": [
       "<networkx.classes.graph.Graph at 0x7fad08a4eb50>"
      ]
     },
     "execution_count": 44,
     "metadata": {},
     "output_type": "execute_result"
    }
   ],
   "source": [
    "G_nx"
   ]
  },
  {
   "cell_type": "code",
   "execution_count": 34,
   "metadata": {},
   "outputs": [
    {
     "data": {
      "text/plain": [
       "<networkit._NetworKit.Graph at 0x7fad080209b0>"
      ]
     },
     "execution_count": 34,
     "metadata": {},
     "output_type": "execute_result"
    }
   ],
   "source": [
    "G_nk"
   ]
  },
  {
   "cell_type": "code",
   "execution_count": 35,
   "metadata": {},
   "outputs": [
    {
     "data": {
      "text/plain": [
       "Data(edge_index=[2, 39964], x=[5000, 3])"
      ]
     },
     "execution_count": 35,
     "metadata": {},
     "output_type": "execute_result"
    }
   ],
   "source": [
    "G_pyg"
   ]
  },
  {
   "cell_type": "code",
   "execution_count": 82,
   "metadata": {},
   "outputs": [],
   "source": [
    "G_pyg_ = to_data(synthetic[0], between[0])"
   ]
  },
  {
   "cell_type": "code",
   "execution_count": 84,
   "metadata": {},
   "outputs": [
    {
     "data": {
      "text/plain": [
       "tensor([[9.4175e-02],\n",
       "        [5.3971e-02],\n",
       "        [4.4344e-02],\n",
       "        ...,\n",
       "        [1.9542e-05],\n",
       "        [6.0578e-05],\n",
       "        [1.0908e-04]], dtype=torch.float64)"
      ]
     },
     "execution_count": 84,
     "metadata": {},
     "output_type": "execute_result"
    }
   ],
   "source": [
    "G_pyg_.y"
   ]
  },
  {
   "cell_type": "code",
   "execution_count": null,
   "metadata": {},
   "outputs": [],
   "source": [
    "G_nx_ = G_pyg_"
   ]
  },
  {
   "cell_type": "markdown",
   "metadata": {},
   "source": [
    "## RK (DIAM)"
   ]
  },
  {
   "cell_type": "markdown",
   "metadata": {},
   "source": [
    "ApproxBetweenness"
   ]
  },
  {
   "cell_type": "markdown",
   "metadata": {},
   "source": [
    "Fast approximation of betweenness centrality through sampling."
   ]
  },
  {
   "cell_type": "code",
   "execution_count": 67,
   "metadata": {},
   "outputs": [
    {
     "data": {
      "text/plain": [
       "<networkit._NetworKit.ApproxBetweenness at 0x7fad1a0c0350>"
      ]
     },
     "execution_count": 67,
     "metadata": {},
     "output_type": "execute_result"
    }
   ],
   "source": [
    "ab = nk.centrality.ApproxBetweenness(G_nk, epsilon=0.1)\n",
    "ab.run()"
   ]
  },
  {
   "cell_type": "code",
   "execution_count": 80,
   "metadata": {},
   "outputs": [
    {
     "data": {
      "text/plain": [
       "[0.10169491525423731,\n",
       " 0.08851224105461396,\n",
       " 0.06403013182674198,\n",
       " 0.013182674199623353,\n",
       " 0.039548022598870046,\n",
       " 0.024482109227871935,\n",
       " 0.011299435028248588,\n",
       " 0.007532956685499058,\n",
       " 0.02448210922787194,\n",
       " 0.020715630885122408,\n",
       " 0.01694915254237288,\n",
       " 0.013182674199623353,\n",
       " 0.0018832391713747645,\n",
       " 0.005649717514124294,\n",
       " 0.0018832391713747645,\n",
       " 0.003766478342749529,\n",
       " 0.007532956685499058,\n",
       " 0.01694915254237288,\n",
       " 0.0,\n",
       " 0.015065913370998118,\n",
       " 0.005649717514124294,\n",
       " 0.003766478342749529,\n",
       " 0.003766478342749529,\n",
       " 0.003766478342749529,\n",
       " 0.0,\n",
       " 0.003766478342749529,\n",
       " 0.009416195856873822,\n",
       " 0.009416195856873822,\n",
       " 0.0,\n",
       " 0.0018832391713747645,\n",
       " 0.003766478342749529,\n",
       " 0.0018832391713747645,\n",
       " 0.0,\n",
       " 0.0018832391713747645,\n",
       " 0.0018832391713747645,\n",
       " 0.0,\n",
       " 0.003766478342749529,\n",
       " 0.0018832391713747645,\n",
       " 0.0,\n",
       " 0.007532956685499058,\n",
       " 0.0,\n",
       " 0.0,\n",
       " 0.003766478342749529,\n",
       " 0.005649717514124294,\n",
       " 0.0,\n",
       " 0.0018832391713747645,\n",
       " 0.0,\n",
       " 0.003766478342749529,\n",
       " 0.003766478342749529,\n",
       " 0.0018832391713747645,\n",
       " 0.0018832391713747645,\n",
       " 0.003766478342749529,\n",
       " 0.009416195856873822,\n",
       " 0.003766478342749529,\n",
       " 0.0018832391713747645,\n",
       " 0.0,\n",
       " 0.0,\n",
       " 0.0,\n",
       " 0.0,\n",
       " 0.0,\n",
       " 0.0,\n",
       " 0.0018832391713747645,\n",
       " 0.0018832391713747645,\n",
       " 0.0,\n",
       " 0.003766478342749529,\n",
       " 0.0,\n",
       " 0.0,\n",
       " 0.0,\n",
       " 0.0018832391713747645,\n",
       " 0.0,\n",
       " 0.0018832391713747645,\n",
       " 0.0,\n",
       " 0.0018832391713747645,\n",
       " 0.0018832391713747645,\n",
       " 0.0,\n",
       " 0.0,\n",
       " 0.0,\n",
       " 0.0018832391713747645,\n",
       " 0.0,\n",
       " 0.003766478342749529,\n",
       " 0.0018832391713747645,\n",
       " 0.0,\n",
       " 0.0,\n",
       " 0.003766478342749529,\n",
       " 0.0,\n",
       " 0.0,\n",
       " 0.0018832391713747645,\n",
       " 0.0018832391713747645,\n",
       " 0.0,\n",
       " 0.0,\n",
       " 0.0018832391713747645,\n",
       " 0.0,\n",
       " 0.0,\n",
       " 0.0018832391713747645,\n",
       " 0.0,\n",
       " 0.0,\n",
       " 0.0,\n",
       " 0.0018832391713747645,\n",
       " 0.0,\n",
       " 0.0,\n",
       " 0.0,\n",
       " 0.0,\n",
       " 0.0018832391713747645,\n",
       " 0.0,\n",
       " 0.0018832391713747645,\n",
       " 0.0,\n",
       " 0.0,\n",
       " 0.0,\n",
       " 0.0,\n",
       " 0.0,\n",
       " 0.003766478342749529,\n",
       " 0.003766478342749529,\n",
       " 0.0,\n",
       " 0.0,\n",
       " 0.0,\n",
       " 0.0,\n",
       " 0.0,\n",
       " 0.0,\n",
       " 0.0,\n",
       " 0.0,\n",
       " 0.0,\n",
       " 0.0018832391713747645,\n",
       " 0.0018832391713747645,\n",
       " 0.0,\n",
       " 0.0,\n",
       " 0.0,\n",
       " 0.0,\n",
       " 0.0018832391713747645,\n",
       " 0.0,\n",
       " 0.0018832391713747645,\n",
       " 0.0,\n",
       " 0.0,\n",
       " 0.0,\n",
       " 0.0,\n",
       " 0.0018832391713747645,\n",
       " 0.0018832391713747645,\n",
       " 0.0,\n",
       " 0.0,\n",
       " 0.0,\n",
       " 0.0,\n",
       " 0.0,\n",
       " 0.0,\n",
       " 0.0,\n",
       " 0.0,\n",
       " 0.0,\n",
       " 0.0,\n",
       " 0.0,\n",
       " 0.0,\n",
       " 0.0018832391713747645,\n",
       " 0.0,\n",
       " 0.0018832391713747645,\n",
       " 0.0,\n",
       " 0.0018832391713747645,\n",
       " 0.0,\n",
       " 0.0,\n",
       " 0.0,\n",
       " 0.0018832391713747645,\n",
       " 0.0,\n",
       " 0.0018832391713747645,\n",
       " 0.0,\n",
       " 0.0,\n",
       " 0.0,\n",
       " 0.0,\n",
       " 0.0,\n",
       " 0.0,\n",
       " 0.0,\n",
       " 0.0,\n",
       " 0.0018832391713747645,\n",
       " 0.0,\n",
       " 0.0,\n",
       " 0.0,\n",
       " 0.0,\n",
       " 0.0,\n",
       " 0.0,\n",
       " 0.0018832391713747645,\n",
       " 0.0,\n",
       " 0.0,\n",
       " 0.0,\n",
       " 0.0018832391713747645,\n",
       " 0.0,\n",
       " 0.0,\n",
       " 0.0,\n",
       " 0.0,\n",
       " 0.0,\n",
       " 0.0,\n",
       " 0.0,\n",
       " 0.0018832391713747645,\n",
       " 0.0018832391713747645,\n",
       " 0.0,\n",
       " 0.0,\n",
       " 0.0,\n",
       " 0.0,\n",
       " 0.0018832391713747645,\n",
       " 0.0,\n",
       " 0.0,\n",
       " 0.0,\n",
       " 0.0,\n",
       " 0.0,\n",
       " 0.0,\n",
       " 0.0,\n",
       " 0.0,\n",
       " 0.0,\n",
       " 0.0,\n",
       " 0.0,\n",
       " 0.0,\n",
       " 0.0,\n",
       " 0.0,\n",
       " 0.0,\n",
       " 0.0,\n",
       " 0.0,\n",
       " 0.0,\n",
       " 0.0,\n",
       " 0.0,\n",
       " 0.0,\n",
       " 0.0,\n",
       " 0.0,\n",
       " 0.0018832391713747645,\n",
       " 0.0,\n",
       " 0.0,\n",
       " 0.0,\n",
       " 0.0,\n",
       " 0.0,\n",
       " 0.0,\n",
       " 0.0,\n",
       " 0.0,\n",
       " 0.0,\n",
       " 0.0,\n",
       " 0.0,\n",
       " 0.0,\n",
       " 0.0,\n",
       " 0.0,\n",
       " 0.0,\n",
       " 0.0,\n",
       " 0.0,\n",
       " 0.0,\n",
       " 0.0,\n",
       " 0.0,\n",
       " 0.0,\n",
       " 0.0,\n",
       " 0.0,\n",
       " 0.039548022598870046,\n",
       " 0.009416195856873822,\n",
       " 0.041431261770244816,\n",
       " 0.03013182674199623,\n",
       " 0.039548022598870046,\n",
       " 0.0018832391713747645,\n",
       " 0.013182674199623353,\n",
       " 0.013182674199623351,\n",
       " 0.005649717514124294,\n",
       " 0.005649717514124294,\n",
       " 0.0,\n",
       " 0.0,\n",
       " 0.003766478342749529,\n",
       " 0.0018832391713747645,\n",
       " 0.005649717514124294,\n",
       " 0.007532956685499058,\n",
       " 0.009416195856873822,\n",
       " 0.003766478342749529,\n",
       " 0.0,\n",
       " 0.0018832391713747645,\n",
       " 0.0,\n",
       " 0.0018832391713747645,\n",
       " 0.0018832391713747645,\n",
       " 0.0018832391713747645,\n",
       " 0.0,\n",
       " 0.003766478342749529,\n",
       " 0.003766478342749529,\n",
       " 0.0,\n",
       " 0.0,\n",
       " 0.0,\n",
       " 0.0018832391713747645,\n",
       " 0.003766478342749529,\n",
       " 0.0,\n",
       " 0.0018832391713747645,\n",
       " 0.0018832391713747645,\n",
       " 0.0018832391713747645,\n",
       " 0.0,\n",
       " 0.003766478342749529,\n",
       " 0.0,\n",
       " 0.0018832391713747645,\n",
       " 0.0,\n",
       " 0.0,\n",
       " 0.0,\n",
       " 0.0,\n",
       " 0.0,\n",
       " 0.0,\n",
       " 0.0,\n",
       " 0.007532956685499058,\n",
       " 0.0018832391713747645,\n",
       " 0.0,\n",
       " 0.0018832391713747645,\n",
       " 0.0,\n",
       " 0.0018832391713747645,\n",
       " 0.0,\n",
       " 0.0018832391713747645,\n",
       " 0.0018832391713747645,\n",
       " 0.0018832391713747645,\n",
       " 0.003766478342749529,\n",
       " 0.0,\n",
       " 0.0,\n",
       " 0.0,\n",
       " 0.0,\n",
       " 0.0,\n",
       " 0.0018832391713747645,\n",
       " 0.0018832391713747645,\n",
       " 0.0018832391713747645,\n",
       " 0.0,\n",
       " 0.0,\n",
       " 0.005649717514124294,\n",
       " 0.0018832391713747645,\n",
       " 0.0,\n",
       " 0.0,\n",
       " 0.0,\n",
       " 0.0018832391713747645,\n",
       " 0.0018832391713747645,\n",
       " 0.0,\n",
       " 0.0,\n",
       " 0.0,\n",
       " 0.0,\n",
       " 0.0018832391713747645,\n",
       " 0.0,\n",
       " 0.003766478342749529,\n",
       " 0.0018832391713747645,\n",
       " 0.0,\n",
       " 0.0,\n",
       " 0.0018832391713747645,\n",
       " 0.0,\n",
       " 0.0,\n",
       " 0.0,\n",
       " 0.0018832391713747645,\n",
       " 0.0,\n",
       " 0.0018832391713747645,\n",
       " 0.0,\n",
       " 0.0,\n",
       " 0.0,\n",
       " 0.0,\n",
       " 0.0018832391713747645,\n",
       " 0.0,\n",
       " 0.0,\n",
       " 0.0,\n",
       " 0.0,\n",
       " 0.0,\n",
       " 0.0,\n",
       " 0.0,\n",
       " 0.0,\n",
       " 0.0,\n",
       " 0.0,\n",
       " 0.0,\n",
       " 0.0,\n",
       " 0.0,\n",
       " 0.0,\n",
       " 0.0,\n",
       " 0.0,\n",
       " 0.0018832391713747645,\n",
       " 0.0018832391713747645,\n",
       " 0.0,\n",
       " 0.0,\n",
       " 0.0,\n",
       " 0.0,\n",
       " 0.0,\n",
       " 0.0,\n",
       " 0.0,\n",
       " 0.0,\n",
       " 0.0,\n",
       " 0.0,\n",
       " 0.0,\n",
       " 0.0,\n",
       " 0.0,\n",
       " 0.0,\n",
       " 0.0,\n",
       " 0.0,\n",
       " 0.0018832391713747645,\n",
       " 0.0,\n",
       " 0.0,\n",
       " 0.0,\n",
       " 0.0,\n",
       " 0.0,\n",
       " 0.0,\n",
       " 0.0,\n",
       " 0.0,\n",
       " 0.0,\n",
       " 0.0,\n",
       " 0.0,\n",
       " 0.0,\n",
       " 0.0018832391713747645,\n",
       " 0.0,\n",
       " 0.0,\n",
       " 0.0,\n",
       " 0.0,\n",
       " 0.0,\n",
       " 0.0,\n",
       " 0.0,\n",
       " 0.0,\n",
       " 0.0018832391713747645,\n",
       " 0.0,\n",
       " 0.0,\n",
       " 0.0,\n",
       " 0.0,\n",
       " 0.0,\n",
       " 0.0,\n",
       " 0.0,\n",
       " 0.0,\n",
       " 0.0,\n",
       " 0.0018832391713747645,\n",
       " 0.0,\n",
       " 0.0,\n",
       " 0.0,\n",
       " 0.0,\n",
       " 0.0,\n",
       " 0.0,\n",
       " 0.0,\n",
       " 0.04331450094161957,\n",
       " 0.05461393596986816,\n",
       " 0.009416195856873822,\n",
       " 0.005649717514124294,\n",
       " 0.003766478342749529,\n",
       " 0.009416195856873822,\n",
       " 0.011299435028248588,\n",
       " 0.0,\n",
       " 0.015065913370998116,\n",
       " 0.0018832391713747645,\n",
       " 0.003766478342749529,\n",
       " 0.007532956685499058,\n",
       " 0.003766478342749529,\n",
       " 0.005649717514124294,\n",
       " 0.003766478342749529,\n",
       " 0.0,\n",
       " 0.0,\n",
       " 0.005649717514124294,\n",
       " 0.0018832391713747645,\n",
       " 0.0018832391713747645,\n",
       " 0.003766478342749529,\n",
       " 0.0,\n",
       " 0.0,\n",
       " 0.0,\n",
       " 0.0,\n",
       " 0.0,\n",
       " 0.0018832391713747645,\n",
       " 0.0,\n",
       " 0.0018832391713747645,\n",
       " 0.0,\n",
       " 0.0,\n",
       " 0.0018832391713747645,\n",
       " 0.0018832391713747645,\n",
       " 0.0,\n",
       " 0.0,\n",
       " 0.0,\n",
       " 0.0,\n",
       " 0.0,\n",
       " 0.0,\n",
       " 0.0018832391713747645,\n",
       " 0.0,\n",
       " 0.0,\n",
       " 0.0,\n",
       " 0.0,\n",
       " 0.003766478342749529,\n",
       " 0.0,\n",
       " 0.0,\n",
       " 0.0,\n",
       " 0.0,\n",
       " 0.0,\n",
       " 0.0,\n",
       " 0.0018832391713747645,\n",
       " 0.0,\n",
       " 0.0,\n",
       " 0.0,\n",
       " 0.0018832391713747645,\n",
       " 0.0,\n",
       " 0.0,\n",
       " 0.0,\n",
       " 0.0,\n",
       " 0.0,\n",
       " 0.0,\n",
       " 0.0,\n",
       " 0.0,\n",
       " 0.0,\n",
       " 0.0,\n",
       " 0.0,\n",
       " 0.0,\n",
       " 0.0,\n",
       " 0.0,\n",
       " 0.0,\n",
       " 0.0018832391713747645,\n",
       " 0.0,\n",
       " 0.0,\n",
       " 0.0,\n",
       " 0.0,\n",
       " 0.0,\n",
       " 0.0,\n",
       " 0.0,\n",
       " 0.0,\n",
       " 0.0,\n",
       " 0.0,\n",
       " 0.0018832391713747645,\n",
       " 0.0,\n",
       " 0.0,\n",
       " 0.0,\n",
       " 0.0,\n",
       " 0.0,\n",
       " 0.0,\n",
       " 0.0,\n",
       " 0.0,\n",
       " 0.0,\n",
       " 0.0018832391713747645,\n",
       " 0.0,\n",
       " 0.0,\n",
       " 0.0018832391713747645,\n",
       " 0.0018832391713747645,\n",
       " 0.0,\n",
       " 0.0,\n",
       " 0.0,\n",
       " 0.0018832391713747645,\n",
       " 0.0,\n",
       " 0.0,\n",
       " 0.0,\n",
       " 0.0,\n",
       " 0.0,\n",
       " 0.0,\n",
       " 0.0,\n",
       " 0.0,\n",
       " 0.0,\n",
       " 0.0,\n",
       " 0.0,\n",
       " 0.0,\n",
       " 0.0,\n",
       " 0.0,\n",
       " 0.0,\n",
       " 0.0,\n",
       " 0.0,\n",
       " 0.0,\n",
       " 0.0,\n",
       " 0.0,\n",
       " 0.0,\n",
       " 0.0,\n",
       " 0.0,\n",
       " 0.0,\n",
       " 0.0,\n",
       " 0.0,\n",
       " 0.0,\n",
       " 0.0018832391713747645,\n",
       " 0.0,\n",
       " 0.0,\n",
       " 0.0,\n",
       " 0.02448210922787194,\n",
       " 0.033898305084745756,\n",
       " 0.009416195856873822,\n",
       " 0.018832391713747645,\n",
       " 0.0018832391713747645,\n",
       " 0.0,\n",
       " 0.0018832391713747645,\n",
       " 0.005649717514124294,\n",
       " 0.005649717514124294,\n",
       " 0.003766478342749529,\n",
       " 0.007532956685499058,\n",
       " 0.0,\n",
       " 0.0,\n",
       " 0.0,\n",
       " 0.0018832391713747645,\n",
       " 0.0018832391713747645,\n",
       " 0.0,\n",
       " 0.0018832391713747645,\n",
       " 0.003766478342749529,\n",
       " 0.0,\n",
       " 0.0,\n",
       " 0.0,\n",
       " 0.0018832391713747645,\n",
       " 0.0018832391713747645,\n",
       " 0.0018832391713747645,\n",
       " 0.0,\n",
       " 0.0,\n",
       " 0.0,\n",
       " 0.0,\n",
       " 0.0018832391713747645,\n",
       " 0.0,\n",
       " 0.0,\n",
       " 0.0,\n",
       " 0.0,\n",
       " 0.0,\n",
       " 0.0,\n",
       " 0.0,\n",
       " 0.0,\n",
       " 0.0,\n",
       " 0.0,\n",
       " 0.0,\n",
       " 0.0,\n",
       " 0.0,\n",
       " 0.0,\n",
       " 0.0,\n",
       " 0.0,\n",
       " 0.0,\n",
       " 0.0,\n",
       " 0.0,\n",
       " 0.0,\n",
       " 0.0,\n",
       " 0.0,\n",
       " 0.0,\n",
       " 0.0,\n",
       " 0.0,\n",
       " 0.0,\n",
       " 0.0,\n",
       " 0.0,\n",
       " 0.0,\n",
       " 0.0018832391713747645,\n",
       " 0.0,\n",
       " 0.0,\n",
       " 0.0,\n",
       " 0.0,\n",
       " 0.0,\n",
       " 0.0,\n",
       " 0.0,\n",
       " 0.039548022598870046,\n",
       " 0.011299435028248588,\n",
       " 0.003766478342749529,\n",
       " 0.0018832391713747645,\n",
       " 0.005649717514124294,\n",
       " 0.003766478342749529,\n",
       " 0.020715630885122408,\n",
       " 0.005649717514124294,\n",
       " 0.0018832391713747645,\n",
       " 0.003766478342749529,\n",
       " 0.0018832391713747645,\n",
       " 0.005649717514124294,\n",
       " 0.003766478342749529,\n",
       " 0.0,\n",
       " 0.0,\n",
       " 0.0,\n",
       " 0.007532956685499058,\n",
       " 0.0,\n",
       " 0.0,\n",
       " 0.0,\n",
       " 0.0,\n",
       " 0.0,\n",
       " 0.0018832391713747645,\n",
       " 0.0,\n",
       " 0.003766478342749529,\n",
       " 0.0018832391713747645,\n",
       " 0.0,\n",
       " 0.003766478342749529,\n",
       " 0.005649717514124294,\n",
       " 0.0018832391713747645,\n",
       " 0.0,\n",
       " 0.003766478342749529,\n",
       " 0.0,\n",
       " 0.0018832391713747645,\n",
       " 0.003766478342749529,\n",
       " 0.0,\n",
       " 0.0018832391713747645,\n",
       " 0.0,\n",
       " 0.0,\n",
       " 0.0,\n",
       " 0.0,\n",
       " 0.0,\n",
       " 0.0,\n",
       " 0.0,\n",
       " 0.0018832391713747645,\n",
       " 0.003766478342749529,\n",
       " 0.0,\n",
       " 0.0,\n",
       " 0.0,\n",
       " 0.0,\n",
       " 0.0,\n",
       " 0.0,\n",
       " 0.0,\n",
       " 0.0,\n",
       " 0.0,\n",
       " 0.0,\n",
       " 0.0,\n",
       " 0.0018832391713747645,\n",
       " 0.0,\n",
       " 0.0,\n",
       " 0.0,\n",
       " 0.0,\n",
       " 0.0,\n",
       " 0.0,\n",
       " 0.003766478342749529,\n",
       " 0.0018832391713747645,\n",
       " 0.0,\n",
       " 0.0,\n",
       " 0.0,\n",
       " 0.0,\n",
       " 0.0018832391713747645,\n",
       " 0.0,\n",
       " 0.0018832391713747645,\n",
       " 0.0018832391713747645,\n",
       " 0.0018832391713747645,\n",
       " 0.0,\n",
       " 0.0,\n",
       " 0.0,\n",
       " 0.0,\n",
       " 0.0,\n",
       " 0.0,\n",
       " 0.0,\n",
       " 0.0018832391713747645,\n",
       " 0.0,\n",
       " 0.0,\n",
       " 0.0,\n",
       " 0.0,\n",
       " 0.0018832391713747645,\n",
       " 0.0,\n",
       " 0.0,\n",
       " 0.0,\n",
       " 0.0,\n",
       " 0.0,\n",
       " 0.0,\n",
       " 0.0,\n",
       " 0.0,\n",
       " 0.0,\n",
       " 0.0018832391713747645,\n",
       " 0.0,\n",
       " 0.0,\n",
       " 0.0018832391713747645,\n",
       " 0.0018832391713747645,\n",
       " 0.0,\n",
       " 0.0,\n",
       " 0.0,\n",
       " 0.0018832391713747645,\n",
       " 0.0,\n",
       " 0.0,\n",
       " 0.0,\n",
       " 0.0,\n",
       " 0.0,\n",
       " 0.0,\n",
       " 0.0,\n",
       " 0.0,\n",
       " 0.0,\n",
       " 0.0,\n",
       " 0.0,\n",
       " 0.0,\n",
       " 0.0,\n",
       " 0.0,\n",
       " 0.0,\n",
       " 0.0,\n",
       " 0.0018832391713747645,\n",
       " 0.0,\n",
       " 0.0,\n",
       " 0.0,\n",
       " 0.0,\n",
       " 0.0,\n",
       " 0.0,\n",
       " 0.0,\n",
       " 0.0,\n",
       " 0.0,\n",
       " 0.0,\n",
       " 0.0,\n",
       " 0.0,\n",
       " 0.0,\n",
       " 0.0,\n",
       " 0.0,\n",
       " 0.0,\n",
       " 0.0,\n",
       " 0.0,\n",
       " 0.0,\n",
       " 0.0,\n",
       " 0.0,\n",
       " 0.0018832391713747645,\n",
       " 0.0,\n",
       " 0.0,\n",
       " 0.0,\n",
       " 0.0,\n",
       " 0.0,\n",
       " 0.0,\n",
       " 0.0,\n",
       " 0.0,\n",
       " 0.0,\n",
       " 0.0,\n",
       " 0.0,\n",
       " 0.0,\n",
       " 0.0,\n",
       " 0.0,\n",
       " 0.0,\n",
       " 0.0,\n",
       " 0.020715630885122408,\n",
       " 0.011299435028248588,\n",
       " 0.015065913370998116,\n",
       " 0.005649717514124294,\n",
       " 0.009416195856873822,\n",
       " 0.003766478342749529,\n",
       " 0.003766478342749529,\n",
       " 0.0018832391713747645,\n",
       " 0.0018832391713747645,\n",
       " 0.0,\n",
       " 0.007532956685499058,\n",
       " 0.0,\n",
       " 0.003766478342749529,\n",
       " 0.0,\n",
       " 0.0018832391713747645,\n",
       " 0.0,\n",
       " 0.0,\n",
       " 0.0018832391713747645,\n",
       " 0.0,\n",
       " 0.0018832391713747645,\n",
       " 0.0018832391713747645,\n",
       " 0.0018832391713747645,\n",
       " 0.0,\n",
       " 0.0,\n",
       " 0.0,\n",
       " 0.003766478342749529,\n",
       " 0.0,\n",
       " 0.0,\n",
       " 0.0018832391713747645,\n",
       " 0.0,\n",
       " 0.0018832391713747645,\n",
       " 0.0,\n",
       " 0.0,\n",
       " 0.0018832391713747645,\n",
       " 0.0,\n",
       " 0.0,\n",
       " 0.0018832391713747645,\n",
       " 0.0018832391713747645,\n",
       " 0.0,\n",
       " 0.0,\n",
       " 0.0,\n",
       " 0.0,\n",
       " 0.0018832391713747645,\n",
       " 0.0,\n",
       " 0.0018832391713747645,\n",
       " 0.003766478342749529,\n",
       " 0.0018832391713747645,\n",
       " 0.0,\n",
       " 0.0,\n",
       " 0.0,\n",
       " 0.0,\n",
       " 0.0,\n",
       " 0.0018832391713747645,\n",
       " 0.0,\n",
       " 0.0018832391713747645,\n",
       " 0.0,\n",
       " 0.0,\n",
       " 0.0,\n",
       " 0.0,\n",
       " 0.0,\n",
       " 0.0,\n",
       " 0.0,\n",
       " 0.0,\n",
       " 0.0,\n",
       " 0.0,\n",
       " 0.0,\n",
       " 0.0018832391713747645,\n",
       " 0.0018832391713747645,\n",
       " 0.0,\n",
       " 0.0,\n",
       " 0.0,\n",
       " 0.0,\n",
       " 0.0,\n",
       " 0.0,\n",
       " 0.0,\n",
       " 0.0018832391713747645,\n",
       " 0.0,\n",
       " 0.0,\n",
       " 0.0,\n",
       " 0.0018832391713747645,\n",
       " 0.0018832391713747645,\n",
       " 0.0,\n",
       " 0.0,\n",
       " 0.0,\n",
       " 0.0,\n",
       " 0.0,\n",
       " 0.0,\n",
       " 0.0,\n",
       " 0.0,\n",
       " 0.0,\n",
       " 0.0,\n",
       " 0.0,\n",
       " 0.0,\n",
       " 0.0,\n",
       " 0.0,\n",
       " 0.0018832391713747645,\n",
       " 0.0018832391713747645,\n",
       " 0.0,\n",
       " 0.0,\n",
       " 0.0,\n",
       " 0.0,\n",
       " 0.0,\n",
       " 0.0,\n",
       " 0.0,\n",
       " 0.0,\n",
       " 0.0,\n",
       " 0.0,\n",
       " 0.0,\n",
       " 0.0,\n",
       " 0.0,\n",
       " 0.0,\n",
       " 0.0,\n",
       " 0.0,\n",
       " 0.0,\n",
       " 0.0,\n",
       " 0.0,\n",
       " 0.0,\n",
       " 0.0,\n",
       " 0.0,\n",
       " 0.0,\n",
       " 0.0018832391713747645,\n",
       " 0.0,\n",
       " 0.0,\n",
       " 0.0,\n",
       " 0.0,\n",
       " 0.0,\n",
       " 0.0,\n",
       " 0.0,\n",
       " 0.0,\n",
       " 0.0,\n",
       " 0.0,\n",
       " 0.0,\n",
       " 0.0,\n",
       " 0.0,\n",
       " 0.0,\n",
       " 0.0018832391713747645,\n",
       " 0.0,\n",
       " 0.0,\n",
       " 0.0,\n",
       " 0.0,\n",
       " 0.0,\n",
       " 0.0,\n",
       " 0.0,\n",
       " 0.0,\n",
       " 0.0,\n",
       " 0.0,\n",
       " 0.0,\n",
       " 0.0,\n",
       " 0.0,\n",
       " 0.0,\n",
       " 0.0,\n",
       " 0.0,\n",
       " 0.0,\n",
       " 0.0,\n",
       " 0.0,\n",
       " 0.0,\n",
       " 0.0,\n",
       " 0.0,\n",
       " 0.0,\n",
       " 0.003766478342749529,\n",
       " 0.0018832391713747645,\n",
       " 0.007532956685499058,\n",
       " 0.0018832391713747645,\n",
       " 0.0,\n",
       " 0.0018832391713747645,\n",
       " 0.005649717514124294,\n",
       " 0.005649717514124294,\n",
       " 0.0,\n",
       " 0.0018832391713747645,\n",
       " 0.0018832391713747645,\n",
       " 0.0,\n",
       " 0.0,\n",
       " 0.0018832391713747645,\n",
       " 0.0018832391713747645,\n",
       " 0.0,\n",
       " 0.0,\n",
       " 0.0018832391713747645,\n",
       " 0.0018832391713747645,\n",
       " 0.0,\n",
       " 0.003766478342749529,\n",
       " 0.0,\n",
       " 0.0018832391713747645,\n",
       " 0.0,\n",
       " 0.0,\n",
       " 0.0,\n",
       " 0.0018832391713747645,\n",
       " 0.0018832391713747645,\n",
       " 0.0,\n",
       " 0.0,\n",
       " 0.0,\n",
       " 0.0,\n",
       " 0.0,\n",
       " 0.0,\n",
       " 0.0,\n",
       " 0.0,\n",
       " 0.003766478342749529,\n",
       " 0.0,\n",
       " 0.0,\n",
       " 0.0,\n",
       " 0.0,\n",
       " 0.0,\n",
       " 0.0,\n",
       " 0.0,\n",
       " 0.0,\n",
       " 0.0,\n",
       " 0.0018832391713747645,\n",
       " 0.0,\n",
       " 0.0018832391713747645,\n",
       " 0.0,\n",
       " 0.0018832391713747645,\n",
       " 0.003766478342749529,\n",
       " 0.0,\n",
       " 0.0,\n",
       " 0.0,\n",
       " 0.0,\n",
       " 0.0,\n",
       " 0.0,\n",
       " 0.0,\n",
       " 0.0,\n",
       " 0.0,\n",
       " 0.0,\n",
       " 0.0,\n",
       " 0.0,\n",
       " 0.0,\n",
       " 0.0,\n",
       " 0.0,\n",
       " 0.0018832391713747645,\n",
       " 0.0,\n",
       " 0.003766478342749529,\n",
       " ...]"
      ]
     },
     "execution_count": 80,
     "metadata": {},
     "output_type": "execute_result"
    }
   ],
   "source": [
    "ab.scores()"
   ]
  },
  {
   "cell_type": "code",
   "execution_count": 93,
   "metadata": {},
   "outputs": [
    {
     "data": {
      "text/plain": [
       "0.3"
      ]
     },
     "execution_count": 93,
     "metadata": {},
     "output_type": "execute_result"
    }
   ],
   "source": [
    "top_n_percentage(np.array(ab.scores()), G_pyg_.y, k=1)"
   ]
  },
  {
   "cell_type": "code",
   "execution_count": 96,
   "metadata": {},
   "outputs": [
    {
     "data": {
      "text/plain": [
       "0.1908080408229779"
      ]
     },
     "execution_count": 96,
     "metadata": {},
     "output_type": "execute_result"
    }
   ],
   "source": [
    "kendal_tau_distance(np.array(ab.scores()), G_pyg_.y)"
   ]
  },
  {
   "cell_type": "markdown",
   "metadata": {},
   "source": [
    "### Synthetic"
   ]
  },
  {
   "cell_type": "code",
   "execution_count": 126,
   "metadata": {},
   "outputs": [],
   "source": [
    "with open(os.path.join(setting.root, \"rk.json\"), \"w\") as f:\n",
    "    jsn = {\n",
    "        \"top1\": [],\n",
    "        \"top5\": [],\n",
    "        \"top10\": [],\n",
    "        \"kendal\": [],\n",
    "        \"time\": []\n",
    "    }\n",
    "    for edge_list, score in zip(synthetic, between):\n",
    "        G_nx = nx.readwrite.edgelist.read_edgelist(edge_list, delimiter=\"\\t\")\n",
    "        G_nk = nk.nxadapter.nx2nk(G_nx)\n",
    "        G_pyg = to_data(edge_list, score)\n",
    "        \n",
    "        method = nk.centrality.ApproxBetweenness(G_nk, epsilon=0.1)\n",
    "        start = time.time()\n",
    "        method.run()\n",
    "        end = time.time()\n",
    "        \n",
    "        jsn[\"time\"].append(end-start)\n",
    "        jsn[\"kendal\"].append(kendal_tau_distance(np.array(method.scores()), G_pyg.y))\n",
    "        jsn[\"top1\"].append(top_n_percentage(np.array(method.scores()), G_pyg.y, k=1))\n",
    "        jsn[\"top5\"].append(top_n_percentage(np.array(method.scores()), G_pyg.y, k=5))\n",
    "        jsn[\"top10\"].append(top_n_percentage(np.array(method.scores()), G_pyg.y, k=10))\n",
    "        \n",
    "    json.dump(jsn, f)"
   ]
  },
  {
   "cell_type": "markdown",
   "metadata": {},
   "source": [
    "## ABRA"
   ]
  },
  {
   "cell_type": "markdown",
   "metadata": {},
   "source": [
    "Approximating betweenness centrality in static and dynamic graphs with rademacher averages\n",
    "\n",
    "error tolerance λ to 0.01 and the probability δ to 0.1"
   ]
  },
  {
   "cell_type": "code",
   "execution_count": null,
   "metadata": {},
   "outputs": [],
   "source": []
  },
  {
   "cell_type": "markdown",
   "metadata": {},
   "source": [
    "## KADABRA"
   ]
  },
  {
   "cell_type": "code",
   "execution_count": 69,
   "metadata": {},
   "outputs": [
    {
     "data": {
      "text/plain": [
       "<networkit._NetworKit.KadabraBetweenness at 0x7fad034f8bf0>"
      ]
     },
     "execution_count": 69,
     "metadata": {},
     "output_type": "execute_result"
    }
   ],
   "source": [
    "# Initialize algorithm \n",
    "kadabra = nk.centrality.KadabraBetweenness(G_nk, 0.05, 0.8) \n",
    "kadabra.run() "
   ]
  },
  {
   "cell_type": "code",
   "execution_count": 81,
   "metadata": {},
   "outputs": [
    {
     "data": {
      "text/plain": [
       "[0.19547325102880658,\n",
       " 0.1337448559670782,\n",
       " 0.1748971193415638,\n",
       " 0.037037037037037035,\n",
       " 0.05555555555555555,\n",
       " 0.03909465020576132,\n",
       " 0.024691358024691357,\n",
       " 0.01646090534979424,\n",
       " 0.05555555555555555,\n",
       " 0.0411522633744856,\n",
       " 0.03292181069958848,\n",
       " 0.00411522633744856,\n",
       " 0.01440329218106996,\n",
       " 0.026748971193415638,\n",
       " 0.012345679012345678,\n",
       " 0.01440329218106996,\n",
       " 0.01440329218106996,\n",
       " 0.018518518518518517,\n",
       " 0.00823045267489712,\n",
       " 0.030864197530864196,\n",
       " 0.00205761316872428,\n",
       " 0.01646090534979424,\n",
       " 0.012345679012345678,\n",
       " 0.00411522633744856,\n",
       " 0.0,\n",
       " 0.012345679012345678,\n",
       " 0.012345679012345678,\n",
       " 0.01646090534979424,\n",
       " 0.006172839506172839,\n",
       " 0.00823045267489712,\n",
       " 0.00411522633744856,\n",
       " 0.00823045267489712,\n",
       " 0.0,\n",
       " 0.00411522633744856,\n",
       " 0.00823045267489712,\n",
       " 0.0,\n",
       " 0.012345679012345678,\n",
       " 0.00205761316872428,\n",
       " 0.0,\n",
       " 0.00823045267489712,\n",
       " 0.00205761316872428,\n",
       " 0.00205761316872428,\n",
       " 0.0,\n",
       " 0.006172839506172839,\n",
       " 0.00411522633744856,\n",
       " 0.006172839506172839,\n",
       " 0.0,\n",
       " 0.00411522633744856,\n",
       " 0.00411522633744856,\n",
       " 0.0,\n",
       " 0.0,\n",
       " 0.00205761316872428,\n",
       " 0.012345679012345678,\n",
       " 0.0102880658436214,\n",
       " 0.00823045267489712,\n",
       " 0.0,\n",
       " 0.0,\n",
       " 0.00205761316872428,\n",
       " 0.00205761316872428,\n",
       " 0.00205761316872428,\n",
       " 0.00411522633744856,\n",
       " 0.00411522633744856,\n",
       " 0.00823045267489712,\n",
       " 0.00205761316872428,\n",
       " 0.0,\n",
       " 0.0,\n",
       " 0.00205761316872428,\n",
       " 0.00205761316872428,\n",
       " 0.006172839506172839,\n",
       " 0.0,\n",
       " 0.0,\n",
       " 0.00205761316872428,\n",
       " 0.00205761316872428,\n",
       " 0.0,\n",
       " 0.00205761316872428,\n",
       " 0.00411522633744856,\n",
       " 0.0,\n",
       " 0.00411522633744856,\n",
       " 0.00205761316872428,\n",
       " 0.00205761316872428,\n",
       " 0.00205761316872428,\n",
       " 0.0,\n",
       " 0.00411522633744856,\n",
       " 0.00205761316872428,\n",
       " 0.00205761316872428,\n",
       " 0.00411522633744856,\n",
       " 0.0,\n",
       " 0.00205761316872428,\n",
       " 0.00411522633744856,\n",
       " 0.0,\n",
       " 0.00205761316872428,\n",
       " 0.0,\n",
       " 0.00205761316872428,\n",
       " 0.0,\n",
       " 0.006172839506172839,\n",
       " 0.0,\n",
       " 0.0,\n",
       " 0.0,\n",
       " 0.0,\n",
       " 0.0,\n",
       " 0.006172839506172839,\n",
       " 0.00205761316872428,\n",
       " 0.0,\n",
       " 0.00205761316872428,\n",
       " 0.0,\n",
       " 0.0,\n",
       " 0.00205761316872428,\n",
       " 0.00411522633744856,\n",
       " 0.0,\n",
       " 0.00411522633744856,\n",
       " 0.0,\n",
       " 0.00205761316872428,\n",
       " 0.00205761316872428,\n",
       " 0.00205761316872428,\n",
       " 0.00205761316872428,\n",
       " 0.006172839506172839,\n",
       " 0.00205761316872428,\n",
       " 0.0,\n",
       " 0.00205761316872428,\n",
       " 0.0,\n",
       " 0.00205761316872428,\n",
       " 0.0,\n",
       " 0.00411522633744856,\n",
       " 0.0,\n",
       " 0.0,\n",
       " 0.0,\n",
       " 0.00205761316872428,\n",
       " 0.0,\n",
       " 0.0,\n",
       " 0.0,\n",
       " 0.0,\n",
       " 0.0,\n",
       " 0.00205761316872428,\n",
       " 0.0,\n",
       " 0.00205761316872428,\n",
       " 0.0,\n",
       " 0.0,\n",
       " 0.0,\n",
       " 0.00411522633744856,\n",
       " 0.0,\n",
       " 0.0,\n",
       " 0.0,\n",
       " 0.0,\n",
       " 0.0,\n",
       " 0.0,\n",
       " 0.0,\n",
       " 0.0,\n",
       " 0.0,\n",
       " 0.00205761316872428,\n",
       " 0.00411522633744856,\n",
       " 0.00205761316872428,\n",
       " 0.0,\n",
       " 0.00205761316872428,\n",
       " 0.00205761316872428,\n",
       " 0.0,\n",
       " 0.0,\n",
       " 0.0,\n",
       " 0.0,\n",
       " 0.0,\n",
       " 0.00205761316872428,\n",
       " 0.0,\n",
       " 0.0,\n",
       " 0.0,\n",
       " 0.00411522633744856,\n",
       " 0.0,\n",
       " 0.0,\n",
       " 0.0,\n",
       " 0.00205761316872428,\n",
       " 0.0,\n",
       " 0.00205761316872428,\n",
       " 0.00411522633744856,\n",
       " 0.0,\n",
       " 0.0,\n",
       " 0.0,\n",
       " 0.0,\n",
       " 0.0,\n",
       " 0.0,\n",
       " 0.0,\n",
       " 0.0,\n",
       " 0.00205761316872428,\n",
       " 0.0,\n",
       " 0.0,\n",
       " 0.0,\n",
       " 0.0,\n",
       " 0.0,\n",
       " 0.0,\n",
       " 0.0,\n",
       " 0.0,\n",
       " 0.0,\n",
       " 0.0,\n",
       " 0.0,\n",
       " 0.0,\n",
       " 0.0,\n",
       " 0.0,\n",
       " 0.0,\n",
       " 0.00205761316872428,\n",
       " 0.0,\n",
       " 0.0,\n",
       " 0.0,\n",
       " 0.0,\n",
       " 0.0,\n",
       " 0.0,\n",
       " 0.00205761316872428,\n",
       " 0.0,\n",
       " 0.0,\n",
       " 0.0,\n",
       " 0.0,\n",
       " 0.00205761316872428,\n",
       " 0.0,\n",
       " 0.00205761316872428,\n",
       " 0.0,\n",
       " 0.0,\n",
       " 0.0,\n",
       " 0.0,\n",
       " 0.0,\n",
       " 0.0,\n",
       " 0.0,\n",
       " 0.0,\n",
       " 0.0,\n",
       " 0.0,\n",
       " 0.0,\n",
       " 0.0,\n",
       " 0.0,\n",
       " 0.0,\n",
       " 0.0,\n",
       " 0.0,\n",
       " 0.0,\n",
       " 0.0,\n",
       " 0.0,\n",
       " 0.00205761316872428,\n",
       " 0.0,\n",
       " 0.0,\n",
       " 0.0,\n",
       " 0.0,\n",
       " 0.0,\n",
       " 0.0,\n",
       " 0.00205761316872428,\n",
       " 0.0,\n",
       " 0.0,\n",
       " 0.0,\n",
       " 0.10699588477366255,\n",
       " 0.01646090534979424,\n",
       " 0.11316872427983539,\n",
       " 0.030864197530864196,\n",
       " 0.07407407407407407,\n",
       " 0.0102880658436214,\n",
       " 0.037037037037037035,\n",
       " 0.01646090534979424,\n",
       " 0.006172839506172839,\n",
       " 0.012345679012345678,\n",
       " 0.006172839506172839,\n",
       " 0.0,\n",
       " 0.00205761316872428,\n",
       " 0.0,\n",
       " 0.00205761316872428,\n",
       " 0.00411522633744856,\n",
       " 0.012345679012345678,\n",
       " 0.0,\n",
       " 0.0,\n",
       " 0.00411522633744856,\n",
       " 0.00205761316872428,\n",
       " 0.00205761316872428,\n",
       " 0.00205761316872428,\n",
       " 0.00823045267489712,\n",
       " 0.00411522633744856,\n",
       " 0.00411522633744856,\n",
       " 0.00205761316872428,\n",
       " 0.0,\n",
       " 0.006172839506172839,\n",
       " 0.00205761316872428,\n",
       " 0.00411522633744856,\n",
       " 0.00205761316872428,\n",
       " 0.0,\n",
       " 0.0,\n",
       " 0.00411522633744856,\n",
       " 0.00205761316872428,\n",
       " 0.0,\n",
       " 0.00823045267489712,\n",
       " 0.0,\n",
       " 0.0,\n",
       " 0.0,\n",
       " 0.00411522633744856,\n",
       " 0.0,\n",
       " 0.00205761316872428,\n",
       " 0.00205761316872428,\n",
       " 0.00205761316872428,\n",
       " 0.00205761316872428,\n",
       " 0.00205761316872428,\n",
       " 0.0,\n",
       " 0.00205761316872428,\n",
       " 0.00205761316872428,\n",
       " 0.0,\n",
       " 0.00205761316872428,\n",
       " 0.00205761316872428,\n",
       " 0.0,\n",
       " 0.00411522633744856,\n",
       " 0.0,\n",
       " 0.00205761316872428,\n",
       " 0.0,\n",
       " 0.0,\n",
       " 0.0,\n",
       " 0.0,\n",
       " 0.0,\n",
       " 0.00205761316872428,\n",
       " 0.00205761316872428,\n",
       " 0.0,\n",
       " 0.0,\n",
       " 0.0,\n",
       " 0.00205761316872428,\n",
       " 0.0,\n",
       " 0.0,\n",
       " 0.0,\n",
       " 0.0,\n",
       " 0.00205761316872428,\n",
       " 0.00205761316872428,\n",
       " 0.00411522633744856,\n",
       " 0.0,\n",
       " 0.0,\n",
       " 0.0,\n",
       " 0.00205761316872428,\n",
       " 0.00205761316872428,\n",
       " 0.0,\n",
       " 0.00823045267489712,\n",
       " 0.00205761316872428,\n",
       " 0.00411522633744856,\n",
       " 0.00205761316872428,\n",
       " 0.0,\n",
       " 0.0,\n",
       " 0.00205761316872428,\n",
       " 0.0,\n",
       " 0.0,\n",
       " 0.0,\n",
       " 0.0,\n",
       " 0.00205761316872428,\n",
       " 0.0,\n",
       " 0.0,\n",
       " 0.00205761316872428,\n",
       " 0.00205761316872428,\n",
       " 0.0,\n",
       " 0.0,\n",
       " 0.00205761316872428,\n",
       " 0.0,\n",
       " 0.0,\n",
       " 0.0,\n",
       " 0.0,\n",
       " 0.0,\n",
       " 0.0,\n",
       " 0.00205761316872428,\n",
       " 0.0,\n",
       " 0.0,\n",
       " 0.00205761316872428,\n",
       " 0.0,\n",
       " 0.00205761316872428,\n",
       " 0.0,\n",
       " 0.0,\n",
       " 0.00205761316872428,\n",
       " 0.0,\n",
       " 0.0,\n",
       " 0.0,\n",
       " 0.0,\n",
       " 0.0,\n",
       " 0.0,\n",
       " 0.0,\n",
       " 0.0,\n",
       " 0.0,\n",
       " 0.0,\n",
       " 0.0,\n",
       " 0.0,\n",
       " 0.0,\n",
       " 0.0,\n",
       " 0.00205761316872428,\n",
       " 0.0,\n",
       " 0.0,\n",
       " 0.0,\n",
       " 0.0,\n",
       " 0.0,\n",
       " 0.0,\n",
       " 0.0,\n",
       " 0.0,\n",
       " 0.0,\n",
       " 0.0,\n",
       " 0.0,\n",
       " 0.00205761316872428,\n",
       " 0.00411522633744856,\n",
       " 0.0,\n",
       " 0.0,\n",
       " 0.0,\n",
       " 0.0,\n",
       " 0.0,\n",
       " 0.0,\n",
       " 0.00411522633744856,\n",
       " 0.0,\n",
       " 0.0,\n",
       " 0.0,\n",
       " 0.0,\n",
       " 0.0,\n",
       " 0.0,\n",
       " 0.0,\n",
       " 0.0,\n",
       " 0.0,\n",
       " 0.00205761316872428,\n",
       " 0.0,\n",
       " 0.0,\n",
       " 0.0,\n",
       " 0.0,\n",
       " 0.0,\n",
       " 0.0,\n",
       " 0.0,\n",
       " 0.0,\n",
       " 0.0,\n",
       " 0.0,\n",
       " 0.08436213991769548,\n",
       " 0.102880658436214,\n",
       " 0.047325102880658436,\n",
       " 0.024691358024691357,\n",
       " 0.01646090534979424,\n",
       " 0.01440329218106996,\n",
       " 0.012345679012345678,\n",
       " 0.00823045267489712,\n",
       " 0.02263374485596708,\n",
       " 0.00205761316872428,\n",
       " 0.012345679012345678,\n",
       " 0.00411522633744856,\n",
       " 0.00411522633744856,\n",
       " 0.01646090534979424,\n",
       " 0.00411522633744856,\n",
       " 0.00205761316872428,\n",
       " 0.00411522633744856,\n",
       " 0.006172839506172839,\n",
       " 0.0,\n",
       " 0.0,\n",
       " 0.00205761316872428,\n",
       " 0.0,\n",
       " 0.00205761316872428,\n",
       " 0.00205761316872428,\n",
       " 0.0,\n",
       " 0.00205761316872428,\n",
       " 0.00205761316872428,\n",
       " 0.0,\n",
       " 0.0,\n",
       " 0.0,\n",
       " 0.00205761316872428,\n",
       " 0.0,\n",
       " 0.00205761316872428,\n",
       " 0.0,\n",
       " 0.00205761316872428,\n",
       " 0.00205761316872428,\n",
       " 0.00411522633744856,\n",
       " 0.0,\n",
       " 0.0,\n",
       " 0.00205761316872428,\n",
       " 0.0,\n",
       " 0.00205761316872428,\n",
       " 0.00205761316872428,\n",
       " 0.0,\n",
       " 0.0,\n",
       " 0.0,\n",
       " 0.0,\n",
       " 0.0,\n",
       " 0.00205761316872428,\n",
       " 0.0,\n",
       " 0.00205761316872428,\n",
       " 0.0,\n",
       " 0.0,\n",
       " 0.0,\n",
       " 0.00205761316872428,\n",
       " 0.00205761316872428,\n",
       " 0.00205761316872428,\n",
       " 0.00205761316872428,\n",
       " 0.0,\n",
       " 0.0,\n",
       " 0.0,\n",
       " 0.00205761316872428,\n",
       " 0.0,\n",
       " 0.0,\n",
       " 0.0,\n",
       " 0.0,\n",
       " 0.0,\n",
       " 0.00205761316872428,\n",
       " 0.0,\n",
       " 0.0,\n",
       " 0.0,\n",
       " 0.00205761316872428,\n",
       " 0.0,\n",
       " 0.0,\n",
       " 0.0,\n",
       " 0.00205761316872428,\n",
       " 0.0,\n",
       " 0.00411522633744856,\n",
       " 0.0,\n",
       " 0.00205761316872428,\n",
       " 0.00205761316872428,\n",
       " 0.00205761316872428,\n",
       " 0.0,\n",
       " 0.0,\n",
       " 0.0,\n",
       " 0.0,\n",
       " 0.0,\n",
       " 0.0,\n",
       " 0.0,\n",
       " 0.0,\n",
       " 0.00205761316872428,\n",
       " 0.0,\n",
       " 0.0,\n",
       " 0.0,\n",
       " 0.0,\n",
       " 0.00205761316872428,\n",
       " 0.00205761316872428,\n",
       " 0.0,\n",
       " 0.0,\n",
       " 0.0,\n",
       " 0.0,\n",
       " 0.0,\n",
       " 0.0,\n",
       " 0.00205761316872428,\n",
       " 0.0,\n",
       " 0.0,\n",
       " 0.0,\n",
       " 0.00205761316872428,\n",
       " 0.0,\n",
       " 0.0,\n",
       " 0.0,\n",
       " 0.0,\n",
       " 0.0,\n",
       " 0.0,\n",
       " 0.0,\n",
       " 0.0,\n",
       " 0.00205761316872428,\n",
       " 0.0,\n",
       " 0.00205761316872428,\n",
       " 0.0,\n",
       " 0.0,\n",
       " 0.0,\n",
       " 0.0,\n",
       " 0.0,\n",
       " 0.0,\n",
       " 0.00205761316872428,\n",
       " 0.0,\n",
       " 0.0,\n",
       " 0.0,\n",
       " 0.0,\n",
       " 0.0,\n",
       " 0.0,\n",
       " 0.04938271604938271,\n",
       " 0.05555555555555555,\n",
       " 0.026748971193415638,\n",
       " 0.0205761316872428,\n",
       " 0.01646090534979424,\n",
       " 0.00205761316872428,\n",
       " 0.00205761316872428,\n",
       " 0.00411522633744856,\n",
       " 0.00411522633744856,\n",
       " 0.012345679012345678,\n",
       " 0.012345679012345678,\n",
       " 0.0,\n",
       " 0.00411522633744856,\n",
       " 0.0,\n",
       " 0.00411522633744856,\n",
       " 0.0,\n",
       " 0.0,\n",
       " 0.006172839506172839,\n",
       " 0.00205761316872428,\n",
       " 0.00205761316872428,\n",
       " 0.0,\n",
       " 0.00205761316872428,\n",
       " 0.0,\n",
       " 0.00205761316872428,\n",
       " 0.0,\n",
       " 0.0,\n",
       " 0.00205761316872428,\n",
       " 0.0,\n",
       " 0.0,\n",
       " 0.0,\n",
       " 0.0,\n",
       " 0.00205761316872428,\n",
       " 0.0,\n",
       " 0.00411522633744856,\n",
       " 0.0,\n",
       " 0.0,\n",
       " 0.00205761316872428,\n",
       " 0.0,\n",
       " 0.0,\n",
       " 0.0,\n",
       " 0.0,\n",
       " 0.0,\n",
       " 0.0,\n",
       " 0.0,\n",
       " 0.00205761316872428,\n",
       " 0.0,\n",
       " 0.00205761316872428,\n",
       " 0.0,\n",
       " 0.0,\n",
       " 0.0,\n",
       " 0.0,\n",
       " 0.0,\n",
       " 0.0,\n",
       " 0.0,\n",
       " 0.0,\n",
       " 0.0,\n",
       " 0.0,\n",
       " 0.0,\n",
       " 0.0,\n",
       " 0.0,\n",
       " 0.0,\n",
       " 0.0,\n",
       " 0.0,\n",
       " 0.0,\n",
       " 0.0,\n",
       " 0.0,\n",
       " 0.0,\n",
       " 0.06378600823045268,\n",
       " 0.012345679012345678,\n",
       " 0.0102880658436214,\n",
       " 0.00205761316872428,\n",
       " 0.00205761316872428,\n",
       " 0.00411522633744856,\n",
       " 0.047325102880658436,\n",
       " 0.01646090534979424,\n",
       " 0.00823045267489712,\n",
       " 0.006172839506172839,\n",
       " 0.00205761316872428,\n",
       " 0.012345679012345678,\n",
       " 0.006172839506172839,\n",
       " 0.0,\n",
       " 0.0,\n",
       " 0.0,\n",
       " 0.006172839506172839,\n",
       " 0.00205761316872428,\n",
       " 0.006172839506172839,\n",
       " 0.0,\n",
       " 0.00205761316872428,\n",
       " 0.00205761316872428,\n",
       " 0.006172839506172839,\n",
       " 0.00411522633744856,\n",
       " 0.00411522633744856,\n",
       " 0.00205761316872428,\n",
       " 0.0,\n",
       " 0.00205761316872428,\n",
       " 0.00411522633744856,\n",
       " 0.0,\n",
       " 0.0,\n",
       " 0.00205761316872428,\n",
       " 0.0,\n",
       " 0.00205761316872428,\n",
       " 0.00205761316872428,\n",
       " 0.0,\n",
       " 0.006172839506172839,\n",
       " 0.0,\n",
       " 0.0,\n",
       " 0.00205761316872428,\n",
       " 0.00205761316872428,\n",
       " 0.00823045267489712,\n",
       " 0.0,\n",
       " 0.00205761316872428,\n",
       " 0.0,\n",
       " 0.006172839506172839,\n",
       " 0.00411522633744856,\n",
       " 0.0,\n",
       " 0.00205761316872428,\n",
       " 0.0,\n",
       " 0.0,\n",
       " 0.00205761316872428,\n",
       " 0.0,\n",
       " 0.0,\n",
       " 0.0,\n",
       " 0.0,\n",
       " 0.00205761316872428,\n",
       " 0.0,\n",
       " 0.00205761316872428,\n",
       " 0.00205761316872428,\n",
       " 0.0,\n",
       " 0.0,\n",
       " 0.0,\n",
       " 0.0,\n",
       " 0.006172839506172839,\n",
       " 0.00205761316872428,\n",
       " 0.0,\n",
       " 0.00205761316872428,\n",
       " 0.00205761316872428,\n",
       " 0.0,\n",
       " 0.00205761316872428,\n",
       " 0.0,\n",
       " 0.0,\n",
       " 0.00205761316872428,\n",
       " 0.00205761316872428,\n",
       " 0.0,\n",
       " 0.00205761316872428,\n",
       " 0.0,\n",
       " 0.0,\n",
       " 0.00205761316872428,\n",
       " 0.0,\n",
       " 0.0,\n",
       " 0.00205761316872428,\n",
       " 0.00205761316872428,\n",
       " 0.0,\n",
       " 0.0,\n",
       " 0.0,\n",
       " 0.0,\n",
       " 0.00205761316872428,\n",
       " 0.0,\n",
       " 0.00205761316872428,\n",
       " 0.0,\n",
       " 0.00205761316872428,\n",
       " 0.0,\n",
       " 0.0,\n",
       " 0.0,\n",
       " 0.0,\n",
       " 0.0,\n",
       " 0.0,\n",
       " 0.0,\n",
       " 0.0,\n",
       " 0.00205761316872428,\n",
       " 0.0,\n",
       " 0.0,\n",
       " 0.0,\n",
       " 0.0,\n",
       " 0.0,\n",
       " 0.0,\n",
       " 0.0,\n",
       " 0.0,\n",
       " 0.00205761316872428,\n",
       " 0.0,\n",
       " 0.0,\n",
       " 0.00205761316872428,\n",
       " 0.0,\n",
       " 0.0,\n",
       " 0.0,\n",
       " 0.0,\n",
       " 0.0,\n",
       " 0.0,\n",
       " 0.00205761316872428,\n",
       " 0.0,\n",
       " 0.0,\n",
       " 0.0,\n",
       " 0.0,\n",
       " 0.0,\n",
       " 0.0,\n",
       " 0.0,\n",
       " 0.0,\n",
       " 0.0,\n",
       " 0.0,\n",
       " 0.0,\n",
       " 0.0,\n",
       " 0.0,\n",
       " 0.0,\n",
       " 0.0,\n",
       " 0.0,\n",
       " 0.0,\n",
       " 0.0,\n",
       " 0.00205761316872428,\n",
       " 0.0,\n",
       " 0.0,\n",
       " 0.0,\n",
       " 0.0,\n",
       " 0.0,\n",
       " 0.0,\n",
       " 0.0,\n",
       " 0.0,\n",
       " 0.0,\n",
       " 0.0,\n",
       " 0.00205761316872428,\n",
       " 0.0,\n",
       " 0.0,\n",
       " 0.0,\n",
       " 0.0,\n",
       " 0.0,\n",
       " 0.0,\n",
       " 0.0,\n",
       " 0.0,\n",
       " 0.0,\n",
       " 0.0,\n",
       " 0.02880658436213992,\n",
       " 0.03497942386831276,\n",
       " 0.03292181069958848,\n",
       " 0.00823045267489712,\n",
       " 0.03497942386831276,\n",
       " 0.012345679012345678,\n",
       " 0.0102880658436214,\n",
       " 0.00411522633744856,\n",
       " 0.00823045267489712,\n",
       " 0.00205761316872428,\n",
       " 0.018518518518518517,\n",
       " 0.00823045267489712,\n",
       " 0.02263374485596708,\n",
       " 0.0,\n",
       " 0.006172839506172839,\n",
       " 0.006172839506172839,\n",
       " 0.00205761316872428,\n",
       " 0.00411522633744856,\n",
       " 0.00411522633744856,\n",
       " 0.00411522633744856,\n",
       " 0.00205761316872428,\n",
       " 0.00205761316872428,\n",
       " 0.0,\n",
       " 0.00411522633744856,\n",
       " 0.0,\n",
       " 0.0,\n",
       " 0.00205761316872428,\n",
       " 0.0,\n",
       " 0.0,\n",
       " 0.00411522633744856,\n",
       " 0.00411522633744856,\n",
       " 0.0,\n",
       " 0.00205761316872428,\n",
       " 0.00411522633744856,\n",
       " 0.00205761316872428,\n",
       " 0.00205761316872428,\n",
       " 0.00205761316872428,\n",
       " 0.00205761316872428,\n",
       " 0.0,\n",
       " 0.00205761316872428,\n",
       " 0.00205761316872428,\n",
       " 0.0,\n",
       " 0.0,\n",
       " 0.0,\n",
       " 0.0,\n",
       " 0.0,\n",
       " 0.0,\n",
       " 0.0,\n",
       " 0.0,\n",
       " 0.0,\n",
       " 0.00205761316872428,\n",
       " 0.0,\n",
       " 0.0,\n",
       " 0.00411522633744856,\n",
       " 0.0,\n",
       " 0.006172839506172839,\n",
       " 0.00411522633744856,\n",
       " 0.00205761316872428,\n",
       " 0.0,\n",
       " 0.0,\n",
       " 0.0,\n",
       " 0.0,\n",
       " 0.0,\n",
       " 0.00205761316872428,\n",
       " 0.00411522633744856,\n",
       " 0.00205761316872428,\n",
       " 0.0,\n",
       " 0.0,\n",
       " 0.0,\n",
       " 0.00205761316872428,\n",
       " 0.0,\n",
       " 0.00205761316872428,\n",
       " 0.0,\n",
       " 0.0,\n",
       " 0.00205761316872428,\n",
       " 0.00205761316872428,\n",
       " 0.00205761316872428,\n",
       " 0.0,\n",
       " 0.0,\n",
       " 0.0,\n",
       " 0.00205761316872428,\n",
       " 0.0,\n",
       " 0.0,\n",
       " 0.0,\n",
       " 0.0,\n",
       " 0.0,\n",
       " 0.0,\n",
       " 0.0,\n",
       " 0.0,\n",
       " 0.0,\n",
       " 0.0,\n",
       " 0.0,\n",
       " 0.00205761316872428,\n",
       " 0.0,\n",
       " 0.0,\n",
       " 0.0,\n",
       " 0.006172839506172839,\n",
       " 0.0,\n",
       " 0.0,\n",
       " 0.0,\n",
       " 0.0,\n",
       " 0.0,\n",
       " 0.00205761316872428,\n",
       " 0.0,\n",
       " 0.0,\n",
       " 0.0,\n",
       " 0.00205761316872428,\n",
       " 0.0,\n",
       " 0.00205761316872428,\n",
       " 0.0,\n",
       " 0.0,\n",
       " 0.00205761316872428,\n",
       " 0.0,\n",
       " 0.0,\n",
       " 0.0,\n",
       " 0.0,\n",
       " 0.0,\n",
       " 0.00205761316872428,\n",
       " 0.0,\n",
       " 0.0,\n",
       " 0.0,\n",
       " 0.0,\n",
       " 0.0,\n",
       " 0.0,\n",
       " 0.0,\n",
       " 0.00205761316872428,\n",
       " 0.0,\n",
       " 0.0,\n",
       " 0.0,\n",
       " 0.0,\n",
       " 0.0,\n",
       " 0.0,\n",
       " 0.0,\n",
       " 0.0,\n",
       " 0.0,\n",
       " 0.0,\n",
       " 0.0,\n",
       " 0.0,\n",
       " 0.00205761316872428,\n",
       " 0.0,\n",
       " 0.0,\n",
       " 0.0,\n",
       " 0.0,\n",
       " 0.0,\n",
       " 0.0,\n",
       " 0.0,\n",
       " 0.0,\n",
       " 0.0,\n",
       " 0.0,\n",
       " 0.0,\n",
       " 0.0,\n",
       " 0.0,\n",
       " 0.0,\n",
       " 0.0,\n",
       " 0.0,\n",
       " 0.0,\n",
       " 0.0,\n",
       " 0.0,\n",
       " 0.0,\n",
       " 0.0102880658436214,\n",
       " 0.00411522633744856,\n",
       " 0.00411522633744856,\n",
       " 0.006172839506172839,\n",
       " 0.00411522633744856,\n",
       " 0.0,\n",
       " 0.00205761316872428,\n",
       " 0.006172839506172839,\n",
       " 0.00205761316872428,\n",
       " 0.006172839506172839,\n",
       " 0.00205761316872428,\n",
       " 0.0,\n",
       " 0.0,\n",
       " 0.00205761316872428,\n",
       " 0.006172839506172839,\n",
       " 0.00205761316872428,\n",
       " 0.006172839506172839,\n",
       " 0.006172839506172839,\n",
       " 0.00411522633744856,\n",
       " 0.0,\n",
       " 0.00411522633744856,\n",
       " 0.0,\n",
       " 0.00411522633744856,\n",
       " 0.0,\n",
       " 0.00205761316872428,\n",
       " 0.0,\n",
       " 0.00411522633744856,\n",
       " 0.0,\n",
       " 0.00205761316872428,\n",
       " 0.0,\n",
       " 0.0,\n",
       " 0.0,\n",
       " 0.0,\n",
       " 0.00411522633744856,\n",
       " 0.0,\n",
       " 0.006172839506172839,\n",
       " 0.00411522633744856,\n",
       " 0.0,\n",
       " 0.0,\n",
       " 0.0,\n",
       " 0.00205761316872428,\n",
       " 0.0,\n",
       " 0.00205761316872428,\n",
       " 0.0,\n",
       " 0.0,\n",
       " 0.0,\n",
       " 0.006172839506172839,\n",
       " 0.0,\n",
       " 0.0,\n",
       " 0.0,\n",
       " 0.00411522633744856,\n",
       " 0.00205761316872428,\n",
       " 0.0,\n",
       " 0.00205761316872428,\n",
       " 0.0,\n",
       " 0.00205761316872428,\n",
       " 0.00205761316872428,\n",
       " 0.0,\n",
       " 0.0,\n",
       " 0.0,\n",
       " 0.0,\n",
       " 0.0,\n",
       " 0.0,\n",
       " 0.0,\n",
       " 0.0,\n",
       " 0.0,\n",
       " 0.00205761316872428,\n",
       " 0.0,\n",
       " 0.00205761316872428,\n",
       " 0.0,\n",
       " ...]"
      ]
     },
     "execution_count": 81,
     "metadata": {},
     "output_type": "execute_result"
    }
   ],
   "source": [
    "#The 10 most central nodes according to betweenness are then \n",
    "kadabra.scores()"
   ]
  },
  {
   "cell_type": "code",
   "execution_count": 90,
   "metadata": {},
   "outputs": [
    {
     "data": {
      "text/plain": [
       "0.398"
      ]
     },
     "execution_count": 90,
     "metadata": {},
     "output_type": "execute_result"
    }
   ],
   "source": [
    "top_n_percentage(np.array(kadabra.scores()), G_pyg_.y, k=500)"
   ]
  },
  {
   "cell_type": "markdown",
   "metadata": {},
   "source": [
    "### Synthetic"
   ]
  },
  {
   "cell_type": "code",
   "execution_count": 128,
   "metadata": {},
   "outputs": [],
   "source": [
    "with open(os.path.join(setting.root, \"kadabra.json\"), \"w\") as f:\n",
    "    jsn = {\n",
    "        \"top1\": [],\n",
    "        \"top5\": [],\n",
    "        \"top10\": [],\n",
    "        \"kendal\": [],\n",
    "        \"time\": []\n",
    "    }\n",
    "    for edge_list, score in zip(synthetic, between):\n",
    "        G_nx = nx.readwrite.edgelist.read_edgelist(edge_list, delimiter=\"\\t\")\n",
    "        G_nk = nk.nxadapter.nx2nk(G_nx)\n",
    "        G_pyg = to_data(edge_list, score)\n",
    "        \n",
    "        method = nk.centrality.KadabraBetweenness(G_nk, 0.05, 0.8)\n",
    "        start = time.time()\n",
    "        method.run()\n",
    "        end = time.time()\n",
    "        \n",
    "        jsn[\"time\"].append(end-start)\n",
    "        jsn[\"kendal\"].append(kendal_tau_distance(np.array(method.scores()), G_pyg.y))\n",
    "        jsn[\"top1\"].append(top_n_percentage(np.array(method.scores()), G_pyg.y, k=1))\n",
    "        jsn[\"top5\"].append(top_n_percentage(np.array(method.scores()), G_pyg.y, k=5))\n",
    "        jsn[\"top10\"].append(top_n_percentage(np.array(method.scores()), G_pyg.y, k=10))\n",
    "        \n",
    "    json.dump(jsn, f)"
   ]
  },
  {
   "cell_type": "markdown",
   "metadata": {},
   "source": [
    "## K-BC (KPATH)"
   ]
  },
  {
   "cell_type": "markdown",
   "metadata": {},
   "source": [
    "k-centralities: Local approximations of global measures based on shortest paths\n",
    "\n",
    "For the value of k, we set it to be 20% of the diameter of the network"
   ]
  },
  {
   "cell_type": "code",
   "execution_count": null,
   "metadata": {},
   "outputs": [],
   "source": []
  },
  {
   "cell_type": "code",
   "execution_count": 203,
   "metadata": {},
   "outputs": [],
   "source": [
    "def KbcBetweenness(G, k):\n",
    "    \n",
    "    if k < 2:\n",
    "        k = 2.0\n",
    "        \n",
    "    inf = float('inf')\n",
    "\n",
    "    kBC = dict({key:0 for key in G.nodes()})\n",
    "    for s in G.nodes():\n",
    "        #Structures\n",
    "        Q = deque() #Queue\n",
    "        S = deque() #Stack\n",
    "        dist = dict({key:inf for key in G.nodes()})\n",
    "        sig = dict({key:float(0) for key in G.nodes()})\n",
    "        pred = dict({key:[] for key in G.nodes()})\n",
    "\n",
    "        #Initialize\n",
    "        Q.append(s)\n",
    "        dist[s] = 0\n",
    "        sig[s] = 1\n",
    "\n",
    "        #BFS - top-down\n",
    "        while len(Q) > 0:\n",
    "            v = Q.popleft()\n",
    "            if dist[v] > k:\n",
    "                break;\n",
    "            S.append(v)\n",
    "            for w in G[v]:\n",
    "                if dist[w] == inf:\n",
    "                    dist[w] = dist[v] + 1\n",
    "                    if dist[w] <= k:\n",
    "                        Q.append(w)\n",
    "                if dist[w] == dist[v] + 1:\n",
    "                    sig[w] += sig[v]\n",
    "                    pred[w].append(v)\n",
    "        #Aggregate - bottom-up\n",
    "        delta = dict({key:float(0) for key in G.nodes()})\n",
    "        while len(S) > 0:\n",
    "            v = S.pop()\n",
    "            for w in pred[v]:\n",
    "                delta[w] += (delta[v]+1) * sig[w] / sig[v]\n",
    "            if v!=s:\n",
    "                if(G.is_directed()):\n",
    "                    kBC[v] += delta[v]\n",
    "                else: kBC[v] += delta[v] / 2.0\n",
    "\n",
    "    return kBC"
   ]
  },
  {
   "cell_type": "code",
   "execution_count": 135,
   "metadata": {
    "scrolled": true
   },
   "outputs": [
    {
     "name": "stderr",
     "output_type": "stream",
     "text": [
      "/home/ai2019/ne6081064/anaconda3/envs/june/lib/python3.7/site-packages/ipykernel_launcher.py:7: DeprecationWarning: time.clock has been deprecated in Python 3.3 and will be removed from Python 3.8: use time.perf_counter or time.process_time instead\n",
      "  import sys\n",
      "/home/ai2019/ne6081064/anaconda3/envs/june/lib/python3.7/site-packages/ipykernel_launcher.py:46: DeprecationWarning: time.clock has been deprecated in Python 3.3 and will be removed from Python 3.8: use time.perf_counter or time.process_time instead\n"
     ]
    },
    {
     "name": "stdout",
     "output_type": "stream",
     "text": [
      "My time: 48.23896699999989\n",
      "My time: 48.499878999999964\n",
      "My time: 48.72280499999988\n",
      "My time: 49.87856800000009\n",
      "My time: 48.82277399999998\n",
      "My time: 49.50401499999998\n",
      "My time: 48.31838599999992\n",
      "My time: 48.28031400000009\n",
      "My time: 48.36628799999994\n",
      "My time: 49.60768200000007\n",
      "My time: 48.40837600000009\n",
      "My time: 49.3982840000001\n",
      "My time: 48.62930099999994\n",
      "My time: 49.34602400000017\n",
      "My time: 48.411427\n",
      "My time: 49.23693599999979\n",
      "My time: 48.39141399999971\n",
      "My time: 48.93073999999979\n",
      "My time: 48.11595400000033\n",
      "My time: 49.2929750000003\n",
      "My time: 48.79481299999998\n",
      "My time: 49.92060300000003\n",
      "My time: 48.04802299999983\n",
      "My time: 49.5013100000001\n",
      "My time: 48.45480499999985\n",
      "My time: 49.32270699999981\n",
      "My time: 48.81808099999989\n",
      "My time: 49.76255899999978\n",
      "My time: 48.78391999999985\n",
      "My time: 48.893039000000044\n"
     ]
    }
   ],
   "source": [
    "with open(os.path.join(setting.root, \"kbc.json\"), \"w\") as f:\n",
    "    jsn = {\n",
    "        \"top1\": [],\n",
    "        \"top5\": [],\n",
    "        \"top10\": [],\n",
    "        \"kendal\": [],\n",
    "        \"time\": []\n",
    "    }\n",
    "    \n",
    "    for edge_list, score in zip(synthetic, between):\n",
    "        \n",
    "        \n",
    "        G_nx = nx.readwrite.edgelist.read_edgelist(edge_list, delimiter=\"\\t\")\n",
    "        G_nk = nk.nxadapter.nx2nk(G_nx)\n",
    "        G_pyg = to_data(edge_list, score)\n",
    "        \n",
    "        diameter = nx.algorithms.distance_measures.diameter(G_nx)\n",
    "        start = time.time()\n",
    "        result = KbcBetweenness(G_nx, diameter * 0.2)\n",
    "        end = time.time()\n",
    "        \n",
    "        result = [v for k, v in sorted(result.items(), key=lambda  item: int(item[0]), reverse=False)]\n",
    "        \n",
    "        jsn[\"time\"].append(end-start)\n",
    "        jsn[\"kendal\"].append(kendal_tau_distance(np.array(result), G_pyg.y))\n",
    "        jsn[\"top1\"].append(top_n_percentage(np.array(result), G_pyg.y, k=1))\n",
    "        jsn[\"top5\"].append(top_n_percentage(np.array(result), G_pyg.y, k=5))\n",
    "        jsn[\"top10\"].append(top_n_percentage(np.array(result), G_pyg.y, k=10))\n",
    "        \n",
    "    json.dump(jsn, f)"
   ]
  },
  {
   "cell_type": "code",
   "execution_count": 210,
   "metadata": {},
   "outputs": [
    {
     "data": {
      "text/plain": [
       "Data(edge_index=[2, 39968], x=[5000, 3], y=[5000, 1])"
      ]
     },
     "execution_count": 210,
     "metadata": {},
     "output_type": "execute_result"
    }
   ],
   "source": [
    "G_pyg"
   ]
  },
  {
   "cell_type": "markdown",
   "metadata": {},
   "source": [
    "## DrBC"
   ]
  },
  {
   "cell_type": "code",
   "execution_count": 200,
   "metadata": {},
   "outputs": [],
   "source": [
    "with open(os.path.join(setting.root, \"drbc.json\"), \"w\") as f:\n",
    "    jsn = {\n",
    "        \"top1\": [],\n",
    "        \"top5\": [],\n",
    "        \"top10\": [],\n",
    "        \"kendal\": [],\n",
    "        \"time\": []\n",
    "    }\n",
    "    model.eval()\n",
    "    model = model.to(\"cpu\")\n",
    "    for edge_list, score in zip(synthetic, between):\n",
    "#         G_nx = nx.readwrite.edgelist.read_edgelist(edge_list, delimiter=\"\\t\")\n",
    "#         G_nk = nk.nxadapter.nx2nk(G_nx)\n",
    "        data = to_data(edge_list, score)\n",
    "        \n",
    "        start = time.time()\n",
    "        bc_pr = model(data)\n",
    "        end = time.time()\n",
    "\n",
    "        bc_gt = data.y\n",
    "        bc_gt = torch.reshape(bc_gt, (-1, ))\n",
    "        \n",
    "        \n",
    "        jsn[\"time\"].append(end-start)\n",
    "        jsn[\"kendal\"].append(kendal_tau_distance(bc_pr, bc_gt))\n",
    "        jsn[\"top1\"].append(top_n_percentage(bc_pr, bc_gt, k=1))\n",
    "        jsn[\"top5\"].append(top_n_percentage(bc_pr, bc_gt, k=5))\n",
    "        jsn[\"top10\"].append(top_n_percentage(bc_pr, bc_gt, k=10))\n",
    "        \n",
    "    json.dump(jsn, f)"
   ]
  },
  {
   "cell_type": "markdown",
   "metadata": {},
   "source": [
    "## Node2Vec"
   ]
  },
  {
   "cell_type": "code",
   "execution_count": null,
   "metadata": {},
   "outputs": [],
   "source": []
  },
  {
   "cell_type": "markdown",
   "metadata": {},
   "source": [
    "# Youtube"
   ]
  },
  {
   "cell_type": "code",
   "execution_count": 182,
   "metadata": {},
   "outputs": [],
   "source": [
    "yt_nx = utils.to_networkx(yt_data, node_attrs=None, edge_attrs=None, to_undirected=True, remove_self_loops=True)"
   ]
  },
  {
   "cell_type": "code",
   "execution_count": 183,
   "metadata": {},
   "outputs": [
    {
     "data": {
      "text/plain": [
       "<networkx.classes.graph.Graph at 0x7facc1f79710>"
      ]
     },
     "execution_count": 183,
     "metadata": {},
     "output_type": "execute_result"
    }
   ],
   "source": [
    "yt_nx"
   ]
  },
  {
   "cell_type": "code",
   "execution_count": 185,
   "metadata": {},
   "outputs": [
    {
     "data": {
      "text/plain": [
       "Data(edge_index=[2, 5975248], x=[1134890, 3])"
      ]
     },
     "execution_count": 185,
     "metadata": {},
     "output_type": "execute_result"
    }
   ],
   "source": [
    "from_networkx(yt_nx)"
   ]
  },
  {
   "cell_type": "code",
   "execution_count": 209,
   "metadata": {
    "scrolled": true
   },
   "outputs": [
    {
     "name": "stdout",
     "output_type": "stream",
     "text": [
      "\n",
      "RK\n",
      "time: 15.738577365875244\n",
      "kendal: 0.07187868448005953\n",
      "top 1: 0.2335213253436729\n",
      "top 5: 0.3200514591851121\n",
      "top 10: 0.3810413344024531\n",
      "\n",
      "Kadabra\n",
      "time: 1.2082817554473877\n",
      "kendal: 0.20230506457754394\n",
      "top 1: 0.49894254494184\n",
      "top 5: 0.39290497673762864\n",
      "top 10: 0.4057750090317123\n",
      "\n",
      "DrBC\n",
      "time: 99.74837827682495\n",
      "kendal: -0.0983568872440969\n",
      "top 1: 0.6009869580542827\n",
      "top 5: 0.3065522345974905\n",
      "top 10: 0.17317096811144692\n"
     ]
    },
    {
     "ename": "KeyboardInterrupt",
     "evalue": "",
     "output_type": "error",
     "traceback": [
      "\u001b[0;31m------------------------------------\u001b[0m",
      "\u001b[0;31mKeyboardInterrupt\u001b[0mTraceback (most recent call last)",
      "\u001b[0;32m<ipython-input-209-9318a85623a3>\u001b[0m in \u001b[0;36m<module>\u001b[0;34m\u001b[0m\n\u001b[1;32m     55\u001b[0m \u001b[0;34m\u001b[0m\u001b[0m\n\u001b[1;32m     56\u001b[0m     \u001b[0;31m### K-BC\u001b[0m\u001b[0;34m\u001b[0m\u001b[0;34m\u001b[0m\u001b[0;34m\u001b[0m\u001b[0m\n\u001b[0;32m---> 57\u001b[0;31m     \u001b[0mdiameter\u001b[0m \u001b[0;34m=\u001b[0m \u001b[0mnx\u001b[0m\u001b[0;34m.\u001b[0m\u001b[0malgorithms\u001b[0m\u001b[0;34m.\u001b[0m\u001b[0mdistance_measures\u001b[0m\u001b[0;34m.\u001b[0m\u001b[0mdiameter\u001b[0m\u001b[0;34m(\u001b[0m\u001b[0myt_nx\u001b[0m\u001b[0;34m)\u001b[0m\u001b[0;34m\u001b[0m\u001b[0;34m\u001b[0m\u001b[0m\n\u001b[0m\u001b[1;32m     58\u001b[0m     \u001b[0mstart\u001b[0m \u001b[0;34m=\u001b[0m \u001b[0mtime\u001b[0m\u001b[0;34m.\u001b[0m\u001b[0mtime\u001b[0m\u001b[0;34m(\u001b[0m\u001b[0;34m)\u001b[0m\u001b[0;34m\u001b[0m\u001b[0;34m\u001b[0m\u001b[0m\n\u001b[1;32m     59\u001b[0m     \u001b[0mbc_pr\u001b[0m \u001b[0;34m=\u001b[0m \u001b[0mKbcBetweenness\u001b[0m\u001b[0;34m(\u001b[0m\u001b[0myt_nx\u001b[0m\u001b[0;34m,\u001b[0m \u001b[0mint\u001b[0m\u001b[0;34m(\u001b[0m\u001b[0mdiameter\u001b[0m \u001b[0;34m*\u001b[0m \u001b[0;36m0.2\u001b[0m\u001b[0;34m)\u001b[0m\u001b[0;34m)\u001b[0m\u001b[0;34m\u001b[0m\u001b[0;34m\u001b[0m\u001b[0m\n",
      "\u001b[0;32m~/anaconda3/envs/june/lib/python3.7/site-packages/networkx/algorithms/distance_measures.py\u001b[0m in \u001b[0;36mdiameter\u001b[0;34m(G, e, usebounds)\u001b[0m\n\u001b[1;32m    297\u001b[0m         \u001b[0;32mreturn\u001b[0m \u001b[0mextrema_bounding\u001b[0m\u001b[0;34m(\u001b[0m\u001b[0mG\u001b[0m\u001b[0;34m,\u001b[0m \u001b[0mcompute\u001b[0m\u001b[0;34m=\u001b[0m\u001b[0;34m\"diameter\"\u001b[0m\u001b[0;34m)\u001b[0m\u001b[0;34m\u001b[0m\u001b[0;34m\u001b[0m\u001b[0m\n\u001b[1;32m    298\u001b[0m     \u001b[0;32mif\u001b[0m \u001b[0me\u001b[0m \u001b[0;32mis\u001b[0m \u001b[0;32mNone\u001b[0m\u001b[0;34m:\u001b[0m\u001b[0;34m\u001b[0m\u001b[0;34m\u001b[0m\u001b[0m\n\u001b[0;32m--> 299\u001b[0;31m         \u001b[0me\u001b[0m \u001b[0;34m=\u001b[0m \u001b[0meccentricity\u001b[0m\u001b[0;34m(\u001b[0m\u001b[0mG\u001b[0m\u001b[0;34m)\u001b[0m\u001b[0;34m\u001b[0m\u001b[0;34m\u001b[0m\u001b[0m\n\u001b[0m\u001b[1;32m    300\u001b[0m     \u001b[0;32mreturn\u001b[0m \u001b[0mmax\u001b[0m\u001b[0;34m(\u001b[0m\u001b[0me\u001b[0m\u001b[0;34m.\u001b[0m\u001b[0mvalues\u001b[0m\u001b[0;34m(\u001b[0m\u001b[0;34m)\u001b[0m\u001b[0;34m)\u001b[0m\u001b[0;34m\u001b[0m\u001b[0;34m\u001b[0m\u001b[0m\n\u001b[1;32m    301\u001b[0m \u001b[0;34m\u001b[0m\u001b[0m\n",
      "\u001b[0;32m~/anaconda3/envs/june/lib/python3.7/site-packages/networkx/algorithms/distance_measures.py\u001b[0m in \u001b[0;36meccentricity\u001b[0;34m(G, v, sp)\u001b[0m\n\u001b[1;32m    246\u001b[0m     \u001b[0;32mfor\u001b[0m \u001b[0mn\u001b[0m \u001b[0;32min\u001b[0m \u001b[0mG\u001b[0m\u001b[0;34m.\u001b[0m\u001b[0mnbunch_iter\u001b[0m\u001b[0;34m(\u001b[0m\u001b[0mv\u001b[0m\u001b[0;34m)\u001b[0m\u001b[0;34m:\u001b[0m\u001b[0;34m\u001b[0m\u001b[0;34m\u001b[0m\u001b[0m\n\u001b[1;32m    247\u001b[0m         \u001b[0;32mif\u001b[0m \u001b[0msp\u001b[0m \u001b[0;32mis\u001b[0m \u001b[0;32mNone\u001b[0m\u001b[0;34m:\u001b[0m\u001b[0;34m\u001b[0m\u001b[0;34m\u001b[0m\u001b[0m\n\u001b[0;32m--> 248\u001b[0;31m             \u001b[0mlength\u001b[0m \u001b[0;34m=\u001b[0m \u001b[0mnx\u001b[0m\u001b[0;34m.\u001b[0m\u001b[0msingle_source_shortest_path_length\u001b[0m\u001b[0;34m(\u001b[0m\u001b[0mG\u001b[0m\u001b[0;34m,\u001b[0m \u001b[0mn\u001b[0m\u001b[0;34m)\u001b[0m\u001b[0;34m\u001b[0m\u001b[0;34m\u001b[0m\u001b[0m\n\u001b[0m\u001b[1;32m    249\u001b[0m             \u001b[0mL\u001b[0m \u001b[0;34m=\u001b[0m \u001b[0mlen\u001b[0m\u001b[0;34m(\u001b[0m\u001b[0mlength\u001b[0m\u001b[0;34m)\u001b[0m\u001b[0;34m\u001b[0m\u001b[0;34m\u001b[0m\u001b[0m\n\u001b[1;32m    250\u001b[0m         \u001b[0;32melse\u001b[0m\u001b[0;34m:\u001b[0m\u001b[0;34m\u001b[0m\u001b[0;34m\u001b[0m\u001b[0m\n",
      "\u001b[0;32m~/anaconda3/envs/june/lib/python3.7/site-packages/networkx/algorithms/shortest_paths/unweighted.py\u001b[0m in \u001b[0;36msingle_source_shortest_path_length\u001b[0;34m(G, source, cutoff)\u001b[0m\n\u001b[1;32m     57\u001b[0m         \u001b[0mcutoff\u001b[0m \u001b[0;34m=\u001b[0m \u001b[0mfloat\u001b[0m\u001b[0;34m(\u001b[0m\u001b[0;34m\"inf\"\u001b[0m\u001b[0;34m)\u001b[0m\u001b[0;34m\u001b[0m\u001b[0;34m\u001b[0m\u001b[0m\n\u001b[1;32m     58\u001b[0m     \u001b[0mnextlevel\u001b[0m \u001b[0;34m=\u001b[0m \u001b[0;34m{\u001b[0m\u001b[0msource\u001b[0m\u001b[0;34m:\u001b[0m \u001b[0;36m1\u001b[0m\u001b[0;34m}\u001b[0m\u001b[0;34m\u001b[0m\u001b[0;34m\u001b[0m\u001b[0m\n\u001b[0;32m---> 59\u001b[0;31m     \u001b[0;32mreturn\u001b[0m \u001b[0mdict\u001b[0m\u001b[0;34m(\u001b[0m\u001b[0m_single_shortest_path_length\u001b[0m\u001b[0;34m(\u001b[0m\u001b[0mG\u001b[0m\u001b[0;34m.\u001b[0m\u001b[0madj\u001b[0m\u001b[0;34m,\u001b[0m \u001b[0mnextlevel\u001b[0m\u001b[0;34m,\u001b[0m \u001b[0mcutoff\u001b[0m\u001b[0;34m)\u001b[0m\u001b[0;34m)\u001b[0m\u001b[0;34m\u001b[0m\u001b[0;34m\u001b[0m\u001b[0m\n\u001b[0m\u001b[1;32m     60\u001b[0m \u001b[0;34m\u001b[0m\u001b[0m\n\u001b[1;32m     61\u001b[0m \u001b[0;34m\u001b[0m\u001b[0m\n",
      "\u001b[0;32m~/anaconda3/envs/june/lib/python3.7/site-packages/networkx/algorithms/shortest_paths/unweighted.py\u001b[0m in \u001b[0;36m_single_shortest_path_length\u001b[0;34m(adj, firstlevel, cutoff)\u001b[0m\n\u001b[1;32m     85\u001b[0m                 \u001b[0mseen\u001b[0m\u001b[0;34m[\u001b[0m\u001b[0mv\u001b[0m\u001b[0;34m]\u001b[0m \u001b[0;34m=\u001b[0m \u001b[0mlevel\u001b[0m  \u001b[0;31m# set the level of vertex v\u001b[0m\u001b[0;34m\u001b[0m\u001b[0;34m\u001b[0m\u001b[0m\n\u001b[1;32m     86\u001b[0m                 \u001b[0mfound\u001b[0m\u001b[0;34m.\u001b[0m\u001b[0mappend\u001b[0m\u001b[0;34m(\u001b[0m\u001b[0mv\u001b[0m\u001b[0;34m)\u001b[0m\u001b[0;34m\u001b[0m\u001b[0;34m\u001b[0m\u001b[0m\n\u001b[0;32m---> 87\u001b[0;31m                 \u001b[0;32myield\u001b[0m \u001b[0;34m(\u001b[0m\u001b[0mv\u001b[0m\u001b[0;34m,\u001b[0m \u001b[0mlevel\u001b[0m\u001b[0;34m)\u001b[0m\u001b[0;34m\u001b[0m\u001b[0;34m\u001b[0m\u001b[0m\n\u001b[0m\u001b[1;32m     88\u001b[0m         \u001b[0;32mif\u001b[0m \u001b[0mlen\u001b[0m\u001b[0;34m(\u001b[0m\u001b[0mseen\u001b[0m\u001b[0;34m)\u001b[0m \u001b[0;34m==\u001b[0m \u001b[0mn\u001b[0m\u001b[0;34m:\u001b[0m\u001b[0;34m\u001b[0m\u001b[0;34m\u001b[0m\u001b[0m\n\u001b[1;32m     89\u001b[0m             \u001b[0;32mreturn\u001b[0m\u001b[0;34m\u001b[0m\u001b[0;34m\u001b[0m\u001b[0m\n",
      "\u001b[0;31mKeyboardInterrupt\u001b[0m: "
     ]
    }
   ],
   "source": [
    "with open(os.path.join(setting.root, \"youtube.json\"), \"w\") as f:\n",
    "    jsn = {\n",
    "        \"top1\": [],\n",
    "        \"top5\": [],\n",
    "        \"top10\": [],\n",
    "        \"kendal\": [],\n",
    "        \"time\": []\n",
    "    }\n",
    "    \n",
    "    yt_pyg = to_data(yt[0], yt_score[0], y_sep=r\":\")\n",
    "    yt_nx = utils.to_networkx(yt_pyg, node_attrs=None, edge_attrs=None, to_undirected=True, remove_self_loops=True)\n",
    "    yt_nk = nk.nxadapter.nx2nk(yt_nx)\n",
    "    \n",
    "    \n",
    "    ### RK\n",
    "    method = nk.centrality.ApproxBetweenness(yt_nk, epsilon=0.1)\n",
    "    start = time.time()\n",
    "    method.run()\n",
    "    end = time.time()\n",
    "    \n",
    "    print(\"\\nRK\")\n",
    "    print(\"time: {}\".format(end-start))\n",
    "    print(\"kendal: {}\".format(kendal_tau_distance(np.array(method.scores()), yt_pyg.y)))\n",
    "    print(\"top 1: {}\".format(top_n_percentage(np.array(method.scores()), yt_pyg.y, k=1)))\n",
    "    print(\"top 5: {}\".format(top_n_percentage(np.array(method.scores()), yt_pyg.y, k=5)))\n",
    "    print(\"top 10: {}\".format(top_n_percentage(np.array(method.scores()), yt_pyg.y, k=10)))\n",
    "    \n",
    "    \n",
    "    ### Kadabra\n",
    "    method = nk.centrality.KadabraBetweenness(yt_nk, 0.05, 0.8)\n",
    "    start = time.time()\n",
    "    method.run()\n",
    "    end = time.time()\n",
    "    \n",
    "    print(\"\\nKadabra\")\n",
    "    print(\"time: {}\".format(end-start))\n",
    "    print(\"kendal: {}\".format(kendal_tau_distance(np.array(method.scores()), yt_pyg.y)))\n",
    "    print(\"top 1: {}\".format(top_n_percentage(np.array(method.scores()), yt_pyg.y, k=1)))\n",
    "    print(\"top 5: {}\".format(top_n_percentage(np.array(method.scores()), yt_pyg.y, k=5)))\n",
    "    print(\"top 10: {}\".format(top_n_percentage(np.array(method.scores()), yt_pyg.y, k=10)))\n",
    "    \n",
    "    \n",
    "    model.eval()\n",
    "    start = time.time()\n",
    "    bc_pr = model(yt_pyg)\n",
    "    end = time.time()\n",
    "\n",
    "    print(\"\\nDrBC\")\n",
    "    print(\"time: {}\".format(end-start))\n",
    "    print(\"kendal: {}\".format(kendal_tau_distance(bc_pr, yt_pyg.y)))\n",
    "    print(\"top 1: {}\".format(top_n_percentage(bc_pr, yt_pyg.y, k=1)))\n",
    "    print(\"top 5: {}\".format(top_n_percentage(bc_pr, yt_pyg.y, k=5)))\n",
    "    print(\"top 10: {}\".format(top_n_percentage(bc_pr, yt_pyg.y, k=10)))\n",
    "\n",
    "        \n",
    "#     json.dump(jsn, f)"
   ]
  },
  {
   "cell_type": "code",
   "execution_count": 208,
   "metadata": {},
   "outputs": [
    {
     "data": {
      "text/plain": [
       "torch.Size([5000, 1])"
      ]
     },
     "execution_count": 208,
     "metadata": {},
     "output_type": "execute_result"
    }
   ],
   "source": [
    "bc_pr.size()"
   ]
  },
  {
   "cell_type": "markdown",
   "metadata": {},
   "source": [
    "# Visualize all result"
   ]
  },
  {
   "cell_type": "code",
   "execution_count": 201,
   "metadata": {},
   "outputs": [
    {
     "data": {
      "image/png": "[encoded data removed]",
      "text/plain": [
       "<Figure size 1800x1440 with 5 Axes>"
      ]
     },
     "metadata": {
      "needs_background": "light"
     },
     "output_type": "display_data"
    }
   ],
   "source": [
    "with open(os.path.join(setting.root, \"kbc.json\"), \"r\") as kbc_f, \\\n",
    "    open(os.path.join(setting.root, \"kadabra.json\"), \"r\") as kadabra_f, \\\n",
    "    open(os.path.join(setting.root, \"rk.json\"), \"r\") as rk_f, \\\n",
    "    open(os.path.join(setting.root, \"drbc.json\"), \"r\") as drbc_f:\n",
    "    \n",
    "    kbc = json.load(kbc_f)\n",
    "    kadabra = json.load(kadabra_f)\n",
    "    rk = json.load(rk_f)\n",
    "    drbc = json.load(drbc_f)\n",
    "\n",
    "    keys = list(kbc.keys())\n",
    "\n",
    "    x = np.linspace(1, 30, 30)\n",
    "\n",
    "    fig, axs = plt.subplots(len(keys), figsize=(25, 4 * len(keys)))\n",
    "    for index, ax in enumerate(axs):\n",
    "        key = keys[index]\n",
    "        ax.plot(x, rk[key], \"o\")\n",
    "        ax.plot(x, kbc[key], \"o\")\n",
    "        ax.plot(x, kadabra[key], \"o\")\n",
    "        ax.plot(x, drbc[key], \"o\")\n",
    "        ax.legend([\"rk\", \"kbc\", \"kadabra\", \"drbc\"], loc='center right', bbox_to_anchor=(1, 0.5))\n",
    "\n",
    "        ax.set_xticks(x)\n",
    "        ax.set_title(key)\n",
    "        ax.grid()\n",
    "        \n",
    "    plt.tight_layout()\n",
    "    plt.savefig(os.path.join(setting.root, \"synthetic_each.png\"), facecolor=\"white\")"
   ]
  },
  {
   "cell_type": "code",
   "execution_count": 202,
   "metadata": {},
   "outputs": [
    {
     "name": "stdout",
     "output_type": "stream",
     "text": [
      "\n",
      "top1\n",
      "RK: mean=0.272, std=0.08572825283028539\n",
      "KBC: mean=0.6786666666666668, std=0.16516120071682155\n",
      "KADABRA: mean=0.27733333333333327, std=0.0792856999856987\n",
      "DrBC: mean=0.66, std=0.16403251710153893\n",
      "\n",
      "top5\n",
      "RK: mean=0.33599999999999997, std=0.034176014981270125\n",
      "KBC: mean=0.6558666666666667, std=0.13525081227934355\n",
      "KADABRA: mean=0.2650666666666667, std=0.03835182162847317\n",
      "DrBC: mean=0.6573333333333333, std=0.13822236513032984\n",
      "\n",
      "top10\n",
      "RK: mean=0.3092, std=0.018137254478007417\n",
      "KBC: mean=0.6616666666666666, std=0.11151571887207451\n",
      "KADABRA: mean=0.33713333333333334, std=0.03791106552035815\n",
      "DrBC: mean=0.6700666666666667, std=0.12222763826383769\n",
      "\n",
      "kendal\n",
      "RK: mean=0.17120213356204778, std=0.009033669858847218\n",
      "KBC: mean=0.4613863992828053, std=0.09934321546116276\n",
      "KADABRA: mean=0.20803693144756413, std=0.010644902593383604\n",
      "DrBC: mean=0.3943040288057612, std=0.13442441895633847\n",
      "\n",
      "time\n",
      "RK: mean=0.03280095259348551, std=0.0011003159685054455\n",
      "KBC: mean=48.865695420900984, std=0.5439593463163784\n",
      "KADABRA: mean=0.04339143435160319, std=0.00454873765319589\n",
      "DrBC: mean=0.35156817436218263, std=0.016192604456713607\n"
     ]
    },
    {
     "data": {
      "image/png": "[encoded data removed]",
      "text/plain": [
       "<Figure size 1800x1440 with 5 Axes>"
      ]
     },
     "metadata": {
      "needs_background": "light"
     },
     "output_type": "display_data"
    }
   ],
   "source": [
    "with open(os.path.join(setting.root, \"kbc.json\"), \"r\") as kbc_f, \\\n",
    "    open(os.path.join(setting.root, \"kadabra.json\"), \"r\") as kadabra_f, \\\n",
    "    open(os.path.join(setting.root, \"rk.json\"), \"r\") as rk_f, \\\n",
    "    open(os.path.join(setting.root, \"drbc.json\"), \"r\") as drbc_f:\n",
    "    \n",
    "    kbc = json.load(kbc_f)\n",
    "    kadabra = json.load(kadabra_f)\n",
    "    rk = json.load(rk_f)\n",
    "    drbc = json.load(drbc_f)\n",
    "\n",
    "    keys = list(kbc.keys())\n",
    "    \n",
    "    fig, axs = plt.subplots(len(keys), figsize=(25, 4*len(keys)))\n",
    "    for index, ax in enumerate(axs):\n",
    "        key = keys[index]\n",
    "        \n",
    "        ax.boxplot([rk[key], kbc[key], kadabra[key], drbc[key]], widths=0.5)\n",
    "        ax.set_title(key)\n",
    "        ax.grid()\n",
    "        \n",
    "        ### Calculate mean and std\n",
    "        print(\"\\n{}\".format(key))\n",
    "        rk_ = np.array(rk[key])\n",
    "        print(\"RK: mean={}, std={}\".format(np.mean(rk_), np.std(rk_)))\n",
    "        \n",
    "        kbc_ = np.array(kbc[key])\n",
    "        print(\"KBC: mean={}, std={}\".format(np.mean(kbc_), np.std(kbc_)))\n",
    "        \n",
    "        kadabra_ = np.array(kadabra[key])\n",
    "        print(\"KADABRA: mean={}, std={}\".format(np.mean(kadabra_), np.std(kadabra_)))\n",
    "        \n",
    "        drbc_ = np.array(drbc[key])\n",
    "        print(\"DrBC: mean={}, std={}\".format(np.mean(drbc_), np.std(drbc_)))\n",
    "        \n",
    "    \n",
    "    plt.setp(axs,  xticklabels=['rk', 'kbc', 'kadabra', \"drbc\"])\n",
    "    plt.savefig(os.path.join(setting.root, \"synthetic_box.png\"), facecolor=\"white\")\n",
    "    \n",
    "    "
   ]
  },
  {
   "cell_type": "code",
   "execution_count": null,
   "metadata": {},
   "outputs": [],
   "source": []
  }
 ],
 "metadata": {
  "accelerator": "GPU",
  "colab": {
   "collapsed_sections": [],
   "name": "code.ipynb",
   "provenance": [],
   "toc_visible": true
  },
  "kernelspec": {
   "display_name": "Python 3",
   "language": "python",
   "name": "python3"
  },
  "language_info": {
   "codemirror_mode": {
    "name": "ipython",
    "version": 3
   },
   "file_extension": ".py",
   "mimetype": "text/x-python",
   "name": "python",
   "nbconvert_exporter": "python",
   "pygments_lexer": "ipython3",
   "version": "3.7.9"
  }
 },
 "nbformat": 4,
 "nbformat_minor": 4
}
