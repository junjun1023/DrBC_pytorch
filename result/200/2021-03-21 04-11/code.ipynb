{
 "cells": [
  {
   "cell_type": "markdown",
   "metadata": {
    "id": "HXDHW_mjXtMp"
   },
   "source": [
    "# Mount drive"
   ]
  },
  {
   "cell_type": "code",
   "execution_count": null,
   "metadata": {
    "colab": {
     "base_uri": "https://localhost:8080/"
    },
    "executionInfo": {
     "elapsed": 20999,
     "status": "ok",
     "timestamp": 1615282633207,
     "user": {
      "displayName": "Q56094077陳香君",
      "photoUrl": "",
      "userId": "10727804849868825735"
     },
     "user_tz": -480
    },
    "id": "FvCyvU3wXU5i",
    "outputId": "1ebe457a-4d34-474b-ea70-4d9fd6765538"
   },
   "outputs": [],
   "source": [
    "# from google.colab import drive\n",
    "# drive.mount('/content/gdrive')\n",
    "\n",
    "# !ls /content/gdrive/My\\ Drive"
   ]
  },
  {
   "cell_type": "code",
   "execution_count": null,
   "metadata": {
    "id": "n7xdJXLgX6xs"
   },
   "outputs": [],
   "source": [
    "# !unzip /content/gdrive/MyDrive/Q56094077/snrs/hw1_0319/hw1_data.zip -d /content/gdrive/MyDrive/Q56094077/snrs/hw1_0319"
   ]
  },
  {
   "cell_type": "markdown",
   "metadata": {
    "id": "PNPvyQC_ZsBz"
   },
   "source": [
    "# Import Library"
   ]
  },
  {
   "cell_type": "code",
   "execution_count": 1,
   "metadata": {
    "executionInfo": {
     "elapsed": 5086,
     "status": "ok",
     "timestamp": 1615282641207,
     "user": {
      "displayName": "Q56094077陳香君",
      "photoUrl": "",
      "userId": "10727804849868825735"
     },
     "user_tz": -480
    },
    "id": "R9e-OVDBZbU_"
   },
   "outputs": [],
   "source": [
    "import os\n",
    "\n",
    "import torch\n",
    "import torch.nn as nn\n",
    "\n",
    "import pandas as pd\n",
    "import numpy as np\n",
    "import json\n",
    "\n",
    "from tqdm import tqdm\n",
    "from datetime import datetime\n",
    "import time\n",
    "from collections import deque\n",
    "import matplotlib.pyplot as plt"
   ]
  },
  {
   "cell_type": "code",
   "execution_count": 2,
   "metadata": {
    "colab": {
     "base_uri": "https://localhost:8080/",
     "height": 414
    },
    "executionInfo": {
     "elapsed": 776,
     "status": "error",
     "timestamp": 1615283001909,
     "user": {
      "displayName": "Q56094077陳香君",
      "photoUrl": "",
      "userId": "10727804849868825735"
     },
     "user_tz": -480
    },
    "id": "jUN8f3VP4u9D",
    "outputId": "9e4523ef-8226-4980-c086-f15bf7f0a33a"
   },
   "outputs": [],
   "source": [
    "import torch_geometric\n",
    "from torch_geometric.data import Data, DataLoader\n",
    "import torch_geometric.utils as utils"
   ]
  },
  {
   "cell_type": "code",
   "execution_count": 3,
   "metadata": {},
   "outputs": [
    {
     "data": {
      "text/html": [
       "\n",
       "\t\t\t<script type=\"text/javascript\">\n",
       "\t\t\t<!--\n",
       "\t\t\t\t\n",
       "\t\t\t{\n",
       "\t\t\t\tvar element = document.getElementById('NetworKit_script');\n",
       "\t\t\t\tif (element) {\n",
       "\t\t\t\t\telement.parentNode.removeChild(element);\n",
       "\t\t\t\t}\n",
       "\t\t\t\telement = document.createElement('script');\n",
       "\t\t\t\telement.type = 'text/javascript';\n",
       "\t\t\t\telement.innerHTML = 'function NetworKit_pageEmbed(id) { var i, j; var elements; elements = document.getElementById(id).getElementsByClassName(\"Plot\"); for (i=0; i<elements.length; i++) { elements[i].id = id + \"_Plot_\" + i; var data = elements[i].getAttribute(\"data-image\").split(\"|\"); elements[i].removeAttribute(\"data-image\"); var content = \"<div class=\\\\\"Image\\\\\" id=\\\\\"\" + elements[i].id + \"_Image\\\\\" />\"; elements[i].innerHTML = content; elements[i].setAttribute(\"data-image-index\", 0); elements[i].setAttribute(\"data-image-length\", data.length); for (j=0; j<data.length; j++) { elements[i].setAttribute(\"data-image-\" + j, data[j]); } NetworKit_plotUpdate(elements[i]); elements[i].onclick = function (e) { NetworKit_overlayShow((e.target) ? e.target : e.srcElement); } } elements = document.getElementById(id).getElementsByClassName(\"HeatCell\"); for (i=0; i<elements.length; i++) { var data = parseFloat(elements[i].getAttribute(\"data-heat\")); var color = \"#00FF00\"; if (data <= 1 && data > 0) { color = \"hsla(0, 100%, 75%, \" + (data) + \")\"; } else if (data <= 0 && data >= -1) { color = \"hsla(240, 100%, 75%, \" + (-data) + \")\"; } elements[i].style.backgroundColor = color; } elements = document.getElementById(id).getElementsByClassName(\"Details\"); for (i=0; i<elements.length; i++) { elements[i].setAttribute(\"data-title\", \"-\"); NetworKit_toggleDetails(elements[i]); elements[i].onclick = function (e) { NetworKit_toggleDetails((e.target) ? e.target : e.srcElement); } } elements = document.getElementById(id).getElementsByClassName(\"MathValue\"); for (i=elements.length-1; i>=0; i--) { value = elements[i].innerHTML.trim(); if (value === \"nan\") { elements[i].parentNode.innerHTML = \"\" } } elements = document.getElementById(id).getElementsByClassName(\"SubCategory\"); for (i=elements.length-1; i>=0; i--) { value = elements[i].innerHTML.trim(); if (value === \"\") { elements[i].parentNode.removeChild(elements[i]) } } elements = document.getElementById(id).getElementsByClassName(\"Category\"); for (i=elements.length-1; i>=0; i--) { value = elements[i].innerHTML.trim(); if (value === \"\") { elements[i].parentNode.removeChild(elements[i]) } } var isFirefox = false; try { isFirefox = typeof InstallTrigger !== \"undefined\"; } catch (e) {} if (!isFirefox) { alert(\"Currently the function\\'s output is only fully supported by Firefox.\"); } } function NetworKit_plotUpdate(source) { var index = source.getAttribute(\"data-image-index\"); var data = source.getAttribute(\"data-image-\" + index); var image = document.getElementById(source.id + \"_Image\"); image.style.backgroundImage = \"url(\" + data + \")\"; } function NetworKit_showElement(id, show) { var element = document.getElementById(id); element.style.display = (show) ? \"block\" : \"none\"; } function NetworKit_overlayShow(source) { NetworKit_overlayUpdate(source); NetworKit_showElement(\"NetworKit_Overlay\", true); } function NetworKit_overlayUpdate(source) { document.getElementById(\"NetworKit_Overlay_Title\").innerHTML = source.title; var index = source.getAttribute(\"data-image-index\"); var data = source.getAttribute(\"data-image-\" + index); var image = document.getElementById(\"NetworKit_Overlay_Image\"); image.setAttribute(\"data-id\", source.id); image.style.backgroundImage = \"url(\" + data + \")\"; var link = document.getElementById(\"NetworKit_Overlay_Toolbar_Bottom_Save\"); link.href = data; link.download = source.title + \".svg\"; } function NetworKit_overlayImageShift(delta) { var image = document.getElementById(\"NetworKit_Overlay_Image\"); var source = document.getElementById(image.getAttribute(\"data-id\")); var index = parseInt(source.getAttribute(\"data-image-index\")); var length = parseInt(source.getAttribute(\"data-image-length\")); var index = (index+delta) % length; if (index < 0) { index = length + index; } source.setAttribute(\"data-image-index\", index); NetworKit_overlayUpdate(source); } function NetworKit_toggleDetails(source) { var childs = source.children; var show = false; if (source.getAttribute(\"data-title\") == \"-\") { source.setAttribute(\"data-title\", \"+\"); show = false; } else { source.setAttribute(\"data-title\", \"-\"); show = true; } for (i=0; i<childs.length; i++) { if (show) { childs[i].style.display = \"block\"; } else { childs[i].style.display = \"none\"; } } }';\n",
       "\t\t\t\telement.setAttribute('id', 'NetworKit_script');\n",
       "\t\t\t\tdocument.head.appendChild(element);\n",
       "\t\t\t}\n",
       "\t\t\n",
       "\t\t\t\t\n",
       "\t\t\t{\n",
       "\t\t\t\tvar element = document.getElementById('NetworKit_style');\n",
       "\t\t\t\tif (element) {\n",
       "\t\t\t\t\telement.parentNode.removeChild(element);\n",
       "\t\t\t\t}\n",
       "\t\t\t\telement = document.createElement('style');\n",
       "\t\t\t\telement.type = 'text/css';\n",
       "\t\t\t\telement.innerHTML = '.NetworKit_Page { font-family: Arial, Helvetica, sans-serif; font-size: 14px; } .NetworKit_Page .Value:before { font-family: Arial, Helvetica, sans-serif; font-size: 1.05em; content: attr(data-title) \":\"; margin-left: -2.5em; padding-right: 0.5em; } .NetworKit_Page .Details .Value:before { display: block; } .NetworKit_Page .Value { font-family: monospace; white-space: pre; padding-left: 2.5em; white-space: -moz-pre-wrap !important; white-space: -pre-wrap; white-space: -o-pre-wrap; white-space: pre-wrap; word-wrap: break-word; tab-size: 4; -moz-tab-size: 4; } .NetworKit_Page .Category { clear: both; padding-left: 1em; margin-bottom: 1.5em; } .NetworKit_Page .Category:before { content: attr(data-title); font-size: 1.75em; display: block; margin-left: -0.8em; margin-bottom: 0.5em; } .NetworKit_Page .SubCategory { margin-bottom: 1.5em; padding-left: 1em; } .NetworKit_Page .SubCategory:before { font-size: 1.6em; display: block; margin-left: -0.8em; margin-bottom: 0.5em; } .NetworKit_Page .SubCategory[data-title]:before { content: attr(data-title); } .NetworKit_Page .Block { display: block; } .NetworKit_Page .Block:after { content: \".\"; visibility: hidden; display: block; height: 0; clear: both; } .NetworKit_Page .Block .Thumbnail_Overview, .NetworKit_Page .Block .Thumbnail_ScatterPlot { width: 260px; float: left; } .NetworKit_Page .Block .Thumbnail_Overview img, .NetworKit_Page .Block .Thumbnail_ScatterPlot img { width: 260px; } .NetworKit_Page .Block .Thumbnail_Overview:before, .NetworKit_Page .Block .Thumbnail_ScatterPlot:before { display: block; text-align: center; font-weight: bold; } .NetworKit_Page .Block .Thumbnail_Overview:before { content: attr(data-title); } .NetworKit_Page .HeatCell { font-family: \"Courier New\", Courier, monospace; cursor: pointer; } .NetworKit_Page .HeatCell, .NetworKit_Page .HeatCellName { display: inline; padding: 0.1em; margin-right: 2px; background-color: #FFFFFF } .NetworKit_Page .HeatCellName { margin-left: 0.25em; } .NetworKit_Page .HeatCell:before { content: attr(data-heat); display: inline-block; color: #000000; width: 4em; text-align: center; } .NetworKit_Page .Measure { clear: both; } .NetworKit_Page .Measure .Details { cursor: pointer; } .NetworKit_Page .Measure .Details:before { content: \"[\" attr(data-title) \"]\"; display: block; } .NetworKit_Page .Measure .Details .Value { border-left: 1px dotted black; margin-left: 0.4em; padding-left: 3.5em; pointer-events: none; } .NetworKit_Page .Measure .Details .Spacer:before { content: \".\"; opacity: 0.0; pointer-events: none; } .NetworKit_Page .Measure .Plot { width: 440px; height: 440px; cursor: pointer; float: left; margin-left: -0.9em; margin-right: 20px; } .NetworKit_Page .Measure .Plot .Image { background-repeat: no-repeat; background-position: center center; background-size: contain; height: 100%; pointer-events: none; } .NetworKit_Page .Measure .Stat { width: 500px; float: left; } .NetworKit_Page .Measure .Stat .Group { padding-left: 1.25em; margin-bottom: 0.75em; } .NetworKit_Page .Measure .Stat .Group .Title { font-size: 1.1em; display: block; margin-bottom: 0.3em; margin-left: -0.75em; border-right-style: dotted; border-right-width: 1px; border-bottom-style: dotted; border-bottom-width: 1px; background-color: #D0D0D0; padding-left: 0.2em; } .NetworKit_Page .Measure .Stat .Group .List { -webkit-column-count: 3; -moz-column-count: 3; column-count: 3; } .NetworKit_Page .Measure .Stat .Group .List .Entry { position: relative; line-height: 1.75em; } .NetworKit_Page .Measure .Stat .Group .List .Entry[data-tooltip]:before { position: absolute; left: 0; top: -40px; background-color: #808080; color: #ffffff; height: 30px; line-height: 30px; border-radius: 5px; padding: 0 15px; content: attr(data-tooltip); white-space: nowrap; display: none; } .NetworKit_Page .Measure .Stat .Group .List .Entry[data-tooltip]:after { position: absolute; left: 15px; top: -10px; border-top: 7px solid #808080; border-left: 7px solid transparent; border-right: 7px solid transparent; content: \"\"; display: none; } .NetworKit_Page .Measure .Stat .Group .List .Entry[data-tooltip]:hover:after, .NetworKit_Page .Measure .Stat .Group .List .Entry[data-tooltip]:hover:before { display: block; } .NetworKit_Page .Measure .Stat .Group .List .Entry .MathValue { font-family: \"Courier New\", Courier, monospace; } .NetworKit_Page .Measure:after { content: \".\"; visibility: hidden; display: block; height: 0; clear: both; } .NetworKit_Page .PartitionPie { clear: both; } .NetworKit_Page .PartitionPie img { width: 600px; } #NetworKit_Overlay { left: 0px; top: 0px; display: none; position: absolute; width: 100%; height: 100%; background-color: rgba(0,0,0,0.6); z-index: 1000; } #NetworKit_Overlay_Title { position: absolute; color: white; transform: rotate(-90deg); width: 32em; height: 32em; padding-right: 0.5em; padding-top: 0.5em; text-align: right; font-size: 40px; } #NetworKit_Overlay .button { background: white; cursor: pointer; } #NetworKit_Overlay .button:before { size: 13px; display: inline-block; text-align: center; margin-top: 0.5em; margin-bottom: 0.5em; width: 1.5em; height: 1.5em; } #NetworKit_Overlay .icon-close:before { content: \"X\"; } #NetworKit_Overlay .icon-previous:before { content: \"P\"; } #NetworKit_Overlay .icon-next:before { content: \"N\"; } #NetworKit_Overlay .icon-save:before { content: \"S\"; } #NetworKit_Overlay_Toolbar_Top, #NetworKit_Overlay_Toolbar_Bottom { position: absolute; width: 40px; right: 13px; text-align: right; z-index: 1100; } #NetworKit_Overlay_Toolbar_Top { top: 0.5em; } #NetworKit_Overlay_Toolbar_Bottom { Bottom: 0.5em; } #NetworKit_Overlay_ImageContainer { position: absolute; top: 5%; left: 5%; height: 90%; width: 90%; background-repeat: no-repeat; background-position: center center; background-size: contain; } #NetworKit_Overlay_Image { height: 100%; width: 100%; background-repeat: no-repeat; background-position: center center; background-size: contain; }';\n",
       "\t\t\t\telement.setAttribute('id', 'NetworKit_style');\n",
       "\t\t\t\tdocument.head.appendChild(element);\n",
       "\t\t\t}\n",
       "\t\t\n",
       "\t\t\t\t\n",
       "\t\t\t{\n",
       "\t\t\t\tvar element = document.getElementById('NetworKit_Overlay');\n",
       "\t\t\t\tif (element) {\n",
       "\t\t\t\t\telement.parentNode.removeChild(element);\n",
       "\t\t\t\t}\n",
       "\t\t\t\telement = document.createElement('div');\n",
       "\t\t\t\telement.innerHTML = '<div id=\"NetworKit_Overlay_Toolbar_Top\"><div class=\"button icon-close\" id=\"NetworKit_Overlay_Close\" /></div><div id=\"NetworKit_Overlay_Title\" /> <div id=\"NetworKit_Overlay_ImageContainer\"> <div id=\"NetworKit_Overlay_Image\" /> </div> <div id=\"NetworKit_Overlay_Toolbar_Bottom\"> <div class=\"button icon-previous\" onclick=\"NetworKit_overlayImageShift(-1)\" /> <div class=\"button icon-next\" onclick=\"NetworKit_overlayImageShift(1)\" /> <a id=\"NetworKit_Overlay_Toolbar_Bottom_Save\"><div class=\"button icon-save\" /></a> </div>';\n",
       "\t\t\t\telement.setAttribute('id', 'NetworKit_Overlay');\n",
       "\t\t\t\tdocument.body.appendChild(element);\n",
       "\t\t\t\tdocument.getElementById('NetworKit_Overlay_Close').onclick = function (e) {\n",
       "\t\t\t\t\tdocument.getElementById('NetworKit_Overlay').style.display = 'none';\n",
       "\t\t\t\t}\n",
       "\t\t\t}\n",
       "\t\t\n",
       "\t\t\t-->\n",
       "\t\t\t</script>\n",
       "\t\t"
      ]
     },
     "metadata": {},
     "output_type": "display_data"
    }
   ],
   "source": [
    "import networkit as nk\n",
    "import networkx as nx"
   ]
  },
  {
   "cell_type": "markdown",
   "metadata": {},
   "source": [
    "# Setting"
   ]
  },
  {
   "cell_type": "code",
   "execution_count": 4,
   "metadata": {},
   "outputs": [],
   "source": [
    "class Setting:\n",
    "    _root = os.getcwd()\n",
    "\n",
    "    _data = os.path.join(_root, \"hw1_data\")\n",
    "\n",
    "    data_synthetic = os.path.join(_data, \"Synthetic\", \"5000\")\n",
    "    data_youtube = os.path.join(_data, \"youtube\")\n",
    "    data_train = os.path.join(_data, \"train\")\n",
    "    data_valid = os.path.join(_data, \"valid\")\n",
    "    \n",
    "     # Create dir for train/test\n",
    "    date_time = datetime.strftime(datetime.now(), \"%Y-%m-%d %H-%M\")\n",
    "    root = os.path.join(_root, \"result\", date_time)\n",
    "    if os.path.exists(root):\n",
    "        pass\n",
    "    else:\n",
    "        os.makedirs(root)\n",
    "\n",
    "\n",
    "    ### Save plt info\n",
    "    train_info_p = os.path.join(root, \"train.json\")\n",
    "    val_info_p = os.path.join(root, \"valid.json\")\n",
    "    test_info_p = os.path.join(root, \"test.json\")\n",
    "\n",
    "    ### Save plt img\n",
    "    result_plt_p = os.path.join(root, \"train_plt.png\")\n",
    "    test_plt_p = os.path.join(root, \"test_plt.png\")\n",
    "    sum_box_p = os.path.join(root, \"sum_box.png\")\n",
    "        \n",
    "        \n",
    "    ### Data split\n",
    "    data_split = os.path.join(_root, \"split.json\")\n",
    "    \n",
    "\n",
    "    # Setting of training\n",
    "    device = torch.device(\"cuda:1\" if torch.cuda.is_available() else \"cpu\")\n",
    "\n",
    "    mini_epochs = 500\n",
    "    epochs = 100\n",
    "    \n",
    "    nodes_cnt = 200\n",
    "\n",
    "    criterion = nn.BCELoss()\n",
    "    weight_node2vec = os.path.join(root, \"node2vec.pth\")\n",
    "    weight_drbc = os.path.join(root, \"drbc.pth\")\n",
    "    \n",
    "    params_drbc = None\n",
    "    params_node2vec = None\n",
    "\n",
    "    "
   ]
  },
  {
   "cell_type": "code",
   "execution_count": 5,
   "metadata": {},
   "outputs": [],
   "source": [
    "setting = Setting()"
   ]
  },
  {
   "cell_type": "markdown",
   "metadata": {
    "id": "RZdiko1lmiJy"
   },
   "source": [
    "# Data"
   ]
  },
  {
   "cell_type": "markdown",
   "metadata": {
    "id": "gU4XwwAu_WkR"
   },
   "source": [
    "- data.x\t节点特征，维度是[num_nodes, num_node_features]。\n",
    "- data.edge_index\t维度是[2, num_edges]，描述图中节点的关联关系，每一列对应的两个元素，分别是边的起点和重点。数据类型是torch.long。需要注意的是，data.edge_index是定义边的节点的张量（tensor），而不是节点的列表（list）。\n",
    "- data.edge_attr\t边的特征矩阵，维度是[num_edges, num_edge_features]\n",
    "- data.y\t训练目标（维度可以是任意的）。对于节点相关的任务，维度为[num_nodes, *]；对于图相关的任务，维度为[1,*]。\n",
    "- data.position\t节点位置矩阵（Node position matrix），维度为[num_nodes, num_dimensions]。"
   ]
  },
  {
   "cell_type": "markdown",
   "metadata": {
    "id": "um9C8SFO_2Tx"
   },
   "source": [
    "- [Learning to Identify High Betweenness Centrality Nodes from\n",
    "Scratch: A Novel Graph Neural Network Approach](https://arxiv.org/pdf/1905.10418.pdf)\n",
    "- node initial feature = [$(d_v), 1, 1]"
   ]
  },
  {
   "cell_type": "markdown",
   "metadata": {},
   "source": [
    "## Functions"
   ]
  },
  {
   "cell_type": "markdown",
   "metadata": {},
   "source": [
    "### Load all data"
   ]
  },
  {
   "cell_type": "code",
   "execution_count": 6,
   "metadata": {
    "colab": {
     "base_uri": "https://localhost:8080/"
    },
    "executionInfo": {
     "elapsed": 5918,
     "status": "ok",
     "timestamp": 1615282793119,
     "user": {
      "displayName": "Q56094077陳香君",
      "photoUrl": "",
      "userId": "10727804849868825735"
     },
     "user_tz": -480
    },
    "id": "cxWp5RNpm1uL",
    "outputId": "4cf7bf3b-d143-4b96-eebb-2cd9c1b0f408"
   },
   "outputs": [],
   "source": [
    "def load_data(path):\n",
    "\n",
    "    edge_index = []\n",
    "    between = []\n",
    "    for f in os.listdir(path):\n",
    "        if \"score\" in f:\n",
    "            pass\n",
    "        else:\n",
    "            p = os.path.join(path, f)\n",
    "            edge_index.append(p)\n",
    "            \n",
    "            # get filename without extension\n",
    "            f = os.path.splitext(f)[0]\n",
    "            p = os.path.join(path, \"{}_score.txt\".format(f))\n",
    "            between.append(p)\n",
    "    \n",
    "    return edge_index, between"
   ]
  },
  {
   "cell_type": "markdown",
   "metadata": {},
   "source": [
    "### Split Data"
   ]
  },
  {
   "cell_type": "code",
   "execution_count": 7,
   "metadata": {},
   "outputs": [],
   "source": [
    "from sklearn.model_selection import train_test_split\n",
    "\n",
    "\n",
    "def split_data(path, x, y, replace=False):\n",
    "    if os.path.exists(path) and replace:\n",
    "        pass\n",
    "    else:\n",
    "        X_train, X_test, y_train, y_test = train_test_split(x, y, test_size=0.2)\n",
    "        X_train, X_valid, y_train, y_valid = train_test_split(X_train, y_train, test_size=0.15)\n",
    "\n",
    "        split = {\n",
    "            \"X_train\": X_train,\n",
    "            \"X_valid\": X_valid,\n",
    "            \"X_test\": X_test,\n",
    "            \"y_train\": y_train,\n",
    "            \"y_valid\": y_valid,\n",
    "            \"y_test\": y_test\n",
    "        }\n",
    "\n",
    "        with open(path, 'w') as f:\n",
    "            json.dump(split, f)"
   ]
  },
  {
   "cell_type": "markdown",
   "metadata": {},
   "source": [
    "### Cvt 2 Data"
   ]
  },
  {
   "cell_type": "code",
   "execution_count": 8,
   "metadata": {},
   "outputs": [],
   "source": [
    "def to_data(x, y=None, x_sep=None, y_sep=None, usecols=None):\n",
    "    \n",
    "    if x_sep is not None:\n",
    "        edge_index = torch_geometric.io.read_txt_array(x, dtype=torch.long, sep=x_sep)\n",
    "    else:\n",
    "        edge_index = torch_geometric.io.read_txt_array(x, dtype=torch.long)\n",
    "    edge_index = edge_index.t().contiguous()\n",
    "    edge_index = utils.to_undirected(edge_index)\n",
    "\n",
    "    row, col = edge_index  \n",
    "    deg = utils.degree(col) # must use col to get degree, why?\n",
    "    deg = deg.numpy()  \n",
    "\n",
    "    vertice = []\n",
    "    for d in deg:\n",
    "        vertice.append([d, 1, 1])\n",
    "    vertice = np.array(vertice, dtype=np.float)\n",
    "    vertice = torch.from_numpy(vertice)\n",
    "\n",
    "    if y is not None:\n",
    "        ### between centrality\n",
    "        bc = np.loadtxt(y, delimiter=y_sep, usecols=usecols)\n",
    "        bc = np.reshape(bc, (-1, 1))\n",
    "        bc = torch.from_numpy(bc)\n",
    "\n",
    "        data = Data(x=vertice, edge_index=edge_index, y=bc)\n",
    "        \n",
    "    else:\n",
    "        data = Data(x=vertice, edge_index=edge_index)\n",
    "    \n",
    "    return data"
   ]
  },
  {
   "cell_type": "markdown",
   "metadata": {},
   "source": [
    "### Cvt 2 dataloader"
   ]
  },
  {
   "cell_type": "code",
   "execution_count": 9,
   "metadata": {
    "colab": {
     "base_uri": "https://localhost:8080/",
     "height": 246
    },
    "executionInfo": {
     "elapsed": 893,
     "status": "error",
     "timestamp": 1615282795672,
     "user": {
      "displayName": "Q56094077陳香君",
      "photoUrl": "",
      "userId": "10727804849868825735"
     },
     "user_tz": -480
    },
    "id": "GJrGQmiUxRGX",
    "outputId": "81d8b6cb-5008-47d8-baf4-1156d70e07fc"
   },
   "outputs": [],
   "source": [
    "def to_dataloader(x, y, batch, y_sep=None, usecols=None):\n",
    "    \n",
    "    data_list = []\n",
    "    for x_, y_ in zip(x, y):\n",
    "        data = to_data(x_, y_, y_sep=y_sep, usecols=usecols)\n",
    "        data_list.append(data)\n",
    "\n",
    "    loader = DataLoader(data_list, batch_size=batch)\n",
    "    return loader"
   ]
  },
  {
   "cell_type": "markdown",
   "metadata": {},
   "source": [
    "### Cvt nx.Graph 2 PyG.Data"
   ]
  },
  {
   "cell_type": "code",
   "execution_count": 10,
   "metadata": {},
   "outputs": [],
   "source": [
    "def from_networkx(G, between_list=None):\n",
    "    r\"\"\"Converts a :obj:`networkx.Graph` or :obj:`networkx.DiGraph` to a\n",
    "    :class:`torch_geometric.data.Data` instance.\n",
    "\n",
    "    Args:\n",
    "        G (networkx.Graph or networkx.DiGraph): A networkx graph.\n",
    "    \"\"\"\n",
    "\n",
    "    G = nx.convert_node_labels_to_integers(G)\n",
    "    G = G.to_directed() if not nx.is_directed(G) else G\n",
    "    edge_index = torch.LongTensor(list(G.edges)).t().contiguous()\n",
    "   \n",
    "    data = {}\n",
    "\n",
    "    for i, (_, feat_dict) in enumerate(G.nodes(data=True)):\n",
    "        for key, value in feat_dict.items():\n",
    "           \n",
    "            data[str(key)] = [value] if i == 0 else data[str(key)] + [value]\n",
    "\n",
    "    for i, (_, _, feat_dict) in enumerate(G.edges(data=True)):\n",
    "        for key, value in feat_dict.items():\n",
    "            data[str(key)] = [value] if i == 0 else data[str(key)] + [value]\n",
    "\n",
    "    for key, item in data.items():\n",
    "        try:\n",
    "            data[key] = torch.tensor(item)\n",
    "        except ValueError:\n",
    "            pass\n",
    "\n",
    "    data['edge_index'] = edge_index.view(2, -1)\n",
    "    data['x'] = torch.from_numpy(\n",
    "        np.array( [ [G.degree[i], 1, 1] for i in G.nodes()], dtype=np.float ) )\n",
    "    \n",
    "    if between_list is not None:\n",
    "        data['y'] = torch.from_numpy(\n",
    "            np.array( [ [b] for b in between_list ] , dtype=np.float) )\n",
    "    data = torch_geometric.data.Data.from_dict(data)\n",
    "    data.num_nodes = G.number_of_nodes()\n",
    "\n",
    "    return data"
   ]
  },
  {
   "cell_type": "markdown",
   "metadata": {},
   "source": [
    "### Randomly generate nx.Graph"
   ]
  },
  {
   "cell_type": "code",
   "execution_count": 11,
   "metadata": {},
   "outputs": [],
   "source": [
    "def generate_nx_graph(nodes_cnt):\n",
    "    # Draw network G from distribution D (like the power-law model)\n",
    "    G = nx.generators.random_graphs.powerlaw_cluster_graph(n=nodes_cnt, m=4, p=0.05)\n",
    "    # Calculate each node’s exact BC value bv, ∀v ∈ V\n",
    "    betweenness = nx.algorithms.centrality.betweenness_centrality(G)\n",
    "    \n",
    "    # Convert betweenness dict to list\n",
    "    between_list = [v for k, v in sorted(betweenness.items(), key=lambda  item: int(item[0]), reverse=False)]\n",
    "    bc_gt = torch.from_numpy(np.array(between_list))\n",
    "    \n",
    "    return G, bc_gt"
   ]
  },
  {
   "cell_type": "markdown",
   "metadata": {},
   "source": [
    "## Read data"
   ]
  },
  {
   "cell_type": "markdown",
   "metadata": {},
   "source": [
    "### Load test data"
   ]
  },
  {
   "cell_type": "code",
   "execution_count": 12,
   "metadata": {},
   "outputs": [],
   "source": [
    "synthetic, between = load_data(setting.data_synthetic)\n",
    "yt, yt_score = load_data(setting.data_youtube)"
   ]
  },
  {
   "cell_type": "code",
   "execution_count": 13,
   "metadata": {},
   "outputs": [],
   "source": [
    "train, train_bet = load_data(os.path.join(setting.data_train, str(setting.nodes_cnt)))"
   ]
  },
  {
   "cell_type": "code",
   "execution_count": 14,
   "metadata": {},
   "outputs": [],
   "source": [
    "valid, valid_bet = load_data(os.path.join(setting.data_valid, str(setting.nodes_cnt)))"
   ]
  },
  {
   "cell_type": "markdown",
   "metadata": {},
   "source": [
    "### Cvt to data/dataloader"
   ]
  },
  {
   "cell_type": "code",
   "execution_count": 15,
   "metadata": {},
   "outputs": [],
   "source": [
    "train_loader = to_dataloader(train, train_bet, batch=8)\n",
    "valid_loader = to_dataloader(valid, valid_bet, batch=8)"
   ]
  },
  {
   "cell_type": "code",
   "execution_count": 16,
   "metadata": {},
   "outputs": [],
   "source": [
    "syn_loader = to_dataloader(synthetic, between, batch=1, usecols=1)"
   ]
  },
  {
   "cell_type": "code",
   "execution_count": 17,
   "metadata": {},
   "outputs": [],
   "source": [
    "yt_loader = to_dataloader(yt, yt_score, batch=1, y_sep=\":\", usecols=1)"
   ]
  },
  {
   "cell_type": "markdown",
   "metadata": {
    "id": "Jh1T_INgi8Ql"
   },
   "source": [
    "# Model"
   ]
  },
  {
   "cell_type": "markdown",
   "metadata": {},
   "source": [
    "## Hyper params"
   ]
  },
  {
   "cell_type": "code",
   "execution_count": 18,
   "metadata": {},
   "outputs": [],
   "source": [
    "setting.params_drbc = dict(\n",
    "    # according to source paper\n",
    "    encoder_params = dict(\n",
    "        c = 3,\n",
    "        p = 128,\n",
    "        num_layers = 5,\n",
    "        device = setting.device\n",
    "    ),\n",
    "    decoder_params = dict(\n",
    "        p = 128,\n",
    "        q = 64\n",
    "    )\n",
    ")\n",
    "\n",
    "setting.params_node2vec = dict(\n",
    "    in_features = 128\n",
    ")"
   ]
  },
  {
   "cell_type": "markdown",
   "metadata": {},
   "source": [
    "## DrBC"
   ]
  },
  {
   "cell_type": "code",
   "execution_count": 19,
   "metadata": {
    "id": "gcEf-tUaqDVa"
   },
   "outputs": [],
   "source": [
    "from torch_geometric.nn import MessagePassing\n",
    "import torch.nn.functional as F\n",
    "from torch_geometric.typing import Adj, OptTensor"
   ]
  },
  {
   "cell_type": "code",
   "execution_count": 20,
   "metadata": {
    "colab": {
     "base_uri": "https://localhost:8080/",
     "height": 135
    },
    "executionInfo": {
     "elapsed": 661,
     "status": "error",
     "timestamp": 1615203940879,
     "user": {
      "displayName": "Q56094077陳香君",
      "photoUrl": "",
      "userId": "10727804849868825735"
     },
     "user_tz": -480
    },
    "id": "P5EzKoYr7SGL",
    "outputId": "5504fb67-0455-4af0-a697-930410895a70"
   },
   "outputs": [],
   "source": [
    "class Encoder(MessagePassing):\n",
    "    def __init__(self, c, p, num_layers, device, aggr=\"add\"):\n",
    "        super(Encoder, self).__init__(aggr=aggr)\n",
    "        \n",
    "        self.num_layers = num_layers\n",
    "        self.w_0 = nn.Linear(in_features=c, out_features=p).double()\n",
    "        \n",
    "        self.relu = nn.ReLU(inplace=True)\n",
    "        self.rnn = nn.GRUCell(p, p).double()\n",
    "\n",
    "        self.device = device\n",
    "\n",
    "    def forward(self, data):\n",
    "        \n",
    "        x, edge_index = data.x, data.edge_index\n",
    "        \n",
    "        \n",
    "        # compute dgree\n",
    "        row, col = edge_index\n",
    "        deg = utils.degree(col)\n",
    "        deg = torch.add(deg, 1)\n",
    "        deg_inv_sqrt = torch.pow(deg, -0.5)\n",
    "        norm = deg_inv_sqrt[row] * deg_inv_sqrt[col]\n",
    "        \n",
    "        \n",
    "        # h_0 = x\n",
    "\n",
    "        # h_1\n",
    "        x = self.w_0(x)\n",
    "        x = self.relu(x)\n",
    "        x = F.normalize(x, p=2, dim=1)\n",
    "        \n",
    "        h_s = [x]\n",
    "        \n",
    "        for i in range(self.num_layers-1):\n",
    "            # internally calls the message(), aggregate() and update() functions\n",
    "            x = self.propagate(edge_index, x=x, norm=norm)\n",
    "            h_s.append(x)\n",
    "        \n",
    "        h_s = torch.stack(h_s, dim=-1)\n",
    "        # Use torch.max to replace max_pooling\n",
    "        z, _ = torch.max(h_s, dim=-1)\n",
    "        # z = global_max_pool(h_s, torch.tensor([0], dtype=torch.long).to(self.device))\n",
    "        \n",
    "        return z\n",
    "\n",
    "    def message(self, x_j, norm: OptTensor):\n",
    "        \"\"\"      \n",
    "        In addition, tensors passed to propagate() can be mapped to the respective nodes i and j \n",
    "        by appending _i or _j to the variable name, .e.g. x_i and x_j. \n",
    "        Note that we generally refer to i as the central nodes that aggregates information, \n",
    "        and refer to j as the neighboring nodes, since this is the most common notation.\n",
    "        \"\"\"\n",
    "  \n",
    "        return x_j if norm is None else norm.view(-1, 1) * x_j\n",
    "    \n",
    "    \n",
    "    def update(self, aggr_out, x):\n",
    "        \"\"\"        \n",
    "        Takes in the output of aggregation as first argument \n",
    "        and any argument which was initially passed to propagate().\n",
    "        \"\"\"\n",
    "\n",
    "        x = self.rnn(x, aggr_out)\n",
    "        x = F.normalize(x, p=2, dim=1) \n",
    "        \n",
    "        return x\n",
    "    "
   ]
  },
  {
   "cell_type": "code",
   "execution_count": 21,
   "metadata": {},
   "outputs": [],
   "source": [
    "class Decoder(nn.Module):\n",
    "    def __init__(self, p, q):\n",
    "        \n",
    "        super().__init__()\n",
    "        \n",
    "        self.w_4 = nn.Linear(in_features=p, out_features=q).double()\n",
    "        self.w_5 = nn.Linear(in_features=q, out_features=1).double()\n",
    "        \n",
    "        self.relu = nn.ReLU(inplace=True)\n",
    "        \n",
    "    def forward(self, z):\n",
    "        z = self.w_4(z)\n",
    "        z = self.relu(z)\n",
    "        z = self.w_5(z)\n",
    "        \n",
    "        return z"
   ]
  },
  {
   "cell_type": "code",
   "execution_count": 22,
   "metadata": {},
   "outputs": [],
   "source": [
    "class DrBC(nn.Module):\n",
    "    def __init__(self, encoder_params, decoder_params):\n",
    "        super().__init__()\n",
    "        \n",
    "        self.encoder = Encoder(**encoder_params)\n",
    "        self.decoder = Decoder(**decoder_params)\n",
    "        \n",
    "        \n",
    "    def forward(self, data):\n",
    "        \n",
    "        z = self.encoder(data)\n",
    "        \n",
    "        return self.decoder(z)"
   ]
  },
  {
   "cell_type": "markdown",
   "metadata": {},
   "source": [
    "## Node2Vec"
   ]
  },
  {
   "cell_type": "code",
   "execution_count": 23,
   "metadata": {},
   "outputs": [
    {
     "name": "stderr",
     "output_type": "stream",
     "text": [
      "INFO:gensim.summarization.textcleaner:'pattern' package not found; tag filters are not available for English\n"
     ]
    }
   ],
   "source": [
    "import node2vec\n",
    "from gensim.models import Word2Vec"
   ]
  },
  {
   "cell_type": "code",
   "execution_count": 24,
   "metadata": {},
   "outputs": [],
   "source": [
    "def learn_embeddings(walks, dim=128, window=10, workers=8, iters=1):\n",
    "    '''\n",
    "    Learn embeddings by optimizing the Skipgram objective using SGD.\n",
    "    '''\n",
    "    walks = [list(map(str, walk)) for walk in walks]\n",
    "    model = Word2Vec(walks, size=dim, window=window, min_count=0, sg=1, workers=workers, iter=iters)\n",
    "    \n",
    "    return model.wv\n",
    "\n",
    "\n",
    "\n",
    "def gnx_to_emb(G, nodes_cnt):\n",
    "    for edge in G.edges():\n",
    "        G[edge[0]][edge[1]]['weight'] = 1\n",
    "\n",
    "    G = node2vec.Graph(G, False, p=1, q=1)\n",
    "    G.preprocess_transition_probs()\n",
    "    walks = G.simulate_walks(10, 80)\n",
    "\n",
    "    embs = learn_embeddings(walks)\n",
    "    embs_ = []\n",
    "    for index in range(nodes_cnt):\n",
    "        embs_.append(torch.from_numpy(np.array(embs.get_vector(str(index)), dtype=np.float)))\n",
    "    embs_ = torch.stack(embs_)\n",
    "    \n",
    "    \n",
    "    return embs_"
   ]
  },
  {
   "cell_type": "code",
   "execution_count": 25,
   "metadata": {},
   "outputs": [],
   "source": [
    "class BC_node2vec(nn.Module):\n",
    "    \n",
    "    def __init__(self, in_features):\n",
    "        super().__init__()\n",
    "\n",
    "        self.mlp = nn.Linear(in_features=in_features, out_features=1).double()\n",
    "        \n",
    "    def forward(self, emb):\n",
    "        \n",
    "        return self.mlp(emb)"
   ]
  },
  {
   "cell_type": "markdown",
   "metadata": {},
   "source": [
    "# Evaluation"
   ]
  },
  {
   "cell_type": "markdown",
   "metadata": {},
   "source": [
    "## Top k %"
   ]
  },
  {
   "cell_type": "code",
   "execution_count": 26,
   "metadata": {},
   "outputs": [],
   "source": [
    "def top_n_percentage(bc_gt, bc_pr, k):\n",
    "    \n",
    "    if not isinstance(bc_gt, torch.Tensor):\n",
    "        bc_gt = torch.from_numpy(bc_gt)\n",
    "    bc_gt = bc_gt.to(setting.device)\n",
    "    bc_gt = torch.reshape(bc_gt, (-1, ))\n",
    "    \n",
    "    if not isinstance(bc_pr, torch.Tensor):\n",
    "        bc_pr = torch.from_numpy(bc_pr)\n",
    "    bc_pr = bc_pr.to(setting.device)\n",
    "    bc_pr = torch.reshape(bc_pr, (-1, ))\n",
    "    \n",
    "    nodes = bc_gt.size()[0]\n",
    "    k = int(nodes * k / 100)\n",
    "    \n",
    "    gt_value, gt_indice = torch.topk(bc_gt, k)\n",
    "    pr_value, pr_indice = torch.topk(bc_pr, k)\n",
    "\n",
    "    gt_indice = set(gt_indice.cpu().numpy())\n",
    "    pr_indice = set(pr_indice.cpu().numpy())\n",
    "\n",
    "    intersect = len(gt_indice & pr_indice)\n",
    "    top = intersect/k\n",
    "    \n",
    "    return top"
   ]
  },
  {
   "cell_type": "markdown",
   "metadata": {},
   "source": [
    "## Tau Kendal"
   ]
  },
  {
   "cell_type": "code",
   "execution_count": 27,
   "metadata": {},
   "outputs": [],
   "source": [
    "from scipy import stats\n",
    "\n",
    "def kendal_tau_distance(bc_gt, bc_pr):\n",
    "    \n",
    "    if isinstance(bc_gt, torch.Tensor):\n",
    "        bc_gt = torch.reshape(bc_gt, (-1, ))\n",
    "        bc_gt = bc_gt.cpu().detach().numpy()\n",
    "        \n",
    "    if isinstance(bc_pr, torch.Tensor):\n",
    "        bc_pr = torch.reshape(bc_pr, (-1, ))\n",
    "        bc_pr = bc_pr.cpu().detach().numpy()\n",
    "    \n",
    "    tau, p_value = stats.kendalltau(bc_gt, bc_pr)\n",
    "    return tau"
   ]
  },
  {
   "cell_type": "markdown",
   "metadata": {},
   "source": [
    "# Train"
   ]
  },
  {
   "cell_type": "markdown",
   "metadata": {
    "id": "Dvoodu8ki_Cu"
   },
   "source": [
    "## Load model"
   ]
  },
  {
   "cell_type": "code",
   "execution_count": 28,
   "metadata": {},
   "outputs": [],
   "source": [
    "def load_checkpoint(filepath, device, **params):\n",
    "\n",
    "    if \"node2vec\" in filepath:\n",
    "        model = BC_node2vec(**params[\"node2vec\"])\n",
    "    \n",
    "    else:\n",
    "        model = DrBC(**params[\"drbc\"])\n",
    "    \n",
    "    model = model.to(device)\n",
    "    \n",
    "    if os.path.exists(filepath):\n",
    "        print(\"pretrained finded\")\n",
    "        checkpoint = torch.load(filepath)\n",
    "        model.load_state_dict(checkpoint['model_stat'])\n",
    "        optimizer = torch.optim.Adam(model.parameters(), lr=1e-4)\n",
    "        optimizer.load_state_dict(checkpoint['optimizer_stat'])\n",
    "\n",
    "    else:\n",
    "        print(\"use a new optimizer\")\n",
    "        optimizer = torch.optim.Adam(model.parameters(), lr=1e-4)\n",
    "\n",
    "    return model, optimizer"
   ]
  },
  {
   "cell_type": "code",
   "execution_count": 30,
   "metadata": {},
   "outputs": [
    {
     "name": "stdout",
     "output_type": "stream",
     "text": [
      "use a new optimizer\n"
     ]
    },
    {
     "data": {
      "text/plain": [
       "DrBC(\n",
       "  (encoder): Encoder(\n",
       "    (w_0): Linear(in_features=3, out_features=128, bias=True)\n",
       "    (relu): ReLU(inplace=True)\n",
       "    (rnn): GRUCell(128, 128)\n",
       "  )\n",
       "  (decoder): Decoder(\n",
       "    (w_4): Linear(in_features=128, out_features=64, bias=True)\n",
       "    (w_5): Linear(in_features=64, out_features=1, bias=True)\n",
       "    (relu): ReLU(inplace=True)\n",
       "  )\n",
       ")"
      ]
     },
     "execution_count": 30,
     "metadata": {},
     "output_type": "execute_result"
    }
   ],
   "source": [
    "model, optimizer = load_checkpoint(\n",
    "                    setting.weight_drbc,\n",
    "                    setting.device,\n",
    "                    drbc = setting.params_drbc,\n",
    "                    node2vec = setting.params_node2vec)\n",
    "\n",
    "model"
   ]
  },
  {
   "cell_type": "markdown",
   "metadata": {},
   "source": [
    "## DrBC"
   ]
  },
  {
   "cell_type": "code",
   "execution_count": 31,
   "metadata": {},
   "outputs": [
    {
     "name": "stderr",
     "output_type": "stream",
     "text": [
      "\r",
      "  0%|          | 0/1250 [00:00<?, ?it/s]"
     ]
    },
    {
     "name": "stdout",
     "output_type": "stream",
     "text": [
      "\n",
      "Epoch: 1\n"
     ]
    },
    {
     "name": "stderr",
     "output_type": "stream",
     "text": [
      "100%|██████████| 1250/1250 [02:23<00:00,  8.69it/s]\n",
      "100%|██████████| 1250/1250 [01:36<00:00, 12.95it/s]\n",
      "  8%|▊         | 1/13 [00:00<00:01,  9.22it/s]"
     ]
    },
    {
     "name": "stdout",
     "output_type": "stream",
     "text": [
      "Train: loss = 2.780760465889979e-06, top 1 = 0.95275, top 5 = 0.964239999999941, top 10 = 0.9623699999999815, kendal = 0.8652761852980011\n"
     ]
    },
    {
     "name": "stderr",
     "output_type": "stream",
     "text": [
      "100%|██████████| 13/13 [00:01<00:00, 12.92it/s]\n",
      "  0%|          | 1/1250 [00:00<03:31,  5.92it/s]"
     ]
    },
    {
     "name": "stdout",
     "output_type": "stream",
     "text": [
      "Valid: loss = 2.6854486443188385e-06, top 1 = 0.95, top 5 = 0.9560000000000002, top 10 = 0.9610000000000011, kendal = 0.863317216148458\n",
      "\n",
      "Epoch: 2\n"
     ]
    },
    {
     "name": "stderr",
     "output_type": "stream",
     "text": [
      "100%|██████████| 1250/1250 [03:31<00:00,  5.92it/s]\n",
      "100%|██████████| 1250/1250 [02:20<00:00,  8.89it/s]\n",
      "  8%|▊         | 1/13 [00:00<00:01,  6.88it/s]"
     ]
    },
    {
     "name": "stdout",
     "output_type": "stream",
     "text": [
      "Train: loss = 1.9442269432582785e-06, top 1 = 0.96425, top 5 = 0.9703999999999503, top 10 = 0.9661749999999852, kendal = 0.8773400173250139\n"
     ]
    },
    {
     "name": "stderr",
     "output_type": "stream",
     "text": [
      "100%|██████████| 13/13 [00:01<00:00,  8.80it/s]\n",
      "  0%|          | 0/1250 [00:00<?, ?it/s]"
     ]
    },
    {
     "name": "stdout",
     "output_type": "stream",
     "text": [
      "Valid: loss = 2.0845377190195002e-06, top 1 = 0.945, top 5 = 0.9620000000000002, top 10 = 0.9635000000000011, kendal = 0.8768609548426827\n",
      "\n",
      "Epoch: 3\n"
     ]
    },
    {
     "name": "stderr",
     "output_type": "stream",
     "text": [
      "100%|██████████| 1250/1250 [03:26<00:00,  6.06it/s]\n",
      "100%|██████████| 1250/1250 [02:35<00:00,  8.03it/s]\n",
      "  0%|          | 0/13 [00:00<?, ?it/s]"
     ]
    },
    {
     "name": "stdout",
     "output_type": "stream",
     "text": [
      "Train: loss = 2.025889702602961e-06, top 1 = 0.9653, top 5 = 0.9719999999999516, top 10 = 0.9677349999999875, kendal = 0.8821143123879883\n"
     ]
    },
    {
     "name": "stderr",
     "output_type": "stream",
     "text": [
      "100%|██████████| 13/13 [00:01<00:00,  8.19it/s]\n",
      "  0%|          | 0/1250 [00:00<?, ?it/s]"
     ]
    },
    {
     "name": "stdout",
     "output_type": "stream",
     "text": [
      "Valid: loss = 2.1993899677161356e-06, top 1 = 0.95, top 5 = 0.9660000000000002, top 10 = 0.966500000000001, kendal = 0.8814840716074558\n",
      "\n",
      "Epoch: 4\n"
     ]
    },
    {
     "name": "stderr",
     "output_type": "stream",
     "text": [
      "100%|██████████| 1250/1250 [03:10<00:00,  6.55it/s]\n",
      "100%|██████████| 1250/1250 [02:49<00:00,  7.36it/s]\n",
      " 15%|█▌        | 2/13 [00:00<00:00, 13.27it/s]"
     ]
    },
    {
     "name": "stdout",
     "output_type": "stream",
     "text": [
      "Train: loss = 1.762209546478253e-06, top 1 = 0.96695, top 5 = 0.9736799999999545, top 10 = 0.9689749999999901, kendal = 0.8875023528321749\n"
     ]
    },
    {
     "name": "stderr",
     "output_type": "stream",
     "text": [
      "100%|██████████| 13/13 [00:01<00:00,  8.96it/s]\n",
      "  0%|          | 1/1250 [00:00<03:25,  6.09it/s]"
     ]
    },
    {
     "name": "stdout",
     "output_type": "stream",
     "text": [
      "Valid: loss = 1.954097923102992e-06, top 1 = 0.945, top 5 = 0.9670000000000002, top 10 = 0.968500000000001, kendal = 0.8870277881296883\n",
      "\n",
      "Epoch: 5\n"
     ]
    },
    {
     "name": "stderr",
     "output_type": "stream",
     "text": [
      "100%|██████████| 1250/1250 [02:56<00:00,  7.09it/s]\n",
      "100%|██████████| 1250/1250 [02:49<00:00,  7.36it/s]\n",
      "  8%|▊         | 1/13 [00:00<00:02,  5.04it/s]"
     ]
    },
    {
     "name": "stdout",
     "output_type": "stream",
     "text": [
      "Train: loss = 1.652692536095984e-06, top 1 = 0.9681, top 5 = 0.9743299999999555, top 10 = 0.9695849999999924, kendal = 0.8891976583828631\n"
     ]
    },
    {
     "name": "stderr",
     "output_type": "stream",
     "text": [
      "100%|██████████| 13/13 [00:01<00:00,  6.57it/s]\n",
      "  0%|          | 0/1250 [00:00<?, ?it/s]"
     ]
    },
    {
     "name": "stdout",
     "output_type": "stream",
     "text": [
      "Valid: loss = 1.8339670580446997e-06, top 1 = 0.945, top 5 = 0.9690000000000002, top 10 = 0.966500000000001, kendal = 0.888439845375602\n",
      "\n",
      "Epoch: 6\n"
     ]
    },
    {
     "name": "stderr",
     "output_type": "stream",
     "text": [
      "100%|██████████| 1250/1250 [03:07<00:00,  6.65it/s]\n",
      "100%|██████████| 1250/1250 [02:37<00:00,  7.94it/s]\n",
      "  0%|          | 0/13 [00:00<?, ?it/s]"
     ]
    },
    {
     "name": "stdout",
     "output_type": "stream",
     "text": [
      "Train: loss = 1.5538284547714583e-06, top 1 = 0.9686, top 5 = 0.9749299999999562, top 10 = 0.9702049999999939, kendal = 0.8912056217302139\n"
     ]
    },
    {
     "name": "stderr",
     "output_type": "stream",
     "text": [
      "100%|██████████| 13/13 [00:01<00:00,  8.61it/s]\n",
      "  0%|          | 0/1250 [00:00<?, ?it/s]"
     ]
    },
    {
     "name": "stdout",
     "output_type": "stream",
     "text": [
      "Valid: loss = 1.8143199150097789e-06, top 1 = 0.94, top 5 = 0.9720000000000003, top 10 = 0.9690000000000011, kendal = 0.8906036640922873\n",
      "\n",
      "Epoch: 7\n"
     ]
    },
    {
     "name": "stderr",
     "output_type": "stream",
     "text": [
      "100%|██████████| 1250/1250 [03:21<00:00,  6.20it/s]\n",
      "100%|██████████| 1250/1250 [02:23<00:00,  8.74it/s]\n",
      "  8%|▊         | 1/13 [00:00<00:01,  9.09it/s]"
     ]
    },
    {
     "name": "stdout",
     "output_type": "stream",
     "text": [
      "Train: loss = 1.5752130973122652e-06, top 1 = 0.96935, top 5 = 0.9752399999999567, top 10 = 0.9705849999999933, kendal = 0.893454586683633\n"
     ]
    },
    {
     "name": "stderr",
     "output_type": "stream",
     "text": [
      "100%|██████████| 13/13 [00:01<00:00,  8.51it/s]\n",
      "  0%|          | 0/1250 [00:00<?, ?it/s]"
     ]
    },
    {
     "name": "stdout",
     "output_type": "stream",
     "text": [
      "Valid: loss = 1.8621944882565034e-06, top 1 = 0.94, top 5 = 0.9720000000000003, top 10 = 0.969500000000001, kendal = 0.8921785379338367\n",
      "\n",
      "Epoch: 8\n"
     ]
    },
    {
     "name": "stderr",
     "output_type": "stream",
     "text": [
      "100%|██████████| 1250/1250 [03:36<00:00,  5.77it/s]\n",
      "100%|██████████| 1250/1250 [02:11<00:00,  9.49it/s]\n",
      "  0%|          | 0/13 [00:00<?, ?it/s]"
     ]
    },
    {
     "name": "stdout",
     "output_type": "stream",
     "text": [
      "Train: loss = 1.461816846693803e-06, top 1 = 0.96955, top 5 = 0.9751599999999562, top 10 = 0.970924999999993, kendal = 0.8934771595671466\n"
     ]
    },
    {
     "name": "stderr",
     "output_type": "stream",
     "text": [
      "100%|██████████| 13/13 [00:01<00:00, 10.82it/s]\n",
      "  0%|          | 1/1250 [00:00<03:13,  6.45it/s]"
     ]
    },
    {
     "name": "stdout",
     "output_type": "stream",
     "text": [
      "Valid: loss = 1.692597699482453e-06, top 1 = 0.945, top 5 = 0.9750000000000003, top 10 = 0.970000000000001, kendal = 0.8918951208231569\n",
      "\n",
      "Epoch: 9\n"
     ]
    },
    {
     "name": "stderr",
     "output_type": "stream",
     "text": [
      "100%|██████████| 1250/1250 [03:34<00:00,  5.83it/s]\n",
      "100%|██████████| 1250/1250 [02:24<00:00,  8.67it/s]\n",
      "  8%|▊         | 1/13 [00:00<00:01,  6.93it/s]"
     ]
    },
    {
     "name": "stdout",
     "output_type": "stream",
     "text": [
      "Train: loss = 1.66368351767881e-06, top 1 = 0.9696, top 5 = 0.975479999999957, top 10 = 0.9710649999999945, kendal = 0.8944115045843973\n"
     ]
    },
    {
     "name": "stderr",
     "output_type": "stream",
     "text": [
      "100%|██████████| 13/13 [00:01<00:00, 10.84it/s]\n",
      "  0%|          | 0/1250 [00:00<?, ?it/s]"
     ]
    },
    {
     "name": "stdout",
     "output_type": "stream",
     "text": [
      "Valid: loss = 2.004015169058197e-06, top 1 = 0.945, top 5 = 0.9750000000000003, top 10 = 0.968000000000001, kendal = 0.8927624579611245\n",
      "\n",
      "Epoch: 10\n"
     ]
    },
    {
     "name": "stderr",
     "output_type": "stream",
     "text": [
      "100%|██████████| 1250/1250 [03:20<00:00,  6.25it/s]\n",
      "100%|██████████| 1250/1250 [02:38<00:00,  7.90it/s]\n",
      "  8%|▊         | 1/13 [00:00<00:01,  8.26it/s]"
     ]
    },
    {
     "name": "stdout",
     "output_type": "stream",
     "text": [
      "Train: loss = 1.3000288373871476e-06, top 1 = 0.97025, top 5 = 0.9755999999999568, top 10 = 0.9713699999999944, kendal = 0.8962187554063828\n"
     ]
    },
    {
     "name": "stderr",
     "output_type": "stream",
     "text": [
      "100%|██████████| 13/13 [00:01<00:00, 10.35it/s]\n",
      "  0%|          | 0/1250 [00:00<?, ?it/s]"
     ]
    },
    {
     "name": "stdout",
     "output_type": "stream",
     "text": [
      "Valid: loss = 1.5538676427604952e-06, top 1 = 0.945, top 5 = 0.9760000000000002, top 10 = 0.9705000000000009, kendal = 0.8950016562642863\n",
      "\n",
      "Epoch: 11\n"
     ]
    },
    {
     "name": "stderr",
     "output_type": "stream",
     "text": [
      "100%|██████████| 1250/1250 [03:06<00:00,  6.70it/s]\n",
      "100%|██████████| 1250/1250 [02:48<00:00,  7.41it/s]\n",
      "  8%|▊         | 1/13 [00:00<00:01,  8.27it/s]"
     ]
    },
    {
     "name": "stdout",
     "output_type": "stream",
     "text": [
      "Train: loss = 1.4102735818112876e-06, top 1 = 0.9696, top 5 = 0.9761799999999579, top 10 = 0.9715149999999952, kendal = 0.8967447946675804\n"
     ]
    },
    {
     "name": "stderr",
     "output_type": "stream",
     "text": [
      "100%|██████████| 13/13 [00:01<00:00,  7.97it/s]\n",
      "  0%|          | 0/1250 [00:00<?, ?it/s]"
     ]
    },
    {
     "name": "stdout",
     "output_type": "stream",
     "text": [
      "Valid: loss = 1.6741765366384896e-06, top 1 = 0.945, top 5 = 0.9760000000000004, top 10 = 0.9705000000000009, kendal = 0.8956448724962047\n",
      "\n",
      "Epoch: 12\n"
     ]
    },
    {
     "name": "stderr",
     "output_type": "stream",
     "text": [
      "100%|██████████| 1250/1250 [03:01<00:00,  6.89it/s]\n",
      "100%|██████████| 1250/1250 [02:45<00:00,  7.57it/s]\n",
      "  0%|          | 0/13 [00:00<?, ?it/s]"
     ]
    },
    {
     "name": "stdout",
     "output_type": "stream",
     "text": [
      "Train: loss = 1.2961709636569765e-06, top 1 = 0.9701, top 5 = 0.9761299999999579, top 10 = 0.9716249999999939, kendal = 0.8963910492005027\n"
     ]
    },
    {
     "name": "stderr",
     "output_type": "stream",
     "text": [
      "100%|██████████| 13/13 [00:02<00:00,  6.18it/s]\n",
      "  0%|          | 1/1250 [00:00<02:05,  9.92it/s]"
     ]
    },
    {
     "name": "stdout",
     "output_type": "stream",
     "text": [
      "Valid: loss = 1.5847477750464661e-06, top 1 = 0.945, top 5 = 0.9760000000000004, top 10 = 0.9690000000000011, kendal = 0.8948368315628672\n",
      "\n",
      "Epoch: 13\n"
     ]
    },
    {
     "name": "stderr",
     "output_type": "stream",
     "text": [
      "100%|██████████| 1250/1250 [03:16<00:00,  6.35it/s]\n",
      "100%|██████████| 1250/1250 [02:30<00:00,  8.29it/s]\n",
      "  0%|          | 0/13 [00:00<?, ?it/s]"
     ]
    },
    {
     "name": "stdout",
     "output_type": "stream",
     "text": [
      "Train: loss = 1.3312185535434997e-06, top 1 = 0.9705, top 5 = 0.976199999999958, top 10 = 0.9718349999999939, kendal = 0.8974679660973143\n"
     ]
    },
    {
     "name": "stderr",
     "output_type": "stream",
     "text": [
      "100%|██████████| 13/13 [00:02<00:00,  6.24it/s]\n",
      "  0%|          | 1/1250 [00:00<03:48,  5.47it/s]"
     ]
    },
    {
     "name": "stdout",
     "output_type": "stream",
     "text": [
      "Valid: loss = 1.6626274777292276e-06, top 1 = 0.945, top 5 = 0.9780000000000002, top 10 = 0.970000000000001, kendal = 0.8962328113866062\n",
      "\n",
      "Epoch: 14\n"
     ]
    },
    {
     "name": "stderr",
     "output_type": "stream",
     "text": [
      "100%|██████████| 1250/1250 [03:31<00:00,  5.91it/s]\n",
      "100%|██████████| 1250/1250 [02:15<00:00,  9.22it/s]\n",
      "  8%|▊         | 1/13 [00:00<00:01,  6.00it/s]"
     ]
    },
    {
     "name": "stdout",
     "output_type": "stream",
     "text": [
      "Train: loss = 1.2926845269611862e-06, top 1 = 0.9707, top 5 = 0.976199999999958, top 10 = 0.9719999999999942, kendal = 0.8965012199888591\n"
     ]
    },
    {
     "name": "stderr",
     "output_type": "stream",
     "text": [
      "100%|██████████| 13/13 [00:01<00:00,  6.83it/s]\n",
      "  0%|          | 1/1250 [00:00<02:16,  9.16it/s]"
     ]
    },
    {
     "name": "stdout",
     "output_type": "stream",
     "text": [
      "Valid: loss = 1.6408048237779354e-06, top 1 = 0.945, top 5 = 0.9760000000000004, top 10 = 0.969500000000001, kendal = 0.8953353245554885\n",
      "\n",
      "Epoch: 15\n"
     ]
    },
    {
     "name": "stderr",
     "output_type": "stream",
     "text": [
      "100%|██████████| 1250/1250 [03:44<00:00,  5.56it/s]\n",
      "100%|██████████| 1250/1250 [02:11<00:00,  9.51it/s]\n",
      "  8%|▊         | 1/13 [00:00<00:01,  7.40it/s]"
     ]
    },
    {
     "name": "stdout",
     "output_type": "stream",
     "text": [
      "Train: loss = 1.361739042962978e-06, top 1 = 0.97025, top 5 = 0.9765199999999588, top 10 = 0.9720749999999947, kendal = 0.8975566070750507\n"
     ]
    },
    {
     "name": "stderr",
     "output_type": "stream",
     "text": [
      "100%|██████████| 13/13 [00:01<00:00,  7.90it/s]\n",
      "  0%|          | 1/1250 [00:00<03:14,  6.41it/s]"
     ]
    },
    {
     "name": "stdout",
     "output_type": "stream",
     "text": [
      "Valid: loss = 1.6870506969231139e-06, top 1 = 0.945, top 5 = 0.9760000000000004, top 10 = 0.970000000000001, kendal = 0.8966107014651632\n",
      "\n",
      "Epoch: 16\n"
     ]
    },
    {
     "name": "stderr",
     "output_type": "stream",
     "text": [
      "100%|██████████| 1250/1250 [03:33<00:00,  5.85it/s]\n",
      "100%|██████████| 1250/1250 [02:29<00:00,  8.34it/s]\n",
      "  8%|▊         | 1/13 [00:00<00:01,  9.93it/s]"
     ]
    },
    {
     "name": "stdout",
     "output_type": "stream",
     "text": [
      "Train: loss = 1.2504286308256837e-06, top 1 = 0.97125, top 5 = 0.9765199999999584, top 10 = 0.9722349999999951, kendal = 0.8974346048175139\n"
     ]
    },
    {
     "name": "stderr",
     "output_type": "stream",
     "text": [
      "100%|██████████| 13/13 [00:01<00:00,  9.30it/s]\n",
      "  0%|          | 0/1250 [00:00<?, ?it/s]"
     ]
    },
    {
     "name": "stdout",
     "output_type": "stream",
     "text": [
      "Valid: loss = 1.5802546878116128e-06, top 1 = 0.945, top 5 = 0.9760000000000002, top 10 = 0.9710000000000011, kendal = 0.8962378361839471\n",
      "\n",
      "Epoch: 17\n"
     ]
    },
    {
     "name": "stderr",
     "output_type": "stream",
     "text": [
      "100%|██████████| 1250/1250 [03:15<00:00,  6.38it/s]\n",
      "100%|██████████| 1250/1250 [02:44<00:00,  7.59it/s]\n",
      "  8%|▊         | 1/13 [00:00<00:01,  6.68it/s]"
     ]
    },
    {
     "name": "stdout",
     "output_type": "stream",
     "text": [
      "Train: loss = 1.196932044232393e-06, top 1 = 0.97135, top 5 = 0.9766399999999587, top 10 = 0.9723599999999946, kendal = 0.8978559994840442\n"
     ]
    },
    {
     "name": "stderr",
     "output_type": "stream",
     "text": [
      "100%|██████████| 13/13 [00:01<00:00,  9.33it/s]\n",
      "  0%|          | 0/1250 [00:00<?, ?it/s]"
     ]
    },
    {
     "name": "stdout",
     "output_type": "stream",
     "text": [
      "Valid: loss = 1.5037454562751816e-06, top 1 = 0.945, top 5 = 0.9760000000000004, top 10 = 0.972500000000001, kendal = 0.8966911040055237\n",
      "\n",
      "Epoch: 18\n"
     ]
    },
    {
     "name": "stderr",
     "output_type": "stream",
     "text": [
      "100%|██████████| 1250/1250 [02:59<00:00,  6.97it/s]\n",
      "100%|██████████| 1250/1250 [02:54<00:00,  7.17it/s]\n",
      "  0%|          | 0/13 [00:00<?, ?it/s]"
     ]
    },
    {
     "name": "stdout",
     "output_type": "stream",
     "text": [
      "Train: loss = 1.2017863470805276e-06, top 1 = 0.9712, top 5 = 0.9767699999999587, top 10 = 0.9724899999999945, kendal = 0.898674425257993\n"
     ]
    },
    {
     "name": "stderr",
     "output_type": "stream",
     "text": [
      "100%|██████████| 13/13 [00:01<00:00,  6.99it/s]\n",
      "  0%|          | 1/1250 [00:00<02:50,  7.34it/s]"
     ]
    },
    {
     "name": "stdout",
     "output_type": "stream",
     "text": [
      "Valid: loss = 1.5023768419992697e-06, top 1 = 0.945, top 5 = 0.9760000000000002, top 10 = 0.9710000000000011, kendal = 0.8975936164168203\n",
      "\n",
      "Epoch: 19\n"
     ]
    },
    {
     "name": "stderr",
     "output_type": "stream",
     "text": [
      "100%|██████████| 1250/1250 [02:53<00:00,  7.21it/s]\n",
      "100%|██████████| 1250/1250 [02:50<00:00,  7.35it/s]\n",
      "  0%|          | 0/13 [00:00<?, ?it/s]"
     ]
    },
    {
     "name": "stdout",
     "output_type": "stream",
     "text": [
      "Train: loss = 1.1433898269195443e-06, top 1 = 0.97145, top 5 = 0.9767399999999586, top 10 = 0.9725349999999963, kendal = 0.8980400688639278\n"
     ]
    },
    {
     "name": "stderr",
     "output_type": "stream",
     "text": [
      "100%|██████████| 13/13 [00:01<00:00,  6.95it/s]\n",
      "  0%|          | 2/1250 [00:00<01:32, 13.46it/s]"
     ]
    },
    {
     "name": "stdout",
     "output_type": "stream",
     "text": [
      "Valid: loss = 1.4669110711330188e-06, top 1 = 0.945, top 5 = 0.9760000000000002, top 10 = 0.9710000000000011, kendal = 0.8969825600798191\n",
      "\n",
      "Epoch: 20\n"
     ]
    },
    {
     "name": "stderr",
     "output_type": "stream",
     "text": [
      "100%|██████████| 1250/1250 [03:05<00:00,  6.74it/s]\n",
      "100%|██████████| 1250/1250 [02:37<00:00,  7.93it/s]\n",
      "  8%|▊         | 1/13 [00:00<00:01,  7.34it/s]"
     ]
    },
    {
     "name": "stdout",
     "output_type": "stream",
     "text": [
      "Train: loss = 1.1989632612061684e-06, top 1 = 0.97105, top 5 = 0.9769199999999595, top 10 = 0.9725599999999955, kendal = 0.8983268304689204\n"
     ]
    },
    {
     "name": "stderr",
     "output_type": "stream",
     "text": [
      "100%|██████████| 13/13 [00:01<00:00,  7.93it/s]\n",
      "  0%|          | 0/1250 [00:00<?, ?it/s]"
     ]
    },
    {
     "name": "stdout",
     "output_type": "stream",
     "text": [
      "Valid: loss = 1.5548239814691033e-06, top 1 = 0.945, top 5 = 0.9760000000000002, top 10 = 0.971000000000001, kendal = 0.897152409932118\n",
      "\n",
      "Epoch: 21\n"
     ]
    },
    {
     "name": "stderr",
     "output_type": "stream",
     "text": [
      "100%|██████████| 1250/1250 [03:19<00:00,  6.26it/s]\n",
      "100%|██████████| 1250/1250 [02:27<00:00,  8.50it/s]\n",
      "  0%|          | 0/13 [00:00<?, ?it/s]"
     ]
    },
    {
     "name": "stdout",
     "output_type": "stream",
     "text": [
      "Train: loss = 1.1563219480700656e-06, top 1 = 0.97155, top 5 = 0.9769399999999591, top 10 = 0.9727149999999952, kendal = 0.8970465411881084\n"
     ]
    },
    {
     "name": "stderr",
     "output_type": "stream",
     "text": [
      "100%|██████████| 13/13 [00:01<00:00,  7.06it/s]\n",
      "  0%|          | 2/1250 [00:00<01:31, 13.58it/s]"
     ]
    },
    {
     "name": "stdout",
     "output_type": "stream",
     "text": [
      "Valid: loss = 1.5691019523146887e-06, top 1 = 0.945, top 5 = 0.9750000000000003, top 10 = 0.971500000000001, kendal = 0.8957594440978843\n",
      "\n",
      "Epoch: 22\n"
     ]
    },
    {
     "name": "stderr",
     "output_type": "stream",
     "text": [
      "100%|██████████| 1250/1250 [03:27<00:00,  6.02it/s]\n",
      "100%|██████████| 1250/1250 [02:30<00:00,  8.31it/s]\n",
      "  0%|          | 0/13 [00:00<?, ?it/s]"
     ]
    },
    {
     "name": "stdout",
     "output_type": "stream",
     "text": [
      "Train: loss = 1.2842241271131495e-06, top 1 = 0.97125, top 5 = 0.9770799999999598, top 10 = 0.9727799999999959, kendal = 0.8988296949003849\n"
     ]
    },
    {
     "name": "stderr",
     "output_type": "stream",
     "text": [
      "100%|██████████| 13/13 [00:01<00:00,  7.73it/s]\n",
      "  0%|          | 1/1250 [00:00<02:13,  9.38it/s]"
     ]
    },
    {
     "name": "stdout",
     "output_type": "stream",
     "text": [
      "Valid: loss = 1.6782103328383137e-06, top 1 = 0.945, top 5 = 0.9750000000000003, top 10 = 0.9705000000000009, kendal = 0.8976880872634593\n",
      "\n",
      "Epoch: 23\n"
     ]
    },
    {
     "name": "stderr",
     "output_type": "stream",
     "text": [
      "100%|██████████| 1250/1250 [03:20<00:00,  6.24it/s]\n",
      "100%|██████████| 1250/1250 [02:44<00:00,  7.61it/s]\n",
      "  8%|▊         | 1/13 [00:00<00:01,  6.53it/s]"
     ]
    },
    {
     "name": "stdout",
     "output_type": "stream",
     "text": [
      "Train: loss = 1.1788335023069391e-06, top 1 = 0.9718, top 5 = 0.9771199999999594, top 10 = 0.9729149999999954, kendal = 0.8985937729630361\n"
     ]
    },
    {
     "name": "stderr",
     "output_type": "stream",
     "text": [
      "100%|██████████| 13/13 [00:01<00:00,  8.66it/s]\n",
      "  0%|          | 0/1250 [00:00<?, ?it/s]"
     ]
    },
    {
     "name": "stdout",
     "output_type": "stream",
     "text": [
      "Valid: loss = 1.5702423522188116e-06, top 1 = 0.945, top 5 = 0.9750000000000003, top 10 = 0.970000000000001, kendal = 0.8972699961041186\n",
      "\n",
      "Epoch: 24\n"
     ]
    },
    {
     "name": "stderr",
     "output_type": "stream",
     "text": [
      "100%|██████████| 1250/1250 [03:03<00:00,  6.79it/s]\n",
      "100%|██████████| 1250/1250 [02:58<00:00,  7.02it/s]\n",
      "  8%|▊         | 1/13 [00:00<00:01,  7.34it/s]"
     ]
    },
    {
     "name": "stdout",
     "output_type": "stream",
     "text": [
      "Train: loss = 1.2681726592401641e-06, top 1 = 0.9721, top 5 = 0.9772399999999596, top 10 = 0.9728599999999955, kendal = 0.8988403837751233\n"
     ]
    },
    {
     "name": "stderr",
     "output_type": "stream",
     "text": [
      "100%|██████████| 13/13 [00:01<00:00,  8.23it/s]\n",
      "  0%|          | 0/1250 [00:00<?, ?it/s]"
     ]
    },
    {
     "name": "stdout",
     "output_type": "stream",
     "text": [
      "Valid: loss = 1.6308470237521648e-06, top 1 = 0.945, top 5 = 0.9740000000000003, top 10 = 0.9705000000000009, kendal = 0.8977604482896662\n",
      "\n",
      "Epoch: 25\n"
     ]
    },
    {
     "name": "stderr",
     "output_type": "stream",
     "text": [
      "100%|██████████| 1250/1250 [02:50<00:00,  7.34it/s]\n",
      "100%|██████████| 1250/1250 [03:00<00:00,  6.91it/s]\n",
      "  8%|▊         | 1/13 [00:00<00:01,  8.40it/s]"
     ]
    },
    {
     "name": "stdout",
     "output_type": "stream",
     "text": [
      "Train: loss = 1.1962524859285347e-06, top 1 = 0.9719, top 5 = 0.9770599999999596, top 10 = 0.9731299999999946, kendal = 0.8993428036372286\n"
     ]
    },
    {
     "name": "stderr",
     "output_type": "stream",
     "text": [
      "100%|██████████| 13/13 [00:01<00:00,  7.56it/s]\n",
      "  0%|          | 1/1250 [00:00<03:50,  5.41it/s]"
     ]
    },
    {
     "name": "stdout",
     "output_type": "stream",
     "text": [
      "Valid: loss = 1.5694166620424652e-06, top 1 = 0.95, top 5 = 0.9760000000000005, top 10 = 0.970000000000001, kendal = 0.8980006488401397\n",
      "\n",
      "Epoch: 26\n"
     ]
    },
    {
     "name": "stderr",
     "output_type": "stream",
     "text": [
      "100%|██████████| 1250/1250 [02:53<00:00,  7.19it/s]\n",
      "100%|██████████| 1250/1250 [02:50<00:00,  7.33it/s]\n",
      "  8%|▊         | 1/13 [00:00<00:01,  7.88it/s]"
     ]
    },
    {
     "name": "stdout",
     "output_type": "stream",
     "text": [
      "Train: loss = 1.2178974171008546e-06, top 1 = 0.97185, top 5 = 0.9770499999999597, top 10 = 0.9730499999999949, kendal = 0.8986143513557209\n"
     ]
    },
    {
     "name": "stderr",
     "output_type": "stream",
     "text": [
      "100%|██████████| 13/13 [00:01<00:00,  7.47it/s]\n",
      "  0%|          | 0/1250 [00:00<?, ?it/s]"
     ]
    },
    {
     "name": "stdout",
     "output_type": "stream",
     "text": [
      "Valid: loss = 1.6460024443970801e-06, top 1 = 0.945, top 5 = 0.9750000000000003, top 10 = 0.969500000000001, kendal = 0.8976368308052818\n",
      "\n",
      "Epoch: 27\n"
     ]
    },
    {
     "name": "stderr",
     "output_type": "stream",
     "text": [
      "100%|██████████| 1250/1250 [03:10<00:00,  6.55it/s]\n",
      "100%|██████████| 1250/1250 [02:36<00:00,  8.00it/s]\n",
      "  0%|          | 0/13 [00:00<?, ?it/s]"
     ]
    },
    {
     "name": "stdout",
     "output_type": "stream",
     "text": [
      "Train: loss = 1.165388426038598e-06, top 1 = 0.97245, top 5 = 0.97737999999996, top 10 = 0.9730199999999953, kendal = 0.899093609843145\n"
     ]
    },
    {
     "name": "stderr",
     "output_type": "stream",
     "text": [
      "100%|██████████| 13/13 [00:01<00:00,  8.75it/s]\n",
      "  0%|          | 0/1250 [00:00<?, ?it/s]"
     ]
    },
    {
     "name": "stdout",
     "output_type": "stream",
     "text": [
      "Valid: loss = 1.551696197646458e-06, top 1 = 0.945, top 5 = 0.9720000000000004, top 10 = 0.9705000000000011, kendal = 0.8979142181692539\n",
      "\n",
      "Epoch: 28\n"
     ]
    },
    {
     "name": "stderr",
     "output_type": "stream",
     "text": [
      "100%|██████████| 1250/1250 [03:26<00:00,  6.06it/s]\n",
      "100%|██████████| 1250/1250 [02:20<00:00,  8.93it/s]\n",
      "  8%|▊         | 1/13 [00:00<00:01,  6.17it/s]"
     ]
    },
    {
     "name": "stdout",
     "output_type": "stream",
     "text": [
      "Train: loss = 1.140179248109378e-06, top 1 = 0.9724, top 5 = 0.9773899999999596, top 10 = 0.9731399999999943, kendal = 0.8996880320430973\n"
     ]
    },
    {
     "name": "stderr",
     "output_type": "stream",
     "text": [
      "100%|██████████| 13/13 [00:01<00:00,  8.54it/s]\n",
      "  0%|          | 1/1250 [00:00<02:06,  9.85it/s]"
     ]
    },
    {
     "name": "stdout",
     "output_type": "stream",
     "text": [
      "Valid: loss = 1.5396624440372156e-06, top 1 = 0.945, top 5 = 0.9750000000000003, top 10 = 0.969500000000001, kendal = 0.8983051724633192\n",
      "\n",
      "Epoch: 29\n"
     ]
    },
    {
     "name": "stderr",
     "output_type": "stream",
     "text": [
      "100%|██████████| 1250/1250 [03:33<00:00,  5.84it/s]\n",
      "100%|██████████| 1250/1250 [02:23<00:00,  8.73it/s]\n",
      "  8%|▊         | 1/13 [00:00<00:02,  5.71it/s]"
     ]
    },
    {
     "name": "stdout",
     "output_type": "stream",
     "text": [
      "Train: loss = 1.2621135634126619e-06, top 1 = 0.97205, top 5 = 0.97714999999996, top 10 = 0.9731549999999949, kendal = 0.8998559282965211\n"
     ]
    },
    {
     "name": "stderr",
     "output_type": "stream",
     "text": [
      "100%|██████████| 13/13 [00:01<00:00, 11.63it/s]\n",
      "  0%|          | 0/1250 [00:00<?, ?it/s]"
     ]
    },
    {
     "name": "stdout",
     "output_type": "stream",
     "text": [
      "Valid: loss = 1.6589004685485082e-06, top 1 = 0.95, top 5 = 0.9750000000000003, top 10 = 0.969500000000001, kendal = 0.8986438670165274\n",
      "\n",
      "Epoch: 30\n"
     ]
    },
    {
     "name": "stderr",
     "output_type": "stream",
     "text": [
      "100%|██████████| 1250/1250 [03:23<00:00,  6.14it/s]\n",
      "100%|██████████| 1250/1250 [02:34<00:00,  8.07it/s]\n",
      " 15%|█▌        | 2/13 [00:00<00:00, 15.39it/s]"
     ]
    },
    {
     "name": "stdout",
     "output_type": "stream",
     "text": [
      "Train: loss = 1.0660230690270013e-06, top 1 = 0.97305, top 5 = 0.9774099999999598, top 10 = 0.9734399999999952, kendal = 0.8997376980338341\n"
     ]
    },
    {
     "name": "stderr",
     "output_type": "stream",
     "text": [
      "100%|██████████| 13/13 [00:01<00:00, 11.68it/s]\n",
      "  0%|          | 2/1250 [00:00<01:58, 10.52it/s]"
     ]
    },
    {
     "name": "stdout",
     "output_type": "stream",
     "text": [
      "Valid: loss = 1.4091063851673572e-06, top 1 = 0.945, top 5 = 0.9750000000000003, top 10 = 0.9705000000000009, kendal = 0.8983503998061083\n",
      "\n",
      "Epoch: 31\n"
     ]
    },
    {
     "name": "stderr",
     "output_type": "stream",
     "text": [
      "100%|██████████| 1250/1250 [03:11<00:00,  6.53it/s]\n",
      "100%|██████████| 1250/1250 [02:47<00:00,  7.45it/s]\n",
      "  8%|▊         | 1/13 [00:00<00:02,  5.15it/s]"
     ]
    },
    {
     "name": "stdout",
     "output_type": "stream",
     "text": [
      "Train: loss = 1.2090003591517622e-06, top 1 = 0.97295, top 5 = 0.9774899999999599, top 10 = 0.9733549999999946, kendal = 0.9003069142165121\n"
     ]
    },
    {
     "name": "stderr",
     "output_type": "stream",
     "text": [
      "100%|██████████| 13/13 [00:01<00:00, 11.28it/s]\n",
      "  0%|          | 0/1250 [00:00<?, ?it/s]"
     ]
    },
    {
     "name": "stdout",
     "output_type": "stream",
     "text": [
      "Valid: loss = 1.6201057937160983e-06, top 1 = 0.945, top 5 = 0.9750000000000003, top 10 = 0.971000000000001, kendal = 0.8988247716906579\n",
      "\n",
      "Epoch: 32\n"
     ]
    },
    {
     "name": "stderr",
     "output_type": "stream",
     "text": [
      "100%|██████████| 1250/1250 [03:02<00:00,  6.84it/s]\n",
      "100%|██████████| 1250/1250 [02:45<00:00,  7.54it/s]\n",
      "  8%|▊         | 1/13 [00:00<00:01,  9.83it/s]"
     ]
    },
    {
     "name": "stdout",
     "output_type": "stream",
     "text": [
      "Train: loss = 1.2045324971981846e-06, top 1 = 0.9725, top 5 = 0.9776399999999603, top 10 = 0.973299999999996, kendal = 0.8991505669028391\n"
     ]
    },
    {
     "name": "stderr",
     "output_type": "stream",
     "text": [
      "100%|██████████| 13/13 [00:01<00:00,  7.46it/s]\n",
      "  0%|          | 1/1250 [00:00<03:42,  5.60it/s]"
     ]
    },
    {
     "name": "stdout",
     "output_type": "stream",
     "text": [
      "Valid: loss = 1.6371719934952387e-06, top 1 = 0.945, top 5 = 0.9760000000000004, top 10 = 0.971500000000001, kendal = 0.8978740181743425\n",
      "\n",
      "Epoch: 33\n"
     ]
    },
    {
     "name": "stderr",
     "output_type": "stream",
     "text": [
      "100%|██████████| 1250/1250 [03:15<00:00,  6.39it/s]\n",
      "100%|██████████| 1250/1250 [02:34<00:00,  8.07it/s]\n",
      "  8%|▊         | 1/13 [00:00<00:01,  8.42it/s]"
     ]
    },
    {
     "name": "stdout",
     "output_type": "stream",
     "text": [
      "Train: loss = 1.2031209946255416e-06, top 1 = 0.97255, top 5 = 0.9776999999999604, top 10 = 0.9733499999999949, kendal = 0.9003528181831089\n"
     ]
    },
    {
     "name": "stderr",
     "output_type": "stream",
     "text": [
      "100%|██████████| 13/13 [00:01<00:00,  7.04it/s]\n",
      "  0%|          | 1/1250 [00:00<02:47,  7.48it/s]"
     ]
    },
    {
     "name": "stdout",
     "output_type": "stream",
     "text": [
      "Valid: loss = 1.5591556765135486e-06, top 1 = 0.945, top 5 = 0.9780000000000004, top 10 = 0.9710000000000011, kendal = 0.8989514048059817\n",
      "\n",
      "Epoch: 34\n"
     ]
    },
    {
     "name": "stderr",
     "output_type": "stream",
     "text": [
      "100%|██████████| 1250/1250 [03:29<00:00,  5.96it/s]\n",
      "100%|██████████| 1250/1250 [02:19<00:00,  8.96it/s]\n",
      "  8%|▊         | 1/13 [00:00<00:02,  5.75it/s]"
     ]
    },
    {
     "name": "stdout",
     "output_type": "stream",
     "text": [
      "Train: loss = 1.1947789755892442e-06, top 1 = 0.97275, top 5 = 0.9777899999999603, top 10 = 0.9732549999999955, kendal = 0.9007678836461058\n"
     ]
    },
    {
     "name": "stderr",
     "output_type": "stream",
     "text": [
      "100%|██████████| 13/13 [00:01<00:00,  6.96it/s]\n",
      "  0%|          | 0/1250 [00:00<?, ?it/s]"
     ]
    },
    {
     "name": "stdout",
     "output_type": "stream",
     "text": [
      "Valid: loss = 1.5990999168230045e-06, top 1 = 0.945, top 5 = 0.9770000000000003, top 10 = 0.9710000000000011, kendal = 0.8992137168688272\n",
      "\n",
      "Epoch: 35\n"
     ]
    },
    {
     "name": "stderr",
     "output_type": "stream",
     "text": [
      "100%|██████████| 1250/1250 [03:43<00:00,  5.58it/s]\n",
      "100%|██████████| 1250/1250 [02:05<00:00,  9.93it/s]\n",
      "  8%|▊         | 1/13 [00:00<00:01,  7.66it/s]"
     ]
    },
    {
     "name": "stdout",
     "output_type": "stream",
     "text": [
      "Train: loss = 1.1308139162364807e-06, top 1 = 0.97285, top 5 = 0.9778499999999604, top 10 = 0.9735299999999958, kendal = 0.9013675698168924\n"
     ]
    },
    {
     "name": "stderr",
     "output_type": "stream",
     "text": [
      "100%|██████████| 13/13 [00:01<00:00,  8.39it/s]\n",
      "  0%|          | 1/1250 [00:00<03:09,  6.58it/s]"
     ]
    },
    {
     "name": "stdout",
     "output_type": "stream",
     "text": [
      "Valid: loss = 1.5044097294477223e-06, top 1 = 0.945, top 5 = 0.9760000000000004, top 10 = 0.972000000000001, kendal = 0.8999232646832789\n",
      "\n",
      "Epoch: 36\n"
     ]
    },
    {
     "name": "stderr",
     "output_type": "stream",
     "text": [
      "100%|██████████| 1250/1250 [03:44<00:00,  5.56it/s]\n",
      "100%|██████████| 1250/1250 [02:17<00:00,  9.11it/s]\n",
      " 15%|█▌        | 2/13 [00:00<00:00, 17.09it/s]"
     ]
    },
    {
     "name": "stdout",
     "output_type": "stream",
     "text": [
      "Train: loss = 1.2915934236945732e-06, top 1 = 0.9729, top 5 = 0.9781099999999605, top 10 = 0.9735399999999956, kendal = 0.900512755632396\n"
     ]
    },
    {
     "name": "stderr",
     "output_type": "stream",
     "text": [
      "100%|██████████| 13/13 [00:01<00:00,  9.76it/s]\n",
      "  0%|          | 1/1250 [00:00<02:58,  7.00it/s]"
     ]
    },
    {
     "name": "stdout",
     "output_type": "stream",
     "text": [
      "Valid: loss = 1.664738894210498e-06, top 1 = 0.945, top 5 = 0.9770000000000003, top 10 = 0.971500000000001, kendal = 0.8989112037757038\n",
      "\n",
      "Epoch: 37\n"
     ]
    },
    {
     "name": "stderr",
     "output_type": "stream",
     "text": [
      "100%|██████████| 1250/1250 [03:28<00:00,  6.01it/s]\n",
      "100%|██████████| 1250/1250 [02:34<00:00,  8.10it/s]\n",
      "  8%|▊         | 1/13 [00:00<00:01,  8.43it/s]"
     ]
    },
    {
     "name": "stdout",
     "output_type": "stream",
     "text": [
      "Train: loss = 1.0890852247043988e-06, top 1 = 0.97295, top 5 = 0.9777799999999607, top 10 = 0.9735399999999954, kendal = 0.9012359640511444\n"
     ]
    },
    {
     "name": "stderr",
     "output_type": "stream",
     "text": [
      "100%|██████████| 13/13 [00:01<00:00,  9.28it/s]\n",
      "  0%|          | 1/1250 [00:00<02:39,  7.83it/s]"
     ]
    },
    {
     "name": "stdout",
     "output_type": "stream",
     "text": [
      "Valid: loss = 1.3775333358942062e-06, top 1 = 0.95, top 5 = 0.9770000000000003, top 10 = 0.9715000000000009, kendal = 0.899346379857123\n",
      "\n",
      "Epoch: 38\n"
     ]
    },
    {
     "name": "stderr",
     "output_type": "stream",
     "text": [
      "100%|██████████| 1250/1250 [03:12<00:00,  6.48it/s]\n",
      "100%|██████████| 1250/1250 [02:49<00:00,  7.38it/s]\n",
      "  8%|▊         | 1/13 [00:00<00:01,  8.57it/s]"
     ]
    },
    {
     "name": "stdout",
     "output_type": "stream",
     "text": [
      "Train: loss = 1.119287482462407e-06, top 1 = 0.9727, top 5 = 0.9777599999999602, top 10 = 0.9736949999999958, kendal = 0.9007989109373485\n"
     ]
    },
    {
     "name": "stderr",
     "output_type": "stream",
     "text": [
      "100%|██████████| 13/13 [00:01<00:00,  9.17it/s]\n",
      "  0%|          | 1/1250 [00:00<02:18,  9.01it/s]"
     ]
    },
    {
     "name": "stdout",
     "output_type": "stream",
     "text": [
      "Valid: loss = 1.463103003122152e-06, top 1 = 0.95, top 5 = 0.9760000000000004, top 10 = 0.9730000000000011, kendal = 0.8993594480120742\n",
      "\n",
      "Epoch: 39\n"
     ]
    },
    {
     "name": "stderr",
     "output_type": "stream",
     "text": [
      "100%|██████████| 1250/1250 [02:56<00:00,  7.10it/s]\n",
      "100%|██████████| 1250/1250 [02:53<00:00,  7.20it/s]\n",
      "  8%|▊         | 1/13 [00:00<00:01,  6.19it/s]"
     ]
    },
    {
     "name": "stdout",
     "output_type": "stream",
     "text": [
      "Train: loss = 1.0491118909721983e-06, top 1 = 0.97325, top 5 = 0.9779299999999604, top 10 = 0.9736799999999963, kendal = 0.8994175161942989\n"
     ]
    },
    {
     "name": "stderr",
     "output_type": "stream",
     "text": [
      "100%|██████████| 13/13 [00:01<00:00,  7.85it/s]\n",
      "  0%|          | 0/1250 [00:00<?, ?it/s]"
     ]
    },
    {
     "name": "stdout",
     "output_type": "stream",
     "text": [
      "Valid: loss = 1.3697157995594443e-06, top 1 = 0.945, top 5 = 0.9760000000000002, top 10 = 0.9725000000000008, kendal = 0.8980217583324744\n",
      "\n",
      "Epoch: 40\n"
     ]
    },
    {
     "name": "stderr",
     "output_type": "stream",
     "text": [
      "100%|██████████| 1250/1250 [03:01<00:00,  6.89it/s]\n",
      "100%|██████████| 1250/1250 [02:43<00:00,  7.63it/s]\n",
      "  8%|▊         | 1/13 [00:00<00:02,  5.90it/s]"
     ]
    },
    {
     "name": "stdout",
     "output_type": "stream",
     "text": [
      "Train: loss = 1.1790456789272584e-06, top 1 = 0.97365, top 5 = 0.9778899999999602, top 10 = 0.9736849999999962, kendal = 0.9016161729173197\n"
     ]
    },
    {
     "name": "stderr",
     "output_type": "stream",
     "text": [
      "100%|██████████| 13/13 [00:01<00:00,  7.58it/s]\n",
      "  0%|          | 0/1250 [00:00<?, ?it/s]"
     ]
    },
    {
     "name": "stdout",
     "output_type": "stream",
     "text": [
      "Valid: loss = 1.5588546132527854e-06, top 1 = 0.945, top 5 = 0.9750000000000003, top 10 = 0.9720000000000009, kendal = 0.900300150166009\n",
      "\n",
      "Epoch: 41\n"
     ]
    },
    {
     "name": "stderr",
     "output_type": "stream",
     "text": [
      "100%|██████████| 1250/1250 [03:14<00:00,  6.44it/s]\n",
      "100%|██████████| 1250/1250 [02:30<00:00,  8.31it/s]\n",
      "  0%|          | 0/13 [00:00<?, ?it/s]"
     ]
    },
    {
     "name": "stdout",
     "output_type": "stream",
     "text": [
      "Train: loss = 1.0949024274157936e-06, top 1 = 0.9728, top 5 = 0.9781199999999611, top 10 = 0.9736949999999962, kendal = 0.9007203782704956\n"
     ]
    },
    {
     "name": "stderr",
     "output_type": "stream",
     "text": [
      "100%|██████████| 13/13 [00:02<00:00,  6.15it/s]\n",
      "  0%|          | 0/1250 [00:00<?, ?it/s]"
     ]
    },
    {
     "name": "stdout",
     "output_type": "stream",
     "text": [
      "Valid: loss = 1.5156395194482526e-06, top 1 = 0.955, top 5 = 0.9770000000000003, top 10 = 0.9725000000000011, kendal = 0.8993262806425056\n",
      "\n",
      "Epoch: 42\n"
     ]
    },
    {
     "name": "stderr",
     "output_type": "stream",
     "text": [
      "100%|██████████| 1250/1250 [03:32<00:00,  5.88it/s]\n",
      "100%|██████████| 1250/1250 [02:18<00:00,  9.01it/s]\n",
      " 15%|█▌        | 2/13 [00:00<00:00, 12.06it/s]"
     ]
    },
    {
     "name": "stdout",
     "output_type": "stream",
     "text": [
      "Train: loss = 1.067440191328276e-06, top 1 = 0.9736, top 5 = 0.978239999999961, top 10 = 0.9738949999999957, kendal = 0.9024788430368124\n"
     ]
    },
    {
     "name": "stderr",
     "output_type": "stream",
     "text": [
      "100%|██████████| 13/13 [00:01<00:00,  9.10it/s]\n",
      "  0%|          | 0/1250 [00:00<?, ?it/s]"
     ]
    },
    {
     "name": "stdout",
     "output_type": "stream",
     "text": [
      "Valid: loss = 1.4360251265689122e-06, top 1 = 0.945, top 5 = 0.9750000000000003, top 10 = 0.9725000000000008, kendal = 0.9008689930992196\n",
      "\n",
      "Epoch: 43\n"
     ]
    },
    {
     "name": "stderr",
     "output_type": "stream",
     "text": [
      "100%|██████████| 1250/1250 [03:33<00:00,  5.86it/s]\n",
      "100%|██████████| 1250/1250 [02:28<00:00,  8.42it/s]\n",
      "  0%|          | 0/13 [00:00<?, ?it/s]"
     ]
    },
    {
     "name": "stdout",
     "output_type": "stream",
     "text": [
      "Train: loss = 1.0291278314158077e-06, top 1 = 0.97305, top 5 = 0.9780599999999607, top 10 = 0.9738999999999963, kendal = 0.9026140668866945\n"
     ]
    },
    {
     "name": "stderr",
     "output_type": "stream",
     "text": [
      "100%|██████████| 13/13 [00:01<00:00,  8.04it/s]\n",
      "  0%|          | 0/1250 [00:00<?, ?it/s]"
     ]
    },
    {
     "name": "stdout",
     "output_type": "stream",
     "text": [
      "Valid: loss = 1.3709317118177133e-06, top 1 = 0.95, top 5 = 0.9770000000000002, top 10 = 0.973000000000001, kendal = 0.9009041687260884\n",
      "\n",
      "Epoch: 44\n"
     ]
    },
    {
     "name": "stderr",
     "output_type": "stream",
     "text": [
      "100%|██████████| 1250/1250 [03:19<00:00,  6.27it/s]\n",
      "100%|██████████| 1250/1250 [02:43<00:00,  7.64it/s]\n",
      "  0%|          | 0/13 [00:00<?, ?it/s]"
     ]
    },
    {
     "name": "stdout",
     "output_type": "stream",
     "text": [
      "Train: loss = 1.1561690949475084e-06, top 1 = 0.97375, top 5 = 0.9783899999999613, top 10 = 0.9738499999999966, kendal = 0.9025972583479919\n"
     ]
    },
    {
     "name": "stderr",
     "output_type": "stream",
     "text": [
      "100%|██████████| 13/13 [00:01<00:00,  8.02it/s]\n",
      "  0%|          | 1/1250 [00:00<03:01,  6.87it/s]"
     ]
    },
    {
     "name": "stdout",
     "output_type": "stream",
     "text": [
      "Valid: loss = 1.517005603200462e-06, top 1 = 0.95, top 5 = 0.9770000000000002, top 10 = 0.9725000000000008, kendal = 0.9009051743067765\n",
      "\n",
      "Epoch: 45\n"
     ]
    },
    {
     "name": "stderr",
     "output_type": "stream",
     "text": [
      "100%|██████████| 1250/1250 [02:40<00:00,  7.79it/s]\n",
      "100%|██████████| 1250/1250 [02:27<00:00,  8.48it/s]\n",
      " 15%|█▌        | 2/13 [00:00<00:00, 11.22it/s]"
     ]
    },
    {
     "name": "stdout",
     "output_type": "stream",
     "text": [
      "Train: loss = 1.1186861443241185e-06, top 1 = 0.97335, top 5 = 0.9784799999999619, top 10 = 0.974094999999996, kendal = 0.9029652483449663\n"
     ]
    },
    {
     "name": "stderr",
     "output_type": "stream",
     "text": [
      "100%|██████████| 13/13 [00:01<00:00,  8.60it/s]\n",
      "  0%|          | 0/1250 [00:00<?, ?it/s]"
     ]
    },
    {
     "name": "stdout",
     "output_type": "stream",
     "text": [
      "Valid: loss = 1.4662964341669324e-06, top 1 = 0.95, top 5 = 0.9780000000000002, top 10 = 0.9735000000000009, kendal = 0.9011845705593688\n",
      "\n",
      "Epoch: 46\n"
     ]
    },
    {
     "name": "stderr",
     "output_type": "stream",
     "text": [
      "100%|██████████| 1250/1250 [02:08<00:00,  9.75it/s]\n",
      "100%|██████████| 1250/1250 [02:24<00:00,  8.66it/s]\n",
      " 15%|█▌        | 2/13 [00:00<00:01, 10.39it/s]"
     ]
    },
    {
     "name": "stdout",
     "output_type": "stream",
     "text": [
      "Train: loss = 1.0259828617837943e-06, top 1 = 0.9739, top 5 = 0.9783699999999619, top 10 = 0.9738449999999961, kendal = 0.9017894191358544\n"
     ]
    },
    {
     "name": "stderr",
     "output_type": "stream",
     "text": [
      "100%|██████████| 13/13 [00:01<00:00,  9.20it/s]\n",
      "  0%|          | 0/1250 [00:00<?, ?it/s]"
     ]
    },
    {
     "name": "stdout",
     "output_type": "stream",
     "text": [
      "Valid: loss = 1.3439487169293106e-06, top 1 = 0.95, top 5 = 0.9770000000000003, top 10 = 0.973000000000001, kendal = 0.9001614556633061\n",
      "\n",
      "Epoch: 47\n"
     ]
    },
    {
     "name": "stderr",
     "output_type": "stream",
     "text": [
      "100%|██████████| 1250/1250 [02:26<00:00,  8.54it/s]\n",
      "100%|██████████| 1250/1250 [02:07<00:00,  9.82it/s]\n",
      "  8%|▊         | 1/13 [00:00<00:01,  9.93it/s]"
     ]
    },
    {
     "name": "stdout",
     "output_type": "stream",
     "text": [
      "Train: loss = 1.1675915724752596e-06, top 1 = 0.97365, top 5 = 0.9785499999999618, top 10 = 0.9741249999999961, kendal = 0.9008399562897408\n"
     ]
    },
    {
     "name": "stderr",
     "output_type": "stream",
     "text": [
      "100%|██████████| 13/13 [00:01<00:00,  9.51it/s]\n",
      "  0%|          | 1/1250 [00:00<02:40,  7.79it/s]"
     ]
    },
    {
     "name": "stdout",
     "output_type": "stream",
     "text": [
      "Valid: loss = 1.6047803327674164e-06, top 1 = 0.95, top 5 = 0.9770000000000003, top 10 = 0.973000000000001, kendal = 0.898861955499068\n",
      "\n",
      "Epoch: 48\n"
     ]
    },
    {
     "name": "stderr",
     "output_type": "stream",
     "text": [
      "100%|██████████| 1250/1250 [02:43<00:00,  7.62it/s]\n",
      "100%|██████████| 1250/1250 [01:50<00:00, 11.27it/s]\n",
      " 23%|██▎       | 3/13 [00:00<00:00, 19.60it/s]"
     ]
    },
    {
     "name": "stdout",
     "output_type": "stream",
     "text": [
      "Train: loss = 1.1348218400737113e-06, top 1 = 0.9739, top 5 = 0.978499999999962, top 10 = 0.9742699999999959, kendal = 0.9033984589182182\n"
     ]
    },
    {
     "name": "stderr",
     "output_type": "stream",
     "text": [
      "100%|██████████| 13/13 [00:01<00:00,  9.29it/s]\n",
      "  0%|          | 1/1250 [00:00<02:37,  7.94it/s]"
     ]
    },
    {
     "name": "stdout",
     "output_type": "stream",
     "text": [
      "Valid: loss = 1.53093001776384e-06, top 1 = 0.95, top 5 = 0.9770000000000002, top 10 = 0.9750000000000009, kendal = 0.9019061772864221\n",
      "\n",
      "Epoch: 49\n"
     ]
    },
    {
     "name": "stderr",
     "output_type": "stream",
     "text": [
      "100%|██████████| 1250/1250 [02:56<00:00,  7.10it/s]\n",
      "100%|██████████| 1250/1250 [01:51<00:00, 11.20it/s]\n",
      " 15%|█▌        | 2/13 [00:00<00:00, 12.63it/s]"
     ]
    },
    {
     "name": "stdout",
     "output_type": "stream",
     "text": [
      "Train: loss = 1.030469705384311e-06, top 1 = 0.9741, top 5 = 0.9784899999999618, top 10 = 0.9741699999999959, kendal = 0.9019658311519639\n"
     ]
    },
    {
     "name": "stderr",
     "output_type": "stream",
     "text": [
      "100%|██████████| 13/13 [00:01<00:00, 12.63it/s]\n",
      "  0%|          | 1/1250 [00:00<03:09,  6.59it/s]"
     ]
    },
    {
     "name": "stdout",
     "output_type": "stream",
     "text": [
      "Valid: loss = 1.4039518412225424e-06, top 1 = 0.945, top 5 = 0.9780000000000002, top 10 = 0.9745000000000009, kendal = 0.9001282877129216\n",
      "\n",
      "Epoch: 50\n"
     ]
    },
    {
     "name": "stderr",
     "output_type": "stream",
     "text": [
      "100%|██████████| 1250/1250 [02:43<00:00,  7.64it/s]\n",
      "100%|██████████| 1250/1250 [02:08<00:00,  9.73it/s]\n",
      "  8%|▊         | 1/13 [00:00<00:01,  6.97it/s]"
     ]
    },
    {
     "name": "stdout",
     "output_type": "stream",
     "text": [
      "Train: loss = 1.2020473279370564e-06, top 1 = 0.9748, top 5 = 0.9787899999999623, top 10 = 0.974184999999997, kendal = 0.8997983313067376\n"
     ]
    },
    {
     "name": "stderr",
     "output_type": "stream",
     "text": [
      "100%|██████████| 13/13 [00:01<00:00, 12.37it/s]\n",
      "  0%|          | 0/1250 [00:00<?, ?it/s]"
     ]
    },
    {
     "name": "stdout",
     "output_type": "stream",
     "text": [
      "Valid: loss = 1.6124024018473202e-06, top 1 = 0.95, top 5 = 0.9770000000000002, top 10 = 0.9745000000000009, kendal = 0.8978649689582626\n",
      "\n",
      "Epoch: 51\n"
     ]
    },
    {
     "name": "stderr",
     "output_type": "stream",
     "text": [
      "100%|██████████| 1250/1250 [02:23<00:00,  8.73it/s]\n",
      "100%|██████████| 1250/1250 [02:27<00:00,  8.50it/s]\n",
      " 15%|█▌        | 2/13 [00:00<00:00, 15.49it/s]"
     ]
    },
    {
     "name": "stdout",
     "output_type": "stream",
     "text": [
      "Train: loss = 1.0242004543791748e-06, top 1 = 0.9746, top 5 = 0.9786599999999622, top 10 = 0.9742049999999978, kendal = 0.9019858055465837\n"
     ]
    },
    {
     "name": "stderr",
     "output_type": "stream",
     "text": [
      "100%|██████████| 13/13 [00:01<00:00, 12.33it/s]\n",
      "  0%|          | 2/1250 [00:00<01:45, 11.83it/s]"
     ]
    },
    {
     "name": "stdout",
     "output_type": "stream",
     "text": [
      "Valid: loss = 1.4086767697766247e-06, top 1 = 0.945, top 5 = 0.9760000000000002, top 10 = 0.974500000000001, kendal = 0.899990596846438\n",
      "\n",
      "Epoch: 52\n"
     ]
    },
    {
     "name": "stderr",
     "output_type": "stream",
     "text": [
      "100%|██████████| 1250/1250 [02:08<00:00,  9.74it/s]\n",
      "100%|██████████| 1250/1250 [02:25<00:00,  8.61it/s]\n",
      "  0%|          | 0/13 [00:00<?, ?it/s]"
     ]
    },
    {
     "name": "stdout",
     "output_type": "stream",
     "text": [
      "Train: loss = 1.055272021771568e-06, top 1 = 0.9745, top 5 = 0.9789199999999628, top 10 = 0.9743849999999961, kendal = 0.9024664990485124\n"
     ]
    },
    {
     "name": "stderr",
     "output_type": "stream",
     "text": [
      "100%|██████████| 13/13 [00:01<00:00,  8.17it/s]\n",
      "  0%|          | 2/1250 [00:00<01:48, 11.54it/s]"
     ]
    },
    {
     "name": "stdout",
     "output_type": "stream",
     "text": [
      "Valid: loss = 1.3982057656849844e-06, top 1 = 0.945, top 5 = 0.9790000000000003, top 10 = 0.975000000000001, kendal = 0.9004850696122927\n",
      "\n",
      "Epoch: 53\n"
     ]
    },
    {
     "name": "stderr",
     "output_type": "stream",
     "text": [
      "100%|██████████| 1250/1250 [02:24<00:00,  8.63it/s]\n",
      "100%|██████████| 1250/1250 [02:08<00:00,  9.72it/s]\n",
      "  0%|          | 0/13 [00:00<?, ?it/s]"
     ]
    },
    {
     "name": "stdout",
     "output_type": "stream",
     "text": [
      "Train: loss = 9.956804183631541e-07, top 1 = 0.97455, top 5 = 0.9789199999999628, top 10 = 0.9745049999999971, kendal = 0.9037738591275031\n"
     ]
    },
    {
     "name": "stderr",
     "output_type": "stream",
     "text": [
      "100%|██████████| 13/13 [00:01<00:00,  9.00it/s]\n",
      "  0%|          | 2/1250 [00:00<01:46, 11.76it/s]"
     ]
    },
    {
     "name": "stdout",
     "output_type": "stream",
     "text": [
      "Valid: loss = 1.4116954800760456e-06, top 1 = 0.95, top 5 = 0.9770000000000002, top 10 = 0.973000000000001, kendal = 0.9018589384034638\n",
      "\n",
      "Epoch: 54\n"
     ]
    },
    {
     "name": "stderr",
     "output_type": "stream",
     "text": [
      "100%|██████████| 1250/1250 [02:42<00:00,  7.70it/s]\n",
      "100%|██████████| 1250/1250 [01:52<00:00, 11.14it/s]\n",
      "  0%|          | 0/13 [00:00<?, ?it/s]"
     ]
    },
    {
     "name": "stdout",
     "output_type": "stream",
     "text": [
      "Train: loss = 1.2070405917256328e-06, top 1 = 0.97365, top 5 = 0.9787399999999626, top 10 = 0.9746599999999964, kendal = 0.9047318861622343\n"
     ]
    },
    {
     "name": "stderr",
     "output_type": "stream",
     "text": [
      "100%|██████████| 13/13 [00:01<00:00,  8.25it/s]\n",
      "  0%|          | 1/1250 [00:00<02:23,  8.69it/s]"
     ]
    },
    {
     "name": "stdout",
     "output_type": "stream",
     "text": [
      "Valid: loss = 1.623144958690867e-06, top 1 = 0.95, top 5 = 0.9790000000000003, top 10 = 0.9745000000000009, kendal = 0.9027745132878227\n",
      "\n",
      "Epoch: 55\n"
     ]
    },
    {
     "name": "stderr",
     "output_type": "stream",
     "text": [
      "100%|██████████| 1250/1250 [02:53<00:00,  7.21it/s]\n",
      "100%|██████████| 1250/1250 [01:53<00:00, 10.97it/s]\n",
      "  0%|          | 0/13 [00:00<?, ?it/s]"
     ]
    },
    {
     "name": "stdout",
     "output_type": "stream",
     "text": [
      "Train: loss = 1.0676874341240659e-06, top 1 = 0.9743, top 5 = 0.9788199999999629, top 10 = 0.9747199999999968, kendal = 0.9031303313754232\n"
     ]
    },
    {
     "name": "stderr",
     "output_type": "stream",
     "text": [
      "100%|██████████| 13/13 [00:01<00:00, 12.28it/s]\n",
      "  0%|          | 1/1250 [00:00<02:33,  8.13it/s]"
     ]
    },
    {
     "name": "stdout",
     "output_type": "stream",
     "text": [
      "Valid: loss = 1.497901377976142e-06, top 1 = 0.945, top 5 = 0.9780000000000004, top 10 = 0.9750000000000009, kendal = 0.9007242623345756\n",
      "\n",
      "Epoch: 56\n"
     ]
    },
    {
     "name": "stderr",
     "output_type": "stream",
     "text": [
      "100%|██████████| 1250/1250 [02:39<00:00,  7.86it/s]\n",
      "100%|██████████| 1250/1250 [02:11<00:00,  9.47it/s]\n",
      " 15%|█▌        | 2/13 [00:00<00:00, 13.03it/s]"
     ]
    },
    {
     "name": "stdout",
     "output_type": "stream",
     "text": [
      "Train: loss = 1.1332767662682249e-06, top 1 = 0.97405, top 5 = 0.9788899999999626, top 10 = 0.9747449999999978, kendal = 0.9025592628118005\n"
     ]
    },
    {
     "name": "stderr",
     "output_type": "stream",
     "text": [
      "100%|██████████| 13/13 [00:00<00:00, 13.16it/s]\n",
      "  0%|          | 1/1250 [00:00<03:13,  6.47it/s]"
     ]
    },
    {
     "name": "stdout",
     "output_type": "stream",
     "text": [
      "Valid: loss = 1.6045616689424882e-06, top 1 = 0.95, top 5 = 0.9780000000000002, top 10 = 0.975000000000001, kendal = 0.9005162206689059\n",
      "\n",
      "Epoch: 57\n"
     ]
    },
    {
     "name": "stderr",
     "output_type": "stream",
     "text": [
      "100%|██████████| 1250/1250 [02:16<00:00,  9.16it/s]\n",
      "100%|██████████| 1250/1250 [02:29<00:00,  8.34it/s]\n",
      "  0%|          | 0/13 [00:00<?, ?it/s]"
     ]
    },
    {
     "name": "stdout",
     "output_type": "stream",
     "text": [
      "Train: loss = 9.973223604528892e-07, top 1 = 0.97415, top 5 = 0.9791199999999634, top 10 = 0.9748499999999972, kendal = 0.9017946520603245\n"
     ]
    },
    {
     "name": "stderr",
     "output_type": "stream",
     "text": [
      "100%|██████████| 13/13 [00:01<00:00,  9.28it/s]\n",
      "  0%|          | 0/1250 [00:00<?, ?it/s]"
     ]
    },
    {
     "name": "stdout",
     "output_type": "stream",
     "text": [
      "Valid: loss = 1.4723303919515442e-06, top 1 = 0.95, top 5 = 0.9790000000000003, top 10 = 0.9740000000000008, kendal = 0.899604663688052\n",
      "\n",
      "Epoch: 58\n"
     ]
    },
    {
     "name": "stderr",
     "output_type": "stream",
     "text": [
      "100%|██████████| 1250/1250 [02:07<00:00,  9.78it/s]\n",
      "100%|██████████| 1250/1250 [02:21<00:00,  8.86it/s]\n",
      "  0%|          | 0/13 [00:00<?, ?it/s]"
     ]
    },
    {
     "name": "stdout",
     "output_type": "stream",
     "text": [
      "Train: loss = 1.1398300670801191e-06, top 1 = 0.9745, top 5 = 0.9792399999999628, top 10 = 0.9746799999999975, kendal = 0.9022023683275614\n"
     ]
    },
    {
     "name": "stderr",
     "output_type": "stream",
     "text": [
      "100%|██████████| 13/13 [00:01<00:00,  9.11it/s]\n",
      "  0%|          | 2/1250 [00:00<01:33, 13.33it/s]"
     ]
    },
    {
     "name": "stdout",
     "output_type": "stream",
     "text": [
      "Valid: loss = 1.625261008429205e-06, top 1 = 0.95, top 5 = 0.9760000000000002, top 10 = 0.9760000000000008, kendal = 0.8999343106918687\n",
      "\n",
      "Epoch: 59\n"
     ]
    },
    {
     "name": "stderr",
     "output_type": "stream",
     "text": [
      "100%|██████████| 1250/1250 [02:30<00:00,  8.30it/s]\n",
      "100%|██████████| 1250/1250 [01:59<00:00, 10.43it/s]\n",
      "  0%|          | 0/13 [00:00<?, ?it/s]"
     ]
    },
    {
     "name": "stdout",
     "output_type": "stream",
     "text": [
      "Train: loss = 1.0058702015582224e-06, top 1 = 0.97465, top 5 = 0.9791899999999634, top 10 = 0.975044999999998, kendal = 0.9034239061796583\n"
     ]
    },
    {
     "name": "stderr",
     "output_type": "stream",
     "text": [
      "100%|██████████| 13/13 [00:01<00:00, 10.72it/s]\n",
      "  0%|          | 0/1250 [00:00<?, ?it/s]"
     ]
    },
    {
     "name": "stdout",
     "output_type": "stream",
     "text": [
      "Valid: loss = 1.5003778369104788e-06, top 1 = 0.95, top 5 = 0.9760000000000002, top 10 = 0.9765000000000009, kendal = 0.9011172259718127\n",
      "\n",
      "Epoch: 60\n"
     ]
    },
    {
     "name": "stderr",
     "output_type": "stream",
     "text": [
      "100%|██████████| 1250/1250 [02:53<00:00,  7.18it/s]\n",
      "100%|██████████| 1250/1250 [01:41<00:00, 12.28it/s]\n",
      " 15%|█▌        | 2/13 [00:00<00:00, 16.60it/s]"
     ]
    },
    {
     "name": "stdout",
     "output_type": "stream",
     "text": [
      "Train: loss = 1.1635393091935825e-06, top 1 = 0.9749, top 5 = 0.9791899999999639, top 10 = 0.975059999999998, kendal = 0.9016501673104241\n"
     ]
    },
    {
     "name": "stderr",
     "output_type": "stream",
     "text": [
      "100%|██████████| 13/13 [00:00<00:00, 13.43it/s]\n",
      "  0%|          | 2/1250 [00:00<01:04, 19.36it/s]"
     ]
    },
    {
     "name": "stdout",
     "output_type": "stream",
     "text": [
      "Valid: loss = 1.6293789922885115e-06, top 1 = 0.95, top 5 = 0.9770000000000002, top 10 = 0.976000000000001, kendal = 0.8994448645163073\n",
      "\n",
      "Epoch: 61\n"
     ]
    },
    {
     "name": "stderr",
     "output_type": "stream",
     "text": [
      "100%|██████████| 1250/1250 [02:58<00:00,  7.00it/s]\n",
      "100%|██████████| 1250/1250 [01:50<00:00, 11.31it/s]\n",
      "  8%|▊         | 1/13 [00:00<00:02,  5.37it/s]"
     ]
    },
    {
     "name": "stdout",
     "output_type": "stream",
     "text": [
      "Train: loss = 1.089584637253557e-06, top 1 = 0.9746, top 5 = 0.9792199999999631, top 10 = 0.9751099999999975, kendal = 0.904705954174638\n"
     ]
    },
    {
     "name": "stderr",
     "output_type": "stream",
     "text": [
      "100%|██████████| 13/13 [00:00<00:00, 13.32it/s]\n",
      "  0%|          | 2/1250 [00:00<01:33, 13.30it/s]"
     ]
    },
    {
     "name": "stdout",
     "output_type": "stream",
     "text": [
      "Valid: loss = 1.5818943181618932e-06, top 1 = 0.95, top 5 = 0.9760000000000002, top 10 = 0.9745000000000009, kendal = 0.902455917848221\n",
      "\n",
      "Epoch: 62\n"
     ]
    },
    {
     "name": "stderr",
     "output_type": "stream",
     "text": [
      "100%|██████████| 1250/1250 [02:43<00:00,  7.66it/s]\n",
      "100%|██████████| 1250/1250 [02:06<00:00,  9.90it/s]\n",
      " 15%|█▌        | 2/13 [00:00<00:00, 16.72it/s]"
     ]
    },
    {
     "name": "stdout",
     "output_type": "stream",
     "text": [
      "Train: loss = 1.1590956419299215e-06, top 1 = 0.975, top 5 = 0.9790999999999634, top 10 = 0.975154999999997, kendal = 0.9014320064483223\n"
     ]
    },
    {
     "name": "stderr",
     "output_type": "stream",
     "text": [
      "100%|██████████| 13/13 [00:00<00:00, 14.02it/s]\n",
      "  0%|          | 2/1250 [00:00<01:31, 13.61it/s]"
     ]
    },
    {
     "name": "stdout",
     "output_type": "stream",
     "text": [
      "Valid: loss = 1.7476207145760116e-06, top 1 = 0.95, top 5 = 0.9780000000000002, top 10 = 0.9755000000000008, kendal = 0.8992518984547974\n",
      "\n",
      "Epoch: 63\n"
     ]
    },
    {
     "name": "stderr",
     "output_type": "stream",
     "text": [
      "100%|██████████| 1250/1250 [02:29<00:00,  8.38it/s]\n",
      "100%|██████████| 1250/1250 [02:15<00:00,  9.20it/s]\n",
      "  0%|          | 0/13 [00:00<?, ?it/s]"
     ]
    },
    {
     "name": "stdout",
     "output_type": "stream",
     "text": [
      "Train: loss = 1.0570215301500449e-06, top 1 = 0.9749, top 5 = 0.9792899999999636, top 10 = 0.9752449999999977, kendal = 0.9020079808803138\n"
     ]
    },
    {
     "name": "stderr",
     "output_type": "stream",
     "text": [
      "100%|██████████| 13/13 [00:01<00:00, 10.68it/s]\n",
      "  0%|          | 0/1250 [00:00<?, ?it/s]"
     ]
    },
    {
     "name": "stdout",
     "output_type": "stream",
     "text": [
      "Valid: loss = 1.556803605285372e-06, top 1 = 0.95, top 5 = 0.9770000000000003, top 10 = 0.9755000000000008, kendal = 0.899619739115442\n",
      "\n",
      "Epoch: 64\n"
     ]
    },
    {
     "name": "stderr",
     "output_type": "stream",
     "text": [
      "100%|██████████| 1250/1250 [02:28<00:00,  8.43it/s]\n",
      "100%|██████████| 1250/1250 [02:08<00:00,  9.75it/s]\n",
      "  0%|          | 0/13 [00:00<?, ?it/s]"
     ]
    },
    {
     "name": "stdout",
     "output_type": "stream",
     "text": [
      "Train: loss = 1.342656028458413e-06, top 1 = 0.975, top 5 = 0.9791799999999635, top 10 = 0.9753599999999973, kendal = 0.9041603126979524\n"
     ]
    },
    {
     "name": "stderr",
     "output_type": "stream",
     "text": [
      "100%|██████████| 13/13 [00:01<00:00,  8.84it/s]\n",
      "  0%|          | 0/1250 [00:00<?, ?it/s]"
     ]
    },
    {
     "name": "stdout",
     "output_type": "stream",
     "text": [
      "Valid: loss = 1.8697605506193523e-06, top 1 = 0.95, top 5 = 0.9790000000000002, top 10 = 0.9755000000000008, kendal = 0.9017996381331259\n",
      "\n",
      "Epoch: 65\n"
     ]
    },
    {
     "name": "stderr",
     "output_type": "stream",
     "text": [
      "100%|██████████| 1250/1250 [02:43<00:00,  7.65it/s]\n",
      "100%|██████████| 1250/1250 [01:51<00:00, 11.26it/s]\n",
      "  0%|          | 0/13 [00:00<?, ?it/s]"
     ]
    },
    {
     "name": "stdout",
     "output_type": "stream",
     "text": [
      "Train: loss = 1.0116880778170298e-06, top 1 = 0.97525, top 5 = 0.9793299999999634, top 10 = 0.975269999999997, kendal = 0.9014524039420386\n"
     ]
    },
    {
     "name": "stderr",
     "output_type": "stream",
     "text": [
      "100%|██████████| 13/13 [00:01<00:00,  9.14it/s]\n",
      "  0%|          | 0/1250 [00:00<?, ?it/s]"
     ]
    },
    {
     "name": "stdout",
     "output_type": "stream",
     "text": [
      "Valid: loss = 1.5205177505676477e-06, top 1 = 0.95, top 5 = 0.9790000000000002, top 10 = 0.9765000000000008, kendal = 0.8990287829779199\n",
      "\n",
      "Epoch: 66\n"
     ]
    },
    {
     "name": "stderr",
     "output_type": "stream",
     "text": [
      "100%|██████████| 1250/1250 [02:58<00:00,  6.99it/s]\n",
      "100%|██████████| 1250/1250 [01:32<00:00, 13.48it/s]\n",
      "  8%|▊         | 1/13 [00:00<00:02,  5.94it/s]"
     ]
    },
    {
     "name": "stdout",
     "output_type": "stream",
     "text": [
      "Train: loss = 1.1331663949214428e-06, top 1 = 0.9751, top 5 = 0.9793199999999637, top 10 = 0.9752599999999969, kendal = 0.9019617730377877\n"
     ]
    },
    {
     "name": "stderr",
     "output_type": "stream",
     "text": [
      "100%|██████████| 13/13 [00:01<00:00,  8.71it/s]\n",
      "  0%|          | 1/1250 [00:00<04:04,  5.11it/s]"
     ]
    },
    {
     "name": "stdout",
     "output_type": "stream",
     "text": [
      "Valid: loss = 1.6826334725937467e-06, top 1 = 0.95, top 5 = 0.9780000000000002, top 10 = 0.9760000000000008, kendal = 0.8996860697636195\n",
      "\n",
      "Epoch: 67\n"
     ]
    },
    {
     "name": "stderr",
     "output_type": "stream",
     "text": [
      "100%|██████████| 1250/1250 [03:06<00:00,  6.69it/s]\n",
      "100%|██████████| 1250/1250 [01:43<00:00, 12.11it/s]\n",
      "  8%|▊         | 1/13 [00:00<00:02,  5.71it/s]"
     ]
    },
    {
     "name": "stdout",
     "output_type": "stream",
     "text": [
      "Train: loss = 9.969731360968914e-07, top 1 = 0.97555, top 5 = 0.9794399999999636, top 10 = 0.9755249999999973, kendal = 0.9030334716762137\n"
     ]
    },
    {
     "name": "stderr",
     "output_type": "stream",
     "text": [
      "100%|██████████| 13/13 [00:01<00:00, 11.63it/s]\n",
      "  0%|          | 0/1250 [00:00<?, ?it/s]"
     ]
    },
    {
     "name": "stdout",
     "output_type": "stream",
     "text": [
      "Valid: loss = 1.430525276431758e-06, top 1 = 0.955, top 5 = 0.9770000000000002, top 10 = 0.9765000000000006, kendal = 0.9004056671475018\n",
      "\n",
      "Epoch: 68\n"
     ]
    },
    {
     "name": "stderr",
     "output_type": "stream",
     "text": [
      "100%|██████████| 1250/1250 [02:49<00:00,  7.38it/s]\n",
      "100%|██████████| 1250/1250 [02:04<00:00, 10.08it/s]\n",
      "  0%|          | 0/13 [00:00<?, ?it/s]"
     ]
    },
    {
     "name": "stdout",
     "output_type": "stream",
     "text": [
      "Train: loss = 1.1227947836737814e-06, top 1 = 0.97445, top 5 = 0.9793399999999639, top 10 = 0.9754599999999973, kendal = 0.9039579107050748\n"
     ]
    },
    {
     "name": "stderr",
     "output_type": "stream",
     "text": [
      "100%|██████████| 13/13 [00:01<00:00, 10.69it/s]\n",
      "  0%|          | 2/1250 [00:00<01:41, 12.35it/s]"
     ]
    },
    {
     "name": "stdout",
     "output_type": "stream",
     "text": [
      "Valid: loss = 1.6287728592120584e-06, top 1 = 0.96, top 5 = 0.9790000000000003, top 10 = 0.9760000000000008, kendal = 0.9016006419461152\n",
      "\n",
      "Epoch: 69\n"
     ]
    },
    {
     "name": "stderr",
     "output_type": "stream",
     "text": [
      "100%|██████████| 1250/1250 [02:31<00:00,  8.27it/s]\n",
      "100%|██████████| 1250/1250 [02:21<00:00,  8.81it/s]\n",
      "  8%|▊         | 1/13 [00:00<00:01,  8.43it/s]"
     ]
    },
    {
     "name": "stdout",
     "output_type": "stream",
     "text": [
      "Train: loss = 1.0256408366056058e-06, top 1 = 0.97535, top 5 = 0.9796699999999643, top 10 = 0.9756949999999978, kendal = 0.9042056448372597\n"
     ]
    },
    {
     "name": "stderr",
     "output_type": "stream",
     "text": [
      "100%|██████████| 13/13 [00:01<00:00, 11.62it/s]\n",
      "  0%|          | 0/1250 [00:00<?, ?it/s]"
     ]
    },
    {
     "name": "stdout",
     "output_type": "stream",
     "text": [
      "Valid: loss = 1.5917971103235186e-06, top 1 = 0.955, top 5 = 0.9790000000000002, top 10 = 0.9760000000000008, kendal = 0.9019735070505618\n",
      "\n",
      "Epoch: 70\n"
     ]
    },
    {
     "name": "stderr",
     "output_type": "stream",
     "text": [
      "100%|██████████| 1250/1250 [02:13<00:00,  9.37it/s]\n",
      "100%|██████████| 1250/1250 [02:20<00:00,  8.89it/s]\n",
      " 15%|█▌        | 2/13 [00:00<00:00, 14.58it/s]"
     ]
    },
    {
     "name": "stdout",
     "output_type": "stream",
     "text": [
      "Train: loss = 1.0375530771324757e-06, top 1 = 0.9756, top 5 = 0.979529999999964, top 10 = 0.9757299999999981, kendal = 0.9066381396947347\n"
     ]
    },
    {
     "name": "stderr",
     "output_type": "stream",
     "text": [
      "100%|██████████| 13/13 [00:01<00:00,  8.71it/s]\n",
      "  0%|          | 0/1250 [00:00<?, ?it/s]"
     ]
    },
    {
     "name": "stdout",
     "output_type": "stream",
     "text": [
      "Valid: loss = 1.5750944805426168e-06, top 1 = 0.955, top 5 = 0.9780000000000001, top 10 = 0.9750000000000009, kendal = 0.9043383309691415\n",
      "\n",
      "Epoch: 71\n"
     ]
    },
    {
     "name": "stderr",
     "output_type": "stream",
     "text": [
      "100%|██████████| 1250/1250 [02:26<00:00,  8.52it/s]\n",
      "100%|██████████| 1250/1250 [02:03<00:00, 10.14it/s]\n",
      "  8%|▊         | 1/13 [00:00<00:01,  6.23it/s]"
     ]
    },
    {
     "name": "stdout",
     "output_type": "stream",
     "text": [
      "Train: loss = 1.0294710054853793e-06, top 1 = 0.9763, top 5 = 0.9797099999999646, top 10 = 0.975599999999998, kendal = 0.9054596873526132\n"
     ]
    },
    {
     "name": "stderr",
     "output_type": "stream",
     "text": [
      "100%|██████████| 13/13 [00:01<00:00,  8.07it/s]\n",
      "  0%|          | 0/1250 [00:00<?, ?it/s]"
     ]
    },
    {
     "name": "stdout",
     "output_type": "stream",
     "text": [
      "Valid: loss = 1.5110863498166456e-06, top 1 = 0.955, top 5 = 0.9790000000000002, top 10 = 0.9775000000000007, kendal = 0.9031845624027015\n",
      "\n",
      "Epoch: 72\n"
     ]
    },
    {
     "name": "stderr",
     "output_type": "stream",
     "text": [
      "100%|██████████| 1250/1250 [02:44<00:00,  7.61it/s]\n",
      "100%|██████████| 1250/1250 [01:49<00:00, 11.45it/s]\n",
      "  8%|▊         | 1/13 [00:00<00:01,  7.74it/s]"
     ]
    },
    {
     "name": "stdout",
     "output_type": "stream",
     "text": [
      "Train: loss = 9.30525945610775e-07, top 1 = 0.97475, top 5 = 0.979499999999964, top 10 = 0.9758599999999982, kendal = 0.9062025996659268\n"
     ]
    },
    {
     "name": "stderr",
     "output_type": "stream",
     "text": [
      "100%|██████████| 13/13 [00:01<00:00,  8.23it/s]\n",
      "  0%|          | 0/1250 [00:00<?, ?it/s]"
     ]
    },
    {
     "name": "stdout",
     "output_type": "stream",
     "text": [
      "Valid: loss = 1.4143218278131949e-06, top 1 = 0.955, top 5 = 0.9760000000000002, top 10 = 0.9755000000000008, kendal = 0.904054915424137\n",
      "\n",
      "Epoch: 73\n"
     ]
    },
    {
     "name": "stderr",
     "output_type": "stream",
     "text": [
      "100%|██████████| 1250/1250 [02:53<00:00,  7.20it/s]\n",
      "100%|██████████| 1250/1250 [01:58<00:00, 10.59it/s]\n",
      " 15%|█▌        | 2/13 [00:00<00:00, 12.39it/s]"
     ]
    },
    {
     "name": "stdout",
     "output_type": "stream",
     "text": [
      "Train: loss = 1.0222803927056087e-06, top 1 = 0.97565, top 5 = 0.9796199999999642, top 10 = 0.9756799999999987, kendal = 0.9046359919968898\n"
     ]
    },
    {
     "name": "stderr",
     "output_type": "stream",
     "text": [
      "100%|██████████| 13/13 [00:01<00:00, 11.64it/s]\n",
      "  0%|          | 1/1250 [00:00<03:08,  6.62it/s]"
     ]
    },
    {
     "name": "stdout",
     "output_type": "stream",
     "text": [
      "Valid: loss = 1.512216550674181e-06, top 1 = 0.955, top 5 = 0.9760000000000002, top 10 = 0.9760000000000008, kendal = 0.9025323012729386\n",
      "\n",
      "Epoch: 74\n"
     ]
    },
    {
     "name": "stderr",
     "output_type": "stream",
     "text": [
      "100%|██████████| 1250/1250 [02:38<00:00,  7.89it/s]\n",
      "100%|██████████| 1250/1250 [02:14<00:00,  9.32it/s]\n",
      "  8%|▊         | 1/13 [00:00<00:01,  6.09it/s]"
     ]
    },
    {
     "name": "stdout",
     "output_type": "stream",
     "text": [
      "Train: loss = 1.20901016707642e-06, top 1 = 0.97545, top 5 = 0.9797599999999642, top 10 = 0.975874999999998, kendal = 0.9065811023226849\n"
     ]
    },
    {
     "name": "stderr",
     "output_type": "stream",
     "text": [
      "100%|██████████| 13/13 [00:01<00:00, 11.11it/s]\n",
      "  0%|          | 1/1250 [00:00<02:14,  9.26it/s]"
     ]
    },
    {
     "name": "stdout",
     "output_type": "stream",
     "text": [
      "Valid: loss = 1.8435547357091538e-06, top 1 = 0.955, top 5 = 0.9800000000000001, top 10 = 0.9765000000000008, kendal = 0.9043765214946172\n",
      "\n",
      "Epoch: 75\n"
     ]
    },
    {
     "name": "stderr",
     "output_type": "stream",
     "text": [
      "100%|██████████| 1250/1250 [02:18<00:00,  9.03it/s]\n",
      "100%|██████████| 1250/1250 [02:30<00:00,  8.28it/s]\n",
      "  8%|▊         | 1/13 [00:00<00:01,  8.22it/s]"
     ]
    },
    {
     "name": "stdout",
     "output_type": "stream",
     "text": [
      "Train: loss = 1.0545378288224766e-06, top 1 = 0.976, top 5 = 0.9797299999999641, top 10 = 0.9758149999999987, kendal = 0.9045384689778182\n"
     ]
    },
    {
     "name": "stderr",
     "output_type": "stream",
     "text": [
      "100%|██████████| 13/13 [00:01<00:00, 12.05it/s]\n",
      "  0%|          | 0/1250 [00:00<?, ?it/s]"
     ]
    },
    {
     "name": "stdout",
     "output_type": "stream",
     "text": [
      "Valid: loss = 1.5024711863082142e-06, top 1 = 0.955, top 5 = 0.9800000000000001, top 10 = 0.9755000000000008, kendal = 0.9022850647384941\n",
      "\n",
      "Epoch: 76\n"
     ]
    },
    {
     "name": "stderr",
     "output_type": "stream",
     "text": [
      "100%|██████████| 1250/1250 [02:00<00:00, 10.37it/s]\n",
      "100%|██████████| 1250/1250 [02:29<00:00,  8.36it/s]\n",
      " 15%|█▌        | 2/13 [00:00<00:00, 13.33it/s]"
     ]
    },
    {
     "name": "stdout",
     "output_type": "stream",
     "text": [
      "Train: loss = 9.74798861033467e-07, top 1 = 0.97575, top 5 = 0.9797299999999637, top 10 = 0.9757999999999983, kendal = 0.9026863481538309\n"
     ]
    },
    {
     "name": "stderr",
     "output_type": "stream",
     "text": [
      "100%|██████████| 13/13 [00:01<00:00,  9.33it/s]\n",
      "  0%|          | 0/1250 [00:00<?, ?it/s]"
     ]
    },
    {
     "name": "stdout",
     "output_type": "stream",
     "text": [
      "Valid: loss = 1.5033963172443184e-06, top 1 = 0.955, top 5 = 0.9760000000000002, top 10 = 0.9765000000000008, kendal = 0.9004498884803047\n",
      "\n",
      "Epoch: 77\n"
     ]
    },
    {
     "name": "stderr",
     "output_type": "stream",
     "text": [
      "100%|██████████| 1250/1250 [02:18<00:00,  9.01it/s]\n",
      "100%|██████████| 1250/1250 [02:12<00:00,  9.43it/s]\n",
      "  8%|▊         | 1/13 [00:00<00:01,  6.78it/s]"
     ]
    },
    {
     "name": "stdout",
     "output_type": "stream",
     "text": [
      "Train: loss = 1.0231233642500173e-06, top 1 = 0.9755, top 5 = 0.9795599999999632, top 10 = 0.9757949999999981, kendal = 0.9064027504505066\n"
     ]
    },
    {
     "name": "stderr",
     "output_type": "stream",
     "text": [
      "100%|██████████| 13/13 [00:01<00:00,  8.77it/s]\n",
      "  0%|          | 2/1250 [00:00<01:08, 18.28it/s]"
     ]
    },
    {
     "name": "stdout",
     "output_type": "stream",
     "text": [
      "Valid: loss = 1.5461936381561591e-06, top 1 = 0.95, top 5 = 0.9780000000000001, top 10 = 0.9765000000000008, kendal = 0.9043765197016653\n",
      "\n",
      "Epoch: 78\n"
     ]
    },
    {
     "name": "stderr",
     "output_type": "stream",
     "text": [
      "100%|██████████| 1250/1250 [02:37<00:00,  7.92it/s]\n",
      "100%|██████████| 1250/1250 [01:56<00:00, 10.69it/s]\n",
      " 15%|█▌        | 2/13 [00:00<00:00, 19.82it/s]"
     ]
    },
    {
     "name": "stdout",
     "output_type": "stream",
     "text": [
      "Train: loss = 9.6565780716323e-07, top 1 = 0.9755, top 5 = 0.9795599999999632, top 10 = 0.9760649999999983, kendal = 0.9049306174460151\n"
     ]
    },
    {
     "name": "stderr",
     "output_type": "stream",
     "text": [
      "100%|██████████| 13/13 [00:01<00:00,  9.30it/s]\n",
      "  0%|          | 0/1250 [00:00<?, ?it/s]"
     ]
    },
    {
     "name": "stdout",
     "output_type": "stream",
     "text": [
      "Valid: loss = 1.4837733414673268e-06, top 1 = 0.955, top 5 = 0.9760000000000002, top 10 = 0.9770000000000008, kendal = 0.9029041606956854\n",
      "\n",
      "Epoch: 79\n"
     ]
    },
    {
     "name": "stderr",
     "output_type": "stream",
     "text": [
      "100%|██████████| 1250/1250 [02:50<00:00,  7.33it/s]\n",
      "100%|██████████| 1250/1250 [01:56<00:00, 10.70it/s]\n",
      "  0%|          | 0/13 [00:00<?, ?it/s]"
     ]
    },
    {
     "name": "stdout",
     "output_type": "stream",
     "text": [
      "Train: loss = 1.0444027690191e-06, top 1 = 0.97575, top 5 = 0.979799999999964, top 10 = 0.9761999999999987, kendal = 0.9082642760286426\n"
     ]
    },
    {
     "name": "stderr",
     "output_type": "stream",
     "text": [
      "100%|██████████| 13/13 [00:01<00:00, 12.75it/s]\n",
      "  0%|          | 1/1250 [00:00<03:04,  6.76it/s]"
     ]
    },
    {
     "name": "stdout",
     "output_type": "stream",
     "text": [
      "Valid: loss = 1.619731386027881e-06, top 1 = 0.955, top 5 = 0.9780000000000001, top 10 = 0.9765000000000008, kendal = 0.9058941070858016\n",
      "\n",
      "Epoch: 80\n"
     ]
    },
    {
     "name": "stderr",
     "output_type": "stream",
     "text": [
      "100%|██████████| 1250/1250 [02:38<00:00,  7.90it/s]\n",
      "100%|██████████| 1250/1250 [02:10<00:00,  9.55it/s]\n",
      " 15%|█▌        | 2/13 [00:00<00:00, 16.40it/s]"
     ]
    },
    {
     "name": "stdout",
     "output_type": "stream",
     "text": [
      "Train: loss = 1.169504527408761e-06, top 1 = 0.97535, top 5 = 0.9799499999999646, top 10 = 0.9761799999999982, kendal = 0.9074219488184968\n"
     ]
    },
    {
     "name": "stderr",
     "output_type": "stream",
     "text": [
      "100%|██████████| 13/13 [00:00<00:00, 15.72it/s]\n",
      "  0%|          | 1/1250 [00:00<04:07,  5.04it/s]"
     ]
    },
    {
     "name": "stdout",
     "output_type": "stream",
     "text": [
      "Valid: loss = 1.7574236067322572e-06, top 1 = 0.955, top 5 = 0.9770000000000002, top 10 = 0.9740000000000008, kendal = 0.9051855677056082\n",
      "\n",
      "Epoch: 81\n"
     ]
    },
    {
     "name": "stderr",
     "output_type": "stream",
     "text": [
      "100%|██████████| 1250/1250 [02:21<00:00,  8.81it/s]\n",
      "100%|██████████| 1250/1250 [02:26<00:00,  8.55it/s]\n",
      " 15%|█▌        | 2/13 [00:00<00:00, 19.08it/s]"
     ]
    },
    {
     "name": "stdout",
     "output_type": "stream",
     "text": [
      "Train: loss = 9.793576891013452e-07, top 1 = 0.97555, top 5 = 0.9797299999999636, top 10 = 0.9762149999999982, kendal = 0.907296514799863\n"
     ]
    },
    {
     "name": "stderr",
     "output_type": "stream",
     "text": [
      "100%|██████████| 13/13 [00:00<00:00, 15.42it/s]\n",
      "  0%|          | 0/1250 [00:00<?, ?it/s]"
     ]
    },
    {
     "name": "stdout",
     "output_type": "stream",
     "text": [
      "Valid: loss = 1.4410837187384942e-06, top 1 = 0.955, top 5 = 0.9780000000000001, top 10 = 0.9765000000000008, kendal = 0.9051212452389713\n",
      "\n",
      "Epoch: 82\n"
     ]
    },
    {
     "name": "stderr",
     "output_type": "stream",
     "text": [
      "100%|██████████| 1250/1250 [02:08<00:00,  9.76it/s]\n",
      "100%|██████████| 1250/1250 [02:24<00:00,  8.66it/s]\n",
      "  8%|▊         | 1/13 [00:00<00:01,  7.21it/s]"
     ]
    },
    {
     "name": "stdout",
     "output_type": "stream",
     "text": [
      "Train: loss = 9.54094412902983e-07, top 1 = 0.97545, top 5 = 0.979809999999964, top 10 = 0.9763949999999988, kendal = 0.9071766934049299\n"
     ]
    },
    {
     "name": "stderr",
     "output_type": "stream",
     "text": [
      "100%|██████████| 13/13 [00:01<00:00,  9.90it/s]\n",
      "  0%|          | 2/1250 [00:00<01:33, 13.30it/s]"
     ]
    },
    {
     "name": "stdout",
     "output_type": "stream",
     "text": [
      "Valid: loss = 1.4061983856762818e-06, top 1 = 0.95, top 5 = 0.9770000000000002, top 10 = 0.9765000000000008, kendal = 0.9048016476025618\n",
      "\n",
      "Epoch: 83\n"
     ]
    },
    {
     "name": "stderr",
     "output_type": "stream",
     "text": [
      "100%|██████████| 1250/1250 [02:26<00:00,  8.52it/s]\n",
      "100%|██████████| 1250/1250 [02:06<00:00,  9.86it/s]\n",
      "  0%|          | 0/13 [00:00<?, ?it/s]"
     ]
    },
    {
     "name": "stdout",
     "output_type": "stream",
     "text": [
      "Train: loss = 1.0479219094949172e-06, top 1 = 0.97525, top 5 = 0.9800799999999644, top 10 = 0.9763549999999981, kendal = 0.9050387681831175\n"
     ]
    },
    {
     "name": "stderr",
     "output_type": "stream",
     "text": [
      "100%|██████████| 13/13 [00:01<00:00,  9.42it/s]\n",
      "  0%|          | 1/1250 [00:00<03:36,  5.78it/s]"
     ]
    },
    {
     "name": "stdout",
     "output_type": "stream",
     "text": [
      "Valid: loss = 1.5536850118884996e-06, top 1 = 0.95, top 5 = 0.9780000000000002, top 10 = 0.9755000000000008, kendal = 0.9028368240880263\n",
      "\n",
      "Epoch: 84\n"
     ]
    },
    {
     "name": "stderr",
     "output_type": "stream",
     "text": [
      "100%|██████████| 1250/1250 [02:45<00:00,  7.55it/s]\n",
      "100%|██████████| 1250/1250 [01:48<00:00, 11.54it/s]\n",
      " 15%|█▌        | 2/13 [00:00<00:00, 12.80it/s]"
     ]
    },
    {
     "name": "stdout",
     "output_type": "stream",
     "text": [
      "Train: loss = 9.74480256892841e-07, top 1 = 0.97525, top 5 = 0.9797199999999633, top 10 = 0.9761299999999986, kendal = 0.9070578436466203\n"
     ]
    },
    {
     "name": "stderr",
     "output_type": "stream",
     "text": [
      "100%|██████████| 13/13 [00:01<00:00,  9.66it/s]\n",
      "  0%|          | 0/1250 [00:00<?, ?it/s]"
     ]
    },
    {
     "name": "stdout",
     "output_type": "stream",
     "text": [
      "Valid: loss = 1.4907558878149064e-06, top 1 = 0.955, top 5 = 0.9770000000000002, top 10 = 0.9760000000000008, kendal = 0.9044760189062956\n",
      "\n",
      "Epoch: 85\n"
     ]
    },
    {
     "name": "stderr",
     "output_type": "stream",
     "text": [
      "100%|██████████| 1250/1250 [03:00<00:00,  6.92it/s]\n",
      "100%|██████████| 1250/1250 [01:43<00:00, 12.09it/s]\n",
      "  8%|▊         | 1/13 [00:00<00:02,  5.36it/s]"
     ]
    },
    {
     "name": "stdout",
     "output_type": "stream",
     "text": [
      "Train: loss = 9.177583620600753e-07, top 1 = 0.9761, top 5 = 0.9801199999999646, top 10 = 0.9764699999999984, kendal = 0.9084222156753609\n"
     ]
    },
    {
     "name": "stderr",
     "output_type": "stream",
     "text": [
      "100%|██████████| 13/13 [00:01<00:00, 12.17it/s]\n",
      "  0%|          | 2/1250 [00:00<01:32, 13.48it/s]"
     ]
    },
    {
     "name": "stdout",
     "output_type": "stream",
     "text": [
      "Valid: loss = 1.401180545839046e-06, top 1 = 0.955, top 5 = 0.9770000000000002, top 10 = 0.9770000000000008, kendal = 0.9060066702029058\n",
      "\n",
      "Epoch: 86\n"
     ]
    },
    {
     "name": "stderr",
     "output_type": "stream",
     "text": [
      "100%|██████████| 1250/1250 [02:50<00:00,  7.32it/s]\n",
      "100%|██████████| 1250/1250 [02:00<00:00, 10.39it/s]\n",
      "  8%|▊         | 1/13 [00:00<00:01,  8.95it/s]"
     ]
    },
    {
     "name": "stdout",
     "output_type": "stream",
     "text": [
      "Train: loss = 1.018086110657224e-06, top 1 = 0.9755, top 5 = 0.9799599999999644, top 10 = 0.9765649999999998, kendal = 0.9085756628665947\n"
     ]
    },
    {
     "name": "stderr",
     "output_type": "stream",
     "text": [
      "100%|██████████| 13/13 [00:01<00:00, 12.42it/s]\n",
      "  0%|          | 2/1250 [00:00<01:42, 12.19it/s]"
     ]
    },
    {
     "name": "stdout",
     "output_type": "stream",
     "text": [
      "Valid: loss = 1.5124397461527752e-06, top 1 = 0.96, top 5 = 0.9760000000000002, top 10 = 0.9770000000000008, kendal = 0.9063091829424895\n",
      "\n",
      "Epoch: 87\n"
     ]
    },
    {
     "name": "stderr",
     "output_type": "stream",
     "text": [
      "100%|██████████| 1250/1250 [02:32<00:00,  8.19it/s]\n",
      "100%|██████████| 1250/1250 [02:17<00:00,  9.07it/s]\n",
      " 15%|█▌        | 2/13 [00:00<00:00, 14.18it/s]"
     ]
    },
    {
     "name": "stdout",
     "output_type": "stream",
     "text": [
      "Train: loss = 1.095621611289877e-06, top 1 = 0.9754, top 5 = 0.9797999999999636, top 10 = 0.9764499999999987, kendal = 0.9063131693844236\n"
     ]
    },
    {
     "name": "stderr",
     "output_type": "stream",
     "text": [
      "100%|██████████| 13/13 [00:01<00:00, 12.32it/s]\n",
      "  0%|          | 1/1250 [00:00<02:05,  9.98it/s]"
     ]
    },
    {
     "name": "stdout",
     "output_type": "stream",
     "text": [
      "Valid: loss = 1.5502375632021798e-06, top 1 = 0.95, top 5 = 0.9770000000000002, top 10 = 0.9760000000000008, kendal = 0.9037142087499448\n",
      "\n",
      "Epoch: 88\n"
     ]
    },
    {
     "name": "stderr",
     "output_type": "stream",
     "text": [
      "100%|██████████| 1250/1250 [02:16<00:00,  9.14it/s]\n",
      "100%|██████████| 1250/1250 [02:21<00:00,  8.81it/s]\n",
      "  8%|▊         | 1/13 [00:00<00:01,  7.95it/s]"
     ]
    },
    {
     "name": "stdout",
     "output_type": "stream",
     "text": [
      "Train: loss = 9.328621160217347e-07, top 1 = 0.97555, top 5 = 0.9802499999999643, top 10 = 0.9765849999999995, kendal = 0.9059046901656648\n"
     ]
    },
    {
     "name": "stderr",
     "output_type": "stream",
     "text": [
      "100%|██████████| 13/13 [00:01<00:00,  9.15it/s]\n",
      "  0%|          | 1/1250 [00:00<02:13,  9.38it/s]"
     ]
    },
    {
     "name": "stdout",
     "output_type": "stream",
     "text": [
      "Valid: loss = 1.3749254629001284e-06, top 1 = 0.95, top 5 = 0.9780000000000001, top 10 = 0.9765000000000008, kendal = 0.9032820480721884\n",
      "\n",
      "Epoch: 89\n"
     ]
    },
    {
     "name": "stderr",
     "output_type": "stream",
     "text": [
      "100%|██████████| 1250/1250 [02:25<00:00,  8.58it/s]\n",
      "100%|██████████| 1250/1250 [02:08<00:00,  9.71it/s]\n",
      "  0%|          | 0/13 [00:00<?, ?it/s]"
     ]
    },
    {
     "name": "stdout",
     "output_type": "stream",
     "text": [
      "Train: loss = 8.700759361772215e-07, top 1 = 0.9751, top 5 = 0.9802299999999643, top 10 = 0.9766599999999999, kendal = 0.9088218127936892\n"
     ]
    },
    {
     "name": "stderr",
     "output_type": "stream",
     "text": [
      "100%|██████████| 13/13 [00:01<00:00,  8.08it/s]\n",
      "  0%|          | 2/1250 [00:00<01:16, 16.24it/s]"
     ]
    },
    {
     "name": "stdout",
     "output_type": "stream",
     "text": [
      "Valid: loss = 1.264118817520244e-06, top 1 = 0.95, top 5 = 0.9780000000000002, top 10 = 0.9750000000000009, kendal = 0.9065001385244497\n",
      "\n",
      "Epoch: 90\n"
     ]
    },
    {
     "name": "stderr",
     "output_type": "stream",
     "text": [
      "100%|██████████| 1250/1250 [02:41<00:00,  7.72it/s]\n",
      "100%|██████████| 1250/1250 [01:52<00:00, 11.13it/s]\n",
      "  0%|          | 0/13 [00:00<?, ?it/s]"
     ]
    },
    {
     "name": "stdout",
     "output_type": "stream",
     "text": [
      "Train: loss = 9.649803619456552e-07, top 1 = 0.976, top 5 = 0.9803099999999649, top 10 = 0.9766399999999993, kendal = 0.9086859945796799\n"
     ]
    },
    {
     "name": "stderr",
     "output_type": "stream",
     "text": [
      "100%|██████████| 13/13 [00:01<00:00,  9.85it/s]\n",
      "  0%|          | 0/1250 [00:00<?, ?it/s]"
     ]
    },
    {
     "name": "stdout",
     "output_type": "stream",
     "text": [
      "Valid: loss = 1.452572988246494e-06, top 1 = 0.955, top 5 = 0.9760000000000002, top 10 = 0.9765000000000008, kendal = 0.9062599368881041\n",
      "\n",
      "Epoch: 91\n"
     ]
    },
    {
     "name": "stderr",
     "output_type": "stream",
     "text": [
      "100%|██████████| 1250/1250 [02:58<00:00,  7.00it/s]\n",
      "100%|██████████| 1250/1250 [01:43<00:00, 12.09it/s]\n",
      "  8%|▊         | 1/13 [00:00<00:02,  5.94it/s]"
     ]
    },
    {
     "name": "stdout",
     "output_type": "stream",
     "text": [
      "Train: loss = 8.980080264593528e-07, top 1 = 0.9755, top 5 = 0.9802899999999645, top 10 = 0.9767099999999987, kendal = 0.9044488353031876\n"
     ]
    },
    {
     "name": "stderr",
     "output_type": "stream",
     "text": [
      "100%|██████████| 13/13 [00:01<00:00, 12.15it/s]\n",
      "  0%|          | 0/1250 [00:00<?, ?it/s]"
     ]
    },
    {
     "name": "stdout",
     "output_type": "stream",
     "text": [
      "Valid: loss = 1.449093722603252e-06, top 1 = 0.95, top 5 = 0.9790000000000002, top 10 = 0.9765000000000008, kendal = 0.9020267707811772\n",
      "\n",
      "Epoch: 92\n"
     ]
    },
    {
     "name": "stderr",
     "output_type": "stream",
     "text": [
      "100%|██████████| 1250/1250 [02:52<00:00,  7.24it/s]\n",
      "100%|██████████| 1250/1250 [01:59<00:00, 10.48it/s]\n",
      "  0%|          | 0/13 [00:00<?, ?it/s]"
     ]
    },
    {
     "name": "stdout",
     "output_type": "stream",
     "text": [
      "Train: loss = 8.590902883174748e-07, top 1 = 0.9758, top 5 = 0.9803599999999649, top 10 = 0.97664, kendal = 0.9063294864193063\n"
     ]
    },
    {
     "name": "stderr",
     "output_type": "stream",
     "text": [
      "100%|██████████| 13/13 [00:00<00:00, 13.61it/s]\n",
      "  0%|          | 2/1250 [00:00<01:22, 15.08it/s]"
     ]
    },
    {
     "name": "stdout",
     "output_type": "stream",
     "text": [
      "Valid: loss = 1.2544831587167982e-06, top 1 = 0.955, top 5 = 0.9790000000000002, top 10 = 0.9765000000000008, kendal = 0.9039222475115376\n",
      "\n",
      "Epoch: 93\n"
     ]
    },
    {
     "name": "stderr",
     "output_type": "stream",
     "text": [
      "100%|██████████| 1250/1250 [02:37<00:00,  7.96it/s]\n",
      "100%|██████████| 1250/1250 [02:12<00:00,  9.44it/s]\n",
      " 15%|█▌        | 2/13 [00:00<00:01, 10.90it/s]"
     ]
    },
    {
     "name": "stdout",
     "output_type": "stream",
     "text": [
      "Train: loss = 8.989687139067077e-07, top 1 = 0.976, top 5 = 0.9801899999999641, top 10 = 0.9765749999999994, kendal = 0.907558559608108\n"
     ]
    },
    {
     "name": "stderr",
     "output_type": "stream",
     "text": [
      "100%|██████████| 13/13 [00:00<00:00, 14.06it/s]\n",
      "  0%|          | 2/1250 [00:00<01:30, 13.73it/s]"
     ]
    },
    {
     "name": "stdout",
     "output_type": "stream",
     "text": [
      "Valid: loss = 1.386224949164958e-06, top 1 = 0.95, top 5 = 0.9770000000000002, top 10 = 0.9770000000000008, kendal = 0.904799634926015\n",
      "\n",
      "Epoch: 94\n"
     ]
    },
    {
     "name": "stderr",
     "output_type": "stream",
     "text": [
      "100%|██████████| 1250/1250 [02:22<00:00,  8.75it/s]\n",
      "100%|██████████| 1250/1250 [02:18<00:00,  9.01it/s]\n",
      " 15%|█▌        | 2/13 [00:00<00:00, 13.61it/s]"
     ]
    },
    {
     "name": "stdout",
     "output_type": "stream",
     "text": [
      "Train: loss = 8.360443133775906e-07, top 1 = 0.97615, top 5 = 0.9805599999999655, top 10 = 0.9766449999999998, kendal = 0.9074684042407818\n"
     ]
    },
    {
     "name": "stderr",
     "output_type": "stream",
     "text": [
      "100%|██████████| 13/13 [00:01<00:00,  9.65it/s]\n",
      "  0%|          | 1/1250 [00:00<03:02,  6.83it/s]"
     ]
    },
    {
     "name": "stdout",
     "output_type": "stream",
     "text": [
      "Valid: loss = 1.2426618761701015e-06, top 1 = 0.955, top 5 = 0.9790000000000002, top 10 = 0.9760000000000008, kendal = 0.9050689827455562\n",
      "\n",
      "Epoch: 95\n"
     ]
    },
    {
     "name": "stderr",
     "output_type": "stream",
     "text": [
      "100%|██████████| 1250/1250 [02:26<00:00,  8.53it/s]\n",
      "100%|██████████| 1250/1250 [02:09<00:00,  9.62it/s]\n",
      " 15%|█▌        | 2/13 [00:00<00:00, 19.13it/s]"
     ]
    },
    {
     "name": "stdout",
     "output_type": "stream",
     "text": [
      "Train: loss = 9.564075985040002e-07, top 1 = 0.97615, top 5 = 0.9800799999999638, top 10 = 0.9766050000000005, kendal = 0.9032212884151595\n"
     ]
    },
    {
     "name": "stderr",
     "output_type": "stream",
     "text": [
      "100%|██████████| 13/13 [00:01<00:00,  9.33it/s]\n",
      "  0%|          | 1/1250 [00:00<03:58,  5.24it/s]"
     ]
    },
    {
     "name": "stdout",
     "output_type": "stream",
     "text": [
      "Valid: loss = 1.3419373695181965e-06, top 1 = 0.95, top 5 = 0.9770000000000002, top 10 = 0.9765000000000008, kendal = 0.9004810424157426\n",
      "\n",
      "Epoch: 96\n"
     ]
    },
    {
     "name": "stderr",
     "output_type": "stream",
     "text": [
      "100%|██████████| 1250/1250 [02:41<00:00,  7.74it/s]\n",
      "100%|██████████| 1250/1250 [01:52<00:00, 11.11it/s]\n",
      "  0%|          | 0/13 [00:00<?, ?it/s]"
     ]
    },
    {
     "name": "stdout",
     "output_type": "stream",
     "text": [
      "Train: loss = 9.077647400962804e-07, top 1 = 0.97545, top 5 = 0.9804899999999654, top 10 = 0.9767800000000001, kendal = 0.9085873280311627\n"
     ]
    },
    {
     "name": "stderr",
     "output_type": "stream",
     "text": [
      "100%|██████████| 13/13 [00:01<00:00,  8.47it/s]\n",
      "  0%|          | 1/1250 [00:00<02:38,  7.88it/s]"
     ]
    },
    {
     "name": "stdout",
     "output_type": "stream",
     "text": [
      "Valid: loss = 1.3039271261290663e-06, top 1 = 0.955, top 5 = 0.9780000000000002, top 10 = 0.9760000000000008, kendal = 0.9060217451504917\n",
      "\n",
      "Epoch: 97\n"
     ]
    },
    {
     "name": "stderr",
     "output_type": "stream",
     "text": [
      "100%|██████████| 1250/1250 [02:57<00:00,  7.03it/s]\n",
      "100%|██████████| 1250/1250 [01:37<00:00, 12.82it/s]\n",
      "  8%|▊         | 1/13 [00:00<00:01,  6.27it/s]"
     ]
    },
    {
     "name": "stdout",
     "output_type": "stream",
     "text": [
      "Train: loss = 1.0707802151801873e-06, top 1 = 0.9762, top 5 = 0.9805699999999647, top 10 = 0.9767799999999992, kendal = 0.9068722603093682\n"
     ]
    },
    {
     "name": "stderr",
     "output_type": "stream",
     "text": [
      "100%|██████████| 13/13 [00:01<00:00, 11.63it/s]\n",
      "  0%|          | 1/1250 [00:00<02:08,  9.69it/s]"
     ]
    },
    {
     "name": "stdout",
     "output_type": "stream",
     "text": [
      "Valid: loss = 1.5572360201856767e-06, top 1 = 0.955, top 5 = 0.9770000000000002, top 10 = 0.9765000000000008, kendal = 0.9042699869878429\n",
      "\n",
      "Epoch: 98\n"
     ]
    },
    {
     "name": "stderr",
     "output_type": "stream",
     "text": [
      "100%|██████████| 1250/1250 [03:02<00:00,  6.84it/s]\n",
      "100%|██████████| 1250/1250 [01:46<00:00, 11.74it/s]\n",
      " 15%|█▌        | 2/13 [00:00<00:00, 11.45it/s]"
     ]
    },
    {
     "name": "stdout",
     "output_type": "stream",
     "text": [
      "Train: loss = 8.256343832234311e-07, top 1 = 0.9766, top 5 = 0.9803899999999643, top 10 = 0.9767900000000008, kendal = 0.9085315746943433\n"
     ]
    },
    {
     "name": "stderr",
     "output_type": "stream",
     "text": [
      "100%|██████████| 13/13 [00:01<00:00, 12.80it/s]\n",
      "  0%|          | 0/1250 [00:00<?, ?it/s]"
     ]
    },
    {
     "name": "stdout",
     "output_type": "stream",
     "text": [
      "Valid: loss = 1.210952247793983e-06, top 1 = 0.955, top 5 = 0.9780000000000002, top 10 = 0.9775000000000008, kendal = 0.906212700631441\n",
      "\n",
      "Epoch: 99\n"
     ]
    },
    {
     "name": "stderr",
     "output_type": "stream",
     "text": [
      "100%|██████████| 1250/1250 [02:45<00:00,  7.54it/s]\n",
      "100%|██████████| 1250/1250 [02:04<00:00, 10.04it/s]\n",
      "  8%|▊         | 1/13 [00:00<00:01,  6.41it/s]"
     ]
    },
    {
     "name": "stdout",
     "output_type": "stream",
     "text": [
      "Train: loss = 1.017162823601583e-06, top 1 = 0.9763, top 5 = 0.9804399999999647, top 10 = 0.9766550000000003, kendal = 0.9066196170602013\n"
     ]
    },
    {
     "name": "stderr",
     "output_type": "stream",
     "text": [
      "100%|██████████| 13/13 [00:01<00:00, 11.90it/s]\n",
      "  0%|          | 0/1250 [00:00<?, ?it/s]"
     ]
    },
    {
     "name": "stdout",
     "output_type": "stream",
     "text": [
      "Valid: loss = 1.5101117998622375e-06, top 1 = 0.955, top 5 = 0.9790000000000002, top 10 = 0.9775000000000007, kendal = 0.904033804669162\n",
      "\n",
      "Epoch: 100\n"
     ]
    },
    {
     "name": "stderr",
     "output_type": "stream",
     "text": [
      "100%|██████████| 1250/1250 [02:30<00:00,  8.31it/s]\n",
      "100%|██████████| 1250/1250 [02:17<00:00,  9.10it/s]\n",
      "  0%|          | 0/13 [00:00<?, ?it/s]"
     ]
    },
    {
     "name": "stdout",
     "output_type": "stream",
     "text": [
      "Train: loss = 8.131536889452348e-07, top 1 = 0.97675, top 5 = 0.9804299999999648, top 10 = 0.9768399999999993, kendal = 0.9077046276475296\n"
     ]
    },
    {
     "name": "stderr",
     "output_type": "stream",
     "text": [
      "100%|██████████| 13/13 [00:01<00:00,  9.01it/s]"
     ]
    },
    {
     "name": "stdout",
     "output_type": "stream",
     "text": [
      "Valid: loss = 1.2072014499224965e-06, top 1 = 0.96, top 5 = 0.9780000000000001, top 10 = 0.976000000000001, kendal = 0.9054207398980906\n"
     ]
    },
    {
     "name": "stderr",
     "output_type": "stream",
     "text": [
      "\n"
     ]
    }
   ],
   "source": [
    "nodes_cnt = setting.nodes_cnt\n",
    "\n",
    "\n",
    "model.train()\n",
    "\n",
    "train_info = {\n",
    "    \"mse\": [],\n",
    "    \"top1\": [],\n",
    "    \"top5\": [],\n",
    "    \"top10\": [],\n",
    "    \"kendal\": []\n",
    "}\n",
    "\n",
    "valid_info = {\n",
    "    \"mse\": [],\n",
    "    \"top1\": [],\n",
    "    \"top5\": [],\n",
    "    \"top10\": [],\n",
    "    \"kendal\": []\n",
    "}\n",
    "\n",
    "top_10 = 0.0\n",
    "top_5 = 0.0\n",
    "top_1 = 0.0\n",
    "\n",
    "for epoch in range(setting.epochs):\n",
    "    \n",
    "#     G, bc_gt = generate_nx_graph(nodes_cnt)\n",
    "    \n",
    "#     # Convert networkx.Graph to Pyg Data\n",
    "#     G = from_networkx(G)\n",
    "\n",
    "    print(\"\\nEpoch: {}\".format(epoch+1))\n",
    "\n",
    "    for batch in tqdm(train_loader):\n",
    "    \n",
    "        ### Start training\n",
    "        optimizer.zero_grad()\n",
    "        batch = batch.to(setting.device)\n",
    "\n",
    "        bc_pr = model(batch)\n",
    "    \n",
    "        \n",
    "        # compute batch loss\n",
    "        b_index = batch.batch.cpu().numpy()\n",
    "        b = np.max(b_index) + 1\n",
    "        \n",
    "        batch_loss = torch.tensor(0, dtype=torch.float).to(setting.device)\n",
    "        \n",
    "        for b_ in range(b):\n",
    "            \n",
    "            indice, = np.where(b_index == b_)\n",
    "            \n",
    "            gt = batch.y[indice].squeeze()\n",
    "            pr = bc_pr[indice].squeeze()\n",
    "            \n",
    "            # random sample 5|V| nodes\n",
    "            src = np.random.choice(len(indice), 5*len(indice), replace=True)\n",
    "            det = np.random.choice(len(indice), 5*len(indice), replace=True)\n",
    "            src = torch.from_numpy(src)\n",
    "            det = torch.from_numpy(det)\n",
    "\n",
    "            \n",
    "            y_gt = gt[det] - gt[src]\n",
    "            y_pr = pr[det] - pr[src]\n",
    "            \n",
    "#             y_gt = nn.Sigmoid()(y_gt)\n",
    "#             y_pr = nn.Sigmoid()(y_pr)\n",
    "        \n",
    "            batch_loss += nn.MSELoss()(y_pr, y_gt)\n",
    "        \n",
    "        batch_loss = torch.div(batch_loss, b)\n",
    "        batch_loss.backward()\n",
    "        optimizer.step()\n",
    "    \n",
    "    \n",
    "    ### Evaluation\n",
    "    with torch.no_grad():\n",
    "        \n",
    "        \n",
    "        top1_list = []\n",
    "        top5_list = []\n",
    "        top10_list = []\n",
    "        kendal_list = []\n",
    "        loss_list = []\n",
    "        \n",
    "        for batch in tqdm(train_loader):\n",
    "\n",
    "            batch = batch.to(setting.device)\n",
    "\n",
    "            bc_pr = model(batch)\n",
    "\n",
    "            b_index = batch.batch.cpu().numpy()\n",
    "            b = np.max(b_index) + 1\n",
    "\n",
    "            for b_ in range(b):\n",
    "\n",
    "                indice, = np.where(b_index == b_)\n",
    "\n",
    "                gt = batch.y[indice].squeeze()\n",
    "                pr = bc_pr[indice].squeeze()\n",
    "                \n",
    "                # evaluation\n",
    "                top1 = top_n_percentage(gt, pr, k=1)\n",
    "                top5 = top_n_percentage(gt, pr, k=5)\n",
    "                top10 = top_n_percentage(gt, pr, k=10)\n",
    "                kendal = kendal_tau_distance(gt, pr)\n",
    "                \n",
    "\n",
    "                # compute loss\n",
    "                src = np.random.choice(len(indice), 5*len(indice), replace=True)\n",
    "                det = np.random.choice(len(indice), 5*len(indice), replace=True)\n",
    "                src = torch.from_numpy(src)\n",
    "                det = torch.from_numpy(det)\n",
    "\n",
    "                y_gt = gt[det] - gt[src]\n",
    "                y_pr = pr[det] - pr[src]\n",
    "\n",
    "#                 y_gt = nn.Sigmoid()(y_gt)\n",
    "#                 y_pr = nn.Sigmoid()(y_pr)\n",
    "\n",
    "                loss = nn.MSELoss()(y_pr, y_gt)\n",
    "                \n",
    "                top1_list.append(top1)\n",
    "                top5_list.append(top5)\n",
    "                top10_list.append(top10)\n",
    "                kendal_list.append(kendal)\n",
    "                loss_list.append(loss.item())\n",
    "                \n",
    "\n",
    "        bce = sum(loss_list)/len(loss_list)\n",
    "        top1 = sum(top1_list)/len(top1_list)\n",
    "        top5 = sum(top5_list)/len(top5_list)\n",
    "        top10 = sum(top10_list)/len(top10_list)\n",
    "        kendal = sum(kendal_list)/len(kendal_list)      \n",
    "        \n",
    "                \n",
    "        print(\"Train: loss = {}, top 1 = {}, top 5 = {}, top 10 = {}, kendal = {}\".format(\n",
    "                bce,\n",
    "                top1,\n",
    "                top5,\n",
    "                top10,\n",
    "                kendal\n",
    "        ))\n",
    "\n",
    "        train_info[\"mse\"].append(bce)\n",
    "        train_info[\"top1\"].append(top1)\n",
    "        train_info[\"top5\"].append(top5)\n",
    "        train_info[\"top10\"].append(top10)\n",
    "        train_info[\"kendal\"].append(kendal)\n",
    "\n",
    "        with open(setting.train_info_p, 'w') as f:\n",
    "            json.dump(train_info, f)\n",
    "            \n",
    "            \n",
    "    \n",
    "        top1_list = []\n",
    "        top5_list = []\n",
    "        top10_list = []\n",
    "        kendal_list = []\n",
    "        loss_list = []\n",
    "        \n",
    "        for batch in tqdm(valid_loader):\n",
    "\n",
    "            batch = batch.to(setting.device)\n",
    "\n",
    "            bc_pr = model(batch)\n",
    "\n",
    "            b_index = batch.batch.cpu().numpy()\n",
    "            b = np.max(b_index) + 1\n",
    "\n",
    "            for b_ in range(b):\n",
    "\n",
    "                indice, = np.where(b_index == b_)\n",
    "            \n",
    "\n",
    "                gt = batch.y[indice].squeeze()\n",
    "                pr = bc_pr[indice].squeeze()\n",
    "                \n",
    "                # evaluation\n",
    "                top1 = top_n_percentage(gt, pr, k=1)\n",
    "                top5 = top_n_percentage(gt, pr, k=5)\n",
    "                top10 = top_n_percentage(gt, pr, k=10)\n",
    "                kendal = kendal_tau_distance(gt, pr)\n",
    "\n",
    "                # compute loss\n",
    "                src = np.random.choice(len(indice), 5*len(indice), replace=True)\n",
    "                det = np.random.choice(len(indice), 5*len(indice), replace=True)\n",
    "                src = torch.from_numpy(src)\n",
    "                det = torch.from_numpy(det)\n",
    "\n",
    "                y_gt = gt[det] - gt[src]\n",
    "                y_pr = pr[det] - pr[src]\n",
    "\n",
    "#                 y_gt = nn.Sigmoid()(y_gt)\n",
    "#                 y_pr = nn.Sigmoid()(y_pr)\n",
    "\n",
    "                loss = nn.MSELoss()(y_pr, y_gt)\n",
    "                \n",
    "                top1_list.append(top1)\n",
    "                top5_list.append(top5)\n",
    "                top10_list.append(top10)\n",
    "                kendal_list.append(kendal)\n",
    "                loss_list.append(loss.item())\n",
    "                \n",
    "\n",
    "        bce = sum(loss_list)/len(loss_list)\n",
    "        top1 = sum(top1_list)/len(top1_list)\n",
    "        top5 = sum(top5_list)/len(top5_list)\n",
    "        top10 = sum(top10_list)/len(top10_list)\n",
    "        kendal = sum(kendal_list)/len(kendal_list)      \n",
    "        \n",
    "                \n",
    "        print(\"Valid: loss = {}, top 1 = {}, top 5 = {}, top 10 = {}, kendal = {}\".format(\n",
    "                bce,\n",
    "                top1,\n",
    "                top5,\n",
    "                top10,\n",
    "                kendal\n",
    "        ))\n",
    "\n",
    "        valid_info[\"mse\"].append(bce)\n",
    "        valid_info[\"top1\"].append(top1)\n",
    "        valid_info[\"top5\"].append(top5)\n",
    "        valid_info[\"top10\"].append(top10)\n",
    "        valid_info[\"kendal\"].append(kendal)\n",
    "\n",
    "        with open(setting.val_info_p, 'w') as f:\n",
    "            json.dump(valid_info, f)\n",
    "\n",
    "\n",
    "\n",
    "        if top10 > top_10:\n",
    "            checkpoint = {\n",
    "                'model_stat': model.state_dict(),\n",
    "                'optimizer_stat': optimizer.state_dict(),\n",
    "            }\n",
    "            top_10 = top10\n",
    "            \n",
    "            torch.save(checkpoint, setting.weight_drbc)"
   ]
  },
  {
   "cell_type": "markdown",
   "metadata": {},
   "source": [
    "# Test"
   ]
  },
  {
   "cell_type": "code",
   "execution_count": 32,
   "metadata": {},
   "outputs": [],
   "source": [
    "def eval_model(model, dataloader, device):\n",
    "    \n",
    "    model = model.eval().to(device)\n",
    "    \n",
    "    top1_list = []\n",
    "    top5_list = []\n",
    "    top10_list = []\n",
    "    kendal_list = []\n",
    "    loss_list = []\n",
    "    time_list = []\n",
    "\n",
    "    for batch in tqdm(dataloader):\n",
    "\n",
    "        batch = batch.to(device)\n",
    "        \n",
    "        start = time.time()\n",
    "        bc_pr = model(batch)\n",
    "        end = time.time()\n",
    "\n",
    "        b_index = batch.batch.cpu().numpy()\n",
    "        b = np.max(b_index) + 1\n",
    "\n",
    "        for b_ in range(b):\n",
    "\n",
    "            indice, = np.where(b_index == b_)\n",
    "\n",
    "\n",
    "            gt = batch.y[indice].squeeze()\n",
    "            pr = bc_pr[indice].squeeze()\n",
    "\n",
    "            # evaluation\n",
    "            top1 = top_n_percentage(gt, pr, k=1)\n",
    "            top5 = top_n_percentage(gt, pr, k=5)\n",
    "            top10 = top_n_percentage(gt, pr, k=10)\n",
    "            kendal = kendal_tau_distance(gt, pr)\n",
    "\n",
    "            # compute loss\n",
    "            src = np.random.choice(len(indice), 5*len(indice), replace=True)\n",
    "            det = np.random.choice(len(indice), 5*len(indice), replace=True)\n",
    "            src = torch.from_numpy(src)\n",
    "            det = torch.from_numpy(det)\n",
    "\n",
    "            y_gt = gt[det] - gt[src]\n",
    "            y_pr = pr[det] - pr[src]\n",
    "\n",
    "#             y_gt = nn.Sigmoid()(y_gt)\n",
    "#             y_pr = nn.Sigmoid()(y_pr)\n",
    "\n",
    "            loss = nn.MSELoss()(y_pr, y_gt)\n",
    "\n",
    "            top1_list.append(top1)\n",
    "            top5_list.append(top5)\n",
    "            top10_list.append(top10)\n",
    "            kendal_list.append(kendal)\n",
    "            loss_list.append(loss.item())\n",
    "            time_list.append(end-start)\n",
    "    \n",
    "    \n",
    "    return top1_list, top5_list, top10_list, kendal_list, time_list, loss_list"
   ]
  },
  {
   "cell_type": "code",
   "execution_count": 33,
   "metadata": {},
   "outputs": [
    {
     "name": "stderr",
     "output_type": "stream",
     "text": [
      "100%|██████████| 30/30 [00:12<00:00,  2.48it/s]"
     ]
    },
    {
     "name": "stdout",
     "output_type": "stream",
     "text": [
      "Top1: mean=0.93, std=0.03\n",
      "Top5: mean=0.89, std=0.02\n",
      "Top10: mean=0.87, std=0.02\n",
      "Kendal: mean=0.68, std=0.01\n",
      "Time: mean=0.38, std=0.03\n",
      "Loss: mean=0.00, std=0.00\n"
     ]
    },
    {
     "name": "stderr",
     "output_type": "stream",
     "text": [
      "\n"
     ]
    }
   ],
   "source": [
    "top1_list, top5_list, top10_list, kendal_list, time_list, loss_list = eval_model(model, syn_loader, \"cpu\")\n",
    "\n",
    "top1_list = np.array(top1_list)\n",
    "top5_list = np.array(top5_list)\n",
    "top10_list = np.array(top10_list)\n",
    "kendal_list = np.array(kendal_list)\n",
    "time_list = np.array(time_list)\n",
    "loss_list = np.array(loss_list)\n",
    "\n",
    "\n",
    "print(\"Top1: mean={:.2f}, std={:.2f}\".format(np.mean(top1_list), np.std(top1_list)))\n",
    "print(\"Top5: mean={:.2f}, std={:.2f}\".format(np.mean(top5_list), np.std(top5_list)))\n",
    "print(\"Top10: mean={:.2f}, std={:.2f}\".format(np.mean(top10_list), np.std(top10_list)))\n",
    "print(\"Kendal: mean={:.2f}, std={:.2f}\".format(np.mean(kendal_list), np.std(kendal_list)))\n",
    "print(\"Time: mean={:.2f}, std={:.2f}\".format(np.mean(time_list), np.std(time_list)))\n",
    "print(\"Loss: mean={:.2f}, std={:.2f}\".format(np.mean(loss_list), np.std(loss_list)))"
   ]
  },
  {
   "cell_type": "code",
   "execution_count": 34,
   "metadata": {},
   "outputs": [
    {
     "name": "stderr",
     "output_type": "stream",
     "text": [
      "100%|██████████| 1/1 [01:28<00:00, 88.07s/it]"
     ]
    },
    {
     "name": "stdout",
     "output_type": "stream",
     "text": [
      "Top1: mean=0.62, std=0.00\n",
      "Top5: mean=0.45, std=0.00\n",
      "Top10: mean=0.45, std=0.00\n",
      "Kendal: mean=0.24, std=0.00\n",
      "Time: mean=87.17, std=0.00\n",
      "Loss: mean=79394473173115952.00, std=0.00\n"
     ]
    },
    {
     "name": "stderr",
     "output_type": "stream",
     "text": [
      "\n"
     ]
    }
   ],
   "source": [
    "top1_list, top5_list, top10_list, kendal_list, time_list, loss_list = eval_model(model, yt_loader, \"cpu\")\n",
    "\n",
    "top1_list = np.array(top1_list)\n",
    "top5_list = np.array(top5_list)\n",
    "top10_list = np.array(top10_list)\n",
    "kendal_list = np.array(kendal_list)\n",
    "time_list = np.array(time_list)\n",
    "loss_list = np.array(loss_list)\n",
    "\n",
    "\n",
    "print(\"Top1: mean={:.2f}, std={:.2f}\".format(np.mean(top1_list), np.std(top1_list)))\n",
    "print(\"Top5: mean={:.2f}, std={:.2f}\".format(np.mean(top5_list), np.std(top5_list)))\n",
    "print(\"Top10: mean={:.2f}, std={:.2f}\".format(np.mean(top10_list), np.std(top10_list)))\n",
    "print(\"Kendal: mean={:.2f}, std={:.2f}\".format(np.mean(kendal_list), np.std(kendal_list)))\n",
    "print(\"Time: mean={:.2f}, std={:.2f}\".format(np.mean(time_list), np.std(time_list)))\n",
    "print(\"Loss: mean={:.2f}, std={:.2f}\".format(np.mean(loss_list), np.std(loss_list)))"
   ]
  },
  {
   "cell_type": "markdown",
   "metadata": {},
   "source": [
    "# Visualization"
   ]
  },
  {
   "cell_type": "code",
   "execution_count": 35,
   "metadata": {},
   "outputs": [
    {
     "data": {
      "text/plain": [
       "'/home/ai2019/ne6081064/june/mlg/snrs_hw1/result/2021-03-21 04-11'"
      ]
     },
     "execution_count": 35,
     "metadata": {},
     "output_type": "execute_result"
    }
   ],
   "source": [
    "setting.root"
   ]
  },
  {
   "cell_type": "code",
   "execution_count": 36,
   "metadata": {},
   "outputs": [
    {
     "data": {
      "image/png": "[encoded data removed]",
      "text/plain": [
       "<Figure size 1800x1440 with 5 Axes>"
      ]
     },
     "metadata": {
      "needs_background": "light"
     },
     "output_type": "display_data"
    }
   ],
   "source": [
    "import matplotlib.pyplot as plt\n",
    "\n",
    "with open(setting.train_info_p, 'r') as train_info, \\\n",
    "    open(setting.val_info_p, 'r') as valid_info:\n",
    "    \n",
    "    train = json.load(train_info)\n",
    "    valid = json.load(valid_info)\n",
    "\n",
    "    keys = list(train.keys())\n",
    "    epochs = len(train[keys[0]])\n",
    "\n",
    "    x = np.linspace(1, epochs, epochs)\n",
    "    \n",
    "    ### plot bce loss and mean top N %\n",
    "    fig, axs = plt.subplots(len(keys), figsize=(25, 4 * len(keys)))\n",
    "    for index, ax in enumerate(axs):\n",
    "        key = keys[index]\n",
    "\n",
    "        ax.plot(x, train[key], color=\"blue\")\n",
    "        ax.plot(x, valid[key], color=\"orange\")\n",
    "        \n",
    "        ax.legend([\"train\", \"valid\"], loc='upper left')\n",
    "        ax.set_title(key)\n",
    "        ax.grid()\n",
    "        \n",
    "    plt.tight_layout()\n",
    "    plt.savefig(setting.result_plt_p, facecolor=\"white\")"
   ]
  },
  {
   "cell_type": "markdown",
   "metadata": {},
   "source": [
    "# Compare diff scale"
   ]
  },
  {
   "cell_type": "code",
   "execution_count": null,
   "metadata": {},
   "outputs": [],
   "source": [
    "weights = os.path.join(setting._root, \"weights\")\n",
    "\n",
    "for weight_f in os.listdir(weights):\n",
    "    print(\"weight: {}\".format(weight_f))\n",
    "    \n",
    "    model, _ = load_checkpoint(\n",
    "                    os.path.join(weights, weight_f),\n",
    "                    \"cpu\",\n",
    "                    drbc = setting.params_drbc,\n",
    "                    node2vec = setting.params_node2vec)\n",
    "    model.eval()\n",
    "    \n",
    "    basename = os.path.splitext(weight_f)[0]\n",
    "    with open(os.path.join(setting._root, \"{}.json\".format(basename)), \"w\") as f:\n",
    "        jsn = {\n",
    "            \"top1\": [],\n",
    "            \"top5\": [],\n",
    "            \"top10\": [],\n",
    "            \"kendal\": [],\n",
    "            \"time\": []\n",
    "        }\n",
    "\n",
    "        for edge_list, score in zip(synthetic, between):\n",
    "\n",
    "            data = to_data(edge_list, score)\n",
    "\n",
    "            start = time.time()\n",
    "            bc_pr = model(data)\n",
    "            end = time.time()\n",
    "\n",
    "            bc_gt = np.array(data.y)\n",
    "\n",
    "\n",
    "            jsn[\"time\"].append(end-start)\n",
    "            jsn[\"kendal\"].append(kendal_tau_distance(bc_pr, bc_gt))\n",
    "            jsn[\"top1\"].append(top_n_percentage(bc_pr, bc_gt, k=1))\n",
    "            jsn[\"top5\"].append(top_n_percentage(bc_pr, bc_gt, k=5))\n",
    "            jsn[\"top10\"].append(top_n_percentage(bc_pr, bc_gt, k=10))\n",
    "\n",
    "        json.dump(jsn, f)\n",
    "    "
   ]
  },
  {
   "cell_type": "code",
   "execution_count": null,
   "metadata": {},
   "outputs": [],
   "source": [
    "with open(os.path.join(setting._root, \"result\", \"comparison\", \"200.json\"), \"r\") as f_200, \\\n",
    "    open(os.path.join(setting._root, \"result\", \"comparison\", \"300.json\"), \"r\") as f_300, \\\n",
    "    open(os.path.join(setting._root, \"result\", \"comparison\", \"1200.json\"), \"r\") as f_1200, \\\n",
    "    open(os.path.join(setting._root, \"result\", \"comparison\", \"3000.json\"), \"r\") as f_3000, \\\n",
    "    open(os.path.join(setting._root, \"result\", \"comparison\", \"5000.json\"), \"r\") as f_5000 :\n",
    "    \n",
    "    r_200 = json.load(f_200)\n",
    "    r_300 = json.load(f_300)\n",
    "    r_1200 = json.load(f_1200)\n",
    "    r_3000 = json.load(f_3000)\n",
    "    r_5000 = json.load(f_5000)\n",
    "\n",
    "    keys = list(r_200.keys())\n",
    "    \n",
    "    fig, axs = plt.subplots(len(keys), figsize=(25, 4*len(keys)))\n",
    "    for index, ax in enumerate(axs):\n",
    "        key = keys[index]\n",
    "        \n",
    "        ax.boxplot([r_200[key], r_300[key], r_1200[key], r_3000[key], r_5000[key]], widths=0.5)\n",
    "        ax.set_title(key)\n",
    "        ax.grid()\n",
    "        \n",
    "        print(\"\\n{}\".format(key))\n",
    "        ### Calculate mean and std\n",
    "        r_200_ = np.array(r_200[key])\n",
    "        print(\"scale=200, mean={}, std={}\".format(np.mean(r_200_), np.std(r_200_)))\n",
    "        \n",
    "        r_300_ = np.array(r_300[key])\n",
    "        print(\"scale=300, mean={}, std={}\".format(np.mean(r_300_), np.std(r_300_)))\n",
    "        \n",
    "        r_1200_ = np.array(r_1200[key])\n",
    "        print(\"scale=1200, mean={}, std={}\".format(np.mean(r_1200_), np.std(r_1200_)))\n",
    "        \n",
    "        r_3000_ = np.array(r_3000[key])\n",
    "        print(\"scale=3000, mean={}, std={}\".format(np.mean(r_3000_), np.std(r_3000_)))\n",
    "         \n",
    "        r_5000_ = np.array(r_5000[key])\n",
    "        print(\"scale=5000, mean={}, std={}\".format(np.mean(r_5000_), np.std(r_5000_)))\n",
    "        \n",
    "    \n",
    "    plt.setp(axs,  xticklabels=['200', '300', '1200', \"3000\", \"5000\"])\n",
    "    plt.savefig(os.path.join(setting._root, \"result\", \"comparison\", \"comp.png\"), facecolor=\"white\")\n",
    "    \n",
    "    "
   ]
  }
 ],
 "metadata": {
  "accelerator": "GPU",
  "colab": {
   "collapsed_sections": [],
   "name": "code.ipynb",
   "provenance": [],
   "toc_visible": true
  },
  "kernelspec": {
   "display_name": "Python 3",
   "language": "python",
   "name": "python3"
  },
  "language_info": {
   "codemirror_mode": {
    "name": "ipython",
    "version": 3
   },
   "file_extension": ".py",
   "mimetype": "text/x-python",
   "name": "python",
   "nbconvert_exporter": "python",
   "pygments_lexer": "ipython3",
   "version": "3.7.9"
  }
 },
 "nbformat": 4,
 "nbformat_minor": 4
}
