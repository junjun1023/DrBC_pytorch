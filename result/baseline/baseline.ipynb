{
 "cells": [
  {
   "cell_type": "code",
   "execution_count": 1,
   "id": "relevant-loading",
   "metadata": {},
   "outputs": [],
   "source": [
    "import os\n",
    "\n",
    "import torch\n",
    "import torch.nn as nn\n",
    "\n",
    "import pandas as pd\n",
    "import numpy as np\n",
    "import json\n",
    "\n",
    "from tqdm import tqdm\n",
    "from datetime import datetime\n",
    "import time\n",
    "import matplotlib.pyplot as plt"
   ]
  },
  {
   "cell_type": "code",
   "execution_count": 2,
   "id": "variable-strand",
   "metadata": {},
   "outputs": [
    {
     "data": {
      "text/html": [
       "\n",
       "\t\t\t<script type=\"text/javascript\">\n",
       "\t\t\t<!--\n",
       "\t\t\t\t\n",
       "\t\t\t{\n",
       "\t\t\t\tvar element = document.getElementById('NetworKit_script');\n",
       "\t\t\t\tif (element) {\n",
       "\t\t\t\t\telement.parentNode.removeChild(element);\n",
       "\t\t\t\t}\n",
       "\t\t\t\telement = document.createElement('script');\n",
       "\t\t\t\telement.type = 'text/javascript';\n",
       "\t\t\t\telement.innerHTML = 'function NetworKit_pageEmbed(id) { var i, j; var elements; elements = document.getElementById(id).getElementsByClassName(\"Plot\"); for (i=0; i<elements.length; i++) { elements[i].id = id + \"_Plot_\" + i; var data = elements[i].getAttribute(\"data-image\").split(\"|\"); elements[i].removeAttribute(\"data-image\"); var content = \"<div class=\\\\\"Image\\\\\" id=\\\\\"\" + elements[i].id + \"_Image\\\\\" />\"; elements[i].innerHTML = content; elements[i].setAttribute(\"data-image-index\", 0); elements[i].setAttribute(\"data-image-length\", data.length); for (j=0; j<data.length; j++) { elements[i].setAttribute(\"data-image-\" + j, data[j]); } NetworKit_plotUpdate(elements[i]); elements[i].onclick = function (e) { NetworKit_overlayShow((e.target) ? e.target : e.srcElement); } } elements = document.getElementById(id).getElementsByClassName(\"HeatCell\"); for (i=0; i<elements.length; i++) { var data = parseFloat(elements[i].getAttribute(\"data-heat\")); var color = \"#00FF00\"; if (data <= 1 && data > 0) { color = \"hsla(0, 100%, 75%, \" + (data) + \")\"; } else if (data <= 0 && data >= -1) { color = \"hsla(240, 100%, 75%, \" + (-data) + \")\"; } elements[i].style.backgroundColor = color; } elements = document.getElementById(id).getElementsByClassName(\"Details\"); for (i=0; i<elements.length; i++) { elements[i].setAttribute(\"data-title\", \"-\"); NetworKit_toggleDetails(elements[i]); elements[i].onclick = function (e) { NetworKit_toggleDetails((e.target) ? e.target : e.srcElement); } } elements = document.getElementById(id).getElementsByClassName(\"MathValue\"); for (i=elements.length-1; i>=0; i--) { value = elements[i].innerHTML.trim(); if (value === \"nan\") { elements[i].parentNode.innerHTML = \"\" } } elements = document.getElementById(id).getElementsByClassName(\"SubCategory\"); for (i=elements.length-1; i>=0; i--) { value = elements[i].innerHTML.trim(); if (value === \"\") { elements[i].parentNode.removeChild(elements[i]) } } elements = document.getElementById(id).getElementsByClassName(\"Category\"); for (i=elements.length-1; i>=0; i--) { value = elements[i].innerHTML.trim(); if (value === \"\") { elements[i].parentNode.removeChild(elements[i]) } } var isFirefox = false; try { isFirefox = typeof InstallTrigger !== \"undefined\"; } catch (e) {} if (!isFirefox) { alert(\"Currently the function\\'s output is only fully supported by Firefox.\"); } } function NetworKit_plotUpdate(source) { var index = source.getAttribute(\"data-image-index\"); var data = source.getAttribute(\"data-image-\" + index); var image = document.getElementById(source.id + \"_Image\"); image.style.backgroundImage = \"url(\" + data + \")\"; } function NetworKit_showElement(id, show) { var element = document.getElementById(id); element.style.display = (show) ? \"block\" : \"none\"; } function NetworKit_overlayShow(source) { NetworKit_overlayUpdate(source); NetworKit_showElement(\"NetworKit_Overlay\", true); } function NetworKit_overlayUpdate(source) { document.getElementById(\"NetworKit_Overlay_Title\").innerHTML = source.title; var index = source.getAttribute(\"data-image-index\"); var data = source.getAttribute(\"data-image-\" + index); var image = document.getElementById(\"NetworKit_Overlay_Image\"); image.setAttribute(\"data-id\", source.id); image.style.backgroundImage = \"url(\" + data + \")\"; var link = document.getElementById(\"NetworKit_Overlay_Toolbar_Bottom_Save\"); link.href = data; link.download = source.title + \".svg\"; } function NetworKit_overlayImageShift(delta) { var image = document.getElementById(\"NetworKit_Overlay_Image\"); var source = document.getElementById(image.getAttribute(\"data-id\")); var index = parseInt(source.getAttribute(\"data-image-index\")); var length = parseInt(source.getAttribute(\"data-image-length\")); var index = (index+delta) % length; if (index < 0) { index = length + index; } source.setAttribute(\"data-image-index\", index); NetworKit_overlayUpdate(source); } function NetworKit_toggleDetails(source) { var childs = source.children; var show = false; if (source.getAttribute(\"data-title\") == \"-\") { source.setAttribute(\"data-title\", \"+\"); show = false; } else { source.setAttribute(\"data-title\", \"-\"); show = true; } for (i=0; i<childs.length; i++) { if (show) { childs[i].style.display = \"block\"; } else { childs[i].style.display = \"none\"; } } }';\n",
       "\t\t\t\telement.setAttribute('id', 'NetworKit_script');\n",
       "\t\t\t\tdocument.head.appendChild(element);\n",
       "\t\t\t}\n",
       "\t\t\n",
       "\t\t\t\t\n",
       "\t\t\t{\n",
       "\t\t\t\tvar element = document.getElementById('NetworKit_style');\n",
       "\t\t\t\tif (element) {\n",
       "\t\t\t\t\telement.parentNode.removeChild(element);\n",
       "\t\t\t\t}\n",
       "\t\t\t\telement = document.createElement('style');\n",
       "\t\t\t\telement.type = 'text/css';\n",
       "\t\t\t\telement.innerHTML = '.NetworKit_Page { font-family: Arial, Helvetica, sans-serif; font-size: 14px; } .NetworKit_Page .Value:before { font-family: Arial, Helvetica, sans-serif; font-size: 1.05em; content: attr(data-title) \":\"; margin-left: -2.5em; padding-right: 0.5em; } .NetworKit_Page .Details .Value:before { display: block; } .NetworKit_Page .Value { font-family: monospace; white-space: pre; padding-left: 2.5em; white-space: -moz-pre-wrap !important; white-space: -pre-wrap; white-space: -o-pre-wrap; white-space: pre-wrap; word-wrap: break-word; tab-size: 4; -moz-tab-size: 4; } .NetworKit_Page .Category { clear: both; padding-left: 1em; margin-bottom: 1.5em; } .NetworKit_Page .Category:before { content: attr(data-title); font-size: 1.75em; display: block; margin-left: -0.8em; margin-bottom: 0.5em; } .NetworKit_Page .SubCategory { margin-bottom: 1.5em; padding-left: 1em; } .NetworKit_Page .SubCategory:before { font-size: 1.6em; display: block; margin-left: -0.8em; margin-bottom: 0.5em; } .NetworKit_Page .SubCategory[data-title]:before { content: attr(data-title); } .NetworKit_Page .Block { display: block; } .NetworKit_Page .Block:after { content: \".\"; visibility: hidden; display: block; height: 0; clear: both; } .NetworKit_Page .Block .Thumbnail_Overview, .NetworKit_Page .Block .Thumbnail_ScatterPlot { width: 260px; float: left; } .NetworKit_Page .Block .Thumbnail_Overview img, .NetworKit_Page .Block .Thumbnail_ScatterPlot img { width: 260px; } .NetworKit_Page .Block .Thumbnail_Overview:before, .NetworKit_Page .Block .Thumbnail_ScatterPlot:before { display: block; text-align: center; font-weight: bold; } .NetworKit_Page .Block .Thumbnail_Overview:before { content: attr(data-title); } .NetworKit_Page .HeatCell { font-family: \"Courier New\", Courier, monospace; cursor: pointer; } .NetworKit_Page .HeatCell, .NetworKit_Page .HeatCellName { display: inline; padding: 0.1em; margin-right: 2px; background-color: #FFFFFF } .NetworKit_Page .HeatCellName { margin-left: 0.25em; } .NetworKit_Page .HeatCell:before { content: attr(data-heat); display: inline-block; color: #000000; width: 4em; text-align: center; } .NetworKit_Page .Measure { clear: both; } .NetworKit_Page .Measure .Details { cursor: pointer; } .NetworKit_Page .Measure .Details:before { content: \"[\" attr(data-title) \"]\"; display: block; } .NetworKit_Page .Measure .Details .Value { border-left: 1px dotted black; margin-left: 0.4em; padding-left: 3.5em; pointer-events: none; } .NetworKit_Page .Measure .Details .Spacer:before { content: \".\"; opacity: 0.0; pointer-events: none; } .NetworKit_Page .Measure .Plot { width: 440px; height: 440px; cursor: pointer; float: left; margin-left: -0.9em; margin-right: 20px; } .NetworKit_Page .Measure .Plot .Image { background-repeat: no-repeat; background-position: center center; background-size: contain; height: 100%; pointer-events: none; } .NetworKit_Page .Measure .Stat { width: 500px; float: left; } .NetworKit_Page .Measure .Stat .Group { padding-left: 1.25em; margin-bottom: 0.75em; } .NetworKit_Page .Measure .Stat .Group .Title { font-size: 1.1em; display: block; margin-bottom: 0.3em; margin-left: -0.75em; border-right-style: dotted; border-right-width: 1px; border-bottom-style: dotted; border-bottom-width: 1px; background-color: #D0D0D0; padding-left: 0.2em; } .NetworKit_Page .Measure .Stat .Group .List { -webkit-column-count: 3; -moz-column-count: 3; column-count: 3; } .NetworKit_Page .Measure .Stat .Group .List .Entry { position: relative; line-height: 1.75em; } .NetworKit_Page .Measure .Stat .Group .List .Entry[data-tooltip]:before { position: absolute; left: 0; top: -40px; background-color: #808080; color: #ffffff; height: 30px; line-height: 30px; border-radius: 5px; padding: 0 15px; content: attr(data-tooltip); white-space: nowrap; display: none; } .NetworKit_Page .Measure .Stat .Group .List .Entry[data-tooltip]:after { position: absolute; left: 15px; top: -10px; border-top: 7px solid #808080; border-left: 7px solid transparent; border-right: 7px solid transparent; content: \"\"; display: none; } .NetworKit_Page .Measure .Stat .Group .List .Entry[data-tooltip]:hover:after, .NetworKit_Page .Measure .Stat .Group .List .Entry[data-tooltip]:hover:before { display: block; } .NetworKit_Page .Measure .Stat .Group .List .Entry .MathValue { font-family: \"Courier New\", Courier, monospace; } .NetworKit_Page .Measure:after { content: \".\"; visibility: hidden; display: block; height: 0; clear: both; } .NetworKit_Page .PartitionPie { clear: both; } .NetworKit_Page .PartitionPie img { width: 600px; } #NetworKit_Overlay { left: 0px; top: 0px; display: none; position: absolute; width: 100%; height: 100%; background-color: rgba(0,0,0,0.6); z-index: 1000; } #NetworKit_Overlay_Title { position: absolute; color: white; transform: rotate(-90deg); width: 32em; height: 32em; padding-right: 0.5em; padding-top: 0.5em; text-align: right; font-size: 40px; } #NetworKit_Overlay .button { background: white; cursor: pointer; } #NetworKit_Overlay .button:before { size: 13px; display: inline-block; text-align: center; margin-top: 0.5em; margin-bottom: 0.5em; width: 1.5em; height: 1.5em; } #NetworKit_Overlay .icon-close:before { content: \"X\"; } #NetworKit_Overlay .icon-previous:before { content: \"P\"; } #NetworKit_Overlay .icon-next:before { content: \"N\"; } #NetworKit_Overlay .icon-save:before { content: \"S\"; } #NetworKit_Overlay_Toolbar_Top, #NetworKit_Overlay_Toolbar_Bottom { position: absolute; width: 40px; right: 13px; text-align: right; z-index: 1100; } #NetworKit_Overlay_Toolbar_Top { top: 0.5em; } #NetworKit_Overlay_Toolbar_Bottom { Bottom: 0.5em; } #NetworKit_Overlay_ImageContainer { position: absolute; top: 5%; left: 5%; height: 90%; width: 90%; background-repeat: no-repeat; background-position: center center; background-size: contain; } #NetworKit_Overlay_Image { height: 100%; width: 100%; background-repeat: no-repeat; background-position: center center; background-size: contain; }';\n",
       "\t\t\t\telement.setAttribute('id', 'NetworKit_style');\n",
       "\t\t\t\tdocument.head.appendChild(element);\n",
       "\t\t\t}\n",
       "\t\t\n",
       "\t\t\t\t\n",
       "\t\t\t{\n",
       "\t\t\t\tvar element = document.getElementById('NetworKit_Overlay');\n",
       "\t\t\t\tif (element) {\n",
       "\t\t\t\t\telement.parentNode.removeChild(element);\n",
       "\t\t\t\t}\n",
       "\t\t\t\telement = document.createElement('div');\n",
       "\t\t\t\telement.innerHTML = '<div id=\"NetworKit_Overlay_Toolbar_Top\"><div class=\"button icon-close\" id=\"NetworKit_Overlay_Close\" /></div><div id=\"NetworKit_Overlay_Title\" /> <div id=\"NetworKit_Overlay_ImageContainer\"> <div id=\"NetworKit_Overlay_Image\" /> </div> <div id=\"NetworKit_Overlay_Toolbar_Bottom\"> <div class=\"button icon-previous\" onclick=\"NetworKit_overlayImageShift(-1)\" /> <div class=\"button icon-next\" onclick=\"NetworKit_overlayImageShift(1)\" /> <a id=\"NetworKit_Overlay_Toolbar_Bottom_Save\"><div class=\"button icon-save\" /></a> </div>';\n",
       "\t\t\t\telement.setAttribute('id', 'NetworKit_Overlay');\n",
       "\t\t\t\tdocument.body.appendChild(element);\n",
       "\t\t\t\tdocument.getElementById('NetworKit_Overlay_Close').onclick = function (e) {\n",
       "\t\t\t\t\tdocument.getElementById('NetworKit_Overlay').style.display = 'none';\n",
       "\t\t\t\t}\n",
       "\t\t\t}\n",
       "\t\t\n",
       "\t\t\t-->\n",
       "\t\t\t</script>\n",
       "\t\t"
      ]
     },
     "metadata": {},
     "output_type": "display_data"
    }
   ],
   "source": [
    "import drbc\n",
    "import utils\n",
    "import utils.data\n",
    "import utils.eval\n",
    "import utils.baseline"
   ]
  },
  {
   "cell_type": "code",
   "execution_count": 3,
   "id": "premier-profit",
   "metadata": {},
   "outputs": [],
   "source": [
    "import networkit as nk\n",
    "import networkx as nx"
   ]
  },
  {
   "cell_type": "code",
   "execution_count": 4,
   "id": "surgical-patch",
   "metadata": {},
   "outputs": [],
   "source": [
    "class Setting:\n",
    "    _root = os.getcwd()\n",
    "\n",
    "    _data = os.path.join(_root, \"hw1_data\")\n",
    "\n",
    "    data_synthetic = os.path.join(_data, \"Synthetic\", \"5000\")\n",
    "    \n",
    "    data_youtube = os.path.join(_data, \"Real\", \"youtube\")\n",
    "    data_amazon = os.path.join(_data, \"Real\", \"amazon\")\n",
    "    data_dblp = os.path.join(_data, \"Real\", \"dblp\")\n",
    "    data_comlj = os.path.join(_data, \"Real\", \"com-lj\")\n",
    "    \n",
    "    data_train = os.path.join(_data, \"train\")\n",
    "    data_valid = os.path.join(_data, \"valid\")\n",
    "    \n",
    "    ### Data split\n",
    "    data_split = os.path.join(_root, \"split.json\")\n",
    "    \n",
    "\n",
    "    # Setting of training\n",
    "    device = torch.device(\"cuda:1\" if torch.cuda.is_available() else \"cpu\")\n",
    "\n",
    "    epochs = 500\n",
    "    nodes_cnt = 200\n",
    "    \n",
    "    params_drbc = dict(\n",
    "        # according to source paper\n",
    "        encoder_params = dict(\n",
    "            c = 3,\n",
    "            p = 128,\n",
    "            num_layers = 5,\n",
    "            device = device\n",
    "        ),\n",
    "        decoder_params = dict(\n",
    "            p = 128,\n",
    "            q = 64\n",
    "        )\n",
    "    )\n",
    "\n",
    "    \n",
    "    def __init__(self, date_time=None):\n",
    "        \n",
    "    \n",
    "        # Create dir for train/test\n",
    "        self.root = os.path.join(self._root, \"result\", date_time)\n",
    "        if os.path.exists(self.root):\n",
    "            pass\n",
    "        else:\n",
    "            os.makedirs(self.root)\n",
    "\n",
    "\n",
    "        ### Save plt info\n",
    "        self.train_info_p = os.path.join(self.root, \"train.json\")\n",
    "        self.val_info_p = os.path.join(self.root, \"valid.json\")\n",
    "\n",
    "        ### Save plt img\n",
    "        self.result_plt_p = os.path.join(self.root, \"train_plt.png\")\n",
    "    \n",
    "        self.weight_drbc = os.path.join(self.root, \"drbc.pth\")\n",
    "    "
   ]
  },
  {
   "cell_type": "code",
   "execution_count": 5,
   "id": "amazing-physics",
   "metadata": {},
   "outputs": [],
   "source": [
    "date_time = datetime.strftime(datetime.now(), \"%Y-%m-%d %H-%M\")"
   ]
  },
  {
   "cell_type": "code",
   "execution_count": 6,
   "id": "innovative-stuff",
   "metadata": {},
   "outputs": [
    {
     "data": {
      "text/plain": [
       "'/home/ai2019/ne6081064/june/mlg/snrs_hw1/result/baseline'"
      ]
     },
     "execution_count": 6,
     "metadata": {},
     "output_type": "execute_result"
    }
   ],
   "source": [
    "setting = Setting(date_time=\"baseline\")\n",
    "setting.root"
   ]
  },
  {
   "cell_type": "code",
   "execution_count": 7,
   "id": "static-joining",
   "metadata": {},
   "outputs": [],
   "source": [
    "syn, syn_score = utils.data.load_data(Setting.data_synthetic, mode=\"between\")\n",
    "yt, yt_score = utils.data.load_data(Setting.data_youtube, mode=\"between\")\n",
    "amazon, amazon_score = utils.data.load_data(Setting.data_amazon, mode=\"between\")\n",
    "dblp, dblp_score = utils.data.load_data(Setting.data_dblp, mode=\"between\")\n",
    "comlj, comlj_score = utils.data.load_data(Setting.data_comlj, mode=\"between\")"
   ]
  },
  {
   "cell_type": "markdown",
   "id": "vietnamese-membership",
   "metadata": {},
   "source": [
    "# Synthetic"
   ]
  },
  {
   "cell_type": "markdown",
   "id": "royal-carolina",
   "metadata": {},
   "source": [
    "## Kadabra"
   ]
  },
  {
   "cell_type": "code",
   "execution_count": 10,
   "id": "vanilla-control",
   "metadata": {},
   "outputs": [
    {
     "name": "stdout",
     "output_type": "stream",
     "text": [
      "Top1: mean=0.26, std=0.08\n",
      "Top5: mean=0.23, std=0.03\n",
      "Top10: mean=0.28, std=0.02\n",
      "Kendal: mean=0.21, std=0.01\n",
      "Time: mean=0.04, std=0.00\n"
     ]
    }
   ],
   "source": [
    "top1_list, top5_list, top10_list, kendal_list, time_list = utils.baseline.run_kadabra(syn, syn_score, x_sep=\"\\t\", y_sep=None, usecols=1)\n",
    "\n",
    "\n",
    "top1_list = np.array(top1_list)\n",
    "top5_list = np.array(top5_list)\n",
    "top10_list = np.array(top10_list)\n",
    "kendal_list = np.array(kendal_list)\n",
    "time_list = np.array(time_list)\n",
    "\n",
    "\n",
    "print(\"Top1: mean={:.2f}, std={:.2f}\".format(np.mean(top1_list), np.std(top1_list)))\n",
    "print(\"Top5: mean={:.2f}, std={:.2f}\".format(np.mean(top5_list), np.std(top5_list)))\n",
    "print(\"Top10: mean={:.2f}, std={:.2f}\".format(np.mean(top10_list), np.std(top10_list)))\n",
    "print(\"Kendal: mean={:.2f}, std={:.2f}\".format(np.mean(kendal_list), np.std(kendal_list)))\n",
    "print(\"Time: mean={:.2f}, std={:.2f}\".format(np.mean(time_list), np.std(time_list)))\n",
    "\n",
    "\n",
    "with open(os.path.join(setting.root, \"kadabra.json\"), 'w') as f:\n",
    "    json.dump({\n",
    "        \"top1\": list(top1_list),\n",
    "        \"top5\": list(top5_list),\n",
    "        \"top10\": list(top10_list),\n",
    "        \"kendal\": list(kendal_list),\n",
    "        \"time\": list(time_list)\n",
    "    }, f)"
   ]
  },
  {
   "cell_type": "markdown",
   "id": "convinced-listening",
   "metadata": {},
   "source": [
    "## RK(KPATH)"
   ]
  },
  {
   "cell_type": "code",
   "execution_count": 14,
   "id": "chemical-estate",
   "metadata": {},
   "outputs": [
    {
     "name": "stdout",
     "output_type": "stream",
     "text": [
      "Top1: mean=0.25, std=0.08\n",
      "Top5: mean=0.20, std=0.03\n",
      "Top10: mean=0.21, std=0.03\n",
      "Kendal: mean=0.17, std=0.01\n",
      "Time: mean=0.04, std=0.01\n"
     ]
    }
   ],
   "source": [
    "top1_list, top5_list, top10_list, kendal_list, time_list = utils.baseline.run_rk(syn, syn_score, x_sep=\"\\t\", y_sep=None, usecols=1)\n",
    "\n",
    "\n",
    "top1_list = np.array(top1_list)\n",
    "top5_list = np.array(top5_list)\n",
    "top10_list = np.array(top10_list)\n",
    "kendal_list = np.array(kendal_list)\n",
    "time_list = np.array(time_list)\n",
    "\n",
    "\n",
    "print(\"Top1: mean={:.2f}, std={:.2f}\".format(np.mean(top1_list), np.std(top1_list)))\n",
    "print(\"Top5: mean={:.2f}, std={:.2f}\".format(np.mean(top5_list), np.std(top5_list)))\n",
    "print(\"Top10: mean={:.2f}, std={:.2f}\".format(np.mean(top10_list), np.std(top10_list)))\n",
    "print(\"Kendal: mean={:.2f}, std={:.2f}\".format(np.mean(kendal_list), np.std(kendal_list)))\n",
    "print(\"Time: mean={:.2f}, std={:.2f}\".format(np.mean(time_list), np.std(time_list)))\n",
    "\n",
    "\n",
    "with open(os.path.join(setting.root, \"rk.json\"), 'w') as f:\n",
    "    json.dump({\n",
    "        \"top1\": list(top1_list),\n",
    "        \"top5\": list(top5_list),\n",
    "        \"top10\": list(top10_list),\n",
    "        \"kendal\": list(kendal_list),\n",
    "        \"time\": list(time_list)\n",
    "    }, f)"
   ]
  },
  {
   "cell_type": "markdown",
   "id": "empty-heaven",
   "metadata": {},
   "source": [
    "## KBC"
   ]
  },
  {
   "cell_type": "code",
   "execution_count": 15,
   "id": "intermediate-skirt",
   "metadata": {},
   "outputs": [
    {
     "name": "stdout",
     "output_type": "stream",
     "text": [
      "Top1: mean=0.26, std=0.07\n",
      "Top5: mean=0.23, std=0.02\n",
      "Top10: mean=0.27, std=0.02\n",
      "Kendal: mean=0.10, std=0.01\n",
      "Time: mean=6.51, std=0.17\n"
     ]
    }
   ],
   "source": [
    "top1_list, top5_list, top10_list, kendal_list, time_list = utils.baseline.run_kbc(syn, syn_score, x_sep=\"\\t\", y_sep=None, usecols=1)\n",
    "\n",
    "\n",
    "top1_list = np.array(top1_list)\n",
    "top5_list = np.array(top5_list)\n",
    "top10_list = np.array(top10_list)\n",
    "kendal_list = np.array(kendal_list)\n",
    "time_list = np.array(time_list)\n",
    "\n",
    "\n",
    "print(\"Top1: mean={:.2f}, std={:.2f}\".format(np.mean(top1_list), np.std(top1_list)))\n",
    "print(\"Top5: mean={:.2f}, std={:.2f}\".format(np.mean(top5_list), np.std(top5_list)))\n",
    "print(\"Top10: mean={:.2f}, std={:.2f}\".format(np.mean(top10_list), np.std(top10_list)))\n",
    "print(\"Kendal: mean={:.2f}, std={:.2f}\".format(np.mean(kendal_list), np.std(kendal_list)))\n",
    "print(\"Time: mean={:.2f}, std={:.2f}\".format(np.mean(time_list), np.std(time_list)))\n",
    "\n",
    "\n",
    "with open(os.path.join(setting.root, \"kbc.json\"), 'w') as f:\n",
    "    json.dump({\n",
    "        \"top1\": list(top1_list),\n",
    "        \"top5\": list(top5_list),\n",
    "        \"top10\": list(top10_list),\n",
    "        \"kendal\": list(kendal_list),\n",
    "        \"time\": list(time_list)\n",
    "    }, f)"
   ]
  },
  {
   "cell_type": "markdown",
   "id": "ordered-eligibility",
   "metadata": {},
   "source": [
    "## DrBC"
   ]
  },
  {
   "cell_type": "code",
   "execution_count": 13,
   "id": "chinese-number",
   "metadata": {},
   "outputs": [],
   "source": [
    "import drbc"
   ]
  },
  {
   "cell_type": "code",
   "execution_count": 14,
   "id": "national-yukon",
   "metadata": {},
   "outputs": [],
   "source": [
    "syn_loader = utils.data.to_dataloader(syn, syn_score, batch=1, usecols=1)"
   ]
  },
  {
   "cell_type": "code",
   "execution_count": 20,
   "id": "coastal-cattle",
   "metadata": {},
   "outputs": [],
   "source": [
    "yt_loader = utils.data.to_dataloader(yt, yt_score, batch=1, y_sep=\":\", usecols=1)"
   ]
  },
  {
   "cell_type": "code",
   "execution_count": 22,
   "id": "unique-yukon",
   "metadata": {},
   "outputs": [],
   "source": [
    "amazon_loader = utils.data.to_dataloader(amazon, amazon_score, batch=1, y_sep=\":\", usecols=1)"
   ]
  },
  {
   "cell_type": "code",
   "execution_count": 15,
   "id": "grave-business",
   "metadata": {},
   "outputs": [
    {
     "name": "stdout",
     "output_type": "stream",
     "text": [
      "pretrained finded\n"
     ]
    },
    {
     "data": {
      "text/plain": [
       "DrBC(\n",
       "  (encoder): Encoder(\n",
       "    (w_0): Linear(in_features=3, out_features=128, bias=True)\n",
       "    (relu): ReLU(inplace=True)\n",
       "    (rnn): GRUCell(128, 128)\n",
       "  )\n",
       "  (decoder): Decoder(\n",
       "    (w_4): Linear(in_features=128, out_features=64, bias=True)\n",
       "    (w_5): Linear(in_features=64, out_features=1, bias=True)\n",
       "    (relu): ReLU(inplace=True)\n",
       "  )\n",
       ")"
      ]
     },
     "execution_count": 15,
     "metadata": {},
     "output_type": "execute_result"
    }
   ],
   "source": [
    "model, optimizer = drbc.load_checkpoint(\n",
    "                    setting.weight_drbc,\n",
    "                    Setting.device,\n",
    "                    drbc = Setting.params_drbc)\n",
    "\n",
    "model"
   ]
  },
  {
   "cell_type": "code",
   "execution_count": 16,
   "id": "sustainable-acceptance",
   "metadata": {},
   "outputs": [
    {
     "name": "stderr",
     "output_type": "stream",
     "text": [
      "100%|██████████| 30/30 [00:11<00:00,  2.57it/s]"
     ]
    },
    {
     "name": "stdout",
     "output_type": "stream",
     "text": [
      "Top1: mean=0.97, std=0.02\n",
      "Top5: mean=0.96, std=0.01\n",
      "Top10: mean=0.96, std=0.01\n",
      "Kendal: mean=0.81, std=0.01\n",
      "Time: mean=0.38, std=0.02\n"
     ]
    },
    {
     "name": "stderr",
     "output_type": "stream",
     "text": [
      "\n"
     ]
    }
   ],
   "source": [
    "top1_list, top5_list, top10_list, kendal_list, time_list, loss_list = utils.eval.eval_model(model, syn_loader, \"cpu\")\n",
    "\n",
    "top1_list = np.array(top1_list)\n",
    "top5_list = np.array(top5_list)\n",
    "top10_list = np.array(top10_list)\n",
    "kendal_list = np.array(kendal_list)\n",
    "time_list = np.array(time_list)\n",
    "\n",
    "print(\"Top1: mean={:.2f}, std={:.2f}\".format(np.mean(top1_list), np.std(top1_list)))\n",
    "print(\"Top5: mean={:.2f}, std={:.2f}\".format(np.mean(top5_list), np.std(top5_list)))\n",
    "print(\"Top10: mean={:.2f}, std={:.2f}\".format(np.mean(top10_list), np.std(top10_list)))\n",
    "print(\"Kendal: mean={:.2f}, std={:.2f}\".format(np.mean(kendal_list), np.std(kendal_list)))\n",
    "print(\"Time: mean={:.2f}, std={:.2f}\".format(np.mean(time_list), np.std(time_list)))\n",
    "\n",
    "with open(os.path.join(setting.root, \"drbc.json\".format(setting.nodes_cnt)), 'w') as f:\n",
    "    json.dump({\n",
    "        \"top1\": list(top1_list),\n",
    "        \"top5\": list(top5_list),\n",
    "        \"top10\": list(top10_list),\n",
    "        \"kendal\": list(kendal_list),\n",
    "        \"time\": list(time_list)\n",
    "    }, f)"
   ]
  },
  {
   "cell_type": "markdown",
   "id": "dirty-connecticut",
   "metadata": {},
   "source": [
    "# Youtube"
   ]
  },
  {
   "cell_type": "markdown",
   "id": "seven-blanket",
   "metadata": {},
   "source": [
    "## Kadabra"
   ]
  },
  {
   "cell_type": "code",
   "execution_count": 9,
   "id": "satisfied-amsterdam",
   "metadata": {},
   "outputs": [
    {
     "name": "stdout",
     "output_type": "stream",
     "text": [
      "Top1: mean=0.11, std=0.00\n",
      "Top5: mean=0.06, std=0.00\n",
      "Top10: mean=0.07, std=0.00\n",
      "Kendal: mean=0.06, std=0.00\n",
      "Time: mean=1.20, std=0.00\n"
     ]
    }
   ],
   "source": [
    "top1_list, top5_list, top10_list, kendal_list, time_list = utils.baseline.run_kadabra(yt, yt_score, x_sep=None, y_sep=None, usecols=1)\n",
    "\n",
    "\n",
    "top1_list = np.array(top1_list)\n",
    "top5_list = np.array(top5_list)\n",
    "top10_list = np.array(top10_list)\n",
    "kendal_list = np.array(kendal_list)\n",
    "time_list = np.array(time_list)\n",
    "\n",
    "\n",
    "print(\"Top1: mean={:.2f}, std={:.2f}\".format(np.mean(top1_list), np.std(top1_list)))\n",
    "print(\"Top5: mean={:.2f}, std={:.2f}\".format(np.mean(top5_list), np.std(top5_list)))\n",
    "print(\"Top10: mean={:.2f}, std={:.2f}\".format(np.mean(top10_list), np.std(top10_list)))\n",
    "print(\"Kendal: mean={:.2f}, std={:.2f}\".format(np.mean(kendal_list), np.std(kendal_list)))\n",
    "print(\"Time: mean={:.2f}, std={:.2f}\".format(np.mean(time_list), np.std(time_list)))\n",
    "\n",
    "\n",
    "# with open(os.path.join(setting.root, \"kadabra.json\"), 'w') as f:\n",
    "#     json.dump({\n",
    "#         \"top1\": list(top1_list),\n",
    "#         \"top5\": list(top5_list),\n",
    "#         \"top10\": list(top10_list),\n",
    "#         \"kendal\": list(kendal_list),\n",
    "#         \"time\": list(time_list)\n",
    "#     }, f)"
   ]
  },
  {
   "cell_type": "markdown",
   "id": "federal-emperor",
   "metadata": {},
   "source": [
    "## RK"
   ]
  },
  {
   "cell_type": "code",
   "execution_count": 11,
   "id": "combined-cathedral",
   "metadata": {},
   "outputs": [
    {
     "name": "stdout",
     "output_type": "stream",
     "text": [
      "Top1: mean=0.16, std=0.00\n",
      "Top5: mean=0.02, std=0.00\n",
      "Top10: mean=0.05, std=0.00\n",
      "Kendal: mean=0.03, std=0.00\n",
      "Time: mean=16.69, std=0.00\n"
     ]
    }
   ],
   "source": [
    "top1_list, top5_list, top10_list, kendal_list, time_list = utils.baseline.run_rk(yt, yt_score, x_sep=None, y_sep=None, usecols=1)\n",
    "\n",
    "\n",
    "top1_list = np.array(top1_list)\n",
    "top5_list = np.array(top5_list)\n",
    "top10_list = np.array(top10_list)\n",
    "kendal_list = np.array(kendal_list)\n",
    "time_list = np.array(time_list)\n",
    "\n",
    "\n",
    "print(\"Top1: mean={:.2f}, std={:.2f}\".format(np.mean(top1_list), np.std(top1_list)))\n",
    "print(\"Top5: mean={:.2f}, std={:.2f}\".format(np.mean(top5_list), np.std(top5_list)))\n",
    "print(\"Top10: mean={:.2f}, std={:.2f}\".format(np.mean(top10_list), np.std(top10_list)))\n",
    "print(\"Kendal: mean={:.2f}, std={:.2f}\".format(np.mean(kendal_list), np.std(kendal_list)))\n",
    "print(\"Time: mean={:.2f}, std={:.2f}\".format(np.mean(time_list), np.std(time_list)))\n",
    "\n",
    "\n",
    "# with open(os.path.join(setting.root, \"kadabra.json\"), 'w') as f:\n",
    "#     json.dump({\n",
    "#         \"top1\": list(top1_list),\n",
    "#         \"top5\": list(top5_list),\n",
    "#         \"top10\": list(top10_list),\n",
    "#         \"kendal\": list(kendal_list),\n",
    "#         \"time\": list(time_list)\n",
    "#     }, f)"
   ]
  },
  {
   "cell_type": "markdown",
   "id": "vital-leisure",
   "metadata": {},
   "source": [
    "## DrBC"
   ]
  },
  {
   "cell_type": "code",
   "execution_count": 21,
   "id": "senior-chamber",
   "metadata": {},
   "outputs": [
    {
     "name": "stderr",
     "output_type": "stream",
     "text": [
      "100%|██████████| 1/1 [01:34<00:00, 94.94s/it]"
     ]
    },
    {
     "name": "stdout",
     "output_type": "stream",
     "text": [
      "Top1: mean=0.66, std=0.00\n",
      "Top5: mean=0.21, std=0.00\n",
      "Top10: mean=0.11, std=0.00\n",
      "Kendal: mean=-0.51, std=0.00\n",
      "Time: mean=94.23, std=0.00\n",
      "Loss: mean=0.69, std=0.00\n"
     ]
    },
    {
     "name": "stderr",
     "output_type": "stream",
     "text": [
      "\n"
     ]
    }
   ],
   "source": [
    "top1_list, top5_list, top10_list, kendal_list, time_list, loss_list = utils.eval.eval_model(model, yt_loader, \"cpu\")\n",
    "\n",
    "top1_list = np.array(top1_list)\n",
    "top5_list = np.array(top5_list)\n",
    "top10_list = np.array(top10_list)\n",
    "kendal_list = np.array(kendal_list)\n",
    "time_list = np.array(time_list)\n",
    "loss_list = np.array(loss_list)\n",
    "\n",
    "\n",
    "print(\"Top1: mean={:.2f}, std={:.2f}\".format(np.mean(top1_list), np.std(top1_list)))\n",
    "print(\"Top5: mean={:.2f}, std={:.2f}\".format(np.mean(top5_list), np.std(top5_list)))\n",
    "print(\"Top10: mean={:.2f}, std={:.2f}\".format(np.mean(top10_list), np.std(top10_list)))\n",
    "print(\"Kendal: mean={:.2f}, std={:.2f}\".format(np.mean(kendal_list), np.std(kendal_list)))\n",
    "print(\"Time: mean={:.2f}, std={:.2f}\".format(np.mean(time_list), np.std(time_list)))\n",
    "print(\"Loss: mean={:.2f}, std={:.2f}\".format(np.mean(loss_list), np.std(loss_list)))"
   ]
  },
  {
   "cell_type": "markdown",
   "id": "chemical-stewart",
   "metadata": {},
   "source": [
    "## Amazon"
   ]
  },
  {
   "cell_type": "markdown",
   "id": "important-dominican",
   "metadata": {},
   "source": [
    "### Kadabra"
   ]
  },
  {
   "cell_type": "code",
   "execution_count": 23,
   "id": "forward-cologne",
   "metadata": {},
   "outputs": [
    {
     "name": "stdout",
     "output_type": "stream",
     "text": [
      "Top1: mean=0.13, std=0.00\n",
      "Top5: mean=0.09, std=0.00\n",
      "Top10: mean=0.07, std=0.00\n",
      "Kendal: mean=0.10, std=0.00\n",
      "Time: mean=7.04, std=0.00\n"
     ]
    }
   ],
   "source": [
    "top1_list, top5_list, top10_list, kendal_list, time_list = utils.baseline.run_kadabra(amazon, amazon_score, x_sep=None, y_sep=None, usecols=1)\n",
    "\n",
    "\n",
    "top1_list = np.array(top1_list)\n",
    "top5_list = np.array(top5_list)\n",
    "top10_list = np.array(top10_list)\n",
    "kendal_list = np.array(kendal_list)\n",
    "time_list = np.array(time_list)\n",
    "\n",
    "\n",
    "print(\"Top1: mean={:.2f}, std={:.2f}\".format(np.mean(top1_list), np.std(top1_list)))\n",
    "print(\"Top5: mean={:.2f}, std={:.2f}\".format(np.mean(top5_list), np.std(top5_list)))\n",
    "print(\"Top10: mean={:.2f}, std={:.2f}\".format(np.mean(top10_list), np.std(top10_list)))\n",
    "print(\"Kendal: mean={:.2f}, std={:.2f}\".format(np.mean(kendal_list), np.std(kendal_list)))\n",
    "print(\"Time: mean={:.2f}, std={:.2f}\".format(np.mean(time_list), np.std(time_list)))\n",
    "\n",
    "\n",
    "# with open(os.path.join(setting.root, \"kadabra.json\"), 'w') as f:\n",
    "#     json.dump({\n",
    "#         \"top1\": list(top1_list),\n",
    "#         \"top5\": list(top5_list),\n",
    "#         \"top10\": list(top10_list),\n",
    "#         \"kendal\": list(kendal_list),\n",
    "#         \"time\": list(time_list)\n",
    "#     }, f)"
   ]
  },
  {
   "cell_type": "markdown",
   "id": "minute-kenya",
   "metadata": {},
   "source": [
    "### RK(KPATH)"
   ]
  },
  {
   "cell_type": "code",
   "execution_count": 24,
   "id": "proof-clark",
   "metadata": {},
   "outputs": [
    {
     "name": "stdout",
     "output_type": "stream",
     "text": [
      "Top1: mean=0.33, std=0.00\n",
      "Top5: mean=0.01, std=0.00\n",
      "Top10: mean=0.01, std=0.00\n",
      "Kendal: mean=0.03, std=0.00\n",
      "Time: mean=46.36, std=0.00\n"
     ]
    }
   ],
   "source": [
    "top1_list, top5_list, top10_list, kendal_list, time_list = utils.baseline.run_rk(amazon, amazon_score, x_sep=None, y_sep=None, usecols=1)\n",
    "\n",
    "\n",
    "top1_list = np.array(top1_list)\n",
    "top5_list = np.array(top5_list)\n",
    "top10_list = np.array(top10_list)\n",
    "kendal_list = np.array(kendal_list)\n",
    "time_list = np.array(time_list)\n",
    "\n",
    "\n",
    "print(\"Top1: mean={:.2f}, std={:.2f}\".format(np.mean(top1_list), np.std(top1_list)))\n",
    "print(\"Top5: mean={:.2f}, std={:.2f}\".format(np.mean(top5_list), np.std(top5_list)))\n",
    "print(\"Top10: mean={:.2f}, std={:.2f}\".format(np.mean(top10_list), np.std(top10_list)))\n",
    "print(\"Kendal: mean={:.2f}, std={:.2f}\".format(np.mean(kendal_list), np.std(kendal_list)))\n",
    "print(\"Time: mean={:.2f}, std={:.2f}\".format(np.mean(time_list), np.std(time_list)))\n",
    "\n",
    "\n",
    "# with open(os.path.join(setting.root, \"kadabra.json\"), 'w') as f:\n",
    "#     json.dump({\n",
    "#         \"top1\": list(top1_list),\n",
    "#         \"top5\": list(top5_list),\n",
    "#         \"top10\": list(top10_list),\n",
    "#         \"kendal\": list(kendal_list),\n",
    "#         \"time\": list(time_list)\n",
    "#     }, f)"
   ]
  },
  {
   "cell_type": "markdown",
   "id": "controversial-mumbai",
   "metadata": {},
   "source": [
    "### DrBC"
   ]
  },
  {
   "cell_type": "code",
   "execution_count": 25,
   "id": "tender-surge",
   "metadata": {},
   "outputs": [
    {
     "name": "stderr",
     "output_type": "stream",
     "text": [
      "100%|██████████| 1/1 [03:15<00:00, 195.62s/it]"
     ]
    },
    {
     "name": "stdout",
     "output_type": "stream",
     "text": [
      "Top1: mean=0.80, std=0.00\n",
      "Top5: mean=0.33, std=0.00\n",
      "Top10: mean=0.17, std=0.00\n",
      "Kendal: mean=-0.44, std=0.00\n",
      "Time: mean=194.12, std=0.00\n",
      "Loss: mean=0.69, std=0.00\n"
     ]
    },
    {
     "name": "stderr",
     "output_type": "stream",
     "text": [
      "\n"
     ]
    }
   ],
   "source": [
    "top1_list, top5_list, top10_list, kendal_list, time_list, loss_list = utils.eval.eval_model(model, amazon_loader, \"cpu\")\n",
    "\n",
    "top1_list = np.array(top1_list)\n",
    "top5_list = np.array(top5_list)\n",
    "top10_list = np.array(top10_list)\n",
    "kendal_list = np.array(kendal_list)\n",
    "time_list = np.array(time_list)\n",
    "loss_list = np.array(loss_list)\n",
    "\n",
    "\n",
    "print(\"Top1: mean={:.2f}, std={:.2f}\".format(np.mean(top1_list), np.std(top1_list)))\n",
    "print(\"Top5: mean={:.2f}, std={:.2f}\".format(np.mean(top5_list), np.std(top5_list)))\n",
    "print(\"Top10: mean={:.2f}, std={:.2f}\".format(np.mean(top10_list), np.std(top10_list)))\n",
    "print(\"Kendal: mean={:.2f}, std={:.2f}\".format(np.mean(kendal_list), np.std(kendal_list)))\n",
    "print(\"Time: mean={:.2f}, std={:.2f}\".format(np.mean(time_list), np.std(time_list)))\n",
    "print(\"Loss: mean={:.2f}, std={:.2f}\".format(np.mean(loss_list), np.std(loss_list)))"
   ]
  },
  {
   "cell_type": "markdown",
   "id": "residential-finger",
   "metadata": {},
   "source": [
    "# Visualize"
   ]
  },
  {
   "cell_type": "code",
   "execution_count": 26,
   "id": "early-kuwait",
   "metadata": {},
   "outputs": [
    {
     "name": "stdout",
     "output_type": "stream",
     "text": [
      "\n",
      "top1\n",
      "RK: mean=0.25, std=0.08\n",
      "KBC: mean=0.26, std=0.07\n",
      "KADABRA: mean=0.26, std=0.08\n",
      "DrBC: mean=0.9726666666666668, std=0.01671991493864594\n",
      "\n",
      "top5\n",
      "RK: mean=0.20, std=0.03\n",
      "KBC: mean=0.23, std=0.02\n",
      "KADABRA: mean=0.23, std=0.03\n",
      "DrBC: mean=0.9622666666666666, std=0.007844035242710795\n",
      "\n",
      "top10\n",
      "RK: mean=0.21, std=0.03\n",
      "KBC: mean=0.27, std=0.02\n",
      "KADABRA: mean=0.28, std=0.02\n",
      "DrBC: mean=0.9588666666666665, std=0.006463916941160545\n",
      "\n",
      "kendal\n",
      "RK: mean=0.17, std=0.01\n",
      "KBC: mean=0.10, std=0.01\n",
      "KADABRA: mean=0.21, std=0.01\n",
      "DrBC: mean=0.8142925065013004, std=0.00890875230305532\n",
      "\n",
      "time\n",
      "RK: mean=0.04, std=0.01\n",
      "KBC: mean=6.51, std=0.17\n",
      "KADABRA: mean=0.04, std=0.00\n",
      "DrBC: mean=0.3813492218653361, std=0.022865383950550256\n"
     ]
    },
    {
     "data": {
      "image/png": "[encoded data removed]",
      "text/plain": [
       "<Figure size 1800x1800 with 5 Axes>"
      ]
     },
     "metadata": {
      "needs_background": "light"
     },
     "output_type": "display_data"
    }
   ],
   "source": [
    "with open(os.path.join(setting.root, \"kbc.json\"), \"r\") as kbc_f, \\\n",
    "    open(os.path.join(setting.root, \"kadabra.json\"), \"r\") as kadabra_f, \\\n",
    "    open(os.path.join(setting.root, \"rk.json\"), \"r\") as rk_f, \\\n",
    "    open(os.path.join(setting.root, \"drbc.json\"), \"r\") as drbc_f:\n",
    "    \n",
    "    kbc = json.load(kbc_f)\n",
    "    kadabra = json.load(kadabra_f)\n",
    "    rk = json.load(rk_f)\n",
    "    drbc = json.load(drbc_f)\n",
    "\n",
    "    keys = list(kbc.keys())\n",
    "    \n",
    "    fig, axs = plt.subplots(len(keys), figsize=(25, 5*len(keys)))\n",
    "    for index, ax in enumerate(axs):\n",
    "        key = keys[index]\n",
    "        \n",
    "        ax.boxplot([rk[key], kbc[key], kadabra[key], drbc[key]], widths=0.5)\n",
    "        ax.set_title(key)\n",
    "        ax.grid()\n",
    "        \n",
    "        ### Calculate mean and std\n",
    "        print(\"\\n{}\".format(key))\n",
    "        rk_ = np.array(rk[key])\n",
    "        print(\"RK: mean={:.2f}, std={:.2f}\".format(np.mean(rk_), np.std(rk_)))\n",
    "        \n",
    "        kbc_ = np.array(kbc[key])\n",
    "        print(\"KBC: mean={:.2f}, std={:.2f}\".format(np.mean(kbc_), np.std(kbc_)))\n",
    "        \n",
    "        kadabra_ = np.array(kadabra[key])\n",
    "        print(\"KADABRA: mean={:.2f}, std={:.2f}\".format(np.mean(kadabra_), np.std(kadabra_)))\n",
    "        \n",
    "        drbc_ = np.array(drbc[key])\n",
    "        print(\"DrBC: mean={}, std={}\".format(np.mean(drbc_), np.std(drbc_)))\n",
    "        \n",
    "    \n",
    "    plt.setp(axs,  xticklabels=['rk', 'kbc', 'kadabra', \"drbc\"])\n",
    "    plt.savefig(os.path.join(setting.root, \"synthetic_box.png\"), facecolor=\"white\")\n",
    "    \n",
    "    "
   ]
  },
  {
   "cell_type": "code",
   "execution_count": null,
   "id": "polished-metallic",
   "metadata": {},
   "outputs": [],
   "source": []
  }
 ],
 "metadata": {
  "kernelspec": {
   "display_name": "Python 3",
   "language": "python",
   "name": "python3"
  },
  "language_info": {
   "codemirror_mode": {
    "name": "ipython",
    "version": 3
   },
   "file_extension": ".py",
   "mimetype": "text/x-python",
   "name": "python",
   "nbconvert_exporter": "python",
   "pygments_lexer": "ipython3",
   "version": "3.7.9"
  }
 },
 "nbformat": 4,
 "nbformat_minor": 5
}
