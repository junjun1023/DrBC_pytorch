{
 "cells": [
  {
   "cell_type": "markdown",
   "metadata": {
    "id": "HXDHW_mjXtMp"
   },
   "source": [
    "# Mount drive"
   ]
  },
  {
   "cell_type": "code",
   "execution_count": null,
   "metadata": {
    "colab": {
     "base_uri": "https://localhost:8080/"
    },
    "executionInfo": {
     "elapsed": 20999,
     "status": "ok",
     "timestamp": 1615282633207,
     "user": {
      "displayName": "Q56094077陳香君",
      "photoUrl": "",
      "userId": "10727804849868825735"
     },
     "user_tz": -480
    },
    "id": "FvCyvU3wXU5i",
    "outputId": "1ebe457a-4d34-474b-ea70-4d9fd6765538"
   },
   "outputs": [],
   "source": [
    "# from google.colab import drive\n",
    "# drive.mount('/content/gdrive')\n",
    "\n",
    "# !ls /content/gdrive/My\\ Drive"
   ]
  },
  {
   "cell_type": "code",
   "execution_count": null,
   "metadata": {
    "id": "n7xdJXLgX6xs"
   },
   "outputs": [],
   "source": [
    "# !unzip /content/gdrive/MyDrive/Q56094077/snrs/hw1_0319/hw1_data.zip -d /content/gdrive/MyDrive/Q56094077/snrs/hw1_0319"
   ]
  },
  {
   "cell_type": "markdown",
   "metadata": {
    "id": "PNPvyQC_ZsBz"
   },
   "source": [
    "# Import Library"
   ]
  },
  {
   "cell_type": "code",
   "execution_count": 1,
   "metadata": {
    "executionInfo": {
     "elapsed": 5086,
     "status": "ok",
     "timestamp": 1615282641207,
     "user": {
      "displayName": "Q56094077陳香君",
      "photoUrl": "",
      "userId": "10727804849868825735"
     },
     "user_tz": -480
    },
    "id": "R9e-OVDBZbU_"
   },
   "outputs": [],
   "source": [
    "import os\n",
    "\n",
    "import torch\n",
    "import torch.nn as nn\n",
    "\n",
    "import pandas as pd\n",
    "import numpy as np\n",
    "import json\n",
    "\n",
    "from tqdm import tqdm\n",
    "from datetime import datetime\n",
    "import time\n",
    "from collections import deque\n",
    "import matplotlib.pyplot as plt"
   ]
  },
  {
   "cell_type": "code",
   "execution_count": 2,
   "metadata": {
    "colab": {
     "base_uri": "https://localhost:8080/",
     "height": 414
    },
    "executionInfo": {
     "elapsed": 776,
     "status": "error",
     "timestamp": 1615283001909,
     "user": {
      "displayName": "Q56094077陳香君",
      "photoUrl": "",
      "userId": "10727804849868825735"
     },
     "user_tz": -480
    },
    "id": "jUN8f3VP4u9D",
    "outputId": "9e4523ef-8226-4980-c086-f15bf7f0a33a"
   },
   "outputs": [],
   "source": [
    "import torch_geometric\n",
    "from torch_geometric.data import Data, DataLoader\n",
    "import torch_geometric.utils as utils"
   ]
  },
  {
   "cell_type": "code",
   "execution_count": 3,
   "metadata": {},
   "outputs": [
    {
     "data": {
      "text/html": [
       "\n",
       "\t\t\t<script type=\"text/javascript\">\n",
       "\t\t\t<!--\n",
       "\t\t\t\t\n",
       "\t\t\t{\n",
       "\t\t\t\tvar element = document.getElementById('NetworKit_script');\n",
       "\t\t\t\tif (element) {\n",
       "\t\t\t\t\telement.parentNode.removeChild(element);\n",
       "\t\t\t\t}\n",
       "\t\t\t\telement = document.createElement('script');\n",
       "\t\t\t\telement.type = 'text/javascript';\n",
       "\t\t\t\telement.innerHTML = 'function NetworKit_pageEmbed(id) { var i, j; var elements; elements = document.getElementById(id).getElementsByClassName(\"Plot\"); for (i=0; i<elements.length; i++) { elements[i].id = id + \"_Plot_\" + i; var data = elements[i].getAttribute(\"data-image\").split(\"|\"); elements[i].removeAttribute(\"data-image\"); var content = \"<div class=\\\\\"Image\\\\\" id=\\\\\"\" + elements[i].id + \"_Image\\\\\" />\"; elements[i].innerHTML = content; elements[i].setAttribute(\"data-image-index\", 0); elements[i].setAttribute(\"data-image-length\", data.length); for (j=0; j<data.length; j++) { elements[i].setAttribute(\"data-image-\" + j, data[j]); } NetworKit_plotUpdate(elements[i]); elements[i].onclick = function (e) { NetworKit_overlayShow((e.target) ? e.target : e.srcElement); } } elements = document.getElementById(id).getElementsByClassName(\"HeatCell\"); for (i=0; i<elements.length; i++) { var data = parseFloat(elements[i].getAttribute(\"data-heat\")); var color = \"#00FF00\"; if (data <= 1 && data > 0) { color = \"hsla(0, 100%, 75%, \" + (data) + \")\"; } else if (data <= 0 && data >= -1) { color = \"hsla(240, 100%, 75%, \" + (-data) + \")\"; } elements[i].style.backgroundColor = color; } elements = document.getElementById(id).getElementsByClassName(\"Details\"); for (i=0; i<elements.length; i++) { elements[i].setAttribute(\"data-title\", \"-\"); NetworKit_toggleDetails(elements[i]); elements[i].onclick = function (e) { NetworKit_toggleDetails((e.target) ? e.target : e.srcElement); } } elements = document.getElementById(id).getElementsByClassName(\"MathValue\"); for (i=elements.length-1; i>=0; i--) { value = elements[i].innerHTML.trim(); if (value === \"nan\") { elements[i].parentNode.innerHTML = \"\" } } elements = document.getElementById(id).getElementsByClassName(\"SubCategory\"); for (i=elements.length-1; i>=0; i--) { value = elements[i].innerHTML.trim(); if (value === \"\") { elements[i].parentNode.removeChild(elements[i]) } } elements = document.getElementById(id).getElementsByClassName(\"Category\"); for (i=elements.length-1; i>=0; i--) { value = elements[i].innerHTML.trim(); if (value === \"\") { elements[i].parentNode.removeChild(elements[i]) } } var isFirefox = false; try { isFirefox = typeof InstallTrigger !== \"undefined\"; } catch (e) {} if (!isFirefox) { alert(\"Currently the function\\'s output is only fully supported by Firefox.\"); } } function NetworKit_plotUpdate(source) { var index = source.getAttribute(\"data-image-index\"); var data = source.getAttribute(\"data-image-\" + index); var image = document.getElementById(source.id + \"_Image\"); image.style.backgroundImage = \"url(\" + data + \")\"; } function NetworKit_showElement(id, show) { var element = document.getElementById(id); element.style.display = (show) ? \"block\" : \"none\"; } function NetworKit_overlayShow(source) { NetworKit_overlayUpdate(source); NetworKit_showElement(\"NetworKit_Overlay\", true); } function NetworKit_overlayUpdate(source) { document.getElementById(\"NetworKit_Overlay_Title\").innerHTML = source.title; var index = source.getAttribute(\"data-image-index\"); var data = source.getAttribute(\"data-image-\" + index); var image = document.getElementById(\"NetworKit_Overlay_Image\"); image.setAttribute(\"data-id\", source.id); image.style.backgroundImage = \"url(\" + data + \")\"; var link = document.getElementById(\"NetworKit_Overlay_Toolbar_Bottom_Save\"); link.href = data; link.download = source.title + \".svg\"; } function NetworKit_overlayImageShift(delta) { var image = document.getElementById(\"NetworKit_Overlay_Image\"); var source = document.getElementById(image.getAttribute(\"data-id\")); var index = parseInt(source.getAttribute(\"data-image-index\")); var length = parseInt(source.getAttribute(\"data-image-length\")); var index = (index+delta) % length; if (index < 0) { index = length + index; } source.setAttribute(\"data-image-index\", index); NetworKit_overlayUpdate(source); } function NetworKit_toggleDetails(source) { var childs = source.children; var show = false; if (source.getAttribute(\"data-title\") == \"-\") { source.setAttribute(\"data-title\", \"+\"); show = false; } else { source.setAttribute(\"data-title\", \"-\"); show = true; } for (i=0; i<childs.length; i++) { if (show) { childs[i].style.display = \"block\"; } else { childs[i].style.display = \"none\"; } } }';\n",
       "\t\t\t\telement.setAttribute('id', 'NetworKit_script');\n",
       "\t\t\t\tdocument.head.appendChild(element);\n",
       "\t\t\t}\n",
       "\t\t\n",
       "\t\t\t\t\n",
       "\t\t\t{\n",
       "\t\t\t\tvar element = document.getElementById('NetworKit_style');\n",
       "\t\t\t\tif (element) {\n",
       "\t\t\t\t\telement.parentNode.removeChild(element);\n",
       "\t\t\t\t}\n",
       "\t\t\t\telement = document.createElement('style');\n",
       "\t\t\t\telement.type = 'text/css';\n",
       "\t\t\t\telement.innerHTML = '.NetworKit_Page { font-family: Arial, Helvetica, sans-serif; font-size: 14px; } .NetworKit_Page .Value:before { font-family: Arial, Helvetica, sans-serif; font-size: 1.05em; content: attr(data-title) \":\"; margin-left: -2.5em; padding-right: 0.5em; } .NetworKit_Page .Details .Value:before { display: block; } .NetworKit_Page .Value { font-family: monospace; white-space: pre; padding-left: 2.5em; white-space: -moz-pre-wrap !important; white-space: -pre-wrap; white-space: -o-pre-wrap; white-space: pre-wrap; word-wrap: break-word; tab-size: 4; -moz-tab-size: 4; } .NetworKit_Page .Category { clear: both; padding-left: 1em; margin-bottom: 1.5em; } .NetworKit_Page .Category:before { content: attr(data-title); font-size: 1.75em; display: block; margin-left: -0.8em; margin-bottom: 0.5em; } .NetworKit_Page .SubCategory { margin-bottom: 1.5em; padding-left: 1em; } .NetworKit_Page .SubCategory:before { font-size: 1.6em; display: block; margin-left: -0.8em; margin-bottom: 0.5em; } .NetworKit_Page .SubCategory[data-title]:before { content: attr(data-title); } .NetworKit_Page .Block { display: block; } .NetworKit_Page .Block:after { content: \".\"; visibility: hidden; display: block; height: 0; clear: both; } .NetworKit_Page .Block .Thumbnail_Overview, .NetworKit_Page .Block .Thumbnail_ScatterPlot { width: 260px; float: left; } .NetworKit_Page .Block .Thumbnail_Overview img, .NetworKit_Page .Block .Thumbnail_ScatterPlot img { width: 260px; } .NetworKit_Page .Block .Thumbnail_Overview:before, .NetworKit_Page .Block .Thumbnail_ScatterPlot:before { display: block; text-align: center; font-weight: bold; } .NetworKit_Page .Block .Thumbnail_Overview:before { content: attr(data-title); } .NetworKit_Page .HeatCell { font-family: \"Courier New\", Courier, monospace; cursor: pointer; } .NetworKit_Page .HeatCell, .NetworKit_Page .HeatCellName { display: inline; padding: 0.1em; margin-right: 2px; background-color: #FFFFFF } .NetworKit_Page .HeatCellName { margin-left: 0.25em; } .NetworKit_Page .HeatCell:before { content: attr(data-heat); display: inline-block; color: #000000; width: 4em; text-align: center; } .NetworKit_Page .Measure { clear: both; } .NetworKit_Page .Measure .Details { cursor: pointer; } .NetworKit_Page .Measure .Details:before { content: \"[\" attr(data-title) \"]\"; display: block; } .NetworKit_Page .Measure .Details .Value { border-left: 1px dotted black; margin-left: 0.4em; padding-left: 3.5em; pointer-events: none; } .NetworKit_Page .Measure .Details .Spacer:before { content: \".\"; opacity: 0.0; pointer-events: none; } .NetworKit_Page .Measure .Plot { width: 440px; height: 440px; cursor: pointer; float: left; margin-left: -0.9em; margin-right: 20px; } .NetworKit_Page .Measure .Plot .Image { background-repeat: no-repeat; background-position: center center; background-size: contain; height: 100%; pointer-events: none; } .NetworKit_Page .Measure .Stat { width: 500px; float: left; } .NetworKit_Page .Measure .Stat .Group { padding-left: 1.25em; margin-bottom: 0.75em; } .NetworKit_Page .Measure .Stat .Group .Title { font-size: 1.1em; display: block; margin-bottom: 0.3em; margin-left: -0.75em; border-right-style: dotted; border-right-width: 1px; border-bottom-style: dotted; border-bottom-width: 1px; background-color: #D0D0D0; padding-left: 0.2em; } .NetworKit_Page .Measure .Stat .Group .List { -webkit-column-count: 3; -moz-column-count: 3; column-count: 3; } .NetworKit_Page .Measure .Stat .Group .List .Entry { position: relative; line-height: 1.75em; } .NetworKit_Page .Measure .Stat .Group .List .Entry[data-tooltip]:before { position: absolute; left: 0; top: -40px; background-color: #808080; color: #ffffff; height: 30px; line-height: 30px; border-radius: 5px; padding: 0 15px; content: attr(data-tooltip); white-space: nowrap; display: none; } .NetworKit_Page .Measure .Stat .Group .List .Entry[data-tooltip]:after { position: absolute; left: 15px; top: -10px; border-top: 7px solid #808080; border-left: 7px solid transparent; border-right: 7px solid transparent; content: \"\"; display: none; } .NetworKit_Page .Measure .Stat .Group .List .Entry[data-tooltip]:hover:after, .NetworKit_Page .Measure .Stat .Group .List .Entry[data-tooltip]:hover:before { display: block; } .NetworKit_Page .Measure .Stat .Group .List .Entry .MathValue { font-family: \"Courier New\", Courier, monospace; } .NetworKit_Page .Measure:after { content: \".\"; visibility: hidden; display: block; height: 0; clear: both; } .NetworKit_Page .PartitionPie { clear: both; } .NetworKit_Page .PartitionPie img { width: 600px; } #NetworKit_Overlay { left: 0px; top: 0px; display: none; position: absolute; width: 100%; height: 100%; background-color: rgba(0,0,0,0.6); z-index: 1000; } #NetworKit_Overlay_Title { position: absolute; color: white; transform: rotate(-90deg); width: 32em; height: 32em; padding-right: 0.5em; padding-top: 0.5em; text-align: right; font-size: 40px; } #NetworKit_Overlay .button { background: white; cursor: pointer; } #NetworKit_Overlay .button:before { size: 13px; display: inline-block; text-align: center; margin-top: 0.5em; margin-bottom: 0.5em; width: 1.5em; height: 1.5em; } #NetworKit_Overlay .icon-close:before { content: \"X\"; } #NetworKit_Overlay .icon-previous:before { content: \"P\"; } #NetworKit_Overlay .icon-next:before { content: \"N\"; } #NetworKit_Overlay .icon-save:before { content: \"S\"; } #NetworKit_Overlay_Toolbar_Top, #NetworKit_Overlay_Toolbar_Bottom { position: absolute; width: 40px; right: 13px; text-align: right; z-index: 1100; } #NetworKit_Overlay_Toolbar_Top { top: 0.5em; } #NetworKit_Overlay_Toolbar_Bottom { Bottom: 0.5em; } #NetworKit_Overlay_ImageContainer { position: absolute; top: 5%; left: 5%; height: 90%; width: 90%; background-repeat: no-repeat; background-position: center center; background-size: contain; } #NetworKit_Overlay_Image { height: 100%; width: 100%; background-repeat: no-repeat; background-position: center center; background-size: contain; }';\n",
       "\t\t\t\telement.setAttribute('id', 'NetworKit_style');\n",
       "\t\t\t\tdocument.head.appendChild(element);\n",
       "\t\t\t}\n",
       "\t\t\n",
       "\t\t\t\t\n",
       "\t\t\t{\n",
       "\t\t\t\tvar element = document.getElementById('NetworKit_Overlay');\n",
       "\t\t\t\tif (element) {\n",
       "\t\t\t\t\telement.parentNode.removeChild(element);\n",
       "\t\t\t\t}\n",
       "\t\t\t\telement = document.createElement('div');\n",
       "\t\t\t\telement.innerHTML = '<div id=\"NetworKit_Overlay_Toolbar_Top\"><div class=\"button icon-close\" id=\"NetworKit_Overlay_Close\" /></div><div id=\"NetworKit_Overlay_Title\" /> <div id=\"NetworKit_Overlay_ImageContainer\"> <div id=\"NetworKit_Overlay_Image\" /> </div> <div id=\"NetworKit_Overlay_Toolbar_Bottom\"> <div class=\"button icon-previous\" onclick=\"NetworKit_overlayImageShift(-1)\" /> <div class=\"button icon-next\" onclick=\"NetworKit_overlayImageShift(1)\" /> <a id=\"NetworKit_Overlay_Toolbar_Bottom_Save\"><div class=\"button icon-save\" /></a> </div>';\n",
       "\t\t\t\telement.setAttribute('id', 'NetworKit_Overlay');\n",
       "\t\t\t\tdocument.body.appendChild(element);\n",
       "\t\t\t\tdocument.getElementById('NetworKit_Overlay_Close').onclick = function (e) {\n",
       "\t\t\t\t\tdocument.getElementById('NetworKit_Overlay').style.display = 'none';\n",
       "\t\t\t\t}\n",
       "\t\t\t}\n",
       "\t\t\n",
       "\t\t\t-->\n",
       "\t\t\t</script>\n",
       "\t\t"
      ]
     },
     "metadata": {},
     "output_type": "display_data"
    }
   ],
   "source": [
    "import networkit as nk\n",
    "import networkx as nx"
   ]
  },
  {
   "cell_type": "markdown",
   "metadata": {},
   "source": [
    "# Setting"
   ]
  },
  {
   "cell_type": "code",
   "execution_count": 30,
   "metadata": {},
   "outputs": [],
   "source": [
    "class Setting:\n",
    "    _root = os.getcwd()\n",
    "\n",
    "    _data = os.path.join(_root, \"hw1_data\")\n",
    "\n",
    "    data_synthetic = os.path.join(_data, \"Synthetic\", \"5000\")\n",
    "    data_youtube = os.path.join(_data, \"Real\", \"youtube\")\n",
    "    data_amazon = os.path.join(_data, \"Real\", \"amazon\")\n",
    "    data_dblp = os.path.join(_data, \"Real\", \"dblp\")\n",
    "    data_comlj = os.path.join(_data, \"Real\", \"com-lj\")\n",
    "    \n",
    "    data_train = os.path.join(_data, \"train\")\n",
    "    data_valid = os.path.join(_data, \"valid\")\n",
    "    \n",
    "    ### Data split\n",
    "    data_split = os.path.join(_root, \"split.json\")\n",
    "\n",
    "    # Setting of training\n",
    "    device = torch.device(\"cuda:1\" if torch.cuda.is_available() else \"cpu\")\n",
    "\n",
    "    epochs = 500\n",
    "    nodes_cnt = 5000\n",
    "    \n",
    "    params_drbc = dict(\n",
    "        # according to source paper\n",
    "        encoder_params = dict(\n",
    "            c = 3,\n",
    "            p = 128,\n",
    "            num_layers = 5,\n",
    "            device = device\n",
    "        ),\n",
    "        decoder_params = dict(\n",
    "            p = 128,\n",
    "            q = 64\n",
    "        )\n",
    "    )\n",
    "    \n",
    "    params_node2vec = dict(\n",
    "        in_features = 128\n",
    "    )\n",
    "\n",
    "    def __init__(self, d_name):\n",
    "        # Create dir for train/test\n",
    "\n",
    "        self.root = os.path.join(self._root, \"result\", \"scales\", d_name)\n",
    "        if os.path.exists(self.root):\n",
    "            pass\n",
    "        else:\n",
    "            os.makedirs(self.root)\n",
    "\n",
    "        ### Save plt info\n",
    "        self.train_info_p = os.path.join(self.root, \"train.json\")\n",
    "        self.val_info_p = os.path.join(self.root, \"valid.json\")\n",
    "\n",
    "        ### Save plt img\n",
    "        self.result_plt_p = os.path.join(self.root, \"train_plt.png\")\n",
    "        \n",
    "#         self.weight_node2vec = os.path.join(self.root, \"node2vec.pth\")\n",
    "        self.weight_drbc = os.path.join(self.root, \"drbc.pth\")"
   ]
  },
  {
   "cell_type": "code",
   "execution_count": 31,
   "metadata": {},
   "outputs": [],
   "source": [
    "# date_time = datetime.strftime(datetime.now(), \"%Y-%m-%d %H-%M\")\n",
    "date_time = \"2021-03-23 00-55\""
   ]
  },
  {
   "cell_type": "code",
   "execution_count": 32,
   "metadata": {},
   "outputs": [],
   "source": [
    "setting = Setting(d_name=date_time)"
   ]
  },
  {
   "cell_type": "code",
   "execution_count": 33,
   "metadata": {},
   "outputs": [
    {
     "data": {
      "text/plain": [
       "'/home/ai2019/ne6081064/june/mlg/snrs_hw1/result/scales/2021-03-23 00-55'"
      ]
     },
     "execution_count": 33,
     "metadata": {},
     "output_type": "execute_result"
    }
   ],
   "source": [
    "setting.root"
   ]
  },
  {
   "cell_type": "markdown",
   "metadata": {
    "id": "RZdiko1lmiJy"
   },
   "source": [
    "# Data"
   ]
  },
  {
   "cell_type": "markdown",
   "metadata": {
    "id": "gU4XwwAu_WkR"
   },
   "source": [
    "- data.x\t节点特征，维度是[num_nodes, num_node_features]。\n",
    "- data.edge_index\t维度是[2, num_edges]，描述图中节点的关联关系，每一列对应的两个元素，分别是边的起点和重点。数据类型是torch.long。需要注意的是，data.edge_index是定义边的节点的张量（tensor），而不是节点的列表（list）。\n",
    "- data.edge_attr\t边的特征矩阵，维度是[num_edges, num_edge_features]\n",
    "- data.y\t训练目标（维度可以是任意的）。对于节点相关的任务，维度为[num_nodes, *]；对于图相关的任务，维度为[1,*]。\n",
    "- data.position\t节点位置矩阵（Node position matrix），维度为[num_nodes, num_dimensions]。"
   ]
  },
  {
   "cell_type": "markdown",
   "metadata": {
    "id": "um9C8SFO_2Tx"
   },
   "source": [
    "- [Learning to Identify High Betweenness Centrality Nodes from\n",
    "Scratch: A Novel Graph Neural Network Approach](https://arxiv.org/pdf/1905.10418.pdf)\n",
    "- node initial feature = [$(d_v), 1, 1]"
   ]
  },
  {
   "cell_type": "markdown",
   "metadata": {},
   "source": [
    "## Functions"
   ]
  },
  {
   "cell_type": "markdown",
   "metadata": {},
   "source": [
    "### Load all data"
   ]
  },
  {
   "cell_type": "code",
   "execution_count": 10,
   "metadata": {
    "colab": {
     "base_uri": "https://localhost:8080/"
    },
    "executionInfo": {
     "elapsed": 5918,
     "status": "ok",
     "timestamp": 1615282793119,
     "user": {
      "displayName": "Q56094077陳香君",
      "photoUrl": "",
      "userId": "10727804849868825735"
     },
     "user_tz": -480
    },
    "id": "cxWp5RNpm1uL",
    "outputId": "4cf7bf3b-d143-4b96-eebb-2cd9c1b0f408"
   },
   "outputs": [],
   "source": [
    "def load_data(path):\n",
    "\n",
    "    edge_index = []\n",
    "    between = []\n",
    "    for f in os.listdir(path):\n",
    "        if \"score\" in f:\n",
    "            pass\n",
    "        else:\n",
    "            p = os.path.join(path, f)\n",
    "            edge_index.append(p)\n",
    "            \n",
    "            # get filename without extension\n",
    "            f = os.path.splitext(f)[0]\n",
    "            p = os.path.join(path, \"{}_score.txt\".format(f))\n",
    "            between.append(p)\n",
    "    \n",
    "    return edge_index, between"
   ]
  },
  {
   "cell_type": "markdown",
   "metadata": {},
   "source": [
    "### Split Data"
   ]
  },
  {
   "cell_type": "code",
   "execution_count": 11,
   "metadata": {},
   "outputs": [],
   "source": [
    "from sklearn.model_selection import train_test_split\n",
    "\n",
    "\n",
    "def split_data(path, x, y, replace=False):\n",
    "    if os.path.exists(path) and replace:\n",
    "        pass\n",
    "    else:\n",
    "        X_train, X_test, y_train, y_test = train_test_split(x, y, test_size=0.2)\n",
    "        X_train, X_valid, y_train, y_valid = train_test_split(X_train, y_train, test_size=0.15)\n",
    "\n",
    "        split = {\n",
    "            \"X_train\": X_train,\n",
    "            \"X_valid\": X_valid,\n",
    "            \"X_test\": X_test,\n",
    "            \"y_train\": y_train,\n",
    "            \"y_valid\": y_valid,\n",
    "            \"y_test\": y_test\n",
    "        }\n",
    "\n",
    "        with open(path, 'w') as f:\n",
    "            json.dump(split, f)"
   ]
  },
  {
   "cell_type": "markdown",
   "metadata": {},
   "source": [
    "### Cvt 2 Data"
   ]
  },
  {
   "cell_type": "code",
   "execution_count": 12,
   "metadata": {},
   "outputs": [],
   "source": [
    "def to_data(x, y=None, x_sep=None, y_sep=None, usecols=None):\n",
    "    \n",
    "    if x_sep is not None:\n",
    "        edge_index = torch_geometric.io.read_txt_array(x, dtype=torch.long, sep=x_sep)\n",
    "    else:\n",
    "        edge_index = torch_geometric.io.read_txt_array(x, dtype=torch.long)\n",
    "    edge_index = edge_index.t().contiguous()\n",
    "    edge_index = utils.to_undirected(edge_index)\n",
    "\n",
    "    row, col = edge_index  \n",
    "    deg = utils.degree(col) # must use col to get degree, why?\n",
    "    deg = deg.numpy()  \n",
    "\n",
    "    vertice = []\n",
    "    for d in deg:\n",
    "        vertice.append([d, 1, 1])\n",
    "    vertice = np.array(vertice, dtype=np.float)\n",
    "    vertice = torch.from_numpy(vertice)\n",
    "\n",
    "    if y is not None:\n",
    "        ### between centrality\n",
    "        bc = np.loadtxt(y, delimiter=y_sep, usecols=usecols)\n",
    "        bc = np.reshape(bc, (-1, 1))\n",
    "        bc = torch.from_numpy(bc)\n",
    "\n",
    "        data = Data(x=vertice, edge_index=edge_index, y=bc)\n",
    "        \n",
    "    else:\n",
    "        data = Data(x=vertice, edge_index=edge_index)\n",
    "    \n",
    "    return data"
   ]
  },
  {
   "cell_type": "markdown",
   "metadata": {},
   "source": [
    "### Cvt 2 dataloader"
   ]
  },
  {
   "cell_type": "code",
   "execution_count": 13,
   "metadata": {
    "colab": {
     "base_uri": "https://localhost:8080/",
     "height": 246
    },
    "executionInfo": {
     "elapsed": 893,
     "status": "error",
     "timestamp": 1615282795672,
     "user": {
      "displayName": "Q56094077陳香君",
      "photoUrl": "",
      "userId": "10727804849868825735"
     },
     "user_tz": -480
    },
    "id": "GJrGQmiUxRGX",
    "outputId": "81d8b6cb-5008-47d8-baf4-1156d70e07fc"
   },
   "outputs": [],
   "source": [
    "def to_dataloader(x, y, batch, y_sep=None, usecols=None):\n",
    "    \n",
    "    data_list = []\n",
    "    for x_, y_ in zip(x, y):\n",
    "        data = to_data(x_, y_, y_sep=y_sep, usecols=usecols)\n",
    "        data_list.append(data)\n",
    "\n",
    "    loader = DataLoader(data_list, batch_size=batch)\n",
    "    return loader"
   ]
  },
  {
   "cell_type": "markdown",
   "metadata": {},
   "source": [
    "### Cvt nx.Graph 2 PyG.Data"
   ]
  },
  {
   "cell_type": "code",
   "execution_count": 14,
   "metadata": {},
   "outputs": [],
   "source": [
    "def from_networkx(G, between_list=None):\n",
    "    r\"\"\"Converts a :obj:`networkx.Graph` or :obj:`networkx.DiGraph` to a\n",
    "    :class:`torch_geometric.data.Data` instance.\n",
    "\n",
    "    Args:\n",
    "        G (networkx.Graph or networkx.DiGraph): A networkx graph.\n",
    "    \"\"\"\n",
    "\n",
    "    G = nx.convert_node_labels_to_integers(G)\n",
    "    G = G.to_directed() if not nx.is_directed(G) else G\n",
    "    edge_index = torch.LongTensor(list(G.edges)).t().contiguous()\n",
    "   \n",
    "    data = {}\n",
    "\n",
    "    for i, (_, feat_dict) in enumerate(G.nodes(data=True)):\n",
    "        for key, value in feat_dict.items():\n",
    "           \n",
    "            data[str(key)] = [value] if i == 0 else data[str(key)] + [value]\n",
    "\n",
    "    for i, (_, _, feat_dict) in enumerate(G.edges(data=True)):\n",
    "        for key, value in feat_dict.items():\n",
    "            data[str(key)] = [value] if i == 0 else data[str(key)] + [value]\n",
    "\n",
    "    for key, item in data.items():\n",
    "        try:\n",
    "            data[key] = torch.tensor(item)\n",
    "        except ValueError:\n",
    "            pass\n",
    "\n",
    "    data['edge_index'] = edge_index.view(2, -1)\n",
    "    data['x'] = torch.from_numpy(\n",
    "        np.array( [ [G.degree[i], 1, 1] for i in G.nodes()], dtype=np.float ) )\n",
    "    \n",
    "    if between_list is not None:\n",
    "        data['y'] = torch.from_numpy(\n",
    "            np.array( [ [b] for b in between_list ] , dtype=np.float) )\n",
    "    data = torch_geometric.data.Data.from_dict(data)\n",
    "    data.num_nodes = G.number_of_nodes()\n",
    "\n",
    "    return data"
   ]
  },
  {
   "cell_type": "markdown",
   "metadata": {},
   "source": [
    "### Randomly generate nx.Graph"
   ]
  },
  {
   "cell_type": "code",
   "execution_count": 15,
   "metadata": {},
   "outputs": [],
   "source": [
    "def generate_nx_graph(nodes_cnt):\n",
    "    # Draw network G from distribution D (like the power-law model)\n",
    "    G = nx.generators.random_graphs.powerlaw_cluster_graph(n=nodes_cnt, m=4, p=0.05)\n",
    "    # Calculate each node’s exact BC value bv, ∀v ∈ V\n",
    "    betweenness = nx.algorithms.centrality.betweenness_centrality(G)\n",
    "    \n",
    "    # Convert betweenness dict to list\n",
    "    between_list = [v for k, v in sorted(betweenness.items(), key=lambda  item: int(item[0]), reverse=False)]\n",
    "    bc_gt = torch.from_numpy(np.array(between_list))\n",
    "    \n",
    "    return G, bc_gt"
   ]
  },
  {
   "cell_type": "markdown",
   "metadata": {},
   "source": [
    "#### Generate 10,000 for train"
   ]
  },
  {
   "cell_type": "code",
   "execution_count": null,
   "metadata": {},
   "outputs": [],
   "source": [
    "nodes_cnt = setting.nodes_cnt"
   ]
  },
  {
   "cell_type": "code",
   "execution_count": null,
   "metadata": {},
   "outputs": [],
   "source": [
    "train_dir = os.path.join(setting._data, \"train\", str(nodes_cnt))\n",
    "if os.path.exists(train_dir):\n",
    "    pass\n",
    "else:\n",
    "    os.makedirs(train_dir)"
   ]
  },
  {
   "cell_type": "code",
   "execution_count": null,
   "metadata": {},
   "outputs": [],
   "source": [
    "for i in range(10000):\n",
    "    G, bc_gt = generate_nx_graph(nodes_cnt)\n",
    "    edge_f = open(os.path.join(train_dir, \"{}.txt\".format(i)), \"wb\")\n",
    "    nx.readwrite.edgelist.write_edgelist(G, edge_f, data=False)\n",
    "    \n",
    "    bc_gt = bc_gt.numpy()\n",
    "    np.savetxt(os.path.join(train_dir, \"{}_score.txt\".format(i)), bc_gt, fmt=\"%.20f\")"
   ]
  },
  {
   "cell_type": "markdown",
   "metadata": {},
   "source": [
    "#### Generate 100 for validation"
   ]
  },
  {
   "cell_type": "code",
   "execution_count": null,
   "metadata": {},
   "outputs": [],
   "source": [
    "valid_dir = os.path.join(setting._data, \"valid\", str(nodes_cnt))\n",
    "if os.path.exists(valid_dir):\n",
    "    pass\n",
    "else:\n",
    "    os.makedirs(valid_dir)"
   ]
  },
  {
   "cell_type": "code",
   "execution_count": null,
   "metadata": {},
   "outputs": [],
   "source": [
    "for i in range(100):\n",
    "    G, bc_gt = generate_nx_graph(nodes_cnt)\n",
    "    edge_f = open(os.path.join(valid_dir, \"{}.txt\".format(i)), \"wb\")\n",
    "    nx.readwrite.edgelist.write_edgelist(G, edge_f, data=False)\n",
    "    \n",
    "    bc_gt = bc_gt.numpy()\n",
    "    np.savetxt(os.path.join(valid_dir, \"{}_score.txt\".format(i)), bc_gt, fmt=\"%.20f\")"
   ]
  },
  {
   "cell_type": "markdown",
   "metadata": {},
   "source": [
    "## Read data"
   ]
  },
  {
   "cell_type": "markdown",
   "metadata": {},
   "source": [
    "### Load test data"
   ]
  },
  {
   "cell_type": "code",
   "execution_count": 34,
   "metadata": {},
   "outputs": [],
   "source": [
    "synthetic, between = load_data(Setting.data_synthetic)\n",
    "yt, yt_score = load_data(Setting.data_youtube)\n",
    "amazon, amazon_score = load_data(Setting.data_amazon)\n",
    "dblp, dblp_score = load_data(Setting.data_dblp)\n",
    "comlj, comlj_score = load_data(Setting.data_comlj)"
   ]
  },
  {
   "cell_type": "code",
   "execution_count": 14,
   "metadata": {},
   "outputs": [],
   "source": [
    "train, train_bet = load_data(os.path.join(Setting.data_train, str(Setting.nodes_cnt)))"
   ]
  },
  {
   "cell_type": "code",
   "execution_count": 15,
   "metadata": {},
   "outputs": [],
   "source": [
    "valid, valid_bet = load_data(os.path.join(Setting.data_valid, str(Setting.nodes_cnt)))"
   ]
  },
  {
   "cell_type": "markdown",
   "metadata": {},
   "source": [
    "### Cvt to data/dataloader"
   ]
  },
  {
   "cell_type": "code",
   "execution_count": 16,
   "metadata": {},
   "outputs": [],
   "source": [
    "train_loader = to_dataloader(train, train_bet, batch=16)\n",
    "valid_loader = to_dataloader(valid, valid_bet, batch=16)"
   ]
  },
  {
   "cell_type": "code",
   "execution_count": 35,
   "metadata": {},
   "outputs": [],
   "source": [
    "syn_loader = to_dataloader(synthetic, between, batch=1, usecols=1)"
   ]
  },
  {
   "cell_type": "code",
   "execution_count": 36,
   "metadata": {},
   "outputs": [],
   "source": [
    "yt_loader = to_dataloader(yt, yt_score, batch=1, y_sep=\":\", usecols=1)"
   ]
  },
  {
   "cell_type": "code",
   "execution_count": 37,
   "metadata": {},
   "outputs": [],
   "source": [
    "amazon_loader = to_dataloader(amazon, amazon_score, batch=1, y_sep=\":\", usecols=1)"
   ]
  },
  {
   "cell_type": "code",
   "execution_count": 38,
   "metadata": {},
   "outputs": [],
   "source": [
    "dblp_loader = to_dataloader(dblp, dblp_score, batch=1, y_sep=\":\", usecols=1)"
   ]
  },
  {
   "cell_type": "code",
   "execution_count": 39,
   "metadata": {},
   "outputs": [],
   "source": [
    "comlj_loader = to_dataloader(comlj, comlj_score, batch=1, y_sep=\":\", usecols=1)"
   ]
  },
  {
   "cell_type": "markdown",
   "metadata": {
    "id": "Jh1T_INgi8Ql"
   },
   "source": [
    "# Model"
   ]
  },
  {
   "cell_type": "markdown",
   "metadata": {},
   "source": [
    "## Hyper params"
   ]
  },
  {
   "cell_type": "code",
   "execution_count": 19,
   "metadata": {},
   "outputs": [],
   "source": [
    "setting.params_drbc = dict(\n",
    "    # according to source paper\n",
    "    encoder_params = dict(\n",
    "        c = 3,\n",
    "        p = 128,\n",
    "        num_layers = 5,\n",
    "        device = setting.device\n",
    "    ),\n",
    "    decoder_params = dict(\n",
    "        p = 128,\n",
    "        q = 64\n",
    "    )\n",
    ")\n",
    "\n",
    "setting.params_node2vec = dict(\n",
    "    in_features = 128\n",
    ")"
   ]
  },
  {
   "cell_type": "markdown",
   "metadata": {},
   "source": [
    "## DrBC"
   ]
  },
  {
   "cell_type": "code",
   "execution_count": 40,
   "metadata": {
    "id": "gcEf-tUaqDVa"
   },
   "outputs": [],
   "source": [
    "from torch_geometric.nn import MessagePassing\n",
    "import torch.nn.functional as F\n",
    "from torch_geometric.typing import Adj, OptTensor"
   ]
  },
  {
   "cell_type": "code",
   "execution_count": 41,
   "metadata": {
    "colab": {
     "base_uri": "https://localhost:8080/",
     "height": 135
    },
    "executionInfo": {
     "elapsed": 661,
     "status": "error",
     "timestamp": 1615203940879,
     "user": {
      "displayName": "Q56094077陳香君",
      "photoUrl": "",
      "userId": "10727804849868825735"
     },
     "user_tz": -480
    },
    "id": "P5EzKoYr7SGL",
    "outputId": "5504fb67-0455-4af0-a697-930410895a70"
   },
   "outputs": [],
   "source": [
    "class Encoder(MessagePassing):\n",
    "    def __init__(self, c, p, num_layers, device, aggr=\"add\"):\n",
    "        super(Encoder, self).__init__(aggr=aggr)\n",
    "        \n",
    "        self.num_layers = num_layers\n",
    "        self.w_0 = nn.Linear(in_features=c, out_features=p).double()\n",
    "        \n",
    "        self.relu = nn.ReLU(inplace=True)\n",
    "        self.rnn = nn.GRUCell(p, p).double()\n",
    "\n",
    "        self.device = device\n",
    "\n",
    "    def forward(self, data):\n",
    "        \n",
    "        x, edge_index = data.x, data.edge_index\n",
    "        \n",
    "        \n",
    "        # compute dgree\n",
    "        row, col = edge_index\n",
    "        deg = utils.degree(col)\n",
    "        deg = torch.add(deg, 1)\n",
    "        deg_inv_sqrt = torch.pow(deg, -0.5)\n",
    "        norm = deg_inv_sqrt[row] * deg_inv_sqrt[col]\n",
    "        \n",
    "        \n",
    "        # h_0 = x\n",
    "\n",
    "        # h_1\n",
    "        x = self.w_0(x)\n",
    "        x = self.relu(x)\n",
    "        x = F.normalize(x, p=2, dim=1)\n",
    "        \n",
    "        h_s = [x]\n",
    "        \n",
    "        for i in range(self.num_layers-1):\n",
    "            # internally calls the message(), aggregate() and update() functions\n",
    "            x = self.propagate(edge_index, x=x, norm=norm)\n",
    "            h_s.append(x)\n",
    "        \n",
    "        h_s = torch.stack(h_s, dim=-1)\n",
    "        # Use torch.max to replace max_pooling\n",
    "        z, _ = torch.max(h_s, dim=-1)\n",
    "        # z = global_max_pool(h_s, torch.tensor([0], dtype=torch.long).to(self.device))\n",
    "        \n",
    "        return z\n",
    "\n",
    "    def message(self, x_j, norm: OptTensor):\n",
    "        \"\"\"      \n",
    "        In addition, tensors passed to propagate() can be mapped to the respective nodes i and j \n",
    "        by appending _i or _j to the variable name, .e.g. x_i and x_j. \n",
    "        Note that we generally refer to i as the central nodes that aggregates information, \n",
    "        and refer to j as the neighboring nodes, since this is the most common notation.\n",
    "        \"\"\"\n",
    "  \n",
    "        return x_j if norm is None else norm.view(-1, 1) * x_j\n",
    "    \n",
    "    \n",
    "    def update(self, aggr_out, x):\n",
    "        \"\"\"        \n",
    "        Takes in the output of aggregation as first argument \n",
    "        and any argument which was initially passed to propagate().\n",
    "        \"\"\"\n",
    "\n",
    "        x = self.rnn(x, aggr_out)\n",
    "        x = F.normalize(x, p=2, dim=1) \n",
    "        \n",
    "        return x\n",
    "    "
   ]
  },
  {
   "cell_type": "code",
   "execution_count": 42,
   "metadata": {},
   "outputs": [],
   "source": [
    "class Decoder(nn.Module):\n",
    "    def __init__(self, p, q):\n",
    "        \n",
    "        super().__init__()\n",
    "        \n",
    "        self.w_4 = nn.Linear(in_features=p, out_features=q).double()\n",
    "        self.w_5 = nn.Linear(in_features=q, out_features=1).double()\n",
    "        \n",
    "        self.relu = nn.ReLU(inplace=True)\n",
    "        \n",
    "    def forward(self, z):\n",
    "        z = self.w_4(z)\n",
    "        z = self.relu(z)\n",
    "        z = self.w_5(z)\n",
    "        \n",
    "        return z"
   ]
  },
  {
   "cell_type": "code",
   "execution_count": 43,
   "metadata": {},
   "outputs": [],
   "source": [
    "class DrBC(nn.Module):\n",
    "    def __init__(self, encoder_params, decoder_params):\n",
    "        super().__init__()\n",
    "        \n",
    "        self.encoder = Encoder(**encoder_params)\n",
    "        self.decoder = Decoder(**decoder_params)\n",
    "        \n",
    "        \n",
    "    def forward(self, data):\n",
    "        \n",
    "        z = self.encoder(data)\n",
    "        \n",
    "        return self.decoder(z)"
   ]
  },
  {
   "cell_type": "markdown",
   "metadata": {},
   "source": [
    "# Evaluation"
   ]
  },
  {
   "cell_type": "markdown",
   "metadata": {},
   "source": [
    "## Top k %"
   ]
  },
  {
   "cell_type": "code",
   "execution_count": 44,
   "metadata": {},
   "outputs": [],
   "source": [
    "def top_n_percentage(bc_gt, bc_pr, k):\n",
    "    \n",
    "    if not isinstance(bc_gt, torch.Tensor):\n",
    "        bc_gt = torch.from_numpy(bc_gt)\n",
    "    bc_gt = bc_gt.to(setting.device)\n",
    "    bc_gt = torch.reshape(bc_gt, (-1, ))\n",
    "    \n",
    "    if not isinstance(bc_pr, torch.Tensor):\n",
    "        bc_pr = torch.from_numpy(bc_pr)\n",
    "    bc_pr = bc_pr.to(setting.device)\n",
    "    bc_pr = torch.reshape(bc_pr, (-1, ))\n",
    "    \n",
    "    nodes = bc_gt.size()[0]\n",
    "    k = int(nodes * k / 100)\n",
    "    \n",
    "    gt_value, gt_indice = torch.topk(bc_gt, k)\n",
    "    pr_value, pr_indice = torch.topk(bc_pr, k)\n",
    "\n",
    "    gt_indice = set(gt_indice.cpu().numpy())\n",
    "    pr_indice = set(pr_indice.cpu().numpy())\n",
    "\n",
    "    intersect = len(gt_indice & pr_indice)\n",
    "    top = intersect/k\n",
    "    \n",
    "    return top"
   ]
  },
  {
   "cell_type": "markdown",
   "metadata": {},
   "source": [
    "## Tau Kendal"
   ]
  },
  {
   "cell_type": "code",
   "execution_count": 45,
   "metadata": {},
   "outputs": [],
   "source": [
    "from scipy import stats\n",
    "\n",
    "def kendal_tau_distance(bc_gt, bc_pr):\n",
    "    \n",
    "    if isinstance(bc_gt, torch.Tensor):\n",
    "        bc_gt = torch.reshape(bc_gt, (-1, ))\n",
    "        bc_gt = bc_gt.cpu().detach().numpy()\n",
    "        \n",
    "    if isinstance(bc_pr, torch.Tensor):\n",
    "        bc_pr = torch.reshape(bc_pr, (-1, ))\n",
    "        bc_pr = bc_pr.cpu().detach().numpy()\n",
    "    \n",
    "    tau, p_value = stats.kendalltau(bc_gt, bc_pr)\n",
    "    return tau"
   ]
  },
  {
   "cell_type": "markdown",
   "metadata": {},
   "source": [
    "# Train"
   ]
  },
  {
   "cell_type": "markdown",
   "metadata": {
    "id": "Dvoodu8ki_Cu"
   },
   "source": [
    "## Load model"
   ]
  },
  {
   "cell_type": "code",
   "execution_count": 46,
   "metadata": {},
   "outputs": [],
   "source": [
    "def load_checkpoint(filepath, device, **params):\n",
    "\n",
    "    if \"node2vec\" in filepath:\n",
    "        model = BC_node2vec(**params[\"node2vec\"])\n",
    "    \n",
    "    else:\n",
    "        model = DrBC(**params[\"drbc\"])\n",
    "    \n",
    "    model = model.to(device)\n",
    "    \n",
    "    if os.path.exists(filepath):\n",
    "        print(\"pretrained finded\")\n",
    "        checkpoint = torch.load(filepath)\n",
    "        model.load_state_dict(checkpoint['model_stat'])\n",
    "        optimizer = torch.optim.Adam(model.parameters(), lr=1e-4)\n",
    "        optimizer.load_state_dict(checkpoint['optimizer_stat'])\n",
    "\n",
    "    else:\n",
    "        print(\"use a new optimizer\")\n",
    "        optimizer = torch.optim.Adam(model.parameters(), lr=1e-4)\n",
    "\n",
    "    return model, optimizer"
   ]
  },
  {
   "cell_type": "code",
   "execution_count": 47,
   "metadata": {},
   "outputs": [
    {
     "name": "stdout",
     "output_type": "stream",
     "text": [
      "pretrained finded\n"
     ]
    },
    {
     "data": {
      "text/plain": [
       "DrBC(\n",
       "  (encoder): Encoder(\n",
       "    (w_0): Linear(in_features=3, out_features=128, bias=True)\n",
       "    (relu): ReLU(inplace=True)\n",
       "    (rnn): GRUCell(128, 128)\n",
       "  )\n",
       "  (decoder): Decoder(\n",
       "    (w_4): Linear(in_features=128, out_features=64, bias=True)\n",
       "    (w_5): Linear(in_features=64, out_features=1, bias=True)\n",
       "    (relu): ReLU(inplace=True)\n",
       "  )\n",
       ")"
      ]
     },
     "execution_count": 47,
     "metadata": {},
     "output_type": "execute_result"
    }
   ],
   "source": [
    "model, optimizer = load_checkpoint(\n",
    "                    setting.weight_drbc,\n",
    "                    setting.device,\n",
    "                    drbc = setting.params_drbc,\n",
    "                    node2vec = setting.params_node2vec)\n",
    "\n",
    "model"
   ]
  },
  {
   "cell_type": "markdown",
   "metadata": {},
   "source": [
    "## DrBC"
   ]
  },
  {
   "cell_type": "code",
   "execution_count": 31,
   "metadata": {},
   "outputs": [
    {
     "name": "stderr",
     "output_type": "stream",
     "text": [
      "\r",
      "  0%|          | 0/625 [00:00<?, ?it/s]"
     ]
    },
    {
     "name": "stdout",
     "output_type": "stream",
     "text": [
      "\n",
      "Epoch: 1\n"
     ]
    },
    {
     "name": "stderr",
     "output_type": "stream",
     "text": [
      "100%|██████████| 625/625 [11:19<00:00,  1.09s/it]\n",
      "100%|██████████| 625/625 [06:25<00:00,  1.62it/s]\n",
      "  0%|          | 0/7 [00:00<?, ?it/s]"
     ]
    },
    {
     "name": "stdout",
     "output_type": "stream",
     "text": [
      "Train: loss = 0.6931448998946224, top 1 = 0.914865999999945, top 5 = 0.8922144000000138, top 10 = 0.8814320000000057, kendal = 0.64865252845769\n"
     ]
    },
    {
     "name": "stderr",
     "output_type": "stream",
     "text": [
      "100%|██████████| 7/7 [00:02<00:00,  2.37it/s]\n",
      "  0%|          | 0/625 [00:00<?, ?it/s]"
     ]
    },
    {
     "name": "stdout",
     "output_type": "stream",
     "text": [
      "Valid: loss = 0.693144892006317, top 1 = 0.9186000000000003, top 5 = 0.8917200000000004, top 10 = 0.8829200000000001, kendal = 0.6491970058011605\n",
      "\n",
      "Epoch: 2\n"
     ]
    },
    {
     "name": "stderr",
     "output_type": "stream",
     "text": [
      "100%|██████████| 625/625 [11:41<00:00,  1.12s/it]\n",
      "100%|██████████| 625/625 [05:29<00:00,  1.89it/s]\n",
      "  0%|          | 0/7 [00:00<?, ?it/s]"
     ]
    },
    {
     "name": "stdout",
     "output_type": "stream",
     "text": [
      "Train: loss = 0.6931448820345281, top 1 = 0.9274799999999425, top 5 = 0.9168172000000259, top 10 = 0.9095566000000134, kendal = 0.659534378139628\n"
     ]
    },
    {
     "name": "stderr",
     "output_type": "stream",
     "text": [
      "100%|██████████| 7/7 [00:04<00:00,  1.71it/s]\n",
      "  0%|          | 0/625 [00:00<?, ?it/s]"
     ]
    },
    {
     "name": "stdout",
     "output_type": "stream",
     "text": [
      "Valid: loss = 0.6931448991258538, top 1 = 0.9286, top 5 = 0.917400000000001, top 10 = 0.9098600000000002, kendal = 0.6598574850970195\n",
      "\n",
      "Epoch: 3\n"
     ]
    },
    {
     "name": "stderr",
     "output_type": "stream",
     "text": [
      "100%|██████████| 625/625 [11:37<00:00,  1.12s/it]\n",
      "100%|██████████| 625/625 [06:28<00:00,  1.61it/s]\n",
      "  0%|          | 0/7 [00:00<?, ?it/s]"
     ]
    },
    {
     "name": "stdout",
     "output_type": "stream",
     "text": [
      "Train: loss = 0.6931448783850642, top 1 = 0.9343219999999359, top 5 = 0.926428000000008, top 10 = 0.9142880000000098, kendal = 0.6730313558071598\n"
     ]
    },
    {
     "name": "stderr",
     "output_type": "stream",
     "text": [
      "100%|██████████| 7/7 [00:04<00:00,  1.71it/s]\n",
      "  0%|          | 0/625 [00:00<?, ?it/s]"
     ]
    },
    {
     "name": "stdout",
     "output_type": "stream",
     "text": [
      "Valid: loss = 0.6931448769882006, top 1 = 0.9361999999999994, top 5 = 0.9266400000000006, top 10 = 0.9144800000000004, kendal = 0.673086110022004\n",
      "\n",
      "Epoch: 4\n"
     ]
    },
    {
     "name": "stderr",
     "output_type": "stream",
     "text": [
      "100%|██████████| 625/625 [11:19<00:00,  1.09s/it]\n",
      "100%|██████████| 625/625 [05:54<00:00,  1.76it/s]\n",
      "  0%|          | 0/7 [00:00<?, ?it/s]"
     ]
    },
    {
     "name": "stdout",
     "output_type": "stream",
     "text": [
      "Train: loss = 0.6931448737246443, top 1 = 0.9406879999999325, top 5 = 0.9315359999999977, top 10 = 0.9170226000000031, kendal = 0.664307852242449\n"
     ]
    },
    {
     "name": "stderr",
     "output_type": "stream",
     "text": [
      "100%|██████████| 7/7 [00:02<00:00,  2.36it/s]\n",
      "  0%|          | 0/625 [00:00<?, ?it/s]"
     ]
    },
    {
     "name": "stdout",
     "output_type": "stream",
     "text": [
      "Valid: loss = 0.6931449008682415, top 1 = 0.9421999999999994, top 5 = 0.9316400000000002, top 10 = 0.9165800000000004, kendal = 0.6646268469693938\n",
      "\n",
      "Epoch: 5\n"
     ]
    },
    {
     "name": "stderr",
     "output_type": "stream",
     "text": [
      "100%|██████████| 625/625 [11:53<00:00,  1.14s/it]\n",
      "100%|██████████| 625/625 [05:51<00:00,  1.78it/s]\n",
      "  0%|          | 0/7 [00:00<?, ?it/s]"
     ]
    },
    {
     "name": "stdout",
     "output_type": "stream",
     "text": [
      "Train: loss = 0.6931448762787706, top 1 = 0.9445599999999212, top 5 = 0.9348304000000007, top 10 = 0.9221380000000002, kendal = 0.6461990993238648\n"
     ]
    },
    {
     "name": "stderr",
     "output_type": "stream",
     "text": [
      "100%|██████████| 7/7 [00:04<00:00,  1.70it/s]\n",
      "  0%|          | 0/625 [00:00<?, ?it/s]"
     ]
    },
    {
     "name": "stdout",
     "output_type": "stream",
     "text": [
      "Valid: loss = 0.6931448829871689, top 1 = 0.9461999999999992, top 5 = 0.9339200000000006, top 10 = 0.9220600000000005, kendal = 0.6461963496699339\n",
      "\n",
      "Epoch: 6\n"
     ]
    },
    {
     "name": "stderr",
     "output_type": "stream",
     "text": [
      "100%|██████████| 625/625 [11:19<00:00,  1.09s/it]\n",
      "100%|██████████| 625/625 [06:33<00:00,  1.59it/s]\n",
      "  0%|          | 0/7 [00:00<?, ?it/s]"
     ]
    },
    {
     "name": "stdout",
     "output_type": "stream",
     "text": [
      "Train: loss = 0.6931448665034435, top 1 = 0.9475739999999149, top 5 = 0.9377388000000039, top 10 = 0.9273453999999989, kendal = 0.6390001380916187\n"
     ]
    },
    {
     "name": "stderr",
     "output_type": "stream",
     "text": [
      "100%|██████████| 7/7 [00:02<00:00,  2.37it/s]\n",
      "  0%|          | 0/625 [00:00<?, ?it/s]"
     ]
    },
    {
     "name": "stdout",
     "output_type": "stream",
     "text": [
      "Valid: loss = 0.693144871608875, top 1 = 0.9493999999999991, top 5 = 0.9368399999999998, top 10 = 0.9270600000000003, kendal = 0.6389159127825564\n",
      "\n",
      "Epoch: 7\n"
     ]
    },
    {
     "name": "stderr",
     "output_type": "stream",
     "text": [
      "100%|██████████| 625/625 [11:33<00:00,  1.11s/it]\n",
      "100%|██████████| 625/625 [05:29<00:00,  1.90it/s]\n",
      "  0%|          | 0/7 [00:00<?, ?it/s]"
     ]
    },
    {
     "name": "stdout",
     "output_type": "stream",
     "text": [
      "Train: loss = 0.693144863605771, top 1 = 0.9501879999999057, top 5 = 0.9397852000000055, top 10 = 0.9315947999999926, kendal = 0.6717121591518327\n"
     ]
    },
    {
     "name": "stderr",
     "output_type": "stream",
     "text": [
      "100%|██████████| 7/7 [00:04<00:00,  1.70it/s]\n",
      "  0%|          | 0/625 [00:00<?, ?it/s]"
     ]
    },
    {
     "name": "stdout",
     "output_type": "stream",
     "text": [
      "Valid: loss = 0.6931449029908846, top 1 = 0.9517999999999991, top 5 = 0.9389200000000001, top 10 = 0.9314200000000008, kendal = 0.6715636823364677\n",
      "\n",
      "Epoch: 8\n"
     ]
    },
    {
     "name": "stderr",
     "output_type": "stream",
     "text": [
      "100%|██████████| 625/625 [11:43<00:00,  1.13s/it]\n",
      "100%|██████████| 625/625 [06:21<00:00,  1.64it/s]\n",
      "  0%|          | 0/7 [00:00<?, ?it/s]"
     ]
    },
    {
     "name": "stdout",
     "output_type": "stream",
     "text": [
      "Train: loss = 0.693144868618262, top 1 = 0.952551999999898, top 5 = 0.9411432000000101, top 10 = 0.9331631999999978, kendal = 0.655922117831565\n"
     ]
    },
    {
     "name": "stderr",
     "output_type": "stream",
     "text": [
      "100%|██████████| 7/7 [00:04<00:00,  1.69it/s]\n",
      "  0%|          | 0/625 [00:00<?, ?it/s]"
     ]
    },
    {
     "name": "stdout",
     "output_type": "stream",
     "text": [
      "Valid: loss = 0.6931449274515089, top 1 = 0.9539999999999995, top 5 = 0.9403999999999998, top 10 = 0.9328400000000004, kendal = 0.6558461724344872\n",
      "\n",
      "Epoch: 9\n"
     ]
    },
    {
     "name": "stderr",
     "output_type": "stream",
     "text": [
      "100%|██████████| 625/625 [11:20<00:00,  1.09s/it]\n",
      "100%|██████████| 625/625 [06:01<00:00,  1.73it/s]\n",
      "  0%|          | 0/7 [00:00<?, ?it/s]"
     ]
    },
    {
     "name": "stdout",
     "output_type": "stream",
     "text": [
      "Train: loss = 0.6931448657428869, top 1 = 0.9540739999998943, top 5 = 0.9426196000000154, top 10 = 0.9353645999999953, kendal = 0.6703707347869597\n"
     ]
    },
    {
     "name": "stderr",
     "output_type": "stream",
     "text": [
      "100%|██████████| 7/7 [00:03<00:00,  2.31it/s]\n",
      "  0%|          | 0/625 [00:00<?, ?it/s]"
     ]
    },
    {
     "name": "stdout",
     "output_type": "stream",
     "text": [
      "Valid: loss = 0.6931448745587815, top 1 = 0.9551999999999997, top 5 = 0.9422800000000001, top 10 = 0.9356200000000005, kendal = 0.6702165857171437\n",
      "\n",
      "Epoch: 10\n"
     ]
    },
    {
     "name": "stderr",
     "output_type": "stream",
     "text": [
      "100%|██████████| 625/625 [11:53<00:00,  1.14s/it]\n",
      "100%|██████████| 625/625 [05:40<00:00,  1.84it/s]\n",
      "  0%|          | 0/7 [00:00<?, ?it/s]"
     ]
    },
    {
     "name": "stdout",
     "output_type": "stream",
     "text": [
      "Train: loss = 0.6931448655077961, top 1 = 0.9554519999998939, top 5 = 0.944396800000019, top 10 = 0.9360069999999938, kendal = 0.6706814137707545\n"
     ]
    },
    {
     "name": "stderr",
     "output_type": "stream",
     "text": [
      "100%|██████████| 7/7 [00:04<00:00,  1.70it/s]\n",
      "  0%|          | 0/625 [00:00<?, ?it/s]"
     ]
    },
    {
     "name": "stdout",
     "output_type": "stream",
     "text": [
      "Valid: loss = 0.6931448416927981, top 1 = 0.9581999999999996, top 5 = 0.9436799999999996, top 10 = 0.9356000000000004, kendal = 0.670473523504701\n",
      "\n",
      "Epoch: 11\n"
     ]
    },
    {
     "name": "stderr",
     "output_type": "stream",
     "text": [
      "100%|██████████| 625/625 [11:19<00:00,  1.09s/it]\n",
      "100%|██████████| 625/625 [06:42<00:00,  1.55it/s]\n",
      "  0%|          | 0/7 [00:00<?, ?it/s]"
     ]
    },
    {
     "name": "stdout",
     "output_type": "stream",
     "text": [
      "Train: loss = 0.6931448649008984, top 1 = 0.9564259999998909, top 5 = 0.9456836000000183, top 10 = 0.9374029999999939, kendal = 0.661269044784956\n"
     ]
    },
    {
     "name": "stderr",
     "output_type": "stream",
     "text": [
      "100%|██████████| 7/7 [00:03<00:00,  2.27it/s]\n",
      "  0%|          | 0/625 [00:00<?, ?it/s]"
     ]
    },
    {
     "name": "stdout",
     "output_type": "stream",
     "text": [
      "Valid: loss = 0.6931448085417053, top 1 = 0.9595999999999997, top 5 = 0.9453199999999997, top 10 = 0.93702, kendal = 0.6610224268853767\n",
      "\n",
      "Epoch: 12\n"
     ]
    },
    {
     "name": "stderr",
     "output_type": "stream",
     "text": [
      "100%|██████████| 625/625 [11:25<00:00,  1.10s/it]\n",
      "100%|██████████| 625/625 [05:30<00:00,  1.89it/s]\n",
      "  0%|          | 0/7 [00:00<?, ?it/s]"
     ]
    },
    {
     "name": "stdout",
     "output_type": "stream",
     "text": [
      "Train: loss = 0.693144858166518, top 1 = 0.9573559999998877, top 5 = 0.9464776000000218, top 10 = 0.9379109999999912, kendal = 0.6907945150150028\n"
     ]
    },
    {
     "name": "stderr",
     "output_type": "stream",
     "text": [
      "100%|██████████| 7/7 [00:04<00:00,  1.74it/s]\n",
      "  0%|          | 0/625 [00:00<?, ?it/s]"
     ]
    },
    {
     "name": "stdout",
     "output_type": "stream",
     "text": [
      "Valid: loss = 0.6931448944979912, top 1 = 0.9607999999999999, top 5 = 0.9461199999999996, top 10 = 0.9378, kendal = 0.6907054530906177\n",
      "\n",
      "Epoch: 13\n"
     ]
    },
    {
     "name": "stderr",
     "output_type": "stream",
     "text": [
      "100%|██████████| 625/625 [11:52<00:00,  1.14s/it]\n",
      "100%|██████████| 625/625 [06:12<00:00,  1.68it/s]\n",
      "  0%|          | 0/7 [00:00<?, ?it/s]"
     ]
    },
    {
     "name": "stdout",
     "output_type": "stream",
     "text": [
      "Train: loss = 0.6931448607319198, top 1 = 0.9580999999998842, top 5 = 0.9473212000000208, top 10 = 0.9393391999999909, kendal = 0.7060955147189409\n"
     ]
    },
    {
     "name": "stderr",
     "output_type": "stream",
     "text": [
      "100%|██████████| 7/7 [00:04<00:00,  1.70it/s]\n",
      "  0%|          | 0/625 [00:00<?, ?it/s]"
     ]
    },
    {
     "name": "stdout",
     "output_type": "stream",
     "text": [
      "Valid: loss = 0.6931447964067029, top 1 = 0.9611999999999997, top 5 = 0.9475599999999996, top 10 = 0.9389800000000004, kendal = 0.7061909117823565\n",
      "\n",
      "Epoch: 14\n"
     ]
    },
    {
     "name": "stderr",
     "output_type": "stream",
     "text": [
      "100%|██████████| 625/625 [11:19<00:00,  1.09s/it]\n",
      "100%|██████████| 625/625 [06:09<00:00,  1.69it/s]\n",
      "  0%|          | 0/7 [00:00<?, ?it/s]"
     ]
    },
    {
     "name": "stdout",
     "output_type": "stream",
     "text": [
      "Train: loss = 0.6931448641425756, top 1 = 0.9583559999998861, top 5 = 0.9480456000000175, top 10 = 0.9370383999999884, kendal = 0.6735367837247419\n"
     ]
    },
    {
     "name": "stderr",
     "output_type": "stream",
     "text": [
      "100%|██████████| 7/7 [00:02<00:00,  2.35it/s]\n",
      "  0%|          | 0/625 [00:00<?, ?it/s]"
     ]
    },
    {
     "name": "stdout",
     "output_type": "stream",
     "text": [
      "Valid: loss = 0.693144876559578, top 1 = 0.9605999999999993, top 5 = 0.9479999999999995, top 10 = 0.93652, kendal = 0.673752828965793\n",
      "\n",
      "Epoch: 15\n"
     ]
    },
    {
     "name": "stderr",
     "output_type": "stream",
     "text": [
      "100%|██████████| 625/625 [11:53<00:00,  1.14s/it]\n",
      "100%|██████████| 625/625 [05:31<00:00,  1.88it/s]\n",
      "  0%|          | 0/7 [00:00<?, ?it/s]"
     ]
    },
    {
     "name": "stdout",
     "output_type": "stream",
     "text": [
      "Train: loss = 0.6931448594718956, top 1 = 0.9590379999998829, top 5 = 0.9487016000000155, top 10 = 0.9374443999999994, kendal = 0.6981160083216629\n"
     ]
    },
    {
     "name": "stderr",
     "output_type": "stream",
     "text": [
      "100%|██████████| 7/7 [00:04<00:00,  1.71it/s]\n",
      "  0%|          | 0/625 [00:00<?, ?it/s]"
     ]
    },
    {
     "name": "stdout",
     "output_type": "stream",
     "text": [
      "Valid: loss = 0.693144840805032, top 1 = 0.9611999999999994, top 5 = 0.94872, top 10 = 0.9369400000000002, kendal = 0.6983764720944187\n",
      "\n",
      "Epoch: 16\n"
     ]
    },
    {
     "name": "stderr",
     "output_type": "stream",
     "text": [
      "100%|██████████| 625/625 [11:22<00:00,  1.09s/it]\n",
      "100%|██████████| 625/625 [06:45<00:00,  1.54it/s]\n",
      "  0%|          | 0/7 [00:00<?, ?it/s]"
     ]
    },
    {
     "name": "stdout",
     "output_type": "stream",
     "text": [
      "Train: loss = 0.6931448610886481, top 1 = 0.9595959999998797, top 5 = 0.9495640000000223, top 10 = 0.9395065999999926, kendal = 0.7050224303740723\n"
     ]
    },
    {
     "name": "stderr",
     "output_type": "stream",
     "text": [
      "100%|██████████| 7/7 [00:04<00:00,  1.70it/s]\n",
      "  0%|          | 0/625 [00:00<?, ?it/s]"
     ]
    },
    {
     "name": "stdout",
     "output_type": "stream",
     "text": [
      "Valid: loss = 0.6931448109233384, top 1 = 0.9609999999999994, top 5 = 0.9497200000000001, top 10 = 0.93948, kendal = 0.7055507517503499\n",
      "\n",
      "Epoch: 17\n"
     ]
    },
    {
     "name": "stderr",
     "output_type": "stream",
     "text": [
      "100%|██████████| 625/625 [11:18<00:00,  1.09s/it]\n",
      "100%|██████████| 625/625 [05:38<00:00,  1.84it/s]\n",
      "  0%|          | 0/7 [00:00<?, ?it/s]"
     ]
    },
    {
     "name": "stdout",
     "output_type": "stream",
     "text": [
      "Train: loss = 0.6931448539399834, top 1 = 0.960255999999877, top 5 = 0.9497804000000171, top 10 = 0.937910199999994, kendal = 0.7106944741428309\n"
     ]
    },
    {
     "name": "stderr",
     "output_type": "stream",
     "text": [
      "100%|██████████| 7/7 [00:03<00:00,  2.27it/s]\n",
      "  0%|          | 0/625 [00:00<?, ?it/s]"
     ]
    },
    {
     "name": "stdout",
     "output_type": "stream",
     "text": [
      "Valid: loss = 0.6931448261682407, top 1 = 0.9615999999999993, top 5 = 0.9492399999999993, top 10 = 0.9381800000000005, kendal = 0.7113402952590521\n",
      "\n",
      "Epoch: 18\n"
     ]
    },
    {
     "name": "stderr",
     "output_type": "stream",
     "text": [
      "100%|██████████| 625/625 [11:53<00:00,  1.14s/it]\n",
      "100%|██████████| 625/625 [06:04<00:00,  1.71it/s]\n",
      "  0%|          | 0/7 [00:00<?, ?it/s]"
     ]
    },
    {
     "name": "stdout",
     "output_type": "stream",
     "text": [
      "Train: loss = 0.6931448619167089, top 1 = 0.961179999999874, top 5 = 0.9504740000000231, top 10 = 0.9372107999999969, kendal = 0.6857964989157824\n"
     ]
    },
    {
     "name": "stderr",
     "output_type": "stream",
     "text": [
      "100%|██████████| 7/7 [00:04<00:00,  1.71it/s]\n",
      "  0%|          | 0/625 [00:00<?, ?it/s]"
     ]
    },
    {
     "name": "stdout",
     "output_type": "stream",
     "text": [
      "Valid: loss = 0.6931448592911066, top 1 = 0.9621999999999996, top 5 = 0.9497599999999998, top 10 = 0.93742, kendal = 0.6866742788557713\n",
      "\n",
      "Epoch: 19\n"
     ]
    },
    {
     "name": "stderr",
     "output_type": "stream",
     "text": [
      "100%|██████████| 625/625 [11:19<00:00,  1.09s/it]\n",
      "100%|██████████| 625/625 [06:18<00:00,  1.65it/s]\n",
      "  0%|          | 0/7 [00:00<?, ?it/s]"
     ]
    },
    {
     "name": "stdout",
     "output_type": "stream",
     "text": [
      "Train: loss = 0.6931448593877692, top 1 = 0.9617719999998733, top 5 = 0.9512336000000179, top 10 = 0.9422501999999966, kendal = 0.7242986907781543\n"
     ]
    },
    {
     "name": "stderr",
     "output_type": "stream",
     "text": [
      "100%|██████████| 7/7 [00:02<00:00,  2.37it/s]\n",
      "  0%|          | 0/625 [00:00<?, ?it/s]"
     ]
    },
    {
     "name": "stdout",
     "output_type": "stream",
     "text": [
      "Valid: loss = 0.6931448371484338, top 1 = 0.9629999999999994, top 5 = 0.9508399999999999, top 10 = 0.9426600000000002, kendal = 0.725083293458692\n",
      "\n",
      "Epoch: 20\n"
     ]
    },
    {
     "name": "stderr",
     "output_type": "stream",
     "text": [
      "100%|██████████| 625/625 [11:47<00:00,  1.13s/it]\n",
      "100%|██████████| 625/625 [05:31<00:00,  1.88it/s]\n",
      "  0%|          | 0/7 [00:00<?, ?it/s]"
     ]
    },
    {
     "name": "stdout",
     "output_type": "stream",
     "text": [
      "Train: loss = 0.6931448592691953, top 1 = 0.9624899999998705, top 5 = 0.9513936000000184, top 10 = 0.9386577999999967, kendal = 0.6911130554270886\n"
     ]
    },
    {
     "name": "stderr",
     "output_type": "stream",
     "text": [
      "100%|██████████| 7/7 [00:04<00:00,  1.71it/s]\n",
      "  0%|          | 0/625 [00:00<?, ?it/s]"
     ]
    },
    {
     "name": "stdout",
     "output_type": "stream",
     "text": [
      "Valid: loss = 0.6931448904596786, top 1 = 0.9625999999999995, top 5 = 0.9510399999999999, top 10 = 0.9384399999999999, kendal = 0.692116724144829\n",
      "\n",
      "Epoch: 21\n"
     ]
    },
    {
     "name": "stderr",
     "output_type": "stream",
     "text": [
      "100%|██████████| 625/625 [11:29<00:00,  1.10s/it]\n",
      "100%|██████████| 625/625 [06:38<00:00,  1.57it/s]\n",
      "  0%|          | 0/7 [00:00<?, ?it/s]"
     ]
    },
    {
     "name": "stdout",
     "output_type": "stream",
     "text": [
      "Train: loss = 0.6931448577637596, top 1 = 0.9631579999998671, top 5 = 0.9519544000000185, top 10 = 0.9416841999999979, kendal = 0.7294542414082825\n"
     ]
    },
    {
     "name": "stderr",
     "output_type": "stream",
     "text": [
      "100%|██████████| 7/7 [00:04<00:00,  1.70it/s]\n",
      "  0%|          | 0/625 [00:00<?, ?it/s]"
     ]
    },
    {
     "name": "stdout",
     "output_type": "stream",
     "text": [
      "Valid: loss = 0.6931448646143151, top 1 = 0.9639999999999997, top 5 = 0.9515999999999998, top 10 = 0.9413999999999996, kendal = 0.7302122776555313\n",
      "\n",
      "Epoch: 22\n"
     ]
    },
    {
     "name": "stderr",
     "output_type": "stream",
     "text": [
      "100%|██████████| 625/625 [11:19<00:00,  1.09s/it]\n",
      "100%|██████████| 625/625 [05:45<00:00,  1.81it/s]\n",
      "  0%|          | 0/7 [00:00<?, ?it/s]"
     ]
    },
    {
     "name": "stdout",
     "output_type": "stream",
     "text": [
      "Train: loss = 0.6931448547760488, top 1 = 0.963671999999869, top 5 = 0.9528020000000197, top 10 = 0.9427337999999942, kendal = 0.7091590374554908\n"
     ]
    },
    {
     "name": "stderr",
     "output_type": "stream",
     "text": [
      "100%|██████████| 7/7 [00:02<00:00,  2.38it/s]\n",
      "  0%|          | 0/625 [00:00<?, ?it/s]"
     ]
    },
    {
     "name": "stdout",
     "output_type": "stream",
     "text": [
      "Valid: loss = 0.6931448322987588, top 1 = 0.9647999999999998, top 5 = 0.9523599999999998, top 10 = 0.94262, kendal = 0.7099203888777754\n",
      "\n",
      "Epoch: 23\n"
     ]
    },
    {
     "name": "stderr",
     "output_type": "stream",
     "text": [
      "100%|██████████| 625/625 [11:52<00:00,  1.14s/it]\n",
      "100%|██████████| 625/625 [05:57<00:00,  1.75it/s]\n",
      "  0%|          | 0/7 [00:00<?, ?it/s]"
     ]
    },
    {
     "name": "stdout",
     "output_type": "stream",
     "text": [
      "Train: loss = 0.6931448509512288, top 1 = 0.9642819999998657, top 5 = 0.9533656000000179, top 10 = 0.9456846000000001, kendal = 0.749782576963395\n"
     ]
    },
    {
     "name": "stderr",
     "output_type": "stream",
     "text": [
      "100%|██████████| 7/7 [00:04<00:00,  1.70it/s]\n",
      "  0%|          | 0/625 [00:00<?, ?it/s]"
     ]
    },
    {
     "name": "stdout",
     "output_type": "stream",
     "text": [
      "Valid: loss = 0.6931448308077377, top 1 = 0.9655999999999998, top 5 = 0.9530399999999999, top 10 = 0.9453999999999998, kendal = 0.7503512638527703\n",
      "\n",
      "Epoch: 24\n"
     ]
    },
    {
     "name": "stderr",
     "output_type": "stream",
     "text": [
      "100%|██████████| 625/625 [11:18<00:00,  1.09s/it]\n",
      "100%|██████████| 625/625 [06:25<00:00,  1.62it/s]\n",
      "  0%|          | 0/7 [00:00<?, ?it/s]"
     ]
    },
    {
     "name": "stdout",
     "output_type": "stream",
     "text": [
      "Train: loss = 0.6931448565631861, top 1 = 0.965065999999865, top 5 = 0.9538840000000142, top 10 = 0.9449285999999986, kendal = 0.7166208039527915\n"
     ]
    },
    {
     "name": "stderr",
     "output_type": "stream",
     "text": [
      "100%|██████████| 7/7 [00:03<00:00,  2.22it/s]\n",
      "  0%|          | 0/625 [00:00<?, ?it/s]"
     ]
    },
    {
     "name": "stdout",
     "output_type": "stream",
     "text": [
      "Valid: loss = 0.693144843002966, top 1 = 0.9661999999999997, top 5 = 0.95328, top 10 = 0.9446999999999997, kendal = 0.7174797903580717\n",
      "\n",
      "Epoch: 25\n"
     ]
    },
    {
     "name": "stderr",
     "output_type": "stream",
     "text": [
      "100%|██████████| 625/625 [11:42<00:00,  1.12s/it]\n",
      "100%|██████████| 625/625 [05:30<00:00,  1.89it/s]\n",
      "  0%|          | 0/7 [00:00<?, ?it/s]"
     ]
    },
    {
     "name": "stdout",
     "output_type": "stream",
     "text": [
      "Train: loss = 0.693144845468224, top 1 = 0.9655259999998627, top 5 = 0.9545520000000164, top 10 = 0.9456161999999982, kendal = 0.6918289124544921\n"
     ]
    },
    {
     "name": "stderr",
     "output_type": "stream",
     "text": [
      "100%|██████████| 7/7 [00:04<00:00,  1.71it/s]\n",
      "  0%|          | 0/625 [00:00<?, ?it/s]"
     ]
    },
    {
     "name": "stdout",
     "output_type": "stream",
     "text": [
      "Valid: loss = 0.693144840287912, top 1 = 0.9675999999999996, top 5 = 0.9542, top 10 = 0.9454400000000001, kendal = 0.6928384588917785\n",
      "\n",
      "Epoch: 26\n"
     ]
    },
    {
     "name": "stderr",
     "output_type": "stream",
     "text": [
      "100%|██████████| 625/625 [11:36<00:00,  1.11s/it]\n",
      "100%|██████████| 625/625 [06:30<00:00,  1.60it/s]\n",
      "  0%|          | 0/7 [00:00<?, ?it/s]"
     ]
    },
    {
     "name": "stdout",
     "output_type": "stream",
     "text": [
      "Train: loss = 0.6931448474030237, top 1 = 0.9659439999998598, top 5 = 0.9548600000000089, top 10 = 0.9473122000000048, kendal = 0.7536306034486875\n"
     ]
    },
    {
     "name": "stderr",
     "output_type": "stream",
     "text": [
      "100%|██████████| 7/7 [00:04<00:00,  1.70it/s]\n",
      "  0%|          | 0/625 [00:00<?, ?it/s]"
     ]
    },
    {
     "name": "stdout",
     "output_type": "stream",
     "text": [
      "Valid: loss = 0.6931448444189173, top 1 = 0.9673999999999998, top 5 = 0.9549199999999998, top 10 = 0.9474399999999996, kendal = 0.7544953102620525\n",
      "\n",
      "Epoch: 27\n"
     ]
    },
    {
     "name": "stderr",
     "output_type": "stream",
     "text": [
      "100%|██████████| 625/625 [11:18<00:00,  1.09s/it]\n",
      "100%|██████████| 625/625 [05:53<00:00,  1.77it/s]\n",
      "  0%|          | 0/7 [00:00<?, ?it/s]"
     ]
    },
    {
     "name": "stdout",
     "output_type": "stream",
     "text": [
      "Train: loss = 0.693144853522831, top 1 = 0.9663839999998587, top 5 = 0.9555740000000075, top 10 = 0.9472938000000013, kendal = 0.7372275462292464\n"
     ]
    },
    {
     "name": "stderr",
     "output_type": "stream",
     "text": [
      "100%|██████████| 7/7 [00:02<00:00,  2.38it/s]\n",
      "  0%|          | 0/625 [00:00<?, ?it/s]"
     ]
    },
    {
     "name": "stdout",
     "output_type": "stream",
     "text": [
      "Valid: loss = 0.6931448634185294, top 1 = 0.9679999999999996, top 5 = 0.9555999999999998, top 10 = 0.9477999999999998, kendal = 0.7382889041808357\n",
      "\n",
      "Epoch: 28\n"
     ]
    },
    {
     "name": "stderr",
     "output_type": "stream",
     "text": [
      "100%|██████████| 625/625 [11:52<00:00,  1.14s/it]\n",
      "100%|██████████| 625/625 [05:49<00:00,  1.79it/s]\n",
      "  0%|          | 0/7 [00:00<?, ?it/s]"
     ]
    },
    {
     "name": "stdout",
     "output_type": "stream",
     "text": [
      "Train: loss = 0.6931448545485598, top 1 = 0.9669779999998569, top 5 = 0.955922800000005, top 10 = 0.946955999999999, kendal = 0.7427037707701521\n"
     ]
    },
    {
     "name": "stderr",
     "output_type": "stream",
     "text": [
      "100%|██████████| 7/7 [00:04<00:00,  1.71it/s]\n",
      "  0%|          | 0/625 [00:00<?, ?it/s]"
     ]
    },
    {
     "name": "stdout",
     "output_type": "stream",
     "text": [
      "Valid: loss = 0.693144807712926, top 1 = 0.9685999999999996, top 5 = 0.9557599999999996, top 10 = 0.9477999999999998, kendal = 0.7437448337667534\n",
      "\n",
      "Epoch: 29\n"
     ]
    },
    {
     "name": "stderr",
     "output_type": "stream",
     "text": [
      "100%|██████████| 625/625 [11:19<00:00,  1.09s/it]\n",
      "100%|██████████| 625/625 [06:33<00:00,  1.59it/s]\n",
      "  0%|          | 0/7 [00:00<?, ?it/s]"
     ]
    },
    {
     "name": "stdout",
     "output_type": "stream",
     "text": [
      "Train: loss = 0.6931448523691026, top 1 = 0.9673259999998569, top 5 = 0.9563036000000058, top 10 = 0.9482182000000048, kendal = 0.7479452390318061\n"
     ]
    },
    {
     "name": "stderr",
     "output_type": "stream",
     "text": [
      "100%|██████████| 7/7 [00:03<00:00,  2.27it/s]\n",
      "  0%|          | 0/625 [00:00<?, ?it/s]"
     ]
    },
    {
     "name": "stdout",
     "output_type": "stream",
     "text": [
      "Valid: loss = 0.6931448797614452, top 1 = 0.9693999999999997, top 5 = 0.9562399999999995, top 10 = 0.9490799999999997, kendal = 0.7490000912182435\n",
      "\n",
      "Epoch: 30\n"
     ]
    },
    {
     "name": "stderr",
     "output_type": "stream",
     "text": [
      "100%|██████████| 625/625 [11:33<00:00,  1.11s/it]\n",
      "100%|██████████| 625/625 [05:29<00:00,  1.90it/s]\n",
      "  0%|          | 0/7 [00:00<?, ?it/s]"
     ]
    },
    {
     "name": "stdout",
     "output_type": "stream",
     "text": [
      "Train: loss = 0.6931448508842796, top 1 = 0.9677159999998561, top 5 = 0.9566540000000042, top 10 = 0.9484274000000028, kendal = 0.7453555290578119\n"
     ]
    },
    {
     "name": "stderr",
     "output_type": "stream",
     "text": [
      "100%|██████████| 7/7 [00:04<00:00,  1.70it/s]\n",
      "  0%|          | 0/625 [00:00<?, ?it/s]"
     ]
    },
    {
     "name": "stdout",
     "output_type": "stream",
     "text": [
      "Valid: loss = 0.6931448891868592, top 1 = 0.9697999999999997, top 5 = 0.9563999999999996, top 10 = 0.9495999999999997, kendal = 0.746478119623925\n",
      "\n",
      "Epoch: 31\n"
     ]
    },
    {
     "name": "stderr",
     "output_type": "stream",
     "text": [
      "100%|██████████| 625/625 [11:44<00:00,  1.13s/it]\n",
      "100%|██████████| 625/625 [06:21<00:00,  1.64it/s]\n",
      "  0%|          | 0/7 [00:00<?, ?it/s]"
     ]
    },
    {
     "name": "stdout",
     "output_type": "stream",
     "text": [
      "Train: loss = 0.69314484720602, top 1 = 0.9681179999998542, top 5 = 0.9569672000000046, top 10 = 0.948706000000003, kendal = 0.758375351694338\n"
     ]
    },
    {
     "name": "stderr",
     "output_type": "stream",
     "text": [
      "100%|██████████| 7/7 [00:04<00:00,  1.71it/s]\n",
      "  0%|          | 0/625 [00:00<?, ?it/s]"
     ]
    },
    {
     "name": "stdout",
     "output_type": "stream",
     "text": [
      "Valid: loss = 0.6931448413527036, top 1 = 0.9705999999999997, top 5 = 0.9565199999999993, top 10 = 0.9495199999999993, kendal = 0.7594136347269456\n",
      "\n",
      "Epoch: 32\n"
     ]
    },
    {
     "name": "stderr",
     "output_type": "stream",
     "text": [
      "100%|██████████| 625/625 [11:19<00:00,  1.09s/it]\n",
      "100%|██████████| 625/625 [06:01<00:00,  1.73it/s]\n",
      "  0%|          | 0/7 [00:00<?, ?it/s]"
     ]
    },
    {
     "name": "stdout",
     "output_type": "stream",
     "text": [
      "Train: loss = 0.6931448541224677, top 1 = 0.9684899999998533, top 5 = 0.9573560000000012, top 10 = 0.9491558000000003, kendal = 0.7456417045169063\n"
     ]
    },
    {
     "name": "stderr",
     "output_type": "stream",
     "text": [
      "100%|██████████| 7/7 [00:03<00:00,  2.28it/s]\n",
      "  0%|          | 0/625 [00:00<?, ?it/s]"
     ]
    },
    {
     "name": "stdout",
     "output_type": "stream",
     "text": [
      "Valid: loss = 0.6931448551666304, top 1 = 0.9721999999999997, top 5 = 0.9570799999999996, top 10 = 0.9500000000000002, kendal = 0.7468467277455493\n",
      "\n",
      "Epoch: 33\n"
     ]
    },
    {
     "name": "stderr",
     "output_type": "stream",
     "text": [
      "100%|██████████| 625/625 [11:53<00:00,  1.14s/it]\n",
      "100%|██████████| 625/625 [05:45<00:00,  1.81it/s]\n",
      "  0%|          | 0/7 [00:00<?, ?it/s]"
     ]
    },
    {
     "name": "stdout",
     "output_type": "stream",
     "text": [
      "Train: loss = 0.6931448539158499, top 1 = 0.9689219999998515, top 5 = 0.9575488000000012, top 10 = 0.9485242000000011, kendal = 0.7382612590037995\n"
     ]
    },
    {
     "name": "stderr",
     "output_type": "stream",
     "text": [
      "100%|██████████| 7/7 [00:04<00:00,  1.70it/s]\n",
      "  0%|          | 0/625 [00:00<?, ?it/s]"
     ]
    },
    {
     "name": "stdout",
     "output_type": "stream",
     "text": [
      "Valid: loss = 0.6931448237515306, top 1 = 0.9725999999999998, top 5 = 0.9573199999999997, top 10 = 0.9492599999999998, kendal = 0.7395667629525904\n",
      "\n",
      "Epoch: 34\n"
     ]
    },
    {
     "name": "stderr",
     "output_type": "stream",
     "text": [
      "100%|██████████| 625/625 [11:19<00:00,  1.09s/it]\n",
      "100%|██████████| 625/625 [06:40<00:00,  1.56it/s]\n",
      "  0%|          | 0/7 [00:00<?, ?it/s]"
     ]
    },
    {
     "name": "stdout",
     "output_type": "stream",
     "text": [
      "Train: loss = 0.6931448548034923, top 1 = 0.9691279999998517, top 5 = 0.9580152, top 10 = 0.9494778000000018, kendal = 0.7463918252930559\n"
     ]
    },
    {
     "name": "stderr",
     "output_type": "stream",
     "text": [
      "100%|██████████| 7/7 [00:03<00:00,  2.33it/s]\n",
      "  0%|          | 0/625 [00:00<?, ?it/s]"
     ]
    },
    {
     "name": "stdout",
     "output_type": "stream",
     "text": [
      "Valid: loss = 0.693144816436583, top 1 = 0.9729999999999999, top 5 = 0.9576799999999993, top 10 = 0.9506599999999998, kendal = 0.7476559023804757\n",
      "\n",
      "Epoch: 35\n"
     ]
    },
    {
     "name": "stderr",
     "output_type": "stream",
     "text": [
      "100%|██████████| 625/625 [11:27<00:00,  1.10s/it]\n",
      "100%|██████████| 625/625 [05:29<00:00,  1.90it/s]\n",
      "  0%|          | 0/7 [00:00<?, ?it/s]"
     ]
    },
    {
     "name": "stdout",
     "output_type": "stream",
     "text": [
      "Train: loss = 0.6931448486684212, top 1 = 0.9694519999998502, top 5 = 0.9581955999999969, top 10 = 0.9502274000000012, kendal = 0.7597522718463695\n"
     ]
    },
    {
     "name": "stderr",
     "output_type": "stream",
     "text": [
      "100%|██████████| 7/7 [00:04<00:00,  1.68it/s]\n",
      "  0%|          | 0/625 [00:00<?, ?it/s]"
     ]
    },
    {
     "name": "stdout",
     "output_type": "stream",
     "text": [
      "Valid: loss = 0.6931448861753805, top 1 = 0.9731999999999998, top 5 = 0.9581999999999994, top 10 = 0.9513000000000003, kendal = 0.7609076103220641\n",
      "\n",
      "Epoch: 36\n"
     ]
    },
    {
     "name": "stderr",
     "output_type": "stream",
     "text": [
      "100%|██████████| 625/625 [11:50<00:00,  1.14s/it]\n",
      "100%|██████████| 625/625 [06:12<00:00,  1.68it/s]\n",
      "  0%|          | 0/7 [00:00<?, ?it/s]"
     ]
    },
    {
     "name": "stdout",
     "output_type": "stream",
     "text": [
      "Train: loss = 0.6931448515935215, top 1 = 0.9696979999998501, top 5 = 0.9584439999999967, top 10 = 0.9505194000000067, kendal = 0.7675276230286066\n"
     ]
    },
    {
     "name": "stderr",
     "output_type": "stream",
     "text": [
      "100%|██████████| 7/7 [00:04<00:00,  1.71it/s]\n",
      "  0%|          | 0/625 [00:00<?, ?it/s]"
     ]
    },
    {
     "name": "stdout",
     "output_type": "stream",
     "text": [
      "Valid: loss = 0.6931448493063018, top 1 = 0.9727999999999998, top 5 = 0.9586399999999996, top 10 = 0.9518999999999995, kendal = 0.7685718311662333\n",
      "\n",
      "Epoch: 37\n"
     ]
    },
    {
     "name": "stderr",
     "output_type": "stream",
     "text": [
      "100%|██████████| 625/625 [11:18<00:00,  1.09s/it]\n",
      "100%|██████████| 625/625 [06:10<00:00,  1.69it/s]\n",
      "  0%|          | 0/7 [00:00<?, ?it/s]"
     ]
    },
    {
     "name": "stdout",
     "output_type": "stream",
     "text": [
      "Train: loss = 0.6931448509915028, top 1 = 0.9700299999998481, top 5 = 0.9586731999999935, top 10 = 0.9504662000000038, kendal = 0.7590811017403459\n"
     ]
    },
    {
     "name": "stderr",
     "output_type": "stream",
     "text": [
      "100%|██████████| 7/7 [00:03<00:00,  2.26it/s]\n",
      "  0%|          | 0/625 [00:00<?, ?it/s]"
     ]
    },
    {
     "name": "stdout",
     "output_type": "stream",
     "text": [
      "Valid: loss = 0.6931448610458869, top 1 = 0.9729999999999999, top 5 = 0.9586399999999997, top 10 = 0.9516799999999995, kendal = 0.7601807929585918\n",
      "\n",
      "Epoch: 38\n"
     ]
    },
    {
     "name": "stderr",
     "output_type": "stream",
     "text": [
      "100%|██████████| 625/625 [11:53<00:00,  1.14s/it]\n",
      "100%|██████████| 625/625 [05:31<00:00,  1.89it/s]\n",
      "  0%|          | 0/7 [00:00<?, ?it/s]"
     ]
    },
    {
     "name": "stdout",
     "output_type": "stream",
     "text": [
      "Train: loss = 0.6931448487874993, top 1 = 0.970257999999847, top 5 = 0.9588823999999959, top 10 = 0.9509736000000033, kendal = 0.7666949545749135\n"
     ]
    },
    {
     "name": "stderr",
     "output_type": "stream",
     "text": [
      "100%|██████████| 7/7 [00:04<00:00,  1.70it/s]\n",
      "  0%|          | 0/625 [00:00<?, ?it/s]"
     ]
    },
    {
     "name": "stdout",
     "output_type": "stream",
     "text": [
      "Valid: loss = 0.693144793179972, top 1 = 0.9725999999999998, top 5 = 0.9587999999999997, top 10 = 0.9521799999999994, kendal = 0.7677006761352271\n",
      "\n",
      "Epoch: 39\n"
     ]
    },
    {
     "name": "stderr",
     "output_type": "stream",
     "text": [
      "100%|██████████| 625/625 [11:22<00:00,  1.09s/it]\n",
      "100%|██████████| 625/625 [06:44<00:00,  1.55it/s]\n",
      "  0%|          | 0/7 [00:00<?, ?it/s]"
     ]
    },
    {
     "name": "stdout",
     "output_type": "stream",
     "text": [
      "Train: loss = 0.6931448490494957, top 1 = 0.9705119999998473, top 5 = 0.9590931999999978, top 10 = 0.9512728000000001, kendal = 0.7699293358511675\n"
     ]
    },
    {
     "name": "stderr",
     "output_type": "stream",
     "text": [
      "100%|██████████| 7/7 [00:04<00:00,  1.70it/s]\n",
      "  0%|          | 0/625 [00:00<?, ?it/s]"
     ]
    },
    {
     "name": "stdout",
     "output_type": "stream",
     "text": [
      "Valid: loss = 0.6931448374518129, top 1 = 0.9727999999999996, top 5 = 0.959, top 10 = 0.9525599999999997, kendal = 0.7709414762952593\n",
      "\n",
      "Epoch: 40\n"
     ]
    },
    {
     "name": "stderr",
     "output_type": "stream",
     "text": [
      "100%|██████████| 625/625 [11:16<00:00,  1.08s/it]\n",
      "100%|██████████| 625/625 [05:47<00:00,  1.80it/s]\n",
      "  0%|          | 0/7 [00:00<?, ?it/s]"
     ]
    },
    {
     "name": "stdout",
     "output_type": "stream",
     "text": [
      "Train: loss = 0.693144854055324, top 1 = 0.9708039999998473, top 5 = 0.9592747999999955, top 10 = 0.9513270000000009, kendal = 0.7733454891778346\n"
     ]
    },
    {
     "name": "stderr",
     "output_type": "stream",
     "text": [
      "100%|██████████| 7/7 [00:03<00:00,  2.32it/s]\n",
      "  0%|          | 0/625 [00:00<?, ?it/s]"
     ]
    },
    {
     "name": "stdout",
     "output_type": "stream",
     "text": [
      "Valid: loss = 0.6931448219391535, top 1 = 0.9735999999999997, top 5 = 0.9591200000000001, top 10 = 0.9521799999999995, kendal = 0.7743533010602124\n",
      "\n",
      "Epoch: 41\n"
     ]
    },
    {
     "name": "stderr",
     "output_type": "stream",
     "text": [
      "100%|██████████| 625/625 [11:47<00:00,  1.13s/it]\n",
      "100%|██████████| 625/625 [06:23<00:00,  1.63it/s]\n",
      "  0%|          | 0/7 [00:00<?, ?it/s]"
     ]
    },
    {
     "name": "stdout",
     "output_type": "stream",
     "text": [
      "Train: loss = 0.693144852662701, top 1 = 0.9710579999998469, top 5 = 0.9594995999999948, top 10 = 0.9516342000000059, kendal = 0.7745903910702157\n"
     ]
    },
    {
     "name": "stderr",
     "output_type": "stream",
     "text": [
      "100%|██████████| 7/7 [00:04<00:00,  1.54it/s]\n",
      "  0%|          | 0/625 [00:00<?, ?it/s]"
     ]
    },
    {
     "name": "stdout",
     "output_type": "stream",
     "text": [
      "Valid: loss = 0.693144805585677, top 1 = 0.9739999999999998, top 5 = 0.95876, top 10 = 0.9527199999999995, kendal = 0.7756398623724742\n",
      "\n",
      "Epoch: 42\n"
     ]
    },
    {
     "name": "stderr",
     "output_type": "stream",
     "text": [
      "100%|██████████| 625/625 [11:17<00:00,  1.08s/it]\n",
      "100%|██████████| 625/625 [06:28<00:00,  1.61it/s]\n",
      "  0%|          | 0/7 [00:00<?, ?it/s]"
     ]
    },
    {
     "name": "stdout",
     "output_type": "stream",
     "text": [
      "Train: loss = 0.6931448520715402, top 1 = 0.9713059999998471, top 5 = 0.9596047999999948, top 10 = 0.9519252000000046, kendal = 0.7753505601760319\n"
     ]
    },
    {
     "name": "stderr",
     "output_type": "stream",
     "text": [
      "100%|██████████| 7/7 [00:03<00:00,  2.23it/s]\n",
      "  0%|          | 0/625 [00:00<?, ?it/s]"
     ]
    },
    {
     "name": "stdout",
     "output_type": "stream",
     "text": [
      "Valid: loss = 0.6931448070306689, top 1 = 0.9741999999999998, top 5 = 0.9593599999999993, top 10 = 0.9529799999999997, kendal = 0.7764034118823766\n",
      "\n",
      "Epoch: 43\n"
     ]
    },
    {
     "name": "stderr",
     "output_type": "stream",
     "text": [
      "100%|██████████| 625/625 [11:39<00:00,  1.12s/it]\n",
      "100%|██████████| 625/625 [05:28<00:00,  1.90it/s]\n",
      "  0%|          | 0/7 [00:00<?, ?it/s]"
     ]
    },
    {
     "name": "stdout",
     "output_type": "stream",
     "text": [
      "Train: loss = 0.6931448530092189, top 1 = 0.9716139999998455, top 5 = 0.9598195999999954, top 10 = 0.9520316000000033, kendal = 0.7750101406201254\n"
     ]
    },
    {
     "name": "stderr",
     "output_type": "stream",
     "text": [
      "100%|██████████| 7/7 [00:04<00:00,  1.70it/s]\n",
      "  0%|          | 0/625 [00:00<?, ?it/s]"
     ]
    },
    {
     "name": "stdout",
     "output_type": "stream",
     "text": [
      "Valid: loss = 0.6931448368398783, top 1 = 0.9739999999999999, top 5 = 0.9593599999999997, top 10 = 0.9527000000000001, kendal = 0.7760661892378473\n",
      "\n",
      "Epoch: 44\n"
     ]
    },
    {
     "name": "stderr",
     "output_type": "stream",
     "text": [
      "100%|██████████| 625/625 [11:39<00:00,  1.12s/it]\n",
      "100%|██████████| 625/625 [06:27<00:00,  1.61it/s]\n",
      "  0%|          | 0/7 [00:00<?, ?it/s]"
     ]
    },
    {
     "name": "stdout",
     "output_type": "stream",
     "text": [
      "Train: loss = 0.6931448511442825, top 1 = 0.971801999999846, top 5 = 0.9600439999999951, top 10 = 0.9523737999999977, kendal = 0.7769446698459697\n"
     ]
    },
    {
     "name": "stderr",
     "output_type": "stream",
     "text": [
      "100%|██████████| 7/7 [00:04<00:00,  1.70it/s]\n",
      "  0%|          | 0/625 [00:00<?, ?it/s]"
     ]
    },
    {
     "name": "stdout",
     "output_type": "stream",
     "text": [
      "Valid: loss = 0.6931448485198064, top 1 = 0.9743999999999998, top 5 = 0.9599199999999998, top 10 = 0.9532400000000001, kendal = 0.7780058411682339\n",
      "\n",
      "Epoch: 45\n"
     ]
    },
    {
     "name": "stderr",
     "output_type": "stream",
     "text": [
      "100%|██████████| 625/625 [11:19<00:00,  1.09s/it]\n",
      "100%|██████████| 625/625 [05:57<00:00,  1.75it/s]\n",
      "  0%|          | 0/7 [00:00<?, ?it/s]"
     ]
    },
    {
     "name": "stdout",
     "output_type": "stream",
     "text": [
      "Train: loss = 0.6931448537676752, top 1 = 0.9719839999998434, top 5 = 0.9601595999999903, top 10 = 0.9525168000000016, kendal = 0.7787448334786996\n"
     ]
    },
    {
     "name": "stderr",
     "output_type": "stream",
     "text": [
      "100%|██████████| 7/7 [00:03<00:00,  2.18it/s]\n",
      "  0%|          | 0/625 [00:00<?, ?it/s]"
     ]
    },
    {
     "name": "stdout",
     "output_type": "stream",
     "text": [
      "Valid: loss = 0.693144869362281, top 1 = 0.9745999999999998, top 5 = 0.9592399999999998, top 10 = 0.95324, kendal = 0.7798437607521502\n",
      "\n",
      "Epoch: 46\n"
     ]
    },
    {
     "name": "stderr",
     "output_type": "stream",
     "text": [
      "100%|██████████| 625/625 [11:52<00:00,  1.14s/it]\n",
      "100%|██████████| 625/625 [05:50<00:00,  1.78it/s]\n",
      "  0%|          | 0/7 [00:00<?, ?it/s]"
     ]
    },
    {
     "name": "stdout",
     "output_type": "stream",
     "text": [
      "Train: loss = 0.6931448489851234, top 1 = 0.9721779999998442, top 5 = 0.9601751999999919, top 10 = 0.9526110000000013, kendal = 0.7805470546269254\n"
     ]
    },
    {
     "name": "stderr",
     "output_type": "stream",
     "text": [
      "100%|██████████| 7/7 [00:04<00:00,  1.72it/s]\n",
      "  0%|          | 0/625 [00:00<?, ?it/s]"
     ]
    },
    {
     "name": "stdout",
     "output_type": "stream",
     "text": [
      "Valid: loss = 0.6931448549822874, top 1 = 0.9745999999999998, top 5 = 0.9596000000000002, top 10 = 0.9533999999999999, kendal = 0.7816605817163434\n",
      "\n",
      "Epoch: 47\n"
     ]
    },
    {
     "name": "stderr",
     "output_type": "stream",
     "text": [
      "100%|██████████| 625/625 [11:19<00:00,  1.09s/it]\n",
      "100%|██████████| 625/625 [06:35<00:00,  1.58it/s]\n",
      "  0%|          | 0/7 [00:00<?, ?it/s]"
     ]
    },
    {
     "name": "stdout",
     "output_type": "stream",
     "text": [
      "Train: loss = 0.6931448519169646, top 1 = 0.9723179999998434, top 5 = 0.960156799999993, top 10 = 0.9525276000000013, kendal = 0.7800734233886778\n"
     ]
    },
    {
     "name": "stderr",
     "output_type": "stream",
     "text": [
      "100%|██████████| 7/7 [00:03<00:00,  2.26it/s]\n",
      "  0%|          | 0/625 [00:00<?, ?it/s]"
     ]
    },
    {
     "name": "stdout",
     "output_type": "stream",
     "text": [
      "Valid: loss = 0.6931448621702758, top 1 = 0.9745999999999998, top 5 = 0.9598800000000004, top 10 = 0.9533599999999997, kendal = 0.7812061756351273\n",
      "\n",
      "Epoch: 48\n"
     ]
    },
    {
     "name": "stderr",
     "output_type": "stream",
     "text": [
      "100%|██████████| 625/625 [11:32<00:00,  1.11s/it]\n",
      "100%|██████████| 625/625 [05:30<00:00,  1.89it/s]\n",
      "  0%|          | 0/7 [00:00<?, ?it/s]"
     ]
    },
    {
     "name": "stdout",
     "output_type": "stream",
     "text": [
      "Train: loss = 0.6931448489625186, top 1 = 0.9727119999998424, top 5 = 0.9604387999999914, top 10 = 0.9531270000000052, kendal = 0.7832629323144618\n"
     ]
    },
    {
     "name": "stderr",
     "output_type": "stream",
     "text": [
      "100%|██████████| 7/7 [00:04<00:00,  1.70it/s]\n",
      "  0%|          | 0/625 [00:00<?, ?it/s]"
     ]
    },
    {
     "name": "stdout",
     "output_type": "stream",
     "text": [
      "Valid: loss = 0.6931448151477616, top 1 = 0.9762, top 5 = 0.9598, top 10 = 0.9537599999999996, kendal = 0.7844509589917987\n",
      "\n",
      "Epoch: 49\n"
     ]
    },
    {
     "name": "stderr",
     "output_type": "stream",
     "text": [
      "100%|██████████| 625/625 [11:47<00:00,  1.13s/it]\n",
      "100%|██████████| 625/625 [06:21<00:00,  1.64it/s]\n",
      "  0%|          | 0/7 [00:00<?, ?it/s]"
     ]
    },
    {
     "name": "stdout",
     "output_type": "stream",
     "text": [
      "Train: loss = 0.6931448517507965, top 1 = 0.9729119999998432, top 5 = 0.960565999999992, top 10 = 0.953353400000003, kendal = 0.7896365788517679\n"
     ]
    },
    {
     "name": "stderr",
     "output_type": "stream",
     "text": [
      "100%|██████████| 7/7 [00:04<00:00,  1.70it/s]\n",
      "  0%|          | 0/625 [00:00<?, ?it/s]"
     ]
    },
    {
     "name": "stdout",
     "output_type": "stream",
     "text": [
      "Valid: loss = 0.6931448485538322, top 1 = 0.9753999999999998, top 5 = 0.95992, top 10 = 0.9539199999999994, kendal = 0.7907495835167034\n",
      "\n",
      "Epoch: 50\n"
     ]
    },
    {
     "name": "stderr",
     "output_type": "stream",
     "text": [
      "100%|██████████| 625/625 [11:19<00:00,  1.09s/it]\n",
      "100%|██████████| 625/625 [06:02<00:00,  1.73it/s]\n",
      "  0%|          | 0/7 [00:00<?, ?it/s]"
     ]
    },
    {
     "name": "stdout",
     "output_type": "stream",
     "text": [
      "Train: loss = 0.6931448460480395, top 1 = 0.9731039999998425, top 5 = 0.960676799999992, top 10 = 0.9534992000000048, kendal = 0.7878688754070813\n"
     ]
    },
    {
     "name": "stderr",
     "output_type": "stream",
     "text": [
      "100%|██████████| 7/7 [00:03<00:00,  2.26it/s]\n",
      "  0%|          | 0/625 [00:00<?, ?it/s]"
     ]
    },
    {
     "name": "stdout",
     "output_type": "stream",
     "text": [
      "Valid: loss = 0.6931448823953638, top 1 = 0.9758, top 5 = 0.9604799999999998, top 10 = 0.9536199999999997, kendal = 0.7890183812762553\n",
      "\n",
      "Epoch: 51\n"
     ]
    },
    {
     "name": "stderr",
     "output_type": "stream",
     "text": [
      "100%|██████████| 625/625 [11:53<00:00,  1.14s/it]\n",
      "100%|██████████| 625/625 [05:41<00:00,  1.83it/s]\n",
      "  0%|          | 0/7 [00:00<?, ?it/s]"
     ]
    },
    {
     "name": "stdout",
     "output_type": "stream",
     "text": [
      "Train: loss = 0.6931448491347201, top 1 = 0.9733219999998437, top 5 = 0.9608679999999911, top 10 = 0.9536589999999995, kendal = 0.7942045890298077\n"
     ]
    },
    {
     "name": "stderr",
     "output_type": "stream",
     "text": [
      "100%|██████████| 7/7 [00:04<00:00,  1.70it/s]\n",
      "  0%|          | 0/625 [00:00<?, ?it/s]"
     ]
    },
    {
     "name": "stdout",
     "output_type": "stream",
     "text": [
      "Valid: loss = 0.6931448772701643, top 1 = 0.9759999999999998, top 5 = 0.9605999999999996, top 10 = 0.95396, kendal = 0.7953017051410284\n",
      "\n",
      "Epoch: 52\n"
     ]
    },
    {
     "name": "stderr",
     "output_type": "stream",
     "text": [
      "100%|██████████| 625/625 [11:18<00:00,  1.09s/it]\n",
      "100%|██████████| 625/625 [06:42<00:00,  1.55it/s]\n",
      "  0%|          | 0/7 [00:00<?, ?it/s]"
     ]
    },
    {
     "name": "stdout",
     "output_type": "stream",
     "text": [
      "Train: loss = 0.693144852015253, top 1 = 0.973527999999842, top 5 = 0.9610215999999878, top 10 = 0.9533086000000036, kendal = 0.7751296063852784\n"
     ]
    },
    {
     "name": "stderr",
     "output_type": "stream",
     "text": [
      "100%|██████████| 7/7 [00:02<00:00,  2.34it/s]\n",
      "  0%|          | 0/625 [00:00<?, ?it/s]"
     ]
    },
    {
     "name": "stdout",
     "output_type": "stream",
     "text": [
      "Valid: loss = 0.6931448337933207, top 1 = 0.9767999999999999, top 5 = 0.9607199999999995, top 10 = 0.9534199999999997, kendal = 0.7762365161032205\n",
      "\n",
      "Epoch: 53\n"
     ]
    },
    {
     "name": "stderr",
     "output_type": "stream",
     "text": [
      "100%|██████████| 625/625 [11:25<00:00,  1.10s/it]\n",
      "100%|██████████| 625/625 [05:29<00:00,  1.89it/s]\n",
      "  0%|          | 0/7 [00:00<?, ?it/s]"
     ]
    },
    {
     "name": "stdout",
     "output_type": "stream",
     "text": [
      "Train: loss = 0.6931448535081893, top 1 = 0.9736139999998437, top 5 = 0.9612595999999894, top 10 = 0.9538492000000047, kendal = 0.7764571791958372\n"
     ]
    },
    {
     "name": "stderr",
     "output_type": "stream",
     "text": [
      "100%|██████████| 7/7 [00:03<00:00,  1.90it/s]\n",
      "  0%|          | 0/625 [00:00<?, ?it/s]"
     ]
    },
    {
     "name": "stdout",
     "output_type": "stream",
     "text": [
      "Valid: loss = 0.6931448946192905, top 1 = 0.9769999999999999, top 5 = 0.9605999999999998, top 10 = 0.9541399999999993, kendal = 0.7775354030806162\n",
      "\n",
      "Epoch: 54\n"
     ]
    },
    {
     "name": "stderr",
     "output_type": "stream",
     "text": [
      "100%|██████████| 625/625 [11:52<00:00,  1.14s/it]\n",
      "100%|██████████| 625/625 [06:12<00:00,  1.68it/s]\n",
      "  0%|          | 0/7 [00:00<?, ?it/s]"
     ]
    },
    {
     "name": "stdout",
     "output_type": "stream",
     "text": [
      "Train: loss = 0.6931448492676876, top 1 = 0.9738559999998435, top 5 = 0.9613375999999866, top 10 = 0.9537468000000053, kendal = 0.782279478215644\n"
     ]
    },
    {
     "name": "stderr",
     "output_type": "stream",
     "text": [
      "100%|██████████| 7/7 [00:04<00:00,  1.71it/s]\n",
      "  0%|          | 0/625 [00:00<?, ?it/s]"
     ]
    },
    {
     "name": "stdout",
     "output_type": "stream",
     "text": [
      "Valid: loss = 0.6931448428681299, top 1 = 0.9771999999999998, top 5 = 0.96044, top 10 = 0.9539999999999996, kendal = 0.7833449585917183\n",
      "\n",
      "Epoch: 55\n"
     ]
    },
    {
     "name": "stderr",
     "output_type": "stream",
     "text": [
      "100%|██████████| 625/625 [11:18<00:00,  1.09s/it]\n",
      "100%|██████████| 625/625 [06:10<00:00,  1.69it/s]\n",
      "  0%|          | 0/7 [00:00<?, ?it/s]"
     ]
    },
    {
     "name": "stdout",
     "output_type": "stream",
     "text": [
      "Train: loss = 0.6931448492919038, top 1 = 0.973993999999843, top 5 = 0.9615383999999878, top 10 = 0.9542048000000038, kendal = 0.7733406238367686\n"
     ]
    },
    {
     "name": "stderr",
     "output_type": "stream",
     "text": [
      "100%|██████████| 7/7 [00:03<00:00,  2.24it/s]\n",
      "  0%|          | 0/625 [00:00<?, ?it/s]"
     ]
    },
    {
     "name": "stdout",
     "output_type": "stream",
     "text": [
      "Valid: loss = 0.693144898013043, top 1 = 0.9767999999999999, top 5 = 0.96056, top 10 = 0.9546799999999996, kendal = 0.7743380644128828\n",
      "\n",
      "Epoch: 56\n"
     ]
    },
    {
     "name": "stderr",
     "output_type": "stream",
     "text": [
      "100%|██████████| 625/625 [11:52<00:00,  1.14s/it]\n",
      "100%|██████████| 625/625 [05:34<00:00,  1.87it/s]\n",
      "  0%|          | 0/7 [00:00<?, ?it/s]"
     ]
    },
    {
     "name": "stdout",
     "output_type": "stream",
     "text": [
      "Train: loss = 0.6931448488733224, top 1 = 0.9742019999998424, top 5 = 0.9616187999999877, top 10 = 0.9544356000000013, kendal = 0.7914851585677147\n"
     ]
    },
    {
     "name": "stderr",
     "output_type": "stream",
     "text": [
      "100%|██████████| 7/7 [00:04<00:00,  1.71it/s]\n",
      "  0%|          | 0/625 [00:00<?, ?it/s]"
     ]
    },
    {
     "name": "stdout",
     "output_type": "stream",
     "text": [
      "Valid: loss = 0.6931448251992255, top 1 = 0.9774, top 5 = 0.9612800000000002, top 10 = 0.9548399999999997, kendal = 0.7924729969993995\n",
      "\n",
      "Epoch: 57\n"
     ]
    },
    {
     "name": "stderr",
     "output_type": "stream",
     "text": [
      "100%|██████████| 625/625 [11:21<00:00,  1.09s/it]\n",
      "100%|██████████| 625/625 [06:45<00:00,  1.54it/s]\n",
      "  0%|          | 0/7 [00:00<?, ?it/s]"
     ]
    },
    {
     "name": "stdout",
     "output_type": "stream",
     "text": [
      "Train: loss = 0.6931448459093331, top 1 = 0.9743259999998433, top 5 = 0.9617383999999857, top 10 = 0.954530000000005, kendal = 0.7932256911382272\n"
     ]
    },
    {
     "name": "stderr",
     "output_type": "stream",
     "text": [
      "100%|██████████| 7/7 [00:04<00:00,  1.70it/s]\n",
      "  0%|          | 0/625 [00:00<?, ?it/s]"
     ]
    },
    {
     "name": "stdout",
     "output_type": "stream",
     "text": [
      "Valid: loss = 0.6931448215148416, top 1 = 0.9774000000000003, top 5 = 0.9611599999999999, top 10 = 0.9550399999999997, kendal = 0.79416099219844\n",
      "\n",
      "Epoch: 58\n"
     ]
    },
    {
     "name": "stderr",
     "output_type": "stream",
     "text": [
      "100%|██████████| 625/625 [11:20<00:00,  1.09s/it]\n",
      "100%|██████████| 625/625 [05:36<00:00,  1.86it/s]\n",
      "  0%|          | 0/7 [00:00<?, ?it/s]"
     ]
    },
    {
     "name": "stdout",
     "output_type": "stream",
     "text": [
      "Train: loss = 0.6931448555924861, top 1 = 0.9744299999998434, top 5 = 0.961746399999988, top 10 = 0.9546700000000057, kendal = 0.7836833834927004\n"
     ]
    },
    {
     "name": "stderr",
     "output_type": "stream",
     "text": [
      "100%|██████████| 7/7 [00:03<00:00,  2.31it/s]\n",
      "  0%|          | 0/625 [00:00<?, ?it/s]"
     ]
    },
    {
     "name": "stdout",
     "output_type": "stream",
     "text": [
      "Valid: loss = 0.6931448716699796, top 1 = 0.9772000000000003, top 5 = 0.9611999999999996, top 10 = 0.9551999999999995, kendal = 0.7846303820764153\n",
      "\n",
      "Epoch: 59\n"
     ]
    },
    {
     "name": "stderr",
     "output_type": "stream",
     "text": [
      "100%|██████████| 625/625 [11:53<00:00,  1.14s/it]\n",
      "100%|██████████| 625/625 [06:07<00:00,  1.70it/s]\n",
      "  0%|          | 0/7 [00:00<?, ?it/s]"
     ]
    },
    {
     "name": "stdout",
     "output_type": "stream",
     "text": [
      "Train: loss = 0.6931448506368614, top 1 = 0.974489999999843, top 5 = 0.9618739999999841, top 10 = 0.9549762000000075, kendal = 0.7967959251370268\n"
     ]
    },
    {
     "name": "stderr",
     "output_type": "stream",
     "text": [
      "100%|██████████| 7/7 [00:04<00:00,  1.72it/s]\n",
      "  0%|          | 0/625 [00:00<?, ?it/s]"
     ]
    },
    {
     "name": "stdout",
     "output_type": "stream",
     "text": [
      "Valid: loss = 0.6931448381734393, top 1 = 0.9776000000000002, top 5 = 0.9610800000000004, top 10 = 0.9556000000000001, kendal = 0.7977278735747148\n",
      "\n",
      "Epoch: 60\n"
     ]
    },
    {
     "name": "stderr",
     "output_type": "stream",
     "text": [
      "100%|██████████| 625/625 [11:19<00:00,  1.09s/it]\n",
      "100%|██████████| 625/625 [06:16<00:00,  1.66it/s]\n",
      "  0%|          | 0/7 [00:00<?, ?it/s]"
     ]
    },
    {
     "name": "stdout",
     "output_type": "stream",
     "text": [
      "Train: loss = 0.6931448560804765, top 1 = 0.974663999999843, top 5 = 0.9618707999999866, top 10 = 0.9548546000000053, kendal = 0.7936987308181664\n"
     ]
    },
    {
     "name": "stderr",
     "output_type": "stream",
     "text": [
      "100%|██████████| 7/7 [00:03<00:00,  2.27it/s]\n",
      "  0%|          | 0/625 [00:00<?, ?it/s]"
     ]
    },
    {
     "name": "stdout",
     "output_type": "stream",
     "text": [
      "Valid: loss = 0.6931448628090068, top 1 = 0.9776000000000002, top 5 = 0.9607200000000001, top 10 = 0.9556799999999993, kendal = 0.7946231214242852\n",
      "\n",
      "Epoch: 61\n"
     ]
    },
    {
     "name": "stderr",
     "output_type": "stream",
     "text": [
      "100%|██████████| 625/625 [11:51<00:00,  1.14s/it]\n",
      "100%|██████████| 625/625 [05:31<00:00,  1.89it/s]\n",
      "  0%|          | 0/7 [00:00<?, ?it/s]"
     ]
    },
    {
     "name": "stdout",
     "output_type": "stream",
     "text": [
      "Train: loss = 0.6931448483799838, top 1 = 0.9747299999998424, top 5 = 0.962044799999984, top 10 = 0.9552058000000061, kendal = 0.7846692699659937\n"
     ]
    },
    {
     "name": "stderr",
     "output_type": "stream",
     "text": [
      "100%|██████████| 7/7 [00:04<00:00,  1.70it/s]\n",
      "  0%|          | 0/625 [00:00<?, ?it/s]"
     ]
    },
    {
     "name": "stdout",
     "output_type": "stream",
     "text": [
      "Valid: loss = 0.6931448715774606, top 1 = 0.9774, top 5 = 0.9609199999999999, top 10 = 0.9557399999999991, kendal = 0.7855474582916583\n",
      "\n",
      "Epoch: 62\n"
     ]
    },
    {
     "name": "stderr",
     "output_type": "stream",
     "text": [
      "100%|██████████| 625/625 [11:26<00:00,  1.10s/it]\n",
      "100%|██████████| 625/625 [06:40<00:00,  1.56it/s]\n",
      "  0%|          | 0/7 [00:00<?, ?it/s]"
     ]
    },
    {
     "name": "stdout",
     "output_type": "stream",
     "text": [
      "Train: loss = 0.6931448510539351, top 1 = 0.9749559999998438, top 5 = 0.9620571999999865, top 10 = 0.9552546000000061, kendal = 0.7968442296299285\n"
     ]
    },
    {
     "name": "stderr",
     "output_type": "stream",
     "text": [
      "100%|██████████| 7/7 [00:04<00:00,  1.71it/s]\n",
      "  0%|          | 0/625 [00:00<?, ?it/s]"
     ]
    },
    {
     "name": "stdout",
     "output_type": "stream",
     "text": [
      "Valid: loss = 0.6931448769882987, top 1 = 0.9784000000000002, top 5 = 0.9609599999999997, top 10 = 0.9561199999999995, kendal = 0.7977403320664135\n",
      "\n",
      "Epoch: 63\n"
     ]
    },
    {
     "name": "stderr",
     "output_type": "stream",
     "text": [
      "100%|██████████| 625/625 [11:19<00:00,  1.09s/it]\n",
      "100%|██████████| 625/625 [05:43<00:00,  1.82it/s]\n",
      "  0%|          | 0/7 [00:00<?, ?it/s]"
     ]
    },
    {
     "name": "stdout",
     "output_type": "stream",
     "text": [
      "Train: loss = 0.6931448511175354, top 1 = 0.9750239999998437, top 5 = 0.9622163999999859, top 10 = 0.9553704000000087, kendal = 0.7704648354630906\n"
     ]
    },
    {
     "name": "stderr",
     "output_type": "stream",
     "text": [
      "100%|██████████| 7/7 [00:02<00:00,  2.37it/s]\n",
      "  0%|          | 0/625 [00:00<?, ?it/s]"
     ]
    },
    {
     "name": "stdout",
     "output_type": "stream",
     "text": [
      "Valid: loss = 0.6931448400021439, top 1 = 0.9784000000000002, top 5 = 0.9611199999999998, top 10 = 0.9558599999999996, kendal = 0.7711999727945589\n",
      "\n",
      "Epoch: 64\n"
     ]
    },
    {
     "name": "stderr",
     "output_type": "stream",
     "text": [
      "100%|██████████| 625/625 [11:53<00:00,  1.14s/it]\n",
      "100%|██████████| 625/625 [06:02<00:00,  1.73it/s]\n",
      "  0%|          | 0/7 [00:00<?, ?it/s]"
     ]
    },
    {
     "name": "stdout",
     "output_type": "stream",
     "text": [
      "Train: loss = 0.6931448495452993, top 1 = 0.975187999999843, top 5 = 0.9622783999999851, top 10 = 0.9555326000000072, kendal = 0.7976341930786187\n"
     ]
    },
    {
     "name": "stderr",
     "output_type": "stream",
     "text": [
      "100%|██████████| 7/7 [00:04<00:00,  1.71it/s]\n",
      "  0%|          | 0/625 [00:00<?, ?it/s]"
     ]
    },
    {
     "name": "stdout",
     "output_type": "stream",
     "text": [
      "Valid: loss = 0.6931448578277102, top 1 = 0.9780000000000001, top 5 = 0.9610799999999999, top 10 = 0.9558199999999996, kendal = 0.798480116823365\n",
      "\n",
      "Epoch: 65\n"
     ]
    },
    {
     "name": "stderr",
     "output_type": "stream",
     "text": [
      "100%|██████████| 625/625 [11:19<00:00,  1.09s/it]\n",
      "100%|██████████| 625/625 [06:20<00:00,  1.64it/s]\n",
      "  0%|          | 0/7 [00:00<?, ?it/s]"
     ]
    },
    {
     "name": "stdout",
     "output_type": "stream",
     "text": [
      "Train: loss = 0.6931448455519866, top 1 = 0.9751079999998427, top 5 = 0.9622707999999871, top 10 = 0.9555808000000038, kendal = 0.7980280201480308\n"
     ]
    },
    {
     "name": "stderr",
     "output_type": "stream",
     "text": [
      "100%|██████████| 7/7 [00:03<00:00,  2.29it/s]\n",
      "  0%|          | 0/625 [00:00<?, ?it/s]"
     ]
    },
    {
     "name": "stdout",
     "output_type": "stream",
     "text": [
      "Valid: loss = 0.6931448476998041, top 1 = 0.9782000000000002, top 5 = 0.9611199999999998, top 10 = 0.9558999999999993, kendal = 0.7988534218843771\n",
      "\n",
      "Epoch: 66\n"
     ]
    },
    {
     "name": "stderr",
     "output_type": "stream",
     "text": [
      "100%|██████████| 625/625 [11:46<00:00,  1.13s/it]\n",
      "100%|██████████| 625/625 [05:31<00:00,  1.88it/s]\n",
      "  0%|          | 0/7 [00:00<?, ?it/s]"
     ]
    },
    {
     "name": "stdout",
     "output_type": "stream",
     "text": [
      "Train: loss = 0.6931448433217164, top 1 = 0.9752319999998428, top 5 = 0.9623311999999865, top 10 = 0.9557290000000048, kendal = 0.7920355592398458\n"
     ]
    },
    {
     "name": "stderr",
     "output_type": "stream",
     "text": [
      "100%|██████████| 7/7 [00:04<00:00,  1.72it/s]\n",
      "  0%|          | 0/625 [00:00<?, ?it/s]"
     ]
    },
    {
     "name": "stdout",
     "output_type": "stream",
     "text": [
      "Valid: loss = 0.6931448666677887, top 1 = 0.9786000000000001, top 5 = 0.9614399999999996, top 10 = 0.9560799999999992, kendal = 0.7927730426085217\n",
      "\n",
      "Epoch: 67\n"
     ]
    },
    {
     "name": "stderr",
     "output_type": "stream",
     "text": [
      "100%|██████████| 625/625 [11:31<00:00,  1.11s/it]\n",
      "100%|██████████| 625/625 [06:35<00:00,  1.58it/s]\n",
      "  0%|          | 0/7 [00:00<?, ?it/s]"
     ]
    },
    {
     "name": "stdout",
     "output_type": "stream",
     "text": [
      "Train: loss = 0.6931448483334759, top 1 = 0.9752659999998429, top 5 = 0.9624127999999841, top 10 = 0.9556588000000106, kendal = 0.8151662569313849\n"
     ]
    },
    {
     "name": "stderr",
     "output_type": "stream",
     "text": [
      "100%|██████████| 7/7 [00:04<00:00,  1.71it/s]\n",
      "  0%|          | 0/625 [00:00<?, ?it/s]"
     ]
    },
    {
     "name": "stdout",
     "output_type": "stream",
     "text": [
      "Valid: loss = 0.6931448251455837, top 1 = 0.9788000000000001, top 5 = 0.9615199999999998, top 10 = 0.9560199999999998, kendal = 0.8159776739347869\n",
      "\n",
      "Epoch: 68\n"
     ]
    },
    {
     "name": "stderr",
     "output_type": "stream",
     "text": [
      "100%|██████████| 625/625 [11:18<00:00,  1.09s/it]\n",
      "100%|██████████| 625/625 [05:47<00:00,  1.80it/s]\n",
      "  0%|          | 0/7 [00:00<?, ?it/s]"
     ]
    },
    {
     "name": "stdout",
     "output_type": "stream",
     "text": [
      "Train: loss = 0.6931448487428414, top 1 = 0.9754339999998427, top 5 = 0.9625883999999864, top 10 = 0.9558830000000064, kendal = 0.777903677887578\n"
     ]
    },
    {
     "name": "stderr",
     "output_type": "stream",
     "text": [
      "100%|██████████| 7/7 [00:02<00:00,  2.37it/s]\n",
      "  0%|          | 0/625 [00:00<?, ?it/s]"
     ]
    },
    {
     "name": "stdout",
     "output_type": "stream",
     "text": [
      "Valid: loss = 0.6931448799000388, top 1 = 0.9784, top 5 = 0.9614000000000003, top 10 = 0.9561399999999998, kendal = 0.7786590550110022\n",
      "\n",
      "Epoch: 69\n"
     ]
    },
    {
     "name": "stderr",
     "output_type": "stream",
     "text": [
      "100%|██████████| 625/625 [11:53<00:00,  1.14s/it]\n",
      "100%|██████████| 625/625 [05:57<00:00,  1.75it/s]\n",
      "  0%|          | 0/7 [00:00<?, ?it/s]"
     ]
    },
    {
     "name": "stdout",
     "output_type": "stream",
     "text": [
      "Train: loss = 0.6931448481803555, top 1 = 0.9753859999998425, top 5 = 0.9625027999999822, top 10 = 0.9559680000000068, kendal = 0.80657030234847\n"
     ]
    },
    {
     "name": "stderr",
     "output_type": "stream",
     "text": [
      "100%|██████████| 7/7 [00:04<00:00,  1.71it/s]\n",
      "  0%|          | 0/625 [00:00<?, ?it/s]"
     ]
    },
    {
     "name": "stdout",
     "output_type": "stream",
     "text": [
      "Valid: loss = 0.6931448482045532, top 1 = 0.9782, top 5 = 0.9615599999999996, top 10 = 0.9563399999999995, kendal = 0.8074121848369675\n",
      "\n",
      "Epoch: 70\n"
     ]
    },
    {
     "name": "stderr",
     "output_type": "stream",
     "text": [
      "100%|██████████| 625/625 [11:20<00:00,  1.09s/it]\n",
      "100%|██████████| 625/625 [06:26<00:00,  1.62it/s]\n",
      "  0%|          | 0/7 [00:00<?, ?it/s]"
     ]
    },
    {
     "name": "stdout",
     "output_type": "stream",
     "text": [
      "Train: loss = 0.6931448437575702, top 1 = 0.975563999999843, top 5 = 0.962592399999982, top 10 = 0.9559096000000067, kendal = 0.799421438895777\n"
     ]
    },
    {
     "name": "stderr",
     "output_type": "stream",
     "text": [
      "100%|██████████| 7/7 [00:03<00:00,  2.26it/s]\n",
      "  0%|          | 0/625 [00:00<?, ?it/s]"
     ]
    },
    {
     "name": "stdout",
     "output_type": "stream",
     "text": [
      "Valid: loss = 0.6931448217327137, top 1 = 0.9784, top 5 = 0.9618399999999998, top 10 = 0.9562, kendal = 0.8002729617923583\n",
      "\n",
      "Epoch: 71\n"
     ]
    },
    {
     "name": "stderr",
     "output_type": "stream",
     "text": [
      "100%|██████████| 625/625 [11:41<00:00,  1.12s/it]\n",
      "100%|██████████| 625/625 [05:30<00:00,  1.89it/s]\n",
      "  0%|          | 0/7 [00:00<?, ?it/s]"
     ]
    },
    {
     "name": "stdout",
     "output_type": "stream",
     "text": [
      "Train: loss = 0.6931448506534736, top 1 = 0.9756539999998433, top 5 = 0.9627719999999812, top 10 = 0.956284200000006, kendal = 0.797486466109218\n"
     ]
    },
    {
     "name": "stderr",
     "output_type": "stream",
     "text": [
      "100%|██████████| 7/7 [00:04<00:00,  1.71it/s]\n",
      "  0%|          | 0/625 [00:00<?, ?it/s]"
     ]
    },
    {
     "name": "stdout",
     "output_type": "stream",
     "text": [
      "Valid: loss = 0.6931448158915238, top 1 = 0.9786, top 5 = 0.9617999999999995, top 10 = 0.9567399999999993, kendal = 0.7982605433086618\n",
      "\n",
      "Epoch: 72\n"
     ]
    },
    {
     "name": "stderr",
     "output_type": "stream",
     "text": [
      "100%|██████████| 625/625 [11:37<00:00,  1.12s/it]\n",
      "100%|██████████| 625/625 [06:29<00:00,  1.60it/s]\n",
      "  0%|          | 0/7 [00:00<?, ?it/s]"
     ]
    },
    {
     "name": "stdout",
     "output_type": "stream",
     "text": [
      "Train: loss = 0.6931448435223283, top 1 = 0.9756439999998431, top 5 = 0.9628659999999846, top 10 = 0.9560832000000083, kendal = 0.8159281210482088\n"
     ]
    },
    {
     "name": "stderr",
     "output_type": "stream",
     "text": [
      "100%|██████████| 7/7 [00:04<00:00,  1.70it/s]\n",
      "  0%|          | 0/625 [00:00<?, ?it/s]"
     ]
    },
    {
     "name": "stdout",
     "output_type": "stream",
     "text": [
      "Valid: loss = 0.693144830507257, top 1 = 0.9788000000000001, top 5 = 0.96164, top 10 = 0.9564599999999999, kendal = 0.8167704324864973\n",
      "\n",
      "Epoch: 73\n"
     ]
    },
    {
     "name": "stderr",
     "output_type": "stream",
     "text": [
      "100%|██████████| 625/625 [11:20<00:00,  1.09s/it]\n",
      "100%|██████████| 625/625 [05:53<00:00,  1.77it/s]\n",
      "  0%|          | 0/7 [00:00<?, ?it/s]"
     ]
    },
    {
     "name": "stdout",
     "output_type": "stream",
     "text": [
      "Train: loss = 0.6931448435125139, top 1 = 0.9756959999998428, top 5 = 0.9628735999999813, top 10 = 0.9563224000000098, kendal = 0.8062787809881973\n"
     ]
    },
    {
     "name": "stderr",
     "output_type": "stream",
     "text": [
      "100%|██████████| 7/7 [00:03<00:00,  2.26it/s]\n",
      "  0%|          | 0/625 [00:00<?, ?it/s]"
     ]
    },
    {
     "name": "stdout",
     "output_type": "stream",
     "text": [
      "Valid: loss = 0.69314486581932, top 1 = 0.9790000000000001, top 5 = 0.9620000000000001, top 10 = 0.9565199999999996, kendal = 0.8070785821164237\n",
      "\n",
      "Epoch: 74\n"
     ]
    },
    {
     "name": "stderr",
     "output_type": "stream",
     "text": [
      "100%|██████████| 625/625 [11:53<00:00,  1.14s/it]\n",
      "100%|██████████| 625/625 [05:53<00:00,  1.77it/s]\n",
      "  0%|          | 0/7 [00:00<?, ?it/s]"
     ]
    },
    {
     "name": "stdout",
     "output_type": "stream",
     "text": [
      "Train: loss = 0.6931448503938228, top 1 = 0.975739999999843, top 5 = 0.9630907999999802, top 10 = 0.9562084000000075, kendal = 0.8163102688217639\n"
     ]
    },
    {
     "name": "stderr",
     "output_type": "stream",
     "text": [
      "100%|██████████| 7/7 [00:04<00:00,  1.72it/s]\n",
      "  0%|          | 0/625 [00:00<?, ?it/s]"
     ]
    },
    {
     "name": "stdout",
     "output_type": "stream",
     "text": [
      "Valid: loss = 0.6931448864303958, top 1 = 0.9790000000000001, top 5 = 0.9621199999999996, top 10 = 0.9566399999999996, kendal = 0.8171813338667735\n",
      "\n",
      "Epoch: 75\n"
     ]
    },
    {
     "name": "stderr",
     "output_type": "stream",
     "text": [
      "100%|██████████| 625/625 [11:19<00:00,  1.09s/it]\n",
      "100%|██████████| 625/625 [06:31<00:00,  1.60it/s]\n",
      "  0%|          | 0/7 [00:00<?, ?it/s]"
     ]
    },
    {
     "name": "stdout",
     "output_type": "stream",
     "text": [
      "Train: loss = 0.6931448531593475, top 1 = 0.9757359999998431, top 5 = 0.9633763999999814, top 10 = 0.9564012000000068, kendal = 0.8194847400040033\n"
     ]
    },
    {
     "name": "stderr",
     "output_type": "stream",
     "text": [
      "100%|██████████| 7/7 [00:03<00:00,  2.27it/s]\n",
      "  0%|          | 0/625 [00:00<?, ?it/s]"
     ]
    },
    {
     "name": "stdout",
     "output_type": "stream",
     "text": [
      "Valid: loss = 0.6931448725088558, top 1 = 0.9782000000000001, top 5 = 0.9628799999999994, top 10 = 0.9566399999999996, kendal = 0.8203370002000403\n",
      "\n",
      "Epoch: 76\n"
     ]
    },
    {
     "name": "stderr",
     "output_type": "stream",
     "text": [
      "100%|██████████| 625/625 [11:34<00:00,  1.11s/it]\n",
      "100%|██████████| 625/625 [05:30<00:00,  1.89it/s]\n",
      "  0%|          | 0/7 [00:00<?, ?it/s]"
     ]
    },
    {
     "name": "stdout",
     "output_type": "stream",
     "text": [
      "Train: loss = 0.6931448502020483, top 1 = 0.9758059999998435, top 5 = 0.9634407999999783, top 10 = 0.9563008000000045, kendal = 0.8235161918943793\n"
     ]
    },
    {
     "name": "stderr",
     "output_type": "stream",
     "text": [
      "100%|██████████| 7/7 [00:04<00:00,  1.70it/s]\n",
      "  0%|          | 0/625 [00:00<?, ?it/s]"
     ]
    },
    {
     "name": "stdout",
     "output_type": "stream",
     "text": [
      "Valid: loss = 0.6931448602654351, top 1 = 0.9780000000000001, top 5 = 0.9629599999999999, top 10 = 0.9565399999999997, kendal = 0.8244073086617327\n",
      "\n",
      "Epoch: 77\n"
     ]
    },
    {
     "name": "stderr",
     "output_type": "stream",
     "text": [
      "100%|██████████| 625/625 [11:42<00:00,  1.12s/it]\n",
      "100%|██████████| 625/625 [06:22<00:00,  1.63it/s]\n",
      "  0%|          | 0/7 [00:00<?, ?it/s]"
     ]
    },
    {
     "name": "stdout",
     "output_type": "stream",
     "text": [
      "Train: loss = 0.6931448494386797, top 1 = 0.9757459999998435, top 5 = 0.9634155999999783, top 10 = 0.9565538000000031, kendal = 0.8181285720184039\n"
     ]
    },
    {
     "name": "stderr",
     "output_type": "stream",
     "text": [
      "100%|██████████| 7/7 [00:04<00:00,  1.69it/s]\n",
      "  0%|          | 0/625 [00:00<?, ?it/s]"
     ]
    },
    {
     "name": "stdout",
     "output_type": "stream",
     "text": [
      "Valid: loss = 0.6931448118719158, top 1 = 0.9784000000000002, top 5 = 0.9629999999999996, top 10 = 0.9570999999999992, kendal = 0.8189696195239047\n",
      "\n",
      "Epoch: 78\n"
     ]
    },
    {
     "name": "stderr",
     "output_type": "stream",
     "text": [
      "100%|██████████| 625/625 [11:19<00:00,  1.09s/it]\n",
      "100%|██████████| 625/625 [05:59<00:00,  1.74it/s]\n",
      "  0%|          | 0/7 [00:00<?, ?it/s]"
     ]
    },
    {
     "name": "stdout",
     "output_type": "stream",
     "text": [
      "Train: loss = 0.6931448517669196, top 1 = 0.9758399999998437, top 5 = 0.9634547999999818, top 10 = 0.9565860000000049, kendal = 0.8232958584996988\n"
     ]
    },
    {
     "name": "stderr",
     "output_type": "stream",
     "text": [
      "100%|██████████| 7/7 [00:02<00:00,  2.36it/s]\n",
      "  0%|          | 0/625 [00:00<?, ?it/s]"
     ]
    },
    {
     "name": "stdout",
     "output_type": "stream",
     "text": [
      "Valid: loss = 0.6931448172504326, top 1 = 0.9782000000000001, top 5 = 0.9629999999999994, top 10 = 0.9571599999999997, kendal = 0.8241978059611923\n",
      "\n",
      "Epoch: 79\n"
     ]
    },
    {
     "name": "stderr",
     "output_type": "stream",
     "text": [
      "100%|██████████| 625/625 [11:53<00:00,  1.14s/it]\n",
      "100%|██████████| 625/625 [05:44<00:00,  1.82it/s]\n",
      "  0%|          | 0/7 [00:00<?, ?it/s]"
     ]
    },
    {
     "name": "stdout",
     "output_type": "stream",
     "text": [
      "Train: loss = 0.6931448502382817, top 1 = 0.9758619999998438, top 5 = 0.9634171999999799, top 10 = 0.9566760000000062, kendal = 0.8213504873134616\n"
     ]
    },
    {
     "name": "stderr",
     "output_type": "stream",
     "text": [
      "100%|██████████| 7/7 [00:04<00:00,  1.72it/s]\n",
      "  0%|          | 0/625 [00:00<?, ?it/s]"
     ]
    },
    {
     "name": "stdout",
     "output_type": "stream",
     "text": [
      "Valid: loss = 0.6931448465548055, top 1 = 0.9782000000000001, top 5 = 0.9628399999999995, top 10 = 0.9573399999999994, kendal = 0.8222750326065216\n",
      "\n",
      "Epoch: 80\n"
     ]
    },
    {
     "name": "stderr",
     "output_type": "stream",
     "text": [
      "100%|██████████| 625/625 [11:18<00:00,  1.09s/it]\n",
      "100%|██████████| 625/625 [06:38<00:00,  1.57it/s]\n",
      "  0%|          | 0/7 [00:00<?, ?it/s]"
     ]
    },
    {
     "name": "stdout",
     "output_type": "stream",
     "text": [
      "Train: loss = 0.6931448498590412, top 1 = 0.9759159999998436, top 5 = 0.9634915999999801, top 10 = 0.956888800000003, kendal = 0.8202245225685117\n"
     ]
    },
    {
     "name": "stderr",
     "output_type": "stream",
     "text": [
      "100%|██████████| 7/7 [00:02<00:00,  2.39it/s]\n",
      "  0%|          | 0/625 [00:00<?, ?it/s]"
     ]
    },
    {
     "name": "stdout",
     "output_type": "stream",
     "text": [
      "Valid: loss = 0.6931448628211802, top 1 = 0.9786000000000001, top 5 = 0.96288, top 10 = 0.9574199999999995, kendal = 0.8211535139027807\n",
      "\n",
      "Epoch: 81\n"
     ]
    },
    {
     "name": "stderr",
     "output_type": "stream",
     "text": [
      "100%|██████████| 625/625 [11:26<00:00,  1.10s/it]\n",
      "100%|██████████| 625/625 [05:25<00:00,  1.92it/s]\n",
      "  0%|          | 0/7 [00:00<?, ?it/s]"
     ]
    },
    {
     "name": "stdout",
     "output_type": "stream",
     "text": [
      "Train: loss = 0.6931448450621491, top 1 = 0.975975999999844, top 5 = 0.963429199999979, top 10 = 0.9569402000000089, kendal = 0.8169544516583309\n"
     ]
    },
    {
     "name": "stderr",
     "output_type": "stream",
     "text": [
      "100%|██████████| 7/7 [00:03<00:00,  2.24it/s]\n",
      "  0%|          | 0/625 [00:00<?, ?it/s]"
     ]
    },
    {
     "name": "stdout",
     "output_type": "stream",
     "text": [
      "Valid: loss = 0.6931448545001393, top 1 = 0.9786000000000001, top 5 = 0.9629599999999996, top 10 = 0.9576799999999995, kendal = 0.8179030766153234\n",
      "\n",
      "Epoch: 82\n"
     ]
    },
    {
     "name": "stderr",
     "output_type": "stream",
     "text": [
      "100%|██████████| 625/625 [11:52<00:00,  1.14s/it]\n",
      "100%|██████████| 625/625 [06:09<00:00,  1.69it/s]\n",
      "  0%|          | 0/7 [00:00<?, ?it/s]"
     ]
    },
    {
     "name": "stdout",
     "output_type": "stream",
     "text": [
      "Train: loss = 0.6931448511336783, top 1 = 0.9760579999998438, top 5 = 0.9635227999999794, top 10 = 0.9572642000000092, kendal = 0.7964151060932209\n"
     ]
    },
    {
     "name": "stderr",
     "output_type": "stream",
     "text": [
      "100%|██████████| 7/7 [00:04<00:00,  1.69it/s]\n",
      "  0%|          | 0/625 [00:00<?, ?it/s]"
     ]
    },
    {
     "name": "stdout",
     "output_type": "stream",
     "text": [
      "Valid: loss = 0.6931448840631053, top 1 = 0.9790000000000001, top 5 = 0.9628399999999995, top 10 = 0.9576999999999996, kendal = 0.7973179051810364\n",
      "\n",
      "Epoch: 83\n"
     ]
    },
    {
     "name": "stderr",
     "output_type": "stream",
     "text": [
      "100%|██████████| 625/625 [11:19<00:00,  1.09s/it]\n",
      "100%|██████████| 625/625 [06:13<00:00,  1.67it/s]\n",
      "  0%|          | 0/7 [00:00<?, ?it/s]"
     ]
    },
    {
     "name": "stdout",
     "output_type": "stream",
     "text": [
      "Train: loss = 0.6931448484568964, top 1 = 0.9760839999998436, top 5 = 0.9637023999999806, top 10 = 0.9572062000000091, kendal = 0.8131135459731957\n"
     ]
    },
    {
     "name": "stderr",
     "output_type": "stream",
     "text": [
      "100%|██████████| 7/7 [00:03<00:00,  2.14it/s]\n",
      "  0%|          | 0/625 [00:00<?, ?it/s]"
     ]
    },
    {
     "name": "stdout",
     "output_type": "stream",
     "text": [
      "Valid: loss = 0.6931448386577521, top 1 = 0.9790000000000001, top 5 = 0.9627599999999998, top 10 = 0.9574599999999996, kendal = 0.8140287145429085\n",
      "\n",
      "Epoch: 84\n"
     ]
    },
    {
     "name": "stderr",
     "output_type": "stream",
     "text": [
      "100%|██████████| 625/625 [11:53<00:00,  1.14s/it]\n",
      "100%|██████████| 625/625 [05:32<00:00,  1.88it/s]\n",
      "  0%|          | 0/7 [00:00<?, ?it/s]"
     ]
    },
    {
     "name": "stdout",
     "output_type": "stream",
     "text": [
      "Train: loss = 0.6931448472787503, top 1 = 0.9761899999998437, top 5 = 0.9636191999999786, top 10 = 0.9567390000000081, kendal = 0.8275072746389258\n"
     ]
    },
    {
     "name": "stderr",
     "output_type": "stream",
     "text": [
      "100%|██████████| 7/7 [00:04<00:00,  1.72it/s]\n",
      "  0%|          | 0/625 [00:00<?, ?it/s]"
     ]
    },
    {
     "name": "stdout",
     "output_type": "stream",
     "text": [
      "Valid: loss = 0.6931448658648601, top 1 = 0.9790000000000001, top 5 = 0.9629199999999999, top 10 = 0.9575799999999995, kendal = 0.8284680920184035\n",
      "\n",
      "Epoch: 85\n"
     ]
    },
    {
     "name": "stderr",
     "output_type": "stream",
     "text": [
      "100%|██████████| 625/625 [11:23<00:00,  1.09s/it]\n",
      "100%|██████████| 625/625 [06:44<00:00,  1.55it/s]\n",
      "  0%|          | 0/7 [00:00<?, ?it/s]"
     ]
    },
    {
     "name": "stdout",
     "output_type": "stream",
     "text": [
      "Train: loss = 0.6931448496938869, top 1 = 0.9761639999998443, top 5 = 0.9636171999999791, top 10 = 0.9569726000000004, kendal = 0.8275433770754167\n"
     ]
    },
    {
     "name": "stderr",
     "output_type": "stream",
     "text": [
      "100%|██████████| 7/7 [00:04<00:00,  1.70it/s]\n",
      "  0%|          | 0/625 [00:00<?, ?it/s]"
     ]
    },
    {
     "name": "stdout",
     "output_type": "stream",
     "text": [
      "Valid: loss = 0.693144837640299, top 1 = 0.9792000000000001, top 5 = 0.9628399999999999, top 10 = 0.9577799999999996, kendal = 0.8284357559511903\n",
      "\n",
      "Epoch: 86\n"
     ]
    },
    {
     "name": "stderr",
     "output_type": "stream",
     "text": [
      "100%|██████████| 625/625 [11:17<00:00,  1.08s/it]\n",
      "100%|██████████| 625/625 [05:39<00:00,  1.84it/s]\n",
      "  0%|          | 0/7 [00:00<?, ?it/s]"
     ]
    },
    {
     "name": "stdout",
     "output_type": "stream",
     "text": [
      "Train: loss = 0.6931448460793189, top 1 = 0.9762299999998433, top 5 = 0.9637251999999795, top 10 = 0.9572598000000042, kendal = 0.8137841390838152\n"
     ]
    },
    {
     "name": "stderr",
     "output_type": "stream",
     "text": [
      "100%|██████████| 7/7 [00:02<00:00,  2.34it/s]\n",
      "  0%|          | 0/625 [00:00<?, ?it/s]"
     ]
    },
    {
     "name": "stdout",
     "output_type": "stream",
     "text": [
      "Valid: loss = 0.6931448387933794, top 1 = 0.9790000000000001, top 5 = 0.9625999999999999, top 10 = 0.9578199999999994, kendal = 0.8146651986397282\n",
      "\n",
      "Epoch: 87\n"
     ]
    },
    {
     "name": "stderr",
     "output_type": "stream",
     "text": [
      "100%|██████████| 625/625 [11:53<00:00,  1.14s/it]\n",
      "100%|██████████| 625/625 [06:04<00:00,  1.71it/s]\n",
      "  0%|          | 0/7 [00:00<?, ?it/s]"
     ]
    },
    {
     "name": "stdout",
     "output_type": "stream",
     "text": [
      "Train: loss = 0.6931448471576552, top 1 = 0.9762239999998438, top 5 = 0.9638123999999809, top 10 = 0.9573732000000098, kendal = 0.8154121726265238\n"
     ]
    },
    {
     "name": "stderr",
     "output_type": "stream",
     "text": [
      "100%|██████████| 7/7 [00:04<00:00,  1.71it/s]\n",
      "  0%|          | 0/625 [00:00<?, ?it/s]"
     ]
    },
    {
     "name": "stdout",
     "output_type": "stream",
     "text": [
      "Valid: loss = 0.6931448681572356, top 1 = 0.9794000000000002, top 5 = 0.9628, top 10 = 0.9577999999999994, kendal = 0.8162291674334865\n",
      "\n",
      "Epoch: 88\n"
     ]
    },
    {
     "name": "stderr",
     "output_type": "stream",
     "text": [
      "100%|██████████| 625/625 [11:18<00:00,  1.09s/it]\n",
      "100%|██████████| 625/625 [06:19<00:00,  1.65it/s]\n",
      "  0%|          | 0/7 [00:00<?, ?it/s]"
     ]
    },
    {
     "name": "stdout",
     "output_type": "stream",
     "text": [
      "Train: loss = 0.6931448402913934, top 1 = 0.9763439999998441, top 5 = 0.9638715999999804, top 10 = 0.9574000000000075, kendal = 0.8144057363632737\n"
     ]
    },
    {
     "name": "stderr",
     "output_type": "stream",
     "text": [
      "100%|██████████| 7/7 [00:02<00:00,  2.35it/s]\n",
      "  0%|          | 0/625 [00:00<?, ?it/s]"
     ]
    },
    {
     "name": "stdout",
     "output_type": "stream",
     "text": [
      "Valid: loss = 0.6931448740105889, top 1 = 0.9792000000000001, top 5 = 0.9627599999999998, top 10 = 0.9578399999999996, kendal = 0.8151878903780756\n",
      "\n",
      "Epoch: 89\n"
     ]
    },
    {
     "name": "stderr",
     "output_type": "stream",
     "text": [
      "100%|██████████| 625/625 [11:48<00:00,  1.13s/it]\n",
      "100%|██████████| 625/625 [05:31<00:00,  1.89it/s]\n",
      "  0%|          | 0/7 [00:00<?, ?it/s]"
     ]
    },
    {
     "name": "stdout",
     "output_type": "stream",
     "text": [
      "Train: loss = 0.6931448481558067, top 1 = 0.9764359999998434, top 5 = 0.9638735999999819, top 10 = 0.9573244000000101, kendal = 0.8233467407881578\n"
     ]
    },
    {
     "name": "stderr",
     "output_type": "stream",
     "text": [
      "100%|██████████| 7/7 [00:04<00:00,  1.71it/s]\n",
      "  0%|          | 0/625 [00:00<?, ?it/s]"
     ]
    },
    {
     "name": "stdout",
     "output_type": "stream",
     "text": [
      "Valid: loss = 0.6931448587406824, top 1 = 0.9792000000000001, top 5 = 0.9628399999999998, top 10 = 0.9579199999999994, kendal = 0.824155549509902\n",
      "\n",
      "Epoch: 90\n"
     ]
    },
    {
     "name": "stderr",
     "output_type": "stream",
     "text": [
      "100%|██████████| 625/625 [11:29<00:00,  1.10s/it]\n",
      "100%|██████████| 625/625 [06:37<00:00,  1.57it/s]\n",
      "  0%|          | 0/7 [00:00<?, ?it/s]"
     ]
    },
    {
     "name": "stdout",
     "output_type": "stream",
     "text": [
      "Train: loss = 0.6931448575074401, top 1 = 0.9764359999998438, top 5 = 0.9637043999999805, top 10 = 0.9569250000000092, kendal = 0.828922929865974\n"
     ]
    },
    {
     "name": "stderr",
     "output_type": "stream",
     "text": [
      "100%|██████████| 7/7 [00:04<00:00,  1.71it/s]\n",
      "  0%|          | 0/625 [00:00<?, ?it/s]"
     ]
    },
    {
     "name": "stdout",
     "output_type": "stream",
     "text": [
      "Valid: loss = 0.6931448718234084, top 1 = 0.9794000000000002, top 5 = 0.963, top 10 = 0.9578000000000002, kendal = 0.8296870782156432\n",
      "\n",
      "Epoch: 91\n"
     ]
    },
    {
     "name": "stderr",
     "output_type": "stream",
     "text": [
      "100%|██████████| 625/625 [11:19<00:00,  1.09s/it]\n",
      "100%|██████████| 625/625 [05:45<00:00,  1.81it/s]\n",
      "  0%|          | 0/7 [00:00<?, ?it/s]"
     ]
    },
    {
     "name": "stdout",
     "output_type": "stream",
     "text": [
      "Train: loss = 0.6931448491409383, top 1 = 0.9763859999998442, top 5 = 0.9637243999999806, top 10 = 0.9572626000000067, kendal = 0.8292585375315066\n"
     ]
    },
    {
     "name": "stderr",
     "output_type": "stream",
     "text": [
      "100%|██████████| 7/7 [00:02<00:00,  2.35it/s]\n",
      "  0%|          | 0/625 [00:00<?, ?it/s]"
     ]
    },
    {
     "name": "stdout",
     "output_type": "stream",
     "text": [
      "Valid: loss = 0.6931448185882009, top 1 = 0.9796, top 5 = 0.9631200000000001, top 10 = 0.9579199999999995, kendal = 0.829986184436887\n",
      "\n",
      "Epoch: 92\n"
     ]
    },
    {
     "name": "stderr",
     "output_type": "stream",
     "text": [
      "100%|██████████| 625/625 [11:53<00:00,  1.14s/it]\n",
      "100%|██████████| 625/625 [05:58<00:00,  1.74it/s]\n",
      "  0%|          | 0/7 [00:00<?, ?it/s]"
     ]
    },
    {
     "name": "stdout",
     "output_type": "stream",
     "text": [
      "Train: loss = 0.6931448500937122, top 1 = 0.9765459999998438, top 5 = 0.9639415999999804, top 10 = 0.9574650000000072, kendal = 0.8243223349469894\n"
     ]
    },
    {
     "name": "stderr",
     "output_type": "stream",
     "text": [
      "100%|██████████| 7/7 [00:04<00:00,  1.70it/s]\n",
      "  0%|          | 0/625 [00:00<?, ?it/s]"
     ]
    },
    {
     "name": "stdout",
     "output_type": "stream",
     "text": [
      "Valid: loss = 0.6931449053131348, top 1 = 0.9794000000000002, top 5 = 0.9631199999999996, top 10 = 0.9581999999999996, kendal = 0.8250007137427485\n",
      "\n",
      "Epoch: 93\n"
     ]
    },
    {
     "name": "stderr",
     "output_type": "stream",
     "text": [
      "100%|██████████| 625/625 [11:18<00:00,  1.08s/it]\n",
      "100%|██████████| 625/625 [06:24<00:00,  1.63it/s]\n",
      "  0%|          | 0/7 [00:00<?, ?it/s]"
     ]
    },
    {
     "name": "stdout",
     "output_type": "stream",
     "text": [
      "Train: loss = 0.6931448431122915, top 1 = 0.9764859999998436, top 5 = 0.9639387999999804, top 10 = 0.9576594000000034, kendal = 0.815089028125626\n"
     ]
    },
    {
     "name": "stderr",
     "output_type": "stream",
     "text": [
      "100%|██████████| 7/7 [00:02<00:00,  2.36it/s]\n",
      "  0%|          | 0/625 [00:00<?, ?it/s]"
     ]
    },
    {
     "name": "stdout",
     "output_type": "stream",
     "text": [
      "Valid: loss = 0.6931448553118181, top 1 = 0.9792000000000001, top 5 = 0.9634399999999996, top 10 = 0.9584199999999999, kendal = 0.8157196575315062\n",
      "\n",
      "Epoch: 94\n"
     ]
    },
    {
     "name": "stderr",
     "output_type": "stream",
     "text": [
      "100%|██████████| 625/625 [11:41<00:00,  1.12s/it]\n",
      "100%|██████████| 625/625 [05:29<00:00,  1.90it/s]\n",
      "  0%|          | 0/7 [00:00<?, ?it/s]"
     ]
    },
    {
     "name": "stdout",
     "output_type": "stream",
     "text": [
      "Train: loss = 0.6931448447828132, top 1 = 0.9765139999998445, top 5 = 0.9639811999999774, top 10 = 0.9576558000000055, kendal = 0.8245692149149824\n"
     ]
    },
    {
     "name": "stderr",
     "output_type": "stream",
     "text": [
      "100%|██████████| 7/7 [00:04<00:00,  1.71it/s]\n",
      "  0%|          | 0/625 [00:00<?, ?it/s]"
     ]
    },
    {
     "name": "stdout",
     "output_type": "stream",
     "text": [
      "Valid: loss = 0.693144837801583, top 1 = 0.9793999999999999, top 5 = 0.9632800000000001, top 10 = 0.95832, kendal = 0.8252000288057615\n",
      "\n",
      "Epoch: 95\n"
     ]
    },
    {
     "name": "stderr",
     "output_type": "stream",
     "text": [
      "100%|██████████| 625/625 [11:36<00:00,  1.12s/it]\n",
      "100%|██████████| 625/625 [06:29<00:00,  1.61it/s]\n",
      "  0%|          | 0/7 [00:00<?, ?it/s]"
     ]
    },
    {
     "name": "stdout",
     "output_type": "stream",
     "text": [
      "Train: loss = 0.6931448452843706, top 1 = 0.9766119999998438, top 5 = 0.963976399999979, top 10 = 0.9573464000000027, kendal = 0.8322107566473312\n"
     ]
    },
    {
     "name": "stderr",
     "output_type": "stream",
     "text": [
      "100%|██████████| 7/7 [00:04<00:00,  1.72it/s]\n",
      "  0%|          | 0/625 [00:00<?, ?it/s]"
     ]
    },
    {
     "name": "stdout",
     "output_type": "stream",
     "text": [
      "Valid: loss = 0.6931448448252437, top 1 = 0.9795999999999999, top 5 = 0.9633200000000002, top 10 = 0.9581199999999995, kendal = 0.8328247937587514\n",
      "\n",
      "Epoch: 96\n"
     ]
    },
    {
     "name": "stderr",
     "output_type": "stream",
     "text": [
      "100%|██████████| 625/625 [11:18<00:00,  1.09s/it]\n",
      "100%|██████████| 625/625 [05:53<00:00,  1.77it/s]\n",
      "  0%|          | 0/7 [00:00<?, ?it/s]"
     ]
    },
    {
     "name": "stdout",
     "output_type": "stream",
     "text": [
      "Train: loss = 0.6931448457157195, top 1 = 0.9765159999998446, top 5 = 0.9640823999999789, top 10 = 0.9572634000000025, kendal = 0.836471264828967\n"
     ]
    },
    {
     "name": "stderr",
     "output_type": "stream",
     "text": [
      "100%|██████████| 7/7 [00:03<00:00,  2.28it/s]\n",
      "  0%|          | 0/625 [00:00<?, ?it/s]"
     ]
    },
    {
     "name": "stdout",
     "output_type": "stream",
     "text": [
      "Valid: loss = 0.693144878724475, top 1 = 0.9796, top 5 = 0.9632799999999999, top 10 = 0.9578999999999998, kendal = 0.8370855259051813\n",
      "\n",
      "Epoch: 97\n"
     ]
    },
    {
     "name": "stderr",
     "output_type": "stream",
     "text": [
      "100%|██████████| 625/625 [11:53<00:00,  1.14s/it]\n",
      "100%|██████████| 625/625 [05:49<00:00,  1.79it/s]\n",
      "  0%|          | 0/7 [00:00<?, ?it/s]"
     ]
    },
    {
     "name": "stdout",
     "output_type": "stream",
     "text": [
      "Train: loss = 0.6931448510177588, top 1 = 0.9765179999998447, top 5 = 0.964088799999979, top 10 = 0.9575508000000065, kendal = 0.8233318409281853\n"
     ]
    },
    {
     "name": "stderr",
     "output_type": "stream",
     "text": [
      "100%|██████████| 7/7 [00:04<00:00,  1.70it/s]\n",
      "  0%|          | 0/625 [00:00<?, ?it/s]"
     ]
    },
    {
     "name": "stdout",
     "output_type": "stream",
     "text": [
      "Valid: loss = 0.6931448245306063, top 1 = 0.9796, top 5 = 0.9634400000000001, top 10 = 0.9581399999999995, kendal = 0.8239467013402678\n",
      "\n",
      "Epoch: 98\n"
     ]
    },
    {
     "name": "stderr",
     "output_type": "stream",
     "text": [
      "100%|██████████| 625/625 [11:20<00:00,  1.09s/it]\n",
      "100%|██████████| 625/625 [06:32<00:00,  1.59it/s]\n",
      "  0%|          | 0/7 [00:00<?, ?it/s]"
     ]
    },
    {
     "name": "stdout",
     "output_type": "stream",
     "text": [
      "Train: loss = 0.6931448506416755, top 1 = 0.9766299999998445, top 5 = 0.9641655999999764, top 10 = 0.9573216000000019, kendal = 0.8352540794878968\n"
     ]
    },
    {
     "name": "stderr",
     "output_type": "stream",
     "text": [
      "100%|██████████| 7/7 [00:02<00:00,  2.35it/s]\n",
      "  0%|          | 0/625 [00:00<?, ?it/s]"
     ]
    },
    {
     "name": "stdout",
     "output_type": "stream",
     "text": [
      "Valid: loss = 0.6931448555952795, top 1 = 0.9796, top 5 = 0.9633199999999998, top 10 = 0.9580999999999997, kendal = 0.8358663412682535\n",
      "\n",
      "Epoch: 99\n"
     ]
    },
    {
     "name": "stderr",
     "output_type": "stream",
     "text": [
      "100%|██████████| 625/625 [11:34<00:00,  1.11s/it]\n",
      "100%|██████████| 625/625 [05:28<00:00,  1.90it/s]\n",
      "  0%|          | 0/7 [00:00<?, ?it/s]"
     ]
    },
    {
     "name": "stdout",
     "output_type": "stream",
     "text": [
      "Train: loss = 0.6931448458631119, top 1 = 0.9766419999998444, top 5 = 0.9639911999999747, top 10 = 0.9566144000000055, kendal = 0.8404593301860396\n"
     ]
    },
    {
     "name": "stderr",
     "output_type": "stream",
     "text": [
      "100%|██████████| 7/7 [00:04<00:00,  1.72it/s]\n",
      "  0%|          | 0/625 [00:00<?, ?it/s]"
     ]
    },
    {
     "name": "stdout",
     "output_type": "stream",
     "text": [
      "Valid: loss = 0.6931448459742795, top 1 = 0.9798, top 5 = 0.9631199999999999, top 10 = 0.9574999999999996, kendal = 0.8410614634926984\n",
      "\n",
      "Epoch: 100\n"
     ]
    },
    {
     "name": "stderr",
     "output_type": "stream",
     "text": [
      "100%|██████████| 625/625 [11:44<00:00,  1.13s/it]\n",
      " 70%|██████▉   | 435/625 [04:17<01:52,  1.69it/s]\n"
     ]
    },
    {
     "ename": "KeyboardInterrupt",
     "evalue": "",
     "output_type": "error",
     "traceback": [
      "\u001b[0;31m---------------------------------\u001b[0m",
      "\u001b[0;31mKeyboardInterrupt\u001b[0mTraceback (most recent call last)",
      "\u001b[0;32m<ipython-input-31-2952f4b99d08>\u001b[0m in \u001b[0;36m<module>\u001b[0;34m\u001b[0m\n\u001b[1;32m     98\u001b[0m                 \u001b[0mindice\u001b[0m\u001b[0;34m,\u001b[0m \u001b[0;34m=\u001b[0m \u001b[0mnp\u001b[0m\u001b[0;34m.\u001b[0m\u001b[0mwhere\u001b[0m\u001b[0;34m(\u001b[0m\u001b[0mb_index\u001b[0m \u001b[0;34m==\u001b[0m \u001b[0mb_\u001b[0m\u001b[0;34m)\u001b[0m\u001b[0;34m\u001b[0m\u001b[0;34m\u001b[0m\u001b[0m\n\u001b[1;32m     99\u001b[0m \u001b[0;34m\u001b[0m\u001b[0m\n\u001b[0;32m--> 100\u001b[0;31m                 \u001b[0mgt\u001b[0m \u001b[0;34m=\u001b[0m \u001b[0mbatch\u001b[0m\u001b[0;34m.\u001b[0m\u001b[0my\u001b[0m\u001b[0;34m[\u001b[0m\u001b[0mindice\u001b[0m\u001b[0;34m]\u001b[0m\u001b[0;34m.\u001b[0m\u001b[0msqueeze\u001b[0m\u001b[0;34m(\u001b[0m\u001b[0;34m)\u001b[0m\u001b[0;34m\u001b[0m\u001b[0;34m\u001b[0m\u001b[0m\n\u001b[0m\u001b[1;32m    101\u001b[0m                 \u001b[0mpr\u001b[0m \u001b[0;34m=\u001b[0m \u001b[0mbc_pr\u001b[0m\u001b[0;34m[\u001b[0m\u001b[0mindice\u001b[0m\u001b[0;34m]\u001b[0m\u001b[0;34m.\u001b[0m\u001b[0msqueeze\u001b[0m\u001b[0;34m(\u001b[0m\u001b[0;34m)\u001b[0m\u001b[0;34m\u001b[0m\u001b[0;34m\u001b[0m\u001b[0m\n\u001b[1;32m    102\u001b[0m \u001b[0;34m\u001b[0m\u001b[0m\n",
      "\u001b[0;31mKeyboardInterrupt\u001b[0m: "
     ]
    }
   ],
   "source": [
    "nodes_cnt = setting.nodes_cnt\n",
    "\n",
    "\n",
    "model.train()\n",
    "\n",
    "train_info = {\n",
    "    \"bce\": [],\n",
    "    \"top1\": [],\n",
    "    \"top5\": [],\n",
    "    \"top10\": [],\n",
    "    \"kendal\": []\n",
    "}\n",
    "\n",
    "valid_info = {\n",
    "    \"bce\": [],\n",
    "    \"top1\": [],\n",
    "    \"top5\": [],\n",
    "    \"top10\": [],\n",
    "    \"kendal\": []\n",
    "}\n",
    "\n",
    "top_10 = 0.0\n",
    "top_5 = 0.0\n",
    "top_1 = 0.0\n",
    "\n",
    "for epoch in range(setting.epochs):\n",
    "    \n",
    "#     G, bc_gt = generate_nx_graph(nodes_cnt)\n",
    "    \n",
    "#     # Convert networkx.Graph to Pyg Data\n",
    "#     G = from_networkx(G)\n",
    "\n",
    "    print(\"\\nEpoch: {}\".format(epoch+1))\n",
    "\n",
    "    for batch in tqdm(train_loader):\n",
    "    \n",
    "        ### Start training\n",
    "        optimizer.zero_grad()\n",
    "        batch = batch.to(setting.device)\n",
    "\n",
    "        bc_pr = model(batch)\n",
    "    \n",
    "        \n",
    "        # compute batch loss\n",
    "        b_index = batch.batch.cpu().numpy()\n",
    "        b = np.max(b_index) + 1\n",
    "        \n",
    "        batch_loss = torch.tensor(0, dtype=torch.float).to(setting.device)\n",
    "        \n",
    "        for b_ in range(b):\n",
    "            \n",
    "            indice, = np.where(b_index == b_)\n",
    "            \n",
    "            gt = batch.y[indice].squeeze()\n",
    "            pr = bc_pr[indice].squeeze()\n",
    "            \n",
    "            # random sample 5|V| nodes\n",
    "            src = np.random.choice(len(indice), 5*len(indice), replace=True)\n",
    "            det = np.random.choice(len(indice), 5*len(indice), replace=True)\n",
    "            src = torch.from_numpy(src)\n",
    "            det = torch.from_numpy(det)\n",
    "\n",
    "            \n",
    "            y_gt = gt[det] - gt[src]\n",
    "            y_pr = pr[det] - pr[src]\n",
    "            \n",
    "            y_gt = nn.Sigmoid()(y_gt)\n",
    "            y_pr = nn.Sigmoid()(y_pr)\n",
    "        \n",
    "            batch_loss += nn.BCELoss()(y_pr, y_gt)\n",
    "        \n",
    "        batch_loss = torch.div(batch_loss, b)\n",
    "        batch_loss.backward()\n",
    "        optimizer.step()\n",
    "    \n",
    "    \n",
    "    ### Evaluation\n",
    "    with torch.no_grad():\n",
    "        \n",
    "        \n",
    "        top1_list = []\n",
    "        top5_list = []\n",
    "        top10_list = []\n",
    "        kendal_list = []\n",
    "        loss_list = []\n",
    "        \n",
    "        for batch in tqdm(train_loader):\n",
    "\n",
    "            batch = batch.to(setting.device)\n",
    "\n",
    "            bc_pr = model(batch)\n",
    "\n",
    "            b_index = batch.batch.cpu().numpy()\n",
    "            b = np.max(b_index) + 1\n",
    "\n",
    "            for b_ in range(b):\n",
    "\n",
    "                indice, = np.where(b_index == b_)\n",
    "\n",
    "                gt = batch.y[indice].squeeze()\n",
    "                pr = bc_pr[indice].squeeze()\n",
    "                \n",
    "                # evaluation\n",
    "                top1 = top_n_percentage(gt, pr, k=1)\n",
    "                top5 = top_n_percentage(gt, pr, k=5)\n",
    "                top10 = top_n_percentage(gt, pr, k=10)\n",
    "                kendal = kendal_tau_distance(gt, pr)\n",
    "                \n",
    "\n",
    "                # compute loss\n",
    "                src = np.random.choice(len(indice), 5*len(indice), replace=True)\n",
    "                det = np.random.choice(len(indice), 5*len(indice), replace=True)\n",
    "                src = torch.from_numpy(src)\n",
    "                det = torch.from_numpy(det)\n",
    "\n",
    "                y_gt = gt[det] - gt[src]\n",
    "                y_pr = pr[det] - pr[src]\n",
    "\n",
    "                y_gt = nn.Sigmoid()(y_gt)\n",
    "                y_pr = nn.Sigmoid()(y_pr)\n",
    "\n",
    "                loss = nn.BCELoss()(y_pr, y_gt)\n",
    "                \n",
    "                top1_list.append(top1)\n",
    "                top5_list.append(top5)\n",
    "                top10_list.append(top10)\n",
    "                kendal_list.append(kendal)\n",
    "                loss_list.append(loss.item())\n",
    "                \n",
    "\n",
    "        bce = sum(loss_list)/len(loss_list)\n",
    "        top1 = sum(top1_list)/len(top1_list)\n",
    "        top5 = sum(top5_list)/len(top5_list)\n",
    "        top10 = sum(top10_list)/len(top10_list)\n",
    "        kendal = sum(kendal_list)/len(kendal_list)      \n",
    "        \n",
    "                \n",
    "        print(\"Train: loss = {}, top 1 = {}, top 5 = {}, top 10 = {}, kendal = {}\".format(\n",
    "                bce,\n",
    "                top1,\n",
    "                top5,\n",
    "                top10,\n",
    "                kendal\n",
    "        ))\n",
    "\n",
    "        train_info[\"bce\"].append(bce)\n",
    "        train_info[\"top1\"].append(top1)\n",
    "        train_info[\"top5\"].append(top5)\n",
    "        train_info[\"top10\"].append(top10)\n",
    "        train_info[\"kendal\"].append(kendal)\n",
    "\n",
    "        with open(setting.train_info_p, 'w') as f:\n",
    "            json.dump(train_info, f)\n",
    "            \n",
    "            \n",
    "    \n",
    "        top1_list = []\n",
    "        top5_list = []\n",
    "        top10_list = []\n",
    "        kendal_list = []\n",
    "        loss_list = []\n",
    "        \n",
    "        for batch in tqdm(valid_loader):\n",
    "\n",
    "            batch = batch.to(setting.device)\n",
    "\n",
    "            bc_pr = model(batch)\n",
    "\n",
    "            b_index = batch.batch.cpu().numpy()\n",
    "            b = np.max(b_index) + 1\n",
    "\n",
    "            for b_ in range(b):\n",
    "\n",
    "                indice, = np.where(b_index == b_)\n",
    "            \n",
    "\n",
    "                gt = batch.y[indice].squeeze()\n",
    "                pr = bc_pr[indice].squeeze()\n",
    "                \n",
    "                # evaluation\n",
    "                top1 = top_n_percentage(gt, pr, k=1)\n",
    "                top5 = top_n_percentage(gt, pr, k=5)\n",
    "                top10 = top_n_percentage(gt, pr, k=10)\n",
    "                kendal = kendal_tau_distance(gt, pr)\n",
    "\n",
    "                # compute loss\n",
    "                src = np.random.choice(len(indice), 5*len(indice), replace=True)\n",
    "                det = np.random.choice(len(indice), 5*len(indice), replace=True)\n",
    "                src = torch.from_numpy(src)\n",
    "                det = torch.from_numpy(det)\n",
    "\n",
    "                y_gt = gt[det] - gt[src]\n",
    "                y_pr = pr[det] - pr[src]\n",
    "\n",
    "                y_gt = nn.Sigmoid()(y_gt)\n",
    "                y_pr = nn.Sigmoid()(y_pr)\n",
    "\n",
    "                loss = nn.BCELoss()(y_pr, y_gt)\n",
    "                \n",
    "                top1_list.append(top1)\n",
    "                top5_list.append(top5)\n",
    "                top10_list.append(top10)\n",
    "                kendal_list.append(kendal)\n",
    "                loss_list.append(loss.item())\n",
    "                \n",
    "\n",
    "        bce = sum(loss_list)/len(loss_list)\n",
    "        top1 = sum(top1_list)/len(top1_list)\n",
    "        top5 = sum(top5_list)/len(top5_list)\n",
    "        top10 = sum(top10_list)/len(top10_list)\n",
    "        kendal = sum(kendal_list)/len(kendal_list)      \n",
    "        \n",
    "                \n",
    "        print(\"Valid: loss = {}, top 1 = {}, top 5 = {}, top 10 = {}, kendal = {}\".format(\n",
    "                bce,\n",
    "                top1,\n",
    "                top5,\n",
    "                top10,\n",
    "                kendal\n",
    "        ))\n",
    "\n",
    "        valid_info[\"bce\"].append(bce)\n",
    "        valid_info[\"top1\"].append(top1)\n",
    "        valid_info[\"top5\"].append(top5)\n",
    "        valid_info[\"top10\"].append(top10)\n",
    "        valid_info[\"kendal\"].append(kendal)\n",
    "\n",
    "        with open(setting.val_info_p, 'w') as f:\n",
    "            json.dump(valid_info, f)\n",
    "\n",
    "\n",
    "\n",
    "        if top10 > top_10:\n",
    "            checkpoint = {\n",
    "                'model_stat': model.state_dict(),\n",
    "                'optimizer_stat': optimizer.state_dict(),\n",
    "            }\n",
    "            top_10 = top10\n",
    "            \n",
    "            torch.save(checkpoint, setting.weight_drbc)"
   ]
  },
  {
   "cell_type": "markdown",
   "metadata": {},
   "source": [
    "# Test"
   ]
  },
  {
   "cell_type": "code",
   "execution_count": 49,
   "metadata": {},
   "outputs": [],
   "source": [
    "def eval_model(model, dataloader, device):\n",
    "    \n",
    "    model = model.eval().to(device)\n",
    "    \n",
    "    top1_list = []\n",
    "    top5_list = []\n",
    "    top10_list = []\n",
    "    kendal_list = []\n",
    "    loss_list = []\n",
    "    time_list = []\n",
    "\n",
    "    for batch in tqdm(dataloader):\n",
    "\n",
    "        batch = batch.to(device)\n",
    "        \n",
    "        start = time.time()\n",
    "        bc_pr = model(batch)\n",
    "        end = time.time()\n",
    "\n",
    "        b_index = batch.batch.cpu().numpy()\n",
    "        b = np.max(b_index) + 1\n",
    "\n",
    "        for b_ in range(b):\n",
    "\n",
    "            indice, = np.where(b_index == b_)\n",
    "\n",
    "\n",
    "            gt = batch.y[indice].squeeze()\n",
    "            pr = bc_pr[indice].squeeze()\n",
    "\n",
    "            # evaluation\n",
    "            top1 = top_n_percentage(gt, pr, k=1)\n",
    "            top5 = top_n_percentage(gt, pr, k=5)\n",
    "            top10 = top_n_percentage(gt, pr, k=10)\n",
    "            kendal = kendal_tau_distance(gt, pr)\n",
    "\n",
    "            # compute loss\n",
    "            src = np.random.choice(len(indice), 5*len(indice), replace=True)\n",
    "            det = np.random.choice(len(indice), 5*len(indice), replace=True)\n",
    "            src = torch.from_numpy(src)\n",
    "            det = torch.from_numpy(det)\n",
    "\n",
    "            y_gt = gt[det] - gt[src]\n",
    "            y_pr = pr[det] - pr[src]\n",
    "\n",
    "            y_gt = nn.Sigmoid()(y_gt)\n",
    "            y_pr = nn.Sigmoid()(y_pr)\n",
    "\n",
    "            loss = nn.BCELoss()(y_pr, y_gt)\n",
    "\n",
    "            top1_list.append(top1)\n",
    "            top5_list.append(top5)\n",
    "            top10_list.append(top10)\n",
    "            kendal_list.append(kendal)\n",
    "            loss_list.append(loss.item())\n",
    "            time_list.append(end-start)\n",
    "    \n",
    "    \n",
    "    return top1_list, top5_list, top10_list, kendal_list, time_list, loss_list"
   ]
  },
  {
   "cell_type": "code",
   "execution_count": 33,
   "metadata": {},
   "outputs": [
    {
     "name": "stderr",
     "output_type": "stream",
     "text": [
      "100%|██████████| 30/30 [00:11<00:00,  2.72it/s]"
     ]
    },
    {
     "name": "stdout",
     "output_type": "stream",
     "text": [
      "Top1: mean=0.97, std=0.02\n",
      "Top5: mean=0.96, std=0.01\n",
      "Top10: mean=0.96, std=0.01\n",
      "Kendal: mean=0.83, std=0.01\n",
      "Time: mean=0.34, std=0.02\n",
      "Loss: mean=0.69, std=0.00\n"
     ]
    },
    {
     "name": "stderr",
     "output_type": "stream",
     "text": [
      "\n"
     ]
    }
   ],
   "source": [
    "top1_list, top5_list, top10_list, kendal_list, time_list, loss_list = eval_model(model, syn_loader, \"cpu\")\n",
    "\n",
    "top1_list = np.array(top1_list)\n",
    "top5_list = np.array(top5_list)\n",
    "top10_list = np.array(top10_list)\n",
    "kendal_list = np.array(kendal_list)\n",
    "time_list = np.array(time_list)\n",
    "loss_list = np.array(loss_list)\n",
    "\n",
    "\n",
    "print(\"Top1: mean={:.2f}, std={:.2f}\".format(np.mean(top1_list), np.std(top1_list)))\n",
    "print(\"Top5: mean={:.2f}, std={:.2f}\".format(np.mean(top5_list), np.std(top5_list)))\n",
    "print(\"Top10: mean={:.2f}, std={:.2f}\".format(np.mean(top10_list), np.std(top10_list)))\n",
    "print(\"Kendal: mean={:.2f}, std={:.2f}\".format(np.mean(kendal_list), np.std(kendal_list)))\n",
    "print(\"Time: mean={:.2f}, std={:.2f}\".format(np.mean(time_list), np.std(time_list)))\n",
    "print(\"Loss: mean={:.2f}, std={:.2f}\".format(np.mean(loss_list), np.std(loss_list)))\n",
    "\n",
    "\n",
    "with open(os.path.join(setting.root, \"drbc_{}.json\".format(setting.nodes_cnt)), 'w') as f:\n",
    "    json.dump({\n",
    "        \"top1\": list(top1_list),\n",
    "        \"top5\": list(top5_list),\n",
    "        \"top10\": list(top10_list),\n",
    "        \"kendal\": list(kendal_list),\n",
    "        \"time\": list(time_list)\n",
    "    }, f)"
   ]
  },
  {
   "cell_type": "markdown",
   "metadata": {},
   "source": [
    "#### Youtube"
   ]
  },
  {
   "cell_type": "code",
   "execution_count": 34,
   "metadata": {},
   "outputs": [
    {
     "name": "stderr",
     "output_type": "stream",
     "text": [
      "100%|██████████| 1/1 [01:26<00:00, 86.31s/it]"
     ]
    },
    {
     "name": "stdout",
     "output_type": "stream",
     "text": [
      "Top1: mean=0.65, std=0.00\n",
      "Top5: mean=0.20, std=0.00\n",
      "Top10: mean=0.11, std=0.00\n",
      "Kendal: mean=-0.51, std=0.00\n",
      "Time: mean=85.51, std=0.00\n",
      "Loss: mean=0.69, std=0.00\n"
     ]
    },
    {
     "name": "stderr",
     "output_type": "stream",
     "text": [
      "\n"
     ]
    }
   ],
   "source": [
    "top1_list, top5_list, top10_list, kendal_list, time_list, loss_list = eval_model(model, yt_loader, \"cpu\")\n",
    "\n",
    "top1_list = np.array(top1_list)\n",
    "top5_list = np.array(top5_list)\n",
    "top10_list = np.array(top10_list)\n",
    "kendal_list = np.array(kendal_list)\n",
    "time_list = np.array(time_list)\n",
    "loss_list = np.array(loss_list)\n",
    "\n",
    "\n",
    "print(\"Top1: mean={:.2f}, std={:.2f}\".format(np.mean(top1_list), np.std(top1_list)))\n",
    "print(\"Top5: mean={:.2f}, std={:.2f}\".format(np.mean(top5_list), np.std(top5_list)))\n",
    "print(\"Top10: mean={:.2f}, std={:.2f}\".format(np.mean(top10_list), np.std(top10_list)))\n",
    "print(\"Kendal: mean={:.2f}, std={:.2f}\".format(np.mean(kendal_list), np.std(kendal_list)))\n",
    "print(\"Time: mean={:.2f}, std={:.2f}\".format(np.mean(time_list), np.std(time_list)))\n",
    "print(\"Loss: mean={:.2f}, std={:.2f}\".format(np.mean(loss_list), np.std(loss_list)))"
   ]
  },
  {
   "cell_type": "markdown",
   "metadata": {},
   "source": [
    "#### Amazon"
   ]
  },
  {
   "cell_type": "code",
   "execution_count": 52,
   "metadata": {},
   "outputs": [
    {
     "name": "stderr",
     "output_type": "stream",
     "text": [
      "100%|██████████| 1/1 [03:21<00:00, 201.52s/it]\n"
     ]
    },
    {
     "name": "stdout",
     "output_type": "stream",
     "text": [
      "Top1: mean=0.81, std=0.00\n",
      "Top5: mean=0.31, std=0.00\n",
      "Top10: mean=0.16, std=0.00\n",
      "Kendal: mean=-0.44, std=0.00\n",
      "Time: mean=199.81, std=0.00\n",
      "Loss: mean=0.69, std=0.00\n"
     ]
    }
   ],
   "source": [
    "top1_list, top5_list, top10_list, kendal_list, time_list, loss_list = eval_model(model, amazon_loader, \"cpu\")\n",
    "\n",
    "top1_list = np.array(top1_list)\n",
    "top5_list = np.array(top5_list)\n",
    "top10_list = np.array(top10_list)\n",
    "kendal_list = np.array(kendal_list)\n",
    "time_list = np.array(time_list)\n",
    "loss_list = np.array(loss_list)\n",
    "\n",
    "\n",
    "print(\"Top1: mean={:.2f}, std={:.2f}\".format(np.mean(top1_list), np.std(top1_list)))\n",
    "print(\"Top5: mean={:.2f}, std={:.2f}\".format(np.mean(top5_list), np.std(top5_list)))\n",
    "print(\"Top10: mean={:.2f}, std={:.2f}\".format(np.mean(top10_list), np.std(top10_list)))\n",
    "print(\"Kendal: mean={:.2f}, std={:.2f}\".format(np.mean(kendal_list), np.std(kendal_list)))\n",
    "print(\"Time: mean={:.2f}, std={:.2f}\".format(np.mean(time_list), np.std(time_list)))\n",
    "print(\"Loss: mean={:.2f}, std={:.2f}\".format(np.mean(loss_list), np.std(loss_list)))"
   ]
  },
  {
   "cell_type": "markdown",
   "metadata": {},
   "source": [
    "#### dblp"
   ]
  },
  {
   "cell_type": "code",
   "execution_count": 50,
   "metadata": {},
   "outputs": [
    {
     "name": "stderr",
     "output_type": "stream",
     "text": [
      "100%|██████████| 1/1 [05:23<00:00, 323.60s/it]"
     ]
    },
    {
     "name": "stdout",
     "output_type": "stream",
     "text": [
      "Top1: mean=0.69, std=0.00\n",
      "Top5: mean=0.23, std=0.00\n",
      "Top10: mean=0.13, std=0.00\n",
      "Kendal: mean=-0.48, std=0.00\n",
      "Time: mean=320.78, std=0.00\n",
      "Loss: mean=0.69, std=0.00\n"
     ]
    },
    {
     "name": "stderr",
     "output_type": "stream",
     "text": [
      "\n"
     ]
    }
   ],
   "source": [
    "top1_list, top5_list, top10_list, kendal_list, time_list, loss_list = eval_model(model, dblp_loader, \"cpu\")\n",
    "\n",
    "top1_list = np.array(top1_list)\n",
    "top5_list = np.array(top5_list)\n",
    "top10_list = np.array(top10_list)\n",
    "kendal_list = np.array(kendal_list)\n",
    "time_list = np.array(time_list)\n",
    "loss_list = np.array(loss_list)\n",
    "\n",
    "\n",
    "print(\"Top1: mean={:.2f}, std={:.2f}\".format(np.mean(top1_list), np.std(top1_list)))\n",
    "print(\"Top5: mean={:.2f}, std={:.2f}\".format(np.mean(top5_list), np.std(top5_list)))\n",
    "print(\"Top10: mean={:.2f}, std={:.2f}\".format(np.mean(top10_list), np.std(top10_list)))\n",
    "print(\"Kendal: mean={:.2f}, std={:.2f}\".format(np.mean(kendal_list), np.std(kendal_list)))\n",
    "print(\"Time: mean={:.2f}, std={:.2f}\".format(np.mean(time_list), np.std(time_list)))\n",
    "print(\"Loss: mean={:.2f}, std={:.2f}\".format(np.mean(loss_list), np.std(loss_list)))"
   ]
  },
  {
   "cell_type": "markdown",
   "metadata": {},
   "source": [
    "#### comlj"
   ]
  },
  {
   "cell_type": "code",
   "execution_count": null,
   "metadata": {},
   "outputs": [],
   "source": [
    "top1_list, top5_list, top10_list, kendal_list, time_list, loss_list = eval_model(model, comlj_loader, \"cpu\")\n",
    "\n",
    "top1_list = np.array(top1_list)\n",
    "top5_list = np.array(top5_list)\n",
    "top10_list = np.array(top10_list)\n",
    "kendal_list = np.array(kendal_list)\n",
    "time_list = np.array(time_list)\n",
    "loss_list = np.array(loss_list)\n",
    "\n",
    "\n",
    "print(\"Top1: mean={:.2f}, std={:.2f}\".format(np.mean(top1_list), np.std(top1_list)))\n",
    "print(\"Top5: mean={:.2f}, std={:.2f}\".format(np.mean(top5_list), np.std(top5_list)))\n",
    "print(\"Top10: mean={:.2f}, std={:.2f}\".format(np.mean(top10_list), np.std(top10_list)))\n",
    "print(\"Kendal: mean={:.2f}, std={:.2f}\".format(np.mean(kendal_list), np.std(kendal_list)))\n",
    "print(\"Time: mean={:.2f}, std={:.2f}\".format(np.mean(time_list), np.std(time_list)))\n",
    "print(\"Loss: mean={:.2f}, std={:.2f}\".format(np.mean(loss_list), np.std(loss_list)))"
   ]
  },
  {
   "cell_type": "markdown",
   "metadata": {},
   "source": [
    "# Visualization"
   ]
  },
  {
   "cell_type": "code",
   "execution_count": 35,
   "metadata": {},
   "outputs": [
    {
     "data": {
      "text/plain": [
       "'/home/ai2019/ne6081064/june/mlg/snrs_hw1/result/2021-03-23 00-55'"
      ]
     },
     "execution_count": 35,
     "metadata": {},
     "output_type": "execute_result"
    }
   ],
   "source": [
    "setting.root"
   ]
  },
  {
   "cell_type": "code",
   "execution_count": 37,
   "metadata": {},
   "outputs": [
    {
     "data": {
      "image/png": "[encoded data removed]",
      "text/plain": [
       "<Figure size 1800x1440 with 5 Axes>"
      ]
     },
     "metadata": {
      "needs_background": "light"
     },
     "output_type": "display_data"
    }
   ],
   "source": [
    "import matplotlib.pyplot as plt\n",
    "\n",
    "with open(setting.train_info_p, 'r') as train_info, \\\n",
    "    open(setting.val_info_p, 'r') as valid_info:\n",
    "    \n",
    "    train = json.load(train_info)\n",
    "    valid = json.load(valid_info)\n",
    "\n",
    "    keys = list(train.keys())\n",
    "    epochs = len(train[keys[0]])\n",
    "\n",
    "    x = np.linspace(1, epochs, epochs)\n",
    "    \n",
    "    ### plot bce loss and mean top N %\n",
    "    fig, axs = plt.subplots(len(keys), figsize=(25, 4 * len(keys)))\n",
    "    for index, ax in enumerate(axs):\n",
    "        key = keys[index]\n",
    "        \n",
    "        ax.plot(x, train[key], color=\"blue\")\n",
    "        ax.plot(x, valid[key], color=\"orange\")\n",
    "        \n",
    "        ax.legend([\"train\", \"valid\"], loc='upper left')\n",
    "        ax.set_title(key)\n",
    "        if key==\"bce\" or key==\"mse\":\n",
    "            pass\n",
    "        else:\n",
    "            ax.set_ylim([0, 1])\n",
    "        ax.grid()\n",
    "        \n",
    "    plt.tight_layout()\n",
    "    plt.savefig(setting.result_plt_p, facecolor=\"white\")"
   ]
  },
  {
   "cell_type": "code",
   "execution_count": null,
   "metadata": {},
   "outputs": [],
   "source": []
  },
  {
   "cell_type": "markdown",
   "metadata": {},
   "source": [
    "# Compare diff scale"
   ]
  },
  {
   "cell_type": "code",
   "execution_count": null,
   "metadata": {},
   "outputs": [],
   "source": [
    "weights = os.path.join(setting._root, \"weights\")\n",
    "\n",
    "for weight_f in os.listdir(weights):\n",
    "    print(\"weight: {}\".format(weight_f))\n",
    "    \n",
    "    model, _ = load_checkpoint(\n",
    "                    os.path.join(weights, weight_f),\n",
    "                    \"cpu\",\n",
    "                    drbc = setting.params_drbc,\n",
    "                    node2vec = setting.params_node2vec)\n",
    "    model.eval()\n",
    "    \n",
    "    basename = os.path.splitext(weight_f)[0]\n",
    "    with open(os.path.join(setting._root, \"{}.json\".format(basename)), \"w\") as f:\n",
    "        jsn = {\n",
    "            \"top1\": [],\n",
    "            \"top5\": [],\n",
    "            \"top10\": [],\n",
    "            \"kendal\": [],\n",
    "            \"time\": []\n",
    "        }\n",
    "\n",
    "        for edge_list, score in zip(synthetic, between):\n",
    "\n",
    "            data = to_data(edge_list, score)\n",
    "\n",
    "            start = time.time()\n",
    "            bc_pr = model(data)\n",
    "            end = time.time()\n",
    "\n",
    "            bc_gt = np.array(data.y)\n",
    "\n",
    "\n",
    "            jsn[\"time\"].append(end-start)\n",
    "            jsn[\"kendal\"].append(kendal_tau_distance(bc_pr, bc_gt))\n",
    "            jsn[\"top1\"].append(top_n_percentage(bc_pr, bc_gt, k=1))\n",
    "            jsn[\"top5\"].append(top_n_percentage(bc_pr, bc_gt, k=5))\n",
    "            jsn[\"top10\"].append(top_n_percentage(bc_pr, bc_gt, k=10))\n",
    "\n",
    "        json.dump(jsn, f)\n",
    "    "
   ]
  },
  {
   "cell_type": "code",
   "execution_count": null,
   "metadata": {},
   "outputs": [],
   "source": [
    "with open(os.path.join(setting._root, \"result\", \"comparison\", \"200.json\"), \"r\") as f_200, \\\n",
    "    open(os.path.join(setting._root, \"result\", \"comparison\", \"300.json\"), \"r\") as f_300, \\\n",
    "    open(os.path.join(setting._root, \"result\", \"comparison\", \"1200.json\"), \"r\") as f_1200, \\\n",
    "    open(os.path.join(setting._root, \"result\", \"comparison\", \"3000.json\"), \"r\") as f_3000, \\\n",
    "    open(os.path.join(setting._root, \"result\", \"comparison\", \"5000.json\"), \"r\") as f_5000 :\n",
    "    \n",
    "    r_200 = json.load(f_200)\n",
    "    r_300 = json.load(f_300)\n",
    "    r_1200 = json.load(f_1200)\n",
    "    r_3000 = json.load(f_3000)\n",
    "    r_5000 = json.load(f_5000)\n",
    "\n",
    "    keys = list(r_200.keys())\n",
    "    \n",
    "    fig, axs = plt.subplots(len(keys), figsize=(25, 4*len(keys)))\n",
    "    for index, ax in enumerate(axs):\n",
    "        key = keys[index]\n",
    "        \n",
    "        ax.boxplot([r_200[key], r_300[key], r_1200[key], r_3000[key], r_5000[key]], widths=0.5)\n",
    "        ax.set_title(key)\n",
    "        ax.grid()\n",
    "        \n",
    "        print(\"\\n{}\".format(key))\n",
    "        ### Calculate mean and std\n",
    "        r_200_ = np.array(r_200[key])\n",
    "        print(\"scale=200, mean={}, std={}\".format(np.mean(r_200_), np.std(r_200_)))\n",
    "        \n",
    "        r_300_ = np.array(r_300[key])\n",
    "        print(\"scale=300, mean={}, std={}\".format(np.mean(r_300_), np.std(r_300_)))\n",
    "        \n",
    "        r_1200_ = np.array(r_1200[key])\n",
    "        print(\"scale=1200, mean={}, std={}\".format(np.mean(r_1200_), np.std(r_1200_)))\n",
    "        \n",
    "        r_3000_ = np.array(r_3000[key])\n",
    "        print(\"scale=3000, mean={}, std={}\".format(np.mean(r_3000_), np.std(r_3000_)))\n",
    "         \n",
    "        r_5000_ = np.array(r_5000[key])\n",
    "        print(\"scale=5000, mean={}, std={}\".format(np.mean(r_5000_), np.std(r_5000_)))\n",
    "        \n",
    "    \n",
    "    plt.setp(axs,  xticklabels=['200', '300', '1200', \"3000\", \"5000\"])\n",
    "    plt.savefig(os.path.join(setting._root, \"result\", \"comparison\", \"comp.png\"), facecolor=\"white\")\n",
    "    \n",
    "    "
   ]
  }
 ],
 "metadata": {
  "accelerator": "GPU",
  "colab": {
   "collapsed_sections": [],
   "name": "code.ipynb",
   "provenance": [],
   "toc_visible": true
  },
  "kernelspec": {
   "display_name": "Python 3",
   "language": "python",
   "name": "python3"
  },
  "language_info": {
   "codemirror_mode": {
    "name": "ipython",
    "version": 3
   },
   "file_extension": ".py",
   "mimetype": "text/x-python",
   "name": "python",
   "nbconvert_exporter": "python",
   "pygments_lexer": "ipython3",
   "version": "3.7.9"
  }
 },
 "nbformat": 4,
 "nbformat_minor": 4
}
