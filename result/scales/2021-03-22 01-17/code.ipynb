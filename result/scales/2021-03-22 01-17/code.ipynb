{
 "cells": [
  {
   "cell_type": "markdown",
   "metadata": {
    "id": "HXDHW_mjXtMp"
   },
   "source": [
    "# Mount drive"
   ]
  },
  {
   "cell_type": "code",
   "execution_count": null,
   "metadata": {
    "colab": {
     "base_uri": "https://localhost:8080/"
    },
    "executionInfo": {
     "elapsed": 20999,
     "status": "ok",
     "timestamp": 1615282633207,
     "user": {
      "displayName": "Q56094077陳香君",
      "photoUrl": "",
      "userId": "10727804849868825735"
     },
     "user_tz": -480
    },
    "id": "FvCyvU3wXU5i",
    "outputId": "1ebe457a-4d34-474b-ea70-4d9fd6765538"
   },
   "outputs": [],
   "source": [
    "# from google.colab import drive\n",
    "# drive.mount('/content/gdrive')\n",
    "\n",
    "# !ls /content/gdrive/My\\ Drive"
   ]
  },
  {
   "cell_type": "code",
   "execution_count": null,
   "metadata": {
    "id": "n7xdJXLgX6xs"
   },
   "outputs": [],
   "source": [
    "# !unzip /content/gdrive/MyDrive/Q56094077/snrs/hw1_0319/hw1_data.zip -d /content/gdrive/MyDrive/Q56094077/snrs/hw1_0319"
   ]
  },
  {
   "cell_type": "markdown",
   "metadata": {
    "id": "PNPvyQC_ZsBz"
   },
   "source": [
    "# Import Library"
   ]
  },
  {
   "cell_type": "code",
   "execution_count": 1,
   "metadata": {
    "executionInfo": {
     "elapsed": 5086,
     "status": "ok",
     "timestamp": 1615282641207,
     "user": {
      "displayName": "Q56094077陳香君",
      "photoUrl": "",
      "userId": "10727804849868825735"
     },
     "user_tz": -480
    },
    "id": "R9e-OVDBZbU_"
   },
   "outputs": [],
   "source": [
    "import os\n",
    "\n",
    "import torch\n",
    "import torch.nn as nn\n",
    "\n",
    "import pandas as pd\n",
    "import numpy as np\n",
    "import json\n",
    "\n",
    "from tqdm import tqdm\n",
    "from datetime import datetime\n",
    "import time\n",
    "from collections import deque\n",
    "import matplotlib.pyplot as plt"
   ]
  },
  {
   "cell_type": "code",
   "execution_count": 2,
   "metadata": {
    "colab": {
     "base_uri": "https://localhost:8080/",
     "height": 414
    },
    "executionInfo": {
     "elapsed": 776,
     "status": "error",
     "timestamp": 1615283001909,
     "user": {
      "displayName": "Q56094077陳香君",
      "photoUrl": "",
      "userId": "10727804849868825735"
     },
     "user_tz": -480
    },
    "id": "jUN8f3VP4u9D",
    "outputId": "9e4523ef-8226-4980-c086-f15bf7f0a33a"
   },
   "outputs": [],
   "source": [
    "import torch_geometric\n",
    "from torch_geometric.data import Data, DataLoader\n",
    "import torch_geometric.utils as utils"
   ]
  },
  {
   "cell_type": "code",
   "execution_count": 3,
   "metadata": {},
   "outputs": [
    {
     "data": {
      "text/html": [
       "\n",
       "\t\t\t<script type=\"text/javascript\">\n",
       "\t\t\t<!--\n",
       "\t\t\t\t\n",
       "\t\t\t{\n",
       "\t\t\t\tvar element = document.getElementById('NetworKit_script');\n",
       "\t\t\t\tif (element) {\n",
       "\t\t\t\t\telement.parentNode.removeChild(element);\n",
       "\t\t\t\t}\n",
       "\t\t\t\telement = document.createElement('script');\n",
       "\t\t\t\telement.type = 'text/javascript';\n",
       "\t\t\t\telement.innerHTML = 'function NetworKit_pageEmbed(id) { var i, j; var elements; elements = document.getElementById(id).getElementsByClassName(\"Plot\"); for (i=0; i<elements.length; i++) { elements[i].id = id + \"_Plot_\" + i; var data = elements[i].getAttribute(\"data-image\").split(\"|\"); elements[i].removeAttribute(\"data-image\"); var content = \"<div class=\\\\\"Image\\\\\" id=\\\\\"\" + elements[i].id + \"_Image\\\\\" />\"; elements[i].innerHTML = content; elements[i].setAttribute(\"data-image-index\", 0); elements[i].setAttribute(\"data-image-length\", data.length); for (j=0; j<data.length; j++) { elements[i].setAttribute(\"data-image-\" + j, data[j]); } NetworKit_plotUpdate(elements[i]); elements[i].onclick = function (e) { NetworKit_overlayShow((e.target) ? e.target : e.srcElement); } } elements = document.getElementById(id).getElementsByClassName(\"HeatCell\"); for (i=0; i<elements.length; i++) { var data = parseFloat(elements[i].getAttribute(\"data-heat\")); var color = \"#00FF00\"; if (data <= 1 && data > 0) { color = \"hsla(0, 100%, 75%, \" + (data) + \")\"; } else if (data <= 0 && data >= -1) { color = \"hsla(240, 100%, 75%, \" + (-data) + \")\"; } elements[i].style.backgroundColor = color; } elements = document.getElementById(id).getElementsByClassName(\"Details\"); for (i=0; i<elements.length; i++) { elements[i].setAttribute(\"data-title\", \"-\"); NetworKit_toggleDetails(elements[i]); elements[i].onclick = function (e) { NetworKit_toggleDetails((e.target) ? e.target : e.srcElement); } } elements = document.getElementById(id).getElementsByClassName(\"MathValue\"); for (i=elements.length-1; i>=0; i--) { value = elements[i].innerHTML.trim(); if (value === \"nan\") { elements[i].parentNode.innerHTML = \"\" } } elements = document.getElementById(id).getElementsByClassName(\"SubCategory\"); for (i=elements.length-1; i>=0; i--) { value = elements[i].innerHTML.trim(); if (value === \"\") { elements[i].parentNode.removeChild(elements[i]) } } elements = document.getElementById(id).getElementsByClassName(\"Category\"); for (i=elements.length-1; i>=0; i--) { value = elements[i].innerHTML.trim(); if (value === \"\") { elements[i].parentNode.removeChild(elements[i]) } } var isFirefox = false; try { isFirefox = typeof InstallTrigger !== \"undefined\"; } catch (e) {} if (!isFirefox) { alert(\"Currently the function\\'s output is only fully supported by Firefox.\"); } } function NetworKit_plotUpdate(source) { var index = source.getAttribute(\"data-image-index\"); var data = source.getAttribute(\"data-image-\" + index); var image = document.getElementById(source.id + \"_Image\"); image.style.backgroundImage = \"url(\" + data + \")\"; } function NetworKit_showElement(id, show) { var element = document.getElementById(id); element.style.display = (show) ? \"block\" : \"none\"; } function NetworKit_overlayShow(source) { NetworKit_overlayUpdate(source); NetworKit_showElement(\"NetworKit_Overlay\", true); } function NetworKit_overlayUpdate(source) { document.getElementById(\"NetworKit_Overlay_Title\").innerHTML = source.title; var index = source.getAttribute(\"data-image-index\"); var data = source.getAttribute(\"data-image-\" + index); var image = document.getElementById(\"NetworKit_Overlay_Image\"); image.setAttribute(\"data-id\", source.id); image.style.backgroundImage = \"url(\" + data + \")\"; var link = document.getElementById(\"NetworKit_Overlay_Toolbar_Bottom_Save\"); link.href = data; link.download = source.title + \".svg\"; } function NetworKit_overlayImageShift(delta) { var image = document.getElementById(\"NetworKit_Overlay_Image\"); var source = document.getElementById(image.getAttribute(\"data-id\")); var index = parseInt(source.getAttribute(\"data-image-index\")); var length = parseInt(source.getAttribute(\"data-image-length\")); var index = (index+delta) % length; if (index < 0) { index = length + index; } source.setAttribute(\"data-image-index\", index); NetworKit_overlayUpdate(source); } function NetworKit_toggleDetails(source) { var childs = source.children; var show = false; if (source.getAttribute(\"data-title\") == \"-\") { source.setAttribute(\"data-title\", \"+\"); show = false; } else { source.setAttribute(\"data-title\", \"-\"); show = true; } for (i=0; i<childs.length; i++) { if (show) { childs[i].style.display = \"block\"; } else { childs[i].style.display = \"none\"; } } }';\n",
       "\t\t\t\telement.setAttribute('id', 'NetworKit_script');\n",
       "\t\t\t\tdocument.head.appendChild(element);\n",
       "\t\t\t}\n",
       "\t\t\n",
       "\t\t\t\t\n",
       "\t\t\t{\n",
       "\t\t\t\tvar element = document.getElementById('NetworKit_style');\n",
       "\t\t\t\tif (element) {\n",
       "\t\t\t\t\telement.parentNode.removeChild(element);\n",
       "\t\t\t\t}\n",
       "\t\t\t\telement = document.createElement('style');\n",
       "\t\t\t\telement.type = 'text/css';\n",
       "\t\t\t\telement.innerHTML = '.NetworKit_Page { font-family: Arial, Helvetica, sans-serif; font-size: 14px; } .NetworKit_Page .Value:before { font-family: Arial, Helvetica, sans-serif; font-size: 1.05em; content: attr(data-title) \":\"; margin-left: -2.5em; padding-right: 0.5em; } .NetworKit_Page .Details .Value:before { display: block; } .NetworKit_Page .Value { font-family: monospace; white-space: pre; padding-left: 2.5em; white-space: -moz-pre-wrap !important; white-space: -pre-wrap; white-space: -o-pre-wrap; white-space: pre-wrap; word-wrap: break-word; tab-size: 4; -moz-tab-size: 4; } .NetworKit_Page .Category { clear: both; padding-left: 1em; margin-bottom: 1.5em; } .NetworKit_Page .Category:before { content: attr(data-title); font-size: 1.75em; display: block; margin-left: -0.8em; margin-bottom: 0.5em; } .NetworKit_Page .SubCategory { margin-bottom: 1.5em; padding-left: 1em; } .NetworKit_Page .SubCategory:before { font-size: 1.6em; display: block; margin-left: -0.8em; margin-bottom: 0.5em; } .NetworKit_Page .SubCategory[data-title]:before { content: attr(data-title); } .NetworKit_Page .Block { display: block; } .NetworKit_Page .Block:after { content: \".\"; visibility: hidden; display: block; height: 0; clear: both; } .NetworKit_Page .Block .Thumbnail_Overview, .NetworKit_Page .Block .Thumbnail_ScatterPlot { width: 260px; float: left; } .NetworKit_Page .Block .Thumbnail_Overview img, .NetworKit_Page .Block .Thumbnail_ScatterPlot img { width: 260px; } .NetworKit_Page .Block .Thumbnail_Overview:before, .NetworKit_Page .Block .Thumbnail_ScatterPlot:before { display: block; text-align: center; font-weight: bold; } .NetworKit_Page .Block .Thumbnail_Overview:before { content: attr(data-title); } .NetworKit_Page .HeatCell { font-family: \"Courier New\", Courier, monospace; cursor: pointer; } .NetworKit_Page .HeatCell, .NetworKit_Page .HeatCellName { display: inline; padding: 0.1em; margin-right: 2px; background-color: #FFFFFF } .NetworKit_Page .HeatCellName { margin-left: 0.25em; } .NetworKit_Page .HeatCell:before { content: attr(data-heat); display: inline-block; color: #000000; width: 4em; text-align: center; } .NetworKit_Page .Measure { clear: both; } .NetworKit_Page .Measure .Details { cursor: pointer; } .NetworKit_Page .Measure .Details:before { content: \"[\" attr(data-title) \"]\"; display: block; } .NetworKit_Page .Measure .Details .Value { border-left: 1px dotted black; margin-left: 0.4em; padding-left: 3.5em; pointer-events: none; } .NetworKit_Page .Measure .Details .Spacer:before { content: \".\"; opacity: 0.0; pointer-events: none; } .NetworKit_Page .Measure .Plot { width: 440px; height: 440px; cursor: pointer; float: left; margin-left: -0.9em; margin-right: 20px; } .NetworKit_Page .Measure .Plot .Image { background-repeat: no-repeat; background-position: center center; background-size: contain; height: 100%; pointer-events: none; } .NetworKit_Page .Measure .Stat { width: 500px; float: left; } .NetworKit_Page .Measure .Stat .Group { padding-left: 1.25em; margin-bottom: 0.75em; } .NetworKit_Page .Measure .Stat .Group .Title { font-size: 1.1em; display: block; margin-bottom: 0.3em; margin-left: -0.75em; border-right-style: dotted; border-right-width: 1px; border-bottom-style: dotted; border-bottom-width: 1px; background-color: #D0D0D0; padding-left: 0.2em; } .NetworKit_Page .Measure .Stat .Group .List { -webkit-column-count: 3; -moz-column-count: 3; column-count: 3; } .NetworKit_Page .Measure .Stat .Group .List .Entry { position: relative; line-height: 1.75em; } .NetworKit_Page .Measure .Stat .Group .List .Entry[data-tooltip]:before { position: absolute; left: 0; top: -40px; background-color: #808080; color: #ffffff; height: 30px; line-height: 30px; border-radius: 5px; padding: 0 15px; content: attr(data-tooltip); white-space: nowrap; display: none; } .NetworKit_Page .Measure .Stat .Group .List .Entry[data-tooltip]:after { position: absolute; left: 15px; top: -10px; border-top: 7px solid #808080; border-left: 7px solid transparent; border-right: 7px solid transparent; content: \"\"; display: none; } .NetworKit_Page .Measure .Stat .Group .List .Entry[data-tooltip]:hover:after, .NetworKit_Page .Measure .Stat .Group .List .Entry[data-tooltip]:hover:before { display: block; } .NetworKit_Page .Measure .Stat .Group .List .Entry .MathValue { font-family: \"Courier New\", Courier, monospace; } .NetworKit_Page .Measure:after { content: \".\"; visibility: hidden; display: block; height: 0; clear: both; } .NetworKit_Page .PartitionPie { clear: both; } .NetworKit_Page .PartitionPie img { width: 600px; } #NetworKit_Overlay { left: 0px; top: 0px; display: none; position: absolute; width: 100%; height: 100%; background-color: rgba(0,0,0,0.6); z-index: 1000; } #NetworKit_Overlay_Title { position: absolute; color: white; transform: rotate(-90deg); width: 32em; height: 32em; padding-right: 0.5em; padding-top: 0.5em; text-align: right; font-size: 40px; } #NetworKit_Overlay .button { background: white; cursor: pointer; } #NetworKit_Overlay .button:before { size: 13px; display: inline-block; text-align: center; margin-top: 0.5em; margin-bottom: 0.5em; width: 1.5em; height: 1.5em; } #NetworKit_Overlay .icon-close:before { content: \"X\"; } #NetworKit_Overlay .icon-previous:before { content: \"P\"; } #NetworKit_Overlay .icon-next:before { content: \"N\"; } #NetworKit_Overlay .icon-save:before { content: \"S\"; } #NetworKit_Overlay_Toolbar_Top, #NetworKit_Overlay_Toolbar_Bottom { position: absolute; width: 40px; right: 13px; text-align: right; z-index: 1100; } #NetworKit_Overlay_Toolbar_Top { top: 0.5em; } #NetworKit_Overlay_Toolbar_Bottom { Bottom: 0.5em; } #NetworKit_Overlay_ImageContainer { position: absolute; top: 5%; left: 5%; height: 90%; width: 90%; background-repeat: no-repeat; background-position: center center; background-size: contain; } #NetworKit_Overlay_Image { height: 100%; width: 100%; background-repeat: no-repeat; background-position: center center; background-size: contain; }';\n",
       "\t\t\t\telement.setAttribute('id', 'NetworKit_style');\n",
       "\t\t\t\tdocument.head.appendChild(element);\n",
       "\t\t\t}\n",
       "\t\t\n",
       "\t\t\t\t\n",
       "\t\t\t{\n",
       "\t\t\t\tvar element = document.getElementById('NetworKit_Overlay');\n",
       "\t\t\t\tif (element) {\n",
       "\t\t\t\t\telement.parentNode.removeChild(element);\n",
       "\t\t\t\t}\n",
       "\t\t\t\telement = document.createElement('div');\n",
       "\t\t\t\telement.innerHTML = '<div id=\"NetworKit_Overlay_Toolbar_Top\"><div class=\"button icon-close\" id=\"NetworKit_Overlay_Close\" /></div><div id=\"NetworKit_Overlay_Title\" /> <div id=\"NetworKit_Overlay_ImageContainer\"> <div id=\"NetworKit_Overlay_Image\" /> </div> <div id=\"NetworKit_Overlay_Toolbar_Bottom\"> <div class=\"button icon-previous\" onclick=\"NetworKit_overlayImageShift(-1)\" /> <div class=\"button icon-next\" onclick=\"NetworKit_overlayImageShift(1)\" /> <a id=\"NetworKit_Overlay_Toolbar_Bottom_Save\"><div class=\"button icon-save\" /></a> </div>';\n",
       "\t\t\t\telement.setAttribute('id', 'NetworKit_Overlay');\n",
       "\t\t\t\tdocument.body.appendChild(element);\n",
       "\t\t\t\tdocument.getElementById('NetworKit_Overlay_Close').onclick = function (e) {\n",
       "\t\t\t\t\tdocument.getElementById('NetworKit_Overlay').style.display = 'none';\n",
       "\t\t\t\t}\n",
       "\t\t\t}\n",
       "\t\t\n",
       "\t\t\t-->\n",
       "\t\t\t</script>\n",
       "\t\t"
      ]
     },
     "metadata": {},
     "output_type": "display_data"
    }
   ],
   "source": [
    "import networkit as nk\n",
    "import networkx as nx"
   ]
  },
  {
   "cell_type": "markdown",
   "metadata": {},
   "source": [
    "# Setting"
   ]
  },
  {
   "cell_type": "code",
   "execution_count": 6,
   "metadata": {},
   "outputs": [],
   "source": [
    "class Setting:\n",
    "    _root = os.getcwd()\n",
    "\n",
    "    _data = os.path.join(_root, \"hw1_data\")\n",
    "\n",
    "    data_synthetic = os.path.join(_data, \"Synthetic\", \"5000\")\n",
    "    data_youtube = os.path.join(_data, \"youtube\")\n",
    "    data_train = os.path.join(_data, \"train\")\n",
    "    data_valid = os.path.join(_data, \"valid\")\n",
    "    \n",
    "     # Create dir for train/test\n",
    "    date_time = datetime.strftime(datetime.now(), \"%Y-%m-%d %H-%M\")\n",
    "    root = os.path.join(_root, \"result\", date_time)\n",
    "    if os.path.exists(root):\n",
    "        pass\n",
    "    else:\n",
    "        os.makedirs(root)\n",
    "\n",
    "\n",
    "    ### Save plt info\n",
    "    train_info_p = os.path.join(root, \"train.json\")\n",
    "    val_info_p = os.path.join(root, \"valid.json\")\n",
    "    test_info_p = os.path.join(root, \"test.json\")\n",
    "\n",
    "    ### Save plt img\n",
    "    result_plt_p = os.path.join(root, \"train_plt.png\")\n",
    "    test_plt_p = os.path.join(root, \"test_plt.png\")\n",
    "    sum_box_p = os.path.join(root, \"sum_box.png\")\n",
    "        \n",
    "        \n",
    "    ### Data split\n",
    "    data_split = os.path.join(_root, \"split.json\")\n",
    "    \n",
    "\n",
    "    # Setting of training\n",
    "    device = torch.device(\"cuda:1\" if torch.cuda.is_available() else \"cpu\")\n",
    "\n",
    "    mini_epochs = 500\n",
    "    epochs = 100\n",
    "    \n",
    "    nodes_cnt = 3000\n",
    "\n",
    "    criterion = nn.BCELoss()\n",
    "    weight_node2vec = os.path.join(root, \"node2vec.pth\")\n",
    "    weight_drbc = os.path.join(root, \"drbc.pth\")\n",
    "    \n",
    "    params_drbc = None\n",
    "    params_node2vec = None\n",
    "\n",
    "    "
   ]
  },
  {
   "cell_type": "code",
   "execution_count": 7,
   "metadata": {},
   "outputs": [],
   "source": [
    "setting = Setting()"
   ]
  },
  {
   "cell_type": "code",
   "execution_count": 8,
   "metadata": {},
   "outputs": [
    {
     "data": {
      "text/plain": [
       "'/home/ai2019/ne6081064/june/mlg/snrs_hw1/result/2021-03-22 01-17'"
      ]
     },
     "execution_count": 8,
     "metadata": {},
     "output_type": "execute_result"
    }
   ],
   "source": [
    "setting.root"
   ]
  },
  {
   "cell_type": "markdown",
   "metadata": {
    "id": "RZdiko1lmiJy"
   },
   "source": [
    "# Data"
   ]
  },
  {
   "cell_type": "markdown",
   "metadata": {
    "id": "gU4XwwAu_WkR"
   },
   "source": [
    "- data.x\t节点特征，维度是[num_nodes, num_node_features]。\n",
    "- data.edge_index\t维度是[2, num_edges]，描述图中节点的关联关系，每一列对应的两个元素，分别是边的起点和重点。数据类型是torch.long。需要注意的是，data.edge_index是定义边的节点的张量（tensor），而不是节点的列表（list）。\n",
    "- data.edge_attr\t边的特征矩阵，维度是[num_edges, num_edge_features]\n",
    "- data.y\t训练目标（维度可以是任意的）。对于节点相关的任务，维度为[num_nodes, *]；对于图相关的任务，维度为[1,*]。\n",
    "- data.position\t节点位置矩阵（Node position matrix），维度为[num_nodes, num_dimensions]。"
   ]
  },
  {
   "cell_type": "markdown",
   "metadata": {
    "id": "um9C8SFO_2Tx"
   },
   "source": [
    "- [Learning to Identify High Betweenness Centrality Nodes from\n",
    "Scratch: A Novel Graph Neural Network Approach](https://arxiv.org/pdf/1905.10418.pdf)\n",
    "- node initial feature = [$(d_v), 1, 1]"
   ]
  },
  {
   "cell_type": "markdown",
   "metadata": {},
   "source": [
    "## Functions"
   ]
  },
  {
   "cell_type": "markdown",
   "metadata": {},
   "source": [
    "### Load all data"
   ]
  },
  {
   "cell_type": "code",
   "execution_count": 9,
   "metadata": {
    "colab": {
     "base_uri": "https://localhost:8080/"
    },
    "executionInfo": {
     "elapsed": 5918,
     "status": "ok",
     "timestamp": 1615282793119,
     "user": {
      "displayName": "Q56094077陳香君",
      "photoUrl": "",
      "userId": "10727804849868825735"
     },
     "user_tz": -480
    },
    "id": "cxWp5RNpm1uL",
    "outputId": "4cf7bf3b-d143-4b96-eebb-2cd9c1b0f408"
   },
   "outputs": [],
   "source": [
    "def load_data(path):\n",
    "\n",
    "    edge_index = []\n",
    "    between = []\n",
    "    for f in os.listdir(path):\n",
    "        if \"score\" in f:\n",
    "            pass\n",
    "        else:\n",
    "            p = os.path.join(path, f)\n",
    "            edge_index.append(p)\n",
    "            \n",
    "            # get filename without extension\n",
    "            f = os.path.splitext(f)[0]\n",
    "            p = os.path.join(path, \"{}_score.txt\".format(f))\n",
    "            between.append(p)\n",
    "    \n",
    "    return edge_index, between"
   ]
  },
  {
   "cell_type": "markdown",
   "metadata": {},
   "source": [
    "### Split Data"
   ]
  },
  {
   "cell_type": "code",
   "execution_count": 10,
   "metadata": {},
   "outputs": [],
   "source": [
    "from sklearn.model_selection import train_test_split\n",
    "\n",
    "\n",
    "def split_data(path, x, y, replace=False):\n",
    "    if os.path.exists(path) and replace:\n",
    "        pass\n",
    "    else:\n",
    "        X_train, X_test, y_train, y_test = train_test_split(x, y, test_size=0.2)\n",
    "        X_train, X_valid, y_train, y_valid = train_test_split(X_train, y_train, test_size=0.15)\n",
    "\n",
    "        split = {\n",
    "            \"X_train\": X_train,\n",
    "            \"X_valid\": X_valid,\n",
    "            \"X_test\": X_test,\n",
    "            \"y_train\": y_train,\n",
    "            \"y_valid\": y_valid,\n",
    "            \"y_test\": y_test\n",
    "        }\n",
    "\n",
    "        with open(path, 'w') as f:\n",
    "            json.dump(split, f)"
   ]
  },
  {
   "cell_type": "markdown",
   "metadata": {},
   "source": [
    "### Cvt 2 Data"
   ]
  },
  {
   "cell_type": "code",
   "execution_count": 11,
   "metadata": {},
   "outputs": [],
   "source": [
    "def to_data(x, y=None, x_sep=None, y_sep=None, usecols=None):\n",
    "    \n",
    "    if x_sep is not None:\n",
    "        edge_index = torch_geometric.io.read_txt_array(x, dtype=torch.long, sep=x_sep)\n",
    "    else:\n",
    "        edge_index = torch_geometric.io.read_txt_array(x, dtype=torch.long)\n",
    "    edge_index = edge_index.t().contiguous()\n",
    "    edge_index = utils.to_undirected(edge_index)\n",
    "\n",
    "    row, col = edge_index  \n",
    "    deg = utils.degree(col) # must use col to get degree, why?\n",
    "    deg = deg.numpy()  \n",
    "\n",
    "    vertice = []\n",
    "    for d in deg:\n",
    "        vertice.append([d, 1, 1])\n",
    "    vertice = np.array(vertice, dtype=np.float)\n",
    "    vertice = torch.from_numpy(vertice)\n",
    "\n",
    "    if y is not None:\n",
    "        ### between centrality\n",
    "        bc = np.loadtxt(y, delimiter=y_sep, usecols=usecols)\n",
    "        bc = np.reshape(bc, (-1, 1))\n",
    "        bc = torch.from_numpy(bc)\n",
    "\n",
    "        data = Data(x=vertice, edge_index=edge_index, y=bc)\n",
    "        \n",
    "    else:\n",
    "        data = Data(x=vertice, edge_index=edge_index)\n",
    "    \n",
    "    return data"
   ]
  },
  {
   "cell_type": "markdown",
   "metadata": {},
   "source": [
    "### Cvt 2 dataloader"
   ]
  },
  {
   "cell_type": "code",
   "execution_count": 12,
   "metadata": {
    "colab": {
     "base_uri": "https://localhost:8080/",
     "height": 246
    },
    "executionInfo": {
     "elapsed": 893,
     "status": "error",
     "timestamp": 1615282795672,
     "user": {
      "displayName": "Q56094077陳香君",
      "photoUrl": "",
      "userId": "10727804849868825735"
     },
     "user_tz": -480
    },
    "id": "GJrGQmiUxRGX",
    "outputId": "81d8b6cb-5008-47d8-baf4-1156d70e07fc"
   },
   "outputs": [],
   "source": [
    "def to_dataloader(x, y, batch, y_sep=None, usecols=None):\n",
    "    \n",
    "    data_list = []\n",
    "    for x_, y_ in zip(x, y):\n",
    "        data = to_data(x_, y_, y_sep=y_sep, usecols=usecols)\n",
    "        data_list.append(data)\n",
    "\n",
    "    loader = DataLoader(data_list, batch_size=batch)\n",
    "    return loader"
   ]
  },
  {
   "cell_type": "markdown",
   "metadata": {},
   "source": [
    "### Cvt nx.Graph 2 PyG.Data"
   ]
  },
  {
   "cell_type": "code",
   "execution_count": 13,
   "metadata": {},
   "outputs": [],
   "source": [
    "def from_networkx(G, between_list=None):\n",
    "    r\"\"\"Converts a :obj:`networkx.Graph` or :obj:`networkx.DiGraph` to a\n",
    "    :class:`torch_geometric.data.Data` instance.\n",
    "\n",
    "    Args:\n",
    "        G (networkx.Graph or networkx.DiGraph): A networkx graph.\n",
    "    \"\"\"\n",
    "\n",
    "    G = nx.convert_node_labels_to_integers(G)\n",
    "    G = G.to_directed() if not nx.is_directed(G) else G\n",
    "    edge_index = torch.LongTensor(list(G.edges)).t().contiguous()\n",
    "   \n",
    "    data = {}\n",
    "\n",
    "    for i, (_, feat_dict) in enumerate(G.nodes(data=True)):\n",
    "        for key, value in feat_dict.items():\n",
    "           \n",
    "            data[str(key)] = [value] if i == 0 else data[str(key)] + [value]\n",
    "\n",
    "    for i, (_, _, feat_dict) in enumerate(G.edges(data=True)):\n",
    "        for key, value in feat_dict.items():\n",
    "            data[str(key)] = [value] if i == 0 else data[str(key)] + [value]\n",
    "\n",
    "    for key, item in data.items():\n",
    "        try:\n",
    "            data[key] = torch.tensor(item)\n",
    "        except ValueError:\n",
    "            pass\n",
    "\n",
    "    data['edge_index'] = edge_index.view(2, -1)\n",
    "    data['x'] = torch.from_numpy(\n",
    "        np.array( [ [G.degree[i], 1, 1] for i in G.nodes()], dtype=np.float ) )\n",
    "    \n",
    "    if between_list is not None:\n",
    "        data['y'] = torch.from_numpy(\n",
    "            np.array( [ [b] for b in between_list ] , dtype=np.float) )\n",
    "    data = torch_geometric.data.Data.from_dict(data)\n",
    "    data.num_nodes = G.number_of_nodes()\n",
    "\n",
    "    return data"
   ]
  },
  {
   "cell_type": "markdown",
   "metadata": {},
   "source": [
    "### Randomly generate nx.Graph"
   ]
  },
  {
   "cell_type": "code",
   "execution_count": 14,
   "metadata": {},
   "outputs": [],
   "source": [
    "def generate_nx_graph(nodes_cnt):\n",
    "    # Draw network G from distribution D (like the power-law model)\n",
    "    G = nx.generators.random_graphs.powerlaw_cluster_graph(n=nodes_cnt, m=4, p=0.05)\n",
    "    # Calculate each node’s exact BC value bv, ∀v ∈ V\n",
    "    betweenness = nx.algorithms.centrality.betweenness_centrality(G)\n",
    "    \n",
    "    # Convert betweenness dict to list\n",
    "    between_list = [v for k, v in sorted(betweenness.items(), key=lambda  item: int(item[0]), reverse=False)]\n",
    "    bc_gt = torch.from_numpy(np.array(between_list))\n",
    "    \n",
    "    return G, bc_gt"
   ]
  },
  {
   "cell_type": "markdown",
   "metadata": {},
   "source": [
    "#### Generate 10,000 for train"
   ]
  },
  {
   "cell_type": "code",
   "execution_count": 12,
   "metadata": {},
   "outputs": [],
   "source": [
    "nodes_cnt = setting.nodes_cnt"
   ]
  },
  {
   "cell_type": "code",
   "execution_count": null,
   "metadata": {},
   "outputs": [],
   "source": [
    "train_dir = os.path.join(setting._data, \"train\", str(nodes_cnt))\n",
    "if os.path.exists(train_dir):\n",
    "    pass\n",
    "else:\n",
    "    os.makedirs(train_dir)"
   ]
  },
  {
   "cell_type": "code",
   "execution_count": null,
   "metadata": {},
   "outputs": [],
   "source": [
    "for i in range(10000):\n",
    "    G, bc_gt = generate_nx_graph(nodes_cnt)\n",
    "    edge_f = open(os.path.join(train_dir, \"{}.txt\".format(i)), \"wb\")\n",
    "    nx.readwrite.edgelist.write_edgelist(G, edge_f, data=False)\n",
    "    \n",
    "    bc_gt = bc_gt.numpy()\n",
    "    np.savetxt(os.path.join(train_dir, \"{}_score.txt\".format(i)), bc_gt, fmt=\"%.20f\")"
   ]
  },
  {
   "cell_type": "markdown",
   "metadata": {},
   "source": [
    "#### Generate 100 for validation"
   ]
  },
  {
   "cell_type": "code",
   "execution_count": null,
   "metadata": {},
   "outputs": [],
   "source": [
    "valid_dir = os.path.join(setting._data, \"valid\", str(nodes_cnt))\n",
    "if os.path.exists(valid_dir):\n",
    "    pass\n",
    "else:\n",
    "    os.makedirs(valid_dir)"
   ]
  },
  {
   "cell_type": "code",
   "execution_count": null,
   "metadata": {},
   "outputs": [],
   "source": [
    "for i in range(100):\n",
    "    G, bc_gt = generate_nx_graph(nodes_cnt)\n",
    "    edge_f = open(os.path.join(valid_dir, \"{}.txt\".format(i)), \"wb\")\n",
    "    nx.readwrite.edgelist.write_edgelist(G, edge_f, data=False)\n",
    "    \n",
    "    bc_gt = bc_gt.numpy()\n",
    "    np.savetxt(os.path.join(valid_dir, \"{}_score.txt\".format(i)), bc_gt, fmt=\"%.20f\")"
   ]
  },
  {
   "cell_type": "markdown",
   "metadata": {},
   "source": [
    "## Read data"
   ]
  },
  {
   "cell_type": "markdown",
   "metadata": {},
   "source": [
    "### Load test data"
   ]
  },
  {
   "cell_type": "code",
   "execution_count": 15,
   "metadata": {},
   "outputs": [],
   "source": [
    "synthetic, between = load_data(setting.data_synthetic)\n",
    "yt, yt_score = load_data(setting.data_youtube)"
   ]
  },
  {
   "cell_type": "code",
   "execution_count": 16,
   "metadata": {},
   "outputs": [],
   "source": [
    "train, train_bet = load_data(os.path.join(setting.data_train, str(setting.nodes_cnt)))"
   ]
  },
  {
   "cell_type": "code",
   "execution_count": 17,
   "metadata": {},
   "outputs": [],
   "source": [
    "valid, valid_bet = load_data(os.path.join(setting.data_valid, str(setting.nodes_cnt)))"
   ]
  },
  {
   "cell_type": "markdown",
   "metadata": {},
   "source": [
    "### Cvt to data/dataloader"
   ]
  },
  {
   "cell_type": "code",
   "execution_count": 38,
   "metadata": {},
   "outputs": [],
   "source": [
    "train_loader = to_dataloader(train, train_bet, batch=8)\n",
    "valid_loader = to_dataloader(valid, valid_bet, batch=8)"
   ]
  },
  {
   "cell_type": "code",
   "execution_count": null,
   "metadata": {},
   "outputs": [],
   "source": [
    "for batch in train_loader:\n",
    "    print(batch.y)"
   ]
  },
  {
   "cell_type": "code",
   "execution_count": 19,
   "metadata": {},
   "outputs": [],
   "source": [
    "syn_loader = to_dataloader(synthetic, between, batch=1, usecols=1)"
   ]
  },
  {
   "cell_type": "code",
   "execution_count": 20,
   "metadata": {},
   "outputs": [],
   "source": [
    "yt_loader = to_dataloader(yt, yt_score, batch=1, y_sep=\":\", usecols=1)"
   ]
  },
  {
   "cell_type": "markdown",
   "metadata": {
    "id": "Jh1T_INgi8Ql"
   },
   "source": [
    "# Model"
   ]
  },
  {
   "cell_type": "markdown",
   "metadata": {},
   "source": [
    "## Hyper params"
   ]
  },
  {
   "cell_type": "code",
   "execution_count": 21,
   "metadata": {},
   "outputs": [],
   "source": [
    "setting.params_drbc = dict(\n",
    "    # according to source paper\n",
    "    encoder_params = dict(\n",
    "        c = 3,\n",
    "        p = 128,\n",
    "        num_layers = 5,\n",
    "        device = setting.device\n",
    "    ),\n",
    "    decoder_params = dict(\n",
    "        p = 128,\n",
    "        q = 64\n",
    "    )\n",
    ")\n",
    "\n",
    "setting.params_node2vec = dict(\n",
    "    in_features = 128\n",
    ")"
   ]
  },
  {
   "cell_type": "markdown",
   "metadata": {},
   "source": [
    "## DrBC"
   ]
  },
  {
   "cell_type": "code",
   "execution_count": 22,
   "metadata": {
    "id": "gcEf-tUaqDVa"
   },
   "outputs": [],
   "source": [
    "from torch_geometric.nn import MessagePassing\n",
    "import torch.nn.functional as F\n",
    "from torch_geometric.typing import Adj, OptTensor"
   ]
  },
  {
   "cell_type": "code",
   "execution_count": 23,
   "metadata": {
    "colab": {
     "base_uri": "https://localhost:8080/",
     "height": 135
    },
    "executionInfo": {
     "elapsed": 661,
     "status": "error",
     "timestamp": 1615203940879,
     "user": {
      "displayName": "Q56094077陳香君",
      "photoUrl": "",
      "userId": "10727804849868825735"
     },
     "user_tz": -480
    },
    "id": "P5EzKoYr7SGL",
    "outputId": "5504fb67-0455-4af0-a697-930410895a70"
   },
   "outputs": [],
   "source": [
    "class Encoder(MessagePassing):\n",
    "    def __init__(self, c, p, num_layers, device, aggr=\"add\"):\n",
    "        super(Encoder, self).__init__(aggr=aggr)\n",
    "        \n",
    "        self.num_layers = num_layers\n",
    "        self.w_0 = nn.Linear(in_features=c, out_features=p).double()\n",
    "        \n",
    "        self.relu = nn.ReLU(inplace=True)\n",
    "        self.rnn = nn.GRUCell(p, p).double()\n",
    "\n",
    "        self.device = device\n",
    "\n",
    "    def forward(self, data):\n",
    "        \n",
    "        x, edge_index = data.x, data.edge_index\n",
    "        \n",
    "        \n",
    "        # compute dgree\n",
    "        row, col = edge_index\n",
    "        deg = utils.degree(col)\n",
    "        deg = torch.add(deg, 1)\n",
    "        deg_inv_sqrt = torch.pow(deg, -0.5)\n",
    "        norm = deg_inv_sqrt[row] * deg_inv_sqrt[col]\n",
    "        \n",
    "        \n",
    "        # h_0 = x\n",
    "\n",
    "        # h_1\n",
    "        x = self.w_0(x)\n",
    "        x = self.relu(x)\n",
    "        x = F.normalize(x, p=2, dim=1)\n",
    "        \n",
    "        h_s = [x]\n",
    "        \n",
    "        for i in range(self.num_layers-1):\n",
    "            # internally calls the message(), aggregate() and update() functions\n",
    "            x = self.propagate(edge_index, x=x, norm=norm)\n",
    "            h_s.append(x)\n",
    "        \n",
    "        h_s = torch.stack(h_s, dim=-1)\n",
    "        # Use torch.max to replace max_pooling\n",
    "        z, _ = torch.max(h_s, dim=-1)\n",
    "        # z = global_max_pool(h_s, torch.tensor([0], dtype=torch.long).to(self.device))\n",
    "        \n",
    "        return z\n",
    "\n",
    "    def message(self, x_j, norm: OptTensor):\n",
    "        \"\"\"      \n",
    "        In addition, tensors passed to propagate() can be mapped to the respective nodes i and j \n",
    "        by appending _i or _j to the variable name, .e.g. x_i and x_j. \n",
    "        Note that we generally refer to i as the central nodes that aggregates information, \n",
    "        and refer to j as the neighboring nodes, since this is the most common notation.\n",
    "        \"\"\"\n",
    "  \n",
    "        return x_j if norm is None else norm.view(-1, 1) * x_j\n",
    "    \n",
    "    \n",
    "    def update(self, aggr_out, x):\n",
    "        \"\"\"        \n",
    "        Takes in the output of aggregation as first argument \n",
    "        and any argument which was initially passed to propagate().\n",
    "        \"\"\"\n",
    "\n",
    "        x = self.rnn(x, aggr_out)\n",
    "        x = F.normalize(x, p=2, dim=1) \n",
    "        \n",
    "        return x\n",
    "    "
   ]
  },
  {
   "cell_type": "code",
   "execution_count": 24,
   "metadata": {},
   "outputs": [],
   "source": [
    "class Decoder(nn.Module):\n",
    "    def __init__(self, p, q):\n",
    "        \n",
    "        super().__init__()\n",
    "        \n",
    "        self.w_4 = nn.Linear(in_features=p, out_features=q).double()\n",
    "        self.w_5 = nn.Linear(in_features=q, out_features=1).double()\n",
    "        \n",
    "        self.relu = nn.ReLU(inplace=True)\n",
    "        \n",
    "    def forward(self, z):\n",
    "        z = self.w_4(z)\n",
    "        z = self.relu(z)\n",
    "        z = self.w_5(z)\n",
    "        \n",
    "        return z"
   ]
  },
  {
   "cell_type": "code",
   "execution_count": 25,
   "metadata": {},
   "outputs": [],
   "source": [
    "class DrBC(nn.Module):\n",
    "    def __init__(self, encoder_params, decoder_params):\n",
    "        super().__init__()\n",
    "        \n",
    "        self.encoder = Encoder(**encoder_params)\n",
    "        self.decoder = Decoder(**decoder_params)\n",
    "        \n",
    "        \n",
    "    def forward(self, data):\n",
    "        \n",
    "        z = self.encoder(data)\n",
    "        \n",
    "        return self.decoder(z)"
   ]
  },
  {
   "cell_type": "markdown",
   "metadata": {},
   "source": [
    "## Node2Vec"
   ]
  },
  {
   "cell_type": "code",
   "execution_count": 26,
   "metadata": {},
   "outputs": [
    {
     "name": "stderr",
     "output_type": "stream",
     "text": [
      "INFO:gensim.summarization.textcleaner:'pattern' package not found; tag filters are not available for English\n"
     ]
    }
   ],
   "source": [
    "import node2vec\n",
    "from gensim.models import Word2Vec"
   ]
  },
  {
   "cell_type": "code",
   "execution_count": 27,
   "metadata": {},
   "outputs": [],
   "source": [
    "def learn_embeddings(walks, dim=128, window=10, workers=8, iters=1):\n",
    "    '''\n",
    "    Learn embeddings by optimizing the Skipgram objective using SGD.\n",
    "    '''\n",
    "    walks = [list(map(str, walk)) for walk in walks]\n",
    "    model = Word2Vec(walks, size=dim, window=window, min_count=0, sg=1, workers=workers, iter=iters)\n",
    "    \n",
    "    return model.wv\n",
    "\n",
    "\n",
    "\n",
    "def gnx_to_emb(G, nodes_cnt):\n",
    "    for edge in G.edges():\n",
    "        G[edge[0]][edge[1]]['weight'] = 1\n",
    "\n",
    "    G = node2vec.Graph(G, False, p=1, q=1)\n",
    "    G.preprocess_transition_probs()\n",
    "    walks = G.simulate_walks(10, 80)\n",
    "\n",
    "    embs = learn_embeddings(walks)\n",
    "    embs_ = []\n",
    "    for index in range(nodes_cnt):\n",
    "        embs_.append(torch.from_numpy(np.array(embs.get_vector(str(index)), dtype=np.float)))\n",
    "    embs_ = torch.stack(embs_)\n",
    "    \n",
    "    \n",
    "    return embs_"
   ]
  },
  {
   "cell_type": "code",
   "execution_count": 28,
   "metadata": {},
   "outputs": [],
   "source": [
    "class BC_node2vec(nn.Module):\n",
    "    \n",
    "    def __init__(self, in_features):\n",
    "        super().__init__()\n",
    "\n",
    "        self.mlp = nn.Linear(in_features=in_features, out_features=1).double()\n",
    "        \n",
    "    def forward(self, emb):\n",
    "        \n",
    "        return self.mlp(emb)"
   ]
  },
  {
   "cell_type": "markdown",
   "metadata": {},
   "source": [
    "# Evaluation"
   ]
  },
  {
   "cell_type": "markdown",
   "metadata": {},
   "source": [
    "## Top k %"
   ]
  },
  {
   "cell_type": "code",
   "execution_count": 29,
   "metadata": {},
   "outputs": [],
   "source": [
    "def top_n_percentage(bc_gt, bc_pr, k):\n",
    "    \n",
    "    if not isinstance(bc_gt, torch.Tensor):\n",
    "        bc_gt = torch.from_numpy(bc_gt)\n",
    "    bc_gt = bc_gt.to(setting.device)\n",
    "    bc_gt = torch.reshape(bc_gt, (-1, ))\n",
    "    \n",
    "    if not isinstance(bc_pr, torch.Tensor):\n",
    "        bc_pr = torch.from_numpy(bc_pr)\n",
    "    bc_pr = bc_pr.to(setting.device)\n",
    "    bc_pr = torch.reshape(bc_pr, (-1, ))\n",
    "    \n",
    "    nodes = bc_gt.size()[0]\n",
    "    k = int(nodes * k / 100)\n",
    "    \n",
    "    gt_value, gt_indice = torch.topk(bc_gt, k)\n",
    "    pr_value, pr_indice = torch.topk(bc_pr, k)\n",
    "\n",
    "    gt_indice = set(gt_indice.cpu().numpy())\n",
    "    pr_indice = set(pr_indice.cpu().numpy())\n",
    "\n",
    "    intersect = len(gt_indice & pr_indice)\n",
    "    top = intersect/k\n",
    "    \n",
    "    return top"
   ]
  },
  {
   "cell_type": "markdown",
   "metadata": {},
   "source": [
    "## Tau Kendal"
   ]
  },
  {
   "cell_type": "code",
   "execution_count": 30,
   "metadata": {},
   "outputs": [],
   "source": [
    "from scipy import stats\n",
    "\n",
    "def kendal_tau_distance(bc_gt, bc_pr):\n",
    "    \n",
    "    if isinstance(bc_gt, torch.Tensor):\n",
    "        bc_gt = torch.reshape(bc_gt, (-1, ))\n",
    "        bc_gt = bc_gt.cpu().detach().numpy()\n",
    "        \n",
    "    if isinstance(bc_pr, torch.Tensor):\n",
    "        bc_pr = torch.reshape(bc_pr, (-1, ))\n",
    "        bc_pr = bc_pr.cpu().detach().numpy()\n",
    "    \n",
    "    tau, p_value = stats.kendalltau(bc_gt, bc_pr)\n",
    "    return tau"
   ]
  },
  {
   "cell_type": "markdown",
   "metadata": {},
   "source": [
    "# Train"
   ]
  },
  {
   "cell_type": "markdown",
   "metadata": {
    "id": "Dvoodu8ki_Cu"
   },
   "source": [
    "## Load model"
   ]
  },
  {
   "cell_type": "code",
   "execution_count": 31,
   "metadata": {},
   "outputs": [],
   "source": [
    "def load_checkpoint(filepath, device, **params):\n",
    "\n",
    "    if \"node2vec\" in filepath:\n",
    "        model = BC_node2vec(**params[\"node2vec\"])\n",
    "    \n",
    "    else:\n",
    "        model = DrBC(**params[\"drbc\"])\n",
    "    \n",
    "    model = model.to(device)\n",
    "    \n",
    "    if os.path.exists(filepath):\n",
    "        print(\"pretrained finded\")\n",
    "        checkpoint = torch.load(filepath)\n",
    "        model.load_state_dict(checkpoint['model_stat'])\n",
    "        optimizer = torch.optim.Adam(model.parameters(), lr=1e-4)\n",
    "        optimizer.load_state_dict(checkpoint['optimizer_stat'])\n",
    "\n",
    "    else:\n",
    "        print(\"use a new optimizer\")\n",
    "        optimizer = torch.optim.Adam(model.parameters(), lr=1e-4)\n",
    "\n",
    "    return model, optimizer"
   ]
  },
  {
   "cell_type": "code",
   "execution_count": 39,
   "metadata": {},
   "outputs": [
    {
     "name": "stdout",
     "output_type": "stream",
     "text": [
      "use a new optimizer\n"
     ]
    },
    {
     "data": {
      "text/plain": [
       "DrBC(\n",
       "  (encoder): Encoder(\n",
       "    (w_0): Linear(in_features=3, out_features=128, bias=True)\n",
       "    (relu): ReLU(inplace=True)\n",
       "    (rnn): GRUCell(128, 128)\n",
       "  )\n",
       "  (decoder): Decoder(\n",
       "    (w_4): Linear(in_features=128, out_features=64, bias=True)\n",
       "    (w_5): Linear(in_features=64, out_features=1, bias=True)\n",
       "    (relu): ReLU(inplace=True)\n",
       "  )\n",
       ")"
      ]
     },
     "execution_count": 39,
     "metadata": {},
     "output_type": "execute_result"
    }
   ],
   "source": [
    "model, optimizer = load_checkpoint(\n",
    "                    setting.weight_drbc,\n",
    "                    setting.device,\n",
    "                    drbc = setting.params_drbc,\n",
    "                    node2vec = setting.params_node2vec)\n",
    "\n",
    "model"
   ]
  },
  {
   "cell_type": "markdown",
   "metadata": {},
   "source": [
    "## DrBC"
   ]
  },
  {
   "cell_type": "code",
   "execution_count": 40,
   "metadata": {},
   "outputs": [
    {
     "name": "stderr",
     "output_type": "stream",
     "text": [
      "\r",
      "  0%|          | 0/1250 [00:00<?, ?it/s]"
     ]
    },
    {
     "name": "stdout",
     "output_type": "stream",
     "text": [
      "\n",
      "Epoch: 1\n"
     ]
    },
    {
     "name": "stderr",
     "output_type": "stream",
     "text": [
      "100%|██████████| 1250/1250 [07:46<00:00,  2.68it/s]\n",
      "100%|██████████| 1250/1250 [04:36<00:00,  4.52it/s]\n",
      "  8%|▊         | 1/13 [00:00<00:01,  7.26it/s]"
     ]
    },
    {
     "name": "stdout",
     "output_type": "stream",
     "text": [
      "Train: loss = 0.693143013877402, top 1 = 0.9401599999999076, top 5 = 0.9196159999999354, top 10 = 0.9134916666666433, kendal = 0.7116198666222097\n"
     ]
    },
    {
     "name": "stderr",
     "output_type": "stream",
     "text": [
      "100%|██████████| 13/13 [00:02<00:00,  5.13it/s]\n",
      "  0%|          | 0/1250 [00:00<?, ?it/s]"
     ]
    },
    {
     "name": "stdout",
     "output_type": "stream",
     "text": [
      "Valid: loss = 0.6931430349954408, top 1 = 0.9420000000000007, top 5 = 0.917066666666666, top 10 = 0.9119333333333332, kendal = 0.7072789507613648\n",
      "\n",
      "Epoch: 2\n"
     ]
    },
    {
     "name": "stderr",
     "output_type": "stream",
     "text": [
      "100%|██████████| 1250/1250 [07:45<00:00,  2.68it/s]\n",
      "100%|██████████| 1250/1250 [04:12<00:00,  4.96it/s]\n",
      "  8%|▊         | 1/13 [00:00<00:01,  8.42it/s]"
     ]
    },
    {
     "name": "stdout",
     "output_type": "stream",
     "text": [
      "Train: loss = 0.6931429946481388, top 1 = 0.9510666666665788, top 5 = 0.9337373333332627, top 10 = 0.9200076666666434, kendal = 0.7190453331110369\n"
     ]
    },
    {
     "name": "stderr",
     "output_type": "stream",
     "text": [
      "100%|██████████| 13/13 [00:02<00:00,  5.66it/s]\n",
      "  0%|          | 1/1250 [00:00<02:37,  7.91it/s]"
     ]
    },
    {
     "name": "stdout",
     "output_type": "stream",
     "text": [
      "Valid: loss = 0.6931429717410836, top 1 = 0.9546666666666676, top 5 = 0.9288000000000001, top 10 = 0.9181666666666668, kendal = 0.7150813071023673\n",
      "\n",
      "Epoch: 3\n"
     ]
    },
    {
     "name": "stderr",
     "output_type": "stream",
     "text": [
      "100%|██████████| 1250/1250 [08:01<00:00,  2.60it/s]\n",
      "100%|██████████| 1250/1250 [04:15<00:00,  4.90it/s]\n",
      "  8%|▊         | 1/13 [00:00<00:01,  7.88it/s]"
     ]
    },
    {
     "name": "stdout",
     "output_type": "stream",
     "text": [
      "Train: loss = 0.6931429877254698, top 1 = 0.9592099999999179, top 5 = 0.9393419999999213, top 10 = 0.9290763333333, kendal = 0.72518205432922\n"
     ]
    },
    {
     "name": "stderr",
     "output_type": "stream",
     "text": [
      "100%|██████████| 13/13 [00:02<00:00,  4.54it/s]\n",
      "  0%|          | 0/1250 [00:00<?, ?it/s]"
     ]
    },
    {
     "name": "stdout",
     "output_type": "stream",
     "text": [
      "Valid: loss = 0.6931430938728351, top 1 = 0.9636666666666673, top 5 = 0.9361333333333335, top 10 = 0.9269333333333332, kendal = 0.7211909836612204\n",
      "\n",
      "Epoch: 4\n"
     ]
    },
    {
     "name": "stderr",
     "output_type": "stream",
     "text": [
      "100%|██████████| 1250/1250 [07:41<00:00,  2.71it/s]\n",
      "100%|██████████| 1250/1250 [04:22<00:00,  4.76it/s]\n",
      "  0%|          | 0/13 [00:00<?, ?it/s]"
     ]
    },
    {
     "name": "stdout",
     "output_type": "stream",
     "text": [
      "Train: loss = 0.6931429791101853, top 1 = 0.9628766666665873, top 5 = 0.9429286666665857, top 10 = 0.9331046666666325, kendal = 0.727883607113485\n"
     ]
    },
    {
     "name": "stderr",
     "output_type": "stream",
     "text": [
      "100%|██████████| 13/13 [00:02<00:00,  5.51it/s]\n",
      "  0%|          | 1/1250 [00:00<03:38,  5.72it/s]"
     ]
    },
    {
     "name": "stdout",
     "output_type": "stream",
     "text": [
      "Valid: loss = 0.6931430276189511, top 1 = 0.9666666666666671, top 5 = 0.9394666666666661, top 10 = 0.9312999999999999, kendal = 0.7235517394687118\n",
      "\n",
      "Epoch: 5\n"
     ]
    },
    {
     "name": "stderr",
     "output_type": "stream",
     "text": [
      "100%|██████████| 1250/1250 [07:59<00:00,  2.61it/s]\n",
      "100%|██████████| 1250/1250 [04:08<00:00,  5.03it/s]\n",
      "  8%|▊         | 1/13 [00:00<00:01,  6.10it/s]"
     ]
    },
    {
     "name": "stdout",
     "output_type": "stream",
     "text": [
      "Train: loss = 0.6931429821085323, top 1 = 0.9646399999999243, top 5 = 0.9454113333332481, top 10 = 0.9369653333332959, kendal = 0.6840375736801155\n"
     ]
    },
    {
     "name": "stderr",
     "output_type": "stream",
     "text": [
      "100%|██████████| 13/13 [00:02<00:00,  5.09it/s]\n",
      "  0%|          | 0/1250 [00:00<?, ?it/s]"
     ]
    },
    {
     "name": "stdout",
     "output_type": "stream",
     "text": [
      "Valid: loss = 0.6931430157926033, top 1 = 0.9663333333333339, top 5 = 0.9420666666666664, top 10 = 0.9332, kendal = 0.6794047171279316\n",
      "\n",
      "Epoch: 6\n"
     ]
    },
    {
     "name": "stderr",
     "output_type": "stream",
     "text": [
      "100%|██████████| 1250/1250 [07:52<00:00,  2.65it/s]\n",
      "100%|██████████| 1250/1250 [04:32<00:00,  4.59it/s]\n",
      "  0%|          | 0/13 [00:00<?, ?it/s]"
     ]
    },
    {
     "name": "stdout",
     "output_type": "stream",
     "text": [
      "Train: loss = 0.6931429848258756, top 1 = 0.9661633333332591, top 5 = 0.947881333333243, top 10 = 0.9406266666666266, kendal = 0.7029369277314665\n"
     ]
    },
    {
     "name": "stderr",
     "output_type": "stream",
     "text": [
      "100%|██████████| 13/13 [00:02<00:00,  4.43it/s]\n",
      "  0%|          | 0/1250 [00:00<?, ?it/s]"
     ]
    },
    {
     "name": "stdout",
     "output_type": "stream",
     "text": [
      "Valid: loss = 0.6931430164613651, top 1 = 0.9686666666666671, top 5 = 0.9450666666666665, top 10 = 0.9378333333333333, kendal = 0.6980248971879519\n",
      "\n",
      "Epoch: 7\n"
     ]
    },
    {
     "name": "stderr",
     "output_type": "stream",
     "text": [
      "100%|██████████| 1250/1250 [07:42<00:00,  2.70it/s]\n",
      "100%|██████████| 1250/1250 [04:07<00:00,  5.05it/s]\n",
      "  8%|▊         | 1/13 [00:00<00:01,  8.07it/s]"
     ]
    },
    {
     "name": "stdout",
     "output_type": "stream",
     "text": [
      "Train: loss = 0.6931429843873183, top 1 = 0.967383333333261, top 5 = 0.949758666666582, top 10 = 0.9441836666666286, kendal = 0.7304477837945924\n"
     ]
    },
    {
     "name": "stderr",
     "output_type": "stream",
     "text": [
      "100%|██████████| 13/13 [00:02<00:00,  5.45it/s]\n",
      "  0%|          | 0/1250 [00:00<?, ?it/s]"
     ]
    },
    {
     "name": "stdout",
     "output_type": "stream",
     "text": [
      "Valid: loss = 0.6931429557422177, top 1 = 0.968333333333334, top 5 = 0.9472666666666665, top 10 = 0.9416333333333327, kendal = 0.7255982349672112\n",
      "\n",
      "Epoch: 8\n"
     ]
    },
    {
     "name": "stderr",
     "output_type": "stream",
     "text": [
      "100%|██████████| 1250/1250 [08:01<00:00,  2.60it/s]\n",
      "100%|██████████| 1250/1250 [04:18<00:00,  4.84it/s]\n",
      "  8%|▊         | 1/13 [00:00<00:01,  6.75it/s]"
     ]
    },
    {
     "name": "stdout",
     "output_type": "stream",
     "text": [
      "Train: loss = 0.6931429741538806, top 1 = 0.9686933333332614, top 5 = 0.951844666666577, top 10 = 0.9474213333332926, kendal = 0.7671145621429378\n"
     ]
    },
    {
     "name": "stderr",
     "output_type": "stream",
     "text": [
      "100%|██████████| 13/13 [00:02<00:00,  5.05it/s]\n",
      "  0%|          | 0/1250 [00:00<?, ?it/s]"
     ]
    },
    {
     "name": "stdout",
     "output_type": "stream",
     "text": [
      "Valid: loss = 0.6931429872794169, top 1 = 0.9686666666666673, top 5 = 0.9503333333333334, top 10 = 0.9454666666666666, kendal = 0.7623926820051128\n",
      "\n",
      "Epoch: 9\n"
     ]
    },
    {
     "name": "stderr",
     "output_type": "stream",
     "text": [
      "100%|██████████| 1250/1250 [07:45<00:00,  2.69it/s]\n",
      "100%|██████████| 1250/1250 [04:33<00:00,  4.57it/s]\n",
      "  8%|▊         | 1/13 [00:00<00:01,  8.14it/s]"
     ]
    },
    {
     "name": "stdout",
     "output_type": "stream",
     "text": [
      "Train: loss = 0.6931429817564927, top 1 = 0.9697966666666001, top 5 = 0.9536166666665755, top 10 = 0.9494479999999529, kendal = 0.7650344188507296\n"
     ]
    },
    {
     "name": "stderr",
     "output_type": "stream",
     "text": [
      "100%|██████████| 13/13 [00:02<00:00,  5.55it/s]\n",
      "  0%|          | 0/1250 [00:00<?, ?it/s]"
     ]
    },
    {
     "name": "stdout",
     "output_type": "stream",
     "text": [
      "Valid: loss = 0.6931430087191199, top 1 = 0.9693333333333339, top 5 = 0.9533999999999999, top 10 = 0.947533333333333, kendal = 0.7602237101255973\n",
      "\n",
      "Epoch: 10\n"
     ]
    },
    {
     "name": "stderr",
     "output_type": "stream",
     "text": [
      "100%|██████████| 1250/1250 [07:53<00:00,  2.64it/s]\n",
      "100%|██████████| 1250/1250 [03:58<00:00,  5.25it/s]\n",
      "  0%|          | 0/13 [00:00<?, ?it/s]"
     ]
    },
    {
     "name": "stdout",
     "output_type": "stream",
     "text": [
      "Train: loss = 0.6931429728059719, top 1 = 0.9709133333332695, top 5 = 0.9550539999999064, top 10 = 0.9517316666666151, kendal = 0.7883583578526148\n"
     ]
    },
    {
     "name": "stderr",
     "output_type": "stream",
     "text": [
      "100%|██████████| 13/13 [00:02<00:00,  4.35it/s]\n",
      "  0%|          | 1/1250 [00:00<02:34,  8.10it/s]"
     ]
    },
    {
     "name": "stdout",
     "output_type": "stream",
     "text": [
      "Valid: loss = 0.6931430507056975, top 1 = 0.9720000000000004, top 5 = 0.9544666666666665, top 10 = 0.9499999999999998, kendal = 0.7837899210848062\n",
      "\n",
      "Epoch: 11\n"
     ]
    },
    {
     "name": "stderr",
     "output_type": "stream",
     "text": [
      "100%|██████████| 1250/1250 [07:54<00:00,  2.64it/s]\n",
      "100%|██████████| 1250/1250 [04:27<00:00,  4.67it/s]\n",
      "  8%|▊         | 1/13 [00:00<00:01,  6.77it/s]"
     ]
    },
    {
     "name": "stdout",
     "output_type": "stream",
     "text": [
      "Train: loss = 0.6931429737926866, top 1 = 0.9719299999999359, top 5 = 0.9566679999999029, top 10 = 0.9523516666666197, kendal = 0.798271371257083\n"
     ]
    },
    {
     "name": "stderr",
     "output_type": "stream",
     "text": [
      "100%|██████████| 13/13 [00:02<00:00,  4.85it/s]\n",
      "  0%|          | 1/1250 [00:00<02:48,  7.42it/s]"
     ]
    },
    {
     "name": "stdout",
     "output_type": "stream",
     "text": [
      "Valid: loss = 0.6931430232637552, top 1 = 0.9720000000000004, top 5 = 0.9548666666666663, top 10 = 0.9511333333333334, kendal = 0.7937273535622984\n",
      "\n",
      "Epoch: 12\n"
     ]
    },
    {
     "name": "stderr",
     "output_type": "stream",
     "text": [
      "100%|██████████| 1250/1250 [07:44<00:00,  2.69it/s]\n",
      "100%|██████████| 1250/1250 [04:21<00:00,  4.78it/s]\n",
      "  8%|▊         | 1/13 [00:00<00:01,  6.07it/s]"
     ]
    },
    {
     "name": "stdout",
     "output_type": "stream",
     "text": [
      "Train: loss = 0.6931429743618904, top 1 = 0.9725866666666029, top 5 = 0.9578313333332353, top 10 = 0.9527583333332869, kendal = 0.8084451630988114\n"
     ]
    },
    {
     "name": "stderr",
     "output_type": "stream",
     "text": [
      "100%|██████████| 13/13 [00:02<00:00,  6.10it/s]\n",
      "  0%|          | 1/1250 [00:00<02:44,  7.59it/s]"
     ]
    },
    {
     "name": "stdout",
     "output_type": "stream",
     "text": [
      "Valid: loss = 0.6931430253049353, top 1 = 0.9716666666666672, top 5 = 0.956933333333333, top 10 = 0.9520333333333331, kendal = 0.8041322129598757\n",
      "\n",
      "Epoch: 13\n"
     ]
    },
    {
     "name": "stderr",
     "output_type": "stream",
     "text": [
      "100%|██████████| 1250/1250 [08:01<00:00,  2.60it/s]\n",
      "100%|██████████| 1250/1250 [04:12<00:00,  4.94it/s]\n",
      "  0%|          | 0/13 [00:00<?, ?it/s]"
     ]
    },
    {
     "name": "stdout",
     "output_type": "stream",
     "text": [
      "Train: loss = 0.6931429681761981, top 1 = 0.9731233333332683, top 5 = 0.9590346666665744, top 10 = 0.9543433333332818, kendal = 0.8028497183505605\n"
     ]
    },
    {
     "name": "stderr",
     "output_type": "stream",
     "text": [
      "100%|██████████| 13/13 [00:02<00:00,  4.42it/s]\n",
      "  0%|          | 0/1250 [00:00<?, ?it/s]"
     ]
    },
    {
     "name": "stdout",
     "output_type": "stream",
     "text": [
      "Valid: loss = 0.6931430824719742, top 1 = 0.9720000000000006, top 5 = 0.9582666666666668, top 10 = 0.9537333333333331, kendal = 0.7983934778259417\n",
      "\n",
      "Epoch: 14\n"
     ]
    },
    {
     "name": "stderr",
     "output_type": "stream",
     "text": [
      "100%|██████████| 1250/1250 [07:43<00:00,  2.70it/s]\n",
      "100%|██████████| 1250/1250 [04:27<00:00,  4.66it/s]\n",
      "  0%|          | 0/13 [00:00<?, ?it/s]"
     ]
    },
    {
     "name": "stdout",
     "output_type": "stream",
     "text": [
      "Train: loss = 0.6931429656455098, top 1 = 0.9734333333332695, top 5 = 0.9599193333332406, top 10 = 0.9541739999999487, kendal = 0.8187093486273205\n"
     ]
    },
    {
     "name": "stderr",
     "output_type": "stream",
     "text": [
      "100%|██████████| 13/13 [00:02<00:00,  5.04it/s]\n",
      "  0%|          | 1/1250 [00:00<02:36,  7.98it/s]"
     ]
    },
    {
     "name": "stdout",
     "output_type": "stream",
     "text": [
      "Valid: loss = 0.6931430550275023, top 1 = 0.9723333333333339, top 5 = 0.9586000000000001, top 10 = 0.9538999999999999, kendal = 0.8142768522840946\n",
      "\n",
      "Epoch: 15\n"
     ]
    },
    {
     "name": "stderr",
     "output_type": "stream",
     "text": [
      "100%|██████████| 1250/1250 [07:53<00:00,  2.64it/s]\n",
      "100%|██████████| 1250/1250 [04:05<00:00,  5.09it/s]\n",
      "  8%|▊         | 1/13 [00:00<00:01,  8.02it/s]"
     ]
    },
    {
     "name": "stdout",
     "output_type": "stream",
     "text": [
      "Train: loss = 0.6931429682394724, top 1 = 0.9740666666666029, top 5 = 0.96074866666657, top 10 = 0.9544479999999439, kendal = 0.8238467028120493\n"
     ]
    },
    {
     "name": "stderr",
     "output_type": "stream",
     "text": [
      "100%|██████████| 13/13 [00:02<00:00,  5.00it/s]\n",
      "  0%|          | 0/1250 [00:00<?, ?it/s]"
     ]
    },
    {
     "name": "stdout",
     "output_type": "stream",
     "text": [
      "Valid: loss = 0.6931429601774416, top 1 = 0.974333333333334, top 5 = 0.9592666666666664, top 10 = 0.9536999999999998, kendal = 0.8194159030788037\n",
      "\n",
      "Epoch: 16\n"
     ]
    },
    {
     "name": "stderr",
     "output_type": "stream",
     "text": [
      "100%|██████████| 1250/1250 [07:56<00:00,  2.62it/s]\n",
      "100%|██████████| 1250/1250 [04:31<00:00,  4.60it/s]\n",
      "  8%|▊         | 1/13 [00:00<00:02,  5.87it/s]"
     ]
    },
    {
     "name": "stdout",
     "output_type": "stream",
     "text": [
      "Train: loss = 0.6931429694547735, top 1 = 0.9744599999999386, top 5 = 0.9615486666665718, top 10 = 0.9548056666666158, kendal = 0.828509593953539\n"
     ]
    },
    {
     "name": "stderr",
     "output_type": "stream",
     "text": [
      "100%|██████████| 13/13 [00:03<00:00,  4.26it/s]\n",
      "  0%|          | 1/1250 [00:00<04:02,  5.15it/s]"
     ]
    },
    {
     "name": "stdout",
     "output_type": "stream",
     "text": [
      "Valid: loss = 0.693142986214863, top 1 = 0.9743333333333339, top 5 = 0.9598, top 10 = 0.9536666666666668, kendal = 0.8244968011559409\n",
      "\n",
      "Epoch: 17\n"
     ]
    },
    {
     "name": "stderr",
     "output_type": "stream",
     "text": [
      "100%|██████████| 1250/1250 [07:43<00:00,  2.70it/s]\n",
      "100%|██████████| 1250/1250 [04:15<00:00,  4.89it/s]\n",
      "  8%|▊         | 1/13 [00:00<00:01,  7.96it/s]"
     ]
    },
    {
     "name": "stdout",
     "output_type": "stream",
     "text": [
      "Train: loss = 0.6931429691347283, top 1 = 0.974773333333273, top 5 = 0.9621466666665744, top 10 = 0.9557526666666089, kendal = 0.8141406928087136\n"
     ]
    },
    {
     "name": "stderr",
     "output_type": "stream",
     "text": [
      "100%|██████████| 13/13 [00:02<00:00,  5.38it/s]\n",
      "  0%|          | 1/1250 [00:00<03:36,  5.77it/s]"
     ]
    },
    {
     "name": "stdout",
     "output_type": "stream",
     "text": [
      "Valid: loss = 0.6931429857746554, top 1 = 0.9750000000000008, top 5 = 0.9604666666666661, top 10 = 0.9549333333333329, kendal = 0.8103820384572633\n",
      "\n",
      "Epoch: 18\n"
     ]
    },
    {
     "name": "stderr",
     "output_type": "stream",
     "text": [
      "100%|██████████| 1250/1250 [08:01<00:00,  2.60it/s]\n",
      "100%|██████████| 1250/1250 [04:11<00:00,  4.97it/s]\n",
      "  8%|▊         | 1/13 [00:00<00:01,  6.55it/s]"
     ]
    },
    {
     "name": "stdout",
     "output_type": "stream",
     "text": [
      "Train: loss = 0.6931429749466997, top 1 = 0.9752566666666073, top 5 = 0.962603999999905, top 10 = 0.9562409999999422, kendal = 0.8248347062798702\n"
     ]
    },
    {
     "name": "stderr",
     "output_type": "stream",
     "text": [
      "100%|██████████| 13/13 [00:02<00:00,  4.85it/s]\n",
      "  0%|          | 1/1250 [00:00<03:42,  5.61it/s]"
     ]
    },
    {
     "name": "stdout",
     "output_type": "stream",
     "text": [
      "Valid: loss = 0.6931429918188573, top 1 = 0.975333333333334, top 5 = 0.9605999999999996, top 10 = 0.9557999999999999, kendal = 0.8211870756918971\n",
      "\n",
      "Epoch: 19\n"
     ]
    },
    {
     "name": "stderr",
     "output_type": "stream",
     "text": [
      "100%|██████████| 1250/1250 [07:44<00:00,  2.69it/s]\n",
      "100%|██████████| 1250/1250 [04:36<00:00,  4.53it/s]\n",
      "  8%|▊         | 1/13 [00:00<00:01,  7.25it/s]"
     ]
    },
    {
     "name": "stdout",
     "output_type": "stream",
     "text": [
      "Train: loss = 0.693142965210569, top 1 = 0.97536999999994, top 5 = 0.9629466666665704, top 10 = 0.9562149999999441, kendal = 0.8353652716238774\n"
     ]
    },
    {
     "name": "stderr",
     "output_type": "stream",
     "text": [
      "100%|██████████| 13/13 [00:02<00:00,  5.67it/s]\n",
      "  0%|          | 1/1250 [00:00<03:22,  6.17it/s]"
     ]
    },
    {
     "name": "stdout",
     "output_type": "stream",
     "text": [
      "Valid: loss = 0.6931429869259044, top 1 = 0.9760000000000006, top 5 = 0.9618666666666662, top 10 = 0.9557666666666667, kendal = 0.8319427009003004\n",
      "\n",
      "Epoch: 20\n"
     ]
    },
    {
     "name": "stderr",
     "output_type": "stream",
     "text": [
      "100%|██████████| 1250/1250 [07:50<00:00,  2.65it/s]\n",
      "100%|██████████| 1250/1250 [04:04<00:00,  5.12it/s]\n",
      "  0%|          | 0/13 [00:00<?, ?it/s]"
     ]
    },
    {
     "name": "stdout",
     "output_type": "stream",
     "text": [
      "Train: loss = 0.6931429664421317, top 1 = 0.9756799999999397, top 5 = 0.9634699999999015, top 10 = 0.9566513333332743, kendal = 0.8346034014449242\n"
     ]
    },
    {
     "name": "stderr",
     "output_type": "stream",
     "text": [
      "100%|██████████| 13/13 [00:02<00:00,  4.72it/s]\n",
      "  0%|          | 0/1250 [00:00<?, ?it/s]"
     ]
    },
    {
     "name": "stdout",
     "output_type": "stream",
     "text": [
      "Valid: loss = 0.6931429821030758, top 1 = 0.9756666666666673, top 5 = 0.9624666666666662, top 10 = 0.956233333333333, kendal = 0.8314319128598423\n",
      "\n",
      "Epoch: 21\n"
     ]
    },
    {
     "name": "stderr",
     "output_type": "stream",
     "text": [
      "100%|██████████| 1250/1250 [07:58<00:00,  2.61it/s]\n",
      "100%|██████████| 1250/1250 [04:25<00:00,  4.71it/s]\n",
      "  0%|          | 0/13 [00:00<?, ?it/s]"
     ]
    },
    {
     "name": "stdout",
     "output_type": "stream",
     "text": [
      "Train: loss = 0.6931429695887821, top 1 = 0.9760233333332738, top 5 = 0.9636313333332366, top 10 = 0.9569709999999415, kendal = 0.8391308893186642\n"
     ]
    },
    {
     "name": "stderr",
     "output_type": "stream",
     "text": [
      "100%|██████████| 13/13 [00:02<00:00,  4.83it/s]\n",
      "  0%|          | 0/1250 [00:00<?, ?it/s]"
     ]
    },
    {
     "name": "stdout",
     "output_type": "stream",
     "text": [
      "Valid: loss = 0.693142983057306, top 1 = 0.9756666666666673, top 5 = 0.9631333333333332, top 10 = 0.9566999999999998, kendal = 0.8359264866066468\n",
      "\n",
      "Epoch: 22\n"
     ]
    },
    {
     "name": "stderr",
     "output_type": "stream",
     "text": [
      "100%|██████████| 1250/1250 [07:44<00:00,  2.69it/s]\n",
      "100%|██████████| 1250/1250 [04:22<00:00,  4.76it/s]\n",
      "  0%|          | 0/13 [00:00<?, ?it/s]"
     ]
    },
    {
     "name": "stdout",
     "output_type": "stream",
     "text": [
      "Train: loss = 0.6931429694637139, top 1 = 0.9763499999999412, top 5 = 0.9638679999999015, top 10 = 0.9570293333332762, kendal = 0.8434504138712915\n"
     ]
    },
    {
     "name": "stderr",
     "output_type": "stream",
     "text": [
      "100%|██████████| 13/13 [00:02<00:00,  5.66it/s]\n",
      "  0%|          | 0/1250 [00:00<?, ?it/s]"
     ]
    },
    {
     "name": "stdout",
     "output_type": "stream",
     "text": [
      "Valid: loss = 0.6931430468235129, top 1 = 0.9756666666666673, top 5 = 0.9634666666666668, top 10 = 0.9568666666666665, kendal = 0.8403671223741245\n",
      "\n",
      "Epoch: 23\n"
     ]
    },
    {
     "name": "stderr",
     "output_type": "stream",
     "text": [
      "100%|██████████| 1250/1250 [08:02<00:00,  2.59it/s]\n",
      "100%|██████████| 1250/1250 [04:10<00:00,  4.99it/s]\n",
      "  0%|          | 0/13 [00:00<?, ?it/s]"
     ]
    },
    {
     "name": "stdout",
     "output_type": "stream",
     "text": [
      "Train: loss = 0.6931429694671722, top 1 = 0.9766533333332753, top 5 = 0.9642806666665731, top 10 = 0.9570459999999366, kendal = 0.840736849083026\n"
     ]
    },
    {
     "name": "stderr",
     "output_type": "stream",
     "text": [
      "100%|██████████| 13/13 [00:02<00:00,  4.45it/s]\n",
      "  0%|          | 0/1250 [00:00<?, ?it/s]"
     ]
    },
    {
     "name": "stdout",
     "output_type": "stream",
     "text": [
      "Valid: loss = 0.6931429392023203, top 1 = 0.9763333333333339, top 5 = 0.9644000000000001, top 10 = 0.9570000000000001, kendal = 0.8376291341558296\n",
      "\n",
      "Epoch: 24\n"
     ]
    },
    {
     "name": "stderr",
     "output_type": "stream",
     "text": [
      "100%|██████████| 1250/1250 [07:44<00:00,  2.69it/s]\n",
      "100%|██████████| 1250/1250 [04:36<00:00,  4.52it/s]\n",
      "  8%|▊         | 1/13 [00:00<00:01,  7.00it/s]"
     ]
    },
    {
     "name": "stdout",
     "output_type": "stream",
     "text": [
      "Train: loss = 0.6931429646051004, top 1 = 0.9768266666666096, top 5 = 0.9643793333332357, top 10 = 0.9573873333332764, kendal = 0.8445558418583973\n"
     ]
    },
    {
     "name": "stderr",
     "output_type": "stream",
     "text": [
      "100%|██████████| 13/13 [00:02<00:00,  5.32it/s]\n",
      "  0%|          | 0/1250 [00:00<?, ?it/s]"
     ]
    },
    {
     "name": "stdout",
     "output_type": "stream",
     "text": [
      "Valid: loss = 0.6931429631728675, top 1 = 0.9760000000000006, top 5 = 0.964533333333333, top 10 = 0.9572333333333333, kendal = 0.8413555140602424\n",
      "\n",
      "Epoch: 25\n"
     ]
    },
    {
     "name": "stderr",
     "output_type": "stream",
     "text": [
      "100%|██████████| 1250/1250 [07:51<00:00,  2.65it/s]\n",
      "100%|██████████| 1250/1250 [04:09<00:00,  5.01it/s]\n",
      "  0%|          | 0/13 [00:00<?, ?it/s]"
     ]
    },
    {
     "name": "stdout",
     "output_type": "stream",
     "text": [
      "Train: loss = 0.6931429643895027, top 1 = 0.9770733333332775, top 5 = 0.9646899999999008, top 10 = 0.9576003333332732, kendal = 0.8424853098588444\n"
     ]
    },
    {
     "name": "stderr",
     "output_type": "stream",
     "text": [
      "100%|██████████| 13/13 [00:02<00:00,  4.64it/s]\n",
      "  0%|          | 1/1250 [00:00<02:55,  7.12it/s]"
     ]
    },
    {
     "name": "stdout",
     "output_type": "stream",
     "text": [
      "Valid: loss = 0.6931429024472259, top 1 = 0.9766666666666672, top 5 = 0.9647333333333334, top 10 = 0.9573333333333331, kendal = 0.839219153051017\n",
      "\n",
      "Epoch: 26\n"
     ]
    },
    {
     "name": "stderr",
     "output_type": "stream",
     "text": [
      "100%|██████████| 1250/1250 [07:58<00:00,  2.61it/s]\n",
      "100%|██████████| 1250/1250 [04:32<00:00,  4.59it/s]\n",
      "  8%|▊         | 1/13 [00:00<00:01,  6.95it/s]"
     ]
    },
    {
     "name": "stdout",
     "output_type": "stream",
     "text": [
      "Train: loss = 0.6931429647073282, top 1 = 0.9772666666666114, top 5 = 0.9647819999998976, top 10 = 0.9576096666666133, kendal = 0.8448373145715267\n"
     ]
    },
    {
     "name": "stderr",
     "output_type": "stream",
     "text": [
      "100%|██████████| 13/13 [00:02<00:00,  4.52it/s]\n",
      "  0%|          | 0/1250 [00:00<?, ?it/s]"
     ]
    },
    {
     "name": "stdout",
     "output_type": "stream",
     "text": [
      "Valid: loss = 0.6931429892979537, top 1 = 0.9766666666666672, top 5 = 0.9649999999999997, top 10 = 0.9570666666666666, kendal = 0.8416406757808157\n",
      "\n",
      "Epoch: 27\n"
     ]
    },
    {
     "name": "stderr",
     "output_type": "stream",
     "text": [
      "100%|██████████| 1250/1250 [07:44<00:00,  2.69it/s]\n",
      "100%|██████████| 1250/1250 [04:35<00:00,  4.53it/s]\n",
      "  8%|▊         | 1/13 [00:00<00:02,  5.37it/s]"
     ]
    },
    {
     "name": "stdout",
     "output_type": "stream",
     "text": [
      "Train: loss = 0.6931429686478189, top 1 = 0.9774766666666128, top 5 = 0.9649399999999007, top 10 = 0.9572079999999489, kendal = 0.84394352575303\n"
     ]
    },
    {
     "name": "stderr",
     "output_type": "stream",
     "text": [
      "100%|██████████| 13/13 [00:02<00:00,  4.77it/s]\n",
      "  0%|          | 0/1250 [00:00<?, ?it/s]"
     ]
    },
    {
     "name": "stdout",
     "output_type": "stream",
     "text": [
      "Valid: loss = 0.6931430596923498, top 1 = 0.9770000000000006, top 5 = 0.9646666666666665, top 10 = 0.9572999999999999, kendal = 0.8406838768478383\n",
      "\n",
      "Epoch: 28\n"
     ]
    },
    {
     "name": "stderr",
     "output_type": "stream",
     "text": [
      "100%|██████████| 1250/1250 [08:06<00:00,  2.57it/s]\n",
      "100%|██████████| 1250/1250 [04:15<00:00,  4.89it/s]\n",
      "  0%|          | 0/13 [00:00<?, ?it/s]"
     ]
    },
    {
     "name": "stdout",
     "output_type": "stream",
     "text": [
      "Train: loss = 0.6931429691170056, top 1 = 0.9775433333332796, top 5 = 0.9650739999998992, top 10 = 0.9574523333332782, kendal = 0.8449101389352026\n"
     ]
    },
    {
     "name": "stderr",
     "output_type": "stream",
     "text": [
      "100%|██████████| 13/13 [00:02<00:00,  4.51it/s]\n",
      "  0%|          | 0/1250 [00:00<?, ?it/s]"
     ]
    },
    {
     "name": "stdout",
     "output_type": "stream",
     "text": [
      "Valid: loss = 0.6931430019317737, top 1 = 0.9776666666666673, top 5 = 0.9656666666666667, top 10 = 0.9574333333333338, kendal = 0.8416114571523845\n",
      "\n",
      "Epoch: 29\n"
     ]
    },
    {
     "name": "stderr",
     "output_type": "stream",
     "text": [
      "100%|██████████| 1250/1250 [07:46<00:00,  2.68it/s]\n",
      "100%|██████████| 1250/1250 [04:33<00:00,  4.57it/s]\n",
      "  0%|          | 0/13 [00:00<?, ?it/s]"
     ]
    },
    {
     "name": "stdout",
     "output_type": "stream",
     "text": [
      "Train: loss = 0.6931429704992415, top 1 = 0.9776733333332799, top 5 = 0.9652599999999005, top 10 = 0.9575733333332767, kendal = 0.8401674089585406\n"
     ]
    },
    {
     "name": "stderr",
     "output_type": "stream",
     "text": [
      "100%|██████████| 13/13 [00:02<00:00,  5.85it/s]\n",
      "  0%|          | 1/1250 [00:00<02:59,  6.97it/s]"
     ]
    },
    {
     "name": "stdout",
     "output_type": "stream",
     "text": [
      "Valid: loss = 0.6931429801845135, top 1 = 0.9780000000000006, top 5 = 0.9655999999999998, top 10 = 0.9573333333333336, kendal = 0.8369520773591197\n",
      "\n",
      "Epoch: 30\n"
     ]
    },
    {
     "name": "stderr",
     "output_type": "stream",
     "text": [
      "100%|██████████| 1250/1250 [07:59<00:00,  2.61it/s]\n",
      "100%|██████████| 1250/1250 [04:06<00:00,  5.08it/s]\n",
      "  0%|          | 0/13 [00:00<?, ?it/s]"
     ]
    },
    {
     "name": "stdout",
     "output_type": "stream",
     "text": [
      "Train: loss = 0.6931429655580269, top 1 = 0.9777866666666132, top 5 = 0.9654926666665641, top 10 = 0.9576466666666092, kendal = 0.8443743322440826\n"
     ]
    },
    {
     "name": "stderr",
     "output_type": "stream",
     "text": [
      "100%|██████████| 13/13 [00:02<00:00,  4.43it/s]\n",
      "  0%|          | 1/1250 [00:00<03:33,  5.84it/s]"
     ]
    },
    {
     "name": "stdout",
     "output_type": "stream",
     "text": [
      "Valid: loss = 0.693143027951649, top 1 = 0.9780000000000006, top 5 = 0.965533333333333, top 10 = 0.9573333333333338, kendal = 0.8411673224408134\n",
      "\n",
      "Epoch: 31\n"
     ]
    },
    {
     "name": "stderr",
     "output_type": "stream",
     "text": [
      "100%|██████████| 1250/1250 [07:54<00:00,  2.63it/s]\n",
      "100%|██████████| 1250/1250 [04:26<00:00,  4.69it/s]\n",
      "  8%|▊         | 1/13 [00:00<00:01,  6.03it/s]"
     ]
    },
    {
     "name": "stdout",
     "output_type": "stream",
     "text": [
      "Train: loss = 0.6931429616156123, top 1 = 0.9779299999999472, top 5 = 0.9655113333332359, top 10 = 0.9579233333332738, kendal = 0.8476245526286537\n"
     ]
    },
    {
     "name": "stderr",
     "output_type": "stream",
     "text": [
      "100%|██████████| 13/13 [00:02<00:00,  4.51it/s]\n",
      "  0%|          | 1/1250 [00:00<02:35,  8.05it/s]"
     ]
    },
    {
     "name": "stdout",
     "output_type": "stream",
     "text": [
      "Valid: loss = 0.6931429732192094, top 1 = 0.9783333333333339, top 5 = 0.9646666666666662, top 10 = 0.9573666666666667, kendal = 0.8443348049349784\n",
      "\n",
      "Epoch: 32\n"
     ]
    },
    {
     "name": "stderr",
     "output_type": "stream",
     "text": [
      "100%|██████████| 1250/1250 [07:43<00:00,  2.70it/s]\n",
      "100%|██████████| 1250/1250 [04:32<00:00,  4.59it/s]\n",
      "  0%|          | 0/13 [00:00<?, ?it/s]"
     ]
    },
    {
     "name": "stdout",
     "output_type": "stream",
     "text": [
      "Train: loss = 0.6931429698354609, top 1 = 0.9780233333332812, top 5 = 0.965673999999901, top 10 = 0.9581853333332716, kendal = 0.8475138755585182\n"
     ]
    },
    {
     "name": "stderr",
     "output_type": "stream",
     "text": [
      "100%|██████████| 13/13 [00:02<00:00,  4.52it/s]\n",
      "  0%|          | 0/1250 [00:00<?, ?it/s]"
     ]
    },
    {
     "name": "stdout",
     "output_type": "stream",
     "text": [
      "Valid: loss = 0.6931430549345117, top 1 = 0.9783333333333338, top 5 = 0.9655333333333331, top 10 = 0.9577333333333334, kendal = 0.8440747004557076\n",
      "\n",
      "Epoch: 33\n"
     ]
    },
    {
     "name": "stderr",
     "output_type": "stream",
     "text": [
      "100%|██████████| 1250/1250 [08:01<00:00,  2.60it/s]\n",
      "100%|██████████| 1250/1250 [04:27<00:00,  4.68it/s]\n",
      "  8%|▊         | 1/13 [00:00<00:01,  7.18it/s]"
     ]
    },
    {
     "name": "stdout",
     "output_type": "stream",
     "text": [
      "Train: loss = 0.6931429675320468, top 1 = 0.9781466666666145, top 5 = 0.9657939999999011, top 10 = 0.9580213333332702, kendal = 0.8489856036012007\n"
     ]
    },
    {
     "name": "stderr",
     "output_type": "stream",
     "text": [
      "100%|██████████| 13/13 [00:02<00:00,  5.08it/s]\n",
      "  0%|          | 0/1250 [00:00<?, ?it/s]"
     ]
    },
    {
     "name": "stdout",
     "output_type": "stream",
     "text": [
      "Valid: loss = 0.6931429970468208, top 1 = 0.9786666666666674, top 5 = 0.9655999999999998, top 10 = 0.9577, kendal = 0.8456795198399466\n",
      "\n",
      "Epoch: 34\n"
     ]
    },
    {
     "name": "stderr",
     "output_type": "stream",
     "text": [
      "100%|██████████| 1250/1250 [07:45<00:00,  2.69it/s]\n",
      "100%|██████████| 1250/1250 [04:24<00:00,  4.72it/s]\n",
      "  0%|          | 0/13 [00:00<?, ?it/s]"
     ]
    },
    {
     "name": "stdout",
     "output_type": "stream",
     "text": [
      "Train: loss = 0.6931429746076138, top 1 = 0.9782633333332815, top 5 = 0.9660326666665655, top 10 = 0.9581043333332727, kendal = 0.846871327864846\n"
     ]
    },
    {
     "name": "stderr",
     "output_type": "stream",
     "text": [
      "100%|██████████| 13/13 [00:02<00:00,  5.10it/s]\n",
      "  0%|          | 0/1250 [00:00<?, ?it/s]"
     ]
    },
    {
     "name": "stdout",
     "output_type": "stream",
     "text": [
      "Valid: loss = 0.6931429589061696, top 1 = 0.9790000000000006, top 5 = 0.9653999999999998, top 10 = 0.9574666666666666, kendal = 0.8434913815716348\n",
      "\n",
      "Epoch: 35\n"
     ]
    },
    {
     "name": "stderr",
     "output_type": "stream",
     "text": [
      "100%|██████████| 1250/1250 [08:00<00:00,  2.60it/s]\n",
      "100%|██████████| 1250/1250 [03:57<00:00,  5.25it/s]\n",
      "  0%|          | 0/13 [00:00<?, ?it/s]"
     ]
    },
    {
     "name": "stdout",
     "output_type": "stream",
     "text": [
      "Train: loss = 0.6931429791783614, top 1 = 0.9783533333332817, top 5 = 0.9661326666665682, top 10 = 0.9580516666666065, kendal = 0.8493948748249405\n"
     ]
    },
    {
     "name": "stderr",
     "output_type": "stream",
     "text": [
      "100%|██████████| 13/13 [00:02<00:00,  4.54it/s]\n",
      "  0%|          | 0/1250 [00:00<?, ?it/s]"
     ]
    },
    {
     "name": "stdout",
     "output_type": "stream",
     "text": [
      "Valid: loss = 0.6931429850173498, top 1 = 0.9793333333333339, top 5 = 0.9656666666666662, top 10 = 0.9575666666666666, kendal = 0.8460432188507282\n",
      "\n",
      "Epoch: 36\n"
     ]
    },
    {
     "name": "stderr",
     "output_type": "stream",
     "text": [
      "100%|██████████| 1250/1250 [07:47<00:00,  2.67it/s]\n",
      "100%|██████████| 1250/1250 [04:36<00:00,  4.52it/s]\n",
      "  8%|▊         | 1/13 [00:00<00:02,  5.46it/s]"
     ]
    },
    {
     "name": "stdout",
     "output_type": "stream",
     "text": [
      "Train: loss = 0.6931429651960906, top 1 = 0.9783766666666154, top 5 = 0.9662193333332363, top 10 = 0.9581893333332726, kendal = 0.8492594100700217\n"
     ]
    },
    {
     "name": "stderr",
     "output_type": "stream",
     "text": [
      "100%|██████████| 13/13 [00:02<00:00,  4.91it/s]\n",
      "  0%|          | 0/1250 [00:00<?, ?it/s]"
     ]
    },
    {
     "name": "stdout",
     "output_type": "stream",
     "text": [
      "Valid: loss = 0.6931431257067302, top 1 = 0.9793333333333339, top 5 = 0.9656666666666662, top 10 = 0.9577666666666664, kendal = 0.845912224074691\n",
      "\n",
      "Epoch: 37\n"
     ]
    },
    {
     "name": "stderr",
     "output_type": "stream",
     "text": [
      "100%|██████████| 1250/1250 [07:44<00:00,  2.69it/s]\n",
      "100%|██████████| 1250/1250 [04:14<00:00,  4.90it/s]\n",
      "  0%|          | 0/13 [00:00<?, ?it/s]"
     ]
    },
    {
     "name": "stdout",
     "output_type": "stream",
     "text": [
      "Train: loss = 0.6931429696429603, top 1 = 0.9785199999999482, top 5 = 0.9662833333332354, top 10 = 0.9578296666666127, kendal = 0.8521655994220284\n"
     ]
    },
    {
     "name": "stderr",
     "output_type": "stream",
     "text": [
      "100%|██████████| 13/13 [00:02<00:00,  5.26it/s]\n",
      "  0%|          | 1/1250 [00:00<02:36,  7.96it/s]"
     ]
    },
    {
     "name": "stdout",
     "output_type": "stream",
     "text": [
      "Valid: loss = 0.6931430418254899, top 1 = 0.9793333333333339, top 5 = 0.9657999999999994, top 10 = 0.9574666666666667, kendal = 0.8488728865177281\n",
      "\n",
      "Epoch: 38\n"
     ]
    },
    {
     "name": "stderr",
     "output_type": "stream",
     "text": [
      "100%|██████████| 1250/1250 [08:01<00:00,  2.60it/s]\n",
      "100%|██████████| 1250/1250 [04:16<00:00,  4.88it/s]\n",
      "  0%|          | 0/13 [00:00<?, ?it/s]"
     ]
    },
    {
     "name": "stdout",
     "output_type": "stream",
     "text": [
      "Train: loss = 0.6931429689535428, top 1 = 0.978523333333283, top 5 = 0.9662719999998997, top 10 = 0.9580473333332751, kendal = 0.8509450234078\n"
     ]
    },
    {
     "name": "stderr",
     "output_type": "stream",
     "text": [
      "100%|██████████| 13/13 [00:02<00:00,  4.36it/s]\n",
      "  0%|          | 1/1250 [00:00<03:40,  5.66it/s]"
     ]
    },
    {
     "name": "stdout",
     "output_type": "stream",
     "text": [
      "Valid: loss = 0.6931429557862888, top 1 = 0.9796666666666672, top 5 = 0.9661333333333328, top 10 = 0.9577666666666669, kendal = 0.8476096698899631\n",
      "\n",
      "Epoch: 39\n"
     ]
    },
    {
     "name": "stderr",
     "output_type": "stream",
     "text": [
      "100%|██████████| 1250/1250 [07:43<00:00,  2.70it/s]\n",
      "100%|██████████| 1250/1250 [04:26<00:00,  4.70it/s]\n",
      "  0%|          | 0/13 [00:00<?, ?it/s]"
     ]
    },
    {
     "name": "stdout",
     "output_type": "stream",
     "text": [
      "Train: loss = 0.6931429589234095, top 1 = 0.9786366666666155, top 5 = 0.9664526666665665, top 10 = 0.9585186666666081, kendal = 0.8516937512948767\n"
     ]
    },
    {
     "name": "stderr",
     "output_type": "stream",
     "text": [
      "100%|██████████| 13/13 [00:02<00:00,  5.38it/s]\n",
      "  0%|          | 1/1250 [00:00<03:42,  5.61it/s]"
     ]
    },
    {
     "name": "stdout",
     "output_type": "stream",
     "text": [
      "Valid: loss = 0.6931429944435871, top 1 = 0.9796666666666672, top 5 = 0.9659333333333329, top 10 = 0.9581000000000001, kendal = 0.848313966877848\n",
      "\n",
      "Epoch: 40\n"
     ]
    },
    {
     "name": "stderr",
     "output_type": "stream",
     "text": [
      "100%|██████████| 1250/1250 [08:00<00:00,  2.60it/s]\n",
      "100%|██████████| 1250/1250 [04:06<00:00,  5.07it/s]\n",
      "  8%|▊         | 1/13 [00:00<00:01,  6.28it/s]"
     ]
    },
    {
     "name": "stdout",
     "output_type": "stream",
     "text": [
      "Train: loss = 0.6931429688964346, top 1 = 0.9787099999999489, top 5 = 0.9665539999999013, top 10 = 0.9584973333332757, kendal = 0.8496467490496813\n"
     ]
    },
    {
     "name": "stderr",
     "output_type": "stream",
     "text": [
      "100%|██████████| 13/13 [00:02<00:00,  5.08it/s]\n",
      "  0%|          | 0/1250 [00:00<?, ?it/s]"
     ]
    },
    {
     "name": "stdout",
     "output_type": "stream",
     "text": [
      "Valid: loss = 0.6931429739183821, top 1 = 0.9796666666666672, top 5 = 0.9663999999999998, top 10 = 0.9581999999999999, kendal = 0.84624768700678\n",
      "\n",
      "Epoch: 41\n"
     ]
    },
    {
     "name": "stderr",
     "output_type": "stream",
     "text": [
      "100%|██████████| 1250/1250 [07:55<00:00,  2.63it/s]\n",
      "100%|██████████| 1250/1250 [04:52<00:00,  4.27it/s]\n",
      "  8%|▊         | 1/13 [00:00<00:01,  8.05it/s]"
     ]
    },
    {
     "name": "stdout",
     "output_type": "stream",
     "text": [
      "Train: loss = 0.6931429692662509, top 1 = 0.97878999999995, top 5 = 0.9665486666665687, top 10 = 0.9584959999999434, kendal = 0.8481621662331931\n"
     ]
    },
    {
     "name": "stderr",
     "output_type": "stream",
     "text": [
      "100%|██████████| 13/13 [00:02<00:00,  5.12it/s]\n",
      "  0%|          | 0/1250 [00:00<?, ?it/s]"
     ]
    },
    {
     "name": "stdout",
     "output_type": "stream",
     "text": [
      "Valid: loss = 0.6931429309908026, top 1 = 0.9800000000000005, top 5 = 0.9664, top 10 = 0.9581333333333331, kendal = 0.8448586493724721\n",
      "\n",
      "Epoch: 42\n"
     ]
    },
    {
     "name": "stderr",
     "output_type": "stream",
     "text": [
      "100%|██████████| 1250/1250 [07:45<00:00,  2.69it/s]\n",
      "100%|██████████| 1250/1250 [04:07<00:00,  5.05it/s]\n",
      "  8%|▊         | 1/13 [00:00<00:02,  5.83it/s]"
     ]
    },
    {
     "name": "stdout",
     "output_type": "stream",
     "text": [
      "Train: loss = 0.6931429564486781, top 1 = 0.9789299999999492, top 5 = 0.9665406666665677, top 10 = 0.958093666666611, kendal = 0.8519386642658681\n"
     ]
    },
    {
     "name": "stderr",
     "output_type": "stream",
     "text": [
      "100%|██████████| 13/13 [00:02<00:00,  5.24it/s]\n",
      "  0%|          | 0/1250 [00:00<?, ?it/s]"
     ]
    },
    {
     "name": "stdout",
     "output_type": "stream",
     "text": [
      "Valid: loss = 0.6931430587626444, top 1 = 0.9793333333333339, top 5 = 0.9660666666666663, top 10 = 0.9575333333333337, kendal = 0.8486740869178618\n",
      "\n",
      "Epoch: 43\n"
     ]
    },
    {
     "name": "stderr",
     "output_type": "stream",
     "text": [
      "100%|██████████| 1250/1250 [08:01<00:00,  2.60it/s]\n",
      "100%|██████████| 1250/1250 [04:19<00:00,  4.82it/s]\n",
      "  0%|          | 0/13 [00:00<?, ?it/s]"
     ]
    },
    {
     "name": "stdout",
     "output_type": "stream",
     "text": [
      "Train: loss = 0.6931429719323815, top 1 = 0.9790633333332825, top 5 = 0.9666539999998995, top 10 = 0.9584669999999457, kendal = 0.8525331977325755\n"
     ]
    },
    {
     "name": "stderr",
     "output_type": "stream",
     "text": [
      "100%|██████████| 13/13 [00:02<00:00,  4.60it/s]\n",
      "  0%|          | 0/1250 [00:00<?, ?it/s]"
     ]
    },
    {
     "name": "stdout",
     "output_type": "stream",
     "text": [
      "Valid: loss = 0.6931430358157891, top 1 = 0.9790000000000006, top 5 = 0.9663333333333327, top 10 = 0.9580333333333338, kendal = 0.849188694009114\n",
      "\n",
      "Epoch: 44\n"
     ]
    },
    {
     "name": "stderr",
     "output_type": "stream",
     "text": [
      "100%|██████████| 1250/1250 [07:48<00:00,  2.67it/s]\n",
      "100%|██████████| 1250/1250 [04:35<00:00,  4.54it/s]\n",
      "  0%|          | 0/13 [00:00<?, ?it/s]"
     ]
    },
    {
     "name": "stdout",
     "output_type": "stream",
     "text": [
      "Train: loss = 0.693142968870646, top 1 = 0.9791666666666166, top 5 = 0.9665793333332333, top 10 = 0.9586863333332755, kendal = 0.8558907286428803\n"
     ]
    },
    {
     "name": "stderr",
     "output_type": "stream",
     "text": [
      "100%|██████████| 13/13 [00:02<00:00,  5.46it/s]\n",
      "  0%|          | 1/1250 [00:00<03:06,  6.70it/s]"
     ]
    },
    {
     "name": "stdout",
     "output_type": "stream",
     "text": [
      "Valid: loss = 0.6931430151462162, top 1 = 0.9793333333333339, top 5 = 0.9656666666666658, top 10 = 0.9578000000000002, kendal = 0.852590174502612\n",
      "\n",
      "Epoch: 45\n"
     ]
    },
    {
     "name": "stderr",
     "output_type": "stream",
     "text": [
      "100%|██████████| 1250/1250 [08:01<00:00,  2.60it/s]\n",
      "100%|██████████| 1250/1250 [05:45<00:00,  3.62it/s]\n",
      "  0%|          | 0/13 [00:00<?, ?it/s]"
     ]
    },
    {
     "name": "stdout",
     "output_type": "stream",
     "text": [
      "Train: loss = 0.6931429704424095, top 1 = 0.979336666666617, top 5 = 0.9668933333332307, top 10 = 0.9585523333332799, kendal = 0.8547077235078383\n"
     ]
    },
    {
     "name": "stderr",
     "output_type": "stream",
     "text": [
      "100%|██████████| 13/13 [00:03<00:00,  3.70it/s]\n",
      "  0%|          | 0/1250 [00:00<?, ?it/s]"
     ]
    },
    {
     "name": "stdout",
     "output_type": "stream",
     "text": [
      "Valid: loss = 0.6931429788704301, top 1 = 0.9793333333333339, top 5 = 0.9667999999999991, top 10 = 0.9575666666666666, kendal = 0.8514018272757587\n",
      "\n",
      "Epoch: 46\n"
     ]
    },
    {
     "name": "stderr",
     "output_type": "stream",
     "text": [
      "100%|██████████| 1250/1250 [07:52<00:00,  2.65it/s]\n",
      "100%|██████████| 1250/1250 [04:11<00:00,  4.96it/s]\n",
      "  8%|▊         | 1/13 [00:00<00:01,  7.94it/s]"
     ]
    },
    {
     "name": "stdout",
     "output_type": "stream",
     "text": [
      "Train: loss = 0.693142974244811, top 1 = 0.979343333333283, top 5 = 0.9670413333332323, top 10 = 0.9588543333332776, kendal = 0.8533660165388443\n"
     ]
    },
    {
     "name": "stderr",
     "output_type": "stream",
     "text": [
      "100%|██████████| 13/13 [00:02<00:00,  5.64it/s]\n",
      "  0%|          | 0/1250 [00:00<?, ?it/s]"
     ]
    },
    {
     "name": "stdout",
     "output_type": "stream",
     "text": [
      "Valid: loss = 0.6931429760545079, top 1 = 0.9793333333333339, top 5 = 0.9669999999999994, top 10 = 0.9578333333333336, kendal = 0.8500674447037899\n",
      "\n",
      "Epoch: 47\n"
     ]
    },
    {
     "name": "stderr",
     "output_type": "stream",
     "text": [
      "100%|██████████| 1250/1250 [08:00<00:00,  2.60it/s]\n",
      "100%|██████████| 1250/1250 [04:13<00:00,  4.93it/s]\n",
      "  0%|          | 0/13 [00:00<?, ?it/s]"
     ]
    },
    {
     "name": "stdout",
     "output_type": "stream",
     "text": [
      "Train: loss = 0.6931429639503162, top 1 = 0.9794466666666173, top 5 = 0.9669866666665643, top 10 = 0.9584716666666098, kendal = 0.8530793157719252\n"
     ]
    },
    {
     "name": "stderr",
     "output_type": "stream",
     "text": [
      "100%|██████████| 13/13 [00:02<00:00,  4.51it/s]\n",
      "  0%|          | 0/1250 [00:00<?, ?it/s]"
     ]
    },
    {
     "name": "stdout",
     "output_type": "stream",
     "text": [
      "Valid: loss = 0.6931430168336474, top 1 = 0.9793333333333339, top 5 = 0.9672666666666662, top 10 = 0.9571999999999998, kendal = 0.849853733466711\n",
      "\n",
      "Epoch: 48\n"
     ]
    },
    {
     "name": "stderr",
     "output_type": "stream",
     "text": [
      "100%|██████████| 1250/1250 [07:43<00:00,  2.70it/s]\n",
      "100%|██████████| 1250/1250 [04:31<00:00,  4.60it/s]\n",
      "  8%|▊         | 1/13 [00:00<00:01,  6.90it/s]"
     ]
    },
    {
     "name": "stdout",
     "output_type": "stream",
     "text": [
      "Train: loss = 0.6931429724816789, top 1 = 0.9794666666666175, top 5 = 0.9671766666665653, top 10 = 0.9588593333332747, kendal = 0.8550198158941901\n"
     ]
    },
    {
     "name": "stderr",
     "output_type": "stream",
     "text": [
      "100%|██████████| 13/13 [00:02<00:00,  5.78it/s]\n",
      "  0%|          | 0/1250 [00:00<?, ?it/s]"
     ]
    },
    {
     "name": "stdout",
     "output_type": "stream",
     "text": [
      "Valid: loss = 0.6931429388928045, top 1 = 0.9790000000000006, top 5 = 0.9673999999999993, top 10 = 0.9578333333333332, kendal = 0.8517309992219624\n",
      "\n",
      "Epoch: 49\n"
     ]
    },
    {
     "name": "stderr",
     "output_type": "stream",
     "text": [
      "100%|██████████| 1250/1250 [07:57<00:00,  2.62it/s]\n",
      "100%|██████████| 1250/1250 [05:44<00:00,  3.63it/s]\n",
      "  8%|▊         | 1/13 [00:00<00:01,  6.60it/s]"
     ]
    },
    {
     "name": "stdout",
     "output_type": "stream",
     "text": [
      "Train: loss = 0.6931429579029621, top 1 = 0.979543333333285, top 5 = 0.9670886666665641, top 10 = 0.9591046666666072, kendal = 0.8558807793264376\n"
     ]
    },
    {
     "name": "stderr",
     "output_type": "stream",
     "text": [
      "100%|██████████| 13/13 [00:03<00:00,  3.45it/s]\n",
      "  0%|          | 0/1250 [00:00<?, ?it/s]"
     ]
    },
    {
     "name": "stdout",
     "output_type": "stream",
     "text": [
      "Valid: loss = 0.6931429245765686, top 1 = 0.9793333333333339, top 5 = 0.9670666666666657, top 10 = 0.9579333333333335, kendal = 0.8525791263754585\n",
      "\n",
      "Epoch: 50\n"
     ]
    },
    {
     "name": "stderr",
     "output_type": "stream",
     "text": [
      "100%|██████████| 1250/1250 [07:48<00:00,  2.67it/s]\n",
      "100%|██████████| 1250/1250 [04:47<00:00,  4.35it/s]\n",
      "  0%|          | 0/13 [00:00<?, ?it/s]"
     ]
    },
    {
     "name": "stdout",
     "output_type": "stream",
     "text": [
      "Train: loss = 0.6931429654493781, top 1 = 0.979576666666617, top 5 = 0.9672393333332324, top 10 = 0.9589866666666045, kendal = 0.8542815449594303\n"
     ]
    },
    {
     "name": "stderr",
     "output_type": "stream",
     "text": [
      "100%|██████████| 13/13 [00:02<00:00,  5.02it/s]\n",
      "  0%|          | 0/1250 [00:00<?, ?it/s]"
     ]
    },
    {
     "name": "stdout",
     "output_type": "stream",
     "text": [
      "Valid: loss = 0.6931429645088772, top 1 = 0.9793333333333339, top 5 = 0.9673999999999993, top 10 = 0.9579666666666665, kendal = 0.8510071712793156\n",
      "\n",
      "Epoch: 51\n"
     ]
    },
    {
     "name": "stderr",
     "output_type": "stream",
     "text": [
      "100%|██████████| 1250/1250 [08:06<00:00,  2.57it/s]\n",
      "100%|██████████| 1250/1250 [04:17<00:00,  4.85it/s]\n",
      "  8%|▊         | 1/13 [00:00<00:01,  6.21it/s]"
     ]
    },
    {
     "name": "stdout",
     "output_type": "stream",
     "text": [
      "Train: loss = 0.6931429591107178, top 1 = 0.9797233333332842, top 5 = 0.967351333333235, top 10 = 0.9592926666666104, kendal = 0.8571165068800713\n"
     ]
    },
    {
     "name": "stderr",
     "output_type": "stream",
     "text": [
      "100%|██████████| 13/13 [00:02<00:00,  4.53it/s]\n",
      "  0%|          | 1/1250 [00:00<02:38,  7.88it/s]"
     ]
    },
    {
     "name": "stdout",
     "output_type": "stream",
     "text": [
      "Valid: loss = 0.693142994243011, top 1 = 0.9796666666666672, top 5 = 0.9677333333333327, top 10 = 0.9583333333333331, kendal = 0.8538149738801825\n",
      "\n",
      "Epoch: 52\n"
     ]
    },
    {
     "name": "stderr",
     "output_type": "stream",
     "text": [
      "100%|██████████| 1250/1250 [07:44<00:00,  2.69it/s]\n",
      "100%|██████████| 1250/1250 [04:29<00:00,  4.63it/s]\n",
      "  0%|          | 0/13 [00:00<?, ?it/s]"
     ]
    },
    {
     "name": "stdout",
     "output_type": "stream",
     "text": [
      "Train: loss = 0.6931429699043671, top 1 = 0.9797466666666181, top 5 = 0.9673826666665681, top 10 = 0.9591176666666057, kendal = 0.8569623750583502\n"
     ]
    },
    {
     "name": "stderr",
     "output_type": "stream",
     "text": [
      "100%|██████████| 13/13 [00:02<00:00,  5.50it/s]\n",
      "  0%|          | 1/1250 [00:00<02:57,  7.06it/s]"
     ]
    },
    {
     "name": "stdout",
     "output_type": "stream",
     "text": [
      "Valid: loss = 0.6931430018152074, top 1 = 0.9800000000000005, top 5 = 0.9677999999999993, top 10 = 0.9582666666666665, kendal = 0.8537227920417918\n",
      "\n",
      "Epoch: 53\n"
     ]
    },
    {
     "name": "stderr",
     "output_type": "stream",
     "text": [
      "100%|██████████| 1250/1250 [07:57<00:00,  2.62it/s]\n",
      "100%|██████████| 1250/1250 [04:07<00:00,  5.04it/s]\n",
      "  8%|▊         | 1/13 [00:00<00:02,  5.48it/s]"
     ]
    },
    {
     "name": "stdout",
     "output_type": "stream",
     "text": [
      "Train: loss = 0.6931429697045772, top 1 = 0.9796933333332843, top 5 = 0.9674853333332332, top 10 = 0.9593266666666106, kendal = 0.8561435595420668\n"
     ]
    },
    {
     "name": "stderr",
     "output_type": "stream",
     "text": [
      "100%|██████████| 13/13 [00:02<00:00,  5.01it/s]\n",
      "  0%|          | 1/1250 [00:00<02:33,  8.11it/s]"
     ]
    },
    {
     "name": "stdout",
     "output_type": "stream",
     "text": [
      "Valid: loss = 0.693142995348682, top 1 = 0.9800000000000005, top 5 = 0.9679333333333328, top 10 = 0.9585999999999997, kendal = 0.8529361120373458\n",
      "\n",
      "Epoch: 54\n"
     ]
    },
    {
     "name": "stderr",
     "output_type": "stream",
     "text": [
      "100%|██████████| 1250/1250 [07:52<00:00,  2.65it/s]\n",
      "100%|██████████| 1250/1250 [04:43<00:00,  4.42it/s]\n",
      "  0%|          | 0/13 [00:00<?, ?it/s]"
     ]
    },
    {
     "name": "stdout",
     "output_type": "stream",
     "text": [
      "Train: loss = 0.6931429604342138, top 1 = 0.9798899999999514, top 5 = 0.9675346666665664, top 10 = 0.9592809999999407, kendal = 0.8537747331332648\n"
     ]
    },
    {
     "name": "stderr",
     "output_type": "stream",
     "text": [
      "100%|██████████| 13/13 [00:02<00:00,  4.57it/s]\n",
      "  0%|          | 1/1250 [00:00<02:37,  7.95it/s]"
     ]
    },
    {
     "name": "stdout",
     "output_type": "stream",
     "text": [
      "Valid: loss = 0.6931430145356862, top 1 = 0.9806666666666672, top 5 = 0.9679999999999994, top 10 = 0.958633333333333, kendal = 0.8505886362120709\n",
      "\n",
      "Epoch: 55\n"
     ]
    },
    {
     "name": "stderr",
     "output_type": "stream",
     "text": [
      "100%|██████████| 1250/1250 [07:44<00:00,  2.69it/s]\n",
      "100%|██████████| 1250/1250 [04:10<00:00,  4.98it/s]\n",
      "  8%|▊         | 1/13 [00:00<00:01,  6.74it/s]"
     ]
    },
    {
     "name": "stdout",
     "output_type": "stream",
     "text": [
      "Train: loss = 0.6931429624239227, top 1 = 0.979953333333285, top 5 = 0.967379333333234, top 10 = 0.9594966666666039, kendal = 0.8578599225837519\n"
     ]
    },
    {
     "name": "stderr",
     "output_type": "stream",
     "text": [
      "100%|██████████| 13/13 [00:02<00:00,  5.40it/s]\n",
      "  0%|          | 0/1250 [00:00<?, ?it/s]"
     ]
    },
    {
     "name": "stdout",
     "output_type": "stream",
     "text": [
      "Valid: loss = 0.6931430280799304, top 1 = 0.9803333333333338, top 5 = 0.9675333333333327, top 10 = 0.9587333333333334, kendal = 0.854646286539958\n",
      "\n",
      "Epoch: 56\n"
     ]
    },
    {
     "name": "stderr",
     "output_type": "stream",
     "text": [
      "100%|██████████| 1250/1250 [08:02<00:00,  2.59it/s]\n",
      "100%|██████████| 1250/1250 [04:22<00:00,  4.77it/s]\n",
      "  8%|▊         | 1/13 [00:00<00:02,  5.06it/s]"
     ]
    },
    {
     "name": "stdout",
     "output_type": "stream",
     "text": [
      "Train: loss = 0.6931429727020428, top 1 = 0.9800199999999515, top 5 = 0.9677506666665652, top 10 = 0.9594606666666027, kendal = 0.8550019576303197\n"
     ]
    },
    {
     "name": "stderr",
     "output_type": "stream",
     "text": [
      "100%|██████████| 13/13 [00:03<00:00,  3.96it/s]\n",
      "  0%|          | 1/1250 [00:00<03:43,  5.58it/s]"
     ]
    },
    {
     "name": "stdout",
     "output_type": "stream",
     "text": [
      "Valid: loss = 0.6931430266764668, top 1 = 0.9803333333333338, top 5 = 0.9685333333333329, top 10 = 0.9587000000000002, kendal = 0.8518507013448926\n",
      "\n",
      "Epoch: 57\n"
     ]
    },
    {
     "name": "stderr",
     "output_type": "stream",
     "text": [
      "100%|██████████| 1250/1250 [07:50<00:00,  2.66it/s]\n",
      "100%|██████████| 1250/1250 [05:44<00:00,  3.62it/s]\n",
      "  8%|▊         | 1/13 [00:00<00:02,  5.14it/s]"
     ]
    },
    {
     "name": "stdout",
     "output_type": "stream",
     "text": [
      "Train: loss = 0.6931429622239174, top 1 = 0.9800333333332841, top 5 = 0.9677659999998954, top 10 = 0.9595433333332674, kendal = 0.8586214662220724\n"
     ]
    },
    {
     "name": "stderr",
     "output_type": "stream",
     "text": [
      "100%|██████████| 13/13 [00:03<00:00,  3.81it/s]\n",
      "  0%|          | 0/1250 [00:00<?, ?it/s]"
     ]
    },
    {
     "name": "stdout",
     "output_type": "stream",
     "text": [
      "Valid: loss = 0.6931429532480111, top 1 = 0.9803333333333338, top 5 = 0.9684666666666663, top 10 = 0.9588333333333335, kendal = 0.8555102011781703\n",
      "\n",
      "Epoch: 58\n"
     ]
    },
    {
     "name": "stderr",
     "output_type": "stream",
     "text": [
      "100%|██████████| 1250/1250 [07:55<00:00,  2.63it/s]\n",
      "100%|██████████| 1250/1250 [04:37<00:00,  4.50it/s]\n",
      "  8%|▊         | 1/13 [00:00<00:01,  6.70it/s]"
     ]
    },
    {
     "name": "stdout",
     "output_type": "stream",
     "text": [
      "Train: loss = 0.693142973331498, top 1 = 0.9801633333332844, top 5 = 0.9679146666665638, top 10 = 0.9596223333332687, kendal = 0.8553647739468666\n"
     ]
    },
    {
     "name": "stderr",
     "output_type": "stream",
     "text": [
      "100%|██████████| 13/13 [00:02<00:00,  4.98it/s]\n",
      "  0%|          | 0/1250 [00:00<?, ?it/s]"
     ]
    },
    {
     "name": "stdout",
     "output_type": "stream",
     "text": [
      "Valid: loss = 0.6931430624225294, top 1 = 0.9803333333333338, top 5 = 0.9685999999999999, top 10 = 0.9590000000000001, kendal = 0.8522700233411138\n",
      "\n",
      "Epoch: 59\n"
     ]
    },
    {
     "name": "stderr",
     "output_type": "stream",
     "text": [
      "100%|██████████| 1250/1250 [07:45<00:00,  2.69it/s]\n",
      "100%|██████████| 1250/1250 [04:20<00:00,  4.80it/s]\n",
      "  0%|          | 0/13 [00:00<?, ?it/s]"
     ]
    },
    {
     "name": "stdout",
     "output_type": "stream",
     "text": [
      "Train: loss = 0.6931429647169406, top 1 = 0.9801733333332843, top 5 = 0.9679706666665655, top 10 = 0.9597316666666015, kendal = 0.8585338744914972\n"
     ]
    },
    {
     "name": "stderr",
     "output_type": "stream",
     "text": [
      "100%|██████████| 13/13 [00:02<00:00,  5.86it/s]\n",
      "  0%|          | 1/1250 [00:00<03:31,  5.91it/s]"
     ]
    },
    {
     "name": "stdout",
     "output_type": "stream",
     "text": [
      "Valid: loss = 0.6931429219771738, top 1 = 0.9803333333333338, top 5 = 0.9687333333333332, top 10 = 0.9593333333333335, kendal = 0.8554904434811605\n",
      "\n",
      "Epoch: 60\n"
     ]
    },
    {
     "name": "stderr",
     "output_type": "stream",
     "text": [
      "100%|██████████| 1250/1250 [08:02<00:00,  2.59it/s]\n",
      "100%|██████████| 1250/1250 [04:19<00:00,  4.82it/s]\n",
      "  0%|          | 0/13 [00:00<?, ?it/s]"
     ]
    },
    {
     "name": "stdout",
     "output_type": "stream",
     "text": [
      "Train: loss = 0.6931429658154036, top 1 = 0.9802733333332848, top 5 = 0.9680066666665657, top 10 = 0.9597433333332704, kendal = 0.859032977436922\n"
     ]
    },
    {
     "name": "stderr",
     "output_type": "stream",
     "text": [
      "100%|██████████| 13/13 [00:02<00:00,  4.41it/s]\n",
      "  0%|          | 0/1250 [00:00<?, ?it/s]"
     ]
    },
    {
     "name": "stdout",
     "output_type": "stream",
     "text": [
      "Valid: loss = 0.6931430311090315, top 1 = 0.9803333333333338, top 5 = 0.9687333333333331, top 10 = 0.9591666666666667, kendal = 0.8560440324552628\n",
      "\n",
      "Epoch: 61\n"
     ]
    },
    {
     "name": "stderr",
     "output_type": "stream",
     "text": [
      "100%|██████████| 1250/1250 [07:44<00:00,  2.69it/s]\n",
      "100%|██████████| 1250/1250 [04:24<00:00,  4.73it/s]\n",
      "  8%|▊         | 1/13 [00:00<00:02,  5.46it/s]"
     ]
    },
    {
     "name": "stdout",
     "output_type": "stream",
     "text": [
      "Train: loss = 0.693142956650783, top 1 = 0.9802933333332853, top 5 = 0.9679593333332327, top 10 = 0.9599633333332739, kendal = 0.859273049638769\n"
     ]
    },
    {
     "name": "stderr",
     "output_type": "stream",
     "text": [
      "100%|██████████| 13/13 [00:02<00:00,  5.27it/s]\n",
      "  0%|          | 0/1250 [00:00<?, ?it/s]"
     ]
    },
    {
     "name": "stdout",
     "output_type": "stream",
     "text": [
      "Valid: loss = 0.6931429259584212, top 1 = 0.9803333333333338, top 5 = 0.9683333333333328, top 10 = 0.9598333333333332, kendal = 0.8562641858397241\n",
      "\n",
      "Epoch: 62\n"
     ]
    },
    {
     "name": "stderr",
     "output_type": "stream",
     "text": [
      "100%|██████████| 1250/1250 [08:01<00:00,  2.60it/s]\n",
      "100%|██████████| 1250/1250 [04:10<00:00,  5.00it/s]\n",
      "  8%|▊         | 1/13 [00:00<00:01,  6.06it/s]"
     ]
    },
    {
     "name": "stdout",
     "output_type": "stream",
     "text": [
      "Train: loss = 0.693142972094858, top 1 = 0.9803533333332851, top 5 = 0.9681413333332324, top 10 = 0.960098333333273, kendal = 0.8575295746582198\n"
     ]
    },
    {
     "name": "stderr",
     "output_type": "stream",
     "text": [
      "100%|██████████| 13/13 [00:02<00:00,  4.61it/s]\n",
      "  0%|          | 0/1250 [00:00<?, ?it/s]"
     ]
    },
    {
     "name": "stdout",
     "output_type": "stream",
     "text": [
      "Valid: loss = 0.6931429565166347, top 1 = 0.9803333333333338, top 5 = 0.9685333333333334, top 10 = 0.9599000000000001, kendal = 0.854588716238746\n",
      "\n",
      "Epoch: 63\n"
     ]
    },
    {
     "name": "stderr",
     "output_type": "stream",
     "text": [
      "100%|██████████| 1250/1250 [07:47<00:00,  2.67it/s]\n",
      "100%|██████████| 1250/1250 [04:39<00:00,  4.48it/s]\n",
      "  0%|          | 0/13 [00:00<?, ?it/s]"
     ]
    },
    {
     "name": "stdout",
     "output_type": "stream",
     "text": [
      "Train: loss = 0.6931429606859238, top 1 = 0.980476666666619, top 5 = 0.9681493333332318, top 10 = 0.9600339999999391, kendal = 0.8615103205512962\n"
     ]
    },
    {
     "name": "stderr",
     "output_type": "stream",
     "text": [
      "100%|██████████| 13/13 [00:02<00:00,  4.63it/s]\n",
      "  0%|          | 0/1250 [00:00<?, ?it/s]"
     ]
    },
    {
     "name": "stdout",
     "output_type": "stream",
     "text": [
      "Valid: loss = 0.693143015358093, top 1 = 0.9803333333333338, top 5 = 0.9690666666666664, top 10 = 0.9598666666666668, kendal = 0.8584635856396577\n",
      "\n",
      "Epoch: 64\n"
     ]
    },
    {
     "name": "stderr",
     "output_type": "stream",
     "text": [
      "100%|██████████| 1250/1250 [07:43<00:00,  2.70it/s]\n",
      "100%|██████████| 1250/1250 [04:05<00:00,  5.09it/s]\n",
      "  0%|          | 0/13 [00:00<?, ?it/s]"
     ]
    },
    {
     "name": "stdout",
     "output_type": "stream",
     "text": [
      "Train: loss = 0.6931429543334945, top 1 = 0.9804899999999518, top 5 = 0.9683606666665653, top 10 = 0.9602336666666064, kendal = 0.8591365752139624\n"
     ]
    },
    {
     "name": "stderr",
     "output_type": "stream",
     "text": [
      "100%|██████████| 13/13 [00:02<00:00,  5.06it/s]\n",
      "  0%|          | 1/1250 [00:00<03:58,  5.23it/s]"
     ]
    },
    {
     "name": "stdout",
     "output_type": "stream",
     "text": [
      "Valid: loss = 0.6931430196712944, top 1 = 0.9803333333333338, top 5 = 0.9692666666666664, top 10 = 0.9599, kendal = 0.8561199599866623\n",
      "\n",
      "Epoch: 65\n"
     ]
    },
    {
     "name": "stderr",
     "output_type": "stream",
     "text": [
      "100%|██████████| 1250/1250 [08:00<00:00,  2.60it/s]\n",
      "100%|██████████| 1250/1250 [04:17<00:00,  4.85it/s]\n",
      "  0%|          | 0/13 [00:00<?, ?it/s]"
     ]
    },
    {
     "name": "stdout",
     "output_type": "stream",
     "text": [
      "Train: loss = 0.6931429705390101, top 1 = 0.9804933333332858, top 5 = 0.9683393333332345, top 10 = 0.9603119999999397, kendal = 0.8576102639991081\n"
     ]
    },
    {
     "name": "stderr",
     "output_type": "stream",
     "text": [
      "100%|██████████| 13/13 [00:02<00:00,  4.54it/s]\n",
      "  0%|          | 0/1250 [00:00<?, ?it/s]"
     ]
    },
    {
     "name": "stdout",
     "output_type": "stream",
     "text": [
      "Valid: loss = 0.693142876298157, top 1 = 0.9806666666666672, top 5 = 0.9685333333333331, top 10 = 0.9599333333333333, kendal = 0.8546395642992105\n",
      "\n",
      "Epoch: 66\n"
     ]
    },
    {
     "name": "stderr",
     "output_type": "stream",
     "text": [
      "100%|██████████| 1250/1250 [07:44<00:00,  2.69it/s]\n",
      "100%|██████████| 1250/1250 [04:28<00:00,  4.66it/s]\n",
      "  8%|▊         | 1/13 [00:00<00:02,  5.58it/s]"
     ]
    },
    {
     "name": "stdout",
     "output_type": "stream",
     "text": [
      "Train: loss = 0.6931429605097184, top 1 = 0.9805866666666198, top 5 = 0.9684319999998996, top 10 = 0.9601969999999374, kendal = 0.8550393353784651\n"
     ]
    },
    {
     "name": "stderr",
     "output_type": "stream",
     "text": [
      "100%|██████████| 13/13 [00:02<00:00,  5.47it/s]\n",
      "  0%|          | 1/1250 [00:00<04:02,  5.15it/s]"
     ]
    },
    {
     "name": "stdout",
     "output_type": "stream",
     "text": [
      "Valid: loss = 0.6931430150821687, top 1 = 0.9806666666666672, top 5 = 0.9689333333333334, top 10 = 0.9597, kendal = 0.8520761898410583\n",
      "\n",
      "Epoch: 67\n"
     ]
    },
    {
     "name": "stderr",
     "output_type": "stream",
     "text": [
      "100%|██████████| 1250/1250 [07:58<00:00,  2.61it/s]\n",
      "100%|██████████| 1250/1250 [04:02<00:00,  5.14it/s]\n",
      "  8%|▊         | 1/13 [00:00<00:01,  7.73it/s]"
     ]
    },
    {
     "name": "stdout",
     "output_type": "stream",
     "text": [
      "Train: loss = 0.6931429588597849, top 1 = 0.980686666666619, top 5 = 0.9685486666665687, top 10 = 0.960161999999937, kendal = 0.8561623493164392\n"
     ]
    },
    {
     "name": "stderr",
     "output_type": "stream",
     "text": [
      "100%|██████████| 13/13 [00:02<00:00,  4.71it/s]\n",
      "  0%|          | 0/1250 [00:00<?, ?it/s]"
     ]
    },
    {
     "name": "stdout",
     "output_type": "stream",
     "text": [
      "Valid: loss = 0.6931430066589412, top 1 = 0.9806666666666672, top 5 = 0.9689333333333329, top 10 = 0.9596666666666671, kendal = 0.8531524997221294\n",
      "\n",
      "Epoch: 68\n"
     ]
    },
    {
     "name": "stderr",
     "output_type": "stream",
     "text": [
      "100%|██████████| 1250/1250 [07:51<00:00,  2.65it/s]\n",
      "100%|██████████| 1250/1250 [04:31<00:00,  4.60it/s]\n",
      "  8%|▊         | 1/13 [00:00<00:01,  7.75it/s]"
     ]
    },
    {
     "name": "stdout",
     "output_type": "stream",
     "text": [
      "Train: loss = 0.6931429624053569, top 1 = 0.9807566666666199, top 5 = 0.9686693333332338, top 10 = 0.9604229999999385, kendal = 0.8610931789263088\n"
     ]
    },
    {
     "name": "stderr",
     "output_type": "stream",
     "text": [
      "100%|██████████| 13/13 [00:02<00:00,  4.84it/s]\n",
      "  0%|          | 1/1250 [00:00<03:38,  5.71it/s]"
     ]
    },
    {
     "name": "stdout",
     "output_type": "stream",
     "text": [
      "Valid: loss = 0.6931429895137022, top 1 = 0.9806666666666672, top 5 = 0.9690666666666664, top 10 = 0.9598666666666665, kendal = 0.8581327420251196\n",
      "\n",
      "Epoch: 69\n"
     ]
    },
    {
     "name": "stderr",
     "output_type": "stream",
     "text": [
      "100%|██████████| 1250/1250 [07:44<00:00,  2.69it/s]\n",
      "100%|██████████| 1250/1250 [04:13<00:00,  4.93it/s]\n",
      "  8%|▊         | 1/13 [00:00<00:01,  6.18it/s]"
     ]
    },
    {
     "name": "stdout",
     "output_type": "stream",
     "text": [
      "Train: loss = 0.693142964337024, top 1 = 0.980829999999953, top 5 = 0.9688486666665672, top 10 = 0.9604599999999377, kendal = 0.8615758618206076\n"
     ]
    },
    {
     "name": "stderr",
     "output_type": "stream",
     "text": [
      "100%|██████████| 13/13 [00:02<00:00,  5.65it/s]\n",
      "  0%|          | 0/1250 [00:00<?, ?it/s]"
     ]
    },
    {
     "name": "stdout",
     "output_type": "stream",
     "text": [
      "Valid: loss = 0.6931429736299337, top 1 = 0.9803333333333338, top 5 = 0.9696666666666665, top 10 = 0.9597000000000001, kendal = 0.8586373413360009\n",
      "\n",
      "Epoch: 70\n"
     ]
    },
    {
     "name": "stderr",
     "output_type": "stream",
     "text": [
      "100%|██████████| 1250/1250 [08:04<00:00,  2.58it/s]\n",
      "100%|██████████| 1250/1250 [04:16<00:00,  4.87it/s]\n",
      "  0%|          | 0/13 [00:00<?, ?it/s]"
     ]
    },
    {
     "name": "stdout",
     "output_type": "stream",
     "text": [
      "Train: loss = 0.6931429715457642, top 1 = 0.9808699999999527, top 5 = 0.9687366666665658, top 10 = 0.9604269999999419, kendal = 0.8643070070023319\n"
     ]
    },
    {
     "name": "stderr",
     "output_type": "stream",
     "text": [
      "100%|██████████| 13/13 [00:02<00:00,  4.68it/s]\n",
      "  0%|          | 0/1250 [00:00<?, ?it/s]"
     ]
    },
    {
     "name": "stdout",
     "output_type": "stream",
     "text": [
      "Valid: loss = 0.6931430215894714, top 1 = 0.9803333333333338, top 5 = 0.9693999999999998, top 10 = 0.9597333333333335, kendal = 0.8613272246304323\n",
      "\n",
      "Epoch: 71\n"
     ]
    },
    {
     "name": "stderr",
     "output_type": "stream",
     "text": [
      "100%|██████████| 1250/1250 [07:46<00:00,  2.68it/s]\n",
      "100%|██████████| 1250/1250 [04:27<00:00,  4.68it/s]\n",
      "  0%|          | 0/13 [00:00<?, ?it/s]"
     ]
    },
    {
     "name": "stdout",
     "output_type": "stream",
     "text": [
      "Train: loss = 0.6931429602193819, top 1 = 0.9808166666666197, top 5 = 0.9689366666665672, top 10 = 0.9607073333332713, kendal = 0.8628052848727339\n"
     ]
    },
    {
     "name": "stderr",
     "output_type": "stream",
     "text": [
      "100%|██████████| 13/13 [00:02<00:00,  5.36it/s]\n",
      "  0%|          | 0/1250 [00:00<?, ?it/s]"
     ]
    },
    {
     "name": "stdout",
     "output_type": "stream",
     "text": [
      "Valid: loss = 0.6931430573693435, top 1 = 0.9806666666666672, top 5 = 0.9695999999999999, top 10 = 0.9600999999999997, kendal = 0.8598311437145714\n",
      "\n",
      "Epoch: 72\n"
     ]
    },
    {
     "name": "stderr",
     "output_type": "stream",
     "text": [
      "100%|██████████| 1250/1250 [07:58<00:00,  2.61it/s]\n",
      "100%|██████████| 1250/1250 [04:07<00:00,  5.06it/s]\n",
      "  0%|          | 0/13 [00:00<?, ?it/s]"
     ]
    },
    {
     "name": "stdout",
     "output_type": "stream",
     "text": [
      "Train: loss = 0.6931429646203571, top 1 = 0.9808999999999529, top 5 = 0.9689326666665696, top 10 = 0.9607283333332691, kendal = 0.8605306618206073\n"
     ]
    },
    {
     "name": "stderr",
     "output_type": "stream",
     "text": [
      "100%|██████████| 13/13 [00:02<00:00,  4.75it/s]\n",
      "  0%|          | 0/1250 [00:00<?, ?it/s]"
     ]
    },
    {
     "name": "stdout",
     "output_type": "stream",
     "text": [
      "Valid: loss = 0.6931429360714, top 1 = 0.9806666666666672, top 5 = 0.9697333333333331, top 10 = 0.9598333333333332, kendal = 0.8575373568967435\n",
      "\n",
      "Epoch: 73\n"
     ]
    },
    {
     "name": "stderr",
     "output_type": "stream",
     "text": [
      "100%|██████████| 1250/1250 [07:56<00:00,  2.62it/s]\n",
      "100%|██████████| 1250/1250 [04:30<00:00,  4.62it/s]\n",
      "  0%|          | 0/13 [00:00<?, ?it/s]"
     ]
    },
    {
     "name": "stdout",
     "output_type": "stream",
     "text": [
      "Train: loss = 0.6931429600434345, top 1 = 0.9808899999999523, top 5 = 0.9690159999999006, top 10 = 0.9608329999999398, kendal = 0.8613322618206066\n"
     ]
    },
    {
     "name": "stderr",
     "output_type": "stream",
     "text": [
      "100%|██████████| 13/13 [00:02<00:00,  4.40it/s]\n",
      "  0%|          | 0/1250 [00:00<?, ?it/s]"
     ]
    },
    {
     "name": "stdout",
     "output_type": "stream",
     "text": [
      "Valid: loss = 0.6931430453716186, top 1 = 0.9806666666666672, top 5 = 0.9700666666666667, top 10 = 0.9598999999999998, kendal = 0.8583694564854951\n",
      "\n",
      "Epoch: 74\n"
     ]
    },
    {
     "name": "stderr",
     "output_type": "stream",
     "text": [
      "100%|██████████| 1250/1250 [07:46<00:00,  2.68it/s]\n",
      "100%|██████████| 1250/1250 [04:11<00:00,  4.97it/s]\n",
      "  8%|▊         | 1/13 [00:00<00:01,  8.18it/s]"
     ]
    },
    {
     "name": "stdout",
     "output_type": "stream",
     "text": [
      "Train: loss = 0.6931429673419267, top 1 = 0.9809699999999529, top 5 = 0.9690139999998985, top 10 = 0.9606196666666019, kendal = 0.8585452669556509\n"
     ]
    },
    {
     "name": "stderr",
     "output_type": "stream",
     "text": [
      "100%|██████████| 13/13 [00:02<00:00,  5.51it/s]\n",
      "  0%|          | 0/1250 [00:00<?, ?it/s]"
     ]
    },
    {
     "name": "stdout",
     "output_type": "stream",
     "text": [
      "Valid: loss = 0.6931429798506364, top 1 = 0.9803333333333338, top 5 = 0.9698666666666667, top 10 = 0.9598999999999998, kendal = 0.85554564410359\n",
      "\n",
      "Epoch: 75\n"
     ]
    },
    {
     "name": "stderr",
     "output_type": "stream",
     "text": [
      "100%|██████████| 1250/1250 [08:03<00:00,  2.59it/s]\n",
      "100%|██████████| 1250/1250 [04:44<00:00,  4.40it/s]\n",
      "  0%|          | 0/13 [00:00<?, ?it/s]"
     ]
    },
    {
     "name": "stdout",
     "output_type": "stream",
     "text": [
      "Train: loss = 0.6931429537054961, top 1 = 0.9810066666666191, top 5 = 0.9690546666665681, top 10 = 0.9608066666666051, kendal = 0.8626035394020217\n"
     ]
    },
    {
     "name": "stderr",
     "output_type": "stream",
     "text": [
      "100%|██████████| 13/13 [00:02<00:00,  4.68it/s]\n",
      "  0%|          | 1/1250 [00:00<03:30,  5.93it/s]"
     ]
    },
    {
     "name": "stdout",
     "output_type": "stream",
     "text": [
      "Valid: loss = 0.6931429102198124, top 1 = 0.9803333333333338, top 5 = 0.9698, top 10 = 0.9602999999999997, kendal = 0.8595603156607762\n",
      "\n",
      "Epoch: 76\n"
     ]
    },
    {
     "name": "stderr",
     "output_type": "stream",
     "text": [
      "100%|██████████| 1250/1250 [07:47<00:00,  2.67it/s]\n",
      "100%|██████████| 1250/1250 [04:29<00:00,  4.64it/s]\n",
      "  0%|          | 0/13 [00:00<?, ?it/s]"
     ]
    },
    {
     "name": "stdout",
     "output_type": "stream",
     "text": [
      "Train: loss = 0.6931429593387287, top 1 = 0.9810599999999525, top 5 = 0.9690986666665673, top 10 = 0.9608313333332713, kendal = 0.8661225273757909\n"
     ]
    },
    {
     "name": "stderr",
     "output_type": "stream",
     "text": [
      "100%|██████████| 13/13 [00:02<00:00,  5.46it/s]\n",
      "  0%|          | 1/1250 [00:00<02:35,  8.03it/s]"
     ]
    },
    {
     "name": "stdout",
     "output_type": "stream",
     "text": [
      "Valid: loss = 0.6931429473563394, top 1 = 0.9803333333333338, top 5 = 0.9702666666666667, top 10 = 0.9603666666666666, kendal = 0.8631065777481381\n",
      "\n",
      "Epoch: 77\n"
     ]
    },
    {
     "name": "stderr",
     "output_type": "stream",
     "text": [
      "100%|██████████| 1250/1250 [08:04<00:00,  2.58it/s]\n",
      "100%|██████████| 1250/1250 [04:02<00:00,  5.16it/s]\n",
      "  8%|▊         | 1/13 [00:00<00:02,  5.14it/s]"
     ]
    },
    {
     "name": "stdout",
     "output_type": "stream",
     "text": [
      "Train: loss = 0.6931429599892672, top 1 = 0.9810199999999532, top 5 = 0.9691579999998996, top 10 = 0.9607953333332718, kendal = 0.8571819301100366\n"
     ]
    },
    {
     "name": "stderr",
     "output_type": "stream",
     "text": [
      "100%|██████████| 13/13 [00:02<00:00,  4.41it/s]\n",
      "  0%|          | 0/1250 [00:00<?, ?it/s]"
     ]
    },
    {
     "name": "stdout",
     "output_type": "stream",
     "text": [
      "Valid: loss = 0.6931430792915819, top 1 = 0.9803333333333338, top 5 = 0.9699333333333332, top 10 = 0.9602333333333333, kendal = 0.8541679181949537\n",
      "\n",
      "Epoch: 78\n"
     ]
    },
    {
     "name": "stderr",
     "output_type": "stream",
     "text": [
      "100%|██████████| 1250/1250 [07:48<00:00,  2.67it/s]\n",
      "100%|██████████| 1250/1250 [04:31<00:00,  4.61it/s]\n",
      "  0%|          | 0/13 [00:00<?, ?it/s]"
     ]
    },
    {
     "name": "stdout",
     "output_type": "stream",
     "text": [
      "Train: loss = 0.6931429640219952, top 1 = 0.9810933333332866, top 5 = 0.969223999999898, top 10 = 0.9609349999999409, kendal = 0.8527521721462686\n"
     ]
    },
    {
     "name": "stderr",
     "output_type": "stream",
     "text": [
      "100%|██████████| 13/13 [00:02<00:00,  4.41it/s]\n",
      "  0%|          | 1/1250 [00:00<03:34,  5.83it/s]"
     ]
    },
    {
     "name": "stdout",
     "output_type": "stream",
     "text": [
      "Valid: loss = 0.6931429697132521, top 1 = 0.9810000000000005, top 5 = 0.9702000000000001, top 10 = 0.960433333333333, kendal = 0.8497815227297986\n",
      "\n",
      "Epoch: 79\n"
     ]
    },
    {
     "name": "stderr",
     "output_type": "stream",
     "text": [
      "100%|██████████| 1250/1250 [07:45<00:00,  2.69it/s]\n",
      "100%|██████████| 1250/1250 [04:12<00:00,  4.94it/s]\n",
      "  8%|▊         | 1/13 [00:00<00:01,  7.39it/s]"
     ]
    },
    {
     "name": "stdout",
     "output_type": "stream",
     "text": [
      "Train: loss = 0.6931429656528325, top 1 = 0.9811433333332872, top 5 = 0.9693366666665666, top 10 = 0.9610106666666043, kendal = 0.863997457330219\n"
     ]
    },
    {
     "name": "stderr",
     "output_type": "stream",
     "text": [
      "100%|██████████| 13/13 [00:02<00:00,  6.10it/s]\n",
      "  0%|          | 1/1250 [00:00<03:21,  6.20it/s]"
     ]
    },
    {
     "name": "stdout",
     "output_type": "stream",
     "text": [
      "Valid: loss = 0.6931430467907578, top 1 = 0.9810000000000005, top 5 = 0.9700000000000002, top 10 = 0.9603999999999998, kendal = 0.8609385661887294\n",
      "\n",
      "Epoch: 80\n"
     ]
    },
    {
     "name": "stderr",
     "output_type": "stream",
     "text": [
      "100%|██████████| 1250/1250 [08:01<00:00,  2.60it/s]\n",
      "100%|██████████| 1250/1250 [04:20<00:00,  4.80it/s]\n",
      "  8%|▊         | 1/13 [00:00<00:01,  7.50it/s]"
     ]
    },
    {
     "name": "stdout",
     "output_type": "stream",
     "text": [
      "Train: loss = 0.6931429647850973, top 1 = 0.9812233333332875, top 5 = 0.9693573333332317, top 10 = 0.9612203333332714, kendal = 0.8629803668333866\n"
     ]
    },
    {
     "name": "stderr",
     "output_type": "stream",
     "text": [
      "100%|██████████| 13/13 [00:02<00:00,  4.55it/s]\n",
      "  0%|          | 1/1250 [00:00<02:34,  8.08it/s]"
     ]
    },
    {
     "name": "stdout",
     "output_type": "stream",
     "text": [
      "Valid: loss = 0.693142946125947, top 1 = 0.9816666666666671, top 5 = 0.9703333333333336, top 10 = 0.9607666666666664, kendal = 0.8599236901189287\n",
      "\n",
      "Epoch: 81\n"
     ]
    },
    {
     "name": "stderr",
     "output_type": "stream",
     "text": [
      "100%|██████████| 1250/1250 [07:43<00:00,  2.69it/s]\n",
      "100%|██████████| 1250/1250 [04:21<00:00,  4.78it/s]\n",
      "  8%|▊         | 1/13 [00:00<00:01,  8.22it/s]"
     ]
    },
    {
     "name": "stdout",
     "output_type": "stream",
     "text": [
      "Train: loss = 0.6931429655927963, top 1 = 0.9812199999999545, top 5 = 0.9694513333332332, top 10 = 0.9613153333332702, kendal = 0.8613958954762687\n"
     ]
    },
    {
     "name": "stderr",
     "output_type": "stream",
     "text": [
      "100%|██████████| 13/13 [00:02<00:00,  5.34it/s]\n",
      "  0%|          | 0/1250 [00:00<?, ?it/s]"
     ]
    },
    {
     "name": "stdout",
     "output_type": "stream",
     "text": [
      "Valid: loss = 0.69314300887349, top 1 = 0.9816666666666671, top 5 = 0.9703333333333336, top 10 = 0.9609666666666665, kendal = 0.8582756652217404\n",
      "\n",
      "Epoch: 82\n"
     ]
    },
    {
     "name": "stderr",
     "output_type": "stream",
     "text": [
      "100%|██████████| 1250/1250 [07:59<00:00,  2.61it/s]\n",
      "100%|██████████| 1250/1250 [04:02<00:00,  5.17it/s]\n",
      "  0%|          | 0/13 [00:00<?, ?it/s]"
     ]
    },
    {
     "name": "stdout",
     "output_type": "stream",
     "text": [
      "Train: loss = 0.6931429628524715, top 1 = 0.9812666666666208, top 5 = 0.9694579999998996, top 10 = 0.9613036666666048, kendal = 0.8654140224074653\n"
     ]
    },
    {
     "name": "stderr",
     "output_type": "stream",
     "text": [
      "100%|██████████| 13/13 [00:02<00:00,  4.62it/s]\n",
      "  0%|          | 1/1250 [00:00<03:10,  6.55it/s]"
     ]
    },
    {
     "name": "stdout",
     "output_type": "stream",
     "text": [
      "Valid: loss = 0.6931428481249404, top 1 = 0.9820000000000004, top 5 = 0.9704, top 10 = 0.9608333333333331, kendal = 0.8622688096032007\n",
      "\n",
      "Epoch: 83\n"
     ]
    },
    {
     "name": "stderr",
     "output_type": "stream",
     "text": [
      "100%|██████████| 1250/1250 [07:50<00:00,  2.66it/s]\n",
      "100%|██████████| 1250/1250 [04:38<00:00,  4.49it/s]\n",
      "  0%|          | 0/13 [00:00<?, ?it/s]"
     ]
    },
    {
     "name": "stdout",
     "output_type": "stream",
     "text": [
      "Train: loss = 0.6931429659485595, top 1 = 0.9812966666666203, top 5 = 0.969574666666566, top 10 = 0.9614919999999398, kendal = 0.8654702950316793\n"
     ]
    },
    {
     "name": "stderr",
     "output_type": "stream",
     "text": [
      "100%|██████████| 13/13 [00:02<00:00,  4.59it/s]\n",
      "  0%|          | 1/1250 [00:00<03:08,  6.62it/s]"
     ]
    },
    {
     "name": "stdout",
     "output_type": "stream",
     "text": [
      "Valid: loss = 0.6931430400860134, top 1 = 0.9816666666666671, top 5 = 0.9704, top 10 = 0.9612999999999997, kendal = 0.8623268467266867\n",
      "\n",
      "Epoch: 84\n"
     ]
    },
    {
     "name": "stderr",
     "output_type": "stream",
     "text": [
      "100%|██████████| 1250/1250 [07:43<00:00,  2.70it/s]\n",
      "100%|██████████| 1250/1250 [04:08<00:00,  5.03it/s]\n",
      "  0%|          | 0/13 [00:00<?, ?it/s]"
     ]
    },
    {
     "name": "stdout",
     "output_type": "stream",
     "text": [
      "Train: loss = 0.6931429656951698, top 1 = 0.9813633333332875, top 5 = 0.9696086666665673, top 10 = 0.9613093333332705, kendal = 0.8574781288429475\n"
     ]
    },
    {
     "name": "stderr",
     "output_type": "stream",
     "text": [
      "100%|██████████| 13/13 [00:02<00:00,  5.23it/s]\n",
      "  0%|          | 1/1250 [00:00<03:16,  6.35it/s]"
     ]
    },
    {
     "name": "stdout",
     "output_type": "stream",
     "text": [
      "Valid: loss = 0.6931429608710227, top 1 = 0.9823333333333337, top 5 = 0.9705333333333335, top 10 = 0.9609333333333329, kendal = 0.8544372079582085\n",
      "\n",
      "Epoch: 85\n"
     ]
    },
    {
     "name": "stderr",
     "output_type": "stream",
     "text": [
      "100%|██████████| 1250/1250 [08:02<00:00,  2.59it/s]\n",
      "100%|██████████| 1250/1250 [04:11<00:00,  4.96it/s]\n",
      "  0%|          | 0/13 [00:00<?, ?it/s]"
     ]
    },
    {
     "name": "stdout",
     "output_type": "stream",
     "text": [
      "Train: loss = 0.6931429611814804, top 1 = 0.9813566666666206, top 5 = 0.9696426666665652, top 10 = 0.9616706666666074, kendal = 0.8643866106035383\n"
     ]
    },
    {
     "name": "stderr",
     "output_type": "stream",
     "text": [
      "100%|██████████| 13/13 [00:02<00:00,  4.70it/s]\n",
      "  0%|          | 1/1250 [00:00<03:10,  6.57it/s]"
     ]
    },
    {
     "name": "stdout",
     "output_type": "stream",
     "text": [
      "Valid: loss = 0.6931430016867892, top 1 = 0.9823333333333337, top 5 = 0.9702666666666668, top 10 = 0.9614666666666661, kendal = 0.8612828365010557\n",
      "\n",
      "Epoch: 86\n"
     ]
    },
    {
     "name": "stderr",
     "output_type": "stream",
     "text": [
      "100%|██████████| 1250/1250 [07:43<00:00,  2.70it/s]\n",
      "100%|██████████| 1250/1250 [04:34<00:00,  4.55it/s]\n",
      "  8%|▊         | 1/13 [00:00<00:01,  8.18it/s]"
     ]
    },
    {
     "name": "stdout",
     "output_type": "stream",
     "text": [
      "Train: loss = 0.6931429673656803, top 1 = 0.9814899999999541, top 5 = 0.9697486666665671, top 10 = 0.9616126666666076, kendal = 0.8671872465043865\n"
     ]
    },
    {
     "name": "stderr",
     "output_type": "stream",
     "text": [
      "100%|██████████| 13/13 [00:02<00:00,  6.15it/s]\n",
      "  0%|          | 1/1250 [00:00<02:31,  8.22it/s]"
     ]
    },
    {
     "name": "stdout",
     "output_type": "stream",
     "text": [
      "Valid: loss = 0.6931429678164858, top 1 = 0.9820000000000004, top 5 = 0.9708000000000001, top 10 = 0.9613999999999998, kendal = 0.8640093542291875\n",
      "\n",
      "Epoch: 87\n"
     ]
    },
    {
     "name": "stderr",
     "output_type": "stream",
     "text": [
      "100%|██████████| 1250/1250 [07:55<00:00,  2.63it/s]\n",
      "100%|██████████| 1250/1250 [04:05<00:00,  5.09it/s]\n",
      "  0%|          | 0/13 [00:00<?, ?it/s]"
     ]
    },
    {
     "name": "stdout",
     "output_type": "stream",
     "text": [
      "Train: loss = 0.6931429675890882, top 1 = 0.9815133333332877, top 5 = 0.9697859999998988, top 10 = 0.961594666666607, kendal = 0.8611699345115053\n"
     ]
    },
    {
     "name": "stderr",
     "output_type": "stream",
     "text": [
      "100%|██████████| 13/13 [00:02<00:00,  4.42it/s]\n",
      "  0%|          | 1/1250 [00:00<02:37,  7.94it/s]"
     ]
    },
    {
     "name": "stdout",
     "output_type": "stream",
     "text": [
      "Valid: loss = 0.6931429526586715, top 1 = 0.9823333333333337, top 5 = 0.9706000000000004, top 10 = 0.9611333333333331, kendal = 0.8580936712237411\n",
      "\n",
      "Epoch: 88\n"
     ]
    },
    {
     "name": "stderr",
     "output_type": "stream",
     "text": [
      "100%|██████████| 1250/1250 [07:53<00:00,  2.64it/s]\n",
      "100%|██████████| 1250/1250 [04:26<00:00,  4.69it/s]\n",
      "  0%|          | 0/13 [00:00<?, ?it/s]"
     ]
    },
    {
     "name": "stdout",
     "output_type": "stream",
     "text": [
      "Train: loss = 0.6931429653709293, top 1 = 0.9815199999999541, top 5 = 0.9697239999998992, top 10 = 0.9614743333332725, kendal = 0.8673018541291567\n"
     ]
    },
    {
     "name": "stderr",
     "output_type": "stream",
     "text": [
      "100%|██████████| 13/13 [00:02<00:00,  4.37it/s]\n",
      "  0%|          | 0/1250 [00:00<?, ?it/s]"
     ]
    },
    {
     "name": "stdout",
     "output_type": "stream",
     "text": [
      "Valid: loss = 0.6931430040081462, top 1 = 0.9826666666666671, top 5 = 0.9705333333333336, top 10 = 0.9612666666666664, kendal = 0.8642287117928198\n",
      "\n",
      "Epoch: 89\n"
     ]
    },
    {
     "name": "stderr",
     "output_type": "stream",
     "text": [
      "100%|██████████| 1250/1250 [07:44<00:00,  2.69it/s]\n",
      "100%|██████████| 1250/1250 [04:14<00:00,  4.90it/s]\n",
      "  8%|▊         | 1/13 [00:00<00:02,  5.87it/s]"
     ]
    },
    {
     "name": "stdout",
     "output_type": "stream",
     "text": [
      "Train: loss = 0.6931429657481564, top 1 = 0.9815933333332876, top 5 = 0.9698653333332331, top 10 = 0.9617963333332742, kendal = 0.8678370162053991\n"
     ]
    },
    {
     "name": "stderr",
     "output_type": "stream",
     "text": [
      "100%|██████████| 13/13 [00:02<00:00,  5.22it/s]\n",
      "  0%|          | 1/1250 [00:00<03:08,  6.62it/s]"
     ]
    },
    {
     "name": "stdout",
     "output_type": "stream",
     "text": [
      "Valid: loss = 0.6931429369397608, top 1 = 0.9826666666666671, top 5 = 0.9706666666666669, top 10 = 0.9612999999999995, kendal = 0.8647232366344336\n",
      "\n",
      "Epoch: 90\n"
     ]
    },
    {
     "name": "stderr",
     "output_type": "stream",
     "text": [
      "100%|██████████| 1250/1250 [08:01<00:00,  2.60it/s]\n",
      "100%|██████████| 1250/1250 [04:27<00:00,  4.67it/s]\n",
      "  0%|          | 0/13 [00:00<?, ?it/s]"
     ]
    },
    {
     "name": "stdout",
     "output_type": "stream",
     "text": [
      "Train: loss = 0.6931429623932815, top 1 = 0.9816733333332873, top 5 = 0.9699639999998966, top 10 = 0.9619383333332732, kendal = 0.8641602081582743\n"
     ]
    },
    {
     "name": "stderr",
     "output_type": "stream",
     "text": [
      "100%|██████████| 13/13 [00:03<00:00,  4.23it/s]\n",
      "  0%|          | 1/1250 [00:00<03:26,  6.04it/s]"
     ]
    },
    {
     "name": "stdout",
     "output_type": "stream",
     "text": [
      "Valid: loss = 0.6931429754165215, top 1 = 0.9823333333333337, top 5 = 0.9707333333333333, top 10 = 0.9615333333333329, kendal = 0.8610428542847618\n",
      "\n",
      "Epoch: 91\n"
     ]
    },
    {
     "name": "stderr",
     "output_type": "stream",
     "text": [
      "100%|██████████| 1250/1250 [07:44<00:00,  2.69it/s]\n",
      "100%|██████████| 1250/1250 [04:34<00:00,  4.55it/s]\n",
      "  0%|          | 0/13 [00:00<?, ?it/s]"
     ]
    },
    {
     "name": "stdout",
     "output_type": "stream",
     "text": [
      "Train: loss = 0.6931429626676909, top 1 = 0.9816633333332889, top 5 = 0.9699179999998964, top 10 = 0.961807666666606, kendal = 0.8640990639991114\n"
     ]
    },
    {
     "name": "stderr",
     "output_type": "stream",
     "text": [
      "100%|██████████| 13/13 [00:02<00:00,  5.46it/s]\n",
      "  0%|          | 0/1250 [00:00<?, ?it/s]"
     ]
    },
    {
     "name": "stdout",
     "output_type": "stream",
     "text": [
      "Valid: loss = 0.693142939828314, top 1 = 0.9820000000000004, top 5 = 0.9706666666666668, top 10 = 0.9614333333333329, kendal = 0.8610440146715571\n",
      "\n",
      "Epoch: 92\n"
     ]
    },
    {
     "name": "stderr",
     "output_type": "stream",
     "text": [
      "100%|██████████| 1250/1250 [07:58<00:00,  2.61it/s]\n",
      "100%|██████████| 1250/1250 [04:27<00:00,  4.67it/s]\n",
      "  0%|          | 0/13 [00:00<?, ?it/s]"
     ]
    },
    {
     "name": "stdout",
     "output_type": "stream",
     "text": [
      "Train: loss = 0.6931429623623924, top 1 = 0.9817666666666224, top 5 = 0.9700899999998981, top 10 = 0.9621963333332726, kendal = 0.8679433450261209\n"
     ]
    },
    {
     "name": "stderr",
     "output_type": "stream",
     "text": [
      "100%|██████████| 13/13 [00:03<00:00,  3.46it/s]\n",
      "  0%|          | 0/1250 [00:00<?, ?it/s]"
     ]
    },
    {
     "name": "stdout",
     "output_type": "stream",
     "text": [
      "Valid: loss = 0.6931430032459825, top 1 = 0.9820000000000004, top 5 = 0.9708666666666669, top 10 = 0.9620666666666665, kendal = 0.8648284672668665\n",
      "\n",
      "Epoch: 93\n"
     ]
    },
    {
     "name": "stderr",
     "output_type": "stream",
     "text": [
      "100%|██████████| 1250/1250 [07:51<00:00,  2.65it/s]\n",
      "100%|██████████| 1250/1250 [04:52<00:00,  4.27it/s]\n",
      "  0%|          | 0/13 [00:00<?, ?it/s]"
     ]
    },
    {
     "name": "stdout",
     "output_type": "stream",
     "text": [
      "Train: loss = 0.6931429728633242, top 1 = 0.981743333333289, top 5 = 0.9700093333332291, top 10 = 0.9619869999999381, kendal = 0.8660315251306003\n"
     ]
    },
    {
     "name": "stderr",
     "output_type": "stream",
     "text": [
      "100%|██████████| 13/13 [00:02<00:00,  5.00it/s]\n",
      "  0%|          | 0/1250 [00:00<?, ?it/s]"
     ]
    },
    {
     "name": "stdout",
     "output_type": "stream",
     "text": [
      "Valid: loss = 0.6931430000242793, top 1 = 0.9820000000000004, top 5 = 0.9705333333333332, top 10 = 0.961733333333333, kendal = 0.8629802378570637\n",
      "\n",
      "Epoch: 94\n"
     ]
    },
    {
     "name": "stderr",
     "output_type": "stream",
     "text": [
      "100%|██████████| 1250/1250 [08:03<00:00,  2.59it/s]\n",
      "100%|██████████| 1250/1250 [04:28<00:00,  4.66it/s]\n",
      "  0%|          | 0/13 [00:00<?, ?it/s]"
     ]
    },
    {
     "name": "stdout",
     "output_type": "stream",
     "text": [
      "Train: loss = 0.6931429638220745, top 1 = 0.9817399999999566, top 5 = 0.9701766666665622, top 10 = 0.9622453333332703, kendal = 0.8700498902745362\n"
     ]
    },
    {
     "name": "stderr",
     "output_type": "stream",
     "text": [
      "100%|██████████| 13/13 [00:03<00:00,  4.29it/s]\n",
      "  0%|          | 0/1250 [00:00<?, ?it/s]"
     ]
    },
    {
     "name": "stdout",
     "output_type": "stream",
     "text": [
      "Valid: loss = 0.6931429958538114, top 1 = 0.9823333333333337, top 5 = 0.9709333333333332, top 10 = 0.9620333333333329, kendal = 0.8669753829054132\n",
      "\n",
      "Epoch: 95\n"
     ]
    },
    {
     "name": "stderr",
     "output_type": "stream",
     "text": [
      "100%|██████████| 1250/1250 [07:52<00:00,  2.65it/s]\n",
      "100%|██████████| 1250/1250 [05:02<00:00,  4.13it/s]\n",
      "  0%|          | 0/13 [00:00<?, ?it/s]"
     ]
    },
    {
     "name": "stdout",
     "output_type": "stream",
     "text": [
      "Train: loss = 0.6931429642424248, top 1 = 0.9818233333332901, top 5 = 0.9701526666665635, top 10 = 0.9622309999999373, kendal = 0.8669867078359481\n"
     ]
    },
    {
     "name": "stderr",
     "output_type": "stream",
     "text": [
      "100%|██████████| 13/13 [00:02<00:00,  5.11it/s]\n",
      "  0%|          | 1/1250 [00:00<02:39,  7.85it/s]"
     ]
    },
    {
     "name": "stdout",
     "output_type": "stream",
     "text": [
      "Valid: loss = 0.6931430389672617, top 1 = 0.9820000000000004, top 5 = 0.9709999999999998, top 10 = 0.961933333333333, kendal = 0.8638820940313435\n",
      "\n",
      "Epoch: 96\n"
     ]
    },
    {
     "name": "stderr",
     "output_type": "stream",
     "text": [
      "100%|██████████| 1250/1250 [08:03<00:00,  2.58it/s]\n",
      "100%|██████████| 1250/1250 [04:48<00:00,  4.33it/s]\n",
      "  8%|▊         | 1/13 [00:00<00:01,  8.01it/s]"
     ]
    },
    {
     "name": "stdout",
     "output_type": "stream",
     "text": [
      "Train: loss = 0.6931429752760557, top 1 = 0.9818666666666229, top 5 = 0.970203999999896, top 10 = 0.9621789999999366, kendal = 0.8614168440591309\n"
     ]
    },
    {
     "name": "stderr",
     "output_type": "stream",
     "text": [
      "100%|██████████| 13/13 [00:03<00:00,  3.78it/s]\n",
      "  0%|          | 0/1250 [00:00<?, ?it/s]"
     ]
    },
    {
     "name": "stdout",
     "output_type": "stream",
     "text": [
      "Valid: loss = 0.6931429474119336, top 1 = 0.9813333333333338, top 5 = 0.971133333333333, top 10 = 0.961833333333333, kendal = 0.8583566299877741\n",
      "\n",
      "Epoch: 97\n"
     ]
    },
    {
     "name": "stderr",
     "output_type": "stream",
     "text": [
      "100%|██████████| 1250/1250 [07:55<00:00,  2.63it/s]\n",
      "100%|██████████| 1250/1250 [04:55<00:00,  4.23it/s]\n",
      "  0%|          | 0/13 [00:00<?, ?it/s]"
     ]
    },
    {
     "name": "stdout",
     "output_type": "stream",
     "text": [
      "Train: loss = 0.6931429628017433, top 1 = 0.9819166666666228, top 5 = 0.9701573333332283, top 10 = 0.9621549999999368, kendal = 0.8651447728353918\n"
     ]
    },
    {
     "name": "stderr",
     "output_type": "stream",
     "text": [
      "100%|██████████| 13/13 [00:02<00:00,  5.01it/s]\n",
      "  0%|          | 0/1250 [00:00<?, ?it/s]"
     ]
    },
    {
     "name": "stdout",
     "output_type": "stream",
     "text": [
      "Valid: loss = 0.6931430150784672, top 1 = 0.9820000000000004, top 5 = 0.9709333333333332, top 10 = 0.9617666666666664, kendal = 0.8620442369678785\n",
      "\n",
      "Epoch: 98\n"
     ]
    },
    {
     "name": "stderr",
     "output_type": "stream",
     "text": [
      "100%|██████████| 1250/1250 [08:05<00:00,  2.57it/s]\n",
      "100%|██████████| 1250/1250 [04:07<00:00,  5.06it/s]\n",
      "  0%|          | 0/13 [00:00<?, ?it/s]"
     ]
    },
    {
     "name": "stdout",
     "output_type": "stream",
     "text": [
      "Train: loss = 0.6931429666826733, top 1 = 0.9819299999999559, top 5 = 0.9701653333332281, top 10 = 0.9622479999999383, kendal = 0.8669386667555856\n"
     ]
    },
    {
     "name": "stderr",
     "output_type": "stream",
     "text": [
      "100%|██████████| 13/13 [00:02<00:00,  4.48it/s]\n",
      "  0%|          | 0/1250 [00:00<?, ?it/s]"
     ]
    },
    {
     "name": "stdout",
     "output_type": "stream",
     "text": [
      "Valid: loss = 0.6931430082673935, top 1 = 0.9816666666666671, top 5 = 0.9709999999999996, top 10 = 0.9617666666666663, kendal = 0.8637811626097589\n",
      "\n",
      "Epoch: 99\n"
     ]
    },
    {
     "name": "stderr",
     "output_type": "stream",
     "text": [
      "100%|██████████| 1250/1250 [07:42<00:00,  2.70it/s]\n",
      "100%|██████████| 1250/1250 [04:41<00:00,  4.44it/s]\n",
      "  8%|▊         | 1/13 [00:00<00:01,  6.12it/s]"
     ]
    },
    {
     "name": "stdout",
     "output_type": "stream",
     "text": [
      "Train: loss = 0.6931429639084976, top 1 = 0.9819666666666234, top 5 = 0.9701859999998965, top 10 = 0.9624129999999379, kendal = 0.8687761919751025\n"
     ]
    },
    {
     "name": "stderr",
     "output_type": "stream",
     "text": [
      "100%|██████████| 13/13 [00:02<00:00,  6.02it/s]\n",
      "  0%|          | 1/1250 [00:00<02:34,  8.10it/s]"
     ]
    },
    {
     "name": "stdout",
     "output_type": "stream",
     "text": [
      "Valid: loss = 0.6931429172245969, top 1 = 0.9816666666666671, top 5 = 0.9712666666666664, top 10 = 0.9621666666666664, kendal = 0.8656223274424809\n",
      "\n",
      "Epoch: 100\n"
     ]
    },
    {
     "name": "stderr",
     "output_type": "stream",
     "text": [
      "100%|██████████| 1250/1250 [07:46<00:00,  2.68it/s]\n",
      "100%|██████████| 1250/1250 [04:08<00:00,  5.03it/s]\n",
      "  0%|          | 0/13 [00:00<?, ?it/s]"
     ]
    },
    {
     "name": "stdout",
     "output_type": "stream",
     "text": [
      "Train: loss = 0.6931429586314409, top 1 = 0.9820099999999565, top 5 = 0.9703586666665629, top 10 = 0.962634333333271, kendal = 0.8726810010892541\n"
     ]
    },
    {
     "name": "stderr",
     "output_type": "stream",
     "text": [
      "100%|██████████| 13/13 [00:02<00:00,  5.64it/s]"
     ]
    },
    {
     "name": "stdout",
     "output_type": "stream",
     "text": [
      "Valid: loss = 0.693143009105607, top 1 = 0.9813333333333338, top 5 = 0.9715999999999997, top 10 = 0.9623999999999999, kendal = 0.8694587306880073\n"
     ]
    },
    {
     "name": "stderr",
     "output_type": "stream",
     "text": [
      "\n"
     ]
    }
   ],
   "source": [
    "nodes_cnt = setting.nodes_cnt\n",
    "\n",
    "\n",
    "model.train()\n",
    "\n",
    "train_info = {\n",
    "    \"bce\": [],\n",
    "    \"top1\": [],\n",
    "    \"top5\": [],\n",
    "    \"top10\": [],\n",
    "    \"kendal\": []\n",
    "}\n",
    "\n",
    "valid_info = {\n",
    "    \"bce\": [],\n",
    "    \"top1\": [],\n",
    "    \"top5\": [],\n",
    "    \"top10\": [],\n",
    "    \"kendal\": []\n",
    "}\n",
    "\n",
    "top_10 = 0.0\n",
    "top_5 = 0.0\n",
    "top_1 = 0.0\n",
    "\n",
    "for epoch in range(setting.epochs):\n",
    "    \n",
    "#     G, bc_gt = generate_nx_graph(nodes_cnt)\n",
    "    \n",
    "#     # Convert networkx.Graph to Pyg Data\n",
    "#     G = from_networkx(G)\n",
    "\n",
    "    print(\"\\nEpoch: {}\".format(epoch+1))\n",
    "\n",
    "    for batch in tqdm(train_loader):\n",
    "    \n",
    "        ### Start training\n",
    "        optimizer.zero_grad()\n",
    "        batch = batch.to(setting.device)\n",
    "\n",
    "        bc_pr = model(batch)\n",
    "    \n",
    "        \n",
    "        # compute batch loss\n",
    "        b_index = batch.batch.cpu().numpy()\n",
    "        b = np.max(b_index) + 1\n",
    "        \n",
    "        batch_loss = torch.tensor(0, dtype=torch.float).to(setting.device)\n",
    "        \n",
    "        for b_ in range(b):\n",
    "            \n",
    "            indice, = np.where(b_index == b_)\n",
    "            \n",
    "            gt = batch.y[indice].squeeze()\n",
    "            pr = bc_pr[indice].squeeze()\n",
    "            \n",
    "            # random sample 5|V| nodes\n",
    "            src = np.random.choice(len(indice), 5*len(indice), replace=True)\n",
    "            det = np.random.choice(len(indice), 5*len(indice), replace=True)\n",
    "            src = torch.from_numpy(src)\n",
    "            det = torch.from_numpy(det)\n",
    "\n",
    "            \n",
    "            y_gt = gt[det] - gt[src]\n",
    "            y_pr = pr[det] - pr[src]\n",
    "            \n",
    "            y_gt = nn.Sigmoid()(y_gt)\n",
    "            y_pr = nn.Sigmoid()(y_pr)\n",
    "        \n",
    "            batch_loss += nn.BCELoss()(y_pr, y_gt)\n",
    "        \n",
    "        batch_loss = torch.div(batch_loss, b)\n",
    "        batch_loss.backward()\n",
    "        optimizer.step()\n",
    "    \n",
    "    \n",
    "    ### Evaluation\n",
    "    with torch.no_grad():\n",
    "        \n",
    "        \n",
    "        top1_list = []\n",
    "        top5_list = []\n",
    "        top10_list = []\n",
    "        kendal_list = []\n",
    "        loss_list = []\n",
    "        \n",
    "        for batch in tqdm(train_loader):\n",
    "\n",
    "            batch = batch.to(setting.device)\n",
    "\n",
    "            bc_pr = model(batch)\n",
    "\n",
    "            b_index = batch.batch.cpu().numpy()\n",
    "            b = np.max(b_index) + 1\n",
    "\n",
    "            for b_ in range(b):\n",
    "\n",
    "                indice, = np.where(b_index == b_)\n",
    "\n",
    "                gt = batch.y[indice].squeeze()\n",
    "                pr = bc_pr[indice].squeeze()\n",
    "                \n",
    "                # evaluation\n",
    "                top1 = top_n_percentage(gt, pr, k=1)\n",
    "                top5 = top_n_percentage(gt, pr, k=5)\n",
    "                top10 = top_n_percentage(gt, pr, k=10)\n",
    "                kendal = kendal_tau_distance(gt, pr)\n",
    "                \n",
    "\n",
    "                # compute loss\n",
    "                src = np.random.choice(len(indice), 5*len(indice), replace=True)\n",
    "                det = np.random.choice(len(indice), 5*len(indice), replace=True)\n",
    "                src = torch.from_numpy(src)\n",
    "                det = torch.from_numpy(det)\n",
    "\n",
    "                y_gt = gt[det] - gt[src]\n",
    "                y_pr = pr[det] - pr[src]\n",
    "\n",
    "                y_gt = nn.Sigmoid()(y_gt)\n",
    "                y_pr = nn.Sigmoid()(y_pr)\n",
    "\n",
    "                loss = nn.BCELoss()(y_pr, y_gt)\n",
    "                \n",
    "                top1_list.append(top1)\n",
    "                top5_list.append(top5)\n",
    "                top10_list.append(top10)\n",
    "                kendal_list.append(kendal)\n",
    "                loss_list.append(loss.item())\n",
    "                \n",
    "\n",
    "        bce = sum(loss_list)/len(loss_list)\n",
    "        top1 = sum(top1_list)/len(top1_list)\n",
    "        top5 = sum(top5_list)/len(top5_list)\n",
    "        top10 = sum(top10_list)/len(top10_list)\n",
    "        kendal = sum(kendal_list)/len(kendal_list)      \n",
    "        \n",
    "                \n",
    "        print(\"Train: loss = {}, top 1 = {}, top 5 = {}, top 10 = {}, kendal = {}\".format(\n",
    "                bce,\n",
    "                top1,\n",
    "                top5,\n",
    "                top10,\n",
    "                kendal\n",
    "        ))\n",
    "\n",
    "        train_info[\"bce\"].append(bce)\n",
    "        train_info[\"top1\"].append(top1)\n",
    "        train_info[\"top5\"].append(top5)\n",
    "        train_info[\"top10\"].append(top10)\n",
    "        train_info[\"kendal\"].append(kendal)\n",
    "\n",
    "        with open(setting.train_info_p, 'w') as f:\n",
    "            json.dump(train_info, f)\n",
    "            \n",
    "            \n",
    "    \n",
    "        top1_list = []\n",
    "        top5_list = []\n",
    "        top10_list = []\n",
    "        kendal_list = []\n",
    "        loss_list = []\n",
    "        \n",
    "        for batch in tqdm(valid_loader):\n",
    "\n",
    "            batch = batch.to(setting.device)\n",
    "\n",
    "            bc_pr = model(batch)\n",
    "\n",
    "            b_index = batch.batch.cpu().numpy()\n",
    "            b = np.max(b_index) + 1\n",
    "\n",
    "            for b_ in range(b):\n",
    "\n",
    "                indice, = np.where(b_index == b_)\n",
    "            \n",
    "\n",
    "                gt = batch.y[indice].squeeze()\n",
    "                pr = bc_pr[indice].squeeze()\n",
    "                \n",
    "                # evaluation\n",
    "                top1 = top_n_percentage(gt, pr, k=1)\n",
    "                top5 = top_n_percentage(gt, pr, k=5)\n",
    "                top10 = top_n_percentage(gt, pr, k=10)\n",
    "                kendal = kendal_tau_distance(gt, pr)\n",
    "\n",
    "                # compute loss\n",
    "                src = np.random.choice(len(indice), 5*len(indice), replace=True)\n",
    "                det = np.random.choice(len(indice), 5*len(indice), replace=True)\n",
    "                src = torch.from_numpy(src)\n",
    "                det = torch.from_numpy(det)\n",
    "\n",
    "                y_gt = gt[det] - gt[src]\n",
    "                y_pr = pr[det] - pr[src]\n",
    "\n",
    "                y_gt = nn.Sigmoid()(y_gt)\n",
    "                y_pr = nn.Sigmoid()(y_pr)\n",
    "\n",
    "                loss = nn.BCELoss()(y_pr, y_gt)\n",
    "                \n",
    "                top1_list.append(top1)\n",
    "                top5_list.append(top5)\n",
    "                top10_list.append(top10)\n",
    "                kendal_list.append(kendal)\n",
    "                loss_list.append(loss.item())\n",
    "                \n",
    "\n",
    "        bce = sum(loss_list)/len(loss_list)\n",
    "        top1 = sum(top1_list)/len(top1_list)\n",
    "        top5 = sum(top5_list)/len(top5_list)\n",
    "        top10 = sum(top10_list)/len(top10_list)\n",
    "        kendal = sum(kendal_list)/len(kendal_list)      \n",
    "        \n",
    "                \n",
    "        print(\"Valid: loss = {}, top 1 = {}, top 5 = {}, top 10 = {}, kendal = {}\".format(\n",
    "                bce,\n",
    "                top1,\n",
    "                top5,\n",
    "                top10,\n",
    "                kendal\n",
    "        ))\n",
    "\n",
    "        valid_info[\"bce\"].append(bce)\n",
    "        valid_info[\"top1\"].append(top1)\n",
    "        valid_info[\"top5\"].append(top5)\n",
    "        valid_info[\"top10\"].append(top10)\n",
    "        valid_info[\"kendal\"].append(kendal)\n",
    "\n",
    "        with open(setting.val_info_p, 'w') as f:\n",
    "            json.dump(valid_info, f)\n",
    "\n",
    "\n",
    "\n",
    "        if top10 > top_10:\n",
    "            checkpoint = {\n",
    "                'model_stat': model.state_dict(),\n",
    "                'optimizer_stat': optimizer.state_dict(),\n",
    "            }\n",
    "            top_10 = top10\n",
    "            \n",
    "            torch.save(checkpoint, setting.weight_drbc)"
   ]
  },
  {
   "cell_type": "markdown",
   "metadata": {},
   "source": [
    "## Node2Vec"
   ]
  },
  {
   "cell_type": "code",
   "execution_count": null,
   "metadata": {
    "scrolled": true
   },
   "outputs": [],
   "source": [
    "nodes_cnt = 5000\n",
    "\n",
    "\n",
    "model.train()\n",
    "\n",
    "train_info = {\n",
    "    \"bce\": [],\n",
    "    \"top1\": [],\n",
    "    \"top5\": [],\n",
    "    \"top10\": [],\n",
    "    \"kendal\": []\n",
    "}\n",
    "\n",
    "valid_info = {\n",
    "    \"bce\": [],\n",
    "    \"top1\": [],\n",
    "    \"top5\": [],\n",
    "    \"top10\": [],\n",
    "    \"kendal\": []\n",
    "}\n",
    "\n",
    "top_10 = 0.0\n",
    "top_5 = 0.0\n",
    "top_1 = 0.0\n",
    "\n",
    "for epoch in range(setting.epochs):\n",
    "    \n",
    "    # Draw network G from distribution D (like the power-law model)\n",
    "    G = nx.generators.random_graphs.powerlaw_cluster_graph(n=nodes_cnt, m=4, p=0.05)\n",
    "    # Calculate each node’s exact BC value bv, ∀v ∈ V\n",
    "    betweenness = nx.algorithms.centrality.betweenness_centrality(G)\n",
    "    \n",
    "    # Convert betweenness dict to list\n",
    "    between_list = [v for k, v in sorted(betweenness.items(), key=lambda  item: int(item[0]), reverse=False)]\n",
    "    bc_gt = torch.from_numpy(np.array(between_list))\n",
    "    \n",
    "    emb = gnx_to_emb(G, nodes_cnt)\n",
    "    \n",
    "    ### Start training\n",
    "    optimizer.zero_grad()\n",
    "\n",
    "    emb = emb.to(setting.device)\n",
    "    bc_pr = model(emb)\n",
    "\n",
    "\n",
    "    # random sample 5|V| nodes\n",
    "    src = (torch.rand(nodes_cnt * 5) * (nodes_cnt-1)).long()\n",
    "    det = (torch.rand(nodes_cnt * 5) * (nodes_cnt-1)).long()\n",
    "\n",
    "    y_gt = (bc_gt[det] - bc_gt[src]).squeeze().to(setting.device)\n",
    "    y_pr = (bc_pr[det] - bc_pr[src]).squeeze()\n",
    "\n",
    "    y_gt = nn.Sigmoid()(y_gt)\n",
    "    y_pr = nn.Sigmoid()(y_pr)\n",
    "\n",
    "    loss = nn.BCELoss(reduction=\"sum\")(y_pr, y_gt)\n",
    "\n",
    "    loss.backward()\n",
    "    optimizer.step()\n",
    "    \n",
    "    \n",
    "    ### Evaluation\n",
    "    with torch.no_grad():\n",
    "        \n",
    "#         emb = gnx_to_emb(G, nodes_cnt)\n",
    "#         emb = emb.to(setting.device)\n",
    "#         bc_pr = model(emb)\n",
    "        \n",
    "        loss, bc_pr = eval_model(model, emb, bc_gt)\n",
    "        \n",
    "        top1 = top_n_percentage(bc_gt, bc_pr, k=1)\n",
    "        top5 = top_n_percentage(bc_gt, bc_pr, k=5)\n",
    "        top10 = top_n_percentage(bc_gt, bc_pr, k=10)\n",
    "        kendal = kendal_tau_distance(bc_gt, bc_pr)\n",
    "\n",
    "        print(\"Train: loss = {}, top 1 = {}, top 5 = {}, top 10 = {}, kendal = {}\".format(\n",
    "                loss,\n",
    "                top1,\n",
    "                top5,\n",
    "                top10,\n",
    "                kendal\n",
    "        ))\n",
    "\n",
    "        train_info[\"bce\"].append(loss)\n",
    "        train_info[\"top1\"].append(top1)\n",
    "        train_info[\"top5\"].append(top5)\n",
    "        train_info[\"top10\"].append(top10)\n",
    "        train_info[\"kendal\"].append(kendal)\n",
    "\n",
    "        with open(setting.train_info_p, 'w') as f:\n",
    "            json.dump(train_info, f)\n",
    "\n",
    "\n",
    "\n",
    "        ### Evaluation:- Synthetic\n",
    "        bce_l = []\n",
    "        top1_l = []\n",
    "        top5_l = []\n",
    "        top10_l = []\n",
    "        kendal_l = []\n",
    "\n",
    "        for data in all_loader:\n",
    "            \n",
    "            G = utils.to_networkx(data, node_attrs=None, edge_attrs=None, to_undirected=True, remove_self_loops=True)\n",
    "            emb = gnx_to_emb(G)\n",
    "            \n",
    "            loss, bc_pr = eval_model(model, emb, data.y)\n",
    "            \n",
    "            bce_l.append(loss)\n",
    "            top1_l.append(top_n_percentage(bc_gt, bc_pr, k=1))\n",
    "            top5_l.append(top_n_percentage(bc_gt, bc_pr, k=5))\n",
    "            top10_l.append(top_n_percentage(bc_gt, bc_pr, k=1))\n",
    "            kendal_l.append(kendal_tau_distance(bc_gt, bc_pr))\n",
    "\n",
    "        bce = sum(bce_l)/len(bce_l)\n",
    "        top1 = sum(top1_l)/len(top1_l)\n",
    "        top5 = sum(top5_l)/len(top5_l)\n",
    "        top10 = sum(top10_l)/len(top10_l)\n",
    "        kendal = sum(kendal_l)/len(kendal_l)\n",
    "\n",
    "        print(\"Valid: loss = {}, top 1 = {}, top 5 = {}, top 10 = {}, kendal = {}\".format(\n",
    "            bce,\n",
    "            top1,\n",
    "            top5,\n",
    "            top10,\n",
    "            kendal\n",
    "        ))\n",
    "\n",
    "        valid_info[\"bce\"].append(bce)\n",
    "        valid_info[\"top1\"].append(top1)\n",
    "        valid_info[\"top5\"].append(top5)\n",
    "        valid_info[\"top10\"].append(top10)\n",
    "        valid_info[\"kendal\"].append(kendal)\n",
    "\n",
    "        with open(setting.val_info_p, 'w') as f:\n",
    "            json.dump(valid_info, f)\n",
    "\n",
    "\n",
    "        if top10 > top_10:\n",
    "            checkpoint = {\n",
    "                'model_stat': model.state_dict(),\n",
    "                'optimizer_stat': optimizer.state_dict(),\n",
    "            }\n",
    "            torch.save(checkpoint, setting.weight_node2vec)\n",
    "            top_10 = top10"
   ]
  },
  {
   "cell_type": "markdown",
   "metadata": {},
   "source": [
    "# Test"
   ]
  },
  {
   "cell_type": "code",
   "execution_count": 41,
   "metadata": {},
   "outputs": [],
   "source": [
    "def eval_model(model, dataloader, device):\n",
    "    \n",
    "    model = model.eval().to(device)\n",
    "    \n",
    "    top1_list = []\n",
    "    top5_list = []\n",
    "    top10_list = []\n",
    "    kendal_list = []\n",
    "    loss_list = []\n",
    "    time_list = []\n",
    "\n",
    "    for batch in tqdm(dataloader):\n",
    "\n",
    "        batch = batch.to(device)\n",
    "        \n",
    "        start = time.time()\n",
    "        bc_pr = model(batch)\n",
    "        end = time.time()\n",
    "\n",
    "        b_index = batch.batch.cpu().numpy()\n",
    "        b = np.max(b_index) + 1\n",
    "\n",
    "        for b_ in range(b):\n",
    "\n",
    "            indice, = np.where(b_index == b_)\n",
    "\n",
    "\n",
    "            gt = batch.y[indice].squeeze()\n",
    "            pr = bc_pr[indice].squeeze()\n",
    "\n",
    "            # evaluation\n",
    "            top1 = top_n_percentage(gt, pr, k=1)\n",
    "            top5 = top_n_percentage(gt, pr, k=5)\n",
    "            top10 = top_n_percentage(gt, pr, k=10)\n",
    "            kendal = kendal_tau_distance(gt, pr)\n",
    "\n",
    "            # compute loss\n",
    "            src = np.random.choice(len(indice), 5*len(indice), replace=True)\n",
    "            det = np.random.choice(len(indice), 5*len(indice), replace=True)\n",
    "            src = torch.from_numpy(src)\n",
    "            det = torch.from_numpy(det)\n",
    "\n",
    "            y_gt = gt[det] - gt[src]\n",
    "            y_pr = pr[det] - pr[src]\n",
    "\n",
    "            y_gt = nn.Sigmoid()(y_gt)\n",
    "            y_pr = nn.Sigmoid()(y_pr)\n",
    "\n",
    "            loss = nn.BCELoss()(y_pr, y_gt)\n",
    "\n",
    "            top1_list.append(top1)\n",
    "            top5_list.append(top5)\n",
    "            top10_list.append(top10)\n",
    "            kendal_list.append(kendal)\n",
    "            loss_list.append(loss.item())\n",
    "            time_list.append(end-start)\n",
    "    \n",
    "    \n",
    "    return top1_list, top5_list, top10_list, kendal_list, time_list, loss_list"
   ]
  },
  {
   "cell_type": "code",
   "execution_count": 42,
   "metadata": {},
   "outputs": [
    {
     "name": "stderr",
     "output_type": "stream",
     "text": [
      "100%|██████████| 30/30 [00:10<00:00,  2.73it/s]"
     ]
    },
    {
     "name": "stdout",
     "output_type": "stream",
     "text": [
      "Top1: mean=0.97, std=0.02\n",
      "Top5: mean=0.96, std=0.01\n",
      "Top10: mean=0.95, std=0.01\n",
      "Kendal: mean=0.86, std=0.01\n",
      "Time: mean=0.34, std=0.01\n",
      "Loss: mean=0.69, std=0.00\n"
     ]
    },
    {
     "name": "stderr",
     "output_type": "stream",
     "text": [
      "\n"
     ]
    }
   ],
   "source": [
    "top1_list, top5_list, top10_list, kendal_list, time_list, loss_list = eval_model(model, syn_loader, \"cpu\")\n",
    "\n",
    "top1_list = np.array(top1_list)\n",
    "top5_list = np.array(top5_list)\n",
    "top10_list = np.array(top10_list)\n",
    "kendal_list = np.array(kendal_list)\n",
    "time_list = np.array(time_list)\n",
    "loss_list = np.array(loss_list)\n",
    "\n",
    "\n",
    "print(\"Top1: mean={:.2f}, std={:.2f}\".format(np.mean(top1_list), np.std(top1_list)))\n",
    "print(\"Top5: mean={:.2f}, std={:.2f}\".format(np.mean(top5_list), np.std(top5_list)))\n",
    "print(\"Top10: mean={:.2f}, std={:.2f}\".format(np.mean(top10_list), np.std(top10_list)))\n",
    "print(\"Kendal: mean={:.2f}, std={:.2f}\".format(np.mean(kendal_list), np.std(kendal_list)))\n",
    "print(\"Time: mean={:.2f}, std={:.2f}\".format(np.mean(time_list), np.std(time_list)))\n",
    "print(\"Loss: mean={:.2f}, std={:.2f}\".format(np.mean(loss_list), np.std(loss_list)))\n",
    "\n",
    "\n",
    "with open(os.path.join(setting.root, \"drbc_{}.json\".format(setting.nodes_cnt)), 'w') as f:\n",
    "    json.dump({\n",
    "        \"top1\": top1_list,\n",
    "        \"top5\": top5_list,\n",
    "        \"top10\": top10_list,\n",
    "        \"kendal\": kendal_list,\n",
    "        \"time\": time_list\n",
    "    }, f)"
   ]
  },
  {
   "cell_type": "code",
   "execution_count": 43,
   "metadata": {},
   "outputs": [
    {
     "name": "stderr",
     "output_type": "stream",
     "text": [
      "100%|██████████| 1/1 [01:31<00:00, 91.55s/it]\n"
     ]
    },
    {
     "name": "stdout",
     "output_type": "stream",
     "text": [
      "Top1: mean=0.68, std=0.00\n",
      "Top5: mean=0.44, std=0.00\n",
      "Top10: mean=0.35, std=0.00\n",
      "Kendal: mean=0.54, std=0.00\n",
      "Time: mean=90.80, std=0.00\n",
      "Loss: mean=0.69, std=0.00\n"
     ]
    }
   ],
   "source": [
    "top1_list, top5_list, top10_list, kendal_list, time_list, loss_list = eval_model(model, yt_loader, \"cpu\")\n",
    "\n",
    "top1_list = np.array(top1_list)\n",
    "top5_list = np.array(top5_list)\n",
    "top10_list = np.array(top10_list)\n",
    "kendal_list = np.array(kendal_list)\n",
    "time_list = np.array(time_list)\n",
    "loss_list = np.array(loss_list)\n",
    "\n",
    "\n",
    "print(\"Top1: mean={:.2f}, std={:.2f}\".format(np.mean(top1_list), np.std(top1_list)))\n",
    "print(\"Top5: mean={:.2f}, std={:.2f}\".format(np.mean(top5_list), np.std(top5_list)))\n",
    "print(\"Top10: mean={:.2f}, std={:.2f}\".format(np.mean(top10_list), np.std(top10_list)))\n",
    "print(\"Kendal: mean={:.2f}, std={:.2f}\".format(np.mean(kendal_list), np.std(kendal_list)))\n",
    "print(\"Time: mean={:.2f}, std={:.2f}\".format(np.mean(time_list), np.std(time_list)))\n",
    "print(\"Loss: mean={:.2f}, std={:.2f}\".format(np.mean(loss_list), np.std(loss_list)))"
   ]
  },
  {
   "cell_type": "markdown",
   "metadata": {},
   "source": [
    "# Visualization"
   ]
  },
  {
   "cell_type": "code",
   "execution_count": 44,
   "metadata": {},
   "outputs": [
    {
     "data": {
      "text/plain": [
       "'/home/ai2019/ne6081064/june/mlg/snrs_hw1/result/2021-03-22 01-17'"
      ]
     },
     "execution_count": 44,
     "metadata": {},
     "output_type": "execute_result"
    }
   ],
   "source": [
    "setting.root"
   ]
  },
  {
   "cell_type": "code",
   "execution_count": 45,
   "metadata": {},
   "outputs": [
    {
     "data": {
      "image/png": "[encoded data removed]",
      "text/plain": [
       "<Figure size 1800x1440 with 5 Axes>"
      ]
     },
     "metadata": {
      "needs_background": "light"
     },
     "output_type": "display_data"
    }
   ],
   "source": [
    "import matplotlib.pyplot as plt\n",
    "\n",
    "with open(setting.train_info_p, 'r') as train_info, \\\n",
    "    open(setting.val_info_p, 'r') as valid_info:\n",
    "    \n",
    "    train = json.load(train_info)\n",
    "    valid = json.load(valid_info)\n",
    "\n",
    "    keys = list(train.keys())\n",
    "    epochs = len(train[keys[0]])\n",
    "\n",
    "    x = np.linspace(1, epochs, epochs)\n",
    "    \n",
    "    ### plot bce loss and mean top N %\n",
    "    fig, axs = plt.subplots(len(keys), figsize=(25, 4 * len(keys)))\n",
    "    for index, ax in enumerate(axs):\n",
    "        key = keys[index]\n",
    "        \n",
    "        ax.plot(x, train[key], color=\"blue\")\n",
    "        ax.plot(x, valid[key], color=\"orange\")\n",
    "        \n",
    "        ax.legend([\"train\", \"valid\"], loc='upper left')\n",
    "        ax.set_title(key)\n",
    "        ax.grid()\n",
    "        \n",
    "    plt.tight_layout()\n",
    "    plt.savefig(setting.result_plt_p, facecolor=\"white\")"
   ]
  },
  {
   "cell_type": "code",
   "execution_count": null,
   "metadata": {},
   "outputs": [],
   "source": []
  },
  {
   "cell_type": "markdown",
   "metadata": {},
   "source": [
    "# Compare diff scale"
   ]
  },
  {
   "cell_type": "code",
   "execution_count": null,
   "metadata": {},
   "outputs": [],
   "source": [
    "weights = os.path.join(setting._root, \"weights\")\n",
    "\n",
    "for weight_f in os.listdir(weights):\n",
    "    print(\"weight: {}\".format(weight_f))\n",
    "    \n",
    "    model, _ = load_checkpoint(\n",
    "                    os.path.join(weights, weight_f),\n",
    "                    \"cpu\",\n",
    "                    drbc = setting.params_drbc,\n",
    "                    node2vec = setting.params_node2vec)\n",
    "    model.eval()\n",
    "    \n",
    "    basename = os.path.splitext(weight_f)[0]\n",
    "    with open(os.path.join(setting._root, \"{}.json\".format(basename)), \"w\") as f:\n",
    "        jsn = {\n",
    "            \"top1\": [],\n",
    "            \"top5\": [],\n",
    "            \"top10\": [],\n",
    "            \"kendal\": [],\n",
    "            \"time\": []\n",
    "        }\n",
    "\n",
    "        for edge_list, score in zip(synthetic, between):\n",
    "\n",
    "            data = to_data(edge_list, score)\n",
    "\n",
    "            start = time.time()\n",
    "            bc_pr = model(data)\n",
    "            end = time.time()\n",
    "\n",
    "            bc_gt = np.array(data.y)\n",
    "\n",
    "\n",
    "            jsn[\"time\"].append(end-start)\n",
    "            jsn[\"kendal\"].append(kendal_tau_distance(bc_pr, bc_gt))\n",
    "            jsn[\"top1\"].append(top_n_percentage(bc_pr, bc_gt, k=1))\n",
    "            jsn[\"top5\"].append(top_n_percentage(bc_pr, bc_gt, k=5))\n",
    "            jsn[\"top10\"].append(top_n_percentage(bc_pr, bc_gt, k=10))\n",
    "\n",
    "        json.dump(jsn, f)\n",
    "    "
   ]
  },
  {
   "cell_type": "code",
   "execution_count": null,
   "metadata": {},
   "outputs": [],
   "source": [
    "with open(os.path.join(setting._root, \"result\", \"comparison\", \"200.json\"), \"r\") as f_200, \\\n",
    "    open(os.path.join(setting._root, \"result\", \"comparison\", \"300.json\"), \"r\") as f_300, \\\n",
    "    open(os.path.join(setting._root, \"result\", \"comparison\", \"1200.json\"), \"r\") as f_1200, \\\n",
    "    open(os.path.join(setting._root, \"result\", \"comparison\", \"3000.json\"), \"r\") as f_3000, \\\n",
    "    open(os.path.join(setting._root, \"result\", \"comparison\", \"5000.json\"), \"r\") as f_5000 :\n",
    "    \n",
    "    r_200 = json.load(f_200)\n",
    "    r_300 = json.load(f_300)\n",
    "    r_1200 = json.load(f_1200)\n",
    "    r_3000 = json.load(f_3000)\n",
    "    r_5000 = json.load(f_5000)\n",
    "\n",
    "    keys = list(r_200.keys())\n",
    "    \n",
    "    fig, axs = plt.subplots(len(keys), figsize=(25, 4*len(keys)))\n",
    "    for index, ax in enumerate(axs):\n",
    "        key = keys[index]\n",
    "        \n",
    "        ax.boxplot([r_200[key], r_300[key], r_1200[key], r_3000[key], r_5000[key]], widths=0.5)\n",
    "        ax.set_title(key)\n",
    "        ax.grid()\n",
    "        \n",
    "        print(\"\\n{}\".format(key))\n",
    "        ### Calculate mean and std\n",
    "        r_200_ = np.array(r_200[key])\n",
    "        print(\"scale=200, mean={}, std={}\".format(np.mean(r_200_), np.std(r_200_)))\n",
    "        \n",
    "        r_300_ = np.array(r_300[key])\n",
    "        print(\"scale=300, mean={}, std={}\".format(np.mean(r_300_), np.std(r_300_)))\n",
    "        \n",
    "        r_1200_ = np.array(r_1200[key])\n",
    "        print(\"scale=1200, mean={}, std={}\".format(np.mean(r_1200_), np.std(r_1200_)))\n",
    "        \n",
    "        r_3000_ = np.array(r_3000[key])\n",
    "        print(\"scale=3000, mean={}, std={}\".format(np.mean(r_3000_), np.std(r_3000_)))\n",
    "         \n",
    "        r_5000_ = np.array(r_5000[key])\n",
    "        print(\"scale=5000, mean={}, std={}\".format(np.mean(r_5000_), np.std(r_5000_)))\n",
    "        \n",
    "    \n",
    "    plt.setp(axs,  xticklabels=['200', '300', '1200', \"3000\", \"5000\"])\n",
    "    plt.savefig(os.path.join(setting._root, \"result\", \"comparison\", \"comp.png\"), facecolor=\"white\")\n",
    "    \n",
    "    "
   ]
  },
  {
   "cell_type": "markdown",
   "metadata": {},
   "source": [
    "# Baseline"
   ]
  },
  {
   "cell_type": "code",
   "execution_count": null,
   "metadata": {},
   "outputs": [],
   "source": [
    "G_nx = nx.readwrite.edgelist.read_edgelist(synthetic[0], delimiter=\"\\t\")\n",
    "G_nk = nk.nxadapter.nx2nk(G_nx)\n",
    "G_pyg = from_networkx(G_nx)"
   ]
  },
  {
   "cell_type": "code",
   "execution_count": null,
   "metadata": {},
   "outputs": [],
   "source": [
    "G_nx"
   ]
  },
  {
   "cell_type": "code",
   "execution_count": null,
   "metadata": {},
   "outputs": [],
   "source": [
    "G_nk"
   ]
  },
  {
   "cell_type": "code",
   "execution_count": null,
   "metadata": {},
   "outputs": [],
   "source": [
    "G_pyg"
   ]
  },
  {
   "cell_type": "code",
   "execution_count": null,
   "metadata": {},
   "outputs": [],
   "source": [
    "G_pyg_ = to_data(synthetic[0], between[0])"
   ]
  },
  {
   "cell_type": "code",
   "execution_count": null,
   "metadata": {},
   "outputs": [],
   "source": [
    "G_pyg_.y"
   ]
  },
  {
   "cell_type": "code",
   "execution_count": null,
   "metadata": {},
   "outputs": [],
   "source": [
    "G_nx_ = G_pyg_"
   ]
  },
  {
   "cell_type": "markdown",
   "metadata": {},
   "source": [
    "## RK (DIAM)"
   ]
  },
  {
   "cell_type": "markdown",
   "metadata": {},
   "source": [
    "ApproxBetweenness"
   ]
  },
  {
   "cell_type": "markdown",
   "metadata": {},
   "source": [
    "Fast approximation of betweenness centrality through sampling."
   ]
  },
  {
   "cell_type": "code",
   "execution_count": null,
   "metadata": {},
   "outputs": [],
   "source": [
    "ab = nk.centrality.ApproxBetweenness(G_nk, epsilon=0.1)\n",
    "ab.run()"
   ]
  },
  {
   "cell_type": "code",
   "execution_count": null,
   "metadata": {},
   "outputs": [],
   "source": [
    "ab.scores()"
   ]
  },
  {
   "cell_type": "code",
   "execution_count": null,
   "metadata": {},
   "outputs": [],
   "source": [
    "top_n_percentage(np.array(ab.scores()), G_pyg_.y, k=1)"
   ]
  },
  {
   "cell_type": "code",
   "execution_count": null,
   "metadata": {},
   "outputs": [],
   "source": [
    "kendal_tau_distance(np.array(ab.scores()), G_pyg_.y)"
   ]
  },
  {
   "cell_type": "markdown",
   "metadata": {},
   "source": [
    "### Synthetic"
   ]
  },
  {
   "cell_type": "code",
   "execution_count": null,
   "metadata": {},
   "outputs": [],
   "source": [
    "with open(os.path.join(setting.root, \"rk.json\"), \"w\") as f:\n",
    "    jsn = {\n",
    "        \"top1\": [],\n",
    "        \"top5\": [],\n",
    "        \"top10\": [],\n",
    "        \"kendal\": [],\n",
    "        \"time\": []\n",
    "    }\n",
    "    for edge_list, score in zip(synthetic, between):\n",
    "        G_nx = nx.readwrite.edgelist.read_edgelist(edge_list, delimiter=\"\\t\")\n",
    "        G_nk = nk.nxadapter.nx2nk(G_nx)\n",
    "        G_pyg = to_data(edge_list, score)\n",
    "        \n",
    "        method = nk.centrality.ApproxBetweenness(G_nk, epsilon=0.1)\n",
    "        start = time.time()\n",
    "        method.run()\n",
    "        end = time.time()\n",
    "        \n",
    "        jsn[\"time\"].append(end-start)\n",
    "        jsn[\"kendal\"].append(kendal_tau_distance(np.array(method.scores()), G_pyg.y))\n",
    "        jsn[\"top1\"].append(top_n_percentage(np.array(method.scores()), G_pyg.y, k=1))\n",
    "        jsn[\"top5\"].append(top_n_percentage(np.array(method.scores()), G_pyg.y, k=5))\n",
    "        jsn[\"top10\"].append(top_n_percentage(np.array(method.scores()), G_pyg.y, k=10))\n",
    "        \n",
    "    json.dump(jsn, f)"
   ]
  },
  {
   "cell_type": "markdown",
   "metadata": {},
   "source": [
    "## ABRA"
   ]
  },
  {
   "cell_type": "markdown",
   "metadata": {},
   "source": [
    "Approximating betweenness centrality in static and dynamic graphs with rademacher averages\n",
    "\n",
    "error tolerance λ to 0.01 and the probability δ to 0.1"
   ]
  },
  {
   "cell_type": "code",
   "execution_count": null,
   "metadata": {},
   "outputs": [],
   "source": []
  },
  {
   "cell_type": "markdown",
   "metadata": {},
   "source": [
    "## KADABRA"
   ]
  },
  {
   "cell_type": "code",
   "execution_count": null,
   "metadata": {},
   "outputs": [],
   "source": [
    "# Initialize algorithm \n",
    "kadabra = nk.centrality.KadabraBetweenness(G_nk, 0.05, 0.8) \n",
    "kadabra.run() "
   ]
  },
  {
   "cell_type": "code",
   "execution_count": null,
   "metadata": {},
   "outputs": [],
   "source": [
    "#The 10 most central nodes according to betweenness are then \n",
    "kadabra.scores()"
   ]
  },
  {
   "cell_type": "code",
   "execution_count": null,
   "metadata": {},
   "outputs": [],
   "source": [
    "top_n_percentage(np.array(kadabra.scores()), G_pyg_.y, k=500)"
   ]
  },
  {
   "cell_type": "markdown",
   "metadata": {},
   "source": [
    "### Synthetic"
   ]
  },
  {
   "cell_type": "code",
   "execution_count": null,
   "metadata": {},
   "outputs": [],
   "source": [
    "with open(os.path.join(setting.root, \"kadabra.json\"), \"w\") as f:\n",
    "    jsn = {\n",
    "        \"top1\": [],\n",
    "        \"top5\": [],\n",
    "        \"top10\": [],\n",
    "        \"kendal\": [],\n",
    "        \"time\": []\n",
    "    }\n",
    "    for edge_list, score in zip(synthetic, between):\n",
    "        G_nx = nx.readwrite.edgelist.read_edgelist(edge_list, delimiter=\"\\t\")\n",
    "        G_nk = nk.nxadapter.nx2nk(G_nx)\n",
    "        G_pyg = to_data(edge_list, score)\n",
    "        \n",
    "        method = nk.centrality.KadabraBetweenness(G_nk, 0.05, 0.8)\n",
    "        start = time.time()\n",
    "        method.run()\n",
    "        end = time.time()\n",
    "        \n",
    "        jsn[\"time\"].append(end-start)\n",
    "        jsn[\"kendal\"].append(kendal_tau_distance(np.array(method.scores()), G_pyg.y))\n",
    "        jsn[\"top1\"].append(top_n_percentage(np.array(method.scores()), G_pyg.y, k=1))\n",
    "        jsn[\"top5\"].append(top_n_percentage(np.array(method.scores()), G_pyg.y, k=5))\n",
    "        jsn[\"top10\"].append(top_n_percentage(np.array(method.scores()), G_pyg.y, k=10))\n",
    "        \n",
    "    json.dump(jsn, f)"
   ]
  },
  {
   "cell_type": "markdown",
   "metadata": {},
   "source": [
    "## K-BC (KPATH)"
   ]
  },
  {
   "cell_type": "markdown",
   "metadata": {},
   "source": [
    "k-centralities: Local approximations of global measures based on shortest paths\n",
    "\n",
    "For the value of k, we set it to be 20% of the diameter of the network"
   ]
  },
  {
   "cell_type": "code",
   "execution_count": null,
   "metadata": {},
   "outputs": [],
   "source": []
  },
  {
   "cell_type": "code",
   "execution_count": null,
   "metadata": {},
   "outputs": [],
   "source": [
    "def KbcBetweenness(G, k):\n",
    "    \n",
    "    if k < 2:\n",
    "        k = 2.0\n",
    "        \n",
    "    inf = float('inf')\n",
    "\n",
    "    kBC = dict({key:0 for key in G.nodes()})\n",
    "    for s in G.nodes():\n",
    "        #Structures\n",
    "        Q = deque() #Queue\n",
    "        S = deque() #Stack\n",
    "        dist = dict({key:inf for key in G.nodes()})\n",
    "        sig = dict({key:float(0) for key in G.nodes()})\n",
    "        pred = dict({key:[] for key in G.nodes()})\n",
    "\n",
    "        #Initialize\n",
    "        Q.append(s)\n",
    "        dist[s] = 0\n",
    "        sig[s] = 1\n",
    "\n",
    "        #BFS - top-down\n",
    "        while len(Q) > 0:\n",
    "            v = Q.popleft()\n",
    "            if dist[v] > k:\n",
    "                break;\n",
    "            S.append(v)\n",
    "            for w in G[v]:\n",
    "                if dist[w] == inf:\n",
    "                    dist[w] = dist[v] + 1\n",
    "                    if dist[w] <= k:\n",
    "                        Q.append(w)\n",
    "                if dist[w] == dist[v] + 1:\n",
    "                    sig[w] += sig[v]\n",
    "                    pred[w].append(v)\n",
    "        #Aggregate - bottom-up\n",
    "        delta = dict({key:float(0) for key in G.nodes()})\n",
    "        while len(S) > 0:\n",
    "            v = S.pop()\n",
    "            for w in pred[v]:\n",
    "                delta[w] += (delta[v]+1) * sig[w] / sig[v]\n",
    "            if v!=s:\n",
    "                if(G.is_directed()):\n",
    "                    kBC[v] += delta[v]\n",
    "                else: kBC[v] += delta[v] / 2.0\n",
    "\n",
    "    return kBC"
   ]
  },
  {
   "cell_type": "code",
   "execution_count": null,
   "metadata": {
    "scrolled": true
   },
   "outputs": [],
   "source": [
    "with open(os.path.join(setting.root, \"kbc.json\"), \"w\") as f:\n",
    "    jsn = {\n",
    "        \"top1\": [],\n",
    "        \"top5\": [],\n",
    "        \"top10\": [],\n",
    "        \"kendal\": [],\n",
    "        \"time\": []\n",
    "    }\n",
    "    \n",
    "    for edge_list, score in zip(synthetic, between):\n",
    "        \n",
    "        \n",
    "        G_nx = nx.readwrite.edgelist.read_edgelist(edge_list, delimiter=\"\\t\")\n",
    "        G_nk = nk.nxadapter.nx2nk(G_nx)\n",
    "        G_pyg = to_data(edge_list, score)\n",
    "        \n",
    "        diameter = nx.algorithms.distance_measures.diameter(G_nx)\n",
    "        start = time.time()\n",
    "        result = KbcBetweenness(G_nx, diameter * 0.2)\n",
    "        end = time.time()\n",
    "        \n",
    "        result = [v for k, v in sorted(result.items(), key=lambda  item: int(item[0]), reverse=False)]\n",
    "        \n",
    "        jsn[\"time\"].append(end-start)\n",
    "        jsn[\"kendal\"].append(kendal_tau_distance(np.array(result), G_pyg.y))\n",
    "        jsn[\"top1\"].append(top_n_percentage(np.array(result), G_pyg.y, k=1))\n",
    "        jsn[\"top5\"].append(top_n_percentage(np.array(result), G_pyg.y, k=5))\n",
    "        jsn[\"top10\"].append(top_n_percentage(np.array(result), G_pyg.y, k=10))\n",
    "        \n",
    "    json.dump(jsn, f)"
   ]
  },
  {
   "cell_type": "code",
   "execution_count": null,
   "metadata": {},
   "outputs": [],
   "source": [
    "G_pyg"
   ]
  },
  {
   "cell_type": "markdown",
   "metadata": {},
   "source": [
    "## DrBC"
   ]
  },
  {
   "cell_type": "code",
   "execution_count": null,
   "metadata": {},
   "outputs": [],
   "source": [
    "with open(os.path.join(setting.root, \"drbc.json\"), \"w\") as f:\n",
    "    jsn = {\n",
    "        \"top1\": [],\n",
    "        \"top5\": [],\n",
    "        \"top10\": [],\n",
    "        \"kendal\": [],\n",
    "        \"time\": []\n",
    "    }\n",
    "    model.eval()\n",
    "    model = model.to(\"cpu\")\n",
    "    for edge_list, score in zip(synthetic, between):\n",
    "#         G_nx = nx.readwrite.edgelist.read_edgelist(edge_list, delimiter=\"\\t\")\n",
    "#         G_nk = nk.nxadapter.nx2nk(G_nx)\n",
    "        data = to_data(edge_list, score)\n",
    "        \n",
    "        start = time.time()\n",
    "        bc_pr = model(data)\n",
    "        end = time.time()\n",
    "\n",
    "        bc_gt = data.y\n",
    "        bc_gt = torch.reshape(bc_gt, (-1, ))\n",
    "        \n",
    "        \n",
    "        jsn[\"time\"].append(end-start)\n",
    "        jsn[\"kendal\"].append(kendal_tau_distance(bc_pr, bc_gt))\n",
    "        jsn[\"top1\"].append(top_n_percentage(bc_pr, bc_gt, k=1))\n",
    "        jsn[\"top5\"].append(top_n_percentage(bc_pr, bc_gt, k=5))\n",
    "        jsn[\"top10\"].append(top_n_percentage(bc_pr, bc_gt, k=10))\n",
    "        \n",
    "    json.dump(jsn, f)"
   ]
  },
  {
   "cell_type": "markdown",
   "metadata": {},
   "source": [
    "## Node2Vec"
   ]
  },
  {
   "cell_type": "code",
   "execution_count": null,
   "metadata": {},
   "outputs": [],
   "source": []
  },
  {
   "cell_type": "markdown",
   "metadata": {},
   "source": [
    "# Youtube"
   ]
  },
  {
   "cell_type": "code",
   "execution_count": null,
   "metadata": {},
   "outputs": [],
   "source": [
    "yt_nx = utils.to_networkx(yt_data, node_attrs=None, edge_attrs=None, to_undirected=True, remove_self_loops=True)"
   ]
  },
  {
   "cell_type": "code",
   "execution_count": null,
   "metadata": {},
   "outputs": [],
   "source": [
    "yt_nx"
   ]
  },
  {
   "cell_type": "code",
   "execution_count": null,
   "metadata": {},
   "outputs": [],
   "source": [
    "from_networkx(yt_nx)"
   ]
  },
  {
   "cell_type": "code",
   "execution_count": null,
   "metadata": {
    "scrolled": true
   },
   "outputs": [],
   "source": [
    "with open(os.path.join(setting.root, \"youtube.json\"), \"w\") as f:\n",
    "    jsn = {\n",
    "        \"top1\": [],\n",
    "        \"top5\": [],\n",
    "        \"top10\": [],\n",
    "        \"kendal\": [],\n",
    "        \"time\": []\n",
    "    }\n",
    "    \n",
    "    yt_pyg = to_data(yt[0], yt_score[0], y_sep=r\":\")\n",
    "    yt_nx = utils.to_networkx(yt_pyg, node_attrs=None, edge_attrs=None, to_undirected=True, remove_self_loops=True)\n",
    "    yt_nk = nk.nxadapter.nx2nk(yt_nx)\n",
    "    \n",
    "    \n",
    "    ### RK\n",
    "    method = nk.centrality.ApproxBetweenness(yt_nk, epsilon=0.1)\n",
    "    start = time.time()\n",
    "    method.run()\n",
    "    end = time.time()\n",
    "    \n",
    "    print(\"\\nRK\")\n",
    "    print(\"time: {}\".format(end-start))\n",
    "    print(\"kendal: {}\".format(kendal_tau_distance(np.array(method.scores()), yt_pyg.y)))\n",
    "    print(\"top 1: {}\".format(top_n_percentage(np.array(method.scores()), yt_pyg.y, k=1)))\n",
    "    print(\"top 5: {}\".format(top_n_percentage(np.array(method.scores()), yt_pyg.y, k=5)))\n",
    "    print(\"top 10: {}\".format(top_n_percentage(np.array(method.scores()), yt_pyg.y, k=10)))\n",
    "    \n",
    "    \n",
    "    ### Kadabra\n",
    "    method = nk.centrality.KadabraBetweenness(yt_nk, 0.05, 0.8)\n",
    "    start = time.time()\n",
    "    method.run()\n",
    "    end = time.time()\n",
    "    \n",
    "    print(\"\\nKadabra\")\n",
    "    print(\"time: {}\".format(end-start))\n",
    "    print(\"kendal: {}\".format(kendal_tau_distance(np.array(method.scores()), yt_pyg.y)))\n",
    "    print(\"top 1: {}\".format(top_n_percentage(np.array(method.scores()), yt_pyg.y, k=1)))\n",
    "    print(\"top 5: {}\".format(top_n_percentage(np.array(method.scores()), yt_pyg.y, k=5)))\n",
    "    print(\"top 10: {}\".format(top_n_percentage(np.array(method.scores()), yt_pyg.y, k=10)))\n",
    "    \n",
    "    \n",
    "    model.eval()\n",
    "    start = time.time()\n",
    "    bc_pr = model(yt_pyg)\n",
    "    end = time.time()\n",
    "\n",
    "    print(\"\\nDrBC\")\n",
    "    print(\"time: {}\".format(end-start))\n",
    "    print(\"kendal: {}\".format(kendal_tau_distance(bc_pr, yt_pyg.y)))\n",
    "    print(\"top 1: {}\".format(top_n_percentage(bc_pr, yt_pyg.y, k=1)))\n",
    "    print(\"top 5: {}\".format(top_n_percentage(bc_pr, yt_pyg.y, k=5)))\n",
    "    print(\"top 10: {}\".format(top_n_percentage(bc_pr, yt_pyg.y, k=10)))\n",
    "\n",
    "        \n",
    "#     json.dump(jsn, f)"
   ]
  },
  {
   "cell_type": "code",
   "execution_count": null,
   "metadata": {},
   "outputs": [],
   "source": [
    "bc_pr.size()"
   ]
  },
  {
   "cell_type": "markdown",
   "metadata": {},
   "source": [
    "# Visualize all result"
   ]
  },
  {
   "cell_type": "code",
   "execution_count": null,
   "metadata": {},
   "outputs": [],
   "source": [
    "with open(os.path.join(setting.root, \"kbc.json\"), \"r\") as kbc_f, \\\n",
    "    open(os.path.join(setting.root, \"kadabra.json\"), \"r\") as kadabra_f, \\\n",
    "    open(os.path.join(setting.root, \"rk.json\"), \"r\") as rk_f, \\\n",
    "    open(os.path.join(setting.root, \"drbc.json\"), \"r\") as drbc_f:\n",
    "    \n",
    "    kbc = json.load(kbc_f)\n",
    "    kadabra = json.load(kadabra_f)\n",
    "    rk = json.load(rk_f)\n",
    "    drbc = json.load(drbc_f)\n",
    "\n",
    "    keys = list(kbc.keys())\n",
    "\n",
    "    x = np.linspace(1, 30, 30)\n",
    "\n",
    "    fig, axs = plt.subplots(len(keys), figsize=(25, 4 * len(keys)))\n",
    "    for index, ax in enumerate(axs):\n",
    "        key = keys[index]\n",
    "        ax.plot(x, rk[key], \"o\")\n",
    "        ax.plot(x, kbc[key], \"o\")\n",
    "        ax.plot(x, kadabra[key], \"o\")\n",
    "        ax.plot(x, drbc[key], \"o\")\n",
    "        ax.legend([\"rk\", \"kbc\", \"kadabra\", \"drbc\"], loc='center right', bbox_to_anchor=(1, 0.5))\n",
    "\n",
    "        ax.set_xticks(x)\n",
    "        ax.set_title(key)\n",
    "        ax.grid()\n",
    "        \n",
    "    plt.tight_layout()\n",
    "    plt.savefig(os.path.join(setting.root, \"synthetic_each.png\"), facecolor=\"white\")"
   ]
  },
  {
   "cell_type": "code",
   "execution_count": null,
   "metadata": {},
   "outputs": [],
   "source": [
    "with open(os.path.join(setting.root, \"kbc.json\"), \"r\") as kbc_f, \\\n",
    "    open(os.path.join(setting.root, \"kadabra.json\"), \"r\") as kadabra_f, \\\n",
    "    open(os.path.join(setting.root, \"rk.json\"), \"r\") as rk_f, \\\n",
    "    open(os.path.join(setting.root, \"drbc.json\"), \"r\") as drbc_f:\n",
    "    \n",
    "    kbc = json.load(kbc_f)\n",
    "    kadabra = json.load(kadabra_f)\n",
    "    rk = json.load(rk_f)\n",
    "    drbc = json.load(drbc_f)\n",
    "\n",
    "    keys = list(kbc.keys())\n",
    "    \n",
    "    fig, axs = plt.subplots(len(keys), figsize=(25, 4*len(keys)))\n",
    "    for index, ax in enumerate(axs):\n",
    "        key = keys[index]\n",
    "        \n",
    "        ax.boxplot([rk[key], kbc[key], kadabra[key], drbc[key]], widths=0.5)\n",
    "        ax.set_title(key)\n",
    "        ax.grid()\n",
    "        \n",
    "        ### Calculate mean and std\n",
    "        print(\"\\n{}\".format(key))\n",
    "        rk_ = np.array(rk[key])\n",
    "        print(\"RK: mean={}, std={}\".format(np.mean(rk_), np.std(rk_)))\n",
    "        \n",
    "        kbc_ = np.array(kbc[key])\n",
    "        print(\"KBC: mean={}, std={}\".format(np.mean(kbc_), np.std(kbc_)))\n",
    "        \n",
    "        kadabra_ = np.array(kadabra[key])\n",
    "        print(\"KADABRA: mean={}, std={}\".format(np.mean(kadabra_), np.std(kadabra_)))\n",
    "        \n",
    "        drbc_ = np.array(drbc[key])\n",
    "        print(\"DrBC: mean={}, std={}\".format(np.mean(drbc_), np.std(drbc_)))\n",
    "        \n",
    "    \n",
    "    plt.setp(axs,  xticklabels=['rk', 'kbc', 'kadabra', \"drbc\"])\n",
    "    plt.savefig(os.path.join(setting.root, \"synthetic_box.png\"), facecolor=\"white\")\n",
    "    \n",
    "    "
   ]
  },
  {
   "cell_type": "code",
   "execution_count": null,
   "metadata": {},
   "outputs": [],
   "source": []
  }
 ],
 "metadata": {
  "accelerator": "GPU",
  "colab": {
   "collapsed_sections": [],
   "name": "code.ipynb",
   "provenance": [],
   "toc_visible": true
  },
  "kernelspec": {
   "display_name": "Python 3",
   "language": "python",
   "name": "python3"
  },
  "language_info": {
   "codemirror_mode": {
    "name": "ipython",
    "version": 3
   },
   "file_extension": ".py",
   "mimetype": "text/x-python",
   "name": "python",
   "nbconvert_exporter": "python",
   "pygments_lexer": "ipython3",
   "version": "3.7.9"
  }
 },
 "nbformat": 4,
 "nbformat_minor": 4
}
