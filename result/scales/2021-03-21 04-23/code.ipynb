{
 "cells": [
  {
   "cell_type": "markdown",
   "metadata": {
    "id": "HXDHW_mjXtMp"
   },
   "source": [
    "# Mount drive"
   ]
  },
  {
   "cell_type": "code",
   "execution_count": null,
   "metadata": {
    "colab": {
     "base_uri": "https://localhost:8080/"
    },
    "executionInfo": {
     "elapsed": 20999,
     "status": "ok",
     "timestamp": 1615282633207,
     "user": {
      "displayName": "Q56094077陳香君",
      "photoUrl": "",
      "userId": "10727804849868825735"
     },
     "user_tz": -480
    },
    "id": "FvCyvU3wXU5i",
    "outputId": "1ebe457a-4d34-474b-ea70-4d9fd6765538"
   },
   "outputs": [],
   "source": [
    "# from google.colab import drive\n",
    "# drive.mount('/content/gdrive')\n",
    "\n",
    "# !ls /content/gdrive/My\\ Drive"
   ]
  },
  {
   "cell_type": "code",
   "execution_count": null,
   "metadata": {
    "id": "n7xdJXLgX6xs"
   },
   "outputs": [],
   "source": [
    "# !unzip /content/gdrive/MyDrive/Q56094077/snrs/hw1_0319/hw1_data.zip -d /content/gdrive/MyDrive/Q56094077/snrs/hw1_0319"
   ]
  },
  {
   "cell_type": "markdown",
   "metadata": {
    "id": "PNPvyQC_ZsBz"
   },
   "source": [
    "# Import Library"
   ]
  },
  {
   "cell_type": "code",
   "execution_count": 1,
   "metadata": {
    "executionInfo": {
     "elapsed": 5086,
     "status": "ok",
     "timestamp": 1615282641207,
     "user": {
      "displayName": "Q56094077陳香君",
      "photoUrl": "",
      "userId": "10727804849868825735"
     },
     "user_tz": -480
    },
    "id": "R9e-OVDBZbU_"
   },
   "outputs": [],
   "source": [
    "import os\n",
    "\n",
    "import torch\n",
    "import torch.nn as nn\n",
    "\n",
    "import pandas as pd\n",
    "import numpy as np\n",
    "import json\n",
    "\n",
    "from tqdm import tqdm\n",
    "from datetime import datetime\n",
    "import time\n",
    "import matplotlib.pyplot as plt"
   ]
  },
  {
   "cell_type": "code",
   "execution_count": 2,
   "metadata": {
    "colab": {
     "base_uri": "https://localhost:8080/",
     "height": 414
    },
    "executionInfo": {
     "elapsed": 776,
     "status": "error",
     "timestamp": 1615283001909,
     "user": {
      "displayName": "Q56094077陳香君",
      "photoUrl": "",
      "userId": "10727804849868825735"
     },
     "user_tz": -480
    },
    "id": "jUN8f3VP4u9D",
    "outputId": "9e4523ef-8226-4980-c086-f15bf7f0a33a"
   },
   "outputs": [],
   "source": [
    "import drbc\n",
    "import utils\n",
    "import utils.data\n",
    "import utils.eval"
   ]
  },
  {
   "cell_type": "code",
   "execution_count": 3,
   "metadata": {},
   "outputs": [
    {
     "data": {
      "text/html": [
       "\n",
       "\t\t\t<script type=\"text/javascript\">\n",
       "\t\t\t<!--\n",
       "\t\t\t\t\n",
       "\t\t\t{\n",
       "\t\t\t\tvar element = document.getElementById('NetworKit_script');\n",
       "\t\t\t\tif (element) {\n",
       "\t\t\t\t\telement.parentNode.removeChild(element);\n",
       "\t\t\t\t}\n",
       "\t\t\t\telement = document.createElement('script');\n",
       "\t\t\t\telement.type = 'text/javascript';\n",
       "\t\t\t\telement.innerHTML = 'function NetworKit_pageEmbed(id) { var i, j; var elements; elements = document.getElementById(id).getElementsByClassName(\"Plot\"); for (i=0; i<elements.length; i++) { elements[i].id = id + \"_Plot_\" + i; var data = elements[i].getAttribute(\"data-image\").split(\"|\"); elements[i].removeAttribute(\"data-image\"); var content = \"<div class=\\\\\"Image\\\\\" id=\\\\\"\" + elements[i].id + \"_Image\\\\\" />\"; elements[i].innerHTML = content; elements[i].setAttribute(\"data-image-index\", 0); elements[i].setAttribute(\"data-image-length\", data.length); for (j=0; j<data.length; j++) { elements[i].setAttribute(\"data-image-\" + j, data[j]); } NetworKit_plotUpdate(elements[i]); elements[i].onclick = function (e) { NetworKit_overlayShow((e.target) ? e.target : e.srcElement); } } elements = document.getElementById(id).getElementsByClassName(\"HeatCell\"); for (i=0; i<elements.length; i++) { var data = parseFloat(elements[i].getAttribute(\"data-heat\")); var color = \"#00FF00\"; if (data <= 1 && data > 0) { color = \"hsla(0, 100%, 75%, \" + (data) + \")\"; } else if (data <= 0 && data >= -1) { color = \"hsla(240, 100%, 75%, \" + (-data) + \")\"; } elements[i].style.backgroundColor = color; } elements = document.getElementById(id).getElementsByClassName(\"Details\"); for (i=0; i<elements.length; i++) { elements[i].setAttribute(\"data-title\", \"-\"); NetworKit_toggleDetails(elements[i]); elements[i].onclick = function (e) { NetworKit_toggleDetails((e.target) ? e.target : e.srcElement); } } elements = document.getElementById(id).getElementsByClassName(\"MathValue\"); for (i=elements.length-1; i>=0; i--) { value = elements[i].innerHTML.trim(); if (value === \"nan\") { elements[i].parentNode.innerHTML = \"\" } } elements = document.getElementById(id).getElementsByClassName(\"SubCategory\"); for (i=elements.length-1; i>=0; i--) { value = elements[i].innerHTML.trim(); if (value === \"\") { elements[i].parentNode.removeChild(elements[i]) } } elements = document.getElementById(id).getElementsByClassName(\"Category\"); for (i=elements.length-1; i>=0; i--) { value = elements[i].innerHTML.trim(); if (value === \"\") { elements[i].parentNode.removeChild(elements[i]) } } var isFirefox = false; try { isFirefox = typeof InstallTrigger !== \"undefined\"; } catch (e) {} if (!isFirefox) { alert(\"Currently the function\\'s output is only fully supported by Firefox.\"); } } function NetworKit_plotUpdate(source) { var index = source.getAttribute(\"data-image-index\"); var data = source.getAttribute(\"data-image-\" + index); var image = document.getElementById(source.id + \"_Image\"); image.style.backgroundImage = \"url(\" + data + \")\"; } function NetworKit_showElement(id, show) { var element = document.getElementById(id); element.style.display = (show) ? \"block\" : \"none\"; } function NetworKit_overlayShow(source) { NetworKit_overlayUpdate(source); NetworKit_showElement(\"NetworKit_Overlay\", true); } function NetworKit_overlayUpdate(source) { document.getElementById(\"NetworKit_Overlay_Title\").innerHTML = source.title; var index = source.getAttribute(\"data-image-index\"); var data = source.getAttribute(\"data-image-\" + index); var image = document.getElementById(\"NetworKit_Overlay_Image\"); image.setAttribute(\"data-id\", source.id); image.style.backgroundImage = \"url(\" + data + \")\"; var link = document.getElementById(\"NetworKit_Overlay_Toolbar_Bottom_Save\"); link.href = data; link.download = source.title + \".svg\"; } function NetworKit_overlayImageShift(delta) { var image = document.getElementById(\"NetworKit_Overlay_Image\"); var source = document.getElementById(image.getAttribute(\"data-id\")); var index = parseInt(source.getAttribute(\"data-image-index\")); var length = parseInt(source.getAttribute(\"data-image-length\")); var index = (index+delta) % length; if (index < 0) { index = length + index; } source.setAttribute(\"data-image-index\", index); NetworKit_overlayUpdate(source); } function NetworKit_toggleDetails(source) { var childs = source.children; var show = false; if (source.getAttribute(\"data-title\") == \"-\") { source.setAttribute(\"data-title\", \"+\"); show = false; } else { source.setAttribute(\"data-title\", \"-\"); show = true; } for (i=0; i<childs.length; i++) { if (show) { childs[i].style.display = \"block\"; } else { childs[i].style.display = \"none\"; } } }';\n",
       "\t\t\t\telement.setAttribute('id', 'NetworKit_script');\n",
       "\t\t\t\tdocument.head.appendChild(element);\n",
       "\t\t\t}\n",
       "\t\t\n",
       "\t\t\t\t\n",
       "\t\t\t{\n",
       "\t\t\t\tvar element = document.getElementById('NetworKit_style');\n",
       "\t\t\t\tif (element) {\n",
       "\t\t\t\t\telement.parentNode.removeChild(element);\n",
       "\t\t\t\t}\n",
       "\t\t\t\telement = document.createElement('style');\n",
       "\t\t\t\telement.type = 'text/css';\n",
       "\t\t\t\telement.innerHTML = '.NetworKit_Page { font-family: Arial, Helvetica, sans-serif; font-size: 14px; } .NetworKit_Page .Value:before { font-family: Arial, Helvetica, sans-serif; font-size: 1.05em; content: attr(data-title) \":\"; margin-left: -2.5em; padding-right: 0.5em; } .NetworKit_Page .Details .Value:before { display: block; } .NetworKit_Page .Value { font-family: monospace; white-space: pre; padding-left: 2.5em; white-space: -moz-pre-wrap !important; white-space: -pre-wrap; white-space: -o-pre-wrap; white-space: pre-wrap; word-wrap: break-word; tab-size: 4; -moz-tab-size: 4; } .NetworKit_Page .Category { clear: both; padding-left: 1em; margin-bottom: 1.5em; } .NetworKit_Page .Category:before { content: attr(data-title); font-size: 1.75em; display: block; margin-left: -0.8em; margin-bottom: 0.5em; } .NetworKit_Page .SubCategory { margin-bottom: 1.5em; padding-left: 1em; } .NetworKit_Page .SubCategory:before { font-size: 1.6em; display: block; margin-left: -0.8em; margin-bottom: 0.5em; } .NetworKit_Page .SubCategory[data-title]:before { content: attr(data-title); } .NetworKit_Page .Block { display: block; } .NetworKit_Page .Block:after { content: \".\"; visibility: hidden; display: block; height: 0; clear: both; } .NetworKit_Page .Block .Thumbnail_Overview, .NetworKit_Page .Block .Thumbnail_ScatterPlot { width: 260px; float: left; } .NetworKit_Page .Block .Thumbnail_Overview img, .NetworKit_Page .Block .Thumbnail_ScatterPlot img { width: 260px; } .NetworKit_Page .Block .Thumbnail_Overview:before, .NetworKit_Page .Block .Thumbnail_ScatterPlot:before { display: block; text-align: center; font-weight: bold; } .NetworKit_Page .Block .Thumbnail_Overview:before { content: attr(data-title); } .NetworKit_Page .HeatCell { font-family: \"Courier New\", Courier, monospace; cursor: pointer; } .NetworKit_Page .HeatCell, .NetworKit_Page .HeatCellName { display: inline; padding: 0.1em; margin-right: 2px; background-color: #FFFFFF } .NetworKit_Page .HeatCellName { margin-left: 0.25em; } .NetworKit_Page .HeatCell:before { content: attr(data-heat); display: inline-block; color: #000000; width: 4em; text-align: center; } .NetworKit_Page .Measure { clear: both; } .NetworKit_Page .Measure .Details { cursor: pointer; } .NetworKit_Page .Measure .Details:before { content: \"[\" attr(data-title) \"]\"; display: block; } .NetworKit_Page .Measure .Details .Value { border-left: 1px dotted black; margin-left: 0.4em; padding-left: 3.5em; pointer-events: none; } .NetworKit_Page .Measure .Details .Spacer:before { content: \".\"; opacity: 0.0; pointer-events: none; } .NetworKit_Page .Measure .Plot { width: 440px; height: 440px; cursor: pointer; float: left; margin-left: -0.9em; margin-right: 20px; } .NetworKit_Page .Measure .Plot .Image { background-repeat: no-repeat; background-position: center center; background-size: contain; height: 100%; pointer-events: none; } .NetworKit_Page .Measure .Stat { width: 500px; float: left; } .NetworKit_Page .Measure .Stat .Group { padding-left: 1.25em; margin-bottom: 0.75em; } .NetworKit_Page .Measure .Stat .Group .Title { font-size: 1.1em; display: block; margin-bottom: 0.3em; margin-left: -0.75em; border-right-style: dotted; border-right-width: 1px; border-bottom-style: dotted; border-bottom-width: 1px; background-color: #D0D0D0; padding-left: 0.2em; } .NetworKit_Page .Measure .Stat .Group .List { -webkit-column-count: 3; -moz-column-count: 3; column-count: 3; } .NetworKit_Page .Measure .Stat .Group .List .Entry { position: relative; line-height: 1.75em; } .NetworKit_Page .Measure .Stat .Group .List .Entry[data-tooltip]:before { position: absolute; left: 0; top: -40px; background-color: #808080; color: #ffffff; height: 30px; line-height: 30px; border-radius: 5px; padding: 0 15px; content: attr(data-tooltip); white-space: nowrap; display: none; } .NetworKit_Page .Measure .Stat .Group .List .Entry[data-tooltip]:after { position: absolute; left: 15px; top: -10px; border-top: 7px solid #808080; border-left: 7px solid transparent; border-right: 7px solid transparent; content: \"\"; display: none; } .NetworKit_Page .Measure .Stat .Group .List .Entry[data-tooltip]:hover:after, .NetworKit_Page .Measure .Stat .Group .List .Entry[data-tooltip]:hover:before { display: block; } .NetworKit_Page .Measure .Stat .Group .List .Entry .MathValue { font-family: \"Courier New\", Courier, monospace; } .NetworKit_Page .Measure:after { content: \".\"; visibility: hidden; display: block; height: 0; clear: both; } .NetworKit_Page .PartitionPie { clear: both; } .NetworKit_Page .PartitionPie img { width: 600px; } #NetworKit_Overlay { left: 0px; top: 0px; display: none; position: absolute; width: 100%; height: 100%; background-color: rgba(0,0,0,0.6); z-index: 1000; } #NetworKit_Overlay_Title { position: absolute; color: white; transform: rotate(-90deg); width: 32em; height: 32em; padding-right: 0.5em; padding-top: 0.5em; text-align: right; font-size: 40px; } #NetworKit_Overlay .button { background: white; cursor: pointer; } #NetworKit_Overlay .button:before { size: 13px; display: inline-block; text-align: center; margin-top: 0.5em; margin-bottom: 0.5em; width: 1.5em; height: 1.5em; } #NetworKit_Overlay .icon-close:before { content: \"X\"; } #NetworKit_Overlay .icon-previous:before { content: \"P\"; } #NetworKit_Overlay .icon-next:before { content: \"N\"; } #NetworKit_Overlay .icon-save:before { content: \"S\"; } #NetworKit_Overlay_Toolbar_Top, #NetworKit_Overlay_Toolbar_Bottom { position: absolute; width: 40px; right: 13px; text-align: right; z-index: 1100; } #NetworKit_Overlay_Toolbar_Top { top: 0.5em; } #NetworKit_Overlay_Toolbar_Bottom { Bottom: 0.5em; } #NetworKit_Overlay_ImageContainer { position: absolute; top: 5%; left: 5%; height: 90%; width: 90%; background-repeat: no-repeat; background-position: center center; background-size: contain; } #NetworKit_Overlay_Image { height: 100%; width: 100%; background-repeat: no-repeat; background-position: center center; background-size: contain; }';\n",
       "\t\t\t\telement.setAttribute('id', 'NetworKit_style');\n",
       "\t\t\t\tdocument.head.appendChild(element);\n",
       "\t\t\t}\n",
       "\t\t\n",
       "\t\t\t\t\n",
       "\t\t\t{\n",
       "\t\t\t\tvar element = document.getElementById('NetworKit_Overlay');\n",
       "\t\t\t\tif (element) {\n",
       "\t\t\t\t\telement.parentNode.removeChild(element);\n",
       "\t\t\t\t}\n",
       "\t\t\t\telement = document.createElement('div');\n",
       "\t\t\t\telement.innerHTML = '<div id=\"NetworKit_Overlay_Toolbar_Top\"><div class=\"button icon-close\" id=\"NetworKit_Overlay_Close\" /></div><div id=\"NetworKit_Overlay_Title\" /> <div id=\"NetworKit_Overlay_ImageContainer\"> <div id=\"NetworKit_Overlay_Image\" /> </div> <div id=\"NetworKit_Overlay_Toolbar_Bottom\"> <div class=\"button icon-previous\" onclick=\"NetworKit_overlayImageShift(-1)\" /> <div class=\"button icon-next\" onclick=\"NetworKit_overlayImageShift(1)\" /> <a id=\"NetworKit_Overlay_Toolbar_Bottom_Save\"><div class=\"button icon-save\" /></a> </div>';\n",
       "\t\t\t\telement.setAttribute('id', 'NetworKit_Overlay');\n",
       "\t\t\t\tdocument.body.appendChild(element);\n",
       "\t\t\t\tdocument.getElementById('NetworKit_Overlay_Close').onclick = function (e) {\n",
       "\t\t\t\t\tdocument.getElementById('NetworKit_Overlay').style.display = 'none';\n",
       "\t\t\t\t}\n",
       "\t\t\t}\n",
       "\t\t\n",
       "\t\t\t-->\n",
       "\t\t\t</script>\n",
       "\t\t"
      ]
     },
     "metadata": {},
     "output_type": "display_data"
    }
   ],
   "source": [
    "import networkit as nk\n",
    "import networkx as nx"
   ]
  },
  {
   "cell_type": "markdown",
   "metadata": {},
   "source": [
    "# Setting"
   ]
  },
  {
   "cell_type": "code",
   "execution_count": 4,
   "metadata": {},
   "outputs": [],
   "source": [
    "class Setting:\n",
    "    _root = os.getcwd()\n",
    "\n",
    "    _data = os.path.join(_root, \"hw1_data\")\n",
    "\n",
    "    data_synthetic = os.path.join(_data, \"Synthetic\", \"5000\")\n",
    "    \n",
    "    data_youtube = os.path.join(_data, \"Real\", \"youtube\")\n",
    "    data_amazon = os.path.join(_data, \"Real\", \"amazon\")\n",
    "    data_dblp = os.path.join(_data, \"Real\", \"dblp\")\n",
    "    data_comlj = os.path.join(_data, \"Real\", \"com-lj\")\n",
    "    \n",
    "    data_train = os.path.join(_data, \"train\")\n",
    "    data_valid = os.path.join(_data, \"valid\")\n",
    "    \n",
    "    ### Data split\n",
    "    data_split = os.path.join(_root, \"split.json\")\n",
    "    \n",
    "\n",
    "    # Setting of training\n",
    "    device = torch.device(\"cuda:1\" if torch.cuda.is_available() else \"cpu\")\n",
    "\n",
    "    epochs = 500\n",
    "    nodes_cnt = 200\n",
    "    \n",
    "    params_drbc = dict(\n",
    "        # according to source paper\n",
    "        encoder_params = dict(\n",
    "            c = 3,\n",
    "            p = 128,\n",
    "            num_layers = 5,\n",
    "            device = device\n",
    "        ),\n",
    "        decoder_params = dict(\n",
    "            p = 128,\n",
    "            q = 64\n",
    "        )\n",
    "    )\n",
    "\n",
    "    \n",
    "    def __init__(self, date_time=None):\n",
    "        \n",
    "    \n",
    "        # Create dir for train/test\n",
    "        self.root = os.path.join(self._root, \"result\", \"scales\", date_time)\n",
    "        if os.path.exists(self.root):\n",
    "            pass\n",
    "        else:\n",
    "            os.makedirs(self.root)\n",
    "\n",
    "\n",
    "        ### Save plt info\n",
    "        self.train_info_p = os.path.join(self.root, \"train.json\")\n",
    "        self.val_info_p = os.path.join(self.root, \"valid.json\")\n",
    "\n",
    "        ### Save plt img\n",
    "        self.result_plt_p = os.path.join(self.root, \"train_plt.png\")\n",
    "    \n",
    "        self.weight_drbc = os.path.join(self.root, \"drbc.pth\")\n",
    "    "
   ]
  },
  {
   "cell_type": "code",
   "execution_count": null,
   "metadata": {},
   "outputs": [],
   "source": [
    "# date_time = datetime.strftime(datetime.now(), \"%Y-%m-%d %H-%M\")\n",
    "date_time = \"2021-03-21 04-23\""
   ]
  },
  {
   "cell_type": "code",
   "execution_count": 5,
   "metadata": {},
   "outputs": [],
   "source": [
    "setting = Setting(date_time=date_time)\n",
    "setting.root"
   ]
  },
  {
   "cell_type": "markdown",
   "metadata": {
    "id": "RZdiko1lmiJy"
   },
   "source": [
    "# Data"
   ]
  },
  {
   "cell_type": "markdown",
   "metadata": {
    "id": "gU4XwwAu_WkR"
   },
   "source": [
    "- data.x\t节点特征，维度是[num_nodes, num_node_features]。\n",
    "- data.edge_index\t维度是[2, num_edges]，描述图中节点的关联关系，每一列对应的两个元素，分别是边的起点和重点。数据类型是torch.long。需要注意的是，data.edge_index是定义边的节点的张量（tensor），而不是节点的列表（list）。\n",
    "- data.edge_attr\t边的特征矩阵，维度是[num_edges, num_edge_features]\n",
    "- data.y\t训练目标（维度可以是任意的）。对于节点相关的任务，维度为[num_nodes, *]；对于图相关的任务，维度为[1,*]。\n",
    "- data.position\t节点位置矩阵（Node position matrix），维度为[num_nodes, num_dimensions]。"
   ]
  },
  {
   "cell_type": "markdown",
   "metadata": {
    "id": "um9C8SFO_2Tx"
   },
   "source": [
    "- [Learning to Identify High Betweenness Centrality Nodes from\n",
    "Scratch: A Novel Graph Neural Network Approach](https://arxiv.org/pdf/1905.10418.pdf)\n",
    "- node initial feature = [$(d_v), 1, 1]"
   ]
  },
  {
   "cell_type": "markdown",
   "metadata": {},
   "source": [
    "## Read data"
   ]
  },
  {
   "cell_type": "markdown",
   "metadata": {},
   "source": [
    "### Load test data"
   ]
  },
  {
   "cell_type": "code",
   "execution_count": 12,
   "metadata": {},
   "outputs": [],
   "source": [
    "syn, syn_score = utils.data.load_data(Setting.data_synthetic, mode=\"between\")\n",
    "yt, yt_score = utils.data.load_data(Setting.data_youtube, mode=\"between\")\n",
    "amazon, amazon_score = utils.data.load_data(Setting.data_amazon, mode=\"between\")\n",
    "dblp, dblp_score = utils.data.load_data(Setting.data_dblp, mode=\"between\")\n",
    "comlj, comlj_score = utils.data.load_data(Setting.data_comlj, mode=\"between\")"
   ]
  },
  {
   "cell_type": "code",
   "execution_count": 13,
   "metadata": {},
   "outputs": [],
   "source": [
    "train, train_score = utils.data.load_data(os.path.join(setting.data_train, str(Setting.nodes_cnt)))"
   ]
  },
  {
   "cell_type": "code",
   "execution_count": 14,
   "metadata": {},
   "outputs": [],
   "source": [
    "valid, valid_score = utils.data.load_data(os.path.join(setting.data_valid, str(Setting.nodes_cnt)))"
   ]
  },
  {
   "cell_type": "markdown",
   "metadata": {},
   "source": [
    "### Cvt to data/dataloader"
   ]
  },
  {
   "cell_type": "code",
   "execution_count": 15,
   "metadata": {},
   "outputs": [],
   "source": [
    "train_loader = utils.data.to_dataloader(train, train_score, batch=8)\n",
    "valid_loader = utils.data.to_dataloader(valid, valid_score, batch=8)"
   ]
  },
  {
   "cell_type": "code",
   "execution_count": 16,
   "metadata": {},
   "outputs": [],
   "source": [
    "syn_loader = utils.data.to_dataloader(syn, syn_score, batch=1, usecols=1)"
   ]
  },
  {
   "cell_type": "code",
   "execution_count": 17,
   "metadata": {},
   "outputs": [],
   "source": [
    "yt_loader = utils.data.to_dataloader(yt, yt_score, batch=1, y_sep=\":\", usecols=1)"
   ]
  },
  {
   "cell_type": "code",
   "execution_count": null,
   "metadata": {},
   "outputs": [],
   "source": [
    "amazon_loader = utils.data.to_dataloader(amazon, amazon_score, batch=1, y_sep=\":\", usecols=1)"
   ]
  },
  {
   "cell_type": "code",
   "execution_count": null,
   "metadata": {},
   "outputs": [],
   "source": [
    "dblp_loader = utils.data.to_dataloader(dblp, dblp_score, batch=1, y_sep=\":\", usecols=1)"
   ]
  },
  {
   "cell_type": "code",
   "execution_count": null,
   "metadata": {},
   "outputs": [],
   "source": [
    "comlj_loader = utils.data.to_dataloader(comlj, comlj_score, batch=1, y_sep=\":\", usecols=1)"
   ]
  },
  {
   "cell_type": "markdown",
   "metadata": {
    "id": "Jh1T_INgi8Ql"
   },
   "source": [
    "# Model"
   ]
  },
  {
   "cell_type": "code",
   "execution_count": 29,
   "metadata": {},
   "outputs": [
    {
     "name": "stdout",
     "output_type": "stream",
     "text": [
      "use a new optimizer\n"
     ]
    },
    {
     "data": {
      "text/plain": [
       "DrBC(\n",
       "  (encoder): Encoder(\n",
       "    (w_0): Linear(in_features=3, out_features=128, bias=True)\n",
       "    (relu): ReLU(inplace=True)\n",
       "    (rnn): GRUCell(128, 128)\n",
       "  )\n",
       "  (decoder): Decoder(\n",
       "    (w_4): Linear(in_features=128, out_features=64, bias=True)\n",
       "    (w_5): Linear(in_features=64, out_features=1, bias=True)\n",
       "    (relu): ReLU(inplace=True)\n",
       "  )\n",
       ")"
      ]
     },
     "execution_count": 29,
     "metadata": {},
     "output_type": "execute_result"
    }
   ],
   "source": [
    "model, optimizer = drbc.load_checkpoint(\n",
    "                    setting.weight_drbc,\n",
    "                    Setting.device,\n",
    "                    drbc = Setting.params_drbc)\n",
    "\n",
    "model"
   ]
  },
  {
   "cell_type": "markdown",
   "metadata": {},
   "source": [
    "## DrBC"
   ]
  },
  {
   "cell_type": "code",
   "execution_count": 30,
   "metadata": {},
   "outputs": [
    {
     "name": "stderr",
     "output_type": "stream",
     "text": [
      "\r",
      "  0%|          | 0/313 [00:00<?, ?it/s]"
     ]
    },
    {
     "name": "stdout",
     "output_type": "stream",
     "text": [
      "\n",
      "Epoch: 1\n"
     ]
    },
    {
     "name": "stderr",
     "output_type": "stream",
     "text": [
      "100%|██████████| 313/313 [02:47<00:00,  1.87it/s]\n",
      "100%|██████████| 313/313 [02:40<00:00,  1.96it/s]\n",
      "  0%|          | 0/4 [00:00<?, ?it/s]"
     ]
    },
    {
     "name": "stdout",
     "output_type": "stream",
     "text": [
      "Train: loss = 0.6930634998344595, top 1 = 0.91135, top 5 = 0.9419399999999166, top 10 = 0.9377599999999513, kendal = 0.821651201633569\n"
     ]
    },
    {
     "name": "stderr",
     "output_type": "stream",
     "text": [
      "100%|██████████| 4/4 [00:00<00:00,  4.11it/s]\n",
      "  0%|          | 0/313 [00:00<?, ?it/s]"
     ]
    },
    {
     "name": "stdout",
     "output_type": "stream",
     "text": [
      "Valid: loss = 0.6930695040855795, top 1 = 0.9, top 5 = 0.9340000000000005, top 10 = 0.9355000000000006, kendal = 0.8208900642072376\n",
      "\n",
      "Epoch: 2\n"
     ]
    },
    {
     "name": "stderr",
     "output_type": "stream",
     "text": [
      "100%|██████████| 313/313 [02:40<00:00,  1.95it/s]\n",
      "100%|██████████| 313/313 [02:52<00:00,  1.81it/s]\n",
      "  0%|          | 0/4 [00:00<?, ?it/s]"
     ]
    },
    {
     "name": "stdout",
     "output_type": "stream",
     "text": [
      "Train: loss = 0.6930624843048928, top 1 = 0.94285, top 5 = 0.9560299999999304, top 10 = 0.9544649999999701, kendal = 0.8574580596470803\n"
     ]
    },
    {
     "name": "stderr",
     "output_type": "stream",
     "text": [
      "100%|██████████| 4/4 [00:01<00:00,  2.89it/s]\n",
      "  0%|          | 0/313 [00:00<?, ?it/s]"
     ]
    },
    {
     "name": "stdout",
     "output_type": "stream",
     "text": [
      "Valid: loss = 0.6930665612616034, top 1 = 0.955, top 5 = 0.9490000000000003, top 10 = 0.9570000000000007, kendal = 0.8556870447883722\n",
      "\n",
      "Epoch: 3\n"
     ]
    },
    {
     "name": "stderr",
     "output_type": "stream",
     "text": [
      "100%|██████████| 313/313 [02:39<00:00,  1.96it/s]\n",
      "100%|██████████| 313/313 [02:43<00:00,  1.91it/s]\n",
      "  0%|          | 0/4 [00:00<?, ?it/s]"
     ]
    },
    {
     "name": "stdout",
     "output_type": "stream",
     "text": [
      "Train: loss = 0.6930626569861508, top 1 = 0.9512, top 5 = 0.9623699999999386, top 10 = 0.9608349999999791, kendal = 0.8714053971661185\n"
     ]
    },
    {
     "name": "stderr",
     "output_type": "stream",
     "text": [
      "100%|██████████| 4/4 [00:01<00:00,  2.60it/s]\n",
      "  0%|          | 0/313 [00:00<?, ?it/s]"
     ]
    },
    {
     "name": "stdout",
     "output_type": "stream",
     "text": [
      "Valid: loss = 0.693065013217882, top 1 = 0.955, top 5 = 0.9510000000000002, top 10 = 0.959500000000001, kendal = 0.871121228395328\n",
      "\n",
      "Epoch: 4\n"
     ]
    },
    {
     "name": "stderr",
     "output_type": "stream",
     "text": [
      "100%|██████████| 313/313 [02:57<00:00,  1.76it/s]\n",
      "100%|██████████| 313/313 [02:28<00:00,  2.11it/s]\n",
      "  0%|          | 0/4 [00:00<?, ?it/s]"
     ]
    },
    {
     "name": "stdout",
     "output_type": "stream",
     "text": [
      "Train: loss = 0.6930624309470451, top 1 = 0.95795, top 5 = 0.9657999999999429, top 10 = 0.962814999999981, kendal = 0.8750322317917822\n"
     ]
    },
    {
     "name": "stderr",
     "output_type": "stream",
     "text": [
      "100%|██████████| 4/4 [00:01<00:00,  2.37it/s]\n",
      "  0%|          | 0/313 [00:00<?, ?it/s]"
     ]
    },
    {
     "name": "stdout",
     "output_type": "stream",
     "text": [
      "Valid: loss = 0.6930663576920133, top 1 = 0.955, top 5 = 0.9550000000000003, top 10 = 0.9610000000000012, kendal = 0.8747272593036673\n",
      "\n",
      "Epoch: 5\n"
     ]
    },
    {
     "name": "stderr",
     "output_type": "stream",
     "text": [
      "100%|██████████| 313/313 [03:09<00:00,  1.65it/s]\n",
      "100%|██████████| 313/313 [02:28<00:00,  2.11it/s]\n",
      "  0%|          | 0/4 [00:00<?, ?it/s]"
     ]
    },
    {
     "name": "stdout",
     "output_type": "stream",
     "text": [
      "Train: loss = 0.6930623146930402, top 1 = 0.9602, top 5 = 0.9674099999999458, top 10 = 0.963929999999981, kendal = 0.876770822555891\n"
     ]
    },
    {
     "name": "stderr",
     "output_type": "stream",
     "text": [
      "100%|██████████| 4/4 [00:01<00:00,  3.20it/s]\n",
      "  0%|          | 0/313 [00:00<?, ?it/s]"
     ]
    },
    {
     "name": "stdout",
     "output_type": "stream",
     "text": [
      "Valid: loss = 0.6930659310149702, top 1 = 0.95, top 5 = 0.9570000000000002, top 10 = 0.9620000000000011, kendal = 0.8762438405515521\n",
      "\n",
      "Epoch: 6\n"
     ]
    },
    {
     "name": "stderr",
     "output_type": "stream",
     "text": [
      "100%|██████████| 313/313 [02:55<00:00,  1.79it/s]\n",
      "100%|██████████| 313/313 [02:46<00:00,  1.88it/s]\n",
      "  0%|          | 0/4 [00:00<?, ?it/s]"
     ]
    },
    {
     "name": "stdout",
     "output_type": "stream",
     "text": [
      "Train: loss = 0.6930624023112939, top 1 = 0.96255, top 5 = 0.968399999999948, top 10 = 0.9649499999999834, kendal = 0.8786998177050149\n"
     ]
    },
    {
     "name": "stderr",
     "output_type": "stream",
     "text": [
      "100%|██████████| 4/4 [00:01<00:00,  2.86it/s]\n",
      "  0%|          | 0/313 [00:00<?, ?it/s]"
     ]
    },
    {
     "name": "stdout",
     "output_type": "stream",
     "text": [
      "Valid: loss = 0.6930658672849439, top 1 = 0.945, top 5 = 0.9540000000000002, top 10 = 0.9645000000000009, kendal = 0.8781383148578297\n",
      "\n",
      "Epoch: 7\n"
     ]
    },
    {
     "name": "stderr",
     "output_type": "stream",
     "text": [
      "100%|██████████| 313/313 [02:34<00:00,  2.02it/s]\n",
      "100%|██████████| 313/313 [02:56<00:00,  1.77it/s]\n",
      "  0%|          | 0/4 [00:00<?, ?it/s]"
     ]
    },
    {
     "name": "stdout",
     "output_type": "stream",
     "text": [
      "Train: loss = 0.693062501560141, top 1 = 0.963, top 5 = 0.9691499999999486, top 10 = 0.9656099999999836, kendal = 0.8789022541028476\n"
     ]
    },
    {
     "name": "stderr",
     "output_type": "stream",
     "text": [
      "100%|██████████| 4/4 [00:01<00:00,  2.40it/s]\n",
      "  0%|          | 0/313 [00:00<?, ?it/s]"
     ]
    },
    {
     "name": "stdout",
     "output_type": "stream",
     "text": [
      "Valid: loss = 0.6930663230140867, top 1 = 0.94, top 5 = 0.9560000000000002, top 10 = 0.965000000000001, kendal = 0.8783111822350314\n",
      "\n",
      "Epoch: 8\n"
     ]
    },
    {
     "name": "stderr",
     "output_type": "stream",
     "text": [
      "100%|██████████| 313/313 [02:34<00:00,  2.02it/s]\n",
      "100%|██████████| 313/313 [02:44<00:00,  1.90it/s]\n",
      "  0%|          | 0/4 [00:00<?, ?it/s]"
     ]
    },
    {
     "name": "stdout",
     "output_type": "stream",
     "text": [
      "Train: loss = 0.6930622830425355, top 1 = 0.96345, top 5 = 0.969669999999949, top 10 = 0.9658349999999846, kendal = 0.880074608211351\n"
     ]
    },
    {
     "name": "stderr",
     "output_type": "stream",
     "text": [
      "100%|██████████| 4/4 [00:01<00:00,  2.41it/s]\n",
      "  0%|          | 0/313 [00:00<?, ?it/s]"
     ]
    },
    {
     "name": "stdout",
     "output_type": "stream",
     "text": [
      "Valid: loss = 0.6930659126813056, top 1 = 0.95, top 5 = 0.9610000000000002, top 10 = 0.9660000000000011, kendal = 0.8796217377009045\n",
      "\n",
      "Epoch: 9\n"
     ]
    },
    {
     "name": "stderr",
     "output_type": "stream",
     "text": [
      "100%|██████████| 313/313 [02:58<00:00,  1.75it/s]\n",
      "100%|██████████| 313/313 [02:24<00:00,  2.17it/s]\n",
      "  0%|          | 0/4 [00:00<?, ?it/s]"
     ]
    },
    {
     "name": "stdout",
     "output_type": "stream",
     "text": [
      "Train: loss = 0.6930624739767418, top 1 = 0.9635, top 5 = 0.9699799999999495, top 10 = 0.9662399999999854, kendal = 0.8815054123064551\n"
     ]
    },
    {
     "name": "stderr",
     "output_type": "stream",
     "text": [
      "100%|██████████| 4/4 [00:01<00:00,  2.41it/s]\n",
      "  0%|          | 0/313 [00:00<?, ?it/s]"
     ]
    },
    {
     "name": "stdout",
     "output_type": "stream",
     "text": [
      "Valid: loss = 0.6930662653114177, top 1 = 0.94, top 5 = 0.9580000000000003, top 10 = 0.9655000000000009, kendal = 0.8811463649074427\n",
      "\n",
      "Epoch: 10\n"
     ]
    },
    {
     "name": "stderr",
     "output_type": "stream",
     "text": [
      "100%|██████████| 313/313 [03:16<00:00,  1.60it/s]\n",
      "100%|██████████| 313/313 [02:20<00:00,  2.22it/s]\n",
      "  0%|          | 0/4 [00:00<?, ?it/s]"
     ]
    },
    {
     "name": "stdout",
     "output_type": "stream",
     "text": [
      "Train: loss = 0.693062451174533, top 1 = 0.96405, top 5 = 0.9705899999999503, top 10 = 0.966799999999986, kendal = 0.8817371242144502\n"
     ]
    },
    {
     "name": "stderr",
     "output_type": "stream",
     "text": [
      "100%|██████████| 4/4 [00:01<00:00,  3.26it/s]\n",
      "  0%|          | 0/313 [00:00<?, ?it/s]"
     ]
    },
    {
     "name": "stdout",
     "output_type": "stream",
     "text": [
      "Valid: loss = 0.6930678098950609, top 1 = 0.94, top 5 = 0.9600000000000003, top 10 = 0.966000000000001, kendal = 0.8814046585112201\n",
      "\n",
      "Epoch: 11\n"
     ]
    },
    {
     "name": "stderr",
     "output_type": "stream",
     "text": [
      "100%|██████████| 313/313 [03:07<00:00,  1.67it/s]\n",
      "100%|██████████| 313/313 [02:36<00:00,  2.00it/s]\n",
      "  0%|          | 0/4 [00:00<?, ?it/s]"
     ]
    },
    {
     "name": "stdout",
     "output_type": "stream",
     "text": [
      "Train: loss = 0.6930625987881873, top 1 = 0.96475, top 5 = 0.9709099999999504, top 10 = 0.9668449999999867, kendal = 0.8824932670866001\n"
     ]
    },
    {
     "name": "stderr",
     "output_type": "stream",
     "text": [
      "100%|██████████| 4/4 [00:01<00:00,  3.22it/s]\n",
      "  0%|          | 0/313 [00:00<?, ?it/s]"
     ]
    },
    {
     "name": "stdout",
     "output_type": "stream",
     "text": [
      "Valid: loss = 0.6930648860385413, top 1 = 0.945, top 5 = 0.9630000000000003, top 10 = 0.9660000000000011, kendal = 0.8823252636727865\n",
      "\n",
      "Epoch: 12\n"
     ]
    },
    {
     "name": "stderr",
     "output_type": "stream",
     "text": [
      "100%|██████████| 313/313 [02:50<00:00,  1.83it/s]\n",
      "100%|██████████| 313/313 [02:46<00:00,  1.88it/s]\n",
      "  0%|          | 0/4 [00:00<?, ?it/s]"
     ]
    },
    {
     "name": "stdout",
     "output_type": "stream",
     "text": [
      "Train: loss = 0.6930623261646743, top 1 = 0.96505, top 5 = 0.9711899999999505, top 10 = 0.9673199999999875, kendal = 0.8816777740086718\n"
     ]
    },
    {
     "name": "stderr",
     "output_type": "stream",
     "text": [
      "100%|██████████| 4/4 [00:01<00:00,  2.05it/s]\n",
      "  0%|          | 0/313 [00:00<?, ?it/s]"
     ]
    },
    {
     "name": "stdout",
     "output_type": "stream",
     "text": [
      "Valid: loss = 0.693066032233905, top 1 = 0.945, top 5 = 0.9640000000000003, top 10 = 0.9655000000000009, kendal = 0.8817875773518139\n",
      "\n",
      "Epoch: 13\n"
     ]
    },
    {
     "name": "stderr",
     "output_type": "stream",
     "text": [
      "100%|██████████| 313/313 [02:45<00:00,  1.90it/s]\n",
      "100%|██████████| 313/313 [02:36<00:00,  2.00it/s]\n",
      "  0%|          | 0/4 [00:00<?, ?it/s]"
     ]
    },
    {
     "name": "stdout",
     "output_type": "stream",
     "text": [
      "Train: loss = 0.6930623700249908, top 1 = 0.9654, top 5 = 0.9714499999999505, top 10 = 0.9676899999999883, kendal = 0.88271933749897\n"
     ]
    },
    {
     "name": "stderr",
     "output_type": "stream",
     "text": [
      "100%|██████████| 4/4 [00:01<00:00,  2.13it/s]\n",
      "  0%|          | 0/313 [00:00<?, ?it/s]"
     ]
    },
    {
     "name": "stdout",
     "output_type": "stream",
     "text": [
      "Valid: loss = 0.6930664461650151, top 1 = 0.945, top 5 = 0.9630000000000003, top 10 = 0.966000000000001, kendal = 0.882792604901715\n",
      "\n",
      "Epoch: 14\n"
     ]
    },
    {
     "name": "stderr",
     "output_type": "stream",
     "text": [
      "100%|██████████| 313/313 [03:08<00:00,  1.66it/s]\n",
      "100%|██████████| 313/313 [02:15<00:00,  2.32it/s]\n",
      "  0%|          | 0/4 [00:00<?, ?it/s]"
     ]
    },
    {
     "name": "stdout",
     "output_type": "stream",
     "text": [
      "Train: loss = 0.6930624001824249, top 1 = 0.96485, top 5 = 0.9716299999999511, top 10 = 0.9678649999999883, kendal = 0.8832534503009323\n"
     ]
    },
    {
     "name": "stderr",
     "output_type": "stream",
     "text": [
      "100%|██████████| 4/4 [00:02<00:00,  1.97it/s]\n",
      "  0%|          | 0/313 [00:00<?, ?it/s]"
     ]
    },
    {
     "name": "stdout",
     "output_type": "stream",
     "text": [
      "Valid: loss = 0.6930659984111598, top 1 = 0.95, top 5 = 0.9640000000000003, top 10 = 0.966000000000001, kendal = 0.883496124333112\n",
      "\n",
      "Epoch: 15\n"
     ]
    },
    {
     "name": "stderr",
     "output_type": "stream",
     "text": [
      "100%|██████████| 313/313 [03:29<00:00,  1.50it/s]\n",
      "100%|██████████| 313/313 [02:04<00:00,  2.51it/s]\n",
      "  0%|          | 0/4 [00:00<?, ?it/s]"
     ]
    },
    {
     "name": "stdout",
     "output_type": "stream",
     "text": [
      "Train: loss = 0.6930626201015125, top 1 = 0.9648, top 5 = 0.9721099999999515, top 10 = 0.9680399999999889, kendal = 0.8800209419951021\n"
     ]
    },
    {
     "name": "stderr",
     "output_type": "stream",
     "text": [
      "100%|██████████| 4/4 [00:01<00:00,  2.69it/s]\n",
      "  0%|          | 0/313 [00:00<?, ?it/s]"
     ]
    },
    {
     "name": "stdout",
     "output_type": "stream",
     "text": [
      "Valid: loss = 0.6930651330593561, top 1 = 0.95, top 5 = 0.9640000000000003, top 10 = 0.966000000000001, kendal = 0.8802297936596815\n",
      "\n",
      "Epoch: 16\n"
     ]
    },
    {
     "name": "stderr",
     "output_type": "stream",
     "text": [
      "100%|██████████| 313/313 [03:21<00:00,  1.55it/s]\n",
      "100%|██████████| 313/313 [02:24<00:00,  2.17it/s]\n",
      "  0%|          | 0/4 [00:00<?, ?it/s]"
     ]
    },
    {
     "name": "stdout",
     "output_type": "stream",
     "text": [
      "Train: loss = 0.693062340714825, top 1 = 0.96495, top 5 = 0.9722899999999524, top 10 = 0.9682149999999888, kendal = 0.8821955485176297\n"
     ]
    },
    {
     "name": "stderr",
     "output_type": "stream",
     "text": [
      "100%|██████████| 4/4 [00:01<00:00,  2.59it/s]\n",
      "  0%|          | 0/313 [00:00<?, ?it/s]"
     ]
    },
    {
     "name": "stdout",
     "output_type": "stream",
     "text": [
      "Valid: loss = 0.6930663899864379, top 1 = 0.95, top 5 = 0.9640000000000003, top 10 = 0.966500000000001, kendal = 0.8826569308027381\n",
      "\n",
      "Epoch: 17\n"
     ]
    },
    {
     "name": "stderr",
     "output_type": "stream",
     "text": [
      "100%|██████████| 313/313 [03:02<00:00,  1.72it/s]\n",
      "100%|██████████| 313/313 [02:40<00:00,  1.95it/s]\n",
      "  0%|          | 0/4 [00:00<?, ?it/s]"
     ]
    },
    {
     "name": "stdout",
     "output_type": "stream",
     "text": [
      "Train: loss = 0.6930624177589051, top 1 = 0.96555, top 5 = 0.9724199999999522, top 10 = 0.9683799999999902, kendal = 0.8825207244828871\n"
     ]
    },
    {
     "name": "stderr",
     "output_type": "stream",
     "text": [
      "100%|██████████| 4/4 [00:01<00:00,  2.24it/s]\n",
      "  0%|          | 0/313 [00:00<?, ?it/s]"
     ]
    },
    {
     "name": "stdout",
     "output_type": "stream",
     "text": [
      "Valid: loss = 0.6930661499020626, top 1 = 0.95, top 5 = 0.9640000000000003, top 10 = 0.967500000000001, kendal = 0.8829865801550685\n",
      "\n",
      "Epoch: 18\n"
     ]
    },
    {
     "name": "stderr",
     "output_type": "stream",
     "text": [
      "100%|██████████| 313/313 [02:46<00:00,  1.88it/s]\n",
      "100%|██████████| 313/313 [02:38<00:00,  1.97it/s]\n",
      "  0%|          | 0/4 [00:00<?, ?it/s]"
     ]
    },
    {
     "name": "stdout",
     "output_type": "stream",
     "text": [
      "Train: loss = 0.69306237525379, top 1 = 0.96565, top 5 = 0.9726899999999525, top 10 = 0.9684999999999895, kendal = 0.8836501415253802\n"
     ]
    },
    {
     "name": "stderr",
     "output_type": "stream",
     "text": [
      "100%|██████████| 4/4 [00:01<00:00,  2.07it/s]\n",
      "  0%|          | 0/313 [00:00<?, ?it/s]"
     ]
    },
    {
     "name": "stdout",
     "output_type": "stream",
     "text": [
      "Valid: loss = 0.6930647420911193, top 1 = 0.94, top 5 = 0.9640000000000003, top 10 = 0.967000000000001, kendal = 0.8842418567390011\n",
      "\n",
      "Epoch: 19\n"
     ]
    },
    {
     "name": "stderr",
     "output_type": "stream",
     "text": [
      "100%|██████████| 313/313 [03:04<00:00,  1.69it/s]\n",
      "100%|██████████| 313/313 [02:21<00:00,  2.21it/s]\n",
      "  0%|          | 0/4 [00:00<?, ?it/s]"
     ]
    },
    {
     "name": "stdout",
     "output_type": "stream",
     "text": [
      "Train: loss = 0.6930624584629479, top 1 = 0.96645, top 5 = 0.9728699999999528, top 10 = 0.96860999999999, kendal = 0.8842880824551043\n"
     ]
    },
    {
     "name": "stderr",
     "output_type": "stream",
     "text": [
      "100%|██████████| 4/4 [00:01<00:00,  2.18it/s]\n",
      "  0%|          | 0/313 [00:00<?, ?it/s]"
     ]
    },
    {
     "name": "stdout",
     "output_type": "stream",
     "text": [
      "Valid: loss = 0.6930671171612525, top 1 = 0.945, top 5 = 0.9660000000000002, top 10 = 0.9670000000000012, kendal = 0.8847443697563666\n",
      "\n",
      "Epoch: 20\n"
     ]
    },
    {
     "name": "stderr",
     "output_type": "stream",
     "text": [
      "100%|██████████| 313/313 [03:22<00:00,  1.55it/s]\n",
      "100%|██████████| 313/313 [02:08<00:00,  2.44it/s]\n",
      "  0%|          | 0/4 [00:00<?, ?it/s]"
     ]
    },
    {
     "name": "stdout",
     "output_type": "stream",
     "text": [
      "Train: loss = 0.6930622651576938, top 1 = 0.96655, top 5 = 0.9729599999999531, top 10 = 0.9688999999999905, kendal = 0.8850453889291795\n"
     ]
    },
    {
     "name": "stderr",
     "output_type": "stream",
     "text": [
      "100%|██████████| 4/4 [00:01<00:00,  2.67it/s]\n",
      "  0%|          | 0/313 [00:00<?, ?it/s]"
     ]
    },
    {
     "name": "stdout",
     "output_type": "stream",
     "text": [
      "Valid: loss = 0.693067084724647, top 1 = 0.94, top 5 = 0.9660000000000002, top 10 = 0.966500000000001, kendal = 0.8854107019702198\n",
      "\n",
      "Epoch: 21\n"
     ]
    },
    {
     "name": "stderr",
     "output_type": "stream",
     "text": [
      "100%|██████████| 313/313 [03:22<00:00,  1.54it/s]\n",
      "100%|██████████| 313/313 [02:23<00:00,  2.19it/s]\n",
      "  0%|          | 0/4 [00:00<?, ?it/s]"
     ]
    },
    {
     "name": "stdout",
     "output_type": "stream",
     "text": [
      "Train: loss = 0.6930626405658366, top 1 = 0.9669, top 5 = 0.9732199999999531, top 10 = 0.9688449999999906, kendal = 0.88526425999561\n"
     ]
    },
    {
     "name": "stderr",
     "output_type": "stream",
     "text": [
      "100%|██████████| 4/4 [00:01<00:00,  2.73it/s]\n",
      "  0%|          | 0/313 [00:00<?, ?it/s]"
     ]
    },
    {
     "name": "stdout",
     "output_type": "stream",
     "text": [
      "Valid: loss = 0.6930655300683827, top 1 = 0.95, top 5 = 0.9650000000000003, top 10 = 0.9675000000000011, kendal = 0.8857383405147147\n",
      "\n",
      "Epoch: 22\n"
     ]
    },
    {
     "name": "stderr",
     "output_type": "stream",
     "text": [
      "100%|██████████| 313/313 [03:02<00:00,  1.72it/s]\n",
      "100%|██████████| 313/313 [02:42<00:00,  1.93it/s]\n",
      "  0%|          | 0/4 [00:00<?, ?it/s]"
     ]
    },
    {
     "name": "stdout",
     "output_type": "stream",
     "text": [
      "Train: loss = 0.6930622917412416, top 1 = 0.96725, top 5 = 0.9732499999999537, top 10 = 0.9689749999999906, kendal = 0.8844754526039201\n"
     ]
    },
    {
     "name": "stderr",
     "output_type": "stream",
     "text": [
      "100%|██████████| 4/4 [00:01<00:00,  2.81it/s]\n",
      "  0%|          | 0/313 [00:00<?, ?it/s]"
     ]
    },
    {
     "name": "stdout",
     "output_type": "stream",
     "text": [
      "Valid: loss = 0.6930666243457346, top 1 = 0.95, top 5 = 0.9670000000000002, top 10 = 0.9670000000000012, kendal = 0.8849705016722745\n",
      "\n",
      "Epoch: 23\n"
     ]
    },
    {
     "name": "stderr",
     "output_type": "stream",
     "text": [
      "100%|██████████| 313/313 [02:42<00:00,  1.93it/s]\n",
      "100%|██████████| 313/313 [02:45<00:00,  1.89it/s]\n",
      "  0%|          | 0/4 [00:00<?, ?it/s]"
     ]
    },
    {
     "name": "stdout",
     "output_type": "stream",
     "text": [
      "Train: loss = 0.6930621605215501, top 1 = 0.9676, top 5 = 0.9734599999999538, top 10 = 0.9691249999999906, kendal = 0.8857452751773073\n"
     ]
    },
    {
     "name": "stderr",
     "output_type": "stream",
     "text": [
      "100%|██████████| 4/4 [00:01<00:00,  2.03it/s]\n",
      "  0%|          | 0/313 [00:00<?, ?it/s]"
     ]
    },
    {
     "name": "stdout",
     "output_type": "stream",
     "text": [
      "Valid: loss = 0.6930663507314716, top 1 = 0.94, top 5 = 0.9670000000000002, top 10 = 0.966500000000001, kendal = 0.8862860803698126\n",
      "\n",
      "Epoch: 24\n"
     ]
    },
    {
     "name": "stderr",
     "output_type": "stream",
     "text": [
      "100%|██████████| 313/313 [02:55<00:00,  1.79it/s]\n",
      "100%|██████████| 313/313 [02:28<00:00,  2.10it/s]\n",
      "  0%|          | 0/4 [00:00<?, ?it/s]"
     ]
    },
    {
     "name": "stdout",
     "output_type": "stream",
     "text": [
      "Train: loss = 0.6930621899194037, top 1 = 0.96755, top 5 = 0.9735499999999538, top 10 = 0.9692199999999904, kendal = 0.8869069782068113\n"
     ]
    },
    {
     "name": "stderr",
     "output_type": "stream",
     "text": [
      "100%|██████████| 4/4 [00:01<00:00,  2.16it/s]\n",
      "  0%|          | 0/313 [00:00<?, ?it/s]"
     ]
    },
    {
     "name": "stdout",
     "output_type": "stream",
     "text": [
      "Valid: loss = 0.6930666632560611, top 1 = 0.94, top 5 = 0.9660000000000002, top 10 = 0.967000000000001, kendal = 0.8874679897660342\n",
      "\n",
      "Epoch: 25\n"
     ]
    },
    {
     "name": "stderr",
     "output_type": "stream",
     "text": [
      "100%|██████████| 313/313 [03:13<00:00,  1.61it/s]\n",
      "100%|██████████| 313/313 [02:11<00:00,  2.39it/s]\n",
      "  0%|          | 0/4 [00:00<?, ?it/s]"
     ]
    },
    {
     "name": "stdout",
     "output_type": "stream",
     "text": [
      "Train: loss = 0.693062227118419, top 1 = 0.96775, top 5 = 0.9736199999999535, top 10 = 0.9693299999999908, kendal = 0.8870830786504812\n"
     ]
    },
    {
     "name": "stderr",
     "output_type": "stream",
     "text": [
      "100%|██████████| 4/4 [00:01<00:00,  2.32it/s]\n",
      "  0%|          | 0/313 [00:00<?, ?it/s]"
     ]
    },
    {
     "name": "stdout",
     "output_type": "stream",
     "text": [
      "Valid: loss = 0.6930665037948464, top 1 = 0.94, top 5 = 0.9670000000000002, top 10 = 0.966500000000001, kendal = 0.8875363307169916\n",
      "\n",
      "Epoch: 26\n"
     ]
    },
    {
     "name": "stderr",
     "output_type": "stream",
     "text": [
      "100%|██████████| 313/313 [03:22<00:00,  1.54it/s]\n",
      "100%|██████████| 313/313 [02:21<00:00,  2.22it/s]\n",
      "  0%|          | 0/4 [00:00<?, ?it/s]"
     ]
    },
    {
     "name": "stdout",
     "output_type": "stream",
     "text": [
      "Train: loss = 0.6930624752206759, top 1 = 0.9678, top 5 = 0.9737399999999534, top 10 = 0.969514999999991, kendal = 0.8884274082330592\n"
     ]
    },
    {
     "name": "stderr",
     "output_type": "stream",
     "text": [
      "100%|██████████| 4/4 [00:01<00:00,  2.49it/s]\n",
      "  0%|          | 0/313 [00:00<?, ?it/s]"
     ]
    },
    {
     "name": "stdout",
     "output_type": "stream",
     "text": [
      "Valid: loss = 0.693067923273532, top 1 = 0.945, top 5 = 0.9670000000000002, top 10 = 0.9670000000000012, kendal = 0.8888549237070685\n",
      "\n",
      "Epoch: 27\n"
     ]
    },
    {
     "name": "stderr",
     "output_type": "stream",
     "text": [
      "100%|██████████| 313/313 [03:06<00:00,  1.68it/s]\n",
      "100%|██████████| 313/313 [02:37<00:00,  1.99it/s]\n",
      "  0%|          | 0/4 [00:00<?, ?it/s]"
     ]
    },
    {
     "name": "stdout",
     "output_type": "stream",
     "text": [
      "Train: loss = 0.6930623691607246, top 1 = 0.9684, top 5 = 0.9737999999999536, top 10 = 0.9695349999999913, kendal = 0.8895331011701358\n"
     ]
    },
    {
     "name": "stderr",
     "output_type": "stream",
     "text": [
      "100%|██████████| 4/4 [00:01<00:00,  2.67it/s]\n",
      "  0%|          | 0/313 [00:00<?, ?it/s]"
     ]
    },
    {
     "name": "stdout",
     "output_type": "stream",
     "text": [
      "Valid: loss = 0.6930676116931361, top 1 = 0.955, top 5 = 0.9680000000000001, top 10 = 0.9670000000000012, kendal = 0.8899001495851933\n",
      "\n",
      "Epoch: 28\n"
     ]
    },
    {
     "name": "stderr",
     "output_type": "stream",
     "text": [
      "100%|██████████| 313/313 [02:49<00:00,  1.84it/s]\n",
      "100%|██████████| 313/313 [02:40<00:00,  1.95it/s]\n",
      "  0%|          | 0/4 [00:00<?, ?it/s]"
     ]
    },
    {
     "name": "stdout",
     "output_type": "stream",
     "text": [
      "Train: loss = 0.693062590698837, top 1 = 0.96845, top 5 = 0.9737899999999532, top 10 = 0.9696249999999914, kendal = 0.8879013825094871\n"
     ]
    },
    {
     "name": "stderr",
     "output_type": "stream",
     "text": [
      "100%|██████████| 4/4 [00:02<00:00,  1.98it/s]\n",
      "  0%|          | 0/313 [00:00<?, ?it/s]"
     ]
    },
    {
     "name": "stdout",
     "output_type": "stream",
     "text": [
      "Valid: loss = 0.6930665575180504, top 1 = 0.955, top 5 = 0.9670000000000002, top 10 = 0.9670000000000012, kendal = 0.888165475359763\n",
      "\n",
      "Epoch: 29\n"
     ]
    },
    {
     "name": "stderr",
     "output_type": "stream",
     "text": [
      "100%|██████████| 313/313 [02:57<00:00,  1.76it/s]\n",
      "100%|██████████| 313/313 [02:25<00:00,  2.15it/s]\n",
      "  0%|          | 0/4 [00:00<?, ?it/s]"
     ]
    },
    {
     "name": "stdout",
     "output_type": "stream",
     "text": [
      "Train: loss = 0.693062646778557, top 1 = 0.96825, top 5 = 0.9737199999999532, top 10 = 0.9696899999999908, kendal = 0.8885881921263935\n"
     ]
    },
    {
     "name": "stderr",
     "output_type": "stream",
     "text": [
      "100%|██████████| 4/4 [00:01<00:00,  2.06it/s]\n",
      "  0%|          | 0/313 [00:00<?, ?it/s]"
     ]
    },
    {
     "name": "stdout",
     "output_type": "stream",
     "text": [
      "Valid: loss = 0.693067354069874, top 1 = 0.955, top 5 = 0.9670000000000002, top 10 = 0.9670000000000012, kendal = 0.8890961299392418\n",
      "\n",
      "Epoch: 30\n"
     ]
    },
    {
     "name": "stderr",
     "output_type": "stream",
     "text": [
      "100%|██████████| 313/313 [03:18<00:00,  1.57it/s]\n",
      "100%|██████████| 313/313 [02:05<00:00,  2.49it/s]\n",
      "  0%|          | 0/4 [00:00<?, ?it/s]"
     ]
    },
    {
     "name": "stdout",
     "output_type": "stream",
     "text": [
      "Train: loss = 0.6930625129975567, top 1 = 0.96845, top 5 = 0.9739899999999536, top 10 = 0.9698299999999915, kendal = 0.8893100403542774\n"
     ]
    },
    {
     "name": "stderr",
     "output_type": "stream",
     "text": [
      "100%|██████████| 4/4 [00:01<00:00,  2.10it/s]\n",
      "  0%|          | 0/313 [00:00<?, ?it/s]"
     ]
    },
    {
     "name": "stdout",
     "output_type": "stream",
     "text": [
      "Valid: loss = 0.6930669146620021, top 1 = 0.945, top 5 = 0.9670000000000002, top 10 = 0.9675000000000011, kendal = 0.8897031637514681\n",
      "\n",
      "Epoch: 31\n"
     ]
    },
    {
     "name": "stderr",
     "output_type": "stream",
     "text": [
      "100%|██████████| 313/313 [03:31<00:00,  1.48it/s]\n",
      "100%|██████████| 313/313 [02:08<00:00,  2.43it/s]\n",
      "  0%|          | 0/4 [00:00<?, ?it/s]"
     ]
    },
    {
     "name": "stdout",
     "output_type": "stream",
     "text": [
      "Train: loss = 0.693062367861062, top 1 = 0.96855, top 5 = 0.9740499999999538, top 10 = 0.9698349999999913, kendal = 0.8890117120183356\n"
     ]
    },
    {
     "name": "stderr",
     "output_type": "stream",
     "text": [
      "100%|██████████| 4/4 [00:01<00:00,  2.70it/s]\n",
      "  0%|          | 0/313 [00:00<?, ?it/s]"
     ]
    },
    {
     "name": "stdout",
     "output_type": "stream",
     "text": [
      "Valid: loss = 0.6930663223269581, top 1 = 0.95, top 5 = 0.9680000000000001, top 10 = 0.9675000000000011, kendal = 0.889424772650266\n",
      "\n",
      "Epoch: 32\n"
     ]
    },
    {
     "name": "stderr",
     "output_type": "stream",
     "text": [
      "100%|██████████| 313/313 [03:17<00:00,  1.59it/s]\n",
      "100%|██████████| 313/313 [02:26<00:00,  2.14it/s]\n",
      "  0%|          | 0/4 [00:00<?, ?it/s]"
     ]
    },
    {
     "name": "stdout",
     "output_type": "stream",
     "text": [
      "Train: loss = 0.6930625294067645, top 1 = 0.96845, top 5 = 0.9741599999999538, top 10 = 0.9699049999999925, kendal = 0.8887494059515378\n"
     ]
    },
    {
     "name": "stderr",
     "output_type": "stream",
     "text": [
      "100%|██████████| 4/4 [00:01<00:00,  2.63it/s]\n",
      "  0%|          | 0/313 [00:00<?, ?it/s]"
     ]
    },
    {
     "name": "stdout",
     "output_type": "stream",
     "text": [
      "Valid: loss = 0.6930660508073578, top 1 = 0.955, top 5 = 0.9670000000000002, top 10 = 0.9675000000000011, kendal = 0.8890609511305156\n",
      "\n",
      "Epoch: 33\n"
     ]
    },
    {
     "name": "stderr",
     "output_type": "stream",
     "text": [
      "100%|██████████| 313/313 [02:59<00:00,  1.74it/s]\n",
      "100%|██████████| 313/313 [02:35<00:00,  2.02it/s]\n",
      "  0%|          | 0/4 [00:00<?, ?it/s]"
     ]
    },
    {
     "name": "stdout",
     "output_type": "stream",
     "text": [
      "Train: loss = 0.6930622809359388, top 1 = 0.96885, top 5 = 0.9743799999999541, top 10 = 0.9700499999999916, kendal = 0.8892911614883114\n"
     ]
    },
    {
     "name": "stderr",
     "output_type": "stream",
     "text": [
      "100%|██████████| 4/4 [00:01<00:00,  2.25it/s]\n",
      "  0%|          | 0/313 [00:00<?, ?it/s]"
     ]
    },
    {
     "name": "stdout",
     "output_type": "stream",
     "text": [
      "Valid: loss = 0.6930671930688106, top 1 = 0.95, top 5 = 0.9680000000000001, top 10 = 0.9680000000000011, kendal = 0.889522257991466\n",
      "\n",
      "Epoch: 34\n"
     ]
    },
    {
     "name": "stderr",
     "output_type": "stream",
     "text": [
      "100%|██████████| 313/313 [03:00<00:00,  1.73it/s]\n",
      "100%|██████████| 313/313 [02:25<00:00,  2.14it/s]\n",
      "  0%|          | 0/4 [00:00<?, ?it/s]"
     ]
    },
    {
     "name": "stdout",
     "output_type": "stream",
     "text": [
      "Train: loss = 0.6930622213924523, top 1 = 0.96885, top 5 = 0.974399999999954, top 10 = 0.9701149999999923, kendal = 0.8902773200835349\n"
     ]
    },
    {
     "name": "stderr",
     "output_type": "stream",
     "text": [
      "100%|██████████| 4/4 [00:01<00:00,  2.21it/s]\n",
      "  0%|          | 0/313 [00:00<?, ?it/s]"
     ]
    },
    {
     "name": "stdout",
     "output_type": "stream",
     "text": [
      "Valid: loss = 0.6930637171978385, top 1 = 0.955, top 5 = 0.9680000000000001, top 10 = 0.9680000000000011, kendal = 0.8904076858594769\n",
      "\n",
      "Epoch: 35\n"
     ]
    },
    {
     "name": "stderr",
     "output_type": "stream",
     "text": [
      "100%|██████████| 313/313 [03:17<00:00,  1.58it/s]\n",
      "100%|██████████| 313/313 [02:08<00:00,  2.44it/s]\n",
      "  0%|          | 0/4 [00:00<?, ?it/s]"
     ]
    },
    {
     "name": "stdout",
     "output_type": "stream",
     "text": [
      "Train: loss = 0.6930623964433283, top 1 = 0.96865, top 5 = 0.9743899999999541, top 10 = 0.9701299999999919, kendal = 0.8905283151139658\n"
     ]
    },
    {
     "name": "stderr",
     "output_type": "stream",
     "text": [
      "100%|██████████| 4/4 [00:01<00:00,  2.42it/s]\n",
      "  0%|          | 0/313 [00:00<?, ?it/s]"
     ]
    },
    {
     "name": "stdout",
     "output_type": "stream",
     "text": [
      "Valid: loss = 0.6930669414246456, top 1 = 0.95, top 5 = 0.9690000000000001, top 10 = 0.9675000000000011, kendal = 0.8906418558804046\n",
      "\n",
      "Epoch: 36\n"
     ]
    },
    {
     "name": "stderr",
     "output_type": "stream",
     "text": [
      "100%|██████████| 313/313 [03:31<00:00,  1.48it/s]\n",
      "100%|██████████| 313/313 [02:05<00:00,  2.50it/s]\n",
      "  0%|          | 0/4 [00:00<?, ?it/s]"
     ]
    },
    {
     "name": "stdout",
     "output_type": "stream",
     "text": [
      "Train: loss = 0.6930624831277649, top 1 = 0.96875, top 5 = 0.9744299999999539, top 10 = 0.9700699999999913, kendal = 0.8910692050790873\n"
     ]
    },
    {
     "name": "stderr",
     "output_type": "stream",
     "text": [
      "100%|██████████| 4/4 [00:01<00:00,  3.11it/s]\n",
      "  0%|          | 0/313 [00:00<?, ?it/s]"
     ]
    },
    {
     "name": "stdout",
     "output_type": "stream",
     "text": [
      "Valid: loss = 0.6930670218506303, top 1 = 0.95, top 5 = 0.9680000000000001, top 10 = 0.9675000000000011, kendal = 0.8912629621151221\n",
      "\n",
      "Epoch: 37\n"
     ]
    },
    {
     "name": "stderr",
     "output_type": "stream",
     "text": [
      "100%|██████████| 313/313 [03:17<00:00,  1.58it/s]\n",
      "100%|██████████| 313/313 [02:26<00:00,  2.13it/s]\n",
      "  0%|          | 0/4 [00:00<?, ?it/s]"
     ]
    },
    {
     "name": "stdout",
     "output_type": "stream",
     "text": [
      "Train: loss = 0.6930625081846781, top 1 = 0.9687, top 5 = 0.9745599999999542, top 10 = 0.970224999999992, kendal = 0.8909146735160671\n"
     ]
    },
    {
     "name": "stderr",
     "output_type": "stream",
     "text": [
      "100%|██████████| 4/4 [00:01<00:00,  3.07it/s]\n",
      "  0%|          | 0/313 [00:00<?, ?it/s]"
     ]
    },
    {
     "name": "stdout",
     "output_type": "stream",
     "text": [
      "Valid: loss = 0.6930655485301307, top 1 = 0.95, top 5 = 0.9690000000000002, top 10 = 0.9675000000000011, kendal = 0.8908689917355659\n",
      "\n",
      "Epoch: 38\n"
     ]
    },
    {
     "name": "stderr",
     "output_type": "stream",
     "text": [
      "100%|██████████| 313/313 [02:55<00:00,  1.79it/s]\n",
      "100%|██████████| 313/313 [02:43<00:00,  1.92it/s]\n",
      "  0%|          | 0/4 [00:00<?, ?it/s]"
     ]
    },
    {
     "name": "stdout",
     "output_type": "stream",
     "text": [
      "Train: loss = 0.6930623566766895, top 1 = 0.9691, top 5 = 0.9746099999999538, top 10 = 0.9702349999999911, kendal = 0.8896337476557854\n"
     ]
    },
    {
     "name": "stderr",
     "output_type": "stream",
     "text": [
      "100%|██████████| 4/4 [00:01<00:00,  2.30it/s]\n",
      "  0%|          | 0/313 [00:00<?, ?it/s]"
     ]
    },
    {
     "name": "stdout",
     "output_type": "stream",
     "text": [
      "Valid: loss = 0.6930646769916102, top 1 = 0.95, top 5 = 0.97, top 10 = 0.968500000000001, kendal = 0.8896177357319405\n",
      "\n",
      "Epoch: 39\n"
     ]
    },
    {
     "name": "stderr",
     "output_type": "stream",
     "text": [
      "100%|██████████| 313/313 [02:47<00:00,  1.87it/s]\n",
      "100%|██████████| 313/313 [02:38<00:00,  1.97it/s]\n",
      "  0%|          | 0/4 [00:00<?, ?it/s]"
     ]
    },
    {
     "name": "stdout",
     "output_type": "stream",
     "text": [
      "Train: loss = 0.6930621700467259, top 1 = 0.96935, top 5 = 0.974689999999954, top 10 = 0.9704099999999928, kendal = 0.8912049281409098\n"
     ]
    },
    {
     "name": "stderr",
     "output_type": "stream",
     "text": [
      "100%|██████████| 4/4 [00:01<00:00,  2.39it/s]\n",
      "  0%|          | 0/313 [00:00<?, ?it/s]"
     ]
    },
    {
     "name": "stdout",
     "output_type": "stream",
     "text": [
      "Valid: loss = 0.693065658267142, top 1 = 0.95, top 5 = 0.9690000000000001, top 10 = 0.9680000000000011, kendal = 0.8910971309491673\n",
      "\n",
      "Epoch: 40\n"
     ]
    },
    {
     "name": "stderr",
     "output_type": "stream",
     "text": [
      "100%|██████████| 313/313 [03:03<00:00,  1.70it/s]\n",
      "100%|██████████| 313/313 [02:24<00:00,  2.17it/s]\n",
      "  0%|          | 0/4 [00:00<?, ?it/s]"
     ]
    },
    {
     "name": "stdout",
     "output_type": "stream",
     "text": [
      "Train: loss = 0.6930622386392834, top 1 = 0.9698, top 5 = 0.9748699999999546, top 10 = 0.9704099999999926, kendal = 0.8912002882151017\n"
     ]
    },
    {
     "name": "stderr",
     "output_type": "stream",
     "text": [
      "100%|██████████| 4/4 [00:01<00:00,  2.40it/s]\n",
      "  0%|          | 0/313 [00:00<?, ?it/s]"
     ]
    },
    {
     "name": "stdout",
     "output_type": "stream",
     "text": [
      "Valid: loss = 0.6930650287229799, top 1 = 0.95, top 5 = 0.97, top 10 = 0.9690000000000011, kendal = 0.8906669802459031\n",
      "\n",
      "Epoch: 41\n"
     ]
    },
    {
     "name": "stderr",
     "output_type": "stream",
     "text": [
      "100%|██████████| 313/313 [03:19<00:00,  1.57it/s]\n",
      "100%|██████████| 313/313 [02:16<00:00,  2.30it/s]\n",
      "  0%|          | 0/4 [00:00<?, ?it/s]"
     ]
    },
    {
     "name": "stdout",
     "output_type": "stream",
     "text": [
      "Train: loss = 0.6930623437203117, top 1 = 0.96975, top 5 = 0.9748999999999549, top 10 = 0.9704449999999931, kendal = 0.8918893301587879\n"
     ]
    },
    {
     "name": "stderr",
     "output_type": "stream",
     "text": [
      "100%|██████████| 4/4 [00:01<00:00,  3.05it/s]\n",
      "  0%|          | 0/313 [00:00<?, ?it/s]"
     ]
    },
    {
     "name": "stdout",
     "output_type": "stream",
     "text": [
      "Valid: loss = 0.6930671240005987, top 1 = 0.945, top 5 = 0.9700000000000002, top 10 = 0.9690000000000011, kendal = 0.8914498950207908\n",
      "\n",
      "Epoch: 42\n"
     ]
    },
    {
     "name": "stderr",
     "output_type": "stream",
     "text": [
      "100%|██████████| 313/313 [03:09<00:00,  1.65it/s]\n",
      "100%|██████████| 313/313 [02:33<00:00,  2.04it/s]\n",
      "  0%|          | 0/4 [00:00<?, ?it/s]"
     ]
    },
    {
     "name": "stdout",
     "output_type": "stream",
     "text": [
      "Train: loss = 0.6930625240472637, top 1 = 0.9698, top 5 = 0.9748699999999549, top 10 = 0.970474999999992, kendal = 0.891596251455259\n"
     ]
    },
    {
     "name": "stderr",
     "output_type": "stream",
     "text": [
      "100%|██████████| 4/4 [00:01<00:00,  2.63it/s]\n",
      "  0%|          | 0/313 [00:00<?, ?it/s]"
     ]
    },
    {
     "name": "stdout",
     "output_type": "stream",
     "text": [
      "Valid: loss = 0.6930651966731207, top 1 = 0.95, top 5 = 0.9700000000000002, top 10 = 0.9690000000000009, kendal = 0.8911112017049705\n",
      "\n",
      "Epoch: 43\n"
     ]
    },
    {
     "name": "stderr",
     "output_type": "stream",
     "text": [
      "100%|██████████| 313/313 [02:46<00:00,  1.88it/s]\n",
      "100%|██████████| 313/313 [02:51<00:00,  1.82it/s]\n",
      "  0%|          | 0/4 [00:00<?, ?it/s]"
     ]
    },
    {
     "name": "stdout",
     "output_type": "stream",
     "text": [
      "Train: loss = 0.6930622729594934, top 1 = 0.9697, top 5 = 0.9751099999999547, top 10 = 0.9705799999999928, kendal = 0.89215549332211\n"
     ]
    },
    {
     "name": "stderr",
     "output_type": "stream",
     "text": [
      "100%|██████████| 4/4 [00:01<00:00,  2.68it/s]\n",
      "  0%|          | 0/313 [00:00<?, ?it/s]"
     ]
    },
    {
     "name": "stdout",
     "output_type": "stream",
     "text": [
      "Valid: loss = 0.69306694739386, top 1 = 0.95, top 5 = 0.9710000000000002, top 10 = 0.9695000000000009, kendal = 0.8917282876119107\n",
      "\n",
      "Epoch: 44\n"
     ]
    },
    {
     "name": "stderr",
     "output_type": "stream",
     "text": [
      "100%|██████████| 313/313 [02:33<00:00,  2.04it/s]\n",
      "100%|██████████| 313/313 [02:49<00:00,  1.85it/s]\n",
      "  0%|          | 0/4 [00:00<?, ?it/s]"
     ]
    },
    {
     "name": "stdout",
     "output_type": "stream",
     "text": [
      "Train: loss = 0.6930624126469814, top 1 = 0.9699, top 5 = 0.9750899999999553, top 10 = 0.9706599999999933, kendal = 0.8931190857329359\n"
     ]
    },
    {
     "name": "stderr",
     "output_type": "stream",
     "text": [
      "100%|██████████| 4/4 [00:01<00:00,  2.64it/s]\n",
      "  0%|          | 0/313 [00:00<?, ?it/s]"
     ]
    },
    {
     "name": "stdout",
     "output_type": "stream",
     "text": [
      "Valid: loss = 0.6930660310340785, top 1 = 0.95, top 5 = 0.9700000000000003, top 10 = 0.9695000000000009, kendal = 0.8925524084422007\n",
      "\n",
      "Epoch: 45\n"
     ]
    },
    {
     "name": "stderr",
     "output_type": "stream",
     "text": [
      "100%|██████████| 313/313 [02:52<00:00,  1.81it/s]\n",
      "100%|██████████| 313/313 [02:31<00:00,  2.06it/s]\n",
      "  0%|          | 0/4 [00:00<?, ?it/s]"
     ]
    },
    {
     "name": "stdout",
     "output_type": "stream",
     "text": [
      "Train: loss = 0.693062282866223, top 1 = 0.96995, top 5 = 0.9750499999999551, top 10 = 0.9706349999999935, kendal = 0.8918710186792838\n"
     ]
    },
    {
     "name": "stderr",
     "output_type": "stream",
     "text": [
      "100%|██████████| 4/4 [00:01<00:00,  2.65it/s]\n",
      "  0%|          | 0/313 [00:00<?, ?it/s]"
     ]
    },
    {
     "name": "stdout",
     "output_type": "stream",
     "text": [
      "Valid: loss = 0.6930664030888251, top 1 = 0.95, top 5 = 0.9710000000000004, top 10 = 0.9695000000000009, kendal = 0.8913031608221389\n",
      "\n",
      "Epoch: 46\n"
     ]
    },
    {
     "name": "stderr",
     "output_type": "stream",
     "text": [
      "100%|██████████| 313/313 [03:13<00:00,  1.62it/s]\n",
      "100%|██████████| 313/313 [02:17<00:00,  2.27it/s]\n",
      "  0%|          | 0/4 [00:00<?, ?it/s]"
     ]
    },
    {
     "name": "stdout",
     "output_type": "stream",
     "text": [
      "Train: loss = 0.6930621278610646, top 1 = 0.96985, top 5 = 0.9750399999999548, top 10 = 0.9705149999999932, kendal = 0.8914921966924724\n"
     ]
    },
    {
     "name": "stderr",
     "output_type": "stream",
     "text": [
      "100%|██████████| 4/4 [00:01<00:00,  3.22it/s]\n",
      "  0%|          | 0/313 [00:00<?, ?it/s]"
     ]
    },
    {
     "name": "stdout",
     "output_type": "stream",
     "text": [
      "Valid: loss = 0.6930636032711428, top 1 = 0.95, top 5 = 0.9710000000000002, top 10 = 0.9695000000000009, kendal = 0.8909524088967521\n",
      "\n",
      "Epoch: 47\n"
     ]
    },
    {
     "name": "stderr",
     "output_type": "stream",
     "text": [
      "100%|██████████| 313/313 [02:35<00:00,  2.01it/s]\n",
      "100%|██████████| 313/313 [02:04<00:00,  2.50it/s]\n",
      "  0%|          | 0/4 [00:00<?, ?it/s]"
     ]
    },
    {
     "name": "stdout",
     "output_type": "stream",
     "text": [
      "Train: loss = 0.693062351886137, top 1 = 0.9702, top 5 = 0.9751899999999554, top 10 = 0.970664999999993, kendal = 0.8927184558993009\n"
     ]
    },
    {
     "name": "stderr",
     "output_type": "stream",
     "text": [
      "100%|██████████| 4/4 [00:00<00:00,  4.24it/s]\n",
      "  0%|          | 0/313 [00:00<?, ?it/s]"
     ]
    },
    {
     "name": "stdout",
     "output_type": "stream",
     "text": [
      "Valid: loss = 0.6930640628640866, top 1 = 0.95, top 5 = 0.9710000000000002, top 10 = 0.969500000000001, kendal = 0.8923564302346435\n",
      "\n",
      "Epoch: 48\n"
     ]
    },
    {
     "name": "stderr",
     "output_type": "stream",
     "text": [
      "100%|██████████| 313/313 [02:12<00:00,  2.37it/s]\n",
      "100%|██████████| 313/313 [02:23<00:00,  2.18it/s]\n",
      "  0%|          | 0/4 [00:00<?, ?it/s]"
     ]
    },
    {
     "name": "stdout",
     "output_type": "stream",
     "text": [
      "Train: loss = 0.6930623396332211, top 1 = 0.97, top 5 = 0.9751499999999549, top 10 = 0.9706449999999932, kendal = 0.8916772955674607\n"
     ]
    },
    {
     "name": "stderr",
     "output_type": "stream",
     "text": [
      "100%|██████████| 4/4 [00:01<00:00,  2.99it/s]\n",
      "  0%|          | 0/313 [00:00<?, ?it/s]"
     ]
    },
    {
     "name": "stdout",
     "output_type": "stream",
     "text": [
      "Valid: loss = 0.6930657807784041, top 1 = 0.95, top 5 = 0.9720000000000002, top 10 = 0.9705000000000009, kendal = 0.8913514048564872\n",
      "\n",
      "Epoch: 49\n"
     ]
    },
    {
     "name": "stderr",
     "output_type": "stream",
     "text": [
      "100%|██████████| 313/313 [01:57<00:00,  2.67it/s]\n",
      "100%|██████████| 313/313 [02:15<00:00,  2.30it/s]\n",
      "  0%|          | 0/4 [00:00<?, ?it/s]"
     ]
    },
    {
     "name": "stdout",
     "output_type": "stream",
     "text": [
      "Train: loss = 0.693062154887349, top 1 = 0.9705, top 5 = 0.9751899999999559, top 10 = 0.9707449999999926, kendal = 0.8925123598901404\n"
     ]
    },
    {
     "name": "stderr",
     "output_type": "stream",
     "text": [
      "100%|██████████| 4/4 [00:01<00:00,  3.01it/s]\n",
      "  0%|          | 0/313 [00:00<?, ?it/s]"
     ]
    },
    {
     "name": "stdout",
     "output_type": "stream",
     "text": [
      "Valid: loss = 0.6930651941732476, top 1 = 0.95, top 5 = 0.9710000000000002, top 10 = 0.9690000000000009, kendal = 0.892061958756684\n",
      "\n",
      "Epoch: 50\n"
     ]
    },
    {
     "name": "stderr",
     "output_type": "stream",
     "text": [
      "100%|██████████| 313/313 [02:21<00:00,  2.22it/s]\n",
      "100%|██████████| 313/313 [01:53<00:00,  2.77it/s]\n",
      "  0%|          | 0/4 [00:00<?, ?it/s]"
     ]
    },
    {
     "name": "stdout",
     "output_type": "stream",
     "text": [
      "Train: loss = 0.6930624755688919, top 1 = 0.97025, top 5 = 0.9750399999999554, top 10 = 0.9707299999999924, kendal = 0.8942006446485621\n"
     ]
    },
    {
     "name": "stderr",
     "output_type": "stream",
     "text": [
      "100%|██████████| 4/4 [00:01<00:00,  2.68it/s]\n",
      "  0%|          | 0/313 [00:00<?, ?it/s]"
     ]
    },
    {
     "name": "stdout",
     "output_type": "stream",
     "text": [
      "Valid: loss = 0.6930672517422347, top 1 = 0.955, top 5 = 0.9710000000000002, top 10 = 0.9690000000000011, kendal = 0.8937202505927633\n",
      "\n",
      "Epoch: 51\n"
     ]
    },
    {
     "name": "stderr",
     "output_type": "stream",
     "text": [
      "100%|██████████| 313/313 [02:44<00:00,  1.91it/s]\n",
      "100%|██████████| 313/313 [01:44<00:00,  3.00it/s]\n",
      "  0%|          | 0/4 [00:00<?, ?it/s]"
     ]
    },
    {
     "name": "stdout",
     "output_type": "stream",
     "text": [
      "Train: loss = 0.6930625550722727, top 1 = 0.97015, top 5 = 0.9752699999999559, top 10 = 0.9707499999999932, kendal = 0.8949152600072819\n"
     ]
    },
    {
     "name": "stderr",
     "output_type": "stream",
     "text": [
      "100%|██████████| 4/4 [00:01<00:00,  3.29it/s]\n",
      "  0%|          | 0/313 [00:00<?, ?it/s]"
     ]
    },
    {
     "name": "stdout",
     "output_type": "stream",
     "text": [
      "Valid: loss = 0.693066545302446, top 1 = 0.955, top 5 = 0.9720000000000003, top 10 = 0.968000000000001, kendal = 0.894629798558732\n",
      "\n",
      "Epoch: 52\n"
     ]
    },
    {
     "name": "stderr",
     "output_type": "stream",
     "text": [
      "100%|██████████| 313/313 [02:32<00:00,  2.05it/s]\n",
      "100%|██████████| 313/313 [02:05<00:00,  2.49it/s]\n",
      "  0%|          | 0/4 [00:00<?, ?it/s]"
     ]
    },
    {
     "name": "stdout",
     "output_type": "stream",
     "text": [
      "Train: loss = 0.6930622186448475, top 1 = 0.9705, top 5 = 0.9754499999999559, top 10 = 0.9707999999999929, kendal = 0.8947568524648255\n"
     ]
    },
    {
     "name": "stderr",
     "output_type": "stream",
     "text": [
      "100%|██████████| 4/4 [00:01<00:00,  3.94it/s]\n",
      "  0%|          | 0/313 [00:00<?, ?it/s]"
     ]
    },
    {
     "name": "stdout",
     "output_type": "stream",
     "text": [
      "Valid: loss = 0.6930660551403417, top 1 = 0.95, top 5 = 0.9710000000000001, top 10 = 0.9685000000000009, kendal = 0.89433130698027\n",
      "\n",
      "Epoch: 53\n"
     ]
    },
    {
     "name": "stderr",
     "output_type": "stream",
     "text": [
      "100%|██████████| 313/313 [02:07<00:00,  2.46it/s]\n",
      "100%|██████████| 313/313 [02:20<00:00,  2.22it/s]\n",
      "  0%|          | 0/4 [00:00<?, ?it/s]"
     ]
    },
    {
     "name": "stdout",
     "output_type": "stream",
     "text": [
      "Train: loss = 0.6930623855158548, top 1 = 0.97015, top 5 = 0.975449999999956, top 10 = 0.9709849999999917, kendal = 0.8940685788474791\n"
     ]
    },
    {
     "name": "stderr",
     "output_type": "stream",
     "text": [
      "100%|██████████| 4/4 [00:01<00:00,  2.97it/s]\n",
      "  0%|          | 0/313 [00:00<?, ?it/s]"
     ]
    },
    {
     "name": "stdout",
     "output_type": "stream",
     "text": [
      "Valid: loss = 0.6930687671079544, top 1 = 0.95, top 5 = 0.9720000000000002, top 10 = 0.969500000000001, kendal = 0.893714222032938\n",
      "\n",
      "Epoch: 54\n"
     ]
    },
    {
     "name": "stderr",
     "output_type": "stream",
     "text": [
      "100%|██████████| 313/313 [02:07<00:00,  2.46it/s]\n",
      "100%|██████████| 313/313 [02:08<00:00,  2.44it/s]\n",
      "  0%|          | 0/4 [00:00<?, ?it/s]"
     ]
    },
    {
     "name": "stdout",
     "output_type": "stream",
     "text": [
      "Train: loss = 0.6930622129376823, top 1 = 0.97045, top 5 = 0.9754199999999561, top 10 = 0.9708999999999928, kendal = 0.8946104929602879\n"
     ]
    },
    {
     "name": "stderr",
     "output_type": "stream",
     "text": [
      "100%|██████████| 4/4 [00:01<00:00,  2.90it/s]\n",
      "  0%|          | 0/313 [00:00<?, ?it/s]"
     ]
    },
    {
     "name": "stdout",
     "output_type": "stream",
     "text": [
      "Valid: loss = 0.6930659980849567, top 1 = 0.955, top 5 = 0.9700000000000003, top 10 = 0.9685000000000009, kendal = 0.8943001512771338\n",
      "\n",
      "Epoch: 55\n"
     ]
    },
    {
     "name": "stderr",
     "output_type": "stream",
     "text": [
      "100%|██████████| 313/313 [02:28<00:00,  2.11it/s]\n",
      "100%|██████████| 313/313 [01:48<00:00,  2.87it/s]\n",
      "  0%|          | 0/4 [00:00<?, ?it/s]"
     ]
    },
    {
     "name": "stdout",
     "output_type": "stream",
     "text": [
      "Train: loss = 0.6930622145336076, top 1 = 0.97075, top 5 = 0.9755899999999563, top 10 = 0.9710549999999919, kendal = 0.8956519714531991\n"
     ]
    },
    {
     "name": "stderr",
     "output_type": "stream",
     "text": [
      "100%|██████████| 4/4 [00:01<00:00,  3.05it/s]\n",
      "  0%|          | 0/313 [00:00<?, ?it/s]"
     ]
    },
    {
     "name": "stdout",
     "output_type": "stream",
     "text": [
      "Valid: loss = 0.6930663087344044, top 1 = 0.95, top 5 = 0.9720000000000003, top 10 = 0.9690000000000011, kendal = 0.8953825638677451\n",
      "\n",
      "Epoch: 56\n"
     ]
    },
    {
     "name": "stderr",
     "output_type": "stream",
     "text": [
      "100%|██████████| 313/313 [02:40<00:00,  1.95it/s]\n",
      "100%|██████████| 313/313 [01:55<00:00,  2.71it/s]\n",
      "  0%|          | 0/4 [00:00<?, ?it/s]"
     ]
    },
    {
     "name": "stdout",
     "output_type": "stream",
     "text": [
      "Train: loss = 0.6930624130681903, top 1 = 0.97075, top 5 = 0.9755399999999561, top 10 = 0.9709649999999923, kendal = 0.8958396520898086\n"
     ]
    },
    {
     "name": "stderr",
     "output_type": "stream",
     "text": [
      "100%|██████████| 4/4 [00:00<00:00,  4.07it/s]\n",
      "  0%|          | 0/313 [00:00<?, ?it/s]"
     ]
    },
    {
     "name": "stdout",
     "output_type": "stream",
     "text": [
      "Valid: loss = 0.6930673757224352, top 1 = 0.955, top 5 = 0.9720000000000003, top 10 = 0.9685000000000009, kendal = 0.8954519115105155\n",
      "\n",
      "Epoch: 57\n"
     ]
    },
    {
     "name": "stderr",
     "output_type": "stream",
     "text": [
      "100%|██████████| 313/313 [02:15<00:00,  2.30it/s]\n",
      "100%|██████████| 313/313 [02:19<00:00,  2.25it/s]\n",
      "  0%|          | 0/4 [00:00<?, ?it/s]"
     ]
    },
    {
     "name": "stdout",
     "output_type": "stream",
     "text": [
      "Train: loss = 0.6930624520847997, top 1 = 0.971, top 5 = 0.9754099999999561, top 10 = 0.9709399999999919, kendal = 0.8953688078005229\n"
     ]
    },
    {
     "name": "stderr",
     "output_type": "stream",
     "text": [
      "100%|██████████| 4/4 [00:00<00:00,  4.28it/s]\n",
      "  0%|          | 0/313 [00:00<?, ?it/s]"
     ]
    },
    {
     "name": "stdout",
     "output_type": "stream",
     "text": [
      "Valid: loss = 0.693066193369097, top 1 = 0.955, top 5 = 0.9720000000000003, top 10 = 0.9690000000000009, kendal = 0.8950076896221499\n",
      "\n",
      "Epoch: 58\n"
     ]
    },
    {
     "name": "stderr",
     "output_type": "stream",
     "text": [
      "100%|██████████| 313/313 [01:52<00:00,  2.78it/s]\n",
      "100%|██████████| 313/313 [02:24<00:00,  2.16it/s]\n",
      "  0%|          | 0/4 [00:00<?, ?it/s]"
     ]
    },
    {
     "name": "stdout",
     "output_type": "stream",
     "text": [
      "Train: loss = 0.6930623825126057, top 1 = 0.97135, top 5 = 0.9756399999999565, top 10 = 0.971074999999992, kendal = 0.8959537960479984\n"
     ]
    },
    {
     "name": "stderr",
     "output_type": "stream",
     "text": [
      "100%|██████████| 4/4 [00:01<00:00,  2.63it/s]\n",
      "  0%|          | 0/313 [00:00<?, ?it/s]"
     ]
    },
    {
     "name": "stdout",
     "output_type": "stream",
     "text": [
      "Valid: loss = 0.6930642741293073, top 1 = 0.955, top 5 = 0.9720000000000003, top 10 = 0.970000000000001, kendal = 0.895718243825381\n",
      "\n",
      "Epoch: 59\n"
     ]
    },
    {
     "name": "stderr",
     "output_type": "stream",
     "text": [
      "100%|██████████| 313/313 [02:08<00:00,  2.43it/s]\n",
      "100%|██████████| 313/313 [02:01<00:00,  2.58it/s]\n",
      "  0%|          | 0/4 [00:00<?, ?it/s]"
     ]
    },
    {
     "name": "stdout",
     "output_type": "stream",
     "text": [
      "Train: loss = 0.6930623850367358, top 1 = 0.9713, top 5 = 0.9755899999999558, top 10 = 0.9710799999999928, kendal = 0.8962626091186896\n"
     ]
    },
    {
     "name": "stderr",
     "output_type": "stream",
     "text": [
      "100%|██████████| 4/4 [00:01<00:00,  2.68it/s]\n",
      "  0%|          | 0/313 [00:00<?, ?it/s]"
     ]
    },
    {
     "name": "stdout",
     "output_type": "stream",
     "text": [
      "Valid: loss = 0.6930674486496258, top 1 = 0.955, top 5 = 0.9710000000000004, top 10 = 0.969500000000001, kendal = 0.8957574387699136\n",
      "\n",
      "Epoch: 60\n"
     ]
    },
    {
     "name": "stderr",
     "output_type": "stream",
     "text": [
      "100%|██████████| 313/313 [02:33<00:00,  2.04it/s]\n",
      "100%|██████████| 313/313 [01:50<00:00,  2.83it/s]\n",
      "  0%|          | 0/4 [00:00<?, ?it/s]"
     ]
    },
    {
     "name": "stdout",
     "output_type": "stream",
     "text": [
      "Train: loss = 0.6930623190036408, top 1 = 0.97095, top 5 = 0.9756699999999562, top 10 = 0.9710549999999925, kendal = 0.8959620864967884\n"
     ]
    },
    {
     "name": "stderr",
     "output_type": "stream",
     "text": [
      "100%|██████████| 4/4 [00:01<00:00,  3.23it/s]\n",
      "  0%|          | 0/313 [00:00<?, ?it/s]"
     ]
    },
    {
     "name": "stdout",
     "output_type": "stream",
     "text": [
      "Valid: loss = 0.6930674203612526, top 1 = 0.955, top 5 = 0.9710000000000004, top 10 = 0.9695000000000009, kendal = 0.8955815604082954\n",
      "\n",
      "Epoch: 61\n"
     ]
    },
    {
     "name": "stderr",
     "output_type": "stream",
     "text": [
      "100%|██████████| 313/313 [02:24<00:00,  2.17it/s]\n",
      "100%|██████████| 313/313 [02:11<00:00,  2.37it/s]\n",
      "  0%|          | 0/4 [00:00<?, ?it/s]"
     ]
    },
    {
     "name": "stdout",
     "output_type": "stream",
     "text": [
      "Train: loss = 0.6930623220297785, top 1 = 0.97125, top 5 = 0.9758499999999564, top 10 = 0.9711449999999926, kendal = 0.8968357705239325\n"
     ]
    },
    {
     "name": "stderr",
     "output_type": "stream",
     "text": [
      "100%|██████████| 4/4 [00:01<00:00,  3.50it/s]\n",
      "  0%|          | 0/313 [00:00<?, ?it/s]"
     ]
    },
    {
     "name": "stdout",
     "output_type": "stream",
     "text": [
      "Valid: loss = 0.6930660426814942, top 1 = 0.955, top 5 = 0.9710000000000004, top 10 = 0.9685000000000009, kendal = 0.8963966353811347\n",
      "\n",
      "Epoch: 62\n"
     ]
    },
    {
     "name": "stderr",
     "output_type": "stream",
     "text": [
      "100%|██████████| 313/313 [02:00<00:00,  2.60it/s]\n",
      "100%|██████████| 313/313 [02:21<00:00,  2.21it/s]\n",
      "  0%|          | 0/4 [00:00<?, ?it/s]"
     ]
    },
    {
     "name": "stdout",
     "output_type": "stream",
     "text": [
      "Train: loss = 0.6930624999547089, top 1 = 0.97145, top 5 = 0.975609999999956, top 10 = 0.9711799999999928, kendal = 0.8966929719879999\n"
     ]
    },
    {
     "name": "stderr",
     "output_type": "stream",
     "text": [
      "100%|██████████| 4/4 [00:01<00:00,  2.78it/s]\n",
      "  0%|          | 0/313 [00:00<?, ?it/s]"
     ]
    },
    {
     "name": "stdout",
     "output_type": "stream",
     "text": [
      "Valid: loss = 0.6930661704609256, top 1 = 0.955, top 5 = 0.9730000000000003, top 10 = 0.9685000000000009, kendal = 0.8963574399567976\n",
      "\n",
      "Epoch: 63\n"
     ]
    },
    {
     "name": "stderr",
     "output_type": "stream",
     "text": [
      "100%|██████████| 313/313 [02:09<00:00,  2.42it/s]\n",
      "100%|██████████| 313/313 [02:02<00:00,  2.56it/s]\n",
      "  0%|          | 0/4 [00:00<?, ?it/s]"
     ]
    },
    {
     "name": "stdout",
     "output_type": "stream",
     "text": [
      "Train: loss = 0.693062354811106, top 1 = 0.97105, top 5 = 0.9758299999999568, top 10 = 0.9712799999999934, kendal = 0.8969920989396769\n"
     ]
    },
    {
     "name": "stderr",
     "output_type": "stream",
     "text": [
      "100%|██████████| 4/4 [00:01<00:00,  2.51it/s]\n",
      "  0%|          | 0/313 [00:00<?, ?it/s]"
     ]
    },
    {
     "name": "stdout",
     "output_type": "stream",
     "text": [
      "Valid: loss = 0.6930663245507876, top 1 = 0.955, top 5 = 0.9720000000000003, top 10 = 0.9685000000000009, kendal = 0.8965242737993647\n",
      "\n",
      "Epoch: 64\n"
     ]
    },
    {
     "name": "stderr",
     "output_type": "stream",
     "text": [
      "100%|██████████| 313/313 [02:35<00:00,  2.01it/s]\n",
      "100%|██████████| 313/313 [01:38<00:00,  3.16it/s]\n",
      "  0%|          | 0/4 [00:00<?, ?it/s]"
     ]
    },
    {
     "name": "stdout",
     "output_type": "stream",
     "text": [
      "Train: loss = 0.6930624352086541, top 1 = 0.9712, top 5 = 0.9756599999999562, top 10 = 0.9711649999999927, kendal = 0.8965270792795341\n"
     ]
    },
    {
     "name": "stderr",
     "output_type": "stream",
     "text": [
      "100%|██████████| 4/4 [00:01<00:00,  2.42it/s]\n",
      "  0%|          | 0/313 [00:00<?, ?it/s]"
     ]
    },
    {
     "name": "stdout",
     "output_type": "stream",
     "text": [
      "Valid: loss = 0.6930650020776994, top 1 = 0.95, top 5 = 0.9730000000000003, top 10 = 0.9690000000000009, kendal = 0.8958720126948545\n",
      "\n",
      "Epoch: 65\n"
     ]
    },
    {
     "name": "stderr",
     "output_type": "stream",
     "text": [
      "100%|██████████| 313/313 [02:48<00:00,  1.85it/s]\n",
      "100%|██████████| 313/313 [01:47<00:00,  2.90it/s]\n",
      "  0%|          | 0/4 [00:00<?, ?it/s]"
     ]
    },
    {
     "name": "stdout",
     "output_type": "stream",
     "text": [
      "Train: loss = 0.6930624886773415, top 1 = 0.9714, top 5 = 0.9758799999999564, top 10 = 0.9712949999999928, kendal = 0.8974125613148701\n"
     ]
    },
    {
     "name": "stderr",
     "output_type": "stream",
     "text": [
      "100%|██████████| 4/4 [00:01<00:00,  3.63it/s]\n",
      "  0%|          | 0/313 [00:00<?, ?it/s]"
     ]
    },
    {
     "name": "stdout",
     "output_type": "stream",
     "text": [
      "Valid: loss = 0.6930658820338258, top 1 = 0.95, top 5 = 0.9730000000000003, top 10 = 0.9690000000000011, kendal = 0.896821761362815\n",
      "\n",
      "Epoch: 66\n"
     ]
    },
    {
     "name": "stderr",
     "output_type": "stream",
     "text": [
      "100%|██████████| 313/313 [02:30<00:00,  2.08it/s]\n",
      "100%|██████████| 313/313 [02:07<00:00,  2.46it/s]\n",
      "  0%|          | 0/4 [00:00<?, ?it/s]"
     ]
    },
    {
     "name": "stdout",
     "output_type": "stream",
     "text": [
      "Train: loss = 0.6930623566368808, top 1 = 0.9714, top 5 = 0.9759599999999562, top 10 = 0.971279999999993, kendal = 0.896879081586565\n"
     ]
    },
    {
     "name": "stderr",
     "output_type": "stream",
     "text": [
      "100%|██████████| 4/4 [00:01<00:00,  3.26it/s]\n",
      "  0%|          | 0/313 [00:00<?, ?it/s]"
     ]
    },
    {
     "name": "stdout",
     "output_type": "stream",
     "text": [
      "Valid: loss = 0.693067119066221, top 1 = 0.955, top 5 = 0.9720000000000003, top 10 = 0.9690000000000009, kendal = 0.8965102048617649\n",
      "\n",
      "Epoch: 67\n"
     ]
    },
    {
     "name": "stderr",
     "output_type": "stream",
     "text": [
      "100%|██████████| 313/313 [02:12<00:00,  2.36it/s]\n",
      "100%|██████████| 313/313 [02:10<00:00,  2.40it/s]\n",
      "  0%|          | 0/4 [00:00<?, ?it/s]"
     ]
    },
    {
     "name": "stdout",
     "output_type": "stream",
     "text": [
      "Train: loss = 0.6930626002248323, top 1 = 0.97155, top 5 = 0.9757399999999565, top 10 = 0.971204999999993, kendal = 0.8972826348922552\n"
     ]
    },
    {
     "name": "stderr",
     "output_type": "stream",
     "text": [
      "100%|██████████| 4/4 [00:01<00:00,  2.48it/s]\n",
      "  0%|          | 0/313 [00:00<?, ?it/s]"
     ]
    },
    {
     "name": "stdout",
     "output_type": "stream",
     "text": [
      "Valid: loss = 0.6930668734914361, top 1 = 0.955, top 5 = 0.9730000000000003, top 10 = 0.967500000000001, kendal = 0.8968308074727948\n",
      "\n",
      "Epoch: 68\n"
     ]
    },
    {
     "name": "stderr",
     "output_type": "stream",
     "text": [
      "100%|██████████| 313/313 [02:26<00:00,  2.14it/s]\n",
      "100%|██████████| 313/313 [01:49<00:00,  2.86it/s]\n",
      "  0%|          | 0/4 [00:00<?, ?it/s]"
     ]
    },
    {
     "name": "stdout",
     "output_type": "stream",
     "text": [
      "Train: loss = 0.6930623498101843, top 1 = 0.97135, top 5 = 0.9757499999999567, top 10 = 0.9711949999999917, kendal = 0.8971288761033366\n"
     ]
    },
    {
     "name": "stderr",
     "output_type": "stream",
     "text": [
      "100%|██████████| 4/4 [00:01<00:00,  2.84it/s]\n",
      "  0%|          | 0/313 [00:00<?, ?it/s]"
     ]
    },
    {
     "name": "stdout",
     "output_type": "stream",
     "text": [
      "Valid: loss = 0.6930664557894484, top 1 = 0.96, top 5 = 0.9740000000000002, top 10 = 0.968000000000001, kendal = 0.8968006562139695\n",
      "\n",
      "Epoch: 69\n"
     ]
    },
    {
     "name": "stderr",
     "output_type": "stream",
     "text": [
      "100%|██████████| 313/313 [02:49<00:00,  1.85it/s]\n",
      "100%|██████████| 313/313 [01:28<00:00,  3.54it/s]\n",
      "  0%|          | 0/4 [00:00<?, ?it/s]"
     ]
    },
    {
     "name": "stdout",
     "output_type": "stream",
     "text": [
      "Train: loss = 0.6930623118134507, top 1 = 0.9714, top 5 = 0.9757699999999567, top 10 = 0.9712749999999926, kendal = 0.8972846092287937\n"
     ]
    },
    {
     "name": "stderr",
     "output_type": "stream",
     "text": [
      "100%|██████████| 4/4 [00:01<00:00,  3.73it/s]\n",
      "  0%|          | 0/313 [00:00<?, ?it/s]"
     ]
    },
    {
     "name": "stdout",
     "output_type": "stream",
     "text": [
      "Valid: loss = 0.6930641057213396, top 1 = 0.96, top 5 = 0.9730000000000003, top 10 = 0.968500000000001, kendal = 0.8968599536559891\n",
      "\n",
      "Epoch: 70\n"
     ]
    },
    {
     "name": "stderr",
     "output_type": "stream",
     "text": [
      "100%|██████████| 313/313 [02:56<00:00,  1.78it/s]\n",
      "100%|██████████| 313/313 [01:42<00:00,  3.06it/s]\n",
      "  0%|          | 0/4 [00:00<?, ?it/s]"
     ]
    },
    {
     "name": "stdout",
     "output_type": "stream",
     "text": [
      "Train: loss = 0.6930626436155497, top 1 = 0.9716, top 5 = 0.9759399999999566, top 10 = 0.9713199999999933, kendal = 0.8974059103156722\n"
     ]
    },
    {
     "name": "stderr",
     "output_type": "stream",
     "text": [
      "100%|██████████| 4/4 [00:01<00:00,  3.68it/s]\n",
      "  0%|          | 0/313 [00:00<?, ?it/s]"
     ]
    },
    {
     "name": "stdout",
     "output_type": "stream",
     "text": [
      "Valid: loss = 0.6930675100740343, top 1 = 0.955, top 5 = 0.9730000000000003, top 10 = 0.9690000000000009, kendal = 0.8969815611911338\n",
      "\n",
      "Epoch: 71\n"
     ]
    },
    {
     "name": "stderr",
     "output_type": "stream",
     "text": [
      "100%|██████████| 313/313 [02:33<00:00,  2.04it/s]\n",
      "100%|██████████| 313/313 [02:05<00:00,  2.50it/s]\n",
      "  0%|          | 0/4 [00:00<?, ?it/s]"
     ]
    },
    {
     "name": "stdout",
     "output_type": "stream",
     "text": [
      "Train: loss = 0.6930625731943718, top 1 = 0.9712, top 5 = 0.976009999999957, top 10 = 0.971379999999993, kendal = 0.8972380263574059\n"
     ]
    },
    {
     "name": "stderr",
     "output_type": "stream",
     "text": [
      "100%|██████████| 4/4 [00:01<00:00,  3.95it/s]\n",
      "  0%|          | 0/313 [00:00<?, ?it/s]"
     ]
    },
    {
     "name": "stdout",
     "output_type": "stream",
     "text": [
      "Valid: loss = 0.6930671253142109, top 1 = 0.955, top 5 = 0.9740000000000002, top 10 = 0.969500000000001, kendal = 0.8966318129019661\n",
      "\n",
      "Epoch: 72\n"
     ]
    },
    {
     "name": "stderr",
     "output_type": "stream",
     "text": [
      "100%|██████████| 313/313 [02:12<00:00,  2.36it/s]\n",
      "100%|██████████| 313/313 [02:10<00:00,  2.40it/s]\n",
      "  0%|          | 0/4 [00:00<?, ?it/s]"
     ]
    },
    {
     "name": "stdout",
     "output_type": "stream",
     "text": [
      "Train: loss = 0.6930623373395264, top 1 = 0.9714, top 5 = 0.9759999999999567, top 10 = 0.9714299999999936, kendal = 0.8976108728708964\n"
     ]
    },
    {
     "name": "stderr",
     "output_type": "stream",
     "text": [
      "100%|██████████| 4/4 [00:01<00:00,  2.98it/s]\n",
      "  0%|          | 0/313 [00:00<?, ?it/s]"
     ]
    },
    {
     "name": "stdout",
     "output_type": "stream",
     "text": [
      "Valid: loss = 0.6930665751163306, top 1 = 0.945, top 5 = 0.9750000000000003, top 10 = 0.968500000000001, kendal = 0.8971664863193056\n",
      "\n",
      "Epoch: 73\n"
     ]
    },
    {
     "name": "stderr",
     "output_type": "stream",
     "text": [
      "100%|██████████| 313/313 [02:28<00:00,  2.11it/s]\n",
      "100%|██████████| 313/313 [01:51<00:00,  2.80it/s]\n",
      "  0%|          | 0/4 [00:00<?, ?it/s]"
     ]
    },
    {
     "name": "stdout",
     "output_type": "stream",
     "text": [
      "Train: loss = 0.6930625339411585, top 1 = 0.97155, top 5 = 0.976009999999957, top 10 = 0.9714449999999925, kendal = 0.8975467477346256\n"
     ]
    },
    {
     "name": "stderr",
     "output_type": "stream",
     "text": [
      "100%|██████████| 4/4 [00:01<00:00,  3.03it/s]\n",
      "  0%|          | 0/313 [00:00<?, ?it/s]"
     ]
    },
    {
     "name": "stdout",
     "output_type": "stream",
     "text": [
      "Valid: loss = 0.6930674758510709, top 1 = 0.95, top 5 = 0.9740000000000002, top 10 = 0.968500000000001, kendal = 0.8971152296338532\n",
      "\n",
      "Epoch: 74\n"
     ]
    },
    {
     "name": "stderr",
     "output_type": "stream",
     "text": [
      "100%|██████████| 313/313 [02:46<00:00,  1.88it/s]\n",
      "100%|██████████| 313/313 [01:35<00:00,  3.29it/s]\n",
      "  0%|          | 0/4 [00:00<?, ?it/s]"
     ]
    },
    {
     "name": "stdout",
     "output_type": "stream",
     "text": [
      "Train: loss = 0.6930623477245617, top 1 = 0.97135, top 5 = 0.976129999999957, top 10 = 0.9714799999999938, kendal = 0.8972177673243176\n"
     ]
    },
    {
     "name": "stderr",
     "output_type": "stream",
     "text": [
      "100%|██████████| 4/4 [00:00<00:00,  4.42it/s]\n",
      "  0%|          | 0/313 [00:00<?, ?it/s]"
     ]
    },
    {
     "name": "stdout",
     "output_type": "stream",
     "text": [
      "Valid: loss = 0.693064887231303, top 1 = 0.945, top 5 = 0.9750000000000001, top 10 = 0.970000000000001, kendal = 0.8968137224749575\n",
      "\n",
      "Epoch: 75\n"
     ]
    },
    {
     "name": "stderr",
     "output_type": "stream",
     "text": [
      "100%|██████████| 313/313 [02:46<00:00,  1.87it/s]\n",
      "100%|██████████| 313/313 [01:51<00:00,  2.79it/s]\n",
      "  0%|          | 0/4 [00:00<?, ?it/s]"
     ]
    },
    {
     "name": "stdout",
     "output_type": "stream",
     "text": [
      "Train: loss = 0.6930624133211851, top 1 = 0.97165, top 5 = 0.9761399999999573, top 10 = 0.9714449999999928, kendal = 0.8976067811458581\n"
     ]
    },
    {
     "name": "stderr",
     "output_type": "stream",
     "text": [
      "100%|██████████| 4/4 [00:00<00:00,  4.37it/s]\n",
      "  0%|          | 0/313 [00:00<?, ?it/s]"
     ]
    },
    {
     "name": "stdout",
     "output_type": "stream",
     "text": [
      "Valid: loss = 0.6930665749743271, top 1 = 0.95, top 5 = 0.9740000000000002, top 10 = 0.9690000000000011, kendal = 0.8971272898343495\n",
      "\n",
      "Epoch: 76\n"
     ]
    },
    {
     "name": "stderr",
     "output_type": "stream",
     "text": [
      "100%|██████████| 313/313 [02:21<00:00,  2.21it/s]\n",
      "100%|██████████| 313/313 [02:16<00:00,  2.29it/s]\n",
      "  0%|          | 0/4 [00:00<?, ?it/s]"
     ]
    },
    {
     "name": "stdout",
     "output_type": "stream",
     "text": [
      "Train: loss = 0.6930625151863645, top 1 = 0.9714, top 5 = 0.9759999999999567, top 10 = 0.9715499999999933, kendal = 0.8978437974715374\n"
     ]
    },
    {
     "name": "stderr",
     "output_type": "stream",
     "text": [
      "100%|██████████| 4/4 [00:00<00:00,  4.91it/s]\n",
      "  0%|          | 0/313 [00:00<?, ?it/s]"
     ]
    },
    {
     "name": "stdout",
     "output_type": "stream",
     "text": [
      "Valid: loss = 0.6930651059804336, top 1 = 0.95, top 5 = 0.9740000000000002, top 10 = 0.9690000000000011, kendal = 0.897545381018943\n",
      "\n",
      "Epoch: 77\n"
     ]
    },
    {
     "name": "stderr",
     "output_type": "stream",
     "text": [
      "100%|██████████| 313/313 [02:00<00:00,  2.59it/s]\n",
      "100%|██████████| 313/313 [02:16<00:00,  2.29it/s]\n",
      "  0%|          | 0/4 [00:00<?, ?it/s]"
     ]
    },
    {
     "name": "stdout",
     "output_type": "stream",
     "text": [
      "Train: loss = 0.6930624634346663, top 1 = 0.9717, top 5 = 0.9760999999999571, top 10 = 0.9714299999999927, kendal = 0.8976015864455525\n"
     ]
    },
    {
     "name": "stderr",
     "output_type": "stream",
     "text": [
      "100%|██████████| 4/4 [00:01<00:00,  3.28it/s]\n",
      "  0%|          | 0/313 [00:00<?, ?it/s]"
     ]
    },
    {
     "name": "stdout",
     "output_type": "stream",
     "text": [
      "Valid: loss = 0.6930659399641236, top 1 = 0.96, top 5 = 0.9740000000000002, top 10 = 0.968500000000001, kendal = 0.8972509081520775\n",
      "\n",
      "Epoch: 78\n"
     ]
    },
    {
     "name": "stderr",
     "output_type": "stream",
     "text": [
      "100%|██████████| 313/313 [02:19<00:00,  2.24it/s]\n",
      "100%|██████████| 313/313 [01:57<00:00,  2.67it/s]\n",
      "  0%|          | 0/4 [00:00<?, ?it/s]"
     ]
    },
    {
     "name": "stdout",
     "output_type": "stream",
     "text": [
      "Train: loss = 0.6930624795907508, top 1 = 0.9717, top 5 = 0.9763199999999576, top 10 = 0.9716349999999931, kendal = 0.89780051654173\n"
     ]
    },
    {
     "name": "stderr",
     "output_type": "stream",
     "text": [
      "100%|██████████| 4/4 [00:01<00:00,  3.00it/s]\n",
      "  0%|          | 0/313 [00:00<?, ?it/s]"
     ]
    },
    {
     "name": "stdout",
     "output_type": "stream",
     "text": [
      "Valid: loss = 0.6930669235722433, top 1 = 0.95, top 5 = 0.9750000000000003, top 10 = 0.969500000000001, kendal = 0.8974860853193689\n",
      "\n",
      "Epoch: 79\n"
     ]
    },
    {
     "name": "stderr",
     "output_type": "stream",
     "text": [
      "100%|██████████| 313/313 [02:40<00:00,  1.95it/s]\n",
      "100%|██████████| 313/313 [01:44<00:00,  2.99it/s]\n",
      "  0%|          | 0/4 [00:00<?, ?it/s]"
     ]
    },
    {
     "name": "stdout",
     "output_type": "stream",
     "text": [
      "Train: loss = 0.6930623147986468, top 1 = 0.972, top 5 = 0.9761699999999573, top 10 = 0.9715649999999936, kendal = 0.8977161772288528\n"
     ]
    },
    {
     "name": "stderr",
     "output_type": "stream",
     "text": [
      "100%|██████████| 4/4 [00:00<00:00,  4.21it/s]\n",
      "  0%|          | 0/313 [00:00<?, ?it/s]"
     ]
    },
    {
     "name": "stdout",
     "output_type": "stream",
     "text": [
      "Valid: loss = 0.6930675056313923, top 1 = 0.945, top 5 = 0.9740000000000002, top 10 = 0.969500000000001, kendal = 0.8972941244850081\n",
      "\n",
      "Epoch: 80\n"
     ]
    },
    {
     "name": "stderr",
     "output_type": "stream",
     "text": [
      "100%|██████████| 313/313 [02:34<00:00,  2.03it/s]\n",
      "100%|██████████| 313/313 [02:04<00:00,  2.52it/s]\n",
      "  0%|          | 0/4 [00:00<?, ?it/s]"
     ]
    },
    {
     "name": "stdout",
     "output_type": "stream",
     "text": [
      "Train: loss = 0.693062350268753, top 1 = 0.97195, top 5 = 0.9760999999999572, top 10 = 0.9716249999999924, kendal = 0.8976655818721474\n"
     ]
    },
    {
     "name": "stderr",
     "output_type": "stream",
     "text": [
      "100%|██████████| 4/4 [00:01<00:00,  3.81it/s]\n",
      "  0%|          | 0/313 [00:00<?, ?it/s]"
     ]
    },
    {
     "name": "stdout",
     "output_type": "stream",
     "text": [
      "Valid: loss = 0.693066521311628, top 1 = 0.955, top 5 = 0.9740000000000002, top 10 = 0.9690000000000011, kendal = 0.8973373408684441\n",
      "\n",
      "Epoch: 81\n"
     ]
    },
    {
     "name": "stderr",
     "output_type": "stream",
     "text": [
      "100%|██████████| 313/313 [02:12<00:00,  2.37it/s]\n",
      "100%|██████████| 313/313 [02:21<00:00,  2.22it/s]\n",
      "  0%|          | 0/4 [00:00<?, ?it/s]"
     ]
    },
    {
     "name": "stdout",
     "output_type": "stream",
     "text": [
      "Train: loss = 0.6930624012281538, top 1 = 0.97175, top 5 = 0.9761199999999568, top 10 = 0.9715749999999923, kendal = 0.8982139861970619\n"
     ]
    },
    {
     "name": "stderr",
     "output_type": "stream",
     "text": [
      "100%|██████████| 4/4 [00:01<00:00,  2.93it/s]\n",
      "  0%|          | 0/313 [00:00<?, ?it/s]"
     ]
    },
    {
     "name": "stdout",
     "output_type": "stream",
     "text": [
      "Valid: loss = 0.6930663688475501, top 1 = 0.95, top 5 = 0.9740000000000002, top 10 = 0.9690000000000011, kendal = 0.8976760338559768\n",
      "\n",
      "Epoch: 82\n"
     ]
    },
    {
     "name": "stderr",
     "output_type": "stream",
     "text": [
      "100%|██████████| 313/313 [02:02<00:00,  2.55it/s]\n",
      "100%|██████████| 313/313 [02:11<00:00,  2.38it/s]\n",
      "  0%|          | 0/4 [00:00<?, ?it/s]"
     ]
    },
    {
     "name": "stdout",
     "output_type": "stream",
     "text": [
      "Train: loss = 0.6930623407694197, top 1 = 0.9721, top 5 = 0.9761999999999574, top 10 = 0.9715999999999927, kendal = 0.8979328884644115\n"
     ]
    },
    {
     "name": "stderr",
     "output_type": "stream",
     "text": [
      "100%|██████████| 4/4 [00:01<00:00,  2.70it/s]\n",
      "  0%|          | 0/313 [00:00<?, ?it/s]"
     ]
    },
    {
     "name": "stdout",
     "output_type": "stream",
     "text": [
      "Valid: loss = 0.6930677686274939, top 1 = 0.95, top 5 = 0.9740000000000002, top 10 = 0.9690000000000011, kendal = 0.8975232703904211\n",
      "\n",
      "Epoch: 83\n"
     ]
    },
    {
     "name": "stderr",
     "output_type": "stream",
     "text": [
      "100%|██████████| 313/313 [02:26<00:00,  2.14it/s]\n",
      "100%|██████████| 313/313 [01:49<00:00,  2.86it/s]\n",
      "  0%|          | 0/4 [00:00<?, ?it/s]"
     ]
    },
    {
     "name": "stdout",
     "output_type": "stream",
     "text": [
      "Train: loss = 0.6930624703935173, top 1 = 0.97165, top 5 = 0.9762799999999574, top 10 = 0.9717349999999931, kendal = 0.8974810145796283\n"
     ]
    },
    {
     "name": "stderr",
     "output_type": "stream",
     "text": [
      "100%|██████████| 4/4 [00:01<00:00,  2.98it/s]\n",
      "  0%|          | 0/313 [00:00<?, ?it/s]"
     ]
    },
    {
     "name": "stdout",
     "output_type": "stream",
     "text": [
      "Valid: loss = 0.6930664555419687, top 1 = 0.945, top 5 = 0.9740000000000002, top 10 = 0.971000000000001, kendal = 0.8969122151140388\n",
      "\n",
      "Epoch: 84\n"
     ]
    },
    {
     "name": "stderr",
     "output_type": "stream",
     "text": [
      "100%|██████████| 313/313 [02:45<00:00,  1.89it/s]\n",
      "100%|██████████| 313/313 [01:44<00:00,  3.01it/s]\n",
      "  0%|          | 0/4 [00:00<?, ?it/s]"
     ]
    },
    {
     "name": "stdout",
     "output_type": "stream",
     "text": [
      "Train: loss = 0.6930623156379586, top 1 = 0.9718, top 5 = 0.9763699999999573, top 10 = 0.9717999999999927, kendal = 0.8978643480002972\n"
     ]
    },
    {
     "name": "stderr",
     "output_type": "stream",
     "text": [
      "100%|██████████| 4/4 [00:01<00:00,  3.79it/s]\n",
      "  0%|          | 0/313 [00:00<?, ?it/s]"
     ]
    },
    {
     "name": "stdout",
     "output_type": "stream",
     "text": [
      "Valid: loss = 0.6930666528267873, top 1 = 0.945, top 5 = 0.9740000000000003, top 10 = 0.970000000000001, kendal = 0.8973353300606074\n",
      "\n",
      "Epoch: 85\n"
     ]
    },
    {
     "name": "stderr",
     "output_type": "stream",
     "text": [
      "100%|██████████| 313/313 [02:33<00:00,  2.03it/s]\n",
      "100%|██████████| 313/313 [02:03<00:00,  2.53it/s]\n",
      "  0%|          | 0/4 [00:00<?, ?it/s]"
     ]
    },
    {
     "name": "stdout",
     "output_type": "stream",
     "text": [
      "Train: loss = 0.6930624240151352, top 1 = 0.9719, top 5 = 0.9764699999999581, top 10 = 0.9717999999999931, kendal = 0.8961131217918624\n"
     ]
    },
    {
     "name": "stderr",
     "output_type": "stream",
     "text": [
      "100%|██████████| 4/4 [00:01<00:00,  3.80it/s]\n",
      "  0%|          | 0/313 [00:00<?, ?it/s]"
     ]
    },
    {
     "name": "stdout",
     "output_type": "stream",
     "text": [
      "Valid: loss = 0.6930641913449485, top 1 = 0.945, top 5 = 0.9740000000000002, top 10 = 0.9715000000000009, kendal = 0.8955021643829782\n",
      "\n",
      "Epoch: 86\n"
     ]
    },
    {
     "name": "stderr",
     "output_type": "stream",
     "text": [
      "100%|██████████| 313/313 [02:13<00:00,  2.35it/s]\n",
      "100%|██████████| 313/313 [02:16<00:00,  2.29it/s]\n",
      "  0%|          | 0/4 [00:00<?, ?it/s]"
     ]
    },
    {
     "name": "stdout",
     "output_type": "stream",
     "text": [
      "Train: loss = 0.6930623975262175, top 1 = 0.97215, top 5 = 0.9765099999999577, top 10 = 0.971774999999993, kendal = 0.8977740521059772\n"
     ]
    },
    {
     "name": "stderr",
     "output_type": "stream",
     "text": [
      "100%|██████████| 4/4 [00:01<00:00,  2.91it/s]\n",
      "  0%|          | 0/313 [00:00<?, ?it/s]"
     ]
    },
    {
     "name": "stdout",
     "output_type": "stream",
     "text": [
      "Valid: loss = 0.6930669613084275, top 1 = 0.945, top 5 = 0.9740000000000003, top 10 = 0.970000000000001, kendal = 0.8972267881551302\n",
      "\n",
      "Epoch: 87\n"
     ]
    },
    {
     "name": "stderr",
     "output_type": "stream",
     "text": [
      "100%|██████████| 313/313 [02:12<00:00,  2.37it/s]\n",
      "100%|██████████| 313/313 [02:03<00:00,  2.53it/s]\n",
      "  0%|          | 0/4 [00:00<?, ?it/s]"
     ]
    },
    {
     "name": "stdout",
     "output_type": "stream",
     "text": [
      "Train: loss = 0.6930623858019819, top 1 = 0.97225, top 5 = 0.9764799999999575, top 10 = 0.9718799999999929, kendal = 0.8979057975427535\n"
     ]
    },
    {
     "name": "stderr",
     "output_type": "stream",
     "text": [
      "100%|██████████| 4/4 [00:01<00:00,  2.95it/s]\n",
      "  0%|          | 0/313 [00:00<?, ?it/s]"
     ]
    },
    {
     "name": "stdout",
     "output_type": "stream",
     "text": [
      "Valid: loss = 0.6930651920012058, top 1 = 0.945, top 5 = 0.9740000000000002, top 10 = 0.9705000000000009, kendal = 0.8973634717742384\n",
      "\n",
      "Epoch: 88\n"
     ]
    },
    {
     "name": "stderr",
     "output_type": "stream",
     "text": [
      "100%|██████████| 313/313 [02:35<00:00,  2.01it/s]\n",
      "100%|██████████| 313/313 [01:42<00:00,  3.05it/s]\n",
      "  0%|          | 0/4 [00:00<?, ?it/s]"
     ]
    },
    {
     "name": "stdout",
     "output_type": "stream",
     "text": [
      "Train: loss = 0.6930623929873431, top 1 = 0.9722, top 5 = 0.9763699999999579, top 10 = 0.9719199999999931, kendal = 0.8982122932448264\n"
     ]
    },
    {
     "name": "stderr",
     "output_type": "stream",
     "text": [
      "100%|██████████| 4/4 [00:01<00:00,  2.98it/s]\n",
      "  0%|          | 0/313 [00:00<?, ?it/s]"
     ]
    },
    {
     "name": "stdout",
     "output_type": "stream",
     "text": [
      "Valid: loss = 0.6930664359048113, top 1 = 0.945, top 5 = 0.9750000000000003, top 10 = 0.970000000000001, kendal = 0.8977463863723554\n",
      "\n",
      "Epoch: 89\n"
     ]
    },
    {
     "name": "stderr",
     "output_type": "stream",
     "text": [
      "100%|██████████| 313/313 [02:48<00:00,  1.86it/s]\n",
      "100%|██████████| 313/313 [01:45<00:00,  2.98it/s]\n",
      "  0%|          | 0/4 [00:00<?, ?it/s]"
     ]
    },
    {
     "name": "stdout",
     "output_type": "stream",
     "text": [
      "Train: loss = 0.6930623580284567, top 1 = 0.97215, top 5 = 0.9764899999999579, top 10 = 0.9718799999999921, kendal = 0.898200074440525\n"
     ]
    },
    {
     "name": "stderr",
     "output_type": "stream",
     "text": [
      "100%|██████████| 4/4 [00:00<00:00,  4.65it/s]\n",
      "  0%|          | 0/313 [00:00<?, ?it/s]"
     ]
    },
    {
     "name": "stdout",
     "output_type": "stream",
     "text": [
      "Valid: loss = 0.6930653051908727, top 1 = 0.945, top 5 = 0.9750000000000003, top 10 = 0.970000000000001, kendal = 0.8974257830037411\n",
      "\n",
      "Epoch: 90\n"
     ]
    },
    {
     "name": "stderr",
     "output_type": "stream",
     "text": [
      "100%|██████████| 313/313 [02:29<00:00,  2.09it/s]\n",
      "100%|██████████| 313/313 [02:08<00:00,  2.43it/s]\n",
      "  0%|          | 0/4 [00:00<?, ?it/s]"
     ]
    },
    {
     "name": "stdout",
     "output_type": "stream",
     "text": [
      "Train: loss = 0.6930622042526564, top 1 = 0.9726, top 5 = 0.976589999999958, top 10 = 0.9718349999999923, kendal = 0.8968120565700294\n"
     ]
    },
    {
     "name": "stderr",
     "output_type": "stream",
     "text": [
      "100%|██████████| 4/4 [00:00<00:00,  4.54it/s]\n",
      "  0%|          | 0/313 [00:00<?, ?it/s]"
     ]
    },
    {
     "name": "stdout",
     "output_type": "stream",
     "text": [
      "Valid: loss = 0.6930660671566099, top 1 = 0.95, top 5 = 0.9750000000000003, top 10 = 0.969500000000001, kendal = 0.8961122156696016\n",
      "\n",
      "Epoch: 91\n"
     ]
    },
    {
     "name": "stderr",
     "output_type": "stream",
     "text": [
      "100%|██████████| 313/313 [02:04<00:00,  2.52it/s]\n",
      "100%|██████████| 313/313 [02:21<00:00,  2.21it/s]\n",
      "  0%|          | 0/4 [00:00<?, ?it/s]"
     ]
    },
    {
     "name": "stdout",
     "output_type": "stream",
     "text": [
      "Train: loss = 0.6930622700299306, top 1 = 0.97235, top 5 = 0.9765199999999581, top 10 = 0.9718549999999933, kendal = 0.8981768002618541\n"
     ]
    },
    {
     "name": "stderr",
     "output_type": "stream",
     "text": [
      "100%|██████████| 4/4 [00:01<00:00,  3.27it/s]\n",
      "  0%|          | 0/313 [00:00<?, ?it/s]"
     ]
    },
    {
     "name": "stdout",
     "output_type": "stream",
     "text": [
      "Valid: loss = 0.6930672912210873, top 1 = 0.945, top 5 = 0.9750000000000003, top 10 = 0.9685000000000009, kendal = 0.8975896025032634\n",
      "\n",
      "Epoch: 92\n"
     ]
    },
    {
     "name": "stderr",
     "output_type": "stream",
     "text": [
      "100%|██████████| 313/313 [02:08<00:00,  2.43it/s]\n",
      "100%|██████████| 313/313 [02:08<00:00,  2.43it/s]\n",
      "  0%|          | 0/4 [00:00<?, ?it/s]"
     ]
    },
    {
     "name": "stdout",
     "output_type": "stream",
     "text": [
      "Train: loss = 0.693062284679925, top 1 = 0.9723, top 5 = 0.9764599999999577, top 10 = 0.9717649999999923, kendal = 0.8978550593457026\n"
     ]
    },
    {
     "name": "stderr",
     "output_type": "stream",
     "text": [
      "100%|██████████| 4/4 [00:01<00:00,  3.24it/s]\n",
      "  0%|          | 0/313 [00:00<?, ?it/s]"
     ]
    },
    {
     "name": "stdout",
     "output_type": "stream",
     "text": [
      "Valid: loss = 0.6930646324535633, top 1 = 0.95, top 5 = 0.9740000000000002, top 10 = 0.9690000000000011, kendal = 0.8972137241921506\n",
      "\n",
      "Epoch: 93\n"
     ]
    },
    {
     "name": "stderr",
     "output_type": "stream",
     "text": [
      "100%|██████████| 313/313 [02:27<00:00,  2.12it/s]\n",
      "100%|██████████| 313/313 [01:50<00:00,  2.82it/s]\n",
      "  0%|          | 0/4 [00:00<?, ?it/s]"
     ]
    },
    {
     "name": "stdout",
     "output_type": "stream",
     "text": [
      "Train: loss = 0.6930624429939065, top 1 = 0.9723, top 5 = 0.9766299999999583, top 10 = 0.9719199999999933, kendal = 0.8983667633268806\n"
     ]
    },
    {
     "name": "stderr",
     "output_type": "stream",
     "text": [
      "100%|██████████| 4/4 [00:01<00:00,  3.04it/s]\n",
      "  0%|          | 0/313 [00:00<?, ?it/s]"
     ]
    },
    {
     "name": "stdout",
     "output_type": "stream",
     "text": [
      "Valid: loss = 0.6930661471385642, top 1 = 0.95, top 5 = 0.9740000000000002, top 10 = 0.968500000000001, kendal = 0.8977282960211055\n",
      "\n",
      "Epoch: 94\n"
     ]
    },
    {
     "name": "stderr",
     "output_type": "stream",
     "text": [
      "100%|██████████| 313/313 [02:36<00:00,  2.00it/s]\n",
      "100%|██████████| 313/313 [02:01<00:00,  2.57it/s]\n",
      "  0%|          | 0/4 [00:00<?, ?it/s]"
     ]
    },
    {
     "name": "stdout",
     "output_type": "stream",
     "text": [
      "Train: loss = 0.6930622287677219, top 1 = 0.97235, top 5 = 0.976549999999958, top 10 = 0.9718499999999932, kendal = 0.8986948684164335\n"
     ]
    },
    {
     "name": "stderr",
     "output_type": "stream",
     "text": [
      "100%|██████████| 4/4 [00:01<00:00,  3.70it/s]\n",
      "  0%|          | 0/313 [00:00<?, ?it/s]"
     ]
    },
    {
     "name": "stdout",
     "output_type": "stream",
     "text": [
      "Valid: loss = 0.6930653766569105, top 1 = 0.955, top 5 = 0.9730000000000003, top 10 = 0.9675000000000011, kendal = 0.8979423668779211\n",
      "\n",
      "Epoch: 95\n"
     ]
    },
    {
     "name": "stderr",
     "output_type": "stream",
     "text": [
      "100%|██████████| 313/313 [02:11<00:00,  2.38it/s]\n",
      "100%|██████████| 313/313 [02:24<00:00,  2.17it/s]\n",
      "  0%|          | 0/4 [00:00<?, ?it/s]"
     ]
    },
    {
     "name": "stdout",
     "output_type": "stream",
     "text": [
      "Train: loss = 0.6930622813658265, top 1 = 0.97205, top 5 = 0.9767799999999582, top 10 = 0.9720299999999937, kendal = 0.8982648505333127\n"
     ]
    },
    {
     "name": "stderr",
     "output_type": "stream",
     "text": [
      "100%|██████████| 4/4 [00:01<00:00,  3.70it/s]\n",
      "  0%|          | 0/313 [00:00<?, ?it/s]"
     ]
    },
    {
     "name": "stdout",
     "output_type": "stream",
     "text": [
      "Valid: loss = 0.6930657770760518, top 1 = 0.945, top 5 = 0.9750000000000003, top 10 = 0.9685000000000009, kendal = 0.8975946276288914\n",
      "\n",
      "Epoch: 96\n"
     ]
    },
    {
     "name": "stderr",
     "output_type": "stream",
     "text": [
      "100%|██████████| 313/313 [01:46<00:00,  2.95it/s]\n",
      "100%|██████████| 313/313 [02:28<00:00,  2.11it/s]\n",
      "  0%|          | 0/4 [00:00<?, ?it/s]"
     ]
    },
    {
     "name": "stdout",
     "output_type": "stream",
     "text": [
      "Train: loss = 0.6930623220756122, top 1 = 0.9723, top 5 = 0.976499999999958, top 10 = 0.971924999999993, kendal = 0.8981526271604016\n"
     ]
    },
    {
     "name": "stderr",
     "output_type": "stream",
     "text": [
      "100%|██████████| 4/4 [00:01<00:00,  2.45it/s]\n",
      "  0%|          | 0/313 [00:00<?, ?it/s]"
     ]
    },
    {
     "name": "stdout",
     "output_type": "stream",
     "text": [
      "Valid: loss = 0.6930652839514657, top 1 = 0.96, top 5 = 0.9740000000000002, top 10 = 0.970000000000001, kendal = 0.8974860844607727\n",
      "\n",
      "Epoch: 97\n"
     ]
    },
    {
     "name": "stderr",
     "output_type": "stream",
     "text": [
      "100%|██████████| 313/313 [02:05<00:00,  2.50it/s]\n",
      "100%|██████████| 313/313 [02:06<00:00,  2.48it/s]\n",
      "  0%|          | 0/4 [00:00<?, ?it/s]"
     ]
    },
    {
     "name": "stdout",
     "output_type": "stream",
     "text": [
      "Train: loss = 0.6930623927158972, top 1 = 0.9721, top 5 = 0.9765499999999576, top 10 = 0.9719749999999926, kendal = 0.8976254155647643\n"
     ]
    },
    {
     "name": "stderr",
     "output_type": "stream",
     "text": [
      "100%|██████████| 4/4 [00:01<00:00,  2.85it/s]\n",
      "  0%|          | 0/313 [00:00<?, ?it/s]"
     ]
    },
    {
     "name": "stdout",
     "output_type": "stream",
     "text": [
      "Valid: loss = 0.6930664755844822, top 1 = 0.945, top 5 = 0.9750000000000003, top 10 = 0.969500000000001, kendal = 0.8969071907965019\n",
      "\n",
      "Epoch: 98\n"
     ]
    },
    {
     "name": "stderr",
     "output_type": "stream",
     "text": [
      "100%|██████████| 313/313 [02:32<00:00,  2.06it/s]\n",
      "100%|██████████| 313/313 [01:50<00:00,  2.84it/s]\n",
      "  0%|          | 0/4 [00:00<?, ?it/s]"
     ]
    },
    {
     "name": "stdout",
     "output_type": "stream",
     "text": [
      "Train: loss = 0.6930621594988464, top 1 = 0.9725, top 5 = 0.9769099999999584, top 10 = 0.9720999999999942, kendal = 0.8980732547948348\n"
     ]
    },
    {
     "name": "stderr",
     "output_type": "stream",
     "text": [
      "100%|██████████| 4/4 [00:01<00:00,  3.28it/s]\n",
      "  0%|          | 0/313 [00:00<?, ?it/s]"
     ]
    },
    {
     "name": "stdout",
     "output_type": "stream",
     "text": [
      "Valid: loss = 0.693065453460633, top 1 = 0.945, top 5 = 0.9750000000000003, top 10 = 0.9685000000000009, kendal = 0.8973684961675342\n",
      "\n",
      "Epoch: 99\n"
     ]
    },
    {
     "name": "stderr",
     "output_type": "stream",
     "text": [
      "100%|██████████| 313/313 [02:32<00:00,  2.06it/s]\n",
      "100%|██████████| 313/313 [02:05<00:00,  2.49it/s]\n",
      "  0%|          | 0/4 [00:00<?, ?it/s]"
     ]
    },
    {
     "name": "stdout",
     "output_type": "stream",
     "text": [
      "Train: loss = 0.6930622886937838, top 1 = 0.97245, top 5 = 0.9768899999999585, top 10 = 0.9719499999999937, kendal = 0.8983922954538724\n"
     ]
    },
    {
     "name": "stderr",
     "output_type": "stream",
     "text": [
      "100%|██████████| 4/4 [00:01<00:00,  3.29it/s]\n",
      "  0%|          | 0/313 [00:00<?, ?it/s]"
     ]
    },
    {
     "name": "stdout",
     "output_type": "stream",
     "text": [
      "Valid: loss = 0.6930641687364865, top 1 = 0.95, top 5 = 0.9750000000000003, top 10 = 0.969500000000001, kendal = 0.8976237729787422\n",
      "\n",
      "Epoch: 100\n"
     ]
    },
    {
     "name": "stderr",
     "output_type": "stream",
     "text": [
      "100%|██████████| 313/313 [02:12<00:00,  2.36it/s]\n",
      "100%|██████████| 313/313 [02:22<00:00,  2.20it/s]\n",
      "  0%|          | 0/4 [00:00<?, ?it/s]"
     ]
    },
    {
     "name": "stdout",
     "output_type": "stream",
     "text": [
      "Train: loss = 0.693062252968793, top 1 = 0.9724, top 5 = 0.9767999999999587, top 10 = 0.971969999999993, kendal = 0.898398315598321\n"
     ]
    },
    {
     "name": "stderr",
     "output_type": "stream",
     "text": [
      "100%|██████████| 4/4 [00:01<00:00,  3.05it/s]\n",
      "  0%|          | 0/313 [00:00<?, ?it/s]"
     ]
    },
    {
     "name": "stdout",
     "output_type": "stream",
     "text": [
      "Valid: loss = 0.6930655581084382, top 1 = 0.955, top 5 = 0.9740000000000002, top 10 = 0.9690000000000011, kendal = 0.8977363362473635\n",
      "\n",
      "Epoch: 101\n"
     ]
    },
    {
     "name": "stderr",
     "output_type": "stream",
     "text": [
      "100%|██████████| 313/313 [01:58<00:00,  2.64it/s]\n",
      "100%|██████████| 313/313 [02:13<00:00,  2.35it/s]\n",
      "  0%|          | 0/4 [00:00<?, ?it/s]"
     ]
    },
    {
     "name": "stdout",
     "output_type": "stream",
     "text": [
      "Train: loss = 0.6930623699611548, top 1 = 0.9724, top 5 = 0.9767199999999581, top 10 = 0.9719349999999934, kendal = 0.8981835418102891\n"
     ]
    },
    {
     "name": "stderr",
     "output_type": "stream",
     "text": [
      "100%|██████████| 4/4 [00:01<00:00,  2.71it/s]\n",
      "  0%|          | 0/313 [00:00<?, ?it/s]"
     ]
    },
    {
     "name": "stdout",
     "output_type": "stream",
     "text": [
      "Valid: loss = 0.6930672813647933, top 1 = 0.95, top 5 = 0.9750000000000003, top 10 = 0.9680000000000011, kendal = 0.8976026676026211\n",
      "\n",
      "Epoch: 102\n"
     ]
    },
    {
     "name": "stderr",
     "output_type": "stream",
     "text": [
      "100%|██████████| 313/313 [02:23<00:00,  2.19it/s]\n",
      "100%|██████████| 313/313 [01:48<00:00,  2.89it/s]\n",
      "  0%|          | 0/4 [00:00<?, ?it/s]"
     ]
    },
    {
     "name": "stdout",
     "output_type": "stream",
     "text": [
      "Train: loss = 0.6930625789676916, top 1 = 0.9724, top 5 = 0.9767999999999584, top 10 = 0.9720049999999936, kendal = 0.8982115161372282\n"
     ]
    },
    {
     "name": "stderr",
     "output_type": "stream",
     "text": [
      "100%|██████████| 4/4 [00:01<00:00,  2.68it/s]\n",
      "  0%|          | 0/313 [00:00<?, ?it/s]"
     ]
    },
    {
     "name": "stdout",
     "output_type": "stream",
     "text": [
      "Valid: loss = 0.6930649978496937, top 1 = 0.95, top 5 = 0.9750000000000003, top 10 = 0.968500000000001, kendal = 0.8974760343105277\n",
      "\n",
      "Epoch: 103\n"
     ]
    },
    {
     "name": "stderr",
     "output_type": "stream",
     "text": [
      "100%|██████████| 313/313 [02:49<00:00,  1.85it/s]\n",
      "100%|██████████| 313/313 [01:39<00:00,  3.16it/s]\n",
      "  0%|          | 0/4 [00:00<?, ?it/s]"
     ]
    },
    {
     "name": "stdout",
     "output_type": "stream",
     "text": [
      "Train: loss = 0.6930624056293329, top 1 = 0.9724, top 5 = 0.9767999999999584, top 10 = 0.9720149999999934, kendal = 0.8984405947319095\n"
     ]
    },
    {
     "name": "stderr",
     "output_type": "stream",
     "text": [
      "100%|██████████| 4/4 [00:01<00:00,  3.43it/s]\n",
      "  0%|          | 0/313 [00:00<?, ?it/s]"
     ]
    },
    {
     "name": "stdout",
     "output_type": "stream",
     "text": [
      "Valid: loss = 0.6930671568526282, top 1 = 0.955, top 5 = 0.9740000000000002, top 10 = 0.9690000000000011, kendal = 0.8977242757690863\n",
      "\n",
      "Epoch: 104\n"
     ]
    },
    {
     "name": "stderr",
     "output_type": "stream",
     "text": [
      "100%|██████████| 313/313 [02:41<00:00,  1.94it/s]\n",
      "100%|██████████| 313/313 [01:58<00:00,  2.65it/s]\n",
      "  0%|          | 0/4 [00:00<?, ?it/s]"
     ]
    },
    {
     "name": "stdout",
     "output_type": "stream",
     "text": [
      "Train: loss = 0.6930623135456436, top 1 = 0.97225, top 5 = 0.9769299999999584, top 10 = 0.9721399999999945, kendal = 0.8982910638357698\n"
     ]
    },
    {
     "name": "stderr",
     "output_type": "stream",
     "text": [
      "100%|██████████| 4/4 [00:01<00:00,  3.28it/s]\n",
      "  0%|          | 0/313 [00:00<?, ?it/s]"
     ]
    },
    {
     "name": "stdout",
     "output_type": "stream",
     "text": [
      "Valid: loss = 0.6930647164008177, top 1 = 0.955, top 5 = 0.9750000000000003, top 10 = 0.9680000000000011, kendal = 0.8976086983341903\n",
      "\n",
      "Epoch: 105\n"
     ]
    },
    {
     "name": "stderr",
     "output_type": "stream",
     "text": [
      "100%|██████████| 313/313 [02:24<00:00,  2.16it/s]\n",
      "100%|██████████| 313/313 [02:13<00:00,  2.35it/s]\n",
      "  0%|          | 0/4 [00:00<?, ?it/s]"
     ]
    },
    {
     "name": "stdout",
     "output_type": "stream",
     "text": [
      "Train: loss = 0.6930623881698008, top 1 = 0.97215, top 5 = 0.9769499999999586, top 10 = 0.9720449999999946, kendal = 0.8981912526001794\n"
     ]
    },
    {
     "name": "stderr",
     "output_type": "stream",
     "text": [
      "100%|██████████| 4/4 [00:01<00:00,  3.28it/s]\n",
      "  0%|          | 0/313 [00:00<?, ?it/s]"
     ]
    },
    {
     "name": "stdout",
     "output_type": "stream",
     "text": [
      "Valid: loss = 0.6930669356138689, top 1 = 0.96, top 5 = 0.9750000000000003, top 10 = 0.9685000000000009, kendal = 0.8975644769256285\n",
      "\n",
      "Epoch: 106\n"
     ]
    },
    {
     "name": "stderr",
     "output_type": "stream",
     "text": [
      "100%|██████████| 313/313 [01:33<00:00,  3.34it/s]\n",
      "100%|██████████| 313/313 [01:44<00:00,  3.01it/s]\n",
      "  0%|          | 0/4 [00:00<?, ?it/s]"
     ]
    },
    {
     "name": "stdout",
     "output_type": "stream",
     "text": [
      "Train: loss = 0.693062297459179, top 1 = 0.9724, top 5 = 0.9769499999999586, top 10 = 0.9721599999999938, kendal = 0.8984434882720421\n"
     ]
    },
    {
     "name": "stderr",
     "output_type": "stream",
     "text": [
      "100%|██████████| 4/4 [00:01<00:00,  2.76it/s]\n",
      "  0%|          | 0/313 [00:00<?, ?it/s]"
     ]
    },
    {
     "name": "stdout",
     "output_type": "stream",
     "text": [
      "Valid: loss = 0.693065518919062, top 1 = 0.955, top 5 = 0.9750000000000003, top 10 = 0.9675000000000011, kendal = 0.8976860846880481\n",
      "\n",
      "Epoch: 107\n"
     ]
    },
    {
     "name": "stderr",
     "output_type": "stream",
     "text": [
      "100%|██████████| 313/313 [02:05<00:00,  2.50it/s]\n",
      "100%|██████████| 313/313 [01:19<00:00,  3.94it/s]\n",
      "  0%|          | 0/4 [00:00<?, ?it/s]"
     ]
    },
    {
     "name": "stdout",
     "output_type": "stream",
     "text": [
      "Train: loss = 0.6930624695974762, top 1 = 0.97255, top 5 = 0.9768799999999584, top 10 = 0.9722099999999942, kendal = 0.8982728660798553\n"
     ]
    },
    {
     "name": "stderr",
     "output_type": "stream",
     "text": [
      "100%|██████████| 4/4 [00:01<00:00,  3.30it/s]\n",
      "  0%|          | 0/313 [00:00<?, ?it/s]"
     ]
    },
    {
     "name": "stdout",
     "output_type": "stream",
     "text": [
      "Valid: loss = 0.693066672458189, top 1 = 0.96, top 5 = 0.9750000000000003, top 10 = 0.9680000000000011, kendal = 0.8976006572493354\n",
      "\n",
      "Epoch: 108\n"
     ]
    },
    {
     "name": "stderr",
     "output_type": "stream",
     "text": [
      "100%|██████████| 313/313 [02:22<00:00,  2.20it/s]\n",
      "100%|██████████| 313/313 [01:22<00:00,  3.81it/s]\n",
      "  0%|          | 0/4 [00:00<?, ?it/s]"
     ]
    },
    {
     "name": "stdout",
     "output_type": "stream",
     "text": [
      "Train: loss = 0.6930623357539557, top 1 = 0.97235, top 5 = 0.9768999999999586, top 10 = 0.9722999999999944, kendal = 0.8985696746564429\n"
     ]
    },
    {
     "name": "stderr",
     "output_type": "stream",
     "text": [
      "100%|██████████| 4/4 [00:00<00:00,  4.34it/s]\n",
      "  0%|          | 0/313 [00:00<?, ?it/s]"
     ]
    },
    {
     "name": "stdout",
     "output_type": "stream",
     "text": [
      "Valid: loss = 0.6930654518594899, top 1 = 0.945, top 5 = 0.9750000000000003, top 10 = 0.968500000000001, kendal = 0.8977293000108656\n",
      "\n",
      "Epoch: 109\n"
     ]
    },
    {
     "name": "stderr",
     "output_type": "stream",
     "text": [
      "100%|██████████| 313/313 [02:01<00:00,  2.57it/s]\n",
      "100%|██████████| 313/313 [01:47<00:00,  2.91it/s]\n",
      "  0%|          | 0/4 [00:00<?, ?it/s]"
     ]
    },
    {
     "name": "stdout",
     "output_type": "stream",
     "text": [
      "Train: loss = 0.6930623968296262, top 1 = 0.9726, top 5 = 0.9770999999999589, top 10 = 0.9720999999999939, kendal = 0.8986503146529538\n"
     ]
    },
    {
     "name": "stderr",
     "output_type": "stream",
     "text": [
      "100%|██████████| 4/4 [00:00<00:00,  4.87it/s]\n",
      "  0%|          | 0/313 [00:00<?, ?it/s]"
     ]
    },
    {
     "name": "stdout",
     "output_type": "stream",
     "text": [
      "Valid: loss = 0.6930669808358509, top 1 = 0.95, top 5 = 0.9750000000000003, top 10 = 0.9690000000000011, kendal = 0.8977825665445461\n",
      "\n",
      "Epoch: 110\n"
     ]
    },
    {
     "name": "stderr",
     "output_type": "stream",
     "text": [
      "100%|██████████| 313/313 [01:37<00:00,  3.21it/s]\n",
      "100%|██████████| 313/313 [01:52<00:00,  2.79it/s]\n",
      "  0%|          | 0/4 [00:00<?, ?it/s]"
     ]
    },
    {
     "name": "stdout",
     "output_type": "stream",
     "text": [
      "Train: loss = 0.6930623250854495, top 1 = 0.97255, top 5 = 0.9767699999999587, top 10 = 0.9722499999999938, kendal = 0.8983448336877314\n"
     ]
    },
    {
     "name": "stderr",
     "output_type": "stream",
     "text": [
      "100%|██████████| 4/4 [00:01<00:00,  3.17it/s]\n",
      "  0%|          | 0/313 [00:00<?, ?it/s]"
     ]
    },
    {
     "name": "stdout",
     "output_type": "stream",
     "text": [
      "Valid: loss = 0.6930666659611441, top 1 = 0.95, top 5 = 0.9750000000000003, top 10 = 0.968500000000001, kendal = 0.897598646441499\n",
      "\n",
      "Epoch: 111\n"
     ]
    },
    {
     "name": "stderr",
     "output_type": "stream",
     "text": [
      "100%|██████████| 313/313 [01:56<00:00,  2.68it/s]\n",
      "100%|██████████| 313/313 [01:24<00:00,  3.71it/s]\n",
      "  0%|          | 0/4 [00:00<?, ?it/s]"
     ]
    },
    {
     "name": "stdout",
     "output_type": "stream",
     "text": [
      "Train: loss = 0.6930624062681542, top 1 = 0.97225, top 5 = 0.9771199999999591, top 10 = 0.9723749999999949, kendal = 0.8984156980999989\n"
     ]
    },
    {
     "name": "stderr",
     "output_type": "stream",
     "text": [
      "100%|██████████| 4/4 [00:01<00:00,  2.77it/s]\n",
      "  0%|          | 0/313 [00:00<?, ?it/s]"
     ]
    },
    {
     "name": "stdout",
     "output_type": "stream",
     "text": [
      "Valid: loss = 0.6930652506613145, top 1 = 0.95, top 5 = 0.9740000000000003, top 10 = 0.9690000000000009, kendal = 0.8977946263662494\n",
      "\n",
      "Epoch: 112\n"
     ]
    },
    {
     "name": "stderr",
     "output_type": "stream",
     "text": [
      "100%|██████████| 313/313 [02:23<00:00,  2.18it/s]\n",
      "100%|██████████| 313/313 [01:09<00:00,  4.50it/s]\n",
      "  0%|          | 0/4 [00:00<?, ?it/s]"
     ]
    },
    {
     "name": "stdout",
     "output_type": "stream",
     "text": [
      "Train: loss = 0.6930622139765633, top 1 = 0.9724, top 5 = 0.9766799999999588, top 10 = 0.9722199999999932, kendal = 0.8984214513443931\n"
     ]
    },
    {
     "name": "stderr",
     "output_type": "stream",
     "text": [
      "100%|██████████| 4/4 [00:00<00:00,  4.84it/s]\n",
      "  0%|          | 0/313 [00:00<?, ?it/s]"
     ]
    },
    {
     "name": "stdout",
     "output_type": "stream",
     "text": [
      "Valid: loss = 0.6930678093852356, top 1 = 0.955, top 5 = 0.9740000000000002, top 10 = 0.968500000000001, kendal = 0.8975192485727257\n",
      "\n",
      "Epoch: 113\n"
     ]
    },
    {
     "name": "stderr",
     "output_type": "stream",
     "text": [
      "100%|██████████| 313/313 [02:13<00:00,  2.34it/s]\n",
      "100%|██████████| 313/313 [01:34<00:00,  3.30it/s]\n",
      "  0%|          | 0/4 [00:00<?, ?it/s]"
     ]
    },
    {
     "name": "stdout",
     "output_type": "stream",
     "text": [
      "Train: loss = 0.6930622493615916, top 1 = 0.97255, top 5 = 0.9770899999999593, top 10 = 0.9724299999999948, kendal = 0.8979749890214751\n"
     ]
    },
    {
     "name": "stderr",
     "output_type": "stream",
     "text": [
      "100%|██████████| 4/4 [00:00<00:00,  4.60it/s]\n",
      "  0%|          | 0/313 [00:00<?, ?it/s]"
     ]
    },
    {
     "name": "stdout",
     "output_type": "stream",
     "text": [
      "Valid: loss = 0.6930646741205087, top 1 = 0.945, top 5 = 0.9750000000000003, top 10 = 0.9705000000000008, kendal = 0.8972328168664724\n",
      "\n",
      "Epoch: 114\n"
     ]
    },
    {
     "name": "stderr",
     "output_type": "stream",
     "text": [
      "100%|██████████| 313/313 [01:49<00:00,  2.86it/s]\n",
      "100%|██████████| 313/313 [01:51<00:00,  2.81it/s]\n",
      "  0%|          | 0/4 [00:00<?, ?it/s]"
     ]
    },
    {
     "name": "stdout",
     "output_type": "stream",
     "text": [
      "Train: loss = 0.6930620861861682, top 1 = 0.9725, top 5 = 0.9771199999999594, top 10 = 0.9723399999999947, kendal = 0.8986470771639202\n"
     ]
    },
    {
     "name": "stderr",
     "output_type": "stream",
     "text": [
      "100%|██████████| 4/4 [00:01<00:00,  3.29it/s]\n",
      "  0%|          | 0/313 [00:00<?, ?it/s]"
     ]
    },
    {
     "name": "stdout",
     "output_type": "stream",
     "text": [
      "Valid: loss = 0.6930643297334648, top 1 = 0.955, top 5 = 0.9760000000000004, top 10 = 0.968500000000001, kendal = 0.8979755304595642\n",
      "\n",
      "Epoch: 115\n"
     ]
    },
    {
     "name": "stderr",
     "output_type": "stream",
     "text": [
      "100%|██████████| 313/313 [01:49<00:00,  2.85it/s]\n",
      "100%|██████████| 313/313 [01:34<00:00,  3.32it/s]\n",
      "  0%|          | 0/4 [00:00<?, ?it/s]"
     ]
    },
    {
     "name": "stdout",
     "output_type": "stream",
     "text": [
      "Train: loss = 0.6930624467604439, top 1 = 0.97235, top 5 = 0.9771299999999592, top 10 = 0.9724049999999949, kendal = 0.8984639035955925\n"
     ]
    },
    {
     "name": "stderr",
     "output_type": "stream",
     "text": [
      "100%|██████████| 4/4 [00:01<00:00,  3.86it/s]\n",
      "  0%|          | 0/313 [00:00<?, ?it/s]"
     ]
    },
    {
     "name": "stdout",
     "output_type": "stream",
     "text": [
      "Valid: loss = 0.693065309522654, top 1 = 0.95, top 5 = 0.9750000000000003, top 10 = 0.9675000000000011, kendal = 0.8976298012860383\n",
      "\n",
      "Epoch: 116\n"
     ]
    },
    {
     "name": "stderr",
     "output_type": "stream",
     "text": [
      "100%|██████████| 313/313 [02:14<00:00,  2.32it/s]\n",
      "100%|██████████| 313/313 [01:10<00:00,  4.44it/s]\n",
      "  0%|          | 0/4 [00:00<?, ?it/s]"
     ]
    },
    {
     "name": "stdout",
     "output_type": "stream",
     "text": [
      "Train: loss = 0.6930623078704646, top 1 = 0.9726, top 5 = 0.9769799999999592, top 10 = 0.9724149999999947, kendal = 0.8987039460655009\n"
     ]
    },
    {
     "name": "stderr",
     "output_type": "stream",
     "text": [
      "100%|██████████| 4/4 [00:00<00:00,  5.41it/s]\n",
      "  0%|          | 0/313 [00:00<?, ?it/s]"
     ]
    },
    {
     "name": "stdout",
     "output_type": "stream",
     "text": [
      "Valid: loss = 0.6930679244854621, top 1 = 0.945, top 5 = 0.9740000000000003, top 10 = 0.970000000000001, kendal = 0.8979453788724515\n",
      "\n",
      "Epoch: 117\n"
     ]
    },
    {
     "name": "stderr",
     "output_type": "stream",
     "text": [
      "100%|██████████| 313/313 [02:23<00:00,  2.18it/s]\n",
      "100%|██████████| 313/313 [01:26<00:00,  3.62it/s]\n",
      "  0%|          | 0/4 [00:00<?, ?it/s]"
     ]
    },
    {
     "name": "stdout",
     "output_type": "stream",
     "text": [
      "Train: loss = 0.6930625388254911, top 1 = 0.97255, top 5 = 0.9771499999999597, top 10 = 0.9723699999999948, kendal = 0.8984467880444775\n"
     ]
    },
    {
     "name": "stderr",
     "output_type": "stream",
     "text": [
      "100%|██████████| 4/4 [00:00<00:00,  5.41it/s]\n",
      "  0%|          | 0/313 [00:00<?, ?it/s]"
     ]
    },
    {
     "name": "stdout",
     "output_type": "stream",
     "text": [
      "Valid: loss = 0.6930668238613231, top 1 = 0.955, top 5 = 0.9750000000000003, top 10 = 0.9675000000000011, kendal = 0.8977403537215711\n",
      "\n",
      "Epoch: 118\n"
     ]
    },
    {
     "name": "stderr",
     "output_type": "stream",
     "text": [
      "100%|██████████| 313/313 [01:57<00:00,  2.67it/s]\n",
      "100%|██████████| 313/313 [01:52<00:00,  2.77it/s]\n",
      "  0%|          | 0/4 [00:00<?, ?it/s]"
     ]
    },
    {
     "name": "stdout",
     "output_type": "stream",
     "text": [
      "Train: loss = 0.6930622625831109, top 1 = 0.9729, top 5 = 0.9770099999999593, top 10 = 0.9723999999999945, kendal = 0.898771459142665\n"
     ]
    },
    {
     "name": "stderr",
     "output_type": "stream",
     "text": [
      "100%|██████████| 4/4 [00:00<00:00,  6.17it/s]\n",
      "  0%|          | 0/313 [00:00<?, ?it/s]"
     ]
    },
    {
     "name": "stdout",
     "output_type": "stream",
     "text": [
      "Valid: loss = 0.6930665336635883, top 1 = 0.95, top 5 = 0.9740000000000003, top 10 = 0.9680000000000011, kendal = 0.8980378401738963\n",
      "\n",
      "Epoch: 119\n"
     ]
    },
    {
     "name": "stderr",
     "output_type": "stream",
     "text": [
      "100%|██████████| 313/313 [01:38<00:00,  3.19it/s]\n",
      "100%|██████████| 313/313 [01:51<00:00,  2.81it/s]\n",
      "  0%|          | 0/4 [00:00<?, ?it/s]"
     ]
    },
    {
     "name": "stdout",
     "output_type": "stream",
     "text": [
      "Train: loss = 0.6930622754415582, top 1 = 0.97265, top 5 = 0.9770699999999591, top 10 = 0.9723999999999947, kendal = 0.8989313800121654\n"
     ]
    },
    {
     "name": "stderr",
     "output_type": "stream",
     "text": [
      "100%|██████████| 4/4 [00:01<00:00,  3.52it/s]\n",
      "  0%|          | 0/313 [00:00<?, ?it/s]"
     ]
    },
    {
     "name": "stdout",
     "output_type": "stream",
     "text": [
      "Valid: loss = 0.6930682126737118, top 1 = 0.95, top 5 = 0.9750000000000003, top 10 = 0.968500000000001, kendal = 0.8981624635672548\n",
      "\n",
      "Epoch: 120\n"
     ]
    },
    {
     "name": "stderr",
     "output_type": "stream",
     "text": [
      "100%|██████████| 313/313 [01:58<00:00,  2.63it/s]\n",
      "100%|██████████| 313/313 [01:29<00:00,  3.51it/s]\n",
      "  0%|          | 0/4 [00:00<?, ?it/s]"
     ]
    },
    {
     "name": "stdout",
     "output_type": "stream",
     "text": [
      "Train: loss = 0.6930623850981976, top 1 = 0.97255, top 5 = 0.9771299999999593, top 10 = 0.972429999999995, kendal = 0.8986011799201812\n"
     ]
    },
    {
     "name": "stderr",
     "output_type": "stream",
     "text": [
      "100%|██████████| 4/4 [00:01<00:00,  3.27it/s]\n",
      "  0%|          | 0/313 [00:00<?, ?it/s]"
     ]
    },
    {
     "name": "stdout",
     "output_type": "stream",
     "text": [
      "Valid: loss = 0.6930647882983172, top 1 = 0.945, top 5 = 0.9750000000000003, top 10 = 0.9675000000000011, kendal = 0.897615728585766\n",
      "\n",
      "Epoch: 121\n"
     ]
    },
    {
     "name": "stderr",
     "output_type": "stream",
     "text": [
      "100%|██████████| 313/313 [02:21<00:00,  2.21it/s]\n",
      "100%|██████████| 313/313 [01:16<00:00,  4.08it/s]\n",
      "  0%|          | 0/4 [00:00<?, ?it/s]"
     ]
    },
    {
     "name": "stdout",
     "output_type": "stream",
     "text": [
      "Train: loss = 0.6930626741088713, top 1 = 0.9726, top 5 = 0.9770699999999594, top 10 = 0.9724249999999948, kendal = 0.8986908852261553\n"
     ]
    },
    {
     "name": "stderr",
     "output_type": "stream",
     "text": [
      "100%|██████████| 4/4 [00:00<00:00,  6.14it/s]\n",
      "  0%|          | 0/313 [00:00<?, ?it/s]"
     ]
    },
    {
     "name": "stdout",
     "output_type": "stream",
     "text": [
      "Valid: loss = 0.693064712027929, top 1 = 0.955, top 5 = 0.9740000000000003, top 10 = 0.967500000000001, kendal = 0.897856936105834\n",
      "\n",
      "Epoch: 122\n"
     ]
    },
    {
     "name": "stderr",
     "output_type": "stream",
     "text": [
      "100%|██████████| 313/313 [02:08<00:00,  2.43it/s]\n",
      "100%|██████████| 313/313 [01:41<00:00,  3.10it/s]\n",
      "  0%|          | 0/4 [00:00<?, ?it/s]"
     ]
    },
    {
     "name": "stdout",
     "output_type": "stream",
     "text": [
      "Train: loss = 0.6930623270321199, top 1 = 0.97255, top 5 = 0.9771599999999596, top 10 = 0.9724549999999954, kendal = 0.899057272765079\n"
     ]
    },
    {
     "name": "stderr",
     "output_type": "stream",
     "text": [
      "100%|██████████| 4/4 [00:00<00:00,  5.25it/s]\n",
      "  0%|          | 1/313 [00:00<00:46,  6.76it/s]"
     ]
    },
    {
     "name": "stdout",
     "output_type": "stream",
     "text": [
      "Valid: loss = 0.6930657348200865, top 1 = 0.95, top 5 = 0.9740000000000003, top 10 = 0.9675000000000011, kendal = 0.8981554277600549\n",
      "\n",
      "Epoch: 123\n"
     ]
    },
    {
     "name": "stderr",
     "output_type": "stream",
     "text": [
      "100%|██████████| 313/313 [01:41<00:00,  3.08it/s]\n",
      "100%|██████████| 313/313 [02:00<00:00,  2.60it/s]\n",
      " 25%|██▌       | 1/4 [00:00<00:00,  5.58it/s]"
     ]
    },
    {
     "name": "stdout",
     "output_type": "stream",
     "text": [
      "Train: loss = 0.6930622609304703, top 1 = 0.9726, top 5 = 0.9772599999999595, top 10 = 0.9725249999999954, kendal = 0.898881269485664\n"
     ]
    },
    {
     "name": "stderr",
     "output_type": "stream",
     "text": [
      "100%|██████████| 4/4 [00:01<00:00,  3.73it/s]\n",
      "  0%|          | 0/313 [00:00<?, ?it/s]"
     ]
    },
    {
     "name": "stdout",
     "output_type": "stream",
     "text": [
      "Valid: loss = 0.6930667993078642, top 1 = 0.95, top 5 = 0.9750000000000004, top 10 = 0.9680000000000011, kendal = 0.898020754822519\n",
      "\n",
      "Epoch: 124\n"
     ]
    },
    {
     "name": "stderr",
     "output_type": "stream",
     "text": [
      "100%|██████████| 313/313 [01:39<00:00,  3.14it/s]\n",
      "100%|██████████| 313/313 [01:45<00:00,  2.96it/s]\n",
      "  0%|          | 0/4 [00:00<?, ?it/s]"
     ]
    },
    {
     "name": "stdout",
     "output_type": "stream",
     "text": [
      "Train: loss = 0.6930624150602038, top 1 = 0.97285, top 5 = 0.9772999999999594, top 10 = 0.9725149999999949, kendal = 0.8986630246707861\n"
     ]
    },
    {
     "name": "stderr",
     "output_type": "stream",
     "text": [
      "100%|██████████| 4/4 [00:01<00:00,  3.61it/s]\n",
      "  0%|          | 0/313 [00:00<?, ?it/s]"
     ]
    },
    {
     "name": "stdout",
     "output_type": "stream",
     "text": [
      "Valid: loss = 0.6930671067351136, top 1 = 0.95, top 5 = 0.9750000000000004, top 10 = 0.9675000000000011, kendal = 0.8977584429616959\n",
      "\n",
      "Epoch: 125\n"
     ]
    },
    {
     "name": "stderr",
     "output_type": "stream",
     "text": [
      "100%|██████████| 313/313 [02:04<00:00,  2.51it/s]\n",
      "100%|██████████| 313/313 [01:22<00:00,  3.81it/s]\n",
      "  0%|          | 0/4 [00:00<?, ?it/s]"
     ]
    },
    {
     "name": "stdout",
     "output_type": "stream",
     "text": [
      "Train: loss = 0.6930624228109129, top 1 = 0.97285, top 5 = 0.9769799999999593, top 10 = 0.9725249999999943, kendal = 0.8987014792858415\n"
     ]
    },
    {
     "name": "stderr",
     "output_type": "stream",
     "text": [
      "100%|██████████| 4/4 [00:01<00:00,  3.84it/s]\n",
      "  0%|          | 0/313 [00:00<?, ?it/s]"
     ]
    },
    {
     "name": "stdout",
     "output_type": "stream",
     "text": [
      "Valid: loss = 0.6930653385967617, top 1 = 0.945, top 5 = 0.9750000000000003, top 10 = 0.9690000000000011, kendal = 0.8979393473580446\n",
      "\n",
      "Epoch: 126\n"
     ]
    },
    {
     "name": "stderr",
     "output_type": "stream",
     "text": [
      "100%|██████████| 313/313 [02:17<00:00,  2.28it/s]\n",
      "100%|██████████| 313/313 [01:32<00:00,  3.40it/s]\n",
      "  0%|          | 0/4 [00:00<?, ?it/s]"
     ]
    },
    {
     "name": "stdout",
     "output_type": "stream",
     "text": [
      "Train: loss = 0.69306234216679, top 1 = 0.9727, top 5 = 0.9771899999999596, top 10 = 0.9725249999999953, kendal = 0.8986858556521254\n"
     ]
    },
    {
     "name": "stderr",
     "output_type": "stream",
     "text": [
      "100%|██████████| 4/4 [00:00<00:00,  5.83it/s]\n",
      "  0%|          | 0/313 [00:00<?, ?it/s]"
     ]
    },
    {
     "name": "stdout",
     "output_type": "stream",
     "text": [
      "Valid: loss = 0.6930683318737054, top 1 = 0.955, top 5 = 0.9750000000000003, top 10 = 0.9680000000000011, kendal = 0.8978549250959746\n",
      "\n",
      "Epoch: 127\n"
     ]
    },
    {
     "name": "stderr",
     "output_type": "stream",
     "text": [
      "100%|██████████| 313/313 [01:49<00:00,  2.87it/s]\n",
      "100%|██████████| 313/313 [01:57<00:00,  2.66it/s]\n",
      "  0%|          | 0/4 [00:00<?, ?it/s]"
     ]
    },
    {
     "name": "stdout",
     "output_type": "stream",
     "text": [
      "Train: loss = 0.6930623613625677, top 1 = 0.97285, top 5 = 0.9772299999999595, top 10 = 0.9726499999999951, kendal = 0.8986279159564119\n"
     ]
    },
    {
     "name": "stderr",
     "output_type": "stream",
     "text": [
      "100%|██████████| 4/4 [00:00<00:00,  5.57it/s]\n",
      "  0%|          | 1/313 [00:00<00:47,  6.62it/s]"
     ]
    },
    {
     "name": "stdout",
     "output_type": "stream",
     "text": [
      "Valid: loss = 0.6930688270941917, top 1 = 0.945, top 5 = 0.9740000000000003, top 10 = 0.968500000000001, kendal = 0.897738341575334\n",
      "\n",
      "Epoch: 128\n"
     ]
    },
    {
     "name": "stderr",
     "output_type": "stream",
     "text": [
      "100%|██████████| 313/313 [01:23<00:00,  3.74it/s]\n",
      "100%|██████████| 313/313 [01:51<00:00,  2.82it/s]\n",
      "  0%|          | 0/4 [00:00<?, ?it/s]"
     ]
    },
    {
     "name": "stdout",
     "output_type": "stream",
     "text": [
      "Train: loss = 0.6930625618411599, top 1 = 0.97265, top 5 = 0.9770599999999591, top 10 = 0.972514999999995, kendal = 0.8985895038617692\n"
     ]
    },
    {
     "name": "stderr",
     "output_type": "stream",
     "text": [
      "100%|██████████| 4/4 [00:01<00:00,  3.81it/s]\n",
      "  0%|          | 0/313 [00:00<?, ?it/s]"
     ]
    },
    {
     "name": "stdout",
     "output_type": "stream",
     "text": [
      "Valid: loss = 0.6930652191415981, top 1 = 0.95, top 5 = 0.9750000000000003, top 10 = 0.9680000000000011, kendal = 0.8977534170784822\n",
      "\n",
      "Epoch: 129\n"
     ]
    },
    {
     "name": "stderr",
     "output_type": "stream",
     "text": [
      "100%|██████████| 313/313 [01:55<00:00,  2.71it/s]\n",
      "100%|██████████| 313/313 [01:25<00:00,  3.66it/s]\n",
      "  0%|          | 0/4 [00:00<?, ?it/s]"
     ]
    },
    {
     "name": "stdout",
     "output_type": "stream",
     "text": [
      "Train: loss = 0.6930622942191682, top 1 = 0.9728, top 5 = 0.9770299999999593, top 10 = 0.9724999999999949, kendal = 0.8989184440970827\n"
     ]
    },
    {
     "name": "stderr",
     "output_type": "stream",
     "text": [
      "100%|██████████| 4/4 [00:01<00:00,  3.26it/s]\n",
      "  0%|          | 0/313 [00:00<?, ?it/s]"
     ]
    },
    {
     "name": "stdout",
     "output_type": "stream",
     "text": [
      "Valid: loss = 0.6930662504167627, top 1 = 0.955, top 5 = 0.9750000000000003, top 10 = 0.968500000000001, kendal = 0.8980157270200896\n",
      "\n",
      "Epoch: 130\n"
     ]
    },
    {
     "name": "stderr",
     "output_type": "stream",
     "text": [
      "100%|██████████| 313/313 [02:11<00:00,  2.38it/s]\n",
      "100%|██████████| 313/313 [01:37<00:00,  3.22it/s]\n",
      "  0%|          | 0/4 [00:00<?, ?it/s]"
     ]
    },
    {
     "name": "stdout",
     "output_type": "stream",
     "text": [
      "Train: loss = 0.693062160166996, top 1 = 0.9727, top 5 = 0.9772099999999593, top 10 = 0.9725899999999952, kendal = 0.8988604363243147\n"
     ]
    },
    {
     "name": "stderr",
     "output_type": "stream",
     "text": [
      "100%|██████████| 4/4 [00:00<00:00,  5.31it/s]\n",
      "  0%|          | 1/313 [00:00<00:48,  6.48it/s]"
     ]
    },
    {
     "name": "stdout",
     "output_type": "stream",
     "text": [
      "Valid: loss = 0.6930641843802653, top 1 = 0.95, top 5 = 0.9750000000000004, top 10 = 0.968500000000001, kendal = 0.8981122107705499\n",
      "\n",
      "Epoch: 131\n"
     ]
    },
    {
     "name": "stderr",
     "output_type": "stream",
     "text": [
      "100%|██████████| 313/313 [01:42<00:00,  3.05it/s]\n",
      "100%|██████████| 313/313 [02:04<00:00,  2.52it/s]\n",
      " 25%|██▌       | 1/4 [00:00<00:00,  7.10it/s]"
     ]
    },
    {
     "name": "stdout",
     "output_type": "stream",
     "text": [
      "Train: loss = 0.6930625025095228, top 1 = 0.9728, top 5 = 0.9772799999999595, top 10 = 0.972514999999995, kendal = 0.8987328013339946\n"
     ]
    },
    {
     "name": "stderr",
     "output_type": "stream",
     "text": [
      "100%|██████████| 4/4 [00:00<00:00,  6.16it/s]\n",
      "  0%|          | 0/313 [00:00<?, ?it/s]"
     ]
    },
    {
     "name": "stdout",
     "output_type": "stream",
     "text": [
      "Valid: loss = 0.6930670001236711, top 1 = 0.95, top 5 = 0.9740000000000003, top 10 = 0.9680000000000011, kendal = 0.8977463809935012\n",
      "\n",
      "Epoch: 132\n"
     ]
    },
    {
     "name": "stderr",
     "output_type": "stream",
     "text": [
      "100%|██████████| 313/313 [01:20<00:00,  3.88it/s]\n",
      "100%|██████████| 313/313 [01:55<00:00,  2.72it/s]\n",
      "  0%|          | 0/4 [00:00<?, ?it/s]"
     ]
    },
    {
     "name": "stdout",
     "output_type": "stream",
     "text": [
      "Train: loss = 0.6930620019131484, top 1 = 0.97295, top 5 = 0.9772899999999598, top 10 = 0.9725549999999954, kendal = 0.8986976724830001\n"
     ]
    },
    {
     "name": "stderr",
     "output_type": "stream",
     "text": [
      "100%|██████████| 4/4 [00:01<00:00,  2.87it/s]\n",
      "  0%|          | 0/313 [00:00<?, ?it/s]"
     ]
    },
    {
     "name": "stdout",
     "output_type": "stream",
     "text": [
      "Valid: loss = 0.693066677632758, top 1 = 0.95, top 5 = 0.9740000000000003, top 10 = 0.9680000000000011, kendal = 0.8978860798900083\n",
      "\n",
      "Epoch: 133\n"
     ]
    },
    {
     "name": "stderr",
     "output_type": "stream",
     "text": [
      "100%|██████████| 313/313 [01:52<00:00,  2.79it/s]\n",
      "100%|██████████| 313/313 [01:29<00:00,  3.49it/s]\n",
      "  0%|          | 0/4 [00:00<?, ?it/s]"
     ]
    },
    {
     "name": "stdout",
     "output_type": "stream",
     "text": [
      "Train: loss = 0.6930621440795437, top 1 = 0.97295, top 5 = 0.9771799999999594, top 10 = 0.9725749999999949, kendal = 0.8988114993469523\n"
     ]
    },
    {
     "name": "stderr",
     "output_type": "stream",
     "text": [
      "100%|██████████| 4/4 [00:01<00:00,  3.28it/s]\n",
      "  0%|          | 0/313 [00:00<?, ?it/s]"
     ]
    },
    {
     "name": "stdout",
     "output_type": "stream",
     "text": [
      "Valid: loss = 0.6930653309513134, top 1 = 0.955, top 5 = 0.9750000000000003, top 10 = 0.969500000000001, kendal = 0.8980096975259098\n",
      "\n",
      "Epoch: 134\n"
     ]
    },
    {
     "name": "stderr",
     "output_type": "stream",
     "text": [
      "100%|██████████| 313/313 [02:10<00:00,  2.40it/s]\n",
      "100%|██████████| 313/313 [01:36<00:00,  3.24it/s]\n",
      "  0%|          | 0/4 [00:00<?, ?it/s]"
     ]
    },
    {
     "name": "stdout",
     "output_type": "stream",
     "text": [
      "Train: loss = 0.6930623407046448, top 1 = 0.9731, top 5 = 0.9773999999999597, top 10 = 0.9725999999999955, kendal = 0.8989775340024174\n"
     ]
    },
    {
     "name": "stderr",
     "output_type": "stream",
     "text": [
      "100%|██████████| 4/4 [00:00<00:00,  4.31it/s]\n",
      "  0%|          | 0/313 [00:00<?, ?it/s]"
     ]
    },
    {
     "name": "stdout",
     "output_type": "stream",
     "text": [
      "Valid: loss = 0.6930656407037431, top 1 = 0.95, top 5 = 0.9740000000000003, top 10 = 0.9690000000000011, kendal = 0.8979996468958612\n",
      "\n",
      "Epoch: 135\n"
     ]
    },
    {
     "name": "stderr",
     "output_type": "stream",
     "text": [
      "100%|██████████| 313/313 [01:44<00:00,  2.98it/s]\n",
      "100%|██████████| 313/313 [02:00<00:00,  2.59it/s]\n",
      "  0%|          | 0/4 [00:00<?, ?it/s]"
     ]
    },
    {
     "name": "stdout",
     "output_type": "stream",
     "text": [
      "Train: loss = 0.6930623824991997, top 1 = 0.97255, top 5 = 0.9771899999999593, top 10 = 0.9726699999999946, kendal = 0.8986744763530973\n"
     ]
    },
    {
     "name": "stderr",
     "output_type": "stream",
     "text": [
      "100%|██████████| 4/4 [00:00<00:00,  4.86it/s]\n",
      "  0%|          | 0/313 [00:00<?, ?it/s]"
     ]
    },
    {
     "name": "stdout",
     "output_type": "stream",
     "text": [
      "Valid: loss = 0.6930668338110801, top 1 = 0.955, top 5 = 0.9740000000000003, top 10 = 0.968500000000001, kendal = 0.897648894111878\n",
      "\n",
      "Epoch: 136\n"
     ]
    },
    {
     "name": "stderr",
     "output_type": "stream",
     "text": [
      "100%|██████████| 313/313 [01:23<00:00,  3.73it/s]\n",
      "100%|██████████| 313/313 [01:53<00:00,  2.76it/s]\n",
      "  0%|          | 0/4 [00:00<?, ?it/s]"
     ]
    },
    {
     "name": "stdout",
     "output_type": "stream",
     "text": [
      "Train: loss = 0.693062277338616, top 1 = 0.97265, top 5 = 0.9772199999999595, top 10 = 0.9725799999999953, kendal = 0.8987195038852548\n"
     ]
    },
    {
     "name": "stderr",
     "output_type": "stream",
     "text": [
      "100%|██████████| 4/4 [00:01<00:00,  3.30it/s]\n",
      "  0%|          | 0/313 [00:00<?, ?it/s]"
     ]
    },
    {
     "name": "stdout",
     "output_type": "stream",
     "text": [
      "Valid: loss = 0.6930663241503225, top 1 = 0.95, top 5 = 0.9740000000000003, top 10 = 0.968500000000001, kendal = 0.8978699991597117\n",
      "\n",
      "Epoch: 137\n"
     ]
    },
    {
     "name": "stderr",
     "output_type": "stream",
     "text": [
      "100%|██████████| 313/313 [01:53<00:00,  2.77it/s]\n",
      "100%|██████████| 313/313 [01:26<00:00,  3.64it/s]\n",
      "  0%|          | 0/4 [00:00<?, ?it/s]"
     ]
    },
    {
     "name": "stdout",
     "output_type": "stream",
     "text": [
      "Train: loss = 0.6930626159264803, top 1 = 0.973, top 5 = 0.9772399999999594, top 10 = 0.9726299999999952, kendal = 0.8987083613741536\n"
     ]
    },
    {
     "name": "stderr",
     "output_type": "stream",
     "text": [
      "100%|██████████| 4/4 [00:01<00:00,  3.30it/s]\n",
      "  0%|          | 0/313 [00:00<?, ?it/s]"
     ]
    },
    {
     "name": "stdout",
     "output_type": "stream",
     "text": [
      "Valid: loss = 0.6930683966623659, top 1 = 0.955, top 5 = 0.9750000000000003, top 10 = 0.9690000000000011, kendal = 0.8977604499311006\n",
      "\n",
      "Epoch: 138\n"
     ]
    },
    {
     "name": "stderr",
     "output_type": "stream",
     "text": [
      "100%|██████████| 313/313 [02:14<00:00,  2.32it/s]\n",
      "100%|██████████| 313/313 [01:29<00:00,  3.49it/s]\n",
      "  0%|          | 0/4 [00:00<?, ?it/s]"
     ]
    },
    {
     "name": "stdout",
     "output_type": "stream",
     "text": [
      "Train: loss = 0.6930623999791219, top 1 = 0.97315, top 5 = 0.97745999999996, top 10 = 0.972529999999995, kendal = 0.8988752726893213\n"
     ]
    },
    {
     "name": "stderr",
     "output_type": "stream",
     "text": [
      "100%|██████████| 4/4 [00:00<00:00,  4.79it/s]\n",
      "  0%|          | 0/313 [00:00<?, ?it/s]"
     ]
    },
    {
     "name": "stdout",
     "output_type": "stream",
     "text": [
      "Valid: loss = 0.693067903112507, top 1 = 0.95, top 5 = 0.9740000000000003, top 10 = 0.969500000000001, kendal = 0.8978468826727202\n",
      "\n",
      "Epoch: 139\n"
     ]
    },
    {
     "name": "stderr",
     "output_type": "stream",
     "text": [
      "100%|██████████| 313/313 [01:53<00:00,  2.77it/s]\n",
      "100%|██████████| 313/313 [01:55<00:00,  2.72it/s]\n",
      "  0%|          | 0/4 [00:00<?, ?it/s]"
     ]
    },
    {
     "name": "stdout",
     "output_type": "stream",
     "text": [
      "Train: loss = 0.6930621683588042, top 1 = 0.97295, top 5 = 0.9774599999999602, top 10 = 0.972674999999995, kendal = 0.8989662274828842\n"
     ]
    },
    {
     "name": "stderr",
     "output_type": "stream",
     "text": [
      "100%|██████████| 4/4 [00:00<00:00,  4.27it/s]\n",
      "  0%|          | 0/313 [00:00<?, ?it/s]"
     ]
    },
    {
     "name": "stdout",
     "output_type": "stream",
     "text": [
      "Valid: loss = 0.6930650731655342, top 1 = 0.945, top 5 = 0.9740000000000003, top 10 = 0.969500000000001, kendal = 0.8979775359895572\n",
      "\n",
      "Epoch: 140\n"
     ]
    },
    {
     "name": "stderr",
     "output_type": "stream",
     "text": [
      "100%|██████████| 313/313 [01:28<00:00,  3.54it/s]\n",
      "100%|██████████| 313/313 [01:54<00:00,  2.74it/s]\n",
      "  0%|          | 0/4 [00:00<?, ?it/s]"
     ]
    },
    {
     "name": "stdout",
     "output_type": "stream",
     "text": [
      "Train: loss = 0.6930623585950981, top 1 = 0.97295, top 5 = 0.9774799999999595, top 10 = 0.972719999999995, kendal = 0.8987347980101278\n"
     ]
    },
    {
     "name": "stderr",
     "output_type": "stream",
     "text": [
      "100%|██████████| 4/4 [00:01<00:00,  3.10it/s]\n",
      "  0%|          | 0/313 [00:00<?, ?it/s]"
     ]
    },
    {
     "name": "stdout",
     "output_type": "stream",
     "text": [
      "Valid: loss = 0.6930685380358544, top 1 = 0.95, top 5 = 0.9740000000000003, top 10 = 0.968500000000001, kendal = 0.8977664807889341\n",
      "\n",
      "Epoch: 141\n"
     ]
    },
    {
     "name": "stderr",
     "output_type": "stream",
     "text": [
      "100%|██████████| 313/313 [01:51<00:00,  2.82it/s]\n",
      "100%|██████████| 313/313 [01:23<00:00,  3.73it/s]\n",
      "  0%|          | 0/4 [00:00<?, ?it/s]"
     ]
    },
    {
     "name": "stdout",
     "output_type": "stream",
     "text": [
      "Train: loss = 0.6930623082645898, top 1 = 0.9727, top 5 = 0.97744999999996, top 10 = 0.9725849999999949, kendal = 0.898624122439801\n"
     ]
    },
    {
     "name": "stderr",
     "output_type": "stream",
     "text": [
      "100%|██████████| 4/4 [00:01<00:00,  3.22it/s]\n",
      "  0%|          | 0/313 [00:00<?, ?it/s]"
     ]
    },
    {
     "name": "stdout",
     "output_type": "stream",
     "text": [
      "Valid: loss = 0.6930659432235841, top 1 = 0.955, top 5 = 0.9750000000000004, top 10 = 0.9690000000000011, kendal = 0.8974649710795017\n",
      "\n",
      "Epoch: 142\n"
     ]
    },
    {
     "name": "stderr",
     "output_type": "stream",
     "text": [
      "100%|██████████| 313/313 [02:15<00:00,  2.30it/s]\n",
      "100%|██████████| 313/313 [01:23<00:00,  3.74it/s]\n",
      "  0%|          | 0/4 [00:00<?, ?it/s]"
     ]
    },
    {
     "name": "stdout",
     "output_type": "stream",
     "text": [
      "Train: loss = 0.6930624326270672, top 1 = 0.97245, top 5 = 0.9773899999999598, top 10 = 0.9727299999999952, kendal = 0.8984965189015338\n"
     ]
    },
    {
     "name": "stderr",
     "output_type": "stream",
     "text": [
      "100%|██████████| 4/4 [00:00<00:00,  4.79it/s]\n",
      "  0%|          | 0/313 [00:00<?, ?it/s]"
     ]
    },
    {
     "name": "stdout",
     "output_type": "stream",
     "text": [
      "Valid: loss = 0.6930651008479353, top 1 = 0.95, top 5 = 0.9750000000000004, top 10 = 0.9690000000000011, kendal = 0.8975202486987996\n",
      "\n",
      "Epoch: 143\n"
     ]
    },
    {
     "name": "stderr",
     "output_type": "stream",
     "text": [
      "100%|██████████| 313/313 [02:15<00:00,  2.31it/s]\n",
      "100%|██████████| 313/313 [02:07<00:00,  2.46it/s]\n",
      "  0%|          | 0/4 [00:00<?, ?it/s]"
     ]
    },
    {
     "name": "stdout",
     "output_type": "stream",
     "text": [
      "Train: loss = 0.6930623720426191, top 1 = 0.97305, top 5 = 0.9774699999999599, top 10 = 0.9727449999999958, kendal = 0.8988818565631452\n"
     ]
    },
    {
     "name": "stderr",
     "output_type": "stream",
     "text": [
      "100%|██████████| 4/4 [00:01<00:00,  3.60it/s]\n",
      "  0%|          | 0/313 [00:00<?, ?it/s]"
     ]
    },
    {
     "name": "stdout",
     "output_type": "stream",
     "text": [
      "Valid: loss = 0.6930661891805968, top 1 = 0.95, top 5 = 0.9750000000000004, top 10 = 0.969500000000001, kendal = 0.8977222583197532\n",
      "\n",
      "Epoch: 144\n"
     ]
    },
    {
     "name": "stderr",
     "output_type": "stream",
     "text": [
      "100%|██████████| 313/313 [01:54<00:00,  2.73it/s]\n",
      "100%|██████████| 313/313 [02:11<00:00,  2.38it/s]\n",
      "  0%|          | 0/4 [00:00<?, ?it/s]"
     ]
    },
    {
     "name": "stdout",
     "output_type": "stream",
     "text": [
      "Train: loss = 0.6930624090153441, top 1 = 0.9729, top 5 = 0.9773299999999594, top 10 = 0.9725999999999944, kendal = 0.8989688807585637\n"
     ]
    },
    {
     "name": "stderr",
     "output_type": "stream",
     "text": [
      "100%|██████████| 4/4 [00:01<00:00,  2.93it/s]\n",
      "  0%|          | 0/313 [00:00<?, ?it/s]"
     ]
    },
    {
     "name": "stdout",
     "output_type": "stream",
     "text": [
      "Valid: loss = 0.6930667617726796, top 1 = 0.95, top 5 = 0.9740000000000003, top 10 = 0.970000000000001, kendal = 0.8979413536708756\n",
      "\n",
      "Epoch: 145\n"
     ]
    },
    {
     "name": "stderr",
     "output_type": "stream",
     "text": [
      "100%|██████████| 313/313 [02:12<00:00,  2.36it/s]\n",
      "100%|██████████| 313/313 [01:45<00:00,  2.96it/s]\n",
      "  0%|          | 0/4 [00:00<?, ?it/s]"
     ]
    },
    {
     "name": "stdout",
     "output_type": "stream",
     "text": [
      "Train: loss = 0.6930624732110444, top 1 = 0.97305, top 5 = 0.9775799999999599, top 10 = 0.9727899999999958, kendal = 0.898426056542252\n"
     ]
    },
    {
     "name": "stderr",
     "output_type": "stream",
     "text": [
      "100%|██████████| 4/4 [00:01<00:00,  2.94it/s]\n",
      "  0%|          | 0/313 [00:00<?, ?it/s]"
     ]
    },
    {
     "name": "stdout",
     "output_type": "stream",
     "text": [
      "Valid: loss = 0.6930682359466819, top 1 = 0.945, top 5 = 0.9750000000000004, top 10 = 0.969500000000001, kendal = 0.8974308008060458\n",
      "\n",
      "Epoch: 146\n"
     ]
    },
    {
     "name": "stderr",
     "output_type": "stream",
     "text": [
      "100%|██████████| 313/313 [02:38<00:00,  1.97it/s]\n",
      "100%|██████████| 313/313 [01:29<00:00,  3.50it/s]\n",
      "  0%|          | 0/4 [00:00<?, ?it/s]"
     ]
    },
    {
     "name": "stdout",
     "output_type": "stream",
     "text": [
      "Train: loss = 0.6930623479856254, top 1 = 0.97285, top 5 = 0.9773599999999598, top 10 = 0.9726199999999949, kendal = 0.8987989209671474\n"
     ]
    },
    {
     "name": "stderr",
     "output_type": "stream",
     "text": [
      "100%|██████████| 4/4 [00:01<00:00,  3.54it/s]\n",
      "  0%|          | 0/313 [00:00<?, ?it/s]"
     ]
    },
    {
     "name": "stdout",
     "output_type": "stream",
     "text": [
      "Valid: loss = 0.6930662638069442, top 1 = 0.95, top 5 = 0.9740000000000003, top 10 = 0.970000000000001, kendal = 0.8977775344743872\n",
      "\n",
      "Epoch: 147\n"
     ]
    },
    {
     "name": "stderr",
     "output_type": "stream",
     "text": [
      "100%|██████████| 313/313 [02:32<00:00,  2.06it/s]\n",
      "100%|██████████| 313/313 [01:53<00:00,  2.75it/s]\n",
      "  0%|          | 0/4 [00:00<?, ?it/s]"
     ]
    },
    {
     "name": "stdout",
     "output_type": "stream",
     "text": [
      "Train: loss = 0.6930623229698422, top 1 = 0.9727, top 5 = 0.9774499999999599, top 10 = 0.9727549999999956, kendal = 0.8984809319837211\n"
     ]
    },
    {
     "name": "stderr",
     "output_type": "stream",
     "text": [
      "100%|██████████| 4/4 [00:01<00:00,  3.59it/s]\n",
      "  0%|          | 0/313 [00:00<?, ?it/s]"
     ]
    },
    {
     "name": "stdout",
     "output_type": "stream",
     "text": [
      "Valid: loss = 0.6930661926248786, top 1 = 0.95, top 5 = 0.9740000000000003, top 10 = 0.970000000000001, kendal = 0.8973142173611629\n",
      "\n",
      "Epoch: 148\n"
     ]
    },
    {
     "name": "stderr",
     "output_type": "stream",
     "text": [
      "100%|██████████| 313/313 [02:07<00:00,  2.45it/s]\n",
      "100%|██████████| 313/313 [02:10<00:00,  2.40it/s]\n",
      "  0%|          | 0/4 [00:00<?, ?it/s]"
     ]
    },
    {
     "name": "stdout",
     "output_type": "stream",
     "text": [
      "Train: loss = 0.6930624363846382, top 1 = 0.97275, top 5 = 0.97758999999996, top 10 = 0.9726199999999957, kendal = 0.8986588204032617\n"
     ]
    },
    {
     "name": "stderr",
     "output_type": "stream",
     "text": [
      "100%|██████████| 4/4 [00:01<00:00,  2.93it/s]\n",
      "  0%|          | 0/313 [00:00<?, ?it/s]"
     ]
    },
    {
     "name": "stdout",
     "output_type": "stream",
     "text": [
      "Valid: loss = 0.693065586095583, top 1 = 0.955, top 5 = 0.9750000000000004, top 10 = 0.9705000000000009, kendal = 0.8974961272119354\n",
      "\n",
      "Epoch: 149\n"
     ]
    },
    {
     "name": "stderr",
     "output_type": "stream",
     "text": [
      "100%|██████████| 313/313 [02:04<00:00,  2.52it/s]\n",
      "100%|██████████| 313/313 [01:56<00:00,  2.68it/s]\n",
      "  0%|          | 0/4 [00:00<?, ?it/s]"
     ]
    },
    {
     "name": "stdout",
     "output_type": "stream",
     "text": [
      "Train: loss = 0.6930623149832696, top 1 = 0.97315, top 5 = 0.97757999999996, top 10 = 0.9727399999999953, kendal = 0.89889371718897\n"
     ]
    },
    {
     "name": "stderr",
     "output_type": "stream",
     "text": [
      "100%|██████████| 4/4 [00:01<00:00,  2.78it/s]\n",
      "  0%|          | 0/313 [00:00<?, ?it/s]"
     ]
    },
    {
     "name": "stdout",
     "output_type": "stream",
     "text": [
      "Valid: loss = 0.6930677396573387, top 1 = 0.95, top 5 = 0.9750000000000004, top 10 = 0.9705000000000009, kendal = 0.8975433626100018\n",
      "\n",
      "Epoch: 150\n"
     ]
    },
    {
     "name": "stderr",
     "output_type": "stream",
     "text": [
      "100%|██████████| 313/313 [02:27<00:00,  2.12it/s]\n",
      "100%|██████████| 313/313 [01:35<00:00,  3.29it/s]\n",
      "  0%|          | 0/4 [00:00<?, ?it/s]"
     ]
    },
    {
     "name": "stdout",
     "output_type": "stream",
     "text": [
      "Train: loss = 0.6930624774377848, top 1 = 0.9729, top 5 = 0.9775199999999599, top 10 = 0.9728049999999959, kendal = 0.8986990661266396\n"
     ]
    },
    {
     "name": "stderr",
     "output_type": "stream",
     "text": [
      "100%|██████████| 4/4 [00:01<00:00,  2.64it/s]\n",
      "  0%|          | 0/313 [00:00<?, ?it/s]"
     ]
    },
    {
     "name": "stdout",
     "output_type": "stream",
     "text": [
      "Valid: loss = 0.6930680949002422, top 1 = 0.95, top 5 = 0.9760000000000004, top 10 = 0.9705000000000009, kendal = 0.8977142164268078\n",
      "\n",
      "Epoch: 151\n"
     ]
    },
    {
     "name": "stderr",
     "output_type": "stream",
     "text": [
      "100%|██████████| 313/313 [02:43<00:00,  1.91it/s]\n",
      "100%|██████████| 313/313 [01:35<00:00,  3.29it/s]\n",
      "  0%|          | 0/4 [00:00<?, ?it/s]"
     ]
    },
    {
     "name": "stdout",
     "output_type": "stream",
     "text": [
      "Train: loss = 0.6930621383151602, top 1 = 0.9731, top 5 = 0.9774999999999598, top 10 = 0.972829999999996, kendal = 0.8989538734425719\n"
     ]
    },
    {
     "name": "stderr",
     "output_type": "stream",
     "text": [
      "100%|██████████| 4/4 [00:01<00:00,  3.78it/s]\n",
      "  0%|          | 0/313 [00:00<?, ?it/s]"
     ]
    },
    {
     "name": "stdout",
     "output_type": "stream",
     "text": [
      "Valid: loss = 0.6930688629893809, top 1 = 0.95, top 5 = 0.9750000000000003, top 10 = 0.970000000000001, kendal = 0.897790598765654\n",
      "\n",
      "Epoch: 152\n"
     ]
    },
    {
     "name": "stderr",
     "output_type": "stream",
     "text": [
      "100%|██████████| 313/313 [02:29<00:00,  2.09it/s]\n",
      "100%|██████████| 313/313 [01:55<00:00,  2.72it/s]\n",
      "  0%|          | 0/4 [00:00<?, ?it/s]"
     ]
    },
    {
     "name": "stdout",
     "output_type": "stream",
     "text": [
      "Train: loss = 0.6930624262071402, top 1 = 0.97305, top 5 = 0.9776399999999603, top 10 = 0.9728549999999956, kendal = 0.8990263635854774\n"
     ]
    },
    {
     "name": "stderr",
     "output_type": "stream",
     "text": [
      "100%|██████████| 4/4 [00:01<00:00,  3.73it/s]\n",
      "  0%|          | 0/313 [00:00<?, ?it/s]"
     ]
    },
    {
     "name": "stdout",
     "output_type": "stream",
     "text": [
      "Valid: loss = 0.6930650830200483, top 1 = 0.955, top 5 = 0.9750000000000004, top 10 = 0.9705000000000009, kendal = 0.8978609483274508\n",
      "\n",
      "Epoch: 153\n"
     ]
    },
    {
     "name": "stderr",
     "output_type": "stream",
     "text": [
      "100%|██████████| 313/313 [02:07<00:00,  2.45it/s]\n",
      "100%|██████████| 313/313 [02:07<00:00,  2.46it/s]\n",
      "  0%|          | 0/4 [00:00<?, ?it/s]"
     ]
    },
    {
     "name": "stdout",
     "output_type": "stream",
     "text": [
      "Train: loss = 0.6930623011717892, top 1 = 0.9728, top 5 = 0.9775399999999603, top 10 = 0.9728999999999951, kendal = 0.8986132480053167\n"
     ]
    },
    {
     "name": "stderr",
     "output_type": "stream",
     "text": [
      "100%|██████████| 4/4 [00:01<00:00,  2.67it/s]\n",
      "  0%|          | 0/313 [00:00<?, ?it/s]"
     ]
    },
    {
     "name": "stdout",
     "output_type": "stream",
     "text": [
      "Valid: loss = 0.6930677301946091, top 1 = 0.95, top 5 = 0.9760000000000004, top 10 = 0.9710000000000011, kendal = 0.8975323063992648\n",
      "\n",
      "Epoch: 154\n"
     ]
    },
    {
     "name": "stderr",
     "output_type": "stream",
     "text": [
      "100%|██████████| 313/313 [02:11<00:00,  2.39it/s]\n",
      "100%|██████████| 313/313 [01:51<00:00,  2.80it/s]\n",
      "  0%|          | 0/4 [00:00<?, ?it/s]"
     ]
    },
    {
     "name": "stdout",
     "output_type": "stream",
     "text": [
      "Train: loss = 0.6930623161321933, top 1 = 0.97325, top 5 = 0.9777399999999605, top 10 = 0.9728149999999954, kendal = 0.8989652805153748\n"
     ]
    },
    {
     "name": "stderr",
     "output_type": "stream",
     "text": [
      "100%|██████████| 4/4 [00:01<00:00,  3.35it/s]\n",
      "  0%|          | 0/313 [00:00<?, ?it/s]"
     ]
    },
    {
     "name": "stdout",
     "output_type": "stream",
     "text": [
      "Valid: loss = 0.6930654575982015, top 1 = 0.95, top 5 = 0.9740000000000003, top 10 = 0.9705000000000009, kendal = 0.8977162245325906\n",
      "\n",
      "Epoch: 155\n"
     ]
    },
    {
     "name": "stderr",
     "output_type": "stream",
     "text": [
      "100%|██████████| 313/313 [02:33<00:00,  2.04it/s]\n",
      "100%|██████████| 313/313 [01:28<00:00,  3.52it/s]\n",
      "  0%|          | 0/4 [00:00<?, ?it/s]"
     ]
    },
    {
     "name": "stdout",
     "output_type": "stream",
     "text": [
      "Train: loss = 0.6930624848281508, top 1 = 0.973, top 5 = 0.9775199999999601, top 10 = 0.9728799999999949, kendal = 0.8991410438441095\n"
     ]
    },
    {
     "name": "stderr",
     "output_type": "stream",
     "text": [
      "100%|██████████| 4/4 [00:01<00:00,  2.78it/s]\n",
      "  0%|          | 0/313 [00:00<?, ?it/s]"
     ]
    },
    {
     "name": "stdout",
     "output_type": "stream",
     "text": [
      "Valid: loss = 0.6930672143806119, top 1 = 0.955, top 5 = 0.9760000000000004, top 10 = 0.9705000000000009, kendal = 0.8978890885764172\n",
      "\n",
      "Epoch: 156\n"
     ]
    },
    {
     "name": "stderr",
     "output_type": "stream",
     "text": [
      "100%|██████████| 313/313 [02:46<00:00,  1.88it/s]\n",
      "100%|██████████| 313/313 [01:37<00:00,  3.20it/s]\n",
      "  0%|          | 0/4 [00:00<?, ?it/s]"
     ]
    },
    {
     "name": "stdout",
     "output_type": "stream",
     "text": [
      "Train: loss = 0.6930624529518471, top 1 = 0.973, top 5 = 0.9777199999999603, top 10 = 0.9729349999999957, kendal = 0.8986952535728188\n"
     ]
    },
    {
     "name": "stderr",
     "output_type": "stream",
     "text": [
      "100%|██████████| 4/4 [00:00<00:00,  4.23it/s]\n",
      "  0%|          | 0/313 [00:00<?, ?it/s]"
     ]
    },
    {
     "name": "stdout",
     "output_type": "stream",
     "text": [
      "Valid: loss = 0.6930655400717858, top 1 = 0.95, top 5 = 0.9760000000000005, top 10 = 0.9705000000000009, kendal = 0.8973242639760103\n",
      "\n",
      "Epoch: 157\n"
     ]
    },
    {
     "name": "stderr",
     "output_type": "stream",
     "text": [
      "100%|██████████| 313/313 [02:24<00:00,  2.17it/s]\n",
      "100%|██████████| 313/313 [02:03<00:00,  2.54it/s]\n",
      "  0%|          | 0/4 [00:00<?, ?it/s]"
     ]
    },
    {
     "name": "stdout",
     "output_type": "stream",
     "text": [
      "Train: loss = 0.6930622551365222, top 1 = 0.9731, top 5 = 0.9776499999999605, top 10 = 0.9729349999999954, kendal = 0.8987818354495998\n"
     ]
    },
    {
     "name": "stderr",
     "output_type": "stream",
     "text": [
      "100%|██████████| 4/4 [00:00<00:00,  5.03it/s]\n",
      "  0%|          | 0/313 [00:00<?, ?it/s]"
     ]
    },
    {
     "name": "stdout",
     "output_type": "stream",
     "text": [
      "Valid: loss = 0.6930663641053669, top 1 = 0.965, top 5 = 0.9750000000000004, top 10 = 0.970000000000001, kendal = 0.8974307967403381\n",
      "\n",
      "Epoch: 158\n"
     ]
    },
    {
     "name": "stderr",
     "output_type": "stream",
     "text": [
      "100%|██████████| 313/313 [01:59<00:00,  2.63it/s]\n",
      "100%|██████████| 313/313 [02:09<00:00,  2.41it/s]\n",
      "  0%|          | 0/4 [00:00<?, ?it/s]"
     ]
    },
    {
     "name": "stdout",
     "output_type": "stream",
     "text": [
      "Train: loss = 0.6930624330075043, top 1 = 0.9729, top 5 = 0.9776899999999605, top 10 = 0.9729199999999956, kendal = 0.8992140821592468\n"
     ]
    },
    {
     "name": "stderr",
     "output_type": "stream",
     "text": [
      "100%|██████████| 4/4 [00:01<00:00,  2.89it/s]\n",
      "  0%|          | 0/313 [00:00<?, ?it/s]"
     ]
    },
    {
     "name": "stdout",
     "output_type": "stream",
     "text": [
      "Valid: loss = 0.6930679451913662, top 1 = 0.955, top 5 = 0.9760000000000004, top 10 = 0.9705000000000009, kendal = 0.8978790370625195\n",
      "\n",
      "Epoch: 159\n"
     ]
    },
    {
     "name": "stderr",
     "output_type": "stream",
     "text": [
      "100%|██████████| 313/313 [02:15<00:00,  2.31it/s]\n",
      "100%|██████████| 313/313 [01:47<00:00,  2.91it/s]\n",
      "  0%|          | 0/4 [00:00<?, ?it/s]"
     ]
    },
    {
     "name": "stdout",
     "output_type": "stream",
     "text": [
      "Train: loss = 0.6930622009947512, top 1 = 0.973, top 5 = 0.9777799999999605, top 10 = 0.9729649999999952, kendal = 0.8991746641264355\n"
     ]
    },
    {
     "name": "stderr",
     "output_type": "stream",
     "text": [
      "100%|██████████| 4/4 [00:01<00:00,  3.36it/s]\n",
      "  0%|          | 0/313 [00:00<?, ?it/s]"
     ]
    },
    {
     "name": "stdout",
     "output_type": "stream",
     "text": [
      "Valid: loss = 0.6930679714836582, top 1 = 0.95, top 5 = 0.9760000000000004, top 10 = 0.9710000000000011, kendal = 0.8978197406558656\n",
      "\n",
      "Epoch: 160\n"
     ]
    },
    {
     "name": "stderr",
     "output_type": "stream",
     "text": [
      "100%|██████████| 313/313 [02:37<00:00,  1.99it/s]\n",
      "100%|██████████| 313/313 [01:30<00:00,  3.47it/s]\n",
      "  0%|          | 0/4 [00:00<?, ?it/s]"
     ]
    },
    {
     "name": "stdout",
     "output_type": "stream",
     "text": [
      "Train: loss = 0.6930623362084956, top 1 = 0.973, top 5 = 0.9777599999999602, top 10 = 0.9729199999999945, kendal = 0.8990646752243272\n"
     ]
    },
    {
     "name": "stderr",
     "output_type": "stream",
     "text": [
      "100%|██████████| 4/4 [00:00<00:00,  4.29it/s]\n",
      "  0%|          | 0/313 [00:00<?, ?it/s]"
     ]
    },
    {
     "name": "stdout",
     "output_type": "stream",
     "text": [
      "Valid: loss = 0.6930665543633439, top 1 = 0.95, top 5 = 0.9750000000000004, top 10 = 0.9705000000000009, kendal = 0.8976840610517695\n",
      "\n",
      "Epoch: 161\n"
     ]
    },
    {
     "name": "stderr",
     "output_type": "stream",
     "text": [
      "100%|██████████| 313/313 [02:38<00:00,  1.98it/s]\n",
      "100%|██████████| 313/313 [01:47<00:00,  2.92it/s]\n",
      "  0%|          | 0/4 [00:00<?, ?it/s]"
     ]
    },
    {
     "name": "stdout",
     "output_type": "stream",
     "text": [
      "Train: loss = 0.6930623062485706, top 1 = 0.97305, top 5 = 0.9777599999999603, top 10 = 0.9729199999999951, kendal = 0.8990530236552209\n"
     ]
    },
    {
     "name": "stderr",
     "output_type": "stream",
     "text": [
      "100%|██████████| 4/4 [00:00<00:00,  5.04it/s]\n",
      "  0%|          | 0/313 [00:00<?, ?it/s]"
     ]
    },
    {
     "name": "stdout",
     "output_type": "stream",
     "text": [
      "Valid: loss = 0.6930662398709556, top 1 = 0.945, top 5 = 0.9760000000000004, top 10 = 0.9705000000000009, kendal = 0.8977353178887395\n",
      "\n",
      "Epoch: 162\n"
     ]
    },
    {
     "name": "stderr",
     "output_type": "stream",
     "text": [
      "100%|██████████| 313/313 [02:15<00:00,  2.31it/s]\n",
      "100%|██████████| 313/313 [02:09<00:00,  2.42it/s]\n",
      "  0%|          | 0/4 [00:00<?, ?it/s]"
     ]
    },
    {
     "name": "stdout",
     "output_type": "stream",
     "text": [
      "Train: loss = 0.6930623874093774, top 1 = 0.97335, top 5 = 0.9777499999999605, top 10 = 0.9728449999999953, kendal = 0.8992030592850935\n"
     ]
    },
    {
     "name": "stderr",
     "output_type": "stream",
     "text": [
      "100%|██████████| 4/4 [00:00<00:00,  5.05it/s]\n",
      "  0%|          | 0/313 [00:00<?, ?it/s]"
     ]
    },
    {
     "name": "stdout",
     "output_type": "stream",
     "text": [
      "Valid: loss = 0.693065335355159, top 1 = 0.95, top 5 = 0.9750000000000004, top 10 = 0.970000000000001, kendal = 0.8979111968311727\n",
      "\n",
      "Epoch: 163\n"
     ]
    },
    {
     "name": "stderr",
     "output_type": "stream",
     "text": [
      "100%|██████████| 313/313 [01:57<00:00,  2.67it/s]\n",
      "100%|██████████| 313/313 [02:07<00:00,  2.46it/s]\n",
      "  0%|          | 0/4 [00:00<?, ?it/s]"
     ]
    },
    {
     "name": "stdout",
     "output_type": "stream",
     "text": [
      "Train: loss = 0.6930624252561636, top 1 = 0.9731, top 5 = 0.9777699999999603, top 10 = 0.9730349999999942, kendal = 0.8991097730100086\n"
     ]
    },
    {
     "name": "stderr",
     "output_type": "stream",
     "text": [
      "100%|██████████| 4/4 [00:01<00:00,  2.89it/s]\n",
      "  0%|          | 0/313 [00:00<?, ?it/s]"
     ]
    },
    {
     "name": "stdout",
     "output_type": "stream",
     "text": [
      "Valid: loss = 0.6930667687245196, top 1 = 0.95, top 5 = 0.9760000000000004, top 10 = 0.9705000000000009, kendal = 0.8977614474813858\n",
      "\n",
      "Epoch: 164\n"
     ]
    },
    {
     "name": "stderr",
     "output_type": "stream",
     "text": [
      "100%|██████████| 313/313 [02:16<00:00,  2.29it/s]\n",
      "100%|██████████| 313/313 [01:46<00:00,  2.93it/s]\n",
      "  0%|          | 0/4 [00:00<?, ?it/s]"
     ]
    },
    {
     "name": "stdout",
     "output_type": "stream",
     "text": [
      "Train: loss = 0.6930620957957085, top 1 = 0.9728, top 5 = 0.9777599999999605, top 10 = 0.9730999999999956, kendal = 0.8992188629198892\n"
     ]
    },
    {
     "name": "stderr",
     "output_type": "stream",
     "text": [
      "100%|██████████| 4/4 [00:01<00:00,  2.91it/s]\n",
      "  0%|          | 0/313 [00:00<?, ?it/s]"
     ]
    },
    {
     "name": "stdout",
     "output_type": "stream",
     "text": [
      "Valid: loss = 0.693064823979253, top 1 = 0.95, top 5 = 0.9760000000000005, top 10 = 0.9710000000000011, kendal = 0.8979091860990949\n",
      "\n",
      "Epoch: 165\n"
     ]
    },
    {
     "name": "stderr",
     "output_type": "stream",
     "text": [
      "100%|██████████| 313/313 [02:38<00:00,  1.97it/s]\n",
      "100%|██████████| 313/313 [01:33<00:00,  3.35it/s]\n",
      "  0%|          | 0/4 [00:00<?, ?it/s]"
     ]
    },
    {
     "name": "stdout",
     "output_type": "stream",
     "text": [
      "Train: loss = 0.693062198552606, top 1 = 0.97295, top 5 = 0.9778399999999605, top 10 = 0.9729399999999949, kendal = 0.8989984038387544\n"
     ]
    },
    {
     "name": "stderr",
     "output_type": "stream",
     "text": [
      "100%|██████████| 4/4 [00:00<00:00,  4.47it/s]\n",
      "  0%|          | 0/313 [00:00<?, ?it/s]"
     ]
    },
    {
     "name": "stdout",
     "output_type": "stream",
     "text": [
      "Valid: loss = 0.6930662057659263, top 1 = 0.95, top 5 = 0.9760000000000004, top 10 = 0.9710000000000011, kendal = 0.8978066743696244\n",
      "\n",
      "Epoch: 166\n"
     ]
    },
    {
     "name": "stderr",
     "output_type": "stream",
     "text": [
      "100%|██████████| 313/313 [02:30<00:00,  2.08it/s]\n",
      "100%|██████████| 313/313 [01:53<00:00,  2.75it/s]\n",
      "  0%|          | 0/4 [00:00<?, ?it/s]"
     ]
    },
    {
     "name": "stdout",
     "output_type": "stream",
     "text": [
      "Train: loss = 0.6930624462886843, top 1 = 0.97345, top 5 = 0.9778799999999604, top 10 = 0.9729949999999958, kendal = 0.8992138656990962\n"
     ]
    },
    {
     "name": "stderr",
     "output_type": "stream",
     "text": [
      "100%|██████████| 4/4 [00:00<00:00,  4.15it/s]\n",
      "  0%|          | 0/313 [00:00<?, ?it/s]"
     ]
    },
    {
     "name": "stdout",
     "output_type": "stream",
     "text": [
      "Valid: loss = 0.6930655597337644, top 1 = 0.95, top 5 = 0.9760000000000005, top 10 = 0.9705000000000009, kendal = 0.8978599391356067\n",
      "\n",
      "Epoch: 167\n"
     ]
    },
    {
     "name": "stderr",
     "output_type": "stream",
     "text": [
      "100%|██████████| 313/313 [02:05<00:00,  2.49it/s]\n",
      "100%|██████████| 313/313 [02:14<00:00,  2.32it/s]\n",
      "  0%|          | 0/4 [00:00<?, ?it/s]"
     ]
    },
    {
     "name": "stdout",
     "output_type": "stream",
     "text": [
      "Train: loss = 0.6930623947337926, top 1 = 0.9731, top 5 = 0.9776799999999607, top 10 = 0.973004999999995, kendal = 0.899207549524968\n"
     ]
    },
    {
     "name": "stderr",
     "output_type": "stream",
     "text": [
      "100%|██████████| 4/4 [00:01<00:00,  3.26it/s]\n",
      "  0%|          | 0/313 [00:00<?, ?it/s]"
     ]
    },
    {
     "name": "stdout",
     "output_type": "stream",
     "text": [
      "Valid: loss = 0.6930665688140365, top 1 = 0.95, top 5 = 0.9750000000000004, top 10 = 0.9710000000000011, kendal = 0.8977785322519481\n",
      "\n",
      "Epoch: 168\n"
     ]
    },
    {
     "name": "stderr",
     "output_type": "stream",
     "text": [
      "100%|██████████| 313/313 [01:56<00:00,  2.69it/s]\n",
      "100%|██████████| 313/313 [02:05<00:00,  2.50it/s]\n",
      "  0%|          | 0/4 [00:00<?, ?it/s]"
     ]
    },
    {
     "name": "stdout",
     "output_type": "stream",
     "text": [
      "Train: loss = 0.6930621450106949, top 1 = 0.97315, top 5 = 0.9777899999999605, top 10 = 0.9730249999999955, kendal = 0.8992628026527203\n"
     ]
    },
    {
     "name": "stderr",
     "output_type": "stream",
     "text": [
      "100%|██████████| 4/4 [00:01<00:00,  3.11it/s]\n",
      "  0%|          | 0/313 [00:00<?, ?it/s]"
     ]
    },
    {
     "name": "stdout",
     "output_type": "stream",
     "text": [
      "Valid: loss = 0.6930665972661292, top 1 = 0.95, top 5 = 0.9760000000000004, top 10 = 0.9710000000000011, kendal = 0.8978348136589832\n",
      "\n",
      "Epoch: 169\n"
     ]
    },
    {
     "name": "stderr",
     "output_type": "stream",
     "text": [
      "100%|██████████| 313/313 [02:21<00:00,  2.21it/s]\n",
      "100%|██████████| 313/313 [01:42<00:00,  3.06it/s]\n",
      "  0%|          | 0/4 [00:00<?, ?it/s]"
     ]
    },
    {
     "name": "stdout",
     "output_type": "stream",
     "text": [
      "Train: loss = 0.6930621372802489, top 1 = 0.97305, top 5 = 0.9777199999999606, top 10 = 0.973089999999996, kendal = 0.8985384618594935\n"
     ]
    },
    {
     "name": "stderr",
     "output_type": "stream",
     "text": [
      "100%|██████████| 4/4 [00:01<00:00,  3.36it/s]\n",
      "  0%|          | 0/313 [00:00<?, ?it/s]"
     ]
    },
    {
     "name": "stdout",
     "output_type": "stream",
     "text": [
      "Valid: loss = 0.6930666749012798, top 1 = 0.95, top 5 = 0.9750000000000004, top 10 = 0.9710000000000011, kendal = 0.8972790352190616\n",
      "\n",
      "Epoch: 170\n"
     ]
    },
    {
     "name": "stderr",
     "output_type": "stream",
     "text": [
      "100%|██████████| 313/313 [02:38<00:00,  1.98it/s]\n",
      "100%|██████████| 313/313 [01:41<00:00,  3.08it/s]\n",
      "  0%|          | 0/4 [00:00<?, ?it/s]"
     ]
    },
    {
     "name": "stdout",
     "output_type": "stream",
     "text": [
      "Train: loss = 0.6930621622321541, top 1 = 0.9728, top 5 = 0.9776299999999605, top 10 = 0.9731849999999959, kendal = 0.8981261826635302\n"
     ]
    },
    {
     "name": "stderr",
     "output_type": "stream",
     "text": [
      "100%|██████████| 4/4 [00:00<00:00,  4.23it/s]\n",
      "  0%|          | 0/313 [00:00<?, ?it/s]"
     ]
    },
    {
     "name": "stdout",
     "output_type": "stream",
     "text": [
      "Valid: loss = 0.6930657489358585, top 1 = 0.95, top 5 = 0.9760000000000004, top 10 = 0.9710000000000011, kendal = 0.8968880806977207\n",
      "\n",
      "Epoch: 171\n"
     ]
    },
    {
     "name": "stderr",
     "output_type": "stream",
     "text": [
      "100%|██████████| 313/313 [02:20<00:00,  2.23it/s]\n",
      "100%|██████████| 313/313 [02:04<00:00,  2.51it/s]\n",
      "  0%|          | 0/4 [00:00<?, ?it/s]"
     ]
    },
    {
     "name": "stdout",
     "output_type": "stream",
     "text": [
      "Train: loss = 0.6930623853364736, top 1 = 0.9729, top 5 = 0.9777699999999601, top 10 = 0.9730699999999955, kendal = 0.8990302342711498\n"
     ]
    },
    {
     "name": "stderr",
     "output_type": "stream",
     "text": [
      "100%|██████████| 4/4 [00:00<00:00,  4.44it/s]\n",
      "  0%|          | 0/313 [00:00<?, ?it/s]"
     ]
    },
    {
     "name": "stdout",
     "output_type": "stream",
     "text": [
      "Valid: loss = 0.6930675905917978, top 1 = 0.95, top 5 = 0.9750000000000004, top 10 = 0.9710000000000011, kendal = 0.8975895865687222\n",
      "\n",
      "Epoch: 172\n"
     ]
    },
    {
     "name": "stderr",
     "output_type": "stream",
     "text": [
      "100%|██████████| 313/313 [01:53<00:00,  2.76it/s]\n",
      "100%|██████████| 313/313 [02:16<00:00,  2.29it/s]\n",
      "  0%|          | 0/4 [00:00<?, ?it/s]"
     ]
    },
    {
     "name": "stdout",
     "output_type": "stream",
     "text": [
      "Train: loss = 0.6930623929913042, top 1 = 0.9734, top 5 = 0.9778799999999607, top 10 = 0.973179999999995, kendal = 0.8995204586454909\n"
     ]
    },
    {
     "name": "stderr",
     "output_type": "stream",
     "text": [
      "100%|██████████| 4/4 [00:01<00:00,  3.37it/s]\n",
      "  0%|          | 0/313 [00:00<?, ?it/s]"
     ]
    },
    {
     "name": "stdout",
     "output_type": "stream",
     "text": [
      "Valid: loss = 0.6930662836060271, top 1 = 0.95, top 5 = 0.9750000000000005, top 10 = 0.9710000000000011, kendal = 0.8981302902630796\n",
      "\n",
      "Epoch: 173\n"
     ]
    },
    {
     "name": "stderr",
     "output_type": "stream",
     "text": [
      "100%|██████████| 313/313 [02:02<00:00,  2.55it/s]\n",
      "100%|██████████| 313/313 [01:59<00:00,  2.62it/s]\n",
      "  0%|          | 0/4 [00:00<?, ?it/s]"
     ]
    },
    {
     "name": "stdout",
     "output_type": "stream",
     "text": [
      "Train: loss = 0.6930621787568175, top 1 = 0.97335, top 5 = 0.9778299999999605, top 10 = 0.9730749999999958, kendal = 0.8989437985618525\n"
     ]
    },
    {
     "name": "stderr",
     "output_type": "stream",
     "text": [
      "100%|██████████| 4/4 [00:01<00:00,  3.22it/s]\n",
      "  0%|          | 0/313 [00:00<?, ?it/s]"
     ]
    },
    {
     "name": "stdout",
     "output_type": "stream",
     "text": [
      "Valid: loss = 0.6930664319170928, top 1 = 0.95, top 5 = 0.9760000000000004, top 10 = 0.9710000000000011, kendal = 0.8974036558093562\n",
      "\n",
      "Epoch: 174\n"
     ]
    },
    {
     "name": "stderr",
     "output_type": "stream",
     "text": [
      "100%|██████████| 313/313 [02:24<00:00,  2.16it/s]\n",
      "100%|██████████| 313/313 [01:41<00:00,  3.09it/s]\n",
      "  0%|          | 0/4 [00:00<?, ?it/s]"
     ]
    },
    {
     "name": "stdout",
     "output_type": "stream",
     "text": [
      "Train: loss = 0.6930622523583951, top 1 = 0.9731, top 5 = 0.9777699999999604, top 10 = 0.9732049999999958, kendal = 0.8985681000454013\n"
     ]
    },
    {
     "name": "stderr",
     "output_type": "stream",
     "text": [
      "100%|██████████| 4/4 [00:00<00:00,  4.40it/s]\n",
      "  0%|          | 0/313 [00:00<?, ?it/s]"
     ]
    },
    {
     "name": "stdout",
     "output_type": "stream",
     "text": [
      "Valid: loss = 0.6930663990160937, top 1 = 0.95, top 5 = 0.9760000000000004, top 10 = 0.9705000000000011, kendal = 0.8971926005077208\n",
      "\n",
      "Epoch: 175\n"
     ]
    },
    {
     "name": "stderr",
     "output_type": "stream",
     "text": [
      "100%|██████████| 313/313 [02:33<00:00,  2.05it/s]\n",
      "100%|██████████| 313/313 [01:52<00:00,  2.78it/s]\n",
      "  0%|          | 0/4 [00:00<?, ?it/s]"
     ]
    },
    {
     "name": "stdout",
     "output_type": "stream",
     "text": [
      "Train: loss = 0.693062309615457, top 1 = 0.97315, top 5 = 0.9779299999999607, top 10 = 0.9731949999999959, kendal = 0.8990531821827626\n"
     ]
    },
    {
     "name": "stderr",
     "output_type": "stream",
     "text": [
      "100%|██████████| 4/4 [00:00<00:00,  4.43it/s]\n",
      "  0%|          | 0/313 [00:00<?, ?it/s]"
     ]
    },
    {
     "name": "stdout",
     "output_type": "stream",
     "text": [
      "Valid: loss = 0.693065240742415, top 1 = 0.95, top 5 = 0.9750000000000004, top 10 = 0.9695000000000009, kendal = 0.897495112792754\n",
      "\n",
      "Epoch: 176\n"
     ]
    },
    {
     "name": "stderr",
     "output_type": "stream",
     "text": [
      "100%|██████████| 313/313 [02:08<00:00,  2.44it/s]\n",
      "100%|██████████| 313/313 [02:15<00:00,  2.31it/s]\n",
      "  0%|          | 0/4 [00:00<?, ?it/s]"
     ]
    },
    {
     "name": "stdout",
     "output_type": "stream",
     "text": [
      "Train: loss = 0.693062405309471, top 1 = 0.97315, top 5 = 0.9779699999999608, top 10 = 0.9732799999999963, kendal = 0.8982603913908166\n"
     ]
    },
    {
     "name": "stderr",
     "output_type": "stream",
     "text": [
      "100%|██████████| 4/4 [00:00<00:00,  4.71it/s]\n",
      "  0%|          | 0/313 [00:00<?, ?it/s]"
     ]
    },
    {
     "name": "stdout",
     "output_type": "stream",
     "text": [
      "Valid: loss = 0.6930652313573427, top 1 = 0.955, top 5 = 0.9770000000000004, top 10 = 0.9710000000000011, kendal = 0.8965493842000434\n",
      "\n",
      "Epoch: 177\n"
     ]
    },
    {
     "name": "stderr",
     "output_type": "stream",
     "text": [
      "100%|██████████| 313/313 [01:45<00:00,  2.96it/s]\n",
      "100%|██████████| 313/313 [02:16<00:00,  2.29it/s]\n",
      "  0%|          | 0/4 [00:00<?, ?it/s]"
     ]
    },
    {
     "name": "stdout",
     "output_type": "stream",
     "text": [
      "Train: loss = 0.6930621579161491, top 1 = 0.97305, top 5 = 0.9778599999999605, top 10 = 0.9731749999999957, kendal = 0.8989888806759826\n"
     ]
    },
    {
     "name": "stderr",
     "output_type": "stream",
     "text": [
      "100%|██████████| 4/4 [00:01<00:00,  2.89it/s]\n",
      "  0%|          | 0/313 [00:00<?, ?it/s]"
     ]
    },
    {
     "name": "stdout",
     "output_type": "stream",
     "text": [
      "Valid: loss = 0.6930684248634094, top 1 = 0.955, top 5 = 0.9770000000000004, top 10 = 0.9710000000000011, kendal = 0.8975393322315942\n",
      "\n",
      "Epoch: 178\n"
     ]
    },
    {
     "name": "stderr",
     "output_type": "stream",
     "text": [
      "100%|██████████| 313/313 [02:04<00:00,  2.51it/s]\n",
      "100%|██████████| 313/313 [01:55<00:00,  2.71it/s]\n",
      "  0%|          | 0/4 [00:00<?, ?it/s]"
     ]
    },
    {
     "name": "stdout",
     "output_type": "stream",
     "text": [
      "Train: loss = 0.693062165984338, top 1 = 0.97325, top 5 = 0.9777099999999606, top 10 = 0.9732449999999957, kendal = 0.8989599962854415\n"
     ]
    },
    {
     "name": "stderr",
     "output_type": "stream",
     "text": [
      "100%|██████████| 4/4 [00:01<00:00,  2.60it/s]\n",
      "  0%|          | 0/313 [00:00<?, ?it/s]"
     ]
    },
    {
     "name": "stdout",
     "output_type": "stream",
     "text": [
      "Valid: loss = 0.6930660504309337, top 1 = 0.95, top 5 = 0.9750000000000004, top 10 = 0.9710000000000011, kendal = 0.897506167235792\n",
      "\n",
      "Epoch: 179\n"
     ]
    },
    {
     "name": "stderr",
     "output_type": "stream",
     "text": [
      "100%|██████████| 313/313 [02:30<00:00,  2.08it/s]\n",
      "100%|██████████| 313/313 [01:41<00:00,  3.08it/s]\n",
      "  0%|          | 0/4 [00:00<?, ?it/s]"
     ]
    },
    {
     "name": "stdout",
     "output_type": "stream",
     "text": [
      "Train: loss = 0.6930623295676811, top 1 = 0.973, top 5 = 0.9778099999999604, top 10 = 0.973174999999996, kendal = 0.899108058870496\n"
     ]
    },
    {
     "name": "stderr",
     "output_type": "stream",
     "text": [
      "100%|██████████| 4/4 [00:01<00:00,  3.73it/s]\n",
      "  0%|          | 0/313 [00:00<?, ?it/s]"
     ]
    },
    {
     "name": "stdout",
     "output_type": "stream",
     "text": [
      "Valid: loss = 0.6930668776703146, top 1 = 0.95, top 5 = 0.9770000000000004, top 10 = 0.971500000000001, kendal = 0.8974699859777293\n",
      "\n",
      "Epoch: 180\n"
     ]
    },
    {
     "name": "stderr",
     "output_type": "stream",
     "text": [
      "100%|██████████| 313/313 [02:21<00:00,  2.21it/s]\n",
      "100%|██████████| 313/313 [02:03<00:00,  2.54it/s]\n",
      "  0%|          | 0/4 [00:00<?, ?it/s]"
     ]
    },
    {
     "name": "stdout",
     "output_type": "stream",
     "text": [
      "Train: loss = 0.6930621086631671, top 1 = 0.97325, top 5 = 0.9778299999999605, top 10 = 0.9732399999999961, kendal = 0.8986604183353851\n"
     ]
    },
    {
     "name": "stderr",
     "output_type": "stream",
     "text": [
      "100%|██████████| 4/4 [00:01<00:00,  3.95it/s]\n",
      "  0%|          | 0/313 [00:00<?, ?it/s]"
     ]
    },
    {
     "name": "stdout",
     "output_type": "stream",
     "text": [
      "Valid: loss = 0.6930674159482179, top 1 = 0.95, top 5 = 0.9770000000000004, top 10 = 0.9710000000000011, kendal = 0.8970740051943825\n",
      "\n",
      "Epoch: 181\n"
     ]
    },
    {
     "name": "stderr",
     "output_type": "stream",
     "text": [
      "100%|██████████| 313/313 [01:56<00:00,  2.68it/s]\n",
      "100%|██████████| 313/313 [02:19<00:00,  2.24it/s]\n",
      "  0%|          | 0/4 [00:00<?, ?it/s]"
     ]
    },
    {
     "name": "stdout",
     "output_type": "stream",
     "text": [
      "Train: loss = 0.6930623276192136, top 1 = 0.9732, top 5 = 0.9779299999999607, top 10 = 0.9732549999999954, kendal = 0.8991928460053643\n"
     ]
    },
    {
     "name": "stderr",
     "output_type": "stream",
     "text": [
      "100%|██████████| 4/4 [00:01<00:00,  2.86it/s]\n",
      "  0%|          | 0/313 [00:00<?, ?it/s]"
     ]
    },
    {
     "name": "stdout",
     "output_type": "stream",
     "text": [
      "Valid: loss = 0.6930661922272524, top 1 = 0.95, top 5 = 0.9770000000000004, top 10 = 0.971500000000001, kendal = 0.8975775212418996\n",
      "\n",
      "Epoch: 182\n"
     ]
    },
    {
     "name": "stderr",
     "output_type": "stream",
     "text": [
      "100%|██████████| 313/313 [01:51<00:00,  2.81it/s]\n",
      "100%|██████████| 313/313 [02:05<00:00,  2.50it/s]\n",
      "  0%|          | 0/4 [00:00<?, ?it/s]"
     ]
    },
    {
     "name": "stdout",
     "output_type": "stream",
     "text": [
      "Train: loss = 0.6930621653711895, top 1 = 0.97345, top 5 = 0.9779199999999608, top 10 = 0.9733149999999964, kendal = 0.8991281571046175\n"
     ]
    },
    {
     "name": "stderr",
     "output_type": "stream",
     "text": [
      "100%|██████████| 4/4 [00:01<00:00,  2.98it/s]\n",
      "  0%|          | 0/313 [00:00<?, ?it/s]"
     ]
    },
    {
     "name": "stdout",
     "output_type": "stream",
     "text": [
      "Valid: loss = 0.6930671022401836, top 1 = 0.95, top 5 = 0.9770000000000004, top 10 = 0.971500000000001, kendal = 0.8973493808161629\n",
      "\n",
      "Epoch: 183\n"
     ]
    },
    {
     "name": "stderr",
     "output_type": "stream",
     "text": [
      "100%|██████████| 313/313 [02:19<00:00,  2.25it/s]\n",
      "100%|██████████| 313/313 [01:41<00:00,  3.07it/s]\n",
      "  0%|          | 0/4 [00:00<?, ?it/s]"
     ]
    },
    {
     "name": "stdout",
     "output_type": "stream",
     "text": [
      "Train: loss = 0.6930624465204682, top 1 = 0.97295, top 5 = 0.9779399999999608, top 10 = 0.9732449999999954, kendal = 0.8990720767076549\n"
     ]
    },
    {
     "name": "stderr",
     "output_type": "stream",
     "text": [
      "100%|██████████| 4/4 [00:01<00:00,  2.93it/s]\n",
      "  0%|          | 0/313 [00:00<?, ?it/s]"
     ]
    },
    {
     "name": "stdout",
     "output_type": "stream",
     "text": [
      "Valid: loss = 0.6930660162782043, top 1 = 0.95, top 5 = 0.9770000000000004, top 10 = 0.9710000000000011, kendal = 0.8976579241357987\n",
      "\n",
      "Epoch: 184\n"
     ]
    },
    {
     "name": "stderr",
     "output_type": "stream",
     "text": [
      "100%|██████████| 313/313 [02:34<00:00,  2.02it/s]\n",
      "100%|██████████| 313/313 [01:47<00:00,  2.90it/s]\n",
      "  0%|          | 0/4 [00:00<?, ?it/s]"
     ]
    },
    {
     "name": "stdout",
     "output_type": "stream",
     "text": [
      "Train: loss = 0.6930623122918868, top 1 = 0.9733, top 5 = 0.9778999999999606, top 10 = 0.9734049999999961, kendal = 0.8992577729898034\n"
     ]
    },
    {
     "name": "stderr",
     "output_type": "stream",
     "text": [
      "100%|██████████| 4/4 [00:01<00:00,  3.84it/s]\n",
      "  0%|          | 0/313 [00:00<?, ?it/s]"
     ]
    },
    {
     "name": "stdout",
     "output_type": "stream",
     "text": [
      "Valid: loss = 0.6930667548648072, top 1 = 0.95, top 5 = 0.9770000000000004, top 10 = 0.971500000000001, kendal = 0.8976297828009601\n",
      "\n",
      "Epoch: 185\n"
     ]
    },
    {
     "name": "stderr",
     "output_type": "stream",
     "text": [
      "100%|██████████| 313/313 [02:14<00:00,  2.33it/s]\n",
      "100%|██████████| 313/313 [02:08<00:00,  2.43it/s]\n",
      "  0%|          | 0/4 [00:00<?, ?it/s]"
     ]
    },
    {
     "name": "stdout",
     "output_type": "stream",
     "text": [
      "Train: loss = 0.6930621390041474, top 1 = 0.9735, top 5 = 0.9779299999999608, top 10 = 0.9733949999999962, kendal = 0.8992526116547733\n"
     ]
    },
    {
     "name": "stderr",
     "output_type": "stream",
     "text": [
      "100%|██████████| 4/4 [00:01<00:00,  3.98it/s]\n",
      "  0%|          | 0/313 [00:00<?, ?it/s]"
     ]
    },
    {
     "name": "stdout",
     "output_type": "stream",
     "text": [
      "Valid: loss = 0.69306545789999, top 1 = 0.95, top 5 = 0.9770000000000004, top 10 = 0.972500000000001, kendal = 0.8975996307845497\n",
      "\n",
      "Epoch: 186\n"
     ]
    },
    {
     "name": "stderr",
     "output_type": "stream",
     "text": [
      "100%|██████████| 313/313 [01:52<00:00,  2.78it/s]\n",
      "100%|██████████| 313/313 [02:14<00:00,  2.33it/s]\n",
      "  0%|          | 0/4 [00:00<?, ?it/s]"
     ]
    },
    {
     "name": "stdout",
     "output_type": "stream",
     "text": [
      "Train: loss = 0.6930621565739952, top 1 = 0.97315, top 5 = 0.9777799999999607, top 10 = 0.9732699999999959, kendal = 0.8988075417466469\n"
     ]
    },
    {
     "name": "stderr",
     "output_type": "stream",
     "text": [
      "100%|██████████| 4/4 [00:01<00:00,  2.70it/s]\n",
      "  0%|          | 0/313 [00:00<?, ?it/s]"
     ]
    },
    {
     "name": "stdout",
     "output_type": "stream",
     "text": [
      "Valid: loss = 0.69306843004617, top 1 = 0.95, top 5 = 0.9770000000000004, top 10 = 0.9705000000000009, kendal = 0.8971976219211818\n",
      "\n",
      "Epoch: 187\n"
     ]
    },
    {
     "name": "stderr",
     "output_type": "stream",
     "text": [
      "100%|██████████| 313/313 [02:06<00:00,  2.48it/s]\n",
      "100%|██████████| 313/313 [01:52<00:00,  2.77it/s]\n",
      "  0%|          | 0/4 [00:00<?, ?it/s]"
     ]
    },
    {
     "name": "stdout",
     "output_type": "stream",
     "text": [
      "Train: loss = 0.6930623618997136, top 1 = 0.9731, top 5 = 0.9778199999999606, top 10 = 0.9732849999999962, kendal = 0.8994079716633044\n"
     ]
    },
    {
     "name": "stderr",
     "output_type": "stream",
     "text": [
      "100%|██████████| 4/4 [00:01<00:00,  2.88it/s]\n",
      "  0%|          | 0/313 [00:00<?, ?it/s]"
     ]
    },
    {
     "name": "stdout",
     "output_type": "stream",
     "text": [
      "Valid: loss = 0.6930641709719438, top 1 = 0.95, top 5 = 0.9760000000000004, top 10 = 0.9705000000000011, kendal = 0.8974951077674391\n",
      "\n",
      "Epoch: 188\n"
     ]
    },
    {
     "name": "stderr",
     "output_type": "stream",
     "text": [
      "100%|██████████| 313/313 [02:30<00:00,  2.08it/s]\n",
      "100%|██████████| 313/313 [01:36<00:00,  3.24it/s]\n",
      "  0%|          | 0/4 [00:00<?, ?it/s]"
     ]
    },
    {
     "name": "stdout",
     "output_type": "stream",
     "text": [
      "Train: loss = 0.693062509005601, top 1 = 0.97335, top 5 = 0.9778499999999609, top 10 = 0.9734499999999964, kendal = 0.8987116253952474\n"
     ]
    },
    {
     "name": "stderr",
     "output_type": "stream",
     "text": [
      "100%|██████████| 4/4 [00:00<00:00,  4.18it/s]\n",
      "  0%|          | 0/313 [00:00<?, ?it/s]"
     ]
    },
    {
     "name": "stdout",
     "output_type": "stream",
     "text": [
      "Valid: loss = 0.6930640426494581, top 1 = 0.95, top 5 = 0.9770000000000004, top 10 = 0.972000000000001, kendal = 0.8969363143531518\n",
      "\n",
      "Epoch: 189\n"
     ]
    },
    {
     "name": "stderr",
     "output_type": "stream",
     "text": [
      "100%|██████████| 313/313 [02:33<00:00,  2.04it/s]\n",
      "100%|██████████| 313/313 [01:51<00:00,  2.82it/s]\n",
      "  0%|          | 0/4 [00:00<?, ?it/s]"
     ]
    },
    {
     "name": "stdout",
     "output_type": "stream",
     "text": [
      "Train: loss = 0.6930621068556746, top 1 = 0.9729, top 5 = 0.9779199999999609, top 10 = 0.9733749999999949, kendal = 0.8991597282141393\n"
     ]
    },
    {
     "name": "stderr",
     "output_type": "stream",
     "text": [
      "100%|██████████| 4/4 [00:01<00:00,  3.97it/s]\n",
      "  0%|          | 0/313 [00:00<?, ?it/s]"
     ]
    },
    {
     "name": "stdout",
     "output_type": "stream",
     "text": [
      "Valid: loss = 0.6930665845929699, top 1 = 0.95, top 5 = 0.9760000000000004, top 10 = 0.9710000000000011, kendal = 0.8972247548470142\n",
      "\n",
      "Epoch: 190\n"
     ]
    },
    {
     "name": "stderr",
     "output_type": "stream",
     "text": [
      "100%|██████████| 313/313 [02:12<00:00,  2.36it/s]\n",
      "100%|██████████| 313/313 [02:11<00:00,  2.37it/s]\n",
      "  0%|          | 0/4 [00:00<?, ?it/s]"
     ]
    },
    {
     "name": "stdout",
     "output_type": "stream",
     "text": [
      "Train: loss = 0.6930622858185148, top 1 = 0.97305, top 5 = 0.9778299999999602, top 10 = 0.9733499999999956, kendal = 0.8984816266076652\n"
     ]
    },
    {
     "name": "stderr",
     "output_type": "stream",
     "text": [
      "100%|██████████| 4/4 [00:01<00:00,  3.65it/s]\n",
      "  0%|          | 0/313 [00:00<?, ?it/s]"
     ]
    },
    {
     "name": "stdout",
     "output_type": "stream",
     "text": [
      "Valid: loss = 0.6930666716753768, top 1 = 0.95, top 5 = 0.9770000000000004, top 10 = 0.970000000000001, kendal = 0.8966830469608748\n",
      "\n",
      "Epoch: 191\n"
     ]
    },
    {
     "name": "stderr",
     "output_type": "stream",
     "text": [
      "100%|██████████| 313/313 [01:54<00:00,  2.74it/s]\n",
      "100%|██████████| 313/313 [02:07<00:00,  2.46it/s]\n",
      "  0%|          | 0/4 [00:00<?, ?it/s]"
     ]
    },
    {
     "name": "stdout",
     "output_type": "stream",
     "text": [
      "Train: loss = 0.6930624250957212, top 1 = 0.97315, top 5 = 0.9779499999999606, top 10 = 0.9734099999999959, kendal = 0.8994251644024249\n"
     ]
    },
    {
     "name": "stderr",
     "output_type": "stream",
     "text": [
      "100%|██████████| 4/4 [00:01<00:00,  2.58it/s]\n",
      "  0%|          | 0/313 [00:00<?, ?it/s]"
     ]
    },
    {
     "name": "stdout",
     "output_type": "stream",
     "text": [
      "Valid: loss = 0.6930663414809604, top 1 = 0.95, top 5 = 0.9770000000000004, top 10 = 0.969500000000001, kendal = 0.8976096799751864\n",
      "\n",
      "Epoch: 192\n"
     ]
    },
    {
     "name": "stderr",
     "output_type": "stream",
     "text": [
      "100%|██████████| 313/313 [02:14<00:00,  2.32it/s]\n",
      "100%|██████████| 313/313 [01:43<00:00,  3.03it/s]\n",
      "  0%|          | 0/4 [00:00<?, ?it/s]"
     ]
    },
    {
     "name": "stdout",
     "output_type": "stream",
     "text": [
      "Train: loss = 0.6930623307231951, top 1 = 0.97325, top 5 = 0.9778299999999607, top 10 = 0.9733649999999965, kendal = 0.8979865511924036\n"
     ]
    },
    {
     "name": "stderr",
     "output_type": "stream",
     "text": [
      "100%|██████████| 4/4 [00:01<00:00,  2.96it/s]\n",
      "  0%|          | 0/313 [00:00<?, ?it/s]"
     ]
    },
    {
     "name": "stdout",
     "output_type": "stream",
     "text": [
      "Valid: loss = 0.6930666895385701, top 1 = 0.95, top 5 = 0.9760000000000005, top 10 = 0.9705000000000009, kendal = 0.8960247554783352\n",
      "\n",
      "Epoch: 193\n"
     ]
    },
    {
     "name": "stderr",
     "output_type": "stream",
     "text": [
      "100%|██████████| 313/313 [02:40<00:00,  1.94it/s]\n",
      "100%|██████████| 313/313 [01:32<00:00,  3.39it/s]\n",
      "  0%|          | 0/4 [00:00<?, ?it/s]"
     ]
    },
    {
     "name": "stdout",
     "output_type": "stream",
     "text": [
      "Train: loss = 0.6930623032046727, top 1 = 0.97345, top 5 = 0.9778199999999608, top 10 = 0.9734949999999957, kendal = 0.899115357528115\n"
     ]
    },
    {
     "name": "stderr",
     "output_type": "stream",
     "text": [
      "100%|██████████| 4/4 [00:01<00:00,  3.76it/s]\n",
      "  0%|          | 0/313 [00:00<?, ?it/s]"
     ]
    },
    {
     "name": "stdout",
     "output_type": "stream",
     "text": [
      "Valid: loss = 0.6930650674169244, top 1 = 0.95, top 5 = 0.9760000000000004, top 10 = 0.970000000000001, kendal = 0.89721470398969\n",
      "\n",
      "Epoch: 194\n"
     ]
    },
    {
     "name": "stderr",
     "output_type": "stream",
     "text": [
      "100%|██████████| 313/313 [02:30<00:00,  2.08it/s]\n",
      "100%|██████████| 313/313 [01:55<00:00,  2.70it/s]\n",
      "  0%|          | 0/4 [00:00<?, ?it/s]"
     ]
    },
    {
     "name": "stdout",
     "output_type": "stream",
     "text": [
      "Train: loss = 0.6930623540188653, top 1 = 0.9737, top 5 = 0.9778699999999608, top 10 = 0.9734049999999963, kendal = 0.899073898042232\n"
     ]
    },
    {
     "name": "stderr",
     "output_type": "stream",
     "text": [
      "100%|██████████| 4/4 [00:00<00:00,  4.14it/s]\n",
      "  0%|          | 0/313 [00:00<?, ?it/s]"
     ]
    },
    {
     "name": "stdout",
     "output_type": "stream",
     "text": [
      "Valid: loss = 0.6930657439693448, top 1 = 0.95, top 5 = 0.9780000000000004, top 10 = 0.971500000000001, kendal = 0.8973121925885065\n",
      "\n",
      "Epoch: 195\n"
     ]
    },
    {
     "name": "stderr",
     "output_type": "stream",
     "text": [
      "100%|██████████| 313/313 [02:06<00:00,  2.47it/s]\n",
      "100%|██████████| 313/313 [02:10<00:00,  2.39it/s]\n",
      "  0%|          | 0/4 [00:00<?, ?it/s]"
     ]
    },
    {
     "name": "stdout",
     "output_type": "stream",
     "text": [
      "Train: loss = 0.6930623592770531, top 1 = 0.9733, top 5 = 0.9780199999999606, top 10 = 0.9735449999999961, kendal = 0.8991648784237543\n"
     ]
    },
    {
     "name": "stderr",
     "output_type": "stream",
     "text": [
      "100%|██████████| 4/4 [00:01<00:00,  2.98it/s]\n",
      "  0%|          | 0/313 [00:00<?, ?it/s]"
     ]
    },
    {
     "name": "stdout",
     "output_type": "stream",
     "text": [
      "Valid: loss = 0.6930663776562784, top 1 = 0.955, top 5 = 0.9780000000000004, top 10 = 0.970000000000001, kendal = 0.8973292773338154\n",
      "\n",
      "Epoch: 196\n"
     ]
    },
    {
     "name": "stderr",
     "output_type": "stream",
     "text": [
      "100%|██████████| 313/313 [02:04<00:00,  2.52it/s]\n",
      "100%|██████████| 313/313 [01:57<00:00,  2.67it/s]\n",
      "  0%|          | 0/4 [00:00<?, ?it/s]"
     ]
    },
    {
     "name": "stdout",
     "output_type": "stream",
     "text": [
      "Train: loss = 0.693062430636475, top 1 = 0.9737, top 5 = 0.9778999999999606, top 10 = 0.9735799999999968, kendal = 0.8990918030584851\n"
     ]
    },
    {
     "name": "stderr",
     "output_type": "stream",
     "text": [
      "100%|██████████| 4/4 [00:01<00:00,  2.97it/s]\n",
      "  0%|          | 0/313 [00:00<?, ?it/s]"
     ]
    },
    {
     "name": "stdout",
     "output_type": "stream",
     "text": [
      "Valid: loss = 0.6930666689948579, top 1 = 0.95, top 5 = 0.9770000000000004, top 10 = 0.971500000000001, kendal = 0.897393599674188\n",
      "\n",
      "Epoch: 197\n"
     ]
    },
    {
     "name": "stderr",
     "output_type": "stream",
     "text": [
      "100%|██████████| 313/313 [02:28<00:00,  2.11it/s]\n",
      "100%|██████████| 313/313 [01:33<00:00,  3.35it/s]\n",
      "  0%|          | 0/4 [00:00<?, ?it/s]"
     ]
    },
    {
     "name": "stdout",
     "output_type": "stream",
     "text": [
      "Train: loss = 0.6930624474852759, top 1 = 0.97295, top 5 = 0.9779099999999605, top 10 = 0.9736349999999963, kendal = 0.8984778532248955\n"
     ]
    },
    {
     "name": "stderr",
     "output_type": "stream",
     "text": [
      "100%|██████████| 4/4 [00:01<00:00,  2.66it/s]\n",
      "  0%|          | 0/313 [00:00<?, ?it/s]"
     ]
    },
    {
     "name": "stdout",
     "output_type": "stream",
     "text": [
      "Valid: loss = 0.6930670426042604, top 1 = 0.95, top 5 = 0.9770000000000004, top 10 = 0.971500000000001, kendal = 0.8967755086663639\n",
      "\n",
      "Epoch: 198\n"
     ]
    },
    {
     "name": "stderr",
     "output_type": "stream",
     "text": [
      "100%|██████████| 313/313 [02:44<00:00,  1.90it/s]\n",
      "100%|██████████| 313/313 [01:36<00:00,  3.23it/s]\n",
      "  0%|          | 0/4 [00:00<?, ?it/s]"
     ]
    },
    {
     "name": "stdout",
     "output_type": "stream",
     "text": [
      "Train: loss = 0.6930623830502778, top 1 = 0.9735, top 5 = 0.9778899999999612, top 10 = 0.973489999999996, kendal = 0.8992997952501107\n"
     ]
    },
    {
     "name": "stderr",
     "output_type": "stream",
     "text": [
      "100%|██████████| 4/4 [00:00<00:00,  4.13it/s]\n",
      "  0%|          | 0/313 [00:00<?, ?it/s]"
     ]
    },
    {
     "name": "stdout",
     "output_type": "stream",
     "text": [
      "Valid: loss = 0.6930660633384449, top 1 = 0.95, top 5 = 0.9770000000000004, top 10 = 0.972000000000001, kendal = 0.8975182226635018\n",
      "\n",
      "Epoch: 199\n"
     ]
    },
    {
     "name": "stderr",
     "output_type": "stream",
     "text": [
      "100%|██████████| 313/313 [02:26<00:00,  2.13it/s]\n",
      "100%|██████████| 313/313 [01:57<00:00,  2.66it/s]\n",
      "  0%|          | 0/4 [00:00<?, ?it/s]"
     ]
    },
    {
     "name": "stdout",
     "output_type": "stream",
     "text": [
      "Train: loss = 0.6930625246135028, top 1 = 0.9736, top 5 = 0.9780999999999609, top 10 = 0.9735849999999955, kendal = 0.8996570515863188\n"
     ]
    },
    {
     "name": "stderr",
     "output_type": "stream",
     "text": [
      "100%|██████████| 4/4 [00:01<00:00,  3.78it/s]\n",
      "  0%|          | 0/313 [00:00<?, ?it/s]"
     ]
    },
    {
     "name": "stdout",
     "output_type": "stream",
     "text": [
      "Valid: loss = 0.69306756119528, top 1 = 0.95, top 5 = 0.9770000000000004, top 10 = 0.972000000000001, kendal = 0.8978549058280586\n",
      "\n",
      "Epoch: 200\n"
     ]
    },
    {
     "name": "stderr",
     "output_type": "stream",
     "text": [
      "100%|██████████| 313/313 [02:07<00:00,  2.46it/s]\n",
      "100%|██████████| 313/313 [02:07<00:00,  2.46it/s]\n",
      "  0%|          | 0/4 [00:00<?, ?it/s]"
     ]
    },
    {
     "name": "stdout",
     "output_type": "stream",
     "text": [
      "Train: loss = 0.6930624940986434, top 1 = 0.97345, top 5 = 0.9778499999999605, top 10 = 0.9735099999999962, kendal = 0.8999042576687428\n"
     ]
    },
    {
     "name": "stderr",
     "output_type": "stream",
     "text": [
      "100%|██████████| 4/4 [00:01<00:00,  2.89it/s]\n",
      "  0%|          | 0/313 [00:00<?, ?it/s]"
     ]
    },
    {
     "name": "stdout",
     "output_type": "stream",
     "text": [
      "Valid: loss = 0.6930682007449349, top 1 = 0.95, top 5 = 0.9770000000000004, top 10 = 0.9705000000000011, kendal = 0.8979684742985755\n",
      "\n",
      "Epoch: 201\n"
     ]
    },
    {
     "name": "stderr",
     "output_type": "stream",
     "text": [
      "100%|██████████| 313/313 [02:12<00:00,  2.37it/s]\n",
      "100%|██████████| 313/313 [01:51<00:00,  2.81it/s]\n",
      "  0%|          | 0/4 [00:00<?, ?it/s]"
     ]
    },
    {
     "name": "stdout",
     "output_type": "stream",
     "text": [
      "Train: loss = 0.6930623815726312, top 1 = 0.9731, top 5 = 0.9780099999999607, top 10 = 0.9735599999999951, kendal = 0.8992275764074175\n"
     ]
    },
    {
     "name": "stderr",
     "output_type": "stream",
     "text": [
      "100%|██████████| 4/4 [00:01<00:00,  2.83it/s]\n",
      "  0%|          | 0/313 [00:00<?, ?it/s]"
     ]
    },
    {
     "name": "stdout",
     "output_type": "stream",
     "text": [
      "Valid: loss = 0.693065661948188, top 1 = 0.95, top 5 = 0.9780000000000004, top 10 = 0.9695000000000009, kendal = 0.8973684726823941\n",
      "\n",
      "Epoch: 202\n"
     ]
    },
    {
     "name": "stderr",
     "output_type": "stream",
     "text": [
      "100%|██████████| 313/313 [02:33<00:00,  2.04it/s]\n",
      "100%|██████████| 313/313 [01:28<00:00,  3.53it/s]\n",
      "  0%|          | 0/4 [00:00<?, ?it/s]"
     ]
    },
    {
     "name": "stdout",
     "output_type": "stream",
     "text": [
      "Train: loss = 0.6930625738221697, top 1 = 0.97385, top 5 = 0.9779499999999606, top 10 = 0.9735399999999963, kendal = 0.8995298378147134\n"
     ]
    },
    {
     "name": "stderr",
     "output_type": "stream",
     "text": [
      "100%|██████████| 4/4 [00:01<00:00,  3.34it/s]\n",
      "  0%|          | 0/313 [00:00<?, ?it/s]"
     ]
    },
    {
     "name": "stdout",
     "output_type": "stream",
     "text": [
      "Valid: loss = 0.6930664710852867, top 1 = 0.95, top 5 = 0.9780000000000004, top 10 = 0.971000000000001, kendal = 0.8975745031866876\n",
      "\n",
      "Epoch: 203\n"
     ]
    },
    {
     "name": "stderr",
     "output_type": "stream",
     "text": [
      "100%|██████████| 313/313 [02:46<00:00,  1.88it/s]\n",
      "100%|██████████| 313/313 [01:37<00:00,  3.22it/s]\n",
      "  0%|          | 0/4 [00:00<?, ?it/s]"
     ]
    },
    {
     "name": "stdout",
     "output_type": "stream",
     "text": [
      "Train: loss = 0.6930622587933075, top 1 = 0.97385, top 5 = 0.9781599999999611, top 10 = 0.9735249999999963, kendal = 0.8994688204464486\n"
     ]
    },
    {
     "name": "stderr",
     "output_type": "stream",
     "text": [
      "100%|██████████| 4/4 [00:00<00:00,  5.03it/s]\n",
      "  0%|          | 0/313 [00:00<?, ?it/s]"
     ]
    },
    {
     "name": "stdout",
     "output_type": "stream",
     "text": [
      "Valid: loss = 0.6930667786930775, top 1 = 0.955, top 5 = 0.9770000000000004, top 10 = 0.968000000000001, kendal = 0.8976187252013171\n",
      "\n",
      "Epoch: 204\n"
     ]
    },
    {
     "name": "stderr",
     "output_type": "stream",
     "text": [
      "100%|██████████| 313/313 [02:25<00:00,  2.15it/s]\n",
      "100%|██████████| 313/313 [02:01<00:00,  2.59it/s]\n",
      "  0%|          | 0/4 [00:00<?, ?it/s]"
     ]
    },
    {
     "name": "stdout",
     "output_type": "stream",
     "text": [
      "Train: loss = 0.6930624028469071, top 1 = 0.97345, top 5 = 0.9781199999999611, top 10 = 0.973589999999996, kendal = 0.8999708662111716\n"
     ]
    },
    {
     "name": "stderr",
     "output_type": "stream",
     "text": [
      "100%|██████████| 4/4 [00:00<00:00,  4.76it/s]\n",
      "  0%|          | 0/313 [00:00<?, ?it/s]"
     ]
    },
    {
     "name": "stdout",
     "output_type": "stream",
     "text": [
      "Valid: loss = 0.6930659584475113, top 1 = 0.955, top 5 = 0.9770000000000004, top 10 = 0.9710000000000011, kendal = 0.8981634495012343\n",
      "\n",
      "Epoch: 205\n"
     ]
    },
    {
     "name": "stderr",
     "output_type": "stream",
     "text": [
      "100%|██████████| 313/313 [02:00<00:00,  2.60it/s]\n",
      "100%|██████████| 313/313 [02:09<00:00,  2.42it/s]\n",
      "  0%|          | 0/4 [00:00<?, ?it/s]"
     ]
    },
    {
     "name": "stdout",
     "output_type": "stream",
     "text": [
      "Train: loss = 0.6930624483436263, top 1 = 0.97395, top 5 = 0.9779699999999609, top 10 = 0.9735699999999959, kendal = 0.8996552023196335\n"
     ]
    },
    {
     "name": "stderr",
     "output_type": "stream",
     "text": [
      "100%|██████████| 4/4 [00:01<00:00,  2.97it/s]\n",
      "  0%|          | 0/313 [00:00<?, ?it/s]"
     ]
    },
    {
     "name": "stdout",
     "output_type": "stream",
     "text": [
      "Valid: loss = 0.6930669267813658, top 1 = 0.95, top 5 = 0.9790000000000003, top 10 = 0.971500000000001, kendal = 0.8977393276355773\n",
      "\n",
      "Epoch: 206\n"
     ]
    },
    {
     "name": "stderr",
     "output_type": "stream",
     "text": [
      "100%|██████████| 313/313 [02:14<00:00,  2.32it/s]\n",
      "100%|██████████| 313/313 [01:48<00:00,  2.89it/s]\n",
      "  0%|          | 0/4 [00:00<?, ?it/s]"
     ]
    },
    {
     "name": "stdout",
     "output_type": "stream",
     "text": [
      "Train: loss = 0.693062428779448, top 1 = 0.9734, top 5 = 0.9779799999999607, top 10 = 0.9735799999999958, kendal = 0.8999355752164678\n"
     ]
    },
    {
     "name": "stderr",
     "output_type": "stream",
     "text": [
      "100%|██████████| 4/4 [00:01<00:00,  2.95it/s]\n",
      "  0%|          | 0/313 [00:00<?, ?it/s]"
     ]
    },
    {
     "name": "stdout",
     "output_type": "stream",
     "text": [
      "Valid: loss = 0.6930669695492562, top 1 = 0.95, top 5 = 0.9780000000000004, top 10 = 0.972000000000001, kendal = 0.8981121928410343\n",
      "\n",
      "Epoch: 207\n"
     ]
    },
    {
     "name": "stderr",
     "output_type": "stream",
     "text": [
      "100%|██████████| 313/313 [02:37<00:00,  1.99it/s]\n",
      "100%|██████████| 313/313 [01:29<00:00,  3.49it/s]\n",
      "  0%|          | 0/4 [00:00<?, ?it/s]"
     ]
    },
    {
     "name": "stdout",
     "output_type": "stream",
     "text": [
      "Train: loss = 0.6930621955182863, top 1 = 0.97335, top 5 = 0.978039999999961, top 10 = 0.9736999999999957, kendal = 0.8997983211284504\n"
     ]
    },
    {
     "name": "stderr",
     "output_type": "stream",
     "text": [
      "100%|██████████| 4/4 [00:00<00:00,  4.25it/s]\n",
      "  0%|          | 0/313 [00:00<?, ?it/s]"
     ]
    },
    {
     "name": "stdout",
     "output_type": "stream",
     "text": [
      "Valid: loss = 0.6930665884981363, top 1 = 0.95, top 5 = 0.9770000000000004, top 10 = 0.9690000000000012, kendal = 0.8977966141687495\n",
      "\n",
      "Epoch: 208\n"
     ]
    },
    {
     "name": "stderr",
     "output_type": "stream",
     "text": [
      "100%|██████████| 313/313 [02:39<00:00,  1.97it/s]\n",
      "100%|██████████| 313/313 [01:46<00:00,  2.94it/s]\n",
      "  0%|          | 0/4 [00:00<?, ?it/s]"
     ]
    },
    {
     "name": "stdout",
     "output_type": "stream",
     "text": [
      "Train: loss = 0.6930624053643821, top 1 = 0.97335, top 5 = 0.9779799999999607, top 10 = 0.9736449999999959, kendal = 0.8995530492815562\n"
     ]
    },
    {
     "name": "stderr",
     "output_type": "stream",
     "text": [
      "100%|██████████| 4/4 [00:00<00:00,  4.44it/s]\n",
      "  0%|          | 0/313 [00:00<?, ?it/s]"
     ]
    },
    {
     "name": "stdout",
     "output_type": "stream",
     "text": [
      "Valid: loss = 0.6930692177509868, top 1 = 0.95, top 5 = 0.9770000000000004, top 10 = 0.9705000000000009, kendal = 0.8976719913814586\n",
      "\n",
      "Epoch: 209\n"
     ]
    },
    {
     "name": "stderr",
     "output_type": "stream",
     "text": [
      "100%|██████████| 313/313 [02:13<00:00,  2.34it/s]\n",
      "100%|██████████| 313/313 [02:09<00:00,  2.41it/s]\n",
      "  0%|          | 0/4 [00:00<?, ?it/s]"
     ]
    },
    {
     "name": "stdout",
     "output_type": "stream",
     "text": [
      "Train: loss = 0.6930622041752591, top 1 = 0.97375, top 5 = 0.9780299999999608, top 10 = 0.9735999999999958, kendal = 0.899852297852327\n"
     ]
    },
    {
     "name": "stderr",
     "output_type": "stream",
     "text": [
      "100%|██████████| 4/4 [00:00<00:00,  5.02it/s]\n",
      "  0%|          | 0/313 [00:00<?, ?it/s]"
     ]
    },
    {
     "name": "stdout",
     "output_type": "stream",
     "text": [
      "Valid: loss = 0.6930652590410401, top 1 = 0.95, top 5 = 0.9770000000000004, top 10 = 0.971500000000001, kendal = 0.8981232479406467\n",
      "\n",
      "Epoch: 210\n"
     ]
    },
    {
     "name": "stderr",
     "output_type": "stream",
     "text": [
      "100%|██████████| 313/313 [01:57<00:00,  2.67it/s]\n",
      "100%|██████████| 313/313 [02:05<00:00,  2.49it/s]\n",
      "  0%|          | 0/4 [00:00<?, ?it/s]"
     ]
    },
    {
     "name": "stdout",
     "output_type": "stream",
     "text": [
      "Train: loss = 0.6930622511482368, top 1 = 0.97335, top 5 = 0.9780299999999612, top 10 = 0.9736999999999966, kendal = 0.8992528683608749\n"
     ]
    },
    {
     "name": "stderr",
     "output_type": "stream",
     "text": [
      "100%|██████████| 4/4 [00:01<00:00,  3.37it/s]\n",
      "  0%|          | 0/313 [00:00<?, ?it/s]"
     ]
    },
    {
     "name": "stdout",
     "output_type": "stream",
     "text": [
      "Valid: loss = 0.693063730894682, top 1 = 0.95, top 5 = 0.9780000000000004, top 10 = 0.971500000000001, kendal = 0.8975443533167679\n",
      "\n",
      "Epoch: 211\n"
     ]
    },
    {
     "name": "stderr",
     "output_type": "stream",
     "text": [
      "100%|██████████| 313/313 [02:18<00:00,  2.25it/s]\n",
      "100%|██████████| 313/313 [01:45<00:00,  2.97it/s]\n",
      "  0%|          | 0/4 [00:00<?, ?it/s]"
     ]
    },
    {
     "name": "stdout",
     "output_type": "stream",
     "text": [
      "Train: loss = 0.6930623297924775, top 1 = 0.9735, top 5 = 0.9779899999999607, top 10 = 0.9737249999999964, kendal = 0.8992685020120124\n"
     ]
    },
    {
     "name": "stderr",
     "output_type": "stream",
     "text": [
      "100%|██████████| 4/4 [00:01<00:00,  3.25it/s]\n",
      "  0%|          | 0/313 [00:00<?, ?it/s]"
     ]
    },
    {
     "name": "stdout",
     "output_type": "stream",
     "text": [
      "Valid: loss = 0.6930678290410327, top 1 = 0.95, top 5 = 0.9780000000000004, top 10 = 0.971500000000001, kendal = 0.897425759392336\n",
      "\n",
      "Epoch: 212\n"
     ]
    },
    {
     "name": "stderr",
     "output_type": "stream",
     "text": [
      "100%|██████████| 313/313 [02:39<00:00,  1.97it/s]\n",
      "100%|██████████| 313/313 [01:33<00:00,  3.33it/s]\n",
      "  0%|          | 0/4 [00:00<?, ?it/s]"
     ]
    },
    {
     "name": "stdout",
     "output_type": "stream",
     "text": [
      "Train: loss = 0.6930624736997016, top 1 = 0.97355, top 5 = 0.977909999999961, top 10 = 0.9736299999999953, kendal = 0.899654386015235\n"
     ]
    },
    {
     "name": "stderr",
     "output_type": "stream",
     "text": [
      "100%|██████████| 4/4 [00:00<00:00,  4.45it/s]\n",
      "  0%|          | 0/313 [00:00<?, ?it/s]"
     ]
    },
    {
     "name": "stdout",
     "output_type": "stream",
     "text": [
      "Valid: loss = 0.6930671956002439, top 1 = 0.95, top 5 = 0.9780000000000004, top 10 = 0.971500000000001, kendal = 0.8976760114567085\n",
      "\n",
      "Epoch: 213\n"
     ]
    },
    {
     "name": "stderr",
     "output_type": "stream",
     "text": [
      "100%|██████████| 313/313 [02:29<00:00,  2.09it/s]\n",
      "100%|██████████| 313/313 [01:54<00:00,  2.74it/s]\n",
      "  0%|          | 0/4 [00:00<?, ?it/s]"
     ]
    },
    {
     "name": "stdout",
     "output_type": "stream",
     "text": [
      "Train: loss = 0.6930625614943169, top 1 = 0.9728, top 5 = 0.9779299999999607, top 10 = 0.9737249999999964, kendal = 0.8991256221410889\n"
     ]
    },
    {
     "name": "stderr",
     "output_type": "stream",
     "text": [
      "100%|██████████| 4/4 [00:00<00:00,  4.48it/s]\n",
      "  0%|          | 0/313 [00:00<?, ?it/s]"
     ]
    },
    {
     "name": "stdout",
     "output_type": "stream",
     "text": [
      "Valid: loss = 0.6930655856031656, top 1 = 0.95, top 5 = 0.9780000000000004, top 10 = 0.971500000000001, kendal = 0.8972257591145549\n",
      "\n",
      "Epoch: 214\n"
     ]
    },
    {
     "name": "stderr",
     "output_type": "stream",
     "text": [
      "100%|██████████| 313/313 [02:05<00:00,  2.50it/s]\n",
      "100%|██████████| 313/313 [02:12<00:00,  2.35it/s]\n",
      "  0%|          | 0/4 [00:00<?, ?it/s]"
     ]
    },
    {
     "name": "stdout",
     "output_type": "stream",
     "text": [
      "Train: loss = 0.6930620598563337, top 1 = 0.97365, top 5 = 0.9781199999999609, top 10 = 0.973814999999996, kendal = 0.8998164083103862\n"
     ]
    },
    {
     "name": "stderr",
     "output_type": "stream",
     "text": [
      "100%|██████████| 4/4 [00:01<00:00,  3.26it/s]\n",
      "  0%|          | 0/313 [00:00<?, ?it/s]"
     ]
    },
    {
     "name": "stdout",
     "output_type": "stream",
     "text": [
      "Valid: loss = 0.6930656756762626, top 1 = 0.95, top 5 = 0.9780000000000004, top 10 = 0.971500000000001, kendal = 0.8978941019847277\n",
      "\n",
      "Epoch: 215\n"
     ]
    },
    {
     "name": "stderr",
     "output_type": "stream",
     "text": [
      "100%|██████████| 313/313 [01:58<00:00,  2.65it/s]\n",
      "100%|██████████| 313/313 [02:03<00:00,  2.54it/s]\n",
      "  0%|          | 0/4 [00:00<?, ?it/s]"
     ]
    },
    {
     "name": "stdout",
     "output_type": "stream",
     "text": [
      "Train: loss = 0.693062474312887, top 1 = 0.9739, top 5 = 0.9781599999999611, top 10 = 0.973529999999997, kendal = 0.899904592475639\n"
     ]
    },
    {
     "name": "stderr",
     "output_type": "stream",
     "text": [
      "100%|██████████| 4/4 [00:01<00:00,  3.32it/s]\n",
      "  0%|          | 0/313 [00:00<?, ?it/s]"
     ]
    },
    {
     "name": "stdout",
     "output_type": "stream",
     "text": [
      "Valid: loss = 0.6930649043260236, top 1 = 0.95, top 5 = 0.9780000000000004, top 10 = 0.9710000000000011, kendal = 0.8980961114794164\n",
      "\n",
      "Epoch: 216\n"
     ]
    },
    {
     "name": "stderr",
     "output_type": "stream",
     "text": [
      "100%|██████████| 313/313 [02:21<00:00,  2.22it/s]\n",
      "100%|██████████| 313/313 [01:41<00:00,  3.07it/s]\n",
      "  0%|          | 0/4 [00:00<?, ?it/s]"
     ]
    },
    {
     "name": "stdout",
     "output_type": "stream",
     "text": [
      "Train: loss = 0.6930623004840009, top 1 = 0.97385, top 5 = 0.978159999999961, top 10 = 0.9738449999999957, kendal = 0.8991859638238667\n"
     ]
    },
    {
     "name": "stderr",
     "output_type": "stream",
     "text": [
      "100%|██████████| 4/4 [00:01<00:00,  2.79it/s]\n",
      "  0%|          | 0/313 [00:00<?, ?it/s]"
     ]
    },
    {
     "name": "stdout",
     "output_type": "stream",
     "text": [
      "Valid: loss = 0.6930661150734013, top 1 = 0.95, top 5 = 0.9770000000000004, top 10 = 0.971000000000001, kendal = 0.8973785224033403\n",
      "\n",
      "Epoch: 217\n"
     ]
    },
    {
     "name": "stderr",
     "output_type": "stream",
     "text": [
      "100%|██████████| 313/313 [02:37<00:00,  1.99it/s]\n",
      "100%|██████████| 313/313 [01:41<00:00,  3.08it/s]\n",
      "  0%|          | 0/4 [00:00<?, ?it/s]"
     ]
    },
    {
     "name": "stdout",
     "output_type": "stream",
     "text": [
      "Train: loss = 0.6930624024426564, top 1 = 0.97325, top 5 = 0.9779999999999609, top 10 = 0.9737549999999956, kendal = 0.8989460565503327\n"
     ]
    },
    {
     "name": "stderr",
     "output_type": "stream",
     "text": [
      "100%|██████████| 4/4 [00:00<00:00,  4.28it/s]\n",
      "  0%|          | 0/313 [00:00<?, ?it/s]"
     ]
    },
    {
     "name": "stdout",
     "output_type": "stream",
     "text": [
      "Valid: loss = 0.6930666367037636, top 1 = 0.95, top 5 = 0.9770000000000004, top 10 = 0.972000000000001, kendal = 0.8971825429331416\n",
      "\n",
      "Epoch: 218\n"
     ]
    },
    {
     "name": "stderr",
     "output_type": "stream",
     "text": [
      "100%|██████████| 313/313 [02:18<00:00,  2.25it/s]\n",
      "100%|██████████| 313/313 [02:06<00:00,  2.48it/s]\n",
      "  0%|          | 0/4 [00:00<?, ?it/s]"
     ]
    },
    {
     "name": "stdout",
     "output_type": "stream",
     "text": [
      "Train: loss = 0.6930623209020987, top 1 = 0.97275, top 5 = 0.9781499999999614, top 10 = 0.9738099999999958, kendal = 0.8993293484792959\n"
     ]
    },
    {
     "name": "stderr",
     "output_type": "stream",
     "text": [
      "100%|██████████| 4/4 [00:00<00:00,  4.05it/s]\n",
      "  0%|          | 0/313 [00:00<?, ?it/s]"
     ]
    },
    {
     "name": "stdout",
     "output_type": "stream",
     "text": [
      "Valid: loss = 0.6930670472087962, top 1 = 0.955, top 5 = 0.9780000000000004, top 10 = 0.972000000000001, kendal = 0.8974991262770127\n",
      "\n",
      "Epoch: 219\n"
     ]
    },
    {
     "name": "stderr",
     "output_type": "stream",
     "text": [
      "100%|██████████| 313/313 [01:51<00:00,  2.81it/s]\n",
      "100%|██████████| 313/313 [02:17<00:00,  2.27it/s]\n",
      "  0%|          | 0/4 [00:00<?, ?it/s]"
     ]
    },
    {
     "name": "stdout",
     "output_type": "stream",
     "text": [
      "Train: loss = 0.6930623761373546, top 1 = 0.9733, top 5 = 0.9780999999999612, top 10 = 0.9737749999999953, kendal = 0.9002759314115368\n"
     ]
    },
    {
     "name": "stderr",
     "output_type": "stream",
     "text": [
      "100%|██████████| 4/4 [00:01<00:00,  3.37it/s]\n",
      "  0%|          | 0/313 [00:00<?, ?it/s]"
     ]
    },
    {
     "name": "stdout",
     "output_type": "stream",
     "text": [
      "Valid: loss = 0.6930671777063143, top 1 = 0.95, top 5 = 0.9780000000000004, top 10 = 0.971000000000001, kendal = 0.8983594278350556\n",
      "\n",
      "Epoch: 220\n"
     ]
    },
    {
     "name": "stderr",
     "output_type": "stream",
     "text": [
      "100%|██████████| 313/313 [01:51<00:00,  2.80it/s]\n",
      "100%|██████████| 313/313 [01:37<00:00,  3.21it/s]\n",
      "  0%|          | 0/4 [00:00<?, ?it/s]"
     ]
    },
    {
     "name": "stdout",
     "output_type": "stream",
     "text": [
      "Train: loss = 0.6930622369777761, top 1 = 0.9736, top 5 = 0.9781499999999612, top 10 = 0.9737349999999966, kendal = 0.8998487678568504\n"
     ]
    },
    {
     "name": "stderr",
     "output_type": "stream",
     "text": [
      "100%|██████████| 4/4 [00:01<00:00,  3.20it/s]\n",
      "  0%|          | 0/313 [00:00<?, ?it/s]"
     ]
    },
    {
     "name": "stdout",
     "output_type": "stream",
     "text": [
      "Valid: loss = 0.6930669707698786, top 1 = 0.95, top 5 = 0.9770000000000004, top 10 = 0.971000000000001, kendal = 0.8980589264083649\n",
      "\n",
      "Epoch: 221\n"
     ]
    },
    {
     "name": "stderr",
     "output_type": "stream",
     "text": [
      "100%|██████████| 313/313 [02:10<00:00,  2.39it/s]\n",
      "100%|██████████| 313/313 [01:22<00:00,  3.80it/s]\n",
      " 25%|██▌       | 1/4 [00:00<00:00,  6.92it/s]"
     ]
    },
    {
     "name": "stdout",
     "output_type": "stream",
     "text": [
      "Train: loss = 0.6930622619591853, top 1 = 0.97335, top 5 = 0.9781199999999614, top 10 = 0.9737449999999972, kendal = 0.8997064640738499\n"
     ]
    },
    {
     "name": "stderr",
     "output_type": "stream",
     "text": [
      "100%|██████████| 4/4 [00:00<00:00,  6.14it/s]\n",
      "  0%|          | 0/313 [00:00<?, ?it/s]"
     ]
    },
    {
     "name": "stdout",
     "output_type": "stream",
     "text": [
      "Valid: loss = 0.6930654479144915, top 1 = 0.95, top 5 = 0.9780000000000004, top 10 = 0.971000000000001, kendal = 0.8978750058760202\n",
      "\n",
      "Epoch: 222\n"
     ]
    },
    {
     "name": "stderr",
     "output_type": "stream",
     "text": [
      "100%|██████████| 313/313 [01:59<00:00,  2.61it/s]\n",
      "100%|██████████| 313/313 [01:46<00:00,  2.94it/s]\n",
      "  0%|          | 0/4 [00:00<?, ?it/s]"
     ]
    },
    {
     "name": "stdout",
     "output_type": "stream",
     "text": [
      "Train: loss = 0.6930623012956495, top 1 = 0.97325, top 5 = 0.9780699999999611, top 10 = 0.9736949999999953, kendal = 0.8995272425102857\n"
     ]
    },
    {
     "name": "stderr",
     "output_type": "stream",
     "text": [
      "100%|██████████| 4/4 [00:00<00:00,  5.31it/s]\n",
      "  0%|          | 0/313 [00:00<?, ?it/s]"
     ]
    },
    {
     "name": "stdout",
     "output_type": "stream",
     "text": [
      "Valid: loss = 0.6930667098386684, top 1 = 0.95, top 5 = 0.9770000000000004, top 10 = 0.971500000000001, kendal = 0.8976167142672168\n",
      "\n",
      "Epoch: 223\n"
     ]
    },
    {
     "name": "stderr",
     "output_type": "stream",
     "text": [
      "100%|██████████| 313/313 [01:24<00:00,  3.72it/s]\n",
      "100%|██████████| 313/313 [02:03<00:00,  2.53it/s]\n",
      "  0%|          | 0/4 [00:00<?, ?it/s]"
     ]
    },
    {
     "name": "stdout",
     "output_type": "stream",
     "text": [
      "Train: loss = 0.6930624117773884, top 1 = 0.9739, top 5 = 0.9781899999999614, top 10 = 0.9738449999999952, kendal = 0.8995851319320138\n"
     ]
    },
    {
     "name": "stderr",
     "output_type": "stream",
     "text": [
      "100%|██████████| 4/4 [00:01<00:00,  3.76it/s]\n",
      "  0%|          | 0/313 [00:00<?, ?it/s]"
     ]
    },
    {
     "name": "stdout",
     "output_type": "stream",
     "text": [
      "Valid: loss = 0.6930644192996012, top 1 = 0.95, top 5 = 0.9770000000000004, top 10 = 0.9705000000000011, kendal = 0.8978900806468362\n",
      "\n",
      "Epoch: 224\n"
     ]
    },
    {
     "name": "stderr",
     "output_type": "stream",
     "text": [
      "100%|██████████| 313/313 [01:35<00:00,  3.29it/s]\n",
      "100%|██████████| 313/313 [01:39<00:00,  3.15it/s]\n",
      "  0%|          | 0/4 [00:00<?, ?it/s]"
     ]
    },
    {
     "name": "stdout",
     "output_type": "stream",
     "text": [
      "Train: loss = 0.6930625141583687, top 1 = 0.97365, top 5 = 0.9780199999999611, top 10 = 0.9737899999999958, kendal = 0.899701220082297\n"
     ]
    },
    {
     "name": "stderr",
     "output_type": "stream",
     "text": [
      "100%|██████████| 4/4 [00:01<00:00,  3.33it/s]\n",
      "  0%|          | 0/313 [00:00<?, ?it/s]"
     ]
    },
    {
     "name": "stdout",
     "output_type": "stream",
     "text": [
      "Valid: loss = 0.6930662988733622, top 1 = 0.95, top 5 = 0.9780000000000004, top 10 = 0.971000000000001, kendal = 0.8977503820028566\n",
      "\n",
      "Epoch: 225\n"
     ]
    },
    {
     "name": "stderr",
     "output_type": "stream",
     "text": [
      "100%|██████████| 313/313 [02:08<00:00,  2.44it/s]\n",
      "100%|██████████| 313/313 [01:27<00:00,  3.59it/s]\n",
      "  0%|          | 0/4 [00:00<?, ?it/s]"
     ]
    },
    {
     "name": "stdout",
     "output_type": "stream",
     "text": [
      "Train: loss = 0.6930623386780101, top 1 = 0.9742, top 5 = 0.9782399999999613, top 10 = 0.9737799999999964, kendal = 0.8997577148554263\n"
     ]
    },
    {
     "name": "stderr",
     "output_type": "stream",
     "text": [
      "100%|██████████| 4/4 [00:00<00:00,  5.90it/s]\n",
      "  0%|          | 0/313 [00:00<?, ?it/s]"
     ]
    },
    {
     "name": "stdout",
     "output_type": "stream",
     "text": [
      "Valid: loss = 0.6930669853613816, top 1 = 0.95, top 5 = 0.9770000000000004, top 10 = 0.971000000000001, kendal = 0.8979021415039066\n",
      "\n",
      "Epoch: 226\n"
     ]
    },
    {
     "name": "stderr",
     "output_type": "stream",
     "text": [
      "100%|██████████| 313/313 [01:52<00:00,  2.78it/s]\n",
      "100%|██████████| 313/313 [01:53<00:00,  2.76it/s]\n",
      "  0%|          | 0/4 [00:00<?, ?it/s]"
     ]
    },
    {
     "name": "stdout",
     "output_type": "stream",
     "text": [
      "Train: loss = 0.6930624036692955, top 1 = 0.97355, top 5 = 0.9781999999999611, top 10 = 0.9738399999999959, kendal = 0.899634142473382\n"
     ]
    },
    {
     "name": "stderr",
     "output_type": "stream",
     "text": [
      "100%|██████████| 4/4 [00:00<00:00,  4.88it/s]\n",
      "  0%|          | 0/313 [00:00<?, ?it/s]"
     ]
    },
    {
     "name": "stdout",
     "output_type": "stream",
     "text": [
      "Valid: loss = 0.6930671694763635, top 1 = 0.955, top 5 = 0.9780000000000004, top 10 = 0.970000000000001, kendal = 0.8976910859749959\n",
      "\n",
      "Epoch: 227\n"
     ]
    },
    {
     "name": "stderr",
     "output_type": "stream",
     "text": [
      "100%|██████████| 313/313 [01:19<00:00,  3.95it/s]\n",
      "100%|██████████| 313/313 [02:02<00:00,  2.56it/s]\n",
      "  0%|          | 0/4 [00:00<?, ?it/s]"
     ]
    },
    {
     "name": "stdout",
     "output_type": "stream",
     "text": [
      "Train: loss = 0.6930623511913742, top 1 = 0.9739, top 5 = 0.9782599999999612, top 10 = 0.9738699999999962, kendal = 0.8991916869111943\n"
     ]
    },
    {
     "name": "stderr",
     "output_type": "stream",
     "text": [
      "100%|██████████| 4/4 [00:01<00:00,  2.90it/s]\n",
      "  0%|          | 0/313 [00:00<?, ?it/s]"
     ]
    },
    {
     "name": "stdout",
     "output_type": "stream",
     "text": [
      "Valid: loss = 0.6930664775663693, top 1 = 0.95, top 5 = 0.9780000000000004, top 10 = 0.971000000000001, kendal = 0.8972790254967186\n",
      "\n",
      "Epoch: 228\n"
     ]
    },
    {
     "name": "stderr",
     "output_type": "stream",
     "text": [
      "100%|██████████| 313/313 [01:42<00:00,  3.05it/s]\n",
      "100%|██████████| 313/313 [01:33<00:00,  3.33it/s]\n",
      "  0%|          | 0/4 [00:00<?, ?it/s]"
     ]
    },
    {
     "name": "stdout",
     "output_type": "stream",
     "text": [
      "Train: loss = 0.6930624159593064, top 1 = 0.9739, top 5 = 0.9782599999999616, top 10 = 0.9736999999999967, kendal = 0.9000733709047507\n"
     ]
    },
    {
     "name": "stderr",
     "output_type": "stream",
     "text": [
      "100%|██████████| 4/4 [00:01<00:00,  2.92it/s]\n",
      "  0%|          | 0/313 [00:00<?, ?it/s]"
     ]
    },
    {
     "name": "stdout",
     "output_type": "stream",
     "text": [
      "Valid: loss = 0.6930650588746228, top 1 = 0.95, top 5 = 0.9780000000000004, top 10 = 0.9710000000000011, kendal = 0.898246865248261\n",
      "\n",
      "Epoch: 229\n"
     ]
    },
    {
     "name": "stderr",
     "output_type": "stream",
     "text": [
      "100%|██████████| 313/313 [02:12<00:00,  2.36it/s]\n",
      "100%|██████████| 313/313 [01:25<00:00,  3.66it/s]\n",
      "  0%|          | 0/4 [00:00<?, ?it/s]"
     ]
    },
    {
     "name": "stdout",
     "output_type": "stream",
     "text": [
      "Train: loss = 0.6930625895810045, top 1 = 0.9741, top 5 = 0.9781099999999611, top 10 = 0.9738299999999963, kendal = 0.9003158757624776\n"
     ]
    },
    {
     "name": "stderr",
     "output_type": "stream",
     "text": [
      "100%|██████████| 4/4 [00:00<00:00,  4.26it/s]\n",
      "  0%|          | 0/313 [00:00<?, ?it/s]"
     ]
    },
    {
     "name": "stdout",
     "output_type": "stream",
     "text": [
      "Valid: loss = 0.693064075445568, top 1 = 0.955, top 5 = 0.9790000000000003, top 10 = 0.9700000000000011, kendal = 0.898550383745303\n",
      "\n",
      "Epoch: 230\n"
     ]
    },
    {
     "name": "stderr",
     "output_type": "stream",
     "text": [
      "100%|██████████| 313/313 [01:57<00:00,  2.67it/s]\n",
      "100%|██████████| 313/313 [01:50<00:00,  2.83it/s]\n",
      "  0%|          | 0/4 [00:00<?, ?it/s]"
     ]
    },
    {
     "name": "stdout",
     "output_type": "stream",
     "text": [
      "Train: loss = 0.6930622761872219, top 1 = 0.97385, top 5 = 0.9783299999999612, top 10 = 0.9738199999999959, kendal = 0.8997931196583264\n"
     ]
    },
    {
     "name": "stderr",
     "output_type": "stream",
     "text": [
      "100%|██████████| 4/4 [00:00<00:00,  4.89it/s]\n",
      "  0%|          | 0/313 [00:00<?, ?it/s]"
     ]
    },
    {
     "name": "stdout",
     "output_type": "stream",
     "text": [
      "Valid: loss = 0.6930683252470363, top 1 = 0.945, top 5 = 0.9780000000000004, top 10 = 0.9705000000000009, kendal = 0.8979463627356984\n",
      "\n",
      "Epoch: 231\n"
     ]
    },
    {
     "name": "stderr",
     "output_type": "stream",
     "text": [
      "100%|██████████| 313/313 [01:26<00:00,  3.63it/s]\n",
      "100%|██████████| 313/313 [02:00<00:00,  2.59it/s]\n",
      "  0%|          | 0/4 [00:00<?, ?it/s]"
     ]
    },
    {
     "name": "stdout",
     "output_type": "stream",
     "text": [
      "Train: loss = 0.6930621766190547, top 1 = 0.9739, top 5 = 0.9783699999999617, top 10 = 0.9739849999999964, kendal = 0.8978607877654265\n"
     ]
    },
    {
     "name": "stderr",
     "output_type": "stream",
     "text": [
      "100%|██████████| 4/4 [00:01<00:00,  3.31it/s]\n",
      "  0%|          | 0/313 [00:00<?, ?it/s]"
     ]
    },
    {
     "name": "stdout",
     "output_type": "stream",
     "text": [
      "Valid: loss = 0.693065637960668, top 1 = 0.95, top 5 = 0.9790000000000003, top 10 = 0.9705000000000009, kendal = 0.8960468645916871\n",
      "\n",
      "Epoch: 232\n"
     ]
    },
    {
     "name": "stderr",
     "output_type": "stream",
     "text": [
      "100%|██████████| 313/313 [01:42<00:00,  3.06it/s]\n",
      "100%|██████████| 313/313 [01:31<00:00,  3.43it/s]\n",
      "  0%|          | 0/4 [00:00<?, ?it/s]"
     ]
    },
    {
     "name": "stdout",
     "output_type": "stream",
     "text": [
      "Train: loss = 0.6930624516994632, top 1 = 0.974, top 5 = 0.9782899999999614, top 10 = 0.9738549999999965, kendal = 0.9004887378012952\n"
     ]
    },
    {
     "name": "stderr",
     "output_type": "stream",
     "text": [
      "100%|██████████| 4/4 [00:01<00:00,  2.85it/s]\n",
      "  0%|          | 0/313 [00:00<?, ?it/s]"
     ]
    },
    {
     "name": "stdout",
     "output_type": "stream",
     "text": [
      "Valid: loss = 0.6930662128976344, top 1 = 0.95, top 5 = 0.9780000000000004, top 10 = 0.9705000000000011, kendal = 0.8986287757051019\n",
      "\n",
      "Epoch: 233\n"
     ]
    },
    {
     "name": "stderr",
     "output_type": "stream",
     "text": [
      "100%|██████████| 313/313 [02:15<00:00,  2.32it/s]\n",
      "100%|██████████| 313/313 [01:20<00:00,  3.87it/s]\n",
      "  0%|          | 0/4 [00:00<?, ?it/s]"
     ]
    },
    {
     "name": "stdout",
     "output_type": "stream",
     "text": [
      "Train: loss = 0.6930626109499404, top 1 = 0.97385, top 5 = 0.9783899999999619, top 10 = 0.9738399999999962, kendal = 0.8994093205365756\n"
     ]
    },
    {
     "name": "stderr",
     "output_type": "stream",
     "text": [
      "100%|██████████| 4/4 [00:00<00:00,  4.32it/s]\n",
      "  0%|          | 0/313 [00:00<?, ?it/s]"
     ]
    },
    {
     "name": "stdout",
     "output_type": "stream",
     "text": [
      "Valid: loss = 0.6930679622672576, top 1 = 0.95, top 5 = 0.9790000000000003, top 10 = 0.971000000000001, kendal = 0.89759058414426\n",
      "\n",
      "Epoch: 234\n"
     ]
    },
    {
     "name": "stderr",
     "output_type": "stream",
     "text": [
      "100%|██████████| 313/313 [02:01<00:00,  2.58it/s]\n",
      "100%|██████████| 313/313 [01:46<00:00,  2.93it/s]\n",
      "  0%|          | 0/4 [00:00<?, ?it/s]"
     ]
    },
    {
     "name": "stdout",
     "output_type": "stream",
     "text": [
      "Train: loss = 0.6930625055857755, top 1 = 0.97375, top 5 = 0.978319999999961, top 10 = 0.9739699999999959, kendal = 0.9003580510899007\n"
     ]
    },
    {
     "name": "stderr",
     "output_type": "stream",
     "text": [
      "100%|██████████| 4/4 [00:00<00:00,  4.39it/s]\n",
      "  0%|          | 0/313 [00:00<?, ?it/s]"
     ]
    },
    {
     "name": "stdout",
     "output_type": "stream",
     "text": [
      "Valid: loss = 0.6930656527392801, top 1 = 0.95, top 5 = 0.9780000000000004, top 10 = 0.971000000000001, kendal = 0.8985513887956814\n",
      "\n",
      "Epoch: 235\n"
     ]
    },
    {
     "name": "stderr",
     "output_type": "stream",
     "text": [
      "100%|██████████| 313/313 [01:30<00:00,  3.46it/s]\n",
      "100%|██████████| 313/313 [01:57<00:00,  2.66it/s]\n",
      "  0%|          | 0/4 [00:00<?, ?it/s]"
     ]
    },
    {
     "name": "stdout",
     "output_type": "stream",
     "text": [
      "Train: loss = 0.6930623308080005, top 1 = 0.9742, top 5 = 0.9782799999999615, top 10 = 0.9739099999999958, kendal = 0.9004669254741317\n"
     ]
    },
    {
     "name": "stderr",
     "output_type": "stream",
     "text": [
      "100%|██████████| 4/4 [00:01<00:00,  3.32it/s]\n",
      "  0%|          | 0/313 [00:00<?, ?it/s]"
     ]
    },
    {
     "name": "stdout",
     "output_type": "stream",
     "text": [
      "Valid: loss = 0.6930692457966882, top 1 = 0.955, top 5 = 0.9780000000000004, top 10 = 0.9705000000000011, kendal = 0.8985212382439357\n",
      "\n",
      "Epoch: 236\n"
     ]
    },
    {
     "name": "stderr",
     "output_type": "stream",
     "text": [
      "100%|██████████| 313/313 [01:45<00:00,  2.96it/s]\n",
      "100%|██████████| 313/313 [01:29<00:00,  3.52it/s]\n",
      "  0%|          | 0/4 [00:00<?, ?it/s]"
     ]
    },
    {
     "name": "stdout",
     "output_type": "stream",
     "text": [
      "Train: loss = 0.6930623785575369, top 1 = 0.9733, top 5 = 0.978209999999961, top 10 = 0.9739249999999969, kendal = 0.899744787993717\n"
     ]
    },
    {
     "name": "stderr",
     "output_type": "stream",
     "text": [
      "100%|██████████| 4/4 [00:01<00:00,  3.36it/s]\n",
      "  0%|          | 0/313 [00:00<?, ?it/s]"
     ]
    },
    {
     "name": "stdout",
     "output_type": "stream",
     "text": [
      "Valid: loss = 0.6930663236072602, top 1 = 0.955, top 5 = 0.9770000000000004, top 10 = 0.9705000000000011, kendal = 0.8978197314890847\n",
      "\n",
      "Epoch: 237\n"
     ]
    },
    {
     "name": "stderr",
     "output_type": "stream",
     "text": [
      "100%|██████████| 313/313 [02:18<00:00,  2.26it/s]\n",
      "100%|██████████| 313/313 [01:15<00:00,  4.14it/s]\n",
      "  0%|          | 0/4 [00:00<?, ?it/s]"
     ]
    },
    {
     "name": "stdout",
     "output_type": "stream",
     "text": [
      "Train: loss = 0.6930624770016672, top 1 = 0.9735, top 5 = 0.978349999999962, top 10 = 0.973879999999996, kendal = 0.9001745468061203\n"
     ]
    },
    {
     "name": "stderr",
     "output_type": "stream",
     "text": [
      "100%|██████████| 4/4 [00:00<00:00,  4.33it/s]\n",
      "  0%|          | 0/313 [00:00<?, ?it/s]"
     ]
    },
    {
     "name": "stdout",
     "output_type": "stream",
     "text": [
      "Valid: loss = 0.6930654771359837, top 1 = 0.95, top 5 = 0.9770000000000004, top 10 = 0.972000000000001, kendal = 0.8981755075804922\n",
      "\n",
      "Epoch: 238\n"
     ]
    },
    {
     "name": "stderr",
     "output_type": "stream",
     "text": [
      "100%|██████████| 313/313 [02:07<00:00,  2.46it/s]\n",
      "100%|██████████| 313/313 [01:41<00:00,  3.08it/s]\n",
      "  0%|          | 0/4 [00:00<?, ?it/s]"
     ]
    },
    {
     "name": "stdout",
     "output_type": "stream",
     "text": [
      "Train: loss = 0.6930624008025256, top 1 = 0.97385, top 5 = 0.9783099999999615, top 10 = 0.9739249999999955, kendal = 0.900041380978743\n"
     ]
    },
    {
     "name": "stderr",
     "output_type": "stream",
     "text": [
      "100%|██████████| 4/4 [00:00<00:00,  4.33it/s]\n",
      "  0%|          | 0/313 [00:00<?, ?it/s]"
     ]
    },
    {
     "name": "stdout",
     "output_type": "stream",
     "text": [
      "Valid: loss = 0.693065457039019, top 1 = 0.95, top 5 = 0.9770000000000004, top 10 = 0.9705000000000011, kendal = 0.8979664637937731\n",
      "\n",
      "Epoch: 239\n"
     ]
    },
    {
     "name": "stderr",
     "output_type": "stream",
     "text": [
      "100%|██████████| 313/313 [01:38<00:00,  3.17it/s]\n",
      "100%|██████████| 313/313 [01:55<00:00,  2.71it/s]\n",
      "  0%|          | 0/4 [00:00<?, ?it/s]"
     ]
    },
    {
     "name": "stdout",
     "output_type": "stream",
     "text": [
      "Train: loss = 0.6930624669508793, top 1 = 0.9742, top 5 = 0.9783899999999618, top 10 = 0.9738799999999961, kendal = 0.9004592883192026\n"
     ]
    },
    {
     "name": "stderr",
     "output_type": "stream",
     "text": [
      "100%|██████████| 4/4 [00:01<00:00,  2.85it/s]\n",
      "  0%|          | 0/313 [00:00<?, ?it/s]"
     ]
    },
    {
     "name": "stdout",
     "output_type": "stream",
     "text": [
      "Valid: loss = 0.6930669723071157, top 1 = 0.95, top 5 = 0.9780000000000004, top 10 = 0.972000000000001, kendal = 0.8985976208100567\n",
      "\n",
      "Epoch: 240\n"
     ]
    },
    {
     "name": "stderr",
     "output_type": "stream",
     "text": [
      "100%|██████████| 313/313 [01:45<00:00,  2.97it/s]\n",
      "100%|██████████| 313/313 [01:32<00:00,  3.39it/s]\n",
      "  0%|          | 0/4 [00:00<?, ?it/s]"
     ]
    },
    {
     "name": "stdout",
     "output_type": "stream",
     "text": [
      "Train: loss = 0.6930624418034421, top 1 = 0.9738, top 5 = 0.9783299999999615, top 10 = 0.9738599999999958, kendal = 0.9004572804378428\n"
     ]
    },
    {
     "name": "stderr",
     "output_type": "stream",
     "text": [
      "100%|██████████| 4/4 [00:01<00:00,  3.32it/s]\n",
      "  0%|          | 0/313 [00:00<?, ?it/s]"
     ]
    },
    {
     "name": "stdout",
     "output_type": "stream",
     "text": [
      "Valid: loss = 0.6930663306927449, top 1 = 0.945, top 5 = 0.9790000000000003, top 10 = 0.971000000000001, kendal = 0.898587570053744\n",
      "\n",
      "Epoch: 241\n"
     ]
    },
    {
     "name": "stderr",
     "output_type": "stream",
     "text": [
      "100%|██████████| 313/313 [02:15<00:00,  2.31it/s]\n",
      "100%|██████████| 313/313 [01:12<00:00,  4.32it/s]\n",
      "  0%|          | 0/4 [00:00<?, ?it/s]"
     ]
    },
    {
     "name": "stdout",
     "output_type": "stream",
     "text": [
      "Train: loss = 0.6930623010178326, top 1 = 0.97395, top 5 = 0.9782199999999616, top 10 = 0.9739099999999957, kendal = 0.9004652279469879\n"
     ]
    },
    {
     "name": "stderr",
     "output_type": "stream",
     "text": [
      "100%|██████████| 4/4 [00:00<00:00,  4.85it/s]\n",
      "  0%|          | 0/313 [00:00<?, ?it/s]"
     ]
    },
    {
     "name": "stdout",
     "output_type": "stream",
     "text": [
      "Valid: loss = 0.6930671119229269, top 1 = 0.955, top 5 = 0.9780000000000004, top 10 = 0.9705000000000011, kendal = 0.8985724961920296\n",
      "\n",
      "Epoch: 242\n"
     ]
    },
    {
     "name": "stderr",
     "output_type": "stream",
     "text": [
      "100%|██████████| 313/313 [02:16<00:00,  2.29it/s]\n",
      "100%|██████████| 313/313 [01:32<00:00,  3.39it/s]\n",
      "  0%|          | 0/4 [00:00<?, ?it/s]"
     ]
    },
    {
     "name": "stdout",
     "output_type": "stream",
     "text": [
      "Train: loss = 0.6930620840831191, top 1 = 0.9742, top 5 = 0.9784699999999619, top 10 = 0.973994999999997, kendal = 0.899862752286566\n"
     ]
    },
    {
     "name": "stderr",
     "output_type": "stream",
     "text": [
      "100%|██████████| 4/4 [00:00<00:00,  4.85it/s]\n",
      "  0%|          | 0/313 [00:00<?, ?it/s]"
     ]
    },
    {
     "name": "stdout",
     "output_type": "stream",
     "text": [
      "Valid: loss = 0.6930667433731427, top 1 = 0.95, top 5 = 0.9780000000000004, top 10 = 0.9715000000000009, kendal = 0.8980659617862673\n",
      "\n",
      "Epoch: 243\n"
     ]
    },
    {
     "name": "stderr",
     "output_type": "stream",
     "text": [
      "100%|██████████| 313/313 [01:50<00:00,  2.82it/s]\n",
      "100%|██████████| 313/313 [01:53<00:00,  2.75it/s]\n",
      "  0%|          | 0/4 [00:00<?, ?it/s]"
     ]
    },
    {
     "name": "stdout",
     "output_type": "stream",
     "text": [
      "Train: loss = 0.6930622181612214, top 1 = 0.9739, top 5 = 0.9784299999999617, top 10 = 0.9739749999999964, kendal = 0.9004122352089345\n"
     ]
    },
    {
     "name": "stderr",
     "output_type": "stream",
     "text": [
      "100%|██████████| 4/4 [00:01<00:00,  3.32it/s]\n",
      "  0%|          | 0/313 [00:00<?, ?it/s]"
     ]
    },
    {
     "name": "stdout",
     "output_type": "stream",
     "text": [
      "Valid: loss = 0.6930677208012185, top 1 = 0.95, top 5 = 0.9780000000000004, top 10 = 0.972000000000001, kendal = 0.8984056615161186\n",
      "\n",
      "Epoch: 244\n"
     ]
    },
    {
     "name": "stderr",
     "output_type": "stream",
     "text": [
      "100%|██████████| 313/313 [01:42<00:00,  3.06it/s]\n",
      "100%|██████████| 313/313 [01:39<00:00,  3.16it/s]\n",
      "  0%|          | 0/4 [00:00<?, ?it/s]"
     ]
    },
    {
     "name": "stdout",
     "output_type": "stream",
     "text": [
      "Train: loss = 0.693062271299458, top 1 = 0.9739, top 5 = 0.9782799999999617, top 10 = 0.9739299999999954, kendal = 0.9008864340427948\n"
     ]
    },
    {
     "name": "stderr",
     "output_type": "stream",
     "text": [
      "100%|██████████| 4/4 [00:01<00:00,  3.32it/s]\n",
      "  0%|          | 0/313 [00:00<?, ?it/s]"
     ]
    },
    {
     "name": "stdout",
     "output_type": "stream",
     "text": [
      "Valid: loss = 0.6930669571958815, top 1 = 0.95, top 5 = 0.9780000000000004, top 10 = 0.971000000000001, kendal = 0.8989142042296866\n",
      "\n",
      "Epoch: 245\n"
     ]
    },
    {
     "name": "stderr",
     "output_type": "stream",
     "text": [
      "100%|██████████| 313/313 [02:09<00:00,  2.42it/s]\n",
      "100%|██████████| 313/313 [01:11<00:00,  4.40it/s]\n",
      "  0%|          | 0/4 [00:00<?, ?it/s]"
     ]
    },
    {
     "name": "stdout",
     "output_type": "stream",
     "text": [
      "Train: loss = 0.6930623796283362, top 1 = 0.9742, top 5 = 0.9782499999999617, top 10 = 0.9739449999999968, kendal = 0.9006329689820792\n"
     ]
    },
    {
     "name": "stderr",
     "output_type": "stream",
     "text": [
      "100%|██████████| 4/4 [00:01<00:00,  2.79it/s]\n",
      "  0%|          | 0/313 [00:00<?, ?it/s]"
     ]
    },
    {
     "name": "stdout",
     "output_type": "stream",
     "text": [
      "Valid: loss = 0.693066481812204, top 1 = 0.95, top 5 = 0.9780000000000004, top 10 = 0.9705000000000011, kendal = 0.8987333001111186\n",
      "\n",
      "Epoch: 246\n"
     ]
    },
    {
     "name": "stderr",
     "output_type": "stream",
     "text": [
      "100%|██████████| 313/313 [02:24<00:00,  2.17it/s]\n",
      "100%|██████████| 313/313 [01:22<00:00,  3.81it/s]\n",
      "  0%|          | 0/4 [00:00<?, ?it/s]"
     ]
    },
    {
     "name": "stdout",
     "output_type": "stream",
     "text": [
      "Train: loss = 0.6930621808984535, top 1 = 0.9742, top 5 = 0.9783499999999616, top 10 = 0.9739549999999958, kendal = 0.9009767277745341\n"
     ]
    },
    {
     "name": "stderr",
     "output_type": "stream",
     "text": [
      "100%|██████████| 4/4 [00:00<00:00,  4.32it/s]\n",
      "  0%|          | 0/313 [00:00<?, ?it/s]"
     ]
    },
    {
     "name": "stdout",
     "output_type": "stream",
     "text": [
      "Valid: loss = 0.6930665093393853, top 1 = 0.95, top 5 = 0.9780000000000004, top 10 = 0.9705000000000009, kendal = 0.8990890791571077\n",
      "\n",
      "Epoch: 247\n"
     ]
    },
    {
     "name": "stderr",
     "output_type": "stream",
     "text": [
      "100%|██████████| 313/313 [02:00<00:00,  2.60it/s]\n",
      "100%|██████████| 313/313 [01:48<00:00,  2.90it/s]\n",
      "  0%|          | 0/4 [00:00<?, ?it/s]"
     ]
    },
    {
     "name": "stdout",
     "output_type": "stream",
     "text": [
      "Train: loss = 0.6930623654980006, top 1 = 0.974, top 5 = 0.9782299999999615, top 10 = 0.9739699999999959, kendal = 0.9004990269821068\n"
     ]
    },
    {
     "name": "stderr",
     "output_type": "stream",
     "text": [
      "100%|██████████| 4/4 [00:00<00:00,  4.31it/s]\n",
      "  0%|          | 0/313 [00:00<?, ?it/s]"
     ]
    },
    {
     "name": "stdout",
     "output_type": "stream",
     "text": [
      "Valid: loss = 0.6930665666833782, top 1 = 0.955, top 5 = 0.9800000000000003, top 10 = 0.9705000000000009, kendal = 0.8985805338677509\n",
      "\n",
      "Epoch: 248\n"
     ]
    },
    {
     "name": "stderr",
     "output_type": "stream",
     "text": [
      "100%|██████████| 313/313 [01:40<00:00,  3.11it/s]\n",
      "100%|██████████| 313/313 [01:45<00:00,  2.97it/s]\n",
      "  0%|          | 0/4 [00:00<?, ?it/s]"
     ]
    },
    {
     "name": "stdout",
     "output_type": "stream",
     "text": [
      "Train: loss = 0.6930622564897683, top 1 = 0.9741, top 5 = 0.9783999999999616, top 10 = 0.9739199999999957, kendal = 0.9007992503201678\n"
     ]
    },
    {
     "name": "stderr",
     "output_type": "stream",
     "text": [
      "100%|██████████| 4/4 [00:01<00:00,  3.19it/s]\n",
      "  0%|          | 0/313 [00:00<?, ?it/s]"
     ]
    },
    {
     "name": "stdout",
     "output_type": "stream",
     "text": [
      "Valid: loss = 0.693065925879006, top 1 = 0.95, top 5 = 0.9790000000000003, top 10 = 0.971500000000001, kendal = 0.8990348072195089\n",
      "\n",
      "Epoch: 249\n"
     ]
    },
    {
     "name": "stderr",
     "output_type": "stream",
     "text": [
      "100%|██████████| 313/313 [02:03<00:00,  2.53it/s]\n",
      "100%|██████████| 313/313 [01:19<00:00,  3.93it/s]\n",
      "  0%|          | 0/4 [00:00<?, ?it/s]"
     ]
    },
    {
     "name": "stdout",
     "output_type": "stream",
     "text": [
      "Train: loss = 0.6930623203741747, top 1 = 0.9741, top 5 = 0.9783099999999615, top 10 = 0.9738999999999965, kendal = 0.9010049365154564\n"
     ]
    },
    {
     "name": "stderr",
     "output_type": "stream",
     "text": [
      "100%|██████████| 4/4 [00:01<00:00,  3.76it/s]\n",
      "  0%|          | 0/313 [00:00<?, ?it/s]"
     ]
    },
    {
     "name": "stdout",
     "output_type": "stream",
     "text": [
      "Valid: loss = 0.6930676160557323, top 1 = 0.95, top 5 = 0.9790000000000003, top 10 = 0.9700000000000011, kendal = 0.8991051590035558\n",
      "\n",
      "Epoch: 250\n"
     ]
    },
    {
     "name": "stderr",
     "output_type": "stream",
     "text": [
      "100%|██████████| 313/313 [02:25<00:00,  2.15it/s]\n",
      "100%|██████████| 313/313 [01:12<00:00,  4.30it/s]\n",
      "  0%|          | 0/4 [00:00<?, ?it/s]"
     ]
    },
    {
     "name": "stdout",
     "output_type": "stream",
     "text": [
      "Train: loss = 0.6930622711615628, top 1 = 0.97425, top 5 = 0.9783999999999619, top 10 = 0.9739549999999958, kendal = 0.9000542296876458\n"
     ]
    },
    {
     "name": "stderr",
     "output_type": "stream",
     "text": [
      "100%|██████████| 4/4 [00:00<00:00,  5.33it/s]\n",
      "  0%|          | 0/313 [00:00<?, ?it/s]"
     ]
    },
    {
     "name": "stdout",
     "output_type": "stream",
     "text": [
      "Valid: loss = 0.6930670468746759, top 1 = 0.95, top 5 = 0.9780000000000004, top 10 = 0.971500000000001, kendal = 0.8980830496881811\n",
      "\n",
      "Epoch: 251\n"
     ]
    },
    {
     "name": "stderr",
     "output_type": "stream",
     "text": [
      "100%|██████████| 313/313 [02:09<00:00,  2.42it/s]\n",
      "100%|██████████| 313/313 [01:39<00:00,  3.14it/s]\n",
      " 25%|██▌       | 1/4 [00:00<00:00,  5.87it/s]"
     ]
    },
    {
     "name": "stdout",
     "output_type": "stream",
     "text": [
      "Train: loss = 0.6930620367622292, top 1 = 0.97375, top 5 = 0.978549999999962, top 10 = 0.974074999999996, kendal = 0.9007694513514645\n"
     ]
    },
    {
     "name": "stderr",
     "output_type": "stream",
     "text": [
      "100%|██████████| 4/4 [00:00<00:00,  5.93it/s]\n",
      "  0%|          | 0/313 [00:00<?, ?it/s]"
     ]
    },
    {
     "name": "stdout",
     "output_type": "stream",
     "text": [
      "Valid: loss = 0.6930662013520899, top 1 = 0.955, top 5 = 0.9770000000000004, top 10 = 0.972000000000001, kendal = 0.8988961137521718\n",
      "\n",
      "Epoch: 252\n"
     ]
    },
    {
     "name": "stderr",
     "output_type": "stream",
     "text": [
      "100%|██████████| 313/313 [01:42<00:00,  3.05it/s]\n",
      "100%|██████████| 313/313 [01:52<00:00,  2.78it/s]\n",
      "  0%|          | 0/4 [00:00<?, ?it/s]"
     ]
    },
    {
     "name": "stdout",
     "output_type": "stream",
     "text": [
      "Train: loss = 0.6930622925686981, top 1 = 0.97435, top 5 = 0.9784099999999617, top 10 = 0.9740149999999967, kendal = 0.9005399907800568\n"
     ]
    },
    {
     "name": "stderr",
     "output_type": "stream",
     "text": [
      "100%|██████████| 4/4 [00:01<00:00,  3.84it/s]\n",
      "  0%|          | 0/313 [00:00<?, ?it/s]"
     ]
    },
    {
     "name": "stdout",
     "output_type": "stream",
     "text": [
      "Valid: loss = 0.6930679906658948, top 1 = 0.95, top 5 = 0.9780000000000004, top 10 = 0.9705000000000011, kendal = 0.898642847698295\n",
      "\n",
      "Epoch: 253\n"
     ]
    },
    {
     "name": "stderr",
     "output_type": "stream",
     "text": [
      "100%|██████████| 313/313 [01:53<00:00,  2.75it/s]\n",
      "100%|██████████| 313/313 [01:30<00:00,  3.45it/s]\n",
      "  0%|          | 0/4 [00:00<?, ?it/s]"
     ]
    },
    {
     "name": "stdout",
     "output_type": "stream",
     "text": [
      "Train: loss = 0.6930623886842119, top 1 = 0.974, top 5 = 0.9785399999999621, top 10 = 0.9740999999999962, kendal = 0.900452372700468\n"
     ]
    },
    {
     "name": "stderr",
     "output_type": "stream",
     "text": [
      "100%|██████████| 4/4 [00:01<00:00,  3.85it/s]\n",
      "  0%|          | 0/313 [00:00<?, ?it/s]"
     ]
    },
    {
     "name": "stdout",
     "output_type": "stream",
     "text": [
      "Valid: loss = 0.6930644452421412, top 1 = 0.955, top 5 = 0.9770000000000004, top 10 = 0.971000000000001, kendal = 0.8983895808615805\n",
      "\n",
      "Epoch: 254\n"
     ]
    },
    {
     "name": "stderr",
     "output_type": "stream",
     "text": [
      "100%|██████████| 313/313 [02:17<00:00,  2.27it/s]\n",
      "100%|██████████| 313/313 [01:11<00:00,  4.37it/s]\n",
      "  0%|          | 0/4 [00:00<?, ?it/s]"
     ]
    },
    {
     "name": "stdout",
     "output_type": "stream",
     "text": [
      "Train: loss = 0.6930624773510388, top 1 = 0.9743, top 5 = 0.9785099999999618, top 10 = 0.9741199999999964, kendal = 0.9006092124191267\n"
     ]
    },
    {
     "name": "stderr",
     "output_type": "stream",
     "text": [
      "100%|██████████| 4/4 [00:00<00:00,  6.20it/s]\n",
      "  0%|          | 0/313 [00:00<?, ?it/s]"
     ]
    },
    {
     "name": "stdout",
     "output_type": "stream",
     "text": [
      "Valid: loss = 0.6930652679069899, top 1 = 0.955, top 5 = 0.9780000000000004, top 10 = 0.972500000000001, kendal = 0.8987242534960815\n",
      "\n",
      "Epoch: 255\n"
     ]
    },
    {
     "name": "stderr",
     "output_type": "stream",
     "text": [
      "100%|██████████| 313/313 [02:15<00:00,  2.32it/s]\n",
      "100%|██████████| 313/313 [01:32<00:00,  3.37it/s]\n",
      " 25%|██▌       | 1/4 [00:00<00:00,  6.37it/s]"
     ]
    },
    {
     "name": "stdout",
     "output_type": "stream",
     "text": [
      "Train: loss = 0.6930623611475688, top 1 = 0.9743, top 5 = 0.9783499999999618, top 10 = 0.9740249999999964, kendal = 0.9010815363541437\n"
     ]
    },
    {
     "name": "stderr",
     "output_type": "stream",
     "text": [
      "100%|██████████| 4/4 [00:00<00:00,  6.21it/s]\n",
      "  0%|          | 0/313 [00:00<?, ?it/s]"
     ]
    },
    {
     "name": "stdout",
     "output_type": "stream",
     "text": [
      "Valid: loss = 0.6930662814478085, top 1 = 0.955, top 5 = 0.9780000000000004, top 10 = 0.969500000000001, kendal = 0.8990528988081479\n",
      "\n",
      "Epoch: 256\n"
     ]
    },
    {
     "name": "stderr",
     "output_type": "stream",
     "text": [
      "100%|██████████| 313/313 [01:46<00:00,  2.93it/s]\n",
      "100%|██████████| 313/313 [01:54<00:00,  2.73it/s]\n",
      "  0%|          | 0/4 [00:00<?, ?it/s]"
     ]
    },
    {
     "name": "stdout",
     "output_type": "stream",
     "text": [
      "Train: loss = 0.6930622177329422, top 1 = 0.9742, top 5 = 0.9785399999999623, top 10 = 0.974114999999996, kendal = 0.9008767925408565\n"
     ]
    },
    {
     "name": "stderr",
     "output_type": "stream",
     "text": [
      "100%|██████████| 4/4 [00:01<00:00,  3.63it/s]\n",
      "  0%|          | 0/313 [00:00<?, ?it/s]"
     ]
    },
    {
     "name": "stdout",
     "output_type": "stream",
     "text": [
      "Valid: loss = 0.6930677298623731, top 1 = 0.955, top 5 = 0.9780000000000004, top 10 = 0.972000000000001, kendal = 0.8989091805182173\n",
      "\n",
      "Epoch: 257\n"
     ]
    },
    {
     "name": "stderr",
     "output_type": "stream",
     "text": [
      "100%|██████████| 313/313 [01:41<00:00,  3.08it/s]\n",
      "100%|██████████| 313/313 [01:40<00:00,  3.13it/s]\n",
      "  0%|          | 0/4 [00:00<?, ?it/s]"
     ]
    },
    {
     "name": "stdout",
     "output_type": "stream",
     "text": [
      "Train: loss = 0.6930623293984729, top 1 = 0.97415, top 5 = 0.9785299999999619, top 10 = 0.9741049999999959, kendal = 0.9012224194673694\n"
     ]
    },
    {
     "name": "stderr",
     "output_type": "stream",
     "text": [
      "100%|██████████| 4/4 [00:01<00:00,  3.53it/s]\n",
      "  0%|          | 0/313 [00:00<?, ?it/s]"
     ]
    },
    {
     "name": "stdout",
     "output_type": "stream",
     "text": [
      "Valid: loss = 0.6930654545373361, top 1 = 0.955, top 5 = 0.9790000000000003, top 10 = 0.9700000000000009, kendal = 0.8991915921239675\n",
      "\n",
      "Epoch: 258\n"
     ]
    },
    {
     "name": "stderr",
     "output_type": "stream",
     "text": [
      "100%|██████████| 313/313 [02:08<00:00,  2.44it/s]\n",
      "100%|██████████| 313/313 [01:15<00:00,  4.17it/s]\n",
      "  0%|          | 0/4 [00:00<?, ?it/s]"
     ]
    },
    {
     "name": "stdout",
     "output_type": "stream",
     "text": [
      "Train: loss = 0.6930623955375503, top 1 = 0.97415, top 5 = 0.978489999999962, top 10 = 0.9741299999999959, kendal = 0.9008097181936804\n"
     ]
    },
    {
     "name": "stderr",
     "output_type": "stream",
     "text": [
      "100%|██████████| 4/4 [00:00<00:00,  5.95it/s]\n",
      "  0%|          | 0/313 [00:00<?, ?it/s]"
     ]
    },
    {
     "name": "stdout",
     "output_type": "stream",
     "text": [
      "Valid: loss = 0.6930641629258393, top 1 = 0.95, top 5 = 0.9790000000000003, top 10 = 0.9710000000000011, kendal = 0.8988358123203934\n",
      "\n",
      "Epoch: 259\n"
     ]
    },
    {
     "name": "stderr",
     "output_type": "stream",
     "text": [
      "100%|██████████| 313/313 [02:20<00:00,  2.22it/s]\n",
      "100%|██████████| 313/313 [01:27<00:00,  3.56it/s]\n",
      "  0%|          | 0/4 [00:00<?, ?it/s]"
     ]
    },
    {
     "name": "stdout",
     "output_type": "stream",
     "text": [
      "Train: loss = 0.6930621080821653, top 1 = 0.974, top 5 = 0.9786999999999625, top 10 = 0.974109999999996, kendal = 0.9007071072783099\n"
     ]
    },
    {
     "name": "stderr",
     "output_type": "stream",
     "text": [
      "100%|██████████| 4/4 [00:00<00:00,  6.28it/s]\n",
      "  0%|          | 0/313 [00:00<?, ?it/s]"
     ]
    },
    {
     "name": "stdout",
     "output_type": "stream",
     "text": [
      "Valid: loss = 0.6930658424325177, top 1 = 0.955, top 5 = 0.9780000000000004, top 10 = 0.9715000000000009, kendal = 0.898767471722975\n",
      "\n",
      "Epoch: 260\n"
     ]
    },
    {
     "name": "stderr",
     "output_type": "stream",
     "text": [
      "100%|██████████| 313/313 [01:49<00:00,  2.86it/s]\n",
      "100%|██████████| 313/313 [01:57<00:00,  2.67it/s]\n",
      "  0%|          | 0/4 [00:00<?, ?it/s]"
     ]
    },
    {
     "name": "stdout",
     "output_type": "stream",
     "text": [
      "Train: loss = 0.693062151790836, top 1 = 0.97365, top 5 = 0.9785999999999622, top 10 = 0.9742449999999965, kendal = 0.9009632402848209\n"
     ]
    },
    {
     "name": "stderr",
     "output_type": "stream",
     "text": [
      "100%|██████████| 4/4 [00:00<00:00,  6.14it/s]\n",
      "  0%|          | 0/313 [00:00<?, ?it/s]"
     ]
    },
    {
     "name": "stdout",
     "output_type": "stream",
     "text": [
      "Valid: loss = 0.6930663866329921, top 1 = 0.955, top 5 = 0.9790000000000003, top 10 = 0.9690000000000009, kendal = 0.8991513913209652\n",
      "\n",
      "Epoch: 261\n"
     ]
    },
    {
     "name": "stderr",
     "output_type": "stream",
     "text": [
      "100%|██████████| 313/313 [01:31<00:00,  3.43it/s]\n",
      "100%|██████████| 313/313 [01:48<00:00,  2.89it/s]\n",
      "  0%|          | 0/4 [00:00<?, ?it/s]"
     ]
    },
    {
     "name": "stdout",
     "output_type": "stream",
     "text": [
      "Train: loss = 0.6930623576941096, top 1 = 0.974, top 5 = 0.978559999999962, top 10 = 0.9740899999999956, kendal = 0.9007642408133119\n"
     ]
    },
    {
     "name": "stderr",
     "output_type": "stream",
     "text": [
      "100%|██████████| 4/4 [00:01<00:00,  3.25it/s]\n",
      "  0%|          | 0/313 [00:00<?, ?it/s]"
     ]
    },
    {
     "name": "stdout",
     "output_type": "stream",
     "text": [
      "Valid: loss = 0.693066447428382, top 1 = 0.955, top 5 = 0.9790000000000003, top 10 = 0.9715000000000009, kendal = 0.8989121957198583\n",
      "\n",
      "Epoch: 262\n"
     ]
    },
    {
     "name": "stderr",
     "output_type": "stream",
     "text": [
      "100%|██████████| 313/313 [02:00<00:00,  2.61it/s]\n",
      "100%|██████████| 313/313 [01:22<00:00,  3.79it/s]\n",
      "  0%|          | 0/4 [00:00<?, ?it/s]"
     ]
    },
    {
     "name": "stdout",
     "output_type": "stream",
     "text": [
      "Train: loss = 0.6930621529900123, top 1 = 0.97435, top 5 = 0.9784899999999623, top 10 = 0.9741249999999964, kendal = 0.9013478488441716\n"
     ]
    },
    {
     "name": "stderr",
     "output_type": "stream",
     "text": [
      "100%|██████████| 4/4 [00:01<00:00,  3.51it/s]\n",
      "  0%|          | 0/313 [00:00<?, ?it/s]"
     ]
    },
    {
     "name": "stdout",
     "output_type": "stream",
     "text": [
      "Valid: loss = 0.693065387907374, top 1 = 0.955, top 5 = 0.9790000000000003, top 10 = 0.9705000000000009, kendal = 0.8993594324815782\n",
      "\n",
      "Epoch: 263\n"
     ]
    },
    {
     "name": "stderr",
     "output_type": "stream",
     "text": [
      "100%|██████████| 313/313 [02:17<00:00,  2.27it/s]\n",
      "100%|██████████| 313/313 [01:26<00:00,  3.63it/s]\n",
      "  0%|          | 0/4 [00:00<?, ?it/s]"
     ]
    },
    {
     "name": "stdout",
     "output_type": "stream",
     "text": [
      "Train: loss = 0.6930622096758795, top 1 = 0.9739, top 5 = 0.9786499999999622, top 10 = 0.974164999999996, kendal = 0.9014092649486273\n"
     ]
    },
    {
     "name": "stderr",
     "output_type": "stream",
     "text": [
      "100%|██████████| 4/4 [00:00<00:00,  6.20it/s]\n",
      "  0%|          | 0/313 [00:00<?, ?it/s]"
     ]
    },
    {
     "name": "stdout",
     "output_type": "stream",
     "text": [
      "Valid: loss = 0.6930660260474768, top 1 = 0.955, top 5 = 0.9780000000000004, top 10 = 0.972500000000001, kendal = 0.8994478744148519\n",
      "\n",
      "Epoch: 264\n"
     ]
    },
    {
     "name": "stderr",
     "output_type": "stream",
     "text": [
      "100%|██████████| 313/313 [01:50<00:00,  2.84it/s]\n",
      "100%|██████████| 313/313 [01:54<00:00,  2.72it/s]\n",
      "  0%|          | 0/4 [00:00<?, ?it/s]"
     ]
    },
    {
     "name": "stdout",
     "output_type": "stream",
     "text": [
      "Train: loss = 0.6930621432541445, top 1 = 0.9741, top 5 = 0.9786099999999623, top 10 = 0.974239999999996, kendal = 0.9008872380570861\n"
     ]
    },
    {
     "name": "stderr",
     "output_type": "stream",
     "text": [
      "100%|██████████| 4/4 [00:00<00:00,  5.51it/s]\n",
      "  0%|          | 1/313 [00:00<00:53,  5.86it/s]"
     ]
    },
    {
     "name": "stdout",
     "output_type": "stream",
     "text": [
      "Valid: loss = 0.6930669703607787, top 1 = 0.955, top 5 = 0.9780000000000004, top 10 = 0.9700000000000009, kendal = 0.8988539044898474\n",
      "\n",
      "Epoch: 265\n"
     ]
    },
    {
     "name": "stderr",
     "output_type": "stream",
     "text": [
      "100%|██████████| 313/313 [01:26<00:00,  3.63it/s]\n",
      "100%|██████████| 313/313 [01:53<00:00,  2.75it/s]\n",
      "  0%|          | 0/4 [00:00<?, ?it/s]"
     ]
    },
    {
     "name": "stdout",
     "output_type": "stream",
     "text": [
      "Train: loss = 0.6930622938562622, top 1 = 0.97475, top 5 = 0.9784499999999619, top 10 = 0.9741699999999955, kendal = 0.9013288383525553\n"
     ]
    },
    {
     "name": "stderr",
     "output_type": "stream",
     "text": [
      "100%|██████████| 4/4 [00:01<00:00,  3.86it/s]\n",
      "  0%|          | 0/313 [00:00<?, ?it/s]"
     ]
    },
    {
     "name": "stdout",
     "output_type": "stream",
     "text": [
      "Valid: loss = 0.6930666392458247, top 1 = 0.955, top 5 = 0.9790000000000003, top 10 = 0.969500000000001, kendal = 0.8993946083104699\n",
      "\n",
      "Epoch: 266\n"
     ]
    },
    {
     "name": "stderr",
     "output_type": "stream",
     "text": [
      "100%|██████████| 313/313 [01:53<00:00,  2.76it/s]\n",
      "100%|██████████| 313/313 [01:29<00:00,  3.50it/s]\n",
      "  0%|          | 0/4 [00:00<?, ?it/s]"
     ]
    },
    {
     "name": "stdout",
     "output_type": "stream",
     "text": [
      "Train: loss = 0.6930622557791583, top 1 = 0.97405, top 5 = 0.978499999999962, top 10 = 0.9741649999999962, kendal = 0.9006903480555974\n"
     ]
    },
    {
     "name": "stderr",
     "output_type": "stream",
     "text": [
      "100%|██████████| 4/4 [00:01<00:00,  3.50it/s]\n",
      "  0%|          | 0/313 [00:00<?, ?it/s]"
     ]
    },
    {
     "name": "stdout",
     "output_type": "stream",
     "text": [
      "Valid: loss = 0.6930666600919017, top 1 = 0.955, top 5 = 0.9770000000000004, top 10 = 0.972000000000001, kendal = 0.8987554129618909\n",
      "\n",
      "Epoch: 267\n"
     ]
    },
    {
     "name": "stderr",
     "output_type": "stream",
     "text": [
      "100%|██████████| 313/313 [02:14<00:00,  2.33it/s]\n",
      "100%|██████████| 313/313 [01:27<00:00,  3.56it/s]\n",
      " 25%|██▌       | 1/4 [00:00<00:00,  7.14it/s]"
     ]
    },
    {
     "name": "stdout",
     "output_type": "stream",
     "text": [
      "Train: loss = 0.6930625908756403, top 1 = 0.97385, top 5 = 0.9786699999999624, top 10 = 0.974264999999997, kendal = 0.9002361168829004\n"
     ]
    },
    {
     "name": "stderr",
     "output_type": "stream",
     "text": [
      "100%|██████████| 4/4 [00:00<00:00,  6.23it/s]\n",
      "  0%|          | 0/313 [00:00<?, ?it/s]"
     ]
    },
    {
     "name": "stdout",
     "output_type": "stream",
     "text": [
      "Valid: loss = 0.6930674898749233, top 1 = 0.955, top 5 = 0.9770000000000004, top 10 = 0.971000000000001, kendal = 0.8984689802707773\n",
      "\n",
      "Epoch: 268\n"
     ]
    },
    {
     "name": "stderr",
     "output_type": "stream",
     "text": [
      "100%|██████████| 313/313 [01:49<00:00,  2.85it/s]\n",
      "100%|██████████| 313/313 [01:55<00:00,  2.72it/s]\n",
      "  0%|          | 0/4 [00:00<?, ?it/s]"
     ]
    },
    {
     "name": "stdout",
     "output_type": "stream",
     "text": [
      "Train: loss = 0.6930624286026711, top 1 = 0.9742, top 5 = 0.9784199999999617, top 10 = 0.9742599999999959, kendal = 0.9006884887712368\n"
     ]
    },
    {
     "name": "stderr",
     "output_type": "stream",
     "text": [
      "100%|██████████| 4/4 [00:00<00:00,  6.26it/s]\n",
      "  0%|          | 0/313 [00:00<?, ?it/s]"
     ]
    },
    {
     "name": "stdout",
     "output_type": "stream",
     "text": [
      "Valid: loss = 0.6930673790458356, top 1 = 0.95, top 5 = 0.9800000000000003, top 10 = 0.9705000000000009, kendal = 0.8988348087851848\n",
      "\n",
      "Epoch: 269\n"
     ]
    },
    {
     "name": "stderr",
     "output_type": "stream",
     "text": [
      "100%|██████████| 313/313 [01:20<00:00,  3.87it/s]\n",
      "100%|██████████| 313/313 [01:58<00:00,  2.64it/s]\n",
      "  0%|          | 0/4 [00:00<?, ?it/s]"
     ]
    },
    {
     "name": "stdout",
     "output_type": "stream",
     "text": [
      "Train: loss = 0.6930623722624778, top 1 = 0.9744, top 5 = 0.9785799999999619, top 10 = 0.9741849999999962, kendal = 0.90098814486577\n"
     ]
    },
    {
     "name": "stderr",
     "output_type": "stream",
     "text": [
      "100%|██████████| 4/4 [00:01<00:00,  3.86it/s]\n",
      "  0%|          | 0/313 [00:00<?, ?it/s]"
     ]
    },
    {
     "name": "stdout",
     "output_type": "stream",
     "text": [
      "Valid: loss = 0.6930677199039731, top 1 = 0.955, top 5 = 0.9800000000000003, top 10 = 0.9715000000000009, kendal = 0.8991051608975185\n",
      "\n",
      "Epoch: 270\n"
     ]
    },
    {
     "name": "stderr",
     "output_type": "stream",
     "text": [
      "100%|██████████| 313/313 [01:44<00:00,  2.99it/s]\n",
      "100%|██████████| 313/313 [01:33<00:00,  3.35it/s]\n",
      "  0%|          | 0/4 [00:00<?, ?it/s]"
     ]
    },
    {
     "name": "stdout",
     "output_type": "stream",
     "text": [
      "Train: loss = 0.693062304001281, top 1 = 0.97425, top 5 = 0.9785999999999622, top 10 = 0.9741449999999969, kendal = 0.9012068807315434\n"
     ]
    },
    {
     "name": "stderr",
     "output_type": "stream",
     "text": [
      "100%|██████████| 4/4 [00:01<00:00,  3.31it/s]\n",
      "  0%|          | 0/313 [00:00<?, ?it/s]"
     ]
    },
    {
     "name": "stdout",
     "output_type": "stream",
     "text": [
      "Valid: loss = 0.693067046346747, top 1 = 0.955, top 5 = 0.9790000000000003, top 10 = 0.971500000000001, kendal = 0.8993654623798035\n",
      "\n",
      "Epoch: 271\n"
     ]
    },
    {
     "name": "stderr",
     "output_type": "stream",
     "text": [
      "100%|██████████| 313/313 [02:08<00:00,  2.44it/s]\n",
      "100%|██████████| 313/313 [01:33<00:00,  3.34it/s]\n",
      "  0%|          | 0/4 [00:00<?, ?it/s]"
     ]
    },
    {
     "name": "stdout",
     "output_type": "stream",
     "text": [
      "Train: loss = 0.693062212866742, top 1 = 0.9743, top 5 = 0.9785899999999623, top 10 = 0.9741199999999957, kendal = 0.9012738008916115\n"
     ]
    },
    {
     "name": "stderr",
     "output_type": "stream",
     "text": [
      "100%|██████████| 4/4 [00:00<00:00,  4.12it/s]\n",
      "  0%|          | 0/313 [00:00<?, ?it/s]"
     ]
    },
    {
     "name": "stdout",
     "output_type": "stream",
     "text": [
      "Valid: loss = 0.6930665517801999, top 1 = 0.955, top 5 = 0.9800000000000003, top 10 = 0.9695000000000009, kendal = 0.8993735030353598\n",
      "\n",
      "Epoch: 272\n"
     ]
    },
    {
     "name": "stderr",
     "output_type": "stream",
     "text": [
      "100%|██████████| 313/313 [01:45<00:00,  2.97it/s]\n",
      "100%|██████████| 313/313 [01:58<00:00,  2.64it/s]\n",
      "  0%|          | 0/4 [00:00<?, ?it/s]"
     ]
    },
    {
     "name": "stdout",
     "output_type": "stream",
     "text": [
      "Train: loss = 0.6930624188733904, top 1 = 0.9742, top 5 = 0.9786699999999624, top 10 = 0.9741999999999958, kendal = 0.9015035518433626\n"
     ]
    },
    {
     "name": "stderr",
     "output_type": "stream",
     "text": [
      "100%|██████████| 4/4 [00:00<00:00,  4.34it/s]\n",
      "  0%|          | 0/313 [00:00<?, ?it/s]"
     ]
    },
    {
     "name": "stdout",
     "output_type": "stream",
     "text": [
      "Valid: loss = 0.6930659576026585, top 1 = 0.955, top 5 = 0.9790000000000003, top 10 = 0.9715000000000009, kendal = 0.8996549115857061\n",
      "\n",
      "Epoch: 273\n"
     ]
    },
    {
     "name": "stderr",
     "output_type": "stream",
     "text": [
      "100%|██████████| 313/313 [01:21<00:00,  3.85it/s]\n",
      "100%|██████████| 313/313 [01:54<00:00,  2.72it/s]\n",
      "  0%|          | 0/4 [00:00<?, ?it/s]"
     ]
    },
    {
     "name": "stdout",
     "output_type": "stream",
     "text": [
      "Train: loss = 0.6930623541924066, top 1 = 0.97405, top 5 = 0.9785699999999622, top 10 = 0.9742649999999965, kendal = 0.9004569889002496\n"
     ]
    },
    {
     "name": "stderr",
     "output_type": "stream",
     "text": [
      "100%|██████████| 4/4 [00:01<00:00,  2.86it/s]\n",
      "  0%|          | 0/313 [00:00<?, ?it/s]"
     ]
    },
    {
     "name": "stdout",
     "output_type": "stream",
     "text": [
      "Valid: loss = 0.6930660163187952, top 1 = 0.955, top 5 = 0.9780000000000004, top 10 = 0.971000000000001, kendal = 0.8986740058762094\n",
      "\n",
      "Epoch: 274\n"
     ]
    },
    {
     "name": "stderr",
     "output_type": "stream",
     "text": [
      "100%|██████████| 313/313 [01:49<00:00,  2.86it/s]\n",
      "100%|██████████| 313/313 [01:27<00:00,  3.58it/s]\n",
      "  0%|          | 0/4 [00:00<?, ?it/s]"
     ]
    },
    {
     "name": "stdout",
     "output_type": "stream",
     "text": [
      "Train: loss = 0.6930624427813117, top 1 = 0.97415, top 5 = 0.9784799999999619, top 10 = 0.9741699999999962, kendal = 0.9017059068992499\n"
     ]
    },
    {
     "name": "stderr",
     "output_type": "stream",
     "text": [
      "100%|██████████| 4/4 [00:01<00:00,  3.33it/s]\n",
      "  0%|          | 0/313 [00:00<?, ?it/s]"
     ]
    },
    {
     "name": "stdout",
     "output_type": "stream",
     "text": [
      "Valid: loss = 0.6930658020319211, top 1 = 0.955, top 5 = 0.9780000000000004, top 10 = 0.9700000000000011, kendal = 0.8998508915104564\n",
      "\n",
      "Epoch: 275\n"
     ]
    },
    {
     "name": "stderr",
     "output_type": "stream",
     "text": [
      "100%|██████████| 313/313 [02:13<00:00,  2.35it/s]\n",
      "100%|██████████| 313/313 [01:31<00:00,  3.44it/s]\n",
      "  0%|          | 0/4 [00:00<?, ?it/s]"
     ]
    },
    {
     "name": "stdout",
     "output_type": "stream",
     "text": [
      "Train: loss = 0.6930623419890442, top 1 = 0.9743, top 5 = 0.9786099999999623, top 10 = 0.9742249999999951, kendal = 0.9009991320325206\n"
     ]
    },
    {
     "name": "stderr",
     "output_type": "stream",
     "text": [
      "100%|██████████| 4/4 [00:00<00:00,  4.34it/s]\n",
      "  0%|          | 0/313 [00:00<?, ?it/s]"
     ]
    },
    {
     "name": "stdout",
     "output_type": "stream",
     "text": [
      "Valid: loss = 0.6930657710289134, top 1 = 0.95, top 5 = 0.9790000000000003, top 10 = 0.9695000000000009, kendal = 0.8991664678089747\n",
      "\n",
      "Epoch: 276\n"
     ]
    },
    {
     "name": "stderr",
     "output_type": "stream",
     "text": [
      "100%|██████████| 313/313 [01:50<00:00,  2.83it/s]\n",
      "100%|██████████| 313/313 [01:55<00:00,  2.71it/s]\n",
      "  0%|          | 0/4 [00:00<?, ?it/s]"
     ]
    },
    {
     "name": "stdout",
     "output_type": "stream",
     "text": [
      "Train: loss = 0.6930623459157741, top 1 = 0.9748, top 5 = 0.9783899999999619, top 10 = 0.9741199999999964, kendal = 0.9014012089405856\n"
     ]
    },
    {
     "name": "stderr",
     "output_type": "stream",
     "text": [
      "100%|██████████| 4/4 [00:00<00:00,  4.88it/s]\n",
      "  0%|          | 0/313 [00:00<?, ?it/s]"
     ]
    },
    {
     "name": "stdout",
     "output_type": "stream",
     "text": [
      "Valid: loss = 0.6930682967720945, top 1 = 0.955, top 5 = 0.9770000000000004, top 10 = 0.9705000000000011, kendal = 0.8994910919094135\n",
      "\n",
      "Epoch: 277\n"
     ]
    },
    {
     "name": "stderr",
     "output_type": "stream",
     "text": [
      "100%|██████████| 313/313 [01:25<00:00,  3.67it/s]\n",
      "100%|██████████| 313/313 [01:53<00:00,  2.76it/s]\n",
      "  0%|          | 0/4 [00:00<?, ?it/s]"
     ]
    },
    {
     "name": "stdout",
     "output_type": "stream",
     "text": [
      "Train: loss = 0.6930620590957713, top 1 = 0.9742, top 5 = 0.9785999999999624, top 10 = 0.9742599999999974, kendal = 0.9012471745193467\n"
     ]
    },
    {
     "name": "stderr",
     "output_type": "stream",
     "text": [
      "100%|██████████| 4/4 [00:01<00:00,  3.11it/s]\n",
      "  0%|          | 0/313 [00:00<?, ?it/s]"
     ]
    },
    {
     "name": "stdout",
     "output_type": "stream",
     "text": [
      "Valid: loss = 0.6930649438177157, top 1 = 0.955, top 5 = 0.9790000000000003, top 10 = 0.971000000000001, kendal = 0.8992951117321343\n",
      "\n",
      "Epoch: 278\n"
     ]
    },
    {
     "name": "stderr",
     "output_type": "stream",
     "text": [
      "100%|██████████| 313/313 [01:51<00:00,  2.81it/s]\n",
      "100%|██████████| 313/313 [01:24<00:00,  3.69it/s]\n",
      "  0%|          | 0/4 [00:00<?, ?it/s]"
     ]
    },
    {
     "name": "stdout",
     "output_type": "stream",
     "text": [
      "Train: loss = 0.6930622904601349, top 1 = 0.97445, top 5 = 0.9785699999999624, top 10 = 0.9742099999999969, kendal = 0.9012333732706224\n"
     ]
    },
    {
     "name": "stderr",
     "output_type": "stream",
     "text": [
      "100%|██████████| 4/4 [00:01<00:00,  2.90it/s]\n",
      "  0%|          | 0/313 [00:00<?, ?it/s]"
     ]
    },
    {
     "name": "stdout",
     "output_type": "stream",
     "text": [
      "Valid: loss = 0.6930658063717293, top 1 = 0.95, top 5 = 0.9780000000000004, top 10 = 0.972000000000001, kendal = 0.8991523982653065\n",
      "\n",
      "Epoch: 279\n"
     ]
    },
    {
     "name": "stderr",
     "output_type": "stream",
     "text": [
      "100%|██████████| 313/313 [02:16<00:00,  2.28it/s]\n",
      "100%|██████████| 313/313 [01:25<00:00,  3.67it/s]\n",
      "  0%|          | 0/4 [00:00<?, ?it/s]"
     ]
    },
    {
     "name": "stdout",
     "output_type": "stream",
     "text": [
      "Train: loss = 0.6930624268224586, top 1 = 0.97465, top 5 = 0.9786299999999626, top 10 = 0.9742499999999964, kendal = 0.9012247154245735\n"
     ]
    },
    {
     "name": "stderr",
     "output_type": "stream",
     "text": [
      "100%|██████████| 4/4 [00:00<00:00,  4.35it/s]\n",
      "  0%|          | 0/313 [00:00<?, ?it/s]"
     ]
    },
    {
     "name": "stdout",
     "output_type": "stream",
     "text": [
      "Valid: loss = 0.6930681583508967, top 1 = 0.955, top 5 = 0.9780000000000004, top 10 = 0.971000000000001, kendal = 0.8993544087448564\n",
      "\n",
      "Epoch: 280\n"
     ]
    },
    {
     "name": "stderr",
     "output_type": "stream",
     "text": [
      "100%|██████████| 313/313 [01:58<00:00,  2.65it/s]\n",
      "100%|██████████| 313/313 [01:50<00:00,  2.83it/s]\n",
      "  0%|          | 0/4 [00:00<?, ?it/s]"
     ]
    },
    {
     "name": "stdout",
     "output_type": "stream",
     "text": [
      "Train: loss = 0.6930624908289067, top 1 = 0.9745, top 5 = 0.978499999999962, top 10 = 0.9742649999999956, kendal = 0.9019503829004673\n"
     ]
    },
    {
     "name": "stderr",
     "output_type": "stream",
     "text": [
      "100%|██████████| 4/4 [00:00<00:00,  4.88it/s]\n",
      "  0%|          | 0/313 [00:00<?, ?it/s]"
     ]
    },
    {
     "name": "stdout",
     "output_type": "stream",
     "text": [
      "Valid: loss = 0.6930651976285681, top 1 = 0.955, top 5 = 0.9780000000000004, top 10 = 0.9710000000000008, kendal = 0.8999071723871818\n",
      "\n",
      "Epoch: 281\n"
     ]
    },
    {
     "name": "stderr",
     "output_type": "stream",
     "text": [
      "100%|██████████| 313/313 [01:30<00:00,  3.47it/s]\n",
      "100%|██████████| 313/313 [01:55<00:00,  2.71it/s]\n",
      "  0%|          | 0/4 [00:00<?, ?it/s]"
     ]
    },
    {
     "name": "stdout",
     "output_type": "stream",
     "text": [
      "Train: loss = 0.6930622367268339, top 1 = 0.9743, top 5 = 0.978429999999962, top 10 = 0.9742899999999972, kendal = 0.9017081014340834\n"
     ]
    },
    {
     "name": "stderr",
     "output_type": "stream",
     "text": [
      "100%|██████████| 4/4 [00:01<00:00,  3.31it/s]\n",
      "  0%|          | 0/313 [00:00<?, ?it/s]"
     ]
    },
    {
     "name": "stdout",
     "output_type": "stream",
     "text": [
      "Valid: loss = 0.6930652150325632, top 1 = 0.955, top 5 = 0.9790000000000003, top 10 = 0.9705000000000009, kendal = 0.8998508912579277\n",
      "\n",
      "Epoch: 282\n"
     ]
    },
    {
     "name": "stderr",
     "output_type": "stream",
     "text": [
      "100%|██████████| 313/313 [01:50<00:00,  2.84it/s]\n",
      "100%|██████████| 313/313 [01:26<00:00,  3.64it/s]\n",
      "  0%|          | 0/4 [00:00<?, ?it/s]"
     ]
    },
    {
     "name": "stdout",
     "output_type": "stream",
     "text": [
      "Train: loss = 0.6930623503733412, top 1 = 0.9747, top 5 = 0.978479999999962, top 10 = 0.9742699999999967, kendal = 0.9006010894944295\n"
     ]
    },
    {
     "name": "stderr",
     "output_type": "stream",
     "text": [
      "100%|██████████| 4/4 [00:01<00:00,  2.85it/s]\n",
      "  0%|          | 0/313 [00:00<?, ?it/s]"
     ]
    },
    {
     "name": "stdout",
     "output_type": "stream",
     "text": [
      "Valid: loss = 0.6930668734664284, top 1 = 0.955, top 5 = 0.9790000000000003, top 10 = 0.971500000000001, kendal = 0.8987182276635644\n",
      "\n",
      "Epoch: 283\n"
     ]
    },
    {
     "name": "stderr",
     "output_type": "stream",
     "text": [
      "100%|██████████| 313/313 [02:19<00:00,  2.24it/s]\n",
      "100%|██████████| 313/313 [01:17<00:00,  4.02it/s]\n",
      "  0%|          | 0/4 [00:00<?, ?it/s]"
     ]
    },
    {
     "name": "stdout",
     "output_type": "stream",
     "text": [
      "Train: loss = 0.6930623211745327, top 1 = 0.9742, top 5 = 0.9786499999999624, top 10 = 0.9742299999999966, kendal = 0.9012090548503289\n"
     ]
    },
    {
     "name": "stderr",
     "output_type": "stream",
     "text": [
      "100%|██████████| 4/4 [00:00<00:00,  4.35it/s]\n",
      "  0%|          | 0/313 [00:00<?, ?it/s]"
     ]
    },
    {
     "name": "stdout",
     "output_type": "stream",
     "text": [
      "Valid: loss = 0.69306539690716, top 1 = 0.955, top 5 = 0.9800000000000003, top 10 = 0.9705000000000009, kendal = 0.899354408467075\n",
      "\n",
      "Epoch: 284\n"
     ]
    },
    {
     "name": "stderr",
     "output_type": "stream",
     "text": [
      "100%|██████████| 313/313 [02:04<00:00,  2.51it/s]\n",
      "100%|██████████| 313/313 [01:44<00:00,  2.99it/s]\n",
      "  0%|          | 0/4 [00:00<?, ?it/s]"
     ]
    },
    {
     "name": "stdout",
     "output_type": "stream",
     "text": [
      "Train: loss = 0.6930624856225368, top 1 = 0.97405, top 5 = 0.9784699999999621, top 10 = 0.9743599999999962, kendal = 0.9015705290732594\n"
     ]
    },
    {
     "name": "stderr",
     "output_type": "stream",
     "text": [
      "100%|██████████| 4/4 [00:00<00:00,  4.95it/s]\n",
      "  0%|          | 0/313 [00:00<?, ?it/s]"
     ]
    },
    {
     "name": "stdout",
     "output_type": "stream",
     "text": [
      "Valid: loss = 0.6930662336131757, top 1 = 0.95, top 5 = 0.9790000000000003, top 10 = 0.9705000000000008, kendal = 0.8996860676676346\n",
      "\n",
      "Epoch: 285\n"
     ]
    },
    {
     "name": "stderr",
     "output_type": "stream",
     "text": [
      "100%|██████████| 313/313 [01:36<00:00,  3.25it/s]\n",
      "100%|██████████| 313/313 [01:55<00:00,  2.72it/s]\n",
      "  0%|          | 0/4 [00:00<?, ?it/s]"
     ]
    },
    {
     "name": "stdout",
     "output_type": "stream",
     "text": [
      "Train: loss = 0.6930623370586438, top 1 = 0.9737, top 5 = 0.9785499999999622, top 10 = 0.9744599999999959, kendal = 0.9009778008453988\n"
     ]
    },
    {
     "name": "stderr",
     "output_type": "stream",
     "text": [
      "100%|██████████| 4/4 [00:01<00:00,  3.02it/s]\n",
      "  0%|          | 0/313 [00:00<?, ?it/s]"
     ]
    },
    {
     "name": "stdout",
     "output_type": "stream",
     "text": [
      "Valid: loss = 0.6930652088764311, top 1 = 0.955, top 5 = 0.9790000000000003, top 10 = 0.9695000000000009, kendal = 0.8990418454762349\n",
      "\n",
      "Epoch: 286\n"
     ]
    },
    {
     "name": "stderr",
     "output_type": "stream",
     "text": [
      "100%|██████████| 313/313 [01:48<00:00,  2.88it/s]\n",
      "100%|██████████| 313/313 [01:29<00:00,  3.51it/s]\n",
      "  0%|          | 0/4 [00:00<?, ?it/s]"
     ]
    },
    {
     "name": "stdout",
     "output_type": "stream",
     "text": [
      "Train: loss = 0.693062341196293, top 1 = 0.9744, top 5 = 0.9786099999999623, top 10 = 0.9742949999999966, kendal = 0.9008387611403108\n"
     ]
    },
    {
     "name": "stderr",
     "output_type": "stream",
     "text": [
      "100%|██████████| 4/4 [00:01<00:00,  3.35it/s]\n",
      "  0%|          | 0/313 [00:00<?, ?it/s]"
     ]
    },
    {
     "name": "stdout",
     "output_type": "stream",
     "text": [
      "Valid: loss = 0.6930663852306485, top 1 = 0.955, top 5 = 0.9780000000000004, top 10 = 0.971000000000001, kendal = 0.8989081774880657\n",
      "\n",
      "Epoch: 287\n"
     ]
    },
    {
     "name": "stderr",
     "output_type": "stream",
     "text": [
      "100%|██████████| 313/313 [02:18<00:00,  2.26it/s]\n",
      "100%|██████████| 313/313 [01:12<00:00,  4.32it/s]\n",
      "  0%|          | 0/4 [00:00<?, ?it/s]"
     ]
    },
    {
     "name": "stdout",
     "output_type": "stream",
     "text": [
      "Train: loss = 0.6930624891984062, top 1 = 0.974, top 5 = 0.9785699999999621, top 10 = 0.9743449999999962, kendal = 0.9011218679957744\n"
     ]
    },
    {
     "name": "stderr",
     "output_type": "stream",
     "text": [
      "100%|██████████| 4/4 [00:00<00:00,  4.32it/s]\n",
      "  0%|          | 0/313 [00:00<?, ?it/s]"
     ]
    },
    {
     "name": "stdout",
     "output_type": "stream",
     "text": [
      "Valid: loss = 0.693066785359636, top 1 = 0.95, top 5 = 0.9800000000000003, top 10 = 0.9705000000000009, kendal = 0.8992297860585764\n",
      "\n",
      "Epoch: 288\n"
     ]
    },
    {
     "name": "stderr",
     "output_type": "stream",
     "text": [
      "100%|██████████| 313/313 [02:12<00:00,  2.36it/s]\n",
      "100%|██████████| 313/313 [01:36<00:00,  3.24it/s]\n",
      "  0%|          | 0/4 [00:00<?, ?it/s]"
     ]
    },
    {
     "name": "stdout",
     "output_type": "stream",
     "text": [
      "Train: loss = 0.6930625393598446, top 1 = 0.9745, top 5 = 0.9784599999999618, top 10 = 0.9744049999999963, kendal = 0.9015327177096318\n"
     ]
    },
    {
     "name": "stderr",
     "output_type": "stream",
     "text": [
      "100%|██████████| 4/4 [00:00<00:00,  4.84it/s]\n",
      "  0%|          | 0/313 [00:00<?, ?it/s]"
     ]
    },
    {
     "name": "stdout",
     "output_type": "stream",
     "text": [
      "Valid: loss = 0.6930657340765585, top 1 = 0.95, top 5 = 0.9780000000000004, top 10 = 0.970000000000001, kendal = 0.8995152124619229\n",
      "\n",
      "Epoch: 289\n"
     ]
    },
    {
     "name": "stderr",
     "output_type": "stream",
     "text": [
      "100%|██████████| 313/313 [01:47<00:00,  2.92it/s]\n",
      "100%|██████████| 313/313 [01:53<00:00,  2.75it/s]\n",
      "  0%|          | 0/4 [00:00<?, ?it/s]"
     ]
    },
    {
     "name": "stdout",
     "output_type": "stream",
     "text": [
      "Train: loss = 0.6930622853022197, top 1 = 0.97485, top 5 = 0.9787599999999628, top 10 = 0.9743899999999974, kendal = 0.9010800991629154\n"
     ]
    },
    {
     "name": "stderr",
     "output_type": "stream",
     "text": [
      "100%|██████████| 4/4 [00:01<00:00,  3.32it/s]\n",
      "  0%|          | 0/313 [00:00<?, ?it/s]"
     ]
    },
    {
     "name": "stdout",
     "output_type": "stream",
     "text": [
      "Valid: loss = 0.6930682812488348, top 1 = 0.955, top 5 = 0.9790000000000003, top 10 = 0.971500000000001, kendal = 0.8990750126437805\n",
      "\n",
      "Epoch: 290\n"
     ]
    },
    {
     "name": "stderr",
     "output_type": "stream",
     "text": [
      "100%|██████████| 313/313 [01:45<00:00,  2.98it/s]\n",
      "100%|██████████| 313/313 [01:35<00:00,  3.29it/s]\n",
      "  0%|          | 0/4 [00:00<?, ?it/s]"
     ]
    },
    {
     "name": "stdout",
     "output_type": "stream",
     "text": [
      "Train: loss = 0.6930622087054981, top 1 = 0.974, top 5 = 0.9786199999999622, top 10 = 0.9743549999999975, kendal = 0.901216589246479\n"
     ]
    },
    {
     "name": "stderr",
     "output_type": "stream",
     "text": [
      "100%|██████████| 4/4 [00:01<00:00,  2.89it/s]\n",
      "  0%|          | 0/313 [00:00<?, ?it/s]"
     ]
    },
    {
     "name": "stdout",
     "output_type": "stream",
     "text": [
      "Valid: loss = 0.6930667357527892, top 1 = 0.95, top 5 = 0.9760000000000005, top 10 = 0.9705000000000008, kendal = 0.8994086800763869\n",
      "\n",
      "Epoch: 291\n"
     ]
    },
    {
     "name": "stderr",
     "output_type": "stream",
     "text": [
      "100%|██████████| 313/313 [02:12<00:00,  2.36it/s]\n",
      "100%|██████████| 313/313 [01:10<00:00,  4.45it/s]\n",
      "  0%|          | 0/4 [00:00<?, ?it/s]"
     ]
    },
    {
     "name": "stdout",
     "output_type": "stream",
     "text": [
      "Train: loss = 0.6930623993404389, top 1 = 0.97435, top 5 = 0.9784799999999619, top 10 = 0.9742999999999962, kendal = 0.9010942050753536\n"
     ]
    },
    {
     "name": "stderr",
     "output_type": "stream",
     "text": [
      "100%|██████████| 4/4 [00:00<00:00,  4.85it/s]\n",
      "  0%|          | 0/313 [00:00<?, ?it/s]"
     ]
    },
    {
     "name": "stdout",
     "output_type": "stream",
     "text": [
      "Valid: loss = 0.6930663874575115, top 1 = 0.955, top 5 = 0.9800000000000003, top 10 = 0.9695000000000009, kendal = 0.8990689811041217\n",
      "\n",
      "Epoch: 292\n"
     ]
    },
    {
     "name": "stderr",
     "output_type": "stream",
     "text": [
      "100%|██████████| 313/313 [02:22<00:00,  2.20it/s]\n",
      "100%|██████████| 313/313 [01:26<00:00,  3.62it/s]\n",
      "  0%|          | 0/4 [00:00<?, ?it/s]"
     ]
    },
    {
     "name": "stdout",
     "output_type": "stream",
     "text": [
      "Train: loss = 0.6930622658966918, top 1 = 0.97465, top 5 = 0.9785699999999622, top 10 = 0.9742899999999972, kendal = 0.9010683403366229\n"
     ]
    },
    {
     "name": "stderr",
     "output_type": "stream",
     "text": [
      "100%|██████████| 4/4 [00:00<00:00,  4.87it/s]\n",
      "  0%|          | 0/313 [00:00<?, ?it/s]"
     ]
    },
    {
     "name": "stdout",
     "output_type": "stream",
     "text": [
      "Valid: loss = 0.693067250738485, top 1 = 0.955, top 5 = 0.9800000000000003, top 10 = 0.971000000000001, kendal = 0.899186569523623\n",
      "\n",
      "Epoch: 293\n"
     ]
    },
    {
     "name": "stderr",
     "output_type": "stream",
     "text": [
      "100%|██████████| 313/313 [01:56<00:00,  2.69it/s]\n",
      "100%|██████████| 313/313 [01:51<00:00,  2.80it/s]\n",
      "  0%|          | 0/4 [00:00<?, ?it/s]"
     ]
    },
    {
     "name": "stdout",
     "output_type": "stream",
     "text": [
      "Train: loss = 0.6930622828548167, top 1 = 0.97465, top 5 = 0.978449999999962, top 10 = 0.9743349999999961, kendal = 0.9010133051039193\n"
     ]
    },
    {
     "name": "stderr",
     "output_type": "stream",
     "text": [
      "100%|██████████| 4/4 [00:00<00:00,  4.87it/s]\n",
      "  0%|          | 0/313 [00:00<?, ?it/s]"
     ]
    },
    {
     "name": "stdout",
     "output_type": "stream",
     "text": [
      "Valid: loss = 0.6930675630412685, top 1 = 0.955, top 5 = 0.9790000000000003, top 10 = 0.9700000000000009, kendal = 0.8989393334689829\n",
      "\n",
      "Epoch: 294\n"
     ]
    },
    {
     "name": "stderr",
     "output_type": "stream",
     "text": [
      "100%|██████████| 313/313 [01:40<00:00,  3.11it/s]\n",
      "100%|██████████| 313/313 [01:42<00:00,  3.05it/s]\n",
      "  0%|          | 0/4 [00:00<?, ?it/s]"
     ]
    },
    {
     "name": "stdout",
     "output_type": "stream",
     "text": [
      "Train: loss = 0.6930624732387134, top 1 = 0.97465, top 5 = 0.9787599999999628, top 10 = 0.974334999999997, kendal = 0.9012000543430506\n"
     ]
    },
    {
     "name": "stderr",
     "output_type": "stream",
     "text": [
      "100%|██████████| 4/4 [00:01<00:00,  3.26it/s]\n",
      "  0%|          | 0/313 [00:00<?, ?it/s]"
     ]
    },
    {
     "name": "stdout",
     "output_type": "stream",
     "text": [
      "Valid: loss = 0.6930659778386681, top 1 = 0.955, top 5 = 0.9790000000000003, top 10 = 0.971500000000001, kendal = 0.89924285067813\n",
      "\n",
      "Epoch: 295\n"
     ]
    },
    {
     "name": "stderr",
     "output_type": "stream",
     "text": [
      "100%|██████████| 313/313 [02:05<00:00,  2.49it/s]\n",
      "100%|██████████| 313/313 [01:16<00:00,  4.09it/s]\n",
      "  0%|          | 0/4 [00:00<?, ?it/s]"
     ]
    },
    {
     "name": "stdout",
     "output_type": "stream",
     "text": [
      "Train: loss = 0.693062364874892, top 1 = 0.9747, top 5 = 0.9785899999999625, top 10 = 0.9743299999999957, kendal = 0.9020071097517585\n"
     ]
    },
    {
     "name": "stderr",
     "output_type": "stream",
     "text": [
      "100%|██████████| 4/4 [00:01<00:00,  3.85it/s]\n",
      "  0%|          | 0/313 [00:00<?, ?it/s]"
     ]
    },
    {
     "name": "stdout",
     "output_type": "stream",
     "text": [
      "Valid: loss = 0.6930678742038647, top 1 = 0.955, top 5 = 0.9790000000000003, top 10 = 0.9705000000000009, kendal = 0.8999172222091399\n",
      "\n",
      "Epoch: 296\n"
     ]
    },
    {
     "name": "stderr",
     "output_type": "stream",
     "text": [
      "100%|██████████| 313/313 [02:24<00:00,  2.16it/s]\n",
      "100%|██████████| 313/313 [01:16<00:00,  4.07it/s]\n",
      " 25%|██▌       | 1/4 [00:00<00:00,  6.63it/s]"
     ]
    },
    {
     "name": "stdout",
     "output_type": "stream",
     "text": [
      "Train: loss = 0.6930621000678512, top 1 = 0.97445, top 5 = 0.9787099999999626, top 10 = 0.9743749999999974, kendal = 0.9010453362318627\n"
     ]
    },
    {
     "name": "stderr",
     "output_type": "stream",
     "text": [
      "100%|██████████| 4/4 [00:00<00:00,  6.18it/s]\n",
      "  0%|          | 0/313 [00:00<?, ?it/s]"
     ]
    },
    {
     "name": "stdout",
     "output_type": "stream",
     "text": [
      "Valid: loss = 0.6930666422648095, top 1 = 0.955, top 5 = 0.9790000000000003, top 10 = 0.9715000000000009, kendal = 0.8990066692938034\n",
      "\n",
      "Epoch: 297\n"
     ]
    },
    {
     "name": "stderr",
     "output_type": "stream",
     "text": [
      "100%|██████████| 313/313 [02:04<00:00,  2.51it/s]\n",
      "100%|██████████| 313/313 [01:43<00:00,  3.01it/s]\n",
      " 25%|██▌       | 1/4 [00:00<00:00,  6.97it/s]"
     ]
    },
    {
     "name": "stdout",
     "output_type": "stream",
     "text": [
      "Train: loss = 0.6930623003266041, top 1 = 0.97425, top 5 = 0.978559999999962, top 10 = 0.9743799999999962, kendal = 0.9018850772406894\n"
     ]
    },
    {
     "name": "stderr",
     "output_type": "stream",
     "text": [
      "100%|██████████| 4/4 [00:00<00:00,  6.15it/s]\n",
      "  0%|          | 0/313 [00:00<?, ?it/s]"
     ]
    },
    {
     "name": "stdout",
     "output_type": "stream",
     "text": [
      "Valid: loss = 0.6930670594847439, top 1 = 0.955, top 5 = 0.9800000000000003, top 10 = 0.970000000000001, kendal = 0.8998800361784803\n",
      "\n",
      "Epoch: 298\n"
     ]
    },
    {
     "name": "stderr",
     "output_type": "stream",
     "text": [
      "100%|██████████| 313/313 [01:38<00:00,  3.18it/s]\n",
      "100%|██████████| 313/313 [01:52<00:00,  2.78it/s]\n",
      "  0%|          | 0/4 [00:00<?, ?it/s]"
     ]
    },
    {
     "name": "stdout",
     "output_type": "stream",
     "text": [
      "Train: loss = 0.6930624604073667, top 1 = 0.9744, top 5 = 0.9787299999999627, top 10 = 0.9744799999999968, kendal = 0.9017052805184037\n"
     ]
    },
    {
     "name": "stderr",
     "output_type": "stream",
     "text": [
      "100%|██████████| 4/4 [00:01<00:00,  3.83it/s]\n",
      "  0%|          | 0/313 [00:00<?, ?it/s]"
     ]
    },
    {
     "name": "stdout",
     "output_type": "stream",
     "text": [
      "Valid: loss = 0.693065687582347, top 1 = 0.955, top 5 = 0.9800000000000003, top 10 = 0.971000000000001, kendal = 0.8996378257545251\n",
      "\n",
      "Epoch: 299\n"
     ]
    },
    {
     "name": "stderr",
     "output_type": "stream",
     "text": [
      "100%|██████████| 313/313 [01:56<00:00,  2.69it/s]\n",
      "100%|██████████| 313/313 [01:27<00:00,  3.59it/s]\n",
      " 25%|██▌       | 1/4 [00:00<00:00,  6.16it/s]"
     ]
    },
    {
     "name": "stdout",
     "output_type": "stream",
     "text": [
      "Train: loss = 0.6930622471358729, top 1 = 0.97405, top 5 = 0.9787299999999625, top 10 = 0.9744849999999972, kendal = 0.9013069008638646\n"
     ]
    },
    {
     "name": "stderr",
     "output_type": "stream",
     "text": [
      "100%|██████████| 4/4 [00:01<00:00,  3.80it/s]\n",
      "  0%|          | 0/313 [00:00<?, ?it/s]"
     ]
    },
    {
     "name": "stdout",
     "output_type": "stream",
     "text": [
      "Valid: loss = 0.6930668838689344, top 1 = 0.955, top 5 = 0.9780000000000004, top 10 = 0.9705000000000008, kendal = 0.899406669521079\n",
      "\n",
      "Epoch: 300\n"
     ]
    },
    {
     "name": "stderr",
     "output_type": "stream",
     "text": [
      "100%|██████████| 313/313 [02:22<00:00,  2.20it/s]\n",
      "100%|██████████| 313/313 [01:12<00:00,  4.32it/s]\n",
      "  0%|          | 0/4 [00:00<?, ?it/s]"
     ]
    },
    {
     "name": "stdout",
     "output_type": "stream",
     "text": [
      "Train: loss = 0.6930622551506335, top 1 = 0.97425, top 5 = 0.9786599999999623, top 10 = 0.9744599999999966, kendal = 0.9016549712433992\n"
     ]
    },
    {
     "name": "stderr",
     "output_type": "stream",
     "text": [
      "100%|██████████| 4/4 [00:00<00:00,  5.35it/s]\n",
      "  0%|          | 0/313 [00:00<?, ?it/s]"
     ]
    },
    {
     "name": "stdout",
     "output_type": "stream",
     "text": [
      "Valid: loss = 0.693067023280263, top 1 = 0.955, top 5 = 0.9770000000000004, top 10 = 0.9715000000000009, kendal = 0.8996629504483105\n",
      "\n",
      "Epoch: 301\n"
     ]
    },
    {
     "name": "stderr",
     "output_type": "stream",
     "text": [
      "100%|██████████| 313/313 [02:09<00:00,  2.42it/s]\n",
      "100%|██████████| 313/313 [01:39<00:00,  3.15it/s]\n",
      "  0%|          | 0/4 [00:00<?, ?it/s]"
     ]
    },
    {
     "name": "stdout",
     "output_type": "stream",
     "text": [
      "Train: loss = 0.6930621775135438, top 1 = 0.9746, top 5 = 0.9787599999999625, top 10 = 0.9744449999999971, kendal = 0.901486348124037\n"
     ]
    },
    {
     "name": "stderr",
     "output_type": "stream",
     "text": [
      "100%|██████████| 4/4 [00:00<00:00,  5.36it/s]\n",
      "  0%|          | 0/313 [00:00<?, ?it/s]"
     ]
    },
    {
     "name": "stdout",
     "output_type": "stream",
     "text": [
      "Valid: loss = 0.6930676516301908, top 1 = 0.955, top 5 = 0.9800000000000003, top 10 = 0.971500000000001, kendal = 0.8995202373097697\n",
      "\n",
      "Epoch: 302\n"
     ]
    },
    {
     "name": "stderr",
     "output_type": "stream",
     "text": [
      "100%|██████████| 313/313 [01:40<00:00,  3.13it/s]\n",
      "100%|██████████| 313/313 [01:55<00:00,  2.70it/s]\n",
      "  0%|          | 0/4 [00:00<?, ?it/s]"
     ]
    },
    {
     "name": "stdout",
     "output_type": "stream",
     "text": [
      "Train: loss = 0.693062227776902, top 1 = 0.97445, top 5 = 0.9787299999999625, top 10 = 0.9744649999999973, kendal = 0.9011371798820476\n"
     ]
    },
    {
     "name": "stderr",
     "output_type": "stream",
     "text": [
      "100%|██████████| 4/4 [00:01<00:00,  3.85it/s]\n",
      "  0%|          | 0/313 [00:00<?, ?it/s]"
     ]
    },
    {
     "name": "stdout",
     "output_type": "stream",
     "text": [
      "Valid: loss = 0.6930653442968421, top 1 = 0.955, top 5 = 0.9790000000000003, top 10 = 0.9720000000000009, kendal = 0.899036820148584\n",
      "\n",
      "Epoch: 303\n"
     ]
    },
    {
     "name": "stderr",
     "output_type": "stream",
     "text": [
      "100%|██████████| 313/313 [01:47<00:00,  2.91it/s]\n",
      "100%|██████████| 313/313 [01:35<00:00,  3.28it/s]\n",
      "  0%|          | 0/4 [00:00<?, ?it/s]"
     ]
    },
    {
     "name": "stdout",
     "output_type": "stream",
     "text": [
      "Train: loss = 0.6930623665790203, top 1 = 0.9739, top 5 = 0.9785999999999624, top 10 = 0.9744499999999964, kendal = 0.9016416198782449\n"
     ]
    },
    {
     "name": "stderr",
     "output_type": "stream",
     "text": [
      "100%|██████████| 4/4 [00:01<00:00,  3.26it/s]\n",
      "  0%|          | 0/313 [00:00<?, ?it/s]"
     ]
    },
    {
     "name": "stdout",
     "output_type": "stream",
     "text": [
      "Valid: loss = 0.6930661019882174, top 1 = 0.955, top 5 = 0.9790000000000003, top 10 = 0.9710000000000008, kendal = 0.8996056635615989\n",
      "\n",
      "Epoch: 304\n"
     ]
    },
    {
     "name": "stderr",
     "output_type": "stream",
     "text": [
      "100%|██████████| 313/313 [02:13<00:00,  2.35it/s]\n",
      "100%|██████████| 313/313 [01:15<00:00,  4.14it/s]\n",
      " 25%|██▌       | 1/4 [00:00<00:00,  6.93it/s]"
     ]
    },
    {
     "name": "stdout",
     "output_type": "stream",
     "text": [
      "Train: loss = 0.6930622796359093, top 1 = 0.9742, top 5 = 0.9785699999999622, top 10 = 0.974509999999997, kendal = 0.9015564508835802\n"
     ]
    },
    {
     "name": "stderr",
     "output_type": "stream",
     "text": [
      "100%|██████████| 4/4 [00:00<00:00,  6.13it/s]\n",
      "  0%|          | 0/313 [00:00<?, ?it/s]"
     ]
    },
    {
     "name": "stdout",
     "output_type": "stream",
     "text": [
      "Valid: loss = 0.6930663975003345, top 1 = 0.955, top 5 = 0.9790000000000003, top 10 = 0.9695000000000009, kendal = 0.8995001366809929\n",
      "\n",
      "Epoch: 305\n"
     ]
    },
    {
     "name": "stderr",
     "output_type": "stream",
     "text": [
      "100%|██████████| 313/313 [02:11<00:00,  2.37it/s]\n",
      "100%|██████████| 313/313 [01:35<00:00,  3.27it/s]\n",
      "  0%|          | 0/4 [00:00<?, ?it/s]"
     ]
    },
    {
     "name": "stdout",
     "output_type": "stream",
     "text": [
      "Train: loss = 0.6930623544910367, top 1 = 0.97405, top 5 = 0.9787399999999623, top 10 = 0.9744749999999963, kendal = 0.9016987107898075\n"
     ]
    },
    {
     "name": "stderr",
     "output_type": "stream",
     "text": [
      "100%|██████████| 4/4 [00:00<00:00,  5.34it/s]\n",
      "  0%|          | 0/313 [00:00<?, ?it/s]"
     ]
    },
    {
     "name": "stdout",
     "output_type": "stream",
     "text": [
      "Valid: loss = 0.6930673189591636, top 1 = 0.955, top 5 = 0.9790000000000003, top 10 = 0.9700000000000009, kendal = 0.8997021462009342\n",
      "\n",
      "Epoch: 306\n"
     ]
    },
    {
     "name": "stderr",
     "output_type": "stream",
     "text": [
      "100%|██████████| 313/313 [01:40<00:00,  3.13it/s]\n",
      "100%|██████████| 313/313 [01:59<00:00,  2.63it/s]\n",
      "  0%|          | 0/4 [00:00<?, ?it/s]"
     ]
    },
    {
     "name": "stdout",
     "output_type": "stream",
     "text": [
      "Train: loss = 0.6930623200068272, top 1 = 0.97475, top 5 = 0.9786699999999623, top 10 = 0.9744849999999964, kendal = 0.9014306049175186\n"
     ]
    },
    {
     "name": "stderr",
     "output_type": "stream",
     "text": [
      "100%|██████████| 4/4 [00:01<00:00,  3.35it/s]\n",
      "  0%|          | 0/313 [00:00<?, ?it/s]"
     ]
    },
    {
     "name": "stdout",
     "output_type": "stream",
     "text": [
      "Valid: loss = 0.6930657441080587, top 1 = 0.955, top 5 = 0.9780000000000004, top 10 = 0.9705000000000009, kendal = 0.8992327982298772\n",
      "\n",
      "Epoch: 307\n"
     ]
    },
    {
     "name": "stderr",
     "output_type": "stream",
     "text": [
      "100%|██████████| 313/313 [01:37<00:00,  3.22it/s]\n",
      "100%|██████████| 313/313 [01:43<00:00,  3.04it/s]\n",
      "  0%|          | 0/4 [00:00<?, ?it/s]"
     ]
    },
    {
     "name": "stdout",
     "output_type": "stream",
     "text": [
      "Train: loss = 0.6930622407519221, top 1 = 0.9741, top 5 = 0.9784899999999623, top 10 = 0.9744399999999969, kendal = 0.9015755317385769\n"
     ]
    },
    {
     "name": "stderr",
     "output_type": "stream",
     "text": [
      "100%|██████████| 4/4 [00:01<00:00,  3.86it/s]\n",
      "  0%|          | 0/313 [00:00<?, ?it/s]"
     ]
    },
    {
     "name": "stdout",
     "output_type": "stream",
     "text": [
      "Valid: loss = 0.693065893434167, top 1 = 0.96, top 5 = 0.9780000000000004, top 10 = 0.969500000000001, kendal = 0.8995956139669161\n",
      "\n",
      "Epoch: 308\n"
     ]
    },
    {
     "name": "stderr",
     "output_type": "stream",
     "text": [
      "100%|██████████| 313/313 [02:06<00:00,  2.47it/s]\n",
      "100%|██████████| 313/313 [01:19<00:00,  3.94it/s]\n",
      " 25%|██▌       | 1/4 [00:00<00:00,  7.15it/s]"
     ]
    },
    {
     "name": "stdout",
     "output_type": "stream",
     "text": [
      "Train: loss = 0.69306218003148, top 1 = 0.97405, top 5 = 0.9786599999999623, top 10 = 0.9744299999999962, kendal = 0.9020212303338152\n"
     ]
    },
    {
     "name": "stderr",
     "output_type": "stream",
     "text": [
      "100%|██████████| 4/4 [00:00<00:00,  6.19it/s]\n",
      "  0%|          | 0/313 [00:00<?, ?it/s]"
     ]
    },
    {
     "name": "stdout",
     "output_type": "stream",
     "text": [
      "Valid: loss = 0.6930658047801553, top 1 = 0.955, top 5 = 0.9800000000000003, top 10 = 0.9705000000000008, kendal = 0.9000227492412626\n",
      "\n",
      "Epoch: 309\n"
     ]
    },
    {
     "name": "stderr",
     "output_type": "stream",
     "text": [
      "100%|██████████| 313/313 [02:13<00:00,  2.34it/s]\n",
      "100%|██████████| 313/313 [01:35<00:00,  3.29it/s]\n",
      "  0%|          | 0/4 [00:00<?, ?it/s]"
     ]
    },
    {
     "name": "stdout",
     "output_type": "stream",
     "text": [
      "Train: loss = 0.6930623840533084, top 1 = 0.9741, top 5 = 0.9785899999999623, top 10 = 0.9744949999999968, kendal = 0.9013899816845177\n"
     ]
    },
    {
     "name": "stderr",
     "output_type": "stream",
     "text": [
      "100%|██████████| 4/4 [00:00<00:00,  6.19it/s]\n",
      "  0%|          | 0/313 [00:00<?, ?it/s]"
     ]
    },
    {
     "name": "stdout",
     "output_type": "stream",
     "text": [
      "Valid: loss = 0.6930646893517886, top 1 = 0.96, top 5 = 0.9780000000000004, top 10 = 0.9705000000000008, kendal = 0.8996549112069131\n",
      "\n",
      "Epoch: 310\n"
     ]
    },
    {
     "name": "stderr",
     "output_type": "stream",
     "text": [
      "100%|██████████| 313/313 [01:39<00:00,  3.14it/s]\n",
      "100%|██████████| 313/313 [02:01<00:00,  2.58it/s]\n",
      "  0%|          | 0/4 [00:00<?, ?it/s]"
     ]
    },
    {
     "name": "stdout",
     "output_type": "stream",
     "text": [
      "Train: loss = 0.6930625007124258, top 1 = 0.97435, top 5 = 0.9787199999999626, top 10 = 0.9745849999999971, kendal = 0.901632667407867\n"
     ]
    },
    {
     "name": "stderr",
     "output_type": "stream",
     "text": [
      "100%|██████████| 4/4 [00:01<00:00,  3.66it/s]\n",
      "  0%|          | 0/313 [00:00<?, ?it/s]"
     ]
    },
    {
     "name": "stdout",
     "output_type": "stream",
     "text": [
      "Valid: loss = 0.6930667840549256, top 1 = 0.95, top 5 = 0.9800000000000003, top 10 = 0.9705000000000009, kendal = 0.8994549108786261\n",
      "\n",
      "Epoch: 311\n"
     ]
    },
    {
     "name": "stderr",
     "output_type": "stream",
     "text": [
      "100%|██████████| 313/313 [01:28<00:00,  3.53it/s]\n",
      "100%|██████████| 313/313 [01:47<00:00,  2.90it/s]\n",
      "  0%|          | 0/4 [00:00<?, ?it/s]"
     ]
    },
    {
     "name": "stdout",
     "output_type": "stream",
     "text": [
      "Train: loss = 0.6930622685205545, top 1 = 0.9746, top 5 = 0.9787299999999621, top 10 = 0.9744849999999967, kendal = 0.9018967556543707\n"
     ]
    },
    {
     "name": "stderr",
     "output_type": "stream",
     "text": [
      "100%|██████████| 4/4 [00:01<00:00,  3.85it/s]\n",
      "  0%|          | 0/313 [00:00<?, ?it/s]"
     ]
    },
    {
     "name": "stdout",
     "output_type": "stream",
     "text": [
      "Valid: loss = 0.6930667091678206, top 1 = 0.95, top 5 = 0.9810000000000002, top 10 = 0.9710000000000011, kendal = 0.899869984790846\n",
      "\n",
      "Epoch: 312\n"
     ]
    },
    {
     "name": "stderr",
     "output_type": "stream",
     "text": [
      "100%|██████████| 313/313 [02:01<00:00,  2.58it/s]\n",
      "100%|██████████| 313/313 [01:23<00:00,  3.77it/s]\n",
      "  0%|          | 0/4 [00:00<?, ?it/s]"
     ]
    },
    {
     "name": "stdout",
     "output_type": "stream",
     "text": [
      "Train: loss = 0.6930624828413283, top 1 = 0.9744, top 5 = 0.9787399999999623, top 10 = 0.974444999999997, kendal = 0.9018121895927032\n"
     ]
    },
    {
     "name": "stderr",
     "output_type": "stream",
     "text": [
      "100%|██████████| 4/4 [00:00<00:00,  5.77it/s]\n",
      "  0%|          | 0/313 [00:00<?, ?it/s]"
     ]
    },
    {
     "name": "stdout",
     "output_type": "stream",
     "text": [
      "Valid: loss = 0.6930661503715126, top 1 = 0.955, top 5 = 0.9810000000000002, top 10 = 0.9715000000000008, kendal = 0.8995564173809482\n",
      "\n",
      "Epoch: 313\n"
     ]
    },
    {
     "name": "stderr",
     "output_type": "stream",
     "text": [
      "100%|██████████| 313/313 [02:12<00:00,  2.37it/s]\n",
      "100%|██████████| 313/313 [01:37<00:00,  3.22it/s]\n",
      "  0%|          | 0/4 [00:00<?, ?it/s]"
     ]
    },
    {
     "name": "stdout",
     "output_type": "stream",
     "text": [
      "Train: loss = 0.6930622509232299, top 1 = 0.97495, top 5 = 0.9787999999999625, top 10 = 0.9745249999999963, kendal = 0.9018256948359865\n"
     ]
    },
    {
     "name": "stderr",
     "output_type": "stream",
     "text": [
      "100%|██████████| 4/4 [00:00<00:00,  6.23it/s]\n",
      "  0%|          | 0/313 [00:00<?, ?it/s]"
     ]
    },
    {
     "name": "stdout",
     "output_type": "stream",
     "text": [
      "Valid: loss = 0.6930673643674083, top 1 = 0.95, top 5 = 0.9790000000000003, top 10 = 0.9700000000000009, kendal = 0.8996890798894408\n",
      "\n",
      "Epoch: 314\n"
     ]
    },
    {
     "name": "stderr",
     "output_type": "stream",
     "text": [
      "100%|██████████| 313/313 [01:38<00:00,  3.18it/s]\n",
      "100%|██████████| 313/313 [02:03<00:00,  2.54it/s]\n",
      "  0%|          | 0/4 [00:00<?, ?it/s]"
     ]
    },
    {
     "name": "stdout",
     "output_type": "stream",
     "text": [
      "Train: loss = 0.6930623550995372, top 1 = 0.9742, top 5 = 0.9788799999999627, top 10 = 0.9746849999999971, kendal = 0.9021537205284909\n"
     ]
    },
    {
     "name": "stderr",
     "output_type": "stream",
     "text": [
      "100%|██████████| 4/4 [00:01<00:00,  3.85it/s]\n",
      "  0%|          | 0/313 [00:00<?, ?it/s]"
     ]
    },
    {
     "name": "stdout",
     "output_type": "stream",
     "text": [
      "Valid: loss = 0.6930669785022863, top 1 = 0.96, top 5 = 0.9790000000000003, top 10 = 0.9710000000000008, kendal = 0.9001061659984027\n",
      "\n",
      "Epoch: 315\n"
     ]
    },
    {
     "name": "stderr",
     "output_type": "stream",
     "text": [
      "100%|██████████| 313/313 [01:22<00:00,  3.79it/s]\n",
      "100%|██████████| 313/313 [01:50<00:00,  2.84it/s]\n",
      "  0%|          | 0/4 [00:00<?, ?it/s]"
     ]
    },
    {
     "name": "stdout",
     "output_type": "stream",
     "text": [
      "Train: loss = 0.6930624614485441, top 1 = 0.9747, top 5 = 0.9788699999999628, top 10 = 0.9745899999999972, kendal = 0.9023462297914366\n"
     ]
    },
    {
     "name": "stderr",
     "output_type": "stream",
     "text": [
      "100%|██████████| 4/4 [00:01<00:00,  3.32it/s]\n",
      "  0%|          | 0/313 [00:00<?, ?it/s]"
     ]
    },
    {
     "name": "stdout",
     "output_type": "stream",
     "text": [
      "Valid: loss = 0.6930677331054956, top 1 = 0.955, top 5 = 0.9810000000000002, top 10 = 0.971000000000001, kendal = 0.9002207385849428\n",
      "\n",
      "Epoch: 316\n"
     ]
    },
    {
     "name": "stderr",
     "output_type": "stream",
     "text": [
      "100%|██████████| 313/313 [01:56<00:00,  2.69it/s]\n",
      "100%|██████████| 313/313 [01:27<00:00,  3.57it/s]\n",
      "  0%|          | 0/4 [00:00<?, ?it/s]"
     ]
    },
    {
     "name": "stdout",
     "output_type": "stream",
     "text": [
      "Train: loss = 0.6930623037646115, top 1 = 0.97435, top 5 = 0.9788099999999628, top 10 = 0.9745849999999964, kendal = 0.900948856087684\n"
     ]
    },
    {
     "name": "stderr",
     "output_type": "stream",
     "text": [
      "100%|██████████| 4/4 [00:00<00:00,  4.86it/s]\n",
      "  0%|          | 0/313 [00:00<?, ?it/s]"
     ]
    },
    {
     "name": "stdout",
     "output_type": "stream",
     "text": [
      "Valid: loss = 0.6930639147803288, top 1 = 0.955, top 5 = 0.9800000000000003, top 10 = 0.9710000000000011, kendal = 0.8987413425596265\n",
      "\n",
      "Epoch: 317\n"
     ]
    },
    {
     "name": "stderr",
     "output_type": "stream",
     "text": [
      "100%|██████████| 313/313 [02:07<00:00,  2.45it/s]\n",
      "100%|██████████| 313/313 [01:41<00:00,  3.07it/s]\n",
      " 25%|██▌       | 1/4 [00:00<00:00,  5.90it/s]"
     ]
    },
    {
     "name": "stdout",
     "output_type": "stream",
     "text": [
      "Train: loss = 0.6930622189473221, top 1 = 0.97445, top 5 = 0.9787199999999624, top 10 = 0.9745399999999971, kendal = 0.9020147264338242\n"
     ]
    },
    {
     "name": "stderr",
     "output_type": "stream",
     "text": [
      "100%|██████████| 4/4 [00:00<00:00,  4.95it/s]\n",
      "  0%|          | 0/313 [00:00<?, ?it/s]"
     ]
    },
    {
     "name": "stdout",
     "output_type": "stream",
     "text": [
      "Valid: loss = 0.6930657389202755, top 1 = 0.95, top 5 = 0.9810000000000002, top 10 = 0.9710000000000008, kendal = 0.8999212402389091\n",
      "\n",
      "Epoch: 318\n"
     ]
    },
    {
     "name": "stderr",
     "output_type": "stream",
     "text": [
      "100%|██████████| 313/313 [01:34<00:00,  3.32it/s]\n",
      "100%|██████████| 313/313 [02:03<00:00,  2.53it/s]\n",
      "  0%|          | 0/4 [00:00<?, ?it/s]"
     ]
    },
    {
     "name": "stdout",
     "output_type": "stream",
     "text": [
      "Train: loss = 0.6930621806521359, top 1 = 0.97475, top 5 = 0.9787599999999625, top 10 = 0.9745549999999966, kendal = 0.8996770258657869\n"
     ]
    },
    {
     "name": "stderr",
     "output_type": "stream",
     "text": [
      "100%|██████████| 4/4 [00:01<00:00,  2.94it/s]\n",
      "  0%|          | 0/313 [00:00<?, ?it/s]"
     ]
    },
    {
     "name": "stdout",
     "output_type": "stream",
     "text": [
      "Valid: loss = 0.6930668973577251, top 1 = 0.955, top 5 = 0.9800000000000003, top 10 = 0.9715000000000009, kendal = 0.8974790299159653\n",
      "\n",
      "Epoch: 319\n"
     ]
    },
    {
     "name": "stderr",
     "output_type": "stream",
     "text": [
      "100%|██████████| 313/313 [01:25<00:00,  3.68it/s]\n",
      "100%|██████████| 313/313 [01:46<00:00,  2.95it/s]\n",
      "  0%|          | 0/4 [00:00<?, ?it/s]"
     ]
    },
    {
     "name": "stdout",
     "output_type": "stream",
     "text": [
      "Train: loss = 0.6930620426764685, top 1 = 0.9747, top 5 = 0.9787799999999628, top 10 = 0.9745649999999961, kendal = 0.9015848159523387\n"
     ]
    },
    {
     "name": "stderr",
     "output_type": "stream",
     "text": [
      "100%|██████████| 4/4 [00:01<00:00,  3.36it/s]\n",
      "  0%|          | 0/313 [00:00<?, ?it/s]"
     ]
    },
    {
     "name": "stdout",
     "output_type": "stream",
     "text": [
      "Valid: loss = 0.6930683065806359, top 1 = 0.96, top 5 = 0.9820000000000002, top 10 = 0.9705000000000008, kendal = 0.8993322955657971\n",
      "\n",
      "Epoch: 320\n"
     ]
    },
    {
     "name": "stderr",
     "output_type": "stream",
     "text": [
      "100%|██████████| 313/313 [01:59<00:00,  2.62it/s]\n",
      "100%|██████████| 313/313 [01:22<00:00,  3.81it/s]\n",
      "  0%|          | 0/4 [00:00<?, ?it/s]"
     ]
    },
    {
     "name": "stdout",
     "output_type": "stream",
     "text": [
      "Train: loss = 0.6930623971154486, top 1 = 0.97505, top 5 = 0.9788499999999629, top 10 = 0.9745449999999976, kendal = 0.9020127880810944\n"
     ]
    },
    {
     "name": "stderr",
     "output_type": "stream",
     "text": [
      "100%|██████████| 4/4 [00:00<00:00,  4.33it/s]\n",
      "  0%|          | 0/313 [00:00<?, ?it/s]"
     ]
    },
    {
     "name": "stdout",
     "output_type": "stream",
     "text": [
      "Valid: loss = 0.693066026736047, top 1 = 0.955, top 5 = 0.9800000000000003, top 10 = 0.9700000000000009, kendal = 0.8996860645867879\n",
      "\n",
      "Epoch: 321\n"
     ]
    },
    {
     "name": "stderr",
     "output_type": "stream",
     "text": [
      "100%|██████████| 313/313 [02:08<00:00,  2.44it/s]\n",
      "100%|██████████| 313/313 [01:39<00:00,  3.15it/s]\n",
      "  0%|          | 0/4 [00:00<?, ?it/s]"
     ]
    },
    {
     "name": "stdout",
     "output_type": "stream",
     "text": [
      "Train: loss = 0.6930623030690284, top 1 = 0.9748, top 5 = 0.9788299999999627, top 10 = 0.9746899999999974, kendal = 0.9016769287484904\n"
     ]
    },
    {
     "name": "stderr",
     "output_type": "stream",
     "text": [
      "100%|██████████| 4/4 [00:00<00:00,  4.33it/s]\n",
      "  0%|          | 0/313 [00:00<?, ?it/s]"
     ]
    },
    {
     "name": "stdout",
     "output_type": "stream",
     "text": [
      "Valid: loss = 0.6930667437693971, top 1 = 0.955, top 5 = 0.9780000000000002, top 10 = 0.9705000000000008, kendal = 0.8992468692634625\n",
      "\n",
      "Epoch: 322\n"
     ]
    },
    {
     "name": "stderr",
     "output_type": "stream",
     "text": [
      "100%|██████████| 313/313 [01:42<00:00,  3.04it/s]\n",
      "100%|██████████| 313/313 [01:59<00:00,  2.63it/s]\n",
      "  0%|          | 0/4 [00:00<?, ?it/s]"
     ]
    },
    {
     "name": "stdout",
     "output_type": "stream",
     "text": [
      "Train: loss = 0.6930621888542573, top 1 = 0.9744, top 5 = 0.9789099999999631, top 10 = 0.9746049999999977, kendal = 0.9014341717532678\n"
     ]
    },
    {
     "name": "stderr",
     "output_type": "stream",
     "text": [
      "100%|██████████| 4/4 [00:01<00:00,  3.23it/s]\n",
      "  0%|          | 0/313 [00:00<?, ?it/s]"
     ]
    },
    {
     "name": "stdout",
     "output_type": "stream",
     "text": [
      "Valid: loss = 0.6930669182421301, top 1 = 0.955, top 5 = 0.9790000000000002, top 10 = 0.9720000000000009, kendal = 0.8990870696876724\n",
      "\n",
      "Epoch: 323\n"
     ]
    },
    {
     "name": "stderr",
     "output_type": "stream",
     "text": [
      "100%|██████████| 313/313 [01:32<00:00,  3.40it/s]\n",
      "100%|██████████| 313/313 [01:52<00:00,  2.77it/s]\n",
      "  0%|          | 0/4 [00:00<?, ?it/s]"
     ]
    },
    {
     "name": "stdout",
     "output_type": "stream",
     "text": [
      "Train: loss = 0.6930622760087175, top 1 = 0.9745, top 5 = 0.9788999999999621, top 10 = 0.9746399999999968, kendal = 0.9012620342369965\n"
     ]
    },
    {
     "name": "stderr",
     "output_type": "stream",
     "text": [
      "100%|██████████| 4/4 [00:02<00:00,  1.71it/s]\n",
      "  0%|          | 0/313 [00:00<?, ?it/s]"
     ]
    },
    {
     "name": "stdout",
     "output_type": "stream",
     "text": [
      "Valid: loss = 0.6930658360959954, top 1 = 0.95, top 5 = 0.9810000000000002, top 10 = 0.9715000000000009, kendal = 0.8991594313199478\n",
      "\n",
      "Epoch: 324\n"
     ]
    },
    {
     "name": "stderr",
     "output_type": "stream",
     "text": [
      "100%|██████████| 313/313 [04:27<00:00,  1.17it/s]\n",
      "100%|██████████| 313/313 [03:10<00:00,  1.64it/s]\n",
      "  0%|          | 0/4 [00:00<?, ?it/s]"
     ]
    },
    {
     "name": "stdout",
     "output_type": "stream",
     "text": [
      "Train: loss = 0.6930622539090274, top 1 = 0.9738, top 5 = 0.9789199999999629, top 10 = 0.9747149999999974, kendal = 0.90220090642733\n"
     ]
    },
    {
     "name": "stderr",
     "output_type": "stream",
     "text": [
      "100%|██████████| 4/4 [00:01<00:00,  2.18it/s]\n",
      "  0%|          | 0/313 [00:00<?, ?it/s]"
     ]
    },
    {
     "name": "stdout",
     "output_type": "stream",
     "text": [
      "Valid: loss = 0.6930660758240508, top 1 = 0.96, top 5 = 0.9790000000000003, top 10 = 0.9715000000000009, kendal = 0.8999986278554093\n",
      "\n",
      "Epoch: 325\n"
     ]
    },
    {
     "name": "stderr",
     "output_type": "stream",
     "text": [
      "100%|██████████| 313/313 [03:32<00:00,  1.47it/s]\n",
      "100%|██████████| 313/313 [03:11<00:00,  1.64it/s]\n",
      "  0%|          | 0/4 [00:00<?, ?it/s]"
     ]
    },
    {
     "name": "stdout",
     "output_type": "stream",
     "text": [
      "Train: loss = 0.6930623661436486, top 1 = 0.97475, top 5 = 0.9789499999999627, top 10 = 0.9746049999999961, kendal = 0.9023888662306158\n"
     ]
    },
    {
     "name": "stderr",
     "output_type": "stream",
     "text": [
      "100%|██████████| 4/4 [00:01<00:00,  2.04it/s]\n",
      "  0%|          | 0/313 [00:00<?, ?it/s]"
     ]
    },
    {
     "name": "stdout",
     "output_type": "stream",
     "text": [
      "Valid: loss = 0.6930664205504733, top 1 = 0.95, top 5 = 0.9800000000000003, top 10 = 0.9700000000000009, kendal = 0.9002257635338015\n",
      "\n",
      "Epoch: 326\n"
     ]
    },
    {
     "name": "stderr",
     "output_type": "stream",
     "text": [
      "100%|██████████| 313/313 [04:22<00:00,  1.19it/s]\n",
      "100%|██████████| 313/313 [02:59<00:00,  1.74it/s]\n",
      "  0%|          | 0/4 [00:00<?, ?it/s]"
     ]
    },
    {
     "name": "stdout",
     "output_type": "stream",
     "text": [
      "Train: loss = 0.6930624284526968, top 1 = 0.9745, top 5 = 0.9789499999999627, top 10 = 0.9747349999999982, kendal = 0.9010782072859187\n"
     ]
    },
    {
     "name": "stderr",
     "output_type": "stream",
     "text": [
      "100%|██████████| 4/4 [00:01<00:00,  2.89it/s]\n",
      "  0%|          | 0/313 [00:00<?, ?it/s]"
     ]
    },
    {
     "name": "stdout",
     "output_type": "stream",
     "text": [
      "Valid: loss = 0.6930656372944977, top 1 = 0.955, top 5 = 0.9800000000000003, top 10 = 0.9725000000000008, kendal = 0.8987684764703192\n",
      "\n",
      "Epoch: 327\n"
     ]
    },
    {
     "name": "stderr",
     "output_type": "stream",
     "text": [
      "100%|██████████| 313/313 [03:08<00:00,  1.66it/s]\n",
      "100%|██████████| 313/313 [03:47<00:00,  1.37it/s]\n",
      "  0%|          | 0/4 [00:00<?, ?it/s]"
     ]
    },
    {
     "name": "stdout",
     "output_type": "stream",
     "text": [
      "Train: loss = 0.6930624803575582, top 1 = 0.975, top 5 = 0.9790099999999631, top 10 = 0.9746249999999982, kendal = 0.9003241424903026\n"
     ]
    },
    {
     "name": "stderr",
     "output_type": "stream",
     "text": [
      "100%|██████████| 4/4 [00:02<00:00,  1.73it/s]\n",
      "  0%|          | 0/313 [00:00<?, ?it/s]"
     ]
    },
    {
     "name": "stdout",
     "output_type": "stream",
     "text": [
      "Valid: loss = 0.6930666422306448, top 1 = 0.955, top 5 = 0.9790000000000003, top 10 = 0.971000000000001, kendal = 0.8980036526527505\n",
      "\n",
      "Epoch: 328\n"
     ]
    },
    {
     "name": "stderr",
     "output_type": "stream",
     "text": [
      "100%|██████████| 313/313 [03:48<00:00,  1.37it/s]\n",
      "100%|██████████| 313/313 [02:37<00:00,  1.99it/s]\n",
      "  0%|          | 0/4 [00:00<?, ?it/s]"
     ]
    },
    {
     "name": "stdout",
     "output_type": "stream",
     "text": [
      "Train: loss = 0.693062325809701, top 1 = 0.97475, top 5 = 0.9786899999999623, top 10 = 0.9745899999999965, kendal = 0.9028591298532707\n"
     ]
    },
    {
     "name": "stderr",
     "output_type": "stream",
     "text": [
      "100%|██████████| 4/4 [00:01<00:00,  2.11it/s]\n",
      "  0%|          | 0/313 [00:00<?, ?it/s]"
     ]
    },
    {
     "name": "stdout",
     "output_type": "stream",
     "text": [
      "Valid: loss = 0.6930662996031189, top 1 = 0.95, top 5 = 0.9800000000000003, top 10 = 0.970000000000001, kendal = 0.9006770203960245\n",
      "\n",
      "Epoch: 329\n"
     ]
    },
    {
     "name": "stderr",
     "output_type": "stream",
     "text": [
      "100%|██████████| 313/313 [04:12<00:00,  1.24it/s]\n",
      "100%|██████████| 313/313 [03:15<00:00,  1.60it/s]\n",
      "  0%|          | 0/4 [00:00<?, ?it/s]"
     ]
    },
    {
     "name": "stdout",
     "output_type": "stream",
     "text": [
      "Train: loss = 0.6930624374211, top 1 = 0.97495, top 5 = 0.9789199999999629, top 10 = 0.9745299999999972, kendal = 0.9013010292239907\n"
     ]
    },
    {
     "name": "stderr",
     "output_type": "stream",
     "text": [
      "100%|██████████| 4/4 [00:02<00:00,  1.69it/s]\n",
      "  0%|          | 0/313 [00:00<?, ?it/s]"
     ]
    },
    {
     "name": "stdout",
     "output_type": "stream",
     "text": [
      "Valid: loss = 0.6930643277558542, top 1 = 0.955, top 5 = 0.9800000000000003, top 10 = 0.9710000000000008, kendal = 0.8988167174490738\n",
      "\n",
      "Epoch: 330\n"
     ]
    },
    {
     "name": "stderr",
     "output_type": "stream",
     "text": [
      "100%|██████████| 313/313 [03:50<00:00,  1.36it/s]\n",
      "100%|██████████| 313/313 [02:38<00:00,  1.97it/s]\n",
      "  0%|          | 0/4 [00:00<?, ?it/s]"
     ]
    },
    {
     "name": "stdout",
     "output_type": "stream",
     "text": [
      "Train: loss = 0.6930621593584451, top 1 = 0.9745, top 5 = 0.978729999999963, top 10 = 0.9747749999999971, kendal = 0.9018214970800705\n"
     ]
    },
    {
     "name": "stderr",
     "output_type": "stream",
     "text": [
      "100%|██████████| 4/4 [00:02<00:00,  1.98it/s]\n",
      "  0%|          | 0/313 [00:00<?, ?it/s]"
     ]
    },
    {
     "name": "stdout",
     "output_type": "stream",
     "text": [
      "Valid: loss = 0.6930660339732853, top 1 = 0.95, top 5 = 0.9790000000000003, top 10 = 0.9720000000000009, kendal = 0.8993875710638575\n",
      "\n",
      "Epoch: 331\n"
     ]
    },
    {
     "name": "stderr",
     "output_type": "stream",
     "text": [
      "100%|██████████| 313/313 [04:25<00:00,  1.18it/s]\n",
      "100%|██████████| 313/313 [03:22<00:00,  1.55it/s]\n",
      "  0%|          | 0/4 [00:00<?, ?it/s]"
     ]
    },
    {
     "name": "stdout",
     "output_type": "stream",
     "text": [
      "Train: loss = 0.6930623685117926, top 1 = 0.97475, top 5 = 0.9788699999999626, top 10 = 0.9746899999999974, kendal = 0.9008533753614886\n"
     ]
    },
    {
     "name": "stderr",
     "output_type": "stream",
     "text": [
      "100%|██████████| 4/4 [00:01<00:00,  2.61it/s]\n",
      "  0%|          | 0/313 [00:00<?, ?it/s]"
     ]
    },
    {
     "name": "stdout",
     "output_type": "stream",
     "text": [
      "Valid: loss = 0.6930665067679115, top 1 = 0.955, top 5 = 0.9810000000000002, top 10 = 0.9700000000000009, kendal = 0.8984740037297182\n",
      "\n",
      "Epoch: 332\n"
     ]
    },
    {
     "name": "stderr",
     "output_type": "stream",
     "text": [
      "100%|██████████| 313/313 [02:54<00:00,  1.79it/s]\n",
      "100%|██████████| 313/313 [03:34<00:00,  1.46it/s]\n",
      "  0%|          | 0/4 [00:00<?, ?it/s]"
     ]
    },
    {
     "name": "stdout",
     "output_type": "stream",
     "text": [
      "Train: loss = 0.6930624303979966, top 1 = 0.9746, top 5 = 0.9786699999999624, top 10 = 0.9746199999999969, kendal = 0.9022797830415684\n"
     ]
    },
    {
     "name": "stderr",
     "output_type": "stream",
     "text": [
      "100%|██████████| 4/4 [00:02<00:00,  1.59it/s]\n",
      "  0%|          | 0/313 [00:00<?, ?it/s]"
     ]
    },
    {
     "name": "stdout",
     "output_type": "stream",
     "text": [
      "Valid: loss = 0.6930673117056311, top 1 = 0.955, top 5 = 0.9800000000000003, top 10 = 0.9710000000000008, kendal = 0.8998740035024427\n",
      "\n",
      "Epoch: 333\n"
     ]
    },
    {
     "name": "stderr",
     "output_type": "stream",
     "text": [
      "100%|██████████| 313/313 [04:13<00:00,  1.24it/s]\n",
      "100%|██████████| 313/313 [02:45<00:00,  1.89it/s]\n",
      "  0%|          | 0/4 [00:00<?, ?it/s]"
     ]
    },
    {
     "name": "stdout",
     "output_type": "stream",
     "text": [
      "Train: loss = 0.6930623321675191, top 1 = 0.97465, top 5 = 0.9789499999999635, top 10 = 0.9746349999999971, kendal = 0.9014109565472674\n"
     ]
    },
    {
     "name": "stderr",
     "output_type": "stream",
     "text": [
      "100%|██████████| 4/4 [00:01<00:00,  2.07it/s]\n",
      "  0%|          | 0/313 [00:00<?, ?it/s]"
     ]
    },
    {
     "name": "stdout",
     "output_type": "stream",
     "text": [
      "Valid: loss = 0.6930666139122742, top 1 = 0.95, top 5 = 0.9790000000000003, top 10 = 0.9720000000000009, kendal = 0.8992689779980213\n",
      "\n",
      "Epoch: 334\n"
     ]
    },
    {
     "name": "stderr",
     "output_type": "stream",
     "text": [
      "100%|██████████| 313/313 [03:51<00:00,  1.35it/s]\n",
      "100%|██████████| 313/313 [03:13<00:00,  1.62it/s]\n",
      "  0%|          | 0/4 [00:00<?, ?it/s]"
     ]
    },
    {
     "name": "stdout",
     "output_type": "stream",
     "text": [
      "Train: loss = 0.6930622727817466, top 1 = 0.97435, top 5 = 0.9788099999999624, top 10 = 0.9747649999999972, kendal = 0.9022677807534788\n"
     ]
    },
    {
     "name": "stderr",
     "output_type": "stream",
     "text": [
      "100%|██████████| 4/4 [00:02<00:00,  1.65it/s]\n",
      "  0%|          | 0/313 [00:00<?, ?it/s]"
     ]
    },
    {
     "name": "stdout",
     "output_type": "stream",
     "text": [
      "Valid: loss = 0.6930666782411429, top 1 = 0.96, top 5 = 0.9810000000000002, top 10 = 0.971000000000001, kendal = 0.899960435713752\n",
      "\n",
      "Epoch: 335\n"
     ]
    },
    {
     "name": "stderr",
     "output_type": "stream",
     "text": [
      "100%|██████████| 313/313 [04:18<00:00,  1.21it/s]\n",
      "100%|██████████| 313/313 [02:16<00:00,  2.29it/s]\n",
      "  0%|          | 0/4 [00:00<?, ?it/s]"
     ]
    },
    {
     "name": "stdout",
     "output_type": "stream",
     "text": [
      "Train: loss = 0.6930622009525871, top 1 = 0.97495, top 5 = 0.9789999999999626, top 10 = 0.9746699999999969, kendal = 0.9026112928928526\n"
     ]
    },
    {
     "name": "stderr",
     "output_type": "stream",
     "text": [
      "100%|██████████| 4/4 [00:01<00:00,  2.59it/s]\n",
      "  0%|          | 0/313 [00:00<?, ?it/s]"
     ]
    },
    {
     "name": "stdout",
     "output_type": "stream",
     "text": [
      "Valid: loss = 0.6930657014233597, top 1 = 0.955, top 5 = 0.9780000000000002, top 10 = 0.971000000000001, kendal = 0.900190586038223\n",
      "\n",
      "Epoch: 336\n"
     ]
    },
    {
     "name": "stderr",
     "output_type": "stream",
     "text": [
      "100%|██████████| 313/313 [04:17<00:00,  1.22it/s]\n",
      "100%|██████████| 313/313 [03:34<00:00,  1.46it/s]\n",
      "  0%|          | 0/4 [00:00<?, ?it/s]"
     ]
    },
    {
     "name": "stdout",
     "output_type": "stream",
     "text": [
      "Train: loss = 0.6930621298754766, top 1 = 0.9746, top 5 = 0.978899999999963, top 10 = 0.974644999999997, kendal = 0.9019646126450871\n"
     ]
    },
    {
     "name": "stderr",
     "output_type": "stream",
     "text": [
      "100%|██████████| 4/4 [00:02<00:00,  1.95it/s]\n",
      "  0%|          | 0/313 [00:00<?, ?it/s]"
     ]
    },
    {
     "name": "stdout",
     "output_type": "stream",
     "text": [
      "Valid: loss = 0.6930661065688654, top 1 = 0.96, top 5 = 0.9780000000000004, top 10 = 0.9720000000000008, kendal = 0.8998106875255961\n",
      "\n",
      "Epoch: 337\n"
     ]
    },
    {
     "name": "stderr",
     "output_type": "stream",
     "text": [
      "100%|██████████| 313/313 [03:10<00:00,  1.64it/s]\n",
      "100%|██████████| 313/313 [03:10<00:00,  1.65it/s]\n",
      "  0%|          | 0/4 [00:00<?, ?it/s]"
     ]
    },
    {
     "name": "stdout",
     "output_type": "stream",
     "text": [
      "Train: loss = 0.69306231257829, top 1 = 0.97455, top 5 = 0.9787499999999622, top 10 = 0.9746299999999972, kendal = 0.9029766898242447\n"
     ]
    },
    {
     "name": "stderr",
     "output_type": "stream",
     "text": [
      "100%|██████████| 4/4 [00:02<00:00,  1.86it/s]\n",
      "  0%|          | 0/313 [00:00<?, ?it/s]"
     ]
    },
    {
     "name": "stdout",
     "output_type": "stream",
     "text": [
      "Valid: loss = 0.6930659181569938, top 1 = 0.955, top 5 = 0.9800000000000003, top 10 = 0.9715000000000009, kendal = 0.9006750078962472\n",
      "\n",
      "Epoch: 338\n"
     ]
    },
    {
     "name": "stderr",
     "output_type": "stream",
     "text": [
      "100%|██████████| 313/313 [04:14<00:00,  1.23it/s]\n",
      "100%|██████████| 313/313 [03:11<00:00,  1.64it/s]\n",
      "  0%|          | 0/4 [00:00<?, ?it/s]"
     ]
    },
    {
     "name": "stdout",
     "output_type": "stream",
     "text": [
      "Train: loss = 0.6930622967413731, top 1 = 0.97425, top 5 = 0.979009999999963, top 10 = 0.9746549999999972, kendal = 0.9016846505653199\n"
     ]
    },
    {
     "name": "stderr",
     "output_type": "stream",
     "text": [
      "100%|██████████| 4/4 [00:01<00:00,  2.42it/s]\n",
      "  0%|          | 0/313 [00:00<?, ?it/s]"
     ]
    },
    {
     "name": "stdout",
     "output_type": "stream",
     "text": [
      "Valid: loss = 0.6930664483544318, top 1 = 0.95, top 5 = 0.9790000000000003, top 10 = 0.9715000000000009, kendal = 0.8994046567940273\n",
      "\n",
      "Epoch: 339\n"
     ]
    },
    {
     "name": "stderr",
     "output_type": "stream",
     "text": [
      "100%|██████████| 313/313 [03:25<00:00,  1.52it/s]\n",
      "100%|██████████| 313/313 [03:14<00:00,  1.61it/s]\n",
      "  0%|          | 0/4 [00:00<?, ?it/s]"
     ]
    },
    {
     "name": "stdout",
     "output_type": "stream",
     "text": [
      "Train: loss = 0.6930625162265769, top 1 = 0.97485, top 5 = 0.9789699999999628, top 10 = 0.9747049999999982, kendal = 0.9017416222122981\n"
     ]
    },
    {
     "name": "stderr",
     "output_type": "stream",
     "text": [
      "100%|██████████| 4/4 [00:02<00:00,  1.69it/s]\n",
      "  0%|          | 0/313 [00:00<?, ?it/s]"
     ]
    },
    {
     "name": "stdout",
     "output_type": "stream",
     "text": [
      "Valid: loss = 0.6930649638345134, top 1 = 0.955, top 5 = 0.9810000000000002, top 10 = 0.971000000000001, kendal = 0.8993463630639851\n",
      "\n",
      "Epoch: 340\n"
     ]
    },
    {
     "name": "stderr",
     "output_type": "stream",
     "text": [
      "100%|██████████| 313/313 [04:42<00:00,  1.11it/s]\n",
      "100%|██████████| 313/313 [02:15<00:00,  2.31it/s]\n",
      "  0%|          | 0/4 [00:00<?, ?it/s]"
     ]
    },
    {
     "name": "stdout",
     "output_type": "stream",
     "text": [
      "Train: loss = 0.693062414297277, top 1 = 0.97455, top 5 = 0.9789199999999624, top 10 = 0.9746399999999976, kendal = 0.900434914060444\n"
     ]
    },
    {
     "name": "stderr",
     "output_type": "stream",
     "text": [
      "100%|██████████| 4/4 [00:01<00:00,  3.07it/s]\n",
      "  0%|          | 0/313 [00:00<?, ?it/s]"
     ]
    },
    {
     "name": "stdout",
     "output_type": "stream",
     "text": [
      "Valid: loss = 0.6930668407403409, top 1 = 0.95, top 5 = 0.9810000000000002, top 10 = 0.9720000000000009, kendal = 0.8981735003838115\n",
      "\n",
      "Epoch: 341\n"
     ]
    },
    {
     "name": "stderr",
     "output_type": "stream",
     "text": [
      "100%|██████████| 313/313 [03:48<00:00,  1.37it/s]\n",
      "100%|██████████| 313/313 [03:36<00:00,  1.45it/s]\n",
      "  0%|          | 0/4 [00:00<?, ?it/s]"
     ]
    },
    {
     "name": "stdout",
     "output_type": "stream",
     "text": [
      "Train: loss = 0.6930624325731662, top 1 = 0.9747, top 5 = 0.9790199999999628, top 10 = 0.9747299999999981, kendal = 0.9022407633417748\n"
     ]
    },
    {
     "name": "stderr",
     "output_type": "stream",
     "text": [
      "100%|██████████| 4/4 [00:01<00:00,  2.24it/s]\n",
      "  0%|          | 0/313 [00:00<?, ?it/s]"
     ]
    },
    {
     "name": "stdout",
     "output_type": "stream",
     "text": [
      "Valid: loss = 0.6930643712996981, top 1 = 0.955, top 5 = 0.9800000000000003, top 10 = 0.9720000000000009, kendal = 0.8999523956137583\n",
      "\n",
      "Epoch: 342\n"
     ]
    },
    {
     "name": "stderr",
     "output_type": "stream",
     "text": [
      "100%|██████████| 313/313 [03:36<00:00,  1.44it/s]\n",
      "100%|██████████| 313/313 [02:53<00:00,  1.80it/s]\n",
      "  0%|          | 0/4 [00:00<?, ?it/s]"
     ]
    },
    {
     "name": "stdout",
     "output_type": "stream",
     "text": [
      "Train: loss = 0.6930623811794168, top 1 = 0.9747, top 5 = 0.9789399999999627, top 10 = 0.9747999999999974, kendal = 0.9019147299790365\n"
     ]
    },
    {
     "name": "stderr",
     "output_type": "stream",
     "text": [
      "100%|██████████| 4/4 [00:01<00:00,  2.23it/s]\n",
      "  0%|          | 0/313 [00:00<?, ?it/s]"
     ]
    },
    {
     "name": "stdout",
     "output_type": "stream",
     "text": [
      "Valid: loss = 0.6930658606147772, top 1 = 0.96, top 5 = 0.9780000000000002, top 10 = 0.971000000000001, kendal = 0.8995252588999998\n",
      "\n",
      "Epoch: 343\n"
     ]
    },
    {
     "name": "stderr",
     "output_type": "stream",
     "text": [
      "100%|██████████| 313/313 [04:07<00:00,  1.27it/s]\n",
      "100%|██████████| 313/313 [03:37<00:00,  1.44it/s]\n",
      "  0%|          | 0/4 [00:00<?, ?it/s]"
     ]
    },
    {
     "name": "stdout",
     "output_type": "stream",
     "text": [
      "Train: loss = 0.6930624354319698, top 1 = 0.9747, top 5 = 0.978959999999963, top 10 = 0.974744999999997, kendal = 0.899900975628421\n"
     ]
    },
    {
     "name": "stderr",
     "output_type": "stream",
     "text": [
      "100%|██████████| 4/4 [00:02<00:00,  1.86it/s]\n",
      "  0%|          | 0/313 [00:00<?, ?it/s]"
     ]
    },
    {
     "name": "stdout",
     "output_type": "stream",
     "text": [
      "Valid: loss = 0.6930658679475712, top 1 = 0.96, top 5 = 0.9810000000000002, top 10 = 0.9710000000000008, kendal = 0.8974900837781888\n",
      "\n",
      "Epoch: 344\n"
     ]
    },
    {
     "name": "stderr",
     "output_type": "stream",
     "text": [
      "100%|██████████| 313/313 [03:19<00:00,  1.57it/s]\n",
      "100%|██████████| 313/313 [02:51<00:00,  1.83it/s]\n",
      "  0%|          | 0/4 [00:00<?, ?it/s]"
     ]
    },
    {
     "name": "stdout",
     "output_type": "stream",
     "text": [
      "Train: loss = 0.6930622428193928, top 1 = 0.97475, top 5 = 0.979059999999963, top 10 = 0.9747249999999978, kendal = 0.9021264207512604\n"
     ]
    },
    {
     "name": "stderr",
     "output_type": "stream",
     "text": [
      "100%|██████████| 4/4 [00:02<00:00,  1.79it/s]\n",
      "  0%|          | 0/313 [00:00<?, ?it/s]"
     ]
    },
    {
     "name": "stdout",
     "output_type": "stream",
     "text": [
      "Valid: loss = 0.6930670541907652, top 1 = 0.96, top 5 = 0.9780000000000002, top 10 = 0.971000000000001, kendal = 0.8999724957879842\n",
      "\n",
      "Epoch: 345\n"
     ]
    },
    {
     "name": "stderr",
     "output_type": "stream",
     "text": [
      "100%|██████████| 313/313 [04:40<00:00,  1.12it/s]\n",
      "100%|██████████| 313/313 [02:44<00:00,  1.91it/s]\n",
      "  0%|          | 0/4 [00:00<?, ?it/s]"
     ]
    },
    {
     "name": "stdout",
     "output_type": "stream",
     "text": [
      "Train: loss = 0.6930624469291474, top 1 = 0.97495, top 5 = 0.978859999999963, top 10 = 0.9746849999999969, kendal = 0.9026914693027658\n"
     ]
    },
    {
     "name": "stderr",
     "output_type": "stream",
     "text": [
      "100%|██████████| 4/4 [00:01<00:00,  3.05it/s]\n",
      "  0%|          | 0/313 [00:00<?, ?it/s]"
     ]
    },
    {
     "name": "stdout",
     "output_type": "stream",
     "text": [
      "Valid: loss = 0.693066278011242, top 1 = 0.955, top 5 = 0.9800000000000003, top 10 = 0.9725000000000008, kendal = 0.9004709877957449\n",
      "\n",
      "Epoch: 346\n"
     ]
    },
    {
     "name": "stderr",
     "output_type": "stream",
     "text": [
      "100%|██████████| 313/313 [03:17<00:00,  1.58it/s]\n",
      "100%|██████████| 313/313 [03:38<00:00,  1.43it/s]\n",
      "  0%|          | 0/4 [00:00<?, ?it/s]"
     ]
    },
    {
     "name": "stdout",
     "output_type": "stream",
     "text": [
      "Train: loss = 0.6930623020368807, top 1 = 0.97495, top 5 = 0.9790699999999629, top 10 = 0.9747299999999974, kendal = 0.9017267177300893\n"
     ]
    },
    {
     "name": "stderr",
     "output_type": "stream",
     "text": [
      "100%|██████████| 4/4 [00:01<00:00,  2.07it/s]\n",
      "  0%|          | 0/313 [00:00<?, ?it/s]"
     ]
    },
    {
     "name": "stdout",
     "output_type": "stream",
     "text": [
      "Valid: loss = 0.6930658751809193, top 1 = 0.955, top 5 = 0.9810000000000002, top 10 = 0.9720000000000009, kendal = 0.8993272694805614\n",
      "\n",
      "Epoch: 347\n"
     ]
    },
    {
     "name": "stderr",
     "output_type": "stream",
     "text": [
      "100%|██████████| 313/313 [04:02<00:00,  1.29it/s]\n",
      "100%|██████████| 313/313 [02:56<00:00,  1.77it/s]\n",
      "  0%|          | 0/4 [00:00<?, ?it/s]"
     ]
    },
    {
     "name": "stdout",
     "output_type": "stream",
     "text": [
      "Train: loss = 0.6930623612283277, top 1 = 0.9742, top 5 = 0.9787699999999624, top 10 = 0.9747349999999974, kendal = 0.9020539081760643\n"
     ]
    },
    {
     "name": "stderr",
     "output_type": "stream",
     "text": [
      "100%|██████████| 4/4 [00:01<00:00,  2.21it/s]\n",
      "  0%|          | 0/313 [00:00<?, ?it/s]"
     ]
    },
    {
     "name": "stdout",
     "output_type": "stream",
     "text": [
      "Valid: loss = 0.6930646202573003, top 1 = 0.96, top 5 = 0.9800000000000003, top 10 = 0.971000000000001, kendal = 0.899908173952668\n",
      "\n",
      "Epoch: 348\n"
     ]
    },
    {
     "name": "stderr",
     "output_type": "stream",
     "text": [
      "100%|██████████| 313/313 [03:29<00:00,  1.49it/s]\n",
      "100%|██████████| 313/313 [03:40<00:00,  1.42it/s]\n",
      "  0%|          | 0/4 [00:00<?, ?it/s]"
     ]
    },
    {
     "name": "stdout",
     "output_type": "stream",
     "text": [
      "Train: loss = 0.6930623876964125, top 1 = 0.97455, top 5 = 0.9789999999999627, top 10 = 0.9746749999999971, kendal = 0.9021685413300302\n"
     ]
    },
    {
     "name": "stderr",
     "output_type": "stream",
     "text": [
      "100%|██████████| 4/4 [00:02<00:00,  1.77it/s]\n",
      "  0%|          | 0/313 [00:00<?, ?it/s]"
     ]
    },
    {
     "name": "stdout",
     "output_type": "stream",
     "text": [
      "Valid: loss = 0.6930668922141328, top 1 = 0.96, top 5 = 0.9780000000000004, top 10 = 0.9710000000000008, kendal = 0.8998910879699706\n",
      "\n",
      "Epoch: 349\n"
     ]
    },
    {
     "name": "stderr",
     "output_type": "stream",
     "text": [
      "100%|██████████| 313/313 [03:45<00:00,  1.39it/s]\n",
      "100%|██████████| 313/313 [02:23<00:00,  2.18it/s]\n",
      "  0%|          | 0/4 [00:00<?, ?it/s]"
     ]
    },
    {
     "name": "stdout",
     "output_type": "stream",
     "text": [
      "Train: loss = 0.6930623263746551, top 1 = 0.97465, top 5 = 0.9790399999999628, top 10 = 0.974789999999997, kendal = 0.9009748884378931\n"
     ]
    },
    {
     "name": "stderr",
     "output_type": "stream",
     "text": [
      "100%|██████████| 4/4 [00:01<00:00,  2.32it/s]\n",
      "  0%|          | 0/313 [00:00<?, ?it/s]"
     ]
    },
    {
     "name": "stdout",
     "output_type": "stream",
     "text": [
      "Valid: loss = 0.6930640834857317, top 1 = 0.955, top 5 = 0.9790000000000003, top 10 = 0.9715000000000009, kendal = 0.8985282736470903\n",
      "\n",
      "Epoch: 350\n"
     ]
    },
    {
     "name": "stderr",
     "output_type": "stream",
     "text": [
      "100%|██████████| 313/313 [04:36<00:00,  1.13it/s]\n",
      "100%|██████████| 313/313 [03:21<00:00,  1.55it/s]\n",
      "  0%|          | 0/4 [00:00<?, ?it/s]"
     ]
    },
    {
     "name": "stdout",
     "output_type": "stream",
     "text": [
      "Train: loss = 0.6930622419152046, top 1 = 0.9743, top 5 = 0.9788599999999624, top 10 = 0.9747349999999968, kendal = 0.9024259438112499\n"
     ]
    },
    {
     "name": "stderr",
     "output_type": "stream",
     "text": [
      "100%|██████████| 4/4 [00:01<00:00,  3.08it/s]\n",
      "  0%|          | 0/313 [00:00<?, ?it/s]"
     ]
    },
    {
     "name": "stdout",
     "output_type": "stream",
     "text": [
      "Valid: loss = 0.6930662627082113, top 1 = 0.96, top 5 = 0.9800000000000003, top 10 = 0.970000000000001, kendal = 0.9000408362843902\n",
      "\n",
      "Epoch: 351\n"
     ]
    },
    {
     "name": "stderr",
     "output_type": "stream",
     "text": [
      "100%|██████████| 313/313 [03:11<00:00,  1.63it/s]\n",
      "100%|██████████| 313/313 [03:19<00:00,  1.57it/s]\n",
      "  0%|          | 0/4 [00:00<?, ?it/s]"
     ]
    },
    {
     "name": "stdout",
     "output_type": "stream",
     "text": [
      "Train: loss = 0.6930621965859677, top 1 = 0.9744, top 5 = 0.9789899999999628, top 10 = 0.9747699999999968, kendal = 0.9020498579094115\n"
     ]
    },
    {
     "name": "stderr",
     "output_type": "stream",
     "text": [
      "100%|██████████| 4/4 [00:01<00:00,  2.15it/s]\n",
      "  0%|          | 0/313 [00:00<?, ?it/s]"
     ]
    },
    {
     "name": "stdout",
     "output_type": "stream",
     "text": [
      "Valid: loss = 0.6930669622754766, top 1 = 0.95, top 5 = 0.9780000000000002, top 10 = 0.9720000000000009, kendal = 0.8997121934976086\n",
      "\n",
      "Epoch: 352\n"
     ]
    },
    {
     "name": "stderr",
     "output_type": "stream",
     "text": [
      "100%|██████████| 313/313 [04:02<00:00,  1.29it/s]\n",
      "100%|██████████| 313/313 [03:21<00:00,  1.55it/s]\n",
      "  0%|          | 0/4 [00:00<?, ?it/s]"
     ]
    },
    {
     "name": "stdout",
     "output_type": "stream",
     "text": [
      "Train: loss = 0.6930623080040592, top 1 = 0.97455, top 5 = 0.9789999999999627, top 10 = 0.9748349999999977, kendal = 0.9004639515102748\n"
     ]
    },
    {
     "name": "stderr",
     "output_type": "stream",
     "text": [
      "100%|██████████| 4/4 [00:01<00:00,  2.38it/s]\n",
      "  0%|          | 0/313 [00:00<?, ?it/s]"
     ]
    },
    {
     "name": "stdout",
     "output_type": "stream",
     "text": [
      "Valid: loss = 0.6930678056808319, top 1 = 0.96, top 5 = 0.9800000000000003, top 10 = 0.9705000000000009, kendal = 0.8979775199034993\n",
      "\n",
      "Epoch: 353\n"
     ]
    },
    {
     "name": "stderr",
     "output_type": "stream",
     "text": [
      "100%|██████████| 313/313 [02:50<00:00,  1.83it/s]\n",
      "100%|██████████| 313/313 [03:41<00:00,  1.41it/s]\n",
      "  0%|          | 0/4 [00:00<?, ?it/s]"
     ]
    },
    {
     "name": "stdout",
     "output_type": "stream",
     "text": [
      "Train: loss = 0.6930622977206301, top 1 = 0.9742, top 5 = 0.9788199999999626, top 10 = 0.9747249999999973, kendal = 0.9023505413772549\n"
     ]
    },
    {
     "name": "stderr",
     "output_type": "stream",
     "text": [
      "100%|██████████| 4/4 [00:02<00:00,  1.84it/s]\n",
      "  0%|          | 0/313 [00:00<?, ?it/s]"
     ]
    },
    {
     "name": "stdout",
     "output_type": "stream",
     "text": [
      "Valid: loss = 0.6930671808473531, top 1 = 0.96, top 5 = 0.9810000000000002, top 10 = 0.9705000000000009, kendal = 0.9000709872654352\n",
      "\n",
      "Epoch: 354\n"
     ]
    },
    {
     "name": "stderr",
     "output_type": "stream",
     "text": [
      "100%|██████████| 313/313 [04:15<00:00,  1.23it/s]\n",
      "100%|██████████| 313/313 [02:29<00:00,  2.10it/s]\n",
      "  0%|          | 0/4 [00:00<?, ?it/s]"
     ]
    },
    {
     "name": "stdout",
     "output_type": "stream",
     "text": [
      "Train: loss = 0.6930622707930324, top 1 = 0.97445, top 5 = 0.9787199999999626, top 10 = 0.974694999999997, kendal = 0.9025159214696303\n"
     ]
    },
    {
     "name": "stderr",
     "output_type": "stream",
     "text": [
      "100%|██████████| 4/4 [00:01<00:00,  2.41it/s]\n",
      "  0%|          | 0/313 [00:00<?, ?it/s]"
     ]
    },
    {
     "name": "stdout",
     "output_type": "stream",
     "text": [
      "Valid: loss = 0.6930660454441718, top 1 = 0.96, top 5 = 0.9800000000000003, top 10 = 0.9720000000000009, kendal = 0.9002498811317288\n",
      "\n",
      "Epoch: 355\n"
     ]
    },
    {
     "name": "stderr",
     "output_type": "stream",
     "text": [
      "100%|██████████| 313/313 [04:03<00:00,  1.29it/s]\n",
      "100%|██████████| 313/313 [03:26<00:00,  1.52it/s]\n",
      "  0%|          | 0/4 [00:00<?, ?it/s]"
     ]
    },
    {
     "name": "stdout",
     "output_type": "stream",
     "text": [
      "Train: loss = 0.6930622209431935, top 1 = 0.97435, top 5 = 0.9790499999999634, top 10 = 0.9748299999999972, kendal = 0.9022646820173914\n"
     ]
    },
    {
     "name": "stderr",
     "output_type": "stream",
     "text": [
      "100%|██████████| 4/4 [00:01<00:00,  2.12it/s]\n",
      "  0%|          | 0/313 [00:00<?, ?it/s]"
     ]
    },
    {
     "name": "stdout",
     "output_type": "stream",
     "text": [
      "Valid: loss = 0.6930655540233412, top 1 = 0.96, top 5 = 0.9810000000000002, top 10 = 0.9725000000000008, kendal = 0.8999071672608556\n",
      "\n",
      "Epoch: 356\n"
     ]
    },
    {
     "name": "stderr",
     "output_type": "stream",
     "text": [
      "100%|██████████| 313/313 [03:40<00:00,  1.42it/s]\n",
      "100%|██████████| 313/313 [02:56<00:00,  1.77it/s]\n",
      "  0%|          | 0/4 [00:00<?, ?it/s]"
     ]
    },
    {
     "name": "stdout",
     "output_type": "stream",
     "text": [
      "Train: loss = 0.6930621931218177, top 1 = 0.97465, top 5 = 0.9789199999999629, top 10 = 0.9746049999999974, kendal = 0.9009710492467115\n"
     ]
    },
    {
     "name": "stderr",
     "output_type": "stream",
     "text": [
      "100%|██████████| 4/4 [00:01<00:00,  2.00it/s]\n",
      "  0%|          | 0/313 [00:00<?, ?it/s]"
     ]
    },
    {
     "name": "stdout",
     "output_type": "stream",
     "text": [
      "Valid: loss = 0.6930661666765332, top 1 = 0.955, top 5 = 0.9790000000000003, top 10 = 0.9715000000000009, kendal = 0.8983745051564088\n",
      "\n",
      "Epoch: 357\n"
     ]
    },
    {
     "name": "stderr",
     "output_type": "stream",
     "text": [
      "100%|██████████| 313/313 [03:58<00:00,  1.31it/s]\n",
      "100%|██████████| 313/313 [03:49<00:00,  1.37it/s]\n",
      "  0%|          | 0/4 [00:00<?, ?it/s]"
     ]
    },
    {
     "name": "stdout",
     "output_type": "stream",
     "text": [
      "Train: loss = 0.6930624849584661, top 1 = 0.97505, top 5 = 0.9789699999999631, top 10 = 0.9748499999999978, kendal = 0.9024465066833999\n"
     ]
    },
    {
     "name": "stderr",
     "output_type": "stream",
     "text": [
      "100%|██████████| 4/4 [00:01<00:00,  2.43it/s]\n",
      "  0%|          | 0/313 [00:00<?, ?it/s]"
     ]
    },
    {
     "name": "stdout",
     "output_type": "stream",
     "text": [
      "Valid: loss = 0.6930655596774906, top 1 = 0.955, top 5 = 0.9790000000000002, top 10 = 0.9715000000000009, kendal = 0.9000086745460155\n",
      "\n",
      "Epoch: 358\n"
     ]
    },
    {
     "name": "stderr",
     "output_type": "stream",
     "text": [
      "100%|██████████| 313/313 [02:40<00:00,  1.95it/s]\n",
      "100%|██████████| 313/313 [03:18<00:00,  1.58it/s]\n",
      "  0%|          | 0/4 [00:00<?, ?it/s]"
     ]
    },
    {
     "name": "stdout",
     "output_type": "stream",
     "text": [
      "Train: loss = 0.6930624904641363, top 1 = 0.9741, top 5 = 0.9789399999999631, top 10 = 0.9748049999999974, kendal = 0.9023726048538793\n"
     ]
    },
    {
     "name": "stderr",
     "output_type": "stream",
     "text": [
      "100%|██████████| 4/4 [00:02<00:00,  1.70it/s]\n",
      "  0%|          | 0/313 [00:00<?, ?it/s]"
     ]
    },
    {
     "name": "stdout",
     "output_type": "stream",
     "text": [
      "Valid: loss = 0.6930661318455285, top 1 = 0.96, top 5 = 0.9810000000000002, top 10 = 0.9715000000000009, kendal = 0.8998609355242609\n",
      "\n",
      "Epoch: 359\n"
     ]
    },
    {
     "name": "stderr",
     "output_type": "stream",
     "text": [
      "100%|██████████| 313/313 [04:19<00:00,  1.21it/s]\n",
      "100%|██████████| 313/313 [02:55<00:00,  1.79it/s]\n",
      "  0%|          | 0/4 [00:00<?, ?it/s]"
     ]
    },
    {
     "name": "stdout",
     "output_type": "stream",
     "text": [
      "Train: loss = 0.6930622279264802, top 1 = 0.97485, top 5 = 0.9788799999999632, top 10 = 0.9747949999999972, kendal = 0.9032760722708677\n"
     ]
    },
    {
     "name": "stderr",
     "output_type": "stream",
     "text": [
      "100%|██████████| 4/4 [00:01<00:00,  2.20it/s]\n",
      "  0%|          | 0/313 [00:00<?, ?it/s]"
     ]
    },
    {
     "name": "stdout",
     "output_type": "stream",
     "text": [
      "Valid: loss = 0.6930667229290496, top 1 = 0.96, top 5 = 0.9790000000000002, top 10 = 0.9720000000000009, kendal = 0.9007956092446352\n",
      "\n",
      "Epoch: 360\n"
     ]
    },
    {
     "name": "stderr",
     "output_type": "stream",
     "text": [
      "100%|██████████| 313/313 [03:31<00:00,  1.48it/s]\n",
      "100%|██████████| 313/313 [03:29<00:00,  1.50it/s]\n",
      "  0%|          | 0/4 [00:00<?, ?it/s]"
     ]
    },
    {
     "name": "stdout",
     "output_type": "stream",
     "text": [
      "Train: loss = 0.6930622550469199, top 1 = 0.97475, top 5 = 0.9789299999999628, top 10 = 0.9748949999999977, kendal = 0.9021820890775609\n"
     ]
    },
    {
     "name": "stderr",
     "output_type": "stream",
     "text": [
      "100%|██████████| 4/4 [00:01<00:00,  2.04it/s]\n",
      "  0%|          | 0/313 [00:00<?, ?it/s]"
     ]
    },
    {
     "name": "stdout",
     "output_type": "stream",
     "text": [
      "Valid: loss = 0.6930662686488078, top 1 = 0.96, top 5 = 0.9800000000000003, top 10 = 0.9715000000000009, kendal = 0.8995544038710582\n",
      "\n",
      "Epoch: 361\n"
     ]
    },
    {
     "name": "stderr",
     "output_type": "stream",
     "text": [
      "100%|██████████| 313/313 [04:07<00:00,  1.26it/s]\n",
      "100%|██████████| 313/313 [02:52<00:00,  1.82it/s]\n",
      "  0%|          | 0/4 [00:00<?, ?it/s]"
     ]
    },
    {
     "name": "stdout",
     "output_type": "stream",
     "text": [
      "Train: loss = 0.69306216636438, top 1 = 0.97445, top 5 = 0.9789799999999632, top 10 = 0.9748849999999973, kendal = 0.9015123680813542\n"
     ]
    },
    {
     "name": "stderr",
     "output_type": "stream",
     "text": [
      "100%|██████████| 4/4 [00:01<00:00,  2.58it/s]\n",
      "  0%|          | 0/313 [00:00<?, ?it/s]"
     ]
    },
    {
     "name": "stdout",
     "output_type": "stream",
     "text": [
      "Valid: loss = 0.693067336532321, top 1 = 0.96, top 5 = 0.9810000000000002, top 10 = 0.9715000000000008, kendal = 0.8989242529910254\n",
      "\n",
      "Epoch: 362\n"
     ]
    },
    {
     "name": "stderr",
     "output_type": "stream",
     "text": [
      "100%|██████████| 313/313 [03:25<00:00,  1.52it/s]\n",
      "100%|██████████| 313/313 [03:53<00:00,  1.34it/s]\n",
      "  0%|          | 0/4 [00:00<?, ?it/s]"
     ]
    },
    {
     "name": "stdout",
     "output_type": "stream",
     "text": [
      "Train: loss = 0.6930624286409629, top 1 = 0.97395, top 5 = 0.9789699999999628, top 10 = 0.9749049999999979, kendal = 0.9026310996302959\n"
     ]
    },
    {
     "name": "stderr",
     "output_type": "stream",
     "text": [
      "100%|██████████| 4/4 [00:02<00:00,  1.78it/s]\n",
      "  0%|          | 0/313 [00:00<?, ?it/s]"
     ]
    },
    {
     "name": "stdout",
     "output_type": "stream",
     "text": [
      "Valid: loss = 0.6930671955655712, top 1 = 0.96, top 5 = 0.9820000000000002, top 10 = 0.9715000000000009, kendal = 0.9000368160576238\n",
      "\n",
      "Epoch: 363\n"
     ]
    },
    {
     "name": "stderr",
     "output_type": "stream",
     "text": [
      "100%|██████████| 313/313 [03:12<00:00,  1.62it/s]\n",
      "100%|██████████| 313/313 [02:44<00:00,  1.90it/s]\n",
      "  0%|          | 0/4 [00:00<?, ?it/s]"
     ]
    },
    {
     "name": "stdout",
     "output_type": "stream",
     "text": [
      "Train: loss = 0.6930621806274233, top 1 = 0.97455, top 5 = 0.979029999999963, top 10 = 0.9748949999999973, kendal = 0.9015342374939952\n"
     ]
    },
    {
     "name": "stderr",
     "output_type": "stream",
     "text": [
      "100%|██████████| 4/4 [00:02<00:00,  1.78it/s]\n",
      "  0%|          | 0/313 [00:00<?, ?it/s]"
     ]
    },
    {
     "name": "stdout",
     "output_type": "stream",
     "text": [
      "Valid: loss = 0.6930658796163408, top 1 = 0.96, top 5 = 0.9800000000000001, top 10 = 0.9725000000000008, kendal = 0.8991513895280134\n",
      "\n",
      "Epoch: 364\n"
     ]
    },
    {
     "name": "stderr",
     "output_type": "stream",
     "text": [
      "100%|██████████| 313/313 [04:22<00:00,  1.19it/s]\n",
      "100%|██████████| 313/313 [03:22<00:00,  1.54it/s]\n",
      "  0%|          | 0/4 [00:00<?, ?it/s]"
     ]
    },
    {
     "name": "stdout",
     "output_type": "stream",
     "text": [
      "Train: loss = 0.693062470606132, top 1 = 0.9742, top 5 = 0.9787499999999625, top 10 = 0.9748499999999977, kendal = 0.9027729968157011\n"
     ]
    },
    {
     "name": "stderr",
     "output_type": "stream",
     "text": [
      "100%|██████████| 4/4 [00:01<00:00,  2.31it/s]\n",
      "  0%|          | 0/313 [00:00<?, ?it/s]"
     ]
    },
    {
     "name": "stdout",
     "output_type": "stream",
     "text": [
      "Valid: loss = 0.6930674640455216, top 1 = 0.96, top 5 = 0.9800000000000003, top 10 = 0.971000000000001, kendal = 0.9003353081916484\n",
      "\n",
      "Epoch: 365\n"
     ]
    },
    {
     "name": "stderr",
     "output_type": "stream",
     "text": [
      "100%|██████████| 313/313 [03:25<00:00,  1.52it/s]\n",
      "100%|██████████| 313/313 [03:01<00:00,  1.72it/s]\n",
      "  0%|          | 0/4 [00:00<?, ?it/s]"
     ]
    },
    {
     "name": "stdout",
     "output_type": "stream",
     "text": [
      "Train: loss = 0.693062329010302, top 1 = 0.97455, top 5 = 0.9789399999999627, top 10 = 0.9747299999999972, kendal = 0.9022453339551317\n"
     ]
    },
    {
     "name": "stderr",
     "output_type": "stream",
     "text": [
      "100%|██████████| 4/4 [00:02<00:00,  1.96it/s]\n",
      "  0%|          | 0/313 [00:00<?, ?it/s]"
     ]
    },
    {
     "name": "stdout",
     "output_type": "stream",
     "text": [
      "Valid: loss = 0.6930661402498286, top 1 = 0.955, top 5 = 0.9810000000000002, top 10 = 0.9725000000000008, kendal = 0.8997021427412955\n",
      "\n",
      "Epoch: 366\n"
     ]
    },
    {
     "name": "stderr",
     "output_type": "stream",
     "text": [
      "100%|██████████| 313/313 [04:20<00:00,  1.20it/s]\n",
      "100%|██████████| 313/313 [03:12<00:00,  1.63it/s]\n",
      "  0%|          | 0/4 [00:00<?, ?it/s]"
     ]
    },
    {
     "name": "stdout",
     "output_type": "stream",
     "text": [
      "Train: loss = 0.6930623046060475, top 1 = 0.9745, top 5 = 0.9789999999999632, top 10 = 0.9748699999999971, kendal = 0.9025520945988519\n"
     ]
    },
    {
     "name": "stderr",
     "output_type": "stream",
     "text": [
      "100%|██████████| 4/4 [00:01<00:00,  2.80it/s]\n",
      "  0%|          | 0/313 [00:00<?, ?it/s]"
     ]
    },
    {
     "name": "stdout",
     "output_type": "stream",
     "text": [
      "Valid: loss = 0.6930643577775517, top 1 = 0.955, top 5 = 0.9820000000000002, top 10 = 0.9715000000000009, kendal = 0.8999835497007126\n",
      "\n",
      "Epoch: 367\n"
     ]
    },
    {
     "name": "stderr",
     "output_type": "stream",
     "text": [
      "100%|██████████| 313/313 [02:45<00:00,  1.89it/s]\n",
      "100%|██████████| 313/313 [03:50<00:00,  1.36it/s]\n",
      "  0%|          | 0/4 [00:00<?, ?it/s]"
     ]
    },
    {
     "name": "stdout",
     "output_type": "stream",
     "text": [
      "Train: loss = 0.6930622948387847, top 1 = 0.9748, top 5 = 0.9790099999999631, top 10 = 0.9748449999999979, kendal = 0.9032495720900819\n"
     ]
    },
    {
     "name": "stderr",
     "output_type": "stream",
     "text": [
      "100%|██████████| 4/4 [00:02<00:00,  1.72it/s]\n",
      "  0%|          | 0/313 [00:00<?, ?it/s]"
     ]
    },
    {
     "name": "stdout",
     "output_type": "stream",
     "text": [
      "Valid: loss = 0.6930648090624046, top 1 = 0.96, top 5 = 0.9830000000000001, top 10 = 0.9715000000000009, kendal = 0.9007554083153682\n",
      "\n",
      "Epoch: 368\n"
     ]
    },
    {
     "name": "stderr",
     "output_type": "stream",
     "text": [
      "100%|██████████| 313/313 [04:03<00:00,  1.29it/s]\n",
      "100%|██████████| 313/313 [02:39<00:00,  1.96it/s]\n",
      "  0%|          | 0/4 [00:00<?, ?it/s]"
     ]
    },
    {
     "name": "stdout",
     "output_type": "stream",
     "text": [
      "Train: loss = 0.693062328451287, top 1 = 0.9746, top 5 = 0.9790999999999631, top 10 = 0.9748099999999972, kendal = 0.9027979593474401\n"
     ]
    },
    {
     "name": "stderr",
     "output_type": "stream",
     "text": [
      "100%|██████████| 4/4 [00:01<00:00,  2.04it/s]\n",
      "  0%|          | 0/313 [00:00<?, ?it/s]"
     ]
    },
    {
     "name": "stdout",
     "output_type": "stream",
     "text": [
      "Valid: loss = 0.6930666467754324, top 1 = 0.96, top 5 = 0.9800000000000003, top 10 = 0.9730000000000009, kendal = 0.9004307854523189\n",
      "\n",
      "Epoch: 369\n"
     ]
    },
    {
     "name": "stderr",
     "output_type": "stream",
     "text": [
      "100%|██████████| 313/313 [03:53<00:00,  1.34it/s]\n",
      "100%|██████████| 313/313 [03:18<00:00,  1.57it/s]\n",
      "  0%|          | 0/4 [00:00<?, ?it/s]"
     ]
    },
    {
     "name": "stdout",
     "output_type": "stream",
     "text": [
      "Train: loss = 0.6930621363460956, top 1 = 0.97435, top 5 = 0.979009999999963, top 10 = 0.9747749999999975, kendal = 0.9018541023160626\n"
     ]
    },
    {
     "name": "stderr",
     "output_type": "stream",
     "text": [
      "100%|██████████| 4/4 [00:02<00:00,  1.63it/s]\n",
      "  0%|          | 0/313 [00:00<?, ?it/s]"
     ]
    },
    {
     "name": "stdout",
     "output_type": "stream",
     "text": [
      "Valid: loss = 0.6930657404343324, top 1 = 0.96, top 5 = 0.9810000000000002, top 10 = 0.9715000000000009, kendal = 0.8992448561828705\n",
      "\n",
      "Epoch: 370\n"
     ]
    },
    {
     "name": "stderr",
     "output_type": "stream",
     "text": [
      "100%|██████████| 313/313 [03:56<00:00,  1.32it/s]\n",
      "100%|██████████| 313/313 [02:19<00:00,  2.24it/s]\n",
      "  0%|          | 0/4 [00:00<?, ?it/s]"
     ]
    },
    {
     "name": "stdout",
     "output_type": "stream",
     "text": [
      "Train: loss = 0.6930623069133575, top 1 = 0.9747, top 5 = 0.9791199999999631, top 10 = 0.9748999999999977, kendal = 0.9029312782972329\n"
     ]
    },
    {
     "name": "stderr",
     "output_type": "stream",
     "text": [
      "100%|██████████| 4/4 [00:01<00:00,  2.59it/s]\n",
      "  0%|          | 0/313 [00:00<?, ?it/s]"
     ]
    },
    {
     "name": "stdout",
     "output_type": "stream",
     "text": [
      "Valid: loss = 0.6930667633582541, top 1 = 0.955, top 5 = 0.9800000000000001, top 10 = 0.9730000000000009, kendal = 0.9004277709072518\n",
      "\n",
      "Epoch: 371\n"
     ]
    },
    {
     "name": "stderr",
     "output_type": "stream",
     "text": [
      "100%|██████████| 313/313 [03:57<00:00,  1.32it/s]\n",
      "100%|██████████| 313/313 [03:43<00:00,  1.40it/s]\n",
      "  0%|          | 0/4 [00:00<?, ?it/s]"
     ]
    },
    {
     "name": "stdout",
     "output_type": "stream",
     "text": [
      "Train: loss = 0.6930622842902442, top 1 = 0.97445, top 5 = 0.9791299999999634, top 10 = 0.9750149999999976, kendal = 0.9027952627423592\n"
     ]
    },
    {
     "name": "stderr",
     "output_type": "stream",
     "text": [
      "100%|██████████| 4/4 [00:01<00:00,  2.06it/s]\n",
      "  0%|          | 0/313 [00:00<?, ?it/s]"
     ]
    },
    {
     "name": "stdout",
     "output_type": "stream",
     "text": [
      "Valid: loss = 0.6930660852958651, top 1 = 0.955, top 5 = 0.9800000000000001, top 10 = 0.9715000000000009, kendal = 0.9000870666320785\n",
      "\n",
      "Epoch: 372\n"
     ]
    },
    {
     "name": "stderr",
     "output_type": "stream",
     "text": [
      "100%|██████████| 313/313 [03:03<00:00,  1.70it/s]\n",
      "100%|██████████| 313/313 [03:07<00:00,  1.67it/s]\n",
      "  0%|          | 0/4 [00:00<?, ?it/s]"
     ]
    },
    {
     "name": "stdout",
     "output_type": "stream",
     "text": [
      "Train: loss = 0.693062158662679, top 1 = 0.975, top 5 = 0.979039999999963, top 10 = 0.9748549999999976, kendal = 0.9025885367972826\n"
     ]
    },
    {
     "name": "stderr",
     "output_type": "stream",
     "text": [
      "100%|██████████| 4/4 [00:02<00:00,  1.66it/s]\n",
      "  0%|          | 0/313 [00:00<?, ?it/s]"
     ]
    },
    {
     "name": "stdout",
     "output_type": "stream",
     "text": [
      "Valid: loss = 0.6930668003992215, top 1 = 0.955, top 5 = 0.9810000000000002, top 10 = 0.9725000000000008, kendal = 0.9000257602256796\n",
      "\n",
      "Epoch: 373\n"
     ]
    },
    {
     "name": "stderr",
     "output_type": "stream",
     "text": [
      "100%|██████████| 313/313 [04:12<00:00,  1.24it/s]\n",
      "100%|██████████| 313/313 [03:21<00:00,  1.56it/s]\n",
      "  0%|          | 0/4 [00:00<?, ?it/s]"
     ]
    },
    {
     "name": "stdout",
     "output_type": "stream",
     "text": [
      "Train: loss = 0.6930625773429798, top 1 = 0.97495, top 5 = 0.9788899999999628, top 10 = 0.9748949999999973, kendal = 0.9028948830956397\n"
     ]
    },
    {
     "name": "stderr",
     "output_type": "stream",
     "text": [
      "100%|██████████| 4/4 [00:01<00:00,  2.17it/s]\n",
      "  0%|          | 0/313 [00:00<?, ?it/s]"
     ]
    },
    {
     "name": "stdout",
     "output_type": "stream",
     "text": [
      "Valid: loss = 0.6930656508991581, top 1 = 0.955, top 5 = 0.9810000000000002, top 10 = 0.9730000000000009, kendal = 0.9002528963838753\n",
      "\n",
      "Epoch: 374\n"
     ]
    },
    {
     "name": "stderr",
     "output_type": "stream",
     "text": [
      "100%|██████████| 313/313 [03:24<00:00,  1.53it/s]\n",
      "100%|██████████| 313/313 [03:01<00:00,  1.73it/s]\n",
      "  0%|          | 0/4 [00:00<?, ?it/s]"
     ]
    },
    {
     "name": "stdout",
     "output_type": "stream",
     "text": [
      "Train: loss = 0.6930624794942639, top 1 = 0.9746, top 5 = 0.9789299999999628, top 10 = 0.9749899999999969, kendal = 0.9030916021673487\n"
     ]
    },
    {
     "name": "stderr",
     "output_type": "stream",
     "text": [
      "100%|██████████| 4/4 [00:02<00:00,  1.67it/s]\n",
      "  0%|          | 0/313 [00:00<?, ?it/s]"
     ]
    },
    {
     "name": "stdout",
     "output_type": "stream",
     "text": [
      "Valid: loss = 0.6930654563512099, top 1 = 0.96, top 5 = 0.9810000000000002, top 10 = 0.9705000000000008, kendal = 0.9005131969318052\n",
      "\n",
      "Epoch: 375\n"
     ]
    },
    {
     "name": "stderr",
     "output_type": "stream",
     "text": [
      "100%|██████████| 313/313 [04:41<00:00,  1.11it/s]\n",
      "100%|██████████| 313/313 [02:35<00:00,  2.01it/s]\n",
      "  0%|          | 0/4 [00:00<?, ?it/s]"
     ]
    },
    {
     "name": "stdout",
     "output_type": "stream",
     "text": [
      "Train: loss = 0.6930622544303789, top 1 = 0.97475, top 5 = 0.9791499999999634, top 10 = 0.9749349999999979, kendal = 0.9024684161897176\n"
     ]
    },
    {
     "name": "stderr",
     "output_type": "stream",
     "text": [
      "100%|██████████| 4/4 [00:01<00:00,  2.89it/s]\n",
      "  0%|          | 0/313 [00:00<?, ?it/s]"
     ]
    },
    {
     "name": "stdout",
     "output_type": "stream",
     "text": [
      "Valid: loss = 0.6930651740535662, top 1 = 0.955, top 5 = 0.9790000000000002, top 10 = 0.9735000000000008, kendal = 0.8998458605766753\n",
      "\n",
      "Epoch: 376\n"
     ]
    },
    {
     "name": "stderr",
     "output_type": "stream",
     "text": [
      "100%|██████████| 313/313 [03:34<00:00,  1.46it/s]\n",
      "100%|██████████| 313/313 [03:42<00:00,  1.41it/s]\n",
      "  0%|          | 0/4 [00:00<?, ?it/s]"
     ]
    },
    {
     "name": "stdout",
     "output_type": "stream",
     "text": [
      "Train: loss = 0.6930621592914922, top 1 = 0.9745, top 5 = 0.9791399999999633, top 10 = 0.9748549999999974, kendal = 0.903181544126415\n"
     ]
    },
    {
     "name": "stderr",
     "output_type": "stream",
     "text": [
      "100%|██████████| 4/4 [00:02<00:00,  1.88it/s]\n",
      "  0%|          | 0/313 [00:00<?, ?it/s]"
     ]
    },
    {
     "name": "stdout",
     "output_type": "stream",
     "text": [
      "Valid: loss = 0.6930669399189093, top 1 = 0.96, top 5 = 0.9820000000000002, top 10 = 0.9715000000000009, kendal = 0.9004468657028124\n",
      "\n",
      "Epoch: 377\n"
     ]
    },
    {
     "name": "stderr",
     "output_type": "stream",
     "text": [
      "100%|██████████| 313/313 [03:41<00:00,  1.41it/s]\n",
      "100%|██████████| 313/313 [02:52<00:00,  1.81it/s]\n",
      "  0%|          | 0/4 [00:00<?, ?it/s]"
     ]
    },
    {
     "name": "stdout",
     "output_type": "stream",
     "text": [
      "Train: loss = 0.6930622406862669, top 1 = 0.9743, top 5 = 0.9791799999999635, top 10 = 0.974914999999998, kendal = 0.9027305938501832\n"
     ]
    },
    {
     "name": "stderr",
     "output_type": "stream",
     "text": [
      "100%|██████████| 4/4 [00:01<00:00,  2.02it/s]\n",
      "  0%|          | 0/313 [00:00<?, ?it/s]"
     ]
    },
    {
     "name": "stdout",
     "output_type": "stream",
     "text": [
      "Valid: loss = 0.693067588810308, top 1 = 0.95, top 5 = 0.9810000000000002, top 10 = 0.971000000000001, kendal = 0.9000046535869164\n",
      "\n",
      "Epoch: 378\n"
     ]
    },
    {
     "name": "stderr",
     "output_type": "stream",
     "text": [
      "100%|██████████| 313/313 [04:02<00:00,  1.29it/s]\n",
      "100%|██████████| 313/313 [03:30<00:00,  1.49it/s]\n",
      "  0%|          | 0/4 [00:00<?, ?it/s]"
     ]
    },
    {
     "name": "stdout",
     "output_type": "stream",
     "text": [
      "Train: loss = 0.6930623651034387, top 1 = 0.97445, top 5 = 0.9791199999999631, top 10 = 0.9748649999999978, kendal = 0.9025166094492543\n"
     ]
    },
    {
     "name": "stderr",
     "output_type": "stream",
     "text": [
      "100%|██████████| 4/4 [00:02<00:00,  1.71it/s]\n",
      "  0%|          | 0/313 [00:00<?, ?it/s]"
     ]
    },
    {
     "name": "stdout",
     "output_type": "stream",
     "text": [
      "Valid: loss = 0.6930668537758394, top 1 = 0.955, top 5 = 0.9800000000000003, top 10 = 0.9735000000000008, kendal = 0.8998740007498833\n",
      "\n",
      "Epoch: 379\n"
     ]
    },
    {
     "name": "stderr",
     "output_type": "stream",
     "text": [
      "100%|██████████| 313/313 [03:30<00:00,  1.49it/s]\n",
      "100%|██████████| 313/313 [02:00<00:00,  2.60it/s]\n",
      "  0%|          | 0/4 [00:00<?, ?it/s]"
     ]
    },
    {
     "name": "stdout",
     "output_type": "stream",
     "text": [
      "Train: loss = 0.6930626515318349, top 1 = 0.9745, top 5 = 0.9790999999999632, top 10 = 0.9749199999999968, kendal = 0.9032373509587976\n"
     ]
    },
    {
     "name": "stderr",
     "output_type": "stream",
     "text": [
      "100%|██████████| 4/4 [00:02<00:00,  1.88it/s]\n",
      "  0%|          | 0/313 [00:00<?, ?it/s]"
     ]
    },
    {
     "name": "stdout",
     "output_type": "stream",
     "text": [
      "Valid: loss = 0.693066054280399, top 1 = 0.955, top 5 = 0.9790000000000003, top 10 = 0.9705000000000008, kendal = 0.9004257595438525\n",
      "\n",
      "Epoch: 380\n"
     ]
    },
    {
     "name": "stderr",
     "output_type": "stream",
     "text": [
      "100%|██████████| 313/313 [04:39<00:00,  1.12it/s]\n",
      "100%|██████████| 313/313 [03:20<00:00,  1.56it/s]\n",
      "  0%|          | 0/4 [00:00<?, ?it/s]"
     ]
    },
    {
     "name": "stdout",
     "output_type": "stream",
     "text": [
      "Train: loss = 0.6930622487018641, top 1 = 0.97435, top 5 = 0.9790899999999633, top 10 = 0.9749699999999982, kendal = 0.9013905870101562\n"
     ]
    },
    {
     "name": "stderr",
     "output_type": "stream",
     "text": [
      "100%|██████████| 4/4 [00:01<00:00,  2.59it/s]\n",
      "  0%|          | 0/313 [00:00<?, ?it/s]"
     ]
    },
    {
     "name": "stdout",
     "output_type": "stream",
     "text": [
      "Valid: loss = 0.6930653040249954, top 1 = 0.96, top 5 = 0.9800000000000003, top 10 = 0.9725000000000008, kendal = 0.8987343022321678\n",
      "\n",
      "Epoch: 381\n"
     ]
    },
    {
     "name": "stderr",
     "output_type": "stream",
     "text": [
      "100%|██████████| 313/313 [03:15<00:00,  1.60it/s]\n",
      "100%|██████████| 313/313 [03:19<00:00,  1.57it/s]\n",
      "  0%|          | 0/4 [00:00<?, ?it/s]"
     ]
    },
    {
     "name": "stdout",
     "output_type": "stream",
     "text": [
      "Train: loss = 0.6930621969092338, top 1 = 0.97455, top 5 = 0.9789699999999631, top 10 = 0.9748999999999971, kendal = 0.9026224710171602\n"
     ]
    },
    {
     "name": "stderr",
     "output_type": "stream",
     "text": [
      "100%|██████████| 4/4 [00:02<00:00,  1.98it/s]\n",
      "  0%|          | 0/313 [00:00<?, ?it/s]"
     ]
    },
    {
     "name": "stdout",
     "output_type": "stream",
     "text": [
      "Valid: loss = 0.6930653646092759, top 1 = 0.955, top 5 = 0.9800000000000003, top 10 = 0.9720000000000009, kendal = 0.9001152061992184\n",
      "\n",
      "Epoch: 382\n"
     ]
    },
    {
     "name": "stderr",
     "output_type": "stream",
     "text": [
      "100%|██████████| 313/313 [04:06<00:00,  1.27it/s]\n",
      "100%|██████████| 313/313 [03:10<00:00,  1.64it/s]\n",
      "  0%|          | 0/4 [00:00<?, ?it/s]"
     ]
    },
    {
     "name": "stdout",
     "output_type": "stream",
     "text": [
      "Train: loss = 0.6930623463201641, top 1 = 0.9749, top 5 = 0.9789999999999629, top 10 = 0.9749649999999971, kendal = 0.9023655743163059\n"
     ]
    },
    {
     "name": "stderr",
     "output_type": "stream",
     "text": [
      "100%|██████████| 4/4 [00:01<00:00,  2.41it/s]\n",
      "  0%|          | 0/313 [00:00<?, ?it/s]"
     ]
    },
    {
     "name": "stdout",
     "output_type": "stream",
     "text": [
      "Valid: loss = 0.6930654160850409, top 1 = 0.955, top 5 = 0.9810000000000002, top 10 = 0.9720000000000009, kendal = 0.8994599298173087\n",
      "\n",
      "Epoch: 383\n"
     ]
    },
    {
     "name": "stderr",
     "output_type": "stream",
     "text": [
      "100%|██████████| 313/313 [03:22<00:00,  1.55it/s]\n",
      "100%|██████████| 313/313 [03:28<00:00,  1.50it/s]\n",
      "  0%|          | 0/4 [00:00<?, ?it/s]"
     ]
    },
    {
     "name": "stdout",
     "output_type": "stream",
     "text": [
      "Train: loss = 0.6930624401096426, top 1 = 0.9743, top 5 = 0.9790499999999631, top 10 = 0.9749249999999975, kendal = 0.9029967122431377\n"
     ]
    },
    {
     "name": "stderr",
     "output_type": "stream",
     "text": [
      "100%|██████████| 4/4 [00:02<00:00,  1.84it/s]\n",
      "  0%|          | 0/313 [00:00<?, ?it/s]"
     ]
    },
    {
     "name": "stdout",
     "output_type": "stream",
     "text": [
      "Valid: loss = 0.6930653599057376, top 1 = 0.96, top 5 = 0.9810000000000002, top 10 = 0.9730000000000009, kendal = 0.9003523922803836\n",
      "\n",
      "Epoch: 384\n"
     ]
    },
    {
     "name": "stderr",
     "output_type": "stream",
     "text": [
      "100%|██████████| 313/313 [04:21<00:00,  1.20it/s]\n",
      "100%|██████████| 313/313 [02:09<00:00,  2.42it/s]\n",
      "  0%|          | 0/4 [00:00<?, ?it/s]"
     ]
    },
    {
     "name": "stdout",
     "output_type": "stream",
     "text": [
      "Train: loss = 0.6930627481833017, top 1 = 0.9743, top 5 = 0.9793099999999635, top 10 = 0.9749499999999977, kendal = 0.9034051746150571\n"
     ]
    },
    {
     "name": "stderr",
     "output_type": "stream",
     "text": [
      "100%|██████████| 4/4 [00:01<00:00,  3.25it/s]\n",
      "  0%|          | 0/313 [00:00<?, ?it/s]"
     ]
    },
    {
     "name": "stdout",
     "output_type": "stream",
     "text": [
      "Valid: loss = 0.6930645603119528, top 1 = 0.96, top 5 = 0.9830000000000001, top 10 = 0.9720000000000009, kendal = 0.9006508841618799\n",
      "\n",
      "Epoch: 385\n"
     ]
    },
    {
     "name": "stderr",
     "output_type": "stream",
     "text": [
      "100%|██████████| 313/313 [04:17<00:00,  1.21it/s]\n",
      "100%|██████████| 313/313 [03:23<00:00,  1.54it/s]\n",
      "  0%|          | 0/4 [00:00<?, ?it/s]"
     ]
    },
    {
     "name": "stdout",
     "output_type": "stream",
     "text": [
      "Train: loss = 0.6930624793945717, top 1 = 0.97475, top 5 = 0.9791299999999634, top 10 = 0.9749499999999982, kendal = 0.9030922074712742\n"
     ]
    },
    {
     "name": "stderr",
     "output_type": "stream",
     "text": [
      "100%|██████████| 4/4 [00:01<00:00,  2.15it/s]\n",
      "  0%|          | 0/313 [00:00<?, ?it/s]"
     ]
    },
    {
     "name": "stdout",
     "output_type": "stream",
     "text": [
      "Valid: loss = 0.6930670629033144, top 1 = 0.955, top 5 = 0.9810000000000002, top 10 = 0.9735000000000008, kendal = 0.9003574182898614\n",
      "\n",
      "Epoch: 386\n"
     ]
    },
    {
     "name": "stderr",
     "output_type": "stream",
     "text": [
      "100%|██████████| 313/313 [03:38<00:00,  1.43it/s]\n",
      "100%|██████████| 313/313 [02:59<00:00,  1.75it/s]\n",
      "  0%|          | 0/4 [00:00<?, ?it/s]"
     ]
    },
    {
     "name": "stdout",
     "output_type": "stream",
     "text": [
      "Train: loss = 0.6930622781620943, top 1 = 0.9745, top 5 = 0.9791299999999632, top 10 = 0.974919999999997, kendal = 0.9034801527418165\n"
     ]
    },
    {
     "name": "stderr",
     "output_type": "stream",
     "text": [
      "100%|██████████| 4/4 [00:01<00:00,  2.04it/s]\n",
      "  0%|          | 0/313 [00:00<?, ?it/s]"
     ]
    },
    {
     "name": "stdout",
     "output_type": "stream",
     "text": [
      "Valid: loss = 0.6930663716081297, top 1 = 0.955, top 5 = 0.9810000000000002, top 10 = 0.9705000000000008, kendal = 0.9005664626826477\n",
      "\n",
      "Epoch: 387\n"
     ]
    },
    {
     "name": "stderr",
     "output_type": "stream",
     "text": [
      "100%|██████████| 313/313 [04:04<00:00,  1.28it/s]\n",
      "100%|██████████| 313/313 [03:35<00:00,  1.45it/s]\n",
      "  0%|          | 0/4 [00:00<?, ?it/s]"
     ]
    },
    {
     "name": "stdout",
     "output_type": "stream",
     "text": [
      "Train: loss = 0.6930620214991047, top 1 = 0.97455, top 5 = 0.9790999999999632, top 10 = 0.9749749999999973, kendal = 0.9019788785060757\n"
     ]
    },
    {
     "name": "stderr",
     "output_type": "stream",
     "text": [
      "100%|██████████| 4/4 [00:01<00:00,  2.42it/s]\n",
      "  0%|          | 0/313 [00:00<?, ?it/s]"
     ]
    },
    {
     "name": "stdout",
     "output_type": "stream",
     "text": [
      "Valid: loss = 0.6930649709307498, top 1 = 0.96, top 5 = 0.9810000000000002, top 10 = 0.9735000000000008, kendal = 0.8992177191660785\n",
      "\n",
      "Epoch: 388\n"
     ]
    },
    {
     "name": "stderr",
     "output_type": "stream",
     "text": [
      "100%|██████████| 313/313 [03:04<00:00,  1.69it/s]\n",
      "100%|██████████| 313/313 [03:18<00:00,  1.58it/s]\n",
      "  0%|          | 0/4 [00:00<?, ?it/s]"
     ]
    },
    {
     "name": "stdout",
     "output_type": "stream",
     "text": [
      "Train: loss = 0.6930624409610472, top 1 = 0.97455, top 5 = 0.9790699999999631, top 10 = 0.975034999999997, kendal = 0.9014393786701952\n"
     ]
    },
    {
     "name": "stderr",
     "output_type": "stream",
     "text": [
      "100%|██████████| 4/4 [00:02<00:00,  1.81it/s]\n",
      "  0%|          | 0/313 [00:00<?, ?it/s]"
     ]
    },
    {
     "name": "stdout",
     "output_type": "stream",
     "text": [
      "Valid: loss = 0.6930669633090946, top 1 = 0.95, top 5 = 0.9820000000000002, top 10 = 0.971000000000001, kendal = 0.8983674683643482\n",
      "\n",
      "Epoch: 389\n"
     ]
    },
    {
     "name": "stderr",
     "output_type": "stream",
     "text": [
      "100%|██████████| 313/313 [04:31<00:00,  1.15it/s]\n",
      "100%|██████████| 313/313 [02:25<00:00,  2.16it/s]\n",
      "  0%|          | 0/4 [00:00<?, ?it/s]"
     ]
    },
    {
     "name": "stdout",
     "output_type": "stream",
     "text": [
      "Train: loss = 0.6930623692342375, top 1 = 0.9744, top 5 = 0.9791799999999632, top 10 = 0.9750649999999977, kendal = 0.9030172001775061\n"
     ]
    },
    {
     "name": "stderr",
     "output_type": "stream",
     "text": [
      "100%|██████████| 4/4 [00:01<00:00,  2.20it/s]\n",
      "  0%|          | 0/313 [00:00<?, ?it/s]"
     ]
    },
    {
     "name": "stdout",
     "output_type": "stream",
     "text": [
      "Valid: loss = 0.6930672442625262, top 1 = 0.955, top 5 = 0.9800000000000003, top 10 = 0.9715000000000009, kendal = 0.9001825429331413\n",
      "\n",
      "Epoch: 390\n"
     ]
    },
    {
     "name": "stderr",
     "output_type": "stream",
     "text": [
      "100%|██████████| 313/313 [03:49<00:00,  1.36it/s]\n",
      "100%|██████████| 313/313 [03:24<00:00,  1.53it/s]\n",
      "  0%|          | 0/4 [00:00<?, ?it/s]"
     ]
    },
    {
     "name": "stdout",
     "output_type": "stream",
     "text": [
      "Train: loss = 0.6930623773407594, top 1 = 0.97475, top 5 = 0.9792199999999633, top 10 = 0.9750349999999977, kendal = 0.903419154502176\n"
     ]
    },
    {
     "name": "stderr",
     "output_type": "stream",
     "text": [
      "100%|██████████| 4/4 [00:01<00:00,  2.03it/s]\n",
      "  0%|          | 0/313 [00:00<?, ?it/s]"
     ]
    },
    {
     "name": "stdout",
     "output_type": "stream",
     "text": [
      "Valid: loss = 0.6930673866347967, top 1 = 0.95, top 5 = 0.9800000000000003, top 10 = 0.9715000000000009, kendal = 0.9007614384156164\n",
      "\n",
      "Epoch: 391\n"
     ]
    },
    {
     "name": "stderr",
     "output_type": "stream",
     "text": [
      "100%|██████████| 313/313 [04:02<00:00,  1.29it/s]\n",
      "100%|██████████| 313/313 [02:47<00:00,  1.87it/s]\n",
      "  0%|          | 0/4 [00:00<?, ?it/s]"
     ]
    },
    {
     "name": "stdout",
     "output_type": "stream",
     "text": [
      "Train: loss = 0.6930625289664009, top 1 = 0.97455, top 5 = 0.979319999999963, top 10 = 0.9750649999999982, kendal = 0.9016557450443141\n"
     ]
    },
    {
     "name": "stderr",
     "output_type": "stream",
     "text": [
      "100%|██████████| 4/4 [00:01<00:00,  3.16it/s]\n",
      "  0%|          | 0/313 [00:00<?, ?it/s]"
     ]
    },
    {
     "name": "stdout",
     "output_type": "stream",
     "text": [
      "Valid: loss = 0.693065711154029, top 1 = 0.96, top 5 = 0.9800000000000003, top 10 = 0.9720000000000009, kendal = 0.8990247539379119\n",
      "\n",
      "Epoch: 392\n"
     ]
    },
    {
     "name": "stderr",
     "output_type": "stream",
     "text": [
      "100%|██████████| 313/313 [03:40<00:00,  1.42it/s]\n",
      "100%|██████████| 313/313 [03:47<00:00,  1.37it/s]\n",
      "  0%|          | 0/4 [00:00<?, ?it/s]"
     ]
    },
    {
     "name": "stdout",
     "output_type": "stream",
     "text": [
      "Train: loss = 0.6930621556075378, top 1 = 0.97465, top 5 = 0.979119999999963, top 10 = 0.9750049999999976, kendal = 0.9027242285436565\n"
     ]
    },
    {
     "name": "stderr",
     "output_type": "stream",
     "text": [
      "100%|██████████| 4/4 [00:02<00:00,  1.69it/s]\n",
      "  0%|          | 0/313 [00:00<?, ?it/s]"
     ]
    },
    {
     "name": "stdout",
     "output_type": "stream",
     "text": [
      "Valid: loss = 0.693066252603562, top 1 = 0.96, top 5 = 0.9790000000000003, top 10 = 0.9705000000000009, kendal = 0.8998961107723373\n",
      "\n",
      "Epoch: 393\n"
     ]
    },
    {
     "name": "stderr",
     "output_type": "stream",
     "text": [
      "100%|██████████| 313/313 [03:16<00:00,  1.59it/s]\n",
      "100%|██████████| 313/313 [02:52<00:00,  1.82it/s]\n",
      "  0%|          | 0/4 [00:00<?, ?it/s]"
     ]
    },
    {
     "name": "stdout",
     "output_type": "stream",
     "text": [
      "Train: loss = 0.6930620821899351, top 1 = 0.97495, top 5 = 0.9792399999999636, top 10 = 0.9749099999999977, kendal = 0.9024342252915165\n"
     ]
    },
    {
     "name": "stderr",
     "output_type": "stream",
     "text": [
      "100%|██████████| 4/4 [00:02<00:00,  1.82it/s]\n",
      "  0%|          | 0/313 [00:00<?, ?it/s]"
     ]
    },
    {
     "name": "stdout",
     "output_type": "stream",
     "text": [
      "Valid: loss = 0.6930666572447077, top 1 = 0.955, top 5 = 0.9810000000000002, top 10 = 0.9730000000000009, kendal = 0.8997302820054012\n",
      "\n",
      "Epoch: 394\n"
     ]
    },
    {
     "name": "stderr",
     "output_type": "stream",
     "text": [
      "100%|██████████| 313/313 [04:23<00:00,  1.19it/s]\n",
      "100%|██████████| 313/313 [02:59<00:00,  1.74it/s]\n",
      "  0%|          | 0/4 [00:00<?, ?it/s]"
     ]
    },
    {
     "name": "stdout",
     "output_type": "stream",
     "text": [
      "Train: loss = 0.693062218944893, top 1 = 0.97455, top 5 = 0.9791699999999633, top 10 = 0.9750199999999977, kendal = 0.9026754445705224\n"
     ]
    },
    {
     "name": "stderr",
     "output_type": "stream",
     "text": [
      "100%|██████████| 4/4 [00:01<00:00,  3.37it/s]\n",
      "  0%|          | 0/313 [00:00<?, ?it/s]"
     ]
    },
    {
     "name": "stdout",
     "output_type": "stream",
     "text": [
      "Valid: loss = 0.6930655026985626, top 1 = 0.955, top 5 = 0.9810000000000002, top 10 = 0.9720000000000009, kendal = 0.8999212357439044\n",
      "\n",
      "Epoch: 395\n"
     ]
    },
    {
     "name": "stderr",
     "output_type": "stream",
     "text": [
      "100%|██████████| 313/313 [03:19<00:00,  1.57it/s]\n",
      "100%|██████████| 313/313 [03:10<00:00,  1.64it/s]\n",
      "  0%|          | 0/4 [00:00<?, ?it/s]"
     ]
    },
    {
     "name": "stdout",
     "output_type": "stream",
     "text": [
      "Train: loss = 0.6930624299192061, top 1 = 0.97455, top 5 = 0.9792799999999635, top 10 = 0.9749799999999977, kendal = 0.9031535597711867\n"
     ]
    },
    {
     "name": "stderr",
     "output_type": "stream",
     "text": [
      "100%|██████████| 4/4 [00:01<00:00,  2.11it/s]\n",
      "  0%|          | 0/313 [00:00<?, ?it/s]"
     ]
    },
    {
     "name": "stdout",
     "output_type": "stream",
     "text": [
      "Valid: loss = 0.6930653917000308, top 1 = 0.96, top 5 = 0.9820000000000002, top 10 = 0.9725000000000008, kendal = 0.9004096788135556\n",
      "\n",
      "Epoch: 396\n"
     ]
    },
    {
     "name": "stderr",
     "output_type": "stream",
     "text": [
      "100%|██████████| 313/313 [04:15<00:00,  1.23it/s]\n",
      "100%|██████████| 313/313 [03:15<00:00,  1.60it/s]\n",
      "  0%|          | 0/4 [00:00<?, ?it/s]"
     ]
    },
    {
     "name": "stdout",
     "output_type": "stream",
     "text": [
      "Train: loss = 0.6930623301611114, top 1 = 0.9745, top 5 = 0.9792199999999631, top 10 = 0.9749849999999982, kendal = 0.9033504766404751\n"
     ]
    },
    {
     "name": "stderr",
     "output_type": "stream",
     "text": [
      "100%|██████████| 4/4 [00:01<00:00,  3.08it/s]\n",
      "  0%|          | 0/313 [00:00<?, ?it/s]"
     ]
    },
    {
     "name": "stdout",
     "output_type": "stream",
     "text": [
      "Valid: loss = 0.6930651454774908, top 1 = 0.95, top 5 = 0.9810000000000002, top 10 = 0.9725000000000008, kendal = 0.9005091757201772\n",
      "\n",
      "Epoch: 397\n"
     ]
    },
    {
     "name": "stderr",
     "output_type": "stream",
     "text": [
      "100%|██████████| 313/313 [02:43<00:00,  1.91it/s]\n",
      "100%|██████████| 313/313 [03:51<00:00,  1.35it/s]\n",
      "  0%|          | 0/4 [00:00<?, ?it/s]"
     ]
    },
    {
     "name": "stdout",
     "output_type": "stream",
     "text": [
      "Train: loss = 0.6930623466035477, top 1 = 0.97485, top 5 = 0.9791799999999632, top 10 = 0.9750899999999976, kendal = 0.9034549132857952\n"
     ]
    },
    {
     "name": "stderr",
     "output_type": "stream",
     "text": [
      "100%|██████████| 4/4 [00:02<00:00,  1.83it/s]\n",
      "  0%|          | 0/313 [00:00<?, ?it/s]"
     ]
    },
    {
     "name": "stdout",
     "output_type": "stream",
     "text": [
      "Valid: loss = 0.693067027693741, top 1 = 0.95, top 5 = 0.9820000000000002, top 10 = 0.9710000000000008, kendal = 0.9004941003180407\n",
      "\n",
      "Epoch: 398\n"
     ]
    },
    {
     "name": "stderr",
     "output_type": "stream",
     "text": [
      "100%|██████████| 313/313 [04:04<00:00,  1.28it/s]\n",
      "100%|██████████| 313/313 [02:41<00:00,  1.94it/s]\n",
      "  0%|          | 0/4 [00:00<?, ?it/s]"
     ]
    },
    {
     "name": "stdout",
     "output_type": "stream",
     "text": [
      "Train: loss = 0.6930622278428434, top 1 = 0.97445, top 5 = 0.9793799999999634, top 10 = 0.9750949999999979, kendal = 0.9032779316246777\n"
     ]
    },
    {
     "name": "stderr",
     "output_type": "stream",
     "text": [
      "100%|██████████| 4/4 [00:01<00:00,  2.23it/s]\n",
      "  0%|          | 0/313 [00:00<?, ?it/s]"
     ]
    },
    {
     "name": "stdout",
     "output_type": "stream",
     "text": [
      "Valid: loss = 0.6930648007459571, top 1 = 0.95, top 5 = 0.9790000000000002, top 10 = 0.9725000000000007, kendal = 0.9005393263981881\n",
      "\n",
      "Epoch: 399\n"
     ]
    },
    {
     "name": "stderr",
     "output_type": "stream",
     "text": [
      "100%|██████████| 313/313 [03:58<00:00,  1.31it/s]\n",
      "100%|██████████| 313/313 [03:18<00:00,  1.58it/s]\n",
      "  0%|          | 0/4 [00:00<?, ?it/s]"
     ]
    },
    {
     "name": "stdout",
     "output_type": "stream",
     "text": [
      "Train: loss = 0.6930624290967293, top 1 = 0.9749, top 5 = 0.9791499999999629, top 10 = 0.9750449999999979, kendal = 0.9033252549812066\n"
     ]
    },
    {
     "name": "stderr",
     "output_type": "stream",
     "text": [
      "100%|██████████| 4/4 [00:01<00:00,  2.04it/s]\n",
      "  0%|          | 0/313 [00:00<?, ?it/s]"
     ]
    },
    {
     "name": "stdout",
     "output_type": "stream",
     "text": [
      "Valid: loss = 0.6930666914360759, top 1 = 0.95, top 5 = 0.9820000000000002, top 10 = 0.9725000000000008, kendal = 0.9003986232341405\n",
      "\n",
      "Epoch: 400\n"
     ]
    },
    {
     "name": "stderr",
     "output_type": "stream",
     "text": [
      "100%|██████████| 313/313 [03:41<00:00,  1.42it/s]\n",
      "100%|██████████| 313/313 [02:41<00:00,  1.94it/s]\n",
      "  0%|          | 0/4 [00:00<?, ?it/s]"
     ]
    },
    {
     "name": "stdout",
     "output_type": "stream",
     "text": [
      "Train: loss = 0.6930620537110589, top 1 = 0.9744, top 5 = 0.979289999999963, top 10 = 0.9750249999999984, kendal = 0.902623421229752\n"
     ]
    },
    {
     "name": "stderr",
     "output_type": "stream",
     "text": [
      "100%|██████████| 4/4 [00:01<00:00,  3.35it/s]\n",
      "  0%|          | 0/313 [00:00<?, ?it/s]"
     ]
    },
    {
     "name": "stdout",
     "output_type": "stream",
     "text": [
      "Valid: loss = 0.6930668704776001, top 1 = 0.95, top 5 = 0.9800000000000003, top 10 = 0.9715000000000009, kendal = 0.8999383208932586\n",
      "\n",
      "Epoch: 401\n"
     ]
    },
    {
     "name": "stderr",
     "output_type": "stream",
     "text": [
      "100%|██████████| 313/313 [04:06<00:00,  1.27it/s]\n",
      "100%|██████████| 313/313 [03:53<00:00,  1.34it/s]\n",
      "  0%|          | 0/4 [00:00<?, ?it/s]"
     ]
    },
    {
     "name": "stdout",
     "output_type": "stream",
     "text": [
      "Train: loss = 0.6930622072970221, top 1 = 0.97455, top 5 = 0.9792699999999631, top 10 = 0.9750099999999986, kendal = 0.9029257272940182\n"
     ]
    },
    {
     "name": "stderr",
     "output_type": "stream",
     "text": [
      "100%|██████████| 4/4 [00:01<00:00,  2.03it/s]\n",
      "  0%|          | 0/313 [00:00<?, ?it/s]"
     ]
    },
    {
     "name": "stdout",
     "output_type": "stream",
     "text": [
      "Valid: loss = 0.6930670026149605, top 1 = 0.955, top 5 = 0.9800000000000003, top 10 = 0.9720000000000009, kendal = 0.9000719896895183\n",
      "\n",
      "Epoch: 402\n"
     ]
    },
    {
     "name": "stderr",
     "output_type": "stream",
     "text": [
      "100%|██████████| 313/313 [02:07<00:00,  2.46it/s]\n",
      "100%|██████████| 313/313 [02:44<00:00,  1.90it/s]\n",
      "  0%|          | 0/4 [00:00<?, ?it/s]"
     ]
    },
    {
     "name": "stdout",
     "output_type": "stream",
     "text": [
      "Train: loss = 0.693062387747168, top 1 = 0.9748, top 5 = 0.9792899999999632, top 10 = 0.975084999999998, kendal = 0.9025685939105454\n"
     ]
    },
    {
     "name": "stderr",
     "output_type": "stream",
     "text": [
      "100%|██████████| 4/4 [00:01<00:00,  2.07it/s]\n",
      "  0%|          | 0/313 [00:00<?, ?it/s]"
     ]
    },
    {
     "name": "stdout",
     "output_type": "stream",
     "text": [
      "Valid: loss = 0.6930650883294445, top 1 = 0.955, top 5 = 0.9810000000000002, top 10 = 0.9730000000000009, kendal = 0.8996820386781329\n",
      "\n",
      "Epoch: 403\n"
     ]
    },
    {
     "name": "stderr",
     "output_type": "stream",
     "text": [
      "100%|██████████| 313/313 [03:37<00:00,  1.44it/s]\n",
      "100%|██████████| 313/313 [03:35<00:00,  1.45it/s]\n",
      "  0%|          | 0/4 [00:00<?, ?it/s]"
     ]
    },
    {
     "name": "stdout",
     "output_type": "stream",
     "text": [
      "Train: loss = 0.6930624498517002, top 1 = 0.97475, top 5 = 0.979109999999963, top 10 = 0.9750299999999965, kendal = 0.9020416043925614\n"
     ]
    },
    {
     "name": "stderr",
     "output_type": "stream",
     "text": [
      "100%|██████████| 4/4 [00:02<00:00,  1.65it/s]\n",
      "  0%|          | 0/313 [00:00<?, ?it/s]"
     ]
    },
    {
     "name": "stdout",
     "output_type": "stream",
     "text": [
      "Valid: loss = 0.6930657195258627, top 1 = 0.96, top 5 = 0.9810000000000002, top 10 = 0.9715000000000008, kendal = 0.8990780182493429\n",
      "\n",
      "Epoch: 404\n"
     ]
    },
    {
     "name": "stderr",
     "output_type": "stream",
     "text": [
      "100%|██████████| 313/313 [03:45<00:00,  1.39it/s]\n",
      "100%|██████████| 313/313 [02:33<00:00,  2.04it/s]\n",
      "  0%|          | 0/4 [00:00<?, ?it/s]"
     ]
    },
    {
     "name": "stdout",
     "output_type": "stream",
     "text": [
      "Train: loss = 0.6930624277825397, top 1 = 0.9752, top 5 = 0.9792699999999636, top 10 = 0.9751199999999979, kendal = 0.9026101772583978\n"
     ]
    },
    {
     "name": "stderr",
     "output_type": "stream",
     "text": [
      "100%|██████████| 4/4 [00:02<00:00,  1.88it/s]\n",
      "  0%|          | 0/313 [00:00<?, ?it/s]"
     ]
    },
    {
     "name": "stdout",
     "output_type": "stream",
     "text": [
      "Valid: loss = 0.693065156754396, top 1 = 0.955, top 5 = 0.9800000000000003, top 10 = 0.9725000000000008, kendal = 0.8996830448901416\n",
      "\n",
      "Epoch: 405\n"
     ]
    },
    {
     "name": "stderr",
     "output_type": "stream",
     "text": [
      "100%|██████████| 313/313 [04:26<00:00,  1.17it/s]\n",
      "100%|██████████| 313/313 [03:28<00:00,  1.50it/s]\n",
      "  0%|          | 0/4 [00:00<?, ?it/s]"
     ]
    },
    {
     "name": "stdout",
     "output_type": "stream",
     "text": [
      "Train: loss = 0.6930625259980691, top 1 = 0.9749, top 5 = 0.9792599999999633, top 10 = 0.9750849999999976, kendal = 0.9022657775765954\n"
     ]
    },
    {
     "name": "stderr",
     "output_type": "stream",
     "text": [
      "100%|██████████| 4/4 [00:01<00:00,  2.77it/s]\n",
      "  0%|          | 0/313 [00:00<?, ?it/s]"
     ]
    },
    {
     "name": "stdout",
     "output_type": "stream",
     "text": [
      "Valid: loss = 0.6930649919749928, top 1 = 0.955, top 5 = 0.9820000000000002, top 10 = 0.9725000000000008, kendal = 0.8992739996135051\n",
      "\n",
      "Epoch: 406\n"
     ]
    },
    {
     "name": "stderr",
     "output_type": "stream",
     "text": [
      "100%|██████████| 313/313 [02:53<00:00,  1.80it/s]\n",
      "100%|██████████| 313/313 [03:37<00:00,  1.44it/s]\n",
      "  0%|          | 0/4 [00:00<?, ?it/s]"
     ]
    },
    {
     "name": "stdout",
     "output_type": "stream",
     "text": [
      "Train: loss = 0.693062256058835, top 1 = 0.9745, top 5 = 0.9793599999999633, top 10 = 0.975089999999998, kendal = 0.9013495015345335\n"
     ]
    },
    {
     "name": "stderr",
     "output_type": "stream",
     "text": [
      "100%|██████████| 4/4 [00:02<00:00,  1.66it/s]\n",
      "  0%|          | 0/313 [00:00<?, ?it/s]"
     ]
    },
    {
     "name": "stdout",
     "output_type": "stream",
     "text": [
      "Valid: loss = 0.693066454091315, top 1 = 0.955, top 5 = 0.9800000000000003, top 10 = 0.9725000000000008, kendal = 0.8982971152166473\n",
      "\n",
      "Epoch: 407\n"
     ]
    },
    {
     "name": "stderr",
     "output_type": "stream",
     "text": [
      "100%|██████████| 313/313 [03:52<00:00,  1.35it/s]\n",
      "100%|██████████| 313/313 [03:16<00:00,  1.59it/s]\n",
      "  0%|          | 0/4 [00:00<?, ?it/s]"
     ]
    },
    {
     "name": "stdout",
     "output_type": "stream",
     "text": [
      "Train: loss = 0.6930621658476832, top 1 = 0.97465, top 5 = 0.9794599999999637, top 10 = 0.9751349999999973, kendal = 0.9023382979096461\n"
     ]
    },
    {
     "name": "stderr",
     "output_type": "stream",
     "text": [
      "100%|██████████| 4/4 [00:02<00:00,  1.95it/s]\n",
      "  0%|          | 0/313 [00:00<?, ?it/s]"
     ]
    },
    {
     "name": "stdout",
     "output_type": "stream",
     "text": [
      "Valid: loss = 0.6930655749716967, top 1 = 0.955, top 5 = 0.9800000000000003, top 10 = 0.9720000000000009, kendal = 0.8993835483118066\n",
      "\n",
      "Epoch: 408\n"
     ]
    },
    {
     "name": "stderr",
     "output_type": "stream",
     "text": [
      "100%|██████████| 313/313 [03:16<00:00,  1.59it/s]\n",
      "100%|██████████| 313/313 [03:31<00:00,  1.48it/s]\n",
      "  0%|          | 0/4 [00:00<?, ?it/s]"
     ]
    },
    {
     "name": "stdout",
     "output_type": "stream",
     "text": [
      "Train: loss = 0.6930622512344781, top 1 = 0.97485, top 5 = 0.9792899999999632, top 10 = 0.9750649999999976, kendal = 0.9041703181513189\n"
     ]
    },
    {
     "name": "stderr",
     "output_type": "stream",
     "text": [
      "100%|██████████| 4/4 [00:02<00:00,  1.73it/s]\n",
      "  0%|          | 0/313 [00:00<?, ?it/s]"
     ]
    },
    {
     "name": "stdout",
     "output_type": "stream",
     "text": [
      "Valid: loss = 0.6930656683909616, top 1 = 0.955, top 5 = 0.9800000000000003, top 10 = 0.9720000000000009, kendal = 0.9012951056462002\n",
      "\n",
      "Epoch: 409\n"
     ]
    },
    {
     "name": "stderr",
     "output_type": "stream",
     "text": [
      "100%|██████████| 313/313 [04:08<00:00,  1.26it/s]\n",
      "100%|██████████| 313/313 [02:03<00:00,  2.53it/s]\n",
      "  0%|          | 0/4 [00:00<?, ?it/s]"
     ]
    },
    {
     "name": "stdout",
     "output_type": "stream",
     "text": [
      "Train: loss = 0.6930622663866083, top 1 = 0.97495, top 5 = 0.9792799999999632, top 10 = 0.975164999999998, kendal = 0.9038954761594631\n"
     ]
    },
    {
     "name": "stderr",
     "output_type": "stream",
     "text": [
      "100%|██████████| 4/4 [00:01<00:00,  2.87it/s]\n",
      "  0%|          | 0/313 [00:00<?, ?it/s]"
     ]
    },
    {
     "name": "stdout",
     "output_type": "stream",
     "text": [
      "Valid: loss = 0.6930665715617564, top 1 = 0.95, top 5 = 0.9810000000000002, top 10 = 0.9720000000000009, kendal = 0.9009875681850339\n",
      "\n",
      "Epoch: 410\n"
     ]
    },
    {
     "name": "stderr",
     "output_type": "stream",
     "text": [
      "100%|██████████| 313/313 [03:00<00:00,  1.74it/s]\n",
      "100%|██████████| 313/313 [03:32<00:00,  1.47it/s]\n",
      "  0%|          | 0/4 [00:00<?, ?it/s]"
     ]
    },
    {
     "name": "stdout",
     "output_type": "stream",
     "text": [
      "Train: loss = 0.6930624222070069, top 1 = 0.97485, top 5 = 0.979479999999963, top 10 = 0.9751399999999981, kendal = 0.903596137152345\n"
     ]
    },
    {
     "name": "stderr",
     "output_type": "stream",
     "text": [
      "100%|██████████| 4/4 [00:02<00:00,  1.88it/s]\n",
      "  0%|          | 0/313 [00:00<?, ?it/s]"
     ]
    },
    {
     "name": "stdout",
     "output_type": "stream",
     "text": [
      "Valid: loss = 0.6930679882916805, top 1 = 0.95, top 5 = 0.9800000000000003, top 10 = 0.9730000000000009, kendal = 0.9007815385898422\n",
      "\n",
      "Epoch: 411\n"
     ]
    },
    {
     "name": "stderr",
     "output_type": "stream",
     "text": [
      "100%|██████████| 313/313 [04:12<00:00,  1.24it/s]\n",
      "100%|██████████| 313/313 [02:54<00:00,  1.80it/s]\n",
      "  0%|          | 0/4 [00:00<?, ?it/s]"
     ]
    },
    {
     "name": "stdout",
     "output_type": "stream",
     "text": [
      "Train: loss = 0.6930624553368486, top 1 = 0.9748, top 5 = 0.979389999999963, top 10 = 0.9751749999999978, kendal = 0.9016831576333559\n"
     ]
    },
    {
     "name": "stderr",
     "output_type": "stream",
     "text": [
      "100%|██████████| 4/4 [00:01<00:00,  2.73it/s]\n",
      "  0%|          | 0/313 [00:00<?, ?it/s]"
     ]
    },
    {
     "name": "stdout",
     "output_type": "stream",
     "text": [
      "Valid: loss = 0.6930676114757521, top 1 = 0.95, top 5 = 0.9800000000000003, top 10 = 0.9715000000000009, kendal = 0.8987443512712878\n",
      "\n",
      "Epoch: 412\n"
     ]
    },
    {
     "name": "stderr",
     "output_type": "stream",
     "text": [
      "100%|██████████| 313/313 [02:34<00:00,  2.02it/s]\n",
      "100%|██████████| 313/313 [03:40<00:00,  1.42it/s]\n",
      "  0%|          | 0/4 [00:00<?, ?it/s]"
     ]
    },
    {
     "name": "stdout",
     "output_type": "stream",
     "text": [
      "Train: loss = 0.6930622819409182, top 1 = 0.97475, top 5 = 0.9794899999999638, top 10 = 0.9752399999999983, kendal = 0.9013180141753772\n"
     ]
    },
    {
     "name": "stderr",
     "output_type": "stream",
     "text": [
      "100%|██████████| 4/4 [00:02<00:00,  1.67it/s]\n",
      "  0%|          | 0/313 [00:00<?, ?it/s]"
     ]
    },
    {
     "name": "stdout",
     "output_type": "stream",
     "text": [
      "Valid: loss = 0.6930661610298438, top 1 = 0.955, top 5 = 0.9810000000000002, top 10 = 0.9720000000000009, kendal = 0.8982940989796404\n",
      "\n",
      "Epoch: 413\n"
     ]
    },
    {
     "name": "stderr",
     "output_type": "stream",
     "text": [
      "100%|██████████| 313/313 [04:07<00:00,  1.26it/s]\n",
      "100%|██████████| 313/313 [02:25<00:00,  2.15it/s]\n",
      "  0%|          | 0/4 [00:00<?, ?it/s]"
     ]
    },
    {
     "name": "stdout",
     "output_type": "stream",
     "text": [
      "Train: loss = 0.6930622371155263, top 1 = 0.9749, top 5 = 0.979439999999963, top 10 = 0.9751549999999978, kendal = 0.903521891418114\n"
     ]
    },
    {
     "name": "stderr",
     "output_type": "stream",
     "text": [
      "100%|██████████| 4/4 [00:01<00:00,  2.11it/s]\n",
      "  0%|          | 0/313 [00:00<?, ?it/s]"
     ]
    },
    {
     "name": "stdout",
     "output_type": "stream",
     "text": [
      "Valid: loss = 0.6930679199510041, top 1 = 0.955, top 5 = 0.9810000000000002, top 10 = 0.9715000000000008, kendal = 0.9005946019215015\n",
      "\n",
      "Epoch: 414\n"
     ]
    },
    {
     "name": "stderr",
     "output_type": "stream",
     "text": [
      "100%|██████████| 313/313 [04:08<00:00,  1.26it/s]\n",
      "100%|██████████| 313/313 [03:18<00:00,  1.57it/s]\n",
      "  0%|          | 0/4 [00:00<?, ?it/s]"
     ]
    },
    {
     "name": "stdout",
     "output_type": "stream",
     "text": [
      "Train: loss = 0.6930624206333774, top 1 = 0.97475, top 5 = 0.9793199999999631, top 10 = 0.9751499999999971, kendal = 0.903505445945069\n"
     ]
    },
    {
     "name": "stderr",
     "output_type": "stream",
     "text": [
      "100%|██████████| 4/4 [00:02<00:00,  1.88it/s]\n",
      "  0%|          | 0/313 [00:00<?, ?it/s]"
     ]
    },
    {
     "name": "stdout",
     "output_type": "stream",
     "text": [
      "Valid: loss = 0.6930669518412251, top 1 = 0.955, top 5 = 0.9810000000000002, top 10 = 0.9720000000000008, kendal = 0.9004006313146692\n",
      "\n",
      "Epoch: 415\n"
     ]
    },
    {
     "name": "stderr",
     "output_type": "stream",
     "text": [
      "100%|██████████| 313/313 [03:48<00:00,  1.37it/s]\n",
      "100%|██████████| 313/313 [02:41<00:00,  1.94it/s]\n",
      "  0%|          | 0/4 [00:00<?, ?it/s]"
     ]
    },
    {
     "name": "stdout",
     "output_type": "stream",
     "text": [
      "Train: loss = 0.6930624692217613, top 1 = 0.97425, top 5 = 0.9795099999999635, top 10 = 0.9750949999999977, kendal = 0.901608393823603\n"
     ]
    },
    {
     "name": "stderr",
     "output_type": "stream",
     "text": [
      "100%|██████████| 4/4 [00:02<00:00,  1.88it/s]\n",
      "  0%|          | 0/313 [00:00<?, ?it/s]"
     ]
    },
    {
     "name": "stdout",
     "output_type": "stream",
     "text": [
      "Valid: loss = 0.693066879616175, top 1 = 0.955, top 5 = 0.9800000000000003, top 10 = 0.9730000000000009, kendal = 0.8986900795357115\n",
      "\n",
      "Epoch: 416\n"
     ]
    },
    {
     "name": "stderr",
     "output_type": "stream",
     "text": [
      "100%|██████████| 313/313 [04:13<00:00,  1.24it/s]\n",
      "100%|██████████| 313/313 [03:45<00:00,  1.39it/s]\n",
      "  0%|          | 0/4 [00:00<?, ?it/s]"
     ]
    },
    {
     "name": "stdout",
     "output_type": "stream",
     "text": [
      "Train: loss = 0.6930623523897171, top 1 = 0.9746, top 5 = 0.9792999999999633, top 10 = 0.9751899999999972, kendal = 0.9033391678232565\n"
     ]
    },
    {
     "name": "stderr",
     "output_type": "stream",
     "text": [
      "100%|██████████| 4/4 [00:01<00:00,  2.37it/s]\n",
      "  0%|          | 0/313 [00:00<?, ?it/s]"
     ]
    },
    {
     "name": "stdout",
     "output_type": "stream",
     "text": [
      "Valid: loss = 0.6930660511318589, top 1 = 0.96, top 5 = 0.9810000000000002, top 10 = 0.9720000000000008, kendal = 0.9002740001185623\n",
      "\n",
      "Epoch: 417\n"
     ]
    },
    {
     "name": "stderr",
     "output_type": "stream",
     "text": [
      "100%|██████████| 313/313 [02:47<00:00,  1.87it/s]\n",
      "100%|██████████| 313/313 [03:15<00:00,  1.61it/s]\n",
      "  0%|          | 0/4 [00:00<?, ?it/s]"
     ]
    },
    {
     "name": "stdout",
     "output_type": "stream",
     "text": [
      "Train: loss = 0.6930625031908999, top 1 = 0.97485, top 5 = 0.9794399999999638, top 10 = 0.9752799999999977, kendal = 0.9038749312070465\n"
     ]
    },
    {
     "name": "stderr",
     "output_type": "stream",
     "text": [
      "100%|██████████| 4/4 [00:02<00:00,  1.67it/s]\n",
      "  0%|          | 0/313 [00:00<?, ?it/s]"
     ]
    },
    {
     "name": "stdout",
     "output_type": "stream",
     "text": [
      "Valid: loss = 0.6930666158723997, top 1 = 0.955, top 5 = 0.9810000000000002, top 10 = 0.9715000000000009, kendal = 0.9010016381579998\n",
      "\n",
      "Epoch: 418\n"
     ]
    },
    {
     "name": "stderr",
     "output_type": "stream",
     "text": [
      "100%|██████████| 313/313 [04:20<00:00,  1.20it/s]\n",
      "100%|██████████| 313/313 [02:53<00:00,  1.81it/s]\n",
      "  0%|          | 0/4 [00:00<?, ?it/s]"
     ]
    },
    {
     "name": "stdout",
     "output_type": "stream",
     "text": [
      "Train: loss = 0.6930622022957273, top 1 = 0.97445, top 5 = 0.9794799999999637, top 10 = 0.9752899999999978, kendal = 0.9006457025857708\n"
     ]
    },
    {
     "name": "stderr",
     "output_type": "stream",
     "text": [
      "100%|██████████| 4/4 [00:01<00:00,  2.30it/s]\n",
      "  0%|          | 0/313 [00:00<?, ?it/s]"
     ]
    },
    {
     "name": "stdout",
     "output_type": "stream",
     "text": [
      "Valid: loss = 0.693067889565132, top 1 = 0.955, top 5 = 0.9810000000000002, top 10 = 0.9715000000000009, kendal = 0.8976860590816688\n",
      "\n",
      "Epoch: 419\n"
     ]
    },
    {
     "name": "stderr",
     "output_type": "stream",
     "text": [
      "100%|██████████| 313/313 [03:38<00:00,  1.43it/s]\n",
      "100%|██████████| 313/313 [03:13<00:00,  1.62it/s]\n",
      "  0%|          | 0/4 [00:00<?, ?it/s]"
     ]
    },
    {
     "name": "stdout",
     "output_type": "stream",
     "text": [
      "Train: loss = 0.6930623536110109, top 1 = 0.97465, top 5 = 0.9795299999999636, top 10 = 0.9752599999999977, kendal = 0.9018024060783603\n"
     ]
    },
    {
     "name": "stderr",
     "output_type": "stream",
     "text": [
      "100%|██████████| 4/4 [00:02<00:00,  1.96it/s]\n",
      "  0%|          | 0/313 [00:00<?, ?it/s]"
     ]
    },
    {
     "name": "stdout",
     "output_type": "stream",
     "text": [
      "Valid: loss = 0.6930659966210235, top 1 = 0.95, top 5 = 0.9810000000000002, top 10 = 0.9730000000000009, kendal = 0.8987815357867771\n",
      "\n",
      "Epoch: 420\n"
     ]
    },
    {
     "name": "stderr",
     "output_type": "stream",
     "text": [
      "100%|██████████| 313/313 [04:26<00:00,  1.18it/s]\n",
      "100%|██████████| 313/313 [02:29<00:00,  2.09it/s]\n",
      "  0%|          | 0/4 [00:00<?, ?it/s]"
     ]
    },
    {
     "name": "stdout",
     "output_type": "stream",
     "text": [
      "Train: loss = 0.6930623332045267, top 1 = 0.97475, top 5 = 0.9795199999999636, top 10 = 0.9750999999999984, kendal = 0.902984199724521\n"
     ]
    },
    {
     "name": "stderr",
     "output_type": "stream",
     "text": [
      "100%|██████████| 4/4 [00:01<00:00,  2.95it/s]\n",
      "  0%|          | 0/313 [00:00<?, ?it/s]"
     ]
    },
    {
     "name": "stdout",
     "output_type": "stream",
     "text": [
      "Valid: loss = 0.6930649877118313, top 1 = 0.955, top 5 = 0.9800000000000003, top 10 = 0.9730000000000009, kendal = 0.9000177168933228\n",
      "\n",
      "Epoch: 421\n"
     ]
    },
    {
     "name": "stderr",
     "output_type": "stream",
     "text": [
      "100%|██████████| 313/313 [03:44<00:00,  1.39it/s]\n",
      "100%|██████████| 313/313 [03:44<00:00,  1.40it/s]\n",
      "  0%|          | 0/4 [00:00<?, ?it/s]"
     ]
    },
    {
     "name": "stdout",
     "output_type": "stream",
     "text": [
      "Train: loss = 0.6930623157504092, top 1 = 0.9746, top 5 = 0.9795899999999632, top 10 = 0.9751699999999982, kendal = 0.9029509389086022\n"
     ]
    },
    {
     "name": "stderr",
     "output_type": "stream",
     "text": [
      "100%|██████████| 4/4 [00:02<00:00,  1.75it/s]\n",
      "  0%|          | 0/313 [00:00<?, ?it/s]"
     ]
    },
    {
     "name": "stdout",
     "output_type": "stream",
     "text": [
      "Valid: loss = 0.6930657692461666, top 1 = 0.95, top 5 = 0.9810000000000002, top 10 = 0.9725000000000007, kendal = 0.8999413351605443\n",
      "\n",
      "Epoch: 422\n"
     ]
    },
    {
     "name": "stderr",
     "output_type": "stream",
     "text": [
      "100%|██████████| 313/313 [03:23<00:00,  1.54it/s]\n",
      "100%|██████████| 313/313 [02:45<00:00,  1.89it/s]\n",
      "  0%|          | 0/4 [00:00<?, ?it/s]"
     ]
    },
    {
     "name": "stdout",
     "output_type": "stream",
     "text": [
      "Train: loss = 0.6930621132731758, top 1 = 0.97475, top 5 = 0.9793999999999633, top 10 = 0.9749899999999978, kendal = 0.9033874011671221\n"
     ]
    },
    {
     "name": "stderr",
     "output_type": "stream",
     "text": [
      "100%|██████████| 4/4 [00:01<00:00,  2.22it/s]\n",
      "  0%|          | 0/313 [00:00<?, ?it/s]"
     ]
    },
    {
     "name": "stdout",
     "output_type": "stream",
     "text": [
      "Valid: loss = 0.6930669002557026, top 1 = 0.955, top 5 = 0.9800000000000003, top 10 = 0.9705000000000008, kendal = 0.9004910843335615\n",
      "\n",
      "Epoch: 423\n"
     ]
    },
    {
     "name": "stderr",
     "output_type": "stream",
     "text": [
      "100%|██████████| 313/313 [04:17<00:00,  1.21it/s]\n",
      "100%|██████████| 313/313 [03:24<00:00,  1.53it/s]\n",
      "  0%|          | 0/4 [00:00<?, ?it/s]"
     ]
    },
    {
     "name": "stdout",
     "output_type": "stream",
     "text": [
      "Train: loss = 0.6930624111834309, top 1 = 0.97465, top 5 = 0.9794199999999635, top 10 = 0.9751849999999979, kendal = 0.9038442701384011\n"
     ]
    },
    {
     "name": "stderr",
     "output_type": "stream",
     "text": [
      "100%|██████████| 4/4 [00:02<00:00,  1.69it/s]\n",
      "  0%|          | 0/313 [00:00<?, ?it/s]"
     ]
    },
    {
     "name": "stdout",
     "output_type": "stream",
     "text": [
      "Valid: loss = 0.6930652219752593, top 1 = 0.96, top 5 = 0.9790000000000003, top 10 = 0.9710000000000008, kendal = 0.9009996278299672\n",
      "\n",
      "Epoch: 424\n"
     ]
    },
    {
     "name": "stderr",
     "output_type": "stream",
     "text": [
      "100%|██████████| 313/313 [03:16<00:00,  1.59it/s]\n",
      "100%|██████████| 313/313 [01:48<00:00,  2.90it/s]\n",
      "  0%|          | 0/4 [00:00<?, ?it/s]"
     ]
    },
    {
     "name": "stdout",
     "output_type": "stream",
     "text": [
      "Train: loss = 0.6930624359857259, top 1 = 0.9749, top 5 = 0.9794699999999639, top 10 = 0.9752049999999978, kendal = 0.9019510403332445\n"
     ]
    },
    {
     "name": "stderr",
     "output_type": "stream",
     "text": [
      "100%|██████████| 4/4 [00:01<00:00,  3.80it/s]\n",
      "  0%|          | 0/313 [00:00<?, ?it/s]"
     ]
    },
    {
     "name": "stdout",
     "output_type": "stream",
     "text": [
      "Valid: loss = 0.6930654701646065, top 1 = 0.955, top 5 = 0.9800000000000003, top 10 = 0.9720000000000008, kendal = 0.8988900787528736\n",
      "\n",
      "Epoch: 425\n"
     ]
    },
    {
     "name": "stderr",
     "output_type": "stream",
     "text": [
      "100%|██████████| 313/313 [04:12<00:00,  1.24it/s]\n",
      "100%|██████████| 313/313 [03:24<00:00,  1.53it/s]\n",
      "  0%|          | 0/4 [00:00<?, ?it/s]"
     ]
    },
    {
     "name": "stdout",
     "output_type": "stream",
     "text": [
      "Train: loss = 0.6930623301724912, top 1 = 0.9748, top 5 = 0.9795199999999636, top 10 = 0.9753249999999977, kendal = 0.9032018602659376\n"
     ]
    },
    {
     "name": "stderr",
     "output_type": "stream",
     "text": [
      "100%|██████████| 4/4 [00:01<00:00,  2.22it/s]\n",
      "  0%|          | 0/313 [00:00<?, ?it/s]"
     ]
    },
    {
     "name": "stdout",
     "output_type": "stream",
     "text": [
      "Valid: loss = 0.6930646729805532, top 1 = 0.955, top 5 = 0.9810000000000002, top 10 = 0.9715000000000008, kendal = 0.9002056565413092\n",
      "\n",
      "Epoch: 426\n"
     ]
    },
    {
     "name": "stderr",
     "output_type": "stream",
     "text": [
      "100%|██████████| 313/313 [03:35<00:00,  1.45it/s]\n",
      "100%|██████████| 313/313 [02:57<00:00,  1.76it/s]\n",
      "  0%|          | 0/4 [00:00<?, ?it/s]"
     ]
    },
    {
     "name": "stdout",
     "output_type": "stream",
     "text": [
      "Train: loss = 0.6930623854162291, top 1 = 0.9749, top 5 = 0.9795999999999633, top 10 = 0.9751249999999981, kendal = 0.9019074947874306\n"
     ]
    },
    {
     "name": "stderr",
     "output_type": "stream",
     "text": [
      "100%|██████████| 4/4 [00:01<00:00,  2.04it/s]\n",
      "  0%|          | 0/313 [00:00<?, ?it/s]"
     ]
    },
    {
     "name": "stdout",
     "output_type": "stream",
     "text": [
      "Valid: loss = 0.6930652506553392, top 1 = 0.95, top 5 = 0.9800000000000003, top 10 = 0.9730000000000009, kendal = 0.8989745017977816\n",
      "\n",
      "Epoch: 427\n"
     ]
    },
    {
     "name": "stderr",
     "output_type": "stream",
     "text": [
      "100%|██████████| 313/313 [04:05<00:00,  1.28it/s]\n",
      "100%|██████████| 313/313 [03:33<00:00,  1.47it/s]\n",
      "  0%|          | 0/4 [00:00<?, ?it/s]"
     ]
    },
    {
     "name": "stdout",
     "output_type": "stream",
     "text": [
      "Train: loss = 0.6930623271794026, top 1 = 0.975, top 5 = 0.9794499999999634, top 10 = 0.9751949999999977, kendal = 0.9039666452899955\n"
     ]
    },
    {
     "name": "stderr",
     "output_type": "stream",
     "text": [
      "100%|██████████| 4/4 [00:01<00:00,  2.18it/s]\n",
      "  0%|          | 0/313 [00:00<?, ?it/s]"
     ]
    },
    {
     "name": "stdout",
     "output_type": "stream",
     "text": [
      "Valid: loss = 0.6930667092755458, top 1 = 0.955, top 5 = 0.9810000000000002, top 10 = 0.9710000000000008, kendal = 0.9009403306152233\n",
      "\n",
      "Epoch: 428\n"
     ]
    },
    {
     "name": "stderr",
     "output_type": "stream",
     "text": [
      "100%|██████████| 313/313 [03:03<00:00,  1.70it/s]\n",
      "100%|██████████| 313/313 [03:10<00:00,  1.64it/s]\n",
      "  0%|          | 0/4 [00:00<?, ?it/s]"
     ]
    },
    {
     "name": "stdout",
     "output_type": "stream",
     "text": [
      "Train: loss = 0.693062198102359, top 1 = 0.9747, top 5 = 0.9795299999999632, top 10 = 0.9753199999999977, kendal = 0.9033179918693646\n"
     ]
    },
    {
     "name": "stderr",
     "output_type": "stream",
     "text": [
      "100%|██████████| 4/4 [00:02<00:00,  1.67it/s]\n",
      "  0%|          | 0/313 [00:00<?, ?it/s]"
     ]
    },
    {
     "name": "stdout",
     "output_type": "stream",
     "text": [
      "Valid: loss = 0.6930658005920539, top 1 = 0.96, top 5 = 0.9810000000000002, top 10 = 0.9720000000000008, kendal = 0.9003755057875406\n",
      "\n",
      "Epoch: 429\n"
     ]
    },
    {
     "name": "stderr",
     "output_type": "stream",
     "text": [
      "100%|██████████| 313/313 [04:34<00:00,  1.14it/s]\n",
      "100%|██████████| 313/313 [02:27<00:00,  2.12it/s]\n",
      "  0%|          | 0/4 [00:00<?, ?it/s]"
     ]
    },
    {
     "name": "stdout",
     "output_type": "stream",
     "text": [
      "Train: loss = 0.6930620959311827, top 1 = 0.9748, top 5 = 0.9795199999999636, top 10 = 0.9751549999999981, kendal = 0.9031987501588339\n"
     ]
    },
    {
     "name": "stderr",
     "output_type": "stream",
     "text": [
      "100%|██████████| 4/4 [00:01<00:00,  3.02it/s]\n",
      "  0%|          | 0/313 [00:00<?, ?it/s]"
     ]
    },
    {
     "name": "stdout",
     "output_type": "stream",
     "text": [
      "Valid: loss = 0.6930636504506811, top 1 = 0.96, top 5 = 0.9800000000000003, top 10 = 0.9730000000000009, kendal = 0.9002549031765106\n",
      "\n",
      "Epoch: 430\n"
     ]
    },
    {
     "name": "stderr",
     "output_type": "stream",
     "text": [
      "100%|██████████| 313/313 [03:44<00:00,  1.39it/s]\n",
      "100%|██████████| 313/313 [03:25<00:00,  1.53it/s]\n",
      "  0%|          | 0/4 [00:00<?, ?it/s]"
     ]
    },
    {
     "name": "stdout",
     "output_type": "stream",
     "text": [
      "Train: loss = 0.6930621863352578, top 1 = 0.9749, top 5 = 0.9796299999999639, top 10 = 0.9752599999999982, kendal = 0.9016703124353184\n"
     ]
    },
    {
     "name": "stderr",
     "output_type": "stream",
     "text": [
      "100%|██████████| 4/4 [00:01<00:00,  2.20it/s]\n",
      "  0%|          | 0/313 [00:00<?, ?it/s]"
     ]
    },
    {
     "name": "stdout",
     "output_type": "stream",
     "text": [
      "Valid: loss = 0.6930658408739369, top 1 = 0.955, top 5 = 0.9800000000000003, top 10 = 0.9715000000000009, kendal = 0.898555406446659\n",
      "\n",
      "Epoch: 431\n"
     ]
    },
    {
     "name": "stderr",
     "output_type": "stream",
     "text": [
      "100%|██████████| 313/313 [04:06<00:00,  1.27it/s]\n",
      "100%|██████████| 313/313 [02:47<00:00,  1.87it/s]\n",
      "  0%|          | 0/4 [00:00<?, ?it/s]"
     ]
    },
    {
     "name": "stdout",
     "output_type": "stream",
     "text": [
      "Train: loss = 0.6930623899273117, top 1 = 0.97465, top 5 = 0.9795399999999638, top 10 = 0.9751699999999975, kendal = 0.9037075821759437\n"
     ]
    },
    {
     "name": "stderr",
     "output_type": "stream",
     "text": [
      "100%|██████████| 4/4 [00:01<00:00,  2.93it/s]\n",
      "  0%|          | 0/313 [00:00<?, ?it/s]"
     ]
    },
    {
     "name": "stdout",
     "output_type": "stream",
     "text": [
      "Valid: loss = 0.693066840631964, top 1 = 0.955, top 5 = 0.9810000000000002, top 10 = 0.9720000000000008, kendal = 0.9007634460163426\n",
      "\n",
      "Epoch: 432\n"
     ]
    },
    {
     "name": "stderr",
     "output_type": "stream",
     "text": [
      "100%|██████████| 313/313 [03:33<00:00,  1.47it/s]\n",
      "100%|██████████| 313/313 [03:47<00:00,  1.37it/s]\n",
      "  0%|          | 0/4 [00:00<?, ?it/s]"
     ]
    },
    {
     "name": "stdout",
     "output_type": "stream",
     "text": [
      "Train: loss = 0.6930623175286625, top 1 = 0.9746, top 5 = 0.9796099999999635, top 10 = 0.9752099999999984, kendal = 0.903136187411181\n"
     ]
    },
    {
     "name": "stderr",
     "output_type": "stream",
     "text": [
      "100%|██████████| 4/4 [00:02<00:00,  1.68it/s]\n",
      "  0%|          | 0/313 [00:00<?, ?it/s]"
     ]
    },
    {
     "name": "stdout",
     "output_type": "stream",
     "text": [
      "Valid: loss = 0.6930676574291701, top 1 = 0.955, top 5 = 0.9800000000000003, top 10 = 0.9720000000000008, kendal = 0.9001453551095299\n",
      "\n",
      "Epoch: 433\n"
     ]
    },
    {
     "name": "stderr",
     "output_type": "stream",
     "text": [
      "100%|██████████| 313/313 [03:24<00:00,  1.53it/s]\n",
      "100%|██████████| 313/313 [02:41<00:00,  1.94it/s]\n",
      "  0%|          | 0/4 [00:00<?, ?it/s]"
     ]
    },
    {
     "name": "stdout",
     "output_type": "stream",
     "text": [
      "Train: loss = 0.69306226843637, top 1 = 0.97465, top 5 = 0.9795799999999639, top 10 = 0.9751899999999983, kendal = 0.9036083994663666\n"
     ]
    },
    {
     "name": "stderr",
     "output_type": "stream",
     "text": [
      "100%|██████████| 4/4 [00:02<00:00,  1.79it/s]\n",
      "  0%|          | 0/313 [00:00<?, ?it/s]"
     ]
    },
    {
     "name": "stdout",
     "output_type": "stream",
     "text": [
      "Valid: loss = 0.6930656881822098, top 1 = 0.95, top 5 = 0.9800000000000003, top 10 = 0.9725000000000008, kendal = 0.9008147021462324\n",
      "\n",
      "Epoch: 434\n"
     ]
    },
    {
     "name": "stderr",
     "output_type": "stream",
     "text": [
      "100%|██████████| 313/313 [04:31<00:00,  1.15it/s]\n",
      "100%|██████████| 313/313 [03:10<00:00,  1.65it/s]\n",
      "  0%|          | 0/4 [00:00<?, ?it/s]"
     ]
    },
    {
     "name": "stdout",
     "output_type": "stream",
     "text": [
      "Train: loss = 0.6930623211469408, top 1 = 0.97465, top 5 = 0.9795999999999642, top 10 = 0.9753049999999972, kendal = 0.9024461215426706\n"
     ]
    },
    {
     "name": "stderr",
     "output_type": "stream",
     "text": [
      "100%|██████████| 4/4 [00:01<00:00,  2.40it/s]\n",
      "  0%|          | 0/313 [00:00<?, ?it/s]"
     ]
    },
    {
     "name": "stdout",
     "output_type": "stream",
     "text": [
      "Valid: loss = 0.6930663834428735, top 1 = 0.955, top 5 = 0.9800000000000003, top 10 = 0.9725000000000008, kendal = 0.899229776917049\n",
      "\n",
      "Epoch: 435\n"
     ]
    },
    {
     "name": "stderr",
     "output_type": "stream",
     "text": [
      "100%|██████████| 313/313 [03:31<00:00,  1.48it/s]\n",
      "100%|██████████| 313/313 [03:11<00:00,  1.64it/s]\n",
      "  0%|          | 0/4 [00:00<?, ?it/s]"
     ]
    },
    {
     "name": "stdout",
     "output_type": "stream",
     "text": [
      "Train: loss = 0.6930624343399565, top 1 = 0.97455, top 5 = 0.9794099999999633, top 10 = 0.9751949999999975, kendal = 0.9038481248324333\n"
     ]
    },
    {
     "name": "stderr",
     "output_type": "stream",
     "text": [
      "100%|██████████| 4/4 [00:01<00:00,  2.03it/s]\n",
      "  0%|          | 0/313 [00:00<?, ?it/s]"
     ]
    },
    {
     "name": "stdout",
     "output_type": "stream",
     "text": [
      "Valid: loss = 0.6930675950023542, top 1 = 0.955, top 5 = 0.9810000000000002, top 10 = 0.9715000000000008, kendal = 0.9007584209917257\n",
      "\n",
      "Epoch: 436\n"
     ]
    },
    {
     "name": "stderr",
     "output_type": "stream",
     "text": [
      "100%|██████████| 313/313 [04:18<00:00,  1.21it/s]\n",
      "100%|██████████| 313/313 [03:03<00:00,  1.70it/s]\n",
      "  0%|          | 0/4 [00:00<?, ?it/s]"
     ]
    },
    {
     "name": "stdout",
     "output_type": "stream",
     "text": [
      "Train: loss = 0.6930621764974082, top 1 = 0.97495, top 5 = 0.9793299999999635, top 10 = 0.975319999999997, kendal = 0.9036287525375853\n"
     ]
    },
    {
     "name": "stderr",
     "output_type": "stream",
     "text": [
      "100%|██████████| 4/4 [00:01<00:00,  2.92it/s]\n",
      "  0%|          | 0/313 [00:00<?, ?it/s]"
     ]
    },
    {
     "name": "stdout",
     "output_type": "stream",
     "text": [
      "Valid: loss = 0.693066596855858, top 1 = 0.96, top 5 = 0.9810000000000002, top 10 = 0.9720000000000008, kendal = 0.900729275162071\n",
      "\n",
      "Epoch: 437\n"
     ]
    },
    {
     "name": "stderr",
     "output_type": "stream",
     "text": [
      "100%|██████████| 313/313 [02:57<00:00,  1.76it/s]\n",
      "100%|██████████| 313/313 [03:50<00:00,  1.36it/s]\n",
      "  0%|          | 0/4 [00:00<?, ?it/s]"
     ]
    },
    {
     "name": "stdout",
     "output_type": "stream",
     "text": [
      "Train: loss = 0.6930622036210745, top 1 = 0.9746, top 5 = 0.9796699999999641, top 10 = 0.975189999999998, kendal = 0.9031155217802393\n"
     ]
    },
    {
     "name": "stderr",
     "output_type": "stream",
     "text": [
      "100%|██████████| 4/4 [00:02<00:00,  1.79it/s]\n",
      "  0%|          | 0/313 [00:00<?, ?it/s]"
     ]
    },
    {
     "name": "stdout",
     "output_type": "stream",
     "text": [
      "Valid: loss = 0.6930657210780915, top 1 = 0.955, top 5 = 0.9800000000000003, top 10 = 0.9710000000000008, kendal = 0.9000498777478478\n",
      "\n",
      "Epoch: 438\n"
     ]
    },
    {
     "name": "stderr",
     "output_type": "stream",
     "text": [
      "100%|██████████| 313/313 [03:53<00:00,  1.34it/s]\n",
      "100%|██████████| 313/313 [02:43<00:00,  1.92it/s]\n",
      "  0%|          | 0/4 [00:00<?, ?it/s]"
     ]
    },
    {
     "name": "stdout",
     "output_type": "stream",
     "text": [
      "Train: loss = 0.6930622282261893, top 1 = 0.97455, top 5 = 0.979559999999964, top 10 = 0.9752749999999969, kendal = 0.9033676747968501\n"
     ]
    },
    {
     "name": "stderr",
     "output_type": "stream",
     "text": [
      "100%|██████████| 4/4 [00:01<00:00,  2.28it/s]\n",
      "  0%|          | 0/313 [00:00<?, ?it/s]"
     ]
    },
    {
     "name": "stdout",
     "output_type": "stream",
     "text": [
      "Valid: loss = 0.6930654304991869, top 1 = 0.95, top 5 = 0.9790000000000003, top 10 = 0.9725000000000008, kendal = 0.9002689742606019\n",
      "\n",
      "Epoch: 439\n"
     ]
    },
    {
     "name": "stderr",
     "output_type": "stream",
     "text": [
      "100%|██████████| 313/313 [04:07<00:00,  1.27it/s]\n",
      "100%|██████████| 313/313 [03:20<00:00,  1.56it/s]\n",
      "  0%|          | 0/4 [00:00<?, ?it/s]"
     ]
    },
    {
     "name": "stdout",
     "output_type": "stream",
     "text": [
      "Train: loss = 0.6930623124230852, top 1 = 0.97495, top 5 = 0.9796299999999636, top 10 = 0.9751199999999982, kendal = 0.9016538578553688\n"
     ]
    },
    {
     "name": "stderr",
     "output_type": "stream",
     "text": [
      "100%|██████████| 4/4 [00:02<00:00,  1.85it/s]\n",
      "  0%|          | 0/313 [00:00<?, ?it/s]"
     ]
    },
    {
     "name": "stdout",
     "output_type": "stream",
     "text": [
      "Valid: loss = 0.6930654332562183, top 1 = 0.96, top 5 = 0.9810000000000002, top 10 = 0.9725000000000007, kendal = 0.898423747119835\n",
      "\n",
      "Epoch: 440\n"
     ]
    },
    {
     "name": "stderr",
     "output_type": "stream",
     "text": [
      "100%|██████████| 313/313 [03:46<00:00,  1.38it/s]\n",
      "100%|██████████| 313/313 [02:48<00:00,  1.85it/s]\n",
      "  0%|          | 0/4 [00:00<?, ?it/s]"
     ]
    },
    {
     "name": "stdout",
     "output_type": "stream",
     "text": [
      "Train: loss = 0.6930624720365886, top 1 = 0.9752, top 5 = 0.9794799999999639, top 10 = 0.9751199999999972, kendal = 0.9023394057463352\n"
     ]
    },
    {
     "name": "stderr",
     "output_type": "stream",
     "text": [
      "100%|██████████| 4/4 [00:01<00:00,  2.10it/s]\n",
      "  0%|          | 0/313 [00:00<?, ?it/s]"
     ]
    },
    {
     "name": "stdout",
     "output_type": "stream",
     "text": [
      "Valid: loss = 0.6930677962403944, top 1 = 0.95, top 5 = 0.9810000000000002, top 10 = 0.9720000000000008, kendal = 0.8991383201861797\n",
      "\n",
      "Epoch: 441\n"
     ]
    },
    {
     "name": "stderr",
     "output_type": "stream",
     "text": [
      "100%|██████████| 313/313 [04:15<00:00,  1.23it/s]\n",
      "100%|██████████| 313/313 [03:30<00:00,  1.49it/s]\n",
      "  0%|          | 0/4 [00:00<?, ?it/s]"
     ]
    },
    {
     "name": "stdout",
     "output_type": "stream",
     "text": [
      "Train: loss = 0.6930622149553906, top 1 = 0.9749, top 5 = 0.9795299999999632, top 10 = 0.9753649999999984, kendal = 0.9017825546528793\n"
     ]
    },
    {
     "name": "stderr",
     "output_type": "stream",
     "text": [
      "100%|██████████| 4/4 [00:01<00:00,  3.25it/s]\n",
      "  0%|          | 0/313 [00:00<?, ?it/s]"
     ]
    },
    {
     "name": "stdout",
     "output_type": "stream",
     "text": [
      "Valid: loss = 0.6930665030831495, top 1 = 0.955, top 5 = 0.9800000000000003, top 10 = 0.9715000000000008, kendal = 0.8987513855128121\n",
      "\n",
      "Epoch: 442\n"
     ]
    },
    {
     "name": "stderr",
     "output_type": "stream",
     "text": [
      "100%|██████████| 313/313 [02:37<00:00,  1.99it/s]\n",
      "100%|██████████| 313/313 [03:39<00:00,  1.42it/s]\n",
      "  0%|          | 0/4 [00:00<?, ?it/s]"
     ]
    },
    {
     "name": "stdout",
     "output_type": "stream",
     "text": [
      "Train: loss = 0.6930622721888243, top 1 = 0.9747, top 5 = 0.9795599999999637, top 10 = 0.9751349999999975, kendal = 0.902325529600737\n"
     ]
    },
    {
     "name": "stderr",
     "output_type": "stream",
     "text": [
      "100%|██████████| 4/4 [00:02<00:00,  1.85it/s]\n",
      "  0%|          | 0/313 [00:00<?, ?it/s]"
     ]
    },
    {
     "name": "stdout",
     "output_type": "stream",
     "text": [
      "Valid: loss = 0.6930668932890367, top 1 = 0.95, top 5 = 0.9800000000000003, top 10 = 0.9720000000000009, kendal = 0.8992247525237532\n",
      "\n",
      "Epoch: 443\n"
     ]
    },
    {
     "name": "stderr",
     "output_type": "stream",
     "text": [
      "100%|██████████| 313/313 [04:05<00:00,  1.28it/s]\n",
      "100%|██████████| 313/313 [03:00<00:00,  1.74it/s]\n",
      "  0%|          | 0/4 [00:00<?, ?it/s]"
     ]
    },
    {
     "name": "stdout",
     "output_type": "stream",
     "text": [
      "Train: loss = 0.6930622664130804, top 1 = 0.975, top 5 = 0.979539999999964, top 10 = 0.9751699999999973, kendal = 0.9019508383005319\n"
     ]
    },
    {
     "name": "stderr",
     "output_type": "stream",
     "text": [
      "100%|██████████| 4/4 [00:01<00:00,  2.41it/s]\n",
      "  0%|          | 0/313 [00:00<?, ?it/s]"
     ]
    },
    {
     "name": "stdout",
     "output_type": "stream",
     "text": [
      "Valid: loss = 0.6930663867577985, top 1 = 0.96, top 5 = 0.9800000000000003, top 10 = 0.9730000000000009, kendal = 0.8988096756316986\n",
      "\n",
      "Epoch: 444\n"
     ]
    },
    {
     "name": "stderr",
     "output_type": "stream",
     "text": [
      "100%|██████████| 313/313 [03:35<00:00,  1.45it/s]\n",
      "100%|██████████| 313/313 [03:22<00:00,  1.54it/s]\n",
      "  0%|          | 0/4 [00:00<?, ?it/s]"
     ]
    },
    {
     "name": "stdout",
     "output_type": "stream",
     "text": [
      "Train: loss = 0.6930623043739815, top 1 = 0.9747, top 5 = 0.9795799999999637, top 10 = 0.9752149999999976, kendal = 0.9019284116807139\n"
     ]
    },
    {
     "name": "stderr",
     "output_type": "stream",
     "text": [
      "100%|██████████| 4/4 [00:02<00:00,  1.68it/s]\n",
      "  0%|          | 0/313 [00:00<?, ?it/s]"
     ]
    },
    {
     "name": "stdout",
     "output_type": "stream",
     "text": [
      "Valid: loss = 0.6930652121702886, top 1 = 0.96, top 5 = 0.9800000000000003, top 10 = 0.9715000000000009, kendal = 0.8986880680460476\n",
      "\n",
      "Epoch: 445\n"
     ]
    },
    {
     "name": "stderr",
     "output_type": "stream",
     "text": [
      "100%|██████████| 313/313 [04:11<00:00,  1.25it/s]\n",
      "100%|██████████| 313/313 [02:38<00:00,  1.98it/s]\n",
      "  0%|          | 0/4 [00:00<?, ?it/s]"
     ]
    },
    {
     "name": "stdout",
     "output_type": "stream",
     "text": [
      "Train: loss = 0.6930625499243394, top 1 = 0.97485, top 5 = 0.9796599999999637, top 10 = 0.9753399999999969, kendal = 0.9029791042130377\n"
     ]
    },
    {
     "name": "stderr",
     "output_type": "stream",
     "text": [
      "100%|██████████| 4/4 [00:01<00:00,  2.78it/s]\n",
      "  0%|          | 0/313 [00:00<?, ?it/s]"
     ]
    },
    {
     "name": "stdout",
     "output_type": "stream",
     "text": [
      "Valid: loss = 0.6930663131612271, top 1 = 0.96, top 5 = 0.9790000000000003, top 10 = 0.9735000000000008, kendal = 0.89982374752388\n",
      "\n",
      "Epoch: 446\n"
     ]
    },
    {
     "name": "stderr",
     "output_type": "stream",
     "text": [
      "100%|██████████| 313/313 [03:54<00:00,  1.34it/s]\n",
      "100%|██████████| 313/313 [03:49<00:00,  1.36it/s]\n",
      "  0%|          | 0/4 [00:00<?, ?it/s]"
     ]
    },
    {
     "name": "stdout",
     "output_type": "stream",
     "text": [
      "Train: loss = 0.693062219283082, top 1 = 0.97475, top 5 = 0.9795499999999638, top 10 = 0.9754249999999969, kendal = 0.9012157953741035\n"
     ]
    },
    {
     "name": "stderr",
     "output_type": "stream",
     "text": [
      "100%|██████████| 4/4 [00:01<00:00,  2.13it/s]\n",
      "  0%|          | 0/313 [00:00<?, ?it/s]"
     ]
    },
    {
     "name": "stdout",
     "output_type": "stream",
     "text": [
      "Valid: loss = 0.6930654534734653, top 1 = 0.95, top 5 = 0.9800000000000003, top 10 = 0.9720000000000008, kendal = 0.8979453557661041\n",
      "\n",
      "Epoch: 447\n"
     ]
    },
    {
     "name": "stderr",
     "output_type": "stream",
     "text": [
      "100%|██████████| 313/313 [02:50<00:00,  1.84it/s]\n",
      "100%|██████████| 313/313 [03:16<00:00,  1.60it/s]\n",
      "  0%|          | 0/4 [00:00<?, ?it/s]"
     ]
    },
    {
     "name": "stdout",
     "output_type": "stream",
     "text": [
      "Train: loss = 0.6930623771740918, top 1 = 0.97515, top 5 = 0.9795499999999636, top 10 = 0.9753899999999978, kendal = 0.9014376903297545\n"
     ]
    },
    {
     "name": "stderr",
     "output_type": "stream",
     "text": [
      "100%|██████████| 4/4 [00:02<00:00,  1.71it/s]\n",
      "  0%|          | 0/313 [00:00<?, ?it/s]"
     ]
    },
    {
     "name": "stdout",
     "output_type": "stream",
     "text": [
      "Valid: loss = 0.6930659920824543, top 1 = 0.955, top 5 = 0.9810000000000002, top 10 = 0.9735000000000008, kendal = 0.8983192241279769\n",
      "\n",
      "Epoch: 448\n"
     ]
    },
    {
     "name": "stderr",
     "output_type": "stream",
     "text": [
      "100%|██████████| 313/313 [04:05<00:00,  1.27it/s]\n",
      "100%|██████████| 313/313 [03:27<00:00,  1.51it/s]\n",
      "  0%|          | 0/4 [00:00<?, ?it/s]"
     ]
    },
    {
     "name": "stdout",
     "output_type": "stream",
     "text": [
      "Train: loss = 0.6930620641753198, top 1 = 0.975, top 5 = 0.9798699999999638, top 10 = 0.9752699999999977, kendal = 0.9011970671401816\n"
     ]
    },
    {
     "name": "stderr",
     "output_type": "stream",
     "text": [
      "100%|██████████| 4/4 [00:01<00:00,  2.19it/s]\n",
      "  0%|          | 0/313 [00:00<?, ?it/s]"
     ]
    },
    {
     "name": "stdout",
     "output_type": "stream",
     "text": [
      "Valid: loss = 0.6930647980837705, top 1 = 0.95, top 5 = 0.9800000000000003, top 10 = 0.9730000000000009, kendal = 0.8980870628694051\n",
      "\n",
      "Epoch: 449\n"
     ]
    },
    {
     "name": "stderr",
     "output_type": "stream",
     "text": [
      "100%|██████████| 313/313 [03:17<00:00,  1.58it/s]\n",
      "100%|██████████| 313/313 [03:08<00:00,  1.66it/s]\n",
      "  0%|          | 0/4 [00:00<?, ?it/s]"
     ]
    },
    {
     "name": "stdout",
     "output_type": "stream",
     "text": [
      "Train: loss = 0.6930623259847702, top 1 = 0.97475, top 5 = 0.9796599999999639, top 10 = 0.9751499999999976, kendal = 0.9036662711693755\n"
     ]
    },
    {
     "name": "stderr",
     "output_type": "stream",
     "text": [
      "100%|██████████| 4/4 [00:01<00:00,  2.05it/s]\n",
      "  0%|          | 0/313 [00:00<?, ?it/s]"
     ]
    },
    {
     "name": "stdout",
     "output_type": "stream",
     "text": [
      "Valid: loss = 0.6930657350759419, top 1 = 0.96, top 5 = 0.9800000000000003, top 10 = 0.9725000000000007, kendal = 0.9005865605336123\n",
      "\n",
      "Epoch: 450\n"
     ]
    },
    {
     "name": "stderr",
     "output_type": "stream",
     "text": [
      "100%|██████████| 313/313 [04:33<00:00,  1.15it/s]\n",
      "100%|██████████| 313/313 [02:46<00:00,  1.87it/s]\n",
      "  0%|          | 0/4 [00:00<?, ?it/s]"
     ]
    },
    {
     "name": "stdout",
     "output_type": "stream",
     "text": [
      "Train: loss = 0.6930624478919549, top 1 = 0.97475, top 5 = 0.9795199999999641, top 10 = 0.9753449999999977, kendal = 0.9029108474420331\n"
     ]
    },
    {
     "name": "stderr",
     "output_type": "stream",
     "text": [
      "100%|██████████| 4/4 [00:01<00:00,  2.71it/s]\n",
      "  0%|          | 0/313 [00:00<?, ?it/s]"
     ]
    },
    {
     "name": "stdout",
     "output_type": "stream",
     "text": [
      "Valid: loss = 0.6930675863547684, top 1 = 0.955, top 5 = 0.9810000000000002, top 10 = 0.9720000000000009, kendal = 0.8999081688010893\n",
      "\n",
      "Epoch: 451\n"
     ]
    },
    {
     "name": "stderr",
     "output_type": "stream",
     "text": [
      "100%|██████████| 313/313 [03:23<00:00,  1.54it/s]\n",
      "100%|██████████| 313/313 [03:48<00:00,  1.37it/s]\n",
      "  0%|          | 0/4 [00:00<?, ?it/s]"
     ]
    },
    {
     "name": "stdout",
     "output_type": "stream",
     "text": [
      "Train: loss = 0.6930624185991252, top 1 = 0.97475, top 5 = 0.9795199999999636, top 10 = 0.975289999999998, kendal = 0.9050763785053476\n"
     ]
    },
    {
     "name": "stderr",
     "output_type": "stream",
     "text": [
      "100%|██████████| 4/4 [00:01<00:00,  2.09it/s]\n",
      "  0%|          | 0/313 [00:00<?, ?it/s]"
     ]
    },
    {
     "name": "stdout",
     "output_type": "stream",
     "text": [
      "Valid: loss = 0.6930673696668914, top 1 = 0.955, top 5 = 0.9810000000000002, top 10 = 0.9715000000000009, kendal = 0.9021091745332943\n",
      "\n",
      "Epoch: 452\n"
     ]
    },
    {
     "name": "stderr",
     "output_type": "stream",
     "text": [
      "100%|██████████| 313/313 [03:32<00:00,  1.47it/s]\n",
      "100%|██████████| 313/313 [03:01<00:00,  1.73it/s]\n",
      "  0%|          | 0/4 [00:00<?, ?it/s]"
     ]
    },
    {
     "name": "stdout",
     "output_type": "stream",
     "text": [
      "Train: loss = 0.6930624140561233, top 1 = 0.97505, top 5 = 0.9798699999999638, top 10 = 0.9754099999999973, kendal = 0.9016497986623617\n"
     ]
    },
    {
     "name": "stderr",
     "output_type": "stream",
     "text": [
      "100%|██████████| 4/4 [00:01<00:00,  2.23it/s]\n",
      "  0%|          | 0/313 [00:00<?, ?it/s]"
     ]
    },
    {
     "name": "stdout",
     "output_type": "stream",
     "text": [
      "Valid: loss = 0.6930660907480751, top 1 = 0.955, top 5 = 0.9810000000000002, top 10 = 0.9725000000000008, kendal = 0.8983584189209928\n",
      "\n",
      "Epoch: 453\n"
     ]
    },
    {
     "name": "stderr",
     "output_type": "stream",
     "text": [
      "100%|██████████| 313/313 [03:55<00:00,  1.33it/s]\n",
      "100%|██████████| 313/313 [03:35<00:00,  1.45it/s]\n",
      "  0%|          | 0/4 [00:00<?, ?it/s]"
     ]
    },
    {
     "name": "stdout",
     "output_type": "stream",
     "text": [
      "Train: loss = 0.6930625550742763, top 1 = 0.97525, top 5 = 0.9797299999999641, top 10 = 0.9754149999999973, kendal = 0.902588159489427\n"
     ]
    },
    {
     "name": "stderr",
     "output_type": "stream",
     "text": [
      "100%|██████████| 4/4 [00:02<00:00,  1.67it/s]\n",
      "  0%|          | 0/313 [00:00<?, ?it/s]"
     ]
    },
    {
     "name": "stdout",
     "output_type": "stream",
     "text": [
      "Valid: loss = 0.6930652663706467, top 1 = 0.95, top 5 = 0.9820000000000002, top 10 = 0.9725000000000008, kendal = 0.8993845505843732\n",
      "\n",
      "Epoch: 454\n"
     ]
    },
    {
     "name": "stderr",
     "output_type": "stream",
     "text": [
      "100%|██████████| 313/313 [03:34<00:00,  1.46it/s]\n",
      "100%|██████████| 313/313 [02:35<00:00,  2.01it/s]\n",
      "  0%|          | 0/4 [00:00<?, ?it/s]"
     ]
    },
    {
     "name": "stdout",
     "output_type": "stream",
     "text": [
      "Train: loss = 0.6930624349201419, top 1 = 0.9747, top 5 = 0.979749999999964, top 10 = 0.9753449999999976, kendal = 0.9013509767707543\n"
     ]
    },
    {
     "name": "stderr",
     "output_type": "stream",
     "text": [
      "100%|██████████| 4/4 [00:02<00:00,  1.92it/s]\n",
      "  0%|          | 0/313 [00:00<?, ?it/s]"
     ]
    },
    {
     "name": "stdout",
     "output_type": "stream",
     "text": [
      "Valid: loss = 0.693067862603127, top 1 = 0.96, top 5 = 0.9790000000000003, top 10 = 0.9720000000000008, kendal = 0.8981825405846274\n",
      "\n",
      "Epoch: 455\n"
     ]
    },
    {
     "name": "stderr",
     "output_type": "stream",
     "text": [
      "100%|██████████| 313/313 [04:36<00:00,  1.13it/s]\n",
      "100%|██████████| 313/313 [03:09<00:00,  1.65it/s]\n",
      "  0%|          | 0/4 [00:00<?, ?it/s]"
     ]
    },
    {
     "name": "stdout",
     "output_type": "stream",
     "text": [
      "Train: loss = 0.6930622740628898, top 1 = 0.9756, top 5 = 0.9794699999999635, top 10 = 0.9751899999999974, kendal = 0.9041036726605305\n"
     ]
    },
    {
     "name": "stderr",
     "output_type": "stream",
     "text": [
      "100%|██████████| 4/4 [00:01<00:00,  2.74it/s]\n",
      "  0%|          | 0/313 [00:00<?, ?it/s]"
     ]
    },
    {
     "name": "stdout",
     "output_type": "stream",
     "text": [
      "Valid: loss = 0.6930663448319794, top 1 = 0.96, top 5 = 0.9820000000000002, top 10 = 0.9705000000000009, kendal = 0.901088068601611\n",
      "\n",
      "Epoch: 456\n"
     ]
    },
    {
     "name": "stderr",
     "output_type": "stream",
     "text": [
      "100%|██████████| 313/313 [02:49<00:00,  1.85it/s]\n",
      "100%|██████████| 313/313 [03:24<00:00,  1.53it/s]\n",
      "  0%|          | 0/4 [00:00<?, ?it/s]"
     ]
    },
    {
     "name": "stdout",
     "output_type": "stream",
     "text": [
      "Train: loss = 0.6930624682582799, top 1 = 0.97495, top 5 = 0.9798799999999641, top 10 = 0.9753799999999974, kendal = 0.9016925724685694\n"
     ]
    },
    {
     "name": "stderr",
     "output_type": "stream",
     "text": [
      "100%|██████████| 4/4 [00:01<00:00,  2.02it/s]\n",
      "  0%|          | 0/313 [00:00<?, ?it/s]"
     ]
    },
    {
     "name": "stdout",
     "output_type": "stream",
     "text": [
      "Valid: loss = 0.693068123986018, top 1 = 0.955, top 5 = 0.9800000000000003, top 10 = 0.9735000000000008, kendal = 0.8983835447259034\n",
      "\n",
      "Epoch: 457\n"
     ]
    },
    {
     "name": "stderr",
     "output_type": "stream",
     "text": [
      "100%|██████████| 313/313 [03:57<00:00,  1.32it/s]\n",
      "100%|██████████| 313/313 [03:19<00:00,  1.57it/s]\n",
      "  0%|          | 0/4 [00:00<?, ?it/s]"
     ]
    },
    {
     "name": "stdout",
     "output_type": "stream",
     "text": [
      "Train: loss = 0.6930625145601942, top 1 = 0.9751, top 5 = 0.9799099999999642, top 10 = 0.9754049999999972, kendal = 0.9031339585288408\n"
     ]
    },
    {
     "name": "stderr",
     "output_type": "stream",
     "text": [
      "100%|██████████| 4/4 [00:01<00:00,  2.02it/s]\n",
      "  0%|          | 0/313 [00:00<?, ?it/s]"
     ]
    },
    {
     "name": "stdout",
     "output_type": "stream",
     "text": [
      "Valid: loss = 0.6930660982529528, top 1 = 0.95, top 5 = 0.9820000000000002, top 10 = 0.9735000000000008, kendal = 0.8998569113327989\n",
      "\n",
      "Epoch: 458\n"
     ]
    },
    {
     "name": "stderr",
     "output_type": "stream",
     "text": [
      "100%|██████████| 313/313 [03:12<00:00,  1.63it/s]\n",
      "100%|██████████| 313/313 [03:29<00:00,  1.50it/s]\n",
      "  0%|          | 0/4 [00:00<?, ?it/s]"
     ]
    },
    {
     "name": "stdout",
     "output_type": "stream",
     "text": [
      "Train: loss = 0.6930623234160749, top 1 = 0.97485, top 5 = 0.9798199999999643, top 10 = 0.9754199999999973, kendal = 0.9029422879447542\n"
     ]
    },
    {
     "name": "stderr",
     "output_type": "stream",
     "text": [
      "100%|██████████| 4/4 [00:02<00:00,  1.75it/s]\n",
      "  0%|          | 0/313 [00:00<?, ?it/s]"
     ]
    },
    {
     "name": "stdout",
     "output_type": "stream",
     "text": [
      "Valid: loss = 0.6930673665287181, top 1 = 0.95, top 5 = 0.9810000000000002, top 10 = 0.9725000000000008, kendal = 0.8995976144968466\n",
      "\n",
      "Epoch: 459\n"
     ]
    },
    {
     "name": "stderr",
     "output_type": "stream",
     "text": [
      "100%|██████████| 313/313 [04:24<00:00,  1.18it/s]\n",
      "100%|██████████| 313/313 [02:14<00:00,  2.33it/s]\n",
      "  0%|          | 0/4 [00:00<?, ?it/s]"
     ]
    },
    {
     "name": "stdout",
     "output_type": "stream",
     "text": [
      "Train: loss = 0.6930624784192551, top 1 = 0.97505, top 5 = 0.9799299999999641, top 10 = 0.975404999999998, kendal = 0.9033837050834641\n"
     ]
    },
    {
     "name": "stderr",
     "output_type": "stream",
     "text": [
      "100%|██████████| 4/4 [00:01<00:00,  2.60it/s]\n",
      "  0%|          | 0/313 [00:00<?, ?it/s]"
     ]
    },
    {
     "name": "stdout",
     "output_type": "stream",
     "text": [
      "Valid: loss = 0.6930674509747345, top 1 = 0.96, top 5 = 0.9810000000000002, top 10 = 0.9720000000000009, kendal = 0.9001403298071321\n",
      "\n",
      "Epoch: 460\n"
     ]
    },
    {
     "name": "stderr",
     "output_type": "stream",
     "text": [
      "100%|██████████| 313/313 [04:07<00:00,  1.26it/s]\n",
      "100%|██████████| 313/313 [03:27<00:00,  1.51it/s]\n",
      "  0%|          | 0/4 [00:00<?, ?it/s]"
     ]
    },
    {
     "name": "stdout",
     "output_type": "stream",
     "text": [
      "Train: loss = 0.6930624352067113, top 1 = 0.9751, top 5 = 0.9797999999999638, top 10 = 0.9753299999999977, kendal = 0.9039003135928088\n"
     ]
    },
    {
     "name": "stderr",
     "output_type": "stream",
     "text": [
      "100%|██████████| 4/4 [00:02<00:00,  1.88it/s]\n",
      "  0%|          | 0/313 [00:00<?, ?it/s]"
     ]
    },
    {
     "name": "stdout",
     "output_type": "stream",
     "text": [
      "Valid: loss = 0.6930676014466113, top 1 = 0.955, top 5 = 0.9800000000000003, top 10 = 0.9720000000000009, kendal = 0.9006860579200384\n",
      "\n",
      "Epoch: 461\n"
     ]
    },
    {
     "name": "stderr",
     "output_type": "stream",
     "text": [
      "100%|██████████| 313/313 [03:40<00:00,  1.42it/s]\n",
      "100%|██████████| 313/313 [02:56<00:00,  1.77it/s]\n",
      "  0%|          | 0/4 [00:00<?, ?it/s]"
     ]
    },
    {
     "name": "stdout",
     "output_type": "stream",
     "text": [
      "Train: loss = 0.6930622539318204, top 1 = 0.97495, top 5 = 0.9797799999999641, top 10 = 0.9754049999999975, kendal = 0.9025470918946459\n"
     ]
    },
    {
     "name": "stderr",
     "output_type": "stream",
     "text": [
      "100%|██████████| 4/4 [00:02<00:00,  1.92it/s]\n",
      "  0%|          | 0/313 [00:00<?, ?it/s]"
     ]
    },
    {
     "name": "stdout",
     "output_type": "stream",
     "text": [
      "Valid: loss = 0.6930653958409669, top 1 = 0.955, top 5 = 0.9800000000000003, top 10 = 0.9730000000000009, kendal = 0.8993805303323528\n",
      "\n",
      "Epoch: 462\n"
     ]
    },
    {
     "name": "stderr",
     "output_type": "stream",
     "text": [
      "100%|██████████| 313/313 [04:02<00:00,  1.29it/s]\n",
      "100%|██████████| 313/313 [03:40<00:00,  1.42it/s]\n",
      "  0%|          | 0/4 [00:00<?, ?it/s]"
     ]
    },
    {
     "name": "stdout",
     "output_type": "stream",
     "text": [
      "Train: loss = 0.6930622600249107, top 1 = 0.9749, top 5 = 0.979739999999964, top 10 = 0.9752399999999972, kendal = 0.9023972582290493\n"
     ]
    },
    {
     "name": "stderr",
     "output_type": "stream",
     "text": [
      "100%|██████████| 4/4 [00:01<00:00,  2.16it/s]\n",
      "  0%|          | 0/313 [00:00<?, ?it/s]"
     ]
    },
    {
     "name": "stdout",
     "output_type": "stream",
     "text": [
      "Valid: loss = 0.6930669108893516, top 1 = 0.955, top 5 = 0.9810000000000002, top 10 = 0.9725000000000008, kendal = 0.8992076649248734\n",
      "\n",
      "Epoch: 463\n"
     ]
    },
    {
     "name": "stderr",
     "output_type": "stream",
     "text": [
      "100%|██████████| 313/313 [03:05<00:00,  1.69it/s]\n",
      "100%|██████████| 313/313 [03:03<00:00,  1.70it/s]\n",
      "  0%|          | 0/4 [00:00<?, ?it/s]"
     ]
    },
    {
     "name": "stdout",
     "output_type": "stream",
     "text": [
      "Train: loss = 0.6930623333749142, top 1 = 0.97505, top 5 = 0.9799099999999639, top 10 = 0.9753699999999977, kendal = 0.903125773019351\n"
     ]
    },
    {
     "name": "stderr",
     "output_type": "stream",
     "text": [
      "100%|██████████| 4/4 [00:02<00:00,  1.80it/s]\n",
      "  0%|          | 0/313 [00:00<?, ?it/s]"
     ]
    },
    {
     "name": "stdout",
     "output_type": "stream",
     "text": [
      "Valid: loss = 0.6930675589901212, top 1 = 0.955, top 5 = 0.9800000000000003, top 10 = 0.9730000000000009, kendal = 0.8999383188477782\n",
      "\n",
      "Epoch: 464\n"
     ]
    },
    {
     "name": "stderr",
     "output_type": "stream",
     "text": [
      "100%|██████████| 313/313 [04:37<00:00,  1.13it/s]\n",
      "100%|██████████| 313/313 [02:30<00:00,  2.07it/s]\n",
      "  0%|          | 0/4 [00:00<?, ?it/s]"
     ]
    },
    {
     "name": "stdout",
     "output_type": "stream",
     "text": [
      "Train: loss = 0.6930625138419522, top 1 = 0.975, top 5 = 0.979789999999964, top 10 = 0.9753799999999974, kendal = 0.901100031978952\n"
     ]
    },
    {
     "name": "stderr",
     "output_type": "stream",
     "text": [
      "100%|██████████| 4/4 [00:01<00:00,  2.80it/s]\n",
      "  0%|          | 0/313 [00:00<?, ?it/s]"
     ]
    },
    {
     "name": "stdout",
     "output_type": "stream",
     "text": [
      "Valid: loss = 0.6930653493952953, top 1 = 0.96, top 5 = 0.9800000000000003, top 10 = 0.9715000000000008, kendal = 0.8978136948483509\n",
      "\n",
      "Epoch: 465\n"
     ]
    },
    {
     "name": "stderr",
     "output_type": "stream",
     "text": [
      "100%|██████████| 313/313 [03:48<00:00,  1.37it/s]\n",
      "100%|██████████| 313/313 [03:23<00:00,  1.54it/s]\n",
      "  0%|          | 0/4 [00:00<?, ?it/s]"
     ]
    },
    {
     "name": "stdout",
     "output_type": "stream",
     "text": [
      "Train: loss = 0.6930621805324536, top 1 = 0.97475, top 5 = 0.9798799999999641, top 10 = 0.9754449999999977, kendal = 0.9030518456778885\n"
     ]
    },
    {
     "name": "stderr",
     "output_type": "stream",
     "text": [
      "100%|██████████| 4/4 [00:02<00:00,  1.89it/s]\n",
      "  0%|          | 0/313 [00:00<?, ?it/s]"
     ]
    },
    {
     "name": "stdout",
     "output_type": "stream",
     "text": [
      "Valid: loss = 0.6930685896646773, top 1 = 0.95, top 5 = 0.9800000000000003, top 10 = 0.9720000000000009, kendal = 0.899982539700778\n",
      "\n",
      "Epoch: 466\n"
     ]
    },
    {
     "name": "stderr",
     "output_type": "stream",
     "text": [
      "100%|██████████| 313/313 [04:10<00:00,  1.25it/s]\n",
      "100%|██████████| 313/313 [02:45<00:00,  1.89it/s]\n",
      "  0%|          | 0/4 [00:00<?, ?it/s]"
     ]
    },
    {
     "name": "stdout",
     "output_type": "stream",
     "text": [
      "Train: loss = 0.6930623485209351, top 1 = 0.9751, top 5 = 0.9798999999999638, top 10 = 0.9754099999999973, kendal = 0.9041385940683738\n"
     ]
    },
    {
     "name": "stderr",
     "output_type": "stream",
     "text": [
      "100%|██████████| 4/4 [00:01<00:00,  2.76it/s]\n",
      "  0%|          | 0/313 [00:00<?, ?it/s]"
     ]
    },
    {
     "name": "stdout",
     "output_type": "stream",
     "text": [
      "Valid: loss = 0.6930655934829157, top 1 = 0.955, top 5 = 0.9800000000000003, top 10 = 0.9725000000000008, kendal = 0.9009976152796844\n",
      "\n",
      "Epoch: 467\n"
     ]
    },
    {
     "name": "stderr",
     "output_type": "stream",
     "text": [
      "100%|██████████| 313/313 [03:45<00:00,  1.39it/s]\n",
      "100%|██████████| 313/313 [03:42<00:00,  1.41it/s]\n",
      "  0%|          | 0/4 [00:00<?, ?it/s]"
     ]
    },
    {
     "name": "stdout",
     "output_type": "stream",
     "text": [
      "Train: loss = 0.6930623669990779, top 1 = 0.97505, top 5 = 0.9798999999999638, top 10 = 0.9754049999999981, kendal = 0.9023626551187693\n"
     ]
    },
    {
     "name": "stderr",
     "output_type": "stream",
     "text": [
      "100%|██████████| 4/4 [00:02<00:00,  1.84it/s]\n",
      "  0%|          | 0/313 [00:00<?, ?it/s]"
     ]
    },
    {
     "name": "stdout",
     "output_type": "stream",
     "text": [
      "Valid: loss = 0.6930664922100027, top 1 = 0.955, top 5 = 0.9800000000000003, top 10 = 0.9715000000000008, kendal = 0.8992036453294274\n",
      "\n",
      "Epoch: 468\n"
     ]
    },
    {
     "name": "stderr",
     "output_type": "stream",
     "text": [
      "100%|██████████| 313/313 [03:28<00:00,  1.50it/s]\n",
      "100%|██████████| 313/313 [02:39<00:00,  1.96it/s]\n",
      "  0%|          | 0/4 [00:00<?, ?it/s]"
     ]
    },
    {
     "name": "stdout",
     "output_type": "stream",
     "text": [
      "Train: loss = 0.6930623710021125, top 1 = 0.97495, top 5 = 0.9798199999999637, top 10 = 0.9753949999999976, kendal = 0.9030573632463831\n"
     ]
    },
    {
     "name": "stderr",
     "output_type": "stream",
     "text": [
      "100%|██████████| 4/4 [00:02<00:00,  1.68it/s]\n",
      "  0%|          | 0/313 [00:00<?, ?it/s]"
     ]
    },
    {
     "name": "stdout",
     "output_type": "stream",
     "text": [
      "Valid: loss = 0.6930663299853798, top 1 = 0.95, top 5 = 0.9800000000000003, top 10 = 0.9720000000000009, kendal = 0.9000197258324488\n",
      "\n",
      "Epoch: 469\n"
     ]
    },
    {
     "name": "stderr",
     "output_type": "stream",
     "text": [
      "100%|██████████| 313/313 [04:36<00:00,  1.13it/s]\n",
      "100%|██████████| 313/313 [02:56<00:00,  1.77it/s]\n",
      "  0%|          | 0/4 [00:00<?, ?it/s]"
     ]
    },
    {
     "name": "stdout",
     "output_type": "stream",
     "text": [
      "Train: loss = 0.6930623719449949, top 1 = 0.9753, top 5 = 0.9799999999999641, top 10 = 0.9754349999999978, kendal = 0.9035480467435173\n"
     ]
    },
    {
     "name": "stderr",
     "output_type": "stream",
     "text": [
      "100%|██████████| 4/4 [00:01<00:00,  2.21it/s]\n",
      "  0%|          | 0/313 [00:00<?, ?it/s]"
     ]
    },
    {
     "name": "stdout",
     "output_type": "stream",
     "text": [
      "Valid: loss = 0.6930660859712696, top 1 = 0.95, top 5 = 0.9800000000000003, top 10 = 0.9730000000000009, kendal = 0.9004770121635979\n",
      "\n",
      "Epoch: 470\n"
     ]
    },
    {
     "name": "stderr",
     "output_type": "stream",
     "text": [
      "100%|██████████| 313/313 [03:38<00:00,  1.43it/s]\n",
      "100%|██████████| 313/313 [03:12<00:00,  1.63it/s]\n",
      "  0%|          | 0/4 [00:00<?, ?it/s]"
     ]
    },
    {
     "name": "stdout",
     "output_type": "stream",
     "text": [
      "Train: loss = 0.6930623504357786, top 1 = 0.97525, top 5 = 0.9797899999999643, top 10 = 0.9755049999999975, kendal = 0.9031185268619365\n"
     ]
    },
    {
     "name": "stderr",
     "output_type": "stream",
     "text": [
      "100%|██████████| 4/4 [00:01<00:00,  2.06it/s]\n",
      "  0%|          | 0/313 [00:00<?, ?it/s]"
     ]
    },
    {
     "name": "stdout",
     "output_type": "stream",
     "text": [
      "Valid: loss = 0.6930654915423716, top 1 = 0.95, top 5 = 0.9810000000000002, top 10 = 0.972500000000001, kendal = 0.9000056557079655\n",
      "\n",
      "Epoch: 471\n"
     ]
    },
    {
     "name": "stderr",
     "output_type": "stream",
     "text": [
      "100%|██████████| 313/313 [04:24<00:00,  1.18it/s]\n",
      "100%|██████████| 313/313 [02:53<00:00,  1.81it/s]\n",
      "  0%|          | 0/4 [00:00<?, ?it/s]"
     ]
    },
    {
     "name": "stdout",
     "output_type": "stream",
     "text": [
      "Train: loss = 0.6930621701717018, top 1 = 0.9753, top 5 = 0.979839999999964, top 10 = 0.9754599999999966, kendal = 0.9028293409320327\n"
     ]
    },
    {
     "name": "stderr",
     "output_type": "stream",
     "text": [
      "100%|██████████| 4/4 [00:01<00:00,  3.06it/s]\n",
      "  0%|          | 0/313 [00:00<?, ?it/s]"
     ]
    },
    {
     "name": "stdout",
     "output_type": "stream",
     "text": [
      "Valid: loss = 0.6930659711853651, top 1 = 0.955, top 5 = 0.9800000000000003, top 10 = 0.9730000000000009, kendal = 0.899561433870105\n",
      "\n",
      "Epoch: 472\n"
     ]
    },
    {
     "name": "stderr",
     "output_type": "stream",
     "text": [
      "100%|██████████| 313/313 [03:15<00:00,  1.60it/s]\n",
      "100%|██████████| 313/313 [03:45<00:00,  1.39it/s]\n",
      "  0%|          | 0/4 [00:00<?, ?it/s]"
     ]
    },
    {
     "name": "stdout",
     "output_type": "stream",
     "text": [
      "Train: loss = 0.6930623682972334, top 1 = 0.9749, top 5 = 0.9799299999999638, top 10 = 0.9754049999999974, kendal = 0.9045461975801181\n"
     ]
    },
    {
     "name": "stderr",
     "output_type": "stream",
     "text": [
      "100%|██████████| 4/4 [00:02<00:00,  1.75it/s]\n",
      "  0%|          | 0/313 [00:00<?, ?it/s]"
     ]
    },
    {
     "name": "stdout",
     "output_type": "stream",
     "text": [
      "Valid: loss = 0.6930649379225032, top 1 = 0.955, top 5 = 0.9800000000000003, top 10 = 0.972500000000001, kendal = 0.9016267604780188\n",
      "\n",
      "Epoch: 473\n"
     ]
    },
    {
     "name": "stderr",
     "output_type": "stream",
     "text": [
      "100%|██████████| 313/313 [03:51<00:00,  1.35it/s]\n",
      "100%|██████████| 313/313 [02:35<00:00,  2.01it/s]\n",
      "  0%|          | 0/4 [00:00<?, ?it/s]"
     ]
    },
    {
     "name": "stdout",
     "output_type": "stream",
     "text": [
      "Train: loss = 0.6930626358392277, top 1 = 0.97525, top 5 = 0.979909999999964, top 10 = 0.975499999999998, kendal = 0.901364066745535\n"
     ]
    },
    {
     "name": "stderr",
     "output_type": "stream",
     "text": [
      "100%|██████████| 4/4 [00:01<00:00,  2.24it/s]\n",
      "  0%|          | 0/313 [00:00<?, ?it/s]"
     ]
    },
    {
     "name": "stdout",
     "output_type": "stream",
     "text": [
      "Valid: loss = 0.6930670719385718, top 1 = 0.955, top 5 = 0.9800000000000003, top 10 = 0.9725000000000008, kendal = 0.8981946007093646\n",
      "\n",
      "Epoch: 474\n"
     ]
    },
    {
     "name": "stderr",
     "output_type": "stream",
     "text": [
      "100%|██████████| 313/313 [04:18<00:00,  1.21it/s]\n",
      "100%|██████████| 313/313 [03:15<00:00,  1.60it/s]\n",
      "  0%|          | 0/4 [00:00<?, ?it/s]"
     ]
    },
    {
     "name": "stdout",
     "output_type": "stream",
     "text": [
      "Train: loss = 0.693062452516561, top 1 = 0.97475, top 5 = 0.979799999999964, top 10 = 0.9754149999999976, kendal = 0.9007793787131255\n"
     ]
    },
    {
     "name": "stderr",
     "output_type": "stream",
     "text": [
      "100%|██████████| 4/4 [00:02<00:00,  1.77it/s]\n",
      "  0%|          | 0/313 [00:00<?, ?it/s]"
     ]
    },
    {
     "name": "stdout",
     "output_type": "stream",
     "text": [
      "Valid: loss = 0.6930673421442343, top 1 = 0.96, top 5 = 0.9800000000000003, top 10 = 0.9730000000000009, kendal = 0.8976659563821597\n",
      "\n",
      "Epoch: 475\n"
     ]
    },
    {
     "name": "stderr",
     "output_type": "stream",
     "text": [
      "100%|██████████| 313/313 [03:45<00:00,  1.39it/s]\n",
      "100%|██████████| 313/313 [02:46<00:00,  1.88it/s]\n",
      "  0%|          | 0/4 [00:00<?, ?it/s]"
     ]
    },
    {
     "name": "stdout",
     "output_type": "stream",
     "text": [
      "Train: loss = 0.6930621450776386, top 1 = 0.9752, top 5 = 0.979869999999964, top 10 = 0.9753849999999972, kendal = 0.9041365749054022\n"
     ]
    },
    {
     "name": "stderr",
     "output_type": "stream",
     "text": [
      "100%|██████████| 4/4 [00:01<00:00,  2.13it/s]\n",
      "  0%|          | 0/313 [00:00<?, ?it/s]"
     ]
    },
    {
     "name": "stdout",
     "output_type": "stream",
     "text": [
      "Valid: loss = 0.6930663141706979, top 1 = 0.955, top 5 = 0.9800000000000003, top 10 = 0.9720000000000009, kendal = 0.9009895745988762\n",
      "\n",
      "Epoch: 476\n"
     ]
    },
    {
     "name": "stderr",
     "output_type": "stream",
     "text": [
      "100%|██████████| 313/313 [04:22<00:00,  1.19it/s]\n",
      "100%|██████████| 313/313 [03:18<00:00,  1.58it/s]\n",
      "  0%|          | 0/4 [00:00<?, ?it/s]"
     ]
    },
    {
     "name": "stdout",
     "output_type": "stream",
     "text": [
      "Train: loss = 0.6930622512623944, top 1 = 0.97495, top 5 = 0.9799099999999642, top 10 = 0.9753949999999977, kendal = 0.9030580288790903\n"
     ]
    },
    {
     "name": "stderr",
     "output_type": "stream",
     "text": [
      "100%|██████████| 4/4 [00:01<00:00,  3.11it/s]\n",
      "  0%|          | 0/313 [00:00<?, ?it/s]"
     ]
    },
    {
     "name": "stdout",
     "output_type": "stream",
     "text": [
      "Valid: loss = 0.6930642613568678, top 1 = 0.96, top 5 = 0.9800000000000003, top 10 = 0.9730000000000009, kendal = 0.8998307792653739\n",
      "\n",
      "Epoch: 477\n"
     ]
    },
    {
     "name": "stderr",
     "output_type": "stream",
     "text": [
      "100%|██████████| 313/313 [02:46<00:00,  1.88it/s]\n",
      "100%|██████████| 313/313 [03:41<00:00,  1.41it/s]\n",
      "  0%|          | 0/4 [00:00<?, ?it/s]"
     ]
    },
    {
     "name": "stdout",
     "output_type": "stream",
     "text": [
      "Train: loss = 0.6930622198876634, top 1 = 0.97505, top 5 = 0.9799499999999641, top 10 = 0.975419999999997, kendal = 0.9021123180427261\n"
     ]
    },
    {
     "name": "stderr",
     "output_type": "stream",
     "text": [
      "100%|██████████| 4/4 [00:02<00:00,  1.79it/s]\n",
      "  0%|          | 0/313 [00:00<?, ?it/s]"
     ]
    },
    {
     "name": "stdout",
     "output_type": "stream",
     "text": [
      "Valid: loss = 0.6930655304372226, top 1 = 0.955, top 5 = 0.9800000000000003, top 10 = 0.9735000000000009, kendal = 0.8989855541953393\n",
      "\n",
      "Epoch: 478\n"
     ]
    },
    {
     "name": "stderr",
     "output_type": "stream",
     "text": [
      "100%|██████████| 313/313 [04:11<00:00,  1.25it/s]\n",
      "100%|██████████| 313/313 [02:48<00:00,  1.86it/s]\n",
      "  0%|          | 0/4 [00:00<?, ?it/s]"
     ]
    },
    {
     "name": "stdout",
     "output_type": "stream",
     "text": [
      "Train: loss = 0.6930624008811407, top 1 = 0.97495, top 5 = 0.9800799999999643, top 10 = 0.9755299999999981, kendal = 0.9029923236453391\n"
     ]
    },
    {
     "name": "stderr",
     "output_type": "stream",
     "text": [
      "100%|██████████| 4/4 [00:01<00:00,  2.41it/s]\n",
      "  0%|          | 0/313 [00:00<?, ?it/s]"
     ]
    },
    {
     "name": "stdout",
     "output_type": "stream",
     "text": [
      "Valid: loss = 0.693067481473375, top 1 = 0.955, top 5 = 0.9800000000000003, top 10 = 0.973000000000001, kendal = 0.8998177166660473\n",
      "\n",
      "Epoch: 479\n"
     ]
    },
    {
     "name": "stderr",
     "output_type": "stream",
     "text": [
      "100%|██████████| 313/313 [03:47<00:00,  1.38it/s]\n",
      "100%|██████████| 313/313 [03:18<00:00,  1.57it/s]\n",
      "  0%|          | 0/4 [00:00<?, ?it/s]"
     ]
    },
    {
     "name": "stdout",
     "output_type": "stream",
     "text": [
      "Train: loss = 0.6930622189180956, top 1 = 0.97495, top 5 = 0.9798799999999641, top 10 = 0.9754649999999973, kendal = 0.9047087827883359\n"
     ]
    },
    {
     "name": "stderr",
     "output_type": "stream",
     "text": [
      "100%|██████████| 4/4 [00:02<00:00,  1.79it/s]\n",
      "  0%|          | 0/313 [00:00<?, ?it/s]"
     ]
    },
    {
     "name": "stdout",
     "output_type": "stream",
     "text": [
      "Valid: loss = 0.6930675286817043, top 1 = 0.96, top 5 = 0.9800000000000003, top 10 = 0.9730000000000009, kendal = 0.9016187210851042\n",
      "\n",
      "Epoch: 480\n"
     ]
    },
    {
     "name": "stderr",
     "output_type": "stream",
     "text": [
      "100%|██████████| 313/313 [04:10<00:00,  1.25it/s]\n",
      "100%|██████████| 313/313 [02:27<00:00,  2.12it/s]\n",
      "  0%|          | 0/4 [00:00<?, ?it/s]"
     ]
    },
    {
     "name": "stdout",
     "output_type": "stream",
     "text": [
      "Train: loss = 0.6930621117514013, top 1 = 0.97495, top 5 = 0.9800199999999645, top 10 = 0.9754599999999977, kendal = 0.9012759383328852\n"
     ]
    },
    {
     "name": "stderr",
     "output_type": "stream",
     "text": [
      "100%|██████████| 4/4 [00:01<00:00,  3.34it/s]\n",
      "  0%|          | 0/313 [00:00<?, ?it/s]"
     ]
    },
    {
     "name": "stdout",
     "output_type": "stream",
     "text": [
      "Valid: loss = 0.6930673028511307, top 1 = 0.96, top 5 = 0.9800000000000003, top 10 = 0.9720000000000009, kendal = 0.8981282679652015\n",
      "\n",
      "Epoch: 481\n"
     ]
    },
    {
     "name": "stderr",
     "output_type": "stream",
     "text": [
      "100%|██████████| 313/313 [04:09<00:00,  1.26it/s]\n",
      "100%|██████████| 313/313 [03:42<00:00,  1.40it/s]\n",
      "  0%|          | 0/4 [00:00<?, ?it/s]"
     ]
    },
    {
     "name": "stdout",
     "output_type": "stream",
     "text": [
      "Train: loss = 0.6930621234175037, top 1 = 0.97485, top 5 = 0.9799799999999641, top 10 = 0.9754549999999972, kendal = 0.9026661270798714\n"
     ]
    },
    {
     "name": "stderr",
     "output_type": "stream",
     "text": [
      "100%|██████████| 4/4 [00:01<00:00,  2.02it/s]\n",
      "  0%|          | 0/313 [00:00<?, ?it/s]"
     ]
    },
    {
     "name": "stdout",
     "output_type": "stream",
     "text": [
      "Valid: loss = 0.69306681069536, top 1 = 0.955, top 5 = 0.9800000000000003, top 10 = 0.973000000000001, kendal = 0.8995162085727962\n",
      "\n",
      "Epoch: 482\n"
     ]
    },
    {
     "name": "stderr",
     "output_type": "stream",
     "text": [
      "100%|██████████| 313/313 [02:45<00:00,  1.89it/s]\n",
      "100%|██████████| 313/313 [03:12<00:00,  1.63it/s]\n",
      "  0%|          | 0/4 [00:00<?, ?it/s]"
     ]
    },
    {
     "name": "stdout",
     "output_type": "stream",
     "text": [
      "Train: loss = 0.6930622779756597, top 1 = 0.9753, top 5 = 0.979949999999964, top 10 = 0.9755499999999967, kendal = 0.9003860922612719\n"
     ]
    },
    {
     "name": "stderr",
     "output_type": "stream",
     "text": [
      "100%|██████████| 4/4 [00:02<00:00,  1.67it/s]\n",
      "  0%|          | 0/313 [00:00<?, ?it/s]"
     ]
    },
    {
     "name": "stdout",
     "output_type": "stream",
     "text": [
      "Valid: loss = 0.6930638293574846, top 1 = 0.955, top 5 = 0.9800000000000003, top 10 = 0.9720000000000009, kendal = 0.8972528918131113\n",
      "\n",
      "Epoch: 483\n"
     ]
    },
    {
     "name": "stderr",
     "output_type": "stream",
     "text": [
      "100%|██████████| 313/313 [04:07<00:00,  1.27it/s]\n",
      "100%|██████████| 313/313 [03:20<00:00,  1.56it/s]\n",
      "  0%|          | 0/4 [00:00<?, ?it/s]"
     ]
    },
    {
     "name": "stdout",
     "output_type": "stream",
     "text": [
      "Train: loss = 0.6930624095041668, top 1 = 0.97495, top 5 = 0.980009999999964, top 10 = 0.9756299999999976, kendal = 0.9010764128918752\n"
     ]
    },
    {
     "name": "stderr",
     "output_type": "stream",
     "text": [
      "100%|██████████| 4/4 [00:01<00:00,  2.42it/s]\n",
      "  0%|          | 0/313 [00:00<?, ?it/s]"
     ]
    },
    {
     "name": "stdout",
     "output_type": "stream",
     "text": [
      "Valid: loss = 0.6930667587101403, top 1 = 0.955, top 5 = 0.9800000000000003, top 10 = 0.9740000000000009, kendal = 0.8978418364862238\n",
      "\n",
      "Epoch: 484\n"
     ]
    },
    {
     "name": "stderr",
     "output_type": "stream",
     "text": [
      "100%|██████████| 313/313 [03:13<00:00,  1.62it/s]\n",
      "100%|██████████| 313/313 [03:07<00:00,  1.67it/s]\n",
      "  0%|          | 0/4 [00:00<?, ?it/s]"
     ]
    },
    {
     "name": "stdout",
     "output_type": "stream",
     "text": [
      "Train: loss = 0.6930624273514051, top 1 = 0.975, top 5 = 0.9798999999999636, top 10 = 0.9754399999999972, kendal = 0.9019737373639728\n"
     ]
    },
    {
     "name": "stderr",
     "output_type": "stream",
     "text": [
      "100%|██████████| 4/4 [00:02<00:00,  1.74it/s]\n",
      "  0%|          | 0/313 [00:00<?, ?it/s]"
     ]
    },
    {
     "name": "stdout",
     "output_type": "stream",
     "text": [
      "Valid: loss = 0.6930678795285786, top 1 = 0.955, top 5 = 0.9800000000000003, top 10 = 0.9730000000000009, kendal = 0.8990900778437709\n",
      "\n",
      "Epoch: 485\n"
     ]
    },
    {
     "name": "stderr",
     "output_type": "stream",
     "text": [
      "100%|██████████| 313/313 [04:33<00:00,  1.15it/s]\n",
      "100%|██████████| 313/313 [02:39<00:00,  1.96it/s]\n",
      "  0%|          | 0/4 [00:00<?, ?it/s]"
     ]
    },
    {
     "name": "stdout",
     "output_type": "stream",
     "text": [
      "Train: loss = 0.6930623491837244, top 1 = 0.97525, top 5 = 0.9799399999999643, top 10 = 0.9753699999999973, kendal = 0.9045328229762086\n"
     ]
    },
    {
     "name": "stderr",
     "output_type": "stream",
     "text": [
      "100%|██████████| 4/4 [00:01<00:00,  3.45it/s]\n",
      "  0%|          | 0/313 [00:00<?, ?it/s]"
     ]
    },
    {
     "name": "stdout",
     "output_type": "stream",
     "text": [
      "Valid: loss = 0.693065132675517, top 1 = 0.955, top 5 = 0.9800000000000003, top 10 = 0.9730000000000009, kendal = 0.9012920872374484\n",
      "\n",
      "Epoch: 486\n"
     ]
    },
    {
     "name": "stderr",
     "output_type": "stream",
     "text": [
      "100%|██████████| 313/313 [02:47<00:00,  1.87it/s]\n",
      "100%|██████████| 313/313 [03:49<00:00,  1.36it/s]\n",
      "  0%|          | 0/4 [00:00<?, ?it/s]"
     ]
    },
    {
     "name": "stdout",
     "output_type": "stream",
     "text": [
      "Train: loss = 0.6930622522832071, top 1 = 0.97515, top 5 = 0.9798599999999636, top 10 = 0.9753699999999975, kendal = 0.9036388083018022\n"
     ]
    },
    {
     "name": "stderr",
     "output_type": "stream",
     "text": [
      "100%|██████████| 4/4 [00:01<00:00,  2.09it/s]\n",
      "  0%|          | 0/313 [00:00<?, ?it/s]"
     ]
    },
    {
     "name": "stdout",
     "output_type": "stream",
     "text": [
      "Valid: loss = 0.6930663186532842, top 1 = 0.955, top 5 = 0.9810000000000002, top 10 = 0.9715000000000009, kendal = 0.9006488721924129\n",
      "\n",
      "Epoch: 487\n"
     ]
    },
    {
     "name": "stderr",
     "output_type": "stream",
     "text": [
      "100%|██████████| 313/313 [03:45<00:00,  1.39it/s]\n",
      "100%|██████████| 313/313 [02:59<00:00,  1.75it/s]\n",
      "  0%|          | 0/4 [00:00<?, ?it/s]"
     ]
    },
    {
     "name": "stdout",
     "output_type": "stream",
     "text": [
      "Train: loss = 0.6930622830741742, top 1 = 0.97525, top 5 = 0.9801299999999644, top 10 = 0.9755149999999969, kendal = 0.898546823581167\n"
     ]
    },
    {
     "name": "stderr",
     "output_type": "stream",
     "text": [
      "100%|██████████| 4/4 [00:01<00:00,  2.28it/s]\n",
      "  0%|          | 0/313 [00:00<?, ?it/s]"
     ]
    },
    {
     "name": "stdout",
     "output_type": "stream",
     "text": [
      "Valid: loss = 0.693065079317795, top 1 = 0.955, top 5 = 0.9800000000000003, top 10 = 0.9730000000000009, kendal = 0.8951956051789278\n",
      "\n",
      "Epoch: 488\n"
     ]
    },
    {
     "name": "stderr",
     "output_type": "stream",
     "text": [
      "100%|██████████| 313/313 [03:05<00:00,  1.69it/s]\n",
      "100%|██████████| 313/313 [03:33<00:00,  1.47it/s]\n",
      "  0%|          | 0/4 [00:00<?, ?it/s]"
     ]
    },
    {
     "name": "stdout",
     "output_type": "stream",
     "text": [
      "Train: loss = 0.6930623696185685, top 1 = 0.97505, top 5 = 0.979869999999964, top 10 = 0.9754599999999973, kendal = 0.9026461851657676\n"
     ]
    },
    {
     "name": "stderr",
     "output_type": "stream",
     "text": [
      "100%|██████████| 4/4 [00:02<00:00,  1.73it/s]\n",
      "  0%|          | 0/313 [00:00<?, ?it/s]"
     ]
    },
    {
     "name": "stdout",
     "output_type": "stream",
     "text": [
      "Valid: loss = 0.6930666804282086, top 1 = 0.96, top 5 = 0.9810000000000002, top 10 = 0.9735000000000009, kendal = 0.8994167116409213\n",
      "\n",
      "Epoch: 489\n"
     ]
    },
    {
     "name": "stderr",
     "output_type": "stream",
     "text": [
      "100%|██████████| 313/313 [04:03<00:00,  1.28it/s]\n",
      "100%|██████████| 313/313 [02:20<00:00,  2.23it/s]\n",
      "  0%|          | 0/4 [00:00<?, ?it/s]"
     ]
    },
    {
     "name": "stdout",
     "output_type": "stream",
     "text": [
      "Train: loss = 0.6930621962677975, top 1 = 0.9753, top 5 = 0.9800799999999644, top 10 = 0.9754849999999972, kendal = 0.9029167926661125\n"
     ]
    },
    {
     "name": "stderr",
     "output_type": "stream",
     "text": [
      "100%|██████████| 4/4 [00:01<00:00,  2.81it/s]\n",
      "  0%|          | 0/313 [00:00<?, ?it/s]"
     ]
    },
    {
     "name": "stdout",
     "output_type": "stream",
     "text": [
      "Valid: loss = 0.6930664585682794, top 1 = 0.96, top 5 = 0.9800000000000003, top 10 = 0.9735000000000009, kendal = 0.8999523888965025\n",
      "\n",
      "Epoch: 490\n"
     ]
    },
    {
     "name": "stderr",
     "output_type": "stream",
     "text": [
      "100%|██████████| 313/313 [03:45<00:00,  1.39it/s]\n",
      "100%|██████████| 313/313 [03:31<00:00,  1.48it/s]\n",
      "  0%|          | 0/4 [00:00<?, ?it/s]"
     ]
    },
    {
     "name": "stdout",
     "output_type": "stream",
     "text": [
      "Train: loss = 0.6930621276277071, top 1 = 0.97505, top 5 = 0.9798399999999642, top 10 = 0.975514999999997, kendal = 0.9028327223964214\n"
     ]
    },
    {
     "name": "stderr",
     "output_type": "stream",
     "text": [
      "100%|██████████| 4/4 [00:02<00:00,  1.96it/s]\n",
      "  0%|          | 0/313 [00:00<?, ?it/s]"
     ]
    },
    {
     "name": "stdout",
     "output_type": "stream",
     "text": [
      "Valid: loss = 0.6930665541486418, top 1 = 0.955, top 5 = 0.9810000000000002, top 10 = 0.9715000000000009, kendal = 0.8996760073657485\n",
      "\n",
      "Epoch: 491\n"
     ]
    },
    {
     "name": "stderr",
     "output_type": "stream",
     "text": [
      "100%|██████████| 313/313 [03:29<00:00,  1.50it/s]\n",
      "100%|██████████| 313/313 [02:52<00:00,  1.81it/s]\n",
      "  0%|          | 0/4 [00:00<?, ?it/s]"
     ]
    },
    {
     "name": "stdout",
     "output_type": "stream",
     "text": [
      "Train: loss = 0.6930623829548226, top 1 = 0.97545, top 5 = 0.9800599999999645, top 10 = 0.9757349999999986, kendal = 0.9031883404803073\n"
     ]
    },
    {
     "name": "stderr",
     "output_type": "stream",
     "text": [
      "100%|██████████| 4/4 [00:01<00:00,  2.73it/s]\n",
      "  0%|          | 0/313 [00:00<?, ?it/s]"
     ]
    },
    {
     "name": "stdout",
     "output_type": "stream",
     "text": [
      "Valid: loss = 0.6930653965823262, top 1 = 0.955, top 5 = 0.9800000000000003, top 10 = 0.9730000000000009, kendal = 0.899916209330381\n",
      "\n",
      "Epoch: 492\n"
     ]
    },
    {
     "name": "stderr",
     "output_type": "stream",
     "text": [
      "100%|██████████| 313/313 [03:22<00:00,  1.54it/s]\n",
      "100%|██████████| 313/313 [03:48<00:00,  1.37it/s]\n",
      "  0%|          | 0/4 [00:00<?, ?it/s]"
     ]
    },
    {
     "name": "stdout",
     "output_type": "stream",
     "text": [
      "Train: loss = 0.6930624247355931, top 1 = 0.9749, top 5 = 0.9799699999999643, top 10 = 0.9755599999999973, kendal = 0.9050900076348527\n"
     ]
    },
    {
     "name": "stderr",
     "output_type": "stream",
     "text": [
      "100%|██████████| 4/4 [00:02<00:00,  1.67it/s]\n",
      "  0%|          | 0/313 [00:00<?, ?it/s]"
     ]
    },
    {
     "name": "stdout",
     "output_type": "stream",
     "text": [
      "Valid: loss = 0.6930651291999226, top 1 = 0.955, top 5 = 0.9800000000000003, top 10 = 0.9730000000000009, kendal = 0.9019332946565054\n",
      "\n",
      "Epoch: 493\n"
     ]
    },
    {
     "name": "stderr",
     "output_type": "stream",
     "text": [
      "100%|██████████| 313/313 [03:13<00:00,  1.61it/s]\n",
      "100%|██████████| 313/313 [02:14<00:00,  2.32it/s]\n",
      "  0%|          | 0/4 [00:00<?, ?it/s]"
     ]
    },
    {
     "name": "stdout",
     "output_type": "stream",
     "text": [
      "Train: loss = 0.6930622836166132, top 1 = 0.97505, top 5 = 0.9799999999999643, top 10 = 0.9754649999999973, kendal = 0.9026954259077016\n"
     ]
    },
    {
     "name": "stderr",
     "output_type": "stream",
     "text": [
      "100%|██████████| 4/4 [00:01<00:00,  2.12it/s]\n",
      "  0%|          | 0/313 [00:00<?, ?it/s]"
     ]
    },
    {
     "name": "stdout",
     "output_type": "stream",
     "text": [
      "Valid: loss = 0.6930661026228107, top 1 = 0.955, top 5 = 0.9800000000000003, top 10 = 0.9720000000000008, kendal = 0.899572488540419\n",
      "\n",
      "Epoch: 494\n"
     ]
    },
    {
     "name": "stderr",
     "output_type": "stream",
     "text": [
      "100%|██████████| 313/313 [04:05<00:00,  1.27it/s]\n",
      "100%|██████████| 313/313 [03:14<00:00,  1.61it/s]\n",
      "  0%|          | 0/4 [00:00<?, ?it/s]"
     ]
    },
    {
     "name": "stdout",
     "output_type": "stream",
     "text": [
      "Train: loss = 0.6930621457932902, top 1 = 0.975, top 5 = 0.9800099999999644, top 10 = 0.9756549999999982, kendal = 0.90012554174463\n"
     ]
    },
    {
     "name": "stderr",
     "output_type": "stream",
     "text": [
      "100%|██████████| 4/4 [00:02<00:00,  1.95it/s]\n",
      "  0%|          | 0/313 [00:00<?, ?it/s]"
     ]
    },
    {
     "name": "stdout",
     "output_type": "stream",
     "text": [
      "Valid: loss = 0.6930670970109987, top 1 = 0.955, top 5 = 0.9810000000000002, top 10 = 0.9720000000000009, kendal = 0.8970247502509977\n",
      "\n",
      "Epoch: 495\n"
     ]
    },
    {
     "name": "stderr",
     "output_type": "stream",
     "text": [
      "100%|██████████| 313/313 [03:35<00:00,  1.45it/s]\n",
      "100%|██████████| 313/313 [02:29<00:00,  2.10it/s]\n",
      "  0%|          | 0/4 [00:00<?, ?it/s]"
     ]
    },
    {
     "name": "stdout",
     "output_type": "stream",
     "text": [
      "Train: loss = 0.6930621857530508, top 1 = 0.9752, top 5 = 0.9799799999999641, top 10 = 0.9754849999999973, kendal = 0.9037576347157908\n"
     ]
    },
    {
     "name": "stderr",
     "output_type": "stream",
     "text": [
      "100%|██████████| 4/4 [00:01<00:00,  2.68it/s]\n",
      "  0%|          | 0/313 [00:00<?, ?it/s]"
     ]
    },
    {
     "name": "stdout",
     "output_type": "stream",
     "text": [
      "Valid: loss = 0.6930668990510876, top 1 = 0.96, top 5 = 0.9800000000000003, top 10 = 0.972500000000001, kendal = 0.9007513841239054\n",
      "\n",
      "Epoch: 496\n"
     ]
    },
    {
     "name": "stderr",
     "output_type": "stream",
     "text": [
      "100%|██████████| 313/313 [03:52<00:00,  1.35it/s]\n",
      "100%|██████████| 313/313 [03:49<00:00,  1.36it/s]\n",
      "  0%|          | 0/4 [00:00<?, ?it/s]"
     ]
    },
    {
     "name": "stdout",
     "output_type": "stream",
     "text": [
      "Train: loss = 0.6930624160158989, top 1 = 0.975, top 5 = 0.9802699999999648, top 10 = 0.9756099999999975, kendal = 0.9030917228809733\n"
     ]
    },
    {
     "name": "stderr",
     "output_type": "stream",
     "text": [
      "100%|██████████| 4/4 [00:02<00:00,  1.69it/s]\n",
      "  0%|          | 0/313 [00:00<?, ?it/s]"
     ]
    },
    {
     "name": "stdout",
     "output_type": "stream",
     "text": [
      "Valid: loss = 0.6930653992804403, top 1 = 0.955, top 5 = 0.9800000000000003, top 10 = 0.9730000000000009, kendal = 0.9000257552003643\n",
      "\n",
      "Epoch: 497\n"
     ]
    },
    {
     "name": "stderr",
     "output_type": "stream",
     "text": [
      "100%|██████████| 313/313 [02:52<00:00,  1.81it/s]\n",
      "100%|██████████| 313/313 [03:00<00:00,  1.73it/s]\n",
      "  0%|          | 0/4 [00:00<?, ?it/s]"
     ]
    },
    {
     "name": "stdout",
     "output_type": "stream",
     "text": [
      "Train: loss = 0.6930623940547816, top 1 = 0.97525, top 5 = 0.9799899999999643, top 10 = 0.9755849999999975, kendal = 0.8997462776730323\n"
     ]
    },
    {
     "name": "stderr",
     "output_type": "stream",
     "text": [
      "100%|██████████| 4/4 [00:02<00:00,  1.68it/s]\n",
      "  0%|          | 0/313 [00:00<?, ?it/s]"
     ]
    },
    {
     "name": "stdout",
     "output_type": "stream",
     "text": [
      "Valid: loss = 0.6930685984933368, top 1 = 0.955, top 5 = 0.9810000000000002, top 10 = 0.973000000000001, kendal = 0.8963905798765301\n",
      "\n",
      "Epoch: 498\n"
     ]
    },
    {
     "name": "stderr",
     "output_type": "stream",
     "text": [
      "100%|██████████| 313/313 [04:20<00:00,  1.20it/s]\n",
      "100%|██████████| 313/313 [03:11<00:00,  1.63it/s]\n",
      "  0%|          | 0/4 [00:00<?, ?it/s]"
     ]
    },
    {
     "name": "stdout",
     "output_type": "stream",
     "text": [
      "Train: loss = 0.6930623928981015, top 1 = 0.9749, top 5 = 0.9799899999999642, top 10 = 0.9755949999999972, kendal = 0.9024823504921793\n"
     ]
    },
    {
     "name": "stderr",
     "output_type": "stream",
     "text": [
      "100%|██████████| 4/4 [00:01<00:00,  2.20it/s]\n",
      "  0%|          | 0/313 [00:00<?, ?it/s]"
     ]
    },
    {
     "name": "stdout",
     "output_type": "stream",
     "text": [
      "Valid: loss = 0.6930664206504547, top 1 = 0.955, top 5 = 0.9800000000000003, top 10 = 0.9735000000000008, kendal = 0.899265955776091\n",
      "\n",
      "Epoch: 499\n"
     ]
    },
    {
     "name": "stderr",
     "output_type": "stream",
     "text": [
      "100%|██████████| 313/313 [03:29<00:00,  1.49it/s]\n",
      "100%|██████████| 313/313 [03:07<00:00,  1.67it/s]\n",
      "  0%|          | 0/4 [00:00<?, ?it/s]"
     ]
    },
    {
     "name": "stdout",
     "output_type": "stream",
     "text": [
      "Train: loss = 0.6930622527049796, top 1 = 0.97505, top 5 = 0.9799199999999643, top 10 = 0.9754249999999977, kendal = 0.9036219106373974\n"
     ]
    },
    {
     "name": "stderr",
     "output_type": "stream",
     "text": [
      "100%|██████████| 4/4 [00:02<00:00,  1.91it/s]\n",
      "  0%|          | 0/313 [00:00<?, ?it/s]"
     ]
    },
    {
     "name": "stdout",
     "output_type": "stream",
     "text": [
      "Valid: loss = 0.693067748988434, top 1 = 0.96, top 5 = 0.9800000000000003, top 10 = 0.971000000000001, kendal = 0.9006126904797996\n",
      "\n",
      "Epoch: 500\n"
     ]
    },
    {
     "name": "stderr",
     "output_type": "stream",
     "text": [
      "100%|██████████| 313/313 [04:31<00:00,  1.15it/s]\n",
      "100%|██████████| 313/313 [02:43<00:00,  1.92it/s]\n",
      "  0%|          | 0/4 [00:00<?, ?it/s]"
     ]
    },
    {
     "name": "stdout",
     "output_type": "stream",
     "text": [
      "Train: loss = 0.6930621548663533, top 1 = 0.97525, top 5 = 0.9799999999999641, top 10 = 0.9754549999999975, kendal = 0.9045190048445322\n"
     ]
    },
    {
     "name": "stderr",
     "output_type": "stream",
     "text": [
      "100%|██████████| 4/4 [00:01<00:00,  2.56it/s]\n",
      "  0%|          | 0/313 [00:00<?, ?it/s]"
     ]
    },
    {
     "name": "stdout",
     "output_type": "stream",
     "text": [
      "Valid: loss = 0.6930663741969635, top 1 = 0.96, top 5 = 0.9790000000000003, top 10 = 0.972000000000001, kendal = 0.9015956052799394\n",
      "\n",
      "Epoch: 501\n"
     ]
    },
    {
     "name": "stderr",
     "output_type": "stream",
     "text": [
      "100%|██████████| 313/313 [02:31<00:00,  2.06it/s]\n",
      "100%|██████████| 313/313 [01:54<00:00,  2.73it/s]\n",
      "  0%|          | 0/4 [00:00<?, ?it/s]"
     ]
    },
    {
     "name": "stdout",
     "output_type": "stream",
     "text": [
      "Train: loss = 0.693062345073268, top 1 = 0.975, top 5 = 0.9801499999999643, top 10 = 0.9756149999999978, kendal = 0.898094689568679\n"
     ]
    },
    {
     "name": "stderr",
     "output_type": "stream",
     "text": [
      "100%|██████████| 4/4 [00:01<00:00,  3.32it/s]\n",
      "  0%|          | 0/313 [00:00<?, ?it/s]"
     ]
    },
    {
     "name": "stdout",
     "output_type": "stream",
     "text": [
      "Valid: loss = 0.6930651196474404, top 1 = 0.955, top 5 = 0.9800000000000003, top 10 = 0.9735000000000008, kendal = 0.8947262581169726\n",
      "\n",
      "Epoch: 502\n"
     ]
    },
    {
     "name": "stderr",
     "output_type": "stream",
     "text": [
      "100%|██████████| 313/313 [01:38<00:00,  3.17it/s]\n",
      "100%|██████████| 313/313 [01:39<00:00,  3.16it/s]\n",
      "  0%|          | 0/4 [00:00<?, ?it/s]"
     ]
    },
    {
     "name": "stdout",
     "output_type": "stream",
     "text": [
      "Train: loss = 0.6930624895224637, top 1 = 0.975, top 5 = 0.9800999999999643, top 10 = 0.9756599999999981, kendal = 0.9014592873596959\n"
     ]
    },
    {
     "name": "stderr",
     "output_type": "stream",
     "text": [
      "100%|██████████| 4/4 [00:01<00:00,  2.96it/s]\n",
      "  0%|          | 0/313 [00:00<?, ?it/s]"
     ]
    },
    {
     "name": "stdout",
     "output_type": "stream",
     "text": [
      "Valid: loss = 0.6930668024152634, top 1 = 0.955, top 5 = 0.9800000000000003, top 10 = 0.972500000000001, kendal = 0.8983292746065088\n",
      "\n",
      "Epoch: 503\n"
     ]
    },
    {
     "name": "stderr",
     "output_type": "stream",
     "text": [
      "100%|██████████| 313/313 [02:08<00:00,  2.44it/s]\n",
      "100%|██████████| 313/313 [01:13<00:00,  4.24it/s]\n",
      "  0%|          | 0/4 [00:00<?, ?it/s]"
     ]
    },
    {
     "name": "stdout",
     "output_type": "stream",
     "text": [
      "Train: loss = 0.6930621355171175, top 1 = 0.97485, top 5 = 0.9801099999999644, top 10 = 0.9755549999999975, kendal = 0.9031123661109465\n"
     ]
    },
    {
     "name": "stderr",
     "output_type": "stream",
     "text": [
      "100%|██████████| 4/4 [00:01<00:00,  3.63it/s]\n",
      "  0%|          | 0/313 [00:00<?, ?it/s]"
     ]
    },
    {
     "name": "stdout",
     "output_type": "stream",
     "text": [
      "Valid: loss = 0.69306512696496, top 1 = 0.955, top 5 = 0.9800000000000003, top 10 = 0.9740000000000008, kendal = 0.8999935946236196\n",
      "\n",
      "Epoch: 504\n"
     ]
    },
    {
     "name": "stderr",
     "output_type": "stream",
     "text": [
      "100%|██████████| 313/313 [02:22<00:00,  2.20it/s]\n",
      "100%|██████████| 313/313 [01:26<00:00,  3.61it/s]\n",
      "  0%|          | 0/4 [00:00<?, ?it/s]"
     ]
    },
    {
     "name": "stdout",
     "output_type": "stream",
     "text": [
      "Train: loss = 0.6930623249114566, top 1 = 0.9749, top 5 = 0.9800299999999643, top 10 = 0.9755999999999975, kendal = 0.8994550391866145\n"
     ]
    },
    {
     "name": "stderr",
     "output_type": "stream",
     "text": [
      "100%|██████████| 4/4 [00:00<00:00,  4.35it/s]\n",
      "  0%|          | 0/313 [00:00<?, ?it/s]"
     ]
    },
    {
     "name": "stdout",
     "output_type": "stream",
     "text": [
      "Valid: loss = 0.693066918566198, top 1 = 0.955, top 5 = 0.9810000000000002, top 10 = 0.9730000000000009, kendal = 0.896012688939376\n",
      "\n",
      "Epoch: 505\n"
     ]
    },
    {
     "name": "stderr",
     "output_type": "stream",
     "text": [
      "100%|██████████| 313/313 [01:57<00:00,  2.66it/s]\n",
      "100%|██████████| 313/313 [01:50<00:00,  2.82it/s]\n",
      "  0%|          | 0/4 [00:00<?, ?it/s]"
     ]
    },
    {
     "name": "stdout",
     "output_type": "stream",
     "text": [
      "Train: loss = 0.6930622943485544, top 1 = 0.975, top 5 = 0.9801199999999648, top 10 = 0.9755299999999972, kendal = 0.9021567300772673\n"
     ]
    },
    {
     "name": "stderr",
     "output_type": "stream",
     "text": [
      "100%|██████████| 4/4 [00:00<00:00,  4.60it/s]\n",
      "  0%|          | 0/313 [00:00<?, ?it/s]"
     ]
    },
    {
     "name": "stdout",
     "output_type": "stream",
     "text": [
      "Valid: loss = 0.6930672840038831, top 1 = 0.96, top 5 = 0.9810000000000002, top 10 = 0.9725000000000008, kendal = 0.8990287707050397\n",
      "\n",
      "Epoch: 506\n"
     ]
    },
    {
     "name": "stderr",
     "output_type": "stream",
     "text": [
      "100%|██████████| 313/313 [01:37<00:00,  3.21it/s]\n",
      "100%|██████████| 313/313 [01:48<00:00,  2.90it/s]\n",
      "  0%|          | 0/4 [00:00<?, ?it/s]"
     ]
    },
    {
     "name": "stdout",
     "output_type": "stream",
     "text": [
      "Train: loss = 0.69306224693049, top 1 = 0.97485, top 5 = 0.9799399999999642, top 10 = 0.9756099999999973, kendal = 0.9029853108082976\n"
     ]
    },
    {
     "name": "stderr",
     "output_type": "stream",
     "text": [
      "100%|██████████| 4/4 [00:01<00:00,  3.34it/s]\n",
      "  0%|          | 0/313 [00:00<?, ?it/s]"
     ]
    },
    {
     "name": "stdout",
     "output_type": "stream",
     "text": [
      "Valid: loss = 0.6930682689460377, top 1 = 0.955, top 5 = 0.9800000000000003, top 10 = 0.9730000000000009, kendal = 0.899745353089303\n",
      "\n",
      "Epoch: 507\n"
     ]
    },
    {
     "name": "stderr",
     "output_type": "stream",
     "text": [
      "100%|██████████| 313/313 [01:59<00:00,  2.62it/s]\n",
      "100%|██████████| 313/313 [01:20<00:00,  3.91it/s]\n",
      "  0%|          | 0/4 [00:00<?, ?it/s]"
     ]
    },
    {
     "name": "stdout",
     "output_type": "stream",
     "text": [
      "Train: loss = 0.6930623055600705, top 1 = 0.9754, top 5 = 0.9800899999999642, top 10 = 0.9756749999999973, kendal = 0.9019952001661364\n"
     ]
    },
    {
     "name": "stderr",
     "output_type": "stream",
     "text": [
      "100%|██████████| 4/4 [00:01<00:00,  2.94it/s]\n",
      "  0%|          | 0/313 [00:00<?, ?it/s]"
     ]
    },
    {
     "name": "stdout",
     "output_type": "stream",
     "text": [
      "Valid: loss = 0.6930666688769607, top 1 = 0.955, top 5 = 0.9800000000000003, top 10 = 0.9720000000000009, kendal = 0.898852892444432\n",
      "\n",
      "Epoch: 508\n"
     ]
    },
    {
     "name": "stderr",
     "output_type": "stream",
     "text": [
      "100%|██████████| 313/313 [02:24<00:00,  2.17it/s]\n",
      "100%|██████████| 313/313 [01:13<00:00,  4.23it/s]\n",
      "  0%|          | 0/4 [00:00<?, ?it/s]"
     ]
    },
    {
     "name": "stdout",
     "output_type": "stream",
     "text": [
      "Train: loss = 0.6930622712539856, top 1 = 0.97505, top 5 = 0.9799299999999641, top 10 = 0.9755649999999978, kendal = 0.9005807299588292\n"
     ]
    },
    {
     "name": "stderr",
     "output_type": "stream",
     "text": [
      "100%|██████████| 4/4 [00:00<00:00,  4.36it/s]\n",
      "  0%|          | 0/313 [00:00<?, ?it/s]"
     ]
    },
    {
     "name": "stdout",
     "output_type": "stream",
     "text": [
      "Valid: loss = 0.6930636344007857, top 1 = 0.96, top 5 = 0.9800000000000003, top 10 = 0.9715000000000009, kendal = 0.8973202278399546\n",
      "\n",
      "Epoch: 509\n"
     ]
    },
    {
     "name": "stderr",
     "output_type": "stream",
     "text": [
      "100%|██████████| 313/313 [02:10<00:00,  2.41it/s]\n",
      "100%|██████████| 313/313 [01:39<00:00,  3.15it/s]\n",
      "  0%|          | 0/4 [00:00<?, ?it/s]"
     ]
    },
    {
     "name": "stdout",
     "output_type": "stream",
     "text": [
      "Train: loss = 0.6930623980565739, top 1 = 0.97535, top 5 = 0.9800999999999647, top 10 = 0.9756499999999977, kendal = 0.9028751568039035\n"
     ]
    },
    {
     "name": "stderr",
     "output_type": "stream",
     "text": [
      "100%|██████████| 4/4 [00:00<00:00,  4.34it/s]\n",
      "  0%|          | 0/313 [00:00<?, ?it/s]"
     ]
    },
    {
     "name": "stdout",
     "output_type": "stream",
     "text": [
      "Valid: loss = 0.6930656747927249, top 1 = 0.955, top 5 = 0.9800000000000003, top 10 = 0.9730000000000009, kendal = 0.8995915838915419\n",
      "\n",
      "Epoch: 510\n"
     ]
    },
    {
     "name": "stderr",
     "output_type": "stream",
     "text": [
      "100%|██████████| 313/313 [01:45<00:00,  2.96it/s]\n",
      "100%|██████████| 313/313 [01:52<00:00,  2.79it/s]\n",
      "  0%|          | 0/4 [00:00<?, ?it/s]"
     ]
    },
    {
     "name": "stdout",
     "output_type": "stream",
     "text": [
      "Train: loss = 0.6930623108678391, top 1 = 0.97505, top 5 = 0.9799599999999644, top 10 = 0.9755299999999972, kendal = 0.9021673934019298\n"
     ]
    },
    {
     "name": "stderr",
     "output_type": "stream",
     "text": [
      "100%|██████████| 4/4 [00:01<00:00,  3.04it/s]\n",
      "  0%|          | 0/313 [00:00<?, ?it/s]"
     ]
    },
    {
     "name": "stdout",
     "output_type": "stream",
     "text": [
      "Valid: loss = 0.6930648755092537, top 1 = 0.96, top 5 = 0.9800000000000003, top 10 = 0.9725000000000008, kendal = 0.8989574147292114\n",
      "\n",
      "Epoch: 511\n"
     ]
    },
    {
     "name": "stderr",
     "output_type": "stream",
     "text": [
      "100%|██████████| 313/313 [01:51<00:00,  2.81it/s]\n",
      "100%|██████████| 313/313 [01:30<00:00,  3.47it/s]\n",
      "  0%|          | 0/4 [00:00<?, ?it/s]"
     ]
    },
    {
     "name": "stdout",
     "output_type": "stream",
     "text": [
      "Train: loss = 0.6930624170822711, top 1 = 0.9747, top 5 = 0.9799799999999641, top 10 = 0.9755599999999975, kendal = 0.9020726474061059\n"
     ]
    },
    {
     "name": "stderr",
     "output_type": "stream",
     "text": [
      "100%|██████████| 4/4 [00:01<00:00,  2.95it/s]\n",
      "  0%|          | 0/313 [00:00<?, ?it/s]"
     ]
    },
    {
     "name": "stdout",
     "output_type": "stream",
     "text": [
      "Valid: loss = 0.6930671945326753, top 1 = 0.955, top 5 = 0.9810000000000002, top 10 = 0.9740000000000009, kendal = 0.8991634443244023\n",
      "\n",
      "Epoch: 512\n"
     ]
    },
    {
     "name": "stderr",
     "output_type": "stream",
     "text": [
      "100%|██████████| 313/313 [02:17<00:00,  2.28it/s]\n",
      "100%|██████████| 313/313 [01:09<00:00,  4.53it/s]\n",
      "  0%|          | 0/4 [00:00<?, ?it/s]"
     ]
    },
    {
     "name": "stdout",
     "output_type": "stream",
     "text": [
      "Train: loss = 0.6930623463349166, top 1 = 0.975, top 5 = 0.9799499999999641, top 10 = 0.9756149999999975, kendal = 0.9026292796053608\n"
     ]
    },
    {
     "name": "stderr",
     "output_type": "stream",
     "text": [
      "100%|██████████| 4/4 [00:00<00:00,  6.15it/s]\n",
      "  0%|          | 0/313 [00:00<?, ?it/s]"
     ]
    },
    {
     "name": "stdout",
     "output_type": "stream",
     "text": [
      "Valid: loss = 0.6930661118963606, top 1 = 0.955, top 5 = 0.9790000000000003, top 10 = 0.9725000000000008, kendal = 0.8997172134464044\n",
      "\n",
      "Epoch: 513\n"
     ]
    },
    {
     "name": "stderr",
     "output_type": "stream",
     "text": [
      "100%|██████████| 313/313 [02:22<00:00,  2.20it/s]\n",
      "100%|██████████| 313/313 [01:26<00:00,  3.61it/s]\n",
      "  0%|          | 0/4 [00:00<?, ?it/s]"
     ]
    },
    {
     "name": "stdout",
     "output_type": "stream",
     "text": [
      "Train: loss = 0.6930625060753337, top 1 = 0.97545, top 5 = 0.979939999999964, top 10 = 0.9755699999999974, kendal = 0.9025093587674236\n"
     ]
    },
    {
     "name": "stderr",
     "output_type": "stream",
     "text": [
      "100%|██████████| 4/4 [00:00<00:00,  5.42it/s]\n",
      "  0%|          | 1/313 [00:00<00:47,  6.56it/s]"
     ]
    },
    {
     "name": "stdout",
     "output_type": "stream",
     "text": [
      "Valid: loss = 0.6930655378581076, top 1 = 0.96, top 5 = 0.9800000000000003, top 10 = 0.972500000000001, kendal = 0.8993011314282124\n",
      "\n",
      "Epoch: 514\n"
     ]
    },
    {
     "name": "stderr",
     "output_type": "stream",
     "text": [
      "100%|██████████| 313/313 [01:55<00:00,  2.71it/s]\n",
      "100%|██████████| 313/313 [01:51<00:00,  2.81it/s]\n",
      "  0%|          | 0/4 [00:00<?, ?it/s]"
     ]
    },
    {
     "name": "stdout",
     "output_type": "stream",
     "text": [
      "Train: loss = 0.6930625529544396, top 1 = 0.9751, top 5 = 0.979869999999964, top 10 = 0.9756499999999978, kendal = 0.9006029208845677\n"
     ]
    },
    {
     "name": "stderr",
     "output_type": "stream",
     "text": [
      "100%|██████████| 4/4 [00:01<00:00,  3.48it/s]\n",
      "  0%|          | 0/313 [00:00<?, ?it/s]"
     ]
    },
    {
     "name": "stdout",
     "output_type": "stream",
     "text": [
      "Valid: loss = 0.6930668845362223, top 1 = 0.96, top 5 = 0.9790000000000003, top 10 = 0.9725000000000008, kendal = 0.8974830408749402\n",
      "\n",
      "Epoch: 515\n"
     ]
    },
    {
     "name": "stderr",
     "output_type": "stream",
     "text": [
      "100%|██████████| 313/313 [01:39<00:00,  3.14it/s]\n",
      "100%|██████████| 313/313 [01:42<00:00,  3.06it/s]\n",
      "  0%|          | 0/4 [00:00<?, ?it/s]"
     ]
    },
    {
     "name": "stdout",
     "output_type": "stream",
     "text": [
      "Train: loss = 0.6930621709793158, top 1 = 0.9752, top 5 = 0.9801199999999646, top 10 = 0.975569999999998, kendal = 0.9020559082245538\n"
     ]
    },
    {
     "name": "stderr",
     "output_type": "stream",
     "text": [
      "100%|██████████| 4/4 [00:01<00:00,  3.16it/s]\n",
      "  0%|          | 0/313 [00:00<?, ?it/s]"
     ]
    },
    {
     "name": "stdout",
     "output_type": "stream",
     "text": [
      "Valid: loss = 0.693065825222104, top 1 = 0.955, top 5 = 0.9800000000000003, top 10 = 0.9730000000000009, kendal = 0.8988368089363233\n",
      "\n",
      "Epoch: 516\n"
     ]
    },
    {
     "name": "stderr",
     "output_type": "stream",
     "text": [
      "100%|██████████| 313/313 [02:05<00:00,  2.49it/s]\n",
      "100%|██████████| 313/313 [01:17<00:00,  4.06it/s]\n",
      "  0%|          | 0/4 [00:00<?, ?it/s]"
     ]
    },
    {
     "name": "stdout",
     "output_type": "stream",
     "text": [
      "Train: loss = 0.6930623240608467, top 1 = 0.97525, top 5 = 0.979959999999964, top 10 = 0.9755299999999972, kendal = 0.9003342955152402\n"
     ]
    },
    {
     "name": "stderr",
     "output_type": "stream",
     "text": [
      "100%|██████████| 4/4 [00:01<00:00,  3.31it/s]\n",
      "  0%|          | 0/313 [00:00<?, ?it/s]"
     ]
    },
    {
     "name": "stdout",
     "output_type": "stream",
     "text": [
      "Valid: loss = 0.6930664757730096, top 1 = 0.96, top 5 = 0.9800000000000003, top 10 = 0.9725000000000008, kendal = 0.8971815319483452\n",
      "\n",
      "Epoch: 517\n"
     ]
    },
    {
     "name": "stderr",
     "output_type": "stream",
     "text": [
      "100%|██████████| 313/313 [02:22<00:00,  2.19it/s]\n",
      "100%|██████████| 313/313 [01:20<00:00,  3.91it/s]\n",
      "  0%|          | 0/4 [00:00<?, ?it/s]"
     ]
    },
    {
     "name": "stdout",
     "output_type": "stream",
     "text": [
      "Train: loss = 0.6930623240131382, top 1 = 0.9752, top 5 = 0.9800099999999642, top 10 = 0.9756749999999974, kendal = 0.901892428573267\n"
     ]
    },
    {
     "name": "stderr",
     "output_type": "stream",
     "text": [
      "100%|██████████| 4/4 [00:00<00:00,  5.49it/s]\n",
      "  0%|          | 1/313 [00:00<00:48,  6.46it/s]"
     ]
    },
    {
     "name": "stdout",
     "output_type": "stream",
     "text": [
      "Valid: loss = 0.6930652783482012, top 1 = 0.955, top 5 = 0.9800000000000003, top 10 = 0.9730000000000009, kendal = 0.8986076642177931\n",
      "\n",
      "Epoch: 518\n"
     ]
    },
    {
     "name": "stderr",
     "output_type": "stream",
     "text": [
      "100%|██████████| 313/313 [01:59<00:00,  2.62it/s]\n",
      "100%|██████████| 313/313 [01:47<00:00,  2.90it/s]\n",
      "  0%|          | 0/4 [00:00<?, ?it/s]"
     ]
    },
    {
     "name": "stdout",
     "output_type": "stream",
     "text": [
      "Train: loss = 0.693062390998334, top 1 = 0.97485, top 5 = 0.9800399999999643, top 10 = 0.9756099999999976, kendal = 0.9015112045716103\n"
     ]
    },
    {
     "name": "stderr",
     "output_type": "stream",
     "text": [
      "100%|██████████| 4/4 [00:00<00:00,  5.58it/s]\n",
      "  0%|          | 0/313 [00:00<?, ?it/s]"
     ]
    },
    {
     "name": "stdout",
     "output_type": "stream",
     "text": [
      "Valid: loss = 0.6930661096156764, top 1 = 0.955, top 5 = 0.9790000000000003, top 10 = 0.9725000000000008, kendal = 0.8983966085121134\n",
      "\n",
      "Epoch: 519\n"
     ]
    },
    {
     "name": "stderr",
     "output_type": "stream",
     "text": [
      "100%|██████████| 313/313 [01:35<00:00,  3.29it/s]\n",
      "100%|██████████| 313/313 [01:52<00:00,  2.77it/s]\n",
      "  0%|          | 0/4 [00:00<?, ?it/s]"
     ]
    },
    {
     "name": "stdout",
     "output_type": "stream",
     "text": [
      "Train: loss = 0.6930622470853013, top 1 = 0.9753, top 5 = 0.9800399999999643, top 10 = 0.9756899999999971, kendal = 0.901100403871581\n"
     ]
    },
    {
     "name": "stderr",
     "output_type": "stream",
     "text": [
      "100%|██████████| 4/4 [00:00<00:00,  4.13it/s]\n",
      "  0%|          | 0/313 [00:00<?, ?it/s]"
     ]
    },
    {
     "name": "stdout",
     "output_type": "stream",
     "text": [
      "Valid: loss = 0.6930676544776871, top 1 = 0.955, top 5 = 0.9800000000000003, top 10 = 0.9745000000000009, kendal = 0.8979212324610352\n",
      "\n",
      "Epoch: 520\n"
     ]
    },
    {
     "name": "stderr",
     "output_type": "stream",
     "text": [
      " 13%|█▎        | 41/313 [00:06<00:42,  6.47it/s]\n"
     ]
    },
    {
     "ename": "KeyboardInterrupt",
     "evalue": "",
     "output_type": "error",
     "traceback": [
      "\u001b[0;31m---------------------------------\u001b[0m",
      "\u001b[0;31mKeyboardInterrupt\u001b[0mTraceback (most recent call last)",
      "\u001b[0;32m<ipython-input-30-2952f4b99d08>\u001b[0m in \u001b[0;36m<module>\u001b[0;34m\u001b[0m\n\u001b[1;32m     37\u001b[0m         \u001b[0;31m### Start training\u001b[0m\u001b[0;34m\u001b[0m\u001b[0;34m\u001b[0m\u001b[0;34m\u001b[0m\u001b[0m\n\u001b[1;32m     38\u001b[0m         \u001b[0moptimizer\u001b[0m\u001b[0;34m.\u001b[0m\u001b[0mzero_grad\u001b[0m\u001b[0;34m(\u001b[0m\u001b[0;34m)\u001b[0m\u001b[0;34m\u001b[0m\u001b[0;34m\u001b[0m\u001b[0m\n\u001b[0;32m---> 39\u001b[0;31m         \u001b[0mbatch\u001b[0m \u001b[0;34m=\u001b[0m \u001b[0mbatch\u001b[0m\u001b[0;34m.\u001b[0m\u001b[0mto\u001b[0m\u001b[0;34m(\u001b[0m\u001b[0msetting\u001b[0m\u001b[0;34m.\u001b[0m\u001b[0mdevice\u001b[0m\u001b[0;34m)\u001b[0m\u001b[0;34m\u001b[0m\u001b[0;34m\u001b[0m\u001b[0m\n\u001b[0m\u001b[1;32m     40\u001b[0m \u001b[0;34m\u001b[0m\u001b[0m\n\u001b[1;32m     41\u001b[0m         \u001b[0mbc_pr\u001b[0m \u001b[0;34m=\u001b[0m \u001b[0mmodel\u001b[0m\u001b[0;34m(\u001b[0m\u001b[0mbatch\u001b[0m\u001b[0;34m)\u001b[0m\u001b[0;34m\u001b[0m\u001b[0;34m\u001b[0m\u001b[0m\n",
      "\u001b[0;32m~/anaconda3/envs/june/lib/python3.7/site-packages/torch_geometric/data/data.py\u001b[0m in \u001b[0;36mto\u001b[0;34m(self, device, *keys, **kwargs)\u001b[0m\n\u001b[1;32m    331\u001b[0m         \u001b[0mIf\u001b[0m \u001b[0;34m:\u001b[0m\u001b[0mobj\u001b[0m\u001b[0;34m:\u001b[0m\u001b[0;31m`\u001b[0m\u001b[0;34m*\u001b[0m\u001b[0mkeys\u001b[0m\u001b[0;31m`\u001b[0m \u001b[0;32mis\u001b[0m \u001b[0;32mnot\u001b[0m \u001b[0mgiven\u001b[0m\u001b[0;34m,\u001b[0m \u001b[0mthe\u001b[0m \u001b[0mconversion\u001b[0m \u001b[0;32mis\u001b[0m \u001b[0mapplied\u001b[0m \u001b[0mto\u001b[0m \u001b[0mall\u001b[0m \u001b[0mpresent\u001b[0m\u001b[0;34m\u001b[0m\u001b[0;34m\u001b[0m\u001b[0m\n\u001b[1;32m    332\u001b[0m         attributes.\"\"\"\n\u001b[0;32m--> 333\u001b[0;31m         \u001b[0;32mreturn\u001b[0m \u001b[0mself\u001b[0m\u001b[0;34m.\u001b[0m\u001b[0mapply\u001b[0m\u001b[0;34m(\u001b[0m\u001b[0;32mlambda\u001b[0m \u001b[0mx\u001b[0m\u001b[0;34m:\u001b[0m \u001b[0mx\u001b[0m\u001b[0;34m.\u001b[0m\u001b[0mto\u001b[0m\u001b[0;34m(\u001b[0m\u001b[0mdevice\u001b[0m\u001b[0;34m,\u001b[0m \u001b[0;34m**\u001b[0m\u001b[0mkwargs\u001b[0m\u001b[0;34m)\u001b[0m\u001b[0;34m,\u001b[0m \u001b[0;34m*\u001b[0m\u001b[0mkeys\u001b[0m\u001b[0;34m)\u001b[0m\u001b[0;34m\u001b[0m\u001b[0;34m\u001b[0m\u001b[0m\n\u001b[0m\u001b[1;32m    334\u001b[0m \u001b[0;34m\u001b[0m\u001b[0m\n\u001b[1;32m    335\u001b[0m     \u001b[0;32mdef\u001b[0m \u001b[0mclone\u001b[0m\u001b[0;34m(\u001b[0m\u001b[0mself\u001b[0m\u001b[0;34m)\u001b[0m\u001b[0;34m:\u001b[0m\u001b[0;34m\u001b[0m\u001b[0;34m\u001b[0m\u001b[0m\n",
      "\u001b[0;32m~/anaconda3/envs/june/lib/python3.7/site-packages/torch_geometric/data/data.py\u001b[0m in \u001b[0;36mapply\u001b[0;34m(self, func, *keys)\u001b[0m\n\u001b[1;32m    317\u001b[0m         \"\"\"\n\u001b[1;32m    318\u001b[0m         \u001b[0;32mfor\u001b[0m \u001b[0mkey\u001b[0m\u001b[0;34m,\u001b[0m \u001b[0mitem\u001b[0m \u001b[0;32min\u001b[0m \u001b[0mself\u001b[0m\u001b[0;34m(\u001b[0m\u001b[0;34m*\u001b[0m\u001b[0mkeys\u001b[0m\u001b[0;34m)\u001b[0m\u001b[0;34m:\u001b[0m\u001b[0;34m\u001b[0m\u001b[0;34m\u001b[0m\u001b[0m\n\u001b[0;32m--> 319\u001b[0;31m             \u001b[0mself\u001b[0m\u001b[0;34m[\u001b[0m\u001b[0mkey\u001b[0m\u001b[0;34m]\u001b[0m \u001b[0;34m=\u001b[0m \u001b[0mself\u001b[0m\u001b[0;34m.\u001b[0m\u001b[0m__apply__\u001b[0m\u001b[0;34m(\u001b[0m\u001b[0mitem\u001b[0m\u001b[0;34m,\u001b[0m \u001b[0mfunc\u001b[0m\u001b[0;34m)\u001b[0m\u001b[0;34m\u001b[0m\u001b[0;34m\u001b[0m\u001b[0m\n\u001b[0m\u001b[1;32m    320\u001b[0m         \u001b[0;32mreturn\u001b[0m \u001b[0mself\u001b[0m\u001b[0;34m\u001b[0m\u001b[0;34m\u001b[0m\u001b[0m\n\u001b[1;32m    321\u001b[0m \u001b[0;34m\u001b[0m\u001b[0m\n",
      "\u001b[0;32m~/anaconda3/envs/june/lib/python3.7/site-packages/torch_geometric/data/data.py\u001b[0m in \u001b[0;36m__apply__\u001b[0;34m(self, item, func)\u001b[0m\n\u001b[1;32m    296\u001b[0m     \u001b[0;32mdef\u001b[0m \u001b[0m__apply__\u001b[0m\u001b[0;34m(\u001b[0m\u001b[0mself\u001b[0m\u001b[0;34m,\u001b[0m \u001b[0mitem\u001b[0m\u001b[0;34m,\u001b[0m \u001b[0mfunc\u001b[0m\u001b[0;34m)\u001b[0m\u001b[0;34m:\u001b[0m\u001b[0;34m\u001b[0m\u001b[0;34m\u001b[0m\u001b[0m\n\u001b[1;32m    297\u001b[0m         \u001b[0;32mif\u001b[0m \u001b[0mtorch\u001b[0m\u001b[0;34m.\u001b[0m\u001b[0mis_tensor\u001b[0m\u001b[0;34m(\u001b[0m\u001b[0mitem\u001b[0m\u001b[0;34m)\u001b[0m\u001b[0;34m:\u001b[0m\u001b[0;34m\u001b[0m\u001b[0;34m\u001b[0m\u001b[0m\n\u001b[0;32m--> 298\u001b[0;31m             \u001b[0;32mreturn\u001b[0m \u001b[0mfunc\u001b[0m\u001b[0;34m(\u001b[0m\u001b[0mitem\u001b[0m\u001b[0;34m)\u001b[0m\u001b[0;34m\u001b[0m\u001b[0;34m\u001b[0m\u001b[0m\n\u001b[0m\u001b[1;32m    299\u001b[0m         \u001b[0;32melif\u001b[0m \u001b[0misinstance\u001b[0m\u001b[0;34m(\u001b[0m\u001b[0mitem\u001b[0m\u001b[0;34m,\u001b[0m \u001b[0mSparseTensor\u001b[0m\u001b[0;34m)\u001b[0m\u001b[0;34m:\u001b[0m\u001b[0;34m\u001b[0m\u001b[0;34m\u001b[0m\u001b[0m\n\u001b[1;32m    300\u001b[0m             \u001b[0;31m# Not all apply methods are supported for `SparseTensor`, e.g.,\u001b[0m\u001b[0;34m\u001b[0m\u001b[0;34m\u001b[0m\u001b[0;34m\u001b[0m\u001b[0m\n",
      "\u001b[0;32m~/anaconda3/envs/june/lib/python3.7/site-packages/torch_geometric/data/data.py\u001b[0m in \u001b[0;36m<lambda>\u001b[0;34m(x)\u001b[0m\n\u001b[1;32m    331\u001b[0m         \u001b[0mIf\u001b[0m \u001b[0;34m:\u001b[0m\u001b[0mobj\u001b[0m\u001b[0;34m:\u001b[0m\u001b[0;31m`\u001b[0m\u001b[0;34m*\u001b[0m\u001b[0mkeys\u001b[0m\u001b[0;31m`\u001b[0m \u001b[0;32mis\u001b[0m \u001b[0;32mnot\u001b[0m \u001b[0mgiven\u001b[0m\u001b[0;34m,\u001b[0m \u001b[0mthe\u001b[0m \u001b[0mconversion\u001b[0m \u001b[0;32mis\u001b[0m \u001b[0mapplied\u001b[0m \u001b[0mto\u001b[0m \u001b[0mall\u001b[0m \u001b[0mpresent\u001b[0m\u001b[0;34m\u001b[0m\u001b[0;34m\u001b[0m\u001b[0m\n\u001b[1;32m    332\u001b[0m         attributes.\"\"\"\n\u001b[0;32m--> 333\u001b[0;31m         \u001b[0;32mreturn\u001b[0m \u001b[0mself\u001b[0m\u001b[0;34m.\u001b[0m\u001b[0mapply\u001b[0m\u001b[0;34m(\u001b[0m\u001b[0;32mlambda\u001b[0m \u001b[0mx\u001b[0m\u001b[0;34m:\u001b[0m \u001b[0mx\u001b[0m\u001b[0;34m.\u001b[0m\u001b[0mto\u001b[0m\u001b[0;34m(\u001b[0m\u001b[0mdevice\u001b[0m\u001b[0;34m,\u001b[0m \u001b[0;34m**\u001b[0m\u001b[0mkwargs\u001b[0m\u001b[0;34m)\u001b[0m\u001b[0;34m,\u001b[0m \u001b[0;34m*\u001b[0m\u001b[0mkeys\u001b[0m\u001b[0;34m)\u001b[0m\u001b[0;34m\u001b[0m\u001b[0;34m\u001b[0m\u001b[0m\n\u001b[0m\u001b[1;32m    334\u001b[0m \u001b[0;34m\u001b[0m\u001b[0m\n\u001b[1;32m    335\u001b[0m     \u001b[0;32mdef\u001b[0m \u001b[0mclone\u001b[0m\u001b[0;34m(\u001b[0m\u001b[0mself\u001b[0m\u001b[0;34m)\u001b[0m\u001b[0;34m:\u001b[0m\u001b[0;34m\u001b[0m\u001b[0;34m\u001b[0m\u001b[0m\n",
      "\u001b[0;31mKeyboardInterrupt\u001b[0m: "
     ]
    }
   ],
   "source": [
    "nodes_cnt = Setting.nodes_cnt\n",
    "\n",
    "\n",
    "model.train()\n",
    "\n",
    "train_info = {\n",
    "    \"bce\": [],\n",
    "    \"top1\": [],\n",
    "    \"top5\": [],\n",
    "    \"top10\": [],\n",
    "    \"kendal\": []\n",
    "}\n",
    "\n",
    "valid_info = {\n",
    "    \"bce\": [],\n",
    "    \"top1\": [],\n",
    "    \"top5\": [],\n",
    "    \"top10\": [],\n",
    "    \"kendal\": []\n",
    "}\n",
    "\n",
    "top_10 = 0.0\n",
    "top_5 = 0.0\n",
    "top_1 = 0.0\n",
    "\n",
    "for epoch in range(Setting.epochs):\n",
    "    \n",
    "#     G, bc_gt = generate_nx_graph(nodes_cnt)\n",
    "    \n",
    "#     # Convert networkx.Graph to Pyg Data\n",
    "#     G = from_networkx(G)\n",
    "\n",
    "    print(\"\\nEpoch: {}\".format(epoch+1))\n",
    "\n",
    "    for batch in tqdm(train_loader):\n",
    "    \n",
    "        ### Start training\n",
    "        optimizer.zero_grad()\n",
    "        batch = batch.to(Setting.device)\n",
    "\n",
    "        bc_pr = model(batch)\n",
    "    \n",
    "        \n",
    "        # compute batch loss\n",
    "        b_index = batch.batch.cpu().numpy()\n",
    "        b = np.max(b_index) + 1\n",
    "        \n",
    "        batch_loss = torch.tensor(0, dtype=torch.float).to(Setting.device)\n",
    "        \n",
    "        for b_ in range(b):\n",
    "            \n",
    "            indice, = np.where(b_index == b_)\n",
    "            \n",
    "            gt = batch.y[indice].squeeze()\n",
    "            pr = bc_pr[indice].squeeze()\n",
    "            \n",
    "            # random sample 5|V| nodes\n",
    "            src = np.random.choice(len(indice), 5*len(indice), replace=True)\n",
    "            det = np.random.choice(len(indice), 5*len(indice), replace=True)\n",
    "            src = torch.from_numpy(src)\n",
    "            det = torch.from_numpy(det)\n",
    "\n",
    "            \n",
    "            y_gt = gt[det] - gt[src]\n",
    "            y_pr = pr[det] - pr[src]\n",
    "            \n",
    "            y_gt = nn.Sigmoid()(y_gt)\n",
    "            y_pr = nn.Sigmoid()(y_pr)\n",
    "        \n",
    "            batch_loss += nn.BCELoss()(y_pr, y_gt)\n",
    "        \n",
    "        batch_loss = torch.div(batch_loss, b)\n",
    "        batch_loss.backward()\n",
    "        optimizer.step()\n",
    "    \n",
    "    \n",
    "    ### Evaluation\n",
    "    with torch.no_grad():\n",
    "        \n",
    "        \n",
    "        top1_list = []\n",
    "        top5_list = []\n",
    "        top10_list = []\n",
    "        kendal_list = []\n",
    "        loss_list = []\n",
    "        \n",
    "        for batch in tqdm(train_loader):\n",
    "\n",
    "            batch = batch.to(Setting.device)\n",
    "\n",
    "            bc_pr = model(batch)\n",
    "\n",
    "            b_index = batch.batch.cpu().numpy()\n",
    "            b = np.max(b_index) + 1\n",
    "\n",
    "            for b_ in range(b):\n",
    "\n",
    "                indice, = np.where(b_index == b_)\n",
    "\n",
    "                gt = batch.y[indice].squeeze()\n",
    "                pr = bc_pr[indice].squeeze()\n",
    "                \n",
    "                # evaluation\n",
    "                top1 = utils.eval.top_n_percentage(gt, pr, k=1, device=Setting.device)\n",
    "                top5 = utils.eval.top_n_percentage(gt, pr, k=5, device=Setting.device)\n",
    "                top10 = utils.eval.top_n_percentage(gt, pr, k=10, device=Setting.device)\n",
    "                kendal = utils.eval.kendal_tau_distance(gt, pr)\n",
    "                \n",
    "\n",
    "                # compute loss\n",
    "                src = np.random.choice(len(indice), 5*len(indice), replace=True)\n",
    "                det = np.random.choice(len(indice), 5*len(indice), replace=True)\n",
    "                src = torch.from_numpy(src)\n",
    "                det = torch.from_numpy(det)\n",
    "\n",
    "                y_gt = gt[det] - gt[src]\n",
    "                y_pr = pr[det] - pr[src]\n",
    "\n",
    "                y_gt = nn.Sigmoid()(y_gt)\n",
    "                y_pr = nn.Sigmoid()(y_pr)\n",
    "\n",
    "                loss = nn.BCELoss()(y_pr, y_gt)\n",
    "                \n",
    "                top1_list.append(top1)\n",
    "                top5_list.append(top5)\n",
    "                top10_list.append(top10)\n",
    "                kendal_list.append(kendal)\n",
    "                loss_list.append(loss.item())\n",
    "                \n",
    "\n",
    "        bce = sum(loss_list)/len(loss_list)\n",
    "        top1 = sum(top1_list)/len(top1_list)\n",
    "        top5 = sum(top5_list)/len(top5_list)\n",
    "        top10 = sum(top10_list)/len(top10_list)\n",
    "        kendal = sum(kendal_list)/len(kendal_list)      \n",
    "        \n",
    "                \n",
    "        print(\"Train: loss = {}, top 1 = {}, top 5 = {}, top 10 = {}, kendal = {}\".format(\n",
    "                bce,\n",
    "                top1,\n",
    "                top5,\n",
    "                top10,\n",
    "                kendal\n",
    "        ))\n",
    "\n",
    "        train_info[\"bce\"].append(bce)\n",
    "        train_info[\"top1\"].append(top1)\n",
    "        train_info[\"top5\"].append(top5)\n",
    "        train_info[\"top10\"].append(top10)\n",
    "        train_info[\"kendal\"].append(kendal)\n",
    "\n",
    "        with open(setting.train_info_p, 'w') as f:\n",
    "            json.dump(train_info, f)\n",
    "            \n",
    "            \n",
    "    \n",
    "        top1_list = []\n",
    "        top5_list = []\n",
    "        top10_list = []\n",
    "        kendal_list = []\n",
    "        loss_list = []\n",
    "        \n",
    "        for batch in tqdm(valid_loader):\n",
    "\n",
    "            batch = batch.to(Setting.device)\n",
    "\n",
    "            bc_pr = model(batch)\n",
    "\n",
    "            b_index = batch.batch.cpu().numpy()\n",
    "            b = np.max(b_index) + 1\n",
    "\n",
    "            for b_ in range(b):\n",
    "\n",
    "                indice, = np.where(b_index == b_)\n",
    "            \n",
    "\n",
    "                gt = batch.y[indice].squeeze()\n",
    "                pr = bc_pr[indice].squeeze()\n",
    "                \n",
    "                # evaluation\n",
    "                top1 = utils.eval.top_n_percentage(gt, pr, k=1, device=Setting.device)\n",
    "                top5 = utils.eval.top_n_percentage(gt, pr, k=5, device=Setting.device)\n",
    "                top10 = utils.eval.top_n_percentage(gt, pr, k=10, device=Setting.device)\n",
    "                kendal = utils.eval.kendal_tau_distance(gt, pr)\n",
    "\n",
    "                # compute loss\n",
    "                src = np.random.choice(len(indice), 5*len(indice), replace=True)\n",
    "                det = np.random.choice(len(indice), 5*len(indice), replace=True)\n",
    "                src = torch.from_numpy(src)\n",
    "                det = torch.from_numpy(det)\n",
    "\n",
    "                y_gt = gt[det] - gt[src]\n",
    "                y_pr = pr[det] - pr[src]\n",
    "\n",
    "                y_gt = nn.Sigmoid()(y_gt)\n",
    "                y_pr = nn.Sigmoid()(y_pr)\n",
    "\n",
    "                loss = nn.BCELoss()(y_pr, y_gt)\n",
    "                \n",
    "                top1_list.append(top1)\n",
    "                top5_list.append(top5)\n",
    "                top10_list.append(top10)\n",
    "                kendal_list.append(kendal)\n",
    "                loss_list.append(loss.item())\n",
    "                \n",
    "\n",
    "        bce = sum(loss_list)/len(loss_list)\n",
    "        top1 = sum(top1_list)/len(top1_list)\n",
    "        top5 = sum(top5_list)/len(top5_list)\n",
    "        top10 = sum(top10_list)/len(top10_list)\n",
    "        kendal = sum(kendal_list)/len(kendal_list)      \n",
    "        \n",
    "                \n",
    "        print(\"Valid: loss = {}, top 1 = {}, top 5 = {}, top 10 = {}, kendal = {}\".format(\n",
    "                bce,\n",
    "                top1,\n",
    "                top5,\n",
    "                top10,\n",
    "                kendal\n",
    "        ))\n",
    "\n",
    "        valid_info[\"bce\"].append(bce)\n",
    "        valid_info[\"top1\"].append(top1)\n",
    "        valid_info[\"top5\"].append(top5)\n",
    "        valid_info[\"top10\"].append(top10)\n",
    "        valid_info[\"kendal\"].append(kendal)\n",
    "\n",
    "        with open(setting.val_info_p, 'w') as f:\n",
    "            json.dump(valid_info, f)\n",
    "\n",
    "\n",
    "\n",
    "        if top10 > top_10:\n",
    "            checkpoint = {\n",
    "                'model_stat': model.state_dict(),\n",
    "                'optimizer_stat': optimizer.state_dict(),\n",
    "            }\n",
    "            top_10 = top10\n",
    "            \n",
    "            torch.save(checkpoint, setting.weight_drbc)"
   ]
  },
  {
   "cell_type": "markdown",
   "metadata": {},
   "source": [
    "# Test"
   ]
  },
  {
   "cell_type": "markdown",
   "metadata": {},
   "source": [
    "## Synthetic"
   ]
  },
  {
   "cell_type": "code",
   "execution_count": 37,
   "metadata": {},
   "outputs": [
    {
     "name": "stderr",
     "output_type": "stream",
     "text": [
      "100%|██████████| 30/30 [00:12<00:00,  2.45it/s]"
     ]
    },
    {
     "name": "stdout",
     "output_type": "stream",
     "text": [
      "Top1: mean=0.93, std=0.03\n",
      "Top5: mean=0.88, std=0.02\n",
      "Top10: mean=0.85, std=0.02\n",
      "Kendal: mean=0.60, std=0.02\n",
      "Time: mean=0.40, std=0.03\n",
      "Loss: mean=0.69, std=0.00\n"
     ]
    },
    {
     "name": "stderr",
     "output_type": "stream",
     "text": [
      "\n"
     ]
    }
   ],
   "source": [
    "top1_list, top5_list, top10_list, kendal_list, time_list, loss_list = eval_model(model, syn_loader, \"cpu\")\n",
    "\n",
    "top1_list = np.array(top1_list)\n",
    "top5_list = np.array(top5_list)\n",
    "top10_list = np.array(top10_list)\n",
    "kendal_list = np.array(kendal_list)\n",
    "time_list = np.array(time_list)\n",
    "loss_list = np.array(loss_list)\n",
    "\n",
    "\n",
    "print(\"Top1: mean={:.2f}, std={:.2f}\".format(np.mean(top1_list), np.std(top1_list)))\n",
    "print(\"Top5: mean={:.2f}, std={:.2f}\".format(np.mean(top5_list), np.std(top5_list)))\n",
    "print(\"Top10: mean={:.2f}, std={:.2f}\".format(np.mean(top10_list), np.std(top10_list)))\n",
    "print(\"Kendal: mean={:.2f}, std={:.2f}\".format(np.mean(kendal_list), np.std(kendal_list)))\n",
    "print(\"Time: mean={:.2f}, std={:.2f}\".format(np.mean(time_list), np.std(time_list)))\n",
    "print(\"Loss: mean={:.2f}, std={:.2f}\".format(np.mean(loss_list), np.std(loss_list)))\n",
    "\n",
    "with open(os.path.join(setting.root, \"drbc_{}.json\".format(setting.nodes_cnt)), 'w') as f:\n",
    "    json.dump({\n",
    "        \"top1\": list(top1_list),\n",
    "        \"top5\": list(top5_list),\n",
    "        \"top10\": list(top10_list),\n",
    "        \"kendal\": list(kendal_list),\n",
    "        \"time\": list(time_list)\n",
    "    }, f)"
   ]
  },
  {
   "cell_type": "markdown",
   "metadata": {},
   "source": [
    "## Real-World"
   ]
  },
  {
   "cell_type": "markdown",
   "metadata": {},
   "source": [
    "### Youtube"
   ]
  },
  {
   "cell_type": "code",
   "execution_count": 33,
   "metadata": {},
   "outputs": [
    {
     "name": "stderr",
     "output_type": "stream",
     "text": [
      "100%|██████████| 1/1 [01:37<00:00, 97.76s/it]\n"
     ]
    },
    {
     "name": "stdout",
     "output_type": "stream",
     "text": [
      "Top1: mean=0.60, std=0.00\n",
      "Top5: mean=0.43, std=0.00\n",
      "Top10: mean=0.44, std=0.00\n",
      "Kendal: mean=0.07, std=0.00\n",
      "Time: mean=96.98, std=0.00\n",
      "Loss: mean=0.69, std=0.00\n"
     ]
    }
   ],
   "source": [
    "top1_list, top5_list, top10_list, kendal_list, time_list, loss_list = eval_model(model, yt_loader, \"cpu\")\n",
    "\n",
    "top1_list = np.array(top1_list)\n",
    "top5_list = np.array(top5_list)\n",
    "top10_list = np.array(top10_list)\n",
    "kendal_list = np.array(kendal_list)\n",
    "time_list = np.array(time_list)\n",
    "loss_list = np.array(loss_list)\n",
    "\n",
    "\n",
    "print(\"Top1: mean={:.2f}, std={:.2f}\".format(np.mean(top1_list), np.std(top1_list)))\n",
    "print(\"Top5: mean={:.2f}, std={:.2f}\".format(np.mean(top5_list), np.std(top5_list)))\n",
    "print(\"Top10: mean={:.2f}, std={:.2f}\".format(np.mean(top10_list), np.std(top10_list)))\n",
    "print(\"Kendal: mean={:.2f}, std={:.2f}\".format(np.mean(kendal_list), np.std(kendal_list)))\n",
    "print(\"Time: mean={:.2f}, std={:.2f}\".format(np.mean(time_list), np.std(time_list)))\n",
    "print(\"Loss: mean={:.2f}, std={:.2f}\".format(np.mean(loss_list), np.std(loss_list)))"
   ]
  },
  {
   "cell_type": "markdown",
   "metadata": {},
   "source": [
    "### Amazon"
   ]
  },
  {
   "cell_type": "code",
   "execution_count": null,
   "metadata": {},
   "outputs": [],
   "source": [
    "top1_list, top5_list, top10_list, kendal_list, time_list, loss_list = utils.eval.eval_model(model, amazon_loader, \"cpu\")\n",
    "\n",
    "top1_list = np.array(top1_list)\n",
    "top5_list = np.array(top5_list)\n",
    "top10_list = np.array(top10_list)\n",
    "kendal_list = np.array(kendal_list)\n",
    "time_list = np.array(time_list)\n",
    "loss_list = np.array(loss_list)\n",
    "\n",
    "\n",
    "print(\"Top1: mean={:.2f}, std={:.2f}\".format(np.mean(top1_list), np.std(top1_list)))\n",
    "print(\"Top5: mean={:.2f}, std={:.2f}\".format(np.mean(top5_list), np.std(top5_list)))\n",
    "print(\"Top10: mean={:.2f}, std={:.2f}\".format(np.mean(top10_list), np.std(top10_list)))\n",
    "print(\"Kendal: mean={:.2f}, std={:.2f}\".format(np.mean(kendal_list), np.std(kendal_list)))\n",
    "print(\"Time: mean={:.2f}, std={:.2f}\".format(np.mean(time_list), np.std(time_list)))\n",
    "print(\"Loss: mean={:.2f}, std={:.2f}\".format(np.mean(loss_list), np.std(loss_list)))"
   ]
  },
  {
   "cell_type": "markdown",
   "metadata": {},
   "source": [
    "### dblp"
   ]
  },
  {
   "cell_type": "code",
   "execution_count": null,
   "metadata": {},
   "outputs": [],
   "source": [
    "top1_list, top5_list, top10_list, kendal_list, time_list, loss_list = utils.eval.eval_model(model, dblp_loader, \"cpu\")\n",
    "\n",
    "top1_list = np.array(top1_list)\n",
    "top5_list = np.array(top5_list)\n",
    "top10_list = np.array(top10_list)\n",
    "kendal_list = np.array(kendal_list)\n",
    "time_list = np.array(time_list)\n",
    "loss_list = np.array(loss_list)\n",
    "\n",
    "\n",
    "print(\"Top1: mean={:.2f}, std={:.2f}\".format(np.mean(top1_list), np.std(top1_list)))\n",
    "print(\"Top5: mean={:.2f}, std={:.2f}\".format(np.mean(top5_list), np.std(top5_list)))\n",
    "print(\"Top10: mean={:.2f}, std={:.2f}\".format(np.mean(top10_list), np.std(top10_list)))\n",
    "print(\"Kendal: mean={:.2f}, std={:.2f}\".format(np.mean(kendal_list), np.std(kendal_list)))\n",
    "print(\"Time: mean={:.2f}, std={:.2f}\".format(np.mean(time_list), np.std(time_list)))\n",
    "print(\"Loss: mean={:.2f}, std={:.2f}\".format(np.mean(loss_list), np.std(loss_list)))"
   ]
  },
  {
   "cell_type": "markdown",
   "metadata": {},
   "source": [
    "### com-lj"
   ]
  },
  {
   "cell_type": "code",
   "execution_count": null,
   "metadata": {},
   "outputs": [],
   "source": [
    "top1_list, top5_list, top10_list, kendal_list, time_list, loss_list = utils.eval.eval_model(model, comlj_loader, \"cpu\")\n",
    "\n",
    "top1_list = np.array(top1_list)\n",
    "top5_list = np.array(top5_list)\n",
    "top10_list = np.array(top10_list)\n",
    "kendal_list = np.array(kendal_list)\n",
    "time_list = np.array(time_list)\n",
    "loss_list = np.array(loss_list)\n",
    "\n",
    "\n",
    "print(\"Top1: mean={:.2f}, std={:.2f}\".format(np.mean(top1_list), np.std(top1_list)))\n",
    "print(\"Top5: mean={:.2f}, std={:.2f}\".format(np.mean(top5_list), np.std(top5_list)))\n",
    "print(\"Top10: mean={:.2f}, std={:.2f}\".format(np.mean(top10_list), np.std(top10_list)))\n",
    "print(\"Kendal: mean={:.2f}, std={:.2f}\".format(np.mean(kendal_list), np.std(kendal_list)))\n",
    "print(\"Time: mean={:.2f}, std={:.2f}\".format(np.mean(time_list), np.std(time_list)))\n",
    "print(\"Loss: mean={:.2f}, std={:.2f}\".format(np.mean(loss_list), np.std(loss_list)))"
   ]
  },
  {
   "cell_type": "markdown",
   "metadata": {},
   "source": [
    "# Visualization"
   ]
  },
  {
   "cell_type": "code",
   "execution_count": 34,
   "metadata": {},
   "outputs": [
    {
     "data": {
      "text/plain": [
       "'/home/ai2019/ne6081064/june/mlg/snrs_hw1/result/2021-03-21 04-23'"
      ]
     },
     "execution_count": 34,
     "metadata": {},
     "output_type": "execute_result"
    }
   ],
   "source": [
    "setting.root"
   ]
  },
  {
   "cell_type": "code",
   "execution_count": 38,
   "metadata": {},
   "outputs": [
    {
     "data": {
      "image/png": "[encoded data removed]",
      "text/plain": [
       "<Figure size 1800x1440 with 5 Axes>"
      ]
     },
     "metadata": {
      "needs_background": "light"
     },
     "output_type": "display_data"
    }
   ],
   "source": [
    "drbc.visualize_plt(setting.train_info_p, setting.val_info_p, setting.result_plt_p)"
   ]
  }
 ],
 "metadata": {
  "accelerator": "GPU",
  "colab": {
   "collapsed_sections": [],
   "name": "code.ipynb",
   "provenance": [],
   "toc_visible": true
  },
  "kernelspec": {
   "display_name": "Python 3",
   "language": "python",
   "name": "python3"
  },
  "language_info": {
   "codemirror_mode": {
    "name": "ipython",
    "version": 3
   },
   "file_extension": ".py",
   "mimetype": "text/x-python",
   "name": "python",
   "nbconvert_exporter": "python",
   "pygments_lexer": "ipython3",
   "version": "3.7.9"
  }
 },
 "nbformat": 4,
 "nbformat_minor": 4
}
